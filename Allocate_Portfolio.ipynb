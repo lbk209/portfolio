{
 "cells": [
  {
   "cell_type": "markdown",
   "id": "1a0d2b60-5842-4969-8229-84f355dc46fc",
   "metadata": {},
   "source": [
    "# Setting"
   ]
  },
  {
   "cell_type": "code",
   "execution_count": 1,
   "id": "7009fd2f-8efd-4ed3-a187-01939304fa9e",
   "metadata": {},
   "outputs": [
    {
     "name": "stderr",
     "output_type": "stream",
     "text": [
      "WARNING (pytensor.tensor.blas): Using NumPy C-API based implementation for BLAS functions.\n"
     ]
    }
   ],
   "source": [
    "from pf_utils import PortfolioManager as PM \n",
    "from pf_utils import FinancialRatios, METRICS\n",
    "from pf_widgets import WidgetUniverse, WidgetTransaction"
   ]
  },
  {
   "cell_type": "code",
   "execution_count": 2,
   "id": "723adb14-cd00-4d96-9c64-5a8628e82f44",
   "metadata": {},
   "outputs": [],
   "source": [
    "path_data = 'data'\n",
    "path_tran = 'transaction'"
   ]
  },
  {
   "cell_type": "markdown",
   "id": "83852d8f-9884-4a8d-bb97-4b61670f6d4d",
   "metadata": {},
   "source": [
    "## Portfolios\n",
    "*Review portfolio settings*"
   ]
  },
  {
   "cell_type": "code",
   "execution_count": 3,
   "id": "57eeef26-93fa-4e46-9197-ef5948aed668",
   "metadata": {},
   "outputs": [
    {
     "name": "stdout",
     "output_type": "stream",
     "text": [
      "Portfolio: MOM, PER, WTR, LIQ, IRP, HANA, FCTR, KRX\n"
     ]
    }
   ],
   "source": [
    "PM.review('portfolio')"
   ]
  },
  {
   "cell_type": "code",
   "execution_count": 4,
   "id": "4dd4bbf9-fc33-4763-a4b1-c635f111e2d7",
   "metadata": {},
   "outputs": [
    {
     "data": {
      "text/plain": [
       "{'strategy': 'WTR', 'universe': 'UV_WTR'}"
      ]
     },
     "execution_count": 4,
     "metadata": {},
     "output_type": "execute_result"
    }
   ],
   "source": [
    "PM.review_portfolio('WTR')"
   ]
  },
  {
   "cell_type": "code",
   "execution_count": 5,
   "id": "aed90957-12a4-4bfd-a239-f32295b6cee9",
   "metadata": {},
   "outputs": [
    {
     "data": {
      "text/plain": [
       "{'method_select': 'All',\n",
       " 'method_weigh': 'Equally',\n",
       " 'file': 'pf_wtr_static',\n",
       " 'path': 'transaction'}"
      ]
     },
     "execution_count": 5,
     "metadata": {},
     "output_type": "execute_result"
    }
   ],
   "source": [
    "#PM.review_strategy('WTR')\n",
    "PM.review_portfolio('WTR', strategy=True)"
   ]
  },
  {
   "cell_type": "code",
   "execution_count": 6,
   "id": "319ceff5-fb55-499d-8800-0caf3c5bab61",
   "metadata": {},
   "outputs": [
    {
     "data": {
      "text/plain": [
       "{'universe': 'etf',\n",
       " 'file': 'etfs_weather',\n",
       " 'upload_type': 'price',\n",
       " 'path': 'data'}"
      ]
     },
     "execution_count": 6,
     "metadata": {},
     "output_type": "execute_result"
    }
   ],
   "source": [
    "#PM.review_universe('UV_WTR')\n",
    "PM.review_portfolio('WTR', universe=True)"
   ]
  },
  {
   "cell_type": "markdown",
   "id": "c786112f-9aef-4df7-8248-4ddcfcb2c1f0",
   "metadata": {},
   "source": [
    "# Universe"
   ]
  },
  {
   "cell_type": "code",
   "execution_count": 3,
   "id": "9632a8f9-3a3b-4e8b-aa68-2cb9ff8d0748",
   "metadata": {},
   "outputs": [
    {
     "name": "stdout",
     "output_type": "stream",
     "text": [
      "Universe: UV_K200, UV_KRX, UV_LIQ, UV_WTR, UV_ETF, UV_IRP, UV_HANA, UV_FCTR\n"
     ]
    }
   ],
   "source": [
    "PM.review('universes')"
   ]
  },
  {
   "cell_type": "code",
   "execution_count": 4,
   "id": "73024aab-e901-4e9c-94e2-a46e5b983dbe",
   "metadata": {},
   "outputs": [
    {
     "data": {
      "application/vnd.jupyter.widget-view+json": {
       "model_id": "b4f7ac6827c54d128bf8ef977682e1e9",
       "version_major": 2,
       "version_minor": 0
      },
      "text/plain": [
       "VBox(children=(Checkbox(value=False, description='Download', indent=False), Checkbox(value=False, description=…"
      ]
     },
     "execution_count": 4,
     "metadata": {},
     "output_type": "execute_result"
    }
   ],
   "source": [
    "WidgetUniverse"
   ]
  },
  {
   "cell_type": "markdown",
   "id": "1cb34ee5-b007-48b4-a11b-188e6bafad0f",
   "metadata": {},
   "source": [
    "## K200"
   ]
  },
  {
   "cell_type": "code",
   "execution_count": 5,
   "id": "8aa50408-fd2b-45f5-81ed-6c1a2479eb77",
   "metadata": {},
   "outputs": [
    {
     "name": "stdout",
     "output_type": "stream",
     "text": [
      "201 assets from 2021-01-04 to 2024-11-07 uploaded.\n",
      "df_prices loaded\n"
     ]
    }
   ],
   "source": [
    "k200 = PM.create_universe('UV_K200')"
   ]
  },
  {
   "cell_type": "code",
   "execution_count": 6,
   "id": "56cfa843-ffc7-469f-a18d-aefecdac2e5d",
   "metadata": {},
   "outputs": [
    {
     "name": "stdout",
     "output_type": "stream",
     "text": [
      "Downloading ...\n",
      "... done\n",
      "201 assets from 2021-01-04 to 2024-11-08 downloaded.\n",
      "kospi200_prices_241108.csv saved\n",
      "df_prices updated\n",
      "Execution time of download: 39.46 secs\n"
     ]
    }
   ],
   "source": [
    "kw = dict(\n",
    "    n_years=3, \n",
    "    close_today = WidgetUniverse.values(1)\n",
    ")\n",
    "k200.download(**kw) if WidgetUniverse.values(0) else None"
   ]
  },
  {
   "cell_type": "markdown",
   "id": "6e62cef4-25c9-414b-b33f-28858e929f30",
   "metadata": {},
   "source": [
    "## KRX"
   ]
  },
  {
   "cell_type": "code",
   "execution_count": 9,
   "id": "341b6af3-25e4-4280-8d51-6015c48994b9",
   "metadata": {},
   "outputs": [
    {
     "name": "stdout",
     "output_type": "stream",
     "text": [
      "2712 assets from 2019-01-02 to 2024-10-08 uploaded.\n",
      "df_prices updated\n"
     ]
    }
   ],
   "source": [
    "krx = PM.create_universe('UV_KRX')"
   ]
  },
  {
   "cell_type": "code",
   "execution_count": 10,
   "id": "5bed0595-0790-4e8b-ab6e-5e9db598d0d5",
   "metadata": {},
   "outputs": [],
   "source": [
    "kw = dict(\n",
    "    n_years=3, \n",
    "    close_today = WidgetUniverse.values(1),\n",
    "    interval=5, pause_duration=1, msg=False\n",
    ")\n",
    "#krx.download(**kw) if WidgetUniverse.values(0) else None"
   ]
  },
  {
   "cell_type": "markdown",
   "id": "39d0213d-1cd0-42f6-8066-abb2eb6dd5db",
   "metadata": {},
   "source": [
    "## WTR"
   ]
  },
  {
   "cell_type": "code",
   "execution_count": 7,
   "id": "26a87f56-8333-4d02-bc67-2d58cda01a18",
   "metadata": {},
   "outputs": [
    {
     "name": "stdout",
     "output_type": "stream",
     "text": [
      "6 assets from 2021-01-04 to 2024-11-07 uploaded.\n",
      "df_prices loaded\n"
     ]
    }
   ],
   "source": [
    "wtr = PM.create_universe('UV_WTR')"
   ]
  },
  {
   "cell_type": "code",
   "execution_count": 8,
   "id": "f9795c18-b507-497c-b6e4-5fbed3896f35",
   "metadata": {},
   "outputs": [
    {
     "data": {
      "text/plain": [
       "{'universe': 'etf',\n",
       " 'file': 'etfs_weather',\n",
       " 'upload_type': 'price',\n",
       " 'path': 'data'}"
      ]
     },
     "execution_count": 8,
     "metadata": {},
     "output_type": "execute_result"
    }
   ],
   "source": [
    "PM.review_universe('UV_WTR')"
   ]
  },
  {
   "cell_type": "code",
   "execution_count": 9,
   "id": "3cc26afb-d01e-4b99-9be0-fb446726b131",
   "metadata": {},
   "outputs": [
    {
     "name": "stdout",
     "output_type": "stream",
     "text": [
      "Downloading ...\n",
      "... done\n",
      "6 assets from 2021-01-04 to 2024-11-08 downloaded.\n",
      "etfs_weather_241108.csv saved\n",
      "df_prices updated\n",
      "Execution time of download: 1.04 secs\n"
     ]
    }
   ],
   "source": [
    "kw = dict(\n",
    "    n_years=3, \n",
    "    close_today = WidgetUniverse.values(1),\n",
    "    #tickers = ['069500', '273130', '148070', '379800', '411060', '284430']\n",
    "    tickers = 'selected'\n",
    ")\n",
    "wtr.download(**kw) if WidgetUniverse.values(0) else None"
   ]
  },
  {
   "cell_type": "code",
   "execution_count": 10,
   "id": "35e4fe7f-1ebd-40f6-956c-44c464cb6a76",
   "metadata": {},
   "outputs": [
    {
     "data": {
      "text/plain": [
       "0) 069500: KODEX 200\n",
       "1) 273130: KODEX 종합채권(AA-이상)액티브\n",
       "2) 148070: KOSEF 국고채10년\n",
       "3) 379800: KODEX 미국S&P500TR\n",
       "4) 411060: ACE KRX금현물\n",
       "5) 284430: KODEX 200미국채혼합"
      ]
     },
     "execution_count": 10,
     "metadata": {},
     "output_type": "execute_result"
    }
   ],
   "source": [
    "wtr.get_names()"
   ]
  },
  {
   "cell_type": "markdown",
   "id": "9a915127-3848-4f4a-84ed-4552ff991fca",
   "metadata": {},
   "source": [
    "## FCTR"
   ]
  },
  {
   "cell_type": "code",
   "execution_count": 11,
   "id": "d4181791-edd1-44f5-bbf8-ef80f0cdb556",
   "metadata": {},
   "outputs": [
    {
     "name": "stdout",
     "output_type": "stream",
     "text": [
      "7 assets from 2021-01-04 to 2024-11-06 uploaded.\n",
      "df_prices loaded\n"
     ]
    }
   ],
   "source": [
    "fctr = PM.create_universe('UV_FCTR')"
   ]
  },
  {
   "cell_type": "code",
   "execution_count": 12,
   "id": "1f8f1368-0625-4f2c-aab4-5755f702c2fa",
   "metadata": {},
   "outputs": [
    {
     "name": "stdout",
     "output_type": "stream",
     "text": [
      "Downloading ...\n"
     ]
    },
    {
     "name": "stderr",
     "output_type": "stream",
     "text": [
      "[*********************100%***********************]  7 of 7 completed"
     ]
    },
    {
     "name": "stdout",
     "output_type": "stream",
     "text": [
      "... done\n",
      "7 assets from 2021-01-04 to 2024-11-08 downloaded.\n",
      "etfs_factors_241108.csv saved\n",
      "df_prices updated\n",
      "Execution time of download: 3.31 secs\n"
     ]
    },
    {
     "name": "stderr",
     "output_type": "stream",
     "text": [
      "\n"
     ]
    }
   ],
   "source": [
    "kw = dict(\n",
    "    n_years=3, \n",
    "    close_today = WidgetUniverse.values(1),\n",
    "    #tickers=['LRGF','MTUM','QUAL','SIZE','SPY','USMV','VLUE']\n",
    "    tickers='selected'\n",
    ")\n",
    "fctr.download(**kw) if WidgetUniverse.values(0) else None"
   ]
  },
  {
   "cell_type": "code",
   "execution_count": 13,
   "id": "3d232256-a1ef-4677-ab9a-53540f2689cc",
   "metadata": {},
   "outputs": [
    {
     "data": {
      "text/plain": [
       "0) LRGF: iShares U.S. Equity Factor ETF\n",
       "1) MTUM: iShares MSCI USA Momentum Factor ETF\n",
       "2) QUAL: iShares MSCI USA Quality Factor ETF\n",
       "3) SIZE: iShares MSCI USA Size Factor ETF\n",
       "4) SPY: SPDR S&P 500 ETF Trust\n",
       "5) USMV: iShares MSCI USA Min Vol Factor ETF\n",
       "6) VLUE: iShares MSCI USA Value Factor ETF"
      ]
     },
     "execution_count": 13,
     "metadata": {},
     "output_type": "execute_result"
    }
   ],
   "source": [
    "fctr.get_names()"
   ]
  },
  {
   "cell_type": "markdown",
   "id": "99c864db-6e90-4720-9287-a23b26b2263e",
   "metadata": {},
   "source": [
    "## IRP\n",
    "- https://www.kiwoomam.com/fund/KI0202020000M?parentfundcode=8325&fundcode=8335\n",
    "- https://www.kiwoomam.com/fund/KI0202020000M?parentfundcode=8370&fundcode=8380\n",
    "- https://investments.miraeasset.com/fund/view.do?fundGb=2&fundCd=537380&childFundGb=2&childFundCd=53738P\n",
    "- https://investments.miraeasset.com/fund/view.do?fundGb=2&fundCd=537400&childFundGb=2&childFundCd=53740P\n",
    "- https://investments.miraeasset.com/fund/view.do?fundGb=2&fundCd=537410&childFundGb=2&childFundCd=53741P\n",
    "- https://www.hanwhawm.com/main/finance/fundInfo/FI141_2.cmd?p=500&item_cd=5102896"
   ]
  },
  {
   "cell_type": "code",
   "execution_count": 18,
   "id": "c22863eb-b080-4dd0-b2b0-d199fba75c5a",
   "metadata": {},
   "outputs": [
    {
     "name": "stdout",
     "output_type": "stream",
     "text": [
      "Estimating price from \"data/funds_irp.csv\" ...\n",
      "  WARNING: taking the 1st two columns only.\n",
      "  WARNING: taking the 1st two columns only.\n",
      "Max error of 14 conversions: 0.16 %\n",
      "14 assets from 2017-07-31 to 2024-08-26 uploaded.\n",
      "df_prices updated\n",
      "WARNING: the number of days in a year with 14 assets (100%) is 121 in avg.\n",
      "REMINDER: 9 equities converted to daily (days in year: 365)\n",
      "Daily metrics in Performance statistics must be meaningless\n"
     ]
    }
   ],
   "source": [
    "irp = PM.create_universe('UV_IRP')"
   ]
  },
  {
   "cell_type": "code",
   "execution_count": 19,
   "id": "b168cd3b-7986-4a19-bbff-44d1ac582f2d",
   "metadata": {},
   "outputs": [
    {
     "data": {
      "text/html": [
       "<div>\n",
       "<style scoped>\n",
       "    .dataframe tbody tr th:only-of-type {\n",
       "        vertical-align: middle;\n",
       "    }\n",
       "\n",
       "    .dataframe tbody tr th {\n",
       "        vertical-align: top;\n",
       "    }\n",
       "\n",
       "    .dataframe thead th {\n",
       "        text-align: right;\n",
       "    }\n",
       "</style>\n",
       "<table border=\"1\" class=\"dataframe\">\n",
       "  <thead>\n",
       "    <tr style=\"text-align: right;\">\n",
       "      <th></th>\n",
       "      <th>name</th>\n",
       "      <th>start date</th>\n",
       "      <th>end date</th>\n",
       "      <th>n</th>\n",
       "    </tr>\n",
       "  </thead>\n",
       "  <tbody>\n",
       "    <tr>\n",
       "      <th>K55105BS5067</th>\n",
       "      <td>삼성한국형TDF2040증권투자신탁H[주식혼합-재간접형]C-Pe</td>\n",
       "      <td>2017-07-31</td>\n",
       "      <td>2024-08-26</td>\n",
       "      <td>2584</td>\n",
       "    </tr>\n",
       "    <tr>\n",
       "      <th>K55223BT1450</th>\n",
       "      <td>KB온국민TDF2040증권투자신탁(주식혼합-재간접형)C-퇴직e</td>\n",
       "      <td>2017-07-31</td>\n",
       "      <td>2024-08-26</td>\n",
       "      <td>2584</td>\n",
       "    </tr>\n",
       "    <tr>\n",
       "      <th>K55301BU5479</th>\n",
       "      <td>미래에셋전략배분TDF2045혼합자산자투자신탁 종류C-P2e</td>\n",
       "      <td>2017-08-14</td>\n",
       "      <td>2024-08-26</td>\n",
       "      <td>2570</td>\n",
       "    </tr>\n",
       "    <tr>\n",
       "      <th>K55207BU0715</th>\n",
       "      <td>교보악사파워인덱스증권자투자신탁1호(주식)C-Pe</td>\n",
       "      <td>2017-08-31</td>\n",
       "      <td>2024-08-26</td>\n",
       "      <td>2553</td>\n",
       "    </tr>\n",
       "    <tr>\n",
       "      <th>K55210BU2435</th>\n",
       "      <td>신한마음편한TDF2040증권투자신탁[주식혼합-재간접형](종류C-re)</td>\n",
       "      <td>2017-08-31</td>\n",
       "      <td>2024-08-26</td>\n",
       "      <td>2553</td>\n",
       "    </tr>\n",
       "    <tr>\n",
       "      <th>K55365BT3694</th>\n",
       "      <td>kcgi코리아퇴직연금증권자투자신탁(주식)종류C-Pe2</td>\n",
       "      <td>2017-08-31</td>\n",
       "      <td>2024-08-26</td>\n",
       "      <td>2553</td>\n",
       "    </tr>\n",
       "    <tr>\n",
       "      <th>KR5223AE3357</th>\n",
       "      <td>kb퇴직연금배당증권자투자신탁(주식)C-E</td>\n",
       "      <td>2017-08-31</td>\n",
       "      <td>2024-08-26</td>\n",
       "      <td>2553</td>\n",
       "    </tr>\n",
       "    <tr>\n",
       "      <th>K55301BU6139</th>\n",
       "      <td>미래에셋전략배분TDF2035혼합자산자투자신탁종류C-P2e</td>\n",
       "      <td>2017-09-20</td>\n",
       "      <td>2024-08-26</td>\n",
       "      <td>2533</td>\n",
       "    </tr>\n",
       "    <tr>\n",
       "      <th>K55301BU5453</th>\n",
       "      <td>미래에셋평생소득TIF혼합자산자투자신탁종류C-P2e</td>\n",
       "      <td>2017-09-29</td>\n",
       "      <td>2024-08-26</td>\n",
       "      <td>2524</td>\n",
       "    </tr>\n",
       "    <tr>\n",
       "      <th>K55203C53681</th>\n",
       "      <td>대신KOSPI200인덱스증권자투자신탁(주식-파생형)CPe</td>\n",
       "      <td>2018-04-30</td>\n",
       "      <td>2024-08-26</td>\n",
       "      <td>2311</td>\n",
       "    </tr>\n",
       "    <tr>\n",
       "      <th>K55213C51890</th>\n",
       "      <td>한화LIFEPLUSTDF2040증권자투자신탁(혼합-재간접형)C-RPe(퇴직연금)</td>\n",
       "      <td>2018-05-31</td>\n",
       "      <td>2024-08-26</td>\n",
       "      <td>2280</td>\n",
       "    </tr>\n",
       "    <tr>\n",
       "      <th>K55206C96311</th>\n",
       "      <td>키움키워드림TDF2045증권투자신탁 1[혼합-재간접형]C-P2e(퇴직연금)</td>\n",
       "      <td>2018-07-13</td>\n",
       "      <td>2024-08-26</td>\n",
       "      <td>2237</td>\n",
       "    </tr>\n",
       "    <tr>\n",
       "      <th>K55206C95800</th>\n",
       "      <td>키움키워드림TDF2030증권투자신탁 1[혼합-재간접형]C-P2e(퇴직연금)</td>\n",
       "      <td>2018-07-26</td>\n",
       "      <td>2024-08-26</td>\n",
       "      <td>2224</td>\n",
       "    </tr>\n",
       "    <tr>\n",
       "      <th>K55234CJ0997</th>\n",
       "      <td>IBK플레인바닐라EMP증권투자신탁(혼합-재간접형)C-Re</td>\n",
       "      <td>2019-01-31</td>\n",
       "      <td>2024-08-26</td>\n",
       "      <td>2035</td>\n",
       "    </tr>\n",
       "  </tbody>\n",
       "</table>\n",
       "</div>"
      ],
      "text/plain": [
       "                                                      name start date  \\\n",
       "K55105BS5067            삼성한국형TDF2040증권투자신탁H[주식혼합-재간접형]C-Pe 2017-07-31   \n",
       "K55223BT1450            KB온국민TDF2040증권투자신탁(주식혼합-재간접형)C-퇴직e 2017-07-31   \n",
       "K55301BU5479              미래에셋전략배분TDF2045혼합자산자투자신탁 종류C-P2e 2017-08-14   \n",
       "K55207BU0715                    교보악사파워인덱스증권자투자신탁1호(주식)C-Pe 2017-08-31   \n",
       "K55210BU2435        신한마음편한TDF2040증권투자신탁[주식혼합-재간접형](종류C-re) 2017-08-31   \n",
       "K55365BT3694                 kcgi코리아퇴직연금증권자투자신탁(주식)종류C-Pe2 2017-08-31   \n",
       "KR5223AE3357                        kb퇴직연금배당증권자투자신탁(주식)C-E 2017-08-31   \n",
       "K55301BU6139               미래에셋전략배분TDF2035혼합자산자투자신탁종류C-P2e 2017-09-20   \n",
       "K55301BU5453                   미래에셋평생소득TIF혼합자산자투자신탁종류C-P2e 2017-09-29   \n",
       "K55203C53681               대신KOSPI200인덱스증권자투자신탁(주식-파생형)CPe 2018-04-30   \n",
       "K55213C51890  한화LIFEPLUSTDF2040증권자투자신탁(혼합-재간접형)C-RPe(퇴직연금) 2018-05-31   \n",
       "K55206C96311     키움키워드림TDF2045증권투자신탁 1[혼합-재간접형]C-P2e(퇴직연금) 2018-07-13   \n",
       "K55206C95800     키움키워드림TDF2030증권투자신탁 1[혼합-재간접형]C-P2e(퇴직연금) 2018-07-26   \n",
       "K55234CJ0997               IBK플레인바닐라EMP증권투자신탁(혼합-재간접형)C-Re 2019-01-31   \n",
       "\n",
       "               end date     n  \n",
       "K55105BS5067 2024-08-26  2584  \n",
       "K55223BT1450 2024-08-26  2584  \n",
       "K55301BU5479 2024-08-26  2570  \n",
       "K55207BU0715 2024-08-26  2553  \n",
       "K55210BU2435 2024-08-26  2553  \n",
       "K55365BT3694 2024-08-26  2553  \n",
       "KR5223AE3357 2024-08-26  2553  \n",
       "K55301BU6139 2024-08-26  2533  \n",
       "K55301BU5453 2024-08-26  2524  \n",
       "K55203C53681 2024-08-26  2311  \n",
       "K55213C51890 2024-08-26  2280  \n",
       "K55206C96311 2024-08-26  2237  \n",
       "K55206C95800 2024-08-26  2224  \n",
       "K55234CJ0997 2024-08-26  2035  "
      ]
     },
     "execution_count": 19,
     "metadata": {},
     "output_type": "execute_result"
    }
   ],
   "source": [
    "irp.get_date_range().sort_values('end date')"
   ]
  },
  {
   "cell_type": "code",
   "execution_count": 20,
   "id": "b39755f5-ed92-4640-aada-9e84bd1eba06",
   "metadata": {},
   "outputs": [
    {
     "data": {
      "text/html": [
       "<div>\n",
       "<style scoped>\n",
       "    .dataframe tbody tr th:only-of-type {\n",
       "        vertical-align: middle;\n",
       "    }\n",
       "\n",
       "    .dataframe tbody tr th {\n",
       "        vertical-align: top;\n",
       "    }\n",
       "\n",
       "    .dataframe thead th {\n",
       "        text-align: right;\n",
       "    }\n",
       "</style>\n",
       "<table border=\"1\" class=\"dataframe\">\n",
       "  <thead>\n",
       "    <tr style=\"text-align: right;\">\n",
       "      <th></th>\n",
       "      <th>name</th>\n",
       "      <th>daily_sharpe</th>\n",
       "      <th>monthly_sharpe</th>\n",
       "      <th>yearly_sharpe</th>\n",
       "    </tr>\n",
       "  </thead>\n",
       "  <tbody>\n",
       "    <tr>\n",
       "      <th>K55301BU6139</th>\n",
       "      <td>미래에셋전략배분TDF2035혼합자산자투자신탁종류C-P2e</td>\n",
       "      <td>0.779196</td>\n",
       "      <td>0.905514</td>\n",
       "      <td>0.600542</td>\n",
       "    </tr>\n",
       "    <tr>\n",
       "      <th>K55301BU5479</th>\n",
       "      <td>미래에셋전략배분TDF2045혼합자산자투자신탁 종류C-P2e</td>\n",
       "      <td>0.761174</td>\n",
       "      <td>0.897551</td>\n",
       "      <td>0.600273</td>\n",
       "    </tr>\n",
       "    <tr>\n",
       "      <th>K55365BT3694</th>\n",
       "      <td>kcgi코리아퇴직연금증권자투자신탁(주식)종류C-Pe2</td>\n",
       "      <td>0.523945</td>\n",
       "      <td>0.635648</td>\n",
       "      <td>0.573647</td>\n",
       "    </tr>\n",
       "    <tr>\n",
       "      <th>K55213C51890</th>\n",
       "      <td>한화LIFEPLUSTDF2040증권자투자신탁(혼합-재간접형)C-RPe(퇴직연금)</td>\n",
       "      <td>0.613093</td>\n",
       "      <td>0.748384</td>\n",
       "      <td>0.542374</td>\n",
       "    </tr>\n",
       "    <tr>\n",
       "      <th>K55223BT1450</th>\n",
       "      <td>KB온국민TDF2040증권투자신탁(주식혼합-재간접형)C-퇴직e</td>\n",
       "      <td>0.524394</td>\n",
       "      <td>0.636211</td>\n",
       "      <td>0.484719</td>\n",
       "    </tr>\n",
       "    <tr>\n",
       "      <th>K55210BU2435</th>\n",
       "      <td>신한마음편한TDF2040증권투자신탁[주식혼합-재간접형](종류C-re)</td>\n",
       "      <td>0.562201</td>\n",
       "      <td>0.683774</td>\n",
       "      <td>0.478562</td>\n",
       "    </tr>\n",
       "    <tr>\n",
       "      <th>K55203C53681</th>\n",
       "      <td>대신KOSPI200인덱스증권자투자신탁(주식-파생형)CPe</td>\n",
       "      <td>0.443305</td>\n",
       "      <td>0.535309</td>\n",
       "      <td>0.475771</td>\n",
       "    </tr>\n",
       "    <tr>\n",
       "      <th>K55206C96311</th>\n",
       "      <td>키움키워드림TDF2045증권투자신탁 1[혼합-재간접형]C-P2e(퇴직연금)</td>\n",
       "      <td>0.585596</td>\n",
       "      <td>0.617055</td>\n",
       "      <td>0.447164</td>\n",
       "    </tr>\n",
       "    <tr>\n",
       "      <th>K55206C95800</th>\n",
       "      <td>키움키워드림TDF2030증권투자신탁 1[혼합-재간접형]C-P2e(퇴직연금)</td>\n",
       "      <td>0.628952</td>\n",
       "      <td>0.641508</td>\n",
       "      <td>0.436946</td>\n",
       "    </tr>\n",
       "    <tr>\n",
       "      <th>K55207BU0715</th>\n",
       "      <td>교보악사파워인덱스증권자투자신탁1호(주식)C-Pe</td>\n",
       "      <td>0.383179</td>\n",
       "      <td>0.461339</td>\n",
       "      <td>0.417496</td>\n",
       "    </tr>\n",
       "    <tr>\n",
       "      <th>K55301BU5453</th>\n",
       "      <td>미래에셋평생소득TIF혼합자산자투자신탁종류C-P2e</td>\n",
       "      <td>0.813355</td>\n",
       "      <td>0.772953</td>\n",
       "      <td>0.40078</td>\n",
       "    </tr>\n",
       "    <tr>\n",
       "      <th>K55105BS5067</th>\n",
       "      <td>삼성한국형TDF2040증권투자신탁H[주식혼합-재간접형]C-Pe</td>\n",
       "      <td>0.418572</td>\n",
       "      <td>0.504801</td>\n",
       "      <td>0.330035</td>\n",
       "    </tr>\n",
       "    <tr>\n",
       "      <th>K55234CJ0997</th>\n",
       "      <td>IBK플레인바닐라EMP증권투자신탁(혼합-재간접형)C-Re</td>\n",
       "      <td>0.521775</td>\n",
       "      <td>0.632929</td>\n",
       "      <td>0.305769</td>\n",
       "    </tr>\n",
       "    <tr>\n",
       "      <th>KR5223AE3357</th>\n",
       "      <td>kb퇴직연금배당증권자투자신탁(주식)C-E</td>\n",
       "      <td>0.252261</td>\n",
       "      <td>0.302229</td>\n",
       "      <td>0.276649</td>\n",
       "    </tr>\n",
       "  </tbody>\n",
       "</table>\n",
       "</div>"
      ],
      "text/plain": [
       "                                                      name daily_sharpe  \\\n",
       "K55301BU6139               미래에셋전략배분TDF2035혼합자산자투자신탁종류C-P2e     0.779196   \n",
       "K55301BU5479              미래에셋전략배분TDF2045혼합자산자투자신탁 종류C-P2e     0.761174   \n",
       "K55365BT3694                 kcgi코리아퇴직연금증권자투자신탁(주식)종류C-Pe2     0.523945   \n",
       "K55213C51890  한화LIFEPLUSTDF2040증권자투자신탁(혼합-재간접형)C-RPe(퇴직연금)     0.613093   \n",
       "K55223BT1450            KB온국민TDF2040증권투자신탁(주식혼합-재간접형)C-퇴직e     0.524394   \n",
       "K55210BU2435        신한마음편한TDF2040증권투자신탁[주식혼합-재간접형](종류C-re)     0.562201   \n",
       "K55203C53681               대신KOSPI200인덱스증권자투자신탁(주식-파생형)CPe     0.443305   \n",
       "K55206C96311     키움키워드림TDF2045증권투자신탁 1[혼합-재간접형]C-P2e(퇴직연금)     0.585596   \n",
       "K55206C95800     키움키워드림TDF2030증권투자신탁 1[혼합-재간접형]C-P2e(퇴직연금)     0.628952   \n",
       "K55207BU0715                    교보악사파워인덱스증권자투자신탁1호(주식)C-Pe     0.383179   \n",
       "K55301BU5453                   미래에셋평생소득TIF혼합자산자투자신탁종류C-P2e     0.813355   \n",
       "K55105BS5067            삼성한국형TDF2040증권투자신탁H[주식혼합-재간접형]C-Pe     0.418572   \n",
       "K55234CJ0997               IBK플레인바닐라EMP증권투자신탁(혼합-재간접형)C-Re     0.521775   \n",
       "KR5223AE3357                        kb퇴직연금배당증권자투자신탁(주식)C-E     0.252261   \n",
       "\n",
       "             monthly_sharpe yearly_sharpe  \n",
       "K55301BU6139       0.905514      0.600542  \n",
       "K55301BU5479       0.897551      0.600273  \n",
       "K55365BT3694       0.635648      0.573647  \n",
       "K55213C51890       0.748384      0.542374  \n",
       "K55223BT1450       0.636211      0.484719  \n",
       "K55210BU2435       0.683774      0.478562  \n",
       "K55203C53681       0.535309      0.475771  \n",
       "K55206C96311       0.617055      0.447164  \n",
       "K55206C95800       0.641508      0.436946  \n",
       "K55207BU0715       0.461339      0.417496  \n",
       "K55301BU5453       0.772953       0.40078  \n",
       "K55105BS5067       0.504801      0.330035  \n",
       "K55234CJ0997       0.632929      0.305769  \n",
       "KR5223AE3357       0.302229      0.276649  "
      ]
     },
     "execution_count": 20,
     "metadata": {},
     "output_type": "execute_result"
    }
   ],
   "source": [
    "irp.performance('sharpe', 'year')"
   ]
  },
  {
   "cell_type": "markdown",
   "id": "36c8bf0d-4dad-4e2c-9839-f6f61c7db911",
   "metadata": {},
   "source": [
    "## HANA\n",
    "- https://dis.kofia.or.kr"
   ]
  },
  {
   "cell_type": "code",
   "execution_count": 21,
   "id": "7e607069-dd69-4e22-8ce9-f81df53b9554",
   "metadata": {},
   "outputs": [
    {
     "name": "stdout",
     "output_type": "stream",
     "text": [
      "Estimating price from \"data/funds_kebhana.csv\" ...\n",
      "  error: -0.00 %\n",
      "  error: 0.01 %\n",
      "  error: -0.00 %\n",
      "  error: 0.00 %\n",
      "4 assets from 2010-01-29 to 2024-07-31 uploaded.\n",
      "df_prices updated\n",
      "WARNING: the number of days in a year with followings is 12 in avg.:\n",
      "KR5101888398: 12\n",
      "KR5236AS4826: 12\n",
      "KR5370AP9956: 12\n",
      "K55306CV9946: 12\n",
      "REMINDER: 4 equities converted to daily (days in year: 365)\n",
      "Daily metrics in Performance statistics must be meaningless\n"
     ]
    }
   ],
   "source": [
    "hana = PM.create_universe('UV_HANA')"
   ]
  },
  {
   "cell_type": "code",
   "execution_count": 22,
   "id": "64659ef9-1f1e-4fa3-93ff-55e23a5a0340",
   "metadata": {},
   "outputs": [
    {
     "data": {
      "text/html": [
       "<div>\n",
       "<style scoped>\n",
       "    .dataframe tbody tr th:only-of-type {\n",
       "        vertical-align: middle;\n",
       "    }\n",
       "\n",
       "    .dataframe tbody tr th {\n",
       "        vertical-align: top;\n",
       "    }\n",
       "\n",
       "    .dataframe thead th {\n",
       "        text-align: right;\n",
       "    }\n",
       "</style>\n",
       "<table border=\"1\" class=\"dataframe\">\n",
       "  <thead>\n",
       "    <tr style=\"text-align: right;\">\n",
       "      <th></th>\n",
       "      <th>name</th>\n",
       "      <th>start date</th>\n",
       "      <th>end date</th>\n",
       "      <th>n</th>\n",
       "    </tr>\n",
       "  </thead>\n",
       "  <tbody>\n",
       "    <tr>\n",
       "      <th>KR5101888398</th>\n",
       "      <td>한국투자크레딧포커스ESG증권자투자신탁 1(채권)(C-e)</td>\n",
       "      <td>2010-01-29</td>\n",
       "      <td>2024-07-31</td>\n",
       "      <td>5298</td>\n",
       "    </tr>\n",
       "    <tr>\n",
       "      <th>KR5370AP9956</th>\n",
       "      <td>AB글로벌고수익증권투자신탁(채권-재간접형)종류형Ce</td>\n",
       "      <td>2014-04-30</td>\n",
       "      <td>2024-07-31</td>\n",
       "      <td>3746</td>\n",
       "    </tr>\n",
       "    <tr>\n",
       "      <th>KR5236AS4826</th>\n",
       "      <td>한국밸류10년투자증권투자신탁 1(채권혼합)종류C-E</td>\n",
       "      <td>2014-05-30</td>\n",
       "      <td>2024-07-31</td>\n",
       "      <td>3716</td>\n",
       "    </tr>\n",
       "    <tr>\n",
       "      <th>K55306CV9946</th>\n",
       "      <td>다올글로벌멀티에셋인컴EMP증권자투자신탁[혼합-재간접형](공)종류Ce</td>\n",
       "      <td>2019-10-31</td>\n",
       "      <td>2024-07-31</td>\n",
       "      <td>1736</td>\n",
       "    </tr>\n",
       "  </tbody>\n",
       "</table>\n",
       "</div>"
      ],
      "text/plain": [
       "                                               name start date   end date  \\\n",
       "KR5101888398        한국투자크레딧포커스ESG증권자투자신탁 1(채권)(C-e) 2010-01-29 2024-07-31   \n",
       "KR5370AP9956           AB글로벌고수익증권투자신탁(채권-재간접형)종류형Ce 2014-04-30 2024-07-31   \n",
       "KR5236AS4826           한국밸류10년투자증권투자신탁 1(채권혼합)종류C-E 2014-05-30 2024-07-31   \n",
       "K55306CV9946  다올글로벌멀티에셋인컴EMP증권자투자신탁[혼합-재간접형](공)종류Ce 2019-10-31 2024-07-31   \n",
       "\n",
       "                 n  \n",
       "KR5101888398  5298  \n",
       "KR5370AP9956  3746  \n",
       "KR5236AS4826  3716  \n",
       "K55306CV9946  1736  "
      ]
     },
     "execution_count": 22,
     "metadata": {},
     "output_type": "execute_result"
    }
   ],
   "source": [
    "hana.get_date_range()"
   ]
  },
  {
   "cell_type": "code",
   "execution_count": 23,
   "id": "ff070849-3cf7-4523-a606-c10548ed599d",
   "metadata": {},
   "outputs": [
    {
     "data": {
      "image/png": "[encoded data removed]",
      "text/plain": [
       "<Figure size 1000x400 with 1 Axes>"
      ]
     },
     "metadata": {},
     "output_type": "display_data"
    }
   ],
   "source": [
    "_ = hana.df_prices.loc['2014':].plot(figsize=(10,4))"
   ]
  },
  {
   "cell_type": "markdown",
   "id": "a4f53a08-8233-4b77-b360-e9dc6b3c1b4d",
   "metadata": {},
   "source": [
    "## LIQ"
   ]
  },
  {
   "cell_type": "code",
   "execution_count": 14,
   "id": "72cd3dc3-870e-4d18-810e-b95ff8bba953",
   "metadata": {},
   "outputs": [],
   "source": [
    "# portfolio of past trading system to liquidate soon\n",
    "tickers_liq = [\n",
    "    '011780', '066570', '035890', '040420', '140520', \n",
    "    '072990', '091580', '011200', '002220', '006650', \n",
    "    '136490', '064550', '460860', '040910', '024950',\n",
    "    '900070', '036580', '184230', '460850', '016250',\n",
    "    '001230', '049470', '217820', '109960'\n",
    "]"
   ]
  },
  {
   "cell_type": "code",
   "execution_count": 15,
   "id": "414e2a58-a88f-49df-b3d3-6eba848856c6",
   "metadata": {},
   "outputs": [
    {
     "name": "stdout",
     "output_type": "stream",
     "text": [
      "24 assets from 2021-01-04 to 2024-11-07 uploaded.\n",
      "df_prices loaded\n"
     ]
    }
   ],
   "source": [
    "liq = PM.create_universe('UV_LIQ')"
   ]
  },
  {
   "cell_type": "code",
   "execution_count": 16,
   "id": "b6e60aa6-cc78-4145-a706-9802503cce51",
   "metadata": {},
   "outputs": [
    {
     "name": "stdout",
     "output_type": "stream",
     "text": [
      "Downloading ...\n",
      "REMINDER: 24 tickers set regardless of market\n"
     ]
    },
    {
     "name": "stderr",
     "output_type": "stream",
     "text": [
      "100%|███████████████████████████████████████████████████████████████| 24/24 [00:02<00:00, 11.83it/s]"
     ]
    },
    {
     "name": "stdout",
     "output_type": "stream",
     "text": [
      "2.0 secs elapsed, 0.0 secs paused (0.0%)\n",
      "... done\n",
      "24 assets from 2021-01-04 to 2024-11-08 downloaded.\n",
      "krx_liq_prices_241108.csv saved\n",
      "df_prices updated\n",
      "Execution time of download: 3.31 secs\n"
     ]
    },
    {
     "name": "stderr",
     "output_type": "stream",
     "text": [
      "\n"
     ]
    }
   ],
   "source": [
    "kw = dict(\n",
    "    n_years=3, \n",
    "    tickers= 'selected', #tickers_liq,\n",
    "    close_today = WidgetUniverse.values(1),\n",
    "    interval=5, pause_duration=1, msg=False\n",
    ")\n",
    "liq.download(**kw) if WidgetUniverse.values(0) else None"
   ]
  },
  {
   "cell_type": "markdown",
   "id": "892cb848-d5e2-4bbf-ba7d-f4b38f4b0791",
   "metadata": {},
   "source": [
    "## Additional Data"
   ]
  },
  {
   "cell_type": "markdown",
   "id": "28c87622-d725-4580-b8b9-067ce19f8d8a",
   "metadata": {},
   "source": [
    "### Financial Ratio"
   ]
  },
  {
   "cell_type": "code",
   "execution_count": 17,
   "id": "639f2709-1679-4893-8d1d-b0f065e3980f",
   "metadata": {},
   "outputs": [
    {
     "data": {
      "application/vnd.jupyter.widget-view+json": {
       "model_id": "b4f7ac6827c54d128bf8ef977682e1e9",
       "version_major": 2,
       "version_minor": 0
      },
      "text/plain": [
       "VBox(children=(Checkbox(value=True, description='Download', indent=False), Checkbox(value=True, description='C…"
      ]
     },
     "execution_count": 17,
     "metadata": {},
     "output_type": "execute_result"
    }
   ],
   "source": [
    "WidgetUniverse"
   ]
  },
  {
   "cell_type": "code",
   "execution_count": 18,
   "id": "f80ca883-cc65-49cd-b6c5-bab6a8a55417",
   "metadata": {},
   "outputs": [
    {
     "name": "stdout",
     "output_type": "stream",
     "text": [
      "Financial ratios of 201 stocks from 2023-01-02 to 2024-11-07 loaded\n"
     ]
    }
   ],
   "source": [
    "file = 'kospi200_ratios.csv'\n",
    "fr = FinancialRatios(file, path_data)"
   ]
  },
  {
   "cell_type": "code",
   "execution_count": 19,
   "id": "ad28f354-e504-4422-b486-9982db82ccf8",
   "metadata": {},
   "outputs": [
    {
     "name": "stdout",
     "output_type": "stream",
     "text": [
      "201 assets from 2021-01-04 to 2024-11-08 uploaded.\n",
      "df_prices loaded\n"
     ]
    },
    {
     "name": "stderr",
     "output_type": "stream",
     "text": [
      "100%|█████████████████████████████████████████████████████████████| 201/201 [07:20<00:00,  2.19s/it]"
     ]
    },
    {
     "name": "stdout",
     "output_type": "stream",
     "text": [
      "7.3 mins elapsed, 16.0 secs paused (3.6%)\n",
      "Financial ratios of 201 stocks from 2023-01-02 to 2024-11-08 downloaded\n",
      "kospi200_ratios_241108.csv saved\n"
     ]
    },
    {
     "name": "stderr",
     "output_type": "stream",
     "text": [
      "\n"
     ]
    }
   ],
   "source": [
    "start = '2023-01-01'\n",
    "universe = 'UV_K200'\n",
    "freq = 'day'\n",
    "\n",
    "if WidgetUniverse.values(0):\n",
    "    tickers = PM.create_universe(universe).df_prices.columns.to_list()\n",
    "    kw = dict(\n",
    "        freq = freq,\n",
    "        close_today = WidgetUniverse.values(1)\n",
    "    )\n",
    "    fr.download(tickers, start, **kw)"
   ]
  },
  {
   "cell_type": "code",
   "execution_count": 20,
   "id": "d630f9b3-6c80-4b4e-b70f-fd80cbe21127",
   "metadata": {},
   "outputs": [],
   "source": [
    "fratio = 'PER'\n",
    "df_ratio = fr.util_reshape(fratio, stack=False)"
   ]
  },
  {
   "cell_type": "markdown",
   "id": "198e84e4-ee73-466e-baa8-e5cbc1be4725",
   "metadata": {},
   "source": [
    "# Performance"
   ]
  },
  {
   "cell_type": "code",
   "execution_count": 3,
   "id": "4f9e3e79-0274-47d0-b5ad-d52e3b3fe202",
   "metadata": {},
   "outputs": [
    {
     "name": "stdout",
     "output_type": "stream",
     "text": [
      "Portfolio: MOM, PER, WTR, LIQ, IRP, HANA, FCTR, KRX\n"
     ]
    }
   ],
   "source": [
    "PM.review()"
   ]
  },
  {
   "cell_type": "code",
   "execution_count": 4,
   "id": "66f39b20-3e42-408f-9d74-bc0dd217ac4e",
   "metadata": {
    "scrolled": true
   },
   "outputs": [
    {
     "name": "stdout",
     "output_type": "stream",
     "text": [
      "MOM:\n",
      "201 assets from 2021-01-04 to 2024-11-08 uploaded.\n",
      "df_prices loaded\n",
      "Transaction record to 2024-10-08 loaded\n",
      "\n",
      "PER:\n",
      "201 assets from 2021-01-04 to 2024-11-08 uploaded.\n",
      "df_prices loaded\n",
      "Transaction record to 2024-10-17 loaded\n",
      "\n",
      "WTR:\n",
      "6 assets from 2021-01-04 to 2024-11-08 uploaded.\n",
      "df_prices loaded\n",
      "Transaction record to 2024-07-18 loaded\n",
      "\n"
     ]
    }
   ],
   "source": [
    "pf_list = ['MOM', 'PER', 'WTR']\n",
    "#pf_list = ['PER', 'WTR']\n",
    "pm = PM(pf_list)"
   ]
  },
  {
   "cell_type": "code",
   "execution_count": 5,
   "id": "f75e8058-9c75-4e68-bc44-80d2a3638942",
   "metadata": {},
   "outputs": [
    {
     "data": {
      "image/png": "[encoded data removed]",
      "text/plain": [
       "<Figure size 800x400 with 2 Axes>"
      ]
     },
     "metadata": {},
     "output_type": "display_data"
    }
   ],
   "source": [
    "start_date=None\n",
    "pm.plot(start_date=start_date)"
   ]
  },
  {
   "cell_type": "code",
   "execution_count": 8,
   "id": "713f1fea-97dd-47b4-a05a-c0f5611a7f36",
   "metadata": {},
   "outputs": [
    {
     "data": {
      "text/html": [
       "<div>\n",
       "<style scoped>\n",
       "    .dataframe tbody tr th:only-of-type {\n",
       "        vertical-align: middle;\n",
       "    }\n",
       "\n",
       "    .dataframe tbody tr th {\n",
       "        vertical-align: top;\n",
       "    }\n",
       "\n",
       "    .dataframe thead th {\n",
       "        text-align: right;\n",
       "    }\n",
       "</style>\n",
       "<table border=\"1\" class=\"dataframe\">\n",
       "  <thead>\n",
       "    <tr style=\"text-align: right;\">\n",
       "      <th></th>\n",
       "      <th>Return</th>\n",
       "      <th>Percentage</th>\n",
       "    </tr>\n",
       "  </thead>\n",
       "  <tbody>\n",
       "    <tr>\n",
       "      <th>PER</th>\n",
       "      <td>52015</td>\n",
       "      <td>0.010538</td>\n",
       "    </tr>\n",
       "    <tr>\n",
       "      <th>WTR</th>\n",
       "      <td>38220</td>\n",
       "      <td>0.003892</td>\n",
       "    </tr>\n",
       "    <tr>\n",
       "      <th>Total</th>\n",
       "      <td>90235</td>\n",
       "      <td>0.006115</td>\n",
       "    </tr>\n",
       "  </tbody>\n",
       "</table>\n",
       "</div>"
      ],
      "text/plain": [
       "       Return  Percentage\n",
       "PER     52015    0.010538\n",
       "WTR     38220    0.003892\n",
       "Total   90235    0.006115"
      ]
     },
     "execution_count": 8,
     "metadata": {},
     "output_type": "execute_result"
    }
   ],
   "source": [
    "pm.valuate()"
   ]
  },
  {
   "cell_type": "markdown",
   "id": "2c9b3de9-e20a-4486-9fc7-7ba75bd5fdec",
   "metadata": {},
   "source": [
    "# Transaction"
   ]
  },
  {
   "cell_type": "markdown",
   "id": "8c1d7580-8b01-4154-8c49-14f4063b6b03",
   "metadata": {},
   "source": [
    "## MOM"
   ]
  },
  {
   "cell_type": "code",
   "execution_count": 36,
   "id": "ce7034c3-028d-4acf-bfc8-b57f646d439a",
   "metadata": {},
   "outputs": [
    {
     "name": "stdout",
     "output_type": "stream",
     "text": [
      "201 assets from 2021-01-04 to 2024-11-07 uploaded.\n",
      "df_prices updated\n",
      "Transaction record to 2024-10-08 loaded\n"
     ]
    }
   ],
   "source": [
    "pf_mom = PM.create_portfolio('MOM')"
   ]
  },
  {
   "cell_type": "code",
   "execution_count": 37,
   "id": "1c0cd424-6ed5-43f9-9d79-ba40a32d7df1",
   "metadata": {},
   "outputs": [
    {
     "data": {
      "text/html": [
       "<div>\n",
       "<style scoped>\n",
       "    .dataframe tbody tr th:only-of-type {\n",
       "        vertical-align: middle;\n",
       "    }\n",
       "\n",
       "    .dataframe tbody tr th {\n",
       "        vertical-align: top;\n",
       "    }\n",
       "\n",
       "    .dataframe thead th {\n",
       "        text-align: right;\n",
       "    }\n",
       "</style>\n",
       "<table border=\"1\" class=\"dataframe\">\n",
       "  <thead>\n",
       "    <tr style=\"text-align: right;\">\n",
       "      <th></th>\n",
       "      <th></th>\n",
       "      <th>name</th>\n",
       "      <th>price</th>\n",
       "      <th>transaction</th>\n",
       "      <th>net</th>\n",
       "      <th>weight</th>\n",
       "      <th>weight*</th>\n",
       "    </tr>\n",
       "    <tr>\n",
       "      <th>date</th>\n",
       "      <th>asset</th>\n",
       "      <th></th>\n",
       "      <th></th>\n",
       "      <th></th>\n",
       "      <th></th>\n",
       "      <th></th>\n",
       "      <th></th>\n",
       "    </tr>\n",
       "  </thead>\n",
       "  <tbody>\n",
       "    <tr>\n",
       "      <th rowspan=\"6\" valign=\"top\">2024-09-27</th>\n",
       "      <th>267260</th>\n",
       "      <td>HD현대일렉트릭</td>\n",
       "      <td>319500</td>\n",
       "      <td>0</td>\n",
       "      <td>8</td>\n",
       "      <td>NaN</td>\n",
       "      <td>0.1835</td>\n",
       "    </tr>\n",
       "    <tr>\n",
       "      <th>003230</th>\n",
       "      <td>삼양식품</td>\n",
       "      <td>538000</td>\n",
       "      <td>0</td>\n",
       "      <td>6</td>\n",
       "      <td>NaN</td>\n",
       "      <td>0.2317</td>\n",
       "    </tr>\n",
       "    <tr>\n",
       "      <th>079550</th>\n",
       "      <td>LIG넥스원</td>\n",
       "      <td>210500</td>\n",
       "      <td>0</td>\n",
       "      <td>14</td>\n",
       "      <td>NaN</td>\n",
       "      <td>0.2116</td>\n",
       "    </tr>\n",
       "    <tr>\n",
       "      <th>042700</th>\n",
       "      <td>한미반도체</td>\n",
       "      <td>113000</td>\n",
       "      <td>0</td>\n",
       "      <td>21</td>\n",
       "      <td>NaN</td>\n",
       "      <td>0.1704</td>\n",
       "    </tr>\n",
       "    <tr>\n",
       "      <th>012450</th>\n",
       "      <td>한화에어로스페이스</td>\n",
       "      <td>282588</td>\n",
       "      <td>9</td>\n",
       "      <td>9</td>\n",
       "      <td>NaN</td>\n",
       "      <td>0.1826</td>\n",
       "    </tr>\n",
       "    <tr>\n",
       "      <th>489790</th>\n",
       "      <td>한화인더스트리얼솔루션즈</td>\n",
       "      <td>31301</td>\n",
       "      <td>9</td>\n",
       "      <td>9</td>\n",
       "      <td>NaN</td>\n",
       "      <td>0.0202</td>\n",
       "    </tr>\n",
       "    <tr>\n",
       "      <th rowspan=\"7\" valign=\"top\">2024-10-08</th>\n",
       "      <th>267260</th>\n",
       "      <td>HD현대일렉트릭</td>\n",
       "      <td>321000</td>\n",
       "      <td>0</td>\n",
       "      <td>8</td>\n",
       "      <td>0.182</td>\n",
       "      <td>0.1742</td>\n",
       "    </tr>\n",
       "    <tr>\n",
       "      <th>012450</th>\n",
       "      <td>한화에어로스페이스</td>\n",
       "      <td>364500</td>\n",
       "      <td>0</td>\n",
       "      <td>9</td>\n",
       "      <td>0.210</td>\n",
       "      <td>0.2225</td>\n",
       "    </tr>\n",
       "    <tr>\n",
       "      <th>079550</th>\n",
       "      <td>LIG넥스원</td>\n",
       "      <td>243500</td>\n",
       "      <td>-3</td>\n",
       "      <td>11</td>\n",
       "      <td>0.192</td>\n",
       "      <td>0.1817</td>\n",
       "    </tr>\n",
       "    <tr>\n",
       "      <th>003230</th>\n",
       "      <td>삼양식품</td>\n",
       "      <td>524000</td>\n",
       "      <td>0</td>\n",
       "      <td>6</td>\n",
       "      <td>0.216</td>\n",
       "      <td>0.2133</td>\n",
       "    </tr>\n",
       "    <tr>\n",
       "      <th>011790</th>\n",
       "      <td>SKC</td>\n",
       "      <td>153600</td>\n",
       "      <td>20</td>\n",
       "      <td>20</td>\n",
       "      <td>0.200</td>\n",
       "      <td>0.2084</td>\n",
       "    </tr>\n",
       "    <tr>\n",
       "      <th>042700</th>\n",
       "      <td>한미반도체</td>\n",
       "      <td>108100</td>\n",
       "      <td>-21</td>\n",
       "      <td>0</td>\n",
       "      <td>NaN</td>\n",
       "      <td>0.0000</td>\n",
       "    </tr>\n",
       "    <tr>\n",
       "      <th>489790</th>\n",
       "      <td>한화인더스트리얼솔루션즈</td>\n",
       "      <td>39350</td>\n",
       "      <td>-9</td>\n",
       "      <td>0</td>\n",
       "      <td>NaN</td>\n",
       "      <td>0.0000</td>\n",
       "    </tr>\n",
       "  </tbody>\n",
       "</table>\n",
       "</div>"
      ],
      "text/plain": [
       "                           name   price  transaction  net  weight  weight*\n",
       "date       asset                                                          \n",
       "2024-09-27 267260      HD현대일렉트릭  319500            0    8     NaN   0.1835\n",
       "           003230          삼양식품  538000            0    6     NaN   0.2317\n",
       "           079550        LIG넥스원  210500            0   14     NaN   0.2116\n",
       "           042700         한미반도체  113000            0   21     NaN   0.1704\n",
       "           012450     한화에어로스페이스  282588            9    9     NaN   0.1826\n",
       "           489790  한화인더스트리얼솔루션즈   31301            9    9     NaN   0.0202\n",
       "2024-10-08 267260      HD현대일렉트릭  321000            0    8   0.182   0.1742\n",
       "           012450     한화에어로스페이스  364500            0    9   0.210   0.2225\n",
       "           079550        LIG넥스원  243500           -3   11   0.192   0.1817\n",
       "           003230          삼양식품  524000            0    6   0.216   0.2133\n",
       "           011790           SKC  153600           20   20   0.200   0.2084\n",
       "           042700         한미반도체  108100          -21    0     NaN   0.0000\n",
       "           489790  한화인더스트리얼솔루션즈   39350           -9    0     NaN   0.0000"
      ]
     },
     "execution_count": 37,
     "metadata": {},
     "output_type": "execute_result"
    }
   ],
   "source": [
    "pf_mom.view_record(-2)"
   ]
  },
  {
   "cell_type": "code",
   "execution_count": 38,
   "id": "ff9dc182-52c7-424f-8acd-06c433602372",
   "metadata": {},
   "outputs": [],
   "source": [
    "# run after editting record file\n",
    "#_ = pf_mom.update_record(save=True)"
   ]
  },
  {
   "cell_type": "code",
   "execution_count": 39,
   "id": "4dce86f9-1672-4922-b6a5-c10f37d63337",
   "metadata": {},
   "outputs": [
    {
     "name": "stdout",
     "output_type": "stream",
     "text": [
      "Portfolio value 15,496,000, Profit -1.9% on 2024-11-07\n"
     ]
    },
    {
     "data": {
      "image/png": "[encoded data removed]",
      "text/plain": [
       "<Figure size 1000x400 with 2 Axes>"
      ]
     },
     "metadata": {},
     "output_type": "display_data"
    }
   ],
   "source": [
    "pf_mom.valuate()"
   ]
  },
  {
   "cell_type": "code",
   "execution_count": 40,
   "id": "18459292-7c64-4513-8364-99db89ad036f",
   "metadata": {},
   "outputs": [
    {
     "data": {
      "text/html": [
       "<div>\n",
       "<style scoped>\n",
       "    .dataframe tbody tr th:only-of-type {\n",
       "        vertical-align: middle;\n",
       "    }\n",
       "\n",
       "    .dataframe tbody tr th {\n",
       "        vertical-align: top;\n",
       "    }\n",
       "\n",
       "    .dataframe thead th {\n",
       "        text-align: right;\n",
       "    }\n",
       "</style>\n",
       "<table border=\"1\" class=\"dataframe\">\n",
       "  <thead>\n",
       "    <tr style=\"text-align: right;\">\n",
       "      <th></th>\n",
       "      <th>MOM</th>\n",
       "    </tr>\n",
       "  </thead>\n",
       "  <tbody>\n",
       "    <tr>\n",
       "      <th>start</th>\n",
       "      <td>2024-07-22</td>\n",
       "    </tr>\n",
       "    <tr>\n",
       "      <th>end</th>\n",
       "      <td>2024-11-07</td>\n",
       "    </tr>\n",
       "    <tr>\n",
       "      <th>total_return</th>\n",
       "      <td>0.116386</td>\n",
       "    </tr>\n",
       "    <tr>\n",
       "      <th>cagr</th>\n",
       "      <td>0.451129</td>\n",
       "    </tr>\n",
       "    <tr>\n",
       "      <th>calmar</th>\n",
       "      <td>1.497641</td>\n",
       "    </tr>\n",
       "    <tr>\n",
       "      <th>max_drawdown</th>\n",
       "      <td>-0.301226</td>\n",
       "    </tr>\n",
       "    <tr>\n",
       "      <th>avg_drawdown</th>\n",
       "      <td>-0.17366</td>\n",
       "    </tr>\n",
       "    <tr>\n",
       "      <th>avg_drawdown_days</th>\n",
       "      <td>52.0</td>\n",
       "    </tr>\n",
       "    <tr>\n",
       "      <th>daily_vol</th>\n",
       "      <td>0.811251</td>\n",
       "    </tr>\n",
       "    <tr>\n",
       "      <th>daily_sharpe</th>\n",
       "      <td>0.872493</td>\n",
       "    </tr>\n",
       "    <tr>\n",
       "      <th>daily_sortino</th>\n",
       "      <td>1.510497</td>\n",
       "    </tr>\n",
       "    <tr>\n",
       "      <th>monthly_vol</th>\n",
       "      <td>0.01538</td>\n",
       "    </tr>\n",
       "    <tr>\n",
       "      <th>monthly_sharpe</th>\n",
       "      <td>35.308892</td>\n",
       "    </tr>\n",
       "    <tr>\n",
       "      <th>monthly_sortino</th>\n",
       "      <td>inf</td>\n",
       "    </tr>\n",
       "  </tbody>\n",
       "</table>\n",
       "</div>"
      ],
      "text/plain": [
       "                          MOM\n",
       "start              2024-07-22\n",
       "end                2024-11-07\n",
       "total_return         0.116386\n",
       "cagr                 0.451129\n",
       "calmar               1.497641\n",
       "max_drawdown        -0.301226\n",
       "avg_drawdown         -0.17366\n",
       "avg_drawdown_days        52.0\n",
       "daily_vol            0.811251\n",
       "daily_sharpe         0.872493\n",
       "daily_sortino        1.510497\n",
       "monthly_vol           0.01538\n",
       "monthly_sharpe      35.308892\n",
       "monthly_sortino           inf"
      ]
     },
     "execution_count": 40,
     "metadata": {},
     "output_type": "execute_result"
    }
   ],
   "source": [
    "pf_mom.performance(metrics=METRICS)"
   ]
  },
  {
   "cell_type": "code",
   "execution_count": 41,
   "id": "ff8e778d-a780-492a-9a14-945deb966e74",
   "metadata": {},
   "outputs": [
    {
     "data": {
      "application/vnd.jupyter.widget-view+json": {
       "model_id": "da7dbeec2f4c4366abd07c579b663668",
       "version_major": 2,
       "version_minor": 0
      },
      "text/plain": [
       "VBox(children=(DatePicker(value=None, layout=Layout(width='200px'), step=1), IntSlider(value=0, continuous_upd…"
      ]
     },
     "execution_count": 41,
     "metadata": {},
     "output_type": "execute_result"
    }
   ],
   "source": [
    "# set kwargs of transaction_pipeline\n",
    "WidgetTransaction"
   ]
  },
  {
   "cell_type": "code",
   "execution_count": 43,
   "id": "14f9ea03-bbf3-4335-85fa-22737ba5c920",
   "metadata": {},
   "outputs": [
    {
     "name": "stdout",
     "output_type": "stream",
     "text": [
      "Liquidation set to None\n",
      "5 assets selected by Total return from 2023-10-31 to 2024-10-31\n",
      "Weights of assets determined by Equal weights.\n",
      "Mean absolute error of weights: 6 %\n",
      "Portfolio value 14,583,500, Profit -2.1% on 2024-11-07\n",
      "Set save=True to save transaction record\n"
     ]
    },
    {
     "data": {
      "text/html": [
       "<div>\n",
       "<style scoped>\n",
       "    .dataframe tbody tr th:only-of-type {\n",
       "        vertical-align: middle;\n",
       "    }\n",
       "\n",
       "    .dataframe tbody tr th {\n",
       "        vertical-align: top;\n",
       "    }\n",
       "\n",
       "    .dataframe thead th {\n",
       "        text-align: right;\n",
       "    }\n",
       "</style>\n",
       "<table border=\"1\" class=\"dataframe\">\n",
       "  <thead>\n",
       "    <tr style=\"text-align: right;\">\n",
       "      <th></th>\n",
       "      <th></th>\n",
       "      <th>name</th>\n",
       "      <th>price</th>\n",
       "      <th>transaction</th>\n",
       "      <th>net</th>\n",
       "      <th>weight</th>\n",
       "      <th>weight*</th>\n",
       "    </tr>\n",
       "    <tr>\n",
       "      <th>date</th>\n",
       "      <th>asset</th>\n",
       "      <th></th>\n",
       "      <th></th>\n",
       "      <th></th>\n",
       "      <th></th>\n",
       "      <th></th>\n",
       "      <th></th>\n",
       "    </tr>\n",
       "  </thead>\n",
       "  <tbody>\n",
       "    <tr>\n",
       "      <th rowspan=\"7\" valign=\"top\">2024-10-08</th>\n",
       "      <th>267260</th>\n",
       "      <td>HD현대일렉트릭</td>\n",
       "      <td>321000</td>\n",
       "      <td>0</td>\n",
       "      <td>8</td>\n",
       "      <td>0.182</td>\n",
       "      <td>0.1742</td>\n",
       "    </tr>\n",
       "    <tr>\n",
       "      <th>012450</th>\n",
       "      <td>한화에어로스페이스</td>\n",
       "      <td>364500</td>\n",
       "      <td>0</td>\n",
       "      <td>9</td>\n",
       "      <td>0.21</td>\n",
       "      <td>0.2225</td>\n",
       "    </tr>\n",
       "    <tr>\n",
       "      <th>079550</th>\n",
       "      <td>LIG넥스원</td>\n",
       "      <td>243500</td>\n",
       "      <td>-3</td>\n",
       "      <td>11</td>\n",
       "      <td>0.192</td>\n",
       "      <td>0.1817</td>\n",
       "    </tr>\n",
       "    <tr>\n",
       "      <th>003230</th>\n",
       "      <td>삼양식품</td>\n",
       "      <td>524000</td>\n",
       "      <td>0</td>\n",
       "      <td>6</td>\n",
       "      <td>0.216</td>\n",
       "      <td>0.2133</td>\n",
       "    </tr>\n",
       "    <tr>\n",
       "      <th>011790</th>\n",
       "      <td>SKC</td>\n",
       "      <td>153600</td>\n",
       "      <td>20</td>\n",
       "      <td>20</td>\n",
       "      <td>0.2</td>\n",
       "      <td>0.2084</td>\n",
       "    </tr>\n",
       "    <tr>\n",
       "      <th>042700</th>\n",
       "      <td>한미반도체</td>\n",
       "      <td>108100</td>\n",
       "      <td>-21</td>\n",
       "      <td>0</td>\n",
       "      <td>NaN</td>\n",
       "      <td>0.0</td>\n",
       "    </tr>\n",
       "    <tr>\n",
       "      <th>489790</th>\n",
       "      <td>한화인더스트리얼솔루션즈</td>\n",
       "      <td>39350</td>\n",
       "      <td>-9</td>\n",
       "      <td>0</td>\n",
       "      <td>NaN</td>\n",
       "      <td>0.0</td>\n",
       "    </tr>\n",
       "    <tr>\n",
       "      <th rowspan=\"6\" valign=\"top\">2024-11-07</th>\n",
       "      <th>267260</th>\n",
       "      <td>HD현대일렉트릭</td>\n",
       "      <td>347000</td>\n",
       "      <td>0</td>\n",
       "      <td>8</td>\n",
       "      <td>0.200</td>\n",
       "      <td>0.1904</td>\n",
       "    </tr>\n",
       "    <tr>\n",
       "      <th>012450</th>\n",
       "      <td>한화에어로스페이스</td>\n",
       "      <td>405000</td>\n",
       "      <td>-2</td>\n",
       "      <td>7</td>\n",
       "      <td>0.200</td>\n",
       "      <td>0.1944</td>\n",
       "    </tr>\n",
       "    <tr>\n",
       "      <th>079550</th>\n",
       "      <td>LIG넥스원</td>\n",
       "      <td>269000</td>\n",
       "      <td>0</td>\n",
       "      <td>11</td>\n",
       "      <td>0.200</td>\n",
       "      <td>0.2029</td>\n",
       "    </tr>\n",
       "    <tr>\n",
       "      <th>003230</th>\n",
       "      <td>삼양식품</td>\n",
       "      <td>593000</td>\n",
       "      <td>-1</td>\n",
       "      <td>5</td>\n",
       "      <td>0.200</td>\n",
       "      <td>0.2033</td>\n",
       "    </tr>\n",
       "    <tr>\n",
       "      <th>000150</th>\n",
       "      <td>두산</td>\n",
       "      <td>234500</td>\n",
       "      <td>13</td>\n",
       "      <td>13</td>\n",
       "      <td>0.200</td>\n",
       "      <td>0.2090</td>\n",
       "    </tr>\n",
       "    <tr>\n",
       "      <th>011790</th>\n",
       "      <td>SKC</td>\n",
       "      <td>127900</td>\n",
       "      <td>-20</td>\n",
       "      <td>0</td>\n",
       "      <td>NaN</td>\n",
       "      <td>0</td>\n",
       "    </tr>\n",
       "  </tbody>\n",
       "</table>\n",
       "</div>"
      ],
      "text/plain": [
       "                           name   price  transaction  net weight weight*\n",
       "date       asset                                                        \n",
       "2024-10-08 267260      HD현대일렉트릭  321000            0    8  0.182  0.1742\n",
       "           012450     한화에어로스페이스  364500            0    9   0.21  0.2225\n",
       "           079550        LIG넥스원  243500           -3   11  0.192  0.1817\n",
       "           003230          삼양식품  524000            0    6  0.216  0.2133\n",
       "           011790           SKC  153600           20   20    0.2  0.2084\n",
       "           042700         한미반도체  108100          -21    0    NaN     0.0\n",
       "           489790  한화인더스트리얼솔루션즈   39350           -9    0    NaN     0.0\n",
       "2024-11-07 267260      HD현대일렉트릭  347000            0    8  0.200  0.1904\n",
       "           012450     한화에어로스페이스  405000           -2    7  0.200  0.1944\n",
       "           079550        LIG넥스원  269000            0   11  0.200  0.2029\n",
       "           003230          삼양식품  593000           -1    5  0.200  0.2033\n",
       "           000150            두산  234500           13   13  0.200  0.2090\n",
       "           011790           SKC  127900          -20    0    NaN       0"
      ]
     },
     "execution_count": 43,
     "metadata": {},
     "output_type": "execute_result"
    }
   ],
   "source": [
    "kwargs_trs = dict(\n",
    "    date = WidgetTransaction.values(0),\n",
    "    capital = WidgetTransaction.values(1),\n",
    "    save = WidgetTransaction.values(2)\n",
    ")\n",
    "kw_liq = dict(\n",
    "    #assets_to_sell= {'489790':34500},\n",
    "    #assets_to_sell= '489790',\n",
    "    #hold= True\n",
    ")\n",
    "_ = pf_mom.transaction_pipeline(**kwargs_trs, **kw_liq)\n",
    "pf_mom.view_record(-2)"
   ]
  },
  {
   "cell_type": "markdown",
   "id": "e321b1ba-7505-483c-a08c-636d6fa73d40",
   "metadata": {},
   "source": [
    "### Copy record to edit"
   ]
  },
  {
   "cell_type": "code",
   "execution_count": 11,
   "id": "8e44faa7-52f9-4f88-817b-2afef2d6da1e",
   "metadata": {},
   "outputs": [
    {
     "name": "stdout",
     "output_type": "stream",
     "text": [
      "Transaction record to 2024-09-27 loaded\n",
      "ERROR: check the date as no new transaction\n"
     ]
    }
   ],
   "source": [
    "date = '2024-09-27'\n",
    "save = False\n",
    "\n",
    "pf_mom.copy_record(date, save=save)"
   ]
  },
  {
   "cell_type": "markdown",
   "id": "2fa7791d-ffa4-4509-81b5-24f4149c9a79",
   "metadata": {},
   "source": [
    "### Update record"
   ]
  },
  {
   "cell_type": "code",
   "execution_count": 18,
   "id": "7f167fa3-7abd-47a7-a660-14474dfdb862",
   "metadata": {},
   "outputs": [
    {
     "name": "stdout",
     "output_type": "stream",
     "text": [
      "Transaction record to 2024-09-27 loaded\n",
      "Actual weights updated\n",
      "Transaction file pf_k200_momentum_240927.csv updated\n",
      "self.record updated\n"
     ]
    },
    {
     "data": {
      "text/html": [
       "<div>\n",
       "<style scoped>\n",
       "    .dataframe tbody tr th:only-of-type {\n",
       "        vertical-align: middle;\n",
       "    }\n",
       "\n",
       "    .dataframe tbody tr th {\n",
       "        vertical-align: top;\n",
       "    }\n",
       "\n",
       "    .dataframe thead th {\n",
       "        text-align: right;\n",
       "    }\n",
       "</style>\n",
       "<table border=\"1\" class=\"dataframe\">\n",
       "  <thead>\n",
       "    <tr style=\"text-align: right;\">\n",
       "      <th></th>\n",
       "      <th></th>\n",
       "      <th>name</th>\n",
       "      <th>price</th>\n",
       "      <th>transaction</th>\n",
       "      <th>net</th>\n",
       "      <th>weight</th>\n",
       "      <th>weight*</th>\n",
       "    </tr>\n",
       "    <tr>\n",
       "      <th>date</th>\n",
       "      <th>asset</th>\n",
       "      <th></th>\n",
       "      <th></th>\n",
       "      <th></th>\n",
       "      <th></th>\n",
       "      <th></th>\n",
       "      <th></th>\n",
       "    </tr>\n",
       "  </thead>\n",
       "  <tbody>\n",
       "    <tr>\n",
       "      <th rowspan=\"5\" valign=\"top\">2024-07-22</th>\n",
       "      <th>003230</th>\n",
       "      <td>삼양식품</td>\n",
       "      <td>637000</td>\n",
       "      <td>5</td>\n",
       "      <td>5</td>\n",
       "      <td>0.227</td>\n",
       "      <td>0.2234</td>\n",
       "    </tr>\n",
       "    <tr>\n",
       "      <th>267260</th>\n",
       "      <td>HD현대일렉트릭</td>\n",
       "      <td>314000</td>\n",
       "      <td>9</td>\n",
       "      <td>9</td>\n",
       "      <td>0.198</td>\n",
       "      <td>0.1982</td>\n",
       "    </tr>\n",
       "    <tr>\n",
       "      <th>042700</th>\n",
       "      <td>한미반도체</td>\n",
       "      <td>149000</td>\n",
       "      <td>20</td>\n",
       "      <td>20</td>\n",
       "      <td>0.205</td>\n",
       "      <td>0.2090</td>\n",
       "    </tr>\n",
       "    <tr>\n",
       "      <th>000150</th>\n",
       "      <td>두산</td>\n",
       "      <td>200000</td>\n",
       "      <td>13</td>\n",
       "      <td>13</td>\n",
       "      <td>0.189</td>\n",
       "      <td>0.1824</td>\n",
       "    </tr>\n",
       "    <tr>\n",
       "      <th>010120</th>\n",
       "      <td>LS ELECTRIC</td>\n",
       "      <td>222000</td>\n",
       "      <td>12</td>\n",
       "      <td>12</td>\n",
       "      <td>0.181</td>\n",
       "      <td>0.1869</td>\n",
       "    </tr>\n",
       "    <tr>\n",
       "      <th rowspan=\"7\" valign=\"top\">2024-08-22</th>\n",
       "      <th>267260</th>\n",
       "      <td>HD현대일렉트릭</td>\n",
       "      <td>318000</td>\n",
       "      <td>-1</td>\n",
       "      <td>8</td>\n",
       "      <td>0.192</td>\n",
       "      <td>0.1856</td>\n",
       "    </tr>\n",
       "    <tr>\n",
       "      <th>003230</th>\n",
       "      <td>삼양식품</td>\n",
       "      <td>509000</td>\n",
       "      <td>1</td>\n",
       "      <td>6</td>\n",
       "      <td>0.217</td>\n",
       "      <td>0.2228</td>\n",
       "    </tr>\n",
       "    <tr>\n",
       "      <th>012450</th>\n",
       "      <td>한화에어로스페이스</td>\n",
       "      <td>282500</td>\n",
       "      <td>10</td>\n",
       "      <td>10</td>\n",
       "      <td>0.206</td>\n",
       "      <td>0.2061</td>\n",
       "    </tr>\n",
       "    <tr>\n",
       "      <th>079550</th>\n",
       "      <td>LIG넥스원</td>\n",
       "      <td>193000</td>\n",
       "      <td>14</td>\n",
       "      <td>14</td>\n",
       "      <td>0.199</td>\n",
       "      <td>0.1971</td>\n",
       "    </tr>\n",
       "    <tr>\n",
       "      <th>042700</th>\n",
       "      <td>한미반도체</td>\n",
       "      <td>123100</td>\n",
       "      <td>1</td>\n",
       "      <td>21</td>\n",
       "      <td>0.186</td>\n",
       "      <td>0.1886</td>\n",
       "    </tr>\n",
       "    <tr>\n",
       "      <th>000150</th>\n",
       "      <td>두산</td>\n",
       "      <td>147600</td>\n",
       "      <td>-13</td>\n",
       "      <td>0</td>\n",
       "      <td>0.000</td>\n",
       "      <td>0.0000</td>\n",
       "    </tr>\n",
       "    <tr>\n",
       "      <th>010120</th>\n",
       "      <td>LS ELECTRIC</td>\n",
       "      <td>174400</td>\n",
       "      <td>-12</td>\n",
       "      <td>0</td>\n",
       "      <td>0.000</td>\n",
       "      <td>0.0000</td>\n",
       "    </tr>\n",
       "    <tr>\n",
       "      <th rowspan=\"5\" valign=\"top\">2024-09-26</th>\n",
       "      <th>267260</th>\n",
       "      <td>HD현대일렉트릭</td>\n",
       "      <td>335000</td>\n",
       "      <td>0</td>\n",
       "      <td>8</td>\n",
       "      <td>NaN</td>\n",
       "      <td>0.2353</td>\n",
       "    </tr>\n",
       "    <tr>\n",
       "      <th>003230</th>\n",
       "      <td>삼양식품</td>\n",
       "      <td>548000</td>\n",
       "      <td>0</td>\n",
       "      <td>6</td>\n",
       "      <td>NaN</td>\n",
       "      <td>0.2887</td>\n",
       "    </tr>\n",
       "    <tr>\n",
       "      <th>012450</th>\n",
       "      <td>한화에어로스페이스</td>\n",
       "      <td>282500</td>\n",
       "      <td>-10</td>\n",
       "      <td>0</td>\n",
       "      <td>NaN</td>\n",
       "      <td>0.0000</td>\n",
       "    </tr>\n",
       "    <tr>\n",
       "      <th>079550</th>\n",
       "      <td>LIG넥스원</td>\n",
       "      <td>216000</td>\n",
       "      <td>0</td>\n",
       "      <td>14</td>\n",
       "      <td>NaN</td>\n",
       "      <td>0.2655</td>\n",
       "    </tr>\n",
       "    <tr>\n",
       "      <th>042700</th>\n",
       "      <td>한미반도체</td>\n",
       "      <td>114200</td>\n",
       "      <td>0</td>\n",
       "      <td>21</td>\n",
       "      <td>NaN</td>\n",
       "      <td>0.2105</td>\n",
       "    </tr>\n",
       "    <tr>\n",
       "      <th rowspan=\"6\" valign=\"top\">2024-09-27</th>\n",
       "      <th>267260</th>\n",
       "      <td>HD현대일렉트릭</td>\n",
       "      <td>319500</td>\n",
       "      <td>0</td>\n",
       "      <td>8</td>\n",
       "      <td>NaN</td>\n",
       "      <td>0.1835</td>\n",
       "    </tr>\n",
       "    <tr>\n",
       "      <th>003230</th>\n",
       "      <td>삼양식품</td>\n",
       "      <td>538000</td>\n",
       "      <td>0</td>\n",
       "      <td>6</td>\n",
       "      <td>NaN</td>\n",
       "      <td>0.2317</td>\n",
       "    </tr>\n",
       "    <tr>\n",
       "      <th>079550</th>\n",
       "      <td>LIG넥스원</td>\n",
       "      <td>210500</td>\n",
       "      <td>0</td>\n",
       "      <td>14</td>\n",
       "      <td>NaN</td>\n",
       "      <td>0.2116</td>\n",
       "    </tr>\n",
       "    <tr>\n",
       "      <th>042700</th>\n",
       "      <td>한미반도체</td>\n",
       "      <td>113000</td>\n",
       "      <td>0</td>\n",
       "      <td>21</td>\n",
       "      <td>NaN</td>\n",
       "      <td>0.1704</td>\n",
       "    </tr>\n",
       "    <tr>\n",
       "      <th>012450</th>\n",
       "      <td>한화에어로스페이스</td>\n",
       "      <td>282588</td>\n",
       "      <td>9</td>\n",
       "      <td>9</td>\n",
       "      <td>NaN</td>\n",
       "      <td>0.1826</td>\n",
       "    </tr>\n",
       "    <tr>\n",
       "      <th>489790</th>\n",
       "      <td>한화인더스트리얼솔루션즈</td>\n",
       "      <td>31301</td>\n",
       "      <td>9</td>\n",
       "      <td>9</td>\n",
       "      <td>NaN</td>\n",
       "      <td>0.0202</td>\n",
       "    </tr>\n",
       "  </tbody>\n",
       "</table>\n",
       "</div>"
      ],
      "text/plain": [
       "                           name   price  transaction  net  weight weight*\n",
       "date       asset                                                         \n",
       "2024-07-22 003230          삼양식품  637000            5    5   0.227  0.2234\n",
       "           267260      HD현대일렉트릭  314000            9    9   0.198  0.1982\n",
       "           042700         한미반도체  149000           20   20   0.205  0.2090\n",
       "           000150            두산  200000           13   13   0.189  0.1824\n",
       "           010120   LS ELECTRIC  222000           12   12   0.181  0.1869\n",
       "2024-08-22 267260      HD현대일렉트릭  318000           -1    8   0.192  0.1856\n",
       "           003230          삼양식품  509000            1    6   0.217  0.2228\n",
       "           012450     한화에어로스페이스  282500           10   10   0.206  0.2061\n",
       "           079550        LIG넥스원  193000           14   14   0.199  0.1971\n",
       "           042700         한미반도체  123100            1   21   0.186  0.1886\n",
       "           000150            두산  147600          -13    0   0.000  0.0000\n",
       "           010120   LS ELECTRIC  174400          -12    0   0.000  0.0000\n",
       "2024-09-26 267260      HD현대일렉트릭  335000            0    8     NaN  0.2353\n",
       "           003230          삼양식품  548000            0    6     NaN  0.2887\n",
       "           012450     한화에어로스페이스  282500          -10    0     NaN  0.0000\n",
       "           079550        LIG넥스원  216000            0   14     NaN  0.2655\n",
       "           042700         한미반도체  114200            0   21     NaN  0.2105\n",
       "2024-09-27 267260      HD현대일렉트릭  319500            0    8     NaN  0.1835\n",
       "           003230          삼양식품  538000            0    6     NaN  0.2317\n",
       "           079550        LIG넥스원  210500            0   14     NaN  0.2116\n",
       "           042700         한미반도체  113000            0   21     NaN  0.1704\n",
       "           012450     한화에어로스페이스  282588            9    9     NaN  0.1826\n",
       "           489790  한화인더스트리얼솔루션즈   31301            9    9     NaN  0.0202"
      ]
     },
     "execution_count": 18,
     "metadata": {},
     "output_type": "execute_result"
    }
   ],
   "source": [
    "pf_mom.update_record()"
   ]
  },
  {
   "cell_type": "markdown",
   "id": "75556501-ed95-41dc-bb6d-f25405fb619d",
   "metadata": {},
   "source": [
    "## KRX: Simulation"
   ]
  },
  {
   "cell_type": "code",
   "execution_count": 8,
   "id": "f52f67b4-a419-43aa-a73b-51683be085fc",
   "metadata": {},
   "outputs": [
    {
     "name": "stdout",
     "output_type": "stream",
     "text": [
      "2712 assets from 2019-01-02 to 2024-10-08 uploaded.\n",
      "df_prices loaded\n",
      "ERROR from get_names: '287410'\n",
      "Transaction record to 2024-10-02 loaded\n"
     ]
    }
   ],
   "source": [
    "pf_krx = PM.create_portfolio('KRX')"
   ]
  },
  {
   "cell_type": "code",
   "execution_count": 9,
   "id": "6d9021e8-73ca-4572-a2dc-e582f517a598",
   "metadata": {},
   "outputs": [
    {
     "data": {
      "text/html": [
       "<div>\n",
       "<style scoped>\n",
       "    .dataframe tbody tr th:only-of-type {\n",
       "        vertical-align: middle;\n",
       "    }\n",
       "\n",
       "    .dataframe tbody tr th {\n",
       "        vertical-align: top;\n",
       "    }\n",
       "\n",
       "    .dataframe thead th {\n",
       "        text-align: right;\n",
       "    }\n",
       "</style>\n",
       "<table border=\"1\" class=\"dataframe\">\n",
       "  <thead>\n",
       "    <tr style=\"text-align: right;\">\n",
       "      <th></th>\n",
       "      <th></th>\n",
       "      <th>name</th>\n",
       "      <th>price</th>\n",
       "      <th>transaction</th>\n",
       "      <th>net</th>\n",
       "      <th>weight</th>\n",
       "      <th>weight*</th>\n",
       "    </tr>\n",
       "    <tr>\n",
       "      <th>date</th>\n",
       "      <th>asset</th>\n",
       "      <th></th>\n",
       "      <th></th>\n",
       "      <th></th>\n",
       "      <th></th>\n",
       "      <th></th>\n",
       "      <th></th>\n",
       "    </tr>\n",
       "  </thead>\n",
       "  <tbody>\n",
       "    <tr>\n",
       "      <th rowspan=\"9\" valign=\"top\">2024-08-01</th>\n",
       "      <th>078860</th>\n",
       "      <td>엔에스이엔엠</td>\n",
       "      <td>10080</td>\n",
       "      <td>-217</td>\n",
       "      <td>109</td>\n",
       "      <td>0.2</td>\n",
       "      <td>0.2056</td>\n",
       "    </tr>\n",
       "    <tr>\n",
       "      <th>016670</th>\n",
       "      <td>디모아</td>\n",
       "      <td>7070</td>\n",
       "      <td>156</td>\n",
       "      <td>156</td>\n",
       "      <td>0.2</td>\n",
       "      <td>0.2064</td>\n",
       "    </tr>\n",
       "    <tr>\n",
       "      <th>159910</th>\n",
       "      <td>스킨앤스킨</td>\n",
       "      <td>1070</td>\n",
       "      <td>1034</td>\n",
       "      <td>1034</td>\n",
       "      <td>0.2</td>\n",
       "      <td>0.2070</td>\n",
       "    </tr>\n",
       "    <tr>\n",
       "      <th>089030</th>\n",
       "      <td>테크윙</td>\n",
       "      <td>51400</td>\n",
       "      <td>21</td>\n",
       "      <td>21</td>\n",
       "      <td>0.2</td>\n",
       "      <td>0.2020</td>\n",
       "    </tr>\n",
       "    <tr>\n",
       "      <th>196170</th>\n",
       "      <td>알테오젠</td>\n",
       "      <td>319000</td>\n",
       "      <td>3</td>\n",
       "      <td>3</td>\n",
       "      <td>0.2</td>\n",
       "      <td>0.1791</td>\n",
       "    </tr>\n",
       "    <tr>\n",
       "      <th>042700</th>\n",
       "      <td>한미반도체</td>\n",
       "      <td>127300</td>\n",
       "      <td>-10</td>\n",
       "      <td>0</td>\n",
       "      <td>NaN</td>\n",
       "      <td>0.0000</td>\n",
       "    </tr>\n",
       "    <tr>\n",
       "      <th>065350</th>\n",
       "      <td>신성델타테크</td>\n",
       "      <td>53800</td>\n",
       "      <td>-21</td>\n",
       "      <td>0</td>\n",
       "      <td>NaN</td>\n",
       "      <td>0.0000</td>\n",
       "    </tr>\n",
       "    <tr>\n",
       "      <th>066790</th>\n",
       "      <td>씨씨에스</td>\n",
       "      <td>2850</td>\n",
       "      <td>-505</td>\n",
       "      <td>0</td>\n",
       "      <td>NaN</td>\n",
       "      <td>0.0000</td>\n",
       "    </tr>\n",
       "    <tr>\n",
       "      <th>139050</th>\n",
       "      <td>BF랩스</td>\n",
       "      <td>2805</td>\n",
       "      <td>-530</td>\n",
       "      <td>0</td>\n",
       "      <td>NaN</td>\n",
       "      <td>0.0000</td>\n",
       "    </tr>\n",
       "    <tr>\n",
       "      <th rowspan=\"6\" valign=\"top\">2024-10-02</th>\n",
       "      <th>078860</th>\n",
       "      <td>엔에스이엔엠</td>\n",
       "      <td>9700</td>\n",
       "      <td>30</td>\n",
       "      <td>139</td>\n",
       "      <td>0.2</td>\n",
       "      <td>0.2000</td>\n",
       "    </tr>\n",
       "    <tr>\n",
       "      <th>016670</th>\n",
       "      <td>디모아</td>\n",
       "      <td>4725</td>\n",
       "      <td>130</td>\n",
       "      <td>286</td>\n",
       "      <td>0.2</td>\n",
       "      <td>0.2004</td>\n",
       "    </tr>\n",
       "    <tr>\n",
       "      <th>033790</th>\n",
       "      <td>피노</td>\n",
       "      <td>9090</td>\n",
       "      <td>148</td>\n",
       "      <td>148</td>\n",
       "      <td>0.2</td>\n",
       "      <td>0.1995</td>\n",
       "    </tr>\n",
       "    <tr>\n",
       "      <th>159910</th>\n",
       "      <td>스킨앤스킨</td>\n",
       "      <td>761</td>\n",
       "      <td>744</td>\n",
       "      <td>1778</td>\n",
       "      <td>0.2</td>\n",
       "      <td>0.2007</td>\n",
       "    </tr>\n",
       "    <tr>\n",
       "      <th>196170</th>\n",
       "      <td>알테오젠</td>\n",
       "      <td>336000</td>\n",
       "      <td>1</td>\n",
       "      <td>4</td>\n",
       "      <td>0.2</td>\n",
       "      <td>0.1993</td>\n",
       "    </tr>\n",
       "    <tr>\n",
       "      <th>089030</th>\n",
       "      <td>테크윙</td>\n",
       "      <td>36500</td>\n",
       "      <td>-21</td>\n",
       "      <td>0</td>\n",
       "      <td>NaN</td>\n",
       "      <td>0.0000</td>\n",
       "    </tr>\n",
       "  </tbody>\n",
       "</table>\n",
       "</div>"
      ],
      "text/plain": [
       "                     name   price  transaction   net  weight  weight*\n",
       "date       asset                                                     \n",
       "2024-08-01 078860  엔에스이엔엠   10080         -217   109     0.2   0.2056\n",
       "           016670     디모아    7070          156   156     0.2   0.2064\n",
       "           159910   스킨앤스킨    1070         1034  1034     0.2   0.2070\n",
       "           089030     테크윙   51400           21    21     0.2   0.2020\n",
       "           196170    알테오젠  319000            3     3     0.2   0.1791\n",
       "           042700   한미반도체  127300          -10     0     NaN   0.0000\n",
       "           065350  신성델타테크   53800          -21     0     NaN   0.0000\n",
       "           066790    씨씨에스    2850         -505     0     NaN   0.0000\n",
       "           139050    BF랩스    2805         -530     0     NaN   0.0000\n",
       "2024-10-02 078860  엔에스이엔엠    9700           30   139     0.2   0.2000\n",
       "           016670     디모아    4725          130   286     0.2   0.2004\n",
       "           033790      피노    9090          148   148     0.2   0.1995\n",
       "           159910   스킨앤스킨     761          744  1778     0.2   0.2007\n",
       "           196170    알테오젠  336000            1     4     0.2   0.1993\n",
       "           089030     테크윙   36500          -21     0     NaN   0.0000"
      ]
     },
     "execution_count": 9,
     "metadata": {},
     "output_type": "execute_result"
    }
   ],
   "source": [
    "pf_krx.view_record(-2)"
   ]
  },
  {
   "cell_type": "code",
   "execution_count": 10,
   "id": "6a0696b3-0980-4f77-9c7d-acd7279e11f8",
   "metadata": {},
   "outputs": [
    {
     "name": "stdout",
     "output_type": "stream",
     "text": [
      "Portfolio value 6,815,572, Profit -37.2% on 2024-10-08\n"
     ]
    },
    {
     "data": {
      "image/png": "[encoded data removed]",
      "text/plain": [
       "<Figure size 1000x400 with 2 Axes>"
      ]
     },
     "metadata": {},
     "output_type": "display_data"
    }
   ],
   "source": [
    "pf_krx.valuate()"
   ]
  },
  {
   "cell_type": "code",
   "execution_count": 11,
   "id": "9c8dedc8-a17e-42a8-9d2b-46f7c5961f18",
   "metadata": {},
   "outputs": [
    {
     "data": {
      "application/vnd.jupyter.widget-view+json": {
       "model_id": "898b6b4992894df4b2c4867bb33e4c89",
       "version_major": 2,
       "version_minor": 0
      },
      "text/plain": [
       "VBox(children=(DatePicker(value=None, layout=Layout(width='200px'), step=1), IntSlider(value=0, continuous_upd…"
      ]
     },
     "execution_count": 11,
     "metadata": {},
     "output_type": "execute_result"
    }
   ],
   "source": [
    "# set kwargs of transaction_pipeline\n",
    "WidgetTransaction"
   ]
  },
  {
   "cell_type": "code",
   "execution_count": 12,
   "id": "ea55973a-431b-4796-9603-f8dfe28f140d",
   "metadata": {},
   "outputs": [
    {
     "name": "stdout",
     "output_type": "stream",
     "text": [
      "Liquidation set to None\n",
      "5 assets selected by Total return from 2023-09-08 to 2024-09-06\n",
      "Weights of assets determined by Equal weights.\n",
      "Mean absolute error of weights: 4 %\n",
      "Portfolio value 6,549,788, Profit -38.2% on 2024-10-08\n",
      "Set save=True to save transaction record\n"
     ]
    },
    {
     "data": {
      "text/html": [
       "<div>\n",
       "<style scoped>\n",
       "    .dataframe tbody tr th:only-of-type {\n",
       "        vertical-align: middle;\n",
       "    }\n",
       "\n",
       "    .dataframe tbody tr th {\n",
       "        vertical-align: top;\n",
       "    }\n",
       "\n",
       "    .dataframe thead th {\n",
       "        text-align: right;\n",
       "    }\n",
       "</style>\n",
       "<table border=\"1\" class=\"dataframe\">\n",
       "  <thead>\n",
       "    <tr style=\"text-align: right;\">\n",
       "      <th></th>\n",
       "      <th></th>\n",
       "      <th>name</th>\n",
       "      <th>price</th>\n",
       "      <th>transaction</th>\n",
       "      <th>net</th>\n",
       "      <th>weight</th>\n",
       "      <th>weight*</th>\n",
       "    </tr>\n",
       "    <tr>\n",
       "      <th>date</th>\n",
       "      <th>asset</th>\n",
       "      <th></th>\n",
       "      <th></th>\n",
       "      <th></th>\n",
       "      <th></th>\n",
       "      <th></th>\n",
       "      <th></th>\n",
       "    </tr>\n",
       "  </thead>\n",
       "  <tbody>\n",
       "    <tr>\n",
       "      <th rowspan=\"6\" valign=\"top\">2024-10-02</th>\n",
       "      <th>078860</th>\n",
       "      <td>엔에스이엔엠</td>\n",
       "      <td>9700</td>\n",
       "      <td>30</td>\n",
       "      <td>139</td>\n",
       "      <td>0.2</td>\n",
       "      <td>0.2</td>\n",
       "    </tr>\n",
       "    <tr>\n",
       "      <th>016670</th>\n",
       "      <td>디모아</td>\n",
       "      <td>4725</td>\n",
       "      <td>130</td>\n",
       "      <td>286</td>\n",
       "      <td>0.2</td>\n",
       "      <td>0.2004</td>\n",
       "    </tr>\n",
       "    <tr>\n",
       "      <th>033790</th>\n",
       "      <td>피노</td>\n",
       "      <td>9090</td>\n",
       "      <td>148</td>\n",
       "      <td>148</td>\n",
       "      <td>0.2</td>\n",
       "      <td>0.1995</td>\n",
       "    </tr>\n",
       "    <tr>\n",
       "      <th>159910</th>\n",
       "      <td>스킨앤스킨</td>\n",
       "      <td>761</td>\n",
       "      <td>744</td>\n",
       "      <td>1778</td>\n",
       "      <td>0.2</td>\n",
       "      <td>0.2007</td>\n",
       "    </tr>\n",
       "    <tr>\n",
       "      <th>196170</th>\n",
       "      <td>알테오젠</td>\n",
       "      <td>336000</td>\n",
       "      <td>1</td>\n",
       "      <td>4</td>\n",
       "      <td>0.2</td>\n",
       "      <td>0.1993</td>\n",
       "    </tr>\n",
       "    <tr>\n",
       "      <th>089030</th>\n",
       "      <td>테크윙</td>\n",
       "      <td>36500</td>\n",
       "      <td>-21</td>\n",
       "      <td>0</td>\n",
       "      <td>NaN</td>\n",
       "      <td>0.0</td>\n",
       "    </tr>\n",
       "    <tr>\n",
       "      <th rowspan=\"5\" valign=\"top\">2024-10-08</th>\n",
       "      <th>078860</th>\n",
       "      <td>None</td>\n",
       "      <td>9390</td>\n",
       "      <td>6</td>\n",
       "      <td>145</td>\n",
       "      <td>0.200</td>\n",
       "      <td>0.2079</td>\n",
       "    </tr>\n",
       "    <tr>\n",
       "      <th>016670</th>\n",
       "      <td>None</td>\n",
       "      <td>4865</td>\n",
       "      <td>-6</td>\n",
       "      <td>280</td>\n",
       "      <td>0.200</td>\n",
       "      <td>0.2080</td>\n",
       "    </tr>\n",
       "    <tr>\n",
       "      <th>033790</th>\n",
       "      <td>None</td>\n",
       "      <td>9040</td>\n",
       "      <td>2</td>\n",
       "      <td>150</td>\n",
       "      <td>0.200</td>\n",
       "      <td>0.2070</td>\n",
       "    </tr>\n",
       "    <tr>\n",
       "      <th>196170</th>\n",
       "      <td>None</td>\n",
       "      <td>369000</td>\n",
       "      <td>-1</td>\n",
       "      <td>3</td>\n",
       "      <td>0.200</td>\n",
       "      <td>0.1690</td>\n",
       "    </tr>\n",
       "    <tr>\n",
       "      <th>159910</th>\n",
       "      <td>None</td>\n",
       "      <td>734</td>\n",
       "      <td>79</td>\n",
       "      <td>1857</td>\n",
       "      <td>0.200</td>\n",
       "      <td>0.2081</td>\n",
       "    </tr>\n",
       "  </tbody>\n",
       "</table>\n",
       "</div>"
      ],
      "text/plain": [
       "                     name   price  transaction   net weight weight*\n",
       "date       asset                                                   \n",
       "2024-10-02 078860  엔에스이엔엠    9700           30   139    0.2     0.2\n",
       "           016670     디모아    4725          130   286    0.2  0.2004\n",
       "           033790      피노    9090          148   148    0.2  0.1995\n",
       "           159910   스킨앤스킨     761          744  1778    0.2  0.2007\n",
       "           196170    알테오젠  336000            1     4    0.2  0.1993\n",
       "           089030     테크윙   36500          -21     0    NaN     0.0\n",
       "2024-10-08 078860    None    9390            6   145  0.200  0.2079\n",
       "           016670    None    4865           -6   280  0.200  0.2080\n",
       "           033790    None    9040            2   150  0.200  0.2070\n",
       "           196170    None  369000           -1     3  0.200  0.1690\n",
       "           159910    None     734           79  1857  0.200  0.2081"
      ]
     },
     "execution_count": 12,
     "metadata": {},
     "output_type": "execute_result"
    }
   ],
   "source": [
    "kwargs_trs = dict(\n",
    "    date = WidgetTransaction.values(0),\n",
    "    capital = WidgetTransaction.values(1),\n",
    "    save = WidgetTransaction.values(2)\n",
    ")\n",
    "\n",
    "_ = pf_krx.transaction_pipeline(**kwargs_trs)\n",
    "pf_krx.view_record(-2)"
   ]
  },
  {
   "cell_type": "markdown",
   "id": "819496ef-539e-45bb-a0cc-b2b968b6f76e",
   "metadata": {},
   "source": [
    "## PER"
   ]
  },
  {
   "cell_type": "code",
   "execution_count": 8,
   "id": "4292bb7e-83e5-4b1f-bd4a-69029b9339c8",
   "metadata": {},
   "outputs": [
    {
     "name": "stdout",
     "output_type": "stream",
     "text": [
      "201 assets from 2021-01-04 to 2024-11-07 uploaded.\n",
      "df_prices loaded\n",
      "Transaction record to 2024-10-17 loaded\n"
     ]
    }
   ],
   "source": [
    "pf_per = PM.create_portfolio('PER', df_additional=df_ratio)"
   ]
  },
  {
   "cell_type": "code",
   "execution_count": 9,
   "id": "77027256-82a9-4fd7-89ed-b854710eae4f",
   "metadata": {},
   "outputs": [
    {
     "data": {
      "text/html": [
       "<div>\n",
       "<style scoped>\n",
       "    .dataframe tbody tr th:only-of-type {\n",
       "        vertical-align: middle;\n",
       "    }\n",
       "\n",
       "    .dataframe tbody tr th {\n",
       "        vertical-align: top;\n",
       "    }\n",
       "\n",
       "    .dataframe thead th {\n",
       "        text-align: right;\n",
       "    }\n",
       "</style>\n",
       "<table border=\"1\" class=\"dataframe\">\n",
       "  <thead>\n",
       "    <tr style=\"text-align: right;\">\n",
       "      <th></th>\n",
       "      <th></th>\n",
       "      <th>name</th>\n",
       "      <th>price</th>\n",
       "      <th>transaction</th>\n",
       "      <th>net</th>\n",
       "      <th>weight</th>\n",
       "      <th>weight*</th>\n",
       "    </tr>\n",
       "    <tr>\n",
       "      <th>date</th>\n",
       "      <th>asset</th>\n",
       "      <th></th>\n",
       "      <th></th>\n",
       "      <th></th>\n",
       "      <th></th>\n",
       "      <th></th>\n",
       "      <th></th>\n",
       "    </tr>\n",
       "  </thead>\n",
       "  <tbody>\n",
       "    <tr>\n",
       "      <th rowspan=\"5\" valign=\"top\">2024-10-17</th>\n",
       "      <th>010060</th>\n",
       "      <td>OCI홀딩스</td>\n",
       "      <td>66700</td>\n",
       "      <td>14</td>\n",
       "      <td>14</td>\n",
       "      <td>0.2</td>\n",
       "      <td>0.1892</td>\n",
       "    </tr>\n",
       "    <tr>\n",
       "      <th>003030</th>\n",
       "      <td>세아제강지주</td>\n",
       "      <td>164450</td>\n",
       "      <td>6</td>\n",
       "      <td>6</td>\n",
       "      <td>0.2</td>\n",
       "      <td>0.1999</td>\n",
       "    </tr>\n",
       "    <tr>\n",
       "      <th>009970</th>\n",
       "      <td>영원무역홀딩스</td>\n",
       "      <td>89000</td>\n",
       "      <td>11</td>\n",
       "      <td>11</td>\n",
       "      <td>0.2</td>\n",
       "      <td>0.1983</td>\n",
       "    </tr>\n",
       "    <tr>\n",
       "      <th>016380</th>\n",
       "      <td>KG스틸</td>\n",
       "      <td>6600</td>\n",
       "      <td>154</td>\n",
       "      <td>154</td>\n",
       "      <td>0.2</td>\n",
       "      <td>0.2059</td>\n",
       "    </tr>\n",
       "    <tr>\n",
       "      <th>047040</th>\n",
       "      <td>대우건설</td>\n",
       "      <td>3820</td>\n",
       "      <td>267</td>\n",
       "      <td>267</td>\n",
       "      <td>0.2</td>\n",
       "      <td>0.2066</td>\n",
       "    </tr>\n",
       "  </tbody>\n",
       "</table>\n",
       "</div>"
      ],
      "text/plain": [
       "                      name   price  transaction  net  weight  weight*\n",
       "date       asset                                                     \n",
       "2024-10-17 010060   OCI홀딩스   66700           14   14     0.2   0.1892\n",
       "           003030   세아제강지주  164450            6    6     0.2   0.1999\n",
       "           009970  영원무역홀딩스   89000           11   11     0.2   0.1983\n",
       "           016380     KG스틸    6600          154  154     0.2   0.2059\n",
       "           047040     대우건설    3820          267  267     0.2   0.2066"
      ]
     },
     "execution_count": 9,
     "metadata": {},
     "output_type": "execute_result"
    }
   ],
   "source": [
    "pf_per.view_record(-2)"
   ]
  },
  {
   "cell_type": "code",
   "execution_count": 10,
   "id": "26a53806",
   "metadata": {},
   "outputs": [
    {
     "name": "stdout",
     "output_type": "stream",
     "text": [
      "Portfolio value 4,971,790, Profit 0.7% on 2024-11-07\n"
     ]
    },
    {
     "data": {
      "image/png": "[encoded data removed]",
      "text/plain": [
       "<Figure size 1000x400 with 2 Axes>"
      ]
     },
     "metadata": {},
     "output_type": "display_data"
    }
   ],
   "source": [
    "pf_per.valuate()"
   ]
  },
  {
   "cell_type": "code",
   "execution_count": 11,
   "id": "f5d92ef5-2650-475f-9bf0-b19e540776c4",
   "metadata": {},
   "outputs": [
    {
     "data": {
      "image/png": "[encoded data removed]",
      "text/plain": [
       "<Figure size 1000x400 with 2 Axes>"
      ]
     },
     "metadata": {},
     "output_type": "display_data"
    }
   ],
   "source": [
    "_ = pf_per.check_additional(plot=True, figsize=(10,4))"
   ]
  },
  {
   "cell_type": "code",
   "execution_count": 12,
   "id": "55d460f4",
   "metadata": {},
   "outputs": [
    {
     "data": {
      "application/vnd.jupyter.widget-view+json": {
       "model_id": "81ef2930fcf941278dc94c972805b0f6",
       "version_major": 2,
       "version_minor": 0
      },
      "text/plain": [
       "VBox(children=(DatePicker(value=None, layout=Layout(width='200px'), step=1), IntSlider(value=0, continuous_upd…"
      ]
     },
     "execution_count": 12,
     "metadata": {},
     "output_type": "execute_result"
    }
   ],
   "source": [
    "# set kwargs of transaction_pipeline\n",
    "WidgetTransaction"
   ]
  },
  {
   "cell_type": "code",
   "execution_count": 13,
   "id": "52665cf9",
   "metadata": {},
   "outputs": [
    {
     "name": "stdout",
     "output_type": "stream",
     "text": [
      "Liquidation set to None\n",
      "20 assets selected by Financial Ratio from 2024-09-09 to 2024-11-07\n",
      "Weights of assets determined by Equal weights.\n",
      "Mean absolute error of weights: 9 %\n",
      "Portfolio value 4,534,780, Profit 0.8% on 2024-11-07\n",
      "Set save=True to save transaction record\n"
     ]
    },
    {
     "data": {
      "text/html": [
       "<div>\n",
       "<style scoped>\n",
       "    .dataframe tbody tr th:only-of-type {\n",
       "        vertical-align: middle;\n",
       "    }\n",
       "\n",
       "    .dataframe tbody tr th {\n",
       "        vertical-align: top;\n",
       "    }\n",
       "\n",
       "    .dataframe thead th {\n",
       "        text-align: right;\n",
       "    }\n",
       "</style>\n",
       "<table border=\"1\" class=\"dataframe\">\n",
       "  <thead>\n",
       "    <tr style=\"text-align: right;\">\n",
       "      <th></th>\n",
       "      <th></th>\n",
       "      <th>name</th>\n",
       "      <th>price</th>\n",
       "      <th>transaction</th>\n",
       "      <th>net</th>\n",
       "      <th>weight</th>\n",
       "      <th>weight*</th>\n",
       "    </tr>\n",
       "    <tr>\n",
       "      <th>date</th>\n",
       "      <th>asset</th>\n",
       "      <th></th>\n",
       "      <th></th>\n",
       "      <th></th>\n",
       "      <th></th>\n",
       "      <th></th>\n",
       "      <th></th>\n",
       "    </tr>\n",
       "  </thead>\n",
       "  <tbody>\n",
       "    <tr>\n",
       "      <th rowspan=\"5\" valign=\"top\">2024-10-17</th>\n",
       "      <th>010060</th>\n",
       "      <td>OCI홀딩스</td>\n",
       "      <td>66700</td>\n",
       "      <td>14</td>\n",
       "      <td>14</td>\n",
       "      <td>0.2</td>\n",
       "      <td>0.1892</td>\n",
       "    </tr>\n",
       "    <tr>\n",
       "      <th>003030</th>\n",
       "      <td>세아제강지주</td>\n",
       "      <td>164450</td>\n",
       "      <td>6</td>\n",
       "      <td>6</td>\n",
       "      <td>0.2</td>\n",
       "      <td>0.1999</td>\n",
       "    </tr>\n",
       "    <tr>\n",
       "      <th>009970</th>\n",
       "      <td>영원무역홀딩스</td>\n",
       "      <td>89000</td>\n",
       "      <td>11</td>\n",
       "      <td>11</td>\n",
       "      <td>0.2</td>\n",
       "      <td>0.1983</td>\n",
       "    </tr>\n",
       "    <tr>\n",
       "      <th>016380</th>\n",
       "      <td>KG스틸</td>\n",
       "      <td>6600</td>\n",
       "      <td>154</td>\n",
       "      <td>154</td>\n",
       "      <td>0.2</td>\n",
       "      <td>0.2059</td>\n",
       "    </tr>\n",
       "    <tr>\n",
       "      <th>047040</th>\n",
       "      <td>대우건설</td>\n",
       "      <td>3820</td>\n",
       "      <td>267</td>\n",
       "      <td>267</td>\n",
       "      <td>0.2</td>\n",
       "      <td>0.2066</td>\n",
       "    </tr>\n",
       "    <tr>\n",
       "      <th rowspan=\"20\" valign=\"top\">2024-11-07</th>\n",
       "      <th>010060</th>\n",
       "      <td>OCI홀딩스</td>\n",
       "      <td>61100</td>\n",
       "      <td>-10</td>\n",
       "      <td>4</td>\n",
       "      <td>0.050</td>\n",
       "      <td>0.0539</td>\n",
       "    </tr>\n",
       "    <tr>\n",
       "      <th>003030</th>\n",
       "      <td>세아제강지주</td>\n",
       "      <td>185600</td>\n",
       "      <td>-5</td>\n",
       "      <td>1</td>\n",
       "      <td>0.050</td>\n",
       "      <td>0.0409</td>\n",
       "    </tr>\n",
       "    <tr>\n",
       "      <th>009970</th>\n",
       "      <td>영원무역홀딩스</td>\n",
       "      <td>87300</td>\n",
       "      <td>-9</td>\n",
       "      <td>2</td>\n",
       "      <td>0.050</td>\n",
       "      <td>0.0385</td>\n",
       "    </tr>\n",
       "    <tr>\n",
       "      <th>016380</th>\n",
       "      <td>KG스틸</td>\n",
       "      <td>6900</td>\n",
       "      <td>-118</td>\n",
       "      <td>36</td>\n",
       "      <td>0.050</td>\n",
       "      <td>0.0548</td>\n",
       "    </tr>\n",
       "    <tr>\n",
       "      <th>047040</th>\n",
       "      <td>대우건설</td>\n",
       "      <td>3670</td>\n",
       "      <td>-200</td>\n",
       "      <td>67</td>\n",
       "      <td>0.050</td>\n",
       "      <td>0.0542</td>\n",
       "    </tr>\n",
       "    <tr>\n",
       "      <th>088350</th>\n",
       "      <td>한화생명</td>\n",
       "      <td>2930</td>\n",
       "      <td>84</td>\n",
       "      <td>84</td>\n",
       "      <td>0.050</td>\n",
       "      <td>0.0543</td>\n",
       "    </tr>\n",
       "    <tr>\n",
       "      <th>078930</th>\n",
       "      <td>GS</td>\n",
       "      <td>42500</td>\n",
       "      <td>5</td>\n",
       "      <td>5</td>\n",
       "      <td>0.050</td>\n",
       "      <td>0.0469</td>\n",
       "    </tr>\n",
       "    <tr>\n",
       "      <th>111770</th>\n",
       "      <td>영원무역</td>\n",
       "      <td>41950</td>\n",
       "      <td>5</td>\n",
       "      <td>5</td>\n",
       "      <td>0.050</td>\n",
       "      <td>0.0463</td>\n",
       "    </tr>\n",
       "    <tr>\n",
       "      <th>139130</th>\n",
       "      <td>DGB금융지주</td>\n",
       "      <td>8240</td>\n",
       "      <td>30</td>\n",
       "      <td>30</td>\n",
       "      <td>0.050</td>\n",
       "      <td>0.0545</td>\n",
       "    </tr>\n",
       "    <tr>\n",
       "      <th>005830</th>\n",
       "      <td>DB손해보험</td>\n",
       "      <td>109500</td>\n",
       "      <td>2</td>\n",
       "      <td>2</td>\n",
       "      <td>0.050</td>\n",
       "      <td>0.0483</td>\n",
       "    </tr>\n",
       "    <tr>\n",
       "      <th>001450</th>\n",
       "      <td>현대해상</td>\n",
       "      <td>30450</td>\n",
       "      <td>8</td>\n",
       "      <td>8</td>\n",
       "      <td>0.050</td>\n",
       "      <td>0.0537</td>\n",
       "    </tr>\n",
       "    <tr>\n",
       "      <th>009900</th>\n",
       "      <td>명신산업</td>\n",
       "      <td>14350</td>\n",
       "      <td>17</td>\n",
       "      <td>17</td>\n",
       "      <td>0.050</td>\n",
       "      <td>0.0538</td>\n",
       "    </tr>\n",
       "    <tr>\n",
       "      <th>241560</th>\n",
       "      <td>두산밥캣</td>\n",
       "      <td>40100</td>\n",
       "      <td>6</td>\n",
       "      <td>6</td>\n",
       "      <td>0.050</td>\n",
       "      <td>0.0531</td>\n",
       "    </tr>\n",
       "    <tr>\n",
       "      <th>000270</th>\n",
       "      <td>기아</td>\n",
       "      <td>94000</td>\n",
       "      <td>2</td>\n",
       "      <td>2</td>\n",
       "      <td>0.050</td>\n",
       "      <td>0.0415</td>\n",
       "    </tr>\n",
       "    <tr>\n",
       "      <th>024110</th>\n",
       "      <td>기업은행</td>\n",
       "      <td>14670</td>\n",
       "      <td>16</td>\n",
       "      <td>16</td>\n",
       "      <td>0.050</td>\n",
       "      <td>0.0518</td>\n",
       "    </tr>\n",
       "    <tr>\n",
       "      <th>005850</th>\n",
       "      <td>에스엘</td>\n",
       "      <td>31950</td>\n",
       "      <td>7</td>\n",
       "      <td>7</td>\n",
       "      <td>0.050</td>\n",
       "      <td>0.0493</td>\n",
       "    </tr>\n",
       "    <tr>\n",
       "      <th>316140</th>\n",
       "      <td>우리금융지주</td>\n",
       "      <td>16120</td>\n",
       "      <td>15</td>\n",
       "      <td>15</td>\n",
       "      <td>0.050</td>\n",
       "      <td>0.0533</td>\n",
       "    </tr>\n",
       "    <tr>\n",
       "      <th>138930</th>\n",
       "      <td>BNK금융지주</td>\n",
       "      <td>9620</td>\n",
       "      <td>25</td>\n",
       "      <td>25</td>\n",
       "      <td>0.050</td>\n",
       "      <td>0.0530</td>\n",
       "    </tr>\n",
       "    <tr>\n",
       "      <th>005380</th>\n",
       "      <td>현대차</td>\n",
       "      <td>207500</td>\n",
       "      <td>1</td>\n",
       "      <td>1</td>\n",
       "      <td>0.050</td>\n",
       "      <td>0.0458</td>\n",
       "    </tr>\n",
       "    <tr>\n",
       "      <th>017800</th>\n",
       "      <td>현대엘리베이</td>\n",
       "      <td>47400</td>\n",
       "      <td>5</td>\n",
       "      <td>5</td>\n",
       "      <td>0.050</td>\n",
       "      <td>0.0523</td>\n",
       "    </tr>\n",
       "  </tbody>\n",
       "</table>\n",
       "</div>"
      ],
      "text/plain": [
       "                      name   price  transaction  net weight weight*\n",
       "date       asset                                                   \n",
       "2024-10-17 010060   OCI홀딩스   66700           14   14    0.2  0.1892\n",
       "           003030   세아제강지주  164450            6    6    0.2  0.1999\n",
       "           009970  영원무역홀딩스   89000           11   11    0.2  0.1983\n",
       "           016380     KG스틸    6600          154  154    0.2  0.2059\n",
       "           047040     대우건설    3820          267  267    0.2  0.2066\n",
       "2024-11-07 010060   OCI홀딩스   61100          -10    4  0.050  0.0539\n",
       "           003030   세아제강지주  185600           -5    1  0.050  0.0409\n",
       "           009970  영원무역홀딩스   87300           -9    2  0.050  0.0385\n",
       "           016380     KG스틸    6900         -118   36  0.050  0.0548\n",
       "           047040     대우건설    3670         -200   67  0.050  0.0542\n",
       "           088350     한화생명    2930           84   84  0.050  0.0543\n",
       "           078930       GS   42500            5    5  0.050  0.0469\n",
       "           111770     영원무역   41950            5    5  0.050  0.0463\n",
       "           139130  DGB금융지주    8240           30   30  0.050  0.0545\n",
       "           005830   DB손해보험  109500            2    2  0.050  0.0483\n",
       "           001450     현대해상   30450            8    8  0.050  0.0537\n",
       "           009900     명신산업   14350           17   17  0.050  0.0538\n",
       "           241560     두산밥캣   40100            6    6  0.050  0.0531\n",
       "           000270       기아   94000            2    2  0.050  0.0415\n",
       "           024110     기업은행   14670           16   16  0.050  0.0518\n",
       "           005850      에스엘   31950            7    7  0.050  0.0493\n",
       "           316140   우리금융지주   16120           15   15  0.050  0.0533\n",
       "           138930  BNK금융지주    9620           25   25  0.050  0.0530\n",
       "           005380      현대차  207500            1    1  0.050  0.0458\n",
       "           017800   현대엘리베이   47400            5    5  0.050  0.0523"
      ]
     },
     "execution_count": 13,
     "metadata": {},
     "output_type": "execute_result"
    }
   ],
   "source": [
    "kwargs_trs = dict(\n",
    "    date = WidgetTransaction.values(0),\n",
    "    capital = WidgetTransaction.values(1),\n",
    "    save = WidgetTransaction.values(2)\n",
    ")\n",
    "\n",
    "_ = pf_per.transaction_pipeline(**kwargs_trs)\n",
    "pf_per.view_record(-2)"
   ]
  },
  {
   "cell_type": "code",
   "execution_count": 25,
   "id": "5d74a201-f15b-4912-8189-08b9a823fd5a",
   "metadata": {},
   "outputs": [],
   "source": [
    "#pf_per.update_record()"
   ]
  },
  {
   "cell_type": "markdown",
   "id": "c7cd959d-e330-4d8c-9f6b-a277b01e94f5",
   "metadata": {},
   "source": [
    "## WTR\n",
    "*modified all weather*"
   ]
  },
  {
   "cell_type": "code",
   "execution_count": 26,
   "id": "50f9b112-975e-4b42-baf9-8b813ac33723",
   "metadata": {},
   "outputs": [
    {
     "name": "stdout",
     "output_type": "stream",
     "text": [
      "6 assets from 2021-01-04 to 2024-11-07 uploaded.\n",
      "df_prices loaded\n",
      "Transaction record to 2024-07-18 loaded\n"
     ]
    }
   ],
   "source": [
    "pf_wtr = PM.create_portfolio('WTR')"
   ]
  },
  {
   "cell_type": "code",
   "execution_count": 27,
   "id": "2f2046bd-5dbb-43c1-a730-2db9cfff293a",
   "metadata": {},
   "outputs": [
    {
     "name": "stdout",
     "output_type": "stream",
     "text": [
      "Portfolio value 9,820,900, Profit 0.0% on 2024-11-07\n"
     ]
    },
    {
     "data": {
      "image/png": "[encoded data removed]",
      "text/plain": [
       "<Figure size 1000x400 with 2 Axes>"
      ]
     },
     "metadata": {},
     "output_type": "display_data"
    }
   ],
   "source": [
    "pf_wtr.valuate()"
   ]
  },
  {
   "cell_type": "code",
   "execution_count": 28,
   "id": "74abca3f-6864-4a0d-a760-ac41728e35b6",
   "metadata": {},
   "outputs": [
    {
     "data": {
      "text/html": [
       "<div>\n",
       "<style scoped>\n",
       "    .dataframe tbody tr th:only-of-type {\n",
       "        vertical-align: middle;\n",
       "    }\n",
       "\n",
       "    .dataframe tbody tr th {\n",
       "        vertical-align: top;\n",
       "    }\n",
       "\n",
       "    .dataframe thead th {\n",
       "        text-align: right;\n",
       "    }\n",
       "</style>\n",
       "<table border=\"1\" class=\"dataframe\">\n",
       "  <thead>\n",
       "    <tr style=\"text-align: right;\">\n",
       "      <th></th>\n",
       "      <th>WTR</th>\n",
       "    </tr>\n",
       "  </thead>\n",
       "  <tbody>\n",
       "    <tr>\n",
       "      <th>start</th>\n",
       "      <td>2024-07-18</td>\n",
       "    </tr>\n",
       "    <tr>\n",
       "      <th>end</th>\n",
       "      <td>2024-11-07</td>\n",
       "    </tr>\n",
       "    <tr>\n",
       "      <th>total_return</th>\n",
       "      <td>0.001331</td>\n",
       "    </tr>\n",
       "    <tr>\n",
       "      <th>cagr</th>\n",
       "      <td>0.004348</td>\n",
       "    </tr>\n",
       "    <tr>\n",
       "      <th>calmar</th>\n",
       "      <td>0.106734</td>\n",
       "    </tr>\n",
       "    <tr>\n",
       "      <th>max_drawdown</th>\n",
       "      <td>-0.040734</td>\n",
       "    </tr>\n",
       "    <tr>\n",
       "      <th>avg_drawdown</th>\n",
       "      <td>-0.020823</td>\n",
       "    </tr>\n",
       "    <tr>\n",
       "      <th>avg_drawdown_days</th>\n",
       "      <td>35.333333</td>\n",
       "    </tr>\n",
       "    <tr>\n",
       "      <th>daily_vol</th>\n",
       "      <td>0.083926</td>\n",
       "    </tr>\n",
       "    <tr>\n",
       "      <th>daily_sharpe</th>\n",
       "      <td>0.096314</td>\n",
       "    </tr>\n",
       "    <tr>\n",
       "      <th>daily_sortino</th>\n",
       "      <td>0.134233</td>\n",
       "    </tr>\n",
       "    <tr>\n",
       "      <th>monthly_vol</th>\n",
       "      <td>0.068718</td>\n",
       "    </tr>\n",
       "    <tr>\n",
       "      <th>monthly_sharpe</th>\n",
       "      <td>0.635462</td>\n",
       "    </tr>\n",
       "    <tr>\n",
       "      <th>monthly_sortino</th>\n",
       "      <td>2.616087</td>\n",
       "    </tr>\n",
       "  </tbody>\n",
       "</table>\n",
       "</div>"
      ],
      "text/plain": [
       "                          WTR\n",
       "start              2024-07-18\n",
       "end                2024-11-07\n",
       "total_return         0.001331\n",
       "cagr                 0.004348\n",
       "calmar               0.106734\n",
       "max_drawdown        -0.040734\n",
       "avg_drawdown        -0.020823\n",
       "avg_drawdown_days   35.333333\n",
       "daily_vol            0.083926\n",
       "daily_sharpe         0.096314\n",
       "daily_sortino        0.134233\n",
       "monthly_vol          0.068718\n",
       "monthly_sharpe       0.635462\n",
       "monthly_sortino      2.616087"
      ]
     },
     "execution_count": 28,
     "metadata": {},
     "output_type": "execute_result"
    }
   ],
   "source": [
    "pf_wtr.performance(metrics=METRICS)"
   ]
  },
  {
   "cell_type": "code",
   "execution_count": 29,
   "id": "d05fbd06-1222-431d-8fc9-6c385c40f20c",
   "metadata": {},
   "outputs": [
    {
     "data": {
      "application/vnd.jupyter.widget-view+json": {
       "model_id": "898b6b4992894df4b2c4867bb33e4c89",
       "version_major": 2,
       "version_minor": 0
      },
      "text/plain": [
       "VBox(children=(DatePicker(value=None, layout=Layout(width='200px'), step=1), IntSlider(value=0, continuous_upd…"
      ]
     },
     "execution_count": 29,
     "metadata": {},
     "output_type": "execute_result"
    }
   ],
   "source": [
    "# set kwargs of transaction_pipeline\n",
    "WidgetTransaction"
   ]
  },
  {
   "cell_type": "code",
   "execution_count": 30,
   "id": "1a593c5d-812f-4f2e-81b4-6ecc7f97e65f",
   "metadata": {},
   "outputs": [
    {
     "name": "stdout",
     "output_type": "stream",
     "text": [
      "Liquidation set to None\n",
      "6 assets selected by All from 2024-11-07 to 2024-11-07\n",
      "Weights of assets determined by Equal weights.\n",
      "Mean absolute error of weights: 1 %\n",
      "Portfolio value 9,720,820, Profit 0.0% on 2024-11-07\n",
      "Set save=True to save transaction record\n"
     ]
    },
    {
     "data": {
      "text/html": [
       "<div>\n",
       "<style scoped>\n",
       "    .dataframe tbody tr th:only-of-type {\n",
       "        vertical-align: middle;\n",
       "    }\n",
       "\n",
       "    .dataframe tbody tr th {\n",
       "        vertical-align: top;\n",
       "    }\n",
       "\n",
       "    .dataframe thead th {\n",
       "        text-align: right;\n",
       "    }\n",
       "</style>\n",
       "<table border=\"1\" class=\"dataframe\">\n",
       "  <thead>\n",
       "    <tr style=\"text-align: right;\">\n",
       "      <th></th>\n",
       "      <th></th>\n",
       "      <th>name</th>\n",
       "      <th>price</th>\n",
       "      <th>transaction</th>\n",
       "      <th>net</th>\n",
       "      <th>weight</th>\n",
       "      <th>weight*</th>\n",
       "    </tr>\n",
       "    <tr>\n",
       "      <th>date</th>\n",
       "      <th>asset</th>\n",
       "      <th></th>\n",
       "      <th></th>\n",
       "      <th></th>\n",
       "      <th></th>\n",
       "      <th></th>\n",
       "      <th></th>\n",
       "    </tr>\n",
       "  </thead>\n",
       "  <tbody>\n",
       "    <tr>\n",
       "      <th rowspan=\"6\" valign=\"top\">2024-07-18</th>\n",
       "      <th>069500</th>\n",
       "      <td>KODEX 200</td>\n",
       "      <td>39085</td>\n",
       "      <td>42</td>\n",
       "      <td>42</td>\n",
       "      <td>0.167</td>\n",
       "      <td>0.167</td>\n",
       "    </tr>\n",
       "    <tr>\n",
       "      <th>273130</th>\n",
       "      <td>KODEX 종합채권(AA-이상)액티브</td>\n",
       "      <td>112895</td>\n",
       "      <td>14</td>\n",
       "      <td>14</td>\n",
       "      <td>0.167</td>\n",
       "      <td>0.161</td>\n",
       "    </tr>\n",
       "    <tr>\n",
       "      <th>148070</th>\n",
       "      <td>KOSEF 국고채10년</td>\n",
       "      <td>114910</td>\n",
       "      <td>14</td>\n",
       "      <td>14</td>\n",
       "      <td>0.167</td>\n",
       "      <td>0.164</td>\n",
       "    </tr>\n",
       "    <tr>\n",
       "      <th>379800</th>\n",
       "      <td>KODEX 미국S&amp;P500TR</td>\n",
       "      <td>17625</td>\n",
       "      <td>94</td>\n",
       "      <td>94</td>\n",
       "      <td>0.167</td>\n",
       "      <td>0.169</td>\n",
       "    </tr>\n",
       "    <tr>\n",
       "      <th>411060</th>\n",
       "      <td>ACE KRX금현물</td>\n",
       "      <td>15715</td>\n",
       "      <td>106</td>\n",
       "      <td>106</td>\n",
       "      <td>0.167</td>\n",
       "      <td>0.17</td>\n",
       "    </tr>\n",
       "    <tr>\n",
       "      <th>284430</th>\n",
       "      <td>KODEX 200미국채혼합</td>\n",
       "      <td>13440</td>\n",
       "      <td>124</td>\n",
       "      <td>124</td>\n",
       "      <td>0.167</td>\n",
       "      <td>0.17</td>\n",
       "    </tr>\n",
       "    <tr>\n",
       "      <th rowspan=\"6\" valign=\"top\">2024-11-07</th>\n",
       "      <th>069500</th>\n",
       "      <td>KODEX 200</td>\n",
       "      <td>34120</td>\n",
       "      <td>5</td>\n",
       "      <td>47</td>\n",
       "      <td>0.167</td>\n",
       "      <td>0.1650</td>\n",
       "    </tr>\n",
       "    <tr>\n",
       "      <th>273130</th>\n",
       "      <td>KODEX 종합채권(AA-이상)액티브</td>\n",
       "      <td>114425</td>\n",
       "      <td>0</td>\n",
       "      <td>14</td>\n",
       "      <td>0.167</td>\n",
       "      <td>0.1648</td>\n",
       "    </tr>\n",
       "    <tr>\n",
       "      <th>148070</th>\n",
       "      <td>KOSEF 국고채10년</td>\n",
       "      <td>116145</td>\n",
       "      <td>0</td>\n",
       "      <td>14</td>\n",
       "      <td>0.167</td>\n",
       "      <td>0.1673</td>\n",
       "    </tr>\n",
       "    <tr>\n",
       "      <th>379800</th>\n",
       "      <td>KODEX 미국S&amp;P500TR</td>\n",
       "      <td>18920</td>\n",
       "      <td>-8</td>\n",
       "      <td>86</td>\n",
       "      <td>0.167</td>\n",
       "      <td>0.1674</td>\n",
       "    </tr>\n",
       "    <tr>\n",
       "      <th>411060</th>\n",
       "      <td>ACE KRX금현물</td>\n",
       "      <td>17020</td>\n",
       "      <td>-10</td>\n",
       "      <td>96</td>\n",
       "      <td>0.167</td>\n",
       "      <td>0.1681</td>\n",
       "    </tr>\n",
       "    <tr>\n",
       "      <th>284430</th>\n",
       "      <td>KODEX 200미국채혼합</td>\n",
       "      <td>12720</td>\n",
       "      <td>4</td>\n",
       "      <td>128</td>\n",
       "      <td>0.167</td>\n",
       "      <td>0.1675</td>\n",
       "    </tr>\n",
       "  </tbody>\n",
       "</table>\n",
       "</div>"
      ],
      "text/plain": [
       "                                   name   price  transaction  net weight  \\\n",
       "date       asset                                                           \n",
       "2024-07-18 069500             KODEX 200   39085           42   42  0.167   \n",
       "           273130  KODEX 종합채권(AA-이상)액티브  112895           14   14  0.167   \n",
       "           148070          KOSEF 국고채10년  114910           14   14  0.167   \n",
       "           379800      KODEX 미국S&P500TR   17625           94   94  0.167   \n",
       "           411060            ACE KRX금현물   15715          106  106  0.167   \n",
       "           284430        KODEX 200미국채혼합   13440          124  124  0.167   \n",
       "2024-11-07 069500             KODEX 200   34120            5   47  0.167   \n",
       "           273130  KODEX 종합채권(AA-이상)액티브  114425            0   14  0.167   \n",
       "           148070          KOSEF 국고채10년  116145            0   14  0.167   \n",
       "           379800      KODEX 미국S&P500TR   18920           -8   86  0.167   \n",
       "           411060            ACE KRX금현물   17020          -10   96  0.167   \n",
       "           284430        KODEX 200미국채혼합   12720            4  128  0.167   \n",
       "\n",
       "                  weight*  \n",
       "date       asset           \n",
       "2024-07-18 069500   0.167  \n",
       "           273130   0.161  \n",
       "           148070   0.164  \n",
       "           379800   0.169  \n",
       "           411060    0.17  \n",
       "           284430    0.17  \n",
       "2024-11-07 069500  0.1650  \n",
       "           273130  0.1648  \n",
       "           148070  0.1673  \n",
       "           379800  0.1674  \n",
       "           411060  0.1681  \n",
       "           284430  0.1675  "
      ]
     },
     "execution_count": 30,
     "metadata": {},
     "output_type": "execute_result"
    }
   ],
   "source": [
    "kwargs = dict(\n",
    "    date = WidgetTransaction.values(0),\n",
    "    capital = WidgetTransaction.values(1),\n",
    "    save = WidgetTransaction.values(2)\n",
    ")\n",
    "_ = pf_wtr.transaction_pipeline(**kwargs)\n",
    "pf_wtr.view_record(-2)"
   ]
  },
  {
   "cell_type": "markdown",
   "id": "94702c06-6391-4b00-97f2-19c1b321fa44",
   "metadata": {},
   "source": [
    "## LIQ"
   ]
  },
  {
   "cell_type": "code",
   "execution_count": 31,
   "id": "1ca82b1e-c1c8-4f38-807e-509bc054169c",
   "metadata": {},
   "outputs": [
    {
     "name": "stdout",
     "output_type": "stream",
     "text": [
      "24 assets from 2021-01-04 to 2024-11-07 uploaded.\n",
      "df_prices loaded\n",
      "Transaction record to 2024-01-03 loaded\n"
     ]
    }
   ],
   "source": [
    "pf_liq = PM.create_portfolio('LIQ')"
   ]
  },
  {
   "cell_type": "code",
   "execution_count": 32,
   "id": "0a35f0aa-697e-47a2-87bd-6ccba7e6a605",
   "metadata": {},
   "outputs": [
    {
     "name": "stdout",
     "output_type": "stream",
     "text": [
      "Portfolio value 3,266,481, Profit -50.8% on 2024-11-07\n"
     ]
    },
    {
     "data": {
      "image/png": "[encoded data removed]",
      "text/plain": [
       "<Figure size 1000x400 with 2 Axes>"
      ]
     },
     "metadata": {},
     "output_type": "display_data"
    }
   ],
   "source": [
    "#date=None\n",
    "date='2024-07-01'\n",
    "pf_liq.valuate(start_date=date)"
   ]
  },
  {
   "cell_type": "code",
   "execution_count": 33,
   "id": "4f77cbab-5980-46cc-a0a6-45df9bdb0da7",
   "metadata": {},
   "outputs": [
    {
     "data": {
      "text/html": [
       "<div>\n",
       "<style scoped>\n",
       "    .dataframe tbody tr th:only-of-type {\n",
       "        vertical-align: middle;\n",
       "    }\n",
       "\n",
       "    .dataframe tbody tr th {\n",
       "        vertical-align: top;\n",
       "    }\n",
       "\n",
       "    .dataframe thead th {\n",
       "        text-align: right;\n",
       "    }\n",
       "</style>\n",
       "<table border=\"1\" class=\"dataframe\">\n",
       "  <thead>\n",
       "    <tr style=\"text-align: right;\">\n",
       "      <th></th>\n",
       "      <th></th>\n",
       "      <th>name</th>\n",
       "      <th>price</th>\n",
       "      <th>transaction</th>\n",
       "      <th>net</th>\n",
       "      <th>weight</th>\n",
       "      <th>weight*</th>\n",
       "    </tr>\n",
       "    <tr>\n",
       "      <th>date</th>\n",
       "      <th>asset</th>\n",
       "      <th></th>\n",
       "      <th></th>\n",
       "      <th></th>\n",
       "      <th></th>\n",
       "      <th></th>\n",
       "      <th></th>\n",
       "    </tr>\n",
       "  </thead>\n",
       "  <tbody>\n",
       "    <tr>\n",
       "      <th rowspan=\"24\" valign=\"top\">2024-01-03</th>\n",
       "      <th>011780</th>\n",
       "      <td>금호석유</td>\n",
       "      <td>171000</td>\n",
       "      <td>2</td>\n",
       "      <td>2</td>\n",
       "      <td>NaN</td>\n",
       "      <td>0.0515</td>\n",
       "    </tr>\n",
       "    <tr>\n",
       "      <th>066570</th>\n",
       "      <td>LG전자</td>\n",
       "      <td>122500</td>\n",
       "      <td>2</td>\n",
       "      <td>2</td>\n",
       "      <td>NaN</td>\n",
       "      <td>0.0369</td>\n",
       "    </tr>\n",
       "    <tr>\n",
       "      <th>035890</th>\n",
       "      <td>서희건설</td>\n",
       "      <td>1800</td>\n",
       "      <td>166</td>\n",
       "      <td>166</td>\n",
       "      <td>NaN</td>\n",
       "      <td>0.0450</td>\n",
       "    </tr>\n",
       "    <tr>\n",
       "      <th>040420</th>\n",
       "      <td>정상제이엘에스</td>\n",
       "      <td>7970</td>\n",
       "      <td>37</td>\n",
       "      <td>37</td>\n",
       "      <td>NaN</td>\n",
       "      <td>0.0444</td>\n",
       "    </tr>\n",
       "    <tr>\n",
       "      <th>140520</th>\n",
       "      <td>대창스틸</td>\n",
       "      <td>3250</td>\n",
       "      <td>90</td>\n",
       "      <td>90</td>\n",
       "      <td>NaN</td>\n",
       "      <td>0.0440</td>\n",
       "    </tr>\n",
       "    <tr>\n",
       "      <th>072990</th>\n",
       "      <td>에이치시티</td>\n",
       "      <td>15900</td>\n",
       "      <td>18</td>\n",
       "      <td>18</td>\n",
       "      <td>NaN</td>\n",
       "      <td>0.0431</td>\n",
       "    </tr>\n",
       "    <tr>\n",
       "      <th>091580</th>\n",
       "      <td>상신이디피</td>\n",
       "      <td>16800</td>\n",
       "      <td>18</td>\n",
       "      <td>18</td>\n",
       "      <td>NaN</td>\n",
       "      <td>0.0455</td>\n",
       "    </tr>\n",
       "    <tr>\n",
       "      <th>011200</th>\n",
       "      <td>HMM</td>\n",
       "      <td>26350</td>\n",
       "      <td>11</td>\n",
       "      <td>11</td>\n",
       "      <td>NaN</td>\n",
       "      <td>0.0436</td>\n",
       "    </tr>\n",
       "    <tr>\n",
       "      <th>002220</th>\n",
       "      <td>한일철강</td>\n",
       "      <td>3130</td>\n",
       "      <td>95</td>\n",
       "      <td>95</td>\n",
       "      <td>NaN</td>\n",
       "      <td>0.0448</td>\n",
       "    </tr>\n",
       "    <tr>\n",
       "      <th>006650</th>\n",
       "      <td>대한유화</td>\n",
       "      <td>181500</td>\n",
       "      <td>1</td>\n",
       "      <td>1</td>\n",
       "      <td>NaN</td>\n",
       "      <td>0.0273</td>\n",
       "    </tr>\n",
       "    <tr>\n",
       "      <th>136490</th>\n",
       "      <td>선진</td>\n",
       "      <td>12700</td>\n",
       "      <td>23</td>\n",
       "      <td>23</td>\n",
       "      <td>NaN</td>\n",
       "      <td>0.0440</td>\n",
       "    </tr>\n",
       "    <tr>\n",
       "      <th>064550</th>\n",
       "      <td>바이오니아</td>\n",
       "      <td>49650</td>\n",
       "      <td>6</td>\n",
       "      <td>6</td>\n",
       "      <td>NaN</td>\n",
       "      <td>0.0449</td>\n",
       "    </tr>\n",
       "    <tr>\n",
       "      <th>460860</th>\n",
       "      <td>동국제강</td>\n",
       "      <td>18723</td>\n",
       "      <td>8</td>\n",
       "      <td>8</td>\n",
       "      <td>NaN</td>\n",
       "      <td>0.0226</td>\n",
       "    </tr>\n",
       "    <tr>\n",
       "      <th>040910</th>\n",
       "      <td>아이씨디</td>\n",
       "      <td>12200</td>\n",
       "      <td>24</td>\n",
       "      <td>24</td>\n",
       "      <td>NaN</td>\n",
       "      <td>0.0441</td>\n",
       "    </tr>\n",
       "    <tr>\n",
       "      <th>024950</th>\n",
       "      <td>삼천리자전거</td>\n",
       "      <td>9770</td>\n",
       "      <td>30</td>\n",
       "      <td>30</td>\n",
       "      <td>NaN</td>\n",
       "      <td>0.0441</td>\n",
       "    </tr>\n",
       "    <tr>\n",
       "      <th>900070</th>\n",
       "      <td>글로벌에스엠</td>\n",
       "      <td>1080</td>\n",
       "      <td>277</td>\n",
       "      <td>277</td>\n",
       "      <td>NaN</td>\n",
       "      <td>0.0450</td>\n",
       "    </tr>\n",
       "    <tr>\n",
       "      <th>036580</th>\n",
       "      <td>팜스코</td>\n",
       "      <td>6090</td>\n",
       "      <td>49</td>\n",
       "      <td>49</td>\n",
       "      <td>NaN</td>\n",
       "      <td>0.0449</td>\n",
       "    </tr>\n",
       "    <tr>\n",
       "      <th>184230</th>\n",
       "      <td>SGA솔루션즈</td>\n",
       "      <td>1315</td>\n",
       "      <td>228</td>\n",
       "      <td>228</td>\n",
       "      <td>NaN</td>\n",
       "      <td>0.0451</td>\n",
       "    </tr>\n",
       "    <tr>\n",
       "      <th>460850</th>\n",
       "      <td>동국씨엠</td>\n",
       "      <td>18055</td>\n",
       "      <td>5</td>\n",
       "      <td>5</td>\n",
       "      <td>NaN</td>\n",
       "      <td>0.0136</td>\n",
       "    </tr>\n",
       "    <tr>\n",
       "      <th>016250</th>\n",
       "      <td>SGC E&amp;C</td>\n",
       "      <td>46000</td>\n",
       "      <td>6</td>\n",
       "      <td>6</td>\n",
       "      <td>NaN</td>\n",
       "      <td>0.0416</td>\n",
       "    </tr>\n",
       "    <tr>\n",
       "      <th>001230</th>\n",
       "      <td>동국홀딩스</td>\n",
       "      <td>24044</td>\n",
       "      <td>2</td>\n",
       "      <td>2</td>\n",
       "      <td>NaN</td>\n",
       "      <td>0.0072</td>\n",
       "    </tr>\n",
       "    <tr>\n",
       "      <th>049470</th>\n",
       "      <td>SGA</td>\n",
       "      <td>1115</td>\n",
       "      <td>269</td>\n",
       "      <td>269</td>\n",
       "      <td>NaN</td>\n",
       "      <td>0.0452</td>\n",
       "    </tr>\n",
       "    <tr>\n",
       "      <th>217820</th>\n",
       "      <td>원익피앤이</td>\n",
       "      <td>12518</td>\n",
       "      <td>22</td>\n",
       "      <td>22</td>\n",
       "      <td>NaN</td>\n",
       "      <td>0.0415</td>\n",
       "    </tr>\n",
       "    <tr>\n",
       "      <th>109960</th>\n",
       "      <td>AP헬스케어</td>\n",
       "      <td>3790</td>\n",
       "      <td>158</td>\n",
       "      <td>158</td>\n",
       "      <td>NaN</td>\n",
       "      <td>0.0902</td>\n",
       "    </tr>\n",
       "  </tbody>\n",
       "</table>\n",
       "</div>"
      ],
      "text/plain": [
       "                      name   price  transaction  net  weight  weight*\n",
       "date       asset                                                     \n",
       "2024-01-03 011780     금호석유  171000            2    2     NaN   0.0515\n",
       "           066570     LG전자  122500            2    2     NaN   0.0369\n",
       "           035890     서희건설    1800          166  166     NaN   0.0450\n",
       "           040420  정상제이엘에스    7970           37   37     NaN   0.0444\n",
       "           140520     대창스틸    3250           90   90     NaN   0.0440\n",
       "           072990    에이치시티   15900           18   18     NaN   0.0431\n",
       "           091580    상신이디피   16800           18   18     NaN   0.0455\n",
       "           011200      HMM   26350           11   11     NaN   0.0436\n",
       "           002220     한일철강    3130           95   95     NaN   0.0448\n",
       "           006650     대한유화  181500            1    1     NaN   0.0273\n",
       "           136490       선진   12700           23   23     NaN   0.0440\n",
       "           064550    바이오니아   49650            6    6     NaN   0.0449\n",
       "           460860     동국제강   18723            8    8     NaN   0.0226\n",
       "           040910     아이씨디   12200           24   24     NaN   0.0441\n",
       "           024950   삼천리자전거    9770           30   30     NaN   0.0441\n",
       "           900070   글로벌에스엠    1080          277  277     NaN   0.0450\n",
       "           036580      팜스코    6090           49   49     NaN   0.0449\n",
       "           184230  SGA솔루션즈    1315          228  228     NaN   0.0451\n",
       "           460850     동국씨엠   18055            5    5     NaN   0.0136\n",
       "           016250  SGC E&C   46000            6    6     NaN   0.0416\n",
       "           001230    동국홀딩스   24044            2    2     NaN   0.0072\n",
       "           049470      SGA    1115          269  269     NaN   0.0452\n",
       "           217820    원익피앤이   12518           22   22     NaN   0.0415\n",
       "           109960   AP헬스케어    3790          158  158     NaN   0.0902"
      ]
     },
     "execution_count": 33,
     "metadata": {},
     "output_type": "execute_result"
    }
   ],
   "source": [
    "pf_liq.view_record()"
   ]
  },
  {
   "cell_type": "markdown",
   "id": "5cb5a3a2-0bbe-4f0c-adcf-49a72186ee99",
   "metadata": {},
   "source": [
    "## IRP"
   ]
  },
  {
   "cell_type": "code",
   "execution_count": 34,
   "id": "bc90a2f2-946a-4427-8ea2-4b1bb805f321",
   "metadata": {},
   "outputs": [],
   "source": [
    "selected = ['K55301BU6139', 'K55206C95800']"
   ]
  },
  {
   "cell_type": "code",
   "execution_count": 35,
   "id": "5b164fde-d2a4-4f18-903f-945929b246ea",
   "metadata": {},
   "outputs": [
    {
     "name": "stdout",
     "output_type": "stream",
     "text": [
      "Estimating price from \"data/funds_irp.csv\" ...\n",
      "  WARNING: taking the 1st two columns only.\n",
      "  WARNING: taking the 1st two columns only.\n",
      "Max error of 14 conversions: 0.16 %\n",
      "14 assets from 2017-07-31 to 2024-08-26 uploaded.\n",
      "df_prices loaded\n",
      "WARNING: the number of days in a year with 14 assets (100%) is 121 in avg.\n",
      "REMINDER: 9 equities converted to daily (days in year: 365)\n",
      "Daily metrics in Performance statistics must be meaningless\n",
      "Transaction record to 2024-06-19 loaded\n"
     ]
    }
   ],
   "source": [
    "pf_irp = PM.create_portfolio('IRP', assets=selected)"
   ]
  },
  {
   "cell_type": "code",
   "execution_count": 36,
   "id": "6f173f64-8137-4a01-a831-259619987813",
   "metadata": {},
   "outputs": [
    {
     "name": "stdout",
     "output_type": "stream",
     "text": [
      "Portfolio value 9,963,967, Profit -0.3% on 2024-08-26\n"
     ]
    },
    {
     "data": {
      "image/png": "[encoded data removed]",
      "text/plain": [
       "<Figure size 1000x400 with 2 Axes>"
      ]
     },
     "metadata": {},
     "output_type": "display_data"
    }
   ],
   "source": [
    "pf_irp.valuate()"
   ]
  },
  {
   "cell_type": "code",
   "execution_count": 37,
   "id": "cbdb9f74-d8b7-4c82-8b48-327fc7472773",
   "metadata": {},
   "outputs": [
    {
     "data": {
      "application/vnd.jupyter.widget-view+json": {
       "model_id": "898b6b4992894df4b2c4867bb33e4c89",
       "version_major": 2,
       "version_minor": 0
      },
      "text/plain": [
       "VBox(children=(DatePicker(value=None, layout=Layout(width='200px'), step=1), IntSlider(value=0, continuous_upd…"
      ]
     },
     "execution_count": 37,
     "metadata": {},
     "output_type": "execute_result"
    }
   ],
   "source": [
    "# set kwargs of transaction_pipeline\n",
    "WidgetTransaction"
   ]
  },
  {
   "cell_type": "code",
   "execution_count": 38,
   "id": "b0d8203a-f1f9-4979-a126-0142aa20efd8",
   "metadata": {},
   "outputs": [
    {
     "name": "stdout",
     "output_type": "stream",
     "text": [
      "Liquidation set to None\n",
      "2 assets selected by Selected from 2024-08-26 to 2024-08-26\n",
      "Weights of assets determined by Equal weights.\n",
      "Mean absolute error of weights: 0 %\n",
      "Portfolio value 9,962,573, Profit -0.3% on 2024-08-26\n",
      "Set save=True to save transaction record\n"
     ]
    },
    {
     "data": {
      "text/html": [
       "<div>\n",
       "<style scoped>\n",
       "    .dataframe tbody tr th:only-of-type {\n",
       "        vertical-align: middle;\n",
       "    }\n",
       "\n",
       "    .dataframe tbody tr th {\n",
       "        vertical-align: top;\n",
       "    }\n",
       "\n",
       "    .dataframe thead th {\n",
       "        text-align: right;\n",
       "    }\n",
       "</style>\n",
       "<table border=\"1\" class=\"dataframe\">\n",
       "  <thead>\n",
       "    <tr style=\"text-align: right;\">\n",
       "      <th></th>\n",
       "      <th></th>\n",
       "      <th>name</th>\n",
       "      <th>price</th>\n",
       "      <th>transaction</th>\n",
       "      <th>net</th>\n",
       "      <th>weight</th>\n",
       "      <th>weight*</th>\n",
       "    </tr>\n",
       "    <tr>\n",
       "      <th>date</th>\n",
       "      <th>asset</th>\n",
       "      <th></th>\n",
       "      <th></th>\n",
       "      <th></th>\n",
       "      <th></th>\n",
       "      <th></th>\n",
       "      <th></th>\n",
       "    </tr>\n",
       "  </thead>\n",
       "  <tbody>\n",
       "    <tr>\n",
       "      <th rowspan=\"2\" valign=\"top\">2024-06-19</th>\n",
       "      <th>K55301BU6139</th>\n",
       "      <td>미래에셋전략배분TDF2035혼합자산자투자신탁종류C-P2e</td>\n",
       "      <td>1595</td>\n",
       "      <td>3132</td>\n",
       "      <td>3132</td>\n",
       "      <td>0.5</td>\n",
       "      <td>0.5</td>\n",
       "    </tr>\n",
       "    <tr>\n",
       "      <th>K55206C95800</th>\n",
       "      <td>키움키워드림TDF2030증권투자신탁 1[혼합-재간접형]C-P2e(퇴직연금)</td>\n",
       "      <td>1367</td>\n",
       "      <td>3657</td>\n",
       "      <td>3657</td>\n",
       "      <td>0.5</td>\n",
       "      <td>0.5</td>\n",
       "    </tr>\n",
       "    <tr>\n",
       "      <th rowspan=\"2\" valign=\"top\">2024-08-26</th>\n",
       "      <th>K55301BU6139</th>\n",
       "      <td>미래에셋전략배분TDF2035혼합자산자투자신탁종류C-P2e</td>\n",
       "      <td>1576</td>\n",
       "      <td>27</td>\n",
       "      <td>3159</td>\n",
       "      <td>0.500</td>\n",
       "      <td>0.5000</td>\n",
       "    </tr>\n",
       "    <tr>\n",
       "      <th>K55206C95800</th>\n",
       "      <td>키움키워드림TDF2030증권투자신탁 1[혼합-재간접형]C-P2e(퇴직연금)</td>\n",
       "      <td>1374</td>\n",
       "      <td>-32</td>\n",
       "      <td>3625</td>\n",
       "      <td>0.500</td>\n",
       "      <td>0.5000</td>\n",
       "    </tr>\n",
       "  </tbody>\n",
       "</table>\n",
       "</div>"
      ],
      "text/plain": [
       "                                                              name  price  \\\n",
       "date       asset                                                            \n",
       "2024-06-19 K55301BU6139            미래에셋전략배분TDF2035혼합자산자투자신탁종류C-P2e   1595   \n",
       "           K55206C95800  키움키워드림TDF2030증권투자신탁 1[혼합-재간접형]C-P2e(퇴직연금)   1367   \n",
       "2024-08-26 K55301BU6139            미래에셋전략배분TDF2035혼합자산자투자신탁종류C-P2e   1576   \n",
       "           K55206C95800  키움키워드림TDF2030증권투자신탁 1[혼합-재간접형]C-P2e(퇴직연금)   1374   \n",
       "\n",
       "                         transaction   net weight weight*  \n",
       "date       asset                                           \n",
       "2024-06-19 K55301BU6139         3132  3132    0.5     0.5  \n",
       "           K55206C95800         3657  3657    0.5     0.5  \n",
       "2024-08-26 K55301BU6139           27  3159  0.500  0.5000  \n",
       "           K55206C95800          -32  3625  0.500  0.5000  "
      ]
     },
     "execution_count": 38,
     "metadata": {},
     "output_type": "execute_result"
    }
   ],
   "source": [
    "kwargs = dict(\n",
    "    date = WidgetTransaction.values(0),\n",
    "    capital = WidgetTransaction.values(1),\n",
    "    save = WidgetTransaction.values(2)\n",
    ")\n",
    "_ = pf_irp.transaction_pipeline(**kwargs)\n",
    "pf_irp.view_record()"
   ]
  },
  {
   "cell_type": "code",
   "execution_count": 39,
   "id": "b86d91f9-881d-4655-ab82-2f7b7bf7c4da",
   "metadata": {},
   "outputs": [
    {
     "data": {
      "image/png": "[encoded data removed]",
      "text/plain": [
       "<Figure size 1000x400 with 2 Axes>"
      ]
     },
     "metadata": {},
     "output_type": "display_data"
    }
   ],
   "source": [
    "pf_irp.plot()"
   ]
  },
  {
   "cell_type": "code",
   "execution_count": 40,
   "id": "6b0e5105-b09c-4e98-85b1-402d5cd21f61",
   "metadata": {},
   "outputs": [
    {
     "data": {
      "text/html": [
       "<div>\n",
       "<style scoped>\n",
       "    .dataframe tbody tr th:only-of-type {\n",
       "        vertical-align: middle;\n",
       "    }\n",
       "\n",
       "    .dataframe tbody tr th {\n",
       "        vertical-align: top;\n",
       "    }\n",
       "\n",
       "    .dataframe thead th {\n",
       "        text-align: right;\n",
       "    }\n",
       "</style>\n",
       "<table border=\"1\" class=\"dataframe\">\n",
       "  <thead>\n",
       "    <tr style=\"text-align: right;\">\n",
       "      <th></th>\n",
       "      <th>IRP</th>\n",
       "    </tr>\n",
       "  </thead>\n",
       "  <tbody>\n",
       "    <tr>\n",
       "      <th>start</th>\n",
       "      <td>2024-06-19</td>\n",
       "    </tr>\n",
       "    <tr>\n",
       "      <th>end</th>\n",
       "      <td>2024-08-26</td>\n",
       "    </tr>\n",
       "    <tr>\n",
       "      <th>total_return</th>\n",
       "      <td>-0.003532</td>\n",
       "    </tr>\n",
       "    <tr>\n",
       "      <th>cagr</th>\n",
       "      <td>-0.018825</td>\n",
       "    </tr>\n",
       "    <tr>\n",
       "      <th>calmar</th>\n",
       "      <td>-0.342151</td>\n",
       "    </tr>\n",
       "    <tr>\n",
       "      <th>max_drawdown</th>\n",
       "      <td>-0.055021</td>\n",
       "    </tr>\n",
       "    <tr>\n",
       "      <th>avg_drawdown</th>\n",
       "      <td>-0.029718</td>\n",
       "    </tr>\n",
       "    <tr>\n",
       "      <th>avg_drawdown_days</th>\n",
       "      <td>26.0</td>\n",
       "    </tr>\n",
       "    <tr>\n",
       "      <th>daily_vol</th>\n",
       "      <td>0.059014</td>\n",
       "    </tr>\n",
       "    <tr>\n",
       "      <th>daily_sharpe</th>\n",
       "      <td>-0.193009</td>\n",
       "    </tr>\n",
       "    <tr>\n",
       "      <th>daily_sortino</th>\n",
       "      <td>-0.254431</td>\n",
       "    </tr>\n",
       "    <tr>\n",
       "      <th>monthly_vol</th>\n",
       "      <td>0.013645</td>\n",
       "    </tr>\n",
       "    <tr>\n",
       "      <th>monthly_sharpe</th>\n",
       "      <td>-0.81833</td>\n",
       "    </tr>\n",
       "    <tr>\n",
       "      <th>monthly_sortino</th>\n",
       "      <td>-1.226806</td>\n",
       "    </tr>\n",
       "  </tbody>\n",
       "</table>\n",
       "</div>"
      ],
      "text/plain": [
       "                          IRP\n",
       "start              2024-06-19\n",
       "end                2024-08-26\n",
       "total_return        -0.003532\n",
       "cagr                -0.018825\n",
       "calmar              -0.342151\n",
       "max_drawdown        -0.055021\n",
       "avg_drawdown        -0.029718\n",
       "avg_drawdown_days        26.0\n",
       "daily_vol            0.059014\n",
       "daily_sharpe        -0.193009\n",
       "daily_sortino       -0.254431\n",
       "monthly_vol          0.013645\n",
       "monthly_sharpe       -0.81833\n",
       "monthly_sortino     -1.226806"
      ]
     },
     "execution_count": 40,
     "metadata": {},
     "output_type": "execute_result"
    }
   ],
   "source": [
    "pf_irp.performance(metrics=METRICS)"
   ]
  },
  {
   "cell_type": "markdown",
   "id": "f86d2f0d-9368-4db8-a1af-6f767f32d2ca",
   "metadata": {},
   "source": [
    "## HANA"
   ]
  },
  {
   "cell_type": "code",
   "execution_count": 41,
   "id": "cdee2ec4-982e-4d6a-8dd6-42f4c76edb00",
   "metadata": {},
   "outputs": [
    {
     "name": "stdout",
     "output_type": "stream",
     "text": [
      "Estimating price from \"data/funds_kebhana.csv\" ...\n",
      "  error: -0.00 %\n",
      "  error: 0.01 %\n",
      "  error: -0.00 %\n",
      "  error: 0.00 %\n",
      "4 assets from 2010-01-29 to 2024-07-31 uploaded.\n",
      "df_prices loaded\n",
      "WARNING: the number of days in a year with followings is 12 in avg.:\n",
      "KR5101888398: 12\n",
      "KR5236AS4826: 12\n",
      "KR5370AP9956: 12\n",
      "K55306CV9946: 12\n",
      "REMINDER: 4 equities converted to daily (days in year: 365)\n",
      "Daily metrics in Performance statistics must be meaningless\n",
      "Transaction record to 2024-07-31 loaded\n"
     ]
    }
   ],
   "source": [
    "pf_hana = PM.create_portfolio('HANA')"
   ]
  },
  {
   "cell_type": "code",
   "execution_count": 42,
   "id": "01ec254d-f913-4bdd-97d2-574bc55b45a0",
   "metadata": {},
   "outputs": [
    {
     "name": "stdout",
     "output_type": "stream",
     "text": [
      "Portfolio value 9,997,329, Profit 0.1% on 2024-07-31\n",
      "ERROR: need more data to plot\n"
     ]
    }
   ],
   "source": [
    "pf_hana.valuate()"
   ]
  },
  {
   "cell_type": "code",
   "execution_count": 43,
   "id": "d53b2aad-17ae-47ba-ab04-81dd385692b5",
   "metadata": {},
   "outputs": [
    {
     "data": {
      "application/vnd.jupyter.widget-view+json": {
       "model_id": "898b6b4992894df4b2c4867bb33e4c89",
       "version_major": 2,
       "version_minor": 0
      },
      "text/plain": [
       "VBox(children=(DatePicker(value=None, layout=Layout(width='200px'), step=1), IntSlider(value=0, continuous_upd…"
      ]
     },
     "execution_count": 43,
     "metadata": {},
     "output_type": "execute_result"
    }
   ],
   "source": [
    "# set kwargs of transaction_pipeline\n",
    "WidgetTransaction"
   ]
  },
  {
   "cell_type": "code",
   "execution_count": 44,
   "id": "13999c3b-6dac-4b53-92dc-d6abb31f2cbb",
   "metadata": {},
   "outputs": [
    {
     "name": "stdout",
     "output_type": "stream",
     "text": [
      "Liquidation set to None\n",
      "4 assets selected by All from 2024-07-31 to 2024-07-31\n",
      "ERROR: check the date as no new transaction\n",
      "Portfolio value 9,997,329, Profit 0.1% on 2024-07-31\n"
     ]
    },
    {
     "data": {
      "text/html": [
       "<div>\n",
       "<style scoped>\n",
       "    .dataframe tbody tr th:only-of-type {\n",
       "        vertical-align: middle;\n",
       "    }\n",
       "\n",
       "    .dataframe tbody tr th {\n",
       "        vertical-align: top;\n",
       "    }\n",
       "\n",
       "    .dataframe thead th {\n",
       "        text-align: right;\n",
       "    }\n",
       "</style>\n",
       "<table border=\"1\" class=\"dataframe\">\n",
       "  <thead>\n",
       "    <tr style=\"text-align: right;\">\n",
       "      <th></th>\n",
       "      <th></th>\n",
       "      <th>name</th>\n",
       "      <th>price</th>\n",
       "      <th>transaction</th>\n",
       "      <th>net</th>\n",
       "      <th>weight</th>\n",
       "      <th>weight*</th>\n",
       "    </tr>\n",
       "    <tr>\n",
       "      <th>date</th>\n",
       "      <th>asset</th>\n",
       "      <th></th>\n",
       "      <th></th>\n",
       "      <th></th>\n",
       "      <th></th>\n",
       "      <th></th>\n",
       "      <th></th>\n",
       "    </tr>\n",
       "  </thead>\n",
       "  <tbody>\n",
       "    <tr>\n",
       "      <th rowspan=\"4\" valign=\"top\">2024-07-31</th>\n",
       "      <th>KR5101888398</th>\n",
       "      <td>한국투자크레딧포커스ESG증권자투자신탁 1(채권)(C-e)</td>\n",
       "      <td>1068</td>\n",
       "      <td>4699</td>\n",
       "      <td>4699</td>\n",
       "      <td>0.502</td>\n",
       "      <td>0.502</td>\n",
       "    </tr>\n",
       "    <tr>\n",
       "      <th>KR5236AS4826</th>\n",
       "      <td>한국밸류10년투자증권투자신탁 1(채권혼합)종류C-E</td>\n",
       "      <td>1260</td>\n",
       "      <td>1920</td>\n",
       "      <td>1920</td>\n",
       "      <td>0.242</td>\n",
       "      <td>0.242</td>\n",
       "    </tr>\n",
       "    <tr>\n",
       "      <th>KR5370AP9956</th>\n",
       "      <td>AB글로벌고수익증권투자신탁(채권-재간접형)종류형Ce</td>\n",
       "      <td>1285</td>\n",
       "      <td>1448</td>\n",
       "      <td>1448</td>\n",
       "      <td>0.186</td>\n",
       "      <td>0.186</td>\n",
       "    </tr>\n",
       "    <tr>\n",
       "      <th>K55306CV9946</th>\n",
       "      <td>다올글로벌멀티에셋인컴EMP증권자투자신탁[혼합-재간접형](공)종류Ce</td>\n",
       "      <td>1151</td>\n",
       "      <td>602</td>\n",
       "      <td>602</td>\n",
       "      <td>0.069</td>\n",
       "      <td>0.069</td>\n",
       "    </tr>\n",
       "  </tbody>\n",
       "</table>\n",
       "</div>"
      ],
      "text/plain": [
       "                                                          name  price  \\\n",
       "date       asset                                                        \n",
       "2024-07-31 KR5101888398        한국투자크레딧포커스ESG증권자투자신탁 1(채권)(C-e)   1068   \n",
       "           KR5236AS4826           한국밸류10년투자증권투자신탁 1(채권혼합)종류C-E   1260   \n",
       "           KR5370AP9956           AB글로벌고수익증권투자신탁(채권-재간접형)종류형Ce   1285   \n",
       "           K55306CV9946  다올글로벌멀티에셋인컴EMP증권자투자신탁[혼합-재간접형](공)종류Ce   1151   \n",
       "\n",
       "                         transaction   net  weight  weight*  \n",
       "date       asset                                             \n",
       "2024-07-31 KR5101888398         4699  4699   0.502    0.502  \n",
       "           KR5236AS4826         1920  1920   0.242    0.242  \n",
       "           KR5370AP9956         1448  1448   0.186    0.186  \n",
       "           K55306CV9946          602   602   0.069    0.069  "
      ]
     },
     "execution_count": 44,
     "metadata": {},
     "output_type": "execute_result"
    }
   ],
   "source": [
    "kwargs = dict(\n",
    "    date = WidgetTransaction.values(0),\n",
    "    capital = WidgetTransaction.values(1),\n",
    "    save = WidgetTransaction.values(2)\n",
    ")\n",
    "_ = pf_hana.transaction_pipeline(**kwargs)\n",
    "pf_hana.view_record()"
   ]
  },
  {
   "cell_type": "code",
   "execution_count": 45,
   "id": "8041db72-01c9-4a2f-9609-b8c3812c89c4",
   "metadata": {},
   "outputs": [
    {
     "name": "stdout",
     "output_type": "stream",
     "text": [
      "ERROR: need more data to plot\n"
     ]
    }
   ],
   "source": [
    "pf_hana.plot()"
   ]
  },
  {
   "cell_type": "code",
   "execution_count": 46,
   "id": "cd1ebe41-1ead-478a-ad0f-d2fb28e222aa",
   "metadata": {},
   "outputs": [
    {
     "name": "stdout",
     "output_type": "stream",
     "text": [
      "ERROR: Need more data to measure\n"
     ]
    }
   ],
   "source": [
    "pf_hana.performance(metrics=METRICS)"
   ]
  },
  {
   "cell_type": "code",
   "execution_count": null,
   "id": "f537a8c5-d888-46a5-8630-e0364becc794",
   "metadata": {},
   "outputs": [],
   "source": []
  }
 ],
 "metadata": {
  "kernelspec": {
   "display_name": "portfolio",
   "language": "python",
   "name": "portfolio"
  },
  "language_info": {
   "codemirror_mode": {
    "name": "ipython",
    "version": 3
   },
   "file_extension": ".py",
   "mimetype": "text/x-python",
   "name": "python",
   "nbconvert_exporter": "python",
   "pygments_lexer": "ipython3",
   "version": "3.12.1"
  }
 },
 "nbformat": 4,
 "nbformat_minor": 5
}
