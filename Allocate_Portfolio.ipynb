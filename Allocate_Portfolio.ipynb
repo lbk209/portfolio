{
 "cells": [
  {
   "cell_type": "markdown",
   "id": "1a0d2b60-5842-4969-8229-84f355dc46fc",
   "metadata": {},
   "source": [
    "# Setting"
   ]
  },
  {
   "cell_type": "code",
   "execution_count": 1,
   "id": "7009fd2f-8efd-4ed3-a187-01939304fa9e",
   "metadata": {},
   "outputs": [
    {
     "name": "stderr",
     "output_type": "stream",
     "text": [
      "WARNING (pytensor.tensor.blas): Using NumPy C-API based implementation for BLAS functions.\n"
     ]
    }
   ],
   "source": [
    "from pf_utils import PortfolioManager as PM \n",
    "from pf_utils import FinancialRatios, METRICS\n",
    "from pf_widgets import WidgetUniverse, WidgetTransaction, w_date"
   ]
  },
  {
   "cell_type": "code",
   "execution_count": 2,
   "id": "723adb14-cd00-4d96-9c64-5a8628e82f44",
   "metadata": {},
   "outputs": [],
   "source": [
    "path_data = 'data'\n",
    "path_tran = 'transaction'"
   ]
  },
  {
   "cell_type": "markdown",
   "id": "83852d8f-9884-4a8d-bb97-4b61670f6d4d",
   "metadata": {},
   "source": [
    "## Portfolios\n",
    "*Review portfolio settings*"
   ]
  },
  {
   "cell_type": "code",
   "execution_count": 3,
   "id": "57eeef26-93fa-4e46-9197-ef5948aed668",
   "metadata": {},
   "outputs": [
    {
     "name": "stdout",
     "output_type": "stream",
     "text": [
      "Portfolio: MMT, PER, WTR, LIQ, IRP, HANA, FCTR, KRX\n"
     ]
    }
   ],
   "source": [
    "PM.review('portfolio')"
   ]
  },
  {
   "cell_type": "code",
   "execution_count": 4,
   "id": "4dd4bbf9-fc33-4763-a4b1-c635f111e2d7",
   "metadata": {},
   "outputs": [
    {
     "data": {
      "text/plain": [
       "{'strategy': 'WTR', 'universe': 'UV_WTR'}"
      ]
     },
     "execution_count": 4,
     "metadata": {},
     "output_type": "execute_result"
    }
   ],
   "source": [
    "PM.review_portfolio('WTR')"
   ]
  },
  {
   "cell_type": "code",
   "execution_count": 5,
   "id": "aed90957-12a4-4bfd-a239-f32295b6cee9",
   "metadata": {},
   "outputs": [
    {
     "data": {
      "text/plain": [
       "{'method_select': 'All',\n",
       " 'method_weigh': 'Equally',\n",
       " 'file': 'pf_wtr_static',\n",
       " 'path': 'transaction'}"
      ]
     },
     "execution_count": 5,
     "metadata": {},
     "output_type": "execute_result"
    }
   ],
   "source": [
    "#PM.review_strategy('WTR')\n",
    "PM.review_portfolio('WTR', strategy=True)"
   ]
  },
  {
   "cell_type": "code",
   "execution_count": 6,
   "id": "319ceff5-fb55-499d-8800-0caf3c5bab61",
   "metadata": {},
   "outputs": [
    {
     "data": {
      "text/plain": [
       "{'universe': 'etf',\n",
       " 'file': 'etfs_weather',\n",
       " 'tickers': 'ETF/KR',\n",
       " 'daily': True,\n",
       " 'path': 'data'}"
      ]
     },
     "execution_count": 6,
     "metadata": {},
     "output_type": "execute_result"
    }
   ],
   "source": [
    "#PM.review_universe('UV_WTR')\n",
    "PM.review_portfolio('WTR', universe=True)"
   ]
  },
  {
   "cell_type": "markdown",
   "id": "c786112f-9aef-4df7-8248-4ddcfcb2c1f0",
   "metadata": {},
   "source": [
    "# Universe"
   ]
  },
  {
   "cell_type": "code",
   "execution_count": 3,
   "id": "9632a8f9-3a3b-4e8b-aa68-2cb9ff8d0748",
   "metadata": {},
   "outputs": [
    {
     "name": "stdout",
     "output_type": "stream",
     "text": [
      "Universe: UV_K200, UV_KRX, UV_LIQ, UV_WTR, UV_ETF, UV_IRP, UV_HANA, UV_FCTR\n"
     ]
    }
   ],
   "source": [
    "PM.review('universes')"
   ]
  },
  {
   "cell_type": "code",
   "execution_count": 4,
   "id": "73024aab-e901-4e9c-94e2-a46e5b983dbe",
   "metadata": {},
   "outputs": [
    {
     "data": {
      "application/vnd.jupyter.widget-view+json": {
       "model_id": "c53b7ce290724a21a4e764d2663b2ee1",
       "version_major": 2,
       "version_minor": 0
      },
      "text/plain": [
       "VBox(children=(Checkbox(value=False, description='Download', indent=False), Checkbox(value=False, description=…"
      ]
     },
     "execution_count": 4,
     "metadata": {},
     "output_type": "execute_result"
    }
   ],
   "source": [
    "WidgetUniverse"
   ]
  },
  {
   "cell_type": "markdown",
   "id": "1cb34ee5-b007-48b4-a11b-188e6bafad0f",
   "metadata": {},
   "source": [
    "## K200"
   ]
  },
  {
   "cell_type": "code",
   "execution_count": 9,
   "id": "8aa50408-fd2b-45f5-81ed-6c1a2479eb77",
   "metadata": {},
   "outputs": [
    {
     "name": "stdout",
     "output_type": "stream",
     "text": [
      "201 securities from 2021-01-04 to 2024-11-20 uploaded.\n",
      "df_prices loaded\n"
     ]
    }
   ],
   "source": [
    "k200 = PM.create_universe('UV_K200')"
   ]
  },
  {
   "cell_type": "code",
   "execution_count": 8,
   "id": "1f62192a-4e95-45d7-9f11-4ece016a7e1f",
   "metadata": {},
   "outputs": [
    {
     "data": {
      "text/plain": [
       "{'universe': {'data': {'universe': 'kospi200',\n",
       "   'file': 'kospi200_prices',\n",
       "   'tickers': 'KRX/INDEX/STOCK/1028',\n",
       "   'daily': True,\n",
       "   'path': 'data'},\n",
       "  'name': 'UV_K200'}}"
      ]
     },
     "execution_count": 8,
     "metadata": {},
     "output_type": "execute_result"
    }
   ],
   "source": [
    "k200.portfolio_data"
   ]
  },
  {
   "cell_type": "code",
   "execution_count": 9,
   "id": "56cfa843-ffc7-469f-a18d-aefecdac2e5d",
   "metadata": {},
   "outputs": [],
   "source": [
    "kw = dict(\n",
    "    n_years=3, \n",
    "    close_today = WidgetUniverse.values(1)\n",
    ")\n",
    "k200.download(**kw) if WidgetUniverse.values(0) else None"
   ]
  },
  {
   "cell_type": "markdown",
   "id": "6e62cef4-25c9-414b-b33f-28858e929f30",
   "metadata": {},
   "source": [
    "## KRX"
   ]
  },
  {
   "cell_type": "code",
   "execution_count": 32,
   "id": "341b6af3-25e4-4280-8d51-6015c48994b9",
   "metadata": {},
   "outputs": [
    {
     "name": "stdout",
     "output_type": "stream",
     "text": [
      "2712 assets from 2019-01-02 to 2024-10-08 uploaded.\n",
      "df_prices loaded\n"
     ]
    }
   ],
   "source": [
    "krx = PM.create_universe('UV_KRX')"
   ]
  },
  {
   "cell_type": "code",
   "execution_count": 33,
   "id": "5bed0595-0790-4e8b-ab6e-5e9db598d0d5",
   "metadata": {},
   "outputs": [],
   "source": [
    "kw = dict(\n",
    "    n_years=3, \n",
    "    close_today = WidgetUniverse.values(1),\n",
    "    interval=5, pause_duration=1, msg=False\n",
    ")\n",
    "#krx.download(**kw) if WidgetUniverse.values(0) else None"
   ]
  },
  {
   "cell_type": "markdown",
   "id": "39d0213d-1cd0-42f6-8066-abb2eb6dd5db",
   "metadata": {},
   "source": [
    "## WTR"
   ]
  },
  {
   "cell_type": "code",
   "execution_count": 9,
   "id": "26a87f56-8333-4d02-bc67-2d58cda01a18",
   "metadata": {},
   "outputs": [
    {
     "name": "stdout",
     "output_type": "stream",
     "text": [
      "6 securities from 2021-01-04 to 2024-11-20 uploaded.\n",
      "df_prices loaded\n"
     ]
    }
   ],
   "source": [
    "wtr = PM.create_universe('UV_WTR')"
   ]
  },
  {
   "cell_type": "code",
   "execution_count": 10,
   "id": "f9795c18-b507-497c-b6e4-5fbed3896f35",
   "metadata": {},
   "outputs": [
    {
     "data": {
      "text/plain": [
       "{'universe': 'etf',\n",
       " 'file': 'etfs_weather',\n",
       " 'tickers': 'ETF/KR',\n",
       " 'daily': True,\n",
       " 'path': 'data'}"
      ]
     },
     "execution_count": 10,
     "metadata": {},
     "output_type": "execute_result"
    }
   ],
   "source": [
    "PM.review_universe('UV_WTR')"
   ]
  },
  {
   "cell_type": "code",
   "execution_count": 11,
   "id": "3cc26afb-d01e-4b99-9be0-fb446726b131",
   "metadata": {},
   "outputs": [
    {
     "name": "stdout",
     "output_type": "stream",
     "text": [
      "Downloading ...\n",
      "... done\n",
      "6 securities from 2021-01-04 to 2024-11-21 downloaded.\n",
      "etfs_weather_241121.csv saved\n",
      "df_prices updated\n",
      "Execution time of download: 0.53 secs\n"
     ]
    }
   ],
   "source": [
    "kw = dict(\n",
    "    n_years=3, \n",
    "    close_today = WidgetUniverse.values(1),\n",
    "    #tickers = ['069500', '273130', '148070', '379800', '411060', '284430']\n",
    "    tickers = 'selected'\n",
    ")\n",
    "wtr.download(**kw) if WidgetUniverse.values(0) else None"
   ]
  },
  {
   "cell_type": "code",
   "execution_count": 16,
   "id": "35e4fe7f-1ebd-40f6-956c-44c464cb6a76",
   "metadata": {},
   "outputs": [
    {
     "name": "stdout",
     "output_type": "stream",
     "text": [
      "etfs_weather_241120.csv saved\n"
     ]
    }
   ],
   "source": [
    "#wtr.save()"
   ]
  },
  {
   "cell_type": "markdown",
   "id": "9a915127-3848-4f4a-84ed-4552ff991fca",
   "metadata": {},
   "source": [
    "## FCTR"
   ]
  },
  {
   "cell_type": "code",
   "execution_count": 18,
   "id": "d4181791-edd1-44f5-bbf8-ef80f0cdb556",
   "metadata": {},
   "outputs": [
    {
     "name": "stdout",
     "output_type": "stream",
     "text": [
      "7 assets from 2021-01-04 to 2024-11-08 uploaded.\n",
      "df_prices loaded\n"
     ]
    }
   ],
   "source": [
    "fctr = PM.create_universe('UV_FCTR')"
   ]
  },
  {
   "cell_type": "code",
   "execution_count": 19,
   "id": "1f8f1368-0625-4f2c-aab4-5755f702c2fa",
   "metadata": {},
   "outputs": [],
   "source": [
    "kw = dict(\n",
    "    n_years=3, \n",
    "    close_today = WidgetUniverse.values(1),\n",
    "    #tickers=['LRGF','MTUM','QUAL','SIZE','SPY','USMV','VLUE']\n",
    "    tickers='selected'\n",
    ")\n",
    "fctr.download(**kw) if WidgetUniverse.values(0) else None"
   ]
  },
  {
   "cell_type": "code",
   "execution_count": 20,
   "id": "3d232256-a1ef-4677-ab9a-53540f2689cc",
   "metadata": {},
   "outputs": [
    {
     "data": {
      "text/plain": [
       "0) LRGF: iShares U.S. Equity Factor ETF\n",
       "1) MTUM: iShares MSCI USA Momentum Factor ETF\n",
       "2) QUAL: iShares MSCI USA Quality Factor ETF\n",
       "3) SIZE: iShares MSCI USA Size Factor ETF\n",
       "4) SPY: SPDR S&P 500 ETF Trust\n",
       "5) USMV: iShares MSCI USA Min Vol Factor ETF\n",
       "6) VLUE: iShares MSCI USA Value Factor ETF"
      ]
     },
     "execution_count": 20,
     "metadata": {},
     "output_type": "execute_result"
    }
   ],
   "source": [
    "fctr.get_names()"
   ]
  },
  {
   "cell_type": "markdown",
   "id": "99c864db-6e90-4720-9287-a23b26b2263e",
   "metadata": {},
   "source": [
    "## IRP"
   ]
  },
  {
   "cell_type": "code",
   "execution_count": 5,
   "id": "c22863eb-b080-4dd0-b2b0-d199fba75c5a",
   "metadata": {},
   "outputs": [
    {
     "name": "stdout",
     "output_type": "stream",
     "text": [
      "WARNING: uploading failed as [Errno 2] No such file or directory: 'data/funds_irp_prices.csv'\n"
     ]
    }
   ],
   "source": [
    "irp = PM.create_universe('UV_IRP')"
   ]
  },
  {
   "cell_type": "code",
   "execution_count": 6,
   "id": "1748945c-f7e2-4ab9-94f1-59cd89bbc815",
   "metadata": {},
   "outputs": [
    {
     "name": "stdout",
     "output_type": "stream",
     "text": [
      "Downloading ...\n",
      "6 tickers set\n"
     ]
    },
    {
     "name": "stderr",
     "output_type": "stream",
     "text": [
      "100%|█████████████████████████████████████████████████████████████████| 6/6 [00:00<00:00,  7.06it/s]"
     ]
    },
    {
     "name": "stdout",
     "output_type": "stream",
     "text": [
      "0.9 secs elapsed, 0.0 secs paused (0.0%)\n",
      "Max error of conversions: 8.42e-05\n",
      "... done\n",
      "6 securities from 2023-01-31 to 2024-10-31 downloaded.\n",
      "funds_irp_prices_241031.csv saved\n",
      "df_prices updated\n",
      "Execution time of download: 0.87 secs\n"
     ]
    },
    {
     "name": "stderr",
     "output_type": "stream",
     "text": [
      "\n"
     ]
    }
   ],
   "source": [
    "kw = dict(\n",
    "    n_years=1, \n",
    "    close_today = WidgetUniverse.values(1),\n",
    "    #tickers='selected'\n",
    ")\n",
    "irp.download(**kw) if WidgetUniverse.values(0) else None"
   ]
  },
  {
   "cell_type": "code",
   "execution_count": 7,
   "id": "5fb805be-4a57-4439-84ac-17431f5b7592",
   "metadata": {},
   "outputs": [
    {
     "name": "stdout",
     "output_type": "stream",
     "text": [
      "WARNING: the number of days in a year with followings is 12 in avg.:\n",
      "K55234DF2657: 12\n",
      "K55234DF2459: 12\n",
      "K55301DW1763: 12\n",
      "K55301BU6139: 12\n",
      "K55105BU1161: 12\n",
      "K55210BU2385: 12\n",
      "REMINDER: 6 equities converted to daily (days in year: 365)\n",
      "Daily metrics in Performance statistics must be meaningless\n"
     ]
    }
   ],
   "source": [
    "irp.convert_to_daily(confirm=True)"
   ]
  },
  {
   "cell_type": "code",
   "execution_count": 8,
   "id": "b168cd3b-7986-4a19-bbff-44d1ac582f2d",
   "metadata": {},
   "outputs": [
    {
     "data": {
      "text/html": [
       "<div>\n",
       "<style scoped>\n",
       "    .dataframe tbody tr th:only-of-type {\n",
       "        vertical-align: middle;\n",
       "    }\n",
       "\n",
       "    .dataframe tbody tr th {\n",
       "        vertical-align: top;\n",
       "    }\n",
       "\n",
       "    .dataframe thead th {\n",
       "        text-align: right;\n",
       "    }\n",
       "</style>\n",
       "<table border=\"1\" class=\"dataframe\">\n",
       "  <thead>\n",
       "    <tr style=\"text-align: right;\">\n",
       "      <th></th>\n",
       "      <th>name</th>\n",
       "      <th>start date</th>\n",
       "      <th>end date</th>\n",
       "      <th>n</th>\n",
       "    </tr>\n",
       "  </thead>\n",
       "  <tbody>\n",
       "    <tr>\n",
       "      <th>K55234DF2657</th>\n",
       "      <td>IBK로우코스트TDF2030증권자투자신탁[혼합-재간접형]종류C-Re</td>\n",
       "      <td>2023-01-31</td>\n",
       "      <td>2024-10-31</td>\n",
       "      <td>640</td>\n",
       "    </tr>\n",
       "    <tr>\n",
       "      <th>K55234DF2459</th>\n",
       "      <td>IBK로우코스트TDF2035증권자투자신탁[혼합-재간접형]종류C-Re</td>\n",
       "      <td>2023-01-31</td>\n",
       "      <td>2024-10-31</td>\n",
       "      <td>640</td>\n",
       "    </tr>\n",
       "    <tr>\n",
       "      <th>K55301DW1763</th>\n",
       "      <td>미래에셋전략배분TDF2035혼합자산자투자신탁종류O</td>\n",
       "      <td>2023-01-31</td>\n",
       "      <td>2024-10-31</td>\n",
       "      <td>640</td>\n",
       "    </tr>\n",
       "    <tr>\n",
       "      <th>K55301BU6139</th>\n",
       "      <td>미래에셋전략배분TDF2035혼합자산자투자신탁종류C-P2e</td>\n",
       "      <td>2023-01-31</td>\n",
       "      <td>2024-10-31</td>\n",
       "      <td>640</td>\n",
       "    </tr>\n",
       "    <tr>\n",
       "      <th>K55105BU1161</th>\n",
       "      <td>삼성한국형TDF2030증권투자신탁H[주식혼합-재간접형]Cpe(퇴직연금)</td>\n",
       "      <td>2023-01-31</td>\n",
       "      <td>2024-10-31</td>\n",
       "      <td>640</td>\n",
       "    </tr>\n",
       "    <tr>\n",
       "      <th>K55210BU2385</th>\n",
       "      <td>신한마음편한TDF2030증권투자신탁[주식혼합-재간접형](종류C-re)</td>\n",
       "      <td>2023-01-31</td>\n",
       "      <td>2024-10-31</td>\n",
       "      <td>640</td>\n",
       "    </tr>\n",
       "  </tbody>\n",
       "</table>\n",
       "</div>"
      ],
      "text/plain": [
       "                                                 name start date   end date  \\\n",
       "K55234DF2657    IBK로우코스트TDF2030증권자투자신탁[혼합-재간접형]종류C-Re 2023-01-31 2024-10-31   \n",
       "K55234DF2459    IBK로우코스트TDF2035증권자투자신탁[혼합-재간접형]종류C-Re 2023-01-31 2024-10-31   \n",
       "K55301DW1763              미래에셋전략배분TDF2035혼합자산자투자신탁종류O 2023-01-31 2024-10-31   \n",
       "K55301BU6139          미래에셋전략배분TDF2035혼합자산자투자신탁종류C-P2e 2023-01-31 2024-10-31   \n",
       "K55105BU1161  삼성한국형TDF2030증권투자신탁H[주식혼합-재간접형]Cpe(퇴직연금) 2023-01-31 2024-10-31   \n",
       "K55210BU2385   신한마음편한TDF2030증권투자신탁[주식혼합-재간접형](종류C-re) 2023-01-31 2024-10-31   \n",
       "\n",
       "                n  \n",
       "K55234DF2657  640  \n",
       "K55234DF2459  640  \n",
       "K55301DW1763  640  \n",
       "K55301BU6139  640  \n",
       "K55105BU1161  640  \n",
       "K55210BU2385  640  "
      ]
     },
     "execution_count": 8,
     "metadata": {},
     "output_type": "execute_result"
    }
   ],
   "source": [
    "irp.get_date_range().sort_values('end date')"
   ]
  },
  {
   "cell_type": "code",
   "execution_count": 9,
   "id": "b39755f5-ed92-4640-aada-9e84bd1eba06",
   "metadata": {},
   "outputs": [
    {
     "data": {
      "text/html": [
       "<div>\n",
       "<style scoped>\n",
       "    .dataframe tbody tr th:only-of-type {\n",
       "        vertical-align: middle;\n",
       "    }\n",
       "\n",
       "    .dataframe tbody tr th {\n",
       "        vertical-align: top;\n",
       "    }\n",
       "\n",
       "    .dataframe thead th {\n",
       "        text-align: right;\n",
       "    }\n",
       "</style>\n",
       "<table border=\"1\" class=\"dataframe\">\n",
       "  <thead>\n",
       "    <tr style=\"text-align: right;\">\n",
       "      <th></th>\n",
       "      <th>name</th>\n",
       "      <th>daily_sharpe</th>\n",
       "      <th>monthly_sharpe</th>\n",
       "      <th>yearly_sharpe</th>\n",
       "    </tr>\n",
       "  </thead>\n",
       "  <tbody>\n",
       "    <tr>\n",
       "      <th>K55234DF2657</th>\n",
       "      <td>IBK로우코스트TDF2030증권자투자신탁[혼합-재간접형]종류C-Re</td>\n",
       "      <td>1.25721</td>\n",
       "      <td>1.637084</td>\n",
       "      <td>NaN</td>\n",
       "    </tr>\n",
       "    <tr>\n",
       "      <th>K55234DF2459</th>\n",
       "      <td>IBK로우코스트TDF2035증권자투자신탁[혼합-재간접형]종류C-Re</td>\n",
       "      <td>1.421994</td>\n",
       "      <td>1.913251</td>\n",
       "      <td>NaN</td>\n",
       "    </tr>\n",
       "    <tr>\n",
       "      <th>K55301DW1763</th>\n",
       "      <td>미래에셋전략배분TDF2035혼합자산자투자신탁종류O</td>\n",
       "      <td>1.386645</td>\n",
       "      <td>1.85166</td>\n",
       "      <td>NaN</td>\n",
       "    </tr>\n",
       "    <tr>\n",
       "      <th>K55301BU6139</th>\n",
       "      <td>미래에셋전략배분TDF2035혼합자산자투자신탁종류C-P2e</td>\n",
       "      <td>1.390048</td>\n",
       "      <td>1.857529</td>\n",
       "      <td>NaN</td>\n",
       "    </tr>\n",
       "    <tr>\n",
       "      <th>K55105BU1161</th>\n",
       "      <td>삼성한국형TDF2030증권투자신탁H[주식혼합-재간접형]Cpe(퇴직연금)</td>\n",
       "      <td>0.947074</td>\n",
       "      <td>1.176866</td>\n",
       "      <td>NaN</td>\n",
       "    </tr>\n",
       "    <tr>\n",
       "      <th>K55210BU2385</th>\n",
       "      <td>신한마음편한TDF2030증권투자신탁[주식혼합-재간접형](종류C-re)</td>\n",
       "      <td>1.209783</td>\n",
       "      <td>1.562266</td>\n",
       "      <td>NaN</td>\n",
       "    </tr>\n",
       "  </tbody>\n",
       "</table>\n",
       "</div>"
      ],
      "text/plain": [
       "                                                 name daily_sharpe  \\\n",
       "K55234DF2657    IBK로우코스트TDF2030증권자투자신탁[혼합-재간접형]종류C-Re      1.25721   \n",
       "K55234DF2459    IBK로우코스트TDF2035증권자투자신탁[혼합-재간접형]종류C-Re     1.421994   \n",
       "K55301DW1763              미래에셋전략배분TDF2035혼합자산자투자신탁종류O     1.386645   \n",
       "K55301BU6139          미래에셋전략배분TDF2035혼합자산자투자신탁종류C-P2e     1.390048   \n",
       "K55105BU1161  삼성한국형TDF2030증권투자신탁H[주식혼합-재간접형]Cpe(퇴직연금)     0.947074   \n",
       "K55210BU2385   신한마음편한TDF2030증권투자신탁[주식혼합-재간접형](종류C-re)     1.209783   \n",
       "\n",
       "             monthly_sharpe yearly_sharpe  \n",
       "K55234DF2657       1.637084           NaN  \n",
       "K55234DF2459       1.913251           NaN  \n",
       "K55301DW1763        1.85166           NaN  \n",
       "K55301BU6139       1.857529           NaN  \n",
       "K55105BU1161       1.176866           NaN  \n",
       "K55210BU2385       1.562266           NaN  "
      ]
     },
     "execution_count": 9,
     "metadata": {},
     "output_type": "execute_result"
    }
   ],
   "source": [
    "irp.performance('sharpe', 'year')"
   ]
  },
  {
   "cell_type": "code",
   "execution_count": 10,
   "id": "f7720764-4539-4333-84d8-72929d3e103a",
   "metadata": {},
   "outputs": [
    {
     "data": {
      "text/plain": [
       "0) K55234DF2657: IBK로우코스트TDF2030증권자투자신탁[혼합-재간접형]종류C-Re\n",
       "1) K55234DF2459: IBK로우코스트TDF2035증권자투자신탁[혼합-재간접형]종류C-Re\n",
       "2) K55301DW1763: 미래에셋전략배분TDF2035혼합자산자투자신탁종류O\n",
       "3) K55301BU6139: 미래에셋전략배분TDF2035혼합자산자투자신탁종류C-P2e\n",
       "4) K55105BU1161: 삼성한국형TDF2030증권투자신탁H[주식혼합-재간접형]Cpe(퇴직연금)\n",
       "5) K55210BU2385: 신한마음편한TDF2030증권투자신탁[주식혼합-재간접형](종류C-re)"
      ]
     },
     "execution_count": 10,
     "metadata": {},
     "output_type": "execute_result"
    }
   ],
   "source": [
    "irp.get_names()"
   ]
  },
  {
   "cell_type": "markdown",
   "id": "36c8bf0d-4dad-4e2c-9839-f6f61c7db911",
   "metadata": {},
   "source": [
    "## HANA"
   ]
  },
  {
   "cell_type": "code",
   "execution_count": 13,
   "id": "7e607069-dd69-4e22-8ce9-f81df53b9554",
   "metadata": {},
   "outputs": [
    {
     "name": "stdout",
     "output_type": "stream",
     "text": [
      "Estimating price from \"data/funds_kebhana.csv\" ...\n",
      "  error: -0.00 %\n",
      "  error: 0.01 %\n",
      "  error: -0.00 %\n",
      "  error: 0.00 %\n",
      "4 assets from 2010-01-29 to 2024-07-31 uploaded.\n",
      "df_prices loaded\n",
      "WARNING: the number of days in a year with followings is 12 in avg.:\n",
      "KR5101888398: 12\n",
      "KR5236AS4826: 12\n",
      "KR5370AP9956: 12\n",
      "K55306CV9946: 12\n",
      "REMINDER: 4 equities converted to daily (days in year: 365)\n",
      "Daily metrics in Performance statistics must be meaningless\n"
     ]
    }
   ],
   "source": [
    "hana = PM.create_universe('UV_HANA')"
   ]
  },
  {
   "cell_type": "code",
   "execution_count": 25,
   "id": "64659ef9-1f1e-4fa3-93ff-55e23a5a0340",
   "metadata": {},
   "outputs": [
    {
     "data": {
      "text/html": [
       "<div>\n",
       "<style scoped>\n",
       "    .dataframe tbody tr th:only-of-type {\n",
       "        vertical-align: middle;\n",
       "    }\n",
       "\n",
       "    .dataframe tbody tr th {\n",
       "        vertical-align: top;\n",
       "    }\n",
       "\n",
       "    .dataframe thead th {\n",
       "        text-align: right;\n",
       "    }\n",
       "</style>\n",
       "<table border=\"1\" class=\"dataframe\">\n",
       "  <thead>\n",
       "    <tr style=\"text-align: right;\">\n",
       "      <th></th>\n",
       "      <th>name</th>\n",
       "      <th>start date</th>\n",
       "      <th>end date</th>\n",
       "      <th>n</th>\n",
       "    </tr>\n",
       "  </thead>\n",
       "  <tbody>\n",
       "    <tr>\n",
       "      <th>KR5101888398</th>\n",
       "      <td>한국투자크레딧포커스ESG증권자투자신탁 1(채권)(C-e)</td>\n",
       "      <td>2010-01-29</td>\n",
       "      <td>2024-07-31</td>\n",
       "      <td>5298</td>\n",
       "    </tr>\n",
       "    <tr>\n",
       "      <th>KR5370AP9956</th>\n",
       "      <td>AB글로벌고수익증권투자신탁(채권-재간접형)종류형Ce</td>\n",
       "      <td>2014-04-30</td>\n",
       "      <td>2024-07-31</td>\n",
       "      <td>3746</td>\n",
       "    </tr>\n",
       "    <tr>\n",
       "      <th>KR5236AS4826</th>\n",
       "      <td>한국밸류10년투자증권투자신탁 1(채권혼합)종류C-E</td>\n",
       "      <td>2014-05-30</td>\n",
       "      <td>2024-07-31</td>\n",
       "      <td>3716</td>\n",
       "    </tr>\n",
       "    <tr>\n",
       "      <th>K55306CV9946</th>\n",
       "      <td>다올글로벌멀티에셋인컴EMP증권자투자신탁[혼합-재간접형](공)종류Ce</td>\n",
       "      <td>2019-10-31</td>\n",
       "      <td>2024-07-31</td>\n",
       "      <td>1736</td>\n",
       "    </tr>\n",
       "  </tbody>\n",
       "</table>\n",
       "</div>"
      ],
      "text/plain": [
       "                                               name start date   end date  \\\n",
       "KR5101888398        한국투자크레딧포커스ESG증권자투자신탁 1(채권)(C-e) 2010-01-29 2024-07-31   \n",
       "KR5370AP9956           AB글로벌고수익증권투자신탁(채권-재간접형)종류형Ce 2014-04-30 2024-07-31   \n",
       "KR5236AS4826           한국밸류10년투자증권투자신탁 1(채권혼합)종류C-E 2014-05-30 2024-07-31   \n",
       "K55306CV9946  다올글로벌멀티에셋인컴EMP증권자투자신탁[혼합-재간접형](공)종류Ce 2019-10-31 2024-07-31   \n",
       "\n",
       "                 n  \n",
       "KR5101888398  5298  \n",
       "KR5370AP9956  3746  \n",
       "KR5236AS4826  3716  \n",
       "K55306CV9946  1736  "
      ]
     },
     "execution_count": 25,
     "metadata": {},
     "output_type": "execute_result"
    }
   ],
   "source": [
    "hana.get_date_range()"
   ]
  },
  {
   "cell_type": "code",
   "execution_count": 26,
   "id": "ff070849-3cf7-4523-a606-c10548ed599d",
   "metadata": {},
   "outputs": [
    {
     "data": {
      "image/png": "[encoded data removed]",
      "text/plain": [
       "<Figure size 1000x400 with 1 Axes>"
      ]
     },
     "metadata": {},
     "output_type": "display_data"
    }
   ],
   "source": [
    "_ = hana.df_prices.loc['2014':].plot(figsize=(10,4))"
   ]
  },
  {
   "cell_type": "markdown",
   "id": "a4f53a08-8233-4b77-b360-e9dc6b3c1b4d",
   "metadata": {},
   "source": [
    "## LIQ"
   ]
  },
  {
   "cell_type": "code",
   "execution_count": 15,
   "id": "72cd3dc3-870e-4d18-810e-b95ff8bba953",
   "metadata": {},
   "outputs": [],
   "source": [
    "# portfolio of past trading system to liquidate soon\n",
    "tickers_liq = [\n",
    "    '011780', '066570', '035890', '040420', '140520', \n",
    "    '072990', '091580', '011200', '002220', '006650', \n",
    "    '136490', '064550', '460860', '040910', '024950',\n",
    "    '900070', '036580', '184230', '460850', '016250',\n",
    "    '001230', '049470', '217820', '109960'\n",
    "]"
   ]
  },
  {
   "cell_type": "code",
   "execution_count": 16,
   "id": "414e2a58-a88f-49df-b3d3-6eba848856c6",
   "metadata": {},
   "outputs": [
    {
     "name": "stdout",
     "output_type": "stream",
     "text": [
      "24 assets from 2021-01-04 to 2024-11-19 uploaded.\n",
      "df_prices loaded\n"
     ]
    }
   ],
   "source": [
    "liq = PM.create_universe('UV_LIQ')"
   ]
  },
  {
   "cell_type": "code",
   "execution_count": 17,
   "id": "b6e60aa6-cc78-4145-a706-9802503cce51",
   "metadata": {},
   "outputs": [
    {
     "name": "stdout",
     "output_type": "stream",
     "text": [
      "Downloading ...\n",
      "REMINDER: 24 tickers set regardless of market\n"
     ]
    },
    {
     "name": "stderr",
     "output_type": "stream",
     "text": [
      "100%|███████████████████████████████████████████████████████████████| 24/24 [00:01<00:00, 17.40it/s]"
     ]
    },
    {
     "name": "stdout",
     "output_type": "stream",
     "text": [
      "1.4 secs elapsed, 0.0 secs paused (0.0%)\n",
      "... done\n",
      "24 assets from 2021-01-04 to 2024-11-20 downloaded.\n",
      "krx_liq_prices_241120.csv saved\n",
      "df_prices updated\n",
      "Execution time of download: 1.96 secs\n"
     ]
    },
    {
     "name": "stderr",
     "output_type": "stream",
     "text": [
      "\n"
     ]
    }
   ],
   "source": [
    "kw = dict(\n",
    "    n_years=3, \n",
    "    tickers= 'selected', #tickers_liq,\n",
    "    close_today = WidgetUniverse.values(1),\n",
    "    interval=5, pause_duration=1, msg=False\n",
    ")\n",
    "liq.download(**kw) if WidgetUniverse.values(0) else None"
   ]
  },
  {
   "cell_type": "markdown",
   "id": "892cb848-d5e2-4bbf-ba7d-f4b38f4b0791",
   "metadata": {},
   "source": [
    "## Additional Data"
   ]
  },
  {
   "cell_type": "markdown",
   "id": "28c87622-d725-4580-b8b9-067ce19f8d8a",
   "metadata": {},
   "source": [
    "### Financial Ratio"
   ]
  },
  {
   "cell_type": "code",
   "execution_count": 20,
   "id": "639f2709-1679-4893-8d1d-b0f065e3980f",
   "metadata": {},
   "outputs": [
    {
     "data": {
      "application/vnd.jupyter.widget-view+json": {
       "model_id": "1b58f271ccbc44e1af1d893929ec1546",
       "version_major": 2,
       "version_minor": 0
      },
      "text/plain": [
       "VBox(children=(Checkbox(value=True, description='Download', indent=False), Checkbox(value=False, description='…"
      ]
     },
     "execution_count": 20,
     "metadata": {},
     "output_type": "execute_result"
    }
   ],
   "source": [
    "WidgetUniverse"
   ]
  },
  {
   "cell_type": "code",
   "execution_count": 21,
   "id": "f80ca883-cc65-49cd-b6c5-bab6a8a55417",
   "metadata": {},
   "outputs": [
    {
     "name": "stdout",
     "output_type": "stream",
     "text": [
      "Financial ratios of 201 stocks from 2023-01-02 to 2024-11-15 loaded\n"
     ]
    }
   ],
   "source": [
    "file = 'kospi200_ratios.csv'\n",
    "fr = FinancialRatios(file, path_data)"
   ]
  },
  {
   "cell_type": "code",
   "execution_count": 22,
   "id": "ad28f354-e504-4422-b486-9982db82ccf8",
   "metadata": {},
   "outputs": [
    {
     "name": "stdout",
     "output_type": "stream",
     "text": [
      "201 assets from 2021-01-04 to 2024-11-15 uploaded.\n",
      "df_prices loaded\n"
     ]
    },
    {
     "name": "stderr",
     "output_type": "stream",
     "text": [
      "100%|█████████████████████████████████████████████████████████████| 201/201 [07:35<00:00,  2.27s/it]\n"
     ]
    },
    {
     "name": "stdout",
     "output_type": "stream",
     "text": [
      "7.6 mins elapsed, 16.0 secs paused (3.5%)\n",
      "Financial ratios of 201 stocks from 2023-01-02 to 2024-11-19 downloaded\n",
      "kospi200_ratios_241119.csv saved\n"
     ]
    }
   ],
   "source": [
    "start = '2023-01-01'\n",
    "universe = 'UV_K200'\n",
    "freq = 'day'\n",
    "\n",
    "if WidgetUniverse.values(0):\n",
    "    tickers = PM.create_universe(universe).df_prices.columns.to_list()\n",
    "    kw = dict(\n",
    "        freq = freq,\n",
    "        close_today = WidgetUniverse.values(1)\n",
    "    )\n",
    "    fr.download(tickers, start, **kw)"
   ]
  },
  {
   "cell_type": "code",
   "execution_count": 23,
   "id": "d630f9b3-6c80-4b4e-b70f-fd80cbe21127",
   "metadata": {},
   "outputs": [],
   "source": [
    "fratio = 'PER'\n",
    "df_ratio = fr.util_reshape(fratio, stack=False)"
   ]
  },
  {
   "cell_type": "code",
   "execution_count": 24,
   "id": "8db8d716-547e-4f36-bc02-cc70c6af7264",
   "metadata": {},
   "outputs": [
    {
     "name": "stdout",
     "output_type": "stream",
     "text": [
      "201 assets from 2021-01-04 to 2024-11-15 uploaded.\n",
      "df_prices loaded\n",
      "WARNING: 494 days from 2021-01-04 to 2022-12-29 missing in the ratio\n"
     ]
    }
   ],
   "source": [
    "df = PM.create_universe(universe).df_prices\n",
    "fr.util_compare_periods(df)"
   ]
  },
  {
   "cell_type": "markdown",
   "id": "198e84e4-ee73-466e-baa8-e5cbc1be4725",
   "metadata": {},
   "source": [
    "# Performance"
   ]
  },
  {
   "cell_type": "code",
   "execution_count": 31,
   "id": "4f9e3e79-0274-47d0-b5ad-d52e3b3fe202",
   "metadata": {},
   "outputs": [
    {
     "name": "stdout",
     "output_type": "stream",
     "text": [
      "Portfolio: MMT, PER, WTR, LIQ, IRP, HANA, FCTR, KRX\n"
     ]
    }
   ],
   "source": [
    "PM.review()"
   ]
  },
  {
   "cell_type": "code",
   "execution_count": 32,
   "id": "66f39b20-3e42-408f-9d74-bc0dd217ac4e",
   "metadata": {
    "scrolled": true
   },
   "outputs": [
    {
     "name": "stdout",
     "output_type": "stream",
     "text": [
      "MMT:\n",
      "201 assets from 2021-01-04 to 2024-11-20 uploaded.\n",
      "df_prices loaded\n",
      "Transaction record to 2024-11-11 loaded\n",
      "\n",
      "PER:\n",
      "201 assets from 2021-01-04 to 2024-11-20 uploaded.\n",
      "df_prices loaded\n",
      "Transaction record to 2024-11-11 loaded\n",
      "\n",
      "WTR:\n",
      "6 assets from 2021-01-04 to 2024-11-20 uploaded.\n",
      "df_prices loaded\n",
      "Transaction record to 2024-11-20 loaded\n",
      "\n"
     ]
    }
   ],
   "source": [
    "pf_list = ['MMT', 'PER', 'WTR']\n",
    "pm = PM(pf_list)"
   ]
  },
  {
   "cell_type": "code",
   "execution_count": 27,
   "id": "c415e04e-bae6-42c6-b459-3c171923f48f",
   "metadata": {},
   "outputs": [
    {
     "name": "stdout",
     "output_type": "stream",
     "text": [
      "LIQ:\n",
      "24 assets from 2021-01-04 to 2024-11-20 uploaded.\n",
      "df_prices loaded\n",
      "Transaction record to 2024-01-03 loaded\n",
      "\n"
     ]
    }
   ],
   "source": [
    "pm.load('LIQ')"
   ]
  },
  {
   "cell_type": "code",
   "execution_count": 33,
   "id": "f75e8058-9c75-4e68-bc44-80d2a3638942",
   "metadata": {},
   "outputs": [
    {
     "data": {
      "image/png": "[encoded data removed]",
      "text/plain": [
       "<Figure size 1000x500 with 2 Axes>"
      ]
     },
     "metadata": {},
     "output_type": "display_data"
    }
   ],
   "source": [
    "start_date='2024-07-01'\n",
    "#pm.plot('MMT', start_date=start_date)\n",
    "pm.plot(pf_list, start_date=start_date, roi=False)"
   ]
  },
  {
   "cell_type": "code",
   "execution_count": 34,
   "id": "c7b20465-e301-4a48-bd96-dde42a27a4f2",
   "metadata": {},
   "outputs": [
    {
     "data": {
      "application/vnd.jupyter.widget-view+json": {
       "model_id": "0bd2cc7517284109968a761ccf15af58",
       "version_major": 2,
       "version_minor": 0
      },
      "text/plain": [
       "DatePicker(value=None, layout=Layout(width='200px'), step=1)"
      ]
     },
     "execution_count": 34,
     "metadata": {},
     "output_type": "execute_result"
    }
   ],
   "source": [
    "w_date"
   ]
  },
  {
   "cell_type": "code",
   "execution_count": 35,
   "id": "713f1fea-97dd-47b4-a05a-c0f5611a7f36",
   "metadata": {},
   "outputs": [
    {
     "data": {
      "text/html": [
       "<div>\n",
       "<style scoped>\n",
       "    .dataframe tbody tr th:only-of-type {\n",
       "        vertical-align: middle;\n",
       "    }\n",
       "\n",
       "    .dataframe tbody tr th {\n",
       "        vertical-align: top;\n",
       "    }\n",
       "\n",
       "    .dataframe thead th {\n",
       "        text-align: right;\n",
       "    }\n",
       "</style>\n",
       "<table border=\"1\" class=\"dataframe\">\n",
       "  <thead>\n",
       "    <tr style=\"text-align: right;\">\n",
       "      <th></th>\n",
       "      <th>MMT</th>\n",
       "      <th>PER</th>\n",
       "      <th>WTR</th>\n",
       "      <th>Total</th>\n",
       "    </tr>\n",
       "  </thead>\n",
       "  <tbody>\n",
       "    <tr>\n",
       "      <th>start</th>\n",
       "      <td>2024-07-19</td>\n",
       "      <td>2024-10-16</td>\n",
       "      <td>2024-07-17</td>\n",
       "      <td>2024-07-17</td>\n",
       "    </tr>\n",
       "    <tr>\n",
       "      <th>date</th>\n",
       "      <td>2024-11-20</td>\n",
       "      <td>2024-11-20</td>\n",
       "      <td>2024-11-20</td>\n",
       "      <td>2024-11-20</td>\n",
       "    </tr>\n",
       "    <tr>\n",
       "      <th>cost</th>\n",
       "      <td>29349501</td>\n",
       "      <td>12249820</td>\n",
       "      <td>10113935</td>\n",
       "      <td>51713256</td>\n",
       "    </tr>\n",
       "    <tr>\n",
       "      <th>proceeds</th>\n",
       "      <td>14322250</td>\n",
       "      <td>2621865</td>\n",
       "      <td>437755</td>\n",
       "      <td>17381870</td>\n",
       "    </tr>\n",
       "    <tr>\n",
       "      <th>value</th>\n",
       "      <td>14098800</td>\n",
       "      <td>9484880</td>\n",
       "      <td>9629485</td>\n",
       "      <td>33213165</td>\n",
       "    </tr>\n",
       "    <tr>\n",
       "      <th>UGL</th>\n",
       "      <td>-928451</td>\n",
       "      <td>-143075</td>\n",
       "      <td>-46695</td>\n",
       "      <td>-1118221</td>\n",
       "    </tr>\n",
       "    <tr>\n",
       "      <th>ROI</th>\n",
       "      <td>-0.031634</td>\n",
       "      <td>-0.01168</td>\n",
       "      <td>-0.004617</td>\n",
       "      <td>-0.021623</td>\n",
       "    </tr>\n",
       "  </tbody>\n",
       "</table>\n",
       "</div>"
      ],
      "text/plain": [
       "                 MMT         PER         WTR       Total\n",
       "start     2024-07-19  2024-10-16  2024-07-17  2024-07-17\n",
       "date      2024-11-20  2024-11-20  2024-11-20  2024-11-20\n",
       "cost        29349501    12249820    10113935    51713256\n",
       "proceeds    14322250     2621865      437755    17381870\n",
       "value       14098800     9484880     9629485    33213165\n",
       "UGL          -928451     -143075      -46695    -1118221\n",
       "ROI        -0.031634    -0.01168   -0.004617   -0.021623"
      ]
     },
     "execution_count": 35,
     "metadata": {},
     "output_type": "execute_result"
    }
   ],
   "source": [
    "pm.valuate(date=w_date.value)"
   ]
  },
  {
   "cell_type": "markdown",
   "id": "2c9b3de9-e20a-4486-9fc7-7ba75bd5fdec",
   "metadata": {},
   "source": [
    "# Transaction"
   ]
  },
  {
   "cell_type": "markdown",
   "id": "8c1d7580-8b01-4154-8c49-14f4063b6b03",
   "metadata": {},
   "source": [
    "## MMT"
   ]
  },
  {
   "cell_type": "code",
   "execution_count": 20,
   "id": "ce7034c3-028d-4acf-bfc8-b57f646d439a",
   "metadata": {},
   "outputs": [
    {
     "name": "stdout",
     "output_type": "stream",
     "text": [
      "201 assets from 2021-01-04 to 2024-11-19 uploaded.\n",
      "df_prices loaded\n",
      "Transaction record to 2024-11-11 loaded\n"
     ]
    }
   ],
   "source": [
    "pf_mmt = PM.create_portfolio('MMT')"
   ]
  },
  {
   "cell_type": "code",
   "execution_count": 14,
   "id": "a9081c9e-ab5f-47a8-8942-35afb67a4621",
   "metadata": {},
   "outputs": [
    {
     "data": {
      "text/plain": [
       "{'data': {'method_select': 'Momentum',\n",
       "  'method_weigh': 'Equally',\n",
       "  'sort_ascending': False,\n",
       "  'n_assets': 5,\n",
       "  'lookback': '1y',\n",
       "  'lag': '1w',\n",
       "  'file': 'pf_k200_momentum',\n",
       "  'path': 'transaction'},\n",
       " 'name': 'MMT'}"
      ]
     },
     "execution_count": 14,
     "metadata": {},
     "output_type": "execute_result"
    }
   ],
   "source": [
    "pf_mmt.portfolio_data['strategy']"
   ]
  },
  {
   "cell_type": "code",
   "execution_count": 29,
   "id": "1c0cd424-6ed5-43f9-9d79-ba40a32d7df1",
   "metadata": {},
   "outputs": [
    {
     "data": {
      "text/html": [
       "<div>\n",
       "<style scoped>\n",
       "    .dataframe tbody tr th:only-of-type {\n",
       "        vertical-align: middle;\n",
       "    }\n",
       "\n",
       "    .dataframe tbody tr th {\n",
       "        vertical-align: top;\n",
       "    }\n",
       "\n",
       "    .dataframe thead th {\n",
       "        text-align: right;\n",
       "    }\n",
       "</style>\n",
       "<table border=\"1\" class=\"dataframe\">\n",
       "  <thead>\n",
       "    <tr style=\"text-align: right;\">\n",
       "      <th></th>\n",
       "      <th></th>\n",
       "      <th>name</th>\n",
       "      <th>price</th>\n",
       "      <th>transaction</th>\n",
       "      <th>net</th>\n",
       "      <th>weight</th>\n",
       "      <th>weight*</th>\n",
       "    </tr>\n",
       "    <tr>\n",
       "      <th>date</th>\n",
       "      <th>asset</th>\n",
       "      <th></th>\n",
       "      <th></th>\n",
       "      <th></th>\n",
       "      <th></th>\n",
       "      <th></th>\n",
       "      <th></th>\n",
       "    </tr>\n",
       "  </thead>\n",
       "  <tbody>\n",
       "    <tr>\n",
       "      <th rowspan=\"7\" valign=\"top\">2024-10-08</th>\n",
       "      <th>267260</th>\n",
       "      <td>HD현대일렉트릭</td>\n",
       "      <td>321000</td>\n",
       "      <td>0</td>\n",
       "      <td>8</td>\n",
       "      <td>0.182</td>\n",
       "      <td>0.1742</td>\n",
       "    </tr>\n",
       "    <tr>\n",
       "      <th>012450</th>\n",
       "      <td>한화에어로스페이스</td>\n",
       "      <td>364500</td>\n",
       "      <td>0</td>\n",
       "      <td>9</td>\n",
       "      <td>0.210</td>\n",
       "      <td>0.2225</td>\n",
       "    </tr>\n",
       "    <tr>\n",
       "      <th>079550</th>\n",
       "      <td>LIG넥스원</td>\n",
       "      <td>243500</td>\n",
       "      <td>-3</td>\n",
       "      <td>11</td>\n",
       "      <td>0.192</td>\n",
       "      <td>0.1817</td>\n",
       "    </tr>\n",
       "    <tr>\n",
       "      <th>003230</th>\n",
       "      <td>삼양식품</td>\n",
       "      <td>524000</td>\n",
       "      <td>0</td>\n",
       "      <td>6</td>\n",
       "      <td>0.216</td>\n",
       "      <td>0.2133</td>\n",
       "    </tr>\n",
       "    <tr>\n",
       "      <th>011790</th>\n",
       "      <td>SKC</td>\n",
       "      <td>153600</td>\n",
       "      <td>20</td>\n",
       "      <td>20</td>\n",
       "      <td>0.200</td>\n",
       "      <td>0.2084</td>\n",
       "    </tr>\n",
       "    <tr>\n",
       "      <th>042700</th>\n",
       "      <td>한미반도체</td>\n",
       "      <td>108100</td>\n",
       "      <td>-21</td>\n",
       "      <td>0</td>\n",
       "      <td>NaN</td>\n",
       "      <td>0.0000</td>\n",
       "    </tr>\n",
       "    <tr>\n",
       "      <th>489790</th>\n",
       "      <td>한화인더스트리얼솔루션즈</td>\n",
       "      <td>39350</td>\n",
       "      <td>-9</td>\n",
       "      <td>0</td>\n",
       "      <td>NaN</td>\n",
       "      <td>0.0000</td>\n",
       "    </tr>\n",
       "    <tr>\n",
       "      <th rowspan=\"6\" valign=\"top\">2024-11-11</th>\n",
       "      <th>267260</th>\n",
       "      <td>HD현대일렉트릭</td>\n",
       "      <td>390000</td>\n",
       "      <td>0</td>\n",
       "      <td>8</td>\n",
       "      <td>0.200</td>\n",
       "      <td>0.2119</td>\n",
       "    </tr>\n",
       "    <tr>\n",
       "      <th>012450</th>\n",
       "      <td>한화에어로스페이스</td>\n",
       "      <td>403500</td>\n",
       "      <td>-2</td>\n",
       "      <td>7</td>\n",
       "      <td>0.200</td>\n",
       "      <td>0.1918</td>\n",
       "    </tr>\n",
       "    <tr>\n",
       "      <th>079550</th>\n",
       "      <td>LIG넥스원</td>\n",
       "      <td>266000</td>\n",
       "      <td>0</td>\n",
       "      <td>11</td>\n",
       "      <td>0.200</td>\n",
       "      <td>0.1987</td>\n",
       "    </tr>\n",
       "    <tr>\n",
       "      <th>003230</th>\n",
       "      <td>삼양식품</td>\n",
       "      <td>563000</td>\n",
       "      <td>-1</td>\n",
       "      <td>5</td>\n",
       "      <td>0.200</td>\n",
       "      <td>0.1912</td>\n",
       "    </tr>\n",
       "    <tr>\n",
       "      <th>064350</th>\n",
       "      <td>현대로템</td>\n",
       "      <td>63300</td>\n",
       "      <td>48</td>\n",
       "      <td>48</td>\n",
       "      <td>0.200</td>\n",
       "      <td>0.2064</td>\n",
       "    </tr>\n",
       "    <tr>\n",
       "      <th>011790</th>\n",
       "      <td>SKC</td>\n",
       "      <td>122145</td>\n",
       "      <td>-20</td>\n",
       "      <td>0</td>\n",
       "      <td>NaN</td>\n",
       "      <td>0.0000</td>\n",
       "    </tr>\n",
       "  </tbody>\n",
       "</table>\n",
       "</div>"
      ],
      "text/plain": [
       "                           name   price  transaction  net  weight  weight*\n",
       "date       asset                                                          \n",
       "2024-10-08 267260      HD현대일렉트릭  321000            0    8   0.182   0.1742\n",
       "           012450     한화에어로스페이스  364500            0    9   0.210   0.2225\n",
       "           079550        LIG넥스원  243500           -3   11   0.192   0.1817\n",
       "           003230          삼양식품  524000            0    6   0.216   0.2133\n",
       "           011790           SKC  153600           20   20   0.200   0.2084\n",
       "           042700         한미반도체  108100          -21    0     NaN   0.0000\n",
       "           489790  한화인더스트리얼솔루션즈   39350           -9    0     NaN   0.0000\n",
       "2024-11-11 267260      HD현대일렉트릭  390000            0    8   0.200   0.2119\n",
       "           012450     한화에어로스페이스  403500           -2    7   0.200   0.1918\n",
       "           079550        LIG넥스원  266000            0   11   0.200   0.1987\n",
       "           003230          삼양식품  563000           -1    5   0.200   0.1912\n",
       "           064350          현대로템   63300           48   48   0.200   0.2064\n",
       "           011790           SKC  122145          -20    0     NaN   0.0000"
      ]
     },
     "execution_count": 29,
     "metadata": {},
     "output_type": "execute_result"
    }
   ],
   "source": [
    "pf_mmt.view_record(-2)"
   ]
  },
  {
   "cell_type": "code",
   "execution_count": 30,
   "id": "ff9dc182-52c7-424f-8acd-06c433602372",
   "metadata": {},
   "outputs": [],
   "source": [
    "# run after editting record file\n",
    "#_ = pf_mmt.update_record(save=True)"
   ]
  },
  {
   "cell_type": "code",
   "execution_count": 21,
   "id": "4dce86f9-1672-4922-b6a5-c10f37d63337",
   "metadata": {},
   "outputs": [
    {
     "name": "stdout",
     "output_type": "stream",
     "text": [
      "Transaction dates updated for profit/loss on the dates\n"
     ]
    },
    {
     "data": {
      "image/png": "[encoded data removed]",
      "text/plain": [
       "<Figure size 1000x600 with 3 Axes>"
      ]
     },
     "metadata": {},
     "output_type": "display_data"
    }
   ],
   "source": [
    "pf_mmt.plot(roi=False)"
   ]
  },
  {
   "cell_type": "code",
   "execution_count": 7,
   "id": "16bba122-8fa5-4e09-b665-af5f7376ed5a",
   "metadata": {},
   "outputs": [
    {
     "data": {
      "text/plain": [
       "start       2024-07-22\n",
       "date        2024-11-15\n",
       "cost          29349501\n",
       "proceeds      14322250\n",
       "value         14184400\n",
       "UGL            -842851\n",
       "ROI          -0.028718\n",
       "dtype: object"
      ]
     },
     "execution_count": 7,
     "metadata": {},
     "output_type": "execute_result"
    }
   ],
   "source": [
    "pf_mmt.valuate()"
   ]
  },
  {
   "cell_type": "code",
   "execution_count": 9,
   "id": "18459292-7c64-4513-8364-99db89ad036f",
   "metadata": {},
   "outputs": [
    {
     "data": {
      "text/html": [
       "<div>\n",
       "<style scoped>\n",
       "    .dataframe tbody tr th:only-of-type {\n",
       "        vertical-align: middle;\n",
       "    }\n",
       "\n",
       "    .dataframe tbody tr th {\n",
       "        vertical-align: top;\n",
       "    }\n",
       "\n",
       "    .dataframe thead th {\n",
       "        text-align: right;\n",
       "    }\n",
       "</style>\n",
       "<table border=\"1\" class=\"dataframe\">\n",
       "  <thead>\n",
       "    <tr style=\"text-align: right;\">\n",
       "      <th></th>\n",
       "      <th>MMT</th>\n",
       "    </tr>\n",
       "  </thead>\n",
       "  <tbody>\n",
       "    <tr>\n",
       "      <th>start</th>\n",
       "      <td>2024-07-22</td>\n",
       "    </tr>\n",
       "    <tr>\n",
       "      <th>end</th>\n",
       "      <td>2024-11-15</td>\n",
       "    </tr>\n",
       "    <tr>\n",
       "      <th>total_return</th>\n",
       "      <td>0.021894</td>\n",
       "    </tr>\n",
       "    <tr>\n",
       "      <th>cagr</th>\n",
       "      <td>0.070573</td>\n",
       "    </tr>\n",
       "    <tr>\n",
       "      <th>calmar</th>\n",
       "      <td>0.234286</td>\n",
       "    </tr>\n",
       "    <tr>\n",
       "      <th>max_drawdown</th>\n",
       "      <td>-0.301226</td>\n",
       "    </tr>\n",
       "    <tr>\n",
       "      <th>avg_drawdown</th>\n",
       "      <td>-0.146865</td>\n",
       "    </tr>\n",
       "    <tr>\n",
       "      <th>avg_drawdown_days</th>\n",
       "      <td>37.0</td>\n",
       "    </tr>\n",
       "    <tr>\n",
       "      <th>daily_vol</th>\n",
       "      <td>0.786499</td>\n",
       "    </tr>\n",
       "    <tr>\n",
       "      <th>daily_sharpe</th>\n",
       "      <td>0.468926</td>\n",
       "    </tr>\n",
       "    <tr>\n",
       "      <th>daily_sortino</th>\n",
       "      <td>0.810495</td>\n",
       "    </tr>\n",
       "    <tr>\n",
       "      <th>monthly_vol</th>\n",
       "      <td>0.152314</td>\n",
       "    </tr>\n",
       "    <tr>\n",
       "      <th>monthly_sharpe</th>\n",
       "      <td>1.821581</td>\n",
       "    </tr>\n",
       "    <tr>\n",
       "      <th>monthly_sortino</th>\n",
       "      <td>3.769071</td>\n",
       "    </tr>\n",
       "  </tbody>\n",
       "</table>\n",
       "</div>"
      ],
      "text/plain": [
       "                          MMT\n",
       "start              2024-07-22\n",
       "end                2024-11-15\n",
       "total_return         0.021894\n",
       "cagr                 0.070573\n",
       "calmar               0.234286\n",
       "max_drawdown        -0.301226\n",
       "avg_drawdown        -0.146865\n",
       "avg_drawdown_days        37.0\n",
       "daily_vol            0.786499\n",
       "daily_sharpe         0.468926\n",
       "daily_sortino        0.810495\n",
       "monthly_vol          0.152314\n",
       "monthly_sharpe       1.821581\n",
       "monthly_sortino      3.769071"
      ]
     },
     "execution_count": 9,
     "metadata": {},
     "output_type": "execute_result"
    }
   ],
   "source": [
    "#pf_mmt.performance(metrics=METRICS)"
   ]
  },
  {
   "cell_type": "code",
   "execution_count": 13,
   "id": "ff8e778d-a780-492a-9a14-945deb966e74",
   "metadata": {},
   "outputs": [
    {
     "data": {
      "application/vnd.jupyter.widget-view+json": {
       "model_id": "f77ca6001c604551943bcfae30858cab",
       "version_major": 2,
       "version_minor": 0
      },
      "text/plain": [
       "VBox(children=(DatePicker(value=None, layout=Layout(width='200px'), step=1), IntSlider(value=0, continuous_upd…"
      ]
     },
     "execution_count": 13,
     "metadata": {},
     "output_type": "execute_result"
    }
   ],
   "source": [
    "# set kwargs of transaction_pipeline\n",
    "WidgetTransaction"
   ]
  },
  {
   "cell_type": "code",
   "execution_count": 14,
   "id": "14f9ea03-bbf3-4335-85fa-22737ba5c920",
   "metadata": {},
   "outputs": [
    {
     "name": "stdout",
     "output_type": "stream",
     "text": [
      "Liquidation set to None\n",
      "5 assets selected by Total return from 2023-11-06 to 2024-11-06\n",
      "Weights of assets determined by Equal weights.\n",
      "Mean absolute error of weights: 7 %\n",
      "ROI: -3.0% (UGL: -977,000) on 2024-11-13\n",
      "Set save=True to save transaction record\n"
     ]
    },
    {
     "data": {
      "text/html": [
       "<div>\n",
       "<style scoped>\n",
       "    .dataframe tbody tr th:only-of-type {\n",
       "        vertical-align: middle;\n",
       "    }\n",
       "\n",
       "    .dataframe tbody tr th {\n",
       "        vertical-align: top;\n",
       "    }\n",
       "\n",
       "    .dataframe thead th {\n",
       "        text-align: right;\n",
       "    }\n",
       "</style>\n",
       "<table border=\"1\" class=\"dataframe\">\n",
       "  <thead>\n",
       "    <tr style=\"text-align: right;\">\n",
       "      <th></th>\n",
       "      <th></th>\n",
       "      <th>name</th>\n",
       "      <th>price</th>\n",
       "      <th>transaction</th>\n",
       "      <th>net</th>\n",
       "      <th>weight</th>\n",
       "      <th>weight*</th>\n",
       "    </tr>\n",
       "    <tr>\n",
       "      <th>date</th>\n",
       "      <th>asset</th>\n",
       "      <th></th>\n",
       "      <th></th>\n",
       "      <th></th>\n",
       "      <th></th>\n",
       "      <th></th>\n",
       "      <th></th>\n",
       "    </tr>\n",
       "  </thead>\n",
       "  <tbody>\n",
       "    <tr>\n",
       "      <th rowspan=\"6\" valign=\"top\">2024-11-11</th>\n",
       "      <th>267260</th>\n",
       "      <td>HD현대일렉트릭</td>\n",
       "      <td>390000</td>\n",
       "      <td>0</td>\n",
       "      <td>8</td>\n",
       "      <td>0.2</td>\n",
       "      <td>0.2119</td>\n",
       "    </tr>\n",
       "    <tr>\n",
       "      <th>012450</th>\n",
       "      <td>한화에어로스페이스</td>\n",
       "      <td>403500</td>\n",
       "      <td>-2</td>\n",
       "      <td>7</td>\n",
       "      <td>0.2</td>\n",
       "      <td>0.1918</td>\n",
       "    </tr>\n",
       "    <tr>\n",
       "      <th>079550</th>\n",
       "      <td>LIG넥스원</td>\n",
       "      <td>266000</td>\n",
       "      <td>0</td>\n",
       "      <td>11</td>\n",
       "      <td>0.2</td>\n",
       "      <td>0.1987</td>\n",
       "    </tr>\n",
       "    <tr>\n",
       "      <th>003230</th>\n",
       "      <td>삼양식품</td>\n",
       "      <td>563000</td>\n",
       "      <td>-1</td>\n",
       "      <td>5</td>\n",
       "      <td>0.2</td>\n",
       "      <td>0.1912</td>\n",
       "    </tr>\n",
       "    <tr>\n",
       "      <th>064350</th>\n",
       "      <td>현대로템</td>\n",
       "      <td>63300</td>\n",
       "      <td>48</td>\n",
       "      <td>48</td>\n",
       "      <td>0.2</td>\n",
       "      <td>0.2064</td>\n",
       "    </tr>\n",
       "    <tr>\n",
       "      <th>011790</th>\n",
       "      <td>SKC</td>\n",
       "      <td>122145</td>\n",
       "      <td>-20</td>\n",
       "      <td>0</td>\n",
       "      <td>NaN</td>\n",
       "      <td>0.0</td>\n",
       "    </tr>\n",
       "    <tr>\n",
       "      <th rowspan=\"6\" valign=\"top\">2024-11-13</th>\n",
       "      <th>267260</th>\n",
       "      <td>HD현대일렉트릭</td>\n",
       "      <td>353000</td>\n",
       "      <td>-1</td>\n",
       "      <td>7</td>\n",
       "      <td>0.200</td>\n",
       "      <td>0.1901</td>\n",
       "    </tr>\n",
       "    <tr>\n",
       "      <th>012450</th>\n",
       "      <td>한화에어로스페이스</td>\n",
       "      <td>402000</td>\n",
       "      <td>-1</td>\n",
       "      <td>6</td>\n",
       "      <td>0.200</td>\n",
       "      <td>0.1856</td>\n",
       "    </tr>\n",
       "    <tr>\n",
       "      <th>003230</th>\n",
       "      <td>삼양식품</td>\n",
       "      <td>542000</td>\n",
       "      <td>0</td>\n",
       "      <td>5</td>\n",
       "      <td>0.200</td>\n",
       "      <td>0.2085</td>\n",
       "    </tr>\n",
       "    <tr>\n",
       "      <th>079550</th>\n",
       "      <td>LIG넥스원</td>\n",
       "      <td>247000</td>\n",
       "      <td>0</td>\n",
       "      <td>11</td>\n",
       "      <td>0.200</td>\n",
       "      <td>0.2090</td>\n",
       "    </tr>\n",
       "    <tr>\n",
       "      <th>000150</th>\n",
       "      <td>두산</td>\n",
       "      <td>224000</td>\n",
       "      <td>12</td>\n",
       "      <td>12</td>\n",
       "      <td>0.200</td>\n",
       "      <td>0.2068</td>\n",
       "    </tr>\n",
       "    <tr>\n",
       "      <th>064350</th>\n",
       "      <td>현대로템</td>\n",
       "      <td>62200</td>\n",
       "      <td>-48</td>\n",
       "      <td>0</td>\n",
       "      <td>NaN</td>\n",
       "      <td>0</td>\n",
       "    </tr>\n",
       "  </tbody>\n",
       "</table>\n",
       "</div>"
      ],
      "text/plain": [
       "                        name   price  transaction  net weight weight*\n",
       "date       asset                                                     \n",
       "2024-11-11 267260   HD현대일렉트릭  390000            0    8    0.2  0.2119\n",
       "           012450  한화에어로스페이스  403500           -2    7    0.2  0.1918\n",
       "           079550     LIG넥스원  266000            0   11    0.2  0.1987\n",
       "           003230       삼양식품  563000           -1    5    0.2  0.1912\n",
       "           064350       현대로템   63300           48   48    0.2  0.2064\n",
       "           011790        SKC  122145          -20    0    NaN     0.0\n",
       "2024-11-13 267260   HD현대일렉트릭  353000           -1    7  0.200  0.1901\n",
       "           012450  한화에어로스페이스  402000           -1    6  0.200  0.1856\n",
       "           003230       삼양식품  542000            0    5  0.200  0.2085\n",
       "           079550     LIG넥스원  247000            0   11  0.200  0.2090\n",
       "           000150         두산  224000           12   12  0.200  0.2068\n",
       "           064350       현대로템   62200          -48    0    NaN       0"
      ]
     },
     "execution_count": 14,
     "metadata": {},
     "output_type": "execute_result"
    }
   ],
   "source": [
    "kwargs_trs = dict(\n",
    "    date = WidgetTransaction.values(0),\n",
    "    capital = WidgetTransaction.values(1),\n",
    "    save = WidgetTransaction.values(2)\n",
    ")\n",
    "kw_liq = dict(\n",
    "    #assets_to_sell= {'489790':34500},\n",
    "    #assets_to_sell= '489790',\n",
    "    #hold= True\n",
    ")\n",
    "_ = pf_mmt.transaction_pipeline(**kwargs_trs, **kw_liq)\n",
    "pf_mmt.view_record(-2)"
   ]
  },
  {
   "cell_type": "markdown",
   "id": "e321b1ba-7505-483c-a08c-636d6fa73d40",
   "metadata": {},
   "source": [
    "### Copy record to edit"
   ]
  },
  {
   "cell_type": "code",
   "execution_count": 11,
   "id": "8e44faa7-52f9-4f88-817b-2afef2d6da1e",
   "metadata": {},
   "outputs": [
    {
     "name": "stdout",
     "output_type": "stream",
     "text": [
      "Transaction record to 2024-09-27 loaded\n",
      "ERROR: check the date as no new transaction\n"
     ]
    }
   ],
   "source": [
    "date = '2024-09-27'\n",
    "save = False\n",
    "\n",
    "pf_mmt.copy_record(date, save=save)"
   ]
  },
  {
   "cell_type": "markdown",
   "id": "2fa7791d-ffa4-4509-81b5-24f4149c9a79",
   "metadata": {},
   "source": [
    "### Update record"
   ]
  },
  {
   "cell_type": "code",
   "execution_count": null,
   "id": "8da825c1-9cf6-4b73-86db-83e7fa99c5d3",
   "metadata": {},
   "outputs": [],
   "source": [
    "pf_mmt.update_record()"
   ]
  },
  {
   "cell_type": "markdown",
   "id": "b8bdce11-c4c7-44dc-bd39-7020450d238d",
   "metadata": {},
   "source": [
    "## KRX\n",
    "*simulation*"
   ]
  },
  {
   "cell_type": "code",
   "execution_count": 16,
   "id": "f52f67b4-a419-43aa-a73b-51683be085fc",
   "metadata": {},
   "outputs": [
    {
     "name": "stdout",
     "output_type": "stream",
     "text": [
      "2712 assets from 2019-01-02 to 2024-10-08 uploaded.\n",
      "df_prices loaded\n",
      "ERROR from get_names: '287410'\n",
      "Transaction record to 2024-10-02 loaded\n"
     ]
    }
   ],
   "source": [
    "pf_krx = PM.create_portfolio('KRX')"
   ]
  },
  {
   "cell_type": "code",
   "execution_count": 17,
   "id": "6d9021e8-73ca-4572-a2dc-e582f517a598",
   "metadata": {},
   "outputs": [
    {
     "data": {
      "text/html": [
       "<div>\n",
       "<style scoped>\n",
       "    .dataframe tbody tr th:only-of-type {\n",
       "        vertical-align: middle;\n",
       "    }\n",
       "\n",
       "    .dataframe tbody tr th {\n",
       "        vertical-align: top;\n",
       "    }\n",
       "\n",
       "    .dataframe thead th {\n",
       "        text-align: right;\n",
       "    }\n",
       "</style>\n",
       "<table border=\"1\" class=\"dataframe\">\n",
       "  <thead>\n",
       "    <tr style=\"text-align: right;\">\n",
       "      <th></th>\n",
       "      <th></th>\n",
       "      <th>name</th>\n",
       "      <th>price</th>\n",
       "      <th>transaction</th>\n",
       "      <th>net</th>\n",
       "      <th>weight</th>\n",
       "      <th>weight*</th>\n",
       "    </tr>\n",
       "    <tr>\n",
       "      <th>date</th>\n",
       "      <th>asset</th>\n",
       "      <th></th>\n",
       "      <th></th>\n",
       "      <th></th>\n",
       "      <th></th>\n",
       "      <th></th>\n",
       "      <th></th>\n",
       "    </tr>\n",
       "  </thead>\n",
       "  <tbody>\n",
       "    <tr>\n",
       "      <th rowspan=\"9\" valign=\"top\">2024-08-01</th>\n",
       "      <th>078860</th>\n",
       "      <td>엔에스이엔엠</td>\n",
       "      <td>10080</td>\n",
       "      <td>-217</td>\n",
       "      <td>109</td>\n",
       "      <td>0.2</td>\n",
       "      <td>0.2056</td>\n",
       "    </tr>\n",
       "    <tr>\n",
       "      <th>016670</th>\n",
       "      <td>디모아</td>\n",
       "      <td>7070</td>\n",
       "      <td>156</td>\n",
       "      <td>156</td>\n",
       "      <td>0.2</td>\n",
       "      <td>0.2064</td>\n",
       "    </tr>\n",
       "    <tr>\n",
       "      <th>159910</th>\n",
       "      <td>스킨앤스킨</td>\n",
       "      <td>1070</td>\n",
       "      <td>1034</td>\n",
       "      <td>1034</td>\n",
       "      <td>0.2</td>\n",
       "      <td>0.2070</td>\n",
       "    </tr>\n",
       "    <tr>\n",
       "      <th>089030</th>\n",
       "      <td>테크윙</td>\n",
       "      <td>51400</td>\n",
       "      <td>21</td>\n",
       "      <td>21</td>\n",
       "      <td>0.2</td>\n",
       "      <td>0.2020</td>\n",
       "    </tr>\n",
       "    <tr>\n",
       "      <th>196170</th>\n",
       "      <td>알테오젠</td>\n",
       "      <td>319000</td>\n",
       "      <td>3</td>\n",
       "      <td>3</td>\n",
       "      <td>0.2</td>\n",
       "      <td>0.1791</td>\n",
       "    </tr>\n",
       "    <tr>\n",
       "      <th>042700</th>\n",
       "      <td>한미반도체</td>\n",
       "      <td>127300</td>\n",
       "      <td>-10</td>\n",
       "      <td>0</td>\n",
       "      <td>NaN</td>\n",
       "      <td>0.0000</td>\n",
       "    </tr>\n",
       "    <tr>\n",
       "      <th>065350</th>\n",
       "      <td>신성델타테크</td>\n",
       "      <td>53800</td>\n",
       "      <td>-21</td>\n",
       "      <td>0</td>\n",
       "      <td>NaN</td>\n",
       "      <td>0.0000</td>\n",
       "    </tr>\n",
       "    <tr>\n",
       "      <th>066790</th>\n",
       "      <td>씨씨에스</td>\n",
       "      <td>2850</td>\n",
       "      <td>-505</td>\n",
       "      <td>0</td>\n",
       "      <td>NaN</td>\n",
       "      <td>0.0000</td>\n",
       "    </tr>\n",
       "    <tr>\n",
       "      <th>139050</th>\n",
       "      <td>BF랩스</td>\n",
       "      <td>2805</td>\n",
       "      <td>-530</td>\n",
       "      <td>0</td>\n",
       "      <td>NaN</td>\n",
       "      <td>0.0000</td>\n",
       "    </tr>\n",
       "    <tr>\n",
       "      <th rowspan=\"6\" valign=\"top\">2024-10-02</th>\n",
       "      <th>078860</th>\n",
       "      <td>엔에스이엔엠</td>\n",
       "      <td>9700</td>\n",
       "      <td>30</td>\n",
       "      <td>139</td>\n",
       "      <td>0.2</td>\n",
       "      <td>0.2000</td>\n",
       "    </tr>\n",
       "    <tr>\n",
       "      <th>016670</th>\n",
       "      <td>디모아</td>\n",
       "      <td>4725</td>\n",
       "      <td>130</td>\n",
       "      <td>286</td>\n",
       "      <td>0.2</td>\n",
       "      <td>0.2004</td>\n",
       "    </tr>\n",
       "    <tr>\n",
       "      <th>033790</th>\n",
       "      <td>피노</td>\n",
       "      <td>9090</td>\n",
       "      <td>148</td>\n",
       "      <td>148</td>\n",
       "      <td>0.2</td>\n",
       "      <td>0.1995</td>\n",
       "    </tr>\n",
       "    <tr>\n",
       "      <th>159910</th>\n",
       "      <td>스킨앤스킨</td>\n",
       "      <td>761</td>\n",
       "      <td>744</td>\n",
       "      <td>1778</td>\n",
       "      <td>0.2</td>\n",
       "      <td>0.2007</td>\n",
       "    </tr>\n",
       "    <tr>\n",
       "      <th>196170</th>\n",
       "      <td>알테오젠</td>\n",
       "      <td>336000</td>\n",
       "      <td>1</td>\n",
       "      <td>4</td>\n",
       "      <td>0.2</td>\n",
       "      <td>0.1993</td>\n",
       "    </tr>\n",
       "    <tr>\n",
       "      <th>089030</th>\n",
       "      <td>테크윙</td>\n",
       "      <td>36500</td>\n",
       "      <td>-21</td>\n",
       "      <td>0</td>\n",
       "      <td>NaN</td>\n",
       "      <td>0.0000</td>\n",
       "    </tr>\n",
       "  </tbody>\n",
       "</table>\n",
       "</div>"
      ],
      "text/plain": [
       "                     name   price  transaction   net  weight  weight*\n",
       "date       asset                                                     \n",
       "2024-08-01 078860  엔에스이엔엠   10080         -217   109     0.2   0.2056\n",
       "           016670     디모아    7070          156   156     0.2   0.2064\n",
       "           159910   스킨앤스킨    1070         1034  1034     0.2   0.2070\n",
       "           089030     테크윙   51400           21    21     0.2   0.2020\n",
       "           196170    알테오젠  319000            3     3     0.2   0.1791\n",
       "           042700   한미반도체  127300          -10     0     NaN   0.0000\n",
       "           065350  신성델타테크   53800          -21     0     NaN   0.0000\n",
       "           066790    씨씨에스    2850         -505     0     NaN   0.0000\n",
       "           139050    BF랩스    2805         -530     0     NaN   0.0000\n",
       "2024-10-02 078860  엔에스이엔엠    9700           30   139     0.2   0.2000\n",
       "           016670     디모아    4725          130   286     0.2   0.2004\n",
       "           033790      피노    9090          148   148     0.2   0.1995\n",
       "           159910   스킨앤스킨     761          744  1778     0.2   0.2007\n",
       "           196170    알테오젠  336000            1     4     0.2   0.1993\n",
       "           089030     테크윙   36500          -21     0     NaN   0.0000"
      ]
     },
     "execution_count": 17,
     "metadata": {},
     "output_type": "execute_result"
    }
   ],
   "source": [
    "pf_krx.view_record(-2)"
   ]
  },
  {
   "cell_type": "code",
   "execution_count": 18,
   "id": "6a0696b3-0980-4f77-9c7d-acd7279e11f8",
   "metadata": {},
   "outputs": [
    {
     "name": "stdout",
     "output_type": "stream",
     "text": [
      "ROI -12.86%, Unrealized G/L -4,042,804 on 2024-10-08\n"
     ]
    },
    {
     "data": {
      "image/png": "[encoded data removed]",
      "text/plain": [
       "<Figure size 1000x600 with 3 Axes>"
      ]
     },
     "metadata": {},
     "output_type": "display_data"
    }
   ],
   "source": [
    "pf_krx.valuate()"
   ]
  },
  {
   "cell_type": "code",
   "execution_count": 19,
   "id": "9c8dedc8-a17e-42a8-9d2b-46f7c5961f18",
   "metadata": {},
   "outputs": [
    {
     "data": {
      "application/vnd.jupyter.widget-view+json": {
       "model_id": "aceb6364a27343919da73be9c93fe721",
       "version_major": 2,
       "version_minor": 0
      },
      "text/plain": [
       "VBox(children=(DatePicker(value=None, layout=Layout(width='200px'), step=1), IntSlider(value=0, continuous_upd…"
      ]
     },
     "execution_count": 19,
     "metadata": {},
     "output_type": "execute_result"
    }
   ],
   "source": [
    "# set kwargs of transaction_pipeline\n",
    "WidgetTransaction"
   ]
  },
  {
   "cell_type": "code",
   "execution_count": 20,
   "id": "ea55973a-431b-4796-9603-f8dfe28f140d",
   "metadata": {},
   "outputs": [
    {
     "name": "stdout",
     "output_type": "stream",
     "text": [
      "Liquidation set to None\n",
      "5 assets selected by Total return from 2023-09-08 to 2024-09-06\n",
      "Weights of assets determined by Equal weights.\n",
      "Mean absolute error of weights: 4 %\n",
      "ROI -12.80%, Unrealized G/L -4,042,804 on 2024-10-08\n",
      "Set save=True to save transaction record\n"
     ]
    },
    {
     "data": {
      "text/html": [
       "<div>\n",
       "<style scoped>\n",
       "    .dataframe tbody tr th:only-of-type {\n",
       "        vertical-align: middle;\n",
       "    }\n",
       "\n",
       "    .dataframe tbody tr th {\n",
       "        vertical-align: top;\n",
       "    }\n",
       "\n",
       "    .dataframe thead th {\n",
       "        text-align: right;\n",
       "    }\n",
       "</style>\n",
       "<table border=\"1\" class=\"dataframe\">\n",
       "  <thead>\n",
       "    <tr style=\"text-align: right;\">\n",
       "      <th></th>\n",
       "      <th></th>\n",
       "      <th>name</th>\n",
       "      <th>price</th>\n",
       "      <th>transaction</th>\n",
       "      <th>net</th>\n",
       "      <th>weight</th>\n",
       "      <th>weight*</th>\n",
       "    </tr>\n",
       "    <tr>\n",
       "      <th>date</th>\n",
       "      <th>asset</th>\n",
       "      <th></th>\n",
       "      <th></th>\n",
       "      <th></th>\n",
       "      <th></th>\n",
       "      <th></th>\n",
       "      <th></th>\n",
       "    </tr>\n",
       "  </thead>\n",
       "  <tbody>\n",
       "    <tr>\n",
       "      <th rowspan=\"6\" valign=\"top\">2024-10-02</th>\n",
       "      <th>078860</th>\n",
       "      <td>엔에스이엔엠</td>\n",
       "      <td>9700</td>\n",
       "      <td>30</td>\n",
       "      <td>139</td>\n",
       "      <td>0.2</td>\n",
       "      <td>0.2</td>\n",
       "    </tr>\n",
       "    <tr>\n",
       "      <th>016670</th>\n",
       "      <td>디모아</td>\n",
       "      <td>4725</td>\n",
       "      <td>130</td>\n",
       "      <td>286</td>\n",
       "      <td>0.2</td>\n",
       "      <td>0.2004</td>\n",
       "    </tr>\n",
       "    <tr>\n",
       "      <th>033790</th>\n",
       "      <td>피노</td>\n",
       "      <td>9090</td>\n",
       "      <td>148</td>\n",
       "      <td>148</td>\n",
       "      <td>0.2</td>\n",
       "      <td>0.1995</td>\n",
       "    </tr>\n",
       "    <tr>\n",
       "      <th>159910</th>\n",
       "      <td>스킨앤스킨</td>\n",
       "      <td>761</td>\n",
       "      <td>744</td>\n",
       "      <td>1778</td>\n",
       "      <td>0.2</td>\n",
       "      <td>0.2007</td>\n",
       "    </tr>\n",
       "    <tr>\n",
       "      <th>196170</th>\n",
       "      <td>알테오젠</td>\n",
       "      <td>336000</td>\n",
       "      <td>1</td>\n",
       "      <td>4</td>\n",
       "      <td>0.2</td>\n",
       "      <td>0.1993</td>\n",
       "    </tr>\n",
       "    <tr>\n",
       "      <th>089030</th>\n",
       "      <td>테크윙</td>\n",
       "      <td>36500</td>\n",
       "      <td>-21</td>\n",
       "      <td>0</td>\n",
       "      <td>NaN</td>\n",
       "      <td>0.0</td>\n",
       "    </tr>\n",
       "    <tr>\n",
       "      <th rowspan=\"5\" valign=\"top\">2024-10-08</th>\n",
       "      <th>078860</th>\n",
       "      <td>None</td>\n",
       "      <td>9390</td>\n",
       "      <td>6</td>\n",
       "      <td>145</td>\n",
       "      <td>0.200</td>\n",
       "      <td>0.2079</td>\n",
       "    </tr>\n",
       "    <tr>\n",
       "      <th>016670</th>\n",
       "      <td>None</td>\n",
       "      <td>4865</td>\n",
       "      <td>-6</td>\n",
       "      <td>280</td>\n",
       "      <td>0.200</td>\n",
       "      <td>0.2080</td>\n",
       "    </tr>\n",
       "    <tr>\n",
       "      <th>033790</th>\n",
       "      <td>None</td>\n",
       "      <td>9040</td>\n",
       "      <td>2</td>\n",
       "      <td>150</td>\n",
       "      <td>0.200</td>\n",
       "      <td>0.2070</td>\n",
       "    </tr>\n",
       "    <tr>\n",
       "      <th>196170</th>\n",
       "      <td>None</td>\n",
       "      <td>369000</td>\n",
       "      <td>-1</td>\n",
       "      <td>3</td>\n",
       "      <td>0.200</td>\n",
       "      <td>0.1690</td>\n",
       "    </tr>\n",
       "    <tr>\n",
       "      <th>159910</th>\n",
       "      <td>None</td>\n",
       "      <td>734</td>\n",
       "      <td>79</td>\n",
       "      <td>1857</td>\n",
       "      <td>0.200</td>\n",
       "      <td>0.2081</td>\n",
       "    </tr>\n",
       "  </tbody>\n",
       "</table>\n",
       "</div>"
      ],
      "text/plain": [
       "                     name   price  transaction   net weight weight*\n",
       "date       asset                                                   \n",
       "2024-10-02 078860  엔에스이엔엠    9700           30   139    0.2     0.2\n",
       "           016670     디모아    4725          130   286    0.2  0.2004\n",
       "           033790      피노    9090          148   148    0.2  0.1995\n",
       "           159910   스킨앤스킨     761          744  1778    0.2  0.2007\n",
       "           196170    알테오젠  336000            1     4    0.2  0.1993\n",
       "           089030     테크윙   36500          -21     0    NaN     0.0\n",
       "2024-10-08 078860    None    9390            6   145  0.200  0.2079\n",
       "           016670    None    4865           -6   280  0.200  0.2080\n",
       "           033790    None    9040            2   150  0.200  0.2070\n",
       "           196170    None  369000           -1     3  0.200  0.1690\n",
       "           159910    None     734           79  1857  0.200  0.2081"
      ]
     },
     "execution_count": 20,
     "metadata": {},
     "output_type": "execute_result"
    }
   ],
   "source": [
    "kwargs_trs = dict(\n",
    "    date = WidgetTransaction.values(0),\n",
    "    capital = WidgetTransaction.values(1),\n",
    "    save = WidgetTransaction.values(2)\n",
    ")\n",
    "\n",
    "_ = pf_krx.transaction_pipeline(**kwargs_trs)\n",
    "pf_krx.view_record(-2)"
   ]
  },
  {
   "cell_type": "markdown",
   "id": "819496ef-539e-45bb-a0cc-b2b968b6f76e",
   "metadata": {},
   "source": [
    "## PER"
   ]
  },
  {
   "cell_type": "code",
   "execution_count": 41,
   "id": "7b89e9ae-4237-44c8-99f3-5069eec7fa63",
   "metadata": {},
   "outputs": [
    {
     "name": "stdout",
     "output_type": "stream",
     "text": [
      "Financial ratios of 201 stocks from 2023-01-02 to 2024-11-19 loaded\n"
     ]
    }
   ],
   "source": [
    "file = 'kospi200_ratios.csv'\n",
    "df_ratio = FinancialRatios.util_get_ratio('PER', file, path_data)"
   ]
  },
  {
   "cell_type": "code",
   "execution_count": 42,
   "id": "4292bb7e-83e5-4b1f-bd4a-69029b9339c8",
   "metadata": {},
   "outputs": [
    {
     "name": "stdout",
     "output_type": "stream",
     "text": [
      "201 assets from 2021-01-04 to 2024-11-19 uploaded.\n",
      "df_prices loaded\n",
      "Transaction record to 2024-11-11 loaded\n"
     ]
    }
   ],
   "source": [
    "pf_per = PM.create_portfolio('PER', df_additional=df_ratio)"
   ]
  },
  {
   "cell_type": "code",
   "execution_count": 12,
   "id": "96975148-ae7b-4cd8-86b0-9a748ba28d5f",
   "metadata": {},
   "outputs": [
    {
     "data": {
      "text/plain": [
       "{'universe': {'data': {'universe': 'kospi200',\n",
       "   'file': 'kospi200_prices',\n",
       "   'upload_type': 'price',\n",
       "   'path': 'data'},\n",
       "  'name': 'UV_K200'},\n",
       " 'strategy': {'data': {'method_select': 'F-ratio',\n",
       "   'method_weigh': 'Equally',\n",
       "   'sort_ascending': True,\n",
       "   'n_assets': 20,\n",
       "   'lookback': '2m',\n",
       "   'lag': 0,\n",
       "   'file': 'pf_k200_per',\n",
       "   'path': 'transaction'},\n",
       "  'name': 'PER'}}"
      ]
     },
     "execution_count": 12,
     "metadata": {},
     "output_type": "execute_result"
    }
   ],
   "source": [
    "pf_per.portfolio_data"
   ]
  },
  {
   "cell_type": "code",
   "execution_count": 13,
   "id": "77027256-82a9-4fd7-89ed-b854710eae4f",
   "metadata": {},
   "outputs": [
    {
     "data": {
      "text/html": [
       "<div>\n",
       "<style scoped>\n",
       "    .dataframe tbody tr th:only-of-type {\n",
       "        vertical-align: middle;\n",
       "    }\n",
       "\n",
       "    .dataframe tbody tr th {\n",
       "        vertical-align: top;\n",
       "    }\n",
       "\n",
       "    .dataframe thead th {\n",
       "        text-align: right;\n",
       "    }\n",
       "</style>\n",
       "<table border=\"1\" class=\"dataframe\">\n",
       "  <thead>\n",
       "    <tr style=\"text-align: right;\">\n",
       "      <th></th>\n",
       "      <th></th>\n",
       "      <th>name</th>\n",
       "      <th>price</th>\n",
       "      <th>transaction</th>\n",
       "      <th>net</th>\n",
       "      <th>weight</th>\n",
       "      <th>weight*</th>\n",
       "    </tr>\n",
       "    <tr>\n",
       "      <th>date</th>\n",
       "      <th>asset</th>\n",
       "      <th></th>\n",
       "      <th></th>\n",
       "      <th></th>\n",
       "      <th></th>\n",
       "      <th></th>\n",
       "      <th></th>\n",
       "    </tr>\n",
       "  </thead>\n",
       "  <tbody>\n",
       "    <tr>\n",
       "      <th rowspan=\"5\" valign=\"top\">2024-10-17</th>\n",
       "      <th>010060</th>\n",
       "      <td>OCI홀딩스</td>\n",
       "      <td>66700</td>\n",
       "      <td>14</td>\n",
       "      <td>14</td>\n",
       "      <td>0.20</td>\n",
       "      <td>0.1892</td>\n",
       "    </tr>\n",
       "    <tr>\n",
       "      <th>003030</th>\n",
       "      <td>세아제강지주</td>\n",
       "      <td>164450</td>\n",
       "      <td>6</td>\n",
       "      <td>6</td>\n",
       "      <td>0.20</td>\n",
       "      <td>0.1999</td>\n",
       "    </tr>\n",
       "    <tr>\n",
       "      <th>009970</th>\n",
       "      <td>영원무역홀딩스</td>\n",
       "      <td>89000</td>\n",
       "      <td>11</td>\n",
       "      <td>11</td>\n",
       "      <td>0.20</td>\n",
       "      <td>0.1983</td>\n",
       "    </tr>\n",
       "    <tr>\n",
       "      <th>016380</th>\n",
       "      <td>KG스틸</td>\n",
       "      <td>6600</td>\n",
       "      <td>154</td>\n",
       "      <td>154</td>\n",
       "      <td>0.20</td>\n",
       "      <td>0.2059</td>\n",
       "    </tr>\n",
       "    <tr>\n",
       "      <th>047040</th>\n",
       "      <td>대우건설</td>\n",
       "      <td>3820</td>\n",
       "      <td>267</td>\n",
       "      <td>267</td>\n",
       "      <td>0.20</td>\n",
       "      <td>0.2066</td>\n",
       "    </tr>\n",
       "    <tr>\n",
       "      <th rowspan=\"20\" valign=\"top\">2024-11-11</th>\n",
       "      <th>010060</th>\n",
       "      <td>OCI홀딩스</td>\n",
       "      <td>59800</td>\n",
       "      <td>-6</td>\n",
       "      <td>8</td>\n",
       "      <td>0.05</td>\n",
       "      <td>0.0497</td>\n",
       "    </tr>\n",
       "    <tr>\n",
       "      <th>003030</th>\n",
       "      <td>세아제강지주</td>\n",
       "      <td>193300</td>\n",
       "      <td>-4</td>\n",
       "      <td>2</td>\n",
       "      <td>0.05</td>\n",
       "      <td>0.0402</td>\n",
       "    </tr>\n",
       "    <tr>\n",
       "      <th>009970</th>\n",
       "      <td>영원무역홀딩스</td>\n",
       "      <td>85700</td>\n",
       "      <td>-6</td>\n",
       "      <td>5</td>\n",
       "      <td>0.05</td>\n",
       "      <td>0.0446</td>\n",
       "    </tr>\n",
       "    <tr>\n",
       "      <th>016380</th>\n",
       "      <td>KG스틸</td>\n",
       "      <td>6590</td>\n",
       "      <td>-78</td>\n",
       "      <td>76</td>\n",
       "      <td>0.05</td>\n",
       "      <td>0.0521</td>\n",
       "    </tr>\n",
       "    <tr>\n",
       "      <th>047040</th>\n",
       "      <td>대우건설</td>\n",
       "      <td>3635</td>\n",
       "      <td>-127</td>\n",
       "      <td>140</td>\n",
       "      <td>0.05</td>\n",
       "      <td>0.0529</td>\n",
       "    </tr>\n",
       "    <tr>\n",
       "      <th>088350</th>\n",
       "      <td>한화생명</td>\n",
       "      <td>2865</td>\n",
       "      <td>180</td>\n",
       "      <td>180</td>\n",
       "      <td>0.05</td>\n",
       "      <td>0.0536</td>\n",
       "    </tr>\n",
       "    <tr>\n",
       "      <th>078930</th>\n",
       "      <td>GS</td>\n",
       "      <td>41600</td>\n",
       "      <td>12</td>\n",
       "      <td>12</td>\n",
       "      <td>0.05</td>\n",
       "      <td>0.0519</td>\n",
       "    </tr>\n",
       "    <tr>\n",
       "      <th>111770</th>\n",
       "      <td>영원무역</td>\n",
       "      <td>40150</td>\n",
       "      <td>12</td>\n",
       "      <td>12</td>\n",
       "      <td>0.05</td>\n",
       "      <td>0.0501</td>\n",
       "    </tr>\n",
       "    <tr>\n",
       "      <th>139130</th>\n",
       "      <td>DGB금융지주</td>\n",
       "      <td>8250</td>\n",
       "      <td>63</td>\n",
       "      <td>63</td>\n",
       "      <td>0.05</td>\n",
       "      <td>0.0540</td>\n",
       "    </tr>\n",
       "    <tr>\n",
       "      <th>005830</th>\n",
       "      <td>DB손해보험</td>\n",
       "      <td>106900</td>\n",
       "      <td>4</td>\n",
       "      <td>4</td>\n",
       "      <td>0.05</td>\n",
       "      <td>0.0445</td>\n",
       "    </tr>\n",
       "    <tr>\n",
       "      <th>001450</th>\n",
       "      <td>현대해상</td>\n",
       "      <td>29750</td>\n",
       "      <td>17</td>\n",
       "      <td>17</td>\n",
       "      <td>0.05</td>\n",
       "      <td>0.0526</td>\n",
       "    </tr>\n",
       "    <tr>\n",
       "      <th>009900</th>\n",
       "      <td>명신산업</td>\n",
       "      <td>13770</td>\n",
       "      <td>36</td>\n",
       "      <td>36</td>\n",
       "      <td>0.05</td>\n",
       "      <td>0.0515</td>\n",
       "    </tr>\n",
       "    <tr>\n",
       "      <th>241560</th>\n",
       "      <td>두산밥캣</td>\n",
       "      <td>40000</td>\n",
       "      <td>13</td>\n",
       "      <td>13</td>\n",
       "      <td>0.05</td>\n",
       "      <td>0.0541</td>\n",
       "    </tr>\n",
       "    <tr>\n",
       "      <th>000270</th>\n",
       "      <td>기아</td>\n",
       "      <td>93600</td>\n",
       "      <td>5</td>\n",
       "      <td>5</td>\n",
       "      <td>0.05</td>\n",
       "      <td>0.0487</td>\n",
       "    </tr>\n",
       "    <tr>\n",
       "      <th>024110</th>\n",
       "      <td>기업은행</td>\n",
       "      <td>14570</td>\n",
       "      <td>35</td>\n",
       "      <td>35</td>\n",
       "      <td>0.05</td>\n",
       "      <td>0.0530</td>\n",
       "    </tr>\n",
       "    <tr>\n",
       "      <th>005850</th>\n",
       "      <td>에스엘</td>\n",
       "      <td>31350</td>\n",
       "      <td>16</td>\n",
       "      <td>16</td>\n",
       "      <td>0.05</td>\n",
       "      <td>0.0522</td>\n",
       "    </tr>\n",
       "    <tr>\n",
       "      <th>316140</th>\n",
       "      <td>우리금융지주</td>\n",
       "      <td>16080</td>\n",
       "      <td>32</td>\n",
       "      <td>32</td>\n",
       "      <td>0.05</td>\n",
       "      <td>0.0535</td>\n",
       "    </tr>\n",
       "    <tr>\n",
       "      <th>138930</th>\n",
       "      <td>BNK금융지주</td>\n",
       "      <td>9430</td>\n",
       "      <td>55</td>\n",
       "      <td>55</td>\n",
       "      <td>0.05</td>\n",
       "      <td>0.0539</td>\n",
       "    </tr>\n",
       "    <tr>\n",
       "      <th>005380</th>\n",
       "      <td>현대차</td>\n",
       "      <td>209500</td>\n",
       "      <td>2</td>\n",
       "      <td>2</td>\n",
       "      <td>0.05</td>\n",
       "      <td>0.0436</td>\n",
       "    </tr>\n",
       "    <tr>\n",
       "      <th>017800</th>\n",
       "      <td>현대엘리베이</td>\n",
       "      <td>46300</td>\n",
       "      <td>9</td>\n",
       "      <td>9</td>\n",
       "      <td>0.05</td>\n",
       "      <td>0.0433</td>\n",
       "    </tr>\n",
       "  </tbody>\n",
       "</table>\n",
       "</div>"
      ],
      "text/plain": [
       "                      name   price  transaction  net  weight  weight*\n",
       "date       asset                                                     \n",
       "2024-10-17 010060   OCI홀딩스   66700           14   14    0.20   0.1892\n",
       "           003030   세아제강지주  164450            6    6    0.20   0.1999\n",
       "           009970  영원무역홀딩스   89000           11   11    0.20   0.1983\n",
       "           016380     KG스틸    6600          154  154    0.20   0.2059\n",
       "           047040     대우건설    3820          267  267    0.20   0.2066\n",
       "2024-11-11 010060   OCI홀딩스   59800           -6    8    0.05   0.0497\n",
       "           003030   세아제강지주  193300           -4    2    0.05   0.0402\n",
       "           009970  영원무역홀딩스   85700           -6    5    0.05   0.0446\n",
       "           016380     KG스틸    6590          -78   76    0.05   0.0521\n",
       "           047040     대우건설    3635         -127  140    0.05   0.0529\n",
       "           088350     한화생명    2865          180  180    0.05   0.0536\n",
       "           078930       GS   41600           12   12    0.05   0.0519\n",
       "           111770     영원무역   40150           12   12    0.05   0.0501\n",
       "           139130  DGB금융지주    8250           63   63    0.05   0.0540\n",
       "           005830   DB손해보험  106900            4    4    0.05   0.0445\n",
       "           001450     현대해상   29750           17   17    0.05   0.0526\n",
       "           009900     명신산업   13770           36   36    0.05   0.0515\n",
       "           241560     두산밥캣   40000           13   13    0.05   0.0541\n",
       "           000270       기아   93600            5    5    0.05   0.0487\n",
       "           024110     기업은행   14570           35   35    0.05   0.0530\n",
       "           005850      에스엘   31350           16   16    0.05   0.0522\n",
       "           316140   우리금융지주   16080           32   32    0.05   0.0535\n",
       "           138930  BNK금융지주    9430           55   55    0.05   0.0539\n",
       "           005380      현대차  209500            2    2    0.05   0.0436\n",
       "           017800   현대엘리베이   46300            9    9    0.05   0.0433"
      ]
     },
     "execution_count": 13,
     "metadata": {},
     "output_type": "execute_result"
    }
   ],
   "source": [
    "pf_per.view_record(-2)"
   ]
  },
  {
   "cell_type": "code",
   "execution_count": 14,
   "id": "1ae8ab89-ee16-4831-9198-0cf36b40d258",
   "metadata": {},
   "outputs": [],
   "source": [
    "#pf_per.update_record()\n",
    "#pf_per.view_record(-2)"
   ]
  },
  {
   "cell_type": "code",
   "execution_count": 43,
   "id": "26a53806",
   "metadata": {},
   "outputs": [
    {
     "data": {
      "image/png": "[encoded data removed]",
      "text/plain": [
       "<Figure size 1000x600 with 3 Axes>"
      ]
     },
     "metadata": {},
     "output_type": "display_data"
    }
   ],
   "source": [
    "pf_per.plot()"
   ]
  },
  {
   "cell_type": "code",
   "execution_count": 44,
   "id": "f5d92ef5-2650-475f-9bf0-b19e540776c4",
   "metadata": {},
   "outputs": [
    {
     "data": {
      "image/png": "[encoded data removed]",
      "text/plain": [
       "<Figure size 1000x400 with 2 Axes>"
      ]
     },
     "metadata": {},
     "output_type": "display_data"
    }
   ],
   "source": [
    "_ = pf_per.check_additional(plot=True, figsize=(10,4), legend=False)"
   ]
  },
  {
   "cell_type": "code",
   "execution_count": 10,
   "id": "55d460f4",
   "metadata": {},
   "outputs": [
    {
     "data": {
      "application/vnd.jupyter.widget-view+json": {
       "model_id": "42ce8272a86942aebcb9c0c40202285f",
       "version_major": 2,
       "version_minor": 0
      },
      "text/plain": [
       "VBox(children=(DatePicker(value=None, layout=Layout(width='200px'), step=1), IntSlider(value=0, continuous_upd…"
      ]
     },
     "execution_count": 10,
     "metadata": {},
     "output_type": "execute_result"
    }
   ],
   "source": [
    "# set kwargs of transaction_pipeline\n",
    "WidgetTransaction"
   ]
  },
  {
   "cell_type": "code",
   "execution_count": 46,
   "id": "52665cf9",
   "metadata": {},
   "outputs": [
    {
     "name": "stdout",
     "output_type": "stream",
     "text": [
      "Liquidation set to None\n",
      "20 assets selected by Financial Ratio from 2024-09-13 to 2024-11-13\n",
      "Weights of assets determined by Equal weights.\n",
      "Mean absolute error of weights: 5 %\n",
      "Set save=True to save transaction record\n"
     ]
    },
    {
     "data": {
      "text/html": [
       "<div>\n",
       "<style scoped>\n",
       "    .dataframe tbody tr th:only-of-type {\n",
       "        vertical-align: middle;\n",
       "    }\n",
       "\n",
       "    .dataframe tbody tr th {\n",
       "        vertical-align: top;\n",
       "    }\n",
       "\n",
       "    .dataframe thead th {\n",
       "        text-align: right;\n",
       "    }\n",
       "</style>\n",
       "<table border=\"1\" class=\"dataframe\">\n",
       "  <thead>\n",
       "    <tr style=\"text-align: right;\">\n",
       "      <th></th>\n",
       "      <th></th>\n",
       "      <th>name</th>\n",
       "      <th>price</th>\n",
       "      <th>transaction</th>\n",
       "      <th>net</th>\n",
       "      <th>weight</th>\n",
       "      <th>weight*</th>\n",
       "    </tr>\n",
       "    <tr>\n",
       "      <th>date</th>\n",
       "      <th>asset</th>\n",
       "      <th></th>\n",
       "      <th></th>\n",
       "      <th></th>\n",
       "      <th></th>\n",
       "      <th></th>\n",
       "      <th></th>\n",
       "    </tr>\n",
       "  </thead>\n",
       "  <tbody>\n",
       "    <tr>\n",
       "      <th rowspan=\"20\" valign=\"top\">2024-11-13</th>\n",
       "      <th>010060</th>\n",
       "      <td>OCI홀딩스</td>\n",
       "      <td>56600</td>\n",
       "      <td>0</td>\n",
       "      <td>8</td>\n",
       "      <td>0.050</td>\n",
       "      <td>0.0511</td>\n",
       "    </tr>\n",
       "    <tr>\n",
       "      <th>003030</th>\n",
       "      <td>세아제강지주</td>\n",
       "      <td>180800</td>\n",
       "      <td>0</td>\n",
       "      <td>2</td>\n",
       "      <td>0.050</td>\n",
       "      <td>0.0408</td>\n",
       "    </tr>\n",
       "    <tr>\n",
       "      <th>009970</th>\n",
       "      <td>영원무역홀딩스</td>\n",
       "      <td>83700</td>\n",
       "      <td>0</td>\n",
       "      <td>5</td>\n",
       "      <td>0.050</td>\n",
       "      <td>0.0472</td>\n",
       "    </tr>\n",
       "    <tr>\n",
       "      <th>016380</th>\n",
       "      <td>KG스틸</td>\n",
       "      <td>5980</td>\n",
       "      <td>1</td>\n",
       "      <td>77</td>\n",
       "      <td>0.050</td>\n",
       "      <td>0.0519</td>\n",
       "    </tr>\n",
       "    <tr>\n",
       "      <th>047040</th>\n",
       "      <td>대우건설</td>\n",
       "      <td>3445</td>\n",
       "      <td>-5</td>\n",
       "      <td>135</td>\n",
       "      <td>0.050</td>\n",
       "      <td>0.0525</td>\n",
       "    </tr>\n",
       "    <tr>\n",
       "      <th>088350</th>\n",
       "      <td>한화생명</td>\n",
       "      <td>2750</td>\n",
       "      <td>-11</td>\n",
       "      <td>169</td>\n",
       "      <td>0.050</td>\n",
       "      <td>0.0524</td>\n",
       "    </tr>\n",
       "    <tr>\n",
       "      <th>078930</th>\n",
       "      <td>GS</td>\n",
       "      <td>41050</td>\n",
       "      <td>-1</td>\n",
       "      <td>11</td>\n",
       "      <td>0.050</td>\n",
       "      <td>0.0509</td>\n",
       "    </tr>\n",
       "    <tr>\n",
       "      <th>111770</th>\n",
       "      <td>영원무역</td>\n",
       "      <td>39000</td>\n",
       "      <td>-1</td>\n",
       "      <td>11</td>\n",
       "      <td>0.050</td>\n",
       "      <td>0.0484</td>\n",
       "    </tr>\n",
       "    <tr>\n",
       "      <th>139130</th>\n",
       "      <td>DGB금융지주</td>\n",
       "      <td>8200</td>\n",
       "      <td>-7</td>\n",
       "      <td>56</td>\n",
       "      <td>0.050</td>\n",
       "      <td>0.0518</td>\n",
       "    </tr>\n",
       "    <tr>\n",
       "      <th>005830</th>\n",
       "      <td>DB손해보험</td>\n",
       "      <td>105400</td>\n",
       "      <td>0</td>\n",
       "      <td>4</td>\n",
       "      <td>0.050</td>\n",
       "      <td>0.0476</td>\n",
       "    </tr>\n",
       "    <tr>\n",
       "      <th>001450</th>\n",
       "      <td>현대해상</td>\n",
       "      <td>28750</td>\n",
       "      <td>-1</td>\n",
       "      <td>16</td>\n",
       "      <td>0.050</td>\n",
       "      <td>0.0519</td>\n",
       "    </tr>\n",
       "    <tr>\n",
       "      <th>241560</th>\n",
       "      <td>두산밥캣</td>\n",
       "      <td>37850</td>\n",
       "      <td>-1</td>\n",
       "      <td>12</td>\n",
       "      <td>0.050</td>\n",
       "      <td>0.0512</td>\n",
       "    </tr>\n",
       "    <tr>\n",
       "      <th>000270</th>\n",
       "      <td>기아</td>\n",
       "      <td>90800</td>\n",
       "      <td>0</td>\n",
       "      <td>5</td>\n",
       "      <td>0.050</td>\n",
       "      <td>0.0512</td>\n",
       "    </tr>\n",
       "    <tr>\n",
       "      <th>009900</th>\n",
       "      <td>명신산업</td>\n",
       "      <td>13060</td>\n",
       "      <td>-1</td>\n",
       "      <td>35</td>\n",
       "      <td>0.050</td>\n",
       "      <td>0.0516</td>\n",
       "    </tr>\n",
       "    <tr>\n",
       "      <th>024110</th>\n",
       "      <td>기업은행</td>\n",
       "      <td>14380</td>\n",
       "      <td>-3</td>\n",
       "      <td>32</td>\n",
       "      <td>0.050</td>\n",
       "      <td>0.0519</td>\n",
       "    </tr>\n",
       "    <tr>\n",
       "      <th>005850</th>\n",
       "      <td>에스엘</td>\n",
       "      <td>30000</td>\n",
       "      <td>-1</td>\n",
       "      <td>15</td>\n",
       "      <td>0.050</td>\n",
       "      <td>0.0508</td>\n",
       "    </tr>\n",
       "    <tr>\n",
       "      <th>316140</th>\n",
       "      <td>우리금융지주</td>\n",
       "      <td>16110</td>\n",
       "      <td>-4</td>\n",
       "      <td>28</td>\n",
       "      <td>0.050</td>\n",
       "      <td>0.0509</td>\n",
       "    </tr>\n",
       "    <tr>\n",
       "      <th>138930</th>\n",
       "      <td>BNK금융지주</td>\n",
       "      <td>9420</td>\n",
       "      <td>-6</td>\n",
       "      <td>49</td>\n",
       "      <td>0.050</td>\n",
       "      <td>0.0521</td>\n",
       "    </tr>\n",
       "    <tr>\n",
       "      <th>005380</th>\n",
       "      <td>현대차</td>\n",
       "      <td>199900</td>\n",
       "      <td>0</td>\n",
       "      <td>2</td>\n",
       "      <td>0.050</td>\n",
       "      <td>0.0451</td>\n",
       "    </tr>\n",
       "    <tr>\n",
       "      <th>017800</th>\n",
       "      <td>현대엘리베이</td>\n",
       "      <td>48100</td>\n",
       "      <td>0</td>\n",
       "      <td>9</td>\n",
       "      <td>0.050</td>\n",
       "      <td>0.0488</td>\n",
       "    </tr>\n",
       "  </tbody>\n",
       "</table>\n",
       "</div>"
      ],
      "text/plain": [
       "                      name   price  transaction  net weight weight*\n",
       "date       asset                                                   \n",
       "2024-11-13 010060   OCI홀딩스   56600            0    8  0.050  0.0511\n",
       "           003030   세아제강지주  180800            0    2  0.050  0.0408\n",
       "           009970  영원무역홀딩스   83700            0    5  0.050  0.0472\n",
       "           016380     KG스틸    5980            1   77  0.050  0.0519\n",
       "           047040     대우건설    3445           -5  135  0.050  0.0525\n",
       "           088350     한화생명    2750          -11  169  0.050  0.0524\n",
       "           078930       GS   41050           -1   11  0.050  0.0509\n",
       "           111770     영원무역   39000           -1   11  0.050  0.0484\n",
       "           139130  DGB금융지주    8200           -7   56  0.050  0.0518\n",
       "           005830   DB손해보험  105400            0    4  0.050  0.0476\n",
       "           001450     현대해상   28750           -1   16  0.050  0.0519\n",
       "           241560     두산밥캣   37850           -1   12  0.050  0.0512\n",
       "           000270       기아   90800            0    5  0.050  0.0512\n",
       "           009900     명신산업   13060           -1   35  0.050  0.0516\n",
       "           024110     기업은행   14380           -3   32  0.050  0.0519\n",
       "           005850      에스엘   30000           -1   15  0.050  0.0508\n",
       "           316140   우리금융지주   16110           -4   28  0.050  0.0509\n",
       "           138930  BNK금융지주    9420           -6   49  0.050  0.0521\n",
       "           005380      현대차  199900            0    2  0.050  0.0451\n",
       "           017800   현대엘리베이   48100            0    9  0.050  0.0488"
      ]
     },
     "execution_count": 46,
     "metadata": {},
     "output_type": "execute_result"
    }
   ],
   "source": [
    "kwargs_trs = dict(\n",
    "    date = WidgetTransaction.values(0),\n",
    "    capital = WidgetTransaction.values(1),\n",
    "    save = WidgetTransaction.values(2)\n",
    ")\n",
    "\n",
    "_ = pf_per.transaction_pipeline(**kwargs_trs)\n",
    "pf_per.view_record(-1)"
   ]
  },
  {
   "cell_type": "code",
   "execution_count": 13,
   "id": "5d74a201-f15b-4912-8189-08b9a823fd5a",
   "metadata": {},
   "outputs": [],
   "source": [
    "#pf_per.update_record()"
   ]
  },
  {
   "cell_type": "markdown",
   "id": "c7cd959d-e330-4d8c-9f6b-a277b01e94f5",
   "metadata": {},
   "source": [
    "## WTR\n",
    "*modified all weather*"
   ]
  },
  {
   "cell_type": "code",
   "execution_count": 36,
   "id": "50f9b112-975e-4b42-baf9-8b813ac33723",
   "metadata": {},
   "outputs": [
    {
     "name": "stdout",
     "output_type": "stream",
     "text": [
      "6 assets from 2021-01-04 to 2024-11-20 uploaded.\n",
      "df_prices loaded\n",
      "Transaction record to 2024-11-20 loaded\n"
     ]
    }
   ],
   "source": [
    "pf_wtr = PM.create_portfolio('WTR')"
   ]
  },
  {
   "cell_type": "code",
   "execution_count": 37,
   "id": "2f2046bd-5dbb-43c1-a730-2db9cfff293a",
   "metadata": {},
   "outputs": [
    {
     "name": "stdout",
     "output_type": "stream",
     "text": [
      "Transaction dates updated for profit/loss on the dates\n"
     ]
    },
    {
     "data": {
      "image/png": "[encoded data removed]",
      "text/plain": [
       "<Figure size 1000x600 with 3 Axes>"
      ]
     },
     "metadata": {},
     "output_type": "display_data"
    }
   ],
   "source": [
    "pf_wtr.plot()"
   ]
  },
  {
   "cell_type": "code",
   "execution_count": 38,
   "id": "cd707a22-14e1-4768-9b34-bd4194f608de",
   "metadata": {},
   "outputs": [
    {
     "data": {
      "text/html": [
       "<div>\n",
       "<style scoped>\n",
       "    .dataframe tbody tr th:only-of-type {\n",
       "        vertical-align: middle;\n",
       "    }\n",
       "\n",
       "    .dataframe tbody tr th {\n",
       "        vertical-align: top;\n",
       "    }\n",
       "\n",
       "    .dataframe thead th {\n",
       "        text-align: right;\n",
       "    }\n",
       "</style>\n",
       "<table border=\"1\" class=\"dataframe\">\n",
       "  <thead>\n",
       "    <tr style=\"text-align: right;\">\n",
       "      <th></th>\n",
       "      <th></th>\n",
       "      <th>name</th>\n",
       "      <th>price</th>\n",
       "      <th>transaction</th>\n",
       "      <th>net</th>\n",
       "      <th>weight</th>\n",
       "      <th>weight*</th>\n",
       "    </tr>\n",
       "    <tr>\n",
       "      <th>date</th>\n",
       "      <th>asset</th>\n",
       "      <th></th>\n",
       "      <th></th>\n",
       "      <th></th>\n",
       "      <th></th>\n",
       "      <th></th>\n",
       "      <th></th>\n",
       "    </tr>\n",
       "  </thead>\n",
       "  <tbody>\n",
       "    <tr>\n",
       "      <th rowspan=\"6\" valign=\"top\">2024-07-18</th>\n",
       "      <th>069500</th>\n",
       "      <td>KODEX 200</td>\n",
       "      <td>39085</td>\n",
       "      <td>42</td>\n",
       "      <td>42</td>\n",
       "      <td>0.167</td>\n",
       "      <td>0.1670</td>\n",
       "    </tr>\n",
       "    <tr>\n",
       "      <th>273130</th>\n",
       "      <td>KODEX 종합채권(AA-이상)액티브</td>\n",
       "      <td>112895</td>\n",
       "      <td>14</td>\n",
       "      <td>14</td>\n",
       "      <td>0.167</td>\n",
       "      <td>0.1610</td>\n",
       "    </tr>\n",
       "    <tr>\n",
       "      <th>148070</th>\n",
       "      <td>KOSEF 국고채10년</td>\n",
       "      <td>114910</td>\n",
       "      <td>14</td>\n",
       "      <td>14</td>\n",
       "      <td>0.167</td>\n",
       "      <td>0.1640</td>\n",
       "    </tr>\n",
       "    <tr>\n",
       "      <th>379800</th>\n",
       "      <td>KODEX 미국S&amp;P500TR</td>\n",
       "      <td>17625</td>\n",
       "      <td>94</td>\n",
       "      <td>94</td>\n",
       "      <td>0.167</td>\n",
       "      <td>0.1690</td>\n",
       "    </tr>\n",
       "    <tr>\n",
       "      <th>411060</th>\n",
       "      <td>ACE KRX금현물</td>\n",
       "      <td>15715</td>\n",
       "      <td>106</td>\n",
       "      <td>106</td>\n",
       "      <td>0.167</td>\n",
       "      <td>0.1700</td>\n",
       "    </tr>\n",
       "    <tr>\n",
       "      <th>284430</th>\n",
       "      <td>KODEX 200미국채혼합</td>\n",
       "      <td>13440</td>\n",
       "      <td>124</td>\n",
       "      <td>124</td>\n",
       "      <td>0.167</td>\n",
       "      <td>0.1700</td>\n",
       "    </tr>\n",
       "    <tr>\n",
       "      <th rowspan=\"6\" valign=\"top\">2024-11-20</th>\n",
       "      <th>069500</th>\n",
       "      <td>KODEX 200</td>\n",
       "      <td>33010</td>\n",
       "      <td>7</td>\n",
       "      <td>49</td>\n",
       "      <td>0.167</td>\n",
       "      <td>0.1684</td>\n",
       "    </tr>\n",
       "    <tr>\n",
       "      <th>273130</th>\n",
       "      <td>KODEX 종합채권(AA-이상)액티브</td>\n",
       "      <td>114735</td>\n",
       "      <td>0</td>\n",
       "      <td>14</td>\n",
       "      <td>0.167</td>\n",
       "      <td>0.1676</td>\n",
       "    </tr>\n",
       "    <tr>\n",
       "      <th>148070</th>\n",
       "      <td>KOSEF 국고채10년</td>\n",
       "      <td>117035</td>\n",
       "      <td>-1</td>\n",
       "      <td>13</td>\n",
       "      <td>0.167</td>\n",
       "      <td>0.1584</td>\n",
       "    </tr>\n",
       "    <tr>\n",
       "      <th>379800</th>\n",
       "      <td>KODEX 미국S&amp;P500TR</td>\n",
       "      <td>18790</td>\n",
       "      <td>-8</td>\n",
       "      <td>86</td>\n",
       "      <td>0.167</td>\n",
       "      <td>0.1680</td>\n",
       "    </tr>\n",
       "    <tr>\n",
       "      <th>411060</th>\n",
       "      <td>ACE KRX금현물</td>\n",
       "      <td>17040</td>\n",
       "      <td>-10</td>\n",
       "      <td>96</td>\n",
       "      <td>0.167</td>\n",
       "      <td>0.1685</td>\n",
       "    </tr>\n",
       "    <tr>\n",
       "      <th>284430</th>\n",
       "      <td>KODEX 200미국채혼합</td>\n",
       "      <td>12585</td>\n",
       "      <td>5</td>\n",
       "      <td>129</td>\n",
       "      <td>0.167</td>\n",
       "      <td>0.1691</td>\n",
       "    </tr>\n",
       "  </tbody>\n",
       "</table>\n",
       "</div>"
      ],
      "text/plain": [
       "                                   name   price  transaction  net  weight  \\\n",
       "date       asset                                                            \n",
       "2024-07-18 069500             KODEX 200   39085           42   42   0.167   \n",
       "           273130  KODEX 종합채권(AA-이상)액티브  112895           14   14   0.167   \n",
       "           148070          KOSEF 국고채10년  114910           14   14   0.167   \n",
       "           379800      KODEX 미국S&P500TR   17625           94   94   0.167   \n",
       "           411060            ACE KRX금현물   15715          106  106   0.167   \n",
       "           284430        KODEX 200미국채혼합   13440          124  124   0.167   \n",
       "2024-11-20 069500             KODEX 200   33010            7   49   0.167   \n",
       "           273130  KODEX 종합채권(AA-이상)액티브  114735            0   14   0.167   \n",
       "           148070          KOSEF 국고채10년  117035           -1   13   0.167   \n",
       "           379800      KODEX 미국S&P500TR   18790           -8   86   0.167   \n",
       "           411060            ACE KRX금현물   17040          -10   96   0.167   \n",
       "           284430        KODEX 200미국채혼합   12585            5  129   0.167   \n",
       "\n",
       "                   weight*  \n",
       "date       asset            \n",
       "2024-07-18 069500   0.1670  \n",
       "           273130   0.1610  \n",
       "           148070   0.1640  \n",
       "           379800   0.1690  \n",
       "           411060   0.1700  \n",
       "           284430   0.1700  \n",
       "2024-11-20 069500   0.1684  \n",
       "           273130   0.1676  \n",
       "           148070   0.1584  \n",
       "           379800   0.1680  \n",
       "           411060   0.1685  \n",
       "           284430   0.1691  "
      ]
     },
     "execution_count": 38,
     "metadata": {},
     "output_type": "execute_result"
    }
   ],
   "source": [
    "pf_wtr.view_record(-2)"
   ]
  },
  {
   "cell_type": "code",
   "execution_count": 12,
   "id": "74abca3f-6864-4a0d-a760-ac41728e35b6",
   "metadata": {},
   "outputs": [],
   "source": [
    "#pf_wtr.performance(metrics=METRICS)"
   ]
  },
  {
   "cell_type": "code",
   "execution_count": 7,
   "id": "d05fbd06-1222-431d-8fc9-6c385c40f20c",
   "metadata": {},
   "outputs": [
    {
     "data": {
      "application/vnd.jupyter.widget-view+json": {
       "model_id": "a072ac897fa64bd88f64e332af584b92",
       "version_major": 2,
       "version_minor": 0
      },
      "text/plain": [
       "VBox(children=(DatePicker(value=None, layout=Layout(width='200px'), step=1), IntSlider(value=0, continuous_upd…"
      ]
     },
     "execution_count": 7,
     "metadata": {},
     "output_type": "execute_result"
    }
   ],
   "source": [
    "# set kwargs of transaction_pipeline\n",
    "WidgetTransaction"
   ]
  },
  {
   "cell_type": "code",
   "execution_count": 9,
   "id": "1a593c5d-812f-4f2e-81b4-6ecc7f97e65f",
   "metadata": {},
   "outputs": [
    {
     "name": "stdout",
     "output_type": "stream",
     "text": [
      "Liquidation set to None\n",
      "6 assets selected by All from 2024-11-19 to 2024-11-19\n",
      "Weights of assets determined by Equal weights.\n",
      "Mean absolute error of weights: 1 %\n",
      "ROI: -0.9% (UGL: -93,000) on 2024-11-19\n",
      "All transactions saved to pf_wtr_static_241119.csv\n"
     ]
    },
    {
     "data": {
      "text/html": [
       "<div>\n",
       "<style scoped>\n",
       "    .dataframe tbody tr th:only-of-type {\n",
       "        vertical-align: middle;\n",
       "    }\n",
       "\n",
       "    .dataframe tbody tr th {\n",
       "        vertical-align: top;\n",
       "    }\n",
       "\n",
       "    .dataframe thead th {\n",
       "        text-align: right;\n",
       "    }\n",
       "</style>\n",
       "<table border=\"1\" class=\"dataframe\">\n",
       "  <thead>\n",
       "    <tr style=\"text-align: right;\">\n",
       "      <th></th>\n",
       "      <th></th>\n",
       "      <th>name</th>\n",
       "      <th>price</th>\n",
       "      <th>transaction</th>\n",
       "      <th>net</th>\n",
       "      <th>weight</th>\n",
       "      <th>weight*</th>\n",
       "    </tr>\n",
       "    <tr>\n",
       "      <th>date</th>\n",
       "      <th>asset</th>\n",
       "      <th></th>\n",
       "      <th></th>\n",
       "      <th></th>\n",
       "      <th></th>\n",
       "      <th></th>\n",
       "      <th></th>\n",
       "    </tr>\n",
       "  </thead>\n",
       "  <tbody>\n",
       "    <tr>\n",
       "      <th rowspan=\"6\" valign=\"top\">2024-07-18</th>\n",
       "      <th>069500</th>\n",
       "      <td>KODEX 200</td>\n",
       "      <td>39085</td>\n",
       "      <td>42</td>\n",
       "      <td>42</td>\n",
       "      <td>0.167</td>\n",
       "      <td>0.167</td>\n",
       "    </tr>\n",
       "    <tr>\n",
       "      <th>273130</th>\n",
       "      <td>KODEX 종합채권(AA-이상)액티브</td>\n",
       "      <td>112895</td>\n",
       "      <td>14</td>\n",
       "      <td>14</td>\n",
       "      <td>0.167</td>\n",
       "      <td>0.161</td>\n",
       "    </tr>\n",
       "    <tr>\n",
       "      <th>148070</th>\n",
       "      <td>KOSEF 국고채10년</td>\n",
       "      <td>114910</td>\n",
       "      <td>14</td>\n",
       "      <td>14</td>\n",
       "      <td>0.167</td>\n",
       "      <td>0.164</td>\n",
       "    </tr>\n",
       "    <tr>\n",
       "      <th>379800</th>\n",
       "      <td>KODEX 미국S&amp;P500TR</td>\n",
       "      <td>17625</td>\n",
       "      <td>94</td>\n",
       "      <td>94</td>\n",
       "      <td>0.167</td>\n",
       "      <td>0.169</td>\n",
       "    </tr>\n",
       "    <tr>\n",
       "      <th>411060</th>\n",
       "      <td>ACE KRX금현물</td>\n",
       "      <td>15715</td>\n",
       "      <td>106</td>\n",
       "      <td>106</td>\n",
       "      <td>0.167</td>\n",
       "      <td>0.17</td>\n",
       "    </tr>\n",
       "    <tr>\n",
       "      <th>284430</th>\n",
       "      <td>KODEX 200미국채혼합</td>\n",
       "      <td>13440</td>\n",
       "      <td>124</td>\n",
       "      <td>124</td>\n",
       "      <td>0.167</td>\n",
       "      <td>0.17</td>\n",
       "    </tr>\n",
       "    <tr>\n",
       "      <th rowspan=\"6\" valign=\"top\">2024-11-19</th>\n",
       "      <th>069500</th>\n",
       "      <td>KODEX 200</td>\n",
       "      <td>32945</td>\n",
       "      <td>7</td>\n",
       "      <td>49</td>\n",
       "      <td>0.167</td>\n",
       "      <td>0.1684</td>\n",
       "    </tr>\n",
       "    <tr>\n",
       "      <th>273130</th>\n",
       "      <td>KODEX 종합채권(AA-이상)액티브</td>\n",
       "      <td>114735</td>\n",
       "      <td>0</td>\n",
       "      <td>14</td>\n",
       "      <td>0.167</td>\n",
       "      <td>0.1676</td>\n",
       "    </tr>\n",
       "    <tr>\n",
       "      <th>148070</th>\n",
       "      <td>KOSEF 국고채10년</td>\n",
       "      <td>116815</td>\n",
       "      <td>-1</td>\n",
       "      <td>13</td>\n",
       "      <td>0.167</td>\n",
       "      <td>0.1584</td>\n",
       "    </tr>\n",
       "    <tr>\n",
       "      <th>379800</th>\n",
       "      <td>KODEX 미국S&amp;P500TR</td>\n",
       "      <td>18725</td>\n",
       "      <td>-8</td>\n",
       "      <td>86</td>\n",
       "      <td>0.167</td>\n",
       "      <td>0.1680</td>\n",
       "    </tr>\n",
       "    <tr>\n",
       "      <th>411060</th>\n",
       "      <td>ACE KRX금현물</td>\n",
       "      <td>16820</td>\n",
       "      <td>-10</td>\n",
       "      <td>96</td>\n",
       "      <td>0.167</td>\n",
       "      <td>0.1685</td>\n",
       "    </tr>\n",
       "    <tr>\n",
       "      <th>284430</th>\n",
       "      <td>KODEX 200미국채혼합</td>\n",
       "      <td>12565</td>\n",
       "      <td>5</td>\n",
       "      <td>129</td>\n",
       "      <td>0.167</td>\n",
       "      <td>0.1691</td>\n",
       "    </tr>\n",
       "  </tbody>\n",
       "</table>\n",
       "</div>"
      ],
      "text/plain": [
       "                                   name   price  transaction  net weight  \\\n",
       "date       asset                                                           \n",
       "2024-07-18 069500             KODEX 200   39085           42   42  0.167   \n",
       "           273130  KODEX 종합채권(AA-이상)액티브  112895           14   14  0.167   \n",
       "           148070          KOSEF 국고채10년  114910           14   14  0.167   \n",
       "           379800      KODEX 미국S&P500TR   17625           94   94  0.167   \n",
       "           411060            ACE KRX금현물   15715          106  106  0.167   \n",
       "           284430        KODEX 200미국채혼합   13440          124  124  0.167   \n",
       "2024-11-19 069500             KODEX 200   32945            7   49  0.167   \n",
       "           273130  KODEX 종합채권(AA-이상)액티브  114735            0   14  0.167   \n",
       "           148070          KOSEF 국고채10년  116815           -1   13  0.167   \n",
       "           379800      KODEX 미국S&P500TR   18725           -8   86  0.167   \n",
       "           411060            ACE KRX금현물   16820          -10   96  0.167   \n",
       "           284430        KODEX 200미국채혼합   12565            5  129  0.167   \n",
       "\n",
       "                  weight*  \n",
       "date       asset           \n",
       "2024-07-18 069500   0.167  \n",
       "           273130   0.161  \n",
       "           148070   0.164  \n",
       "           379800   0.169  \n",
       "           411060    0.17  \n",
       "           284430    0.17  \n",
       "2024-11-19 069500  0.1684  \n",
       "           273130  0.1676  \n",
       "           148070  0.1584  \n",
       "           379800  0.1680  \n",
       "           411060  0.1685  \n",
       "           284430  0.1691  "
      ]
     },
     "execution_count": 9,
     "metadata": {},
     "output_type": "execute_result"
    }
   ],
   "source": [
    "kwargs = dict(\n",
    "    date = WidgetTransaction.values(0),\n",
    "    capital = WidgetTransaction.values(1),\n",
    "    save = WidgetTransaction.values(2)\n",
    ")\n",
    "_ = pf_wtr.transaction_pipeline(**kwargs)\n",
    "pf_wtr.view_record(-2)"
   ]
  },
  {
   "cell_type": "markdown",
   "id": "94702c06-6391-4b00-97f2-19c1b321fa44",
   "metadata": {},
   "source": [
    "## LIQ"
   ]
  },
  {
   "cell_type": "code",
   "execution_count": 50,
   "id": "1ca82b1e-c1c8-4f38-807e-509bc054169c",
   "metadata": {},
   "outputs": [
    {
     "name": "stdout",
     "output_type": "stream",
     "text": [
      "24 assets from 2021-01-04 to 2024-11-19 uploaded.\n",
      "df_prices loaded\n",
      "Transaction record to 2024-01-03 loaded\n"
     ]
    }
   ],
   "source": [
    "pf_liq = PM.create_portfolio('LIQ')"
   ]
  },
  {
   "cell_type": "code",
   "execution_count": 51,
   "id": "0a35f0aa-697e-47a2-87bd-6ccba7e6a605",
   "metadata": {},
   "outputs": [
    {
     "data": {
      "image/png": "[encoded data removed]",
      "text/plain": [
       "<Figure size 1000x600 with 3 Axes>"
      ]
     },
     "metadata": {},
     "output_type": "display_data"
    }
   ],
   "source": [
    "#date=None\n",
    "date='2024-07-01'\n",
    "pf_liq.plot(start_date=date)"
   ]
  },
  {
   "cell_type": "code",
   "execution_count": 33,
   "id": "4f77cbab-5980-46cc-a0a6-45df9bdb0da7",
   "metadata": {},
   "outputs": [
    {
     "data": {
      "text/html": [
       "<div>\n",
       "<style scoped>\n",
       "    .dataframe tbody tr th:only-of-type {\n",
       "        vertical-align: middle;\n",
       "    }\n",
       "\n",
       "    .dataframe tbody tr th {\n",
       "        vertical-align: top;\n",
       "    }\n",
       "\n",
       "    .dataframe thead th {\n",
       "        text-align: right;\n",
       "    }\n",
       "</style>\n",
       "<table border=\"1\" class=\"dataframe\">\n",
       "  <thead>\n",
       "    <tr style=\"text-align: right;\">\n",
       "      <th></th>\n",
       "      <th></th>\n",
       "      <th>name</th>\n",
       "      <th>price</th>\n",
       "      <th>transaction</th>\n",
       "      <th>net</th>\n",
       "      <th>weight</th>\n",
       "      <th>weight*</th>\n",
       "    </tr>\n",
       "    <tr>\n",
       "      <th>date</th>\n",
       "      <th>asset</th>\n",
       "      <th></th>\n",
       "      <th></th>\n",
       "      <th></th>\n",
       "      <th></th>\n",
       "      <th></th>\n",
       "      <th></th>\n",
       "    </tr>\n",
       "  </thead>\n",
       "  <tbody>\n",
       "    <tr>\n",
       "      <th rowspan=\"24\" valign=\"top\">2024-01-03</th>\n",
       "      <th>011780</th>\n",
       "      <td>금호석유</td>\n",
       "      <td>171000</td>\n",
       "      <td>2</td>\n",
       "      <td>2</td>\n",
       "      <td>NaN</td>\n",
       "      <td>0.0515</td>\n",
       "    </tr>\n",
       "    <tr>\n",
       "      <th>066570</th>\n",
       "      <td>LG전자</td>\n",
       "      <td>122500</td>\n",
       "      <td>2</td>\n",
       "      <td>2</td>\n",
       "      <td>NaN</td>\n",
       "      <td>0.0369</td>\n",
       "    </tr>\n",
       "    <tr>\n",
       "      <th>035890</th>\n",
       "      <td>서희건설</td>\n",
       "      <td>1800</td>\n",
       "      <td>166</td>\n",
       "      <td>166</td>\n",
       "      <td>NaN</td>\n",
       "      <td>0.0450</td>\n",
       "    </tr>\n",
       "    <tr>\n",
       "      <th>040420</th>\n",
       "      <td>정상제이엘에스</td>\n",
       "      <td>7970</td>\n",
       "      <td>37</td>\n",
       "      <td>37</td>\n",
       "      <td>NaN</td>\n",
       "      <td>0.0444</td>\n",
       "    </tr>\n",
       "    <tr>\n",
       "      <th>140520</th>\n",
       "      <td>대창스틸</td>\n",
       "      <td>3250</td>\n",
       "      <td>90</td>\n",
       "      <td>90</td>\n",
       "      <td>NaN</td>\n",
       "      <td>0.0440</td>\n",
       "    </tr>\n",
       "    <tr>\n",
       "      <th>072990</th>\n",
       "      <td>에이치시티</td>\n",
       "      <td>15900</td>\n",
       "      <td>18</td>\n",
       "      <td>18</td>\n",
       "      <td>NaN</td>\n",
       "      <td>0.0431</td>\n",
       "    </tr>\n",
       "    <tr>\n",
       "      <th>091580</th>\n",
       "      <td>상신이디피</td>\n",
       "      <td>16800</td>\n",
       "      <td>18</td>\n",
       "      <td>18</td>\n",
       "      <td>NaN</td>\n",
       "      <td>0.0455</td>\n",
       "    </tr>\n",
       "    <tr>\n",
       "      <th>011200</th>\n",
       "      <td>HMM</td>\n",
       "      <td>26350</td>\n",
       "      <td>11</td>\n",
       "      <td>11</td>\n",
       "      <td>NaN</td>\n",
       "      <td>0.0436</td>\n",
       "    </tr>\n",
       "    <tr>\n",
       "      <th>002220</th>\n",
       "      <td>한일철강</td>\n",
       "      <td>3130</td>\n",
       "      <td>95</td>\n",
       "      <td>95</td>\n",
       "      <td>NaN</td>\n",
       "      <td>0.0448</td>\n",
       "    </tr>\n",
       "    <tr>\n",
       "      <th>006650</th>\n",
       "      <td>대한유화</td>\n",
       "      <td>181500</td>\n",
       "      <td>1</td>\n",
       "      <td>1</td>\n",
       "      <td>NaN</td>\n",
       "      <td>0.0273</td>\n",
       "    </tr>\n",
       "    <tr>\n",
       "      <th>136490</th>\n",
       "      <td>선진</td>\n",
       "      <td>12700</td>\n",
       "      <td>23</td>\n",
       "      <td>23</td>\n",
       "      <td>NaN</td>\n",
       "      <td>0.0440</td>\n",
       "    </tr>\n",
       "    <tr>\n",
       "      <th>064550</th>\n",
       "      <td>바이오니아</td>\n",
       "      <td>49650</td>\n",
       "      <td>6</td>\n",
       "      <td>6</td>\n",
       "      <td>NaN</td>\n",
       "      <td>0.0449</td>\n",
       "    </tr>\n",
       "    <tr>\n",
       "      <th>460860</th>\n",
       "      <td>동국제강</td>\n",
       "      <td>18723</td>\n",
       "      <td>8</td>\n",
       "      <td>8</td>\n",
       "      <td>NaN</td>\n",
       "      <td>0.0226</td>\n",
       "    </tr>\n",
       "    <tr>\n",
       "      <th>040910</th>\n",
       "      <td>아이씨디</td>\n",
       "      <td>12200</td>\n",
       "      <td>24</td>\n",
       "      <td>24</td>\n",
       "      <td>NaN</td>\n",
       "      <td>0.0441</td>\n",
       "    </tr>\n",
       "    <tr>\n",
       "      <th>024950</th>\n",
       "      <td>삼천리자전거</td>\n",
       "      <td>9770</td>\n",
       "      <td>30</td>\n",
       "      <td>30</td>\n",
       "      <td>NaN</td>\n",
       "      <td>0.0441</td>\n",
       "    </tr>\n",
       "    <tr>\n",
       "      <th>900070</th>\n",
       "      <td>글로벌에스엠</td>\n",
       "      <td>1080</td>\n",
       "      <td>277</td>\n",
       "      <td>277</td>\n",
       "      <td>NaN</td>\n",
       "      <td>0.0450</td>\n",
       "    </tr>\n",
       "    <tr>\n",
       "      <th>036580</th>\n",
       "      <td>팜스코</td>\n",
       "      <td>6090</td>\n",
       "      <td>49</td>\n",
       "      <td>49</td>\n",
       "      <td>NaN</td>\n",
       "      <td>0.0449</td>\n",
       "    </tr>\n",
       "    <tr>\n",
       "      <th>184230</th>\n",
       "      <td>SGA솔루션즈</td>\n",
       "      <td>1315</td>\n",
       "      <td>228</td>\n",
       "      <td>228</td>\n",
       "      <td>NaN</td>\n",
       "      <td>0.0451</td>\n",
       "    </tr>\n",
       "    <tr>\n",
       "      <th>460850</th>\n",
       "      <td>동국씨엠</td>\n",
       "      <td>18055</td>\n",
       "      <td>5</td>\n",
       "      <td>5</td>\n",
       "      <td>NaN</td>\n",
       "      <td>0.0136</td>\n",
       "    </tr>\n",
       "    <tr>\n",
       "      <th>016250</th>\n",
       "      <td>SGC E&amp;C</td>\n",
       "      <td>46000</td>\n",
       "      <td>6</td>\n",
       "      <td>6</td>\n",
       "      <td>NaN</td>\n",
       "      <td>0.0416</td>\n",
       "    </tr>\n",
       "    <tr>\n",
       "      <th>001230</th>\n",
       "      <td>동국홀딩스</td>\n",
       "      <td>24044</td>\n",
       "      <td>2</td>\n",
       "      <td>2</td>\n",
       "      <td>NaN</td>\n",
       "      <td>0.0072</td>\n",
       "    </tr>\n",
       "    <tr>\n",
       "      <th>049470</th>\n",
       "      <td>SGA</td>\n",
       "      <td>1115</td>\n",
       "      <td>269</td>\n",
       "      <td>269</td>\n",
       "      <td>NaN</td>\n",
       "      <td>0.0452</td>\n",
       "    </tr>\n",
       "    <tr>\n",
       "      <th>217820</th>\n",
       "      <td>원익피앤이</td>\n",
       "      <td>12518</td>\n",
       "      <td>22</td>\n",
       "      <td>22</td>\n",
       "      <td>NaN</td>\n",
       "      <td>0.0415</td>\n",
       "    </tr>\n",
       "    <tr>\n",
       "      <th>109960</th>\n",
       "      <td>AP헬스케어</td>\n",
       "      <td>3790</td>\n",
       "      <td>158</td>\n",
       "      <td>158</td>\n",
       "      <td>NaN</td>\n",
       "      <td>0.0902</td>\n",
       "    </tr>\n",
       "  </tbody>\n",
       "</table>\n",
       "</div>"
      ],
      "text/plain": [
       "                      name   price  transaction  net  weight  weight*\n",
       "date       asset                                                     \n",
       "2024-01-03 011780     금호석유  171000            2    2     NaN   0.0515\n",
       "           066570     LG전자  122500            2    2     NaN   0.0369\n",
       "           035890     서희건설    1800          166  166     NaN   0.0450\n",
       "           040420  정상제이엘에스    7970           37   37     NaN   0.0444\n",
       "           140520     대창스틸    3250           90   90     NaN   0.0440\n",
       "           072990    에이치시티   15900           18   18     NaN   0.0431\n",
       "           091580    상신이디피   16800           18   18     NaN   0.0455\n",
       "           011200      HMM   26350           11   11     NaN   0.0436\n",
       "           002220     한일철강    3130           95   95     NaN   0.0448\n",
       "           006650     대한유화  181500            1    1     NaN   0.0273\n",
       "           136490       선진   12700           23   23     NaN   0.0440\n",
       "           064550    바이오니아   49650            6    6     NaN   0.0449\n",
       "           460860     동국제강   18723            8    8     NaN   0.0226\n",
       "           040910     아이씨디   12200           24   24     NaN   0.0441\n",
       "           024950   삼천리자전거    9770           30   30     NaN   0.0441\n",
       "           900070   글로벌에스엠    1080          277  277     NaN   0.0450\n",
       "           036580      팜스코    6090           49   49     NaN   0.0449\n",
       "           184230  SGA솔루션즈    1315          228  228     NaN   0.0451\n",
       "           460850     동국씨엠   18055            5    5     NaN   0.0136\n",
       "           016250  SGC E&C   46000            6    6     NaN   0.0416\n",
       "           001230    동국홀딩스   24044            2    2     NaN   0.0072\n",
       "           049470      SGA    1115          269  269     NaN   0.0452\n",
       "           217820    원익피앤이   12518           22   22     NaN   0.0415\n",
       "           109960   AP헬스케어    3790          158  158     NaN   0.0902"
      ]
     },
     "execution_count": 33,
     "metadata": {},
     "output_type": "execute_result"
    }
   ],
   "source": [
    "pf_liq.view_record()"
   ]
  },
  {
   "cell_type": "markdown",
   "id": "5cb5a3a2-0bbe-4f0c-adcf-49a72186ee99",
   "metadata": {},
   "source": [
    "## IRP"
   ]
  },
  {
   "cell_type": "code",
   "execution_count": 11,
   "id": "bc90a2f2-946a-4427-8ea2-4b1bb805f321",
   "metadata": {},
   "outputs": [],
   "source": [
    "selected = ['K55301BU6139', 'K55206C95800']"
   ]
  },
  {
   "cell_type": "code",
   "execution_count": 12,
   "id": "5082bcd0-89fe-4edb-813f-3ea479f5612c",
   "metadata": {},
   "outputs": [
    {
     "name": "stdout",
     "output_type": "stream",
     "text": [
      "WARNING: Some tickers not exist in the universe\n"
     ]
    },
    {
     "data": {
      "text/plain": [
       "0) K55301BU6139: 미래에셋전략배분TDF2035혼합자산자투자신탁종류C-P2e"
      ]
     },
     "execution_count": 12,
     "metadata": {},
     "output_type": "execute_result"
    }
   ],
   "source": [
    "irp.get_names(selected)"
   ]
  },
  {
   "cell_type": "code",
   "execution_count": 15,
   "id": "5b164fde-d2a4-4f18-903f-945929b246ea",
   "metadata": {},
   "outputs": [
    {
     "name": "stdout",
     "output_type": "stream",
     "text": [
      "6 securities from 2023-01-31 to 2024-10-31 uploaded.\n",
      "df_prices loaded\n",
      "WARNING: the number of days in a year with followings is 12 in avg.:\n",
      "K55234DF2657: 12\n",
      "K55234DF2459: 12\n",
      "K55301DW1763: 12\n",
      "K55301BU6139: 12\n",
      "K55105BU1161: 12\n",
      "K55210BU2385: 12\n",
      "REMINDER: 6 equities converted to daily (days in year: 365)\n",
      "Daily metrics in Performance statistics must be meaningless\n",
      "Transaction record to 2024-06-19 loaded\n"
     ]
    }
   ],
   "source": [
    "pf_irp = PM.create_portfolio('IRP', tickers=selected)"
   ]
  },
  {
   "cell_type": "code",
   "execution_count": 16,
   "id": "6f173f64-8137-4a01-a831-259619987813",
   "metadata": {},
   "outputs": [
    {
     "name": "stdout",
     "output_type": "stream",
     "text": [
      "Transaction dates updated for profit/loss on the dates\n",
      "Tickers K55206C95800 added to universe\n"
     ]
    },
    {
     "data": {
      "image/png": "[encoded data removed]",
      "text/plain": [
       "<Figure size 1000x600 with 3 Axes>"
      ]
     },
     "metadata": {},
     "output_type": "display_data"
    }
   ],
   "source": [
    "pf_irp.plot()"
   ]
  },
  {
   "cell_type": "code",
   "execution_count": 17,
   "id": "cbdb9f74-d8b7-4c82-8b48-327fc7472773",
   "metadata": {},
   "outputs": [
    {
     "data": {
      "application/vnd.jupyter.widget-view+json": {
       "model_id": "74d5a691559346fd9ae1a012f74d53b9",
       "version_major": 2,
       "version_minor": 0
      },
      "text/plain": [
       "VBox(children=(DatePicker(value=None, layout=Layout(width='200px'), step=1), IntSlider(value=0, continuous_upd…"
      ]
     },
     "execution_count": 17,
     "metadata": {},
     "output_type": "execute_result"
    }
   ],
   "source": [
    "# set kwargs of transaction_pipeline\n",
    "WidgetTransaction"
   ]
  },
  {
   "cell_type": "code",
   "execution_count": 18,
   "id": "b0d8203a-f1f9-4979-a126-0142aa20efd8",
   "metadata": {},
   "outputs": [
    {
     "name": "stdout",
     "output_type": "stream",
     "text": [
      "Liquidation set to None\n"
     ]
    },
    {
     "ename": "KeyError",
     "evalue": "\"['K55206C95800'] not in index\"",
     "output_type": "error",
     "traceback": [
      "\u001b[0;31m---------------------------------------------------------------------------\u001b[0m",
      "\u001b[0;31mKeyError\u001b[0m                                  Traceback (most recent call last)",
      "Cell \u001b[0;32mIn[18], line 6\u001b[0m\n\u001b[1;32m      1\u001b[0m kwargs \u001b[38;5;241m=\u001b[39m \u001b[38;5;28mdict\u001b[39m(\n\u001b[1;32m      2\u001b[0m     date \u001b[38;5;241m=\u001b[39m WidgetTransaction\u001b[38;5;241m.\u001b[39mvalues(\u001b[38;5;241m0\u001b[39m),\n\u001b[1;32m      3\u001b[0m     capital \u001b[38;5;241m=\u001b[39m WidgetTransaction\u001b[38;5;241m.\u001b[39mvalues(\u001b[38;5;241m1\u001b[39m),\n\u001b[1;32m      4\u001b[0m     save \u001b[38;5;241m=\u001b[39m WidgetTransaction\u001b[38;5;241m.\u001b[39mvalues(\u001b[38;5;241m2\u001b[39m)\n\u001b[1;32m      5\u001b[0m )\n\u001b[0;32m----> 6\u001b[0m _ \u001b[38;5;241m=\u001b[39m \u001b[43mpf_irp\u001b[49m\u001b[38;5;241;43m.\u001b[39;49m\u001b[43mtransaction_pipeline\u001b[49m\u001b[43m(\u001b[49m\u001b[38;5;241;43m*\u001b[39;49m\u001b[38;5;241;43m*\u001b[39;49m\u001b[43mkwargs\u001b[49m\u001b[43m)\u001b[49m\n\u001b[1;32m      7\u001b[0m pf_irp\u001b[38;5;241m.\u001b[39mview_record()\n",
      "File \u001b[0;32m~/works/pf/pf_utils.py:2008\u001b[0m, in \u001b[0;36mPortfolioBuilder.transaction_pipeline\u001b[0;34m(self, date, capital, commissions, record, save, **kw_liq)\u001b[0m\n\u001b[1;32m   2004\u001b[0m \u001b[38;5;250m\u001b[39m\u001b[38;5;124;03m\"\"\"\u001b[39;00m\n\u001b[1;32m   2005\u001b[0m \u001b[38;5;124;03mkw_liq: kwargs for Liquidation.prepare\u001b[39;00m\n\u001b[1;32m   2006\u001b[0m \u001b[38;5;124;03m\"\"\"\u001b[39;00m        \n\u001b[1;32m   2007\u001b[0m \u001b[38;5;28mself\u001b[39m\u001b[38;5;241m.\u001b[39mliquidation\u001b[38;5;241m.\u001b[39mprepare(\u001b[38;5;28mself\u001b[39m\u001b[38;5;241m.\u001b[39mrecord, \u001b[38;5;241m*\u001b[39m\u001b[38;5;241m*\u001b[39mkw_liq)\n\u001b[0;32m-> 2008\u001b[0m rank \u001b[38;5;241m=\u001b[39m \u001b[38;5;28;43mself\u001b[39;49m\u001b[38;5;241;43m.\u001b[39;49m\u001b[43mselect\u001b[49m\u001b[43m(\u001b[49m\u001b[43mdate\u001b[49m\u001b[38;5;241;43m=\u001b[39;49m\u001b[43mdate\u001b[49m\u001b[43m)\u001b[49m\n\u001b[1;32m   2009\u001b[0m \u001b[38;5;28;01mif\u001b[39;00m rank \u001b[38;5;129;01mis\u001b[39;00m \u001b[38;5;28;01mNone\u001b[39;00m:\n\u001b[1;32m   2010\u001b[0m     \u001b[38;5;28;01mreturn\u001b[39;00m \u001b[38;5;28;01mNone\u001b[39;00m \u001b[38;5;66;03m# rank is not None even for static portfolio (method_select='all')\u001b[39;00m\n",
      "File \u001b[0;32m~/works/pf/pf_utils.py:1701\u001b[0m, in \u001b[0;36mPortfolioBuilder.select\u001b[0;34m(self, date, method, sort_ascending, n_tickers, lookback, lag, tickers, df_additional)\u001b[0m\n\u001b[1;32m   1699\u001b[0m \u001b[38;5;66;03m# search transaction date from universe\u001b[39;00m\n\u001b[1;32m   1700\u001b[0m kwa \u001b[38;5;241m=\u001b[39m \u001b[38;5;28mdict\u001b[39m(date\u001b[38;5;241m=\u001b[39mdate, tickers\u001b[38;5;241m=\u001b[39mtickers)\n\u001b[0;32m-> 1701\u001b[0m date \u001b[38;5;241m=\u001b[39m \u001b[38;5;28;43mself\u001b[39;49m\u001b[38;5;241;43m.\u001b[39;49m\u001b[43m_get_data\u001b[49m\u001b[43m(\u001b[49m\u001b[38;5;241;43m0\u001b[39;49m\u001b[43m,\u001b[49m\u001b[43m \u001b[49m\u001b[38;5;241;43m0\u001b[39;49m\u001b[43m,\u001b[49m\u001b[43m \u001b[49m\u001b[38;5;241;43m*\u001b[39;49m\u001b[38;5;241;43m*\u001b[39;49m\u001b[43mkwa\u001b[49m\u001b[43m)\u001b[49m\u001b[38;5;241m.\u001b[39mindex\u001b[38;5;241m.\u001b[39mmax()\n\u001b[1;32m   1702\u001b[0m df_data \u001b[38;5;241m=\u001b[39m \u001b[38;5;28mself\u001b[39m\u001b[38;5;241m.\u001b[39m_get_data(lookback, lag, \u001b[38;5;241m*\u001b[39m\u001b[38;5;241m*\u001b[39mkwa)\n\u001b[1;32m   1703\u001b[0m dts \u001b[38;5;241m=\u001b[39m get_date_minmax(df_data, \u001b[38;5;28mself\u001b[39m\u001b[38;5;241m.\u001b[39mdate_format)\n",
      "File \u001b[0;32m~/works/pf/pf_utils.py:2590\u001b[0m, in \u001b[0;36mPortfolioBuilder._get_data\u001b[0;34m(self, lookback, lag, date, tickers)\u001b[0m\n\u001b[1;32m   2588\u001b[0m     df_data \u001b[38;5;241m=\u001b[39m df_data\u001b[38;5;241m.\u001b[39mloc[:date]\n\u001b[1;32m   2589\u001b[0m \u001b[38;5;28;01mif\u001b[39;00m tickers \u001b[38;5;129;01mis\u001b[39;00m \u001b[38;5;129;01mnot\u001b[39;00m \u001b[38;5;28;01mNone\u001b[39;00m:\n\u001b[0;32m-> 2590\u001b[0m     df_data \u001b[38;5;241m=\u001b[39m \u001b[43mdf_data\u001b[49m\u001b[43m[\u001b[49m\u001b[43mtickers\u001b[49m\u001b[43m]\u001b[49m\n\u001b[1;32m   2592\u001b[0m \u001b[38;5;66;03m# setting liquidation\u001b[39;00m\n\u001b[1;32m   2593\u001b[0m df_data \u001b[38;5;241m=\u001b[39m \u001b[38;5;28mself\u001b[39m\u001b[38;5;241m.\u001b[39mliquidation\u001b[38;5;241m.\u001b[39mset_price(df_data, select\u001b[38;5;241m=\u001b[39m\u001b[38;5;28;01mTrue\u001b[39;00m)\n",
      "File \u001b[0;32m~/.cache/pypoetry/virtualenvs/pf-APoYtgC9-py3.12/lib/python3.12/site-packages/pandas/core/frame.py:4108\u001b[0m, in \u001b[0;36mDataFrame.__getitem__\u001b[0;34m(self, key)\u001b[0m\n\u001b[1;32m   4106\u001b[0m     \u001b[38;5;28;01mif\u001b[39;00m is_iterator(key):\n\u001b[1;32m   4107\u001b[0m         key \u001b[38;5;241m=\u001b[39m \u001b[38;5;28mlist\u001b[39m(key)\n\u001b[0;32m-> 4108\u001b[0m     indexer \u001b[38;5;241m=\u001b[39m \u001b[38;5;28;43mself\u001b[39;49m\u001b[38;5;241;43m.\u001b[39;49m\u001b[43mcolumns\u001b[49m\u001b[38;5;241;43m.\u001b[39;49m\u001b[43m_get_indexer_strict\u001b[49m\u001b[43m(\u001b[49m\u001b[43mkey\u001b[49m\u001b[43m,\u001b[49m\u001b[43m \u001b[49m\u001b[38;5;124;43m\"\u001b[39;49m\u001b[38;5;124;43mcolumns\u001b[39;49m\u001b[38;5;124;43m\"\u001b[39;49m\u001b[43m)\u001b[49m[\u001b[38;5;241m1\u001b[39m]\n\u001b[1;32m   4110\u001b[0m \u001b[38;5;66;03m# take() does not accept boolean indexers\u001b[39;00m\n\u001b[1;32m   4111\u001b[0m \u001b[38;5;28;01mif\u001b[39;00m \u001b[38;5;28mgetattr\u001b[39m(indexer, \u001b[38;5;124m\"\u001b[39m\u001b[38;5;124mdtype\u001b[39m\u001b[38;5;124m\"\u001b[39m, \u001b[38;5;28;01mNone\u001b[39;00m) \u001b[38;5;241m==\u001b[39m \u001b[38;5;28mbool\u001b[39m:\n",
      "File \u001b[0;32m~/.cache/pypoetry/virtualenvs/pf-APoYtgC9-py3.12/lib/python3.12/site-packages/pandas/core/indexes/base.py:6200\u001b[0m, in \u001b[0;36mIndex._get_indexer_strict\u001b[0;34m(self, key, axis_name)\u001b[0m\n\u001b[1;32m   6197\u001b[0m \u001b[38;5;28;01melse\u001b[39;00m:\n\u001b[1;32m   6198\u001b[0m     keyarr, indexer, new_indexer \u001b[38;5;241m=\u001b[39m \u001b[38;5;28mself\u001b[39m\u001b[38;5;241m.\u001b[39m_reindex_non_unique(keyarr)\n\u001b[0;32m-> 6200\u001b[0m \u001b[38;5;28;43mself\u001b[39;49m\u001b[38;5;241;43m.\u001b[39;49m\u001b[43m_raise_if_missing\u001b[49m\u001b[43m(\u001b[49m\u001b[43mkeyarr\u001b[49m\u001b[43m,\u001b[49m\u001b[43m \u001b[49m\u001b[43mindexer\u001b[49m\u001b[43m,\u001b[49m\u001b[43m \u001b[49m\u001b[43maxis_name\u001b[49m\u001b[43m)\u001b[49m\n\u001b[1;32m   6202\u001b[0m keyarr \u001b[38;5;241m=\u001b[39m \u001b[38;5;28mself\u001b[39m\u001b[38;5;241m.\u001b[39mtake(indexer)\n\u001b[1;32m   6203\u001b[0m \u001b[38;5;28;01mif\u001b[39;00m \u001b[38;5;28misinstance\u001b[39m(key, Index):\n\u001b[1;32m   6204\u001b[0m     \u001b[38;5;66;03m# GH 42790 - Preserve name from an Index\u001b[39;00m\n",
      "File \u001b[0;32m~/.cache/pypoetry/virtualenvs/pf-APoYtgC9-py3.12/lib/python3.12/site-packages/pandas/core/indexes/base.py:6252\u001b[0m, in \u001b[0;36mIndex._raise_if_missing\u001b[0;34m(self, key, indexer, axis_name)\u001b[0m\n\u001b[1;32m   6249\u001b[0m     \u001b[38;5;28;01mraise\u001b[39;00m \u001b[38;5;167;01mKeyError\u001b[39;00m(\u001b[38;5;124mf\u001b[39m\u001b[38;5;124m\"\u001b[39m\u001b[38;5;124mNone of [\u001b[39m\u001b[38;5;132;01m{\u001b[39;00mkey\u001b[38;5;132;01m}\u001b[39;00m\u001b[38;5;124m] are in the [\u001b[39m\u001b[38;5;132;01m{\u001b[39;00maxis_name\u001b[38;5;132;01m}\u001b[39;00m\u001b[38;5;124m]\u001b[39m\u001b[38;5;124m\"\u001b[39m)\n\u001b[1;32m   6251\u001b[0m not_found \u001b[38;5;241m=\u001b[39m \u001b[38;5;28mlist\u001b[39m(ensure_index(key)[missing_mask\u001b[38;5;241m.\u001b[39mnonzero()[\u001b[38;5;241m0\u001b[39m]]\u001b[38;5;241m.\u001b[39munique())\n\u001b[0;32m-> 6252\u001b[0m \u001b[38;5;28;01mraise\u001b[39;00m \u001b[38;5;167;01mKeyError\u001b[39;00m(\u001b[38;5;124mf\u001b[39m\u001b[38;5;124m\"\u001b[39m\u001b[38;5;132;01m{\u001b[39;00mnot_found\u001b[38;5;132;01m}\u001b[39;00m\u001b[38;5;124m not in index\u001b[39m\u001b[38;5;124m\"\u001b[39m)\n",
      "\u001b[0;31mKeyError\u001b[0m: \"['K55206C95800'] not in index\""
     ]
    }
   ],
   "source": [
    "kwargs = dict(\n",
    "    date = WidgetTransaction.values(0),\n",
    "    capital = WidgetTransaction.values(1),\n",
    "    save = WidgetTransaction.values(2)\n",
    ")\n",
    "_ = pf_irp.transaction_pipeline(**kwargs)\n",
    "pf_irp.view_record()"
   ]
  },
  {
   "cell_type": "code",
   "execution_count": 19,
   "id": "b86d91f9-881d-4655-ab82-2f7b7bf7c4da",
   "metadata": {},
   "outputs": [
    {
     "name": "stdout",
     "output_type": "stream",
     "text": [
      "Transaction dates updated for profit/loss on the dates\n",
      "Tickers K55206C95800 added to universe\n"
     ]
    },
    {
     "data": {
      "image/png": "[encoded data removed]",
      "text/plain": [
       "<Figure size 1000x600 with 3 Axes>"
      ]
     },
     "metadata": {},
     "output_type": "display_data"
    }
   ],
   "source": [
    "pf_irp.plot()"
   ]
  },
  {
   "cell_type": "code",
   "execution_count": 40,
   "id": "6b0e5105-b09c-4e98-85b1-402d5cd21f61",
   "metadata": {},
   "outputs": [
    {
     "data": {
      "text/html": [
       "<div>\n",
       "<style scoped>\n",
       "    .dataframe tbody tr th:only-of-type {\n",
       "        vertical-align: middle;\n",
       "    }\n",
       "\n",
       "    .dataframe tbody tr th {\n",
       "        vertical-align: top;\n",
       "    }\n",
       "\n",
       "    .dataframe thead th {\n",
       "        text-align: right;\n",
       "    }\n",
       "</style>\n",
       "<table border=\"1\" class=\"dataframe\">\n",
       "  <thead>\n",
       "    <tr style=\"text-align: right;\">\n",
       "      <th></th>\n",
       "      <th>IRP</th>\n",
       "    </tr>\n",
       "  </thead>\n",
       "  <tbody>\n",
       "    <tr>\n",
       "      <th>start</th>\n",
       "      <td>2024-06-19</td>\n",
       "    </tr>\n",
       "    <tr>\n",
       "      <th>end</th>\n",
       "      <td>2024-08-26</td>\n",
       "    </tr>\n",
       "    <tr>\n",
       "      <th>total_return</th>\n",
       "      <td>-0.003532</td>\n",
       "    </tr>\n",
       "    <tr>\n",
       "      <th>cagr</th>\n",
       "      <td>-0.018825</td>\n",
       "    </tr>\n",
       "    <tr>\n",
       "      <th>calmar</th>\n",
       "      <td>-0.342151</td>\n",
       "    </tr>\n",
       "    <tr>\n",
       "      <th>max_drawdown</th>\n",
       "      <td>-0.055021</td>\n",
       "    </tr>\n",
       "    <tr>\n",
       "      <th>avg_drawdown</th>\n",
       "      <td>-0.029718</td>\n",
       "    </tr>\n",
       "    <tr>\n",
       "      <th>avg_drawdown_days</th>\n",
       "      <td>26.0</td>\n",
       "    </tr>\n",
       "    <tr>\n",
       "      <th>daily_vol</th>\n",
       "      <td>0.059014</td>\n",
       "    </tr>\n",
       "    <tr>\n",
       "      <th>daily_sharpe</th>\n",
       "      <td>-0.193009</td>\n",
       "    </tr>\n",
       "    <tr>\n",
       "      <th>daily_sortino</th>\n",
       "      <td>-0.254431</td>\n",
       "    </tr>\n",
       "    <tr>\n",
       "      <th>monthly_vol</th>\n",
       "      <td>0.013645</td>\n",
       "    </tr>\n",
       "    <tr>\n",
       "      <th>monthly_sharpe</th>\n",
       "      <td>-0.81833</td>\n",
       "    </tr>\n",
       "    <tr>\n",
       "      <th>monthly_sortino</th>\n",
       "      <td>-1.226806</td>\n",
       "    </tr>\n",
       "  </tbody>\n",
       "</table>\n",
       "</div>"
      ],
      "text/plain": [
       "                          IRP\n",
       "start              2024-06-19\n",
       "end                2024-08-26\n",
       "total_return        -0.003532\n",
       "cagr                -0.018825\n",
       "calmar              -0.342151\n",
       "max_drawdown        -0.055021\n",
       "avg_drawdown        -0.029718\n",
       "avg_drawdown_days        26.0\n",
       "daily_vol            0.059014\n",
       "daily_sharpe        -0.193009\n",
       "daily_sortino       -0.254431\n",
       "monthly_vol          0.013645\n",
       "monthly_sharpe       -0.81833\n",
       "monthly_sortino     -1.226806"
      ]
     },
     "execution_count": 40,
     "metadata": {},
     "output_type": "execute_result"
    }
   ],
   "source": [
    "pf_irp.performance(metrics=METRICS)"
   ]
  },
  {
   "cell_type": "markdown",
   "id": "f86d2f0d-9368-4db8-a1af-6f767f32d2ca",
   "metadata": {},
   "source": [
    "## HANA"
   ]
  },
  {
   "cell_type": "code",
   "execution_count": 14,
   "id": "cdee2ec4-982e-4d6a-8dd6-42f4c76edb00",
   "metadata": {},
   "outputs": [
    {
     "name": "stdout",
     "output_type": "stream",
     "text": [
      "Estimating price from \"data/funds_kebhana.csv\" ...\n",
      "  error: -0.00 %\n",
      "  error: 0.01 %\n",
      "  error: -0.00 %\n",
      "  error: 0.00 %\n",
      "4 assets from 2010-01-29 to 2024-07-31 uploaded.\n",
      "df_prices loaded\n",
      "WARNING: the number of days in a year with followings is 12 in avg.:\n",
      "KR5101888398: 12\n",
      "KR5236AS4826: 12\n",
      "KR5370AP9956: 12\n",
      "K55306CV9946: 12\n",
      "REMINDER: 4 equities converted to daily (days in year: 365)\n",
      "Daily metrics in Performance statistics must be meaningless\n",
      "Transaction record to 2024-07-31 loaded\n"
     ]
    }
   ],
   "source": [
    "pf_hana = PM.create_portfolio('HANA')"
   ]
  },
  {
   "cell_type": "code",
   "execution_count": 16,
   "id": "4157dba3-e659-4973-9d46-1419afde22a8",
   "metadata": {},
   "outputs": [
    {
     "data": {
      "text/plain": [
       "{'data': {'method_select': 'Selected',\n",
       "  'method_weigh': 'Equally',\n",
       "  'file': 'pf_hana_static',\n",
       "  'path': 'transaction'},\n",
       " 'name': 'HANA'}"
      ]
     },
     "execution_count": 16,
     "metadata": {},
     "output_type": "execute_result"
    }
   ],
   "source": [
    "pf_hana.portfolio_data['strategy']"
   ]
  },
  {
   "cell_type": "code",
   "execution_count": 42,
   "id": "01ec254d-f913-4bdd-97d2-574bc55b45a0",
   "metadata": {},
   "outputs": [
    {
     "name": "stdout",
     "output_type": "stream",
     "text": [
      "Portfolio value 9,997,329, Profit 0.1% on 2024-07-31\n",
      "ERROR: need more data to plot\n"
     ]
    }
   ],
   "source": [
    "pf_hana.plot()"
   ]
  },
  {
   "cell_type": "code",
   "execution_count": 43,
   "id": "d53b2aad-17ae-47ba-ab04-81dd385692b5",
   "metadata": {},
   "outputs": [
    {
     "data": {
      "application/vnd.jupyter.widget-view+json": {
       "model_id": "898b6b4992894df4b2c4867bb33e4c89",
       "version_major": 2,
       "version_minor": 0
      },
      "text/plain": [
       "VBox(children=(DatePicker(value=None, layout=Layout(width='200px'), step=1), IntSlider(value=0, continuous_upd…"
      ]
     },
     "execution_count": 43,
     "metadata": {},
     "output_type": "execute_result"
    }
   ],
   "source": [
    "# set kwargs of transaction_pipeline\n",
    "WidgetTransaction"
   ]
  },
  {
   "cell_type": "code",
   "execution_count": 44,
   "id": "13999c3b-6dac-4b53-92dc-d6abb31f2cbb",
   "metadata": {},
   "outputs": [
    {
     "name": "stdout",
     "output_type": "stream",
     "text": [
      "Liquidation set to None\n",
      "4 assets selected by All from 2024-07-31 to 2024-07-31\n",
      "ERROR: check the date as no new transaction\n",
      "Portfolio value 9,997,329, Profit 0.1% on 2024-07-31\n"
     ]
    },
    {
     "data": {
      "text/html": [
       "<div>\n",
       "<style scoped>\n",
       "    .dataframe tbody tr th:only-of-type {\n",
       "        vertical-align: middle;\n",
       "    }\n",
       "\n",
       "    .dataframe tbody tr th {\n",
       "        vertical-align: top;\n",
       "    }\n",
       "\n",
       "    .dataframe thead th {\n",
       "        text-align: right;\n",
       "    }\n",
       "</style>\n",
       "<table border=\"1\" class=\"dataframe\">\n",
       "  <thead>\n",
       "    <tr style=\"text-align: right;\">\n",
       "      <th></th>\n",
       "      <th></th>\n",
       "      <th>name</th>\n",
       "      <th>price</th>\n",
       "      <th>transaction</th>\n",
       "      <th>net</th>\n",
       "      <th>weight</th>\n",
       "      <th>weight*</th>\n",
       "    </tr>\n",
       "    <tr>\n",
       "      <th>date</th>\n",
       "      <th>asset</th>\n",
       "      <th></th>\n",
       "      <th></th>\n",
       "      <th></th>\n",
       "      <th></th>\n",
       "      <th></th>\n",
       "      <th></th>\n",
       "    </tr>\n",
       "  </thead>\n",
       "  <tbody>\n",
       "    <tr>\n",
       "      <th rowspan=\"4\" valign=\"top\">2024-07-31</th>\n",
       "      <th>KR5101888398</th>\n",
       "      <td>한국투자크레딧포커스ESG증권자투자신탁 1(채권)(C-e)</td>\n",
       "      <td>1068</td>\n",
       "      <td>4699</td>\n",
       "      <td>4699</td>\n",
       "      <td>0.502</td>\n",
       "      <td>0.502</td>\n",
       "    </tr>\n",
       "    <tr>\n",
       "      <th>KR5236AS4826</th>\n",
       "      <td>한국밸류10년투자증권투자신탁 1(채권혼합)종류C-E</td>\n",
       "      <td>1260</td>\n",
       "      <td>1920</td>\n",
       "      <td>1920</td>\n",
       "      <td>0.242</td>\n",
       "      <td>0.242</td>\n",
       "    </tr>\n",
       "    <tr>\n",
       "      <th>KR5370AP9956</th>\n",
       "      <td>AB글로벌고수익증권투자신탁(채권-재간접형)종류형Ce</td>\n",
       "      <td>1285</td>\n",
       "      <td>1448</td>\n",
       "      <td>1448</td>\n",
       "      <td>0.186</td>\n",
       "      <td>0.186</td>\n",
       "    </tr>\n",
       "    <tr>\n",
       "      <th>K55306CV9946</th>\n",
       "      <td>다올글로벌멀티에셋인컴EMP증권자투자신탁[혼합-재간접형](공)종류Ce</td>\n",
       "      <td>1151</td>\n",
       "      <td>602</td>\n",
       "      <td>602</td>\n",
       "      <td>0.069</td>\n",
       "      <td>0.069</td>\n",
       "    </tr>\n",
       "  </tbody>\n",
       "</table>\n",
       "</div>"
      ],
      "text/plain": [
       "                                                          name  price  \\\n",
       "date       asset                                                        \n",
       "2024-07-31 KR5101888398        한국투자크레딧포커스ESG증권자투자신탁 1(채권)(C-e)   1068   \n",
       "           KR5236AS4826           한국밸류10년투자증권투자신탁 1(채권혼합)종류C-E   1260   \n",
       "           KR5370AP9956           AB글로벌고수익증권투자신탁(채권-재간접형)종류형Ce   1285   \n",
       "           K55306CV9946  다올글로벌멀티에셋인컴EMP증권자투자신탁[혼합-재간접형](공)종류Ce   1151   \n",
       "\n",
       "                         transaction   net  weight  weight*  \n",
       "date       asset                                             \n",
       "2024-07-31 KR5101888398         4699  4699   0.502    0.502  \n",
       "           KR5236AS4826         1920  1920   0.242    0.242  \n",
       "           KR5370AP9956         1448  1448   0.186    0.186  \n",
       "           K55306CV9946          602   602   0.069    0.069  "
      ]
     },
     "execution_count": 44,
     "metadata": {},
     "output_type": "execute_result"
    }
   ],
   "source": [
    "kwargs = dict(\n",
    "    date = WidgetTransaction.values(0),\n",
    "    capital = WidgetTransaction.values(1),\n",
    "    save = WidgetTransaction.values(2)\n",
    ")\n",
    "_ = pf_hana.transaction_pipeline(**kwargs)\n",
    "pf_hana.view_record()"
   ]
  },
  {
   "cell_type": "code",
   "execution_count": 45,
   "id": "8041db72-01c9-4a2f-9609-b8c3812c89c4",
   "metadata": {},
   "outputs": [
    {
     "name": "stdout",
     "output_type": "stream",
     "text": [
      "ERROR: need more data to plot\n"
     ]
    }
   ],
   "source": [
    "pf_hana.plot()"
   ]
  },
  {
   "cell_type": "code",
   "execution_count": 46,
   "id": "cd1ebe41-1ead-478a-ad0f-d2fb28e222aa",
   "metadata": {},
   "outputs": [
    {
     "name": "stdout",
     "output_type": "stream",
     "text": [
      "ERROR: Need more data to measure\n"
     ]
    }
   ],
   "source": [
    "pf_hana.performance(metrics=METRICS)"
   ]
  },
  {
   "cell_type": "markdown",
   "id": "6112d193-4a76-4fa3-8c45-882fc123057d",
   "metadata": {},
   "source": [
    "# testing"
   ]
  },
  {
   "cell_type": "code",
   "execution_count": 2,
   "id": "34c9917e-3fc7-4dfc-88b7-6533c6c229aa",
   "metadata": {},
   "outputs": [],
   "source": [
    "from pf_utils import FundDownloader\n",
    "\n",
    "path_data = 'data'"
   ]
  },
  {
   "cell_type": "code",
   "execution_count": 2,
   "id": "84be178c-d997-46ab-a6d1-849a4b266376",
   "metadata": {},
   "outputs": [
    {
     "name": "stdout",
     "output_type": "stream",
     "text": [
      "Data for 4 funds loaded.\n",
      "4 tickers missing data for conversion from rate to price.\n"
     ]
    }
   ],
   "source": [
    "file = 'funds_info_test.csv'\n",
    "#file = 'funds_info_241121.csv'\n",
    "fd = FundDownloader(file, path_data)"
   ]
  },
  {
   "cell_type": "code",
   "execution_count": 3,
   "id": "25dd081c-37a5-4e14-b0ce-bd08dc0934f1",
   "metadata": {},
   "outputs": [
    {
     "name": "stdout",
     "output_type": "stream",
     "text": [
      "4 tickers missing data for conversion from rate to price.\n"
     ]
    },
    {
     "data": {
      "text/plain": [
       "Index(['K55234DF2657', 'K55234DF2459', 'K55301DW1763', 'K55301BU6139'], dtype='object', name='ticker')"
      ]
     },
     "execution_count": 3,
     "metadata": {},
     "output_type": "execute_result"
    }
   ],
   "source": [
    "fd.check_master()"
   ]
  },
  {
   "cell_type": "code",
   "execution_count": 4,
   "id": "a166abda-a199-403a-832a-9f89a5fd6901",
   "metadata": {},
   "outputs": [
    {
     "name": "stderr",
     "output_type": "stream",
     "text": [
      "100%|█████████████████████████████████████████████████████████████████| 4/4 [00:00<00:00,  5.25it/s]\n"
     ]
    },
    {
     "name": "stdout",
     "output_type": "stream",
     "text": [
      "0.8 secs elapsed, 0.0 secs paused (0.0%)\n",
      "data_tickers updated\n",
      "test_funds_info.csv saved\n"
     ]
    }
   ],
   "source": [
    "fd.update_master(file='test_funds_info', path=path_data)"
   ]
  },
  {
   "cell_type": "code",
   "execution_count": 5,
   "id": "1f4cfed2-243d-41c4-823e-06b35f58e065",
   "metadata": {},
   "outputs": [
    {
     "name": "stdout",
     "output_type": "stream",
     "text": [
      "4 tickers set\n"
     ]
    }
   ],
   "source": [
    "fd.set_tickers()"
   ]
  },
  {
   "cell_type": "code",
   "execution_count": 7,
   "id": "ae39b32e-7a28-4d0f-aac7-27cb8e793a03",
   "metadata": {},
   "outputs": [
    {
     "name": "stderr",
     "output_type": "stream",
     "text": [
      "100%|█████████████████████████████████████████████████████████████████| 4/4 [00:00<00:00,  8.17it/s]"
     ]
    },
    {
     "name": "stdout",
     "output_type": "stream",
     "text": [
      "0.5 secs elapsed, 0.0 secs paused (0.0%)\n",
      "Max error of conversions: 1.17e-05\n",
      "test_funds_prices_170929_241031.csv saved\n"
     ]
    },
    {
     "name": "stderr",
     "output_type": "stream",
     "text": [
      "\n"
     ]
    }
   ],
   "source": [
    "start_date, end_date = '2010-01-01', '2024-11-21'\n",
    "ers = fd.download(start_date, end_date, file='test_funds_prices', path=path_data)"
   ]
  },
  {
   "cell_type": "code",
   "execution_count": 8,
   "id": "3c2851b0-16bf-4234-a6c1-698787359606",
   "metadata": {},
   "outputs": [
    {
     "data": {
      "text/plain": [
       "<Axes: xlabel='date'>"
      ]
     },
     "execution_count": 8,
     "metadata": {},
     "output_type": "execute_result"
    },
    {
     "data": {
      "image/png": "[encoded data removed]",
      "text/plain": [
       "<Figure size 640x480 with 1 Axes>"
      ]
     },
     "metadata": {},
     "output_type": "display_data"
    }
   ],
   "source": [
    "fd.df_prices.plot()"
   ]
  },
  {
   "cell_type": "code",
   "execution_count": 3,
   "id": "6056b7f0-aa66-4dcf-82bc-52a6c27a1776",
   "metadata": {},
   "outputs": [
    {
     "name": "stdout",
     "output_type": "stream",
     "text": [
      "WARNING: uploading failed as [Errno 2] No such file or directory: './test_funds_prices.csv'\n",
      "Data for 4 funds loaded.\n",
      "4 tickers missing data for conversion from rate to price.\n"
     ]
    },
    {
     "name": "stderr",
     "output_type": "stream",
     "text": [
      "100%|█████████████████████████████████████████████████████████████████| 4/4 [00:00<00:00,  4.93it/s]"
     ]
    },
    {
     "name": "stdout",
     "output_type": "stream",
     "text": [
      "0.8 secs elapsed, 0.0 secs paused (0.0%)\n",
      "data_tickers updated\n"
     ]
    },
    {
     "name": "stderr",
     "output_type": "stream",
     "text": [
      "\n"
     ]
    },
    {
     "data": {
      "text/plain": [
       "0) K55234DF2657: IBK로우코스트TDF2030증권자투자신탁[혼합-재간접형]종류C-Re\n",
       "1) K55234DF2459: IBK로우코스트TDF2035증권자투자신탁[혼합-재간접형]종류C-Re\n",
       "2) K55301DW1763: 미래에셋전략배분TDF2035혼합자산자투자신탁종류O\n",
       "3) K55301BU6139: 미래에셋전략배분TDF2035혼합자산자투자신탁종류C-P2e"
      ]
     },
     "execution_count": 3,
     "metadata": {},
     "output_type": "execute_result"
    }
   ],
   "source": [
    "from pf_utils import DataManager\n",
    "\n",
    "dm = DataManager(universe='fund', file='test_funds_prices')\n",
    "\n",
    "file = 'funds_info_test.csv'\n",
    "dm.get_names(file=file, path=path_data)"
   ]
  },
  {
   "cell_type": "markdown",
   "id": "24524ce4-debe-4513-b2bd-f536f2f1d4aa",
   "metadata": {},
   "source": [
    "# testing"
   ]
  },
  {
   "cell_type": "code",
   "execution_count": 5,
   "id": "571c2acf-2e52-45b6-9016-e403d849df88",
   "metadata": {},
   "outputs": [],
   "source": [
    "from pf_utils import PortfolioManager as PM \n",
    "from pf_utils import FinancialRatios, METRICS\n",
    "from pf_widgets import WidgetUniverse, WidgetTransaction, w_date"
   ]
  },
  {
   "cell_type": "code",
   "execution_count": 6,
   "id": "f23089d0-b8fc-45b5-a095-fc8b2357e8ca",
   "metadata": {},
   "outputs": [],
   "source": [
    "path_data = 'data'\n",
    "path_tran = 'transaction'"
   ]
  },
  {
   "cell_type": "code",
   "execution_count": null,
   "id": "94fa1e0e-1d75-467c-9da8-e532f02bc7de",
   "metadata": {},
   "outputs": [],
   "source": []
  }
 ],
 "metadata": {
  "kernelspec": {
   "display_name": "portfolio",
   "language": "python",
   "name": "portfolio"
  },
  "language_info": {
   "codemirror_mode": {
    "name": "ipython",
    "version": 3
   },
   "file_extension": ".py",
   "mimetype": "text/x-python",
   "name": "python",
   "nbconvert_exporter": "python",
   "pygments_lexer": "ipython3",
   "version": "3.12.1"
  }
 },
 "nbformat": 4,
 "nbformat_minor": 5
}
