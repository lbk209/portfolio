{
 "cells": [
  {
   "cell_type": "markdown",
   "id": "1a0d2b60-5842-4969-8229-84f355dc46fc",
   "metadata": {},
   "source": [
    "# Setting"
   ]
  },
  {
   "cell_type": "code",
   "execution_count": 1,
   "id": "7009fd2f-8efd-4ed3-a187-01939304fa9e",
   "metadata": {},
   "outputs": [
    {
     "name": "stderr",
     "output_type": "stream",
     "text": [
      "WARNING (pytensor.tensor.blas): Using NumPy C-API based implementation for BLAS functions.\n"
     ]
    }
   ],
   "source": [
    "from pf_utils import PortfolioManager as PM \n",
    "from pf_utils import FinancialRatios, METRICS, FundDownloader\n",
    "from pf_widgets import WidgetUniverse, WidgetTransaction, w_date"
   ]
  },
  {
   "cell_type": "code",
   "execution_count": 2,
   "id": "723adb14-cd00-4d96-9c64-5a8628e82f44",
   "metadata": {},
   "outputs": [],
   "source": [
    "path_data = 'data'\n",
    "path_tran = 'transaction'"
   ]
  },
  {
   "cell_type": "code",
   "execution_count": 3,
   "id": "35042bdf-a8cc-4711-9dcd-ceec6ac0ab77",
   "metadata": {},
   "outputs": [],
   "source": [
    "file_cost='transaction_cost'\n",
    "kw_cost = dict(file_cost=file_cost)"
   ]
  },
  {
   "cell_type": "markdown",
   "id": "83852d8f-9884-4a8d-bb97-4b61670f6d4d",
   "metadata": {},
   "source": [
    "## Portfolios\n",
    "*Review portfolio settings*"
   ]
  },
  {
   "cell_type": "code",
   "execution_count": 4,
   "id": "57eeef26-93fa-4e46-9197-ef5948aed668",
   "metadata": {},
   "outputs": [
    {
     "name": "stdout",
     "output_type": "stream",
     "text": [
      "Portfolio: MMT, PER, WTR, LIQ, TDF, HANA, FCTR, KRX\n"
     ]
    }
   ],
   "source": [
    "PM.review('portfolio')"
   ]
  },
  {
   "cell_type": "code",
   "execution_count": 5,
   "id": "4dd4bbf9-fc33-4763-a4b1-c635f111e2d7",
   "metadata": {},
   "outputs": [
    {
     "data": {
      "text/plain": [
       "{'strategy': 'WTR', 'universe': 'UV_WTR'}"
      ]
     },
     "execution_count": 5,
     "metadata": {},
     "output_type": "execute_result"
    }
   ],
   "source": [
    "PM.review_portfolio('WTR')"
   ]
  },
  {
   "cell_type": "code",
   "execution_count": 6,
   "id": "aed90957-12a4-4bfd-a239-f32295b6cee9",
   "metadata": {},
   "outputs": [
    {
     "data": {
      "text/plain": [
       "{'method_select': 'Selected',\n",
       " 'method_weigh': 'Equally',\n",
       " 'file': 'pf_wtr_static',\n",
       " 'path': 'transaction'}"
      ]
     },
     "execution_count": 6,
     "metadata": {},
     "output_type": "execute_result"
    }
   ],
   "source": [
    "#PM.review_strategy('WTR')\n",
    "PM.review_portfolio('WTR', strategy=True)"
   ]
  },
  {
   "cell_type": "code",
   "execution_count": 7,
   "id": "319ceff5-fb55-499d-8800-0caf3c5bab61",
   "metadata": {},
   "outputs": [
    {
     "data": {
      "text/plain": [
       "{'universe': 'etf',\n",
       " 'file': 'etfs_weather',\n",
       " 'tickers': 'ETF/KR',\n",
       " 'daily': True,\n",
       " 'path': 'data'}"
      ]
     },
     "execution_count": 7,
     "metadata": {},
     "output_type": "execute_result"
    }
   ],
   "source": [
    "#PM.review_universe('UV_WTR')\n",
    "PM.review_portfolio('WTR', universe=True)"
   ]
  },
  {
   "cell_type": "code",
   "execution_count": 8,
   "id": "26c9a005-92f5-4f37-b9b9-3154c0ee4730",
   "metadata": {},
   "outputs": [
    {
     "name": "stdout",
     "output_type": "stream",
     "text": [
      "Cost data transaction_cost.csv loaded\n"
     ]
    },
    {
     "data": {
      "text/plain": [
       "ticker\n",
       "069500    0.004209\n",
       "273130    0.004209\n",
       "379800    0.004209\n",
       "411060    0.004209\n",
       "148070    0.004209\n",
       "284430    0.004209\n",
       "Name: buy, dtype: float64"
      ]
     },
     "execution_count": 8,
     "metadata": {},
     "output_type": "execute_result"
    }
   ],
   "source": [
    "c = PM.get_cost('WTR', file_cost, path_tran)\n",
    "c['buy']"
   ]
  },
  {
   "cell_type": "markdown",
   "id": "c786112f-9aef-4df7-8248-4ddcfcb2c1f0",
   "metadata": {},
   "source": [
    "# Universe"
   ]
  },
  {
   "cell_type": "code",
   "execution_count": 8,
   "id": "9632a8f9-3a3b-4e8b-aa68-2cb9ff8d0748",
   "metadata": {},
   "outputs": [
    {
     "name": "stdout",
     "output_type": "stream",
     "text": [
      "Universe: UV_K200, UV_KRX, UV_LIQ, UV_WTR, UV_ETF, UV_FUND, UV_FCTR\n"
     ]
    }
   ],
   "source": [
    "PM.review('universes')"
   ]
  },
  {
   "cell_type": "code",
   "execution_count": 9,
   "id": "73024aab-e901-4e9c-94e2-a46e5b983dbe",
   "metadata": {},
   "outputs": [
    {
     "data": {
      "application/vnd.jupyter.widget-view+json": {
       "model_id": "bf197d53dcc44ce38b5adeb77b724458",
       "version_major": 2,
       "version_minor": 0
      },
      "text/plain": [
       "VBox(children=(Checkbox(value=False, description='Download', indent=False), Checkbox(value=False, description=…"
      ]
     },
     "execution_count": 9,
     "metadata": {},
     "output_type": "execute_result"
    }
   ],
   "source": [
    "WidgetUniverse"
   ]
  },
  {
   "cell_type": "markdown",
   "id": "1cb34ee5-b007-48b4-a11b-188e6bafad0f",
   "metadata": {},
   "source": [
    "## K200"
   ]
  },
  {
   "cell_type": "code",
   "execution_count": 7,
   "id": "8aa50408-fd2b-45f5-81ed-6c1a2479eb77",
   "metadata": {},
   "outputs": [
    {
     "name": "stdout",
     "output_type": "stream",
     "text": [
      "201 securities from 2021-01-04 to 2024-12-02 uploaded.\n",
      "df_prices loaded\n"
     ]
    }
   ],
   "source": [
    "k200 = PM.create_universe('UV_K200')"
   ]
  },
  {
   "cell_type": "code",
   "execution_count": 15,
   "id": "1f62192a-4e95-45d7-9f11-4ece016a7e1f",
   "metadata": {},
   "outputs": [
    {
     "data": {
      "text/plain": [
       "{'universe': {'data': {'universe': 'kospi200',\n",
       "   'file': 'kospi200_prices',\n",
       "   'tickers': 'KRX/INDEX/STOCK/1028',\n",
       "   'daily': True,\n",
       "   'path': 'data'},\n",
       "  'name': 'UV_K200'}}"
      ]
     },
     "execution_count": 15,
     "metadata": {},
     "output_type": "execute_result"
    }
   ],
   "source": [
    "k200.portfolio_data\n",
    "#k200.get_names()"
   ]
  },
  {
   "cell_type": "code",
   "execution_count": 16,
   "id": "56cfa843-ffc7-469f-a18d-aefecdac2e5d",
   "metadata": {},
   "outputs": [
    {
     "name": "stdout",
     "output_type": "stream",
     "text": [
      "Downloading ...\n",
      "... done\n",
      "201 securities from 2021-01-04 to 2024-12-02 downloaded.\n",
      "kospi200_prices_241202.csv saved\n",
      "df_prices updated\n",
      "Execution time of download: 38.96 secs\n"
     ]
    }
   ],
   "source": [
    "kw = dict(\n",
    "    n_years=3, \n",
    "    close_today = WidgetUniverse.values(1)\n",
    ")\n",
    "k200.download(**kw) if WidgetUniverse.values(0) else None"
   ]
  },
  {
   "cell_type": "markdown",
   "id": "6e62cef4-25c9-414b-b33f-28858e929f30",
   "metadata": {},
   "source": [
    "## KRX"
   ]
  },
  {
   "cell_type": "code",
   "execution_count": 12,
   "id": "341b6af3-25e4-4280-8d51-6015c48994b9",
   "metadata": {},
   "outputs": [
    {
     "name": "stdout",
     "output_type": "stream",
     "text": [
      "2712 securities from 2019-01-02 to 2024-10-08 uploaded.\n",
      "WARNING: Some tickers not exist in the universe\n",
      "df_prices loaded\n"
     ]
    }
   ],
   "source": [
    "krx = PM.create_universe('UV_KRX')"
   ]
  },
  {
   "cell_type": "code",
   "execution_count": null,
   "id": "3823cf09-0227-4788-b5d1-25dc511a5245",
   "metadata": {},
   "outputs": [],
   "source": [
    "#krx.get_names()"
   ]
  },
  {
   "cell_type": "code",
   "execution_count": 13,
   "id": "5bed0595-0790-4e8b-ab6e-5e9db598d0d5",
   "metadata": {},
   "outputs": [],
   "source": [
    "kw = dict(\n",
    "    n_years=3, \n",
    "    close_today = WidgetUniverse.values(1),\n",
    "    interval=5, pause_duration=1, msg=False\n",
    ")\n",
    "#krx.download(**kw) if WidgetUniverse.values(0) else None"
   ]
  },
  {
   "cell_type": "markdown",
   "id": "39d0213d-1cd0-42f6-8066-abb2eb6dd5db",
   "metadata": {},
   "source": [
    "## WTR"
   ]
  },
  {
   "cell_type": "code",
   "execution_count": 19,
   "id": "26a87f56-8333-4d02-bc67-2d58cda01a18",
   "metadata": {},
   "outputs": [
    {
     "name": "stdout",
     "output_type": "stream",
     "text": [
      "6 securities from 2021-01-04 to 2024-11-28 uploaded.\n",
      "df_prices loaded\n"
     ]
    }
   ],
   "source": [
    "wtr = PM.create_universe('UV_WTR')"
   ]
  },
  {
   "cell_type": "code",
   "execution_count": 20,
   "id": "16199cb5-7b8e-4a5b-9225-d6945a3fbbe3",
   "metadata": {},
   "outputs": [
    {
     "data": {
      "text/plain": [
       "0) 069500: KODEX 200\n",
       "1) 273130: KODEX 종합채권(AA-이상)액티브\n",
       "2) 379800: KODEX 미국S&P500TR\n",
       "3) 411060: ACE KRX금현물\n",
       "4) 148070: KOSEF 국고채10년\n",
       "5) 284430: KODEX 200미국채혼합"
      ]
     },
     "execution_count": 20,
     "metadata": {},
     "output_type": "execute_result"
    }
   ],
   "source": [
    "wtr.get_names()"
   ]
  },
  {
   "cell_type": "code",
   "execution_count": 21,
   "id": "f9795c18-b507-497c-b6e4-5fbed3896f35",
   "metadata": {},
   "outputs": [
    {
     "data": {
      "text/plain": [
       "{'universe': 'etf',\n",
       " 'file': 'etfs_weather',\n",
       " 'tickers': 'ETF/KR',\n",
       " 'daily': True,\n",
       " 'path': 'data'}"
      ]
     },
     "execution_count": 21,
     "metadata": {},
     "output_type": "execute_result"
    }
   ],
   "source": [
    "PM.review_universe('UV_WTR')"
   ]
  },
  {
   "cell_type": "code",
   "execution_count": 22,
   "id": "3cc26afb-d01e-4b99-9be0-fb446726b131",
   "metadata": {},
   "outputs": [
    {
     "name": "stdout",
     "output_type": "stream",
     "text": [
      "Downloading ...\n",
      "... done\n",
      "6 securities from 2021-01-04 to 2024-12-02 downloaded.\n",
      "etfs_weather_241202.csv saved\n",
      "df_prices updated\n",
      "Execution time of download: 0.84 secs\n"
     ]
    }
   ],
   "source": [
    "kw = dict(\n",
    "    n_years=3, \n",
    "    close_today = WidgetUniverse.values(1),\n",
    "    #tickers = ['069500', '273130', '148070', '379800', '411060', '284430']\n",
    "    tickers = 'selected'\n",
    ")\n",
    "wtr.download(**kw) if WidgetUniverse.values(0) else None"
   ]
  },
  {
   "cell_type": "code",
   "execution_count": 21,
   "id": "35e4fe7f-1ebd-40f6-956c-44c464cb6a76",
   "metadata": {},
   "outputs": [],
   "source": [
    "#wtr.save()"
   ]
  },
  {
   "cell_type": "markdown",
   "id": "9a915127-3848-4f4a-84ed-4552ff991fca",
   "metadata": {},
   "source": [
    "## FCTR"
   ]
  },
  {
   "cell_type": "code",
   "execution_count": 17,
   "id": "d4181791-edd1-44f5-bbf8-ef80f0cdb556",
   "metadata": {},
   "outputs": [
    {
     "name": "stdout",
     "output_type": "stream",
     "text": [
      "7 securities from 2021-01-04 to 2024-11-22 uploaded.\n",
      "df_prices loaded\n"
     ]
    }
   ],
   "source": [
    "fctr = PM.create_universe('UV_FCTR')"
   ]
  },
  {
   "cell_type": "code",
   "execution_count": 18,
   "id": "9b7cf8d1-a3e4-4489-82cd-2a3368fbcfd5",
   "metadata": {},
   "outputs": [
    {
     "data": {
      "text/plain": [
       "0) LRGF: iShares U.S. Equity Factor ETF\n",
       "1) MTUM: iShares MSCI USA Momentum Factor ETF\n",
       "2) QUAL: iShares MSCI USA Quality Factor ETF\n",
       "3) SIZE: iShares MSCI USA Size Factor ETF\n",
       "4) SPY: SPDR S&P 500 ETF Trust\n",
       "5) USMV: iShares MSCI USA Min Vol Factor ETF\n",
       "6) VLUE: iShares MSCI USA Value Factor ETF"
      ]
     },
     "execution_count": 18,
     "metadata": {},
     "output_type": "execute_result"
    }
   ],
   "source": [
    "fctr.get_names()"
   ]
  },
  {
   "cell_type": "code",
   "execution_count": 19,
   "id": "1f8f1368-0625-4f2c-aab4-5755f702c2fa",
   "metadata": {},
   "outputs": [],
   "source": [
    "kw = dict(\n",
    "    n_years=3, \n",
    "    close_today = WidgetUniverse.values(1),\n",
    "    tickers=['LRGF','MTUM','QUAL','SIZE','SPY','USMV','VLUE']\n",
    "    #tickers='selected'\n",
    ")\n",
    "fctr.download(**kw) if WidgetUniverse.values(0) else None"
   ]
  },
  {
   "cell_type": "markdown",
   "id": "99c864db-6e90-4720-9287-a23b26b2263e",
   "metadata": {},
   "source": [
    "## FUND"
   ]
  },
  {
   "cell_type": "code",
   "execution_count": 4,
   "id": "c22863eb-b080-4dd0-b2b0-d199fba75c5a",
   "metadata": {},
   "outputs": [
    {
     "name": "stdout",
     "output_type": "stream",
     "text": [
      "64 securities from 2008-11-28 to 2024-11-29 uploaded.\n",
      "WARNING: the number of days in a year with 64 tickers (100%) is 12 in avg.\n",
      "REMINDER: 64 equities converted to daily (days in year: 365)\n",
      "Daily metrics in Performance statistics must be meaningless\n",
      "df_prices loaded\n"
     ]
    }
   ],
   "source": [
    "fund = PM.create_universe('UV_FUND')"
   ]
  },
  {
   "cell_type": "code",
   "execution_count": 5,
   "id": "1748945c-f7e2-4ab9-94f1-59cd89bbc815",
   "metadata": {},
   "outputs": [],
   "source": [
    "kw = dict(\n",
    "    n_years=20, \n",
    "    close_today = WidgetUniverse.values(1),\n",
    "    #tickers='selected'\n",
    ")\n",
    "fund.download(**kw) if WidgetUniverse.values(0) else None"
   ]
  },
  {
   "cell_type": "code",
   "execution_count": 6,
   "id": "0c93d365-19b3-4ea5-b57b-74baa5d8e5db",
   "metadata": {},
   "outputs": [
    {
     "data": {
      "text/plain": [
       "{'data': {'universe': 'fund',\n",
       "  'file': 'funds_prices',\n",
       "  'tickers': 'funds_info',\n",
       "  'daily': False,\n",
       "  'path': 'data'},\n",
       " 'name': 'UV_FUND'}"
      ]
     },
     "execution_count": 6,
     "metadata": {},
     "output_type": "execute_result"
    }
   ],
   "source": [
    "fund.portfolio_data['universe']"
   ]
  },
  {
   "cell_type": "markdown",
   "id": "ecc9a42b-4f19-43b8-8ce3-567bcbdabe9b",
   "metadata": {},
   "source": [
    "*create transaction_cost*"
   ]
  },
  {
   "cell_type": "code",
   "execution_count": 8,
   "id": "2d721c67-c6c5-4197-b819-8d597f631446",
   "metadata": {},
   "outputs": [
    {
     "name": "stdout",
     "output_type": "stream",
     "text": [
      "Data for 64 funds loaded.\n",
      "ERROR: transaction_cost.csv exists\n"
     ]
    }
   ],
   "source": [
    "update = False\n",
    "\n",
    "fd = FundDownloader.create(fund)\n",
    "fd.export_cost('TDF', 'transaction_cost', path=path_tran, update=update)\n",
    "#fd.export_cost('TDF')"
   ]
  },
  {
   "cell_type": "markdown",
   "id": "a4f53a08-8233-4b77-b360-e9dc6b3c1b4d",
   "metadata": {},
   "source": [
    "## LIQ"
   ]
  },
  {
   "cell_type": "code",
   "execution_count": 23,
   "id": "72cd3dc3-870e-4d18-810e-b95ff8bba953",
   "metadata": {},
   "outputs": [],
   "source": [
    "# portfolio of past trading system to liquidate soon\n",
    "selected = [\n",
    "    '011780', '066570', '035890', '040420', '140520', \n",
    "    '072990', '091580', '011200', '002220', '006650', \n",
    "    '136490', '064550', '460860', '040910', '024950',\n",
    "    '900070', '036580', '184230', '460850', '016250',\n",
    "    '001230', '049470', '217820', '109960'\n",
    "]"
   ]
  },
  {
   "cell_type": "code",
   "execution_count": 24,
   "id": "414e2a58-a88f-49df-b3d3-6eba848856c6",
   "metadata": {},
   "outputs": [
    {
     "name": "stdout",
     "output_type": "stream",
     "text": [
      "24 securities from 2021-01-04 to 2024-11-28 uploaded.\n",
      "df_prices loaded\n"
     ]
    }
   ],
   "source": [
    "liq = PM.create_universe('UV_LIQ')"
   ]
  },
  {
   "cell_type": "code",
   "execution_count": null,
   "id": "0dbf39d1-aa67-46f9-93e9-0c9544409fa3",
   "metadata": {},
   "outputs": [],
   "source": [
    "#liq.get_names()"
   ]
  },
  {
   "cell_type": "code",
   "execution_count": 20,
   "id": "b6e60aa6-cc78-4145-a706-9802503cce51",
   "metadata": {},
   "outputs": [
    {
     "name": "stdout",
     "output_type": "stream",
     "text": [
      "Downloading ...\n",
      "REMINDER: 24 tickers set regardless of market\n"
     ]
    },
    {
     "name": "stderr",
     "output_type": "stream",
     "text": [
      "100%|███████████████████████████████████████████████████████████████| 24/24 [00:01<00:00, 15.64it/s]"
     ]
    },
    {
     "name": "stdout",
     "output_type": "stream",
     "text": [
      "1.5 secs elapsed, 0.0 secs paused (0.0%)\n",
      "... done\n",
      "24 securities from 2021-01-04 to 2024-11-28 downloaded.\n",
      "krx_liq_prices_241128.csv saved\n",
      "df_prices updated\n",
      "Execution time of download: 2.16 secs\n"
     ]
    },
    {
     "name": "stderr",
     "output_type": "stream",
     "text": [
      "\n"
     ]
    }
   ],
   "source": [
    "kw = dict(\n",
    "    n_years=3, \n",
    "    tickers= 'selected', #selected,\n",
    "    close_today = WidgetUniverse.values(1),\n",
    "    interval=5, pause_duration=1, msg=False\n",
    ")\n",
    "liq.download(**kw) if WidgetUniverse.values(0) else None"
   ]
  },
  {
   "cell_type": "markdown",
   "id": "892cb848-d5e2-4bbf-ba7d-f4b38f4b0791",
   "metadata": {},
   "source": [
    "## Additional Data"
   ]
  },
  {
   "cell_type": "markdown",
   "id": "28c87622-d725-4580-b8b9-067ce19f8d8a",
   "metadata": {},
   "source": [
    "### Financial Ratio"
   ]
  },
  {
   "cell_type": "code",
   "execution_count": 26,
   "id": "639f2709-1679-4893-8d1d-b0f065e3980f",
   "metadata": {},
   "outputs": [
    {
     "data": {
      "application/vnd.jupyter.widget-view+json": {
       "model_id": "e57cf1c46bd7422fbbdab0a4273c683a",
       "version_major": 2,
       "version_minor": 0
      },
      "text/plain": [
       "VBox(children=(Checkbox(value=False, description='Download', indent=False), Checkbox(value=False, description=…"
      ]
     },
     "execution_count": 26,
     "metadata": {},
     "output_type": "execute_result"
    }
   ],
   "source": [
    "WidgetUniverse"
   ]
  },
  {
   "cell_type": "code",
   "execution_count": 27,
   "id": "f80ca883-cc65-49cd-b6c5-bab6a8a55417",
   "metadata": {},
   "outputs": [
    {
     "name": "stdout",
     "output_type": "stream",
     "text": [
      "Financial ratios of 201 stocks from 2023-01-02 to 2024-11-19 loaded\n"
     ]
    }
   ],
   "source": [
    "file = 'kospi200_ratios.csv'\n",
    "fr = FinancialRatios(file, path_data)"
   ]
  },
  {
   "cell_type": "code",
   "execution_count": 28,
   "id": "ad28f354-e504-4422-b486-9982db82ccf8",
   "metadata": {},
   "outputs": [],
   "source": [
    "start = '2023-01-01'\n",
    "universe = 'UV_K200'\n",
    "freq = 'day'\n",
    "\n",
    "if WidgetUniverse.values(0):\n",
    "    tickers = PM.create_universe(universe).df_prices.columns.to_list()\n",
    "    kw = dict(\n",
    "        freq = freq,\n",
    "        close_today = WidgetUniverse.values(1)\n",
    "    )\n",
    "    fr.download(tickers, start, **kw)"
   ]
  },
  {
   "cell_type": "code",
   "execution_count": 29,
   "id": "d630f9b3-6c80-4b4e-b70f-fd80cbe21127",
   "metadata": {},
   "outputs": [],
   "source": [
    "fratio = 'PER'\n",
    "df_ratio = fr.util_reshape(fratio, stack=False)"
   ]
  },
  {
   "cell_type": "code",
   "execution_count": 30,
   "id": "8db8d716-547e-4f36-bc02-cc70c6af7264",
   "metadata": {},
   "outputs": [
    {
     "name": "stdout",
     "output_type": "stream",
     "text": [
      "201 securities from 2021-01-04 to 2024-11-28 uploaded.\n",
      "df_prices loaded\n",
      "WARNING: 501 days from 2021-01-04 to 2024-11-28 missing in the ratio\n"
     ]
    }
   ],
   "source": [
    "df = PM.create_universe(universe).df_prices\n",
    "fr.util_compare_periods(df)"
   ]
  },
  {
   "cell_type": "markdown",
   "id": "198e84e4-ee73-466e-baa8-e5cbc1be4725",
   "metadata": {},
   "source": [
    "# Performance"
   ]
  },
  {
   "cell_type": "code",
   "execution_count": 4,
   "id": "4f9e3e79-0274-47d0-b5ad-d52e3b3fe202",
   "metadata": {},
   "outputs": [
    {
     "name": "stdout",
     "output_type": "stream",
     "text": [
      "Portfolio: MMT, PER, WTR, LIQ, TDF, HANA, FCTR, KRX\n"
     ]
    }
   ],
   "source": [
    "PM.review()"
   ]
  },
  {
   "cell_type": "code",
   "execution_count": 5,
   "id": "66f39b20-3e42-408f-9d74-bc0dd217ac4e",
   "metadata": {
    "scrolled": true
   },
   "outputs": [
    {
     "name": "stdout",
     "output_type": "stream",
     "text": [
      "MMT:\n",
      "201 securities from 2021-01-04 to 2024-12-02 uploaded.\n",
      "df_prices loaded\n",
      "Transaction record to 2024-11-11 loaded\n",
      "\n",
      "PER:\n",
      "201 securities from 2021-01-04 to 2024-12-02 uploaded.\n",
      "df_prices loaded\n",
      "Transaction record to 2024-11-11 loaded\n",
      "\n",
      "WTR:\n",
      "6 securities from 2021-01-04 to 2024-12-02 uploaded.\n",
      "df_prices loaded\n",
      "Transaction record to 2024-11-20 loaded\n",
      "\n"
     ]
    }
   ],
   "source": [
    "pf_list = ['MMT', 'PER', 'WTR']\n",
    "pm = PM(pf_list)"
   ]
  },
  {
   "cell_type": "code",
   "execution_count": 6,
   "id": "c415e04e-bae6-42c6-b459-3c171923f48f",
   "metadata": {},
   "outputs": [
    {
     "name": "stdout",
     "output_type": "stream",
     "text": [
      "LIQ:\n",
      "24 securities from 2021-01-04 to 2024-11-28 uploaded.\n",
      "df_prices loaded\n",
      "Transaction record to 2024-01-03 loaded\n",
      "\n",
      "TDF:\n",
      "64 securities from 2008-11-28 to 2024-11-29 uploaded.\n",
      "WARNING: the number of days in a year with 64 tickers (100%) is 12 in avg.\n",
      "REMINDER: 64 equities converted to daily (days in year: 365)\n",
      "Daily metrics in Performance statistics must be meaningless\n",
      "df_prices loaded\n",
      "Transaction record to 2024-06-19 loaded\n",
      "\n",
      "HANA:\n",
      "64 securities from 2008-11-28 to 2024-11-29 uploaded.\n",
      "WARNING: the number of days in a year with 64 tickers (100%) is 12 in avg.\n",
      "REMINDER: 64 equities converted to daily (days in year: 365)\n",
      "Daily metrics in Performance statistics must be meaningless\n",
      "df_prices loaded\n",
      "Transaction record to 2024-07-31 loaded\n",
      "\n"
     ]
    }
   ],
   "source": [
    "pm.load('LIQ')\n",
    "pm.load(['TDF','HANA'])"
   ]
  },
  {
   "cell_type": "code",
   "execution_count": 7,
   "id": "f75e8058-9c75-4e68-bc44-80d2a3638942",
   "metadata": {},
   "outputs": [
    {
     "data": {
      "image/png": "[encoded data removed]",
      "text/plain": [
       "<Figure size 1000x500 with 2 Axes>"
      ]
     },
     "metadata": {},
     "output_type": "display_data"
    }
   ],
   "source": [
    "start_date='2024-07-01'\n",
    "#pm.plot('MMT', start_date=start_date)\n",
    "#pm.plot(pf_list, start_date=start_date, roi=False)\n",
    "pm.plot(start_date=start_date)"
   ]
  },
  {
   "cell_type": "code",
   "execution_count": 8,
   "id": "c7b20465-e301-4a48-bd96-dde42a27a4f2",
   "metadata": {},
   "outputs": [
    {
     "data": {
      "application/vnd.jupyter.widget-view+json": {
       "model_id": "aa762f5cddf1425881d71cb74cb2ce7e",
       "version_major": 2,
       "version_minor": 0
      },
      "text/plain": [
       "DatePicker(value=None, layout=Layout(width='200px'), step=1)"
      ]
     },
     "execution_count": 8,
     "metadata": {},
     "output_type": "execute_result"
    }
   ],
   "source": [
    "w_date"
   ]
  },
  {
   "cell_type": "code",
   "execution_count": 9,
   "id": "713f1fea-97dd-47b4-a05a-c0f5611a7f36",
   "metadata": {},
   "outputs": [
    {
     "data": {
      "text/html": [
       "<div>\n",
       "<style scoped>\n",
       "    .dataframe tbody tr th:only-of-type {\n",
       "        vertical-align: middle;\n",
       "    }\n",
       "\n",
       "    .dataframe tbody tr th {\n",
       "        vertical-align: top;\n",
       "    }\n",
       "\n",
       "    .dataframe thead th {\n",
       "        text-align: right;\n",
       "    }\n",
       "</style>\n",
       "<table border=\"1\" class=\"dataframe\">\n",
       "  <thead>\n",
       "    <tr style=\"text-align: right;\">\n",
       "      <th></th>\n",
       "      <th>MMT</th>\n",
       "      <th>PER</th>\n",
       "      <th>WTR</th>\n",
       "      <th>LIQ</th>\n",
       "      <th>TDF</th>\n",
       "      <th>HANA</th>\n",
       "      <th>Total</th>\n",
       "    </tr>\n",
       "  </thead>\n",
       "  <tbody>\n",
       "    <tr>\n",
       "      <th>start</th>\n",
       "      <td>2024-07-22</td>\n",
       "      <td>2024-10-17</td>\n",
       "      <td>2024-07-18</td>\n",
       "      <td>2024-01-03</td>\n",
       "      <td>2024-06-19</td>\n",
       "      <td>2024-07-31</td>\n",
       "      <td>2024-01-03</td>\n",
       "    </tr>\n",
       "    <tr>\n",
       "      <th>date</th>\n",
       "      <td>2024-12-02</td>\n",
       "      <td>2024-12-02</td>\n",
       "      <td>2024-12-02</td>\n",
       "      <td>2024-11-28</td>\n",
       "      <td>2024-11-29</td>\n",
       "      <td>2024-11-29</td>\n",
       "      <td>2024-12-02</td>\n",
       "    </tr>\n",
       "    <tr>\n",
       "      <th>buy</th>\n",
       "      <td>29349501</td>\n",
       "      <td>12249820</td>\n",
       "      <td>10113935</td>\n",
       "      <td>6642078</td>\n",
       "      <td>9998969</td>\n",
       "      <td>9991314</td>\n",
       "      <td>78345617</td>\n",
       "    </tr>\n",
       "    <tr>\n",
       "      <th>sell</th>\n",
       "      <td>14322250</td>\n",
       "      <td>2621865</td>\n",
       "      <td>437755</td>\n",
       "      <td>0</td>\n",
       "      <td>0</td>\n",
       "      <td>0</td>\n",
       "      <td>17381870</td>\n",
       "    </tr>\n",
       "    <tr>\n",
       "      <th>value</th>\n",
       "      <td>12269100</td>\n",
       "      <td>9603980</td>\n",
       "      <td>9722580</td>\n",
       "      <td>3115318</td>\n",
       "      <td>10537856</td>\n",
       "      <td>10175837</td>\n",
       "      <td>55424671</td>\n",
       "    </tr>\n",
       "    <tr>\n",
       "      <th>UGL</th>\n",
       "      <td>-2758151</td>\n",
       "      <td>-23975</td>\n",
       "      <td>46400</td>\n",
       "      <td>-3526760</td>\n",
       "      <td>538887</td>\n",
       "      <td>184523</td>\n",
       "      <td>-5539076</td>\n",
       "    </tr>\n",
       "    <tr>\n",
       "      <th>ROI</th>\n",
       "      <td>-0.093976</td>\n",
       "      <td>-0.001957</td>\n",
       "      <td>0.004588</td>\n",
       "      <td>-0.530972</td>\n",
       "      <td>0.053894</td>\n",
       "      <td>0.018468</td>\n",
       "      <td>-0.070701</td>\n",
       "    </tr>\n",
       "  </tbody>\n",
       "</table>\n",
       "</div>"
      ],
      "text/plain": [
       "              MMT         PER         WTR         LIQ         TDF        HANA  \\\n",
       "start  2024-07-22  2024-10-17  2024-07-18  2024-01-03  2024-06-19  2024-07-31   \n",
       "date   2024-12-02  2024-12-02  2024-12-02  2024-11-28  2024-11-29  2024-11-29   \n",
       "buy      29349501    12249820    10113935     6642078     9998969     9991314   \n",
       "sell     14322250     2621865      437755           0           0           0   \n",
       "value    12269100     9603980     9722580     3115318    10537856    10175837   \n",
       "UGL      -2758151      -23975       46400    -3526760      538887      184523   \n",
       "ROI     -0.093976   -0.001957    0.004588   -0.530972    0.053894    0.018468   \n",
       "\n",
       "            Total  \n",
       "start  2024-01-03  \n",
       "date   2024-12-02  \n",
       "buy      78345617  \n",
       "sell     17381870  \n",
       "value    55424671  \n",
       "UGL      -5539076  \n",
       "ROI     -0.070701  "
      ]
     },
     "execution_count": 9,
     "metadata": {},
     "output_type": "execute_result"
    }
   ],
   "source": [
    "pm.valuate(date=w_date.value)"
   ]
  },
  {
   "cell_type": "markdown",
   "id": "2c9b3de9-e20a-4486-9fc7-7ba75bd5fdec",
   "metadata": {},
   "source": [
    "# Transaction"
   ]
  },
  {
   "cell_type": "markdown",
   "id": "8c1d7580-8b01-4154-8c49-14f4063b6b03",
   "metadata": {},
   "source": [
    "## MMT"
   ]
  },
  {
   "cell_type": "code",
   "execution_count": 9,
   "id": "61701a3b-570d-44f1-997f-77520d17f29d",
   "metadata": {},
   "outputs": [
    {
     "name": "stdout",
     "output_type": "stream",
     "text": [
      "201 securities from 2021-01-04 to 2024-12-02 uploaded.\n",
      "df_prices loaded\n",
      "Cost data transaction_cost.csv loaded\n",
      "Transaction record to 2024-11-11 loaded\n"
     ]
    }
   ],
   "source": [
    "pf_mmt = PM.create_portfolio('MMT', **kw_cost)"
   ]
  },
  {
   "cell_type": "code",
   "execution_count": 15,
   "id": "a9081c9e-ab5f-47a8-8942-35afb67a4621",
   "metadata": {},
   "outputs": [
    {
     "data": {
      "text/plain": [
       "{'data': {'method_select': 'Momentum',\n",
       "  'method_weigh': 'Equally',\n",
       "  'sort_ascending': False,\n",
       "  'n_tickers': 5,\n",
       "  'lookback': '1y',\n",
       "  'lag': '1w',\n",
       "  'file': 'pf_k200_momentum',\n",
       "  'path': 'transaction'},\n",
       " 'name': 'MMT'}"
      ]
     },
     "execution_count": 15,
     "metadata": {},
     "output_type": "execute_result"
    }
   ],
   "source": [
    "pf_mmt.portfolio_data['strategy']"
   ]
  },
  {
   "cell_type": "code",
   "execution_count": 10,
   "id": "1c0cd424-6ed5-43f9-9d79-ba40a32d7df1",
   "metadata": {},
   "outputs": [
    {
     "data": {
      "text/html": [
       "<div>\n",
       "<style scoped>\n",
       "    .dataframe tbody tr th:only-of-type {\n",
       "        vertical-align: middle;\n",
       "    }\n",
       "\n",
       "    .dataframe tbody tr th {\n",
       "        vertical-align: top;\n",
       "    }\n",
       "\n",
       "    .dataframe thead th {\n",
       "        text-align: right;\n",
       "    }\n",
       "</style>\n",
       "<table border=\"1\" class=\"dataframe\">\n",
       "  <thead>\n",
       "    <tr style=\"text-align: right;\">\n",
       "      <th></th>\n",
       "      <th></th>\n",
       "      <th>name</th>\n",
       "      <th>price</th>\n",
       "      <th>transaction</th>\n",
       "      <th>net</th>\n",
       "      <th>weight</th>\n",
       "      <th>weight*</th>\n",
       "    </tr>\n",
       "    <tr>\n",
       "      <th>date</th>\n",
       "      <th>ticker</th>\n",
       "      <th></th>\n",
       "      <th></th>\n",
       "      <th></th>\n",
       "      <th></th>\n",
       "      <th></th>\n",
       "      <th></th>\n",
       "    </tr>\n",
       "  </thead>\n",
       "  <tbody>\n",
       "    <tr>\n",
       "      <th rowspan=\"7\" valign=\"top\">2024-10-08</th>\n",
       "      <th>267260</th>\n",
       "      <td>HD현대일렉트릭</td>\n",
       "      <td>321000</td>\n",
       "      <td>0</td>\n",
       "      <td>8</td>\n",
       "      <td>0.182</td>\n",
       "      <td>0.1742</td>\n",
       "    </tr>\n",
       "    <tr>\n",
       "      <th>012450</th>\n",
       "      <td>한화에어로스페이스</td>\n",
       "      <td>364500</td>\n",
       "      <td>0</td>\n",
       "      <td>9</td>\n",
       "      <td>0.210</td>\n",
       "      <td>0.2225</td>\n",
       "    </tr>\n",
       "    <tr>\n",
       "      <th>079550</th>\n",
       "      <td>LIG넥스원</td>\n",
       "      <td>243500</td>\n",
       "      <td>-3</td>\n",
       "      <td>11</td>\n",
       "      <td>0.192</td>\n",
       "      <td>0.1817</td>\n",
       "    </tr>\n",
       "    <tr>\n",
       "      <th>003230</th>\n",
       "      <td>삼양식품</td>\n",
       "      <td>524000</td>\n",
       "      <td>0</td>\n",
       "      <td>6</td>\n",
       "      <td>0.216</td>\n",
       "      <td>0.2133</td>\n",
       "    </tr>\n",
       "    <tr>\n",
       "      <th>011790</th>\n",
       "      <td>SKC</td>\n",
       "      <td>153600</td>\n",
       "      <td>20</td>\n",
       "      <td>20</td>\n",
       "      <td>0.200</td>\n",
       "      <td>0.2084</td>\n",
       "    </tr>\n",
       "    <tr>\n",
       "      <th>042700</th>\n",
       "      <td>한미반도체</td>\n",
       "      <td>108100</td>\n",
       "      <td>-21</td>\n",
       "      <td>0</td>\n",
       "      <td>NaN</td>\n",
       "      <td>0.0000</td>\n",
       "    </tr>\n",
       "    <tr>\n",
       "      <th>489790</th>\n",
       "      <td>한화인더스트리얼솔루션즈</td>\n",
       "      <td>39350</td>\n",
       "      <td>-9</td>\n",
       "      <td>0</td>\n",
       "      <td>NaN</td>\n",
       "      <td>0.0000</td>\n",
       "    </tr>\n",
       "    <tr>\n",
       "      <th rowspan=\"6\" valign=\"top\">2024-11-11</th>\n",
       "      <th>267260</th>\n",
       "      <td>HD현대일렉트릭</td>\n",
       "      <td>390000</td>\n",
       "      <td>0</td>\n",
       "      <td>8</td>\n",
       "      <td>0.200</td>\n",
       "      <td>0.2119</td>\n",
       "    </tr>\n",
       "    <tr>\n",
       "      <th>012450</th>\n",
       "      <td>한화에어로스페이스</td>\n",
       "      <td>403500</td>\n",
       "      <td>-2</td>\n",
       "      <td>7</td>\n",
       "      <td>0.200</td>\n",
       "      <td>0.1918</td>\n",
       "    </tr>\n",
       "    <tr>\n",
       "      <th>079550</th>\n",
       "      <td>LIG넥스원</td>\n",
       "      <td>266000</td>\n",
       "      <td>0</td>\n",
       "      <td>11</td>\n",
       "      <td>0.200</td>\n",
       "      <td>0.1987</td>\n",
       "    </tr>\n",
       "    <tr>\n",
       "      <th>003230</th>\n",
       "      <td>삼양식품</td>\n",
       "      <td>563000</td>\n",
       "      <td>-1</td>\n",
       "      <td>5</td>\n",
       "      <td>0.200</td>\n",
       "      <td>0.1912</td>\n",
       "    </tr>\n",
       "    <tr>\n",
       "      <th>064350</th>\n",
       "      <td>현대로템</td>\n",
       "      <td>63300</td>\n",
       "      <td>48</td>\n",
       "      <td>48</td>\n",
       "      <td>0.200</td>\n",
       "      <td>0.2064</td>\n",
       "    </tr>\n",
       "    <tr>\n",
       "      <th>011790</th>\n",
       "      <td>SKC</td>\n",
       "      <td>122145</td>\n",
       "      <td>-20</td>\n",
       "      <td>0</td>\n",
       "      <td>NaN</td>\n",
       "      <td>0.0000</td>\n",
       "    </tr>\n",
       "  </tbody>\n",
       "</table>\n",
       "</div>"
      ],
      "text/plain": [
       "                           name   price  transaction  net  weight  weight*\n",
       "date       ticker                                                         \n",
       "2024-10-08 267260      HD현대일렉트릭  321000            0    8   0.182   0.1742\n",
       "           012450     한화에어로스페이스  364500            0    9   0.210   0.2225\n",
       "           079550        LIG넥스원  243500           -3   11   0.192   0.1817\n",
       "           003230          삼양식품  524000            0    6   0.216   0.2133\n",
       "           011790           SKC  153600           20   20   0.200   0.2084\n",
       "           042700         한미반도체  108100          -21    0     NaN   0.0000\n",
       "           489790  한화인더스트리얼솔루션즈   39350           -9    0     NaN   0.0000\n",
       "2024-11-11 267260      HD현대일렉트릭  390000            0    8   0.200   0.2119\n",
       "           012450     한화에어로스페이스  403500           -2    7   0.200   0.1918\n",
       "           079550        LIG넥스원  266000            0   11   0.200   0.1987\n",
       "           003230          삼양식품  563000           -1    5   0.200   0.1912\n",
       "           064350          현대로템   63300           48   48   0.200   0.2064\n",
       "           011790           SKC  122145          -20    0     NaN   0.0000"
      ]
     },
     "execution_count": 10,
     "metadata": {},
     "output_type": "execute_result"
    }
   ],
   "source": [
    "pf_mmt.view_record(-2)"
   ]
  },
  {
   "cell_type": "code",
   "execution_count": 17,
   "id": "ff9dc182-52c7-424f-8acd-06c433602372",
   "metadata": {},
   "outputs": [],
   "source": [
    "# run after editting record file\n",
    "#_ = pf_mmt.update_record(save=True)"
   ]
  },
  {
   "cell_type": "code",
   "execution_count": 18,
   "id": "4dce86f9-1672-4922-b6a5-c10f37d63337",
   "metadata": {},
   "outputs": [
    {
     "data": {
      "image/png": "[encoded data removed]",
      "text/plain": [
       "<Figure size 1000x600 with 3 Axes>"
      ]
     },
     "metadata": {},
     "output_type": "display_data"
    }
   ],
   "source": [
    "pf_mmt.plot(roi=False)"
   ]
  },
  {
   "cell_type": "code",
   "execution_count": 19,
   "id": "18459292-7c64-4513-8364-99db89ad036f",
   "metadata": {},
   "outputs": [
    {
     "data": {
      "text/plain": [
       "start    2024-07-22\n",
       "date     2024-12-02\n",
       "buy        29350569\n",
       "sell       14295948\n",
       "value      12269100\n",
       "UGL        -2785521\n",
       "ROI       -0.094905\n",
       "dtype: object"
      ]
     },
     "execution_count": 19,
     "metadata": {},
     "output_type": "execute_result"
    }
   ],
   "source": [
    "#pf_mmt.performance(metrics=METRICS)\n",
    "#pf_mmt.cost\n",
    "pf_mmt.valuate()"
   ]
  },
  {
   "cell_type": "code",
   "execution_count": 34,
   "id": "ff8e778d-a780-492a-9a14-945deb966e74",
   "metadata": {},
   "outputs": [
    {
     "data": {
      "application/vnd.jupyter.widget-view+json": {
       "model_id": "3607061b5410405e96d4f24899ee37bc",
       "version_major": 2,
       "version_minor": 0
      },
      "text/plain": [
       "VBox(children=(DatePicker(value=None, layout=Layout(width='200px'), step=1), IntSlider(value=0, continuous_upd…"
      ]
     },
     "execution_count": 34,
     "metadata": {},
     "output_type": "execute_result"
    }
   ],
   "source": [
    "# set kwargs of transaction_pipeline\n",
    "WidgetTransaction"
   ]
  },
  {
   "cell_type": "code",
   "execution_count": 35,
   "id": "14f9ea03-bbf3-4335-85fa-22737ba5c920",
   "metadata": {},
   "outputs": [
    {
     "name": "stdout",
     "output_type": "stream",
     "text": [
      "Liquidation set to None\n",
      "5 tickers selected by Total return from 2023-11-27 to 2024-11-25\n",
      "Weights of tickers determined by Equal weights.\n",
      "Mean absolute error of weights: 6 %\n",
      "ROI: -8.8%, UGL: -2,793,000  (2024-12-02)\n",
      "Set save=True to save transaction record\n"
     ]
    },
    {
     "data": {
      "text/html": [
       "<div>\n",
       "<style scoped>\n",
       "    .dataframe tbody tr th:only-of-type {\n",
       "        vertical-align: middle;\n",
       "    }\n",
       "\n",
       "    .dataframe tbody tr th {\n",
       "        vertical-align: top;\n",
       "    }\n",
       "\n",
       "    .dataframe thead th {\n",
       "        text-align: right;\n",
       "    }\n",
       "</style>\n",
       "<table border=\"1\" class=\"dataframe\">\n",
       "  <thead>\n",
       "    <tr style=\"text-align: right;\">\n",
       "      <th></th>\n",
       "      <th></th>\n",
       "      <th>name</th>\n",
       "      <th>price</th>\n",
       "      <th>transaction</th>\n",
       "      <th>net</th>\n",
       "      <th>weight</th>\n",
       "      <th>weight*</th>\n",
       "    </tr>\n",
       "    <tr>\n",
       "      <th>date</th>\n",
       "      <th>ticker</th>\n",
       "      <th></th>\n",
       "      <th></th>\n",
       "      <th></th>\n",
       "      <th></th>\n",
       "      <th></th>\n",
       "      <th></th>\n",
       "    </tr>\n",
       "  </thead>\n",
       "  <tbody>\n",
       "    <tr>\n",
       "      <th rowspan=\"6\" valign=\"top\">2024-11-11</th>\n",
       "      <th>267260</th>\n",
       "      <td>HD현대일렉트릭</td>\n",
       "      <td>390000</td>\n",
       "      <td>0</td>\n",
       "      <td>8</td>\n",
       "      <td>0.2</td>\n",
       "      <td>0.2119</td>\n",
       "    </tr>\n",
       "    <tr>\n",
       "      <th>012450</th>\n",
       "      <td>한화에어로스페이스</td>\n",
       "      <td>403500</td>\n",
       "      <td>-2</td>\n",
       "      <td>7</td>\n",
       "      <td>0.2</td>\n",
       "      <td>0.1918</td>\n",
       "    </tr>\n",
       "    <tr>\n",
       "      <th>079550</th>\n",
       "      <td>LIG넥스원</td>\n",
       "      <td>266000</td>\n",
       "      <td>0</td>\n",
       "      <td>11</td>\n",
       "      <td>0.2</td>\n",
       "      <td>0.1987</td>\n",
       "    </tr>\n",
       "    <tr>\n",
       "      <th>003230</th>\n",
       "      <td>삼양식품</td>\n",
       "      <td>563000</td>\n",
       "      <td>-1</td>\n",
       "      <td>5</td>\n",
       "      <td>0.2</td>\n",
       "      <td>0.1912</td>\n",
       "    </tr>\n",
       "    <tr>\n",
       "      <th>064350</th>\n",
       "      <td>현대로템</td>\n",
       "      <td>63300</td>\n",
       "      <td>48</td>\n",
       "      <td>48</td>\n",
       "      <td>0.2</td>\n",
       "      <td>0.2064</td>\n",
       "    </tr>\n",
       "    <tr>\n",
       "      <th>011790</th>\n",
       "      <td>SKC</td>\n",
       "      <td>122145</td>\n",
       "      <td>-20</td>\n",
       "      <td>0</td>\n",
       "      <td>NaN</td>\n",
       "      <td>0.0</td>\n",
       "    </tr>\n",
       "    <tr>\n",
       "      <th rowspan=\"6\" valign=\"top\">2024-12-02</th>\n",
       "      <th>267260</th>\n",
       "      <td>HD현대일렉트릭</td>\n",
       "      <td>335000</td>\n",
       "      <td>-1</td>\n",
       "      <td>7</td>\n",
       "      <td>0.200</td>\n",
       "      <td>0.2038</td>\n",
       "    </tr>\n",
       "    <tr>\n",
       "      <th>012450</th>\n",
       "      <td>한화에어로스페이스</td>\n",
       "      <td>321000</td>\n",
       "      <td>0</td>\n",
       "      <td>7</td>\n",
       "      <td>0.200</td>\n",
       "      <td>0.1952</td>\n",
       "    </tr>\n",
       "    <tr>\n",
       "      <th>079550</th>\n",
       "      <td>LIG넥스원</td>\n",
       "      <td>197500</td>\n",
       "      <td>1</td>\n",
       "      <td>12</td>\n",
       "      <td>0.200</td>\n",
       "      <td>0.2059</td>\n",
       "    </tr>\n",
       "    <tr>\n",
       "      <th>000150</th>\n",
       "      <td>두산</td>\n",
       "      <td>194900</td>\n",
       "      <td>12</td>\n",
       "      <td>12</td>\n",
       "      <td>0.200</td>\n",
       "      <td>0.2032</td>\n",
       "    </tr>\n",
       "    <tr>\n",
       "      <th>003230</th>\n",
       "      <td>삼양식품</td>\n",
       "      <td>552000</td>\n",
       "      <td>-1</td>\n",
       "      <td>4</td>\n",
       "      <td>0.200</td>\n",
       "      <td>0.1919</td>\n",
       "    </tr>\n",
       "    <tr>\n",
       "      <th>064350</th>\n",
       "      <td>현대로템</td>\n",
       "      <td>50200</td>\n",
       "      <td>-48</td>\n",
       "      <td>0</td>\n",
       "      <td>NaN</td>\n",
       "      <td>0</td>\n",
       "    </tr>\n",
       "  </tbody>\n",
       "</table>\n",
       "</div>"
      ],
      "text/plain": [
       "                        name   price  transaction  net weight weight*\n",
       "date       ticker                                                    \n",
       "2024-11-11 267260   HD현대일렉트릭  390000            0    8    0.2  0.2119\n",
       "           012450  한화에어로스페이스  403500           -2    7    0.2  0.1918\n",
       "           079550     LIG넥스원  266000            0   11    0.2  0.1987\n",
       "           003230       삼양식품  563000           -1    5    0.2  0.1912\n",
       "           064350       현대로템   63300           48   48    0.2  0.2064\n",
       "           011790        SKC  122145          -20    0    NaN     0.0\n",
       "2024-12-02 267260   HD현대일렉트릭  335000           -1    7  0.200  0.2038\n",
       "           012450  한화에어로스페이스  321000            0    7  0.200  0.1952\n",
       "           079550     LIG넥스원  197500            1   12  0.200  0.2059\n",
       "           000150         두산  194900           12   12  0.200  0.2032\n",
       "           003230       삼양식품  552000           -1    4  0.200  0.1919\n",
       "           064350       현대로템   50200          -48    0    NaN       0"
      ]
     },
     "execution_count": 35,
     "metadata": {},
     "output_type": "execute_result"
    }
   ],
   "source": [
    "kwargs_trs = dict(\n",
    "    date = WidgetTransaction.values(0),\n",
    "    capital = WidgetTransaction.values(1),\n",
    "    save = WidgetTransaction.values(2)\n",
    ")\n",
    "kw_liq = dict(\n",
    "    #assets_to_sell= {'489790':34500},\n",
    "    #assets_to_sell= '489790',\n",
    "    #hold= True\n",
    ")\n",
    "_ = pf_mmt.transaction_pipeline(**kwargs_trs, **kw_liq)\n",
    "pf_mmt.view_record(-2)"
   ]
  },
  {
   "cell_type": "markdown",
   "id": "e321b1ba-7505-483c-a08c-636d6fa73d40",
   "metadata": {},
   "source": [
    "### Copy record to edit"
   ]
  },
  {
   "cell_type": "code",
   "execution_count": 11,
   "id": "8e44faa7-52f9-4f88-817b-2afef2d6da1e",
   "metadata": {},
   "outputs": [
    {
     "name": "stdout",
     "output_type": "stream",
     "text": [
      "Transaction record to 2024-09-27 loaded\n",
      "ERROR: check the date as no new transaction\n"
     ]
    }
   ],
   "source": [
    "date = '2024-09-27'\n",
    "save = False\n",
    "\n",
    "pf_mmt.copy_record(date, save=save)"
   ]
  },
  {
   "cell_type": "markdown",
   "id": "2fa7791d-ffa4-4509-81b5-24f4149c9a79",
   "metadata": {},
   "source": [
    "### Update record"
   ]
  },
  {
   "cell_type": "code",
   "execution_count": null,
   "id": "8da825c1-9cf6-4b73-86db-83e7fa99c5d3",
   "metadata": {},
   "outputs": [],
   "source": [
    "pf_mmt.update_record()"
   ]
  },
  {
   "cell_type": "markdown",
   "id": "b8bdce11-c4c7-44dc-bd39-7020450d238d",
   "metadata": {},
   "source": [
    "## KRX\n",
    "*simulation*"
   ]
  },
  {
   "cell_type": "code",
   "execution_count": 16,
   "id": "f52f67b4-a419-43aa-a73b-51683be085fc",
   "metadata": {},
   "outputs": [
    {
     "name": "stdout",
     "output_type": "stream",
     "text": [
      "2712 assets from 2019-01-02 to 2024-10-08 uploaded.\n",
      "df_prices loaded\n",
      "ERROR from get_names: '287410'\n",
      "Transaction record to 2024-10-02 loaded\n"
     ]
    }
   ],
   "source": [
    "pf_krx = PM.create_portfolio('KRX')"
   ]
  },
  {
   "cell_type": "code",
   "execution_count": 17,
   "id": "6d9021e8-73ca-4572-a2dc-e582f517a598",
   "metadata": {},
   "outputs": [
    {
     "data": {
      "text/html": [
       "<div>\n",
       "<style scoped>\n",
       "    .dataframe tbody tr th:only-of-type {\n",
       "        vertical-align: middle;\n",
       "    }\n",
       "\n",
       "    .dataframe tbody tr th {\n",
       "        vertical-align: top;\n",
       "    }\n",
       "\n",
       "    .dataframe thead th {\n",
       "        text-align: right;\n",
       "    }\n",
       "</style>\n",
       "<table border=\"1\" class=\"dataframe\">\n",
       "  <thead>\n",
       "    <tr style=\"text-align: right;\">\n",
       "      <th></th>\n",
       "      <th></th>\n",
       "      <th>name</th>\n",
       "      <th>price</th>\n",
       "      <th>transaction</th>\n",
       "      <th>net</th>\n",
       "      <th>weight</th>\n",
       "      <th>weight*</th>\n",
       "    </tr>\n",
       "    <tr>\n",
       "      <th>date</th>\n",
       "      <th>asset</th>\n",
       "      <th></th>\n",
       "      <th></th>\n",
       "      <th></th>\n",
       "      <th></th>\n",
       "      <th></th>\n",
       "      <th></th>\n",
       "    </tr>\n",
       "  </thead>\n",
       "  <tbody>\n",
       "    <tr>\n",
       "      <th rowspan=\"9\" valign=\"top\">2024-08-01</th>\n",
       "      <th>078860</th>\n",
       "      <td>엔에스이엔엠</td>\n",
       "      <td>10080</td>\n",
       "      <td>-217</td>\n",
       "      <td>109</td>\n",
       "      <td>0.2</td>\n",
       "      <td>0.2056</td>\n",
       "    </tr>\n",
       "    <tr>\n",
       "      <th>016670</th>\n",
       "      <td>디모아</td>\n",
       "      <td>7070</td>\n",
       "      <td>156</td>\n",
       "      <td>156</td>\n",
       "      <td>0.2</td>\n",
       "      <td>0.2064</td>\n",
       "    </tr>\n",
       "    <tr>\n",
       "      <th>159910</th>\n",
       "      <td>스킨앤스킨</td>\n",
       "      <td>1070</td>\n",
       "      <td>1034</td>\n",
       "      <td>1034</td>\n",
       "      <td>0.2</td>\n",
       "      <td>0.2070</td>\n",
       "    </tr>\n",
       "    <tr>\n",
       "      <th>089030</th>\n",
       "      <td>테크윙</td>\n",
       "      <td>51400</td>\n",
       "      <td>21</td>\n",
       "      <td>21</td>\n",
       "      <td>0.2</td>\n",
       "      <td>0.2020</td>\n",
       "    </tr>\n",
       "    <tr>\n",
       "      <th>196170</th>\n",
       "      <td>알테오젠</td>\n",
       "      <td>319000</td>\n",
       "      <td>3</td>\n",
       "      <td>3</td>\n",
       "      <td>0.2</td>\n",
       "      <td>0.1791</td>\n",
       "    </tr>\n",
       "    <tr>\n",
       "      <th>042700</th>\n",
       "      <td>한미반도체</td>\n",
       "      <td>127300</td>\n",
       "      <td>-10</td>\n",
       "      <td>0</td>\n",
       "      <td>NaN</td>\n",
       "      <td>0.0000</td>\n",
       "    </tr>\n",
       "    <tr>\n",
       "      <th>065350</th>\n",
       "      <td>신성델타테크</td>\n",
       "      <td>53800</td>\n",
       "      <td>-21</td>\n",
       "      <td>0</td>\n",
       "      <td>NaN</td>\n",
       "      <td>0.0000</td>\n",
       "    </tr>\n",
       "    <tr>\n",
       "      <th>066790</th>\n",
       "      <td>씨씨에스</td>\n",
       "      <td>2850</td>\n",
       "      <td>-505</td>\n",
       "      <td>0</td>\n",
       "      <td>NaN</td>\n",
       "      <td>0.0000</td>\n",
       "    </tr>\n",
       "    <tr>\n",
       "      <th>139050</th>\n",
       "      <td>BF랩스</td>\n",
       "      <td>2805</td>\n",
       "      <td>-530</td>\n",
       "      <td>0</td>\n",
       "      <td>NaN</td>\n",
       "      <td>0.0000</td>\n",
       "    </tr>\n",
       "    <tr>\n",
       "      <th rowspan=\"6\" valign=\"top\">2024-10-02</th>\n",
       "      <th>078860</th>\n",
       "      <td>엔에스이엔엠</td>\n",
       "      <td>9700</td>\n",
       "      <td>30</td>\n",
       "      <td>139</td>\n",
       "      <td>0.2</td>\n",
       "      <td>0.2000</td>\n",
       "    </tr>\n",
       "    <tr>\n",
       "      <th>016670</th>\n",
       "      <td>디모아</td>\n",
       "      <td>4725</td>\n",
       "      <td>130</td>\n",
       "      <td>286</td>\n",
       "      <td>0.2</td>\n",
       "      <td>0.2004</td>\n",
       "    </tr>\n",
       "    <tr>\n",
       "      <th>033790</th>\n",
       "      <td>피노</td>\n",
       "      <td>9090</td>\n",
       "      <td>148</td>\n",
       "      <td>148</td>\n",
       "      <td>0.2</td>\n",
       "      <td>0.1995</td>\n",
       "    </tr>\n",
       "    <tr>\n",
       "      <th>159910</th>\n",
       "      <td>스킨앤스킨</td>\n",
       "      <td>761</td>\n",
       "      <td>744</td>\n",
       "      <td>1778</td>\n",
       "      <td>0.2</td>\n",
       "      <td>0.2007</td>\n",
       "    </tr>\n",
       "    <tr>\n",
       "      <th>196170</th>\n",
       "      <td>알테오젠</td>\n",
       "      <td>336000</td>\n",
       "      <td>1</td>\n",
       "      <td>4</td>\n",
       "      <td>0.2</td>\n",
       "      <td>0.1993</td>\n",
       "    </tr>\n",
       "    <tr>\n",
       "      <th>089030</th>\n",
       "      <td>테크윙</td>\n",
       "      <td>36500</td>\n",
       "      <td>-21</td>\n",
       "      <td>0</td>\n",
       "      <td>NaN</td>\n",
       "      <td>0.0000</td>\n",
       "    </tr>\n",
       "  </tbody>\n",
       "</table>\n",
       "</div>"
      ],
      "text/plain": [
       "                     name   price  transaction   net  weight  weight*\n",
       "date       asset                                                     \n",
       "2024-08-01 078860  엔에스이엔엠   10080         -217   109     0.2   0.2056\n",
       "           016670     디모아    7070          156   156     0.2   0.2064\n",
       "           159910   스킨앤스킨    1070         1034  1034     0.2   0.2070\n",
       "           089030     테크윙   51400           21    21     0.2   0.2020\n",
       "           196170    알테오젠  319000            3     3     0.2   0.1791\n",
       "           042700   한미반도체  127300          -10     0     NaN   0.0000\n",
       "           065350  신성델타테크   53800          -21     0     NaN   0.0000\n",
       "           066790    씨씨에스    2850         -505     0     NaN   0.0000\n",
       "           139050    BF랩스    2805         -530     0     NaN   0.0000\n",
       "2024-10-02 078860  엔에스이엔엠    9700           30   139     0.2   0.2000\n",
       "           016670     디모아    4725          130   286     0.2   0.2004\n",
       "           033790      피노    9090          148   148     0.2   0.1995\n",
       "           159910   스킨앤스킨     761          744  1778     0.2   0.2007\n",
       "           196170    알테오젠  336000            1     4     0.2   0.1993\n",
       "           089030     테크윙   36500          -21     0     NaN   0.0000"
      ]
     },
     "execution_count": 17,
     "metadata": {},
     "output_type": "execute_result"
    }
   ],
   "source": [
    "pf_krx.view_record(-2)"
   ]
  },
  {
   "cell_type": "code",
   "execution_count": 18,
   "id": "6a0696b3-0980-4f77-9c7d-acd7279e11f8",
   "metadata": {},
   "outputs": [
    {
     "name": "stdout",
     "output_type": "stream",
     "text": [
      "ROI -12.86%, Unrealized G/L -4,042,804 on 2024-10-08\n"
     ]
    },
    {
     "data": {
      "image/png": "[encoded data removed]",
      "text/plain": [
       "<Figure size 1000x600 with 3 Axes>"
      ]
     },
     "metadata": {},
     "output_type": "display_data"
    }
   ],
   "source": [
    "pf_krx.valuate()"
   ]
  },
  {
   "cell_type": "code",
   "execution_count": 19,
   "id": "9c8dedc8-a17e-42a8-9d2b-46f7c5961f18",
   "metadata": {},
   "outputs": [
    {
     "data": {
      "application/vnd.jupyter.widget-view+json": {
       "model_id": "aceb6364a27343919da73be9c93fe721",
       "version_major": 2,
       "version_minor": 0
      },
      "text/plain": [
       "VBox(children=(DatePicker(value=None, layout=Layout(width='200px'), step=1), IntSlider(value=0, continuous_upd…"
      ]
     },
     "execution_count": 19,
     "metadata": {},
     "output_type": "execute_result"
    }
   ],
   "source": [
    "# set kwargs of transaction_pipeline\n",
    "WidgetTransaction"
   ]
  },
  {
   "cell_type": "code",
   "execution_count": 20,
   "id": "ea55973a-431b-4796-9603-f8dfe28f140d",
   "metadata": {},
   "outputs": [
    {
     "name": "stdout",
     "output_type": "stream",
     "text": [
      "Liquidation set to None\n",
      "5 assets selected by Total return from 2023-09-08 to 2024-09-06\n",
      "Weights of assets determined by Equal weights.\n",
      "Mean absolute error of weights: 4 %\n",
      "ROI -12.80%, Unrealized G/L -4,042,804 on 2024-10-08\n",
      "Set save=True to save transaction record\n"
     ]
    },
    {
     "data": {
      "text/html": [
       "<div>\n",
       "<style scoped>\n",
       "    .dataframe tbody tr th:only-of-type {\n",
       "        vertical-align: middle;\n",
       "    }\n",
       "\n",
       "    .dataframe tbody tr th {\n",
       "        vertical-align: top;\n",
       "    }\n",
       "\n",
       "    .dataframe thead th {\n",
       "        text-align: right;\n",
       "    }\n",
       "</style>\n",
       "<table border=\"1\" class=\"dataframe\">\n",
       "  <thead>\n",
       "    <tr style=\"text-align: right;\">\n",
       "      <th></th>\n",
       "      <th></th>\n",
       "      <th>name</th>\n",
       "      <th>price</th>\n",
       "      <th>transaction</th>\n",
       "      <th>net</th>\n",
       "      <th>weight</th>\n",
       "      <th>weight*</th>\n",
       "    </tr>\n",
       "    <tr>\n",
       "      <th>date</th>\n",
       "      <th>asset</th>\n",
       "      <th></th>\n",
       "      <th></th>\n",
       "      <th></th>\n",
       "      <th></th>\n",
       "      <th></th>\n",
       "      <th></th>\n",
       "    </tr>\n",
       "  </thead>\n",
       "  <tbody>\n",
       "    <tr>\n",
       "      <th rowspan=\"6\" valign=\"top\">2024-10-02</th>\n",
       "      <th>078860</th>\n",
       "      <td>엔에스이엔엠</td>\n",
       "      <td>9700</td>\n",
       "      <td>30</td>\n",
       "      <td>139</td>\n",
       "      <td>0.2</td>\n",
       "      <td>0.2</td>\n",
       "    </tr>\n",
       "    <tr>\n",
       "      <th>016670</th>\n",
       "      <td>디모아</td>\n",
       "      <td>4725</td>\n",
       "      <td>130</td>\n",
       "      <td>286</td>\n",
       "      <td>0.2</td>\n",
       "      <td>0.2004</td>\n",
       "    </tr>\n",
       "    <tr>\n",
       "      <th>033790</th>\n",
       "      <td>피노</td>\n",
       "      <td>9090</td>\n",
       "      <td>148</td>\n",
       "      <td>148</td>\n",
       "      <td>0.2</td>\n",
       "      <td>0.1995</td>\n",
       "    </tr>\n",
       "    <tr>\n",
       "      <th>159910</th>\n",
       "      <td>스킨앤스킨</td>\n",
       "      <td>761</td>\n",
       "      <td>744</td>\n",
       "      <td>1778</td>\n",
       "      <td>0.2</td>\n",
       "      <td>0.2007</td>\n",
       "    </tr>\n",
       "    <tr>\n",
       "      <th>196170</th>\n",
       "      <td>알테오젠</td>\n",
       "      <td>336000</td>\n",
       "      <td>1</td>\n",
       "      <td>4</td>\n",
       "      <td>0.2</td>\n",
       "      <td>0.1993</td>\n",
       "    </tr>\n",
       "    <tr>\n",
       "      <th>089030</th>\n",
       "      <td>테크윙</td>\n",
       "      <td>36500</td>\n",
       "      <td>-21</td>\n",
       "      <td>0</td>\n",
       "      <td>NaN</td>\n",
       "      <td>0.0</td>\n",
       "    </tr>\n",
       "    <tr>\n",
       "      <th rowspan=\"5\" valign=\"top\">2024-10-08</th>\n",
       "      <th>078860</th>\n",
       "      <td>None</td>\n",
       "      <td>9390</td>\n",
       "      <td>6</td>\n",
       "      <td>145</td>\n",
       "      <td>0.200</td>\n",
       "      <td>0.2079</td>\n",
       "    </tr>\n",
       "    <tr>\n",
       "      <th>016670</th>\n",
       "      <td>None</td>\n",
       "      <td>4865</td>\n",
       "      <td>-6</td>\n",
       "      <td>280</td>\n",
       "      <td>0.200</td>\n",
       "      <td>0.2080</td>\n",
       "    </tr>\n",
       "    <tr>\n",
       "      <th>033790</th>\n",
       "      <td>None</td>\n",
       "      <td>9040</td>\n",
       "      <td>2</td>\n",
       "      <td>150</td>\n",
       "      <td>0.200</td>\n",
       "      <td>0.2070</td>\n",
       "    </tr>\n",
       "    <tr>\n",
       "      <th>196170</th>\n",
       "      <td>None</td>\n",
       "      <td>369000</td>\n",
       "      <td>-1</td>\n",
       "      <td>3</td>\n",
       "      <td>0.200</td>\n",
       "      <td>0.1690</td>\n",
       "    </tr>\n",
       "    <tr>\n",
       "      <th>159910</th>\n",
       "      <td>None</td>\n",
       "      <td>734</td>\n",
       "      <td>79</td>\n",
       "      <td>1857</td>\n",
       "      <td>0.200</td>\n",
       "      <td>0.2081</td>\n",
       "    </tr>\n",
       "  </tbody>\n",
       "</table>\n",
       "</div>"
      ],
      "text/plain": [
       "                     name   price  transaction   net weight weight*\n",
       "date       asset                                                   \n",
       "2024-10-02 078860  엔에스이엔엠    9700           30   139    0.2     0.2\n",
       "           016670     디모아    4725          130   286    0.2  0.2004\n",
       "           033790      피노    9090          148   148    0.2  0.1995\n",
       "           159910   스킨앤스킨     761          744  1778    0.2  0.2007\n",
       "           196170    알테오젠  336000            1     4    0.2  0.1993\n",
       "           089030     테크윙   36500          -21     0    NaN     0.0\n",
       "2024-10-08 078860    None    9390            6   145  0.200  0.2079\n",
       "           016670    None    4865           -6   280  0.200  0.2080\n",
       "           033790    None    9040            2   150  0.200  0.2070\n",
       "           196170    None  369000           -1     3  0.200  0.1690\n",
       "           159910    None     734           79  1857  0.200  0.2081"
      ]
     },
     "execution_count": 20,
     "metadata": {},
     "output_type": "execute_result"
    }
   ],
   "source": [
    "kwargs_trs = dict(\n",
    "    date = WidgetTransaction.values(0),\n",
    "    capital = WidgetTransaction.values(1),\n",
    "    save = WidgetTransaction.values(2)\n",
    ")\n",
    "\n",
    "_ = pf_krx.transaction_pipeline(**kwargs_trs)\n",
    "pf_krx.view_record(-2)"
   ]
  },
  {
   "cell_type": "markdown",
   "id": "819496ef-539e-45bb-a0cc-b2b968b6f76e",
   "metadata": {},
   "source": [
    "## PER"
   ]
  },
  {
   "cell_type": "code",
   "execution_count": 3,
   "id": "7b89e9ae-4237-44c8-99f3-5069eec7fa63",
   "metadata": {},
   "outputs": [
    {
     "name": "stdout",
     "output_type": "stream",
     "text": [
      "Financial ratios of 201 stocks from 2023-01-02 to 2024-11-19 loaded\n"
     ]
    }
   ],
   "source": [
    "file = 'kospi200_ratios.csv'\n",
    "df_ratio = FinancialRatios.util_get_ratio('PER', file, path_data)"
   ]
  },
  {
   "cell_type": "code",
   "execution_count": 4,
   "id": "4292bb7e-83e5-4b1f-bd4a-69029b9339c8",
   "metadata": {},
   "outputs": [
    {
     "name": "stdout",
     "output_type": "stream",
     "text": [
      "201 securities from 2021-01-04 to 2024-11-28 uploaded.\n",
      "df_prices loaded\n",
      "Transaction record to 2024-11-11 loaded\n"
     ]
    }
   ],
   "source": [
    "pf_per = PM.create_portfolio('PER', df_additional=df_ratio)"
   ]
  },
  {
   "cell_type": "code",
   "execution_count": 3,
   "id": "96975148-ae7b-4cd8-86b0-9a748ba28d5f",
   "metadata": {},
   "outputs": [],
   "source": [
    "#pf_per.portfolio_data"
   ]
  },
  {
   "cell_type": "code",
   "execution_count": 36,
   "id": "77027256-82a9-4fd7-89ed-b854710eae4f",
   "metadata": {},
   "outputs": [
    {
     "data": {
      "text/html": [
       "<div>\n",
       "<style scoped>\n",
       "    .dataframe tbody tr th:only-of-type {\n",
       "        vertical-align: middle;\n",
       "    }\n",
       "\n",
       "    .dataframe tbody tr th {\n",
       "        vertical-align: top;\n",
       "    }\n",
       "\n",
       "    .dataframe thead th {\n",
       "        text-align: right;\n",
       "    }\n",
       "</style>\n",
       "<table border=\"1\" class=\"dataframe\">\n",
       "  <thead>\n",
       "    <tr style=\"text-align: right;\">\n",
       "      <th></th>\n",
       "      <th></th>\n",
       "      <th>name</th>\n",
       "      <th>price</th>\n",
       "      <th>transaction</th>\n",
       "      <th>net</th>\n",
       "      <th>weight</th>\n",
       "      <th>weight*</th>\n",
       "    </tr>\n",
       "    <tr>\n",
       "      <th>date</th>\n",
       "      <th>ticker</th>\n",
       "      <th></th>\n",
       "      <th></th>\n",
       "      <th></th>\n",
       "      <th></th>\n",
       "      <th></th>\n",
       "      <th></th>\n",
       "    </tr>\n",
       "  </thead>\n",
       "  <tbody>\n",
       "    <tr>\n",
       "      <th rowspan=\"5\" valign=\"top\">2024-10-17</th>\n",
       "      <th>010060</th>\n",
       "      <td>OCI홀딩스</td>\n",
       "      <td>66700</td>\n",
       "      <td>14</td>\n",
       "      <td>14</td>\n",
       "      <td>0.20</td>\n",
       "      <td>0.1892</td>\n",
       "    </tr>\n",
       "    <tr>\n",
       "      <th>003030</th>\n",
       "      <td>세아제강지주</td>\n",
       "      <td>164450</td>\n",
       "      <td>6</td>\n",
       "      <td>6</td>\n",
       "      <td>0.20</td>\n",
       "      <td>0.1999</td>\n",
       "    </tr>\n",
       "    <tr>\n",
       "      <th>009970</th>\n",
       "      <td>영원무역홀딩스</td>\n",
       "      <td>89000</td>\n",
       "      <td>11</td>\n",
       "      <td>11</td>\n",
       "      <td>0.20</td>\n",
       "      <td>0.1983</td>\n",
       "    </tr>\n",
       "    <tr>\n",
       "      <th>016380</th>\n",
       "      <td>KG스틸</td>\n",
       "      <td>6600</td>\n",
       "      <td>154</td>\n",
       "      <td>154</td>\n",
       "      <td>0.20</td>\n",
       "      <td>0.2059</td>\n",
       "    </tr>\n",
       "    <tr>\n",
       "      <th>047040</th>\n",
       "      <td>대우건설</td>\n",
       "      <td>3820</td>\n",
       "      <td>267</td>\n",
       "      <td>267</td>\n",
       "      <td>0.20</td>\n",
       "      <td>0.2066</td>\n",
       "    </tr>\n",
       "    <tr>\n",
       "      <th rowspan=\"20\" valign=\"top\">2024-11-11</th>\n",
       "      <th>010060</th>\n",
       "      <td>OCI홀딩스</td>\n",
       "      <td>59800</td>\n",
       "      <td>-6</td>\n",
       "      <td>8</td>\n",
       "      <td>0.05</td>\n",
       "      <td>0.0497</td>\n",
       "    </tr>\n",
       "    <tr>\n",
       "      <th>003030</th>\n",
       "      <td>세아제강지주</td>\n",
       "      <td>193300</td>\n",
       "      <td>-4</td>\n",
       "      <td>2</td>\n",
       "      <td>0.05</td>\n",
       "      <td>0.0402</td>\n",
       "    </tr>\n",
       "    <tr>\n",
       "      <th>009970</th>\n",
       "      <td>영원무역홀딩스</td>\n",
       "      <td>85700</td>\n",
       "      <td>-6</td>\n",
       "      <td>5</td>\n",
       "      <td>0.05</td>\n",
       "      <td>0.0446</td>\n",
       "    </tr>\n",
       "    <tr>\n",
       "      <th>016380</th>\n",
       "      <td>KG스틸</td>\n",
       "      <td>6590</td>\n",
       "      <td>-78</td>\n",
       "      <td>76</td>\n",
       "      <td>0.05</td>\n",
       "      <td>0.0521</td>\n",
       "    </tr>\n",
       "    <tr>\n",
       "      <th>047040</th>\n",
       "      <td>대우건설</td>\n",
       "      <td>3635</td>\n",
       "      <td>-127</td>\n",
       "      <td>140</td>\n",
       "      <td>0.05</td>\n",
       "      <td>0.0529</td>\n",
       "    </tr>\n",
       "    <tr>\n",
       "      <th>088350</th>\n",
       "      <td>한화생명</td>\n",
       "      <td>2865</td>\n",
       "      <td>180</td>\n",
       "      <td>180</td>\n",
       "      <td>0.05</td>\n",
       "      <td>0.0536</td>\n",
       "    </tr>\n",
       "    <tr>\n",
       "      <th>078930</th>\n",
       "      <td>GS</td>\n",
       "      <td>41600</td>\n",
       "      <td>12</td>\n",
       "      <td>12</td>\n",
       "      <td>0.05</td>\n",
       "      <td>0.0519</td>\n",
       "    </tr>\n",
       "    <tr>\n",
       "      <th>111770</th>\n",
       "      <td>영원무역</td>\n",
       "      <td>40150</td>\n",
       "      <td>12</td>\n",
       "      <td>12</td>\n",
       "      <td>0.05</td>\n",
       "      <td>0.0501</td>\n",
       "    </tr>\n",
       "    <tr>\n",
       "      <th>139130</th>\n",
       "      <td>DGB금융지주</td>\n",
       "      <td>8250</td>\n",
       "      <td>63</td>\n",
       "      <td>63</td>\n",
       "      <td>0.05</td>\n",
       "      <td>0.0540</td>\n",
       "    </tr>\n",
       "    <tr>\n",
       "      <th>005830</th>\n",
       "      <td>DB손해보험</td>\n",
       "      <td>106900</td>\n",
       "      <td>4</td>\n",
       "      <td>4</td>\n",
       "      <td>0.05</td>\n",
       "      <td>0.0445</td>\n",
       "    </tr>\n",
       "    <tr>\n",
       "      <th>001450</th>\n",
       "      <td>현대해상</td>\n",
       "      <td>29750</td>\n",
       "      <td>17</td>\n",
       "      <td>17</td>\n",
       "      <td>0.05</td>\n",
       "      <td>0.0526</td>\n",
       "    </tr>\n",
       "    <tr>\n",
       "      <th>009900</th>\n",
       "      <td>명신산업</td>\n",
       "      <td>13770</td>\n",
       "      <td>36</td>\n",
       "      <td>36</td>\n",
       "      <td>0.05</td>\n",
       "      <td>0.0515</td>\n",
       "    </tr>\n",
       "    <tr>\n",
       "      <th>241560</th>\n",
       "      <td>두산밥캣</td>\n",
       "      <td>40000</td>\n",
       "      <td>13</td>\n",
       "      <td>13</td>\n",
       "      <td>0.05</td>\n",
       "      <td>0.0541</td>\n",
       "    </tr>\n",
       "    <tr>\n",
       "      <th>000270</th>\n",
       "      <td>기아</td>\n",
       "      <td>93600</td>\n",
       "      <td>5</td>\n",
       "      <td>5</td>\n",
       "      <td>0.05</td>\n",
       "      <td>0.0487</td>\n",
       "    </tr>\n",
       "    <tr>\n",
       "      <th>024110</th>\n",
       "      <td>기업은행</td>\n",
       "      <td>14570</td>\n",
       "      <td>35</td>\n",
       "      <td>35</td>\n",
       "      <td>0.05</td>\n",
       "      <td>0.0530</td>\n",
       "    </tr>\n",
       "    <tr>\n",
       "      <th>005850</th>\n",
       "      <td>에스엘</td>\n",
       "      <td>31350</td>\n",
       "      <td>16</td>\n",
       "      <td>16</td>\n",
       "      <td>0.05</td>\n",
       "      <td>0.0522</td>\n",
       "    </tr>\n",
       "    <tr>\n",
       "      <th>316140</th>\n",
       "      <td>우리금융지주</td>\n",
       "      <td>16080</td>\n",
       "      <td>32</td>\n",
       "      <td>32</td>\n",
       "      <td>0.05</td>\n",
       "      <td>0.0535</td>\n",
       "    </tr>\n",
       "    <tr>\n",
       "      <th>138930</th>\n",
       "      <td>BNK금융지주</td>\n",
       "      <td>9430</td>\n",
       "      <td>55</td>\n",
       "      <td>55</td>\n",
       "      <td>0.05</td>\n",
       "      <td>0.0539</td>\n",
       "    </tr>\n",
       "    <tr>\n",
       "      <th>005380</th>\n",
       "      <td>현대차</td>\n",
       "      <td>209500</td>\n",
       "      <td>2</td>\n",
       "      <td>2</td>\n",
       "      <td>0.05</td>\n",
       "      <td>0.0436</td>\n",
       "    </tr>\n",
       "    <tr>\n",
       "      <th>017800</th>\n",
       "      <td>현대엘리베이</td>\n",
       "      <td>46300</td>\n",
       "      <td>9</td>\n",
       "      <td>9</td>\n",
       "      <td>0.05</td>\n",
       "      <td>0.0433</td>\n",
       "    </tr>\n",
       "  </tbody>\n",
       "</table>\n",
       "</div>"
      ],
      "text/plain": [
       "                      name   price  transaction  net  weight  weight*\n",
       "date       ticker                                                    \n",
       "2024-10-17 010060   OCI홀딩스   66700           14   14    0.20   0.1892\n",
       "           003030   세아제강지주  164450            6    6    0.20   0.1999\n",
       "           009970  영원무역홀딩스   89000           11   11    0.20   0.1983\n",
       "           016380     KG스틸    6600          154  154    0.20   0.2059\n",
       "           047040     대우건설    3820          267  267    0.20   0.2066\n",
       "2024-11-11 010060   OCI홀딩스   59800           -6    8    0.05   0.0497\n",
       "           003030   세아제강지주  193300           -4    2    0.05   0.0402\n",
       "           009970  영원무역홀딩스   85700           -6    5    0.05   0.0446\n",
       "           016380     KG스틸    6590          -78   76    0.05   0.0521\n",
       "           047040     대우건설    3635         -127  140    0.05   0.0529\n",
       "           088350     한화생명    2865          180  180    0.05   0.0536\n",
       "           078930       GS   41600           12   12    0.05   0.0519\n",
       "           111770     영원무역   40150           12   12    0.05   0.0501\n",
       "           139130  DGB금융지주    8250           63   63    0.05   0.0540\n",
       "           005830   DB손해보험  106900            4    4    0.05   0.0445\n",
       "           001450     현대해상   29750           17   17    0.05   0.0526\n",
       "           009900     명신산업   13770           36   36    0.05   0.0515\n",
       "           241560     두산밥캣   40000           13   13    0.05   0.0541\n",
       "           000270       기아   93600            5    5    0.05   0.0487\n",
       "           024110     기업은행   14570           35   35    0.05   0.0530\n",
       "           005850      에스엘   31350           16   16    0.05   0.0522\n",
       "           316140   우리금융지주   16080           32   32    0.05   0.0535\n",
       "           138930  BNK금융지주    9430           55   55    0.05   0.0539\n",
       "           005380      현대차  209500            2    2    0.05   0.0436\n",
       "           017800   현대엘리베이   46300            9    9    0.05   0.0433"
      ]
     },
     "execution_count": 36,
     "metadata": {},
     "output_type": "execute_result"
    }
   ],
   "source": [
    "pf_per.view_record(-2)"
   ]
  },
  {
   "cell_type": "code",
   "execution_count": 37,
   "id": "1ae8ab89-ee16-4831-9198-0cf36b40d258",
   "metadata": {},
   "outputs": [],
   "source": [
    "#pf_per.update_record()\n",
    "#pf_per.view_record(-2)"
   ]
  },
  {
   "cell_type": "code",
   "execution_count": 38,
   "id": "26a53806",
   "metadata": {},
   "outputs": [
    {
     "name": "stdout",
     "output_type": "stream",
     "text": [
      "Transaction dates updated for profit/loss on the dates\n"
     ]
    },
    {
     "data": {
      "image/png": "[encoded data removed]",
      "text/plain": [
       "<Figure size 1000x600 with 3 Axes>"
      ]
     },
     "metadata": {},
     "output_type": "display_data"
    }
   ],
   "source": [
    "pf_per.plot()"
   ]
  },
  {
   "cell_type": "code",
   "execution_count": 39,
   "id": "f5d92ef5-2650-475f-9bf0-b19e540776c4",
   "metadata": {},
   "outputs": [
    {
     "data": {
      "image/png": "[encoded data removed]",
      "text/plain": [
       "<Figure size 1000x400 with 2 Axes>"
      ]
     },
     "metadata": {},
     "output_type": "display_data"
    }
   ],
   "source": [
    "_ = pf_per.check_additional(plot=True, figsize=(10,4), legend=False)"
   ]
  },
  {
   "cell_type": "code",
   "execution_count": 40,
   "id": "55d460f4",
   "metadata": {},
   "outputs": [
    {
     "data": {
      "application/vnd.jupyter.widget-view+json": {
       "model_id": "818ef2e453f34a02adc2faac44766482",
       "version_major": 2,
       "version_minor": 0
      },
      "text/plain": [
       "VBox(children=(DatePicker(value=None, layout=Layout(width='200px'), step=1), IntSlider(value=2000000, continuo…"
      ]
     },
     "execution_count": 40,
     "metadata": {},
     "output_type": "execute_result"
    }
   ],
   "source": [
    "# set kwargs of transaction_pipeline\n",
    "WidgetTransaction"
   ]
  },
  {
   "cell_type": "code",
   "execution_count": 41,
   "id": "52665cf9",
   "metadata": {},
   "outputs": [
    {
     "name": "stdout",
     "output_type": "stream",
     "text": [
      "Liquidation set to None\n",
      "ERROR: no ratio for \"['2024-11-20', '2024-11-21', '2024-11-22'] not in index\"\n"
     ]
    },
    {
     "data": {
      "text/html": [
       "<div>\n",
       "<style scoped>\n",
       "    .dataframe tbody tr th:only-of-type {\n",
       "        vertical-align: middle;\n",
       "    }\n",
       "\n",
       "    .dataframe tbody tr th {\n",
       "        vertical-align: top;\n",
       "    }\n",
       "\n",
       "    .dataframe thead th {\n",
       "        text-align: right;\n",
       "    }\n",
       "</style>\n",
       "<table border=\"1\" class=\"dataframe\">\n",
       "  <thead>\n",
       "    <tr style=\"text-align: right;\">\n",
       "      <th></th>\n",
       "      <th></th>\n",
       "      <th>name</th>\n",
       "      <th>price</th>\n",
       "      <th>transaction</th>\n",
       "      <th>net</th>\n",
       "      <th>weight</th>\n",
       "      <th>weight*</th>\n",
       "    </tr>\n",
       "    <tr>\n",
       "      <th>date</th>\n",
       "      <th>ticker</th>\n",
       "      <th></th>\n",
       "      <th></th>\n",
       "      <th></th>\n",
       "      <th></th>\n",
       "      <th></th>\n",
       "      <th></th>\n",
       "    </tr>\n",
       "  </thead>\n",
       "  <tbody>\n",
       "    <tr>\n",
       "      <th rowspan=\"20\" valign=\"top\">2024-11-11</th>\n",
       "      <th>010060</th>\n",
       "      <td>OCI홀딩스</td>\n",
       "      <td>59800</td>\n",
       "      <td>-6</td>\n",
       "      <td>8</td>\n",
       "      <td>0.05</td>\n",
       "      <td>0.0497</td>\n",
       "    </tr>\n",
       "    <tr>\n",
       "      <th>003030</th>\n",
       "      <td>세아제강지주</td>\n",
       "      <td>193300</td>\n",
       "      <td>-4</td>\n",
       "      <td>2</td>\n",
       "      <td>0.05</td>\n",
       "      <td>0.0402</td>\n",
       "    </tr>\n",
       "    <tr>\n",
       "      <th>009970</th>\n",
       "      <td>영원무역홀딩스</td>\n",
       "      <td>85700</td>\n",
       "      <td>-6</td>\n",
       "      <td>5</td>\n",
       "      <td>0.05</td>\n",
       "      <td>0.0446</td>\n",
       "    </tr>\n",
       "    <tr>\n",
       "      <th>016380</th>\n",
       "      <td>KG스틸</td>\n",
       "      <td>6590</td>\n",
       "      <td>-78</td>\n",
       "      <td>76</td>\n",
       "      <td>0.05</td>\n",
       "      <td>0.0521</td>\n",
       "    </tr>\n",
       "    <tr>\n",
       "      <th>047040</th>\n",
       "      <td>대우건설</td>\n",
       "      <td>3635</td>\n",
       "      <td>-127</td>\n",
       "      <td>140</td>\n",
       "      <td>0.05</td>\n",
       "      <td>0.0529</td>\n",
       "    </tr>\n",
       "    <tr>\n",
       "      <th>088350</th>\n",
       "      <td>한화생명</td>\n",
       "      <td>2865</td>\n",
       "      <td>180</td>\n",
       "      <td>180</td>\n",
       "      <td>0.05</td>\n",
       "      <td>0.0536</td>\n",
       "    </tr>\n",
       "    <tr>\n",
       "      <th>078930</th>\n",
       "      <td>GS</td>\n",
       "      <td>41600</td>\n",
       "      <td>12</td>\n",
       "      <td>12</td>\n",
       "      <td>0.05</td>\n",
       "      <td>0.0519</td>\n",
       "    </tr>\n",
       "    <tr>\n",
       "      <th>111770</th>\n",
       "      <td>영원무역</td>\n",
       "      <td>40150</td>\n",
       "      <td>12</td>\n",
       "      <td>12</td>\n",
       "      <td>0.05</td>\n",
       "      <td>0.0501</td>\n",
       "    </tr>\n",
       "    <tr>\n",
       "      <th>139130</th>\n",
       "      <td>DGB금융지주</td>\n",
       "      <td>8250</td>\n",
       "      <td>63</td>\n",
       "      <td>63</td>\n",
       "      <td>0.05</td>\n",
       "      <td>0.0540</td>\n",
       "    </tr>\n",
       "    <tr>\n",
       "      <th>005830</th>\n",
       "      <td>DB손해보험</td>\n",
       "      <td>106900</td>\n",
       "      <td>4</td>\n",
       "      <td>4</td>\n",
       "      <td>0.05</td>\n",
       "      <td>0.0445</td>\n",
       "    </tr>\n",
       "    <tr>\n",
       "      <th>001450</th>\n",
       "      <td>현대해상</td>\n",
       "      <td>29750</td>\n",
       "      <td>17</td>\n",
       "      <td>17</td>\n",
       "      <td>0.05</td>\n",
       "      <td>0.0526</td>\n",
       "    </tr>\n",
       "    <tr>\n",
       "      <th>009900</th>\n",
       "      <td>명신산업</td>\n",
       "      <td>13770</td>\n",
       "      <td>36</td>\n",
       "      <td>36</td>\n",
       "      <td>0.05</td>\n",
       "      <td>0.0515</td>\n",
       "    </tr>\n",
       "    <tr>\n",
       "      <th>241560</th>\n",
       "      <td>두산밥캣</td>\n",
       "      <td>40000</td>\n",
       "      <td>13</td>\n",
       "      <td>13</td>\n",
       "      <td>0.05</td>\n",
       "      <td>0.0541</td>\n",
       "    </tr>\n",
       "    <tr>\n",
       "      <th>000270</th>\n",
       "      <td>기아</td>\n",
       "      <td>93600</td>\n",
       "      <td>5</td>\n",
       "      <td>5</td>\n",
       "      <td>0.05</td>\n",
       "      <td>0.0487</td>\n",
       "    </tr>\n",
       "    <tr>\n",
       "      <th>024110</th>\n",
       "      <td>기업은행</td>\n",
       "      <td>14570</td>\n",
       "      <td>35</td>\n",
       "      <td>35</td>\n",
       "      <td>0.05</td>\n",
       "      <td>0.0530</td>\n",
       "    </tr>\n",
       "    <tr>\n",
       "      <th>005850</th>\n",
       "      <td>에스엘</td>\n",
       "      <td>31350</td>\n",
       "      <td>16</td>\n",
       "      <td>16</td>\n",
       "      <td>0.05</td>\n",
       "      <td>0.0522</td>\n",
       "    </tr>\n",
       "    <tr>\n",
       "      <th>316140</th>\n",
       "      <td>우리금융지주</td>\n",
       "      <td>16080</td>\n",
       "      <td>32</td>\n",
       "      <td>32</td>\n",
       "      <td>0.05</td>\n",
       "      <td>0.0535</td>\n",
       "    </tr>\n",
       "    <tr>\n",
       "      <th>138930</th>\n",
       "      <td>BNK금융지주</td>\n",
       "      <td>9430</td>\n",
       "      <td>55</td>\n",
       "      <td>55</td>\n",
       "      <td>0.05</td>\n",
       "      <td>0.0539</td>\n",
       "    </tr>\n",
       "    <tr>\n",
       "      <th>005380</th>\n",
       "      <td>현대차</td>\n",
       "      <td>209500</td>\n",
       "      <td>2</td>\n",
       "      <td>2</td>\n",
       "      <td>0.05</td>\n",
       "      <td>0.0436</td>\n",
       "    </tr>\n",
       "    <tr>\n",
       "      <th>017800</th>\n",
       "      <td>현대엘리베이</td>\n",
       "      <td>46300</td>\n",
       "      <td>9</td>\n",
       "      <td>9</td>\n",
       "      <td>0.05</td>\n",
       "      <td>0.0433</td>\n",
       "    </tr>\n",
       "  </tbody>\n",
       "</table>\n",
       "</div>"
      ],
      "text/plain": [
       "                      name   price  transaction  net  weight  weight*\n",
       "date       ticker                                                    \n",
       "2024-11-11 010060   OCI홀딩스   59800           -6    8    0.05   0.0497\n",
       "           003030   세아제강지주  193300           -4    2    0.05   0.0402\n",
       "           009970  영원무역홀딩스   85700           -6    5    0.05   0.0446\n",
       "           016380     KG스틸    6590          -78   76    0.05   0.0521\n",
       "           047040     대우건설    3635         -127  140    0.05   0.0529\n",
       "           088350     한화생명    2865          180  180    0.05   0.0536\n",
       "           078930       GS   41600           12   12    0.05   0.0519\n",
       "           111770     영원무역   40150           12   12    0.05   0.0501\n",
       "           139130  DGB금융지주    8250           63   63    0.05   0.0540\n",
       "           005830   DB손해보험  106900            4    4    0.05   0.0445\n",
       "           001450     현대해상   29750           17   17    0.05   0.0526\n",
       "           009900     명신산업   13770           36   36    0.05   0.0515\n",
       "           241560     두산밥캣   40000           13   13    0.05   0.0541\n",
       "           000270       기아   93600            5    5    0.05   0.0487\n",
       "           024110     기업은행   14570           35   35    0.05   0.0530\n",
       "           005850      에스엘   31350           16   16    0.05   0.0522\n",
       "           316140   우리금융지주   16080           32   32    0.05   0.0535\n",
       "           138930  BNK금융지주    9430           55   55    0.05   0.0539\n",
       "           005380      현대차  209500            2    2    0.05   0.0436\n",
       "           017800   현대엘리베이   46300            9    9    0.05   0.0433"
      ]
     },
     "execution_count": 41,
     "metadata": {},
     "output_type": "execute_result"
    }
   ],
   "source": [
    "kwargs_trs = dict(\n",
    "    date = WidgetTransaction.values(0),\n",
    "    capital = WidgetTransaction.values(1),\n",
    "    save = WidgetTransaction.values(2)\n",
    ")\n",
    "\n",
    "_ = pf_per.transaction_pipeline(**kwargs_trs)\n",
    "pf_per.view_record(-1)"
   ]
  },
  {
   "cell_type": "code",
   "execution_count": 42,
   "id": "5d74a201-f15b-4912-8189-08b9a823fd5a",
   "metadata": {},
   "outputs": [],
   "source": [
    "#pf_per.update_record()"
   ]
  },
  {
   "cell_type": "markdown",
   "id": "c7cd959d-e330-4d8c-9f6b-a277b01e94f5",
   "metadata": {},
   "source": [
    "## WTR\n",
    "*modified all weather*"
   ]
  },
  {
   "cell_type": "code",
   "execution_count": 6,
   "id": "50f9b112-975e-4b42-baf9-8b813ac33723",
   "metadata": {},
   "outputs": [
    {
     "name": "stdout",
     "output_type": "stream",
     "text": [
      "6 securities from 2021-01-04 to 2024-11-28 uploaded.\n",
      "df_prices loaded\n",
      "Transaction record to 2024-11-20 loaded\n"
     ]
    }
   ],
   "source": [
    "pf_wtr = PM.create_portfolio('WTR')"
   ]
  },
  {
   "cell_type": "code",
   "execution_count": 7,
   "id": "59da9e55-bdba-4322-9328-dc4c7fc9894d",
   "metadata": {},
   "outputs": [
    {
     "data": {
      "text/plain": [
       "{'data': {'method_select': 'Selected',\n",
       "  'method_weigh': 'Equally',\n",
       "  'file': 'pf_wtr_static',\n",
       "  'path': 'transaction'},\n",
       " 'name': 'WTR'}"
      ]
     },
     "execution_count": 7,
     "metadata": {},
     "output_type": "execute_result"
    }
   ],
   "source": [
    "pf_wtr.portfolio_data['strategy']"
   ]
  },
  {
   "cell_type": "code",
   "execution_count": 5,
   "id": "2f2046bd-5dbb-43c1-a730-2db9cfff293a",
   "metadata": {},
   "outputs": [
    {
     "name": "stdout",
     "output_type": "stream",
     "text": [
      "Transaction dates updated for profit/loss on the dates\n"
     ]
    },
    {
     "data": {
      "image/png": "[encoded data removed]",
      "text/plain": [
       "<Figure size 1000x600 with 3 Axes>"
      ]
     },
     "metadata": {},
     "output_type": "display_data"
    }
   ],
   "source": [
    "pf_wtr.plot()"
   ]
  },
  {
   "cell_type": "code",
   "execution_count": 6,
   "id": "cd707a22-14e1-4768-9b34-bd4194f608de",
   "metadata": {},
   "outputs": [
    {
     "data": {
      "text/html": [
       "<div>\n",
       "<style scoped>\n",
       "    .dataframe tbody tr th:only-of-type {\n",
       "        vertical-align: middle;\n",
       "    }\n",
       "\n",
       "    .dataframe tbody tr th {\n",
       "        vertical-align: top;\n",
       "    }\n",
       "\n",
       "    .dataframe thead th {\n",
       "        text-align: right;\n",
       "    }\n",
       "</style>\n",
       "<table border=\"1\" class=\"dataframe\">\n",
       "  <thead>\n",
       "    <tr style=\"text-align: right;\">\n",
       "      <th></th>\n",
       "      <th></th>\n",
       "      <th>name</th>\n",
       "      <th>price</th>\n",
       "      <th>transaction</th>\n",
       "      <th>net</th>\n",
       "      <th>weight</th>\n",
       "      <th>weight*</th>\n",
       "    </tr>\n",
       "    <tr>\n",
       "      <th>date</th>\n",
       "      <th>ticker</th>\n",
       "      <th></th>\n",
       "      <th></th>\n",
       "      <th></th>\n",
       "      <th></th>\n",
       "      <th></th>\n",
       "      <th></th>\n",
       "    </tr>\n",
       "  </thead>\n",
       "  <tbody>\n",
       "    <tr>\n",
       "      <th rowspan=\"6\" valign=\"top\">2024-07-18</th>\n",
       "      <th>069500</th>\n",
       "      <td>KODEX 200</td>\n",
       "      <td>39085</td>\n",
       "      <td>42</td>\n",
       "      <td>42</td>\n",
       "      <td>0.167</td>\n",
       "      <td>0.1670</td>\n",
       "    </tr>\n",
       "    <tr>\n",
       "      <th>273130</th>\n",
       "      <td>KODEX 종합채권(AA-이상)액티브</td>\n",
       "      <td>112895</td>\n",
       "      <td>14</td>\n",
       "      <td>14</td>\n",
       "      <td>0.167</td>\n",
       "      <td>0.1610</td>\n",
       "    </tr>\n",
       "    <tr>\n",
       "      <th>148070</th>\n",
       "      <td>KOSEF 국고채10년</td>\n",
       "      <td>114910</td>\n",
       "      <td>14</td>\n",
       "      <td>14</td>\n",
       "      <td>0.167</td>\n",
       "      <td>0.1640</td>\n",
       "    </tr>\n",
       "    <tr>\n",
       "      <th>379800</th>\n",
       "      <td>KODEX 미국S&amp;P500TR</td>\n",
       "      <td>17625</td>\n",
       "      <td>94</td>\n",
       "      <td>94</td>\n",
       "      <td>0.167</td>\n",
       "      <td>0.1690</td>\n",
       "    </tr>\n",
       "    <tr>\n",
       "      <th>411060</th>\n",
       "      <td>ACE KRX금현물</td>\n",
       "      <td>15715</td>\n",
       "      <td>106</td>\n",
       "      <td>106</td>\n",
       "      <td>0.167</td>\n",
       "      <td>0.1700</td>\n",
       "    </tr>\n",
       "    <tr>\n",
       "      <th>284430</th>\n",
       "      <td>KODEX 200미국채혼합</td>\n",
       "      <td>13440</td>\n",
       "      <td>124</td>\n",
       "      <td>124</td>\n",
       "      <td>0.167</td>\n",
       "      <td>0.1700</td>\n",
       "    </tr>\n",
       "    <tr>\n",
       "      <th rowspan=\"6\" valign=\"top\">2024-11-20</th>\n",
       "      <th>069500</th>\n",
       "      <td>KODEX 200</td>\n",
       "      <td>33010</td>\n",
       "      <td>7</td>\n",
       "      <td>49</td>\n",
       "      <td>0.167</td>\n",
       "      <td>0.1684</td>\n",
       "    </tr>\n",
       "    <tr>\n",
       "      <th>273130</th>\n",
       "      <td>KODEX 종합채권(AA-이상)액티브</td>\n",
       "      <td>114735</td>\n",
       "      <td>0</td>\n",
       "      <td>14</td>\n",
       "      <td>0.167</td>\n",
       "      <td>0.1676</td>\n",
       "    </tr>\n",
       "    <tr>\n",
       "      <th>148070</th>\n",
       "      <td>KOSEF 국고채10년</td>\n",
       "      <td>117035</td>\n",
       "      <td>-1</td>\n",
       "      <td>13</td>\n",
       "      <td>0.167</td>\n",
       "      <td>0.1584</td>\n",
       "    </tr>\n",
       "    <tr>\n",
       "      <th>379800</th>\n",
       "      <td>KODEX 미국S&amp;P500TR</td>\n",
       "      <td>18790</td>\n",
       "      <td>-8</td>\n",
       "      <td>86</td>\n",
       "      <td>0.167</td>\n",
       "      <td>0.1680</td>\n",
       "    </tr>\n",
       "    <tr>\n",
       "      <th>411060</th>\n",
       "      <td>ACE KRX금현물</td>\n",
       "      <td>17040</td>\n",
       "      <td>-10</td>\n",
       "      <td>96</td>\n",
       "      <td>0.167</td>\n",
       "      <td>0.1685</td>\n",
       "    </tr>\n",
       "    <tr>\n",
       "      <th>284430</th>\n",
       "      <td>KODEX 200미국채혼합</td>\n",
       "      <td>12585</td>\n",
       "      <td>5</td>\n",
       "      <td>129</td>\n",
       "      <td>0.167</td>\n",
       "      <td>0.1691</td>\n",
       "    </tr>\n",
       "  </tbody>\n",
       "</table>\n",
       "</div>"
      ],
      "text/plain": [
       "                                   name   price  transaction  net  weight  \\\n",
       "date       ticker                                                           \n",
       "2024-07-18 069500             KODEX 200   39085           42   42   0.167   \n",
       "           273130  KODEX 종합채권(AA-이상)액티브  112895           14   14   0.167   \n",
       "           148070          KOSEF 국고채10년  114910           14   14   0.167   \n",
       "           379800      KODEX 미국S&P500TR   17625           94   94   0.167   \n",
       "           411060            ACE KRX금현물   15715          106  106   0.167   \n",
       "           284430        KODEX 200미국채혼합   13440          124  124   0.167   \n",
       "2024-11-20 069500             KODEX 200   33010            7   49   0.167   \n",
       "           273130  KODEX 종합채권(AA-이상)액티브  114735            0   14   0.167   \n",
       "           148070          KOSEF 국고채10년  117035           -1   13   0.167   \n",
       "           379800      KODEX 미국S&P500TR   18790           -8   86   0.167   \n",
       "           411060            ACE KRX금현물   17040          -10   96   0.167   \n",
       "           284430        KODEX 200미국채혼합   12585            5  129   0.167   \n",
       "\n",
       "                   weight*  \n",
       "date       ticker           \n",
       "2024-07-18 069500   0.1670  \n",
       "           273130   0.1610  \n",
       "           148070   0.1640  \n",
       "           379800   0.1690  \n",
       "           411060   0.1700  \n",
       "           284430   0.1700  \n",
       "2024-11-20 069500   0.1684  \n",
       "           273130   0.1676  \n",
       "           148070   0.1584  \n",
       "           379800   0.1680  \n",
       "           411060   0.1685  \n",
       "           284430   0.1691  "
      ]
     },
     "execution_count": 6,
     "metadata": {},
     "output_type": "execute_result"
    }
   ],
   "source": [
    "pf_wtr.view_record(-2)"
   ]
  },
  {
   "cell_type": "code",
   "execution_count": 7,
   "id": "74abca3f-6864-4a0d-a760-ac41728e35b6",
   "metadata": {},
   "outputs": [],
   "source": [
    "#pf_wtr.performance(metrics=METRICS)"
   ]
  },
  {
   "cell_type": "code",
   "execution_count": 8,
   "id": "d05fbd06-1222-431d-8fc9-6c385c40f20c",
   "metadata": {},
   "outputs": [
    {
     "data": {
      "application/vnd.jupyter.widget-view+json": {
       "model_id": "8071385a4fdf4f2496877ffe2426f366",
       "version_major": 2,
       "version_minor": 0
      },
      "text/plain": [
       "VBox(children=(DatePicker(value=None, layout=Layout(width='200px'), step=1), IntSlider(value=0, continuous_upd…"
      ]
     },
     "execution_count": 8,
     "metadata": {},
     "output_type": "execute_result"
    }
   ],
   "source": [
    "# set kwargs of transaction_pipeline\n",
    "WidgetTransaction"
   ]
  },
  {
   "cell_type": "code",
   "execution_count": 9,
   "id": "1a593c5d-812f-4f2e-81b4-6ecc7f97e65f",
   "metadata": {},
   "outputs": [
    {
     "name": "stdout",
     "output_type": "stream",
     "text": [
      "Liquidation set to None\n",
      "6 tickers selected by All from 2024-05-22 to 2024-11-22\n",
      "Weights of tickers determined by Equal weights.\n",
      "Mean absolute error of weights: 1 %\n",
      "Transaction dates updated for profit/loss on the dates\n",
      "ROI: 0.3%, UGL: 35,000  (2024-11-22)\n",
      "Set save=True to save transaction record\n"
     ]
    },
    {
     "data": {
      "text/html": [
       "<div>\n",
       "<style scoped>\n",
       "    .dataframe tbody tr th:only-of-type {\n",
       "        vertical-align: middle;\n",
       "    }\n",
       "\n",
       "    .dataframe tbody tr th {\n",
       "        vertical-align: top;\n",
       "    }\n",
       "\n",
       "    .dataframe thead th {\n",
       "        text-align: right;\n",
       "    }\n",
       "</style>\n",
       "<table border=\"1\" class=\"dataframe\">\n",
       "  <thead>\n",
       "    <tr style=\"text-align: right;\">\n",
       "      <th></th>\n",
       "      <th></th>\n",
       "      <th>name</th>\n",
       "      <th>price</th>\n",
       "      <th>transaction</th>\n",
       "      <th>net</th>\n",
       "      <th>weight</th>\n",
       "      <th>weight*</th>\n",
       "    </tr>\n",
       "    <tr>\n",
       "      <th>date</th>\n",
       "      <th>ticker</th>\n",
       "      <th></th>\n",
       "      <th></th>\n",
       "      <th></th>\n",
       "      <th></th>\n",
       "      <th></th>\n",
       "      <th></th>\n",
       "    </tr>\n",
       "  </thead>\n",
       "  <tbody>\n",
       "    <tr>\n",
       "      <th rowspan=\"6\" valign=\"top\">2024-11-20</th>\n",
       "      <th>069500</th>\n",
       "      <td>KODEX 200</td>\n",
       "      <td>33010</td>\n",
       "      <td>7</td>\n",
       "      <td>49</td>\n",
       "      <td>0.167</td>\n",
       "      <td>0.1684</td>\n",
       "    </tr>\n",
       "    <tr>\n",
       "      <th>273130</th>\n",
       "      <td>KODEX 종합채권(AA-이상)액티브</td>\n",
       "      <td>114735</td>\n",
       "      <td>0</td>\n",
       "      <td>14</td>\n",
       "      <td>0.167</td>\n",
       "      <td>0.1676</td>\n",
       "    </tr>\n",
       "    <tr>\n",
       "      <th>148070</th>\n",
       "      <td>KOSEF 국고채10년</td>\n",
       "      <td>117035</td>\n",
       "      <td>-1</td>\n",
       "      <td>13</td>\n",
       "      <td>0.167</td>\n",
       "      <td>0.1584</td>\n",
       "    </tr>\n",
       "    <tr>\n",
       "      <th>379800</th>\n",
       "      <td>KODEX 미국S&amp;P500TR</td>\n",
       "      <td>18790</td>\n",
       "      <td>-8</td>\n",
       "      <td>86</td>\n",
       "      <td>0.167</td>\n",
       "      <td>0.168</td>\n",
       "    </tr>\n",
       "    <tr>\n",
       "      <th>411060</th>\n",
       "      <td>ACE KRX금현물</td>\n",
       "      <td>17040</td>\n",
       "      <td>-10</td>\n",
       "      <td>96</td>\n",
       "      <td>0.167</td>\n",
       "      <td>0.1685</td>\n",
       "    </tr>\n",
       "    <tr>\n",
       "      <th>284430</th>\n",
       "      <td>KODEX 200미국채혼합</td>\n",
       "      <td>12585</td>\n",
       "      <td>5</td>\n",
       "      <td>129</td>\n",
       "      <td>0.167</td>\n",
       "      <td>0.1691</td>\n",
       "    </tr>\n",
       "    <tr>\n",
       "      <th rowspan=\"6\" valign=\"top\">2024-11-22</th>\n",
       "      <th>069500</th>\n",
       "      <td>KODEX 200</td>\n",
       "      <td>33345</td>\n",
       "      <td>-1</td>\n",
       "      <td>48</td>\n",
       "      <td>0.167</td>\n",
       "      <td>0.1670</td>\n",
       "    </tr>\n",
       "    <tr>\n",
       "      <th>273130</th>\n",
       "      <td>KODEX 종합채권(AA-이상)액티브</td>\n",
       "      <td>115170</td>\n",
       "      <td>0</td>\n",
       "      <td>14</td>\n",
       "      <td>0.167</td>\n",
       "      <td>0.1683</td>\n",
       "    </tr>\n",
       "    <tr>\n",
       "      <th>379800</th>\n",
       "      <td>KODEX 미국S&amp;P500TR</td>\n",
       "      <td>19030</td>\n",
       "      <td>-1</td>\n",
       "      <td>85</td>\n",
       "      <td>0.167</td>\n",
       "      <td>0.1688</td>\n",
       "    </tr>\n",
       "    <tr>\n",
       "      <th>411060</th>\n",
       "      <td>ACE KRX금현물</td>\n",
       "      <td>17350</td>\n",
       "      <td>-3</td>\n",
       "      <td>93</td>\n",
       "      <td>0.167</td>\n",
       "      <td>0.1684</td>\n",
       "    </tr>\n",
       "    <tr>\n",
       "      <th>148070</th>\n",
       "      <td>KOSEF 국고채10년</td>\n",
       "      <td>117420</td>\n",
       "      <td>0</td>\n",
       "      <td>13</td>\n",
       "      <td>0.167</td>\n",
       "      <td>0.1593</td>\n",
       "    </tr>\n",
       "    <tr>\n",
       "      <th>284430</th>\n",
       "      <td>KODEX 200미국채혼합</td>\n",
       "      <td>12685</td>\n",
       "      <td>-2</td>\n",
       "      <td>127</td>\n",
       "      <td>0.167</td>\n",
       "      <td>0.1681</td>\n",
       "    </tr>\n",
       "  </tbody>\n",
       "</table>\n",
       "</div>"
      ],
      "text/plain": [
       "                                   name   price  transaction  net weight  \\\n",
       "date       ticker                                                          \n",
       "2024-11-20 069500             KODEX 200   33010            7   49  0.167   \n",
       "           273130  KODEX 종합채권(AA-이상)액티브  114735            0   14  0.167   \n",
       "           148070          KOSEF 국고채10년  117035           -1   13  0.167   \n",
       "           379800      KODEX 미국S&P500TR   18790           -8   86  0.167   \n",
       "           411060            ACE KRX금현물   17040          -10   96  0.167   \n",
       "           284430        KODEX 200미국채혼합   12585            5  129  0.167   \n",
       "2024-11-22 069500             KODEX 200   33345           -1   48  0.167   \n",
       "           273130  KODEX 종합채권(AA-이상)액티브  115170            0   14  0.167   \n",
       "           379800      KODEX 미국S&P500TR   19030           -1   85  0.167   \n",
       "           411060            ACE KRX금현물   17350           -3   93  0.167   \n",
       "           148070          KOSEF 국고채10년  117420            0   13  0.167   \n",
       "           284430        KODEX 200미국채혼합   12685           -2  127  0.167   \n",
       "\n",
       "                  weight*  \n",
       "date       ticker          \n",
       "2024-11-20 069500  0.1684  \n",
       "           273130  0.1676  \n",
       "           148070  0.1584  \n",
       "           379800   0.168  \n",
       "           411060  0.1685  \n",
       "           284430  0.1691  \n",
       "2024-11-22 069500  0.1670  \n",
       "           273130  0.1683  \n",
       "           379800  0.1688  \n",
       "           411060  0.1684  \n",
       "           148070  0.1593  \n",
       "           284430  0.1681  "
      ]
     },
     "execution_count": 9,
     "metadata": {},
     "output_type": "execute_result"
    }
   ],
   "source": [
    "kwargs = dict(\n",
    "    date = WidgetTransaction.values(0),\n",
    "    capital = WidgetTransaction.values(1),\n",
    "    save = WidgetTransaction.values(2)\n",
    ")\n",
    "_ = pf_wtr.transaction_pipeline(**kwargs)\n",
    "pf_wtr.view_record(-2)"
   ]
  },
  {
   "cell_type": "markdown",
   "id": "94702c06-6391-4b00-97f2-19c1b321fa44",
   "metadata": {},
   "source": [
    "## LIQ"
   ]
  },
  {
   "cell_type": "code",
   "execution_count": 49,
   "id": "1ca82b1e-c1c8-4f38-807e-509bc054169c",
   "metadata": {},
   "outputs": [
    {
     "name": "stdout",
     "output_type": "stream",
     "text": [
      "24 securities from 2021-01-04 to 2024-11-22 uploaded.\n",
      "df_prices loaded\n",
      "Transaction record to 2024-01-03 loaded\n"
     ]
    }
   ],
   "source": [
    "pf_liq = PM.create_portfolio('LIQ')"
   ]
  },
  {
   "cell_type": "code",
   "execution_count": 50,
   "id": "0a35f0aa-697e-47a2-87bd-6ccba7e6a605",
   "metadata": {},
   "outputs": [
    {
     "name": "stdout",
     "output_type": "stream",
     "text": [
      "Transaction dates updated for profit/loss on the dates\n"
     ]
    },
    {
     "data": {
      "image/png": "[encoded data removed]",
      "text/plain": [
       "<Figure size 1000x600 with 3 Axes>"
      ]
     },
     "metadata": {},
     "output_type": "display_data"
    }
   ],
   "source": [
    "#date=None\n",
    "date='2024-07-01'\n",
    "pf_liq.plot(start_date=date)"
   ]
  },
  {
   "cell_type": "code",
   "execution_count": 51,
   "id": "4f77cbab-5980-46cc-a0a6-45df9bdb0da7",
   "metadata": {},
   "outputs": [
    {
     "data": {
      "text/html": [
       "<div>\n",
       "<style scoped>\n",
       "    .dataframe tbody tr th:only-of-type {\n",
       "        vertical-align: middle;\n",
       "    }\n",
       "\n",
       "    .dataframe tbody tr th {\n",
       "        vertical-align: top;\n",
       "    }\n",
       "\n",
       "    .dataframe thead th {\n",
       "        text-align: right;\n",
       "    }\n",
       "</style>\n",
       "<table border=\"1\" class=\"dataframe\">\n",
       "  <thead>\n",
       "    <tr style=\"text-align: right;\">\n",
       "      <th></th>\n",
       "      <th></th>\n",
       "      <th>name</th>\n",
       "      <th>price</th>\n",
       "      <th>transaction</th>\n",
       "      <th>net</th>\n",
       "      <th>weight</th>\n",
       "      <th>weight*</th>\n",
       "    </tr>\n",
       "    <tr>\n",
       "      <th>date</th>\n",
       "      <th>ticker</th>\n",
       "      <th></th>\n",
       "      <th></th>\n",
       "      <th></th>\n",
       "      <th></th>\n",
       "      <th></th>\n",
       "      <th></th>\n",
       "    </tr>\n",
       "  </thead>\n",
       "  <tbody>\n",
       "    <tr>\n",
       "      <th rowspan=\"24\" valign=\"top\">2024-01-03</th>\n",
       "      <th>011780</th>\n",
       "      <td>금호석유</td>\n",
       "      <td>171000</td>\n",
       "      <td>2</td>\n",
       "      <td>2</td>\n",
       "      <td>NaN</td>\n",
       "      <td>0.0515</td>\n",
       "    </tr>\n",
       "    <tr>\n",
       "      <th>066570</th>\n",
       "      <td>LG전자</td>\n",
       "      <td>122500</td>\n",
       "      <td>2</td>\n",
       "      <td>2</td>\n",
       "      <td>NaN</td>\n",
       "      <td>0.0369</td>\n",
       "    </tr>\n",
       "    <tr>\n",
       "      <th>035890</th>\n",
       "      <td>서희건설</td>\n",
       "      <td>1800</td>\n",
       "      <td>166</td>\n",
       "      <td>166</td>\n",
       "      <td>NaN</td>\n",
       "      <td>0.0450</td>\n",
       "    </tr>\n",
       "    <tr>\n",
       "      <th>040420</th>\n",
       "      <td>정상제이엘에스</td>\n",
       "      <td>7970</td>\n",
       "      <td>37</td>\n",
       "      <td>37</td>\n",
       "      <td>NaN</td>\n",
       "      <td>0.0444</td>\n",
       "    </tr>\n",
       "    <tr>\n",
       "      <th>140520</th>\n",
       "      <td>대창스틸</td>\n",
       "      <td>3250</td>\n",
       "      <td>90</td>\n",
       "      <td>90</td>\n",
       "      <td>NaN</td>\n",
       "      <td>0.0440</td>\n",
       "    </tr>\n",
       "    <tr>\n",
       "      <th>072990</th>\n",
       "      <td>에이치시티</td>\n",
       "      <td>15900</td>\n",
       "      <td>18</td>\n",
       "      <td>18</td>\n",
       "      <td>NaN</td>\n",
       "      <td>0.0431</td>\n",
       "    </tr>\n",
       "    <tr>\n",
       "      <th>091580</th>\n",
       "      <td>상신이디피</td>\n",
       "      <td>16800</td>\n",
       "      <td>18</td>\n",
       "      <td>18</td>\n",
       "      <td>NaN</td>\n",
       "      <td>0.0455</td>\n",
       "    </tr>\n",
       "    <tr>\n",
       "      <th>011200</th>\n",
       "      <td>HMM</td>\n",
       "      <td>26350</td>\n",
       "      <td>11</td>\n",
       "      <td>11</td>\n",
       "      <td>NaN</td>\n",
       "      <td>0.0436</td>\n",
       "    </tr>\n",
       "    <tr>\n",
       "      <th>002220</th>\n",
       "      <td>한일철강</td>\n",
       "      <td>3130</td>\n",
       "      <td>95</td>\n",
       "      <td>95</td>\n",
       "      <td>NaN</td>\n",
       "      <td>0.0448</td>\n",
       "    </tr>\n",
       "    <tr>\n",
       "      <th>006650</th>\n",
       "      <td>대한유화</td>\n",
       "      <td>181500</td>\n",
       "      <td>1</td>\n",
       "      <td>1</td>\n",
       "      <td>NaN</td>\n",
       "      <td>0.0273</td>\n",
       "    </tr>\n",
       "    <tr>\n",
       "      <th>136490</th>\n",
       "      <td>선진</td>\n",
       "      <td>12700</td>\n",
       "      <td>23</td>\n",
       "      <td>23</td>\n",
       "      <td>NaN</td>\n",
       "      <td>0.0440</td>\n",
       "    </tr>\n",
       "    <tr>\n",
       "      <th>064550</th>\n",
       "      <td>바이오니아</td>\n",
       "      <td>49650</td>\n",
       "      <td>6</td>\n",
       "      <td>6</td>\n",
       "      <td>NaN</td>\n",
       "      <td>0.0449</td>\n",
       "    </tr>\n",
       "    <tr>\n",
       "      <th>460860</th>\n",
       "      <td>동국제강</td>\n",
       "      <td>18723</td>\n",
       "      <td>8</td>\n",
       "      <td>8</td>\n",
       "      <td>NaN</td>\n",
       "      <td>0.0226</td>\n",
       "    </tr>\n",
       "    <tr>\n",
       "      <th>040910</th>\n",
       "      <td>아이씨디</td>\n",
       "      <td>12200</td>\n",
       "      <td>24</td>\n",
       "      <td>24</td>\n",
       "      <td>NaN</td>\n",
       "      <td>0.0441</td>\n",
       "    </tr>\n",
       "    <tr>\n",
       "      <th>024950</th>\n",
       "      <td>삼천리자전거</td>\n",
       "      <td>9770</td>\n",
       "      <td>30</td>\n",
       "      <td>30</td>\n",
       "      <td>NaN</td>\n",
       "      <td>0.0441</td>\n",
       "    </tr>\n",
       "    <tr>\n",
       "      <th>900070</th>\n",
       "      <td>글로벌에스엠</td>\n",
       "      <td>1080</td>\n",
       "      <td>277</td>\n",
       "      <td>277</td>\n",
       "      <td>NaN</td>\n",
       "      <td>0.0450</td>\n",
       "    </tr>\n",
       "    <tr>\n",
       "      <th>036580</th>\n",
       "      <td>팜스코</td>\n",
       "      <td>6090</td>\n",
       "      <td>49</td>\n",
       "      <td>49</td>\n",
       "      <td>NaN</td>\n",
       "      <td>0.0449</td>\n",
       "    </tr>\n",
       "    <tr>\n",
       "      <th>184230</th>\n",
       "      <td>SGA솔루션즈</td>\n",
       "      <td>1315</td>\n",
       "      <td>228</td>\n",
       "      <td>228</td>\n",
       "      <td>NaN</td>\n",
       "      <td>0.0451</td>\n",
       "    </tr>\n",
       "    <tr>\n",
       "      <th>460850</th>\n",
       "      <td>동국씨엠</td>\n",
       "      <td>18055</td>\n",
       "      <td>5</td>\n",
       "      <td>5</td>\n",
       "      <td>NaN</td>\n",
       "      <td>0.0136</td>\n",
       "    </tr>\n",
       "    <tr>\n",
       "      <th>016250</th>\n",
       "      <td>SGC E&amp;C</td>\n",
       "      <td>46000</td>\n",
       "      <td>6</td>\n",
       "      <td>6</td>\n",
       "      <td>NaN</td>\n",
       "      <td>0.0416</td>\n",
       "    </tr>\n",
       "    <tr>\n",
       "      <th>001230</th>\n",
       "      <td>동국홀딩스</td>\n",
       "      <td>24044</td>\n",
       "      <td>2</td>\n",
       "      <td>2</td>\n",
       "      <td>NaN</td>\n",
       "      <td>0.0072</td>\n",
       "    </tr>\n",
       "    <tr>\n",
       "      <th>049470</th>\n",
       "      <td>SGA</td>\n",
       "      <td>1115</td>\n",
       "      <td>269</td>\n",
       "      <td>269</td>\n",
       "      <td>NaN</td>\n",
       "      <td>0.0452</td>\n",
       "    </tr>\n",
       "    <tr>\n",
       "      <th>217820</th>\n",
       "      <td>원익피앤이</td>\n",
       "      <td>12518</td>\n",
       "      <td>22</td>\n",
       "      <td>22</td>\n",
       "      <td>NaN</td>\n",
       "      <td>0.0415</td>\n",
       "    </tr>\n",
       "    <tr>\n",
       "      <th>109960</th>\n",
       "      <td>AP헬스케어</td>\n",
       "      <td>3790</td>\n",
       "      <td>158</td>\n",
       "      <td>158</td>\n",
       "      <td>NaN</td>\n",
       "      <td>0.0902</td>\n",
       "    </tr>\n",
       "  </tbody>\n",
       "</table>\n",
       "</div>"
      ],
      "text/plain": [
       "                      name   price  transaction  net  weight  weight*\n",
       "date       ticker                                                    \n",
       "2024-01-03 011780     금호석유  171000            2    2     NaN   0.0515\n",
       "           066570     LG전자  122500            2    2     NaN   0.0369\n",
       "           035890     서희건설    1800          166  166     NaN   0.0450\n",
       "           040420  정상제이엘에스    7970           37   37     NaN   0.0444\n",
       "           140520     대창스틸    3250           90   90     NaN   0.0440\n",
       "           072990    에이치시티   15900           18   18     NaN   0.0431\n",
       "           091580    상신이디피   16800           18   18     NaN   0.0455\n",
       "           011200      HMM   26350           11   11     NaN   0.0436\n",
       "           002220     한일철강    3130           95   95     NaN   0.0448\n",
       "           006650     대한유화  181500            1    1     NaN   0.0273\n",
       "           136490       선진   12700           23   23     NaN   0.0440\n",
       "           064550    바이오니아   49650            6    6     NaN   0.0449\n",
       "           460860     동국제강   18723            8    8     NaN   0.0226\n",
       "           040910     아이씨디   12200           24   24     NaN   0.0441\n",
       "           024950   삼천리자전거    9770           30   30     NaN   0.0441\n",
       "           900070   글로벌에스엠    1080          277  277     NaN   0.0450\n",
       "           036580      팜스코    6090           49   49     NaN   0.0449\n",
       "           184230  SGA솔루션즈    1315          228  228     NaN   0.0451\n",
       "           460850     동국씨엠   18055            5    5     NaN   0.0136\n",
       "           016250  SGC E&C   46000            6    6     NaN   0.0416\n",
       "           001230    동국홀딩스   24044            2    2     NaN   0.0072\n",
       "           049470      SGA    1115          269  269     NaN   0.0452\n",
       "           217820    원익피앤이   12518           22   22     NaN   0.0415\n",
       "           109960   AP헬스케어    3790          158  158     NaN   0.0902"
      ]
     },
     "execution_count": 51,
     "metadata": {},
     "output_type": "execute_result"
    }
   ],
   "source": [
    "pf_liq.view_record()"
   ]
  },
  {
   "cell_type": "markdown",
   "id": "5cb5a3a2-0bbe-4f0c-adcf-49a72186ee99",
   "metadata": {},
   "source": [
    "## TDF"
   ]
  },
  {
   "cell_type": "code",
   "execution_count": 4,
   "id": "bc90a2f2-946a-4427-8ea2-4b1bb805f321",
   "metadata": {},
   "outputs": [],
   "source": [
    "selected = ['K55301BU6139', 'K55206C95800']"
   ]
  },
  {
   "cell_type": "code",
   "execution_count": 5,
   "id": "ecb9566a-7132-4ff6-8347-d3783a16de56",
   "metadata": {},
   "outputs": [
    {
     "name": "stdout",
     "output_type": "stream",
     "text": [
      "64 securities from 2008-11-28 to 2024-11-29 uploaded.\n",
      "WARNING: the number of days in a year with 64 tickers (100%) is 12 in avg.\n",
      "REMINDER: 64 equities converted to daily (days in year: 365)\n",
      "Daily metrics in Performance statistics must be meaningless\n",
      "df_prices loaded\n",
      "Cost data transaction_cost.csv loaded\n",
      "Transaction record to 2024-06-19 loaded\n"
     ]
    }
   ],
   "source": [
    "pf_tdf = PM.create_portfolio('TDF', tickers=selected, **kw_cost)"
   ]
  },
  {
   "cell_type": "code",
   "execution_count": 6,
   "id": "900cfe7e-2a3a-460b-bc03-25d1b8e492a2",
   "metadata": {},
   "outputs": [
    {
     "data": {
      "text/plain": [
       "0) K55301BU6139: 미래에셋전략배분TDF2035혼합자산자투자신탁종류C-P2e\n",
       "1) K55206C95800: 키움키워드림TDF2030증권투자신탁 1[혼합-재간접형]C-P2e(퇴직연금)"
      ]
     },
     "execution_count": 6,
     "metadata": {},
     "output_type": "execute_result"
    }
   ],
   "source": [
    "#pf_tdf.portfolio_data['strategy']\n",
    "pf_tdf.get_names()"
   ]
  },
  {
   "cell_type": "code",
   "execution_count": 13,
   "id": "6f173f64-8137-4a01-a831-259619987813",
   "metadata": {},
   "outputs": [
    {
     "data": {
      "image/png": "[encoded data removed]",
      "text/plain": [
       "<Figure size 1000x600 with 3 Axes>"
      ]
     },
     "metadata": {},
     "output_type": "display_data"
    }
   ],
   "source": [
    "pf_tdf.plot()"
   ]
  },
  {
   "cell_type": "code",
   "execution_count": 14,
   "id": "a0631c7d-4e21-4030-bb21-f7c0c61e4d4e",
   "metadata": {},
   "outputs": [
    {
     "data": {
      "text/plain": [
       "start    2024-06-19\n",
       "date     2024-11-29\n",
       "buy         9998969\n",
       "sell         -24667\n",
       "value      10537856\n",
       "UGL          514220\n",
       "ROI        0.051427\n",
       "dtype: object"
      ]
     },
     "execution_count": 14,
     "metadata": {},
     "output_type": "execute_result"
    }
   ],
   "source": [
    "pf_tdf.valuate()"
   ]
  },
  {
   "cell_type": "code",
   "execution_count": 9,
   "id": "cbdb9f74-d8b7-4c82-8b48-327fc7472773",
   "metadata": {},
   "outputs": [
    {
     "data": {
      "application/vnd.jupyter.widget-view+json": {
       "model_id": "cdd04974e41946dea77f38983a0cd34d",
       "version_major": 2,
       "version_minor": 0
      },
      "text/plain": [
       "VBox(children=(DatePicker(value=None, layout=Layout(width='200px'), step=1), IntSlider(value=0, continuous_upd…"
      ]
     },
     "execution_count": 9,
     "metadata": {},
     "output_type": "execute_result"
    }
   ],
   "source": [
    "# set kwargs of transaction_pipeline\n",
    "WidgetTransaction"
   ]
  },
  {
   "cell_type": "code",
   "execution_count": 10,
   "id": "b0d8203a-f1f9-4979-a126-0142aa20efd8",
   "metadata": {},
   "outputs": [
    {
     "name": "stdout",
     "output_type": "stream",
     "text": [
      "Liquidation set to None\n",
      "2 tickers selected by Selected from 2024-11-29 to 2024-11-29\n",
      "Weights of tickers determined by Equal weights.\n",
      "Mean absolute error of weights: 0 %\n",
      "ROI: -1.9%, UGL: -192,000  (2024-11-29)\n",
      "Set save=True to save transaction record\n"
     ]
    },
    {
     "data": {
      "text/html": [
       "<div>\n",
       "<style scoped>\n",
       "    .dataframe tbody tr th:only-of-type {\n",
       "        vertical-align: middle;\n",
       "    }\n",
       "\n",
       "    .dataframe tbody tr th {\n",
       "        vertical-align: top;\n",
       "    }\n",
       "\n",
       "    .dataframe thead th {\n",
       "        text-align: right;\n",
       "    }\n",
       "</style>\n",
       "<table border=\"1\" class=\"dataframe\">\n",
       "  <thead>\n",
       "    <tr style=\"text-align: right;\">\n",
       "      <th></th>\n",
       "      <th></th>\n",
       "      <th>name</th>\n",
       "      <th>price</th>\n",
       "      <th>transaction</th>\n",
       "      <th>net</th>\n",
       "      <th>weight</th>\n",
       "      <th>weight*</th>\n",
       "    </tr>\n",
       "    <tr>\n",
       "      <th>date</th>\n",
       "      <th>ticker</th>\n",
       "      <th></th>\n",
       "      <th></th>\n",
       "      <th></th>\n",
       "      <th></th>\n",
       "      <th></th>\n",
       "      <th></th>\n",
       "    </tr>\n",
       "  </thead>\n",
       "  <tbody>\n",
       "    <tr>\n",
       "      <th rowspan=\"2\" valign=\"top\">2024-06-19</th>\n",
       "      <th>K55301BU6139</th>\n",
       "      <td>미래에셋전략배분TDF2035혼합자산자투자신탁종류C-P2e</td>\n",
       "      <td>1595</td>\n",
       "      <td>4,995,540</td>\n",
       "      <td>4,995,540</td>\n",
       "      <td>0.5</td>\n",
       "      <td>0.5</td>\n",
       "    </tr>\n",
       "    <tr>\n",
       "      <th>K55206C95800</th>\n",
       "      <td>키움키워드림TDF2030증권투자신탁 1[혼합-재간접형]C-P2e(퇴직연금)</td>\n",
       "      <td>1367</td>\n",
       "      <td>4,999,119</td>\n",
       "      <td>4,999,119</td>\n",
       "      <td>0.5</td>\n",
       "      <td>0.5</td>\n",
       "    </tr>\n",
       "    <tr>\n",
       "      <th rowspan=\"2\" valign=\"top\">2024-11-29</th>\n",
       "      <th>K55301BU6139</th>\n",
       "      <td>미래에셋전략배분TDF2035혼합자산자투자신탁종류C-P2e</td>\n",
       "      <td>1533</td>\n",
       "      <td>110,376</td>\n",
       "      <td>4,911,732</td>\n",
       "      <td>0.500</td>\n",
       "      <td>0.5000</td>\n",
       "    </tr>\n",
       "    <tr>\n",
       "      <th>K55206C95800</th>\n",
       "      <td>키움키워드림TDF2030증권투자신탁 1[혼합-재간접형]C-P2e(퇴직연금)</td>\n",
       "      <td>1373</td>\n",
       "      <td>-111,213</td>\n",
       "      <td>4,909,848</td>\n",
       "      <td>0.500</td>\n",
       "      <td>0.5000</td>\n",
       "    </tr>\n",
       "  </tbody>\n",
       "</table>\n",
       "</div>"
      ],
      "text/plain": [
       "                                                              name  price  \\\n",
       "date       ticker                                                           \n",
       "2024-06-19 K55301BU6139            미래에셋전략배분TDF2035혼합자산자투자신탁종류C-P2e   1595   \n",
       "           K55206C95800  키움키워드림TDF2030증권투자신탁 1[혼합-재간접형]C-P2e(퇴직연금)   1367   \n",
       "2024-11-29 K55301BU6139            미래에셋전략배분TDF2035혼합자산자투자신탁종류C-P2e   1533   \n",
       "           K55206C95800  키움키워드림TDF2030증권투자신탁 1[혼합-재간접형]C-P2e(퇴직연금)   1373   \n",
       "\n",
       "                        transaction        net weight weight*  \n",
       "date       ticker                                              \n",
       "2024-06-19 K55301BU6139   4,995,540  4,995,540    0.5     0.5  \n",
       "           K55206C95800   4,999,119  4,999,119    0.5     0.5  \n",
       "2024-11-29 K55301BU6139     110,376  4,911,732  0.500  0.5000  \n",
       "           K55206C95800    -111,213  4,909,848  0.500  0.5000  "
      ]
     },
     "execution_count": 10,
     "metadata": {},
     "output_type": "execute_result"
    }
   ],
   "source": [
    "kwargs = dict(\n",
    "    date = WidgetTransaction.values(0),\n",
    "    capital = WidgetTransaction.values(1),\n",
    "    save = WidgetTransaction.values(2)\n",
    ")\n",
    "_ = pf_tdf.transaction_pipeline(**kwargs)\n",
    "\n",
    "pf_tdf.view_record(amount=True)"
   ]
  },
  {
   "cell_type": "markdown",
   "id": "01d8252f-4e9f-4d1e-a3e1-d5d43cc27c3f",
   "metadata": {},
   "source": [
    "### Convert transaction"
   ]
  },
  {
   "cell_type": "code",
   "execution_count": 11,
   "id": "261c9d29-7c45-49f6-8018-f75c85cf768d",
   "metadata": {},
   "outputs": [
    {
     "data": {
      "text/html": [
       "<div>\n",
       "<style scoped>\n",
       "    .dataframe tbody tr th:only-of-type {\n",
       "        vertical-align: middle;\n",
       "    }\n",
       "\n",
       "    .dataframe tbody tr th {\n",
       "        vertical-align: top;\n",
       "    }\n",
       "\n",
       "    .dataframe thead th {\n",
       "        text-align: right;\n",
       "    }\n",
       "</style>\n",
       "<table border=\"1\" class=\"dataframe\">\n",
       "  <thead>\n",
       "    <tr style=\"text-align: right;\">\n",
       "      <th></th>\n",
       "      <th></th>\n",
       "      <th>name</th>\n",
       "      <th>price</th>\n",
       "      <th>transaction</th>\n",
       "      <th>net</th>\n",
       "      <th>weight</th>\n",
       "      <th>weight*</th>\n",
       "    </tr>\n",
       "    <tr>\n",
       "      <th>date</th>\n",
       "      <th>ticker</th>\n",
       "      <th></th>\n",
       "      <th></th>\n",
       "      <th></th>\n",
       "      <th></th>\n",
       "      <th></th>\n",
       "      <th></th>\n",
       "    </tr>\n",
       "  </thead>\n",
       "  <tbody>\n",
       "    <tr>\n",
       "      <th rowspan=\"2\" valign=\"top\">2024-06-19</th>\n",
       "      <th>K55301BU6139</th>\n",
       "      <td>미래에셋전략배분TDF2035혼합자산자투자신탁종류C-P2e</td>\n",
       "      <td>1481</td>\n",
       "      <td>5000000</td>\n",
       "      <td>3132</td>\n",
       "      <td>0.5</td>\n",
       "      <td>0.5</td>\n",
       "    </tr>\n",
       "    <tr>\n",
       "      <th>K55206C95800</th>\n",
       "      <td>키움키워드림TDF2030증권투자신탁 1[혼합-재간접형]C-P2e(퇴직연금)</td>\n",
       "      <td>1280</td>\n",
       "      <td>5000000</td>\n",
       "      <td>3657</td>\n",
       "      <td>0.5</td>\n",
       "      <td>0.5</td>\n",
       "    </tr>\n",
       "  </tbody>\n",
       "</table>\n",
       "</div>"
      ],
      "text/plain": [
       "                                                              name  price  \\\n",
       "date       ticker                                                           \n",
       "2024-06-19 K55301BU6139            미래에셋전략배분TDF2035혼합자산자투자신탁종류C-P2e   1481   \n",
       "           K55206C95800  키움키워드림TDF2030증권투자신탁 1[혼합-재간접형]C-P2e(퇴직연금)   1280   \n",
       "\n",
       "                         transaction   net  weight  weight*  \n",
       "date       ticker                                            \n",
       "2024-06-19 K55301BU6139      5000000  3132     0.5      0.5  \n",
       "           K55206C95800      5000000  3657     0.5      0.5  "
      ]
     },
     "execution_count": 11,
     "metadata": {},
     "output_type": "execute_result"
    }
   ],
   "source": [
    "pf_tdf.view_record()"
   ]
  },
  {
   "cell_type": "code",
   "execution_count": 12,
   "id": "aeaada01-8287-4dc0-afb0-48c1b130803b",
   "metadata": {},
   "outputs": [
    {
     "name": "stdout",
     "output_type": "stream",
     "text": [
      "Transaction record to 2024-06-19 loaded\n",
      "Actual weights updated\n",
      "Transaction file pf_tdf_static_240619.csv updated\n",
      "self.record updated\n"
     ]
    },
    {
     "data": {
      "text/html": [
       "<div>\n",
       "<style scoped>\n",
       "    .dataframe tbody tr th:only-of-type {\n",
       "        vertical-align: middle;\n",
       "    }\n",
       "\n",
       "    .dataframe tbody tr th {\n",
       "        vertical-align: top;\n",
       "    }\n",
       "\n",
       "    .dataframe thead th {\n",
       "        text-align: right;\n",
       "    }\n",
       "</style>\n",
       "<table border=\"1\" class=\"dataframe\">\n",
       "  <thead>\n",
       "    <tr style=\"text-align: right;\">\n",
       "      <th></th>\n",
       "      <th></th>\n",
       "      <th>name</th>\n",
       "      <th>price</th>\n",
       "      <th>transaction</th>\n",
       "      <th>net</th>\n",
       "      <th>weight</th>\n",
       "      <th>weight*</th>\n",
       "    </tr>\n",
       "    <tr>\n",
       "      <th>date</th>\n",
       "      <th>ticker</th>\n",
       "      <th></th>\n",
       "      <th></th>\n",
       "      <th></th>\n",
       "      <th></th>\n",
       "      <th></th>\n",
       "      <th></th>\n",
       "    </tr>\n",
       "  </thead>\n",
       "  <tbody>\n",
       "    <tr>\n",
       "      <th rowspan=\"2\" valign=\"top\">2024-06-19</th>\n",
       "      <th>K55301BU6139</th>\n",
       "      <td>미래에셋전략배분TDF2035혼합자산자투자신탁종류C-P2e</td>\n",
       "      <td>1481.31</td>\n",
       "      <td>3375</td>\n",
       "      <td>3375</td>\n",
       "      <td>0.5</td>\n",
       "      <td>0.5000</td>\n",
       "    </tr>\n",
       "    <tr>\n",
       "      <th>K55206C95800</th>\n",
       "      <td>키움키워드림TDF2030증권투자신탁 1[혼합-재간접형]C-P2e(퇴직연금)</td>\n",
       "      <td>1280.95</td>\n",
       "      <td>3903</td>\n",
       "      <td>3903</td>\n",
       "      <td>0.5</td>\n",
       "      <td>0.5000</td>\n",
       "    </tr>\n",
       "  </tbody>\n",
       "</table>\n",
       "</div>"
      ],
      "text/plain": [
       "                                                              name    price  \\\n",
       "date       ticker                                                             \n",
       "2024-06-19 K55301BU6139            미래에셋전략배분TDF2035혼합자산자투자신탁종류C-P2e  1481.31   \n",
       "           K55206C95800  키움키워드림TDF2030증권투자신탁 1[혼합-재간접형]C-P2e(퇴직연금)  1280.95   \n",
       "\n",
       "                         transaction   net  weight weight*  \n",
       "date       ticker                                           \n",
       "2024-06-19 K55301BU6139         3375  3375     0.5  0.5000  \n",
       "           K55206C95800         3903  3903     0.5  0.5000  "
      ]
     },
     "execution_count": 12,
     "metadata": {},
     "output_type": "execute_result"
    }
   ],
   "source": [
    "pf_tdf.convert_transaction()"
   ]
  },
  {
   "cell_type": "markdown",
   "id": "f86d2f0d-9368-4db8-a1af-6f767f32d2ca",
   "metadata": {},
   "source": [
    "## HANA"
   ]
  },
  {
   "cell_type": "code",
   "execution_count": 16,
   "id": "e64c06b3-5026-4d66-b1ed-8ce5ae691181",
   "metadata": {},
   "outputs": [],
   "source": [
    "selected = ['KR5101888398', 'KR5236AS4826', 'KR5370AP9956', 'K55306CV9946']"
   ]
  },
  {
   "cell_type": "code",
   "execution_count": 17,
   "id": "cdee2ec4-982e-4d6a-8dd6-42f4c76edb00",
   "metadata": {},
   "outputs": [
    {
     "name": "stdout",
     "output_type": "stream",
     "text": [
      "64 securities from 2008-11-28 to 2024-10-31 uploaded.\n",
      "WARNING: the number of days in a year with 64 tickers (100%) is 12 in avg.\n",
      "REMINDER: 64 equities converted to daily (days in year: 365)\n",
      "Daily metrics in Performance statistics must be meaningless\n",
      "df_prices loaded\n",
      "Transaction record to 2024-07-31 loaded\n"
     ]
    }
   ],
   "source": [
    "pf_hana = PM.create_portfolio('HANA', tickers=selected)"
   ]
  },
  {
   "cell_type": "code",
   "execution_count": 18,
   "id": "41d8d018-8681-4cdd-b7b2-fb21596c155f",
   "metadata": {},
   "outputs": [
    {
     "name": "stdout",
     "output_type": "stream",
     "text": [
      "0) KR5101888398: 한국투자크레딧포커스ESG증권자투자신탁 1(채권)(C-e)\n",
      "1) KR5236AS4826: 한국밸류10년투자증권투자신탁 1(채권혼합)종류C-E\n",
      "2) KR5370AP9956: AB글로벌고수익증권투자신탁(채권-재간접형)종류형Ce\n",
      "3) K55306CV9946: 다올글로벌멀티에셋인컴EMP증권자투자신탁[혼합-재간접형](공)종류Ce\n",
      "\n"
     ]
    }
   ],
   "source": [
    "pf_hana.security_names.get_names(selected)"
   ]
  },
  {
   "cell_type": "code",
   "execution_count": 19,
   "id": "4157dba3-e659-4973-9d46-1419afde22a8",
   "metadata": {},
   "outputs": [
    {
     "data": {
      "text/plain": [
       "{'data': {'method_select': 'Selected',\n",
       "  'method_weigh': 'InvVol',\n",
       "  'lookback': '2y',\n",
       "  'lag': 0,\n",
       "  'file': 'pf_hana_static',\n",
       "  'path': 'transaction',\n",
       "  'tickers': ['KR5101888398', 'KR5236AS4826', 'KR5370AP9956', 'K55306CV9946']},\n",
       " 'name': None}"
      ]
     },
     "execution_count": 19,
     "metadata": {},
     "output_type": "execute_result"
    }
   ],
   "source": [
    "#pf_hana.portfolio_data['strategy']"
   ]
  },
  {
   "cell_type": "code",
   "execution_count": 20,
   "id": "01ec254d-f913-4bdd-97d2-574bc55b45a0",
   "metadata": {},
   "outputs": [
    {
     "data": {
      "image/png": "[encoded data removed]",
      "text/plain": [
       "<Figure size 1000x600 with 3 Axes>"
      ]
     },
     "metadata": {},
     "output_type": "display_data"
    }
   ],
   "source": [
    "pf_hana.plot()"
   ]
  },
  {
   "cell_type": "code",
   "execution_count": 8,
   "id": "d53b2aad-17ae-47ba-ab04-81dd385692b5",
   "metadata": {},
   "outputs": [
    {
     "data": {
      "application/vnd.jupyter.widget-view+json": {
       "model_id": "c18f587c8f0d4f68ba55effc9a2e76c8",
       "version_major": 2,
       "version_minor": 0
      },
      "text/plain": [
       "VBox(children=(DatePicker(value=None, layout=Layout(width='200px'), step=1), IntSlider(value=0, continuous_upd…"
      ]
     },
     "execution_count": 8,
     "metadata": {},
     "output_type": "execute_result"
    }
   ],
   "source": [
    "# set kwargs of transaction_pipeline\n",
    "WidgetTransaction"
   ]
  },
  {
   "cell_type": "code",
   "execution_count": 9,
   "id": "13999c3b-6dac-4b53-92dc-d6abb31f2cbb",
   "metadata": {},
   "outputs": [
    {
     "name": "stdout",
     "output_type": "stream",
     "text": [
      "Liquidation set to None\n",
      "4 tickers selected by Selected from 2022-10-31 to 2024-10-31\n",
      "Weights of tickers determined by Inv.Vol.\n",
      "Mean absolute error of weights: 0 %\n",
      "Transaction dates updated for profit/loss on the dates\n",
      "ROI: 1.0%, UGL: 104,000  (2024-10-31)\n",
      "Set save=True to save transaction record\n"
     ]
    },
    {
     "data": {
      "text/html": [
       "<div>\n",
       "<style scoped>\n",
       "    .dataframe tbody tr th:only-of-type {\n",
       "        vertical-align: middle;\n",
       "    }\n",
       "\n",
       "    .dataframe tbody tr th {\n",
       "        vertical-align: top;\n",
       "    }\n",
       "\n",
       "    .dataframe thead th {\n",
       "        text-align: right;\n",
       "    }\n",
       "</style>\n",
       "<table border=\"1\" class=\"dataframe\">\n",
       "  <thead>\n",
       "    <tr style=\"text-align: right;\">\n",
       "      <th></th>\n",
       "      <th></th>\n",
       "      <th>name</th>\n",
       "      <th>price</th>\n",
       "      <th>transaction</th>\n",
       "      <th>net</th>\n",
       "      <th>weight</th>\n",
       "      <th>weight*</th>\n",
       "    </tr>\n",
       "    <tr>\n",
       "      <th>date</th>\n",
       "      <th>ticker</th>\n",
       "      <th></th>\n",
       "      <th></th>\n",
       "      <th></th>\n",
       "      <th></th>\n",
       "      <th></th>\n",
       "      <th></th>\n",
       "    </tr>\n",
       "  </thead>\n",
       "  <tbody>\n",
       "    <tr>\n",
       "      <th rowspan=\"4\" valign=\"top\">2024-07-31</th>\n",
       "      <th>KR5101888398</th>\n",
       "      <td>한국투자크레딧포커스ESG증권자투자신탁 1(채권)(C-e)</td>\n",
       "      <td>1068</td>\n",
       "      <td>4699</td>\n",
       "      <td>4699</td>\n",
       "      <td>0.502</td>\n",
       "      <td>0.502</td>\n",
       "    </tr>\n",
       "    <tr>\n",
       "      <th>KR5236AS4826</th>\n",
       "      <td>한국밸류10년투자증권투자신탁 1(채권혼합)종류C-E</td>\n",
       "      <td>1260</td>\n",
       "      <td>1920</td>\n",
       "      <td>1920</td>\n",
       "      <td>0.242</td>\n",
       "      <td>0.242</td>\n",
       "    </tr>\n",
       "    <tr>\n",
       "      <th>KR5370AP9956</th>\n",
       "      <td>AB글로벌고수익증권투자신탁(채권-재간접형)종류형Ce</td>\n",
       "      <td>1285</td>\n",
       "      <td>1448</td>\n",
       "      <td>1448</td>\n",
       "      <td>0.186</td>\n",
       "      <td>0.186</td>\n",
       "    </tr>\n",
       "    <tr>\n",
       "      <th>K55306CV9946</th>\n",
       "      <td>다올글로벌멀티에셋인컴EMP증권자투자신탁[혼합-재간접형](공)종류Ce</td>\n",
       "      <td>1151</td>\n",
       "      <td>602</td>\n",
       "      <td>602</td>\n",
       "      <td>0.069</td>\n",
       "      <td>0.069</td>\n",
       "    </tr>\n",
       "    <tr>\n",
       "      <th rowspan=\"4\" valign=\"top\">2024-10-31</th>\n",
       "      <th>KR5101888398</th>\n",
       "      <td>한국투자크레딧포커스ESG증권자투자신탁 1(채권)(C-e)</td>\n",
       "      <td>1080</td>\n",
       "      <td>-310</td>\n",
       "      <td>4389</td>\n",
       "      <td>0.470</td>\n",
       "      <td>0.4700</td>\n",
       "    </tr>\n",
       "    <tr>\n",
       "      <th>KR5236AS4826</th>\n",
       "      <td>한국밸류10년투자증권투자신탁 1(채권혼합)종류C-E</td>\n",
       "      <td>1268</td>\n",
       "      <td>36</td>\n",
       "      <td>1956</td>\n",
       "      <td>0.246</td>\n",
       "      <td>0.2459</td>\n",
       "    </tr>\n",
       "    <tr>\n",
       "      <th>KR5370AP9956</th>\n",
       "      <td>AB글로벌고수익증권투자신탁(채권-재간접형)종류형Ce</td>\n",
       "      <td>1311</td>\n",
       "      <td>26</td>\n",
       "      <td>1474</td>\n",
       "      <td>0.192</td>\n",
       "      <td>0.1916</td>\n",
       "    </tr>\n",
       "    <tr>\n",
       "      <th>K55306CV9946</th>\n",
       "      <td>다올글로벌멀티에셋인컴EMP증권자투자신탁[혼합-재간접형](공)종류Ce</td>\n",
       "      <td>1132</td>\n",
       "      <td>223</td>\n",
       "      <td>825</td>\n",
       "      <td>0.093</td>\n",
       "      <td>0.0926</td>\n",
       "    </tr>\n",
       "  </tbody>\n",
       "</table>\n",
       "</div>"
      ],
      "text/plain": [
       "                                                          name  price  \\\n",
       "date       ticker                                                       \n",
       "2024-07-31 KR5101888398        한국투자크레딧포커스ESG증권자투자신탁 1(채권)(C-e)   1068   \n",
       "           KR5236AS4826           한국밸류10년투자증권투자신탁 1(채권혼합)종류C-E   1260   \n",
       "           KR5370AP9956           AB글로벌고수익증권투자신탁(채권-재간접형)종류형Ce   1285   \n",
       "           K55306CV9946  다올글로벌멀티에셋인컴EMP증권자투자신탁[혼합-재간접형](공)종류Ce   1151   \n",
       "2024-10-31 KR5101888398        한국투자크레딧포커스ESG증권자투자신탁 1(채권)(C-e)   1080   \n",
       "           KR5236AS4826           한국밸류10년투자증권투자신탁 1(채권혼합)종류C-E   1268   \n",
       "           KR5370AP9956           AB글로벌고수익증권투자신탁(채권-재간접형)종류형Ce   1311   \n",
       "           K55306CV9946  다올글로벌멀티에셋인컴EMP증권자투자신탁[혼합-재간접형](공)종류Ce   1132   \n",
       "\n",
       "                         transaction   net weight weight*  \n",
       "date       ticker                                          \n",
       "2024-07-31 KR5101888398         4699  4699  0.502   0.502  \n",
       "           KR5236AS4826         1920  1920  0.242   0.242  \n",
       "           KR5370AP9956         1448  1448  0.186   0.186  \n",
       "           K55306CV9946          602   602  0.069   0.069  \n",
       "2024-10-31 KR5101888398         -310  4389  0.470  0.4700  \n",
       "           KR5236AS4826           36  1956  0.246  0.2459  \n",
       "           KR5370AP9956           26  1474  0.192  0.1916  \n",
       "           K55306CV9946          223   825  0.093  0.0926  "
      ]
     },
     "execution_count": 9,
     "metadata": {},
     "output_type": "execute_result"
    }
   ],
   "source": [
    "kwargs = dict(\n",
    "    date = WidgetTransaction.values(0),\n",
    "    capital = WidgetTransaction.values(1),\n",
    "    save = WidgetTransaction.values(2)\n",
    ")\n",
    "_ = pf_hana.transaction_pipeline(**kwargs)\n",
    "pf_hana.view_record()"
   ]
  },
  {
   "cell_type": "code",
   "execution_count": 10,
   "id": "8041db72-01c9-4a2f-9609-b8c3812c89c4",
   "metadata": {},
   "outputs": [
    {
     "name": "stdout",
     "output_type": "stream",
     "text": [
      "Transaction dates updated for profit/loss on the dates\n"
     ]
    },
    {
     "data": {
      "image/png": "[encoded data removed]",
      "text/plain": [
       "<Figure size 1000x600 with 3 Axes>"
      ]
     },
     "metadata": {},
     "output_type": "display_data"
    }
   ],
   "source": [
    "pf_hana.plot()"
   ]
  },
  {
   "cell_type": "code",
   "execution_count": 25,
   "id": "cd1ebe41-1ead-478a-ad0f-d2fb28e222aa",
   "metadata": {},
   "outputs": [
    {
     "name": "stdout",
     "output_type": "stream",
     "text": [
      "Transaction dates updated for profit/loss on the dates\n"
     ]
    },
    {
     "data": {
      "text/html": [
       "<div>\n",
       "<style scoped>\n",
       "    .dataframe tbody tr th:only-of-type {\n",
       "        vertical-align: middle;\n",
       "    }\n",
       "\n",
       "    .dataframe tbody tr th {\n",
       "        vertical-align: top;\n",
       "    }\n",
       "\n",
       "    .dataframe thead th {\n",
       "        text-align: right;\n",
       "    }\n",
       "</style>\n",
       "<table border=\"1\" class=\"dataframe\">\n",
       "  <thead>\n",
       "    <tr style=\"text-align: right;\">\n",
       "      <th></th>\n",
       "      <th>HANA</th>\n",
       "    </tr>\n",
       "  </thead>\n",
       "  <tbody>\n",
       "    <tr>\n",
       "      <th>start</th>\n",
       "      <td>2024-07-30</td>\n",
       "    </tr>\n",
       "    <tr>\n",
       "      <th>end</th>\n",
       "      <td>2024-10-31</td>\n",
       "    </tr>\n",
       "    <tr>\n",
       "      <th>total_return</th>\n",
       "      <td>0.006042</td>\n",
       "    </tr>\n",
       "    <tr>\n",
       "      <th>cagr</th>\n",
       "      <td>0.02394</td>\n",
       "    </tr>\n",
       "    <tr>\n",
       "      <th>calmar</th>\n",
       "      <td>10.415768</td>\n",
       "    </tr>\n",
       "    <tr>\n",
       "      <th>max_drawdown</th>\n",
       "      <td>-0.002298</td>\n",
       "    </tr>\n",
       "    <tr>\n",
       "      <th>avg_drawdown</th>\n",
       "      <td>-0.002298</td>\n",
       "    </tr>\n",
       "    <tr>\n",
       "      <th>avg_drawdown_days</th>\n",
       "      <td>1.0</td>\n",
       "    </tr>\n",
       "    <tr>\n",
       "      <th>daily_vol</th>\n",
       "      <td>0.009603</td>\n",
       "    </tr>\n",
       "    <tr>\n",
       "      <th>daily_sharpe</th>\n",
       "      <td>1.704574</td>\n",
       "    </tr>\n",
       "    <tr>\n",
       "      <th>daily_sortino</th>\n",
       "      <td>5.692181</td>\n",
       "    </tr>\n",
       "    <tr>\n",
       "      <th>monthly_vol</th>\n",
       "      <td>0.011185</td>\n",
       "    </tr>\n",
       "    <tr>\n",
       "      <th>monthly_sharpe</th>\n",
       "      <td>0.843908</td>\n",
       "    </tr>\n",
       "    <tr>\n",
       "      <th>monthly_sortino</th>\n",
       "      <td>2.053333</td>\n",
       "    </tr>\n",
       "  </tbody>\n",
       "</table>\n",
       "</div>"
      ],
      "text/plain": [
       "                         HANA\n",
       "start              2024-07-30\n",
       "end                2024-10-31\n",
       "total_return         0.006042\n",
       "cagr                  0.02394\n",
       "calmar              10.415768\n",
       "max_drawdown        -0.002298\n",
       "avg_drawdown        -0.002298\n",
       "avg_drawdown_days         1.0\n",
       "daily_vol            0.009603\n",
       "daily_sharpe         1.704574\n",
       "daily_sortino        5.692181\n",
       "monthly_vol          0.011185\n",
       "monthly_sharpe       0.843908\n",
       "monthly_sortino      2.053333"
      ]
     },
     "execution_count": 25,
     "metadata": {},
     "output_type": "execute_result"
    }
   ],
   "source": [
    "pf_hana.performance(metrics=METRICS)"
   ]
  },
  {
   "cell_type": "markdown",
   "id": "238678e2-6cfc-4bdb-b4d6-48194cb83e42",
   "metadata": {},
   "source": [
    "# testing"
   ]
  },
  {
   "cell_type": "code",
   "execution_count": 1,
   "id": "d40226f6-858a-4b8b-8046-2143c0baa269",
   "metadata": {},
   "outputs": [
    {
     "name": "stderr",
     "output_type": "stream",
     "text": [
      "WARNING (pytensor.tensor.blas): Using NumPy C-API based implementation for BLAS functions.\n"
     ]
    }
   ],
   "source": [
    "from pf_utils import PortfolioManager as PM \n",
    "from pf_utils import FinancialRatios, METRICS, FundDownloader\n",
    "from pf_widgets import WidgetUniverse, WidgetTransaction, w_date"
   ]
  },
  {
   "cell_type": "code",
   "execution_count": 2,
   "id": "20ffda92-a475-442c-85a4-68491c298b0a",
   "metadata": {},
   "outputs": [],
   "source": [
    "path_data = 'data'\n",
    "path_tran = 'transaction'"
   ]
  },
  {
   "cell_type": "code",
   "execution_count": 3,
   "id": "11cd3d15-ca80-4096-80b4-12acfcc3d4e4",
   "metadata": {},
   "outputs": [],
   "source": [
    "file_cost='transaction_cost'\n",
    "kw_cost = dict(file_cost=file_cost)"
   ]
  },
  {
   "cell_type": "code",
   "execution_count": 4,
   "id": "600a5c10-b8cd-4b6b-8c8f-f498f8c5f149",
   "metadata": {},
   "outputs": [],
   "source": [
    "selected = ['K55301BU6139', 'K55206C95800']"
   ]
  },
  {
   "cell_type": "code",
   "execution_count": 5,
   "id": "29cfa14d-d069-4d73-82d4-7194b7a8954c",
   "metadata": {},
   "outputs": [
    {
     "name": "stdout",
     "output_type": "stream",
     "text": [
      "64 securities from 2008-11-28 to 2024-11-29 uploaded.\n",
      "WARNING: the number of days in a year with 64 tickers (100%) is 12 in avg.\n",
      "REMINDER: 64 equities converted to daily (days in year: 365)\n",
      "Daily metrics in Performance statistics must be meaningless\n",
      "df_prices loaded\n",
      "Cost data transaction_cost.csv loaded\n",
      "Transaction record to 2024-11-29 loaded\n"
     ]
    }
   ],
   "source": [
    "pf_tdf = PM.create_portfolio('TDF', tickers=selected, **kw_cost)"
   ]
  },
  {
   "cell_type": "code",
   "execution_count": 6,
   "id": "ea977d4b-555b-40f9-a746-1515d003f376",
   "metadata": {},
   "outputs": [
    {
     "data": {
      "text/html": [
       "<div>\n",
       "<style scoped>\n",
       "    .dataframe tbody tr th:only-of-type {\n",
       "        vertical-align: middle;\n",
       "    }\n",
       "\n",
       "    .dataframe tbody tr th {\n",
       "        vertical-align: top;\n",
       "    }\n",
       "\n",
       "    .dataframe thead th {\n",
       "        text-align: right;\n",
       "    }\n",
       "</style>\n",
       "<table border=\"1\" class=\"dataframe\">\n",
       "  <thead>\n",
       "    <tr style=\"text-align: right;\">\n",
       "      <th></th>\n",
       "      <th></th>\n",
       "      <th>name</th>\n",
       "      <th>price</th>\n",
       "      <th>transaction</th>\n",
       "      <th>net</th>\n",
       "      <th>weight</th>\n",
       "      <th>weight*</th>\n",
       "    </tr>\n",
       "    <tr>\n",
       "      <th>date</th>\n",
       "      <th>ticker</th>\n",
       "      <th></th>\n",
       "      <th></th>\n",
       "      <th></th>\n",
       "      <th></th>\n",
       "      <th></th>\n",
       "      <th></th>\n",
       "    </tr>\n",
       "  </thead>\n",
       "  <tbody>\n",
       "    <tr>\n",
       "      <th rowspan=\"2\" valign=\"top\">2024-06-19</th>\n",
       "      <th>K55301BU6139</th>\n",
       "      <td>미래에셋전략배분TDF2035혼합자산자투자신탁종류C-P2e</td>\n",
       "      <td>1481</td>\n",
       "      <td>4,638,492</td>\n",
       "      <td>4,638,492</td>\n",
       "      <td>0.5</td>\n",
       "      <td>0.5</td>\n",
       "    </tr>\n",
       "    <tr>\n",
       "      <th>K55206C95800</th>\n",
       "      <td>키움키워드림TDF2030증권투자신탁 1[혼합-재간접형]C-P2e(퇴직연금)</td>\n",
       "      <td>1280</td>\n",
       "      <td>4,680,960</td>\n",
       "      <td>4,680,960</td>\n",
       "      <td>0.5</td>\n",
       "      <td>0.5</td>\n",
       "    </tr>\n",
       "    <tr>\n",
       "      <th rowspan=\"2\" valign=\"top\">2024-11-29</th>\n",
       "      <th>K55301BU6139</th>\n",
       "      <td>미래에셋전략배분TDF2035혼합자산자투자신탁종류C-P2e</td>\n",
       "      <td>1533</td>\n",
       "      <td>168,630,000</td>\n",
       "      <td>4,911,732</td>\n",
       "      <td>0.5</td>\n",
       "      <td>0.5</td>\n",
       "    </tr>\n",
       "    <tr>\n",
       "      <th>K55206C95800</th>\n",
       "      <td>키움키워드림TDF2030증권투자신탁 1[혼합-재간접형]C-P2e(퇴직연금)</td>\n",
       "      <td>1373</td>\n",
       "      <td>-151,030,000</td>\n",
       "      <td>4,909,848</td>\n",
       "      <td>0.5</td>\n",
       "      <td>0.5</td>\n",
       "    </tr>\n",
       "  </tbody>\n",
       "</table>\n",
       "</div>"
      ],
      "text/plain": [
       "                                                              name  price  \\\n",
       "date       ticker                                                           \n",
       "2024-06-19 K55301BU6139            미래에셋전략배분TDF2035혼합자산자투자신탁종류C-P2e   1481   \n",
       "           K55206C95800  키움키워드림TDF2030증권투자신탁 1[혼합-재간접형]C-P2e(퇴직연금)   1280   \n",
       "2024-11-29 K55301BU6139            미래에셋전략배분TDF2035혼합자산자투자신탁종류C-P2e   1533   \n",
       "           K55206C95800  키움키워드림TDF2030증권투자신탁 1[혼합-재간접형]C-P2e(퇴직연금)   1373   \n",
       "\n",
       "                          transaction        net  weight  weight*  \n",
       "date       ticker                                                  \n",
       "2024-06-19 K55301BU6139     4,638,492  4,638,492     0.5      0.5  \n",
       "           K55206C95800     4,680,960  4,680,960     0.5      0.5  \n",
       "2024-11-29 K55301BU6139   168,630,000  4,911,732     0.5      0.5  \n",
       "           K55206C95800  -151,030,000  4,909,848     0.5      0.5  "
      ]
     },
     "execution_count": 6,
     "metadata": {},
     "output_type": "execute_result"
    }
   ],
   "source": [
    "pf_tdf.view_record(amount=True)"
   ]
  },
  {
   "cell_type": "code",
   "execution_count": 7,
   "id": "efb2b99e-357e-4637-9f4a-5e67df0372ee",
   "metadata": {},
   "outputs": [
    {
     "data": {
      "text/html": [
       "<div>\n",
       "<style scoped>\n",
       "    .dataframe tbody tr th:only-of-type {\n",
       "        vertical-align: middle;\n",
       "    }\n",
       "\n",
       "    .dataframe tbody tr th {\n",
       "        vertical-align: top;\n",
       "    }\n",
       "\n",
       "    .dataframe thead th {\n",
       "        text-align: right;\n",
       "    }\n",
       "</style>\n",
       "<table border=\"1\" class=\"dataframe\">\n",
       "  <thead>\n",
       "    <tr style=\"text-align: right;\">\n",
       "      <th></th>\n",
       "      <th></th>\n",
       "      <th>name</th>\n",
       "      <th>price</th>\n",
       "      <th>transaction</th>\n",
       "      <th>net</th>\n",
       "      <th>weight</th>\n",
       "      <th>weight*</th>\n",
       "    </tr>\n",
       "    <tr>\n",
       "      <th>date</th>\n",
       "      <th>ticker</th>\n",
       "      <th></th>\n",
       "      <th></th>\n",
       "      <th></th>\n",
       "      <th></th>\n",
       "      <th></th>\n",
       "      <th></th>\n",
       "    </tr>\n",
       "  </thead>\n",
       "  <tbody>\n",
       "    <tr>\n",
       "      <th rowspan=\"2\" valign=\"top\">2024-06-19</th>\n",
       "      <th>K55301BU6139</th>\n",
       "      <td>미래에셋전략배분TDF2035혼합자산자투자신탁종류C-P2e</td>\n",
       "      <td>1481</td>\n",
       "      <td>3132</td>\n",
       "      <td>3132</td>\n",
       "      <td>0.5</td>\n",
       "      <td>0.5</td>\n",
       "    </tr>\n",
       "    <tr>\n",
       "      <th>K55206C95800</th>\n",
       "      <td>키움키워드림TDF2030증권투자신탁 1[혼합-재간접형]C-P2e(퇴직연금)</td>\n",
       "      <td>1280</td>\n",
       "      <td>3657</td>\n",
       "      <td>3657</td>\n",
       "      <td>0.5</td>\n",
       "      <td>0.5</td>\n",
       "    </tr>\n",
       "    <tr>\n",
       "      <th rowspan=\"2\" valign=\"top\">2024-11-29</th>\n",
       "      <th>K55301BU6139</th>\n",
       "      <td>미래에셋전략배분TDF2035혼합자산자투자신탁종류C-P2e</td>\n",
       "      <td>1533</td>\n",
       "      <td>110000</td>\n",
       "      <td>3204</td>\n",
       "      <td>0.5</td>\n",
       "      <td>0.5</td>\n",
       "    </tr>\n",
       "    <tr>\n",
       "      <th>K55206C95800</th>\n",
       "      <td>키움키워드림TDF2030증권투자신탁 1[혼합-재간접형]C-P2e(퇴직연금)</td>\n",
       "      <td>1373</td>\n",
       "      <td>-110000</td>\n",
       "      <td>3576</td>\n",
       "      <td>0.5</td>\n",
       "      <td>0.5</td>\n",
       "    </tr>\n",
       "  </tbody>\n",
       "</table>\n",
       "</div>"
      ],
      "text/plain": [
       "                                                              name  price  \\\n",
       "date       ticker                                                           \n",
       "2024-06-19 K55301BU6139            미래에셋전략배분TDF2035혼합자산자투자신탁종류C-P2e   1481   \n",
       "           K55206C95800  키움키워드림TDF2030증권투자신탁 1[혼합-재간접형]C-P2e(퇴직연금)   1280   \n",
       "2024-11-29 K55301BU6139            미래에셋전략배분TDF2035혼합자산자투자신탁종류C-P2e   1533   \n",
       "           K55206C95800  키움키워드림TDF2030증권투자신탁 1[혼합-재간접형]C-P2e(퇴직연금)   1373   \n",
       "\n",
       "                         transaction   net  weight  weight*  \n",
       "date       ticker                                            \n",
       "2024-06-19 K55301BU6139         3132  3132     0.5      0.5  \n",
       "           K55206C95800         3657  3657     0.5      0.5  \n",
       "2024-11-29 K55301BU6139       110000  3204     0.5      0.5  \n",
       "           K55206C95800      -110000  3576     0.5      0.5  "
      ]
     },
     "execution_count": 7,
     "metadata": {},
     "output_type": "execute_result"
    }
   ],
   "source": [
    "pf_tdf.view_record()"
   ]
  },
  {
   "cell_type": "code",
   "execution_count": 8,
   "id": "6a993ed1-0c62-485e-8b88-afab2454b9d9",
   "metadata": {},
   "outputs": [
    {
     "data": {
      "text/html": [
       "<div>\n",
       "<style scoped>\n",
       "    .dataframe tbody tr th:only-of-type {\n",
       "        vertical-align: middle;\n",
       "    }\n",
       "\n",
       "    .dataframe tbody tr th {\n",
       "        vertical-align: top;\n",
       "    }\n",
       "\n",
       "    .dataframe thead th {\n",
       "        text-align: right;\n",
       "    }\n",
       "</style>\n",
       "<table border=\"1\" class=\"dataframe\">\n",
       "  <thead>\n",
       "    <tr style=\"text-align: right;\">\n",
       "      <th></th>\n",
       "      <th></th>\n",
       "      <th>name</th>\n",
       "      <th>price</th>\n",
       "      <th>transaction</th>\n",
       "      <th>net</th>\n",
       "      <th>weight</th>\n",
       "      <th>weight*</th>\n",
       "    </tr>\n",
       "    <tr>\n",
       "      <th>date</th>\n",
       "      <th>ticker</th>\n",
       "      <th></th>\n",
       "      <th></th>\n",
       "      <th></th>\n",
       "      <th></th>\n",
       "      <th></th>\n",
       "      <th></th>\n",
       "    </tr>\n",
       "  </thead>\n",
       "  <tbody>\n",
       "    <tr>\n",
       "      <th rowspan=\"2\" valign=\"top\">2024-06-19</th>\n",
       "      <th>K55301BU6139</th>\n",
       "      <td>미래에셋전략배분TDF2035혼합자산자투자신탁종류C-P2e</td>\n",
       "      <td>1481.310000</td>\n",
       "      <td>3132</td>\n",
       "      <td>3132</td>\n",
       "      <td>0.5</td>\n",
       "      <td>0.5</td>\n",
       "    </tr>\n",
       "    <tr>\n",
       "      <th>K55206C95800</th>\n",
       "      <td>키움키워드림TDF2030증권투자신탁 1[혼합-재간접형]C-P2e(퇴직연금)</td>\n",
       "      <td>1280.950000</td>\n",
       "      <td>3657</td>\n",
       "      <td>3657</td>\n",
       "      <td>0.5</td>\n",
       "      <td>0.5</td>\n",
       "    </tr>\n",
       "    <tr>\n",
       "      <th rowspan=\"2\" valign=\"top\">2024-11-29</th>\n",
       "      <th>K55301BU6139</th>\n",
       "      <td>미래에셋전략배분TDF2035혼합자산자투자신탁종류C-P2e</td>\n",
       "      <td>1533.479201</td>\n",
       "      <td>110000</td>\n",
       "      <td>3204</td>\n",
       "      <td>0.5</td>\n",
       "      <td>0.5</td>\n",
       "    </tr>\n",
       "    <tr>\n",
       "      <th>K55206C95800</th>\n",
       "      <td>키움키워드림TDF2030증권투자신탁 1[혼합-재간접형]C-P2e(퇴직연금)</td>\n",
       "      <td>1373.908442</td>\n",
       "      <td>-110000</td>\n",
       "      <td>3576</td>\n",
       "      <td>0.5</td>\n",
       "      <td>0.5</td>\n",
       "    </tr>\n",
       "  </tbody>\n",
       "</table>\n",
       "</div>"
      ],
      "text/plain": [
       "                                                              name  \\\n",
       "date       ticker                                                    \n",
       "2024-06-19 K55301BU6139            미래에셋전략배분TDF2035혼합자산자투자신탁종류C-P2e   \n",
       "           K55206C95800  키움키워드림TDF2030증권투자신탁 1[혼합-재간접형]C-P2e(퇴직연금)   \n",
       "2024-11-29 K55301BU6139            미래에셋전략배분TDF2035혼합자산자투자신탁종류C-P2e   \n",
       "           K55206C95800  키움키워드림TDF2030증권투자신탁 1[혼합-재간접형]C-P2e(퇴직연금)   \n",
       "\n",
       "                               price  transaction   net  weight  weight*  \n",
       "date       ticker                                                         \n",
       "2024-06-19 K55301BU6139  1481.310000         3132  3132     0.5      0.5  \n",
       "           K55206C95800  1280.950000         3657  3657     0.5      0.5  \n",
       "2024-11-29 K55301BU6139  1533.479201       110000  3204     0.5      0.5  \n",
       "           K55206C95800  1373.908442      -110000  3576     0.5      0.5  "
      ]
     },
     "execution_count": 8,
     "metadata": {},
     "output_type": "execute_result"
    }
   ],
   "source": [
    "pf_tdf.record"
   ]
  },
  {
   "cell_type": "code",
   "execution_count": 16,
   "id": "15f5f814-4f26-4ae9-a1c9-295dca029a71",
   "metadata": {},
   "outputs": [
    {
     "name": "stdout",
     "output_type": "stream",
     "text": [
      "Liquidation set to None\n",
      "2 tickers selected by Selected from 2024-11-29 to 2024-11-29\n",
      "Weights of tickers determined by Equal weights.\n",
      "Mean absolute error of weights: 0 %\n",
      "ROI: 5.1%, UGL: 480,000  (2024-11-29)\n",
      "All transactions saved to pf_tdf_static_241129.csv\n"
     ]
    },
    {
     "data": {
      "text/html": [
       "<div>\n",
       "<style scoped>\n",
       "    .dataframe tbody tr th:only-of-type {\n",
       "        vertical-align: middle;\n",
       "    }\n",
       "\n",
       "    .dataframe tbody tr th {\n",
       "        vertical-align: top;\n",
       "    }\n",
       "\n",
       "    .dataframe thead th {\n",
       "        text-align: right;\n",
       "    }\n",
       "</style>\n",
       "<table border=\"1\" class=\"dataframe\">\n",
       "  <thead>\n",
       "    <tr style=\"text-align: right;\">\n",
       "      <th></th>\n",
       "      <th></th>\n",
       "      <th>name</th>\n",
       "      <th>price</th>\n",
       "      <th>transaction</th>\n",
       "      <th>net</th>\n",
       "      <th>weight</th>\n",
       "      <th>weight*</th>\n",
       "    </tr>\n",
       "    <tr>\n",
       "      <th>date</th>\n",
       "      <th>ticker</th>\n",
       "      <th></th>\n",
       "      <th></th>\n",
       "      <th></th>\n",
       "      <th></th>\n",
       "      <th></th>\n",
       "      <th></th>\n",
       "    </tr>\n",
       "  </thead>\n",
       "  <tbody>\n",
       "    <tr>\n",
       "      <th rowspan=\"2\" valign=\"top\">2024-06-19</th>\n",
       "      <th>K55301BU6139</th>\n",
       "      <td>미래에셋전략배분TDF2035혼합자산자투자신탁종류C-P2e</td>\n",
       "      <td>1481</td>\n",
       "      <td>4,638,492</td>\n",
       "      <td>4,638,492</td>\n",
       "      <td>0.5</td>\n",
       "      <td>0.5</td>\n",
       "    </tr>\n",
       "    <tr>\n",
       "      <th>K55206C95800</th>\n",
       "      <td>키움키워드림TDF2030증권투자신탁 1[혼합-재간접형]C-P2e(퇴직연금)</td>\n",
       "      <td>1280</td>\n",
       "      <td>4,680,960</td>\n",
       "      <td>4,680,960</td>\n",
       "      <td>0.5</td>\n",
       "      <td>0.5</td>\n",
       "    </tr>\n",
       "    <tr>\n",
       "      <th rowspan=\"2\" valign=\"top\">2024-11-29</th>\n",
       "      <th>K55301BU6139</th>\n",
       "      <td>미래에셋전략배분TDF2035혼합자산자투자신탁종류C-P2e</td>\n",
       "      <td>1533</td>\n",
       "      <td>110,376</td>\n",
       "      <td>4,911,732</td>\n",
       "      <td>0.500</td>\n",
       "      <td>0.5000</td>\n",
       "    </tr>\n",
       "    <tr>\n",
       "      <th>K55206C95800</th>\n",
       "      <td>키움키워드림TDF2030증권투자신탁 1[혼합-재간접형]C-P2e(퇴직연금)</td>\n",
       "      <td>1373</td>\n",
       "      <td>-111,213</td>\n",
       "      <td>4,909,848</td>\n",
       "      <td>0.500</td>\n",
       "      <td>0.5000</td>\n",
       "    </tr>\n",
       "  </tbody>\n",
       "</table>\n",
       "</div>"
      ],
      "text/plain": [
       "                                                              name  price  \\\n",
       "date       ticker                                                           \n",
       "2024-06-19 K55301BU6139            미래에셋전략배분TDF2035혼합자산자투자신탁종류C-P2e   1481   \n",
       "           K55206C95800  키움키워드림TDF2030증권투자신탁 1[혼합-재간접형]C-P2e(퇴직연금)   1280   \n",
       "2024-11-29 K55301BU6139            미래에셋전략배분TDF2035혼합자산자투자신탁종류C-P2e   1533   \n",
       "           K55206C95800  키움키워드림TDF2030증권투자신탁 1[혼합-재간접형]C-P2e(퇴직연금)   1373   \n",
       "\n",
       "                        transaction        net weight weight*  \n",
       "date       ticker                                              \n",
       "2024-06-19 K55301BU6139   4,638,492  4,638,492    0.5     0.5  \n",
       "           K55206C95800   4,680,960  4,680,960    0.5     0.5  \n",
       "2024-11-29 K55301BU6139     110,376  4,911,732  0.500  0.5000  \n",
       "           K55206C95800    -111,213  4,909,848  0.500  0.5000  "
      ]
     },
     "execution_count": 16,
     "metadata": {},
     "output_type": "execute_result"
    }
   ],
   "source": [
    "kwargs = dict(\n",
    "    date = WidgetTransaction.values(0),\n",
    "    capital = WidgetTransaction.values(1),\n",
    "    save = True\n",
    ")\n",
    "_ = pf_tdf.transaction_pipeline(**kwargs)\n",
    "\n",
    "pf_tdf.view_record(amount=True)"
   ]
  },
  {
   "cell_type": "code",
   "execution_count": 15,
   "id": "74c19d30-65bb-4732-9f6f-7902d24f2e4d",
   "metadata": {},
   "outputs": [
    {
     "data": {
      "text/html": [
       "<div>\n",
       "<style scoped>\n",
       "    .dataframe tbody tr th:only-of-type {\n",
       "        vertical-align: middle;\n",
       "    }\n",
       "\n",
       "    .dataframe tbody tr th {\n",
       "        vertical-align: top;\n",
       "    }\n",
       "\n",
       "    .dataframe thead th {\n",
       "        text-align: right;\n",
       "    }\n",
       "</style>\n",
       "<table border=\"1\" class=\"dataframe\">\n",
       "  <thead>\n",
       "    <tr style=\"text-align: right;\">\n",
       "      <th></th>\n",
       "      <th></th>\n",
       "      <th>name</th>\n",
       "      <th>price</th>\n",
       "      <th>transaction</th>\n",
       "      <th>net</th>\n",
       "      <th>weight</th>\n",
       "      <th>weight*</th>\n",
       "    </tr>\n",
       "    <tr>\n",
       "      <th>date</th>\n",
       "      <th>ticker</th>\n",
       "      <th></th>\n",
       "      <th></th>\n",
       "      <th></th>\n",
       "      <th></th>\n",
       "      <th></th>\n",
       "      <th></th>\n",
       "    </tr>\n",
       "  </thead>\n",
       "  <tbody>\n",
       "    <tr>\n",
       "      <th rowspan=\"2\" valign=\"top\">2024-06-19</th>\n",
       "      <th>K55301BU6139</th>\n",
       "      <td>미래에셋전략배분TDF2035혼합자산자투자신탁종류C-P2e</td>\n",
       "      <td>1481</td>\n",
       "      <td>3132</td>\n",
       "      <td>3132</td>\n",
       "      <td>0.5</td>\n",
       "      <td>0.5</td>\n",
       "    </tr>\n",
       "    <tr>\n",
       "      <th>K55206C95800</th>\n",
       "      <td>키움키워드림TDF2030증권투자신탁 1[혼합-재간접형]C-P2e(퇴직연금)</td>\n",
       "      <td>1280</td>\n",
       "      <td>3657</td>\n",
       "      <td>3657</td>\n",
       "      <td>0.5</td>\n",
       "      <td>0.5</td>\n",
       "    </tr>\n",
       "    <tr>\n",
       "      <th rowspan=\"2\" valign=\"top\">2024-11-29</th>\n",
       "      <th>K55301BU6139</th>\n",
       "      <td>미래에셋전략배분TDF2035혼합자산자투자신탁종류C-P2e</td>\n",
       "      <td>1533</td>\n",
       "      <td>72</td>\n",
       "      <td>3204</td>\n",
       "      <td>0.500</td>\n",
       "      <td>0.5000</td>\n",
       "    </tr>\n",
       "    <tr>\n",
       "      <th>K55206C95800</th>\n",
       "      <td>키움키워드림TDF2030증권투자신탁 1[혼합-재간접형]C-P2e(퇴직연금)</td>\n",
       "      <td>1373</td>\n",
       "      <td>-81</td>\n",
       "      <td>3576</td>\n",
       "      <td>0.500</td>\n",
       "      <td>0.5000</td>\n",
       "    </tr>\n",
       "  </tbody>\n",
       "</table>\n",
       "</div>"
      ],
      "text/plain": [
       "                                                              name  price  \\\n",
       "date       ticker                                                           \n",
       "2024-06-19 K55301BU6139            미래에셋전략배분TDF2035혼합자산자투자신탁종류C-P2e   1481   \n",
       "           K55206C95800  키움키워드림TDF2030증권투자신탁 1[혼합-재간접형]C-P2e(퇴직연금)   1280   \n",
       "2024-11-29 K55301BU6139            미래에셋전략배분TDF2035혼합자산자투자신탁종류C-P2e   1533   \n",
       "           K55206C95800  키움키워드림TDF2030증권투자신탁 1[혼합-재간접형]C-P2e(퇴직연금)   1373   \n",
       "\n",
       "                         transaction   net weight weight*  \n",
       "date       ticker                                          \n",
       "2024-06-19 K55301BU6139         3132  3132    0.5     0.5  \n",
       "           K55206C95800         3657  3657    0.5     0.5  \n",
       "2024-11-29 K55301BU6139           72  3204  0.500  0.5000  \n",
       "           K55206C95800          -81  3576  0.500  0.5000  "
      ]
     },
     "execution_count": 15,
     "metadata": {},
     "output_type": "execute_result"
    }
   ],
   "source": [
    "pf_tdf.view_record()"
   ]
  },
  {
   "cell_type": "code",
   "execution_count": 142,
   "id": "329f1e70-8456-4bbf-9b47-89d1745bdaf8",
   "metadata": {},
   "outputs": [],
   "source": [
    "def update_transaction(self, save=False):\n",
    "    df_rec = self._check_result()\n",
    "    if df_rec is None:\n",
    "        return None\n",
    "    \n",
    "    cols_record = self.cols_record\n",
    "    col_date = cols_record['date']\n",
    "    col_tkr = cols_record['tkr']\n",
    "    col_prc = cols_record['prc']\n",
    "    col_trs = cols_record['trs']\n",
    "    col_net = cols_record['net']\n",
    "    \n",
    "    date = df_rec.index.get_level_values(0).max()\n",
    "    idx = pd.IndexSlice\n",
    "    sr_n = df_rec.loc[idx[date, :], :].apply(lambda x: x[col_trs] / x[col_prc], axis=1).astype(int)\n",
    "    if sr_n.abs().min() < 1:\n",
    "        return print('ERROR: Make sure the transaction is amount not number of shares')\n",
    "    df_rec.loc[idx[date, :], col_trs] = sr_n\n",
    "    df_rec.loc[idx[date, :], col_net] = (df_rec.loc[:, col_trs].groupby(col_tkr).sum().to_frame(col_net)\n",
    "                                         .assign(**{col_date:date}).set_index(col_date, append=True).swaplevel())\n",
    "    return df_rec"
   ]
  },
  {
   "cell_type": "code",
   "execution_count": 143,
   "id": "b56db055-af00-4d9a-bead-44073d873b57",
   "metadata": {},
   "outputs": [
    {
     "name": "stdout",
     "output_type": "stream",
     "text": [
      "201 securities from 2021-01-04 to 2024-12-02 uploaded.\n",
      "df_prices loaded\n",
      "Transaction record to 2024-10-02 loaded\n"
     ]
    },
    {
     "data": {
      "text/html": [
       "<div>\n",
       "<style scoped>\n",
       "    .dataframe tbody tr th:only-of-type {\n",
       "        vertical-align: middle;\n",
       "    }\n",
       "\n",
       "    .dataframe tbody tr th {\n",
       "        vertical-align: top;\n",
       "    }\n",
       "\n",
       "    .dataframe thead th {\n",
       "        text-align: right;\n",
       "    }\n",
       "</style>\n",
       "<table border=\"1\" class=\"dataframe\">\n",
       "  <thead>\n",
       "    <tr style=\"text-align: right;\">\n",
       "      <th></th>\n",
       "      <th></th>\n",
       "      <th>name</th>\n",
       "      <th>price</th>\n",
       "      <th>transaction</th>\n",
       "      <th>net</th>\n",
       "      <th>weight</th>\n",
       "      <th>weight*</th>\n",
       "    </tr>\n",
       "    <tr>\n",
       "      <th>date</th>\n",
       "      <th>ticker</th>\n",
       "      <th></th>\n",
       "      <th></th>\n",
       "      <th></th>\n",
       "      <th></th>\n",
       "      <th></th>\n",
       "      <th></th>\n",
       "    </tr>\n",
       "  </thead>\n",
       "  <tbody>\n",
       "    <tr>\n",
       "      <th rowspan=\"9\" valign=\"top\">2024-08-01</th>\n",
       "      <th>078860</th>\n",
       "      <td>엔에스이엔엠</td>\n",
       "      <td>10080</td>\n",
       "      <td>-217</td>\n",
       "      <td>109</td>\n",
       "      <td>0.2</td>\n",
       "      <td>0.2056</td>\n",
       "    </tr>\n",
       "    <tr>\n",
       "      <th>016670</th>\n",
       "      <td>디모아</td>\n",
       "      <td>7070</td>\n",
       "      <td>156</td>\n",
       "      <td>156</td>\n",
       "      <td>0.2</td>\n",
       "      <td>0.2064</td>\n",
       "    </tr>\n",
       "    <tr>\n",
       "      <th>159910</th>\n",
       "      <td>스킨앤스킨</td>\n",
       "      <td>1070</td>\n",
       "      <td>1034</td>\n",
       "      <td>1034</td>\n",
       "      <td>0.2</td>\n",
       "      <td>0.2070</td>\n",
       "    </tr>\n",
       "    <tr>\n",
       "      <th>089030</th>\n",
       "      <td>테크윙</td>\n",
       "      <td>51400</td>\n",
       "      <td>21</td>\n",
       "      <td>21</td>\n",
       "      <td>0.2</td>\n",
       "      <td>0.2020</td>\n",
       "    </tr>\n",
       "    <tr>\n",
       "      <th>196170</th>\n",
       "      <td>알테오젠</td>\n",
       "      <td>319000</td>\n",
       "      <td>3</td>\n",
       "      <td>3</td>\n",
       "      <td>0.2</td>\n",
       "      <td>0.1791</td>\n",
       "    </tr>\n",
       "    <tr>\n",
       "      <th>042700</th>\n",
       "      <td>한미반도체</td>\n",
       "      <td>127300</td>\n",
       "      <td>-10</td>\n",
       "      <td>0</td>\n",
       "      <td>NaN</td>\n",
       "      <td>0.0000</td>\n",
       "    </tr>\n",
       "    <tr>\n",
       "      <th>065350</th>\n",
       "      <td>신성델타테크</td>\n",
       "      <td>53800</td>\n",
       "      <td>-21</td>\n",
       "      <td>0</td>\n",
       "      <td>NaN</td>\n",
       "      <td>0.0000</td>\n",
       "    </tr>\n",
       "    <tr>\n",
       "      <th>066790</th>\n",
       "      <td>씨씨에스</td>\n",
       "      <td>2850</td>\n",
       "      <td>-505</td>\n",
       "      <td>0</td>\n",
       "      <td>NaN</td>\n",
       "      <td>0.0000</td>\n",
       "    </tr>\n",
       "    <tr>\n",
       "      <th>139050</th>\n",
       "      <td>BF랩스</td>\n",
       "      <td>2805</td>\n",
       "      <td>-530</td>\n",
       "      <td>0</td>\n",
       "      <td>NaN</td>\n",
       "      <td>0.0000</td>\n",
       "    </tr>\n",
       "    <tr>\n",
       "      <th rowspan=\"6\" valign=\"top\">2024-10-02</th>\n",
       "      <th>078860</th>\n",
       "      <td>엔에스이엔엠</td>\n",
       "      <td>9700</td>\n",
       "      <td>291000</td>\n",
       "      <td>139</td>\n",
       "      <td>0.2</td>\n",
       "      <td>0.2000</td>\n",
       "    </tr>\n",
       "    <tr>\n",
       "      <th>016670</th>\n",
       "      <td>디모아</td>\n",
       "      <td>4725</td>\n",
       "      <td>614250</td>\n",
       "      <td>286</td>\n",
       "      <td>0.2</td>\n",
       "      <td>0.2004</td>\n",
       "    </tr>\n",
       "    <tr>\n",
       "      <th>033790</th>\n",
       "      <td>피노</td>\n",
       "      <td>9090</td>\n",
       "      <td>1345320</td>\n",
       "      <td>148</td>\n",
       "      <td>0.2</td>\n",
       "      <td>0.1995</td>\n",
       "    </tr>\n",
       "    <tr>\n",
       "      <th>159910</th>\n",
       "      <td>스킨앤스킨</td>\n",
       "      <td>761</td>\n",
       "      <td>566184</td>\n",
       "      <td>1778</td>\n",
       "      <td>0.2</td>\n",
       "      <td>0.2007</td>\n",
       "    </tr>\n",
       "    <tr>\n",
       "      <th>196170</th>\n",
       "      <td>알테오젠</td>\n",
       "      <td>336000</td>\n",
       "      <td>336000</td>\n",
       "      <td>4</td>\n",
       "      <td>0.2</td>\n",
       "      <td>0.1993</td>\n",
       "    </tr>\n",
       "    <tr>\n",
       "      <th>089030</th>\n",
       "      <td>테크윙</td>\n",
       "      <td>36500</td>\n",
       "      <td>-766500</td>\n",
       "      <td>0</td>\n",
       "      <td>NaN</td>\n",
       "      <td>0.0000</td>\n",
       "    </tr>\n",
       "  </tbody>\n",
       "</table>\n",
       "</div>"
      ],
      "text/plain": [
       "                     name   price  transaction   net  weight  weight*\n",
       "date       ticker                                                    \n",
       "2024-08-01 078860  엔에스이엔엠   10080         -217   109     0.2   0.2056\n",
       "           016670     디모아    7070          156   156     0.2   0.2064\n",
       "           159910   스킨앤스킨    1070         1034  1034     0.2   0.2070\n",
       "           089030     테크윙   51400           21    21     0.2   0.2020\n",
       "           196170    알테오젠  319000            3     3     0.2   0.1791\n",
       "           042700   한미반도체  127300          -10     0     NaN   0.0000\n",
       "           065350  신성델타테크   53800          -21     0     NaN   0.0000\n",
       "           066790    씨씨에스    2850         -505     0     NaN   0.0000\n",
       "           139050    BF랩스    2805         -530     0     NaN   0.0000\n",
       "2024-10-02 078860  엔에스이엔엠    9700       291000   139     0.2   0.2000\n",
       "           016670     디모아    4725       614250   286     0.2   0.2004\n",
       "           033790      피노    9090      1345320   148     0.2   0.1995\n",
       "           159910   스킨앤스킨     761       566184  1778     0.2   0.2007\n",
       "           196170    알테오젠  336000       336000     4     0.2   0.1993\n",
       "           089030     테크윙   36500      -766500     0     NaN   0.0000"
      ]
     },
     "execution_count": 143,
     "metadata": {},
     "output_type": "execute_result"
    }
   ],
   "source": [
    "pf_mmt = PM.create_portfolio('MMT', file='test_pf_krx_momentum')\n",
    "pf_mmt.view_record(-2)"
   ]
  },
  {
   "cell_type": "code",
   "execution_count": 135,
   "id": "5ae0f3e6-fc08-4817-b70e-58c8d6f45c8b",
   "metadata": {},
   "outputs": [
    {
     "data": {
      "text/plain": [
       "ticker\n",
       "078860     291000\n",
       "016670     614250\n",
       "033790    1345320\n",
       "159910     566184\n",
       "196170     336000\n",
       "089030    -766500\n",
       "dtype: int64"
      ]
     },
     "execution_count": 135,
     "metadata": {},
     "output_type": "execute_result"
    }
   ],
   "source": [
    "pf_mmt.record.loc['2024-10-02'].apply(lambda x: x['transaction'] * x['price'], axis=1)"
   ]
  },
  {
   "cell_type": "code",
   "execution_count": 144,
   "id": "ce5e08f2-1b87-4d7e-bcfc-ccf4e5f07af1",
   "metadata": {},
   "outputs": [
    {
     "data": {
      "text/html": [
       "<div>\n",
       "<style scoped>\n",
       "    .dataframe tbody tr th:only-of-type {\n",
       "        vertical-align: middle;\n",
       "    }\n",
       "\n",
       "    .dataframe tbody tr th {\n",
       "        vertical-align: top;\n",
       "    }\n",
       "\n",
       "    .dataframe thead th {\n",
       "        text-align: right;\n",
       "    }\n",
       "</style>\n",
       "<table border=\"1\" class=\"dataframe\">\n",
       "  <thead>\n",
       "    <tr style=\"text-align: right;\">\n",
       "      <th></th>\n",
       "      <th></th>\n",
       "      <th>name</th>\n",
       "      <th>price</th>\n",
       "      <th>transaction</th>\n",
       "      <th>net</th>\n",
       "      <th>weight</th>\n",
       "      <th>weight*</th>\n",
       "    </tr>\n",
       "    <tr>\n",
       "      <th>date</th>\n",
       "      <th>ticker</th>\n",
       "      <th></th>\n",
       "      <th></th>\n",
       "      <th></th>\n",
       "      <th></th>\n",
       "      <th></th>\n",
       "      <th></th>\n",
       "    </tr>\n",
       "  </thead>\n",
       "  <tbody>\n",
       "    <tr>\n",
       "      <th rowspan=\"5\" valign=\"top\">2023-09-27</th>\n",
       "      <th>152550</th>\n",
       "      <td>한국ANKOR유전</td>\n",
       "      <td>407</td>\n",
       "      <td>4914</td>\n",
       "      <td>4914</td>\n",
       "      <td>0.2</td>\n",
       "      <td>0.2021</td>\n",
       "    </tr>\n",
       "    <tr>\n",
       "      <th>006740</th>\n",
       "      <td>영풍제지</td>\n",
       "      <td>47750</td>\n",
       "      <td>41</td>\n",
       "      <td>41</td>\n",
       "      <td>0.2</td>\n",
       "      <td>0.1979</td>\n",
       "    </tr>\n",
       "    <tr>\n",
       "      <th>139050</th>\n",
       "      <td>BF랩스</td>\n",
       "      <td>7550</td>\n",
       "      <td>264</td>\n",
       "      <td>264</td>\n",
       "      <td>0.2</td>\n",
       "      <td>0.2015</td>\n",
       "    </tr>\n",
       "    <tr>\n",
       "      <th>011810</th>\n",
       "      <td>STX</td>\n",
       "      <td>18789</td>\n",
       "      <td>106</td>\n",
       "      <td>106</td>\n",
       "      <td>0.2</td>\n",
       "      <td>0.2013</td>\n",
       "    </tr>\n",
       "    <tr>\n",
       "      <th>022100</th>\n",
       "      <td>포스코DX</td>\n",
       "      <td>54200</td>\n",
       "      <td>36</td>\n",
       "      <td>36</td>\n",
       "      <td>0.2</td>\n",
       "      <td>0.1972</td>\n",
       "    </tr>\n",
       "    <tr>\n",
       "      <th rowspan=\"7\" valign=\"top\">2023-12-01</th>\n",
       "      <th>152550</th>\n",
       "      <td>한국ANKOR유전</td>\n",
       "      <td>361</td>\n",
       "      <td>567</td>\n",
       "      <td>5481</td>\n",
       "      <td>0.2</td>\n",
       "      <td>0.2011</td>\n",
       "    </tr>\n",
       "    <tr>\n",
       "      <th>139050</th>\n",
       "      <td>BF랩스</td>\n",
       "      <td>7320</td>\n",
       "      <td>6</td>\n",
       "      <td>270</td>\n",
       "      <td>0.2</td>\n",
       "      <td>0.2009</td>\n",
       "    </tr>\n",
       "    <tr>\n",
       "      <th>022100</th>\n",
       "      <td>포스코DX</td>\n",
       "      <td>52700</td>\n",
       "      <td>1</td>\n",
       "      <td>37</td>\n",
       "      <td>0.2</td>\n",
       "      <td>0.1982</td>\n",
       "    </tr>\n",
       "    <tr>\n",
       "      <th>066790</th>\n",
       "      <td>씨씨에스</td>\n",
       "      <td>2090</td>\n",
       "      <td>946</td>\n",
       "      <td>946</td>\n",
       "      <td>0.2</td>\n",
       "      <td>0.2010</td>\n",
       "    </tr>\n",
       "    <tr>\n",
       "      <th>002710</th>\n",
       "      <td>TCC스틸</td>\n",
       "      <td>54300</td>\n",
       "      <td>36</td>\n",
       "      <td>36</td>\n",
       "      <td>0.2</td>\n",
       "      <td>0.1987</td>\n",
       "    </tr>\n",
       "    <tr>\n",
       "      <th>006740</th>\n",
       "      <td>영풍제지</td>\n",
       "      <td>3010</td>\n",
       "      <td>-41</td>\n",
       "      <td>0</td>\n",
       "      <td>NaN</td>\n",
       "      <td>0.0000</td>\n",
       "    </tr>\n",
       "    <tr>\n",
       "      <th>011810</th>\n",
       "      <td>STX</td>\n",
       "      <td>18930</td>\n",
       "      <td>-106</td>\n",
       "      <td>0</td>\n",
       "      <td>NaN</td>\n",
       "      <td>0.0000</td>\n",
       "    </tr>\n",
       "    <tr>\n",
       "      <th rowspan=\"8\" valign=\"top\">2024-02-01</th>\n",
       "      <th>139050</th>\n",
       "      <td>BF랩스</td>\n",
       "      <td>7240</td>\n",
       "      <td>-57</td>\n",
       "      <td>213</td>\n",
       "      <td>0.2</td>\n",
       "      <td>0.2018</td>\n",
       "    </tr>\n",
       "    <tr>\n",
       "      <th>022100</th>\n",
       "      <td>포스코DX</td>\n",
       "      <td>59000</td>\n",
       "      <td>-11</td>\n",
       "      <td>26</td>\n",
       "      <td>0.2</td>\n",
       "      <td>0.2007</td>\n",
       "    </tr>\n",
       "    <tr>\n",
       "      <th>078860</th>\n",
       "      <td>엔에스이엔엠</td>\n",
       "      <td>3265</td>\n",
       "      <td>473</td>\n",
       "      <td>473</td>\n",
       "      <td>0.2</td>\n",
       "      <td>0.2021</td>\n",
       "    </tr>\n",
       "    <tr>\n",
       "      <th>065350</th>\n",
       "      <td>신성델타테크</td>\n",
       "      <td>74200</td>\n",
       "      <td>20</td>\n",
       "      <td>20</td>\n",
       "      <td>0.2</td>\n",
       "      <td>0.1942</td>\n",
       "    </tr>\n",
       "    <tr>\n",
       "      <th>091440</th>\n",
       "      <td>한울소재과학</td>\n",
       "      <td>11920</td>\n",
       "      <td>129</td>\n",
       "      <td>129</td>\n",
       "      <td>0.2</td>\n",
       "      <td>0.2012</td>\n",
       "    </tr>\n",
       "    <tr>\n",
       "      <th>002710</th>\n",
       "      <td>TCC스틸</td>\n",
       "      <td>49650</td>\n",
       "      <td>-36</td>\n",
       "      <td>0</td>\n",
       "      <td>NaN</td>\n",
       "      <td>0.0000</td>\n",
       "    </tr>\n",
       "    <tr>\n",
       "      <th>066790</th>\n",
       "      <td>씨씨에스</td>\n",
       "      <td>1000</td>\n",
       "      <td>-946</td>\n",
       "      <td>0</td>\n",
       "      <td>NaN</td>\n",
       "      <td>0.0000</td>\n",
       "    </tr>\n",
       "    <tr>\n",
       "      <th>152550</th>\n",
       "      <td>한국ANKOR유전</td>\n",
       "      <td>367</td>\n",
       "      <td>-5481</td>\n",
       "      <td>0</td>\n",
       "      <td>NaN</td>\n",
       "      <td>0.0000</td>\n",
       "    </tr>\n",
       "    <tr>\n",
       "      <th rowspan=\"6\" valign=\"top\">2024-04-01</th>\n",
       "      <th>139050</th>\n",
       "      <td>BF랩스</td>\n",
       "      <td>4630</td>\n",
       "      <td>79</td>\n",
       "      <td>292</td>\n",
       "      <td>0.2</td>\n",
       "      <td>0.2003</td>\n",
       "    </tr>\n",
       "    <tr>\n",
       "      <th>066790</th>\n",
       "      <td>씨씨에스</td>\n",
       "      <td>4945</td>\n",
       "      <td>274</td>\n",
       "      <td>274</td>\n",
       "      <td>0.2</td>\n",
       "      <td>0.2007</td>\n",
       "    </tr>\n",
       "    <tr>\n",
       "      <th>065350</th>\n",
       "      <td>신성델타테크</td>\n",
       "      <td>111700</td>\n",
       "      <td>-8</td>\n",
       "      <td>12</td>\n",
       "      <td>0.2</td>\n",
       "      <td>0.1985</td>\n",
       "    </tr>\n",
       "    <tr>\n",
       "      <th>022100</th>\n",
       "      <td>포스코DX</td>\n",
       "      <td>48150</td>\n",
       "      <td>2</td>\n",
       "      <td>28</td>\n",
       "      <td>0.2</td>\n",
       "      <td>0.1997</td>\n",
       "    </tr>\n",
       "    <tr>\n",
       "      <th>078860</th>\n",
       "      <td>엔에스이엔엠</td>\n",
       "      <td>4460</td>\n",
       "      <td>-169</td>\n",
       "      <td>304</td>\n",
       "      <td>0.2</td>\n",
       "      <td>0.2008</td>\n",
       "    </tr>\n",
       "    <tr>\n",
       "      <th>091440</th>\n",
       "      <td>한울소재과학</td>\n",
       "      <td>13360</td>\n",
       "      <td>-129</td>\n",
       "      <td>0</td>\n",
       "      <td>NaN</td>\n",
       "      <td>0.0000</td>\n",
       "    </tr>\n",
       "    <tr>\n",
       "      <th rowspan=\"6\" valign=\"top\">2024-06-03</th>\n",
       "      <th>078860</th>\n",
       "      <td>엔에스이엔엠</td>\n",
       "      <td>4560</td>\n",
       "      <td>22</td>\n",
       "      <td>326</td>\n",
       "      <td>0.2</td>\n",
       "      <td>0.2014</td>\n",
       "    </tr>\n",
       "    <tr>\n",
       "      <th>042700</th>\n",
       "      <td>한미반도체</td>\n",
       "      <td>146700</td>\n",
       "      <td>10</td>\n",
       "      <td>10</td>\n",
       "      <td>0.2</td>\n",
       "      <td>0.1988</td>\n",
       "    </tr>\n",
       "    <tr>\n",
       "      <th>139050</th>\n",
       "      <td>BF랩스</td>\n",
       "      <td>2805</td>\n",
       "      <td>238</td>\n",
       "      <td>530</td>\n",
       "      <td>0.2</td>\n",
       "      <td>0.2014</td>\n",
       "    </tr>\n",
       "    <tr>\n",
       "      <th>065350</th>\n",
       "      <td>신성델타테크</td>\n",
       "      <td>69200</td>\n",
       "      <td>9</td>\n",
       "      <td>21</td>\n",
       "      <td>0.2</td>\n",
       "      <td>0.1969</td>\n",
       "    </tr>\n",
       "    <tr>\n",
       "      <th>066790</th>\n",
       "      <td>씨씨에스</td>\n",
       "      <td>2945</td>\n",
       "      <td>231</td>\n",
       "      <td>505</td>\n",
       "      <td>0.2</td>\n",
       "      <td>0.2015</td>\n",
       "    </tr>\n",
       "    <tr>\n",
       "      <th>022100</th>\n",
       "      <td>포스코DX</td>\n",
       "      <td>35650</td>\n",
       "      <td>-28</td>\n",
       "      <td>0</td>\n",
       "      <td>NaN</td>\n",
       "      <td>0.0000</td>\n",
       "    </tr>\n",
       "    <tr>\n",
       "      <th rowspan=\"9\" valign=\"top\">2024-08-01</th>\n",
       "      <th>078860</th>\n",
       "      <td>엔에스이엔엠</td>\n",
       "      <td>10080</td>\n",
       "      <td>-217</td>\n",
       "      <td>109</td>\n",
       "      <td>0.2</td>\n",
       "      <td>0.2056</td>\n",
       "    </tr>\n",
       "    <tr>\n",
       "      <th>016670</th>\n",
       "      <td>디모아</td>\n",
       "      <td>7070</td>\n",
       "      <td>156</td>\n",
       "      <td>156</td>\n",
       "      <td>0.2</td>\n",
       "      <td>0.2064</td>\n",
       "    </tr>\n",
       "    <tr>\n",
       "      <th>159910</th>\n",
       "      <td>스킨앤스킨</td>\n",
       "      <td>1070</td>\n",
       "      <td>1034</td>\n",
       "      <td>1034</td>\n",
       "      <td>0.2</td>\n",
       "      <td>0.2070</td>\n",
       "    </tr>\n",
       "    <tr>\n",
       "      <th>089030</th>\n",
       "      <td>테크윙</td>\n",
       "      <td>51400</td>\n",
       "      <td>21</td>\n",
       "      <td>21</td>\n",
       "      <td>0.2</td>\n",
       "      <td>0.2020</td>\n",
       "    </tr>\n",
       "    <tr>\n",
       "      <th>196170</th>\n",
       "      <td>알테오젠</td>\n",
       "      <td>319000</td>\n",
       "      <td>3</td>\n",
       "      <td>3</td>\n",
       "      <td>0.2</td>\n",
       "      <td>0.1791</td>\n",
       "    </tr>\n",
       "    <tr>\n",
       "      <th>042700</th>\n",
       "      <td>한미반도체</td>\n",
       "      <td>127300</td>\n",
       "      <td>-10</td>\n",
       "      <td>0</td>\n",
       "      <td>NaN</td>\n",
       "      <td>0.0000</td>\n",
       "    </tr>\n",
       "    <tr>\n",
       "      <th>065350</th>\n",
       "      <td>신성델타테크</td>\n",
       "      <td>53800</td>\n",
       "      <td>-21</td>\n",
       "      <td>0</td>\n",
       "      <td>NaN</td>\n",
       "      <td>0.0000</td>\n",
       "    </tr>\n",
       "    <tr>\n",
       "      <th>066790</th>\n",
       "      <td>씨씨에스</td>\n",
       "      <td>2850</td>\n",
       "      <td>-505</td>\n",
       "      <td>0</td>\n",
       "      <td>NaN</td>\n",
       "      <td>0.0000</td>\n",
       "    </tr>\n",
       "    <tr>\n",
       "      <th>139050</th>\n",
       "      <td>BF랩스</td>\n",
       "      <td>2805</td>\n",
       "      <td>-530</td>\n",
       "      <td>0</td>\n",
       "      <td>NaN</td>\n",
       "      <td>0.0000</td>\n",
       "    </tr>\n",
       "    <tr>\n",
       "      <th rowspan=\"6\" valign=\"top\">2024-10-02</th>\n",
       "      <th>078860</th>\n",
       "      <td>엔에스이엔엠</td>\n",
       "      <td>9700</td>\n",
       "      <td>30</td>\n",
       "      <td>139</td>\n",
       "      <td>0.2</td>\n",
       "      <td>0.2000</td>\n",
       "    </tr>\n",
       "    <tr>\n",
       "      <th>016670</th>\n",
       "      <td>디모아</td>\n",
       "      <td>4725</td>\n",
       "      <td>130</td>\n",
       "      <td>286</td>\n",
       "      <td>0.2</td>\n",
       "      <td>0.2004</td>\n",
       "    </tr>\n",
       "    <tr>\n",
       "      <th>033790</th>\n",
       "      <td>피노</td>\n",
       "      <td>9090</td>\n",
       "      <td>148</td>\n",
       "      <td>148</td>\n",
       "      <td>0.2</td>\n",
       "      <td>0.1995</td>\n",
       "    </tr>\n",
       "    <tr>\n",
       "      <th>159910</th>\n",
       "      <td>스킨앤스킨</td>\n",
       "      <td>761</td>\n",
       "      <td>744</td>\n",
       "      <td>1778</td>\n",
       "      <td>0.2</td>\n",
       "      <td>0.2007</td>\n",
       "    </tr>\n",
       "    <tr>\n",
       "      <th>196170</th>\n",
       "      <td>알테오젠</td>\n",
       "      <td>336000</td>\n",
       "      <td>1</td>\n",
       "      <td>4</td>\n",
       "      <td>0.2</td>\n",
       "      <td>0.1993</td>\n",
       "    </tr>\n",
       "    <tr>\n",
       "      <th>089030</th>\n",
       "      <td>테크윙</td>\n",
       "      <td>36500</td>\n",
       "      <td>-21</td>\n",
       "      <td>0</td>\n",
       "      <td>NaN</td>\n",
       "      <td>0.0000</td>\n",
       "    </tr>\n",
       "  </tbody>\n",
       "</table>\n",
       "</div>"
      ],
      "text/plain": [
       "                        name   price  transaction   net  weight  weight*\n",
       "date       ticker                                                       \n",
       "2023-09-27 152550  한국ANKOR유전     407         4914  4914     0.2   0.2021\n",
       "           006740       영풍제지   47750           41    41     0.2   0.1979\n",
       "           139050       BF랩스    7550          264   264     0.2   0.2015\n",
       "           011810        STX   18789          106   106     0.2   0.2013\n",
       "           022100      포스코DX   54200           36    36     0.2   0.1972\n",
       "2023-12-01 152550  한국ANKOR유전     361          567  5481     0.2   0.2011\n",
       "           139050       BF랩스    7320            6   270     0.2   0.2009\n",
       "           022100      포스코DX   52700            1    37     0.2   0.1982\n",
       "           066790       씨씨에스    2090          946   946     0.2   0.2010\n",
       "           002710      TCC스틸   54300           36    36     0.2   0.1987\n",
       "           006740       영풍제지    3010          -41     0     NaN   0.0000\n",
       "           011810        STX   18930         -106     0     NaN   0.0000\n",
       "2024-02-01 139050       BF랩스    7240          -57   213     0.2   0.2018\n",
       "           022100      포스코DX   59000          -11    26     0.2   0.2007\n",
       "           078860     엔에스이엔엠    3265          473   473     0.2   0.2021\n",
       "           065350     신성델타테크   74200           20    20     0.2   0.1942\n",
       "           091440     한울소재과학   11920          129   129     0.2   0.2012\n",
       "           002710      TCC스틸   49650          -36     0     NaN   0.0000\n",
       "           066790       씨씨에스    1000         -946     0     NaN   0.0000\n",
       "           152550  한국ANKOR유전     367        -5481     0     NaN   0.0000\n",
       "2024-04-01 139050       BF랩스    4630           79   292     0.2   0.2003\n",
       "           066790       씨씨에스    4945          274   274     0.2   0.2007\n",
       "           065350     신성델타테크  111700           -8    12     0.2   0.1985\n",
       "           022100      포스코DX   48150            2    28     0.2   0.1997\n",
       "           078860     엔에스이엔엠    4460         -169   304     0.2   0.2008\n",
       "           091440     한울소재과학   13360         -129     0     NaN   0.0000\n",
       "2024-06-03 078860     엔에스이엔엠    4560           22   326     0.2   0.2014\n",
       "           042700      한미반도체  146700           10    10     0.2   0.1988\n",
       "           139050       BF랩스    2805          238   530     0.2   0.2014\n",
       "           065350     신성델타테크   69200            9    21     0.2   0.1969\n",
       "           066790       씨씨에스    2945          231   505     0.2   0.2015\n",
       "           022100      포스코DX   35650          -28     0     NaN   0.0000\n",
       "2024-08-01 078860     엔에스이엔엠   10080         -217   109     0.2   0.2056\n",
       "           016670        디모아    7070          156   156     0.2   0.2064\n",
       "           159910      스킨앤스킨    1070         1034  1034     0.2   0.2070\n",
       "           089030        테크윙   51400           21    21     0.2   0.2020\n",
       "           196170       알테오젠  319000            3     3     0.2   0.1791\n",
       "           042700      한미반도체  127300          -10     0     NaN   0.0000\n",
       "           065350     신성델타테크   53800          -21     0     NaN   0.0000\n",
       "           066790       씨씨에스    2850         -505     0     NaN   0.0000\n",
       "           139050       BF랩스    2805         -530     0     NaN   0.0000\n",
       "2024-10-02 078860     엔에스이엔엠    9700           30   139     0.2   0.2000\n",
       "           016670        디모아    4725          130   286     0.2   0.2004\n",
       "           033790         피노    9090          148   148     0.2   0.1995\n",
       "           159910      스킨앤스킨     761          744  1778     0.2   0.2007\n",
       "           196170       알테오젠  336000            1     4     0.2   0.1993\n",
       "           089030        테크윙   36500          -21     0     NaN   0.0000"
      ]
     },
     "execution_count": 144,
     "metadata": {},
     "output_type": "execute_result"
    }
   ],
   "source": [
    "update_transaction(pf_mmt)"
   ]
  },
  {
   "cell_type": "code",
   "execution_count": 125,
   "id": "63df09ad-6a68-4b0c-b658-955d67e9fd4b",
   "metadata": {},
   "outputs": [
    {
     "name": "stdout",
     "output_type": "stream",
     "text": [
      "64 securities from 2008-11-28 to 2024-11-29 uploaded.\n",
      "WARNING: the number of days in a year with 64 tickers (100%) is 12 in avg.\n",
      "REMINDER: 64 equities converted to daily (days in year: 365)\n",
      "Daily metrics in Performance statistics must be meaningless\n",
      "df_prices loaded\n",
      "Cost data transaction_cost.csv loaded\n",
      "Transaction record to 2024-11-29 loaded\n"
     ]
    },
    {
     "data": {
      "text/html": [
       "<div>\n",
       "<style scoped>\n",
       "    .dataframe tbody tr th:only-of-type {\n",
       "        vertical-align: middle;\n",
       "    }\n",
       "\n",
       "    .dataframe tbody tr th {\n",
       "        vertical-align: top;\n",
       "    }\n",
       "\n",
       "    .dataframe thead th {\n",
       "        text-align: right;\n",
       "    }\n",
       "</style>\n",
       "<table border=\"1\" class=\"dataframe\">\n",
       "  <thead>\n",
       "    <tr style=\"text-align: right;\">\n",
       "      <th></th>\n",
       "      <th></th>\n",
       "      <th>name</th>\n",
       "      <th>price</th>\n",
       "      <th>transaction</th>\n",
       "      <th>net</th>\n",
       "      <th>weight</th>\n",
       "      <th>weight*</th>\n",
       "    </tr>\n",
       "    <tr>\n",
       "      <th>date</th>\n",
       "      <th>ticker</th>\n",
       "      <th></th>\n",
       "      <th></th>\n",
       "      <th></th>\n",
       "      <th></th>\n",
       "      <th></th>\n",
       "      <th></th>\n",
       "    </tr>\n",
       "  </thead>\n",
       "  <tbody>\n",
       "    <tr>\n",
       "      <th rowspan=\"2\" valign=\"top\">2024-06-19</th>\n",
       "      <th>K55301BU6139</th>\n",
       "      <td>미래에셋전략배분TDF2035혼합자산자투자신탁종류C-P2e</td>\n",
       "      <td>1481</td>\n",
       "      <td>3132</td>\n",
       "      <td>3132</td>\n",
       "      <td>0.5</td>\n",
       "      <td>0.5</td>\n",
       "    </tr>\n",
       "    <tr>\n",
       "      <th>K55206C95800</th>\n",
       "      <td>키움키워드림TDF2030증권투자신탁 1[혼합-재간접형]C-P2e(퇴직연금)</td>\n",
       "      <td>1280</td>\n",
       "      <td>3657</td>\n",
       "      <td>3657</td>\n",
       "      <td>0.5</td>\n",
       "      <td>0.5</td>\n",
       "    </tr>\n",
       "    <tr>\n",
       "      <th rowspan=\"2\" valign=\"top\">2024-11-29</th>\n",
       "      <th>K55301BU6139</th>\n",
       "      <td>미래에셋전략배분TDF2035혼합자산자투자신탁종류C-P2e</td>\n",
       "      <td>1533</td>\n",
       "      <td>110000</td>\n",
       "      <td>3204</td>\n",
       "      <td>0.5</td>\n",
       "      <td>0.5</td>\n",
       "    </tr>\n",
       "    <tr>\n",
       "      <th>K55206C95800</th>\n",
       "      <td>키움키워드림TDF2030증권투자신탁 1[혼합-재간접형]C-P2e(퇴직연금)</td>\n",
       "      <td>1373</td>\n",
       "      <td>-110000</td>\n",
       "      <td>3576</td>\n",
       "      <td>0.5</td>\n",
       "      <td>0.5</td>\n",
       "    </tr>\n",
       "  </tbody>\n",
       "</table>\n",
       "</div>"
      ],
      "text/plain": [
       "                                                              name  price  \\\n",
       "date       ticker                                                           \n",
       "2024-06-19 K55301BU6139            미래에셋전략배분TDF2035혼합자산자투자신탁종류C-P2e   1481   \n",
       "           K55206C95800  키움키워드림TDF2030증권투자신탁 1[혼합-재간접형]C-P2e(퇴직연금)   1280   \n",
       "2024-11-29 K55301BU6139            미래에셋전략배분TDF2035혼합자산자투자신탁종류C-P2e   1533   \n",
       "           K55206C95800  키움키워드림TDF2030증권투자신탁 1[혼합-재간접형]C-P2e(퇴직연금)   1373   \n",
       "\n",
       "                         transaction   net  weight  weight*  \n",
       "date       ticker                                            \n",
       "2024-06-19 K55301BU6139         3132  3132     0.5      0.5  \n",
       "           K55206C95800         3657  3657     0.5      0.5  \n",
       "2024-11-29 K55301BU6139       110000  3204     0.5      0.5  \n",
       "           K55206C95800      -110000  3576     0.5      0.5  "
      ]
     },
     "execution_count": 125,
     "metadata": {},
     "output_type": "execute_result"
    }
   ],
   "source": [
    "pf_tdf = PM.create_portfolio('TDF', tickers=selected, **kw_cost)\n",
    "pf_tdf.view_record()"
   ]
  },
  {
   "cell_type": "code",
   "execution_count": 126,
   "id": "11540913-0082-428a-8ca0-edea32c8f765",
   "metadata": {},
   "outputs": [
    {
     "name": "stdout",
     "output_type": "stream",
     "text": [
      "ERROR: Make sure the transaction is amount not number of shares\n"
     ]
    }
   ],
   "source": [
    "update_transaction(pf_tdf)"
   ]
  },
  {
   "cell_type": "code",
   "execution_count": 145,
   "id": "cc03e803-75f2-49a1-b5e5-78a22fa7305f",
   "metadata": {},
   "outputs": [],
   "source": [
    "self = pf_mmt\n",
    "\n",
    "df_rec = self._check_result()\n",
    "\n",
    "cols_record = self.cols_record\n",
    "col_date = cols_record['date']\n",
    "col_tkr = cols_record['tkr']\n",
    "col_prc = cols_record['prc']\n",
    "col_trs = cols_record['trs']\n",
    "col_net = cols_record['net']\n",
    "\n",
    "date = df_rec.index.get_level_values(0).max()\n",
    "idx = pd.IndexSlice\n",
    "sr_n = df_rec.loc[idx[date, :], :].apply(lambda x: x[col_trs] / x[col_prc], axis=1).astype(int)\n",
    "if sr_n.abs().min() < 1:\n",
    "    print('ERROR: Make sure the transaction is amount not number of shares')\n",
    "df_rec.loc[idx[date, :], col_trs] = sr_n\n",
    "df_rec.loc[idx[date, :], col_net] = (df_rec.loc[:, col_trs].groupby(col_tkr).sum().to_frame(col_net)\n",
    "                                     .assign(**{col_date:date}).set_index(col_date, append=True).swaplevel())"
   ]
  },
  {
   "cell_type": "code",
   "execution_count": 149,
   "id": "36424d49-606a-4148-8227-2851a3506b6c",
   "metadata": {},
   "outputs": [
    {
     "data": {
      "text/html": [
       "<div>\n",
       "<style scoped>\n",
       "    .dataframe tbody tr th:only-of-type {\n",
       "        vertical-align: middle;\n",
       "    }\n",
       "\n",
       "    .dataframe tbody tr th {\n",
       "        vertical-align: top;\n",
       "    }\n",
       "\n",
       "    .dataframe thead th {\n",
       "        text-align: right;\n",
       "    }\n",
       "</style>\n",
       "<table border=\"1\" class=\"dataframe\">\n",
       "  <thead>\n",
       "    <tr style=\"text-align: right;\">\n",
       "      <th></th>\n",
       "      <th></th>\n",
       "      <th>net</th>\n",
       "    </tr>\n",
       "    <tr>\n",
       "      <th>date</th>\n",
       "      <th>ticker</th>\n",
       "      <th></th>\n",
       "    </tr>\n",
       "  </thead>\n",
       "  <tbody>\n",
       "    <tr>\n",
       "      <th rowspan=\"16\" valign=\"top\">2024-10-02</th>\n",
       "      <th>002710</th>\n",
       "      <td>0</td>\n",
       "    </tr>\n",
       "    <tr>\n",
       "      <th>006740</th>\n",
       "      <td>0</td>\n",
       "    </tr>\n",
       "    <tr>\n",
       "      <th>011810</th>\n",
       "      <td>0</td>\n",
       "    </tr>\n",
       "    <tr>\n",
       "      <th>016670</th>\n",
       "      <td>286</td>\n",
       "    </tr>\n",
       "    <tr>\n",
       "      <th>022100</th>\n",
       "      <td>0</td>\n",
       "    </tr>\n",
       "    <tr>\n",
       "      <th>033790</th>\n",
       "      <td>148</td>\n",
       "    </tr>\n",
       "    <tr>\n",
       "      <th>042700</th>\n",
       "      <td>0</td>\n",
       "    </tr>\n",
       "    <tr>\n",
       "      <th>065350</th>\n",
       "      <td>0</td>\n",
       "    </tr>\n",
       "    <tr>\n",
       "      <th>066790</th>\n",
       "      <td>0</td>\n",
       "    </tr>\n",
       "    <tr>\n",
       "      <th>078860</th>\n",
       "      <td>139</td>\n",
       "    </tr>\n",
       "    <tr>\n",
       "      <th>089030</th>\n",
       "      <td>0</td>\n",
       "    </tr>\n",
       "    <tr>\n",
       "      <th>091440</th>\n",
       "      <td>0</td>\n",
       "    </tr>\n",
       "    <tr>\n",
       "      <th>139050</th>\n",
       "      <td>0</td>\n",
       "    </tr>\n",
       "    <tr>\n",
       "      <th>152550</th>\n",
       "      <td>0</td>\n",
       "    </tr>\n",
       "    <tr>\n",
       "      <th>159910</th>\n",
       "      <td>1778</td>\n",
       "    </tr>\n",
       "    <tr>\n",
       "      <th>196170</th>\n",
       "      <td>4</td>\n",
       "    </tr>\n",
       "  </tbody>\n",
       "</table>\n",
       "</div>"
      ],
      "text/plain": [
       "                    net\n",
       "date       ticker      \n",
       "2024-10-02 002710     0\n",
       "           006740     0\n",
       "           011810     0\n",
       "           016670   286\n",
       "           022100     0\n",
       "           033790   148\n",
       "           042700     0\n",
       "           065350     0\n",
       "           066790     0\n",
       "           078860   139\n",
       "           089030     0\n",
       "           091440     0\n",
       "           139050     0\n",
       "           152550     0\n",
       "           159910  1778\n",
       "           196170     4"
      ]
     },
     "execution_count": 149,
     "metadata": {},
     "output_type": "execute_result"
    }
   ],
   "source": [
    "(df_rec.loc[:, col_trs].groupby(col_tkr).sum().to_frame(col_net)\n",
    "                                     .assign(**{col_date:date}).set_index(col_date, append=True).swaplevel())"
   ]
  },
  {
   "cell_type": "code",
   "execution_count": 150,
   "id": "11db7c44-c68c-47bd-af9e-84bee1fbe60b",
   "metadata": {},
   "outputs": [
    {
     "data": {
      "text/plain": [
       "date        ticker\n",
       "2024-10-02  078860     139\n",
       "            016670     286\n",
       "            033790     148\n",
       "            159910    1778\n",
       "            196170       4\n",
       "            089030       0\n",
       "Name: net, dtype: int64"
      ]
     },
     "execution_count": 150,
     "metadata": {},
     "output_type": "execute_result"
    }
   ],
   "source": [
    "df_rec.loc[idx[date, :], col_net]"
   ]
  },
  {
   "cell_type": "code",
   "execution_count": 117,
   "id": "085aecf5-5b15-427b-80e9-ee6ec241e5d6",
   "metadata": {},
   "outputs": [
    {
     "data": {
      "text/html": [
       "<div>\n",
       "<style scoped>\n",
       "    .dataframe tbody tr th:only-of-type {\n",
       "        vertical-align: middle;\n",
       "    }\n",
       "\n",
       "    .dataframe tbody tr th {\n",
       "        vertical-align: top;\n",
       "    }\n",
       "\n",
       "    .dataframe thead th {\n",
       "        text-align: right;\n",
       "    }\n",
       "</style>\n",
       "<table border=\"1\" class=\"dataframe\">\n",
       "  <thead>\n",
       "    <tr style=\"text-align: right;\">\n",
       "      <th></th>\n",
       "      <th></th>\n",
       "      <th>name</th>\n",
       "      <th>price</th>\n",
       "      <th>transaction</th>\n",
       "      <th>net</th>\n",
       "      <th>weight</th>\n",
       "      <th>weight*</th>\n",
       "    </tr>\n",
       "    <tr>\n",
       "      <th>date</th>\n",
       "      <th>ticker</th>\n",
       "      <th></th>\n",
       "      <th></th>\n",
       "      <th></th>\n",
       "      <th></th>\n",
       "      <th></th>\n",
       "      <th></th>\n",
       "    </tr>\n",
       "  </thead>\n",
       "  <tbody>\n",
       "    <tr>\n",
       "      <th rowspan=\"2\" valign=\"top\">2024-06-19</th>\n",
       "      <th>K55301BU6139</th>\n",
       "      <td>미래에셋전략배분TDF2035혼합자산자투자신탁종류C-P2e</td>\n",
       "      <td>1481.310000</td>\n",
       "      <td>3132</td>\n",
       "      <td>3132</td>\n",
       "      <td>0.5</td>\n",
       "      <td>0.5</td>\n",
       "    </tr>\n",
       "    <tr>\n",
       "      <th>K55206C95800</th>\n",
       "      <td>키움키워드림TDF2030증권투자신탁 1[혼합-재간접형]C-P2e(퇴직연금)</td>\n",
       "      <td>1280.950000</td>\n",
       "      <td>3657</td>\n",
       "      <td>3657</td>\n",
       "      <td>0.5</td>\n",
       "      <td>0.5</td>\n",
       "    </tr>\n",
       "    <tr>\n",
       "      <th rowspan=\"2\" valign=\"top\">2024-11-29</th>\n",
       "      <th>K55301BU6139</th>\n",
       "      <td>미래에셋전략배분TDF2035혼합자산자투자신탁종류C-P2e</td>\n",
       "      <td>1533.479201</td>\n",
       "      <td>71</td>\n",
       "      <td>3203</td>\n",
       "      <td>0.5</td>\n",
       "      <td>0.5</td>\n",
       "    </tr>\n",
       "    <tr>\n",
       "      <th>K55206C95800</th>\n",
       "      <td>키움키워드림TDF2030증권투자신탁 1[혼합-재간접형]C-P2e(퇴직연금)</td>\n",
       "      <td>1373.908442</td>\n",
       "      <td>-80</td>\n",
       "      <td>3577</td>\n",
       "      <td>0.5</td>\n",
       "      <td>0.5</td>\n",
       "    </tr>\n",
       "  </tbody>\n",
       "</table>\n",
       "</div>"
      ],
      "text/plain": [
       "                                                              name  \\\n",
       "date       ticker                                                    \n",
       "2024-06-19 K55301BU6139            미래에셋전략배분TDF2035혼합자산자투자신탁종류C-P2e   \n",
       "           K55206C95800  키움키워드림TDF2030증권투자신탁 1[혼합-재간접형]C-P2e(퇴직연금)   \n",
       "2024-11-29 K55301BU6139            미래에셋전략배분TDF2035혼합자산자투자신탁종류C-P2e   \n",
       "           K55206C95800  키움키워드림TDF2030증권투자신탁 1[혼합-재간접형]C-P2e(퇴직연금)   \n",
       "\n",
       "                               price  transaction   net  weight  weight*  \n",
       "date       ticker                                                         \n",
       "2024-06-19 K55301BU6139  1481.310000         3132  3132     0.5      0.5  \n",
       "           K55206C95800  1280.950000         3657  3657     0.5      0.5  \n",
       "2024-11-29 K55301BU6139  1533.479201           71  3203     0.5      0.5  \n",
       "           K55206C95800  1373.908442          -80  3577     0.5      0.5  "
      ]
     },
     "execution_count": 117,
     "metadata": {},
     "output_type": "execute_result"
    }
   ],
   "source": [
    "self = pf_tdf\n",
    "df_rec = self._check_result()\n",
    "\n",
    "cols_record = self.cols_record\n",
    "col_prc = cols_record['prc']\n",
    "col_trs = cols_record['trs']\n",
    "col_net = cols_record['net']\n",
    "\n",
    "date = df_rec.index.get_level_values(0).max()\n",
    "idx = pd.IndexSlice\n",
    "df_rec.loc[idx[date, :], col_trs] = df_rec.loc[idx[date, :], :].apply(lambda x: x[col_trs] / x[col_prc], axis=1).astype(int)\n",
    "df_rec.loc[idx[date, :], col_net] = df_rec.loc[:, col_trs].groupby('ticker').sum().to_frame(col_net).assign(date=date).set_index('date', append=True).swaplevel()\n",
    "df_rec"
   ]
  },
  {
   "cell_type": "code",
   "execution_count": 113,
   "id": "049c155a-463a-4023-b3c2-558782bd2f6d",
   "metadata": {},
   "outputs": [
    {
     "data": {
      "text/plain": [
       "date        ticker      \n",
       "2024-11-29  K55301BU6139   NaN\n",
       "            K55206C95800   NaN\n",
       "Name: net, dtype: float64"
      ]
     },
     "execution_count": 113,
     "metadata": {},
     "output_type": "execute_result"
    }
   ],
   "source": [
    "df_rec.loc[idx[date, :], col_net]"
   ]
  },
  {
   "cell_type": "code",
   "execution_count": 116,
   "id": "6dd6f630-338f-4ed1-a861-cde2b800a1ea",
   "metadata": {},
   "outputs": [
    {
     "data": {
      "text/html": [
       "<div>\n",
       "<style scoped>\n",
       "    .dataframe tbody tr th:only-of-type {\n",
       "        vertical-align: middle;\n",
       "    }\n",
       "\n",
       "    .dataframe tbody tr th {\n",
       "        vertical-align: top;\n",
       "    }\n",
       "\n",
       "    .dataframe thead th {\n",
       "        text-align: right;\n",
       "    }\n",
       "</style>\n",
       "<table border=\"1\" class=\"dataframe\">\n",
       "  <thead>\n",
       "    <tr style=\"text-align: right;\">\n",
       "      <th></th>\n",
       "      <th></th>\n",
       "      <th>net</th>\n",
       "    </tr>\n",
       "    <tr>\n",
       "      <th>date</th>\n",
       "      <th>ticker</th>\n",
       "      <th></th>\n",
       "    </tr>\n",
       "  </thead>\n",
       "  <tbody>\n",
       "    <tr>\n",
       "      <th rowspan=\"2\" valign=\"top\">2024-11-29</th>\n",
       "      <th>K55206C95800</th>\n",
       "      <td>3577</td>\n",
       "    </tr>\n",
       "    <tr>\n",
       "      <th>K55301BU6139</th>\n",
       "      <td>3203</td>\n",
       "    </tr>\n",
       "  </tbody>\n",
       "</table>\n",
       "</div>"
      ],
      "text/plain": [
       "                          net\n",
       "date       ticker            \n",
       "2024-11-29 K55206C95800  3577\n",
       "           K55301BU6139  3203"
      ]
     },
     "execution_count": 116,
     "metadata": {},
     "output_type": "execute_result"
    }
   ],
   "source": [
    "#df_rec.loc[idx[:, :], col_trs].groupby('ticker', ).sum().assign(date=date).set_index('date')\n",
    "df_rec.loc[:, col_trs].groupby('ticker').sum().to_frame(col_net).assign(date=date).set_index('date', append=True).swaplevel()"
   ]
  },
  {
   "cell_type": "code",
   "execution_count": 106,
   "id": "486fc1cb-03a2-4fa6-879f-25d174cedbce",
   "metadata": {},
   "outputs": [
    {
     "data": {
      "text/plain": [
       "date        ticker      \n",
       "2024-06-19  K55301BU6139    3132\n",
       "            K55206C95800    3657\n",
       "2024-11-29  K55301BU6139      71\n",
       "            K55206C95800     -80\n",
       "Name: transaction, dtype: int64"
      ]
     },
     "execution_count": 106,
     "metadata": {},
     "output_type": "execute_result"
    }
   ],
   "source": [
    "df_rec.loc[:, col_trs]"
   ]
  },
  {
   "cell_type": "code",
   "execution_count": 102,
   "id": "67b4c321-9447-469a-9c15-4f3541eb7b6c",
   "metadata": {},
   "outputs": [
    {
     "data": {
      "text/plain": [
       "date        ticker      \n",
       "2024-11-29  K55301BU6139    3204\n",
       "            K55206C95800    3576\n",
       "Name: net, dtype: int64"
      ]
     },
     "execution_count": 102,
     "metadata": {},
     "output_type": "execute_result"
    }
   ],
   "source": [
    "df_rec.loc[idx[date, :], col_net]"
   ]
  },
  {
   "cell_type": "code",
   "execution_count": 90,
   "id": "3422e1a5-c5c4-4ac0-bf2a-a3d4f941da7f",
   "metadata": {},
   "outputs": [],
   "source": [
    "self = pf_tdf\n",
    "df_rec = self._check_result()\n",
    "\n",
    "cols_record = self.cols_record\n",
    "col_prc = cols_record['prc']\n",
    "col_trs = cols_record['trs']\n",
    "\n",
    "date = df_rec.index.get_level_values(0).max()\n",
    "idx = pd.IndexSlice\n",
    "df_rec.loc[idx[date, :], col_trs] = df_rec.loc[idx[date, :], :].apply(lambda x: x[col_trs] / x[col_prc], axis=1).astype(int)"
   ]
  },
  {
   "cell_type": "code",
   "execution_count": 91,
   "id": "b8b7d14d-4115-4a81-a091-2b4edec2da74",
   "metadata": {},
   "outputs": [],
   "source": [
    "cond = df_rec.index.get_level_values(0) != date\n",
    "df_rec.loc[idx[date, :], col_net] = df_rec.loc[:, col_trs].groupby('ticker').sum()"
   ]
  },
  {
   "cell_type": "code",
   "execution_count": 92,
   "id": "06664ca3-9fa7-490f-abbf-7f1a9c984060",
   "metadata": {},
   "outputs": [
    {
     "data": {
      "text/html": [
       "<div>\n",
       "<style scoped>\n",
       "    .dataframe tbody tr th:only-of-type {\n",
       "        vertical-align: middle;\n",
       "    }\n",
       "\n",
       "    .dataframe tbody tr th {\n",
       "        vertical-align: top;\n",
       "    }\n",
       "\n",
       "    .dataframe thead th {\n",
       "        text-align: right;\n",
       "    }\n",
       "</style>\n",
       "<table border=\"1\" class=\"dataframe\">\n",
       "  <thead>\n",
       "    <tr style=\"text-align: right;\">\n",
       "      <th></th>\n",
       "      <th></th>\n",
       "      <th>name</th>\n",
       "      <th>price</th>\n",
       "      <th>transaction</th>\n",
       "      <th>net</th>\n",
       "      <th>weight</th>\n",
       "      <th>weight*</th>\n",
       "    </tr>\n",
       "    <tr>\n",
       "      <th>date</th>\n",
       "      <th>ticker</th>\n",
       "      <th></th>\n",
       "      <th></th>\n",
       "      <th></th>\n",
       "      <th></th>\n",
       "      <th></th>\n",
       "      <th></th>\n",
       "    </tr>\n",
       "  </thead>\n",
       "  <tbody>\n",
       "    <tr>\n",
       "      <th rowspan=\"2\" valign=\"top\">2024-06-19</th>\n",
       "      <th>K55301BU6139</th>\n",
       "      <td>미래에셋전략배분TDF2035혼합자산자투자신탁종류C-P2e</td>\n",
       "      <td>1481.310000</td>\n",
       "      <td>3132.0</td>\n",
       "      <td>3132</td>\n",
       "      <td>0.5</td>\n",
       "      <td>0.5</td>\n",
       "    </tr>\n",
       "    <tr>\n",
       "      <th>K55206C95800</th>\n",
       "      <td>키움키워드림TDF2030증권투자신탁 1[혼합-재간접형]C-P2e(퇴직연금)</td>\n",
       "      <td>1280.950000</td>\n",
       "      <td>3657.0</td>\n",
       "      <td>3657</td>\n",
       "      <td>0.5</td>\n",
       "      <td>0.5</td>\n",
       "    </tr>\n",
       "    <tr>\n",
       "      <th rowspan=\"2\" valign=\"top\">2024-11-29</th>\n",
       "      <th>K55301BU6139</th>\n",
       "      <td>미래에셋전략배분TDF2035혼합자산자투자신탁종류C-P2e</td>\n",
       "      <td>1533.479201</td>\n",
       "      <td>NaN</td>\n",
       "      <td>3204</td>\n",
       "      <td>0.5</td>\n",
       "      <td>0.5</td>\n",
       "    </tr>\n",
       "    <tr>\n",
       "      <th>K55206C95800</th>\n",
       "      <td>키움키워드림TDF2030증권투자신탁 1[혼합-재간접형]C-P2e(퇴직연금)</td>\n",
       "      <td>1373.908442</td>\n",
       "      <td>NaN</td>\n",
       "      <td>3576</td>\n",
       "      <td>0.5</td>\n",
       "      <td>0.5</td>\n",
       "    </tr>\n",
       "  </tbody>\n",
       "</table>\n",
       "</div>"
      ],
      "text/plain": [
       "                                                              name  \\\n",
       "date       ticker                                                    \n",
       "2024-06-19 K55301BU6139            미래에셋전략배분TDF2035혼합자산자투자신탁종류C-P2e   \n",
       "           K55206C95800  키움키워드림TDF2030증권투자신탁 1[혼합-재간접형]C-P2e(퇴직연금)   \n",
       "2024-11-29 K55301BU6139            미래에셋전략배분TDF2035혼합자산자투자신탁종류C-P2e   \n",
       "           K55206C95800  키움키워드림TDF2030증권투자신탁 1[혼합-재간접형]C-P2e(퇴직연금)   \n",
       "\n",
       "                               price  transaction   net  weight  weight*  \n",
       "date       ticker                                                         \n",
       "2024-06-19 K55301BU6139  1481.310000       3132.0  3132     0.5      0.5  \n",
       "           K55206C95800  1280.950000       3657.0  3657     0.5      0.5  \n",
       "2024-11-29 K55301BU6139  1533.479201          NaN  3204     0.5      0.5  \n",
       "           K55206C95800  1373.908442          NaN  3576     0.5      0.5  "
      ]
     },
     "execution_count": 92,
     "metadata": {},
     "output_type": "execute_result"
    }
   ],
   "source": [
    "df_rec"
   ]
  },
  {
   "cell_type": "code",
   "execution_count": 54,
   "id": "04f224d0-1475-4038-a636-8727ed00d248",
   "metadata": {},
   "outputs": [
    {
     "data": {
      "text/html": [
       "<div>\n",
       "<style scoped>\n",
       "    .dataframe tbody tr th:only-of-type {\n",
       "        vertical-align: middle;\n",
       "    }\n",
       "\n",
       "    .dataframe tbody tr th {\n",
       "        vertical-align: top;\n",
       "    }\n",
       "\n",
       "    .dataframe thead th {\n",
       "        text-align: right;\n",
       "    }\n",
       "</style>\n",
       "<table border=\"1\" class=\"dataframe\">\n",
       "  <thead>\n",
       "    <tr style=\"text-align: right;\">\n",
       "      <th></th>\n",
       "      <th></th>\n",
       "      <th>name</th>\n",
       "      <th>price</th>\n",
       "      <th>transaction</th>\n",
       "      <th>net</th>\n",
       "      <th>weight</th>\n",
       "      <th>weight*</th>\n",
       "    </tr>\n",
       "    <tr>\n",
       "      <th>date</th>\n",
       "      <th>ticker</th>\n",
       "      <th></th>\n",
       "      <th></th>\n",
       "      <th></th>\n",
       "      <th></th>\n",
       "      <th></th>\n",
       "      <th></th>\n",
       "    </tr>\n",
       "  </thead>\n",
       "  <tbody>\n",
       "    <tr>\n",
       "      <th rowspan=\"2\" valign=\"top\">2024-06-19</th>\n",
       "      <th>K55301BU6139</th>\n",
       "      <td>미래에셋전략배분TDF2035혼합자산자투자신탁종류C-P2e</td>\n",
       "      <td>1481.310000</td>\n",
       "      <td>3132</td>\n",
       "      <td>3132</td>\n",
       "      <td>0.5</td>\n",
       "      <td>0.5</td>\n",
       "    </tr>\n",
       "    <tr>\n",
       "      <th>K55206C95800</th>\n",
       "      <td>키움키워드림TDF2030증권투자신탁 1[혼합-재간접형]C-P2e(퇴직연금)</td>\n",
       "      <td>1280.950000</td>\n",
       "      <td>3657</td>\n",
       "      <td>3657</td>\n",
       "      <td>0.5</td>\n",
       "      <td>0.5</td>\n",
       "    </tr>\n",
       "    <tr>\n",
       "      <th rowspan=\"2\" valign=\"top\">2024-11-29</th>\n",
       "      <th>K55301BU6139</th>\n",
       "      <td>미래에셋전략배분TDF2035혼합자산자투자신탁종류C-P2e</td>\n",
       "      <td>1533.479201</td>\n",
       "      <td>1</td>\n",
       "      <td>3204</td>\n",
       "      <td>0.5</td>\n",
       "      <td>0.5</td>\n",
       "    </tr>\n",
       "    <tr>\n",
       "      <th>K55206C95800</th>\n",
       "      <td>키움키워드림TDF2030증권투자신탁 1[혼합-재간접형]C-P2e(퇴직연금)</td>\n",
       "      <td>1373.908442</td>\n",
       "      <td>1</td>\n",
       "      <td>3576</td>\n",
       "      <td>0.5</td>\n",
       "      <td>0.5</td>\n",
       "    </tr>\n",
       "  </tbody>\n",
       "</table>\n",
       "</div>"
      ],
      "text/plain": [
       "                                                              name  \\\n",
       "date       ticker                                                    \n",
       "2024-06-19 K55301BU6139            미래에셋전략배분TDF2035혼합자산자투자신탁종류C-P2e   \n",
       "           K55206C95800  키움키워드림TDF2030증권투자신탁 1[혼합-재간접형]C-P2e(퇴직연금)   \n",
       "2024-11-29 K55301BU6139            미래에셋전략배분TDF2035혼합자산자투자신탁종류C-P2e   \n",
       "           K55206C95800  키움키워드림TDF2030증권투자신탁 1[혼합-재간접형]C-P2e(퇴직연금)   \n",
       "\n",
       "                               price  transaction   net  weight  weight*  \n",
       "date       ticker                                                         \n",
       "2024-06-19 K55301BU6139  1481.310000         3132  3132     0.5      0.5  \n",
       "           K55206C95800  1280.950000         3657  3657     0.5      0.5  \n",
       "2024-11-29 K55301BU6139  1533.479201            1  3204     0.5      0.5  \n",
       "           K55206C95800  1373.908442            1  3576     0.5      0.5  "
      ]
     },
     "execution_count": 54,
     "metadata": {},
     "output_type": "execute_result"
    }
   ],
   "source": [
    "df_rec.loc[date, col_trs] = 1\n",
    "df_rec"
   ]
  },
  {
   "cell_type": "code",
   "execution_count": null,
   "id": "b0752e0e-8d8b-478c-9e22-bc3ae79d33cc",
   "metadata": {},
   "outputs": [],
   "source": []
  }
 ],
 "metadata": {
  "kernelspec": {
   "display_name": "portfolio",
   "language": "python",
   "name": "portfolio"
  },
  "language_info": {
   "codemirror_mode": {
    "name": "ipython",
    "version": 3
   },
   "file_extension": ".py",
   "mimetype": "text/x-python",
   "name": "python",
   "nbconvert_exporter": "python",
   "pygments_lexer": "ipython3",
   "version": "3.12.1"
  }
 },
 "nbformat": 4,
 "nbformat_minor": 5
}
