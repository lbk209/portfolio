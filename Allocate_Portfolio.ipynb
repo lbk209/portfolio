{
 "cells": [
  {
   "cell_type": "markdown",
   "id": "1a0d2b60-5842-4969-8229-84f355dc46fc",
   "metadata": {},
   "source": [
    "# Setting"
   ]
  },
  {
   "cell_type": "code",
   "execution_count": 1,
   "id": "7009fd2f-8efd-4ed3-a187-01939304fa9e",
   "metadata": {},
   "outputs": [
    {
     "name": "stderr",
     "output_type": "stream",
     "text": [
      "WARNING (pytensor.tensor.blas): Using NumPy C-API based implementation for BLAS functions.\n"
     ]
    }
   ],
   "source": [
    "from pf_utils import PortfolioManager as PM \n",
    "from pf_utils import FinancialRatios, METRICS\n",
    "from pf_widgets import WidgetUniverse, WidgetTransaction, w_date"
   ]
  },
  {
   "cell_type": "code",
   "execution_count": 2,
   "id": "723adb14-cd00-4d96-9c64-5a8628e82f44",
   "metadata": {},
   "outputs": [],
   "source": [
    "path_data = 'data'\n",
    "path_tran = 'transaction'"
   ]
  },
  {
   "cell_type": "markdown",
   "id": "83852d8f-9884-4a8d-bb97-4b61670f6d4d",
   "metadata": {},
   "source": [
    "## Portfolios\n",
    "*Review portfolio settings*"
   ]
  },
  {
   "cell_type": "code",
   "execution_count": 3,
   "id": "57eeef26-93fa-4e46-9197-ef5948aed668",
   "metadata": {},
   "outputs": [
    {
     "name": "stdout",
     "output_type": "stream",
     "text": [
      "Portfolio: MMT, PER, WTR, LIQ, TDF, HANA, FCTR, KRX\n"
     ]
    }
   ],
   "source": [
    "PM.review('portfolio')"
   ]
  },
  {
   "cell_type": "code",
   "execution_count": 4,
   "id": "4dd4bbf9-fc33-4763-a4b1-c635f111e2d7",
   "metadata": {},
   "outputs": [
    {
     "data": {
      "text/plain": [
       "{'strategy': 'WTR', 'universe': 'UV_WTR'}"
      ]
     },
     "execution_count": 4,
     "metadata": {},
     "output_type": "execute_result"
    }
   ],
   "source": [
    "PM.review_portfolio('WTR')"
   ]
  },
  {
   "cell_type": "code",
   "execution_count": 5,
   "id": "aed90957-12a4-4bfd-a239-f32295b6cee9",
   "metadata": {},
   "outputs": [
    {
     "data": {
      "text/plain": [
       "{'method_select': 'Selected',\n",
       " 'method_weigh': 'Equally',\n",
       " 'file': 'pf_wtr_static',\n",
       " 'path': 'transaction'}"
      ]
     },
     "execution_count": 5,
     "metadata": {},
     "output_type": "execute_result"
    }
   ],
   "source": [
    "#PM.review_strategy('WTR')\n",
    "PM.review_portfolio('WTR', strategy=True)"
   ]
  },
  {
   "cell_type": "code",
   "execution_count": 6,
   "id": "319ceff5-fb55-499d-8800-0caf3c5bab61",
   "metadata": {},
   "outputs": [
    {
     "data": {
      "text/plain": [
       "{'universe': 'etf',\n",
       " 'file': 'etfs_weather',\n",
       " 'tickers': 'ETF/KR',\n",
       " 'daily': True,\n",
       " 'path': 'data'}"
      ]
     },
     "execution_count": 6,
     "metadata": {},
     "output_type": "execute_result"
    }
   ],
   "source": [
    "#PM.review_universe('UV_WTR')\n",
    "PM.review_portfolio('WTR', universe=True)"
   ]
  },
  {
   "cell_type": "markdown",
   "id": "c786112f-9aef-4df7-8248-4ddcfcb2c1f0",
   "metadata": {},
   "source": [
    "# Universe"
   ]
  },
  {
   "cell_type": "code",
   "execution_count": 7,
   "id": "9632a8f9-3a3b-4e8b-aa68-2cb9ff8d0748",
   "metadata": {},
   "outputs": [
    {
     "name": "stdout",
     "output_type": "stream",
     "text": [
      "Universe: UV_K200, UV_KRX, UV_LIQ, UV_WTR, UV_ETF, UV_FUND, UV_FCTR\n"
     ]
    }
   ],
   "source": [
    "PM.review('universes')"
   ]
  },
  {
   "cell_type": "code",
   "execution_count": 8,
   "id": "73024aab-e901-4e9c-94e2-a46e5b983dbe",
   "metadata": {},
   "outputs": [
    {
     "data": {
      "application/vnd.jupyter.widget-view+json": {
       "model_id": "d9476e95f1ca494196bfa7b9d4e0bc2e",
       "version_major": 2,
       "version_minor": 0
      },
      "text/plain": [
       "VBox(children=(Checkbox(value=False, description='Download', indent=False), Checkbox(value=False, description=…"
      ]
     },
     "execution_count": 8,
     "metadata": {},
     "output_type": "execute_result"
    }
   ],
   "source": [
    "WidgetUniverse"
   ]
  },
  {
   "cell_type": "markdown",
   "id": "1cb34ee5-b007-48b4-a11b-188e6bafad0f",
   "metadata": {},
   "source": [
    "## K200"
   ]
  },
  {
   "cell_type": "code",
   "execution_count": 9,
   "id": "8aa50408-fd2b-45f5-81ed-6c1a2479eb77",
   "metadata": {},
   "outputs": [
    {
     "name": "stdout",
     "output_type": "stream",
     "text": [
      "201 securities from 2021-01-04 to 2024-11-22 uploaded.\n",
      "df_prices loaded\n"
     ]
    }
   ],
   "source": [
    "k200 = PM.create_universe('UV_K200')"
   ]
  },
  {
   "cell_type": "code",
   "execution_count": 10,
   "id": "1f62192a-4e95-45d7-9f11-4ece016a7e1f",
   "metadata": {},
   "outputs": [
    {
     "data": {
      "text/plain": [
       "{'universe': {'data': {'universe': 'kospi200',\n",
       "   'file': 'kospi200_prices',\n",
       "   'tickers': 'KRX/INDEX/STOCK/1028',\n",
       "   'daily': True,\n",
       "   'path': 'data'},\n",
       "  'name': 'UV_K200'}}"
      ]
     },
     "execution_count": 10,
     "metadata": {},
     "output_type": "execute_result"
    }
   ],
   "source": [
    "k200.portfolio_data"
   ]
  },
  {
   "cell_type": "code",
   "execution_count": 11,
   "id": "56cfa843-ffc7-469f-a18d-aefecdac2e5d",
   "metadata": {},
   "outputs": [
    {
     "name": "stdout",
     "output_type": "stream",
     "text": [
      "Downloading ...\n",
      "... done\n",
      "201 securities from 2021-01-04 to 2024-11-28 downloaded.\n",
      "kospi200_prices_241128.csv saved\n",
      "df_prices updated\n",
      "Execution time of download: 28.11 secs\n"
     ]
    }
   ],
   "source": [
    "kw = dict(\n",
    "    n_years=3, \n",
    "    close_today = WidgetUniverse.values(1)\n",
    ")\n",
    "k200.download(**kw) if WidgetUniverse.values(0) else None"
   ]
  },
  {
   "cell_type": "markdown",
   "id": "6e62cef4-25c9-414b-b33f-28858e929f30",
   "metadata": {},
   "source": [
    "## KRX"
   ]
  },
  {
   "cell_type": "code",
   "execution_count": 12,
   "id": "341b6af3-25e4-4280-8d51-6015c48994b9",
   "metadata": {},
   "outputs": [
    {
     "name": "stdout",
     "output_type": "stream",
     "text": [
      "2712 securities from 2019-01-02 to 2024-10-08 uploaded.\n",
      "df_prices loaded\n"
     ]
    }
   ],
   "source": [
    "krx = PM.create_universe('UV_KRX')"
   ]
  },
  {
   "cell_type": "code",
   "execution_count": 13,
   "id": "5bed0595-0790-4e8b-ab6e-5e9db598d0d5",
   "metadata": {},
   "outputs": [],
   "source": [
    "kw = dict(\n",
    "    n_years=3, \n",
    "    close_today = WidgetUniverse.values(1),\n",
    "    interval=5, pause_duration=1, msg=False\n",
    ")\n",
    "#krx.download(**kw) if WidgetUniverse.values(0) else None"
   ]
  },
  {
   "cell_type": "markdown",
   "id": "39d0213d-1cd0-42f6-8066-abb2eb6dd5db",
   "metadata": {},
   "source": [
    "## WTR"
   ]
  },
  {
   "cell_type": "code",
   "execution_count": 12,
   "id": "26a87f56-8333-4d02-bc67-2d58cda01a18",
   "metadata": {},
   "outputs": [
    {
     "name": "stdout",
     "output_type": "stream",
     "text": [
      "6 securities from 2021-01-04 to 2024-11-22 uploaded.\n",
      "df_prices loaded\n"
     ]
    }
   ],
   "source": [
    "wtr = PM.create_universe('UV_WTR')"
   ]
  },
  {
   "cell_type": "code",
   "execution_count": 13,
   "id": "f9795c18-b507-497c-b6e4-5fbed3896f35",
   "metadata": {},
   "outputs": [
    {
     "data": {
      "text/plain": [
       "{'universe': 'etf',\n",
       " 'file': 'etfs_weather',\n",
       " 'tickers': 'ETF/KR',\n",
       " 'daily': True,\n",
       " 'path': 'data'}"
      ]
     },
     "execution_count": 13,
     "metadata": {},
     "output_type": "execute_result"
    }
   ],
   "source": [
    "PM.review_universe('UV_WTR')"
   ]
  },
  {
   "cell_type": "code",
   "execution_count": 14,
   "id": "3cc26afb-d01e-4b99-9be0-fb446726b131",
   "metadata": {},
   "outputs": [
    {
     "name": "stdout",
     "output_type": "stream",
     "text": [
      "Downloading ...\n",
      "... done\n",
      "6 securities from 2021-01-04 to 2024-11-28 downloaded.\n",
      "etfs_weather_241128.csv saved\n",
      "df_prices updated\n",
      "Execution time of download: 0.56 secs\n"
     ]
    }
   ],
   "source": [
    "kw = dict(\n",
    "    n_years=3, \n",
    "    close_today = WidgetUniverse.values(1),\n",
    "    #tickers = ['069500', '273130', '148070', '379800', '411060', '284430']\n",
    "    tickers = 'selected'\n",
    ")\n",
    "wtr.download(**kw) if WidgetUniverse.values(0) else None"
   ]
  },
  {
   "cell_type": "code",
   "execution_count": 17,
   "id": "35e4fe7f-1ebd-40f6-956c-44c464cb6a76",
   "metadata": {},
   "outputs": [],
   "source": [
    "#wtr.save()"
   ]
  },
  {
   "cell_type": "markdown",
   "id": "9a915127-3848-4f4a-84ed-4552ff991fca",
   "metadata": {},
   "source": [
    "## FCTR"
   ]
  },
  {
   "cell_type": "code",
   "execution_count": 5,
   "id": "d4181791-edd1-44f5-bbf8-ef80f0cdb556",
   "metadata": {},
   "outputs": [
    {
     "name": "stdout",
     "output_type": "stream",
     "text": [
      "7 securities from 2021-01-04 to 2024-11-08 uploaded.\n",
      "df_prices loaded\n"
     ]
    }
   ],
   "source": [
    "fctr = PM.create_universe('UV_FCTR')"
   ]
  },
  {
   "cell_type": "code",
   "execution_count": 7,
   "id": "1f8f1368-0625-4f2c-aab4-5755f702c2fa",
   "metadata": {},
   "outputs": [
    {
     "name": "stdout",
     "output_type": "stream",
     "text": [
      "Downloading ...\n"
     ]
    },
    {
     "name": "stderr",
     "output_type": "stream",
     "text": [
      "[*********************100%***********************]  7 of 7 completed"
     ]
    },
    {
     "name": "stdout",
     "output_type": "stream",
     "text": [
      "... done\n",
      "7 securities from 2021-01-04 to 2024-11-22 downloaded.\n",
      "etfs_factors_241122.csv saved\n",
      "df_prices updated\n",
      "Execution time of download: 3.28 secs\n"
     ]
    },
    {
     "name": "stderr",
     "output_type": "stream",
     "text": [
      "\n"
     ]
    }
   ],
   "source": [
    "kw = dict(\n",
    "    n_years=3, \n",
    "    close_today = WidgetUniverse.values(1),\n",
    "    tickers=['LRGF','MTUM','QUAL','SIZE','SPY','USMV','VLUE']\n",
    "    #tickers='selected'\n",
    ")\n",
    "fctr.download(**kw) if WidgetUniverse.values(0) else None"
   ]
  },
  {
   "cell_type": "code",
   "execution_count": 8,
   "id": "3d232256-a1ef-4677-ab9a-53540f2689cc",
   "metadata": {},
   "outputs": [
    {
     "data": {
      "text/plain": [
       "0) LRGF: iShares U.S. Equity Factor ETF\n",
       "1) MTUM: iShares MSCI USA Momentum Factor ETF\n",
       "2) QUAL: iShares MSCI USA Quality Factor ETF\n",
       "3) SIZE: iShares MSCI USA Size Factor ETF\n",
       "4) SPY: SPDR S&P 500 ETF Trust\n",
       "5) USMV: iShares MSCI USA Min Vol Factor ETF\n",
       "6) VLUE: iShares MSCI USA Value Factor ETF"
      ]
     },
     "execution_count": 8,
     "metadata": {},
     "output_type": "execute_result"
    }
   ],
   "source": [
    "fctr.get_names()"
   ]
  },
  {
   "cell_type": "markdown",
   "id": "99c864db-6e90-4720-9287-a23b26b2263e",
   "metadata": {},
   "source": [
    "## FUND"
   ]
  },
  {
   "cell_type": "code",
   "execution_count": 3,
   "id": "c22863eb-b080-4dd0-b2b0-d199fba75c5a",
   "metadata": {},
   "outputs": [
    {
     "name": "stdout",
     "output_type": "stream",
     "text": [
      "64 securities from 2008-11-28 to 2024-10-31 uploaded.\n",
      "WARNING: the number of days in a year with 64 tickers (100%) is 12 in avg.\n",
      "REMINDER: 64 equities converted to daily (days in year: 365)\n",
      "Daily metrics in Performance statistics must be meaningless\n",
      "df_prices loaded\n"
     ]
    }
   ],
   "source": [
    "fund = PM.create_universe('UV_FUND')"
   ]
  },
  {
   "cell_type": "code",
   "execution_count": 30,
   "id": "1748945c-f7e2-4ab9-94f1-59cd89bbc815",
   "metadata": {},
   "outputs": [],
   "source": [
    "kw = dict(\n",
    "    n_years=20, \n",
    "    close_today = WidgetUniverse.values(1),\n",
    "    #tickers='selected'\n",
    ")\n",
    "fund.download(**kw) if WidgetUniverse.values(0) else None"
   ]
  },
  {
   "cell_type": "code",
   "execution_count": 31,
   "id": "5fb805be-4a57-4439-84ac-17431f5b7592",
   "metadata": {},
   "outputs": [],
   "source": [
    "#fund.convert_to_daily(confirm=True)"
   ]
  },
  {
   "cell_type": "code",
   "execution_count": 32,
   "id": "b168cd3b-7986-4a19-bbff-44d1ac582f2d",
   "metadata": {},
   "outputs": [
    {
     "data": {
      "text/html": [
       "<div>\n",
       "<style scoped>\n",
       "    .dataframe tbody tr th:only-of-type {\n",
       "        vertical-align: middle;\n",
       "    }\n",
       "\n",
       "    .dataframe tbody tr th {\n",
       "        vertical-align: top;\n",
       "    }\n",
       "\n",
       "    .dataframe thead th {\n",
       "        text-align: right;\n",
       "    }\n",
       "</style>\n",
       "<table border=\"1\" class=\"dataframe\">\n",
       "  <thead>\n",
       "    <tr style=\"text-align: right;\">\n",
       "      <th></th>\n",
       "      <th>name</th>\n",
       "      <th>start date</th>\n",
       "      <th>end date</th>\n",
       "      <th>n</th>\n",
       "    </tr>\n",
       "  </thead>\n",
       "  <tbody>\n",
       "    <tr>\n",
       "      <th>KR5101888398</th>\n",
       "      <td>한국투자크레딧포커스ESG증권자투자신탁 1(채권)(C-e)</td>\n",
       "      <td>2008-11-28</td>\n",
       "      <td>2024-10-31</td>\n",
       "      <td>5817</td>\n",
       "    </tr>\n",
       "    <tr>\n",
       "      <th>K55301BU6139</th>\n",
       "      <td>미래에셋전략배분TDF2035혼합자산자투자신탁종류C-P2e</td>\n",
       "      <td>2017-09-29</td>\n",
       "      <td>2024-10-31</td>\n",
       "      <td>2590</td>\n",
       "    </tr>\n",
       "    <tr>\n",
       "      <th>K55301BU5453</th>\n",
       "      <td>미래에셋평생소득TIF혼합자산자투자신탁종류C-P2e</td>\n",
       "      <td>2017-10-31</td>\n",
       "      <td>2024-10-31</td>\n",
       "      <td>2558</td>\n",
       "    </tr>\n",
       "    <tr>\n",
       "      <th>K55303BT4176</th>\n",
       "      <td>마이다스아시아리더스성장주연금증권자투자신탁(UH)(주식)C-Pe2</td>\n",
       "      <td>2017-11-30</td>\n",
       "      <td>2024-10-31</td>\n",
       "      <td>2528</td>\n",
       "    </tr>\n",
       "    <tr>\n",
       "      <th>K55234BY9966</th>\n",
       "      <td>IBK베트남플러스아시아증권투자신탁[주식]종류C-Re</td>\n",
       "      <td>2017-12-29</td>\n",
       "      <td>2024-10-31</td>\n",
       "      <td>2499</td>\n",
       "    </tr>\n",
       "    <tr>\n",
       "      <th>...</th>\n",
       "      <td>...</td>\n",
       "      <td>...</td>\n",
       "      <td>...</td>\n",
       "      <td>...</td>\n",
       "    </tr>\n",
       "    <tr>\n",
       "      <th>K55101BT7397</th>\n",
       "      <td>한국투자TDF알아서2040증권투자신탁(주식혼합-재간접형)(C-Re)</td>\n",
       "      <td>2017-08-31</td>\n",
       "      <td>2024-10-31</td>\n",
       "      <td>2619</td>\n",
       "    </tr>\n",
       "    <tr>\n",
       "      <th>K55365BT3694</th>\n",
       "      <td>kcgi코리아퇴직연금증권자투자신탁(주식)종류C-Pe2</td>\n",
       "      <td>2017-08-31</td>\n",
       "      <td>2024-10-31</td>\n",
       "      <td>2619</td>\n",
       "    </tr>\n",
       "    <tr>\n",
       "      <th>K55207BU0715</th>\n",
       "      <td>교보악사파워인덱스증권자투자신탁1호(주식)C-Pe</td>\n",
       "      <td>2017-08-31</td>\n",
       "      <td>2024-10-31</td>\n",
       "      <td>2619</td>\n",
       "    </tr>\n",
       "    <tr>\n",
       "      <th>K55234DF2657</th>\n",
       "      <td>IBK로우코스트TDF2030증권자투자신탁[혼합-재간접형]종류C-Re</td>\n",
       "      <td>2021-04-30</td>\n",
       "      <td>2024-10-31</td>\n",
       "      <td>1281</td>\n",
       "    </tr>\n",
       "    <tr>\n",
       "      <th>K55301DW1763</th>\n",
       "      <td>미래에셋전략배분TDF2035혼합자산자투자신탁종류O</td>\n",
       "      <td>2022-12-30</td>\n",
       "      <td>2024-10-31</td>\n",
       "      <td>672</td>\n",
       "    </tr>\n",
       "  </tbody>\n",
       "</table>\n",
       "<p>64 rows × 4 columns</p>\n",
       "</div>"
      ],
      "text/plain": [
       "                                               name start date   end date  \\\n",
       "KR5101888398        한국투자크레딧포커스ESG증권자투자신탁 1(채권)(C-e) 2008-11-28 2024-10-31   \n",
       "K55301BU6139        미래에셋전략배분TDF2035혼합자산자투자신탁종류C-P2e 2017-09-29 2024-10-31   \n",
       "K55301BU5453            미래에셋평생소득TIF혼합자산자투자신탁종류C-P2e 2017-10-31 2024-10-31   \n",
       "K55303BT4176    마이다스아시아리더스성장주연금증권자투자신탁(UH)(주식)C-Pe2 2017-11-30 2024-10-31   \n",
       "K55234BY9966           IBK베트남플러스아시아증권투자신탁[주식]종류C-Re 2017-12-29 2024-10-31   \n",
       "...                                             ...        ...        ...   \n",
       "K55101BT7397  한국투자TDF알아서2040증권투자신탁(주식혼합-재간접형)(C-Re) 2017-08-31 2024-10-31   \n",
       "K55365BT3694          kcgi코리아퇴직연금증권자투자신탁(주식)종류C-Pe2 2017-08-31 2024-10-31   \n",
       "K55207BU0715             교보악사파워인덱스증권자투자신탁1호(주식)C-Pe 2017-08-31 2024-10-31   \n",
       "K55234DF2657  IBK로우코스트TDF2030증권자투자신탁[혼합-재간접형]종류C-Re 2021-04-30 2024-10-31   \n",
       "K55301DW1763            미래에셋전략배분TDF2035혼합자산자투자신탁종류O 2022-12-30 2024-10-31   \n",
       "\n",
       "                 n  \n",
       "KR5101888398  5817  \n",
       "K55301BU6139  2590  \n",
       "K55301BU5453  2558  \n",
       "K55303BT4176  2528  \n",
       "K55234BY9966  2499  \n",
       "...            ...  \n",
       "K55101BT7397  2619  \n",
       "K55365BT3694  2619  \n",
       "K55207BU0715  2619  \n",
       "K55234DF2657  1281  \n",
       "K55301DW1763   672  \n",
       "\n",
       "[64 rows x 4 columns]"
      ]
     },
     "execution_count": 32,
     "metadata": {},
     "output_type": "execute_result"
    }
   ],
   "source": [
    "fund.get_date_range().sort_values('end date')"
   ]
  },
  {
   "cell_type": "code",
   "execution_count": 33,
   "id": "b39755f5-ed92-4640-aada-9e84bd1eba06",
   "metadata": {},
   "outputs": [
    {
     "data": {
      "text/html": [
       "<div>\n",
       "<style scoped>\n",
       "    .dataframe tbody tr th:only-of-type {\n",
       "        vertical-align: middle;\n",
       "    }\n",
       "\n",
       "    .dataframe tbody tr th {\n",
       "        vertical-align: top;\n",
       "    }\n",
       "\n",
       "    .dataframe thead th {\n",
       "        text-align: right;\n",
       "    }\n",
       "</style>\n",
       "<table border=\"1\" class=\"dataframe\">\n",
       "  <thead>\n",
       "    <tr style=\"text-align: right;\">\n",
       "      <th></th>\n",
       "      <th>name</th>\n",
       "      <th>daily_sharpe</th>\n",
       "      <th>monthly_sharpe</th>\n",
       "      <th>yearly_sharpe</th>\n",
       "    </tr>\n",
       "  </thead>\n",
       "  <tbody>\n",
       "    <tr>\n",
       "      <th>K55101BT4444</th>\n",
       "      <td>한국투자TDF알아서2045증권투자신탁(주식혼합-재간접형)(C-Re)</td>\n",
       "      <td>1.313556</td>\n",
       "      <td>1.732956</td>\n",
       "      <td>193.418168</td>\n",
       "    </tr>\n",
       "    <tr>\n",
       "      <th>K55301BM7640</th>\n",
       "      <td>미래에셋전략배분TDF2035혼합자산자투자신탁 종류C-Pe</td>\n",
       "      <td>1.490463</td>\n",
       "      <td>2.042197</td>\n",
       "      <td>106.050897</td>\n",
       "    </tr>\n",
       "    <tr>\n",
       "      <th>K55301D51370</th>\n",
       "      <td>미래에셋전략배분TDF2050혼합자산자투자신탁종류C-P2e</td>\n",
       "      <td>1.494358</td>\n",
       "      <td>2.049424</td>\n",
       "      <td>102.782741</td>\n",
       "    </tr>\n",
       "    <tr>\n",
       "      <th>K55301BU6139</th>\n",
       "      <td>미래에셋전략배분TDF2035혼합자산자투자신탁종류C-P2e</td>\n",
       "      <td>1.48956</td>\n",
       "      <td>2.040524</td>\n",
       "      <td>100.82955</td>\n",
       "    </tr>\n",
       "    <tr>\n",
       "      <th>K55301BU5479</th>\n",
       "      <td>미래에셋전략배분TDF2045혼합자산자투자신탁 종류C-P2e</td>\n",
       "      <td>1.472621</td>\n",
       "      <td>2.009348</td>\n",
       "      <td>84.821526</td>\n",
       "    </tr>\n",
       "    <tr>\n",
       "      <th>...</th>\n",
       "      <td>...</td>\n",
       "      <td>...</td>\n",
       "      <td>...</td>\n",
       "      <td>...</td>\n",
       "    </tr>\n",
       "    <tr>\n",
       "      <th>K55105BH1010</th>\n",
       "      <td>삼성클래식아세안연금증권전환형자투자신탁 1[주식]_Ce</td>\n",
       "      <td>1.374719</td>\n",
       "      <td>1.835966</td>\n",
       "      <td>0.929645</td>\n",
       "    </tr>\n",
       "    <tr>\n",
       "      <th>K55235BW6799</th>\n",
       "      <td>피델리티아시아증권자투자신탁(주식)CP-e</td>\n",
       "      <td>0.658918</td>\n",
       "      <td>0.796964</td>\n",
       "      <td>0.906315</td>\n",
       "    </tr>\n",
       "    <tr>\n",
       "      <th>K55306CV9946</th>\n",
       "      <td>다올글로벌멀티에셋인컴EMP증권자투자신탁[혼합-재간접형](공)종류Ce</td>\n",
       "      <td>0.319949</td>\n",
       "      <td>0.379284</td>\n",
       "      <td>0.669178</td>\n",
       "    </tr>\n",
       "    <tr>\n",
       "      <th>K55203C53681</th>\n",
       "      <td>대신KOSPI200인덱스증권자투자신탁(주식-파생형)CPe</td>\n",
       "      <td>0.656476</td>\n",
       "      <td>0.793853</td>\n",
       "      <td>0.604373</td>\n",
       "    </tr>\n",
       "    <tr>\n",
       "      <th>K55207BU0715</th>\n",
       "      <td>교보악사파워인덱스증권자투자신탁1호(주식)C-Pe</td>\n",
       "      <td>0.616201</td>\n",
       "      <td>0.742802</td>\n",
       "      <td>0.602714</td>\n",
       "    </tr>\n",
       "  </tbody>\n",
       "</table>\n",
       "<p>64 rows × 4 columns</p>\n",
       "</div>"
      ],
      "text/plain": [
       "                                               name daily_sharpe  \\\n",
       "K55101BT4444  한국투자TDF알아서2045증권투자신탁(주식혼합-재간접형)(C-Re)     1.313556   \n",
       "K55301BM7640        미래에셋전략배분TDF2035혼합자산자투자신탁 종류C-Pe     1.490463   \n",
       "K55301D51370        미래에셋전략배분TDF2050혼합자산자투자신탁종류C-P2e     1.494358   \n",
       "K55301BU6139        미래에셋전략배분TDF2035혼합자산자투자신탁종류C-P2e      1.48956   \n",
       "K55301BU5479       미래에셋전략배분TDF2045혼합자산자투자신탁 종류C-P2e     1.472621   \n",
       "...                                             ...          ...   \n",
       "K55105BH1010          삼성클래식아세안연금증권전환형자투자신탁 1[주식]_Ce     1.374719   \n",
       "K55235BW6799                 피델리티아시아증권자투자신탁(주식)CP-e     0.658918   \n",
       "K55306CV9946  다올글로벌멀티에셋인컴EMP증권자투자신탁[혼합-재간접형](공)종류Ce     0.319949   \n",
       "K55203C53681        대신KOSPI200인덱스증권자투자신탁(주식-파생형)CPe     0.656476   \n",
       "K55207BU0715             교보악사파워인덱스증권자투자신탁1호(주식)C-Pe     0.616201   \n",
       "\n",
       "             monthly_sharpe yearly_sharpe  \n",
       "K55101BT4444       1.732956    193.418168  \n",
       "K55301BM7640       2.042197    106.050897  \n",
       "K55301D51370       2.049424    102.782741  \n",
       "K55301BU6139       2.040524     100.82955  \n",
       "K55301BU5479       2.009348     84.821526  \n",
       "...                     ...           ...  \n",
       "K55105BH1010       1.835966      0.929645  \n",
       "K55235BW6799       0.796964      0.906315  \n",
       "K55306CV9946       0.379284      0.669178  \n",
       "K55203C53681       0.793853      0.604373  \n",
       "K55207BU0715       0.742802      0.602714  \n",
       "\n",
       "[64 rows x 4 columns]"
      ]
     },
     "execution_count": 33,
     "metadata": {},
     "output_type": "execute_result"
    }
   ],
   "source": [
    "fund.performance('sharpe', 'year')"
   ]
  },
  {
   "cell_type": "markdown",
   "id": "a4f53a08-8233-4b77-b360-e9dc6b3c1b4d",
   "metadata": {},
   "source": [
    "## LIQ"
   ]
  },
  {
   "cell_type": "code",
   "execution_count": 18,
   "id": "72cd3dc3-870e-4d18-810e-b95ff8bba953",
   "metadata": {},
   "outputs": [],
   "source": [
    "# portfolio of past trading system to liquidate soon\n",
    "selected = [\n",
    "    '011780', '066570', '035890', '040420', '140520', \n",
    "    '072990', '091580', '011200', '002220', '006650', \n",
    "    '136490', '064550', '460860', '040910', '024950',\n",
    "    '900070', '036580', '184230', '460850', '016250',\n",
    "    '001230', '049470', '217820', '109960'\n",
    "]"
   ]
  },
  {
   "cell_type": "code",
   "execution_count": 19,
   "id": "414e2a58-a88f-49df-b3d3-6eba848856c6",
   "metadata": {},
   "outputs": [
    {
     "name": "stdout",
     "output_type": "stream",
     "text": [
      "24 securities from 2021-01-04 to 2024-11-22 uploaded.\n",
      "df_prices loaded\n"
     ]
    }
   ],
   "source": [
    "liq = PM.create_universe('UV_LIQ')"
   ]
  },
  {
   "cell_type": "code",
   "execution_count": 20,
   "id": "b6e60aa6-cc78-4145-a706-9802503cce51",
   "metadata": {},
   "outputs": [
    {
     "name": "stdout",
     "output_type": "stream",
     "text": [
      "Downloading ...\n",
      "REMINDER: 24 tickers set regardless of market\n"
     ]
    },
    {
     "name": "stderr",
     "output_type": "stream",
     "text": [
      "100%|███████████████████████████████████████████████████████████████| 24/24 [00:01<00:00, 15.64it/s]"
     ]
    },
    {
     "name": "stdout",
     "output_type": "stream",
     "text": [
      "1.5 secs elapsed, 0.0 secs paused (0.0%)\n",
      "... done\n",
      "24 securities from 2021-01-04 to 2024-11-28 downloaded.\n",
      "krx_liq_prices_241128.csv saved\n",
      "df_prices updated\n",
      "Execution time of download: 2.16 secs\n"
     ]
    },
    {
     "name": "stderr",
     "output_type": "stream",
     "text": [
      "\n"
     ]
    }
   ],
   "source": [
    "kw = dict(\n",
    "    n_years=3, \n",
    "    tickers= 'selected', #selected,\n",
    "    close_today = WidgetUniverse.values(1),\n",
    "    interval=5, pause_duration=1, msg=False\n",
    ")\n",
    "liq.download(**kw) if WidgetUniverse.values(0) else None"
   ]
  },
  {
   "cell_type": "markdown",
   "id": "892cb848-d5e2-4bbf-ba7d-f4b38f4b0791",
   "metadata": {},
   "source": [
    "## Additional Data"
   ]
  },
  {
   "cell_type": "markdown",
   "id": "28c87622-d725-4580-b8b9-067ce19f8d8a",
   "metadata": {},
   "source": [
    "### Financial Ratio"
   ]
  },
  {
   "cell_type": "code",
   "execution_count": 9,
   "id": "639f2709-1679-4893-8d1d-b0f065e3980f",
   "metadata": {},
   "outputs": [
    {
     "data": {
      "application/vnd.jupyter.widget-view+json": {
       "model_id": "d9476e95f1ca494196bfa7b9d4e0bc2e",
       "version_major": 2,
       "version_minor": 0
      },
      "text/plain": [
       "VBox(children=(Checkbox(value=False, description='Download', indent=False), Checkbox(value=False, description=…"
      ]
     },
     "execution_count": 9,
     "metadata": {},
     "output_type": "execute_result"
    }
   ],
   "source": [
    "WidgetUniverse"
   ]
  },
  {
   "cell_type": "code",
   "execution_count": 10,
   "id": "f80ca883-cc65-49cd-b6c5-bab6a8a55417",
   "metadata": {},
   "outputs": [
    {
     "name": "stdout",
     "output_type": "stream",
     "text": [
      "Financial ratios of 201 stocks from 2023-01-02 to 2024-11-19 loaded\n"
     ]
    }
   ],
   "source": [
    "file = 'kospi200_ratios.csv'\n",
    "fr = FinancialRatios(file, path_data)"
   ]
  },
  {
   "cell_type": "code",
   "execution_count": 22,
   "id": "ad28f354-e504-4422-b486-9982db82ccf8",
   "metadata": {},
   "outputs": [
    {
     "name": "stdout",
     "output_type": "stream",
     "text": [
      "201 assets from 2021-01-04 to 2024-11-15 uploaded.\n",
      "df_prices loaded\n"
     ]
    },
    {
     "name": "stderr",
     "output_type": "stream",
     "text": [
      "100%|█████████████████████████████████████████████████████████████| 201/201 [07:35<00:00,  2.27s/it]\n"
     ]
    },
    {
     "name": "stdout",
     "output_type": "stream",
     "text": [
      "7.6 mins elapsed, 16.0 secs paused (3.5%)\n",
      "Financial ratios of 201 stocks from 2023-01-02 to 2024-11-19 downloaded\n",
      "kospi200_ratios_241119.csv saved\n"
     ]
    }
   ],
   "source": [
    "start = '2023-01-01'\n",
    "universe = 'UV_K200'\n",
    "freq = 'day'\n",
    "\n",
    "if WidgetUniverse.values(0):\n",
    "    tickers = PM.create_universe(universe).df_prices.columns.to_list()\n",
    "    kw = dict(\n",
    "        freq = freq,\n",
    "        close_today = WidgetUniverse.values(1)\n",
    "    )\n",
    "    fr.download(tickers, start, **kw)"
   ]
  },
  {
   "cell_type": "code",
   "execution_count": 23,
   "id": "d630f9b3-6c80-4b4e-b70f-fd80cbe21127",
   "metadata": {},
   "outputs": [],
   "source": [
    "fratio = 'PER'\n",
    "df_ratio = fr.util_reshape(fratio, stack=False)"
   ]
  },
  {
   "cell_type": "code",
   "execution_count": 24,
   "id": "8db8d716-547e-4f36-bc02-cc70c6af7264",
   "metadata": {},
   "outputs": [
    {
     "name": "stdout",
     "output_type": "stream",
     "text": [
      "201 assets from 2021-01-04 to 2024-11-15 uploaded.\n",
      "df_prices loaded\n",
      "WARNING: 494 days from 2021-01-04 to 2022-12-29 missing in the ratio\n"
     ]
    }
   ],
   "source": [
    "df = PM.create_universe(universe).df_prices\n",
    "fr.util_compare_periods(df)"
   ]
  },
  {
   "cell_type": "markdown",
   "id": "198e84e4-ee73-466e-baa8-e5cbc1be4725",
   "metadata": {},
   "source": [
    "# Performance"
   ]
  },
  {
   "cell_type": "code",
   "execution_count": 7,
   "id": "4f9e3e79-0274-47d0-b5ad-d52e3b3fe202",
   "metadata": {},
   "outputs": [
    {
     "name": "stdout",
     "output_type": "stream",
     "text": [
      "Portfolio: MMT, PER, WTR, LIQ, TDF, HANA, FCTR, KRX\n"
     ]
    }
   ],
   "source": [
    "PM.review()"
   ]
  },
  {
   "cell_type": "code",
   "execution_count": 8,
   "id": "66f39b20-3e42-408f-9d74-bc0dd217ac4e",
   "metadata": {
    "scrolled": true
   },
   "outputs": [
    {
     "name": "stdout",
     "output_type": "stream",
     "text": [
      "MMT:\n",
      "201 securities from 2021-01-04 to 2024-11-28 uploaded.\n",
      "df_prices loaded\n",
      "Transaction record to 2024-11-11 loaded\n",
      "\n",
      "PER:\n",
      "201 securities from 2021-01-04 to 2024-11-28 uploaded.\n",
      "df_prices loaded\n",
      "Transaction record to 2024-11-11 loaded\n",
      "\n",
      "WTR:\n",
      "6 securities from 2021-01-04 to 2024-11-28 uploaded.\n",
      "df_prices loaded\n",
      "Transaction record to 2024-11-20 loaded\n",
      "\n"
     ]
    }
   ],
   "source": [
    "pf_list = ['MMT', 'PER', 'WTR']\n",
    "pm = PM(pf_list)"
   ]
  },
  {
   "cell_type": "code",
   "execution_count": 26,
   "id": "c415e04e-bae6-42c6-b459-3c171923f48f",
   "metadata": {},
   "outputs": [
    {
     "name": "stdout",
     "output_type": "stream",
     "text": [
      "LIQ:\n",
      "24 securities from 2021-01-04 to 2024-11-28 uploaded.\n",
      "df_prices loaded\n",
      "Transaction record to 2024-01-03 loaded\n",
      "\n"
     ]
    }
   ],
   "source": [
    "pm.load('LIQ')\n",
    "#pm.load(['TDF','HANA'])"
   ]
  },
  {
   "cell_type": "code",
   "execution_count": 9,
   "id": "f75e8058-9c75-4e68-bc44-80d2a3638942",
   "metadata": {},
   "outputs": [
    {
     "data": {
      "image/png": "[encoded data removed]",
      "text/plain": [
       "<Figure size 1000x500 with 2 Axes>"
      ]
     },
     "metadata": {},
     "output_type": "display_data"
    }
   ],
   "source": [
    "start_date='2024-07-01'\n",
    "#pm.plot('MMT', start_date=start_date)\n",
    "#pm.plot(pf_list, start_date=start_date, roi=False)\n",
    "pm.plot(start_date=start_date)"
   ]
  },
  {
   "cell_type": "code",
   "execution_count": 10,
   "id": "c7b20465-e301-4a48-bd96-dde42a27a4f2",
   "metadata": {},
   "outputs": [
    {
     "data": {
      "application/vnd.jupyter.widget-view+json": {
       "model_id": "53d99c0adfd74a8b9c35e8d571abc598",
       "version_major": 2,
       "version_minor": 0
      },
      "text/plain": [
       "DatePicker(value=None, layout=Layout(width='200px'), step=1)"
      ]
     },
     "execution_count": 10,
     "metadata": {},
     "output_type": "execute_result"
    }
   ],
   "source": [
    "w_date"
   ]
  },
  {
   "cell_type": "code",
   "execution_count": 11,
   "id": "713f1fea-97dd-47b4-a05a-c0f5611a7f36",
   "metadata": {},
   "outputs": [
    {
     "data": {
      "text/html": [
       "<div>\n",
       "<style scoped>\n",
       "    .dataframe tbody tr th:only-of-type {\n",
       "        vertical-align: middle;\n",
       "    }\n",
       "\n",
       "    .dataframe tbody tr th {\n",
       "        vertical-align: top;\n",
       "    }\n",
       "\n",
       "    .dataframe thead th {\n",
       "        text-align: right;\n",
       "    }\n",
       "</style>\n",
       "<table border=\"1\" class=\"dataframe\">\n",
       "  <thead>\n",
       "    <tr style=\"text-align: right;\">\n",
       "      <th></th>\n",
       "      <th>MMT</th>\n",
       "      <th>PER</th>\n",
       "      <th>WTR</th>\n",
       "      <th>Total</th>\n",
       "    </tr>\n",
       "  </thead>\n",
       "  <tbody>\n",
       "    <tr>\n",
       "      <th>start</th>\n",
       "      <td>2024-07-22</td>\n",
       "      <td>2024-10-17</td>\n",
       "      <td>2024-07-18</td>\n",
       "      <td>2024-07-18</td>\n",
       "    </tr>\n",
       "    <tr>\n",
       "      <th>date</th>\n",
       "      <td>2024-11-28</td>\n",
       "      <td>2024-11-28</td>\n",
       "      <td>2024-11-28</td>\n",
       "      <td>2024-11-28</td>\n",
       "    </tr>\n",
       "    <tr>\n",
       "      <th>buy</th>\n",
       "      <td>29349501</td>\n",
       "      <td>12249820</td>\n",
       "      <td>10113935</td>\n",
       "      <td>51713256</td>\n",
       "    </tr>\n",
       "    <tr>\n",
       "      <th>sell</th>\n",
       "      <td>14322250</td>\n",
       "      <td>2621865</td>\n",
       "      <td>437755</td>\n",
       "      <td>17381870</td>\n",
       "    </tr>\n",
       "    <tr>\n",
       "      <th>value</th>\n",
       "      <td>12423800</td>\n",
       "      <td>9719990</td>\n",
       "      <td>9716960</td>\n",
       "      <td>31860750</td>\n",
       "    </tr>\n",
       "    <tr>\n",
       "      <th>UGL</th>\n",
       "      <td>-2603451</td>\n",
       "      <td>92035</td>\n",
       "      <td>40780</td>\n",
       "      <td>-2470636</td>\n",
       "    </tr>\n",
       "    <tr>\n",
       "      <th>ROI</th>\n",
       "      <td>-0.088705</td>\n",
       "      <td>0.007513</td>\n",
       "      <td>0.004032</td>\n",
       "      <td>-0.047776</td>\n",
       "    </tr>\n",
       "  </tbody>\n",
       "</table>\n",
       "</div>"
      ],
      "text/plain": [
       "              MMT         PER         WTR       Total\n",
       "start  2024-07-22  2024-10-17  2024-07-18  2024-07-18\n",
       "date   2024-11-28  2024-11-28  2024-11-28  2024-11-28\n",
       "buy      29349501    12249820    10113935    51713256\n",
       "sell     14322250     2621865      437755    17381870\n",
       "value    12423800     9719990     9716960    31860750\n",
       "UGL      -2603451       92035       40780    -2470636\n",
       "ROI     -0.088705    0.007513    0.004032   -0.047776"
      ]
     },
     "execution_count": 11,
     "metadata": {},
     "output_type": "execute_result"
    }
   ],
   "source": [
    "pm.valuate(date=w_date.value)"
   ]
  },
  {
   "cell_type": "markdown",
   "id": "2c9b3de9-e20a-4486-9fc7-7ba75bd5fdec",
   "metadata": {},
   "source": [
    "# Transaction"
   ]
  },
  {
   "cell_type": "markdown",
   "id": "8c1d7580-8b01-4154-8c49-14f4063b6b03",
   "metadata": {},
   "source": [
    "## MMT"
   ]
  },
  {
   "cell_type": "code",
   "execution_count": 16,
   "id": "ce7034c3-028d-4acf-bfc8-b57f646d439a",
   "metadata": {},
   "outputs": [
    {
     "name": "stdout",
     "output_type": "stream",
     "text": [
      "201 securities from 2021-01-04 to 2024-11-28 uploaded.\n",
      "df_prices loaded\n",
      "Transaction record to 2024-11-11 loaded\n"
     ]
    }
   ],
   "source": [
    "pf_mmt = PM.create_portfolio('MMT')"
   ]
  },
  {
   "cell_type": "code",
   "execution_count": 17,
   "id": "a9081c9e-ab5f-47a8-8942-35afb67a4621",
   "metadata": {},
   "outputs": [
    {
     "data": {
      "text/plain": [
       "{'data': {'method_select': 'Momentum',\n",
       "  'method_weigh': 'Equally',\n",
       "  'sort_ascending': False,\n",
       "  'n_tickers': 5,\n",
       "  'lookback': '1y',\n",
       "  'lag': '1w',\n",
       "  'file': 'pf_k200_momentum',\n",
       "  'path': 'transaction'},\n",
       " 'name': 'MMT'}"
      ]
     },
     "execution_count": 17,
     "metadata": {},
     "output_type": "execute_result"
    }
   ],
   "source": [
    "pf_mmt.portfolio_data['strategy']"
   ]
  },
  {
   "cell_type": "code",
   "execution_count": 18,
   "id": "1c0cd424-6ed5-43f9-9d79-ba40a32d7df1",
   "metadata": {},
   "outputs": [
    {
     "data": {
      "text/html": [
       "<div>\n",
       "<style scoped>\n",
       "    .dataframe tbody tr th:only-of-type {\n",
       "        vertical-align: middle;\n",
       "    }\n",
       "\n",
       "    .dataframe tbody tr th {\n",
       "        vertical-align: top;\n",
       "    }\n",
       "\n",
       "    .dataframe thead th {\n",
       "        text-align: right;\n",
       "    }\n",
       "</style>\n",
       "<table border=\"1\" class=\"dataframe\">\n",
       "  <thead>\n",
       "    <tr style=\"text-align: right;\">\n",
       "      <th></th>\n",
       "      <th></th>\n",
       "      <th>name</th>\n",
       "      <th>price</th>\n",
       "      <th>transaction</th>\n",
       "      <th>net</th>\n",
       "      <th>weight</th>\n",
       "      <th>weight*</th>\n",
       "    </tr>\n",
       "    <tr>\n",
       "      <th>date</th>\n",
       "      <th>ticker</th>\n",
       "      <th></th>\n",
       "      <th></th>\n",
       "      <th></th>\n",
       "      <th></th>\n",
       "      <th></th>\n",
       "      <th></th>\n",
       "    </tr>\n",
       "  </thead>\n",
       "  <tbody>\n",
       "    <tr>\n",
       "      <th rowspan=\"7\" valign=\"top\">2024-10-08</th>\n",
       "      <th>267260</th>\n",
       "      <td>HD현대일렉트릭</td>\n",
       "      <td>321000</td>\n",
       "      <td>0</td>\n",
       "      <td>8</td>\n",
       "      <td>0.182</td>\n",
       "      <td>0.1742</td>\n",
       "    </tr>\n",
       "    <tr>\n",
       "      <th>012450</th>\n",
       "      <td>한화에어로스페이스</td>\n",
       "      <td>364500</td>\n",
       "      <td>0</td>\n",
       "      <td>9</td>\n",
       "      <td>0.210</td>\n",
       "      <td>0.2225</td>\n",
       "    </tr>\n",
       "    <tr>\n",
       "      <th>079550</th>\n",
       "      <td>LIG넥스원</td>\n",
       "      <td>243500</td>\n",
       "      <td>-3</td>\n",
       "      <td>11</td>\n",
       "      <td>0.192</td>\n",
       "      <td>0.1817</td>\n",
       "    </tr>\n",
       "    <tr>\n",
       "      <th>003230</th>\n",
       "      <td>삼양식품</td>\n",
       "      <td>524000</td>\n",
       "      <td>0</td>\n",
       "      <td>6</td>\n",
       "      <td>0.216</td>\n",
       "      <td>0.2133</td>\n",
       "    </tr>\n",
       "    <tr>\n",
       "      <th>011790</th>\n",
       "      <td>SKC</td>\n",
       "      <td>153600</td>\n",
       "      <td>20</td>\n",
       "      <td>20</td>\n",
       "      <td>0.200</td>\n",
       "      <td>0.2084</td>\n",
       "    </tr>\n",
       "    <tr>\n",
       "      <th>042700</th>\n",
       "      <td>한미반도체</td>\n",
       "      <td>108100</td>\n",
       "      <td>-21</td>\n",
       "      <td>0</td>\n",
       "      <td>NaN</td>\n",
       "      <td>0.0000</td>\n",
       "    </tr>\n",
       "    <tr>\n",
       "      <th>489790</th>\n",
       "      <td>한화인더스트리얼솔루션즈</td>\n",
       "      <td>39350</td>\n",
       "      <td>-9</td>\n",
       "      <td>0</td>\n",
       "      <td>NaN</td>\n",
       "      <td>0.0000</td>\n",
       "    </tr>\n",
       "    <tr>\n",
       "      <th rowspan=\"6\" valign=\"top\">2024-11-11</th>\n",
       "      <th>267260</th>\n",
       "      <td>HD현대일렉트릭</td>\n",
       "      <td>390000</td>\n",
       "      <td>0</td>\n",
       "      <td>8</td>\n",
       "      <td>0.200</td>\n",
       "      <td>0.2119</td>\n",
       "    </tr>\n",
       "    <tr>\n",
       "      <th>012450</th>\n",
       "      <td>한화에어로스페이스</td>\n",
       "      <td>403500</td>\n",
       "      <td>-2</td>\n",
       "      <td>7</td>\n",
       "      <td>0.200</td>\n",
       "      <td>0.1918</td>\n",
       "    </tr>\n",
       "    <tr>\n",
       "      <th>079550</th>\n",
       "      <td>LIG넥스원</td>\n",
       "      <td>266000</td>\n",
       "      <td>0</td>\n",
       "      <td>11</td>\n",
       "      <td>0.200</td>\n",
       "      <td>0.1987</td>\n",
       "    </tr>\n",
       "    <tr>\n",
       "      <th>003230</th>\n",
       "      <td>삼양식품</td>\n",
       "      <td>563000</td>\n",
       "      <td>-1</td>\n",
       "      <td>5</td>\n",
       "      <td>0.200</td>\n",
       "      <td>0.1912</td>\n",
       "    </tr>\n",
       "    <tr>\n",
       "      <th>064350</th>\n",
       "      <td>현대로템</td>\n",
       "      <td>63300</td>\n",
       "      <td>48</td>\n",
       "      <td>48</td>\n",
       "      <td>0.200</td>\n",
       "      <td>0.2064</td>\n",
       "    </tr>\n",
       "    <tr>\n",
       "      <th>011790</th>\n",
       "      <td>SKC</td>\n",
       "      <td>122145</td>\n",
       "      <td>-20</td>\n",
       "      <td>0</td>\n",
       "      <td>NaN</td>\n",
       "      <td>0.0000</td>\n",
       "    </tr>\n",
       "  </tbody>\n",
       "</table>\n",
       "</div>"
      ],
      "text/plain": [
       "                           name   price  transaction  net  weight  weight*\n",
       "date       ticker                                                         \n",
       "2024-10-08 267260      HD현대일렉트릭  321000            0    8   0.182   0.1742\n",
       "           012450     한화에어로스페이스  364500            0    9   0.210   0.2225\n",
       "           079550        LIG넥스원  243500           -3   11   0.192   0.1817\n",
       "           003230          삼양식품  524000            0    6   0.216   0.2133\n",
       "           011790           SKC  153600           20   20   0.200   0.2084\n",
       "           042700         한미반도체  108100          -21    0     NaN   0.0000\n",
       "           489790  한화인더스트리얼솔루션즈   39350           -9    0     NaN   0.0000\n",
       "2024-11-11 267260      HD현대일렉트릭  390000            0    8   0.200   0.2119\n",
       "           012450     한화에어로스페이스  403500           -2    7   0.200   0.1918\n",
       "           079550        LIG넥스원  266000            0   11   0.200   0.1987\n",
       "           003230          삼양식품  563000           -1    5   0.200   0.1912\n",
       "           064350          현대로템   63300           48   48   0.200   0.2064\n",
       "           011790           SKC  122145          -20    0     NaN   0.0000"
      ]
     },
     "execution_count": 18,
     "metadata": {},
     "output_type": "execute_result"
    }
   ],
   "source": [
    "pf_mmt.view_record(-2)"
   ]
  },
  {
   "cell_type": "code",
   "execution_count": 19,
   "id": "ff9dc182-52c7-424f-8acd-06c433602372",
   "metadata": {},
   "outputs": [],
   "source": [
    "# run after editting record file\n",
    "#_ = pf_mmt.update_record(save=True)"
   ]
  },
  {
   "cell_type": "code",
   "execution_count": 20,
   "id": "4dce86f9-1672-4922-b6a5-c10f37d63337",
   "metadata": {},
   "outputs": [
    {
     "name": "stdout",
     "output_type": "stream",
     "text": [
      "Transaction dates updated for profit/loss on the dates\n"
     ]
    },
    {
     "data": {
      "image/png": "[encoded data removed]",
      "text/plain": [
       "<Figure size 1000x600 with 3 Axes>"
      ]
     },
     "metadata": {},
     "output_type": "display_data"
    }
   ],
   "source": [
    "pf_mmt.plot(roi=False)"
   ]
  },
  {
   "cell_type": "code",
   "execution_count": 25,
   "id": "18459292-7c64-4513-8364-99db89ad036f",
   "metadata": {},
   "outputs": [],
   "source": [
    "#pf_mmt.performance(metrics=METRICS)"
   ]
  },
  {
   "cell_type": "code",
   "execution_count": 26,
   "id": "ff8e778d-a780-492a-9a14-945deb966e74",
   "metadata": {},
   "outputs": [
    {
     "data": {
      "application/vnd.jupyter.widget-view+json": {
       "model_id": "818ef2e453f34a02adc2faac44766482",
       "version_major": 2,
       "version_minor": 0
      },
      "text/plain": [
       "VBox(children=(DatePicker(value=None, layout=Layout(width='200px'), step=1), IntSlider(value=0, continuous_upd…"
      ]
     },
     "execution_count": 26,
     "metadata": {},
     "output_type": "execute_result"
    }
   ],
   "source": [
    "# set kwargs of transaction_pipeline\n",
    "WidgetTransaction"
   ]
  },
  {
   "cell_type": "code",
   "execution_count": 32,
   "id": "14f9ea03-bbf3-4335-85fa-22737ba5c920",
   "metadata": {},
   "outputs": [
    {
     "name": "stdout",
     "output_type": "stream",
     "text": [
      "Liquidation set to None\n",
      "5 tickers selected by Total return from 2023-11-15 to 2024-11-15\n",
      "Weights of tickers determined by Equal weights.\n",
      "New cash inflows of 2,000,000\n",
      "Mean absolute error of weights: 6 %\n",
      "Transaction dates updated for profit/loss on the dates\n",
      "ROI: -3.6%, UGL: -1,172,000  (2024-11-22)\n",
      "Set save=True to save transaction record\n"
     ]
    },
    {
     "data": {
      "text/html": [
       "<div>\n",
       "<style scoped>\n",
       "    .dataframe tbody tr th:only-of-type {\n",
       "        vertical-align: middle;\n",
       "    }\n",
       "\n",
       "    .dataframe tbody tr th {\n",
       "        vertical-align: top;\n",
       "    }\n",
       "\n",
       "    .dataframe thead th {\n",
       "        text-align: right;\n",
       "    }\n",
       "</style>\n",
       "<table border=\"1\" class=\"dataframe\">\n",
       "  <thead>\n",
       "    <tr style=\"text-align: right;\">\n",
       "      <th></th>\n",
       "      <th></th>\n",
       "      <th>name</th>\n",
       "      <th>price</th>\n",
       "      <th>transaction</th>\n",
       "      <th>net</th>\n",
       "      <th>weight</th>\n",
       "      <th>weight*</th>\n",
       "    </tr>\n",
       "    <tr>\n",
       "      <th>date</th>\n",
       "      <th>ticker</th>\n",
       "      <th></th>\n",
       "      <th></th>\n",
       "      <th></th>\n",
       "      <th></th>\n",
       "      <th></th>\n",
       "      <th></th>\n",
       "    </tr>\n",
       "  </thead>\n",
       "  <tbody>\n",
       "    <tr>\n",
       "      <th rowspan=\"6\" valign=\"top\">2024-11-11</th>\n",
       "      <th>267260</th>\n",
       "      <td>HD현대일렉트릭</td>\n",
       "      <td>390000</td>\n",
       "      <td>0</td>\n",
       "      <td>8</td>\n",
       "      <td>0.2</td>\n",
       "      <td>0.2119</td>\n",
       "    </tr>\n",
       "    <tr>\n",
       "      <th>012450</th>\n",
       "      <td>한화에어로스페이스</td>\n",
       "      <td>403500</td>\n",
       "      <td>-2</td>\n",
       "      <td>7</td>\n",
       "      <td>0.2</td>\n",
       "      <td>0.1918</td>\n",
       "    </tr>\n",
       "    <tr>\n",
       "      <th>079550</th>\n",
       "      <td>LIG넥스원</td>\n",
       "      <td>266000</td>\n",
       "      <td>0</td>\n",
       "      <td>11</td>\n",
       "      <td>0.2</td>\n",
       "      <td>0.1987</td>\n",
       "    </tr>\n",
       "    <tr>\n",
       "      <th>003230</th>\n",
       "      <td>삼양식품</td>\n",
       "      <td>563000</td>\n",
       "      <td>-1</td>\n",
       "      <td>5</td>\n",
       "      <td>0.2</td>\n",
       "      <td>0.1912</td>\n",
       "    </tr>\n",
       "    <tr>\n",
       "      <th>064350</th>\n",
       "      <td>현대로템</td>\n",
       "      <td>63300</td>\n",
       "      <td>48</td>\n",
       "      <td>48</td>\n",
       "      <td>0.2</td>\n",
       "      <td>0.2064</td>\n",
       "    </tr>\n",
       "    <tr>\n",
       "      <th>011790</th>\n",
       "      <td>SKC</td>\n",
       "      <td>122145</td>\n",
       "      <td>-20</td>\n",
       "      <td>0</td>\n",
       "      <td>NaN</td>\n",
       "      <td>0.0</td>\n",
       "    </tr>\n",
       "    <tr>\n",
       "      <th rowspan=\"6\" valign=\"top\">2024-11-22</th>\n",
       "      <th>267260</th>\n",
       "      <td>HD현대일렉트릭</td>\n",
       "      <td>363000</td>\n",
       "      <td>0</td>\n",
       "      <td>8</td>\n",
       "      <td>0.200</td>\n",
       "      <td>0.1956</td>\n",
       "    </tr>\n",
       "    <tr>\n",
       "      <th>012450</th>\n",
       "      <td>한화에어로스페이스</td>\n",
       "      <td>379500</td>\n",
       "      <td>1</td>\n",
       "      <td>8</td>\n",
       "      <td>0.200</td>\n",
       "      <td>0.2045</td>\n",
       "    </tr>\n",
       "    <tr>\n",
       "      <th>000150</th>\n",
       "      <td>두산</td>\n",
       "      <td>224000</td>\n",
       "      <td>14</td>\n",
       "      <td>14</td>\n",
       "      <td>0.200</td>\n",
       "      <td>0.2112</td>\n",
       "    </tr>\n",
       "    <tr>\n",
       "      <th>003230</th>\n",
       "      <td>삼양식품</td>\n",
       "      <td>532000</td>\n",
       "      <td>0</td>\n",
       "      <td>5</td>\n",
       "      <td>0.200</td>\n",
       "      <td>0.1792</td>\n",
       "    </tr>\n",
       "    <tr>\n",
       "      <th>064350</th>\n",
       "      <td>현대로템</td>\n",
       "      <td>64800</td>\n",
       "      <td>0</td>\n",
       "      <td>48</td>\n",
       "      <td>0.200</td>\n",
       "      <td>0.2095</td>\n",
       "    </tr>\n",
       "    <tr>\n",
       "      <th>079550</th>\n",
       "      <td>LIG넥스원</td>\n",
       "      <td>229500</td>\n",
       "      <td>-11</td>\n",
       "      <td>0</td>\n",
       "      <td>NaN</td>\n",
       "      <td>0</td>\n",
       "    </tr>\n",
       "  </tbody>\n",
       "</table>\n",
       "</div>"
      ],
      "text/plain": [
       "                        name   price  transaction  net weight weight*\n",
       "date       ticker                                                    \n",
       "2024-11-11 267260   HD현대일렉트릭  390000            0    8    0.2  0.2119\n",
       "           012450  한화에어로스페이스  403500           -2    7    0.2  0.1918\n",
       "           079550     LIG넥스원  266000            0   11    0.2  0.1987\n",
       "           003230       삼양식품  563000           -1    5    0.2  0.1912\n",
       "           064350       현대로템   63300           48   48    0.2  0.2064\n",
       "           011790        SKC  122145          -20    0    NaN     0.0\n",
       "2024-11-22 267260   HD현대일렉트릭  363000            0    8  0.200  0.1956\n",
       "           012450  한화에어로스페이스  379500            1    8  0.200  0.2045\n",
       "           000150         두산  224000           14   14  0.200  0.2112\n",
       "           003230       삼양식품  532000            0    5  0.200  0.1792\n",
       "           064350       현대로템   64800            0   48  0.200  0.2095\n",
       "           079550     LIG넥스원  229500          -11    0    NaN       0"
      ]
     },
     "execution_count": 32,
     "metadata": {},
     "output_type": "execute_result"
    }
   ],
   "source": [
    "kwargs_trs = dict(\n",
    "    date = WidgetTransaction.values(0),\n",
    "    capital = WidgetTransaction.values(1),\n",
    "    save = WidgetTransaction.values(2)\n",
    ")\n",
    "kw_liq = dict(\n",
    "    #assets_to_sell= {'489790':34500},\n",
    "    #assets_to_sell= '489790',\n",
    "    #hold= True\n",
    ")\n",
    "_ = pf_mmt.transaction_pipeline(**kwargs_trs, **kw_liq)\n",
    "pf_mmt.view_record(-2)"
   ]
  },
  {
   "cell_type": "markdown",
   "id": "e321b1ba-7505-483c-a08c-636d6fa73d40",
   "metadata": {},
   "source": [
    "### Copy record to edit"
   ]
  },
  {
   "cell_type": "code",
   "execution_count": 11,
   "id": "8e44faa7-52f9-4f88-817b-2afef2d6da1e",
   "metadata": {},
   "outputs": [
    {
     "name": "stdout",
     "output_type": "stream",
     "text": [
      "Transaction record to 2024-09-27 loaded\n",
      "ERROR: check the date as no new transaction\n"
     ]
    }
   ],
   "source": [
    "date = '2024-09-27'\n",
    "save = False\n",
    "\n",
    "pf_mmt.copy_record(date, save=save)"
   ]
  },
  {
   "cell_type": "markdown",
   "id": "2fa7791d-ffa4-4509-81b5-24f4149c9a79",
   "metadata": {},
   "source": [
    "### Update record"
   ]
  },
  {
   "cell_type": "code",
   "execution_count": null,
   "id": "8da825c1-9cf6-4b73-86db-83e7fa99c5d3",
   "metadata": {},
   "outputs": [],
   "source": [
    "pf_mmt.update_record()"
   ]
  },
  {
   "cell_type": "markdown",
   "id": "b8bdce11-c4c7-44dc-bd39-7020450d238d",
   "metadata": {},
   "source": [
    "## KRX\n",
    "*simulation*"
   ]
  },
  {
   "cell_type": "code",
   "execution_count": 16,
   "id": "f52f67b4-a419-43aa-a73b-51683be085fc",
   "metadata": {},
   "outputs": [
    {
     "name": "stdout",
     "output_type": "stream",
     "text": [
      "2712 assets from 2019-01-02 to 2024-10-08 uploaded.\n",
      "df_prices loaded\n",
      "ERROR from get_names: '287410'\n",
      "Transaction record to 2024-10-02 loaded\n"
     ]
    }
   ],
   "source": [
    "pf_krx = PM.create_portfolio('KRX')"
   ]
  },
  {
   "cell_type": "code",
   "execution_count": 17,
   "id": "6d9021e8-73ca-4572-a2dc-e582f517a598",
   "metadata": {},
   "outputs": [
    {
     "data": {
      "text/html": [
       "<div>\n",
       "<style scoped>\n",
       "    .dataframe tbody tr th:only-of-type {\n",
       "        vertical-align: middle;\n",
       "    }\n",
       "\n",
       "    .dataframe tbody tr th {\n",
       "        vertical-align: top;\n",
       "    }\n",
       "\n",
       "    .dataframe thead th {\n",
       "        text-align: right;\n",
       "    }\n",
       "</style>\n",
       "<table border=\"1\" class=\"dataframe\">\n",
       "  <thead>\n",
       "    <tr style=\"text-align: right;\">\n",
       "      <th></th>\n",
       "      <th></th>\n",
       "      <th>name</th>\n",
       "      <th>price</th>\n",
       "      <th>transaction</th>\n",
       "      <th>net</th>\n",
       "      <th>weight</th>\n",
       "      <th>weight*</th>\n",
       "    </tr>\n",
       "    <tr>\n",
       "      <th>date</th>\n",
       "      <th>asset</th>\n",
       "      <th></th>\n",
       "      <th></th>\n",
       "      <th></th>\n",
       "      <th></th>\n",
       "      <th></th>\n",
       "      <th></th>\n",
       "    </tr>\n",
       "  </thead>\n",
       "  <tbody>\n",
       "    <tr>\n",
       "      <th rowspan=\"9\" valign=\"top\">2024-08-01</th>\n",
       "      <th>078860</th>\n",
       "      <td>엔에스이엔엠</td>\n",
       "      <td>10080</td>\n",
       "      <td>-217</td>\n",
       "      <td>109</td>\n",
       "      <td>0.2</td>\n",
       "      <td>0.2056</td>\n",
       "    </tr>\n",
       "    <tr>\n",
       "      <th>016670</th>\n",
       "      <td>디모아</td>\n",
       "      <td>7070</td>\n",
       "      <td>156</td>\n",
       "      <td>156</td>\n",
       "      <td>0.2</td>\n",
       "      <td>0.2064</td>\n",
       "    </tr>\n",
       "    <tr>\n",
       "      <th>159910</th>\n",
       "      <td>스킨앤스킨</td>\n",
       "      <td>1070</td>\n",
       "      <td>1034</td>\n",
       "      <td>1034</td>\n",
       "      <td>0.2</td>\n",
       "      <td>0.2070</td>\n",
       "    </tr>\n",
       "    <tr>\n",
       "      <th>089030</th>\n",
       "      <td>테크윙</td>\n",
       "      <td>51400</td>\n",
       "      <td>21</td>\n",
       "      <td>21</td>\n",
       "      <td>0.2</td>\n",
       "      <td>0.2020</td>\n",
       "    </tr>\n",
       "    <tr>\n",
       "      <th>196170</th>\n",
       "      <td>알테오젠</td>\n",
       "      <td>319000</td>\n",
       "      <td>3</td>\n",
       "      <td>3</td>\n",
       "      <td>0.2</td>\n",
       "      <td>0.1791</td>\n",
       "    </tr>\n",
       "    <tr>\n",
       "      <th>042700</th>\n",
       "      <td>한미반도체</td>\n",
       "      <td>127300</td>\n",
       "      <td>-10</td>\n",
       "      <td>0</td>\n",
       "      <td>NaN</td>\n",
       "      <td>0.0000</td>\n",
       "    </tr>\n",
       "    <tr>\n",
       "      <th>065350</th>\n",
       "      <td>신성델타테크</td>\n",
       "      <td>53800</td>\n",
       "      <td>-21</td>\n",
       "      <td>0</td>\n",
       "      <td>NaN</td>\n",
       "      <td>0.0000</td>\n",
       "    </tr>\n",
       "    <tr>\n",
       "      <th>066790</th>\n",
       "      <td>씨씨에스</td>\n",
       "      <td>2850</td>\n",
       "      <td>-505</td>\n",
       "      <td>0</td>\n",
       "      <td>NaN</td>\n",
       "      <td>0.0000</td>\n",
       "    </tr>\n",
       "    <tr>\n",
       "      <th>139050</th>\n",
       "      <td>BF랩스</td>\n",
       "      <td>2805</td>\n",
       "      <td>-530</td>\n",
       "      <td>0</td>\n",
       "      <td>NaN</td>\n",
       "      <td>0.0000</td>\n",
       "    </tr>\n",
       "    <tr>\n",
       "      <th rowspan=\"6\" valign=\"top\">2024-10-02</th>\n",
       "      <th>078860</th>\n",
       "      <td>엔에스이엔엠</td>\n",
       "      <td>9700</td>\n",
       "      <td>30</td>\n",
       "      <td>139</td>\n",
       "      <td>0.2</td>\n",
       "      <td>0.2000</td>\n",
       "    </tr>\n",
       "    <tr>\n",
       "      <th>016670</th>\n",
       "      <td>디모아</td>\n",
       "      <td>4725</td>\n",
       "      <td>130</td>\n",
       "      <td>286</td>\n",
       "      <td>0.2</td>\n",
       "      <td>0.2004</td>\n",
       "    </tr>\n",
       "    <tr>\n",
       "      <th>033790</th>\n",
       "      <td>피노</td>\n",
       "      <td>9090</td>\n",
       "      <td>148</td>\n",
       "      <td>148</td>\n",
       "      <td>0.2</td>\n",
       "      <td>0.1995</td>\n",
       "    </tr>\n",
       "    <tr>\n",
       "      <th>159910</th>\n",
       "      <td>스킨앤스킨</td>\n",
       "      <td>761</td>\n",
       "      <td>744</td>\n",
       "      <td>1778</td>\n",
       "      <td>0.2</td>\n",
       "      <td>0.2007</td>\n",
       "    </tr>\n",
       "    <tr>\n",
       "      <th>196170</th>\n",
       "      <td>알테오젠</td>\n",
       "      <td>336000</td>\n",
       "      <td>1</td>\n",
       "      <td>4</td>\n",
       "      <td>0.2</td>\n",
       "      <td>0.1993</td>\n",
       "    </tr>\n",
       "    <tr>\n",
       "      <th>089030</th>\n",
       "      <td>테크윙</td>\n",
       "      <td>36500</td>\n",
       "      <td>-21</td>\n",
       "      <td>0</td>\n",
       "      <td>NaN</td>\n",
       "      <td>0.0000</td>\n",
       "    </tr>\n",
       "  </tbody>\n",
       "</table>\n",
       "</div>"
      ],
      "text/plain": [
       "                     name   price  transaction   net  weight  weight*\n",
       "date       asset                                                     \n",
       "2024-08-01 078860  엔에스이엔엠   10080         -217   109     0.2   0.2056\n",
       "           016670     디모아    7070          156   156     0.2   0.2064\n",
       "           159910   스킨앤스킨    1070         1034  1034     0.2   0.2070\n",
       "           089030     테크윙   51400           21    21     0.2   0.2020\n",
       "           196170    알테오젠  319000            3     3     0.2   0.1791\n",
       "           042700   한미반도체  127300          -10     0     NaN   0.0000\n",
       "           065350  신성델타테크   53800          -21     0     NaN   0.0000\n",
       "           066790    씨씨에스    2850         -505     0     NaN   0.0000\n",
       "           139050    BF랩스    2805         -530     0     NaN   0.0000\n",
       "2024-10-02 078860  엔에스이엔엠    9700           30   139     0.2   0.2000\n",
       "           016670     디모아    4725          130   286     0.2   0.2004\n",
       "           033790      피노    9090          148   148     0.2   0.1995\n",
       "           159910   스킨앤스킨     761          744  1778     0.2   0.2007\n",
       "           196170    알테오젠  336000            1     4     0.2   0.1993\n",
       "           089030     테크윙   36500          -21     0     NaN   0.0000"
      ]
     },
     "execution_count": 17,
     "metadata": {},
     "output_type": "execute_result"
    }
   ],
   "source": [
    "pf_krx.view_record(-2)"
   ]
  },
  {
   "cell_type": "code",
   "execution_count": 18,
   "id": "6a0696b3-0980-4f77-9c7d-acd7279e11f8",
   "metadata": {},
   "outputs": [
    {
     "name": "stdout",
     "output_type": "stream",
     "text": [
      "ROI -12.86%, Unrealized G/L -4,042,804 on 2024-10-08\n"
     ]
    },
    {
     "data": {
      "image/png": "[encoded data removed]",
      "text/plain": [
       "<Figure size 1000x600 with 3 Axes>"
      ]
     },
     "metadata": {},
     "output_type": "display_data"
    }
   ],
   "source": [
    "pf_krx.valuate()"
   ]
  },
  {
   "cell_type": "code",
   "execution_count": 19,
   "id": "9c8dedc8-a17e-42a8-9d2b-46f7c5961f18",
   "metadata": {},
   "outputs": [
    {
     "data": {
      "application/vnd.jupyter.widget-view+json": {
       "model_id": "aceb6364a27343919da73be9c93fe721",
       "version_major": 2,
       "version_minor": 0
      },
      "text/plain": [
       "VBox(children=(DatePicker(value=None, layout=Layout(width='200px'), step=1), IntSlider(value=0, continuous_upd…"
      ]
     },
     "execution_count": 19,
     "metadata": {},
     "output_type": "execute_result"
    }
   ],
   "source": [
    "# set kwargs of transaction_pipeline\n",
    "WidgetTransaction"
   ]
  },
  {
   "cell_type": "code",
   "execution_count": 20,
   "id": "ea55973a-431b-4796-9603-f8dfe28f140d",
   "metadata": {},
   "outputs": [
    {
     "name": "stdout",
     "output_type": "stream",
     "text": [
      "Liquidation set to None\n",
      "5 assets selected by Total return from 2023-09-08 to 2024-09-06\n",
      "Weights of assets determined by Equal weights.\n",
      "Mean absolute error of weights: 4 %\n",
      "ROI -12.80%, Unrealized G/L -4,042,804 on 2024-10-08\n",
      "Set save=True to save transaction record\n"
     ]
    },
    {
     "data": {
      "text/html": [
       "<div>\n",
       "<style scoped>\n",
       "    .dataframe tbody tr th:only-of-type {\n",
       "        vertical-align: middle;\n",
       "    }\n",
       "\n",
       "    .dataframe tbody tr th {\n",
       "        vertical-align: top;\n",
       "    }\n",
       "\n",
       "    .dataframe thead th {\n",
       "        text-align: right;\n",
       "    }\n",
       "</style>\n",
       "<table border=\"1\" class=\"dataframe\">\n",
       "  <thead>\n",
       "    <tr style=\"text-align: right;\">\n",
       "      <th></th>\n",
       "      <th></th>\n",
       "      <th>name</th>\n",
       "      <th>price</th>\n",
       "      <th>transaction</th>\n",
       "      <th>net</th>\n",
       "      <th>weight</th>\n",
       "      <th>weight*</th>\n",
       "    </tr>\n",
       "    <tr>\n",
       "      <th>date</th>\n",
       "      <th>asset</th>\n",
       "      <th></th>\n",
       "      <th></th>\n",
       "      <th></th>\n",
       "      <th></th>\n",
       "      <th></th>\n",
       "      <th></th>\n",
       "    </tr>\n",
       "  </thead>\n",
       "  <tbody>\n",
       "    <tr>\n",
       "      <th rowspan=\"6\" valign=\"top\">2024-10-02</th>\n",
       "      <th>078860</th>\n",
       "      <td>엔에스이엔엠</td>\n",
       "      <td>9700</td>\n",
       "      <td>30</td>\n",
       "      <td>139</td>\n",
       "      <td>0.2</td>\n",
       "      <td>0.2</td>\n",
       "    </tr>\n",
       "    <tr>\n",
       "      <th>016670</th>\n",
       "      <td>디모아</td>\n",
       "      <td>4725</td>\n",
       "      <td>130</td>\n",
       "      <td>286</td>\n",
       "      <td>0.2</td>\n",
       "      <td>0.2004</td>\n",
       "    </tr>\n",
       "    <tr>\n",
       "      <th>033790</th>\n",
       "      <td>피노</td>\n",
       "      <td>9090</td>\n",
       "      <td>148</td>\n",
       "      <td>148</td>\n",
       "      <td>0.2</td>\n",
       "      <td>0.1995</td>\n",
       "    </tr>\n",
       "    <tr>\n",
       "      <th>159910</th>\n",
       "      <td>스킨앤스킨</td>\n",
       "      <td>761</td>\n",
       "      <td>744</td>\n",
       "      <td>1778</td>\n",
       "      <td>0.2</td>\n",
       "      <td>0.2007</td>\n",
       "    </tr>\n",
       "    <tr>\n",
       "      <th>196170</th>\n",
       "      <td>알테오젠</td>\n",
       "      <td>336000</td>\n",
       "      <td>1</td>\n",
       "      <td>4</td>\n",
       "      <td>0.2</td>\n",
       "      <td>0.1993</td>\n",
       "    </tr>\n",
       "    <tr>\n",
       "      <th>089030</th>\n",
       "      <td>테크윙</td>\n",
       "      <td>36500</td>\n",
       "      <td>-21</td>\n",
       "      <td>0</td>\n",
       "      <td>NaN</td>\n",
       "      <td>0.0</td>\n",
       "    </tr>\n",
       "    <tr>\n",
       "      <th rowspan=\"5\" valign=\"top\">2024-10-08</th>\n",
       "      <th>078860</th>\n",
       "      <td>None</td>\n",
       "      <td>9390</td>\n",
       "      <td>6</td>\n",
       "      <td>145</td>\n",
       "      <td>0.200</td>\n",
       "      <td>0.2079</td>\n",
       "    </tr>\n",
       "    <tr>\n",
       "      <th>016670</th>\n",
       "      <td>None</td>\n",
       "      <td>4865</td>\n",
       "      <td>-6</td>\n",
       "      <td>280</td>\n",
       "      <td>0.200</td>\n",
       "      <td>0.2080</td>\n",
       "    </tr>\n",
       "    <tr>\n",
       "      <th>033790</th>\n",
       "      <td>None</td>\n",
       "      <td>9040</td>\n",
       "      <td>2</td>\n",
       "      <td>150</td>\n",
       "      <td>0.200</td>\n",
       "      <td>0.2070</td>\n",
       "    </tr>\n",
       "    <tr>\n",
       "      <th>196170</th>\n",
       "      <td>None</td>\n",
       "      <td>369000</td>\n",
       "      <td>-1</td>\n",
       "      <td>3</td>\n",
       "      <td>0.200</td>\n",
       "      <td>0.1690</td>\n",
       "    </tr>\n",
       "    <tr>\n",
       "      <th>159910</th>\n",
       "      <td>None</td>\n",
       "      <td>734</td>\n",
       "      <td>79</td>\n",
       "      <td>1857</td>\n",
       "      <td>0.200</td>\n",
       "      <td>0.2081</td>\n",
       "    </tr>\n",
       "  </tbody>\n",
       "</table>\n",
       "</div>"
      ],
      "text/plain": [
       "                     name   price  transaction   net weight weight*\n",
       "date       asset                                                   \n",
       "2024-10-02 078860  엔에스이엔엠    9700           30   139    0.2     0.2\n",
       "           016670     디모아    4725          130   286    0.2  0.2004\n",
       "           033790      피노    9090          148   148    0.2  0.1995\n",
       "           159910   스킨앤스킨     761          744  1778    0.2  0.2007\n",
       "           196170    알테오젠  336000            1     4    0.2  0.1993\n",
       "           089030     테크윙   36500          -21     0    NaN     0.0\n",
       "2024-10-08 078860    None    9390            6   145  0.200  0.2079\n",
       "           016670    None    4865           -6   280  0.200  0.2080\n",
       "           033790    None    9040            2   150  0.200  0.2070\n",
       "           196170    None  369000           -1     3  0.200  0.1690\n",
       "           159910    None     734           79  1857  0.200  0.2081"
      ]
     },
     "execution_count": 20,
     "metadata": {},
     "output_type": "execute_result"
    }
   ],
   "source": [
    "kwargs_trs = dict(\n",
    "    date = WidgetTransaction.values(0),\n",
    "    capital = WidgetTransaction.values(1),\n",
    "    save = WidgetTransaction.values(2)\n",
    ")\n",
    "\n",
    "_ = pf_krx.transaction_pipeline(**kwargs_trs)\n",
    "pf_krx.view_record(-2)"
   ]
  },
  {
   "cell_type": "markdown",
   "id": "819496ef-539e-45bb-a0cc-b2b968b6f76e",
   "metadata": {},
   "source": [
    "## PER"
   ]
  },
  {
   "cell_type": "code",
   "execution_count": 33,
   "id": "7b89e9ae-4237-44c8-99f3-5069eec7fa63",
   "metadata": {},
   "outputs": [
    {
     "name": "stdout",
     "output_type": "stream",
     "text": [
      "Financial ratios of 201 stocks from 2023-01-02 to 2024-11-19 loaded\n"
     ]
    }
   ],
   "source": [
    "file = 'kospi200_ratios.csv'\n",
    "df_ratio = FinancialRatios.util_get_ratio('PER', file, path_data)"
   ]
  },
  {
   "cell_type": "code",
   "execution_count": 34,
   "id": "4292bb7e-83e5-4b1f-bd4a-69029b9339c8",
   "metadata": {},
   "outputs": [
    {
     "name": "stdout",
     "output_type": "stream",
     "text": [
      "201 securities from 2021-01-04 to 2024-11-22 uploaded.\n",
      "df_prices loaded\n",
      "Transaction record to 2024-11-11 loaded\n"
     ]
    }
   ],
   "source": [
    "pf_per = PM.create_portfolio('PER', df_additional=df_ratio)"
   ]
  },
  {
   "cell_type": "code",
   "execution_count": 35,
   "id": "96975148-ae7b-4cd8-86b0-9a748ba28d5f",
   "metadata": {},
   "outputs": [
    {
     "data": {
      "text/plain": [
       "{'universe': {'data': {'universe': 'kospi200',\n",
       "   'file': 'kospi200_prices',\n",
       "   'tickers': 'KRX/INDEX/STOCK/1028',\n",
       "   'daily': True,\n",
       "   'path': 'data'},\n",
       "  'name': 'UV_K200'},\n",
       " 'strategy': {'data': {'method_select': 'F-ratio',\n",
       "   'method_weigh': 'Equally',\n",
       "   'sort_ascending': True,\n",
       "   'n_tickers': 20,\n",
       "   'lookback': '2m',\n",
       "   'lag': 0,\n",
       "   'file': 'pf_k200_per',\n",
       "   'path': 'transaction'},\n",
       "  'name': 'PER'}}"
      ]
     },
     "execution_count": 35,
     "metadata": {},
     "output_type": "execute_result"
    }
   ],
   "source": [
    "pf_per.portfolio_data"
   ]
  },
  {
   "cell_type": "code",
   "execution_count": 36,
   "id": "77027256-82a9-4fd7-89ed-b854710eae4f",
   "metadata": {},
   "outputs": [
    {
     "data": {
      "text/html": [
       "<div>\n",
       "<style scoped>\n",
       "    .dataframe tbody tr th:only-of-type {\n",
       "        vertical-align: middle;\n",
       "    }\n",
       "\n",
       "    .dataframe tbody tr th {\n",
       "        vertical-align: top;\n",
       "    }\n",
       "\n",
       "    .dataframe thead th {\n",
       "        text-align: right;\n",
       "    }\n",
       "</style>\n",
       "<table border=\"1\" class=\"dataframe\">\n",
       "  <thead>\n",
       "    <tr style=\"text-align: right;\">\n",
       "      <th></th>\n",
       "      <th></th>\n",
       "      <th>name</th>\n",
       "      <th>price</th>\n",
       "      <th>transaction</th>\n",
       "      <th>net</th>\n",
       "      <th>weight</th>\n",
       "      <th>weight*</th>\n",
       "    </tr>\n",
       "    <tr>\n",
       "      <th>date</th>\n",
       "      <th>ticker</th>\n",
       "      <th></th>\n",
       "      <th></th>\n",
       "      <th></th>\n",
       "      <th></th>\n",
       "      <th></th>\n",
       "      <th></th>\n",
       "    </tr>\n",
       "  </thead>\n",
       "  <tbody>\n",
       "    <tr>\n",
       "      <th rowspan=\"5\" valign=\"top\">2024-10-17</th>\n",
       "      <th>010060</th>\n",
       "      <td>OCI홀딩스</td>\n",
       "      <td>66700</td>\n",
       "      <td>14</td>\n",
       "      <td>14</td>\n",
       "      <td>0.20</td>\n",
       "      <td>0.1892</td>\n",
       "    </tr>\n",
       "    <tr>\n",
       "      <th>003030</th>\n",
       "      <td>세아제강지주</td>\n",
       "      <td>164450</td>\n",
       "      <td>6</td>\n",
       "      <td>6</td>\n",
       "      <td>0.20</td>\n",
       "      <td>0.1999</td>\n",
       "    </tr>\n",
       "    <tr>\n",
       "      <th>009970</th>\n",
       "      <td>영원무역홀딩스</td>\n",
       "      <td>89000</td>\n",
       "      <td>11</td>\n",
       "      <td>11</td>\n",
       "      <td>0.20</td>\n",
       "      <td>0.1983</td>\n",
       "    </tr>\n",
       "    <tr>\n",
       "      <th>016380</th>\n",
       "      <td>KG스틸</td>\n",
       "      <td>6600</td>\n",
       "      <td>154</td>\n",
       "      <td>154</td>\n",
       "      <td>0.20</td>\n",
       "      <td>0.2059</td>\n",
       "    </tr>\n",
       "    <tr>\n",
       "      <th>047040</th>\n",
       "      <td>대우건설</td>\n",
       "      <td>3820</td>\n",
       "      <td>267</td>\n",
       "      <td>267</td>\n",
       "      <td>0.20</td>\n",
       "      <td>0.2066</td>\n",
       "    </tr>\n",
       "    <tr>\n",
       "      <th rowspan=\"20\" valign=\"top\">2024-11-11</th>\n",
       "      <th>010060</th>\n",
       "      <td>OCI홀딩스</td>\n",
       "      <td>59800</td>\n",
       "      <td>-6</td>\n",
       "      <td>8</td>\n",
       "      <td>0.05</td>\n",
       "      <td>0.0497</td>\n",
       "    </tr>\n",
       "    <tr>\n",
       "      <th>003030</th>\n",
       "      <td>세아제강지주</td>\n",
       "      <td>193300</td>\n",
       "      <td>-4</td>\n",
       "      <td>2</td>\n",
       "      <td>0.05</td>\n",
       "      <td>0.0402</td>\n",
       "    </tr>\n",
       "    <tr>\n",
       "      <th>009970</th>\n",
       "      <td>영원무역홀딩스</td>\n",
       "      <td>85700</td>\n",
       "      <td>-6</td>\n",
       "      <td>5</td>\n",
       "      <td>0.05</td>\n",
       "      <td>0.0446</td>\n",
       "    </tr>\n",
       "    <tr>\n",
       "      <th>016380</th>\n",
       "      <td>KG스틸</td>\n",
       "      <td>6590</td>\n",
       "      <td>-78</td>\n",
       "      <td>76</td>\n",
       "      <td>0.05</td>\n",
       "      <td>0.0521</td>\n",
       "    </tr>\n",
       "    <tr>\n",
       "      <th>047040</th>\n",
       "      <td>대우건설</td>\n",
       "      <td>3635</td>\n",
       "      <td>-127</td>\n",
       "      <td>140</td>\n",
       "      <td>0.05</td>\n",
       "      <td>0.0529</td>\n",
       "    </tr>\n",
       "    <tr>\n",
       "      <th>088350</th>\n",
       "      <td>한화생명</td>\n",
       "      <td>2865</td>\n",
       "      <td>180</td>\n",
       "      <td>180</td>\n",
       "      <td>0.05</td>\n",
       "      <td>0.0536</td>\n",
       "    </tr>\n",
       "    <tr>\n",
       "      <th>078930</th>\n",
       "      <td>GS</td>\n",
       "      <td>41600</td>\n",
       "      <td>12</td>\n",
       "      <td>12</td>\n",
       "      <td>0.05</td>\n",
       "      <td>0.0519</td>\n",
       "    </tr>\n",
       "    <tr>\n",
       "      <th>111770</th>\n",
       "      <td>영원무역</td>\n",
       "      <td>40150</td>\n",
       "      <td>12</td>\n",
       "      <td>12</td>\n",
       "      <td>0.05</td>\n",
       "      <td>0.0501</td>\n",
       "    </tr>\n",
       "    <tr>\n",
       "      <th>139130</th>\n",
       "      <td>DGB금융지주</td>\n",
       "      <td>8250</td>\n",
       "      <td>63</td>\n",
       "      <td>63</td>\n",
       "      <td>0.05</td>\n",
       "      <td>0.0540</td>\n",
       "    </tr>\n",
       "    <tr>\n",
       "      <th>005830</th>\n",
       "      <td>DB손해보험</td>\n",
       "      <td>106900</td>\n",
       "      <td>4</td>\n",
       "      <td>4</td>\n",
       "      <td>0.05</td>\n",
       "      <td>0.0445</td>\n",
       "    </tr>\n",
       "    <tr>\n",
       "      <th>001450</th>\n",
       "      <td>현대해상</td>\n",
       "      <td>29750</td>\n",
       "      <td>17</td>\n",
       "      <td>17</td>\n",
       "      <td>0.05</td>\n",
       "      <td>0.0526</td>\n",
       "    </tr>\n",
       "    <tr>\n",
       "      <th>009900</th>\n",
       "      <td>명신산업</td>\n",
       "      <td>13770</td>\n",
       "      <td>36</td>\n",
       "      <td>36</td>\n",
       "      <td>0.05</td>\n",
       "      <td>0.0515</td>\n",
       "    </tr>\n",
       "    <tr>\n",
       "      <th>241560</th>\n",
       "      <td>두산밥캣</td>\n",
       "      <td>40000</td>\n",
       "      <td>13</td>\n",
       "      <td>13</td>\n",
       "      <td>0.05</td>\n",
       "      <td>0.0541</td>\n",
       "    </tr>\n",
       "    <tr>\n",
       "      <th>000270</th>\n",
       "      <td>기아</td>\n",
       "      <td>93600</td>\n",
       "      <td>5</td>\n",
       "      <td>5</td>\n",
       "      <td>0.05</td>\n",
       "      <td>0.0487</td>\n",
       "    </tr>\n",
       "    <tr>\n",
       "      <th>024110</th>\n",
       "      <td>기업은행</td>\n",
       "      <td>14570</td>\n",
       "      <td>35</td>\n",
       "      <td>35</td>\n",
       "      <td>0.05</td>\n",
       "      <td>0.0530</td>\n",
       "    </tr>\n",
       "    <tr>\n",
       "      <th>005850</th>\n",
       "      <td>에스엘</td>\n",
       "      <td>31350</td>\n",
       "      <td>16</td>\n",
       "      <td>16</td>\n",
       "      <td>0.05</td>\n",
       "      <td>0.0522</td>\n",
       "    </tr>\n",
       "    <tr>\n",
       "      <th>316140</th>\n",
       "      <td>우리금융지주</td>\n",
       "      <td>16080</td>\n",
       "      <td>32</td>\n",
       "      <td>32</td>\n",
       "      <td>0.05</td>\n",
       "      <td>0.0535</td>\n",
       "    </tr>\n",
       "    <tr>\n",
       "      <th>138930</th>\n",
       "      <td>BNK금융지주</td>\n",
       "      <td>9430</td>\n",
       "      <td>55</td>\n",
       "      <td>55</td>\n",
       "      <td>0.05</td>\n",
       "      <td>0.0539</td>\n",
       "    </tr>\n",
       "    <tr>\n",
       "      <th>005380</th>\n",
       "      <td>현대차</td>\n",
       "      <td>209500</td>\n",
       "      <td>2</td>\n",
       "      <td>2</td>\n",
       "      <td>0.05</td>\n",
       "      <td>0.0436</td>\n",
       "    </tr>\n",
       "    <tr>\n",
       "      <th>017800</th>\n",
       "      <td>현대엘리베이</td>\n",
       "      <td>46300</td>\n",
       "      <td>9</td>\n",
       "      <td>9</td>\n",
       "      <td>0.05</td>\n",
       "      <td>0.0433</td>\n",
       "    </tr>\n",
       "  </tbody>\n",
       "</table>\n",
       "</div>"
      ],
      "text/plain": [
       "                      name   price  transaction  net  weight  weight*\n",
       "date       ticker                                                    \n",
       "2024-10-17 010060   OCI홀딩스   66700           14   14    0.20   0.1892\n",
       "           003030   세아제강지주  164450            6    6    0.20   0.1999\n",
       "           009970  영원무역홀딩스   89000           11   11    0.20   0.1983\n",
       "           016380     KG스틸    6600          154  154    0.20   0.2059\n",
       "           047040     대우건설    3820          267  267    0.20   0.2066\n",
       "2024-11-11 010060   OCI홀딩스   59800           -6    8    0.05   0.0497\n",
       "           003030   세아제강지주  193300           -4    2    0.05   0.0402\n",
       "           009970  영원무역홀딩스   85700           -6    5    0.05   0.0446\n",
       "           016380     KG스틸    6590          -78   76    0.05   0.0521\n",
       "           047040     대우건설    3635         -127  140    0.05   0.0529\n",
       "           088350     한화생명    2865          180  180    0.05   0.0536\n",
       "           078930       GS   41600           12   12    0.05   0.0519\n",
       "           111770     영원무역   40150           12   12    0.05   0.0501\n",
       "           139130  DGB금융지주    8250           63   63    0.05   0.0540\n",
       "           005830   DB손해보험  106900            4    4    0.05   0.0445\n",
       "           001450     현대해상   29750           17   17    0.05   0.0526\n",
       "           009900     명신산업   13770           36   36    0.05   0.0515\n",
       "           241560     두산밥캣   40000           13   13    0.05   0.0541\n",
       "           000270       기아   93600            5    5    0.05   0.0487\n",
       "           024110     기업은행   14570           35   35    0.05   0.0530\n",
       "           005850      에스엘   31350           16   16    0.05   0.0522\n",
       "           316140   우리금융지주   16080           32   32    0.05   0.0535\n",
       "           138930  BNK금융지주    9430           55   55    0.05   0.0539\n",
       "           005380      현대차  209500            2    2    0.05   0.0436\n",
       "           017800   현대엘리베이   46300            9    9    0.05   0.0433"
      ]
     },
     "execution_count": 36,
     "metadata": {},
     "output_type": "execute_result"
    }
   ],
   "source": [
    "pf_per.view_record(-2)"
   ]
  },
  {
   "cell_type": "code",
   "execution_count": 37,
   "id": "1ae8ab89-ee16-4831-9198-0cf36b40d258",
   "metadata": {},
   "outputs": [],
   "source": [
    "#pf_per.update_record()\n",
    "#pf_per.view_record(-2)"
   ]
  },
  {
   "cell_type": "code",
   "execution_count": 38,
   "id": "26a53806",
   "metadata": {},
   "outputs": [
    {
     "name": "stdout",
     "output_type": "stream",
     "text": [
      "Transaction dates updated for profit/loss on the dates\n"
     ]
    },
    {
     "data": {
      "image/png": "[encoded data removed]",
      "text/plain": [
       "<Figure size 1000x600 with 3 Axes>"
      ]
     },
     "metadata": {},
     "output_type": "display_data"
    }
   ],
   "source": [
    "pf_per.plot()"
   ]
  },
  {
   "cell_type": "code",
   "execution_count": 39,
   "id": "f5d92ef5-2650-475f-9bf0-b19e540776c4",
   "metadata": {},
   "outputs": [
    {
     "data": {
      "image/png": "[encoded data removed]",
      "text/plain": [
       "<Figure size 1000x400 with 2 Axes>"
      ]
     },
     "metadata": {},
     "output_type": "display_data"
    }
   ],
   "source": [
    "_ = pf_per.check_additional(plot=True, figsize=(10,4), legend=False)"
   ]
  },
  {
   "cell_type": "code",
   "execution_count": 40,
   "id": "55d460f4",
   "metadata": {},
   "outputs": [
    {
     "data": {
      "application/vnd.jupyter.widget-view+json": {
       "model_id": "818ef2e453f34a02adc2faac44766482",
       "version_major": 2,
       "version_minor": 0
      },
      "text/plain": [
       "VBox(children=(DatePicker(value=None, layout=Layout(width='200px'), step=1), IntSlider(value=2000000, continuo…"
      ]
     },
     "execution_count": 40,
     "metadata": {},
     "output_type": "execute_result"
    }
   ],
   "source": [
    "# set kwargs of transaction_pipeline\n",
    "WidgetTransaction"
   ]
  },
  {
   "cell_type": "code",
   "execution_count": 41,
   "id": "52665cf9",
   "metadata": {},
   "outputs": [
    {
     "name": "stdout",
     "output_type": "stream",
     "text": [
      "Liquidation set to None\n",
      "ERROR: no ratio for \"['2024-11-20', '2024-11-21', '2024-11-22'] not in index\"\n"
     ]
    },
    {
     "data": {
      "text/html": [
       "<div>\n",
       "<style scoped>\n",
       "    .dataframe tbody tr th:only-of-type {\n",
       "        vertical-align: middle;\n",
       "    }\n",
       "\n",
       "    .dataframe tbody tr th {\n",
       "        vertical-align: top;\n",
       "    }\n",
       "\n",
       "    .dataframe thead th {\n",
       "        text-align: right;\n",
       "    }\n",
       "</style>\n",
       "<table border=\"1\" class=\"dataframe\">\n",
       "  <thead>\n",
       "    <tr style=\"text-align: right;\">\n",
       "      <th></th>\n",
       "      <th></th>\n",
       "      <th>name</th>\n",
       "      <th>price</th>\n",
       "      <th>transaction</th>\n",
       "      <th>net</th>\n",
       "      <th>weight</th>\n",
       "      <th>weight*</th>\n",
       "    </tr>\n",
       "    <tr>\n",
       "      <th>date</th>\n",
       "      <th>ticker</th>\n",
       "      <th></th>\n",
       "      <th></th>\n",
       "      <th></th>\n",
       "      <th></th>\n",
       "      <th></th>\n",
       "      <th></th>\n",
       "    </tr>\n",
       "  </thead>\n",
       "  <tbody>\n",
       "    <tr>\n",
       "      <th rowspan=\"20\" valign=\"top\">2024-11-11</th>\n",
       "      <th>010060</th>\n",
       "      <td>OCI홀딩스</td>\n",
       "      <td>59800</td>\n",
       "      <td>-6</td>\n",
       "      <td>8</td>\n",
       "      <td>0.05</td>\n",
       "      <td>0.0497</td>\n",
       "    </tr>\n",
       "    <tr>\n",
       "      <th>003030</th>\n",
       "      <td>세아제강지주</td>\n",
       "      <td>193300</td>\n",
       "      <td>-4</td>\n",
       "      <td>2</td>\n",
       "      <td>0.05</td>\n",
       "      <td>0.0402</td>\n",
       "    </tr>\n",
       "    <tr>\n",
       "      <th>009970</th>\n",
       "      <td>영원무역홀딩스</td>\n",
       "      <td>85700</td>\n",
       "      <td>-6</td>\n",
       "      <td>5</td>\n",
       "      <td>0.05</td>\n",
       "      <td>0.0446</td>\n",
       "    </tr>\n",
       "    <tr>\n",
       "      <th>016380</th>\n",
       "      <td>KG스틸</td>\n",
       "      <td>6590</td>\n",
       "      <td>-78</td>\n",
       "      <td>76</td>\n",
       "      <td>0.05</td>\n",
       "      <td>0.0521</td>\n",
       "    </tr>\n",
       "    <tr>\n",
       "      <th>047040</th>\n",
       "      <td>대우건설</td>\n",
       "      <td>3635</td>\n",
       "      <td>-127</td>\n",
       "      <td>140</td>\n",
       "      <td>0.05</td>\n",
       "      <td>0.0529</td>\n",
       "    </tr>\n",
       "    <tr>\n",
       "      <th>088350</th>\n",
       "      <td>한화생명</td>\n",
       "      <td>2865</td>\n",
       "      <td>180</td>\n",
       "      <td>180</td>\n",
       "      <td>0.05</td>\n",
       "      <td>0.0536</td>\n",
       "    </tr>\n",
       "    <tr>\n",
       "      <th>078930</th>\n",
       "      <td>GS</td>\n",
       "      <td>41600</td>\n",
       "      <td>12</td>\n",
       "      <td>12</td>\n",
       "      <td>0.05</td>\n",
       "      <td>0.0519</td>\n",
       "    </tr>\n",
       "    <tr>\n",
       "      <th>111770</th>\n",
       "      <td>영원무역</td>\n",
       "      <td>40150</td>\n",
       "      <td>12</td>\n",
       "      <td>12</td>\n",
       "      <td>0.05</td>\n",
       "      <td>0.0501</td>\n",
       "    </tr>\n",
       "    <tr>\n",
       "      <th>139130</th>\n",
       "      <td>DGB금융지주</td>\n",
       "      <td>8250</td>\n",
       "      <td>63</td>\n",
       "      <td>63</td>\n",
       "      <td>0.05</td>\n",
       "      <td>0.0540</td>\n",
       "    </tr>\n",
       "    <tr>\n",
       "      <th>005830</th>\n",
       "      <td>DB손해보험</td>\n",
       "      <td>106900</td>\n",
       "      <td>4</td>\n",
       "      <td>4</td>\n",
       "      <td>0.05</td>\n",
       "      <td>0.0445</td>\n",
       "    </tr>\n",
       "    <tr>\n",
       "      <th>001450</th>\n",
       "      <td>현대해상</td>\n",
       "      <td>29750</td>\n",
       "      <td>17</td>\n",
       "      <td>17</td>\n",
       "      <td>0.05</td>\n",
       "      <td>0.0526</td>\n",
       "    </tr>\n",
       "    <tr>\n",
       "      <th>009900</th>\n",
       "      <td>명신산업</td>\n",
       "      <td>13770</td>\n",
       "      <td>36</td>\n",
       "      <td>36</td>\n",
       "      <td>0.05</td>\n",
       "      <td>0.0515</td>\n",
       "    </tr>\n",
       "    <tr>\n",
       "      <th>241560</th>\n",
       "      <td>두산밥캣</td>\n",
       "      <td>40000</td>\n",
       "      <td>13</td>\n",
       "      <td>13</td>\n",
       "      <td>0.05</td>\n",
       "      <td>0.0541</td>\n",
       "    </tr>\n",
       "    <tr>\n",
       "      <th>000270</th>\n",
       "      <td>기아</td>\n",
       "      <td>93600</td>\n",
       "      <td>5</td>\n",
       "      <td>5</td>\n",
       "      <td>0.05</td>\n",
       "      <td>0.0487</td>\n",
       "    </tr>\n",
       "    <tr>\n",
       "      <th>024110</th>\n",
       "      <td>기업은행</td>\n",
       "      <td>14570</td>\n",
       "      <td>35</td>\n",
       "      <td>35</td>\n",
       "      <td>0.05</td>\n",
       "      <td>0.0530</td>\n",
       "    </tr>\n",
       "    <tr>\n",
       "      <th>005850</th>\n",
       "      <td>에스엘</td>\n",
       "      <td>31350</td>\n",
       "      <td>16</td>\n",
       "      <td>16</td>\n",
       "      <td>0.05</td>\n",
       "      <td>0.0522</td>\n",
       "    </tr>\n",
       "    <tr>\n",
       "      <th>316140</th>\n",
       "      <td>우리금융지주</td>\n",
       "      <td>16080</td>\n",
       "      <td>32</td>\n",
       "      <td>32</td>\n",
       "      <td>0.05</td>\n",
       "      <td>0.0535</td>\n",
       "    </tr>\n",
       "    <tr>\n",
       "      <th>138930</th>\n",
       "      <td>BNK금융지주</td>\n",
       "      <td>9430</td>\n",
       "      <td>55</td>\n",
       "      <td>55</td>\n",
       "      <td>0.05</td>\n",
       "      <td>0.0539</td>\n",
       "    </tr>\n",
       "    <tr>\n",
       "      <th>005380</th>\n",
       "      <td>현대차</td>\n",
       "      <td>209500</td>\n",
       "      <td>2</td>\n",
       "      <td>2</td>\n",
       "      <td>0.05</td>\n",
       "      <td>0.0436</td>\n",
       "    </tr>\n",
       "    <tr>\n",
       "      <th>017800</th>\n",
       "      <td>현대엘리베이</td>\n",
       "      <td>46300</td>\n",
       "      <td>9</td>\n",
       "      <td>9</td>\n",
       "      <td>0.05</td>\n",
       "      <td>0.0433</td>\n",
       "    </tr>\n",
       "  </tbody>\n",
       "</table>\n",
       "</div>"
      ],
      "text/plain": [
       "                      name   price  transaction  net  weight  weight*\n",
       "date       ticker                                                    \n",
       "2024-11-11 010060   OCI홀딩스   59800           -6    8    0.05   0.0497\n",
       "           003030   세아제강지주  193300           -4    2    0.05   0.0402\n",
       "           009970  영원무역홀딩스   85700           -6    5    0.05   0.0446\n",
       "           016380     KG스틸    6590          -78   76    0.05   0.0521\n",
       "           047040     대우건설    3635         -127  140    0.05   0.0529\n",
       "           088350     한화생명    2865          180  180    0.05   0.0536\n",
       "           078930       GS   41600           12   12    0.05   0.0519\n",
       "           111770     영원무역   40150           12   12    0.05   0.0501\n",
       "           139130  DGB금융지주    8250           63   63    0.05   0.0540\n",
       "           005830   DB손해보험  106900            4    4    0.05   0.0445\n",
       "           001450     현대해상   29750           17   17    0.05   0.0526\n",
       "           009900     명신산업   13770           36   36    0.05   0.0515\n",
       "           241560     두산밥캣   40000           13   13    0.05   0.0541\n",
       "           000270       기아   93600            5    5    0.05   0.0487\n",
       "           024110     기업은행   14570           35   35    0.05   0.0530\n",
       "           005850      에스엘   31350           16   16    0.05   0.0522\n",
       "           316140   우리금융지주   16080           32   32    0.05   0.0535\n",
       "           138930  BNK금융지주    9430           55   55    0.05   0.0539\n",
       "           005380      현대차  209500            2    2    0.05   0.0436\n",
       "           017800   현대엘리베이   46300            9    9    0.05   0.0433"
      ]
     },
     "execution_count": 41,
     "metadata": {},
     "output_type": "execute_result"
    }
   ],
   "source": [
    "kwargs_trs = dict(\n",
    "    date = WidgetTransaction.values(0),\n",
    "    capital = WidgetTransaction.values(1),\n",
    "    save = WidgetTransaction.values(2)\n",
    ")\n",
    "\n",
    "_ = pf_per.transaction_pipeline(**kwargs_trs)\n",
    "pf_per.view_record(-1)"
   ]
  },
  {
   "cell_type": "code",
   "execution_count": 42,
   "id": "5d74a201-f15b-4912-8189-08b9a823fd5a",
   "metadata": {},
   "outputs": [],
   "source": [
    "#pf_per.update_record()"
   ]
  },
  {
   "cell_type": "markdown",
   "id": "c7cd959d-e330-4d8c-9f6b-a277b01e94f5",
   "metadata": {},
   "source": [
    "## WTR\n",
    "*modified all weather*"
   ]
  },
  {
   "cell_type": "code",
   "execution_count": 3,
   "id": "50f9b112-975e-4b42-baf9-8b813ac33723",
   "metadata": {},
   "outputs": [
    {
     "name": "stdout",
     "output_type": "stream",
     "text": [
      "6 securities from 2021-01-04 to 2024-11-22 uploaded.\n",
      "df_prices loaded\n",
      "Transaction record to 2024-11-20 loaded\n"
     ]
    }
   ],
   "source": [
    "pf_wtr = PM.create_portfolio('WTR')"
   ]
  },
  {
   "cell_type": "code",
   "execution_count": 4,
   "id": "59da9e55-bdba-4322-9328-dc4c7fc9894d",
   "metadata": {},
   "outputs": [
    {
     "data": {
      "text/plain": [
       "{'data': {'method_select': 'Selected',\n",
       "  'method_weigh': 'Equally',\n",
       "  'lookback': '6m',\n",
       "  'lag': 0,\n",
       "  'file': 'pf_wtr_static',\n",
       "  'path': 'transaction'},\n",
       " 'name': 'WTR'}"
      ]
     },
     "execution_count": 4,
     "metadata": {},
     "output_type": "execute_result"
    }
   ],
   "source": [
    "pf_wtr.portfolio_data['strategy']"
   ]
  },
  {
   "cell_type": "code",
   "execution_count": 5,
   "id": "2f2046bd-5dbb-43c1-a730-2db9cfff293a",
   "metadata": {},
   "outputs": [
    {
     "name": "stdout",
     "output_type": "stream",
     "text": [
      "Transaction dates updated for profit/loss on the dates\n"
     ]
    },
    {
     "data": {
      "image/png": "[encoded data removed]",
      "text/plain": [
       "<Figure size 1000x600 with 3 Axes>"
      ]
     },
     "metadata": {},
     "output_type": "display_data"
    }
   ],
   "source": [
    "pf_wtr.plot()"
   ]
  },
  {
   "cell_type": "code",
   "execution_count": 6,
   "id": "cd707a22-14e1-4768-9b34-bd4194f608de",
   "metadata": {},
   "outputs": [
    {
     "data": {
      "text/html": [
       "<div>\n",
       "<style scoped>\n",
       "    .dataframe tbody tr th:only-of-type {\n",
       "        vertical-align: middle;\n",
       "    }\n",
       "\n",
       "    .dataframe tbody tr th {\n",
       "        vertical-align: top;\n",
       "    }\n",
       "\n",
       "    .dataframe thead th {\n",
       "        text-align: right;\n",
       "    }\n",
       "</style>\n",
       "<table border=\"1\" class=\"dataframe\">\n",
       "  <thead>\n",
       "    <tr style=\"text-align: right;\">\n",
       "      <th></th>\n",
       "      <th></th>\n",
       "      <th>name</th>\n",
       "      <th>price</th>\n",
       "      <th>transaction</th>\n",
       "      <th>net</th>\n",
       "      <th>weight</th>\n",
       "      <th>weight*</th>\n",
       "    </tr>\n",
       "    <tr>\n",
       "      <th>date</th>\n",
       "      <th>ticker</th>\n",
       "      <th></th>\n",
       "      <th></th>\n",
       "      <th></th>\n",
       "      <th></th>\n",
       "      <th></th>\n",
       "      <th></th>\n",
       "    </tr>\n",
       "  </thead>\n",
       "  <tbody>\n",
       "    <tr>\n",
       "      <th rowspan=\"6\" valign=\"top\">2024-07-18</th>\n",
       "      <th>069500</th>\n",
       "      <td>KODEX 200</td>\n",
       "      <td>39085</td>\n",
       "      <td>42</td>\n",
       "      <td>42</td>\n",
       "      <td>0.167</td>\n",
       "      <td>0.1670</td>\n",
       "    </tr>\n",
       "    <tr>\n",
       "      <th>273130</th>\n",
       "      <td>KODEX 종합채권(AA-이상)액티브</td>\n",
       "      <td>112895</td>\n",
       "      <td>14</td>\n",
       "      <td>14</td>\n",
       "      <td>0.167</td>\n",
       "      <td>0.1610</td>\n",
       "    </tr>\n",
       "    <tr>\n",
       "      <th>148070</th>\n",
       "      <td>KOSEF 국고채10년</td>\n",
       "      <td>114910</td>\n",
       "      <td>14</td>\n",
       "      <td>14</td>\n",
       "      <td>0.167</td>\n",
       "      <td>0.1640</td>\n",
       "    </tr>\n",
       "    <tr>\n",
       "      <th>379800</th>\n",
       "      <td>KODEX 미국S&amp;P500TR</td>\n",
       "      <td>17625</td>\n",
       "      <td>94</td>\n",
       "      <td>94</td>\n",
       "      <td>0.167</td>\n",
       "      <td>0.1690</td>\n",
       "    </tr>\n",
       "    <tr>\n",
       "      <th>411060</th>\n",
       "      <td>ACE KRX금현물</td>\n",
       "      <td>15715</td>\n",
       "      <td>106</td>\n",
       "      <td>106</td>\n",
       "      <td>0.167</td>\n",
       "      <td>0.1700</td>\n",
       "    </tr>\n",
       "    <tr>\n",
       "      <th>284430</th>\n",
       "      <td>KODEX 200미국채혼합</td>\n",
       "      <td>13440</td>\n",
       "      <td>124</td>\n",
       "      <td>124</td>\n",
       "      <td>0.167</td>\n",
       "      <td>0.1700</td>\n",
       "    </tr>\n",
       "    <tr>\n",
       "      <th rowspan=\"6\" valign=\"top\">2024-11-20</th>\n",
       "      <th>069500</th>\n",
       "      <td>KODEX 200</td>\n",
       "      <td>33010</td>\n",
       "      <td>7</td>\n",
       "      <td>49</td>\n",
       "      <td>0.167</td>\n",
       "      <td>0.1684</td>\n",
       "    </tr>\n",
       "    <tr>\n",
       "      <th>273130</th>\n",
       "      <td>KODEX 종합채권(AA-이상)액티브</td>\n",
       "      <td>114735</td>\n",
       "      <td>0</td>\n",
       "      <td>14</td>\n",
       "      <td>0.167</td>\n",
       "      <td>0.1676</td>\n",
       "    </tr>\n",
       "    <tr>\n",
       "      <th>148070</th>\n",
       "      <td>KOSEF 국고채10년</td>\n",
       "      <td>117035</td>\n",
       "      <td>-1</td>\n",
       "      <td>13</td>\n",
       "      <td>0.167</td>\n",
       "      <td>0.1584</td>\n",
       "    </tr>\n",
       "    <tr>\n",
       "      <th>379800</th>\n",
       "      <td>KODEX 미국S&amp;P500TR</td>\n",
       "      <td>18790</td>\n",
       "      <td>-8</td>\n",
       "      <td>86</td>\n",
       "      <td>0.167</td>\n",
       "      <td>0.1680</td>\n",
       "    </tr>\n",
       "    <tr>\n",
       "      <th>411060</th>\n",
       "      <td>ACE KRX금현물</td>\n",
       "      <td>17040</td>\n",
       "      <td>-10</td>\n",
       "      <td>96</td>\n",
       "      <td>0.167</td>\n",
       "      <td>0.1685</td>\n",
       "    </tr>\n",
       "    <tr>\n",
       "      <th>284430</th>\n",
       "      <td>KODEX 200미국채혼합</td>\n",
       "      <td>12585</td>\n",
       "      <td>5</td>\n",
       "      <td>129</td>\n",
       "      <td>0.167</td>\n",
       "      <td>0.1691</td>\n",
       "    </tr>\n",
       "  </tbody>\n",
       "</table>\n",
       "</div>"
      ],
      "text/plain": [
       "                                   name   price  transaction  net  weight  \\\n",
       "date       ticker                                                           \n",
       "2024-07-18 069500             KODEX 200   39085           42   42   0.167   \n",
       "           273130  KODEX 종합채권(AA-이상)액티브  112895           14   14   0.167   \n",
       "           148070          KOSEF 국고채10년  114910           14   14   0.167   \n",
       "           379800      KODEX 미국S&P500TR   17625           94   94   0.167   \n",
       "           411060            ACE KRX금현물   15715          106  106   0.167   \n",
       "           284430        KODEX 200미국채혼합   13440          124  124   0.167   \n",
       "2024-11-20 069500             KODEX 200   33010            7   49   0.167   \n",
       "           273130  KODEX 종합채권(AA-이상)액티브  114735            0   14   0.167   \n",
       "           148070          KOSEF 국고채10년  117035           -1   13   0.167   \n",
       "           379800      KODEX 미국S&P500TR   18790           -8   86   0.167   \n",
       "           411060            ACE KRX금현물   17040          -10   96   0.167   \n",
       "           284430        KODEX 200미국채혼합   12585            5  129   0.167   \n",
       "\n",
       "                   weight*  \n",
       "date       ticker           \n",
       "2024-07-18 069500   0.1670  \n",
       "           273130   0.1610  \n",
       "           148070   0.1640  \n",
       "           379800   0.1690  \n",
       "           411060   0.1700  \n",
       "           284430   0.1700  \n",
       "2024-11-20 069500   0.1684  \n",
       "           273130   0.1676  \n",
       "           148070   0.1584  \n",
       "           379800   0.1680  \n",
       "           411060   0.1685  \n",
       "           284430   0.1691  "
      ]
     },
     "execution_count": 6,
     "metadata": {},
     "output_type": "execute_result"
    }
   ],
   "source": [
    "pf_wtr.view_record(-2)"
   ]
  },
  {
   "cell_type": "code",
   "execution_count": 7,
   "id": "74abca3f-6864-4a0d-a760-ac41728e35b6",
   "metadata": {},
   "outputs": [],
   "source": [
    "#pf_wtr.performance(metrics=METRICS)"
   ]
  },
  {
   "cell_type": "code",
   "execution_count": 8,
   "id": "d05fbd06-1222-431d-8fc9-6c385c40f20c",
   "metadata": {},
   "outputs": [
    {
     "data": {
      "application/vnd.jupyter.widget-view+json": {
       "model_id": "8071385a4fdf4f2496877ffe2426f366",
       "version_major": 2,
       "version_minor": 0
      },
      "text/plain": [
       "VBox(children=(DatePicker(value=None, layout=Layout(width='200px'), step=1), IntSlider(value=0, continuous_upd…"
      ]
     },
     "execution_count": 8,
     "metadata": {},
     "output_type": "execute_result"
    }
   ],
   "source": [
    "# set kwargs of transaction_pipeline\n",
    "WidgetTransaction"
   ]
  },
  {
   "cell_type": "code",
   "execution_count": 9,
   "id": "1a593c5d-812f-4f2e-81b4-6ecc7f97e65f",
   "metadata": {},
   "outputs": [
    {
     "name": "stdout",
     "output_type": "stream",
     "text": [
      "Liquidation set to None\n",
      "6 tickers selected by All from 2024-05-22 to 2024-11-22\n",
      "Weights of tickers determined by Equal weights.\n",
      "Mean absolute error of weights: 1 %\n",
      "Transaction dates updated for profit/loss on the dates\n",
      "ROI: 0.3%, UGL: 35,000  (2024-11-22)\n",
      "Set save=True to save transaction record\n"
     ]
    },
    {
     "data": {
      "text/html": [
       "<div>\n",
       "<style scoped>\n",
       "    .dataframe tbody tr th:only-of-type {\n",
       "        vertical-align: middle;\n",
       "    }\n",
       "\n",
       "    .dataframe tbody tr th {\n",
       "        vertical-align: top;\n",
       "    }\n",
       "\n",
       "    .dataframe thead th {\n",
       "        text-align: right;\n",
       "    }\n",
       "</style>\n",
       "<table border=\"1\" class=\"dataframe\">\n",
       "  <thead>\n",
       "    <tr style=\"text-align: right;\">\n",
       "      <th></th>\n",
       "      <th></th>\n",
       "      <th>name</th>\n",
       "      <th>price</th>\n",
       "      <th>transaction</th>\n",
       "      <th>net</th>\n",
       "      <th>weight</th>\n",
       "      <th>weight*</th>\n",
       "    </tr>\n",
       "    <tr>\n",
       "      <th>date</th>\n",
       "      <th>ticker</th>\n",
       "      <th></th>\n",
       "      <th></th>\n",
       "      <th></th>\n",
       "      <th></th>\n",
       "      <th></th>\n",
       "      <th></th>\n",
       "    </tr>\n",
       "  </thead>\n",
       "  <tbody>\n",
       "    <tr>\n",
       "      <th rowspan=\"6\" valign=\"top\">2024-11-20</th>\n",
       "      <th>069500</th>\n",
       "      <td>KODEX 200</td>\n",
       "      <td>33010</td>\n",
       "      <td>7</td>\n",
       "      <td>49</td>\n",
       "      <td>0.167</td>\n",
       "      <td>0.1684</td>\n",
       "    </tr>\n",
       "    <tr>\n",
       "      <th>273130</th>\n",
       "      <td>KODEX 종합채권(AA-이상)액티브</td>\n",
       "      <td>114735</td>\n",
       "      <td>0</td>\n",
       "      <td>14</td>\n",
       "      <td>0.167</td>\n",
       "      <td>0.1676</td>\n",
       "    </tr>\n",
       "    <tr>\n",
       "      <th>148070</th>\n",
       "      <td>KOSEF 국고채10년</td>\n",
       "      <td>117035</td>\n",
       "      <td>-1</td>\n",
       "      <td>13</td>\n",
       "      <td>0.167</td>\n",
       "      <td>0.1584</td>\n",
       "    </tr>\n",
       "    <tr>\n",
       "      <th>379800</th>\n",
       "      <td>KODEX 미국S&amp;P500TR</td>\n",
       "      <td>18790</td>\n",
       "      <td>-8</td>\n",
       "      <td>86</td>\n",
       "      <td>0.167</td>\n",
       "      <td>0.168</td>\n",
       "    </tr>\n",
       "    <tr>\n",
       "      <th>411060</th>\n",
       "      <td>ACE KRX금현물</td>\n",
       "      <td>17040</td>\n",
       "      <td>-10</td>\n",
       "      <td>96</td>\n",
       "      <td>0.167</td>\n",
       "      <td>0.1685</td>\n",
       "    </tr>\n",
       "    <tr>\n",
       "      <th>284430</th>\n",
       "      <td>KODEX 200미국채혼합</td>\n",
       "      <td>12585</td>\n",
       "      <td>5</td>\n",
       "      <td>129</td>\n",
       "      <td>0.167</td>\n",
       "      <td>0.1691</td>\n",
       "    </tr>\n",
       "    <tr>\n",
       "      <th rowspan=\"6\" valign=\"top\">2024-11-22</th>\n",
       "      <th>069500</th>\n",
       "      <td>KODEX 200</td>\n",
       "      <td>33345</td>\n",
       "      <td>-1</td>\n",
       "      <td>48</td>\n",
       "      <td>0.167</td>\n",
       "      <td>0.1670</td>\n",
       "    </tr>\n",
       "    <tr>\n",
       "      <th>273130</th>\n",
       "      <td>KODEX 종합채권(AA-이상)액티브</td>\n",
       "      <td>115170</td>\n",
       "      <td>0</td>\n",
       "      <td>14</td>\n",
       "      <td>0.167</td>\n",
       "      <td>0.1683</td>\n",
       "    </tr>\n",
       "    <tr>\n",
       "      <th>379800</th>\n",
       "      <td>KODEX 미국S&amp;P500TR</td>\n",
       "      <td>19030</td>\n",
       "      <td>-1</td>\n",
       "      <td>85</td>\n",
       "      <td>0.167</td>\n",
       "      <td>0.1688</td>\n",
       "    </tr>\n",
       "    <tr>\n",
       "      <th>411060</th>\n",
       "      <td>ACE KRX금현물</td>\n",
       "      <td>17350</td>\n",
       "      <td>-3</td>\n",
       "      <td>93</td>\n",
       "      <td>0.167</td>\n",
       "      <td>0.1684</td>\n",
       "    </tr>\n",
       "    <tr>\n",
       "      <th>148070</th>\n",
       "      <td>KOSEF 국고채10년</td>\n",
       "      <td>117420</td>\n",
       "      <td>0</td>\n",
       "      <td>13</td>\n",
       "      <td>0.167</td>\n",
       "      <td>0.1593</td>\n",
       "    </tr>\n",
       "    <tr>\n",
       "      <th>284430</th>\n",
       "      <td>KODEX 200미국채혼합</td>\n",
       "      <td>12685</td>\n",
       "      <td>-2</td>\n",
       "      <td>127</td>\n",
       "      <td>0.167</td>\n",
       "      <td>0.1681</td>\n",
       "    </tr>\n",
       "  </tbody>\n",
       "</table>\n",
       "</div>"
      ],
      "text/plain": [
       "                                   name   price  transaction  net weight  \\\n",
       "date       ticker                                                          \n",
       "2024-11-20 069500             KODEX 200   33010            7   49  0.167   \n",
       "           273130  KODEX 종합채권(AA-이상)액티브  114735            0   14  0.167   \n",
       "           148070          KOSEF 국고채10년  117035           -1   13  0.167   \n",
       "           379800      KODEX 미국S&P500TR   18790           -8   86  0.167   \n",
       "           411060            ACE KRX금현물   17040          -10   96  0.167   \n",
       "           284430        KODEX 200미국채혼합   12585            5  129  0.167   \n",
       "2024-11-22 069500             KODEX 200   33345           -1   48  0.167   \n",
       "           273130  KODEX 종합채권(AA-이상)액티브  115170            0   14  0.167   \n",
       "           379800      KODEX 미국S&P500TR   19030           -1   85  0.167   \n",
       "           411060            ACE KRX금현물   17350           -3   93  0.167   \n",
       "           148070          KOSEF 국고채10년  117420            0   13  0.167   \n",
       "           284430        KODEX 200미국채혼합   12685           -2  127  0.167   \n",
       "\n",
       "                  weight*  \n",
       "date       ticker          \n",
       "2024-11-20 069500  0.1684  \n",
       "           273130  0.1676  \n",
       "           148070  0.1584  \n",
       "           379800   0.168  \n",
       "           411060  0.1685  \n",
       "           284430  0.1691  \n",
       "2024-11-22 069500  0.1670  \n",
       "           273130  0.1683  \n",
       "           379800  0.1688  \n",
       "           411060  0.1684  \n",
       "           148070  0.1593  \n",
       "           284430  0.1681  "
      ]
     },
     "execution_count": 9,
     "metadata": {},
     "output_type": "execute_result"
    }
   ],
   "source": [
    "kwargs = dict(\n",
    "    date = WidgetTransaction.values(0),\n",
    "    capital = WidgetTransaction.values(1),\n",
    "    save = WidgetTransaction.values(2)\n",
    ")\n",
    "_ = pf_wtr.transaction_pipeline(**kwargs)\n",
    "pf_wtr.view_record(-2)"
   ]
  },
  {
   "cell_type": "markdown",
   "id": "94702c06-6391-4b00-97f2-19c1b321fa44",
   "metadata": {},
   "source": [
    "## LIQ"
   ]
  },
  {
   "cell_type": "code",
   "execution_count": 49,
   "id": "1ca82b1e-c1c8-4f38-807e-509bc054169c",
   "metadata": {},
   "outputs": [
    {
     "name": "stdout",
     "output_type": "stream",
     "text": [
      "24 securities from 2021-01-04 to 2024-11-22 uploaded.\n",
      "df_prices loaded\n",
      "Transaction record to 2024-01-03 loaded\n"
     ]
    }
   ],
   "source": [
    "pf_liq = PM.create_portfolio('LIQ')"
   ]
  },
  {
   "cell_type": "code",
   "execution_count": 50,
   "id": "0a35f0aa-697e-47a2-87bd-6ccba7e6a605",
   "metadata": {},
   "outputs": [
    {
     "name": "stdout",
     "output_type": "stream",
     "text": [
      "Transaction dates updated for profit/loss on the dates\n"
     ]
    },
    {
     "data": {
      "image/png": "[encoded data removed]",
      "text/plain": [
       "<Figure size 1000x600 with 3 Axes>"
      ]
     },
     "metadata": {},
     "output_type": "display_data"
    }
   ],
   "source": [
    "#date=None\n",
    "date='2024-07-01'\n",
    "pf_liq.plot(start_date=date)"
   ]
  },
  {
   "cell_type": "code",
   "execution_count": 51,
   "id": "4f77cbab-5980-46cc-a0a6-45df9bdb0da7",
   "metadata": {},
   "outputs": [
    {
     "data": {
      "text/html": [
       "<div>\n",
       "<style scoped>\n",
       "    .dataframe tbody tr th:only-of-type {\n",
       "        vertical-align: middle;\n",
       "    }\n",
       "\n",
       "    .dataframe tbody tr th {\n",
       "        vertical-align: top;\n",
       "    }\n",
       "\n",
       "    .dataframe thead th {\n",
       "        text-align: right;\n",
       "    }\n",
       "</style>\n",
       "<table border=\"1\" class=\"dataframe\">\n",
       "  <thead>\n",
       "    <tr style=\"text-align: right;\">\n",
       "      <th></th>\n",
       "      <th></th>\n",
       "      <th>name</th>\n",
       "      <th>price</th>\n",
       "      <th>transaction</th>\n",
       "      <th>net</th>\n",
       "      <th>weight</th>\n",
       "      <th>weight*</th>\n",
       "    </tr>\n",
       "    <tr>\n",
       "      <th>date</th>\n",
       "      <th>ticker</th>\n",
       "      <th></th>\n",
       "      <th></th>\n",
       "      <th></th>\n",
       "      <th></th>\n",
       "      <th></th>\n",
       "      <th></th>\n",
       "    </tr>\n",
       "  </thead>\n",
       "  <tbody>\n",
       "    <tr>\n",
       "      <th rowspan=\"24\" valign=\"top\">2024-01-03</th>\n",
       "      <th>011780</th>\n",
       "      <td>금호석유</td>\n",
       "      <td>171000</td>\n",
       "      <td>2</td>\n",
       "      <td>2</td>\n",
       "      <td>NaN</td>\n",
       "      <td>0.0515</td>\n",
       "    </tr>\n",
       "    <tr>\n",
       "      <th>066570</th>\n",
       "      <td>LG전자</td>\n",
       "      <td>122500</td>\n",
       "      <td>2</td>\n",
       "      <td>2</td>\n",
       "      <td>NaN</td>\n",
       "      <td>0.0369</td>\n",
       "    </tr>\n",
       "    <tr>\n",
       "      <th>035890</th>\n",
       "      <td>서희건설</td>\n",
       "      <td>1800</td>\n",
       "      <td>166</td>\n",
       "      <td>166</td>\n",
       "      <td>NaN</td>\n",
       "      <td>0.0450</td>\n",
       "    </tr>\n",
       "    <tr>\n",
       "      <th>040420</th>\n",
       "      <td>정상제이엘에스</td>\n",
       "      <td>7970</td>\n",
       "      <td>37</td>\n",
       "      <td>37</td>\n",
       "      <td>NaN</td>\n",
       "      <td>0.0444</td>\n",
       "    </tr>\n",
       "    <tr>\n",
       "      <th>140520</th>\n",
       "      <td>대창스틸</td>\n",
       "      <td>3250</td>\n",
       "      <td>90</td>\n",
       "      <td>90</td>\n",
       "      <td>NaN</td>\n",
       "      <td>0.0440</td>\n",
       "    </tr>\n",
       "    <tr>\n",
       "      <th>072990</th>\n",
       "      <td>에이치시티</td>\n",
       "      <td>15900</td>\n",
       "      <td>18</td>\n",
       "      <td>18</td>\n",
       "      <td>NaN</td>\n",
       "      <td>0.0431</td>\n",
       "    </tr>\n",
       "    <tr>\n",
       "      <th>091580</th>\n",
       "      <td>상신이디피</td>\n",
       "      <td>16800</td>\n",
       "      <td>18</td>\n",
       "      <td>18</td>\n",
       "      <td>NaN</td>\n",
       "      <td>0.0455</td>\n",
       "    </tr>\n",
       "    <tr>\n",
       "      <th>011200</th>\n",
       "      <td>HMM</td>\n",
       "      <td>26350</td>\n",
       "      <td>11</td>\n",
       "      <td>11</td>\n",
       "      <td>NaN</td>\n",
       "      <td>0.0436</td>\n",
       "    </tr>\n",
       "    <tr>\n",
       "      <th>002220</th>\n",
       "      <td>한일철강</td>\n",
       "      <td>3130</td>\n",
       "      <td>95</td>\n",
       "      <td>95</td>\n",
       "      <td>NaN</td>\n",
       "      <td>0.0448</td>\n",
       "    </tr>\n",
       "    <tr>\n",
       "      <th>006650</th>\n",
       "      <td>대한유화</td>\n",
       "      <td>181500</td>\n",
       "      <td>1</td>\n",
       "      <td>1</td>\n",
       "      <td>NaN</td>\n",
       "      <td>0.0273</td>\n",
       "    </tr>\n",
       "    <tr>\n",
       "      <th>136490</th>\n",
       "      <td>선진</td>\n",
       "      <td>12700</td>\n",
       "      <td>23</td>\n",
       "      <td>23</td>\n",
       "      <td>NaN</td>\n",
       "      <td>0.0440</td>\n",
       "    </tr>\n",
       "    <tr>\n",
       "      <th>064550</th>\n",
       "      <td>바이오니아</td>\n",
       "      <td>49650</td>\n",
       "      <td>6</td>\n",
       "      <td>6</td>\n",
       "      <td>NaN</td>\n",
       "      <td>0.0449</td>\n",
       "    </tr>\n",
       "    <tr>\n",
       "      <th>460860</th>\n",
       "      <td>동국제강</td>\n",
       "      <td>18723</td>\n",
       "      <td>8</td>\n",
       "      <td>8</td>\n",
       "      <td>NaN</td>\n",
       "      <td>0.0226</td>\n",
       "    </tr>\n",
       "    <tr>\n",
       "      <th>040910</th>\n",
       "      <td>아이씨디</td>\n",
       "      <td>12200</td>\n",
       "      <td>24</td>\n",
       "      <td>24</td>\n",
       "      <td>NaN</td>\n",
       "      <td>0.0441</td>\n",
       "    </tr>\n",
       "    <tr>\n",
       "      <th>024950</th>\n",
       "      <td>삼천리자전거</td>\n",
       "      <td>9770</td>\n",
       "      <td>30</td>\n",
       "      <td>30</td>\n",
       "      <td>NaN</td>\n",
       "      <td>0.0441</td>\n",
       "    </tr>\n",
       "    <tr>\n",
       "      <th>900070</th>\n",
       "      <td>글로벌에스엠</td>\n",
       "      <td>1080</td>\n",
       "      <td>277</td>\n",
       "      <td>277</td>\n",
       "      <td>NaN</td>\n",
       "      <td>0.0450</td>\n",
       "    </tr>\n",
       "    <tr>\n",
       "      <th>036580</th>\n",
       "      <td>팜스코</td>\n",
       "      <td>6090</td>\n",
       "      <td>49</td>\n",
       "      <td>49</td>\n",
       "      <td>NaN</td>\n",
       "      <td>0.0449</td>\n",
       "    </tr>\n",
       "    <tr>\n",
       "      <th>184230</th>\n",
       "      <td>SGA솔루션즈</td>\n",
       "      <td>1315</td>\n",
       "      <td>228</td>\n",
       "      <td>228</td>\n",
       "      <td>NaN</td>\n",
       "      <td>0.0451</td>\n",
       "    </tr>\n",
       "    <tr>\n",
       "      <th>460850</th>\n",
       "      <td>동국씨엠</td>\n",
       "      <td>18055</td>\n",
       "      <td>5</td>\n",
       "      <td>5</td>\n",
       "      <td>NaN</td>\n",
       "      <td>0.0136</td>\n",
       "    </tr>\n",
       "    <tr>\n",
       "      <th>016250</th>\n",
       "      <td>SGC E&amp;C</td>\n",
       "      <td>46000</td>\n",
       "      <td>6</td>\n",
       "      <td>6</td>\n",
       "      <td>NaN</td>\n",
       "      <td>0.0416</td>\n",
       "    </tr>\n",
       "    <tr>\n",
       "      <th>001230</th>\n",
       "      <td>동국홀딩스</td>\n",
       "      <td>24044</td>\n",
       "      <td>2</td>\n",
       "      <td>2</td>\n",
       "      <td>NaN</td>\n",
       "      <td>0.0072</td>\n",
       "    </tr>\n",
       "    <tr>\n",
       "      <th>049470</th>\n",
       "      <td>SGA</td>\n",
       "      <td>1115</td>\n",
       "      <td>269</td>\n",
       "      <td>269</td>\n",
       "      <td>NaN</td>\n",
       "      <td>0.0452</td>\n",
       "    </tr>\n",
       "    <tr>\n",
       "      <th>217820</th>\n",
       "      <td>원익피앤이</td>\n",
       "      <td>12518</td>\n",
       "      <td>22</td>\n",
       "      <td>22</td>\n",
       "      <td>NaN</td>\n",
       "      <td>0.0415</td>\n",
       "    </tr>\n",
       "    <tr>\n",
       "      <th>109960</th>\n",
       "      <td>AP헬스케어</td>\n",
       "      <td>3790</td>\n",
       "      <td>158</td>\n",
       "      <td>158</td>\n",
       "      <td>NaN</td>\n",
       "      <td>0.0902</td>\n",
       "    </tr>\n",
       "  </tbody>\n",
       "</table>\n",
       "</div>"
      ],
      "text/plain": [
       "                      name   price  transaction  net  weight  weight*\n",
       "date       ticker                                                    \n",
       "2024-01-03 011780     금호석유  171000            2    2     NaN   0.0515\n",
       "           066570     LG전자  122500            2    2     NaN   0.0369\n",
       "           035890     서희건설    1800          166  166     NaN   0.0450\n",
       "           040420  정상제이엘에스    7970           37   37     NaN   0.0444\n",
       "           140520     대창스틸    3250           90   90     NaN   0.0440\n",
       "           072990    에이치시티   15900           18   18     NaN   0.0431\n",
       "           091580    상신이디피   16800           18   18     NaN   0.0455\n",
       "           011200      HMM   26350           11   11     NaN   0.0436\n",
       "           002220     한일철강    3130           95   95     NaN   0.0448\n",
       "           006650     대한유화  181500            1    1     NaN   0.0273\n",
       "           136490       선진   12700           23   23     NaN   0.0440\n",
       "           064550    바이오니아   49650            6    6     NaN   0.0449\n",
       "           460860     동국제강   18723            8    8     NaN   0.0226\n",
       "           040910     아이씨디   12200           24   24     NaN   0.0441\n",
       "           024950   삼천리자전거    9770           30   30     NaN   0.0441\n",
       "           900070   글로벌에스엠    1080          277  277     NaN   0.0450\n",
       "           036580      팜스코    6090           49   49     NaN   0.0449\n",
       "           184230  SGA솔루션즈    1315          228  228     NaN   0.0451\n",
       "           460850     동국씨엠   18055            5    5     NaN   0.0136\n",
       "           016250  SGC E&C   46000            6    6     NaN   0.0416\n",
       "           001230    동국홀딩스   24044            2    2     NaN   0.0072\n",
       "           049470      SGA    1115          269  269     NaN   0.0452\n",
       "           217820    원익피앤이   12518           22   22     NaN   0.0415\n",
       "           109960   AP헬스케어    3790          158  158     NaN   0.0902"
      ]
     },
     "execution_count": 51,
     "metadata": {},
     "output_type": "execute_result"
    }
   ],
   "source": [
    "pf_liq.view_record()"
   ]
  },
  {
   "cell_type": "markdown",
   "id": "5cb5a3a2-0bbe-4f0c-adcf-49a72186ee99",
   "metadata": {},
   "source": [
    "## TDF"
   ]
  },
  {
   "cell_type": "code",
   "execution_count": 3,
   "id": "bc90a2f2-946a-4427-8ea2-4b1bb805f321",
   "metadata": {},
   "outputs": [],
   "source": [
    "selected = ['K55301BU6139', 'K55206C95800']"
   ]
  },
  {
   "cell_type": "code",
   "execution_count": 4,
   "id": "ecb9566a-7132-4ff6-8347-d3783a16de56",
   "metadata": {},
   "outputs": [
    {
     "name": "stdout",
     "output_type": "stream",
     "text": [
      "64 securities from 2008-11-28 to 2024-10-31 uploaded.\n",
      "WARNING: the number of days in a year with 64 tickers (100%) is 12 in avg.\n",
      "REMINDER: 64 equities converted to daily (days in year: 365)\n",
      "Daily metrics in Performance statistics must be meaningless\n",
      "df_prices loaded\n",
      "Transaction record to 2024-06-19 loaded\n"
     ]
    }
   ],
   "source": [
    "pf_tdf = PM.create_portfolio('TDF', tickers=selected)"
   ]
  },
  {
   "cell_type": "code",
   "execution_count": 5,
   "id": "900cfe7e-2a3a-460b-bc03-25d1b8e492a2",
   "metadata": {},
   "outputs": [],
   "source": [
    "#pf_tdf.portfolio_data['strategy']"
   ]
  },
  {
   "cell_type": "code",
   "execution_count": 6,
   "id": "6f173f64-8137-4a01-a831-259619987813",
   "metadata": {},
   "outputs": [
    {
     "name": "stdout",
     "output_type": "stream",
     "text": [
      "Transaction dates updated for profit/loss on the dates\n"
     ]
    },
    {
     "data": {
      "image/png": "[encoded data removed]",
      "text/plain": [
       "<Figure size 1000x600 with 3 Axes>"
      ]
     },
     "metadata": {},
     "output_type": "display_data"
    }
   ],
   "source": [
    "pf_tdf.plot()"
   ]
  },
  {
   "cell_type": "code",
   "execution_count": 7,
   "id": "cbdb9f74-d8b7-4c82-8b48-327fc7472773",
   "metadata": {},
   "outputs": [
    {
     "data": {
      "application/vnd.jupyter.widget-view+json": {
       "model_id": "79c986e2f2534fa187c7ac6fb77e77ff",
       "version_major": 2,
       "version_minor": 0
      },
      "text/plain": [
       "VBox(children=(DatePicker(value=None, layout=Layout(width='200px'), step=1), IntSlider(value=0, continuous_upd…"
      ]
     },
     "execution_count": 7,
     "metadata": {},
     "output_type": "execute_result"
    }
   ],
   "source": [
    "# set kwargs of transaction_pipeline\n",
    "WidgetTransaction"
   ]
  },
  {
   "cell_type": "code",
   "execution_count": 8,
   "id": "b0d8203a-f1f9-4979-a126-0142aa20efd8",
   "metadata": {},
   "outputs": [
    {
     "name": "stdout",
     "output_type": "stream",
     "text": [
      "Liquidation set to None\n",
      "2 tickers selected by Selected from 2024-10-31 to 2024-10-31\n",
      "Weights of tickers determined by Equal weights.\n",
      "Mean absolute error of weights: 0 %\n",
      "Transaction dates updated for profit/loss on the dates\n",
      "ROI: -2.8%, UGL: -280,000  (2024-10-31)\n",
      "Set save=True to save transaction record\n"
     ]
    },
    {
     "data": {
      "text/html": [
       "<div>\n",
       "<style scoped>\n",
       "    .dataframe tbody tr th:only-of-type {\n",
       "        vertical-align: middle;\n",
       "    }\n",
       "\n",
       "    .dataframe tbody tr th {\n",
       "        vertical-align: top;\n",
       "    }\n",
       "\n",
       "    .dataframe thead th {\n",
       "        text-align: right;\n",
       "    }\n",
       "</style>\n",
       "<table border=\"1\" class=\"dataframe\">\n",
       "  <thead>\n",
       "    <tr style=\"text-align: right;\">\n",
       "      <th></th>\n",
       "      <th></th>\n",
       "      <th>name</th>\n",
       "      <th>price</th>\n",
       "      <th>transaction</th>\n",
       "      <th>net</th>\n",
       "      <th>weight</th>\n",
       "      <th>weight*</th>\n",
       "    </tr>\n",
       "    <tr>\n",
       "      <th>date</th>\n",
       "      <th>ticker</th>\n",
       "      <th></th>\n",
       "      <th></th>\n",
       "      <th></th>\n",
       "      <th></th>\n",
       "      <th></th>\n",
       "      <th></th>\n",
       "    </tr>\n",
       "  </thead>\n",
       "  <tbody>\n",
       "    <tr>\n",
       "      <th rowspan=\"2\" valign=\"top\">2024-06-19</th>\n",
       "      <th>K55301BU6139</th>\n",
       "      <td>미래에셋전략배분TDF2035혼합자산자투자신탁종류C-P2e</td>\n",
       "      <td>1595</td>\n",
       "      <td>3132</td>\n",
       "      <td>3132</td>\n",
       "      <td>0.5</td>\n",
       "      <td>0.5</td>\n",
       "    </tr>\n",
       "    <tr>\n",
       "      <th>K55206C95800</th>\n",
       "      <td>키움키워드림TDF2030증권투자신탁 1[혼합-재간접형]C-P2e(퇴직연금)</td>\n",
       "      <td>1367</td>\n",
       "      <td>3657</td>\n",
       "      <td>3657</td>\n",
       "      <td>0.5</td>\n",
       "      <td>0.5</td>\n",
       "    </tr>\n",
       "    <tr>\n",
       "      <th rowspan=\"2\" valign=\"top\">2024-10-31</th>\n",
       "      <th>K55301BU6139</th>\n",
       "      <td>미래에셋전략배분TDF2035혼합자산자투자신탁종류C-P2e</td>\n",
       "      <td>1521</td>\n",
       "      <td>61</td>\n",
       "      <td>3193</td>\n",
       "      <td>0.500</td>\n",
       "      <td>0.5000</td>\n",
       "    </tr>\n",
       "    <tr>\n",
       "      <th>K55206C95800</th>\n",
       "      <td>키움키워드림TDF2030증권투자신탁 1[혼합-재간접형]C-P2e(퇴직연금)</td>\n",
       "      <td>1353</td>\n",
       "      <td>-69</td>\n",
       "      <td>3588</td>\n",
       "      <td>0.500</td>\n",
       "      <td>0.5000</td>\n",
       "    </tr>\n",
       "  </tbody>\n",
       "</table>\n",
       "</div>"
      ],
      "text/plain": [
       "                                                              name  price  \\\n",
       "date       ticker                                                           \n",
       "2024-06-19 K55301BU6139            미래에셋전략배분TDF2035혼합자산자투자신탁종류C-P2e   1595   \n",
       "           K55206C95800  키움키워드림TDF2030증권투자신탁 1[혼합-재간접형]C-P2e(퇴직연금)   1367   \n",
       "2024-10-31 K55301BU6139            미래에셋전략배분TDF2035혼합자산자투자신탁종류C-P2e   1521   \n",
       "           K55206C95800  키움키워드림TDF2030증권투자신탁 1[혼합-재간접형]C-P2e(퇴직연금)   1353   \n",
       "\n",
       "                         transaction   net weight weight*  \n",
       "date       ticker                                          \n",
       "2024-06-19 K55301BU6139         3132  3132    0.5     0.5  \n",
       "           K55206C95800         3657  3657    0.5     0.5  \n",
       "2024-10-31 K55301BU6139           61  3193  0.500  0.5000  \n",
       "           K55206C95800          -69  3588  0.500  0.5000  "
      ]
     },
     "execution_count": 8,
     "metadata": {},
     "output_type": "execute_result"
    }
   ],
   "source": [
    "kwargs = dict(\n",
    "    date = WidgetTransaction.values(0),\n",
    "    capital = WidgetTransaction.values(1),\n",
    "    save = WidgetTransaction.values(2)\n",
    ")\n",
    "_ = pf_tdf.transaction_pipeline(**kwargs)\n",
    "pf_tdf.view_record()"
   ]
  },
  {
   "cell_type": "code",
   "execution_count": 9,
   "id": "b86d91f9-881d-4655-ab82-2f7b7bf7c4da",
   "metadata": {},
   "outputs": [
    {
     "name": "stdout",
     "output_type": "stream",
     "text": [
      "Transaction dates updated for profit/loss on the dates\n"
     ]
    },
    {
     "data": {
      "image/png": "[encoded data removed]",
      "text/plain": [
       "<Figure size 1000x600 with 3 Axes>"
      ]
     },
     "metadata": {},
     "output_type": "display_data"
    }
   ],
   "source": [
    "pf_tdf.plot()"
   ]
  },
  {
   "cell_type": "markdown",
   "id": "f86d2f0d-9368-4db8-a1af-6f767f32d2ca",
   "metadata": {},
   "source": [
    "## HANA"
   ]
  },
  {
   "cell_type": "code",
   "execution_count": 3,
   "id": "e64c06b3-5026-4d66-b1ed-8ce5ae691181",
   "metadata": {},
   "outputs": [],
   "source": [
    "selected = ['KR5101888398', 'KR5236AS4826', 'KR5370AP9956', 'K55306CV9946']"
   ]
  },
  {
   "cell_type": "code",
   "execution_count": 4,
   "id": "cdee2ec4-982e-4d6a-8dd6-42f4c76edb00",
   "metadata": {},
   "outputs": [
    {
     "name": "stdout",
     "output_type": "stream",
     "text": [
      "64 securities from 2008-11-28 to 2024-10-31 uploaded.\n",
      "WARNING: the number of days in a year with 64 tickers (100%) is 12 in avg.\n",
      "REMINDER: 64 equities converted to daily (days in year: 365)\n",
      "Daily metrics in Performance statistics must be meaningless\n",
      "df_prices loaded\n",
      "Transaction record to 2024-07-31 loaded\n"
     ]
    }
   ],
   "source": [
    "pf_hana = PM.create_portfolio('HANA', tickers=selected)"
   ]
  },
  {
   "cell_type": "code",
   "execution_count": 5,
   "id": "41d8d018-8681-4cdd-b7b2-fb21596c155f",
   "metadata": {},
   "outputs": [
    {
     "name": "stdout",
     "output_type": "stream",
     "text": [
      "0) KR5101888398: 한국투자크레딧포커스ESG증권자투자신탁 1(채권)(C-e)\n",
      "1) KR5236AS4826: 한국밸류10년투자증권투자신탁 1(채권혼합)종류C-E\n",
      "2) KR5370AP9956: AB글로벌고수익증권투자신탁(채권-재간접형)종류형Ce\n",
      "3) K55306CV9946: 다올글로벌멀티에셋인컴EMP증권자투자신탁[혼합-재간접형](공)종류Ce\n",
      "\n"
     ]
    }
   ],
   "source": [
    "pf_hana.security_names.get_names(selected)"
   ]
  },
  {
   "cell_type": "code",
   "execution_count": 6,
   "id": "4157dba3-e659-4973-9d46-1419afde22a8",
   "metadata": {},
   "outputs": [
    {
     "data": {
      "text/plain": [
       "{'data': {'method_select': 'Selected',\n",
       "  'method_weigh': 'InvVol',\n",
       "  'lookback': '2y',\n",
       "  'lag': 0,\n",
       "  'file': 'pf_hana_static',\n",
       "  'path': 'transaction',\n",
       "  'tickers': ['KR5101888398', 'KR5236AS4826', 'KR5370AP9956', 'K55306CV9946']},\n",
       " 'name': None}"
      ]
     },
     "execution_count": 6,
     "metadata": {},
     "output_type": "execute_result"
    }
   ],
   "source": [
    "pf_hana.portfolio_data['strategy']"
   ]
  },
  {
   "cell_type": "code",
   "execution_count": 7,
   "id": "01ec254d-f913-4bdd-97d2-574bc55b45a0",
   "metadata": {},
   "outputs": [
    {
     "name": "stdout",
     "output_type": "stream",
     "text": [
      "Transaction dates updated for profit/loss on the dates\n"
     ]
    },
    {
     "data": {
      "image/png": "[encoded data removed]",
      "text/plain": [
       "<Figure size 1000x600 with 3 Axes>"
      ]
     },
     "metadata": {},
     "output_type": "display_data"
    }
   ],
   "source": [
    "pf_hana.plot()"
   ]
  },
  {
   "cell_type": "code",
   "execution_count": 8,
   "id": "d53b2aad-17ae-47ba-ab04-81dd385692b5",
   "metadata": {},
   "outputs": [
    {
     "data": {
      "application/vnd.jupyter.widget-view+json": {
       "model_id": "c18f587c8f0d4f68ba55effc9a2e76c8",
       "version_major": 2,
       "version_minor": 0
      },
      "text/plain": [
       "VBox(children=(DatePicker(value=None, layout=Layout(width='200px'), step=1), IntSlider(value=0, continuous_upd…"
      ]
     },
     "execution_count": 8,
     "metadata": {},
     "output_type": "execute_result"
    }
   ],
   "source": [
    "# set kwargs of transaction_pipeline\n",
    "WidgetTransaction"
   ]
  },
  {
   "cell_type": "code",
   "execution_count": 9,
   "id": "13999c3b-6dac-4b53-92dc-d6abb31f2cbb",
   "metadata": {},
   "outputs": [
    {
     "name": "stdout",
     "output_type": "stream",
     "text": [
      "Liquidation set to None\n",
      "4 tickers selected by Selected from 2022-10-31 to 2024-10-31\n",
      "Weights of tickers determined by Inv.Vol.\n",
      "Mean absolute error of weights: 0 %\n",
      "Transaction dates updated for profit/loss on the dates\n",
      "ROI: 1.0%, UGL: 104,000  (2024-10-31)\n",
      "Set save=True to save transaction record\n"
     ]
    },
    {
     "data": {
      "text/html": [
       "<div>\n",
       "<style scoped>\n",
       "    .dataframe tbody tr th:only-of-type {\n",
       "        vertical-align: middle;\n",
       "    }\n",
       "\n",
       "    .dataframe tbody tr th {\n",
       "        vertical-align: top;\n",
       "    }\n",
       "\n",
       "    .dataframe thead th {\n",
       "        text-align: right;\n",
       "    }\n",
       "</style>\n",
       "<table border=\"1\" class=\"dataframe\">\n",
       "  <thead>\n",
       "    <tr style=\"text-align: right;\">\n",
       "      <th></th>\n",
       "      <th></th>\n",
       "      <th>name</th>\n",
       "      <th>price</th>\n",
       "      <th>transaction</th>\n",
       "      <th>net</th>\n",
       "      <th>weight</th>\n",
       "      <th>weight*</th>\n",
       "    </tr>\n",
       "    <tr>\n",
       "      <th>date</th>\n",
       "      <th>ticker</th>\n",
       "      <th></th>\n",
       "      <th></th>\n",
       "      <th></th>\n",
       "      <th></th>\n",
       "      <th></th>\n",
       "      <th></th>\n",
       "    </tr>\n",
       "  </thead>\n",
       "  <tbody>\n",
       "    <tr>\n",
       "      <th rowspan=\"4\" valign=\"top\">2024-07-31</th>\n",
       "      <th>KR5101888398</th>\n",
       "      <td>한국투자크레딧포커스ESG증권자투자신탁 1(채권)(C-e)</td>\n",
       "      <td>1068</td>\n",
       "      <td>4699</td>\n",
       "      <td>4699</td>\n",
       "      <td>0.502</td>\n",
       "      <td>0.502</td>\n",
       "    </tr>\n",
       "    <tr>\n",
       "      <th>KR5236AS4826</th>\n",
       "      <td>한국밸류10년투자증권투자신탁 1(채권혼합)종류C-E</td>\n",
       "      <td>1260</td>\n",
       "      <td>1920</td>\n",
       "      <td>1920</td>\n",
       "      <td>0.242</td>\n",
       "      <td>0.242</td>\n",
       "    </tr>\n",
       "    <tr>\n",
       "      <th>KR5370AP9956</th>\n",
       "      <td>AB글로벌고수익증권투자신탁(채권-재간접형)종류형Ce</td>\n",
       "      <td>1285</td>\n",
       "      <td>1448</td>\n",
       "      <td>1448</td>\n",
       "      <td>0.186</td>\n",
       "      <td>0.186</td>\n",
       "    </tr>\n",
       "    <tr>\n",
       "      <th>K55306CV9946</th>\n",
       "      <td>다올글로벌멀티에셋인컴EMP증권자투자신탁[혼합-재간접형](공)종류Ce</td>\n",
       "      <td>1151</td>\n",
       "      <td>602</td>\n",
       "      <td>602</td>\n",
       "      <td>0.069</td>\n",
       "      <td>0.069</td>\n",
       "    </tr>\n",
       "    <tr>\n",
       "      <th rowspan=\"4\" valign=\"top\">2024-10-31</th>\n",
       "      <th>KR5101888398</th>\n",
       "      <td>한국투자크레딧포커스ESG증권자투자신탁 1(채권)(C-e)</td>\n",
       "      <td>1080</td>\n",
       "      <td>-310</td>\n",
       "      <td>4389</td>\n",
       "      <td>0.470</td>\n",
       "      <td>0.4700</td>\n",
       "    </tr>\n",
       "    <tr>\n",
       "      <th>KR5236AS4826</th>\n",
       "      <td>한국밸류10년투자증권투자신탁 1(채권혼합)종류C-E</td>\n",
       "      <td>1268</td>\n",
       "      <td>36</td>\n",
       "      <td>1956</td>\n",
       "      <td>0.246</td>\n",
       "      <td>0.2459</td>\n",
       "    </tr>\n",
       "    <tr>\n",
       "      <th>KR5370AP9956</th>\n",
       "      <td>AB글로벌고수익증권투자신탁(채권-재간접형)종류형Ce</td>\n",
       "      <td>1311</td>\n",
       "      <td>26</td>\n",
       "      <td>1474</td>\n",
       "      <td>0.192</td>\n",
       "      <td>0.1916</td>\n",
       "    </tr>\n",
       "    <tr>\n",
       "      <th>K55306CV9946</th>\n",
       "      <td>다올글로벌멀티에셋인컴EMP증권자투자신탁[혼합-재간접형](공)종류Ce</td>\n",
       "      <td>1132</td>\n",
       "      <td>223</td>\n",
       "      <td>825</td>\n",
       "      <td>0.093</td>\n",
       "      <td>0.0926</td>\n",
       "    </tr>\n",
       "  </tbody>\n",
       "</table>\n",
       "</div>"
      ],
      "text/plain": [
       "                                                          name  price  \\\n",
       "date       ticker                                                       \n",
       "2024-07-31 KR5101888398        한국투자크레딧포커스ESG증권자투자신탁 1(채권)(C-e)   1068   \n",
       "           KR5236AS4826           한국밸류10년투자증권투자신탁 1(채권혼합)종류C-E   1260   \n",
       "           KR5370AP9956           AB글로벌고수익증권투자신탁(채권-재간접형)종류형Ce   1285   \n",
       "           K55306CV9946  다올글로벌멀티에셋인컴EMP증권자투자신탁[혼합-재간접형](공)종류Ce   1151   \n",
       "2024-10-31 KR5101888398        한국투자크레딧포커스ESG증권자투자신탁 1(채권)(C-e)   1080   \n",
       "           KR5236AS4826           한국밸류10년투자증권투자신탁 1(채권혼합)종류C-E   1268   \n",
       "           KR5370AP9956           AB글로벌고수익증권투자신탁(채권-재간접형)종류형Ce   1311   \n",
       "           K55306CV9946  다올글로벌멀티에셋인컴EMP증권자투자신탁[혼합-재간접형](공)종류Ce   1132   \n",
       "\n",
       "                         transaction   net weight weight*  \n",
       "date       ticker                                          \n",
       "2024-07-31 KR5101888398         4699  4699  0.502   0.502  \n",
       "           KR5236AS4826         1920  1920  0.242   0.242  \n",
       "           KR5370AP9956         1448  1448  0.186   0.186  \n",
       "           K55306CV9946          602   602  0.069   0.069  \n",
       "2024-10-31 KR5101888398         -310  4389  0.470  0.4700  \n",
       "           KR5236AS4826           36  1956  0.246  0.2459  \n",
       "           KR5370AP9956           26  1474  0.192  0.1916  \n",
       "           K55306CV9946          223   825  0.093  0.0926  "
      ]
     },
     "execution_count": 9,
     "metadata": {},
     "output_type": "execute_result"
    }
   ],
   "source": [
    "kwargs = dict(\n",
    "    date = WidgetTransaction.values(0),\n",
    "    capital = WidgetTransaction.values(1),\n",
    "    save = WidgetTransaction.values(2)\n",
    ")\n",
    "_ = pf_hana.transaction_pipeline(**kwargs)\n",
    "pf_hana.view_record()"
   ]
  },
  {
   "cell_type": "code",
   "execution_count": 10,
   "id": "8041db72-01c9-4a2f-9609-b8c3812c89c4",
   "metadata": {},
   "outputs": [
    {
     "name": "stdout",
     "output_type": "stream",
     "text": [
      "Transaction dates updated for profit/loss on the dates\n"
     ]
    },
    {
     "data": {
      "image/png": "[encoded data removed]",
      "text/plain": [
       "<Figure size 1000x600 with 3 Axes>"
      ]
     },
     "metadata": {},
     "output_type": "display_data"
    }
   ],
   "source": [
    "pf_hana.plot()"
   ]
  },
  {
   "cell_type": "code",
   "execution_count": 25,
   "id": "cd1ebe41-1ead-478a-ad0f-d2fb28e222aa",
   "metadata": {},
   "outputs": [
    {
     "name": "stdout",
     "output_type": "stream",
     "text": [
      "Transaction dates updated for profit/loss on the dates\n"
     ]
    },
    {
     "data": {
      "text/html": [
       "<div>\n",
       "<style scoped>\n",
       "    .dataframe tbody tr th:only-of-type {\n",
       "        vertical-align: middle;\n",
       "    }\n",
       "\n",
       "    .dataframe tbody tr th {\n",
       "        vertical-align: top;\n",
       "    }\n",
       "\n",
       "    .dataframe thead th {\n",
       "        text-align: right;\n",
       "    }\n",
       "</style>\n",
       "<table border=\"1\" class=\"dataframe\">\n",
       "  <thead>\n",
       "    <tr style=\"text-align: right;\">\n",
       "      <th></th>\n",
       "      <th>HANA</th>\n",
       "    </tr>\n",
       "  </thead>\n",
       "  <tbody>\n",
       "    <tr>\n",
       "      <th>start</th>\n",
       "      <td>2024-07-30</td>\n",
       "    </tr>\n",
       "    <tr>\n",
       "      <th>end</th>\n",
       "      <td>2024-10-31</td>\n",
       "    </tr>\n",
       "    <tr>\n",
       "      <th>total_return</th>\n",
       "      <td>0.006042</td>\n",
       "    </tr>\n",
       "    <tr>\n",
       "      <th>cagr</th>\n",
       "      <td>0.02394</td>\n",
       "    </tr>\n",
       "    <tr>\n",
       "      <th>calmar</th>\n",
       "      <td>10.415768</td>\n",
       "    </tr>\n",
       "    <tr>\n",
       "      <th>max_drawdown</th>\n",
       "      <td>-0.002298</td>\n",
       "    </tr>\n",
       "    <tr>\n",
       "      <th>avg_drawdown</th>\n",
       "      <td>-0.002298</td>\n",
       "    </tr>\n",
       "    <tr>\n",
       "      <th>avg_drawdown_days</th>\n",
       "      <td>1.0</td>\n",
       "    </tr>\n",
       "    <tr>\n",
       "      <th>daily_vol</th>\n",
       "      <td>0.009603</td>\n",
       "    </tr>\n",
       "    <tr>\n",
       "      <th>daily_sharpe</th>\n",
       "      <td>1.704574</td>\n",
       "    </tr>\n",
       "    <tr>\n",
       "      <th>daily_sortino</th>\n",
       "      <td>5.692181</td>\n",
       "    </tr>\n",
       "    <tr>\n",
       "      <th>monthly_vol</th>\n",
       "      <td>0.011185</td>\n",
       "    </tr>\n",
       "    <tr>\n",
       "      <th>monthly_sharpe</th>\n",
       "      <td>0.843908</td>\n",
       "    </tr>\n",
       "    <tr>\n",
       "      <th>monthly_sortino</th>\n",
       "      <td>2.053333</td>\n",
       "    </tr>\n",
       "  </tbody>\n",
       "</table>\n",
       "</div>"
      ],
      "text/plain": [
       "                         HANA\n",
       "start              2024-07-30\n",
       "end                2024-10-31\n",
       "total_return         0.006042\n",
       "cagr                  0.02394\n",
       "calmar              10.415768\n",
       "max_drawdown        -0.002298\n",
       "avg_drawdown        -0.002298\n",
       "avg_drawdown_days         1.0\n",
       "daily_vol            0.009603\n",
       "daily_sharpe         1.704574\n",
       "daily_sortino        5.692181\n",
       "monthly_vol          0.011185\n",
       "monthly_sharpe       0.843908\n",
       "monthly_sortino      2.053333"
      ]
     },
     "execution_count": 25,
     "metadata": {},
     "output_type": "execute_result"
    }
   ],
   "source": [
    "pf_hana.performance(metrics=METRICS)"
   ]
  },
  {
   "cell_type": "markdown",
   "id": "238678e2-6cfc-4bdb-b4d6-48194cb83e42",
   "metadata": {},
   "source": [
    "# testing"
   ]
  },
  {
   "cell_type": "code",
   "execution_count": 3,
   "id": "c7d630f1-e14b-4aea-9263-bd5007565a9b",
   "metadata": {},
   "outputs": [],
   "source": [
    "from pf_utils import PortfolioManager as PM \n",
    "from pf_utils import FinancialRatios, METRICS\n",
    "from pf_widgets import WidgetUniverse, WidgetTransaction, w_date\n",
    "from datetime import datetime\n",
    "import pandas as pd\n",
    "from numbers import Number\n",
    "\n",
    "path_data = 'data'\n",
    "path_tran = 'transaction'"
   ]
  },
  {
   "cell_type": "code",
   "execution_count": 4,
   "id": "818b63f4-a9f4-4c8d-9d5a-10dd86967ff3",
   "metadata": {},
   "outputs": [
    {
     "name": "stdout",
     "output_type": "stream",
     "text": [
      "201 securities from 2021-01-04 to 2024-11-28 uploaded.\n",
      "df_prices loaded\n",
      "Transaction record to 2024-11-11 loaded\n"
     ]
    }
   ],
   "source": [
    "pf_mmt = PM.create_portfolio('MMT')"
   ]
  },
  {
   "cell_type": "code",
   "execution_count": 5,
   "id": "449b4c11-e338-4d91-9349-47835abf0965",
   "metadata": {},
   "outputs": [
    {
     "data": {
      "text/plain": [
       "start    2024-07-19\n",
       "date     2024-11-28\n",
       "buy        29349501\n",
       "sell       14322250\n",
       "value      12423800\n",
       "UGL        -2603451\n",
       "ROI       -0.088705\n",
       "dtype: object"
      ]
     },
     "execution_count": 5,
     "metadata": {},
     "output_type": "execute_result"
    }
   ],
   "source": [
    "pf_mmt.valuate()"
   ]
  },
  {
   "cell_type": "code",
   "execution_count": 7,
   "id": "e3abff96-165c-4479-9d92-8900e61a4a37",
   "metadata": {},
   "outputs": [],
   "source": [
    "from pf_utils import CostCalculator"
   ]
  },
  {
   "cell_type": "code",
   "execution_count": 8,
   "id": "4025e918-c0b6-467b-aad8-4a8834d79973",
   "metadata": {},
   "outputs": [
    {
     "name": "stdout",
     "output_type": "stream",
     "text": [
      "201 securities from 2021-01-04 to 2024-11-28 uploaded.\n",
      "df_prices loaded\n",
      "Transaction record to 2024-11-11 loaded\n"
     ]
    }
   ],
   "source": [
    "pf_mmt = PM.create_portfolio('MMT')\n",
    "cc = CostCalculator(pf_mmt.record, pf_mmt.cols_record)"
   ]
  },
  {
   "cell_type": "code",
   "execution_count": 9,
   "id": "c131ff5d-3302-4cde-9f47-76da63f51ca2",
   "metadata": {
    "scrolled": true
   },
   "outputs": [
    {
     "data": {
      "text/html": [
       "<div>\n",
       "<style scoped>\n",
       "    .dataframe tbody tr th:only-of-type {\n",
       "        vertical-align: middle;\n",
       "    }\n",
       "\n",
       "    .dataframe tbody tr th {\n",
       "        vertical-align: top;\n",
       "    }\n",
       "\n",
       "    .dataframe thead th {\n",
       "        text-align: right;\n",
       "    }\n",
       "</style>\n",
       "<table border=\"1\" class=\"dataframe\">\n",
       "  <thead>\n",
       "    <tr style=\"text-align: right;\">\n",
       "      <th></th>\n",
       "      <th></th>\n",
       "      <th>buy</th>\n",
       "      <th>sell</th>\n",
       "      <th>fee</th>\n",
       "      <th>tax</th>\n",
       "    </tr>\n",
       "    <tr>\n",
       "      <th>date</th>\n",
       "      <th>ticker</th>\n",
       "      <th></th>\n",
       "      <th></th>\n",
       "      <th></th>\n",
       "      <th></th>\n",
       "    </tr>\n",
       "  </thead>\n",
       "  <tbody>\n",
       "    <tr>\n",
       "      <th rowspan=\"5\" valign=\"top\">2024-07-22</th>\n",
       "      <th>000150</th>\n",
       "      <td>94.629600</td>\n",
       "      <td>0.000000</td>\n",
       "      <td>0.000000</td>\n",
       "      <td>0.0</td>\n",
       "    </tr>\n",
       "    <tr>\n",
       "      <th>003230</th>\n",
       "      <td>115.921260</td>\n",
       "      <td>0.000000</td>\n",
       "      <td>0.000000</td>\n",
       "      <td>0.0</td>\n",
       "    </tr>\n",
       "    <tr>\n",
       "      <th>010120</th>\n",
       "      <td>96.958944</td>\n",
       "      <td>0.000000</td>\n",
       "      <td>0.000000</td>\n",
       "      <td>0.0</td>\n",
       "    </tr>\n",
       "    <tr>\n",
       "      <th>042700</th>\n",
       "      <td>108.460080</td>\n",
       "      <td>0.000000</td>\n",
       "      <td>0.000000</td>\n",
       "      <td>0.0</td>\n",
       "    </tr>\n",
       "    <tr>\n",
       "      <th>267260</th>\n",
       "      <td>102.855096</td>\n",
       "      <td>0.000000</td>\n",
       "      <td>0.000000</td>\n",
       "      <td>0.0</td>\n",
       "    </tr>\n",
       "    <tr>\n",
       "      <th rowspan=\"7\" valign=\"top\">2024-08-22</th>\n",
       "      <th>000150</th>\n",
       "      <td>0.000000</td>\n",
       "      <td>69.836645</td>\n",
       "      <td>397.152479</td>\n",
       "      <td>11512.8</td>\n",
       "    </tr>\n",
       "    <tr>\n",
       "      <th>003230</th>\n",
       "      <td>18.525564</td>\n",
       "      <td>0.000000</td>\n",
       "      <td>486.511787</td>\n",
       "      <td>0.0</td>\n",
       "    </tr>\n",
       "    <tr>\n",
       "      <th>010120</th>\n",
       "      <td>0.000000</td>\n",
       "      <td>76.169549</td>\n",
       "      <td>406.928540</td>\n",
       "      <td>12556.8</td>\n",
       "    </tr>\n",
       "    <tr>\n",
       "      <th>012450</th>\n",
       "      <td>102.818700</td>\n",
       "      <td>0.000000</td>\n",
       "      <td>0.000000</td>\n",
       "      <td>0.0</td>\n",
       "    </tr>\n",
       "    <tr>\n",
       "      <th>042700</th>\n",
       "      <td>4.480348</td>\n",
       "      <td>0.000000</td>\n",
       "      <td>455.197841</td>\n",
       "      <td>0.0</td>\n",
       "    </tr>\n",
       "    <tr>\n",
       "      <th>079550</th>\n",
       "      <td>98.341992</td>\n",
       "      <td>0.000000</td>\n",
       "      <td>0.000000</td>\n",
       "      <td>0.0</td>\n",
       "    </tr>\n",
       "    <tr>\n",
       "      <th>267260</th>\n",
       "      <td>0.000000</td>\n",
       "      <td>11.573928</td>\n",
       "      <td>431.674194</td>\n",
       "      <td>1908.0</td>\n",
       "    </tr>\n",
       "    <tr>\n",
       "      <th rowspan=\"5\" valign=\"top\">2024-09-26</th>\n",
       "      <th>003230</th>\n",
       "      <td>0.000000</td>\n",
       "      <td>0.000000</td>\n",
       "      <td>526.700333</td>\n",
       "      <td>0.0</td>\n",
       "    </tr>\n",
       "    <tr>\n",
       "      <th>012450</th>\n",
       "      <td>0.000000</td>\n",
       "      <td>102.818700</td>\n",
       "      <td>487.206431</td>\n",
       "      <td>16950.0</td>\n",
       "    </tr>\n",
       "    <tr>\n",
       "      <th>042700</th>\n",
       "      <td>0.000000</td>\n",
       "      <td>0.000000</td>\n",
       "      <td>445.832688</td>\n",
       "      <td>0.0</td>\n",
       "    </tr>\n",
       "    <tr>\n",
       "      <th>079550</th>\n",
       "      <td>0.000000</td>\n",
       "      <td>0.000000</td>\n",
       "      <td>465.993549</td>\n",
       "      <td>0.0</td>\n",
       "    </tr>\n",
       "    <tr>\n",
       "      <th>267260</th>\n",
       "      <td>0.000000</td>\n",
       "      <td>0.000000</td>\n",
       "      <td>438.744481</td>\n",
       "      <td>0.0</td>\n",
       "    </tr>\n",
       "    <tr>\n",
       "      <th rowspan=\"6\" valign=\"top\">2024-09-27</th>\n",
       "      <th>003230</th>\n",
       "      <td>0.000000</td>\n",
       "      <td>0.000000</td>\n",
       "      <td>16.200259</td>\n",
       "      <td>0.0</td>\n",
       "    </tr>\n",
       "    <tr>\n",
       "      <th>012450</th>\n",
       "      <td>92.565656</td>\n",
       "      <td>0.000000</td>\n",
       "      <td>0.000000</td>\n",
       "      <td>0.0</td>\n",
       "    </tr>\n",
       "    <tr>\n",
       "      <th>042700</th>\n",
       "      <td>0.000000</td>\n",
       "      <td>0.000000</td>\n",
       "      <td>11.816138</td>\n",
       "      <td>0.0</td>\n",
       "    </tr>\n",
       "    <tr>\n",
       "      <th>079550</th>\n",
       "      <td>0.000000</td>\n",
       "      <td>0.000000</td>\n",
       "      <td>14.899508</td>\n",
       "      <td>0.0</td>\n",
       "    </tr>\n",
       "    <tr>\n",
       "      <th>267260</th>\n",
       "      <td>0.000000</td>\n",
       "      <td>0.000000</td>\n",
       "      <td>13.204590</td>\n",
       "      <td>0.0</td>\n",
       "    </tr>\n",
       "    <tr>\n",
       "      <th>489790</th>\n",
       "      <td>10.253081</td>\n",
       "      <td>0.000000</td>\n",
       "      <td>0.000000</td>\n",
       "      <td>0.0</td>\n",
       "    </tr>\n",
       "    <tr>\n",
       "      <th rowspan=\"7\" valign=\"top\">2024-10-08</th>\n",
       "      <th>003230</th>\n",
       "      <td>0.000000</td>\n",
       "      <td>0.000000</td>\n",
       "      <td>174.955278</td>\n",
       "      <td>0.0</td>\n",
       "    </tr>\n",
       "    <tr>\n",
       "      <th>011790</th>\n",
       "      <td>111.808512</td>\n",
       "      <td>0.000000</td>\n",
       "      <td>0.000000</td>\n",
       "      <td>0.0</td>\n",
       "    </tr>\n",
       "    <tr>\n",
       "      <th>012450</th>\n",
       "      <td>0.000000</td>\n",
       "      <td>0.000000</td>\n",
       "      <td>137.844597</td>\n",
       "      <td>0.0</td>\n",
       "    </tr>\n",
       "    <tr>\n",
       "      <th>042700</th>\n",
       "      <td>0.000000</td>\n",
       "      <td>82.622560</td>\n",
       "      <td>128.614893</td>\n",
       "      <td>13620.6</td>\n",
       "    </tr>\n",
       "    <tr>\n",
       "      <th>079550</th>\n",
       "      <td>0.000000</td>\n",
       "      <td>26.587278</td>\n",
       "      <td>159.725280</td>\n",
       "      <td>4383.0</td>\n",
       "    </tr>\n",
       "    <tr>\n",
       "      <th>267260</th>\n",
       "      <td>0.000000</td>\n",
       "      <td>0.000000</td>\n",
       "      <td>138.533361</td>\n",
       "      <td>0.0</td>\n",
       "    </tr>\n",
       "    <tr>\n",
       "      <th>489790</th>\n",
       "      <td>0.000000</td>\n",
       "      <td>12.889643</td>\n",
       "      <td>15.268425</td>\n",
       "      <td>2124.9</td>\n",
       "    </tr>\n",
       "    <tr>\n",
       "      <th rowspan=\"6\" valign=\"top\">2024-11-11</th>\n",
       "      <th>003230</th>\n",
       "      <td>0.000000</td>\n",
       "      <td>20.490948</td>\n",
       "      <td>526.728600</td>\n",
       "      <td>3378.0</td>\n",
       "    </tr>\n",
       "    <tr>\n",
       "      <th>011790</th>\n",
       "      <td>0.000000</td>\n",
       "      <td>88.911788</td>\n",
       "      <td>514.666113</td>\n",
       "      <td>14657.4</td>\n",
       "    </tr>\n",
       "    <tr>\n",
       "      <th>012450</th>\n",
       "      <td>0.000000</td>\n",
       "      <td>29.371572</td>\n",
       "      <td>549.597065</td>\n",
       "      <td>4842.0</td>\n",
       "    </tr>\n",
       "    <tr>\n",
       "      <th>064350</th>\n",
       "      <td>110.585606</td>\n",
       "      <td>0.000000</td>\n",
       "      <td>0.000000</td>\n",
       "      <td>0.0</td>\n",
       "    </tr>\n",
       "    <tr>\n",
       "      <th>079550</th>\n",
       "      <td>0.000000</td>\n",
       "      <td>0.000000</td>\n",
       "      <td>448.741271</td>\n",
       "      <td>0.0</td>\n",
       "    </tr>\n",
       "    <tr>\n",
       "      <th>267260</th>\n",
       "      <td>0.000000</td>\n",
       "      <td>0.000000</td>\n",
       "      <td>430.228704</td>\n",
       "      <td>0.0</td>\n",
       "    </tr>\n",
       "    <tr>\n",
       "      <th rowspan=\"5\" valign=\"top\">2024-12-01</th>\n",
       "      <th>003230</th>\n",
       "      <td>0.000000</td>\n",
       "      <td>0.000000</td>\n",
       "      <td>277.407923</td>\n",
       "      <td>0.0</td>\n",
       "    </tr>\n",
       "    <tr>\n",
       "      <th>012450</th>\n",
       "      <td>0.000000</td>\n",
       "      <td>0.000000</td>\n",
       "      <td>278.344114</td>\n",
       "      <td>0.0</td>\n",
       "    </tr>\n",
       "    <tr>\n",
       "      <th>064350</th>\n",
       "      <td>0.000000</td>\n",
       "      <td>0.000000</td>\n",
       "      <td>299.423174</td>\n",
       "      <td>0.0</td>\n",
       "    </tr>\n",
       "    <tr>\n",
       "      <th>079550</th>\n",
       "      <td>0.000000</td>\n",
       "      <td>0.000000</td>\n",
       "      <td>288.346566</td>\n",
       "      <td>0.0</td>\n",
       "    </tr>\n",
       "    <tr>\n",
       "      <th>267260</th>\n",
       "      <td>0.000000</td>\n",
       "      <td>0.000000</td>\n",
       "      <td>307.464555</td>\n",
       "      <td>0.0</td>\n",
       "    </tr>\n",
       "  </tbody>\n",
       "</table>\n",
       "</div>"
      ],
      "text/plain": [
       "                          buy        sell         fee      tax\n",
       "date       ticker                                             \n",
       "2024-07-22 000150   94.629600    0.000000    0.000000      0.0\n",
       "           003230  115.921260    0.000000    0.000000      0.0\n",
       "           010120   96.958944    0.000000    0.000000      0.0\n",
       "           042700  108.460080    0.000000    0.000000      0.0\n",
       "           267260  102.855096    0.000000    0.000000      0.0\n",
       "2024-08-22 000150    0.000000   69.836645  397.152479  11512.8\n",
       "           003230   18.525564    0.000000  486.511787      0.0\n",
       "           010120    0.000000   76.169549  406.928540  12556.8\n",
       "           012450  102.818700    0.000000    0.000000      0.0\n",
       "           042700    4.480348    0.000000  455.197841      0.0\n",
       "           079550   98.341992    0.000000    0.000000      0.0\n",
       "           267260    0.000000   11.573928  431.674194   1908.0\n",
       "2024-09-26 003230    0.000000    0.000000  526.700333      0.0\n",
       "           012450    0.000000  102.818700  487.206431  16950.0\n",
       "           042700    0.000000    0.000000  445.832688      0.0\n",
       "           079550    0.000000    0.000000  465.993549      0.0\n",
       "           267260    0.000000    0.000000  438.744481      0.0\n",
       "2024-09-27 003230    0.000000    0.000000   16.200259      0.0\n",
       "           012450   92.565656    0.000000    0.000000      0.0\n",
       "           042700    0.000000    0.000000   11.816138      0.0\n",
       "           079550    0.000000    0.000000   14.899508      0.0\n",
       "           267260    0.000000    0.000000   13.204590      0.0\n",
       "           489790   10.253081    0.000000    0.000000      0.0\n",
       "2024-10-08 003230    0.000000    0.000000  174.955278      0.0\n",
       "           011790  111.808512    0.000000    0.000000      0.0\n",
       "           012450    0.000000    0.000000  137.844597      0.0\n",
       "           042700    0.000000   82.622560  128.614893  13620.6\n",
       "           079550    0.000000   26.587278  159.725280   4383.0\n",
       "           267260    0.000000    0.000000  138.533361      0.0\n",
       "           489790    0.000000   12.889643   15.268425   2124.9\n",
       "2024-11-11 003230    0.000000   20.490948  526.728600   3378.0\n",
       "           011790    0.000000   88.911788  514.666113  14657.4\n",
       "           012450    0.000000   29.371572  549.597065   4842.0\n",
       "           064350  110.585606    0.000000    0.000000      0.0\n",
       "           079550    0.000000    0.000000  448.741271      0.0\n",
       "           267260    0.000000    0.000000  430.228704      0.0\n",
       "2024-12-01 003230    0.000000    0.000000  277.407923      0.0\n",
       "           012450    0.000000    0.000000  278.344114      0.0\n",
       "           064350    0.000000    0.000000  299.423174      0.0\n",
       "           079550    0.000000    0.000000  288.346566      0.0\n",
       "           267260    0.000000    0.000000  307.464555      0.0"
      ]
     },
     "execution_count": 9,
     "metadata": {},
     "output_type": "execute_result"
    }
   ],
   "source": [
    "buy = 0.00363960\n",
    "fee = 0.6\n",
    "tax = 0.18\n",
    "df_cost = cc.calc_cost(buy, buy, fee, tax)\n",
    "df_cost"
   ]
  },
  {
   "cell_type": "code",
   "execution_count": 16,
   "id": "3dc19532-5d84-4088-9fd2-dcaaf04f4df7",
   "metadata": {},
   "outputs": [
    {
     "data": {
      "text/html": [
       "<div>\n",
       "<style scoped>\n",
       "    .dataframe tbody tr th:only-of-type {\n",
       "        vertical-align: middle;\n",
       "    }\n",
       "\n",
       "    .dataframe tbody tr th {\n",
       "        vertical-align: top;\n",
       "    }\n",
       "\n",
       "    .dataframe thead th {\n",
       "        text-align: right;\n",
       "    }\n",
       "</style>\n",
       "<table border=\"1\" class=\"dataframe\">\n",
       "  <thead>\n",
       "    <tr style=\"text-align: right;\">\n",
       "      <th></th>\n",
       "      <th>cost_buy</th>\n",
       "      <th>cost_sell</th>\n",
       "    </tr>\n",
       "    <tr>\n",
       "      <th>date</th>\n",
       "      <th></th>\n",
       "      <th></th>\n",
       "    </tr>\n",
       "  </thead>\n",
       "  <tbody>\n",
       "    <tr>\n",
       "      <th>2024-07-22</th>\n",
       "      <td>518.824980</td>\n",
       "      <td>0.000000</td>\n",
       "    </tr>\n",
       "    <tr>\n",
       "      <th>2024-08-22</th>\n",
       "      <td>224.166604</td>\n",
       "      <td>28312.644962</td>\n",
       "    </tr>\n",
       "    <tr>\n",
       "      <th>2024-09-26</th>\n",
       "      <td>0.000000</td>\n",
       "      <td>19417.296182</td>\n",
       "    </tr>\n",
       "    <tr>\n",
       "      <th>2024-09-27</th>\n",
       "      <td>102.818736</td>\n",
       "      <td>56.120494</td>\n",
       "    </tr>\n",
       "    <tr>\n",
       "      <th>2024-10-08</th>\n",
       "      <td>111.808512</td>\n",
       "      <td>21005.541316</td>\n",
       "    </tr>\n",
       "    <tr>\n",
       "      <th>2024-11-11</th>\n",
       "      <td>110.585606</td>\n",
       "      <td>25486.136060</td>\n",
       "    </tr>\n",
       "    <tr>\n",
       "      <th>2024-12-01</th>\n",
       "      <td>0.000000</td>\n",
       "      <td>1450.986332</td>\n",
       "    </tr>\n",
       "  </tbody>\n",
       "</table>\n",
       "</div>"
      ],
      "text/plain": [
       "              cost_buy     cost_sell\n",
       "date                                \n",
       "2024-07-22  518.824980      0.000000\n",
       "2024-08-22  224.166604  28312.644962\n",
       "2024-09-26    0.000000  19417.296182\n",
       "2024-09-27  102.818736     56.120494\n",
       "2024-10-08  111.808512  21005.541316\n",
       "2024-11-11  110.585606  25486.136060\n",
       "2024-12-01    0.000000   1450.986332"
      ]
     },
     "execution_count": 16,
     "metadata": {},
     "output_type": "execute_result"
    }
   ],
   "source": [
    "#df_cost.groupby('date').sum().sum(axis=1).rename('cost')\n",
    "df = df_cost.groupby('date').sum().rename(columns={'buy':'cost_buy'})\n",
    "df['cost_sell'] = df['sell'] + df['fee'] + df['tax']\n",
    "df = df[['cost_buy', 'cost_sell']]\n",
    "df"
   ]
  },
  {
   "cell_type": "code",
   "execution_count": 18,
   "id": "cf883116-750f-442c-9c19-87ee9d1f9902",
   "metadata": {},
   "outputs": [
    {
     "name": "stdout",
     "output_type": "stream",
     "text": [
      "Transaction dates updated for profit/loss on the dates\n"
     ]
    },
    {
     "data": {
      "text/html": [
       "<div>\n",
       "<style scoped>\n",
       "    .dataframe tbody tr th:only-of-type {\n",
       "        vertical-align: middle;\n",
       "    }\n",
       "\n",
       "    .dataframe tbody tr th {\n",
       "        vertical-align: top;\n",
       "    }\n",
       "\n",
       "    .dataframe thead th {\n",
       "        text-align: right;\n",
       "    }\n",
       "</style>\n",
       "<table border=\"1\" class=\"dataframe\">\n",
       "  <thead>\n",
       "    <tr style=\"text-align: right;\">\n",
       "      <th></th>\n",
       "      <th>buy</th>\n",
       "      <th>sell</th>\n",
       "    </tr>\n",
       "    <tr>\n",
       "      <th>date</th>\n",
       "      <th></th>\n",
       "      <th></th>\n",
       "    </tr>\n",
       "  </thead>\n",
       "  <tbody>\n",
       "    <tr>\n",
       "      <th>2024-07-19</th>\n",
       "      <td>14255000</td>\n",
       "      <td>0.0</td>\n",
       "    </tr>\n",
       "    <tr>\n",
       "      <th>2024-08-21</th>\n",
       "      <td>20414100</td>\n",
       "      <td>4329600.0</td>\n",
       "    </tr>\n",
       "    <tr>\n",
       "      <th>2024-09-26</th>\n",
       "      <td>23239101</td>\n",
       "      <td>4329600.0</td>\n",
       "    </tr>\n",
       "    <tr>\n",
       "      <th>2024-10-07</th>\n",
       "      <td>26311101</td>\n",
       "      <td>10509350.0</td>\n",
       "    </tr>\n",
       "    <tr>\n",
       "      <th>2024-11-08</th>\n",
       "      <td>29349501</td>\n",
       "      <td>14322250.0</td>\n",
       "    </tr>\n",
       "  </tbody>\n",
       "</table>\n",
       "</div>"
      ],
      "text/plain": [
       "                 buy        sell\n",
       "date                            \n",
       "2024-07-19  14255000         0.0\n",
       "2024-08-21  20414100   4329600.0\n",
       "2024-09-26  23239101   4329600.0\n",
       "2024-10-07  26311101  10509350.0\n",
       "2024-11-08  29349501  14322250.0"
      ]
     },
     "execution_count": 18,
     "metadata": {},
     "output_type": "execute_result"
    }
   ],
   "source": [
    "pf_mmt.get_cash_history()"
   ]
  },
  {
   "cell_type": "code",
   "execution_count": null,
   "id": "1cd73927-147e-4c82-a242-55fc8360981b",
   "metadata": {},
   "outputs": [],
   "source": []
  },
  {
   "cell_type": "code",
   "execution_count": 150,
   "id": "370353bb-cf4a-46d9-80bf-54370d4a539c",
   "metadata": {},
   "outputs": [
    {
     "data": {
      "text/plain": [
       "date        ticker\n",
       "2024-07-22  003230    115.921260\n",
       "            267260    102.855096\n",
       "            042700    108.460080\n",
       "            000150     94.629600\n",
       "            010120     96.958944\n",
       "2024-08-22  267260     11.573928\n",
       "            003230     18.525564\n",
       "            012450    102.818700\n",
       "            079550     98.341992\n",
       "            042700      4.480348\n",
       "            000150     69.836645\n",
       "            010120     76.169549\n",
       "2024-09-26  267260      0.000000\n",
       "            003230      0.000000\n",
       "            012450    102.818700\n",
       "            079550      0.000000\n",
       "            042700      0.000000\n",
       "2024-09-27  267260      0.000000\n",
       "            003230      0.000000\n",
       "            079550      0.000000\n",
       "            042700      0.000000\n",
       "            012450     92.565656\n",
       "            489790     10.253081\n",
       "2024-10-08  267260      0.000000\n",
       "            012450      0.000000\n",
       "            079550     26.587278\n",
       "            003230      0.000000\n",
       "            011790    111.808512\n",
       "            042700     82.622560\n",
       "            489790     12.889643\n",
       "2024-11-11  267260      0.000000\n",
       "            012450     29.371572\n",
       "            079550      0.000000\n",
       "            003230     20.490948\n",
       "            064350    110.585606\n",
       "            011790     88.911788\n",
       "Name: all, dtype: float64"
      ]
     },
     "execution_count": 150,
     "metadata": {},
     "output_type": "execute_result"
    }
   ],
   "source": [
    "commission = 0.00363960\n",
    "cc.calc_fee_trading(commission)"
   ]
  },
  {
   "cell_type": "code",
   "execution_count": 152,
   "id": "6b5d3079-1d06-461c-9f1a-e490c0c4e792",
   "metadata": {},
   "outputs": [
    {
     "data": {
      "text/plain": [
       "date        ticker\n",
       "2024-08-22  267260     572.40\n",
       "            000150    3453.84\n",
       "            010120    3767.04\n",
       "2024-09-26  012450    5085.00\n",
       "2024-10-08  079550    1314.90\n",
       "            042700    4086.18\n",
       "            489790     637.47\n",
       "2024-11-11  012450    1452.60\n",
       "            003230    1013.40\n",
       "            011790    4397.22\n",
       "Name: tax, dtype: float64"
      ]
     },
     "execution_count": 152,
     "metadata": {},
     "output_type": "execute_result"
    }
   ],
   "source": [
    "tax = 0.18\n",
    "cc.calc_tax(tax)"
   ]
  },
  {
   "cell_type": "code",
   "execution_count": 153,
   "id": "38b01128-3346-418b-9462-97faebe61988",
   "metadata": {},
   "outputs": [
    {
     "data": {
      "text/plain": [
       "date        ticker\n",
       "2024-08-22  000150    1540.824788\n",
       "            003230    1887.510366\n",
       "            010120    1578.752783\n",
       "            042700    1766.022258\n",
       "            267260    1674.758020\n",
       "2024-09-26  003230    2043.487067\n",
       "            012450    1890.258993\n",
       "            042700    1729.737530\n",
       "            079550    1807.957451\n",
       "            267260    1702.236771\n",
       "2024-09-27  003230      62.838458\n",
       "            042700      45.833087\n",
       "            079550      57.793034\n",
       "            267260      51.218694\n",
       "2024-10-08  003230     678.674328\n",
       "            012450     534.717159\n",
       "            042700     498.913934\n",
       "            079550     619.595181\n",
       "            267260     537.388966\n",
       "            489790      59.228211\n",
       "2024-11-11  003230    2043.582243\n",
       "            011790    1996.782650\n",
       "            012450    2132.306472\n",
       "            079550    1741.009872\n",
       "            267260    1669.185496\n",
       "2024-12-01  003230    1076.170186\n",
       "            012450    1079.802022\n",
       "            064350    1161.575664\n",
       "            079550    1118.605316\n",
       "            267260    1192.771219\n",
       "Name: fee, dtype: float64"
      ]
     },
     "execution_count": 153,
     "metadata": {},
     "output_type": "execute_result"
    }
   ],
   "source": [
    "tax = 0.7\n",
    "cc.calc_fee_annual(tax)"
   ]
  },
  {
   "cell_type": "code",
   "execution_count": 156,
   "id": "78cec1ec-49d6-4148-bd2d-5521c3ec06ad",
   "metadata": {},
   "outputs": [
    {
     "data": {
      "text/html": [
       "<div>\n",
       "<style scoped>\n",
       "    .dataframe tbody tr th:only-of-type {\n",
       "        vertical-align: middle;\n",
       "    }\n",
       "\n",
       "    .dataframe tbody tr th {\n",
       "        vertical-align: top;\n",
       "    }\n",
       "\n",
       "    .dataframe thead th {\n",
       "        text-align: right;\n",
       "    }\n",
       "</style>\n",
       "<table border=\"1\" class=\"dataframe\">\n",
       "  <thead>\n",
       "    <tr style=\"text-align: right;\">\n",
       "      <th></th>\n",
       "      <th></th>\n",
       "      <th>all</th>\n",
       "      <th>fee</th>\n",
       "    </tr>\n",
       "    <tr>\n",
       "      <th>date</th>\n",
       "      <th>ticker</th>\n",
       "      <th></th>\n",
       "      <th></th>\n",
       "    </tr>\n",
       "  </thead>\n",
       "  <tbody>\n",
       "    <tr>\n",
       "      <th rowspan=\"5\" valign=\"top\">2024-07-22</th>\n",
       "      <th>000150</th>\n",
       "      <td>94.629600</td>\n",
       "      <td>NaN</td>\n",
       "    </tr>\n",
       "    <tr>\n",
       "      <th>003230</th>\n",
       "      <td>115.921260</td>\n",
       "      <td>NaN</td>\n",
       "    </tr>\n",
       "    <tr>\n",
       "      <th>010120</th>\n",
       "      <td>96.958944</td>\n",
       "      <td>NaN</td>\n",
       "    </tr>\n",
       "    <tr>\n",
       "      <th>042700</th>\n",
       "      <td>108.460080</td>\n",
       "      <td>NaN</td>\n",
       "    </tr>\n",
       "    <tr>\n",
       "      <th>267260</th>\n",
       "      <td>102.855096</td>\n",
       "      <td>NaN</td>\n",
       "    </tr>\n",
       "    <tr>\n",
       "      <th rowspan=\"7\" valign=\"top\">2024-08-22</th>\n",
       "      <th>000150</th>\n",
       "      <td>69.836645</td>\n",
       "      <td>1540.824788</td>\n",
       "    </tr>\n",
       "    <tr>\n",
       "      <th>003230</th>\n",
       "      <td>18.525564</td>\n",
       "      <td>1887.510366</td>\n",
       "    </tr>\n",
       "    <tr>\n",
       "      <th>010120</th>\n",
       "      <td>76.169549</td>\n",
       "      <td>1578.752783</td>\n",
       "    </tr>\n",
       "    <tr>\n",
       "      <th>012450</th>\n",
       "      <td>102.818700</td>\n",
       "      <td>NaN</td>\n",
       "    </tr>\n",
       "    <tr>\n",
       "      <th>042700</th>\n",
       "      <td>4.480348</td>\n",
       "      <td>1766.022258</td>\n",
       "    </tr>\n",
       "    <tr>\n",
       "      <th>079550</th>\n",
       "      <td>98.341992</td>\n",
       "      <td>NaN</td>\n",
       "    </tr>\n",
       "    <tr>\n",
       "      <th>267260</th>\n",
       "      <td>11.573928</td>\n",
       "      <td>1674.758020</td>\n",
       "    </tr>\n",
       "    <tr>\n",
       "      <th rowspan=\"5\" valign=\"top\">2024-09-26</th>\n",
       "      <th>003230</th>\n",
       "      <td>0.000000</td>\n",
       "      <td>2043.487067</td>\n",
       "    </tr>\n",
       "    <tr>\n",
       "      <th>012450</th>\n",
       "      <td>102.818700</td>\n",
       "      <td>1890.258993</td>\n",
       "    </tr>\n",
       "    <tr>\n",
       "      <th>042700</th>\n",
       "      <td>0.000000</td>\n",
       "      <td>1729.737530</td>\n",
       "    </tr>\n",
       "    <tr>\n",
       "      <th>079550</th>\n",
       "      <td>0.000000</td>\n",
       "      <td>1807.957451</td>\n",
       "    </tr>\n",
       "    <tr>\n",
       "      <th>267260</th>\n",
       "      <td>0.000000</td>\n",
       "      <td>1702.236771</td>\n",
       "    </tr>\n",
       "    <tr>\n",
       "      <th rowspan=\"6\" valign=\"top\">2024-09-27</th>\n",
       "      <th>003230</th>\n",
       "      <td>0.000000</td>\n",
       "      <td>62.838458</td>\n",
       "    </tr>\n",
       "    <tr>\n",
       "      <th>012450</th>\n",
       "      <td>92.565656</td>\n",
       "      <td>NaN</td>\n",
       "    </tr>\n",
       "    <tr>\n",
       "      <th>042700</th>\n",
       "      <td>0.000000</td>\n",
       "      <td>45.833087</td>\n",
       "    </tr>\n",
       "    <tr>\n",
       "      <th>079550</th>\n",
       "      <td>0.000000</td>\n",
       "      <td>57.793034</td>\n",
       "    </tr>\n",
       "    <tr>\n",
       "      <th>267260</th>\n",
       "      <td>0.000000</td>\n",
       "      <td>51.218694</td>\n",
       "    </tr>\n",
       "    <tr>\n",
       "      <th>489790</th>\n",
       "      <td>10.253081</td>\n",
       "      <td>NaN</td>\n",
       "    </tr>\n",
       "    <tr>\n",
       "      <th rowspan=\"7\" valign=\"top\">2024-10-08</th>\n",
       "      <th>003230</th>\n",
       "      <td>0.000000</td>\n",
       "      <td>678.674328</td>\n",
       "    </tr>\n",
       "    <tr>\n",
       "      <th>011790</th>\n",
       "      <td>111.808512</td>\n",
       "      <td>NaN</td>\n",
       "    </tr>\n",
       "    <tr>\n",
       "      <th>012450</th>\n",
       "      <td>0.000000</td>\n",
       "      <td>534.717159</td>\n",
       "    </tr>\n",
       "    <tr>\n",
       "      <th>042700</th>\n",
       "      <td>82.622560</td>\n",
       "      <td>498.913934</td>\n",
       "    </tr>\n",
       "    <tr>\n",
       "      <th>079550</th>\n",
       "      <td>26.587278</td>\n",
       "      <td>619.595181</td>\n",
       "    </tr>\n",
       "    <tr>\n",
       "      <th>267260</th>\n",
       "      <td>0.000000</td>\n",
       "      <td>537.388966</td>\n",
       "    </tr>\n",
       "    <tr>\n",
       "      <th>489790</th>\n",
       "      <td>12.889643</td>\n",
       "      <td>59.228211</td>\n",
       "    </tr>\n",
       "    <tr>\n",
       "      <th rowspan=\"6\" valign=\"top\">2024-11-11</th>\n",
       "      <th>003230</th>\n",
       "      <td>20.490948</td>\n",
       "      <td>2043.582243</td>\n",
       "    </tr>\n",
       "    <tr>\n",
       "      <th>011790</th>\n",
       "      <td>88.911788</td>\n",
       "      <td>1996.782650</td>\n",
       "    </tr>\n",
       "    <tr>\n",
       "      <th>012450</th>\n",
       "      <td>29.371572</td>\n",
       "      <td>2132.306472</td>\n",
       "    </tr>\n",
       "    <tr>\n",
       "      <th>064350</th>\n",
       "      <td>110.585606</td>\n",
       "      <td>NaN</td>\n",
       "    </tr>\n",
       "    <tr>\n",
       "      <th>079550</th>\n",
       "      <td>0.000000</td>\n",
       "      <td>1741.009872</td>\n",
       "    </tr>\n",
       "    <tr>\n",
       "      <th>267260</th>\n",
       "      <td>0.000000</td>\n",
       "      <td>1669.185496</td>\n",
       "    </tr>\n",
       "    <tr>\n",
       "      <th rowspan=\"5\" valign=\"top\">2024-12-01</th>\n",
       "      <th>003230</th>\n",
       "      <td>NaN</td>\n",
       "      <td>1076.170186</td>\n",
       "    </tr>\n",
       "    <tr>\n",
       "      <th>012450</th>\n",
       "      <td>NaN</td>\n",
       "      <td>1079.802022</td>\n",
       "    </tr>\n",
       "    <tr>\n",
       "      <th>064350</th>\n",
       "      <td>NaN</td>\n",
       "      <td>1161.575664</td>\n",
       "    </tr>\n",
       "    <tr>\n",
       "      <th>079550</th>\n",
       "      <td>NaN</td>\n",
       "      <td>1118.605316</td>\n",
       "    </tr>\n",
       "    <tr>\n",
       "      <th>267260</th>\n",
       "      <td>NaN</td>\n",
       "      <td>1192.771219</td>\n",
       "    </tr>\n",
       "  </tbody>\n",
       "</table>\n",
       "</div>"
      ],
      "text/plain": [
       "                          all          fee\n",
       "date       ticker                         \n",
       "2024-07-22 000150   94.629600          NaN\n",
       "           003230  115.921260          NaN\n",
       "           010120   96.958944          NaN\n",
       "           042700  108.460080          NaN\n",
       "           267260  102.855096          NaN\n",
       "2024-08-22 000150   69.836645  1540.824788\n",
       "           003230   18.525564  1887.510366\n",
       "           010120   76.169549  1578.752783\n",
       "           012450  102.818700          NaN\n",
       "           042700    4.480348  1766.022258\n",
       "           079550   98.341992          NaN\n",
       "           267260   11.573928  1674.758020\n",
       "2024-09-26 003230    0.000000  2043.487067\n",
       "           012450  102.818700  1890.258993\n",
       "           042700    0.000000  1729.737530\n",
       "           079550    0.000000  1807.957451\n",
       "           267260    0.000000  1702.236771\n",
       "2024-09-27 003230    0.000000    62.838458\n",
       "           012450   92.565656          NaN\n",
       "           042700    0.000000    45.833087\n",
       "           079550    0.000000    57.793034\n",
       "           267260    0.000000    51.218694\n",
       "           489790   10.253081          NaN\n",
       "2024-10-08 003230    0.000000   678.674328\n",
       "           011790  111.808512          NaN\n",
       "           012450    0.000000   534.717159\n",
       "           042700   82.622560   498.913934\n",
       "           079550   26.587278   619.595181\n",
       "           267260    0.000000   537.388966\n",
       "           489790   12.889643    59.228211\n",
       "2024-11-11 003230   20.490948  2043.582243\n",
       "           011790   88.911788  1996.782650\n",
       "           012450   29.371572  2132.306472\n",
       "           064350  110.585606          NaN\n",
       "           079550    0.000000  1741.009872\n",
       "           267260    0.000000  1669.185496\n",
       "2024-12-01 003230         NaN  1076.170186\n",
       "           012450         NaN  1079.802022\n",
       "           064350         NaN  1161.575664\n",
       "           079550         NaN  1118.605316\n",
       "           267260         NaN  1192.771219"
      ]
     },
     "execution_count": 156,
     "metadata": {},
     "output_type": "execute_result"
    }
   ],
   "source": [
    "sr1 = cc.calc_fee_trading(commission)\n",
    "sr2 = cc.calc_fee_annual(tax)\n",
    "sr1.to_frame().join(sr2, how='outer')"
   ]
  },
  {
   "cell_type": "code",
   "execution_count": 29,
   "id": "5e0a5565-0784-4630-88b4-f93638e95eae",
   "metadata": {},
   "outputs": [
    {
     "data": {
      "text/html": [
       "<div>\n",
       "<style scoped>\n",
       "    .dataframe tbody tr th:only-of-type {\n",
       "        vertical-align: middle;\n",
       "    }\n",
       "\n",
       "    .dataframe tbody tr th {\n",
       "        vertical-align: top;\n",
       "    }\n",
       "\n",
       "    .dataframe thead th {\n",
       "        text-align: right;\n",
       "    }\n",
       "</style>\n",
       "<table border=\"1\" class=\"dataframe\">\n",
       "  <thead>\n",
       "    <tr style=\"text-align: right;\">\n",
       "      <th></th>\n",
       "      <th></th>\n",
       "      <th>name</th>\n",
       "      <th>price</th>\n",
       "      <th>transaction</th>\n",
       "      <th>net</th>\n",
       "      <th>weight</th>\n",
       "      <th>weight*</th>\n",
       "    </tr>\n",
       "    <tr>\n",
       "      <th>date</th>\n",
       "      <th>ticker</th>\n",
       "      <th></th>\n",
       "      <th></th>\n",
       "      <th></th>\n",
       "      <th></th>\n",
       "      <th></th>\n",
       "      <th></th>\n",
       "    </tr>\n",
       "  </thead>\n",
       "  <tbody>\n",
       "    <tr>\n",
       "      <th>2024-07-22</th>\n",
       "      <th>000150</th>\n",
       "      <td>두산</td>\n",
       "      <td>200000</td>\n",
       "      <td>13</td>\n",
       "      <td>13</td>\n",
       "      <td>0.189</td>\n",
       "      <td>0.1824</td>\n",
       "    </tr>\n",
       "    <tr>\n",
       "      <th>2024-08-22</th>\n",
       "      <th>000150</th>\n",
       "      <td>두산</td>\n",
       "      <td>147600</td>\n",
       "      <td>-13</td>\n",
       "      <td>0</td>\n",
       "      <td>0.000</td>\n",
       "      <td>0.0000</td>\n",
       "    </tr>\n",
       "  </tbody>\n",
       "</table>\n",
       "</div>"
      ],
      "text/plain": [
       "                  name   price  transaction  net  weight  weight*\n",
       "date       ticker                                                \n",
       "2024-07-22 000150   두산  200000           13   13   0.189   0.1824\n",
       "2024-08-22 000150   두산  147600          -13    0   0.000   0.0000"
      ]
     },
     "execution_count": 29,
     "metadata": {},
     "output_type": "execute_result"
    }
   ],
   "source": [
    "idx = pd.IndexSlice\n",
    "cc.df_rec.loc[idx[:,'000150'],:]"
   ]
  },
  {
   "cell_type": "code",
   "execution_count": 70,
   "id": "3b9e06c9-f4f8-41ac-9b51-ab012c2e51d5",
   "metadata": {},
   "outputs": [],
   "source": [
    "#fund = PM.create_universe('UV_FUND')"
   ]
  },
  {
   "cell_type": "code",
   "execution_count": 32,
   "id": "4604aa0b-9183-41e5-9d82-9545eab286e1",
   "metadata": {},
   "outputs": [
    {
     "data": {
      "text/plain": [
       "34129.70678794521"
      ]
     },
     "execution_count": 32,
     "metadata": {},
     "output_type": "execute_result"
    }
   ],
   "source": [
    "fees = pb.record.index.get_level_values(1).unique()\n",
    "fees = {x: 0.76 for x in fees}\n",
    "\n",
    "pb.calc_fee_annual(fees, '2024-11-29')"
   ]
  },
  {
   "cell_type": "code",
   "execution_count": 48,
   "id": "233ef2ad-559f-485f-9d7c-c3b9e722e26e",
   "metadata": {},
   "outputs": [
    {
     "data": {
      "text/plain": [
       "(1068.2044383960001, -521.272611, -25780.05)"
      ]
     },
     "execution_count": 48,
     "metadata": {},
     "output_type": "execute_result"
    }
   ],
   "source": [
    "commissions = {'buy':0.00363960, 'sell':0.00363960, 'fee':0, 'tax':0.18} # percent\n",
    "\n",
    "pb.calc_cost(commissions)"
   ]
  },
  {
   "cell_type": "code",
   "execution_count": 113,
   "id": "c8891025-5b9b-4a72-b075-438e202f3af0",
   "metadata": {},
   "outputs": [
    {
     "data": {
      "text/html": [
       "<div>\n",
       "<style scoped>\n",
       "    .dataframe tbody tr th:only-of-type {\n",
       "        vertical-align: middle;\n",
       "    }\n",
       "\n",
       "    .dataframe tbody tr th {\n",
       "        vertical-align: top;\n",
       "    }\n",
       "\n",
       "    .dataframe thead th {\n",
       "        text-align: right;\n",
       "    }\n",
       "</style>\n",
       "<table border=\"1\" class=\"dataframe\">\n",
       "  <thead>\n",
       "    <tr style=\"text-align: right;\">\n",
       "      <th></th>\n",
       "      <th></th>\n",
       "      <th>value</th>\n",
       "      <th>start</th>\n",
       "      <th>period</th>\n",
       "      <th>rate</th>\n",
       "    </tr>\n",
       "    <tr>\n",
       "      <th>ticker</th>\n",
       "      <th>date</th>\n",
       "      <th></th>\n",
       "      <th></th>\n",
       "      <th></th>\n",
       "      <th></th>\n",
       "    </tr>\n",
       "  </thead>\n",
       "  <tbody>\n",
       "    <tr>\n",
       "      <th>000150</th>\n",
       "      <th>2024-08-22</th>\n",
       "      <td>2600000</td>\n",
       "      <td>2024-07-22</td>\n",
       "      <td>31</td>\n",
       "      <td>0.970161</td>\n",
       "    </tr>\n",
       "    <tr>\n",
       "      <th rowspan=\"6\" valign=\"top\">003230</th>\n",
       "      <th>2024-08-22</th>\n",
       "      <td>3185000</td>\n",
       "      <td>2024-07-22</td>\n",
       "      <td>31</td>\n",
       "      <td>0.970161</td>\n",
       "    </tr>\n",
       "    <tr>\n",
       "      <th>2024-09-26</th>\n",
       "      <td>3054000</td>\n",
       "      <td>2024-08-22</td>\n",
       "      <td>35</td>\n",
       "      <td>0.966377</td>\n",
       "    </tr>\n",
       "    <tr>\n",
       "      <th>2024-09-27</th>\n",
       "      <td>3288000</td>\n",
       "      <td>2024-09-26</td>\n",
       "      <td>1</td>\n",
       "      <td>0.999023</td>\n",
       "    </tr>\n",
       "    <tr>\n",
       "      <th>2024-10-08</th>\n",
       "      <td>3228000</td>\n",
       "      <td>2024-09-27</td>\n",
       "      <td>11</td>\n",
       "      <td>0.989308</td>\n",
       "    </tr>\n",
       "    <tr>\n",
       "      <th>2024-11-11</th>\n",
       "      <td>3144000</td>\n",
       "      <td>2024-10-08</td>\n",
       "      <td>34</td>\n",
       "      <td>0.967321</td>\n",
       "    </tr>\n",
       "    <tr>\n",
       "      <th>2024-12-01</th>\n",
       "      <td>2815000</td>\n",
       "      <td>2024-11-11</td>\n",
       "      <td>20</td>\n",
       "      <td>0.980646</td>\n",
       "    </tr>\n",
       "    <tr>\n",
       "      <th>010120</th>\n",
       "      <th>2024-08-22</th>\n",
       "      <td>2664000</td>\n",
       "      <td>2024-07-22</td>\n",
       "      <td>31</td>\n",
       "      <td>0.970161</td>\n",
       "    </tr>\n",
       "    <tr>\n",
       "      <th>011790</th>\n",
       "      <th>2024-11-11</th>\n",
       "      <td>3072000</td>\n",
       "      <td>2024-10-08</td>\n",
       "      <td>34</td>\n",
       "      <td>0.967321</td>\n",
       "    </tr>\n",
       "    <tr>\n",
       "      <th rowspan=\"4\" valign=\"top\">012450</th>\n",
       "      <th>2024-09-26</th>\n",
       "      <td>2825000</td>\n",
       "      <td>2024-08-22</td>\n",
       "      <td>35</td>\n",
       "      <td>0.966377</td>\n",
       "    </tr>\n",
       "    <tr>\n",
       "      <th>2024-10-08</th>\n",
       "      <td>2543292</td>\n",
       "      <td>2024-09-27</td>\n",
       "      <td>11</td>\n",
       "      <td>0.989308</td>\n",
       "    </tr>\n",
       "    <tr>\n",
       "      <th>2024-11-11</th>\n",
       "      <td>3280500</td>\n",
       "      <td>2024-10-08</td>\n",
       "      <td>34</td>\n",
       "      <td>0.967321</td>\n",
       "    </tr>\n",
       "    <tr>\n",
       "      <th>2024-12-01</th>\n",
       "      <td>2824500</td>\n",
       "      <td>2024-11-11</td>\n",
       "      <td>20</td>\n",
       "      <td>0.980646</td>\n",
       "    </tr>\n",
       "    <tr>\n",
       "      <th rowspan=\"4\" valign=\"top\">042700</th>\n",
       "      <th>2024-08-22</th>\n",
       "      <td>2980000</td>\n",
       "      <td>2024-07-22</td>\n",
       "      <td>31</td>\n",
       "      <td>0.970161</td>\n",
       "    </tr>\n",
       "    <tr>\n",
       "      <th>2024-09-26</th>\n",
       "      <td>2585100</td>\n",
       "      <td>2024-08-22</td>\n",
       "      <td>35</td>\n",
       "      <td>0.966377</td>\n",
       "    </tr>\n",
       "    <tr>\n",
       "      <th>2024-09-27</th>\n",
       "      <td>2398200</td>\n",
       "      <td>2024-09-26</td>\n",
       "      <td>1</td>\n",
       "      <td>0.999023</td>\n",
       "    </tr>\n",
       "    <tr>\n",
       "      <th>2024-10-08</th>\n",
       "      <td>2373000</td>\n",
       "      <td>2024-09-27</td>\n",
       "      <td>11</td>\n",
       "      <td>0.989308</td>\n",
       "    </tr>\n",
       "    <tr>\n",
       "      <th>064350</th>\n",
       "      <th>2024-12-01</th>\n",
       "      <td>3038400</td>\n",
       "      <td>2024-11-11</td>\n",
       "      <td>20</td>\n",
       "      <td>0.980646</td>\n",
       "    </tr>\n",
       "    <tr>\n",
       "      <th rowspan=\"5\" valign=\"top\">079550</th>\n",
       "      <th>2024-09-26</th>\n",
       "      <td>2702000</td>\n",
       "      <td>2024-08-22</td>\n",
       "      <td>35</td>\n",
       "      <td>0.966377</td>\n",
       "    </tr>\n",
       "    <tr>\n",
       "      <th>2024-09-27</th>\n",
       "      <td>3024000</td>\n",
       "      <td>2024-09-26</td>\n",
       "      <td>1</td>\n",
       "      <td>0.999023</td>\n",
       "    </tr>\n",
       "    <tr>\n",
       "      <th>2024-10-08</th>\n",
       "      <td>2947000</td>\n",
       "      <td>2024-09-27</td>\n",
       "      <td>11</td>\n",
       "      <td>0.989308</td>\n",
       "    </tr>\n",
       "    <tr>\n",
       "      <th>2024-11-11</th>\n",
       "      <td>2678500</td>\n",
       "      <td>2024-10-08</td>\n",
       "      <td>34</td>\n",
       "      <td>0.967321</td>\n",
       "    </tr>\n",
       "    <tr>\n",
       "      <th>2024-12-01</th>\n",
       "      <td>2926000</td>\n",
       "      <td>2024-11-11</td>\n",
       "      <td>20</td>\n",
       "      <td>0.980646</td>\n",
       "    </tr>\n",
       "    <tr>\n",
       "      <th rowspan=\"6\" valign=\"top\">267260</th>\n",
       "      <th>2024-08-22</th>\n",
       "      <td>2826000</td>\n",
       "      <td>2024-07-22</td>\n",
       "      <td>31</td>\n",
       "      <td>0.970161</td>\n",
       "    </tr>\n",
       "    <tr>\n",
       "      <th>2024-09-26</th>\n",
       "      <td>2544000</td>\n",
       "      <td>2024-08-22</td>\n",
       "      <td>35</td>\n",
       "      <td>0.966377</td>\n",
       "    </tr>\n",
       "    <tr>\n",
       "      <th>2024-09-27</th>\n",
       "      <td>2680000</td>\n",
       "      <td>2024-09-26</td>\n",
       "      <td>1</td>\n",
       "      <td>0.999023</td>\n",
       "    </tr>\n",
       "    <tr>\n",
       "      <th>2024-10-08</th>\n",
       "      <td>2556000</td>\n",
       "      <td>2024-09-27</td>\n",
       "      <td>11</td>\n",
       "      <td>0.989308</td>\n",
       "    </tr>\n",
       "    <tr>\n",
       "      <th>2024-11-11</th>\n",
       "      <td>2568000</td>\n",
       "      <td>2024-10-08</td>\n",
       "      <td>34</td>\n",
       "      <td>0.967321</td>\n",
       "    </tr>\n",
       "    <tr>\n",
       "      <th>2024-12-01</th>\n",
       "      <td>3120000</td>\n",
       "      <td>2024-11-11</td>\n",
       "      <td>20</td>\n",
       "      <td>0.980646</td>\n",
       "    </tr>\n",
       "    <tr>\n",
       "      <th>489790</th>\n",
       "      <th>2024-10-08</th>\n",
       "      <td>281709</td>\n",
       "      <td>2024-09-27</td>\n",
       "      <td>11</td>\n",
       "      <td>0.989308</td>\n",
       "    </tr>\n",
       "  </tbody>\n",
       "</table>\n",
       "</div>"
      ],
      "text/plain": [
       "                     value      start  period      rate\n",
       "ticker date                                            \n",
       "000150 2024-08-22  2600000 2024-07-22      31  0.970161\n",
       "003230 2024-08-22  3185000 2024-07-22      31  0.970161\n",
       "       2024-09-26  3054000 2024-08-22      35  0.966377\n",
       "       2024-09-27  3288000 2024-09-26       1  0.999023\n",
       "       2024-10-08  3228000 2024-09-27      11  0.989308\n",
       "       2024-11-11  3144000 2024-10-08      34  0.967321\n",
       "       2024-12-01  2815000 2024-11-11      20  0.980646\n",
       "010120 2024-08-22  2664000 2024-07-22      31  0.970161\n",
       "011790 2024-11-11  3072000 2024-10-08      34  0.967321\n",
       "012450 2024-09-26  2825000 2024-08-22      35  0.966377\n",
       "       2024-10-08  2543292 2024-09-27      11  0.989308\n",
       "       2024-11-11  3280500 2024-10-08      34  0.967321\n",
       "       2024-12-01  2824500 2024-11-11      20  0.980646\n",
       "042700 2024-08-22  2980000 2024-07-22      31  0.970161\n",
       "       2024-09-26  2585100 2024-08-22      35  0.966377\n",
       "       2024-09-27  2398200 2024-09-26       1  0.999023\n",
       "       2024-10-08  2373000 2024-09-27      11  0.989308\n",
       "064350 2024-12-01  3038400 2024-11-11      20  0.980646\n",
       "079550 2024-09-26  2702000 2024-08-22      35  0.966377\n",
       "       2024-09-27  3024000 2024-09-26       1  0.999023\n",
       "       2024-10-08  2947000 2024-09-27      11  0.989308\n",
       "       2024-11-11  2678500 2024-10-08      34  0.967321\n",
       "       2024-12-01  2926000 2024-11-11      20  0.980646\n",
       "267260 2024-08-22  2826000 2024-07-22      31  0.970161\n",
       "       2024-09-26  2544000 2024-08-22      35  0.966377\n",
       "       2024-09-27  2680000 2024-09-26       1  0.999023\n",
       "       2024-10-08  2556000 2024-09-27      11  0.989308\n",
       "       2024-11-11  2568000 2024-10-08      34  0.967321\n",
       "       2024-12-01  3120000 2024-11-11      20  0.980646\n",
       "489790 2024-10-08   281709 2024-09-27      11  0.989308"
      ]
     },
     "execution_count": 113,
     "metadata": {},
     "output_type": "execute_result"
    }
   ],
   "source": [
    "\n",
    "\n",
    "self = cc \n",
    "df_rec = cc.df_rec\n",
    "sr_fee = 0.7\n",
    "date = datetime.today().strftime('%Y-%m-%d')\n",
    "col_prc='price'\n",
    "col_net='net'\n",
    "col_tkr='ticker'\n",
    "col_date='date'\n",
    "\"\"\"\n",
    "calc annual fee\n",
    "sr_fee: dict or series of ticker to annual fee. rate\n",
    "\"\"\"\n",
    "\n",
    "if isinstance(sr_fee, dict):\n",
    "    sr_fee = pd.Series(sr_fee)\n",
    "elif isinstance(sr_fee, Number):\n",
    "    sr_fee = pd.Series(sr_fee, index=df_val.index.get_level_values(col_tkr).unique())\n",
    "sr_fee = sr_fee.rename_axis(col_tkr).rename('fee')\n",
    "\n",
    "df_val = (df_rec.apply(lambda x: x[col_prc] * x[col_net], axis=1)\n",
    "                .swaplevel().sort_index().to_frame('value'))\n",
    "df_val['start'] = df_val.index.get_level_values(col_date)\n",
    "df_val['end'] = df_val.groupby(col_tkr, group_keys=False).apply(lambda x: x['start'].shift(-1)).fillna(date)\n",
    "df_val['period'] = df_val.apply(lambda x: x['end'] - x['start'], axis=1).dt.days\n",
    "df_val = (df_val.reset_index(col_date, drop=True)\n",
    "          .rename(columns={'end':col_date}).set_index(col_date, append=True))\n",
    "df_val = df_val.loc[df_val['value'] > 0]\n",
    "df_val['rate'] = df_val.join(sr_fee).apply(lambda x: x['fee'] ** (x['period']/365), axis=1)\n",
    "df_val"
   ]
  },
  {
   "cell_type": "code",
   "execution_count": 111,
   "id": "fd187ef4-7160-4a51-810f-84d7f6273ac0",
   "metadata": {},
   "outputs": [
    {
     "data": {
      "text/plain": [
       "ticker  date      \n",
       "000150  2024-08-22    0.970161\n",
       "003230  2024-08-22    0.970161\n",
       "        2024-09-26    0.966377\n",
       "        2024-09-27    0.999023\n",
       "        2024-10-08    0.989308\n",
       "        2024-11-11    0.967321\n",
       "        2024-12-01    0.980646\n",
       "010120  2024-08-22    0.970161\n",
       "011790  2024-11-11    0.967321\n",
       "012450  2024-09-26    0.966377\n",
       "        2024-10-08    0.989308\n",
       "        2024-11-11    0.967321\n",
       "        2024-12-01    0.980646\n",
       "042700  2024-08-22    0.970161\n",
       "        2024-09-26    0.966377\n",
       "        2024-09-27    0.999023\n",
       "        2024-10-08    0.989308\n",
       "064350  2024-12-01    0.980646\n",
       "079550  2024-09-26    0.966377\n",
       "        2024-09-27    0.999023\n",
       "        2024-10-08    0.989308\n",
       "        2024-11-11    0.967321\n",
       "        2024-12-01    0.980646\n",
       "267260  2024-08-22    0.970161\n",
       "        2024-09-26    0.966377\n",
       "        2024-09-27    0.999023\n",
       "        2024-10-08    0.989308\n",
       "        2024-11-11    0.967321\n",
       "        2024-12-01    0.980646\n",
       "489790  2024-10-08    0.989308\n",
       "dtype: float64"
      ]
     },
     "execution_count": 111,
     "metadata": {},
     "output_type": "execute_result"
    }
   ],
   "source": [
    "df_val.join(sr_fee, on=col_tkr).apply(lambda x: x['fee'] ** (x['period']/365), axis=1)"
   ]
  },
  {
   "cell_type": "code",
   "execution_count": 90,
   "id": "86aa6e6d-04a8-483c-9fb6-a71c9b0fbf95",
   "metadata": {},
   "outputs": [
    {
     "data": {
      "text/plain": [
       "ticker\n",
       "000150    0.7\n",
       "003230    0.7\n",
       "010120    0.7\n",
       "011790    0.7\n",
       "012450    0.7\n",
       "042700    0.7\n",
       "064350    0.7\n",
       "079550    0.7\n",
       "267260    0.7\n",
       "489790    0.7\n",
       "Name: fee, dtype: float64"
      ]
     },
     "execution_count": 90,
     "metadata": {},
     "output_type": "execute_result"
    }
   ],
   "source": [
    "sr_fee"
   ]
  },
  {
   "cell_type": "code",
   "execution_count": null,
   "id": "7e1473ee-0751-4caf-a840-4bbaa7777d35",
   "metadata": {},
   "outputs": [
    {
     "data": {
      "text/plain": [
       "ticker  date      \n",
       "000150  2024-08-22    154575.342466\n",
       "003230  2024-08-22    189354.794521\n",
       "        2024-09-26    204994.520548\n",
       "        2024-09-27      6305.753425\n",
       "        2024-10-08     68097.534247\n",
       "        2024-11-11    205006.027397\n",
       "        2024-12-01    107972.602740\n",
       "010120  2024-08-22    158380.273973\n",
       "011790  2024-11-11    200311.232877\n",
       "012450  2024-09-26    189623.287671\n",
       "        2024-10-08     53653.009315\n",
       "        2024-11-11    213906.575342\n",
       "        2024-12-01    108336.986301\n",
       "042700  2024-08-22    177167.123288\n",
       "        2024-09-26    173520.410959\n",
       "        2024-09-27      4599.287671\n",
       "        2024-10-08     50060.547945\n",
       "064350  2024-12-01    116541.369863\n",
       "079550  2024-09-26    181367.123288\n",
       "        2024-09-27      5799.452055\n",
       "        2024-10-08     62169.589041\n",
       "        2024-11-11    174652.876712\n",
       "        2024-12-01    112230.136986\n",
       "267260  2024-08-22    168011.506849\n",
       "        2024-09-26    170761.643836\n",
       "        2024-09-27      5139.726027\n",
       "        2024-10-08     53921.095890\n",
       "        2024-11-11    167447.671233\n",
       "        2024-12-01    119671.232877\n",
       "489790  2024-10-08      5942.902192\n",
       "dtype: float64"
      ]
     },
     "execution_count": 46,
     "metadata": {},
     "output_type": "execute_result"
    }
   ],
   "source": [
    "#return df_val.apply(lambda x: x['value'] * x['rate'], axis=1).sum() \n",
    "return df_val.apply(lambda x: x['value'] * x['rate'], axis=1)"
   ]
  },
  {
   "cell_type": "code",
   "execution_count": 32,
   "id": "84270b32-c541-43fd-86cb-06c3d6cd262c",
   "metadata": {},
   "outputs": [
    {
     "data": {
      "text/plain": [
       "158947.70493960002"
      ]
     },
     "execution_count": 32,
     "metadata": {},
     "output_type": "execute_result"
    }
   ],
   "source": [
    "sr_val.abs().mul(commission).sum()"
   ]
  },
  {
   "cell_type": "code",
   "execution_count": 21,
   "id": "b528b52a-0ec4-47f9-aa45-fbb346f94cb1",
   "metadata": {},
   "outputs": [
    {
     "data": {
      "text/plain": [
       "158947.70493960002"
      ]
     },
     "execution_count": 21,
     "metadata": {},
     "output_type": "execute_result"
    }
   ],
   "source": [
    "_calc_fee_trading(cc, pf_mmt.record, 0.00363960)"
   ]
  },
  {
   "cell_type": "code",
   "execution_count": null,
   "id": "55e5f108-0d61-422a-90bf-6785483544f1",
   "metadata": {},
   "outputs": [],
   "source": [
    "self = cc\n",
    "\n",
    "buy=0.00363960\n",
    "sell=0.00363960\n",
    "tax=0.18\n",
    "fee=0\n",
    "date=None\n",
    "percent=True\n",
    "\"\"\"\n",
    "buy, sell, tax, fee: float, series or dict of ticker to annual fee\n",
    "\"\"\"\n",
    "# get latest record\n",
    "df_rec = self.df_rec\n",
    "if df_rec is None:\n",
    "    pass #return None\n",
    "else:    \n",
    "    date = datetime.today() if date is None else date\n",
    "    df_rec = df_rec.loc[:date]\n",
    "\n",
    "get_kw = lambda *cols: {f'col_{k}':v for k,v in self.cols_record.items() if k in cols}\n",
    "kw_trading = get_kw('tkr', 'prc', 'trs')\n",
    "kw_annual = get_kw('prc', 'net', 'tkr', 'date')\n",
    "\n",
    "m = 0.01 if percent else 1\n",
    "sr_buy = self._calc_fee_trading(df_rec, m*buy, transaction='buy', **kw_trading)\n",
    "sr_sell = self._calc_fee_trading(df_rec, m*sell, transaction='sell', **kw_trading)\n",
    "sr_tax = self._calc_fee_trading(df_rec, m*tax, transaction='sell', **kw_trading).rename('tax')\n",
    "sr_fee = self._calc_fee_annual(df_rec, m*fee, date, **kw_annual)\n",
    "sr_buy.to_frame().join(sr_sell, how='outer').join(sr_fee, how='outer').join(sr_tax, how='outer')"
   ]
  },
  {
   "cell_type": "code",
   "execution_count": 172,
   "id": "d205d026-fcc8-4d54-88b2-f1e68d2db090",
   "metadata": {},
   "outputs": [
    {
     "data": {
      "text/html": [
       "<div>\n",
       "<style scoped>\n",
       "    .dataframe tbody tr th:only-of-type {\n",
       "        vertical-align: middle;\n",
       "    }\n",
       "\n",
       "    .dataframe tbody tr th {\n",
       "        vertical-align: top;\n",
       "    }\n",
       "\n",
       "    .dataframe thead th {\n",
       "        text-align: right;\n",
       "    }\n",
       "</style>\n",
       "<table border=\"1\" class=\"dataframe\">\n",
       "  <thead>\n",
       "    <tr style=\"text-align: right;\">\n",
       "      <th></th>\n",
       "      <th></th>\n",
       "      <th>buy</th>\n",
       "      <th>sell</th>\n",
       "      <th>tax</th>\n",
       "    </tr>\n",
       "    <tr>\n",
       "      <th>date</th>\n",
       "      <th>ticker</th>\n",
       "      <th></th>\n",
       "      <th></th>\n",
       "      <th></th>\n",
       "    </tr>\n",
       "  </thead>\n",
       "  <tbody>\n",
       "    <tr>\n",
       "      <th rowspan=\"5\" valign=\"top\">2024-07-22</th>\n",
       "      <th>000150</th>\n",
       "      <td>94.629600</td>\n",
       "      <td>NaN</td>\n",
       "      <td>NaN</td>\n",
       "    </tr>\n",
       "    <tr>\n",
       "      <th>003230</th>\n",
       "      <td>115.921260</td>\n",
       "      <td>NaN</td>\n",
       "      <td>NaN</td>\n",
       "    </tr>\n",
       "    <tr>\n",
       "      <th>010120</th>\n",
       "      <td>96.958944</td>\n",
       "      <td>NaN</td>\n",
       "      <td>NaN</td>\n",
       "    </tr>\n",
       "    <tr>\n",
       "      <th>042700</th>\n",
       "      <td>108.460080</td>\n",
       "      <td>NaN</td>\n",
       "      <td>NaN</td>\n",
       "    </tr>\n",
       "    <tr>\n",
       "      <th>267260</th>\n",
       "      <td>102.855096</td>\n",
       "      <td>NaN</td>\n",
       "      <td>NaN</td>\n",
       "    </tr>\n",
       "    <tr>\n",
       "      <th rowspan=\"7\" valign=\"top\">2024-08-22</th>\n",
       "      <th>000150</th>\n",
       "      <td>NaN</td>\n",
       "      <td>69.836645</td>\n",
       "      <td>3453.84</td>\n",
       "    </tr>\n",
       "    <tr>\n",
       "      <th>003230</th>\n",
       "      <td>18.525564</td>\n",
       "      <td>NaN</td>\n",
       "      <td>NaN</td>\n",
       "    </tr>\n",
       "    <tr>\n",
       "      <th>010120</th>\n",
       "      <td>NaN</td>\n",
       "      <td>76.169549</td>\n",
       "      <td>3767.04</td>\n",
       "    </tr>\n",
       "    <tr>\n",
       "      <th>012450</th>\n",
       "      <td>102.818700</td>\n",
       "      <td>NaN</td>\n",
       "      <td>NaN</td>\n",
       "    </tr>\n",
       "    <tr>\n",
       "      <th>042700</th>\n",
       "      <td>4.480348</td>\n",
       "      <td>NaN</td>\n",
       "      <td>NaN</td>\n",
       "    </tr>\n",
       "    <tr>\n",
       "      <th>079550</th>\n",
       "      <td>98.341992</td>\n",
       "      <td>NaN</td>\n",
       "      <td>NaN</td>\n",
       "    </tr>\n",
       "    <tr>\n",
       "      <th>267260</th>\n",
       "      <td>NaN</td>\n",
       "      <td>11.573928</td>\n",
       "      <td>572.40</td>\n",
       "    </tr>\n",
       "    <tr>\n",
       "      <th>2024-09-26</th>\n",
       "      <th>012450</th>\n",
       "      <td>NaN</td>\n",
       "      <td>102.818700</td>\n",
       "      <td>5085.00</td>\n",
       "    </tr>\n",
       "    <tr>\n",
       "      <th rowspan=\"2\" valign=\"top\">2024-09-27</th>\n",
       "      <th>012450</th>\n",
       "      <td>92.565656</td>\n",
       "      <td>NaN</td>\n",
       "      <td>NaN</td>\n",
       "    </tr>\n",
       "    <tr>\n",
       "      <th>489790</th>\n",
       "      <td>10.253081</td>\n",
       "      <td>NaN</td>\n",
       "      <td>NaN</td>\n",
       "    </tr>\n",
       "    <tr>\n",
       "      <th rowspan=\"4\" valign=\"top\">2024-10-08</th>\n",
       "      <th>011790</th>\n",
       "      <td>111.808512</td>\n",
       "      <td>NaN</td>\n",
       "      <td>NaN</td>\n",
       "    </tr>\n",
       "    <tr>\n",
       "      <th>042700</th>\n",
       "      <td>NaN</td>\n",
       "      <td>82.622560</td>\n",
       "      <td>4086.18</td>\n",
       "    </tr>\n",
       "    <tr>\n",
       "      <th>079550</th>\n",
       "      <td>NaN</td>\n",
       "      <td>26.587278</td>\n",
       "      <td>1314.90</td>\n",
       "    </tr>\n",
       "    <tr>\n",
       "      <th>489790</th>\n",
       "      <td>NaN</td>\n",
       "      <td>12.889643</td>\n",
       "      <td>637.47</td>\n",
       "    </tr>\n",
       "    <tr>\n",
       "      <th rowspan=\"4\" valign=\"top\">2024-11-11</th>\n",
       "      <th>003230</th>\n",
       "      <td>NaN</td>\n",
       "      <td>20.490948</td>\n",
       "      <td>1013.40</td>\n",
       "    </tr>\n",
       "    <tr>\n",
       "      <th>011790</th>\n",
       "      <td>NaN</td>\n",
       "      <td>88.911788</td>\n",
       "      <td>4397.22</td>\n",
       "    </tr>\n",
       "    <tr>\n",
       "      <th>012450</th>\n",
       "      <td>NaN</td>\n",
       "      <td>29.371572</td>\n",
       "      <td>1452.60</td>\n",
       "    </tr>\n",
       "    <tr>\n",
       "      <th>064350</th>\n",
       "      <td>110.585606</td>\n",
       "      <td>NaN</td>\n",
       "      <td>NaN</td>\n",
       "    </tr>\n",
       "  </tbody>\n",
       "</table>\n",
       "</div>"
      ],
      "text/plain": [
       "                          buy        sell      tax\n",
       "date       ticker                                 \n",
       "2024-07-22 000150   94.629600         NaN      NaN\n",
       "           003230  115.921260         NaN      NaN\n",
       "           010120   96.958944         NaN      NaN\n",
       "           042700  108.460080         NaN      NaN\n",
       "           267260  102.855096         NaN      NaN\n",
       "2024-08-22 000150         NaN   69.836645  3453.84\n",
       "           003230   18.525564         NaN      NaN\n",
       "           010120         NaN   76.169549  3767.04\n",
       "           012450  102.818700         NaN      NaN\n",
       "           042700    4.480348         NaN      NaN\n",
       "           079550   98.341992         NaN      NaN\n",
       "           267260         NaN   11.573928   572.40\n",
       "2024-09-26 012450         NaN  102.818700  5085.00\n",
       "2024-09-27 012450   92.565656         NaN      NaN\n",
       "           489790   10.253081         NaN      NaN\n",
       "2024-10-08 011790  111.808512         NaN      NaN\n",
       "           042700         NaN   82.622560  4086.18\n",
       "           079550         NaN   26.587278  1314.90\n",
       "           489790         NaN   12.889643   637.47\n",
       "2024-11-11 003230         NaN   20.490948  1013.40\n",
       "           011790         NaN   88.911788  4397.22\n",
       "           012450         NaN   29.371572  1452.60\n",
       "           064350  110.585606         NaN      NaN"
      ]
     },
     "execution_count": 172,
     "metadata": {},
     "output_type": "execute_result"
    }
   ],
   "source": [
    "sr_buy.to_frame().join(sr_sell, how='outer').join(sr_tax, how='outer')"
   ]
  },
  {
   "cell_type": "code",
   "execution_count": null,
   "id": "58de8e23-9b98-4fcb-acb2-b94e92d19efd",
   "metadata": {},
   "outputs": [],
   "source": []
  }
 ],
 "metadata": {
  "kernelspec": {
   "display_name": "portfolio",
   "language": "python",
   "name": "portfolio"
  },
  "language_info": {
   "codemirror_mode": {
    "name": "ipython",
    "version": 3
   },
   "file_extension": ".py",
   "mimetype": "text/x-python",
   "name": "python",
   "nbconvert_exporter": "python",
   "pygments_lexer": "ipython3",
   "version": "3.12.1"
  }
 },
 "nbformat": 4,
 "nbformat_minor": 5
}
