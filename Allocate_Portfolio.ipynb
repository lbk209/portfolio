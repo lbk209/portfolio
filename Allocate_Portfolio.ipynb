{
 "cells": [
  {
   "cell_type": "markdown",
   "id": "1a0d2b60-5842-4969-8229-84f355dc46fc",
   "metadata": {},
   "source": [
    "# Setting"
   ]
  },
  {
   "cell_type": "code",
   "execution_count": 1,
   "id": "7009fd2f-8efd-4ed3-a187-01939304fa9e",
   "metadata": {},
   "outputs": [
    {
     "name": "stderr",
     "output_type": "stream",
     "text": [
      "WARNING (pytensor.tensor.blas): Using NumPy C-API based implementation for BLAS functions.\n"
     ]
    }
   ],
   "source": [
    "from pf_utils import PortfolioManager as PM \n",
    "from pf_utils import FinancialRatios, METRICS, FundDownloader\n",
    "from pf_widgets import WidgetUniverse, WidgetTransaction, w_date"
   ]
  },
  {
   "cell_type": "code",
   "execution_count": 2,
   "id": "723adb14-cd00-4d96-9c64-5a8628e82f44",
   "metadata": {},
   "outputs": [],
   "source": [
    "path_data = 'data'\n",
    "path_tran = 'transaction'"
   ]
  },
  {
   "cell_type": "code",
   "execution_count": 3,
   "id": "35042bdf-a8cc-4711-9dcd-ceec6ac0ab77",
   "metadata": {},
   "outputs": [],
   "source": [
    "file_cost='transaction_cost'\n",
    "kw_cost = {'cost': file_cost}"
   ]
  },
  {
   "cell_type": "markdown",
   "id": "83852d8f-9884-4a8d-bb97-4b61670f6d4d",
   "metadata": {},
   "source": [
    "## Portfolios\n",
    "*Review portfolio settings*"
   ]
  },
  {
   "cell_type": "code",
   "execution_count": 4,
   "id": "57eeef26-93fa-4e46-9197-ef5948aed668",
   "metadata": {},
   "outputs": [
    {
     "name": "stdout",
     "output_type": "stream",
     "text": [
      "Portfolio: MMT_2407, PER_2410, WTR_2407, WTR_2412, LIQ, TDF_2406, HANA_2408, FCTR, KRX, TEST\n"
     ]
    }
   ],
   "source": [
    "PM.review('portfolio')"
   ]
  },
  {
   "cell_type": "code",
   "execution_count": 5,
   "id": "4dd4bbf9-fc33-4763-a4b1-c635f111e2d7",
   "metadata": {},
   "outputs": [
    {
     "data": {
      "text/plain": [
       "{'strategy': 'WTR',\n",
       " 'universe': 'UV_WTR',\n",
       " 'file': 'pf_wtr2412_static',\n",
       " 'path': 'transaction'}"
      ]
     },
     "execution_count": 5,
     "metadata": {},
     "output_type": "execute_result"
    }
   ],
   "source": [
    "PM.review_portfolio('WTR_2412')"
   ]
  },
  {
   "cell_type": "code",
   "execution_count": 6,
   "id": "aed90957-12a4-4bfd-a239-f32295b6cee9",
   "metadata": {},
   "outputs": [
    {
     "data": {
      "text/plain": [
       "{'method_select': 'Selected', 'method_weigh': 'Equally'}"
      ]
     },
     "execution_count": 6,
     "metadata": {},
     "output_type": "execute_result"
    }
   ],
   "source": [
    "#PM.review_strategy('WTR')\n",
    "PM.review_portfolio('WTR_2412', strategy=True)"
   ]
  },
  {
   "cell_type": "code",
   "execution_count": 7,
   "id": "319ceff5-fb55-499d-8800-0caf3c5bab61",
   "metadata": {},
   "outputs": [
    {
     "data": {
      "text/plain": [
       "{'universe': 'etf',\n",
       " 'file': 'etfs_weather',\n",
       " 'tickers': 'ETF/KR',\n",
       " 'to_daily': False,\n",
       " 'path': 'data'}"
      ]
     },
     "execution_count": 7,
     "metadata": {},
     "output_type": "execute_result"
    }
   ],
   "source": [
    "#PM.review_universe('UV_WTR')\n",
    "PM.review_portfolio('WTR_2412', universe=True)"
   ]
  },
  {
   "cell_type": "code",
   "execution_count": 8,
   "id": "26c9a005-92f5-4f37-b9b9-3154c0ee4730",
   "metadata": {},
   "outputs": [
    {
     "name": "stdout",
     "output_type": "stream",
     "text": [
      "Cost data transaction_cost_241217.csv loaded\n"
     ]
    },
    {
     "data": {
      "text/plain": [
       "ticker\n",
       "069500    0.004209\n",
       "273130    0.004209\n",
       "379800    0.004209\n",
       "411060    0.004209\n",
       "148070    0.004209\n",
       "284430    0.004209\n",
       "Name: buy, dtype: float64"
      ]
     },
     "execution_count": 8,
     "metadata": {},
     "output_type": "execute_result"
    }
   ],
   "source": [
    "c = PM.get_cost('UV_WTR', file_cost, path_tran)\n",
    "c['buy']"
   ]
  },
  {
   "cell_type": "markdown",
   "id": "c786112f-9aef-4df7-8248-4ddcfcb2c1f0",
   "metadata": {},
   "source": [
    "# Universe"
   ]
  },
  {
   "cell_type": "code",
   "execution_count": 9,
   "id": "9632a8f9-3a3b-4e8b-aa68-2cb9ff8d0748",
   "metadata": {},
   "outputs": [
    {
     "name": "stdout",
     "output_type": "stream",
     "text": [
      "Universe: UV_K200, UV_KRX, UV_LIQ, UV_WTR, UV_ETF, UV_FUND, UV_FCTR\n"
     ]
    }
   ],
   "source": [
    "PM.review('universes')"
   ]
  },
  {
   "cell_type": "code",
   "execution_count": 10,
   "id": "73024aab-e901-4e9c-94e2-a46e5b983dbe",
   "metadata": {},
   "outputs": [
    {
     "data": {
      "application/vnd.jupyter.widget-view+json": {
       "model_id": "6a615f08613542f7888477dd423bd5dc",
       "version_major": 2,
       "version_minor": 0
      },
      "text/plain": [
       "VBox(children=(Checkbox(value=False, description='Download', indent=False), Checkbox(value=False, description=…"
      ]
     },
     "execution_count": 10,
     "metadata": {},
     "output_type": "execute_result"
    }
   ],
   "source": [
    "WidgetUniverse"
   ]
  },
  {
   "cell_type": "markdown",
   "id": "1cb34ee5-b007-48b4-a11b-188e6bafad0f",
   "metadata": {},
   "source": [
    "## K200"
   ]
  },
  {
   "cell_type": "code",
   "execution_count": 20,
   "id": "8aa50408-fd2b-45f5-81ed-6c1a2479eb77",
   "metadata": {},
   "outputs": [
    {
     "name": "stdout",
     "output_type": "stream",
     "text": [
      "200 securities from 2022-01-03 to 2025-01-16 uploaded.\n",
      "Price data loaded\n"
     ]
    }
   ],
   "source": [
    "k200 = PM.create_universe('UV_K200')"
   ]
  },
  {
   "cell_type": "code",
   "execution_count": 21,
   "id": "1f62192a-4e95-45d7-9f11-4ece016a7e1f",
   "metadata": {},
   "outputs": [],
   "source": [
    "#k200.portfolio_data\n",
    "#k200.get_names()"
   ]
  },
  {
   "cell_type": "code",
   "execution_count": 22,
   "id": "56cfa843-ffc7-469f-a18d-aefecdac2e5d",
   "metadata": {},
   "outputs": [
    {
     "name": "stdout",
     "output_type": "stream",
     "text": [
      "Downloading ...\n",
      "... done\n",
      "200 securities from 2022-01-03 to 2025-01-20 downloaded.\n",
      "kospi200_prices_250120.csv saved\n",
      "df_prices updated\n",
      "Execution time of download: 40.77 secs\n"
     ]
    }
   ],
   "source": [
    "kw = dict(\n",
    "    n_years=3, \n",
    "    close_today = WidgetUniverse.values(1)\n",
    ")\n",
    "k200.download(**kw) if WidgetUniverse.values(0) else None"
   ]
  },
  {
   "cell_type": "markdown",
   "id": "6e62cef4-25c9-414b-b33f-28858e929f30",
   "metadata": {},
   "source": [
    "## KRX"
   ]
  },
  {
   "cell_type": "code",
   "execution_count": 14,
   "id": "341b6af3-25e4-4280-8d51-6015c48994b9",
   "metadata": {},
   "outputs": [
    {
     "name": "stdout",
     "output_type": "stream",
     "text": [
      "2712 securities from 2019-01-02 to 2024-10-08 uploaded.\n",
      "WARNING: Update price data as 47 tickers not in universe\n",
      "Price data loaded\n"
     ]
    }
   ],
   "source": [
    "krx = PM.create_universe('UV_KRX')"
   ]
  },
  {
   "cell_type": "code",
   "execution_count": 15,
   "id": "3823cf09-0227-4788-b5d1-25dc511a5245",
   "metadata": {},
   "outputs": [],
   "source": [
    "#krx.get_names()"
   ]
  },
  {
   "cell_type": "code",
   "execution_count": 16,
   "id": "5bed0595-0790-4e8b-ab6e-5e9db598d0d5",
   "metadata": {},
   "outputs": [],
   "source": [
    "kw = dict(\n",
    "    n_years=3, \n",
    "    close_today = WidgetUniverse.values(1),\n",
    "    interval=5, pause_duration=1, msg=False\n",
    ")\n",
    "#krx.download(**kw) if WidgetUniverse.values(0) else None"
   ]
  },
  {
   "cell_type": "markdown",
   "id": "39d0213d-1cd0-42f6-8066-abb2eb6dd5db",
   "metadata": {},
   "source": [
    "## WTR"
   ]
  },
  {
   "cell_type": "code",
   "execution_count": 23,
   "id": "26a87f56-8333-4d02-bc67-2d58cda01a18",
   "metadata": {},
   "outputs": [
    {
     "name": "stdout",
     "output_type": "stream",
     "text": [
      "6 securities from 2022-01-03 to 2025-01-06 uploaded.\n",
      "WARNING: Update price data as 933 tickers not in universe\n",
      "Price data loaded\n"
     ]
    }
   ],
   "source": [
    "wtr = PM.create_universe('UV_WTR')"
   ]
  },
  {
   "cell_type": "code",
   "execution_count": 24,
   "id": "16199cb5-7b8e-4a5b-9225-d6945a3fbbe3",
   "metadata": {},
   "outputs": [
    {
     "data": {
      "text/plain": [
       "0) 069500: KODEX 200\n",
       "1) 379800: KODEX 미국S&P500TR\n",
       "2) 273130: KODEX 종합채권(AA-이상)액티브\n",
       "3) 411060: ACE KRX금현물\n",
       "4) 148070: KIWOOM 국고채10년\n",
       "5) 284430: KODEX 200미국채혼합"
      ]
     },
     "execution_count": 24,
     "metadata": {},
     "output_type": "execute_result"
    }
   ],
   "source": [
    "wtr.get_names('selected')"
   ]
  },
  {
   "cell_type": "code",
   "execution_count": 25,
   "id": "f9795c18-b507-497c-b6e4-5fbed3896f35",
   "metadata": {},
   "outputs": [],
   "source": [
    "#PM.review_universe('UV_WTR')"
   ]
  },
  {
   "cell_type": "code",
   "execution_count": 26,
   "id": "3cc26afb-d01e-4b99-9be0-fb446726b131",
   "metadata": {},
   "outputs": [
    {
     "name": "stdout",
     "output_type": "stream",
     "text": [
      "Downloading ...\n",
      "... done\n",
      "6 securities from 2022-01-03 to 2025-01-20 downloaded.\n",
      "etfs_weather_250120.csv saved\n",
      "df_prices updated\n",
      "Execution time of download: 1.04 secs\n"
     ]
    }
   ],
   "source": [
    "kw = dict(\n",
    "    n_years=3, \n",
    "    close_today = WidgetUniverse.values(1),\n",
    "    #tickers = ['069500', '273130', '148070', '379800', '411060', '284430']\n",
    "    tickers = 'selected'\n",
    ")\n",
    "wtr.download(**kw) if WidgetUniverse.values(0) else None"
   ]
  },
  {
   "cell_type": "code",
   "execution_count": 21,
   "id": "35e4fe7f-1ebd-40f6-956c-44c464cb6a76",
   "metadata": {},
   "outputs": [],
   "source": [
    "#wtr.save()"
   ]
  },
  {
   "cell_type": "markdown",
   "id": "9a915127-3848-4f4a-84ed-4552ff991fca",
   "metadata": {},
   "source": [
    "## FCTR"
   ]
  },
  {
   "cell_type": "code",
   "execution_count": 73,
   "id": "d4181791-edd1-44f5-bbf8-ef80f0cdb556",
   "metadata": {},
   "outputs": [
    {
     "name": "stdout",
     "output_type": "stream",
     "text": [
      "7 securities from 2021-01-04 to 2024-11-22 uploaded.\n",
      "Price data loaded\n"
     ]
    }
   ],
   "source": [
    "fctr = PM.create_universe('UV_FCTR')"
   ]
  },
  {
   "cell_type": "code",
   "execution_count": 74,
   "id": "9b7cf8d1-a3e4-4489-82cd-2a3368fbcfd5",
   "metadata": {},
   "outputs": [
    {
     "data": {
      "text/plain": [
       "0) LRGF: iShares U.S. Equity Factor ETF\n",
       "1) MTUM: iShares MSCI USA Momentum Factor ETF\n",
       "2) QUAL: iShares MSCI USA Quality Factor ETF\n",
       "3) SIZE: iShares MSCI USA Size Factor ETF\n",
       "4) SPY: SPDR S&P 500 ETF Trust\n",
       "5) USMV: iShares MSCI USA Min Vol Factor ETF\n",
       "6) VLUE: iShares MSCI USA Value Factor ETF"
      ]
     },
     "execution_count": 74,
     "metadata": {},
     "output_type": "execute_result"
    }
   ],
   "source": [
    "fctr.get_names()"
   ]
  },
  {
   "cell_type": "code",
   "execution_count": 75,
   "id": "1f8f1368-0625-4f2c-aab4-5755f702c2fa",
   "metadata": {},
   "outputs": [
    {
     "name": "stdout",
     "output_type": "stream",
     "text": [
      "Downloading ...\n"
     ]
    },
    {
     "name": "stderr",
     "output_type": "stream",
     "text": [
      "[*********************100%***********************]  7 of 7 completed"
     ]
    },
    {
     "name": "stdout",
     "output_type": "stream",
     "text": [
      "... done\n",
      "7 securities from 2021-01-04 to 2024-12-13 downloaded.\n",
      "etfs_factors_241213.csv saved\n",
      "df_prices updated\n",
      "Execution time of download: 1.38 secs\n"
     ]
    },
    {
     "name": "stderr",
     "output_type": "stream",
     "text": [
      "\n"
     ]
    }
   ],
   "source": [
    "kw = dict(\n",
    "    n_years=3, \n",
    "    close_today = WidgetUniverse.values(1),\n",
    "    tickers=['LRGF','MTUM','QUAL','SIZE','SPY','USMV','VLUE']\n",
    "    #tickers='selected'\n",
    ")\n",
    "fctr.download(**kw) if WidgetUniverse.values(0) else None"
   ]
  },
  {
   "cell_type": "markdown",
   "id": "99c864db-6e90-4720-9287-a23b26b2263e",
   "metadata": {},
   "source": [
    "## FUND"
   ]
  },
  {
   "cell_type": "code",
   "execution_count": 70,
   "id": "c22863eb-b080-4dd0-b2b0-d199fba75c5a",
   "metadata": {},
   "outputs": [
    {
     "name": "stdout",
     "output_type": "stream",
     "text": [
      "64 securities from 2008-11-28 to 2024-11-29 uploaded.\n",
      "WARNING: the number of days in a year with 64 tickers (100%) is 12 in avg.\n",
      "REMINDER: 64 equities converted to daily (days in year: 365)\n",
      "Daily metrics in Performance statistics must be meaningless\n",
      "Price data loaded\n"
     ]
    }
   ],
   "source": [
    "fund = PM.create_universe('UV_FUND')"
   ]
  },
  {
   "cell_type": "code",
   "execution_count": 71,
   "id": "1748945c-f7e2-4ab9-94f1-59cd89bbc815",
   "metadata": {},
   "outputs": [
    {
     "name": "stdout",
     "output_type": "stream",
     "text": [
      "Downloading ...\n",
      "64 tickers set\n"
     ]
    },
    {
     "name": "stderr",
     "output_type": "stream",
     "text": [
      "100%|███████████████████████████████████████████████████████████████| 64/64 [00:28<00:00,  2.28it/s]"
     ]
    },
    {
     "name": "stdout",
     "output_type": "stream",
     "text": [
      "28.1 secs elapsed, 0.5 secs paused (1.8%)\n",
      "Max error of conversions: 6.69e-05\n",
      "... done\n",
      "64 securities from 2008-11-28 to 2024-12-31 downloaded.\n",
      "funds_prices_241231.csv saved\n",
      "WARNING: the number of days in a year with 64 tickers (100%) is 12 in avg.\n",
      "REMINDER: 0 equities converted to daily (days in year: 365)\n",
      "Daily metrics in Performance statistics must be meaningless\n",
      "df_prices updated\n",
      "Execution time of download: 28.26 secs\n"
     ]
    },
    {
     "name": "stderr",
     "output_type": "stream",
     "text": [
      "\n"
     ]
    }
   ],
   "source": [
    "kw = dict(\n",
    "    n_years=20, \n",
    "    #close_today = WidgetUniverse.values(1),\n",
    "    #tickers='selected',\n",
    "    overwrite=True\n",
    ")\n",
    "fund.download(**kw) if WidgetUniverse.values(0) else None"
   ]
  },
  {
   "cell_type": "code",
   "execution_count": 7,
   "id": "0c93d365-19b3-4ea5-b57b-74baa5d8e5db",
   "metadata": {},
   "outputs": [],
   "source": [
    "#fund.portfolio_data['universe']"
   ]
  },
  {
   "cell_type": "markdown",
   "id": "7047c673-7438-4213-84c1-35c086428237",
   "metadata": {},
   "source": [
    "### Case: Cost"
   ]
  },
  {
   "cell_type": "code",
   "execution_count": 8,
   "id": "bafb6552-e6e1-4bf3-89ae-1085e3fe6cb4",
   "metadata": {},
   "outputs": [
    {
     "name": "stdout",
     "output_type": "stream",
     "text": [
      "64 securities from 2008-11-28 to 2024-11-29 uploaded.\n",
      "WARNING: the number of days in a year with 64 tickers (100%) is 12 in avg.\n",
      "REMINDER: 64 equities converted to daily (days in year: 365)\n",
      "Daily metrics in Performance statistics must be meaningless\n",
      "Price data loaded\n",
      "Cost data transaction_cost_241217.csv loaded\n"
     ]
    }
   ],
   "source": [
    "universe = 'UV_FUND'\n",
    "fund = PM.create_universe(universe)\n",
    "cost = PM.get_cost(universe, file=file_cost, path=path_tran)\n",
    "fee = cost['fee']"
   ]
  },
  {
   "cell_type": "code",
   "execution_count": 9,
   "id": "66f33f72-aa68-40e3-aa09-78f7ee134b6f",
   "metadata": {},
   "outputs": [],
   "source": [
    "tickers = {k:v for k,v in fund.security_names.items() if 'TDF2045' in v}\n",
    "tickers = list(tickers.keys())"
   ]
  },
  {
   "cell_type": "code",
   "execution_count": 12,
   "id": "57535b95-a5d1-4cdf-b189-3338ca837feb",
   "metadata": {},
   "outputs": [
    {
     "data": {
      "text/plain": [
       "0) K55301BU5479: 미래에셋전략배분TDF2045혼합자산자투자신탁 종류C-P2e\n",
       "1) K55234DF2988: IBK로우코스트TDF2045증권자투자신탁[혼합-재간접형]종류C-Re\n",
       "2) K55223BT1757: KB온국민TDF2045증권투자신탁(주식혼합-재간접형)C-퇴직e"
      ]
     },
     "execution_count": 12,
     "metadata": {},
     "output_type": "execute_result"
    }
   ],
   "source": [
    "tickers = ['K55301BU5479', 'K55234DF2988', 'K55223BT1757']\n",
    "fund.get_names(tickers)"
   ]
  },
  {
   "cell_type": "code",
   "execution_count": 14,
   "id": "af037976-bcfa-4885-84c6-0a2880552e84",
   "metadata": {},
   "outputs": [
    {
     "data": {
      "image/png": "[encoded data removed]",
      "text/plain": [
       "<Figure size 1200x400 with 2 Axes>"
      ]
     },
     "metadata": {},
     "output_type": "display_data"
    }
   ],
   "source": [
    "fund.plot(tickers, fee=fee, base=1000)"
   ]
  },
  {
   "cell_type": "markdown",
   "id": "a4f53a08-8233-4b77-b360-e9dc6b3c1b4d",
   "metadata": {},
   "source": [
    "## LIQ"
   ]
  },
  {
   "cell_type": "code",
   "execution_count": 27,
   "id": "72cd3dc3-870e-4d18-810e-b95ff8bba953",
   "metadata": {},
   "outputs": [],
   "source": [
    "# portfolio of past trading system to liquidate soon\n",
    "selected = [\n",
    "    '011780', '066570', '035890', '040420', '140520', \n",
    "    '072990', '091580', '011200', '002220', '006650', \n",
    "    '136490', '064550', '460860', '040910', '024950',\n",
    "    '900070', '036580', '184230', '460850', '016250',\n",
    "    '001230', '049470', '217820', '109960'\n",
    "]"
   ]
  },
  {
   "cell_type": "code",
   "execution_count": 28,
   "id": "414e2a58-a88f-49df-b3d3-6eba848856c6",
   "metadata": {},
   "outputs": [
    {
     "name": "stdout",
     "output_type": "stream",
     "text": [
      "24 securities from 2022-01-03 to 2025-01-03 uploaded.\n",
      "WARNING: Update price data as 2720 tickers not in universe\n",
      "Price data loaded\n"
     ]
    }
   ],
   "source": [
    "liq = PM.create_universe('UV_LIQ')"
   ]
  },
  {
   "cell_type": "code",
   "execution_count": 29,
   "id": "0dbf39d1-aa67-46f9-93e9-0c9544409fa3",
   "metadata": {},
   "outputs": [],
   "source": [
    "#liq.get_names()"
   ]
  },
  {
   "cell_type": "code",
   "execution_count": 30,
   "id": "b6e60aa6-cc78-4145-a706-9802503cce51",
   "metadata": {},
   "outputs": [
    {
     "name": "stdout",
     "output_type": "stream",
     "text": [
      "Downloading ...\n",
      "REMINDER: 24 tickers set regardless of market\n"
     ]
    },
    {
     "name": "stderr",
     "output_type": "stream",
     "text": [
      "100%|███████████████████████████████████████████████████████████████| 24/24 [00:02<00:00,  9.82it/s]"
     ]
    },
    {
     "name": "stdout",
     "output_type": "stream",
     "text": [
      "2.4 secs elapsed, 0.0 secs paused (0.0%)\n",
      "... done\n",
      "24 securities from 2022-01-03 to 2025-01-20 downloaded.\n",
      "krx_liq_prices_250120.csv saved\n",
      "df_prices updated\n",
      "Execution time of download: 3.27 secs\n"
     ]
    },
    {
     "name": "stderr",
     "output_type": "stream",
     "text": [
      "\n"
     ]
    }
   ],
   "source": [
    "kw = dict(\n",
    "    n_years=3, \n",
    "    tickers= 'selected', #selected,\n",
    "    close_today = WidgetUniverse.values(1),\n",
    "    interval=5, pause_duration=1, msg=False\n",
    ")\n",
    "liq.download(**kw) if WidgetUniverse.values(0) else None"
   ]
  },
  {
   "cell_type": "markdown",
   "id": "892cb848-d5e2-4bbf-ba7d-f4b38f4b0791",
   "metadata": {},
   "source": [
    "## Additional Data"
   ]
  },
  {
   "cell_type": "markdown",
   "id": "7d30af76-f3cd-4a0b-9394-61aea02186bd",
   "metadata": {},
   "source": [
    "### Cost"
   ]
  },
  {
   "cell_type": "markdown",
   "id": "2f188b81-762b-4cb9-a5bb-70c86029c36d",
   "metadata": {},
   "source": [
    "*Check missing cost data*"
   ]
  },
  {
   "cell_type": "code",
   "execution_count": 19,
   "id": "1efdba32-e47d-4d42-9f31-41d7b435b2c7",
   "metadata": {},
   "outputs": [
    {
     "name": "stdout",
     "output_type": "stream",
     "text": [
      "Cost data transaction_cost_241217.csv loaded\n",
      "64 securities from 2008-11-28 to 2024-11-29 uploaded.\n",
      "WARNING: the number of days in a year with 64 tickers (100%) is 12 in avg.\n",
      "REMINDER: 64 equities converted to daily (days in year: 365)\n",
      "Daily metrics in Performance statistics must be meaningless\n",
      "Price data loaded\n"
     ]
    }
   ],
   "source": [
    "PM.check_cost('UV_FUND', file_cost, path_tran)"
   ]
  },
  {
   "cell_type": "markdown",
   "id": "88b808a3-7853-48ef-bc56-be1bc34d3f10",
   "metadata": {},
   "source": [
    "*Update cost data for uiniverse UV_FUND, except for which of universes updated with manual editting*"
   ]
  },
  {
   "cell_type": "code",
   "execution_count": 20,
   "id": "2d721c67-c6c5-4197-b819-8d597f631446",
   "metadata": {},
   "outputs": [
    {
     "name": "stdout",
     "output_type": "stream",
     "text": [
      "Data for 64 funds loaded.\n"
     ]
    },
    {
     "data": {
      "text/html": [
       "<div>\n",
       "<style scoped>\n",
       "    .dataframe tbody tr th:only-of-type {\n",
       "        vertical-align: middle;\n",
       "    }\n",
       "\n",
       "    .dataframe tbody tr th {\n",
       "        vertical-align: top;\n",
       "    }\n",
       "\n",
       "    .dataframe thead th {\n",
       "        text-align: right;\n",
       "    }\n",
       "</style>\n",
       "<table border=\"1\" class=\"dataframe\">\n",
       "  <thead>\n",
       "    <tr style=\"text-align: right;\">\n",
       "      <th></th>\n",
       "      <th>universe</th>\n",
       "      <th>ticker</th>\n",
       "      <th>buy</th>\n",
       "      <th>sell</th>\n",
       "      <th>fee</th>\n",
       "      <th>tax</th>\n",
       "    </tr>\n",
       "  </thead>\n",
       "  <tbody>\n",
       "    <tr>\n",
       "      <th>0</th>\n",
       "      <td>UV_FUND</td>\n",
       "      <td>K55234DF2657</td>\n",
       "      <td>0.0</td>\n",
       "      <td>0.0</td>\n",
       "      <td>0.410</td>\n",
       "      <td>0.0</td>\n",
       "    </tr>\n",
       "    <tr>\n",
       "      <th>1</th>\n",
       "      <td>UV_FUND</td>\n",
       "      <td>K55234DF2459</td>\n",
       "      <td>0.0</td>\n",
       "      <td>0.0</td>\n",
       "      <td>0.410</td>\n",
       "      <td>0.0</td>\n",
       "    </tr>\n",
       "    <tr>\n",
       "      <th>2</th>\n",
       "      <td>UV_FUND</td>\n",
       "      <td>K55301BU6139</td>\n",
       "      <td>0.0</td>\n",
       "      <td>0.0</td>\n",
       "      <td>0.600</td>\n",
       "      <td>0.0</td>\n",
       "    </tr>\n",
       "    <tr>\n",
       "      <th>3</th>\n",
       "      <td>UV_FUND</td>\n",
       "      <td>K55105BU1161</td>\n",
       "      <td>0.0</td>\n",
       "      <td>0.0</td>\n",
       "      <td>0.420</td>\n",
       "      <td>0.0</td>\n",
       "    </tr>\n",
       "    <tr>\n",
       "      <th>4</th>\n",
       "      <td>UV_FUND</td>\n",
       "      <td>K55210BU2385</td>\n",
       "      <td>0.0</td>\n",
       "      <td>0.0</td>\n",
       "      <td>0.500</td>\n",
       "      <td>0.0</td>\n",
       "    </tr>\n",
       "    <tr>\n",
       "      <th>...</th>\n",
       "      <td>...</td>\n",
       "      <td>...</td>\n",
       "      <td>...</td>\n",
       "      <td>...</td>\n",
       "      <td>...</td>\n",
       "      <td>...</td>\n",
       "    </tr>\n",
       "    <tr>\n",
       "      <th>59</th>\n",
       "      <td>UV_FUND</td>\n",
       "      <td>K55105BT9936</td>\n",
       "      <td>0.0</td>\n",
       "      <td>0.0</td>\n",
       "      <td>0.540</td>\n",
       "      <td>0.0</td>\n",
       "    </tr>\n",
       "    <tr>\n",
       "      <th>60</th>\n",
       "      <td>UV_FUND</td>\n",
       "      <td>K55223BT1096</td>\n",
       "      <td>0.0</td>\n",
       "      <td>0.0</td>\n",
       "      <td>0.360</td>\n",
       "      <td>0.0</td>\n",
       "    </tr>\n",
       "    <tr>\n",
       "      <th>61</th>\n",
       "      <td>UV_FUND</td>\n",
       "      <td>K55301BU6113</td>\n",
       "      <td>0.0</td>\n",
       "      <td>0.0</td>\n",
       "      <td>0.570</td>\n",
       "      <td>0.0</td>\n",
       "    </tr>\n",
       "    <tr>\n",
       "      <th>62</th>\n",
       "      <td>UV_FUND</td>\n",
       "      <td>K55101BT4402</td>\n",
       "      <td>0.0</td>\n",
       "      <td>0.0</td>\n",
       "      <td>0.439</td>\n",
       "      <td>0.0</td>\n",
       "    </tr>\n",
       "    <tr>\n",
       "      <th>63</th>\n",
       "      <td>UV_FUND</td>\n",
       "      <td>K55370BU1979</td>\n",
       "      <td>0.0</td>\n",
       "      <td>0.0</td>\n",
       "      <td>0.470</td>\n",
       "      <td>0.0</td>\n",
       "    </tr>\n",
       "  </tbody>\n",
       "</table>\n",
       "<p>64 rows × 6 columns</p>\n",
       "</div>"
      ],
      "text/plain": [
       "   universe        ticker  buy  sell    fee  tax\n",
       "0   UV_FUND  K55234DF2657  0.0   0.0  0.410  0.0\n",
       "1   UV_FUND  K55234DF2459  0.0   0.0  0.410  0.0\n",
       "2   UV_FUND  K55301BU6139  0.0   0.0  0.600  0.0\n",
       "3   UV_FUND  K55105BU1161  0.0   0.0  0.420  0.0\n",
       "4   UV_FUND  K55210BU2385  0.0   0.0  0.500  0.0\n",
       "..      ...           ...  ...   ...    ...  ...\n",
       "59  UV_FUND  K55105BT9936  0.0   0.0  0.540  0.0\n",
       "60  UV_FUND  K55223BT1096  0.0   0.0  0.360  0.0\n",
       "61  UV_FUND  K55301BU6113  0.0   0.0  0.570  0.0\n",
       "62  UV_FUND  K55101BT4402  0.0   0.0  0.439  0.0\n",
       "63  UV_FUND  K55370BU1979  0.0   0.0  0.470  0.0\n",
       "\n",
       "[64 rows x 6 columns]"
      ]
     },
     "execution_count": 20,
     "metadata": {},
     "output_type": "execute_result"
    }
   ],
   "source": [
    "fd = FundDownloader.create(fund)\n",
    "#fd.export_cost('UV_FUND', 'transaction_cost', path=path_tran, update=True)\n",
    "fd.export_cost('UV_FUND')"
   ]
  },
  {
   "cell_type": "markdown",
   "id": "28c87622-d725-4580-b8b9-067ce19f8d8a",
   "metadata": {},
   "source": [
    "### Financial Ratio"
   ]
  },
  {
   "cell_type": "code",
   "execution_count": 31,
   "id": "639f2709-1679-4893-8d1d-b0f065e3980f",
   "metadata": {},
   "outputs": [
    {
     "data": {
      "application/vnd.jupyter.widget-view+json": {
       "model_id": "8b76dd0ff8954b0c9526eb4583aafdd1",
       "version_major": 2,
       "version_minor": 0
      },
      "text/plain": [
       "VBox(children=(Checkbox(value=True, description='Download', indent=False), Checkbox(value=True, description='C…"
      ]
     },
     "execution_count": 31,
     "metadata": {},
     "output_type": "execute_result"
    }
   ],
   "source": [
    "WidgetUniverse"
   ]
  },
  {
   "cell_type": "code",
   "execution_count": 32,
   "id": "f80ca883-cc65-49cd-b6c5-bab6a8a55417",
   "metadata": {},
   "outputs": [
    {
     "name": "stdout",
     "output_type": "stream",
     "text": [
      "Financial ratios of 200 stocks from 2023-01-02 to 2025-01-03 loaded\n"
     ]
    }
   ],
   "source": [
    "file = 'kospi200_ratios.csv'\n",
    "fr = FinancialRatios(file, path_data)"
   ]
  },
  {
   "cell_type": "code",
   "execution_count": 28,
   "id": "ad28f354-e504-4422-b486-9982db82ccf8",
   "metadata": {},
   "outputs": [
    {
     "name": "stdout",
     "output_type": "stream",
     "text": [
      "200 securities from 2022-01-03 to 2025-01-03 uploaded.\n",
      "Price data loaded\n"
     ]
    },
    {
     "name": "stderr",
     "output_type": "stream",
     "text": [
      "100%|█████████████████████████████████████████████████████████████| 200/200 [12:00<00:00,  3.60s/it]\n"
     ]
    },
    {
     "name": "stdout",
     "output_type": "stream",
     "text": [
      "12.0 mins elapsed, 26.0 secs paused (3.6%)\n",
      "Financial ratios of 200 stocks from 2023-01-02 to 2025-01-03 downloaded\n",
      "kospi200_ratios_250103.csv saved\n"
     ]
    }
   ],
   "source": [
    "start = '2023-01-01'\n",
    "universe = 'UV_K200'\n",
    "freq = 'day'\n",
    "\n",
    "if WidgetUniverse.values(0):\n",
    "    tickers = PM.create_universe(universe).df_prices.columns.to_list()\n",
    "    kw = dict(\n",
    "        freq = freq,\n",
    "        close_today = WidgetUniverse.values(1)\n",
    "    )\n",
    "    fr.download(tickers, start, **kw)"
   ]
  },
  {
   "cell_type": "code",
   "execution_count": 29,
   "id": "d630f9b3-6c80-4b4e-b70f-fd80cbe21127",
   "metadata": {},
   "outputs": [],
   "source": [
    "fratio = 'PER'\n",
    "df_ratio = fr.util_reshape(fratio, stack=False)"
   ]
  },
  {
   "cell_type": "code",
   "execution_count": 30,
   "id": "8db8d716-547e-4f36-bc02-cc70c6af7264",
   "metadata": {},
   "outputs": [
    {
     "name": "stdout",
     "output_type": "stream",
     "text": [
      "200 securities from 2022-01-03 to 2025-01-03 uploaded.\n",
      "Price data loaded\n",
      "Ratio: 2023-01-02 ~ 2025-01-03\n",
      "Price: 2022-01-03 ~ 2025-01-03\n"
     ]
    }
   ],
   "source": [
    "df = PM.create_universe(universe).df_prices\n",
    "fr.util_compare_periods(df)"
   ]
  },
  {
   "cell_type": "markdown",
   "id": "198e84e4-ee73-466e-baa8-e5cbc1be4725",
   "metadata": {},
   "source": [
    "# Performance"
   ]
  },
  {
   "cell_type": "code",
   "execution_count": 4,
   "id": "4f9e3e79-0274-47d0-b5ad-d52e3b3fe202",
   "metadata": {},
   "outputs": [
    {
     "name": "stdout",
     "output_type": "stream",
     "text": [
      "Portfolio: MMT_2407, PER_2410, WTR_2407, WTR_2412, LIQ, TDF_2406, HANA_2408, FCTR, KRX, TEST\n"
     ]
    }
   ],
   "source": [
    "PM.review()"
   ]
  },
  {
   "cell_type": "code",
   "execution_count": 5,
   "id": "66f39b20-3e42-408f-9d74-bc0dd217ac4e",
   "metadata": {},
   "outputs": [
    {
     "name": "stdout",
     "output_type": "stream",
     "text": [
      "MMT_2407:\n",
      "200 securities from 2022-01-03 to 2025-01-20 uploaded.\n",
      "Price data loaded\n",
      "Transaction record to 2025-01-16 loaded\n",
      "\n",
      "PER_2410:\n",
      "200 securities from 2022-01-03 to 2025-01-20 uploaded.\n",
      "Price data loaded\n",
      "Transaction record to 2024-11-11 loaded\n",
      "\n",
      "WTR_2407:\n",
      "6 securities from 2022-01-03 to 2025-01-20 uploaded.\n",
      "WARNING: Update price data as 933 tickers not in universe\n",
      "Price data loaded\n",
      "Transaction record to 2024-11-20 loaded\n",
      "\n",
      "WTR_2412:\n",
      "6 securities from 2022-01-03 to 2025-01-20 uploaded.\n",
      "WARNING: Update price data as 933 tickers not in universe\n",
      "Price data loaded\n",
      "Transaction record to 2024-12-18 loaded\n",
      "\n"
     ]
    }
   ],
   "source": [
    "pf_list = ['MMT_2407', 'PER_2410', 'WTR_2407', 'WTR_2412']\n",
    "pm = PM(pf_list)"
   ]
  },
  {
   "cell_type": "code",
   "execution_count": 6,
   "id": "c415e04e-bae6-42c6-b459-3c171923f48f",
   "metadata": {},
   "outputs": [
    {
     "name": "stdout",
     "output_type": "stream",
     "text": [
      "TDF_2406:\n",
      "64 securities from 2008-11-28 to 2024-12-31 uploaded.\n",
      "WARNING: the number of days in a year with 64 tickers (100%) is 12 in avg.\n",
      "REMINDER: 64 equities converted to daily (days in year: 365)\n",
      "Daily metrics in Performance statistics must be meaningless\n",
      "Price data loaded\n",
      "Transaction record to 2025-01-15 loaded\n",
      "\n",
      "HANA_2408:\n",
      "64 securities from 2008-11-28 to 2024-12-31 uploaded.\n",
      "WARNING: the number of days in a year with 64 tickers (100%) is 12 in avg.\n",
      "REMINDER: 64 equities converted to daily (days in year: 365)\n",
      "Daily metrics in Performance statistics must be meaningless\n",
      "Price data loaded\n",
      "Transaction record to 2024-08-01 loaded\n",
      "\n"
     ]
    }
   ],
   "source": [
    "#pm.load('LIQ')\n",
    "pm.load(['TDF_2406','HANA_2408'])"
   ]
  },
  {
   "cell_type": "code",
   "execution_count": 7,
   "id": "f75e8058-9c75-4e68-bc44-80d2a3638942",
   "metadata": {},
   "outputs": [
    {
     "data": {
      "image/png": "[encoded data removed]",
      "text/plain": [
       "<Figure size 1000x500 with 2 Axes>"
      ]
     },
     "metadata": {},
     "output_type": "display_data"
    }
   ],
   "source": [
    "start_date='2024-07-01'\n",
    "#pm.plot('MMT', start_date=start_date)\n",
    "#pm.plot(pf_list, start_date=start_date, roi=False)\n",
    "pm.plot(start_date=start_date, roi=True)"
   ]
  },
  {
   "cell_type": "code",
   "execution_count": 8,
   "id": "c7b20465-e301-4a48-bd96-dde42a27a4f2",
   "metadata": {},
   "outputs": [
    {
     "data": {
      "application/vnd.jupyter.widget-view+json": {
       "model_id": "61a3e4bd5d9b433394384b4b937c5bea",
       "version_major": 2,
       "version_minor": 0
      },
      "text/plain": [
       "DatePicker(value=None, layout=Layout(width='200px'), step=1)"
      ]
     },
     "execution_count": 8,
     "metadata": {},
     "output_type": "execute_result"
    }
   ],
   "source": [
    "w_date"
   ]
  },
  {
   "cell_type": "code",
   "execution_count": 9,
   "id": "713f1fea-97dd-47b4-a05a-c0f5611a7f36",
   "metadata": {},
   "outputs": [
    {
     "data": {
      "text/html": [
       "<div>\n",
       "<style scoped>\n",
       "    .dataframe tbody tr th:only-of-type {\n",
       "        vertical-align: middle;\n",
       "    }\n",
       "\n",
       "    .dataframe tbody tr th {\n",
       "        vertical-align: top;\n",
       "    }\n",
       "\n",
       "    .dataframe thead th {\n",
       "        text-align: right;\n",
       "    }\n",
       "</style>\n",
       "<table border=\"1\" class=\"dataframe\">\n",
       "  <thead>\n",
       "    <tr style=\"text-align: right;\">\n",
       "      <th></th>\n",
       "      <th>MMT_2407</th>\n",
       "      <th>PER_2410</th>\n",
       "      <th>WTR_2407</th>\n",
       "      <th>WTR_2412</th>\n",
       "      <th>TDF_2406</th>\n",
       "      <th>HANA_2408</th>\n",
       "      <th>TOTAL</th>\n",
       "    </tr>\n",
       "  </thead>\n",
       "  <tbody>\n",
       "    <tr>\n",
       "      <th>start</th>\n",
       "      <td>2024-07-22</td>\n",
       "      <td>2024-10-17</td>\n",
       "      <td>2024-07-18</td>\n",
       "      <td>2024-12-18</td>\n",
       "      <td>2024-06-19</td>\n",
       "      <td>2024-08-01</td>\n",
       "      <td>2024-06-19</td>\n",
       "    </tr>\n",
       "    <tr>\n",
       "      <th>end</th>\n",
       "      <td>2025-01-20</td>\n",
       "      <td>2025-01-20</td>\n",
       "      <td>2025-01-20</td>\n",
       "      <td>2025-01-20</td>\n",
       "      <td>2024-12-31</td>\n",
       "      <td>2024-12-31</td>\n",
       "      <td>2025-01-20</td>\n",
       "    </tr>\n",
       "    <tr>\n",
       "      <th>buy</th>\n",
       "      <td>42,593,500</td>\n",
       "      <td>12,249,820</td>\n",
       "      <td>10,049,835</td>\n",
       "      <td>5,783,200</td>\n",
       "      <td>10,000,000</td>\n",
       "      <td>9,990,000</td>\n",
       "      <td>90,666,355</td>\n",
       "    </tr>\n",
       "    <tr>\n",
       "      <th>sell</th>\n",
       "      <td>26,824,951</td>\n",
       "      <td>2,621,865</td>\n",
       "      <td>437,755</td>\n",
       "      <td>0.0</td>\n",
       "      <td>0.0</td>\n",
       "      <td>0.0</td>\n",
       "      <td>29,884,571</td>\n",
       "    </tr>\n",
       "    <tr>\n",
       "      <th>value</th>\n",
       "      <td>13,528,500</td>\n",
       "      <td>9,802,940</td>\n",
       "      <td>9,968,002</td>\n",
       "      <td>5,929,870</td>\n",
       "      <td>10,533,942</td>\n",
       "      <td>10,116,192</td>\n",
       "      <td>59,879,446</td>\n",
       "    </tr>\n",
       "    <tr>\n",
       "      <th>ugl</th>\n",
       "      <td>-2,240,049</td>\n",
       "      <td>174,985</td>\n",
       "      <td>355,922</td>\n",
       "      <td>146,670</td>\n",
       "      <td>533,942</td>\n",
       "      <td>126,192</td>\n",
       "      <td>-902,338</td>\n",
       "    </tr>\n",
       "    <tr>\n",
       "      <th>roi</th>\n",
       "      <td>-0.052591</td>\n",
       "      <td>0.014285</td>\n",
       "      <td>0.035416</td>\n",
       "      <td>0.025361</td>\n",
       "      <td>0.053394</td>\n",
       "      <td>0.012632</td>\n",
       "      <td>-0.009952</td>\n",
       "    </tr>\n",
       "  </tbody>\n",
       "</table>\n",
       "</div>"
      ],
      "text/plain": [
       "         MMT_2407    PER_2410    WTR_2407    WTR_2412    TDF_2406   HANA_2408  \\\n",
       "start  2024-07-22  2024-10-17  2024-07-18  2024-12-18  2024-06-19  2024-08-01   \n",
       "end    2025-01-20  2025-01-20  2025-01-20  2025-01-20  2024-12-31  2024-12-31   \n",
       "buy    42,593,500  12,249,820  10,049,835   5,783,200  10,000,000   9,990,000   \n",
       "sell   26,824,951   2,621,865     437,755         0.0         0.0         0.0   \n",
       "value  13,528,500   9,802,940   9,968,002   5,929,870  10,533,942  10,116,192   \n",
       "ugl    -2,240,049     174,985     355,922     146,670     533,942     126,192   \n",
       "roi     -0.052591    0.014285    0.035416    0.025361    0.053394    0.012632   \n",
       "\n",
       "            TOTAL  \n",
       "start  2024-06-19  \n",
       "end    2025-01-20  \n",
       "buy    90,666,355  \n",
       "sell   29,884,571  \n",
       "value  59,879,446  \n",
       "ugl      -902,338  \n",
       "roi     -0.009952  "
      ]
     },
     "execution_count": 9,
     "metadata": {},
     "output_type": "execute_result"
    }
   ],
   "source": [
    "pm.summary(date=w_date.value)"
   ]
  },
  {
   "cell_type": "markdown",
   "id": "2c9b3de9-e20a-4486-9fc7-7ba75bd5fdec",
   "metadata": {},
   "source": [
    "# Transaction"
   ]
  },
  {
   "cell_type": "markdown",
   "id": "8c1d7580-8b01-4154-8c49-14f4063b6b03",
   "metadata": {},
   "source": [
    "## MMT"
   ]
  },
  {
   "cell_type": "code",
   "execution_count": 14,
   "id": "61701a3b-570d-44f1-997f-77520d17f29d",
   "metadata": {},
   "outputs": [
    {
     "name": "stdout",
     "output_type": "stream",
     "text": [
      "200 securities from 2022-01-03 to 2025-01-20 uploaded.\n",
      "Price data loaded\n",
      "Cost data transaction_cost_241217.csv loaded\n",
      "Transaction record to 2025-01-16 loaded\n"
     ]
    }
   ],
   "source": [
    "pf_mmt = PM.create_portfolio('MMT_2407', **kw_cost) "
   ]
  },
  {
   "cell_type": "code",
   "execution_count": 16,
   "id": "466b44d0-60a9-4818-981e-02c1e87515ae",
   "metadata": {},
   "outputs": [],
   "source": [
    "pf_mmt.update_record()"
   ]
  },
  {
   "cell_type": "code",
   "execution_count": 17,
   "id": "a9081c9e-ab5f-47a8-8942-35afb67a4621",
   "metadata": {},
   "outputs": [],
   "source": [
    "#pf_mmt.portfolio_data['strategy']"
   ]
  },
  {
   "cell_type": "code",
   "execution_count": 18,
   "id": "1c0cd424-6ed5-43f9-9d79-ba40a32d7df1",
   "metadata": {},
   "outputs": [
    {
     "data": {
      "text/html": [
       "<div>\n",
       "<style scoped>\n",
       "    .dataframe tbody tr th:only-of-type {\n",
       "        vertical-align: middle;\n",
       "    }\n",
       "\n",
       "    .dataframe tbody tr th {\n",
       "        vertical-align: top;\n",
       "    }\n",
       "\n",
       "    .dataframe thead th {\n",
       "        text-align: right;\n",
       "    }\n",
       "</style>\n",
       "<table border=\"1\" class=\"dataframe\">\n",
       "  <thead>\n",
       "    <tr style=\"text-align: right;\">\n",
       "      <th></th>\n",
       "      <th></th>\n",
       "      <th>name</th>\n",
       "      <th>ratio</th>\n",
       "      <th>transaction</th>\n",
       "      <th>net</th>\n",
       "      <th>weight</th>\n",
       "      <th>weight*</th>\n",
       "      <th>date*</th>\n",
       "    </tr>\n",
       "    <tr>\n",
       "      <th>date</th>\n",
       "      <th>ticker</th>\n",
       "      <th></th>\n",
       "      <th></th>\n",
       "      <th></th>\n",
       "      <th></th>\n",
       "      <th></th>\n",
       "      <th></th>\n",
       "      <th></th>\n",
       "    </tr>\n",
       "  </thead>\n",
       "  <tbody>\n",
       "    <tr>\n",
       "      <th rowspan=\"8\" valign=\"top\">2024-12-16</th>\n",
       "      <th>267260</th>\n",
       "      <td>HD현대일렉트릭</td>\n",
       "      <td>0.975610</td>\n",
       "      <td>-389500</td>\n",
       "      <td>2726500</td>\n",
       "      <td>0.2</td>\n",
       "      <td>0.222</td>\n",
       "      <td>2024-12-17</td>\n",
       "    </tr>\n",
       "    <tr>\n",
       "      <th>010130</th>\n",
       "      <td>고려아연</td>\n",
       "      <td>1.000858</td>\n",
       "      <td>2330000</td>\n",
       "      <td>2330000</td>\n",
       "      <td>0.2</td>\n",
       "      <td>0.190</td>\n",
       "      <td>2024-12-17</td>\n",
       "    </tr>\n",
       "    <tr>\n",
       "      <th>003230</th>\n",
       "      <td>삼양식품</td>\n",
       "      <td>1.000000</td>\n",
       "      <td>-1458000</td>\n",
       "      <td>2187000</td>\n",
       "      <td>0.2</td>\n",
       "      <td>0.178</td>\n",
       "      <td>2024-12-17</td>\n",
       "    </tr>\n",
       "    <tr>\n",
       "      <th>000150</th>\n",
       "      <td>두산</td>\n",
       "      <td>0.963303</td>\n",
       "      <td>2725000</td>\n",
       "      <td>2725000</td>\n",
       "      <td>0.2</td>\n",
       "      <td>0.222</td>\n",
       "      <td>2024-12-17</td>\n",
       "    </tr>\n",
       "    <tr>\n",
       "      <th>298040</th>\n",
       "      <td>효성중공업</td>\n",
       "      <td>0.985808</td>\n",
       "      <td>2290000</td>\n",
       "      <td>2290000</td>\n",
       "      <td>0.2</td>\n",
       "      <td>0.187</td>\n",
       "      <td>2024-12-17</td>\n",
       "    </tr>\n",
       "    <tr>\n",
       "      <th>012450</th>\n",
       "      <td>한화에어로스페이스</td>\n",
       "      <td>1.040650</td>\n",
       "      <td>-2152501</td>\n",
       "      <td>0</td>\n",
       "      <td>0.0</td>\n",
       "      <td>0.000</td>\n",
       "      <td>2024-12-17</td>\n",
       "    </tr>\n",
       "    <tr>\n",
       "      <th>064350</th>\n",
       "      <td>현대로템</td>\n",
       "      <td>1.026943</td>\n",
       "      <td>-2316000</td>\n",
       "      <td>0</td>\n",
       "      <td>0.0</td>\n",
       "      <td>0.000</td>\n",
       "      <td>2024-12-17</td>\n",
       "    </tr>\n",
       "    <tr>\n",
       "      <th>079550</th>\n",
       "      <td>LIG넥스원</td>\n",
       "      <td>1.004130</td>\n",
       "      <td>-2130700</td>\n",
       "      <td>0</td>\n",
       "      <td>0.0</td>\n",
       "      <td>0.000</td>\n",
       "      <td>2024-12-17</td>\n",
       "    </tr>\n",
       "    <tr>\n",
       "      <th rowspan=\"7\" valign=\"top\">2025-01-16</th>\n",
       "      <th>267260</th>\n",
       "      <td>HD현대일렉트릭</td>\n",
       "      <td>1.000000</td>\n",
       "      <td>0</td>\n",
       "      <td>2922500</td>\n",
       "      <td>0.2</td>\n",
       "      <td>0.209</td>\n",
       "      <td>2025-01-17</td>\n",
       "    </tr>\n",
       "    <tr>\n",
       "      <th>003230</th>\n",
       "      <td>삼양식품</td>\n",
       "      <td>1.000000</td>\n",
       "      <td>0</td>\n",
       "      <td>2310000</td>\n",
       "      <td>0.2</td>\n",
       "      <td>0.165</td>\n",
       "      <td>2025-01-17</td>\n",
       "    </tr>\n",
       "    <tr>\n",
       "      <th>000150</th>\n",
       "      <td>두산</td>\n",
       "      <td>1.000000</td>\n",
       "      <td>0</td>\n",
       "      <td>2880000</td>\n",
       "      <td>0.2</td>\n",
       "      <td>0.206</td>\n",
       "      <td>2025-01-17</td>\n",
       "    </tr>\n",
       "    <tr>\n",
       "      <th>012450</th>\n",
       "      <td>한화에어로스페이스</td>\n",
       "      <td>1.031414</td>\n",
       "      <td>2673999</td>\n",
       "      <td>2674000</td>\n",
       "      <td>0.2</td>\n",
       "      <td>0.191</td>\n",
       "      <td>2025-01-17</td>\n",
       "    </tr>\n",
       "    <tr>\n",
       "      <th>010120</th>\n",
       "      <td>LS ELECTRIC</td>\n",
       "      <td>0.899535</td>\n",
       "      <td>3225000</td>\n",
       "      <td>3225000</td>\n",
       "      <td>0.2</td>\n",
       "      <td>0.230</td>\n",
       "      <td>2025-01-17</td>\n",
       "    </tr>\n",
       "    <tr>\n",
       "      <th>010130</th>\n",
       "      <td>고려아연</td>\n",
       "      <td>0.957796</td>\n",
       "      <td>-1706000</td>\n",
       "      <td>0</td>\n",
       "      <td>0.0</td>\n",
       "      <td>0.000</td>\n",
       "      <td>2025-01-17</td>\n",
       "    </tr>\n",
       "    <tr>\n",
       "      <th>298040</th>\n",
       "      <td>효성중공업</td>\n",
       "      <td>0.997872</td>\n",
       "      <td>-2350000</td>\n",
       "      <td>0</td>\n",
       "      <td>0.0</td>\n",
       "      <td>0.000</td>\n",
       "      <td>2025-01-17</td>\n",
       "    </tr>\n",
       "  </tbody>\n",
       "</table>\n",
       "</div>"
      ],
      "text/plain": [
       "                          name     ratio  transaction      net  weight  \\\n",
       "date       ticker                                                        \n",
       "2024-12-16 267260     HD현대일렉트릭  0.975610      -389500  2726500     0.2   \n",
       "           010130         고려아연  1.000858      2330000  2330000     0.2   \n",
       "           003230         삼양식품  1.000000     -1458000  2187000     0.2   \n",
       "           000150           두산  0.963303      2725000  2725000     0.2   \n",
       "           298040        효성중공업  0.985808      2290000  2290000     0.2   \n",
       "           012450    한화에어로스페이스  1.040650     -2152501        0     0.0   \n",
       "           064350         현대로템  1.026943     -2316000        0     0.0   \n",
       "           079550       LIG넥스원  1.004130     -2130700        0     0.0   \n",
       "2025-01-16 267260     HD현대일렉트릭  1.000000            0  2922500     0.2   \n",
       "           003230         삼양식품  1.000000            0  2310000     0.2   \n",
       "           000150           두산  1.000000            0  2880000     0.2   \n",
       "           012450    한화에어로스페이스  1.031414      2673999  2674000     0.2   \n",
       "           010120  LS ELECTRIC  0.899535      3225000  3225000     0.2   \n",
       "           010130         고려아연  0.957796     -1706000        0     0.0   \n",
       "           298040        효성중공업  0.997872     -2350000        0     0.0   \n",
       "\n",
       "                   weight*      date*  \n",
       "date       ticker                      \n",
       "2024-12-16 267260    0.222 2024-12-17  \n",
       "           010130    0.190 2024-12-17  \n",
       "           003230    0.178 2024-12-17  \n",
       "           000150    0.222 2024-12-17  \n",
       "           298040    0.187 2024-12-17  \n",
       "           012450    0.000 2024-12-17  \n",
       "           064350    0.000 2024-12-17  \n",
       "           079550    0.000 2024-12-17  \n",
       "2025-01-16 267260    0.209 2025-01-17  \n",
       "           003230    0.165 2025-01-17  \n",
       "           000150    0.206 2025-01-17  \n",
       "           012450    0.191 2025-01-17  \n",
       "           010120    0.230 2025-01-17  \n",
       "           010130    0.000 2025-01-17  \n",
       "           298040    0.000 2025-01-17  "
      ]
     },
     "execution_count": 18,
     "metadata": {},
     "output_type": "execute_result"
    }
   ],
   "source": [
    "pf_mmt.view_record(-2, nshares=False)"
   ]
  },
  {
   "cell_type": "markdown",
   "id": "4f27d13e-9c6a-4a62-b889-75b2bb8876e6",
   "metadata": {},
   "source": [
    "*daily transactions for book keeping*"
   ]
  },
  {
   "cell_type": "code",
   "execution_count": 19,
   "id": "8ee9228e-9558-40ea-9923-be53ffa72e42",
   "metadata": {},
   "outputs": [
    {
     "data": {
      "text/html": [
       "<div>\n",
       "<style scoped>\n",
       "    .dataframe tbody tr th:only-of-type {\n",
       "        vertical-align: middle;\n",
       "    }\n",
       "\n",
       "    .dataframe tbody tr th {\n",
       "        vertical-align: top;\n",
       "    }\n",
       "\n",
       "    .dataframe thead th {\n",
       "        text-align: right;\n",
       "    }\n",
       "</style>\n",
       "<table border=\"1\" class=\"dataframe\">\n",
       "  <thead>\n",
       "    <tr style=\"text-align: right;\">\n",
       "      <th></th>\n",
       "      <th>buy</th>\n",
       "      <th>sell</th>\n",
       "    </tr>\n",
       "    <tr>\n",
       "      <th>date*</th>\n",
       "      <th></th>\n",
       "      <th></th>\n",
       "    </tr>\n",
       "  </thead>\n",
       "  <tbody>\n",
       "    <tr>\n",
       "      <th>2024-07-22</th>\n",
       "      <td>14255518</td>\n",
       "      <td>0</td>\n",
       "    </tr>\n",
       "    <tr>\n",
       "      <th>2024-08-22</th>\n",
       "      <td>6159324</td>\n",
       "      <td>4321649</td>\n",
       "    </tr>\n",
       "    <tr>\n",
       "      <th>2024-09-26</th>\n",
       "      <td>0</td>\n",
       "      <td>2819812</td>\n",
       "    </tr>\n",
       "    <tr>\n",
       "      <th>2024-09-27</th>\n",
       "      <td>2825103</td>\n",
       "      <td>0</td>\n",
       "    </tr>\n",
       "    <tr>\n",
       "      <th>2024-10-08</th>\n",
       "      <td>3072111</td>\n",
       "      <td>3348589</td>\n",
       "    </tr>\n",
       "    <tr>\n",
       "      <th>2024-11-11</th>\n",
       "      <td>3038510</td>\n",
       "      <td>3805898</td>\n",
       "    </tr>\n",
       "    <tr>\n",
       "      <th>2024-12-17</th>\n",
       "      <td>7345267</td>\n",
       "      <td>8431189</td>\n",
       "    </tr>\n",
       "    <tr>\n",
       "      <th>2025-01-17</th>\n",
       "      <td>5899213</td>\n",
       "      <td>4048551</td>\n",
       "    </tr>\n",
       "  </tbody>\n",
       "</table>\n",
       "</div>"
      ],
      "text/plain": [
       "                 buy     sell\n",
       "date*                        \n",
       "2024-07-22  14255518        0\n",
       "2024-08-22   6159324  4321649\n",
       "2024-09-26         0  2819812\n",
       "2024-09-27   2825103        0\n",
       "2024-10-08   3072111  3348589\n",
       "2024-11-11   3038510  3805898\n",
       "2024-12-17   7345267  8431189\n",
       "2025-01-17   5899213  4048551"
      ]
     },
     "execution_count": 19,
     "metadata": {},
     "output_type": "execute_result"
    }
   ],
   "source": [
    "pf_mmt.get_cash_history(cumsum=False, date_actual=True)"
   ]
  },
  {
   "cell_type": "code",
   "execution_count": 20,
   "id": "ff9dc182-52c7-424f-8acd-06c433602372",
   "metadata": {},
   "outputs": [],
   "source": [
    "# run after editting record file\n",
    "#pf_mmt.update_record(save=True)"
   ]
  },
  {
   "cell_type": "code",
   "execution_count": 15,
   "id": "79b6dcde-228a-42e9-bfe6-61aa2fc937d5",
   "metadata": {},
   "outputs": [
    {
     "data": {
      "image/png": "[encoded data removed]",
      "text/plain": [
       "<Figure size 1000x600 with 3 Axes>"
      ]
     },
     "metadata": {},
     "output_type": "display_data"
    }
   ],
   "source": [
    "pf_mmt.plot(roi=True)"
   ]
  },
  {
   "cell_type": "code",
   "execution_count": 22,
   "id": "486d4f24-f91b-490a-8c1b-fe11ed83c5b8",
   "metadata": {},
   "outputs": [
    {
     "data": {
      "text/plain": [
       "start         2024-07-22\n",
       "end           2025-01-20\n",
       "buy      42595050.233026\n",
       "sell     26775689.767283\n",
       "value         13528500.0\n",
       "ugl      -2290860.465743\n",
       "roi            -0.053782\n",
       "dtype: object"
      ]
     },
     "execution_count": 22,
     "metadata": {},
     "output_type": "execute_result"
    }
   ],
   "source": [
    "date = None\n",
    "res = pf_mmt.valuate(date, print_msg=False)\n",
    "#_ = [print(x, end=', ') for x in res]\n",
    "res"
   ]
  },
  {
   "cell_type": "code",
   "execution_count": 24,
   "id": "5408a14b-45f4-4fd6-ba81-83ca613f138e",
   "metadata": {},
   "outputs": [],
   "source": [
    "from numbers import Number"
   ]
  },
  {
   "cell_type": "code",
   "execution_count": 28,
   "id": "a3caf3b5-cd67-410e-8219-85148fdee6d1",
   "metadata": {},
   "outputs": [
    {
     "data": {
      "text/plain": [
       "start    2024-07-22\n",
       "end      2025-01-20\n",
       "buy      42,595,050\n",
       "sell     26,775,690\n",
       "value    13,528,500\n",
       "ugl      -2,290,860\n",
       "roi       -0.053782\n",
       "dtype: object"
      ]
     },
     "execution_count": 28,
     "metadata": {},
     "output_type": "execute_result"
    }
   ],
   "source": [
    "res.map(lambda x: f'{round(x):,}' if isinstance(x, Number) and abs(x) > 1000 else x)"
   ]
  },
  {
   "cell_type": "code",
   "execution_count": 23,
   "id": "ff8e778d-a780-492a-9a14-945deb966e74",
   "metadata": {},
   "outputs": [
    {
     "data": {
      "application/vnd.jupyter.widget-view+json": {
       "model_id": "a5961e0cc88b451591b393cb69d26c19",
       "version_major": 2,
       "version_minor": 0
      },
      "text/plain": [
       "VBox(children=(DatePicker(value=None, layout=Layout(width='200px'), step=1), IntSlider(value=0, continuous_upd…"
      ]
     },
     "execution_count": 23,
     "metadata": {},
     "output_type": "execute_result"
    }
   ],
   "source": [
    "# set kwargs of transaction_pipeline\n",
    "WidgetTransaction"
   ]
  },
  {
   "cell_type": "code",
   "execution_count": 111,
   "id": "14f9ea03-bbf3-4335-85fa-22737ba5c920",
   "metadata": {},
   "outputs": [
    {
     "name": "stdout",
     "output_type": "stream",
     "text": [
      "Liquidation set to None\n",
      "5 tickers selected by Total return from 2024-01-09 to 2025-01-09\n",
      "Weights of tickers determined by Equal weights.\n",
      "New cash inflows of 3,000,000\n",
      "Mean absolute error of weights: 6 %\n",
      "ROI: -4.4%, UGL: -1,885,000  (2025-01-16)\n",
      "All transactions saved to pf_k200_momentum_250116.csv\n",
      "WARNING: Run update_record first after editing record\n"
     ]
    }
   ],
   "source": [
    "kwargs_trs = dict(\n",
    "    date = WidgetTransaction.values(0),\n",
    "    capital = WidgetTransaction.values(1),\n",
    "    save = WidgetTransaction.values(2),\n",
    "    nshares = True\n",
    ")\n",
    "kw_liq = dict(\n",
    "    #assets_to_sell= {'489790':34500},\n",
    "    #assets_to_sell= '489790',\n",
    "    #hold= True\n",
    ")\n",
    "_ = pf_mmt.transaction_pipeline(**kwargs_trs, **kw_liq)"
   ]
  },
  {
   "cell_type": "code",
   "execution_count": 110,
   "id": "7eb2a7a6-69d3-4b89-8323-7b214cd92847",
   "metadata": {},
   "outputs": [
    {
     "data": {
      "text/html": [
       "<div>\n",
       "<style scoped>\n",
       "    .dataframe tbody tr th:only-of-type {\n",
       "        vertical-align: middle;\n",
       "    }\n",
       "\n",
       "    .dataframe tbody tr th {\n",
       "        vertical-align: top;\n",
       "    }\n",
       "\n",
       "    .dataframe thead th {\n",
       "        text-align: right;\n",
       "    }\n",
       "</style>\n",
       "<table border=\"1\" class=\"dataframe\">\n",
       "  <thead>\n",
       "    <tr style=\"text-align: right;\">\n",
       "      <th></th>\n",
       "      <th></th>\n",
       "      <th>name</th>\n",
       "      <th>price</th>\n",
       "      <th>transaction</th>\n",
       "      <th>net</th>\n",
       "      <th>weight</th>\n",
       "      <th>weight*</th>\n",
       "      <th>date*</th>\n",
       "    </tr>\n",
       "    <tr>\n",
       "      <th>date</th>\n",
       "      <th>ticker</th>\n",
       "      <th></th>\n",
       "      <th></th>\n",
       "      <th></th>\n",
       "      <th></th>\n",
       "      <th></th>\n",
       "      <th></th>\n",
       "      <th></th>\n",
       "    </tr>\n",
       "  </thead>\n",
       "  <tbody>\n",
       "    <tr>\n",
       "      <th rowspan=\"8\" valign=\"top\">2024-12-16</th>\n",
       "      <th>267260</th>\n",
       "      <td>HD현대일렉트릭</td>\n",
       "      <td>389500</td>\n",
       "      <td>-1</td>\n",
       "      <td>7</td>\n",
       "      <td>0.2</td>\n",
       "      <td>0.222</td>\n",
       "      <td>2024-12-17</td>\n",
       "    </tr>\n",
       "    <tr>\n",
       "      <th>010130</th>\n",
       "      <td>고려아연</td>\n",
       "      <td>1165000</td>\n",
       "      <td>2</td>\n",
       "      <td>2</td>\n",
       "      <td>0.2</td>\n",
       "      <td>0.190</td>\n",
       "      <td>2024-12-17</td>\n",
       "    </tr>\n",
       "    <tr>\n",
       "      <th>003230</th>\n",
       "      <td>삼양식품</td>\n",
       "      <td>729000</td>\n",
       "      <td>-2</td>\n",
       "      <td>3</td>\n",
       "      <td>0.2</td>\n",
       "      <td>0.178</td>\n",
       "      <td>2024-12-17</td>\n",
       "    </tr>\n",
       "    <tr>\n",
       "      <th>000150</th>\n",
       "      <td>두산</td>\n",
       "      <td>272500</td>\n",
       "      <td>10</td>\n",
       "      <td>10</td>\n",
       "      <td>0.2</td>\n",
       "      <td>0.222</td>\n",
       "      <td>2024-12-17</td>\n",
       "    </tr>\n",
       "    <tr>\n",
       "      <th>298040</th>\n",
       "      <td>효성중공업</td>\n",
       "      <td>457999</td>\n",
       "      <td>5</td>\n",
       "      <td>5</td>\n",
       "      <td>0.2</td>\n",
       "      <td>0.187</td>\n",
       "      <td>2024-12-17</td>\n",
       "    </tr>\n",
       "    <tr>\n",
       "      <th>012450</th>\n",
       "      <td>한화에어로스페이스</td>\n",
       "      <td>307499</td>\n",
       "      <td>-7</td>\n",
       "      <td>0</td>\n",
       "      <td>0.0</td>\n",
       "      <td>0.000</td>\n",
       "      <td>2024-12-17</td>\n",
       "    </tr>\n",
       "    <tr>\n",
       "      <th>064350</th>\n",
       "      <td>현대로템</td>\n",
       "      <td>48250</td>\n",
       "      <td>-47</td>\n",
       "      <td>0</td>\n",
       "      <td>0.0</td>\n",
       "      <td>0.000</td>\n",
       "      <td>2024-12-17</td>\n",
       "    </tr>\n",
       "    <tr>\n",
       "      <th>079550</th>\n",
       "      <td>LIG넥스원</td>\n",
       "      <td>193700</td>\n",
       "      <td>-11</td>\n",
       "      <td>0</td>\n",
       "      <td>0.0</td>\n",
       "      <td>0.000</td>\n",
       "      <td>2024-12-17</td>\n",
       "    </tr>\n",
       "    <tr>\n",
       "      <th rowspan=\"7\" valign=\"top\">2025-01-16</th>\n",
       "      <th>267260</th>\n",
       "      <td>HD현대일렉트릭</td>\n",
       "      <td>417500</td>\n",
       "      <td>0</td>\n",
       "      <td>7</td>\n",
       "      <td>0.2</td>\n",
       "      <td>0.212</td>\n",
       "      <td>2025-01-16</td>\n",
       "    </tr>\n",
       "    <tr>\n",
       "      <th>003230</th>\n",
       "      <td>삼양식품</td>\n",
       "      <td>770000</td>\n",
       "      <td>0</td>\n",
       "      <td>3</td>\n",
       "      <td>0.2</td>\n",
       "      <td>0.168</td>\n",
       "      <td>2025-01-16</td>\n",
       "    </tr>\n",
       "    <tr>\n",
       "      <th>000150</th>\n",
       "      <td>두산</td>\n",
       "      <td>288000</td>\n",
       "      <td>0</td>\n",
       "      <td>10</td>\n",
       "      <td>0.2</td>\n",
       "      <td>0.209</td>\n",
       "      <td>2025-01-16</td>\n",
       "    </tr>\n",
       "    <tr>\n",
       "      <th>012450</th>\n",
       "      <td>한화에어로스페이스</td>\n",
       "      <td>394000</td>\n",
       "      <td>6</td>\n",
       "      <td>7</td>\n",
       "      <td>0.2</td>\n",
       "      <td>0.200</td>\n",
       "      <td>2025-01-16</td>\n",
       "    </tr>\n",
       "    <tr>\n",
       "      <th>010120</th>\n",
       "      <td>LS ELECTRIC</td>\n",
       "      <td>193400</td>\n",
       "      <td>15</td>\n",
       "      <td>15</td>\n",
       "      <td>0.2</td>\n",
       "      <td>0.211</td>\n",
       "      <td>2025-01-16</td>\n",
       "    </tr>\n",
       "    <tr>\n",
       "      <th>010130</th>\n",
       "      <td>고려아연</td>\n",
       "      <td>817000</td>\n",
       "      <td>-2</td>\n",
       "      <td>0</td>\n",
       "      <td>0.0</td>\n",
       "      <td>0.000</td>\n",
       "      <td>2025-01-16</td>\n",
       "    </tr>\n",
       "    <tr>\n",
       "      <th>298040</th>\n",
       "      <td>효성중공업</td>\n",
       "      <td>469000</td>\n",
       "      <td>-5</td>\n",
       "      <td>0</td>\n",
       "      <td>0.0</td>\n",
       "      <td>0.000</td>\n",
       "      <td>2025-01-16</td>\n",
       "    </tr>\n",
       "  </tbody>\n",
       "</table>\n",
       "</div>"
      ],
      "text/plain": [
       "                          name    price  transaction  net  weight  weight*  \\\n",
       "date       ticker                                                            \n",
       "2024-12-16 267260     HD현대일렉트릭   389500           -1    7     0.2    0.222   \n",
       "           010130         고려아연  1165000            2    2     0.2    0.190   \n",
       "           003230         삼양식품   729000           -2    3     0.2    0.178   \n",
       "           000150           두산   272500           10   10     0.2    0.222   \n",
       "           298040        효성중공업   457999            5    5     0.2    0.187   \n",
       "           012450    한화에어로스페이스   307499           -7    0     0.0    0.000   \n",
       "           064350         현대로템    48250          -47    0     0.0    0.000   \n",
       "           079550       LIG넥스원   193700          -11    0     0.0    0.000   \n",
       "2025-01-16 267260     HD현대일렉트릭   417500            0    7     0.2    0.212   \n",
       "           003230         삼양식품   770000            0    3     0.2    0.168   \n",
       "           000150           두산   288000            0   10     0.2    0.209   \n",
       "           012450    한화에어로스페이스   394000            6    7     0.2    0.200   \n",
       "           010120  LS ELECTRIC   193400           15   15     0.2    0.211   \n",
       "           010130         고려아연   817000           -2    0     0.0    0.000   \n",
       "           298040        효성중공업   469000           -5    0     0.0    0.000   \n",
       "\n",
       "                       date*  \n",
       "date       ticker             \n",
       "2024-12-16 267260 2024-12-17  \n",
       "           010130 2024-12-17  \n",
       "           003230 2024-12-17  \n",
       "           000150 2024-12-17  \n",
       "           298040 2024-12-17  \n",
       "           012450 2024-12-17  \n",
       "           064350 2024-12-17  \n",
       "           079550 2024-12-17  \n",
       "2025-01-16 267260 2025-01-16  \n",
       "           003230 2025-01-16  \n",
       "           000150 2025-01-16  \n",
       "           012450 2025-01-16  \n",
       "           010120 2025-01-16  \n",
       "           010130 2025-01-16  \n",
       "           298040 2025-01-16  "
      ]
     },
     "execution_count": 110,
     "metadata": {},
     "output_type": "execute_result"
    }
   ],
   "source": [
    "pf_mmt.view_record(-2, nshares=True)"
   ]
  },
  {
   "cell_type": "markdown",
   "id": "b8bdce11-c4c7-44dc-bd39-7020450d238d",
   "metadata": {},
   "source": [
    "## KRX\n",
    "*simulation*"
   ]
  },
  {
   "cell_type": "code",
   "execution_count": 48,
   "id": "f52f67b4-a419-43aa-a73b-51683be085fc",
   "metadata": {},
   "outputs": [
    {
     "name": "stdout",
     "output_type": "stream",
     "text": [
      "2712 securities from 2019-01-02 to 2024-10-08 uploaded.\n",
      "WARNING: 10 tickers not exist in the universe\n",
      "Price data loaded\n",
      "Cost data transaction_cost_241217.csv loaded\n",
      "WARNING: no record test_pf_krx_momentum*.csv exists\n",
      "REMINDER: make sure this is 1st transaction as no records provided\n"
     ]
    }
   ],
   "source": [
    "pf_krx = PM.create_portfolio('KRX', **kw_cost)"
   ]
  },
  {
   "cell_type": "code",
   "execution_count": 20,
   "id": "6d9021e8-73ca-4572-a2dc-e582f517a598",
   "metadata": {},
   "outputs": [
    {
     "name": "stdout",
     "output_type": "stream",
     "text": [
      "No transaction record imported\n"
     ]
    }
   ],
   "source": [
    "pf_krx.view_record(-2)"
   ]
  },
  {
   "cell_type": "code",
   "execution_count": 21,
   "id": "6a0696b3-0980-4f77-9c7d-acd7279e11f8",
   "metadata": {},
   "outputs": [],
   "source": [
    "pf_krx.valuate()"
   ]
  },
  {
   "cell_type": "code",
   "execution_count": 22,
   "id": "9c8dedc8-a17e-42a8-9d2b-46f7c5961f18",
   "metadata": {},
   "outputs": [
    {
     "data": {
      "application/vnd.jupyter.widget-view+json": {
       "model_id": "be023603c1aa4536899ad155a218b8db",
       "version_major": 2,
       "version_minor": 0
      },
      "text/plain": [
       "VBox(children=(DatePicker(value=None, layout=Layout(width='200px'), step=1), IntSlider(value=0, continuous_upd…"
      ]
     },
     "execution_count": 22,
     "metadata": {},
     "output_type": "execute_result"
    }
   ],
   "source": [
    "# set kwargs of transaction_pipeline\n",
    "WidgetTransaction"
   ]
  },
  {
   "cell_type": "code",
   "execution_count": 23,
   "id": "ea55973a-431b-4796-9603-f8dfe28f140d",
   "metadata": {},
   "outputs": [
    {
     "name": "stdout",
     "output_type": "stream",
     "text": [
      "Liquidation set to None\n",
      "5 tickers selected by Total return from 2023-08-02 to 2024-08-02\n",
      "WARNING: No record loaded\n",
      "Weights of tickers determined by Equal weights.\n",
      "Mean absolute error of weights: 1 %\n",
      "ROI: -3.7%, UGL: -364,000  (2024-10-08)\n",
      "Set save=True to save transaction record\n"
     ]
    },
    {
     "data": {
      "text/html": [
       "<div>\n",
       "<style scoped>\n",
       "    .dataframe tbody tr th:only-of-type {\n",
       "        vertical-align: middle;\n",
       "    }\n",
       "\n",
       "    .dataframe tbody tr th {\n",
       "        vertical-align: top;\n",
       "    }\n",
       "\n",
       "    .dataframe thead th {\n",
       "        text-align: right;\n",
       "    }\n",
       "</style>\n",
       "<table border=\"1\" class=\"dataframe\">\n",
       "  <thead>\n",
       "    <tr style=\"text-align: right;\">\n",
       "      <th></th>\n",
       "      <th></th>\n",
       "      <th>name</th>\n",
       "      <th>ratio</th>\n",
       "      <th>transaction</th>\n",
       "      <th>net</th>\n",
       "      <th>weight</th>\n",
       "      <th>weight*</th>\n",
       "      <th>date*</th>\n",
       "    </tr>\n",
       "    <tr>\n",
       "      <th>date</th>\n",
       "      <th>ticker</th>\n",
       "      <th></th>\n",
       "      <th></th>\n",
       "      <th></th>\n",
       "      <th></th>\n",
       "      <th></th>\n",
       "      <th></th>\n",
       "      <th></th>\n",
       "    </tr>\n",
       "  </thead>\n",
       "  <tbody>\n",
       "    <tr>\n",
       "      <th rowspan=\"5\" valign=\"top\">2024-09-02</th>\n",
       "      <th>078860</th>\n",
       "      <td>엔에스이엔엠</td>\n",
       "      <td>1</td>\n",
       "      <td>1998150</td>\n",
       "      <td>1998150</td>\n",
       "      <td>0.2</td>\n",
       "      <td>0.201</td>\n",
       "      <td>2024-09-02</td>\n",
       "    </tr>\n",
       "    <tr>\n",
       "      <th>016670</th>\n",
       "      <td>디모아</td>\n",
       "      <td>1</td>\n",
       "      <td>1996800</td>\n",
       "      <td>1996800</td>\n",
       "      <td>0.2</td>\n",
       "      <td>0.201</td>\n",
       "      <td>2024-09-02</td>\n",
       "    </tr>\n",
       "    <tr>\n",
       "      <th>033790</th>\n",
       "      <td>피노</td>\n",
       "      <td>1</td>\n",
       "      <td>1996750</td>\n",
       "      <td>1996750</td>\n",
       "      <td>0.2</td>\n",
       "      <td>0.201</td>\n",
       "      <td>2024-09-02</td>\n",
       "    </tr>\n",
       "    <tr>\n",
       "      <th>159910</th>\n",
       "      <td>스킨앤스킨</td>\n",
       "      <td>1</td>\n",
       "      <td>1999880</td>\n",
       "      <td>1999880</td>\n",
       "      <td>0.2</td>\n",
       "      <td>0.202</td>\n",
       "      <td>2024-09-02</td>\n",
       "    </tr>\n",
       "    <tr>\n",
       "      <th>196170</th>\n",
       "      <td>알테오젠</td>\n",
       "      <td>1</td>\n",
       "      <td>1932000</td>\n",
       "      <td>1932000</td>\n",
       "      <td>0.2</td>\n",
       "      <td>0.195</td>\n",
       "      <td>2024-09-02</td>\n",
       "    </tr>\n",
       "  </tbody>\n",
       "</table>\n",
       "</div>"
      ],
      "text/plain": [
       "                     name  ratio  transaction      net  weight  weight*  \\\n",
       "date       ticker                                                         \n",
       "2024-09-02 078860  엔에스이엔엠      1      1998150  1998150     0.2    0.201   \n",
       "           016670     디모아      1      1996800  1996800     0.2    0.201   \n",
       "           033790      피노      1      1996750  1996750     0.2    0.201   \n",
       "           159910   스킨앤스킨      1      1999880  1999880     0.2    0.202   \n",
       "           196170    알테오젠      1      1932000  1932000     0.2    0.195   \n",
       "\n",
       "                       date*  \n",
       "date       ticker             \n",
       "2024-09-02 078860 2024-09-02  \n",
       "           016670 2024-09-02  \n",
       "           033790 2024-09-02  \n",
       "           159910 2024-09-02  \n",
       "           196170 2024-09-02  "
      ]
     },
     "execution_count": 23,
     "metadata": {},
     "output_type": "execute_result"
    }
   ],
   "source": [
    "kwargs_trs = dict(\n",
    "    date = WidgetTransaction.values(0),\n",
    "    capital = WidgetTransaction.values(1),\n",
    "    save = WidgetTransaction.values(2),\n",
    "    nshares=True\n",
    ")\n",
    "\n",
    "_ = pf_krx.transaction_pipeline(**kwargs_trs)\n",
    "pf_krx.view_record(-2)"
   ]
  },
  {
   "cell_type": "markdown",
   "id": "819496ef-539e-45bb-a0cc-b2b968b6f76e",
   "metadata": {},
   "source": [
    "## PER"
   ]
  },
  {
   "cell_type": "code",
   "execution_count": 10,
   "id": "7b89e9ae-4237-44c8-99f3-5069eec7fa63",
   "metadata": {},
   "outputs": [
    {
     "name": "stdout",
     "output_type": "stream",
     "text": [
      "Financial ratios of 200 stocks from 2023-01-02 to 2025-01-03 loaded\n"
     ]
    }
   ],
   "source": [
    "file = 'kospi200_ratios.csv'\n",
    "df_ratio = FinancialRatios.util_get_ratio('PER', file, path_data)"
   ]
  },
  {
   "cell_type": "code",
   "execution_count": 11,
   "id": "4292bb7e-83e5-4b1f-bd4a-69029b9339c8",
   "metadata": {},
   "outputs": [
    {
     "name": "stdout",
     "output_type": "stream",
     "text": [
      "200 securities from 2022-01-03 to 2025-01-16 uploaded.\n",
      "Price data loaded\n",
      "Cost data transaction_cost_241217.csv loaded\n",
      "Transaction record to 2024-11-11 loaded\n"
     ]
    }
   ],
   "source": [
    "pf_per = PM.create_portfolio('PER_2410', df_additional=df_ratio, **kw_cost)"
   ]
  },
  {
   "cell_type": "code",
   "execution_count": 12,
   "id": "96975148-ae7b-4cd8-86b0-9a748ba28d5f",
   "metadata": {},
   "outputs": [],
   "source": [
    "#pf_per.portfolio_data"
   ]
  },
  {
   "cell_type": "code",
   "execution_count": 13,
   "id": "77027256-82a9-4fd7-89ed-b854710eae4f",
   "metadata": {},
   "outputs": [
    {
     "data": {
      "text/html": [
       "<div>\n",
       "<style scoped>\n",
       "    .dataframe tbody tr th:only-of-type {\n",
       "        vertical-align: middle;\n",
       "    }\n",
       "\n",
       "    .dataframe tbody tr th {\n",
       "        vertical-align: top;\n",
       "    }\n",
       "\n",
       "    .dataframe thead th {\n",
       "        text-align: right;\n",
       "    }\n",
       "</style>\n",
       "<table border=\"1\" class=\"dataframe\">\n",
       "  <thead>\n",
       "    <tr style=\"text-align: right;\">\n",
       "      <th></th>\n",
       "      <th></th>\n",
       "      <th>name</th>\n",
       "      <th>ratio</th>\n",
       "      <th>transaction</th>\n",
       "      <th>net</th>\n",
       "      <th>weight</th>\n",
       "      <th>weight*</th>\n",
       "      <th>date*</th>\n",
       "    </tr>\n",
       "    <tr>\n",
       "      <th>date</th>\n",
       "      <th>ticker</th>\n",
       "      <th></th>\n",
       "      <th></th>\n",
       "      <th></th>\n",
       "      <th></th>\n",
       "      <th></th>\n",
       "      <th></th>\n",
       "      <th></th>\n",
       "    </tr>\n",
       "  </thead>\n",
       "  <tbody>\n",
       "    <tr>\n",
       "      <th rowspan=\"5\" valign=\"top\">2024-10-17</th>\n",
       "      <th>010060</th>\n",
       "      <td>OCI홀딩스</td>\n",
       "      <td>0.992504</td>\n",
       "      <td>933800</td>\n",
       "      <td>933800</td>\n",
       "      <td>0.20</td>\n",
       "      <td>0.189</td>\n",
       "      <td>2024-10-17</td>\n",
       "    </tr>\n",
       "    <tr>\n",
       "      <th>003030</th>\n",
       "      <td>세아제강지주</td>\n",
       "      <td>0.995439</td>\n",
       "      <td>986700</td>\n",
       "      <td>986700</td>\n",
       "      <td>0.20</td>\n",
       "      <td>0.200</td>\n",
       "      <td>2024-10-17</td>\n",
       "    </tr>\n",
       "    <tr>\n",
       "      <th>009970</th>\n",
       "      <td>영원무역홀딩스</td>\n",
       "      <td>1.006742</td>\n",
       "      <td>979000</td>\n",
       "      <td>979000</td>\n",
       "      <td>0.20</td>\n",
       "      <td>0.198</td>\n",
       "      <td>2024-10-17</td>\n",
       "    </tr>\n",
       "    <tr>\n",
       "      <th>016380</th>\n",
       "      <td>KG스틸</td>\n",
       "      <td>0.986364</td>\n",
       "      <td>1016400</td>\n",
       "      <td>1016400</td>\n",
       "      <td>0.20</td>\n",
       "      <td>0.206</td>\n",
       "      <td>2024-10-17</td>\n",
       "    </tr>\n",
       "    <tr>\n",
       "      <th>047040</th>\n",
       "      <td>대우건설</td>\n",
       "      <td>1.000000</td>\n",
       "      <td>1019940</td>\n",
       "      <td>1019940</td>\n",
       "      <td>0.20</td>\n",
       "      <td>0.207</td>\n",
       "      <td>2024-10-17</td>\n",
       "    </tr>\n",
       "    <tr>\n",
       "      <th rowspan=\"20\" valign=\"top\">2024-11-11</th>\n",
       "      <th>010060</th>\n",
       "      <td>OCI홀딩스</td>\n",
       "      <td>1.006689</td>\n",
       "      <td>-358800</td>\n",
       "      <td>478400</td>\n",
       "      <td>0.05</td>\n",
       "      <td>0.050</td>\n",
       "      <td>2024-11-11</td>\n",
       "    </tr>\n",
       "    <tr>\n",
       "      <th>003030</th>\n",
       "      <td>세아제강지주</td>\n",
       "      <td>0.994309</td>\n",
       "      <td>-773200</td>\n",
       "      <td>386600</td>\n",
       "      <td>0.05</td>\n",
       "      <td>0.040</td>\n",
       "      <td>2024-11-11</td>\n",
       "    </tr>\n",
       "    <tr>\n",
       "      <th>009970</th>\n",
       "      <td>영원무역홀딩스</td>\n",
       "      <td>0.997666</td>\n",
       "      <td>-514200</td>\n",
       "      <td>428500</td>\n",
       "      <td>0.05</td>\n",
       "      <td>0.045</td>\n",
       "      <td>2024-11-11</td>\n",
       "    </tr>\n",
       "    <tr>\n",
       "      <th>016380</th>\n",
       "      <td>KG스틸</td>\n",
       "      <td>1.001517</td>\n",
       "      <td>-514020</td>\n",
       "      <td>500840</td>\n",
       "      <td>0.05</td>\n",
       "      <td>0.052</td>\n",
       "      <td>2024-11-11</td>\n",
       "    </tr>\n",
       "    <tr>\n",
       "      <th>047040</th>\n",
       "      <td>대우건설</td>\n",
       "      <td>0.993122</td>\n",
       "      <td>-461645</td>\n",
       "      <td>508900</td>\n",
       "      <td>0.05</td>\n",
       "      <td>0.053</td>\n",
       "      <td>2024-11-11</td>\n",
       "    </tr>\n",
       "    <tr>\n",
       "      <th>088350</th>\n",
       "      <td>한화생명</td>\n",
       "      <td>1.001745</td>\n",
       "      <td>515700</td>\n",
       "      <td>515700</td>\n",
       "      <td>0.05</td>\n",
       "      <td>0.054</td>\n",
       "      <td>2024-11-11</td>\n",
       "    </tr>\n",
       "    <tr>\n",
       "      <th>078930</th>\n",
       "      <td>GS</td>\n",
       "      <td>1.002404</td>\n",
       "      <td>499200</td>\n",
       "      <td>499200</td>\n",
       "      <td>0.05</td>\n",
       "      <td>0.052</td>\n",
       "      <td>2024-11-11</td>\n",
       "    </tr>\n",
       "    <tr>\n",
       "      <th>111770</th>\n",
       "      <td>영원무역</td>\n",
       "      <td>0.996264</td>\n",
       "      <td>481800</td>\n",
       "      <td>481800</td>\n",
       "      <td>0.05</td>\n",
       "      <td>0.050</td>\n",
       "      <td>2024-11-11</td>\n",
       "    </tr>\n",
       "    <tr>\n",
       "      <th>139130</th>\n",
       "      <td>DGB금융지주</td>\n",
       "      <td>1.004848</td>\n",
       "      <td>519750</td>\n",
       "      <td>519750</td>\n",
       "      <td>0.05</td>\n",
       "      <td>0.054</td>\n",
       "      <td>2024-11-11</td>\n",
       "    </tr>\n",
       "    <tr>\n",
       "      <th>005830</th>\n",
       "      <td>DB손해보험</td>\n",
       "      <td>1.016838</td>\n",
       "      <td>427600</td>\n",
       "      <td>427600</td>\n",
       "      <td>0.05</td>\n",
       "      <td>0.044</td>\n",
       "      <td>2024-11-11</td>\n",
       "    </tr>\n",
       "    <tr>\n",
       "      <th>001450</th>\n",
       "      <td>현대해상</td>\n",
       "      <td>1.000000</td>\n",
       "      <td>505750</td>\n",
       "      <td>505750</td>\n",
       "      <td>0.05</td>\n",
       "      <td>0.053</td>\n",
       "      <td>2024-11-11</td>\n",
       "    </tr>\n",
       "    <tr>\n",
       "      <th>009900</th>\n",
       "      <td>명신산업</td>\n",
       "      <td>1.008715</td>\n",
       "      <td>495720</td>\n",
       "      <td>495720</td>\n",
       "      <td>0.05</td>\n",
       "      <td>0.052</td>\n",
       "      <td>2024-11-11</td>\n",
       "    </tr>\n",
       "    <tr>\n",
       "      <th>241560</th>\n",
       "      <td>두산밥캣</td>\n",
       "      <td>0.995000</td>\n",
       "      <td>520000</td>\n",
       "      <td>520000</td>\n",
       "      <td>0.05</td>\n",
       "      <td>0.054</td>\n",
       "      <td>2024-11-11</td>\n",
       "    </tr>\n",
       "    <tr>\n",
       "      <th>000270</th>\n",
       "      <td>기아</td>\n",
       "      <td>1.010684</td>\n",
       "      <td>468000</td>\n",
       "      <td>468000</td>\n",
       "      <td>0.05</td>\n",
       "      <td>0.049</td>\n",
       "      <td>2024-11-11</td>\n",
       "    </tr>\n",
       "    <tr>\n",
       "      <th>024110</th>\n",
       "      <td>기업은행</td>\n",
       "      <td>1.002059</td>\n",
       "      <td>509950</td>\n",
       "      <td>509950</td>\n",
       "      <td>0.05</td>\n",
       "      <td>0.053</td>\n",
       "      <td>2024-11-11</td>\n",
       "    </tr>\n",
       "    <tr>\n",
       "      <th>005850</th>\n",
       "      <td>에스엘</td>\n",
       "      <td>1.014354</td>\n",
       "      <td>501600</td>\n",
       "      <td>501600</td>\n",
       "      <td>0.05</td>\n",
       "      <td>0.052</td>\n",
       "      <td>2024-11-11</td>\n",
       "    </tr>\n",
       "    <tr>\n",
       "      <th>316140</th>\n",
       "      <td>우리금융지주</td>\n",
       "      <td>1.001244</td>\n",
       "      <td>514560</td>\n",
       "      <td>514560</td>\n",
       "      <td>0.05</td>\n",
       "      <td>0.054</td>\n",
       "      <td>2024-11-11</td>\n",
       "    </tr>\n",
       "    <tr>\n",
       "      <th>138930</th>\n",
       "      <td>BNK금융지주</td>\n",
       "      <td>1.003181</td>\n",
       "      <td>518650</td>\n",
       "      <td>518650</td>\n",
       "      <td>0.05</td>\n",
       "      <td>0.054</td>\n",
       "      <td>2024-11-11</td>\n",
       "    </tr>\n",
       "    <tr>\n",
       "      <th>005380</th>\n",
       "      <td>현대차</td>\n",
       "      <td>1.007160</td>\n",
       "      <td>419000</td>\n",
       "      <td>419000</td>\n",
       "      <td>0.05</td>\n",
       "      <td>0.044</td>\n",
       "      <td>2024-11-11</td>\n",
       "    </tr>\n",
       "    <tr>\n",
       "      <th>017800</th>\n",
       "      <td>현대엘리베이</td>\n",
       "      <td>1.084233</td>\n",
       "      <td>416700</td>\n",
       "      <td>416700</td>\n",
       "      <td>0.05</td>\n",
       "      <td>0.043</td>\n",
       "      <td>2024-11-11</td>\n",
       "    </tr>\n",
       "  </tbody>\n",
       "</table>\n",
       "</div>"
      ],
      "text/plain": [
       "                      name     ratio  transaction      net  weight  weight*  \\\n",
       "date       ticker                                                             \n",
       "2024-10-17 010060   OCI홀딩스  0.992504       933800   933800    0.20    0.189   \n",
       "           003030   세아제강지주  0.995439       986700   986700    0.20    0.200   \n",
       "           009970  영원무역홀딩스  1.006742       979000   979000    0.20    0.198   \n",
       "           016380     KG스틸  0.986364      1016400  1016400    0.20    0.206   \n",
       "           047040     대우건설  1.000000      1019940  1019940    0.20    0.207   \n",
       "2024-11-11 010060   OCI홀딩스  1.006689      -358800   478400    0.05    0.050   \n",
       "           003030   세아제강지주  0.994309      -773200   386600    0.05    0.040   \n",
       "           009970  영원무역홀딩스  0.997666      -514200   428500    0.05    0.045   \n",
       "           016380     KG스틸  1.001517      -514020   500840    0.05    0.052   \n",
       "           047040     대우건설  0.993122      -461645   508900    0.05    0.053   \n",
       "           088350     한화생명  1.001745       515700   515700    0.05    0.054   \n",
       "           078930       GS  1.002404       499200   499200    0.05    0.052   \n",
       "           111770     영원무역  0.996264       481800   481800    0.05    0.050   \n",
       "           139130  DGB금융지주  1.004848       519750   519750    0.05    0.054   \n",
       "           005830   DB손해보험  1.016838       427600   427600    0.05    0.044   \n",
       "           001450     현대해상  1.000000       505750   505750    0.05    0.053   \n",
       "           009900     명신산업  1.008715       495720   495720    0.05    0.052   \n",
       "           241560     두산밥캣  0.995000       520000   520000    0.05    0.054   \n",
       "           000270       기아  1.010684       468000   468000    0.05    0.049   \n",
       "           024110     기업은행  1.002059       509950   509950    0.05    0.053   \n",
       "           005850      에스엘  1.014354       501600   501600    0.05    0.052   \n",
       "           316140   우리금융지주  1.001244       514560   514560    0.05    0.054   \n",
       "           138930  BNK금융지주  1.003181       518650   518650    0.05    0.054   \n",
       "           005380      현대차  1.007160       419000   419000    0.05    0.044   \n",
       "           017800   현대엘리베이  1.084233       416700   416700    0.05    0.043   \n",
       "\n",
       "                       date*  \n",
       "date       ticker             \n",
       "2024-10-17 010060 2024-10-17  \n",
       "           003030 2024-10-17  \n",
       "           009970 2024-10-17  \n",
       "           016380 2024-10-17  \n",
       "           047040 2024-10-17  \n",
       "2024-11-11 010060 2024-11-11  \n",
       "           003030 2024-11-11  \n",
       "           009970 2024-11-11  \n",
       "           016380 2024-11-11  \n",
       "           047040 2024-11-11  \n",
       "           088350 2024-11-11  \n",
       "           078930 2024-11-11  \n",
       "           111770 2024-11-11  \n",
       "           139130 2024-11-11  \n",
       "           005830 2024-11-11  \n",
       "           001450 2024-11-11  \n",
       "           009900 2024-11-11  \n",
       "           241560 2024-11-11  \n",
       "           000270 2024-11-11  \n",
       "           024110 2024-11-11  \n",
       "           005850 2024-11-11  \n",
       "           316140 2024-11-11  \n",
       "           138930 2024-11-11  \n",
       "           005380 2024-11-11  \n",
       "           017800 2024-11-11  "
      ]
     },
     "execution_count": 13,
     "metadata": {},
     "output_type": "execute_result"
    }
   ],
   "source": [
    "pf_per.view_record(-2)"
   ]
  },
  {
   "cell_type": "code",
   "execution_count": 14,
   "id": "1d6603f5-646d-4336-8a98-a23b0c7337e0",
   "metadata": {},
   "outputs": [
    {
     "data": {
      "text/plain": [
       "buy      1.225027e+07\n",
       "sell     2.617050e+06\n",
       "value    9.838570e+06\n",
       "ugl      2.053544e+05\n",
       "roi      1.676326e-02\n",
       "Name: 2025-01-16 00:00:00, dtype: float64"
      ]
     },
     "execution_count": 14,
     "metadata": {},
     "output_type": "execute_result"
    }
   ],
   "source": [
    "pf_per.valuate()"
   ]
  },
  {
   "cell_type": "code",
   "execution_count": 15,
   "id": "1ae8ab89-ee16-4831-9198-0cf36b40d258",
   "metadata": {},
   "outputs": [],
   "source": [
    "#pf_per.update_record()\n",
    "#pf_per.view_record(-2)"
   ]
  },
  {
   "cell_type": "code",
   "execution_count": 16,
   "id": "26a53806",
   "metadata": {},
   "outputs": [
    {
     "data": {
      "image/png": "[encoded data removed]",
      "text/plain": [
       "<Figure size 1000x600 with 3 Axes>"
      ]
     },
     "metadata": {},
     "output_type": "display_data"
    }
   ],
   "source": [
    "pf_per.plot()"
   ]
  },
  {
   "cell_type": "code",
   "execution_count": 17,
   "id": "f5d92ef5-2650-475f-9bf0-b19e540776c4",
   "metadata": {},
   "outputs": [
    {
     "name": "stdout",
     "output_type": "stream",
     "text": [
      "ERROR: KeyError \"['016380', '009900'] not in index\"\n"
     ]
    }
   ],
   "source": [
    "_ = pf_per.check_additional(plot=True, figsize=(10,4), legend=False)"
   ]
  },
  {
   "cell_type": "code",
   "execution_count": 18,
   "id": "55d460f4",
   "metadata": {},
   "outputs": [
    {
     "data": {
      "application/vnd.jupyter.widget-view+json": {
       "model_id": "eb30b7bb329a4b3396db831be90c78e6",
       "version_major": 2,
       "version_minor": 0
      },
      "text/plain": [
       "VBox(children=(DatePicker(value=None, layout=Layout(width='200px'), step=1), IntSlider(value=0, continuous_upd…"
      ]
     },
     "execution_count": 18,
     "metadata": {},
     "output_type": "execute_result"
    }
   ],
   "source": [
    "# set kwargs of transaction_pipeline\n",
    "WidgetTransaction"
   ]
  },
  {
   "cell_type": "code",
   "execution_count": 20,
   "id": "52665cf9",
   "metadata": {},
   "outputs": [
    {
     "name": "stdout",
     "output_type": "stream",
     "text": [
      "Liquidation set to None\n",
      "20 tickers selected by Financial Ratio from 2024-10-16 to 2024-12-16\n",
      "Weights of tickers determined by Equal weights.\n",
      "Mean absolute error of weights: 5 %\n",
      "Tickers 009900, 016380 added to universe\n",
      "Tickers 009900, 016380 added to universe\n",
      "Result from 2024-10-17 to 2025-01-16\n",
      "Set save=True to save transaction record\n"
     ]
    },
    {
     "data": {
      "text/html": [
       "<div>\n",
       "<style scoped>\n",
       "    .dataframe tbody tr th:only-of-type {\n",
       "        vertical-align: middle;\n",
       "    }\n",
       "\n",
       "    .dataframe tbody tr th {\n",
       "        vertical-align: top;\n",
       "    }\n",
       "\n",
       "    .dataframe thead th {\n",
       "        text-align: right;\n",
       "    }\n",
       "</style>\n",
       "<table border=\"1\" class=\"dataframe\">\n",
       "  <thead>\n",
       "    <tr style=\"text-align: right;\">\n",
       "      <th></th>\n",
       "      <th></th>\n",
       "      <th>name</th>\n",
       "      <th>ratio</th>\n",
       "      <th>transaction</th>\n",
       "      <th>net</th>\n",
       "      <th>weight</th>\n",
       "      <th>weight*</th>\n",
       "      <th>date*</th>\n",
       "    </tr>\n",
       "    <tr>\n",
       "      <th>date</th>\n",
       "      <th>ticker</th>\n",
       "      <th></th>\n",
       "      <th></th>\n",
       "      <th></th>\n",
       "      <th></th>\n",
       "      <th></th>\n",
       "      <th></th>\n",
       "      <th></th>\n",
       "    </tr>\n",
       "  </thead>\n",
       "  <tbody>\n",
       "    <tr>\n",
       "      <th rowspan=\"23\" valign=\"top\">2024-12-16</th>\n",
       "      <th>010060</th>\n",
       "      <td>OCI홀딩스</td>\n",
       "      <td>1.0</td>\n",
       "      <td>-64100</td>\n",
       "      <td>448700</td>\n",
       "      <td>0.05</td>\n",
       "      <td>0.049</td>\n",
       "      <td>2024-12-16</td>\n",
       "    </tr>\n",
       "    <tr>\n",
       "      <th>003030</th>\n",
       "      <td>세아제강지주</td>\n",
       "      <td>1.0</td>\n",
       "      <td>0</td>\n",
       "      <td>359200</td>\n",
       "      <td>0.05</td>\n",
       "      <td>0.039</td>\n",
       "      <td>2024-12-16</td>\n",
       "    </tr>\n",
       "    <tr>\n",
       "      <th>009970</th>\n",
       "      <td>영원무역홀딩스</td>\n",
       "      <td>1.0</td>\n",
       "      <td>0</td>\n",
       "      <td>416500</td>\n",
       "      <td>0.05</td>\n",
       "      <td>0.045</td>\n",
       "      <td>2024-12-16</td>\n",
       "    </tr>\n",
       "    <tr>\n",
       "      <th>047040</th>\n",
       "      <td>대우건설</td>\n",
       "      <td>1.0</td>\n",
       "      <td>10110</td>\n",
       "      <td>481910</td>\n",
       "      <td>0.05</td>\n",
       "      <td>0.053</td>\n",
       "      <td>2024-12-16</td>\n",
       "    </tr>\n",
       "    <tr>\n",
       "      <th>088350</th>\n",
       "      <td>한화생명</td>\n",
       "      <td>1.0</td>\n",
       "      <td>15570</td>\n",
       "      <td>482670</td>\n",
       "      <td>0.05</td>\n",
       "      <td>0.053</td>\n",
       "      <td>2024-12-16</td>\n",
       "    </tr>\n",
       "    <tr>\n",
       "      <th>078930</th>\n",
       "      <td>GS</td>\n",
       "      <td>1.0</td>\n",
       "      <td>0</td>\n",
       "      <td>483600</td>\n",
       "      <td>0.05</td>\n",
       "      <td>0.053</td>\n",
       "      <td>2024-12-16</td>\n",
       "    </tr>\n",
       "    <tr>\n",
       "      <th>111770</th>\n",
       "      <td>영원무역</td>\n",
       "      <td>1.0</td>\n",
       "      <td>-41600</td>\n",
       "      <td>457600</td>\n",
       "      <td>0.05</td>\n",
       "      <td>0.050</td>\n",
       "      <td>2024-12-16</td>\n",
       "    </tr>\n",
       "    <tr>\n",
       "      <th>005830</th>\n",
       "      <td>DB손해보험</td>\n",
       "      <td>1.0</td>\n",
       "      <td>0</td>\n",
       "      <td>412000</td>\n",
       "      <td>0.05</td>\n",
       "      <td>0.045</td>\n",
       "      <td>2024-12-16</td>\n",
       "    </tr>\n",
       "    <tr>\n",
       "      <th>001450</th>\n",
       "      <td>현대해상</td>\n",
       "      <td>1.0</td>\n",
       "      <td>26400</td>\n",
       "      <td>475200</td>\n",
       "      <td>0.05</td>\n",
       "      <td>0.052</td>\n",
       "      <td>2024-12-16</td>\n",
       "    </tr>\n",
       "    <tr>\n",
       "      <th>139130</th>\n",
       "      <td>DGB금융지주</td>\n",
       "      <td>1.0</td>\n",
       "      <td>-69840</td>\n",
       "      <td>480150</td>\n",
       "      <td>0.05</td>\n",
       "      <td>0.052</td>\n",
       "      <td>2024-12-16</td>\n",
       "    </tr>\n",
       "    <tr>\n",
       "      <th>000270</th>\n",
       "      <td>기아</td>\n",
       "      <td>1.0</td>\n",
       "      <td>0</td>\n",
       "      <td>476500</td>\n",
       "      <td>0.05</td>\n",
       "      <td>0.052</td>\n",
       "      <td>2024-12-16</td>\n",
       "    </tr>\n",
       "    <tr>\n",
       "      <th>241560</th>\n",
       "      <td>두산밥캣</td>\n",
       "      <td>1.0</td>\n",
       "      <td>-83100</td>\n",
       "      <td>457050</td>\n",
       "      <td>0.05</td>\n",
       "      <td>0.050</td>\n",
       "      <td>2024-12-16</td>\n",
       "    </tr>\n",
       "    <tr>\n",
       "      <th>005850</th>\n",
       "      <td>에스엘</td>\n",
       "      <td>1.0</td>\n",
       "      <td>-31100</td>\n",
       "      <td>466500</td>\n",
       "      <td>0.05</td>\n",
       "      <td>0.051</td>\n",
       "      <td>2024-12-16</td>\n",
       "    </tr>\n",
       "    <tr>\n",
       "      <th>024110</th>\n",
       "      <td>기업은행</td>\n",
       "      <td>1.0</td>\n",
       "      <td>-29220</td>\n",
       "      <td>482130</td>\n",
       "      <td>0.05</td>\n",
       "      <td>0.053</td>\n",
       "      <td>2024-12-16</td>\n",
       "    </tr>\n",
       "    <tr>\n",
       "      <th>028050</th>\n",
       "      <td>삼성E&amp;A</td>\n",
       "      <td>1.0</td>\n",
       "      <td>477900</td>\n",
       "      <td>477900</td>\n",
       "      <td>0.05</td>\n",
       "      <td>0.052</td>\n",
       "      <td>2024-12-16</td>\n",
       "    </tr>\n",
       "    <tr>\n",
       "      <th>005380</th>\n",
       "      <td>현대차</td>\n",
       "      <td>1.0</td>\n",
       "      <td>0</td>\n",
       "      <td>422000</td>\n",
       "      <td>0.05</td>\n",
       "      <td>0.046</td>\n",
       "      <td>2024-12-16</td>\n",
       "    </tr>\n",
       "    <tr>\n",
       "      <th>383220</th>\n",
       "      <td>F&amp;F</td>\n",
       "      <td>1.0</td>\n",
       "      <td>473400</td>\n",
       "      <td>473400</td>\n",
       "      <td>0.05</td>\n",
       "      <td>0.052</td>\n",
       "      <td>2024-12-16</td>\n",
       "    </tr>\n",
       "    <tr>\n",
       "      <th>316140</th>\n",
       "      <td>우리금융지주</td>\n",
       "      <td>1.0</td>\n",
       "      <td>-31340</td>\n",
       "      <td>470100</td>\n",
       "      <td>0.05</td>\n",
       "      <td>0.051</td>\n",
       "      <td>2024-12-16</td>\n",
       "    </tr>\n",
       "    <tr>\n",
       "      <th>105630</th>\n",
       "      <td>한세실업</td>\n",
       "      <td>1.0</td>\n",
       "      <td>479060</td>\n",
       "      <td>479060</td>\n",
       "      <td>0.05</td>\n",
       "      <td>0.052</td>\n",
       "      <td>2024-12-16</td>\n",
       "    </tr>\n",
       "    <tr>\n",
       "      <th>138930</th>\n",
       "      <td>BNK금융지주</td>\n",
       "      <td>1.0</td>\n",
       "      <td>-132840</td>\n",
       "      <td>476010</td>\n",
       "      <td>0.05</td>\n",
       "      <td>0.052</td>\n",
       "      <td>2024-12-16</td>\n",
       "    </tr>\n",
       "    <tr>\n",
       "      <th>009900</th>\n",
       "      <td>NaN</td>\n",
       "      <td>1.0</td>\n",
       "      <td>-500040</td>\n",
       "      <td>0</td>\n",
       "      <td>0.00</td>\n",
       "      <td>0.000</td>\n",
       "      <td>2024-12-16</td>\n",
       "    </tr>\n",
       "    <tr>\n",
       "      <th>016380</th>\n",
       "      <td>NaN</td>\n",
       "      <td>1.0</td>\n",
       "      <td>1021811</td>\n",
       "      <td>0</td>\n",
       "      <td>0.00</td>\n",
       "      <td>0.000</td>\n",
       "      <td>2024-12-16</td>\n",
       "    </tr>\n",
       "    <tr>\n",
       "      <th>017800</th>\n",
       "      <td>현대엘리베이</td>\n",
       "      <td>1.0</td>\n",
       "      <td>-510300</td>\n",
       "      <td>0</td>\n",
       "      <td>0.00</td>\n",
       "      <td>0.000</td>\n",
       "      <td>2024-12-16</td>\n",
       "    </tr>\n",
       "  </tbody>\n",
       "</table>\n",
       "</div>"
      ],
      "text/plain": [
       "                      name  ratio  transaction     net  weight  weight*  \\\n",
       "date       ticker                                                         \n",
       "2024-12-16 010060   OCI홀딩스    1.0       -64100  448700    0.05    0.049   \n",
       "           003030   세아제강지주    1.0            0  359200    0.05    0.039   \n",
       "           009970  영원무역홀딩스    1.0            0  416500    0.05    0.045   \n",
       "           047040     대우건설    1.0        10110  481910    0.05    0.053   \n",
       "           088350     한화생명    1.0        15570  482670    0.05    0.053   \n",
       "           078930       GS    1.0            0  483600    0.05    0.053   \n",
       "           111770     영원무역    1.0       -41600  457600    0.05    0.050   \n",
       "           005830   DB손해보험    1.0            0  412000    0.05    0.045   \n",
       "           001450     현대해상    1.0        26400  475200    0.05    0.052   \n",
       "           139130  DGB금융지주    1.0       -69840  480150    0.05    0.052   \n",
       "           000270       기아    1.0            0  476500    0.05    0.052   \n",
       "           241560     두산밥캣    1.0       -83100  457050    0.05    0.050   \n",
       "           005850      에스엘    1.0       -31100  466500    0.05    0.051   \n",
       "           024110     기업은행    1.0       -29220  482130    0.05    0.053   \n",
       "           028050    삼성E&A    1.0       477900  477900    0.05    0.052   \n",
       "           005380      현대차    1.0            0  422000    0.05    0.046   \n",
       "           383220      F&F    1.0       473400  473400    0.05    0.052   \n",
       "           316140   우리금융지주    1.0       -31340  470100    0.05    0.051   \n",
       "           105630     한세실업    1.0       479060  479060    0.05    0.052   \n",
       "           138930  BNK금융지주    1.0      -132840  476010    0.05    0.052   \n",
       "           009900      NaN    1.0      -500040       0    0.00    0.000   \n",
       "           016380      NaN    1.0      1021811       0    0.00    0.000   \n",
       "           017800   현대엘리베이    1.0      -510300       0    0.00    0.000   \n",
       "\n",
       "                       date*  \n",
       "date       ticker             \n",
       "2024-12-16 010060 2024-12-16  \n",
       "           003030 2024-12-16  \n",
       "           009970 2024-12-16  \n",
       "           047040 2024-12-16  \n",
       "           088350 2024-12-16  \n",
       "           078930 2024-12-16  \n",
       "           111770 2024-12-16  \n",
       "           005830 2024-12-16  \n",
       "           001450 2024-12-16  \n",
       "           139130 2024-12-16  \n",
       "           000270 2024-12-16  \n",
       "           241560 2024-12-16  \n",
       "           005850 2024-12-16  \n",
       "           024110 2024-12-16  \n",
       "           028050 2024-12-16  \n",
       "           005380 2024-12-16  \n",
       "           383220 2024-12-16  \n",
       "           316140 2024-12-16  \n",
       "           105630 2024-12-16  \n",
       "           138930 2024-12-16  \n",
       "           009900 2024-12-16  \n",
       "           016380 2024-12-16  \n",
       "           017800 2024-12-16  "
      ]
     },
     "execution_count": 20,
     "metadata": {},
     "output_type": "execute_result"
    }
   ],
   "source": [
    "kwargs_trs = dict(\n",
    "    date = WidgetTransaction.values(0),\n",
    "    capital = WidgetTransaction.values(1),\n",
    "    save = WidgetTransaction.values(2),\n",
    "    nshares=True\n",
    ")\n",
    "\n",
    "_ = pf_per.transaction_pipeline(**kwargs_trs)\n",
    "pf_per.view_record(-1)"
   ]
  },
  {
   "cell_type": "code",
   "execution_count": 42,
   "id": "5d74a201-f15b-4912-8189-08b9a823fd5a",
   "metadata": {},
   "outputs": [],
   "source": [
    "#pf_per.update_record()"
   ]
  },
  {
   "cell_type": "markdown",
   "id": "c7cd959d-e330-4d8c-9f6b-a277b01e94f5",
   "metadata": {},
   "source": [
    "## WTR\n",
    "*modified all weather*"
   ]
  },
  {
   "cell_type": "code",
   "execution_count": 21,
   "id": "50f9b112-975e-4b42-baf9-8b813ac33723",
   "metadata": {},
   "outputs": [
    {
     "name": "stdout",
     "output_type": "stream",
     "text": [
      "6 securities from 2022-01-03 to 2025-01-06 uploaded.\n",
      "WARNING: Update price data as 933 tickers not in universe\n",
      "Price data loaded\n",
      "Cost data transaction_cost_241217.csv loaded\n",
      "Transaction record to 2024-12-18 loaded\n"
     ]
    }
   ],
   "source": [
    "#pf_wtr = PM.create_portfolio('WTR_2407', **kw_cost)\n",
    "pf_wtr = PM.create_portfolio('WTR_2412', **kw_cost) # 배현정"
   ]
  },
  {
   "cell_type": "code",
   "execution_count": 22,
   "id": "59da9e55-bdba-4322-9328-dc4c7fc9894d",
   "metadata": {},
   "outputs": [],
   "source": [
    "#pf_wtr.portfolio_data['strategy']\n",
    "pf_wtr.update_record()"
   ]
  },
  {
   "cell_type": "code",
   "execution_count": 23,
   "id": "cd707a22-14e1-4768-9b34-bd4194f608de",
   "metadata": {},
   "outputs": [
    {
     "data": {
      "text/html": [
       "<div>\n",
       "<style scoped>\n",
       "    .dataframe tbody tr th:only-of-type {\n",
       "        vertical-align: middle;\n",
       "    }\n",
       "\n",
       "    .dataframe tbody tr th {\n",
       "        vertical-align: top;\n",
       "    }\n",
       "\n",
       "    .dataframe thead th {\n",
       "        text-align: right;\n",
       "    }\n",
       "</style>\n",
       "<table border=\"1\" class=\"dataframe\">\n",
       "  <thead>\n",
       "    <tr style=\"text-align: right;\">\n",
       "      <th></th>\n",
       "      <th></th>\n",
       "      <th>name</th>\n",
       "      <th>price</th>\n",
       "      <th>transaction</th>\n",
       "      <th>net</th>\n",
       "      <th>weight</th>\n",
       "      <th>weight*</th>\n",
       "      <th>date*</th>\n",
       "    </tr>\n",
       "    <tr>\n",
       "      <th>date</th>\n",
       "      <th>ticker</th>\n",
       "      <th></th>\n",
       "      <th></th>\n",
       "      <th></th>\n",
       "      <th></th>\n",
       "      <th></th>\n",
       "      <th></th>\n",
       "      <th></th>\n",
       "    </tr>\n",
       "  </thead>\n",
       "  <tbody>\n",
       "    <tr>\n",
       "      <th rowspan=\"6\" valign=\"top\">2024-12-18</th>\n",
       "      <th>069500</th>\n",
       "      <td>KODEX 200</td>\n",
       "      <td>32419</td>\n",
       "      <td>30</td>\n",
       "      <td>30</td>\n",
       "      <td>0.1667</td>\n",
       "      <td>0.168</td>\n",
       "      <td>2024-12-19</td>\n",
       "    </tr>\n",
       "    <tr>\n",
       "      <th>379800</th>\n",
       "      <td>KODEX 미국S&amp;P500TR</td>\n",
       "      <td>19475</td>\n",
       "      <td>50</td>\n",
       "      <td>50</td>\n",
       "      <td>0.1667</td>\n",
       "      <td>0.168</td>\n",
       "      <td>2024-12-19</td>\n",
       "    </tr>\n",
       "    <tr>\n",
       "      <th>273130</th>\n",
       "      <td>KODEX 종합채권(AA-이상)액티브</td>\n",
       "      <td>116220</td>\n",
       "      <td>8</td>\n",
       "      <td>8</td>\n",
       "      <td>0.1667</td>\n",
       "      <td>0.161</td>\n",
       "      <td>2024-12-19</td>\n",
       "    </tr>\n",
       "    <tr>\n",
       "      <th>411060</th>\n",
       "      <td>ACE KRX금현물</td>\n",
       "      <td>17120</td>\n",
       "      <td>57</td>\n",
       "      <td>57</td>\n",
       "      <td>0.1667</td>\n",
       "      <td>0.169</td>\n",
       "      <td>2024-12-19</td>\n",
       "    </tr>\n",
       "    <tr>\n",
       "      <th>148070</th>\n",
       "      <td>KOSEF 국고채10년</td>\n",
       "      <td>114072</td>\n",
       "      <td>8</td>\n",
       "      <td>8</td>\n",
       "      <td>0.1667</td>\n",
       "      <td>0.163</td>\n",
       "      <td>2024-12-19</td>\n",
       "    </tr>\n",
       "    <tr>\n",
       "      <th>284430</th>\n",
       "      <td>KODEX 200미국채혼합</td>\n",
       "      <td>12810</td>\n",
       "      <td>77</td>\n",
       "      <td>77</td>\n",
       "      <td>0.1667</td>\n",
       "      <td>0.171</td>\n",
       "      <td>2024-12-19</td>\n",
       "    </tr>\n",
       "  </tbody>\n",
       "</table>\n",
       "</div>"
      ],
      "text/plain": [
       "                                   name   price  transaction  net  weight  \\\n",
       "date       ticker                                                           \n",
       "2024-12-18 069500             KODEX 200   32419           30   30  0.1667   \n",
       "           379800      KODEX 미국S&P500TR   19475           50   50  0.1667   \n",
       "           273130  KODEX 종합채권(AA-이상)액티브  116220            8    8  0.1667   \n",
       "           411060            ACE KRX금현물   17120           57   57  0.1667   \n",
       "           148070          KOSEF 국고채10년  114072            8    8  0.1667   \n",
       "           284430        KODEX 200미국채혼합   12810           77   77  0.1667   \n",
       "\n",
       "                   weight*      date*  \n",
       "date       ticker                      \n",
       "2024-12-18 069500    0.168 2024-12-19  \n",
       "           379800    0.168 2024-12-19  \n",
       "           273130    0.161 2024-12-19  \n",
       "           411060    0.169 2024-12-19  \n",
       "           148070    0.163 2024-12-19  \n",
       "           284430    0.171 2024-12-19  "
      ]
     },
     "execution_count": 23,
     "metadata": {},
     "output_type": "execute_result"
    }
   ],
   "source": [
    "pf_wtr.view_record(-2, nshares=True)"
   ]
  },
  {
   "cell_type": "code",
   "execution_count": 27,
   "id": "2f2046bd-5dbb-43c1-a730-2db9cfff293a",
   "metadata": {},
   "outputs": [
    {
     "data": {
      "image/png": "[encoded data removed]",
      "text/plain": [
       "<Figure size 1000x600 with 2 Axes>"
      ]
     },
     "metadata": {},
     "output_type": "display_data"
    }
   ],
   "source": [
    "pf_wtr.plot(total=False)"
   ]
  },
  {
   "cell_type": "code",
   "execution_count": 28,
   "id": "a8201392-fbcd-494f-91bd-78562ae41c2a",
   "metadata": {},
   "outputs": [
    {
     "data": {
      "text/plain": [
       "[5914437.0, 130993.60246159974, 0.022649759573570627]"
      ]
     },
     "execution_count": 28,
     "metadata": {},
     "output_type": "execute_result"
    }
   ],
   "source": [
    "date = None\n",
    "res = pf_wtr.valuate(date, print_msg=False)\n",
    "res.iloc[2:].to_list()\n",
    "#res"
   ]
  },
  {
   "cell_type": "code",
   "execution_count": 29,
   "id": "74abca3f-6864-4a0d-a760-ac41728e35b6",
   "metadata": {},
   "outputs": [],
   "source": [
    "#pf_wtr.performance(metrics=METRICS)"
   ]
  },
  {
   "cell_type": "code",
   "execution_count": 30,
   "id": "d05fbd06-1222-431d-8fc9-6c385c40f20c",
   "metadata": {},
   "outputs": [
    {
     "data": {
      "application/vnd.jupyter.widget-view+json": {
       "model_id": "eb30b7bb329a4b3396db831be90c78e6",
       "version_major": 2,
       "version_minor": 0
      },
      "text/plain": [
       "VBox(children=(DatePicker(value=datetime.date(2024, 12, 16), layout=Layout(width='200px'), step=1), IntSlider(…"
      ]
     },
     "execution_count": 30,
     "metadata": {},
     "output_type": "execute_result"
    }
   ],
   "source": [
    "# set kwargs of transaction_pipeline\n",
    "WidgetTransaction"
   ]
  },
  {
   "cell_type": "code",
   "execution_count": 32,
   "id": "1a593c5d-812f-4f2e-81b4-6ecc7f97e65f",
   "metadata": {},
   "outputs": [
    {
     "name": "stdout",
     "output_type": "stream",
     "text": [
      "Liquidation set to None\n",
      "6 tickers selected by All from 2025-01-06 to 2025-01-06\n",
      "Weights of tickers determined by Equal weights.\n",
      "Mean absolute error of weights: 2 %\n",
      "Result from 2024-12-18 to 2025-01-06\n",
      "Set save=True to save transaction record\n"
     ]
    },
    {
     "data": {
      "text/html": [
       "<div>\n",
       "<style scoped>\n",
       "    .dataframe tbody tr th:only-of-type {\n",
       "        vertical-align: middle;\n",
       "    }\n",
       "\n",
       "    .dataframe tbody tr th {\n",
       "        vertical-align: top;\n",
       "    }\n",
       "\n",
       "    .dataframe thead th {\n",
       "        text-align: right;\n",
       "    }\n",
       "</style>\n",
       "<table border=\"1\" class=\"dataframe\">\n",
       "  <thead>\n",
       "    <tr style=\"text-align: right;\">\n",
       "      <th></th>\n",
       "      <th></th>\n",
       "      <th>name</th>\n",
       "      <th>price</th>\n",
       "      <th>transaction</th>\n",
       "      <th>net</th>\n",
       "      <th>weight</th>\n",
       "      <th>weight*</th>\n",
       "      <th>date*</th>\n",
       "    </tr>\n",
       "    <tr>\n",
       "      <th>date</th>\n",
       "      <th>ticker</th>\n",
       "      <th></th>\n",
       "      <th></th>\n",
       "      <th></th>\n",
       "      <th></th>\n",
       "      <th></th>\n",
       "      <th></th>\n",
       "      <th></th>\n",
       "    </tr>\n",
       "  </thead>\n",
       "  <tbody>\n",
       "    <tr>\n",
       "      <th rowspan=\"6\" valign=\"top\">2024-12-18</th>\n",
       "      <th>069500</th>\n",
       "      <td>KODEX 200</td>\n",
       "      <td>32419</td>\n",
       "      <td>30</td>\n",
       "      <td>30</td>\n",
       "      <td>0.1667</td>\n",
       "      <td>0.168</td>\n",
       "      <td>2024-12-19</td>\n",
       "    </tr>\n",
       "    <tr>\n",
       "      <th>379800</th>\n",
       "      <td>KODEX 미국S&amp;P500TR</td>\n",
       "      <td>19475</td>\n",
       "      <td>50</td>\n",
       "      <td>50</td>\n",
       "      <td>0.1667</td>\n",
       "      <td>0.168</td>\n",
       "      <td>2024-12-19</td>\n",
       "    </tr>\n",
       "    <tr>\n",
       "      <th>273130</th>\n",
       "      <td>KODEX 종합채권(AA-이상)액티브</td>\n",
       "      <td>116220</td>\n",
       "      <td>8</td>\n",
       "      <td>8</td>\n",
       "      <td>0.1667</td>\n",
       "      <td>0.161</td>\n",
       "      <td>2024-12-19</td>\n",
       "    </tr>\n",
       "    <tr>\n",
       "      <th>411060</th>\n",
       "      <td>ACE KRX금현물</td>\n",
       "      <td>17120</td>\n",
       "      <td>57</td>\n",
       "      <td>57</td>\n",
       "      <td>0.1667</td>\n",
       "      <td>0.169</td>\n",
       "      <td>2024-12-19</td>\n",
       "    </tr>\n",
       "    <tr>\n",
       "      <th>148070</th>\n",
       "      <td>KOSEF 국고채10년</td>\n",
       "      <td>114072</td>\n",
       "      <td>8</td>\n",
       "      <td>8</td>\n",
       "      <td>0.1667</td>\n",
       "      <td>0.163</td>\n",
       "      <td>2024-12-19</td>\n",
       "    </tr>\n",
       "    <tr>\n",
       "      <th>284430</th>\n",
       "      <td>KODEX 200미국채혼합</td>\n",
       "      <td>12810</td>\n",
       "      <td>77</td>\n",
       "      <td>77</td>\n",
       "      <td>0.1667</td>\n",
       "      <td>0.171</td>\n",
       "      <td>2024-12-19</td>\n",
       "    </tr>\n",
       "    <tr>\n",
       "      <th rowspan=\"6\" valign=\"top\">2025-01-06</th>\n",
       "      <th>069500</th>\n",
       "      <td>KODEX 200</td>\n",
       "      <td>33330</td>\n",
       "      <td>-1</td>\n",
       "      <td>29</td>\n",
       "      <td>0.1667</td>\n",
       "      <td>0.169</td>\n",
       "      <td>2025-01-06</td>\n",
       "    </tr>\n",
       "    <tr>\n",
       "      <th>379800</th>\n",
       "      <td>KODEX 미국S&amp;P500TR</td>\n",
       "      <td>19955</td>\n",
       "      <td>-1</td>\n",
       "      <td>49</td>\n",
       "      <td>0.1667</td>\n",
       "      <td>0.171</td>\n",
       "      <td>2025-01-06</td>\n",
       "    </tr>\n",
       "    <tr>\n",
       "      <th>273130</th>\n",
       "      <td>KODEX 종합채권(AA-이상)액티브</td>\n",
       "      <td>116440</td>\n",
       "      <td>0</td>\n",
       "      <td>8</td>\n",
       "      <td>0.1667</td>\n",
       "      <td>0.163</td>\n",
       "      <td>2025-01-06</td>\n",
       "    </tr>\n",
       "    <tr>\n",
       "      <th>411060</th>\n",
       "      <td>ACE KRX금현물</td>\n",
       "      <td>18295</td>\n",
       "      <td>-4</td>\n",
       "      <td>53</td>\n",
       "      <td>0.1667</td>\n",
       "      <td>0.169</td>\n",
       "      <td>2025-01-06</td>\n",
       "    </tr>\n",
       "    <tr>\n",
       "      <th>148070</th>\n",
       "      <td>KIWOOM 국고채10년</td>\n",
       "      <td>113845</td>\n",
       "      <td>0</td>\n",
       "      <td>8</td>\n",
       "      <td>0.1667</td>\n",
       "      <td>0.159</td>\n",
       "      <td>2025-01-06</td>\n",
       "    </tr>\n",
       "    <tr>\n",
       "      <th>284430</th>\n",
       "      <td>KODEX 200미국채혼합</td>\n",
       "      <td>12980</td>\n",
       "      <td>-2</td>\n",
       "      <td>75</td>\n",
       "      <td>0.1667</td>\n",
       "      <td>0.170</td>\n",
       "      <td>2025-01-06</td>\n",
       "    </tr>\n",
       "  </tbody>\n",
       "</table>\n",
       "</div>"
      ],
      "text/plain": [
       "                                   name   price  transaction  net  weight  \\\n",
       "date       ticker                                                           \n",
       "2024-12-18 069500             KODEX 200   32419           30   30  0.1667   \n",
       "           379800      KODEX 미국S&P500TR   19475           50   50  0.1667   \n",
       "           273130  KODEX 종합채권(AA-이상)액티브  116220            8    8  0.1667   \n",
       "           411060            ACE KRX금현물   17120           57   57  0.1667   \n",
       "           148070          KOSEF 국고채10년  114072            8    8  0.1667   \n",
       "           284430        KODEX 200미국채혼합   12810           77   77  0.1667   \n",
       "2025-01-06 069500             KODEX 200   33330           -1   29  0.1667   \n",
       "           379800      KODEX 미국S&P500TR   19955           -1   49  0.1667   \n",
       "           273130  KODEX 종합채권(AA-이상)액티브  116440            0    8  0.1667   \n",
       "           411060            ACE KRX금현물   18295           -4   53  0.1667   \n",
       "           148070         KIWOOM 국고채10년  113845            0    8  0.1667   \n",
       "           284430        KODEX 200미국채혼합   12980           -2   75  0.1667   \n",
       "\n",
       "                   weight*      date*  \n",
       "date       ticker                      \n",
       "2024-12-18 069500    0.168 2024-12-19  \n",
       "           379800    0.168 2024-12-19  \n",
       "           273130    0.161 2024-12-19  \n",
       "           411060    0.169 2024-12-19  \n",
       "           148070    0.163 2024-12-19  \n",
       "           284430    0.171 2024-12-19  \n",
       "2025-01-06 069500    0.169 2025-01-06  \n",
       "           379800    0.171 2025-01-06  \n",
       "           273130    0.163 2025-01-06  \n",
       "           411060    0.169 2025-01-06  \n",
       "           148070    0.159 2025-01-06  \n",
       "           284430    0.170 2025-01-06  "
      ]
     },
     "execution_count": 32,
     "metadata": {},
     "output_type": "execute_result"
    }
   ],
   "source": [
    "nshares = True\n",
    "kwargs = dict(\n",
    "    date = WidgetTransaction.values(0),\n",
    "    capital = WidgetTransaction.values(1),\n",
    "    save = WidgetTransaction.values(2),\n",
    "    nshares=nshares\n",
    ")\n",
    "_ = pf_wtr.transaction_pipeline(**kwargs)\n",
    "pf_wtr.view_record(-2, nshares=nshares)"
   ]
  },
  {
   "cell_type": "code",
   "execution_count": 67,
   "id": "e19e8368-a7f7-4c11-85e8-2fbb908fdae9",
   "metadata": {},
   "outputs": [
    {
     "data": {
      "text/plain": [
       "start    2024-12-18\n",
       "date     2024-12-18\n",
       "buy         5847726\n",
       "sell              0\n",
       "value       5847480\n",
       "UGL            -246\n",
       "ROI       -0.000042\n",
       "dtype: object"
      ]
     },
     "execution_count": 67,
     "metadata": {},
     "output_type": "execute_result"
    }
   ],
   "source": [
    "pf_wtr.valuate()"
   ]
  },
  {
   "cell_type": "markdown",
   "id": "94702c06-6391-4b00-97f2-19c1b321fa44",
   "metadata": {},
   "source": [
    "## LIQ"
   ]
  },
  {
   "cell_type": "code",
   "execution_count": 25,
   "id": "1ca82b1e-c1c8-4f38-807e-509bc054169c",
   "metadata": {},
   "outputs": [
    {
     "name": "stdout",
     "output_type": "stream",
     "text": [
      "24 securities from 2022-01-03 to 2025-01-03 uploaded.\n",
      "WARNING: Update price data as 2721 tickers not in universe\n",
      "Price data loaded\n",
      "Cost data transaction_cost_241217.csv loaded\n",
      "Transaction record to 2024-01-03 loaded\n"
     ]
    }
   ],
   "source": [
    "pf_liq = PM.create_portfolio('LIQ', **kw_cost)"
   ]
  },
  {
   "cell_type": "code",
   "execution_count": 26,
   "id": "0a35f0aa-697e-47a2-87bd-6ccba7e6a605",
   "metadata": {},
   "outputs": [
    {
     "data": {
      "image/png": "[encoded data removed]",
      "text/plain": [
       "<Figure size 1000x600 with 3 Axes>"
      ]
     },
     "metadata": {},
     "output_type": "display_data"
    }
   ],
   "source": [
    "#date=None\n",
    "date='2024-07-01'\n",
    "pf_liq.plot(start_date=date)"
   ]
  },
  {
   "cell_type": "code",
   "execution_count": 28,
   "id": "ee66b3cc-3cec-4b49-af06-c62c0697bd46",
   "metadata": {},
   "outputs": [
    {
     "data": {
      "text/plain": [
       "start    2024-01-03\n",
       "date     2025-01-03\n",
       "buy         6642319\n",
       "sell              0\n",
       "value       3008231\n",
       "UGL        -3634088\n",
       "ROI       -0.547111\n",
       "dtype: object"
      ]
     },
     "execution_count": 28,
     "metadata": {},
     "output_type": "execute_result"
    }
   ],
   "source": [
    "pf_liq.valuate()"
   ]
  },
  {
   "cell_type": "code",
   "execution_count": 27,
   "id": "4f77cbab-5980-46cc-a0a6-45df9bdb0da7",
   "metadata": {},
   "outputs": [
    {
     "data": {
      "text/html": [
       "<div>\n",
       "<style scoped>\n",
       "    .dataframe tbody tr th:only-of-type {\n",
       "        vertical-align: middle;\n",
       "    }\n",
       "\n",
       "    .dataframe tbody tr th {\n",
       "        vertical-align: top;\n",
       "    }\n",
       "\n",
       "    .dataframe thead th {\n",
       "        text-align: right;\n",
       "    }\n",
       "</style>\n",
       "<table border=\"1\" class=\"dataframe\">\n",
       "  <thead>\n",
       "    <tr style=\"text-align: right;\">\n",
       "      <th></th>\n",
       "      <th></th>\n",
       "      <th>name</th>\n",
       "      <th>ratio</th>\n",
       "      <th>transaction</th>\n",
       "      <th>net</th>\n",
       "      <th>weight</th>\n",
       "      <th>weight*</th>\n",
       "      <th>date*</th>\n",
       "    </tr>\n",
       "    <tr>\n",
       "      <th>date</th>\n",
       "      <th>ticker</th>\n",
       "      <th></th>\n",
       "      <th></th>\n",
       "      <th></th>\n",
       "      <th></th>\n",
       "      <th></th>\n",
       "      <th></th>\n",
       "      <th></th>\n",
       "    </tr>\n",
       "  </thead>\n",
       "  <tbody>\n",
       "    <tr>\n",
       "      <th rowspan=\"24\" valign=\"top\">2024-01-03</th>\n",
       "      <th>011780</th>\n",
       "      <td>금호석유</td>\n",
       "      <td>0.750877</td>\n",
       "      <td>342000</td>\n",
       "      <td>342000</td>\n",
       "      <td>NaN</td>\n",
       "      <td>0.051</td>\n",
       "      <td>2024-01-03</td>\n",
       "    </tr>\n",
       "    <tr>\n",
       "      <th>066570</th>\n",
       "      <td>LG전자</td>\n",
       "      <td>0.812245</td>\n",
       "      <td>245000</td>\n",
       "      <td>245000</td>\n",
       "      <td>NaN</td>\n",
       "      <td>0.037</td>\n",
       "      <td>2024-01-03</td>\n",
       "    </tr>\n",
       "    <tr>\n",
       "      <th>035890</th>\n",
       "      <td>서희건설</td>\n",
       "      <td>0.760000</td>\n",
       "      <td>298800</td>\n",
       "      <td>298800</td>\n",
       "      <td>NaN</td>\n",
       "      <td>0.045</td>\n",
       "      <td>2024-01-03</td>\n",
       "    </tr>\n",
       "    <tr>\n",
       "      <th>040420</th>\n",
       "      <td>정상제이엘에스</td>\n",
       "      <td>0.875784</td>\n",
       "      <td>294890</td>\n",
       "      <td>294890</td>\n",
       "      <td>NaN</td>\n",
       "      <td>0.044</td>\n",
       "      <td>2024-01-03</td>\n",
       "    </tr>\n",
       "    <tr>\n",
       "      <th>140520</th>\n",
       "      <td>대창스틸</td>\n",
       "      <td>0.803077</td>\n",
       "      <td>292500</td>\n",
       "      <td>292500</td>\n",
       "      <td>NaN</td>\n",
       "      <td>0.044</td>\n",
       "      <td>2024-01-03</td>\n",
       "    </tr>\n",
       "    <tr>\n",
       "      <th>072990</th>\n",
       "      <td>에이치시티</td>\n",
       "      <td>0.542767</td>\n",
       "      <td>286200</td>\n",
       "      <td>286200</td>\n",
       "      <td>NaN</td>\n",
       "      <td>0.043</td>\n",
       "      <td>2024-01-03</td>\n",
       "    </tr>\n",
       "    <tr>\n",
       "      <th>091580</th>\n",
       "      <td>상신이디피</td>\n",
       "      <td>0.918452</td>\n",
       "      <td>302400</td>\n",
       "      <td>302400</td>\n",
       "      <td>NaN</td>\n",
       "      <td>0.046</td>\n",
       "      <td>2024-01-03</td>\n",
       "    </tr>\n",
       "    <tr>\n",
       "      <th>011200</th>\n",
       "      <td>HMM</td>\n",
       "      <td>0.755977</td>\n",
       "      <td>289850</td>\n",
       "      <td>289850</td>\n",
       "      <td>NaN</td>\n",
       "      <td>0.044</td>\n",
       "      <td>2024-01-03</td>\n",
       "    </tr>\n",
       "    <tr>\n",
       "      <th>002220</th>\n",
       "      <td>한일철강</td>\n",
       "      <td>0.768371</td>\n",
       "      <td>297350</td>\n",
       "      <td>297350</td>\n",
       "      <td>NaN</td>\n",
       "      <td>0.045</td>\n",
       "      <td>2024-01-03</td>\n",
       "    </tr>\n",
       "    <tr>\n",
       "      <th>006650</th>\n",
       "      <td>대한유화</td>\n",
       "      <td>0.832507</td>\n",
       "      <td>181500</td>\n",
       "      <td>181500</td>\n",
       "      <td>NaN</td>\n",
       "      <td>0.027</td>\n",
       "      <td>2024-01-03</td>\n",
       "    </tr>\n",
       "    <tr>\n",
       "      <th>136490</th>\n",
       "      <td>선진</td>\n",
       "      <td>0.524409</td>\n",
       "      <td>292100</td>\n",
       "      <td>292100</td>\n",
       "      <td>NaN</td>\n",
       "      <td>0.044</td>\n",
       "      <td>2024-01-03</td>\n",
       "    </tr>\n",
       "    <tr>\n",
       "      <th>064550</th>\n",
       "      <td>바이오니아</td>\n",
       "      <td>0.707956</td>\n",
       "      <td>297900</td>\n",
       "      <td>297900</td>\n",
       "      <td>NaN</td>\n",
       "      <td>0.045</td>\n",
       "      <td>2024-01-03</td>\n",
       "    </tr>\n",
       "    <tr>\n",
       "      <th>460860</th>\n",
       "      <td>동국제강</td>\n",
       "      <td>0.599797</td>\n",
       "      <td>149784</td>\n",
       "      <td>149784</td>\n",
       "      <td>NaN</td>\n",
       "      <td>0.023</td>\n",
       "      <td>2024-01-03</td>\n",
       "    </tr>\n",
       "    <tr>\n",
       "      <th>040910</th>\n",
       "      <td>아이씨디</td>\n",
       "      <td>0.741803</td>\n",
       "      <td>292800</td>\n",
       "      <td>292800</td>\n",
       "      <td>NaN</td>\n",
       "      <td>0.044</td>\n",
       "      <td>2024-01-03</td>\n",
       "    </tr>\n",
       "    <tr>\n",
       "      <th>024950</th>\n",
       "      <td>삼천리자전거</td>\n",
       "      <td>0.675537</td>\n",
       "      <td>293100</td>\n",
       "      <td>293100</td>\n",
       "      <td>NaN</td>\n",
       "      <td>0.044</td>\n",
       "      <td>2024-01-03</td>\n",
       "    </tr>\n",
       "    <tr>\n",
       "      <th>900070</th>\n",
       "      <td>글로벌에스엠</td>\n",
       "      <td>0.516667</td>\n",
       "      <td>299160</td>\n",
       "      <td>299160</td>\n",
       "      <td>NaN</td>\n",
       "      <td>0.045</td>\n",
       "      <td>2024-01-03</td>\n",
       "    </tr>\n",
       "    <tr>\n",
       "      <th>036580</th>\n",
       "      <td>팜스코</td>\n",
       "      <td>0.523810</td>\n",
       "      <td>298410</td>\n",
       "      <td>298410</td>\n",
       "      <td>NaN</td>\n",
       "      <td>0.045</td>\n",
       "      <td>2024-01-03</td>\n",
       "    </tr>\n",
       "    <tr>\n",
       "      <th>184230</th>\n",
       "      <td>SGA솔루션즈</td>\n",
       "      <td>0.589354</td>\n",
       "      <td>299820</td>\n",
       "      <td>299820</td>\n",
       "      <td>NaN</td>\n",
       "      <td>0.045</td>\n",
       "      <td>2024-01-03</td>\n",
       "    </tr>\n",
       "    <tr>\n",
       "      <th>460850</th>\n",
       "      <td>동국씨엠</td>\n",
       "      <td>0.383273</td>\n",
       "      <td>90275</td>\n",
       "      <td>90275</td>\n",
       "      <td>NaN</td>\n",
       "      <td>0.014</td>\n",
       "      <td>2024-01-03</td>\n",
       "    </tr>\n",
       "    <tr>\n",
       "      <th>016250</th>\n",
       "      <td>SGC E&amp;C</td>\n",
       "      <td>0.409565</td>\n",
       "      <td>276000</td>\n",
       "      <td>276000</td>\n",
       "      <td>NaN</td>\n",
       "      <td>0.042</td>\n",
       "      <td>2024-01-03</td>\n",
       "    </tr>\n",
       "    <tr>\n",
       "      <th>001230</th>\n",
       "      <td>동국홀딩스</td>\n",
       "      <td>0.354766</td>\n",
       "      <td>48088</td>\n",
       "      <td>48088</td>\n",
       "      <td>NaN</td>\n",
       "      <td>0.007</td>\n",
       "      <td>2024-01-03</td>\n",
       "    </tr>\n",
       "    <tr>\n",
       "      <th>049470</th>\n",
       "      <td>SGA</td>\n",
       "      <td>0.528251</td>\n",
       "      <td>299935</td>\n",
       "      <td>299935</td>\n",
       "      <td>NaN</td>\n",
       "      <td>0.045</td>\n",
       "      <td>2024-01-03</td>\n",
       "    </tr>\n",
       "    <tr>\n",
       "      <th>217820</th>\n",
       "      <td>원익피앤이</td>\n",
       "      <td>0.485701</td>\n",
       "      <td>275396</td>\n",
       "      <td>275396</td>\n",
       "      <td>NaN</td>\n",
       "      <td>0.041</td>\n",
       "      <td>2024-01-03</td>\n",
       "    </tr>\n",
       "    <tr>\n",
       "      <th>109960</th>\n",
       "      <td>AP헬스케어</td>\n",
       "      <td>0.218206</td>\n",
       "      <td>598820</td>\n",
       "      <td>598820</td>\n",
       "      <td>NaN</td>\n",
       "      <td>0.090</td>\n",
       "      <td>2024-01-03</td>\n",
       "    </tr>\n",
       "  </tbody>\n",
       "</table>\n",
       "</div>"
      ],
      "text/plain": [
       "                      name     ratio  transaction     net  weight  weight*  \\\n",
       "date       ticker                                                            \n",
       "2024-01-03 011780     금호석유  0.750877       342000  342000     NaN    0.051   \n",
       "           066570     LG전자  0.812245       245000  245000     NaN    0.037   \n",
       "           035890     서희건설  0.760000       298800  298800     NaN    0.045   \n",
       "           040420  정상제이엘에스  0.875784       294890  294890     NaN    0.044   \n",
       "           140520     대창스틸  0.803077       292500  292500     NaN    0.044   \n",
       "           072990    에이치시티  0.542767       286200  286200     NaN    0.043   \n",
       "           091580    상신이디피  0.918452       302400  302400     NaN    0.046   \n",
       "           011200      HMM  0.755977       289850  289850     NaN    0.044   \n",
       "           002220     한일철강  0.768371       297350  297350     NaN    0.045   \n",
       "           006650     대한유화  0.832507       181500  181500     NaN    0.027   \n",
       "           136490       선진  0.524409       292100  292100     NaN    0.044   \n",
       "           064550    바이오니아  0.707956       297900  297900     NaN    0.045   \n",
       "           460860     동국제강  0.599797       149784  149784     NaN    0.023   \n",
       "           040910     아이씨디  0.741803       292800  292800     NaN    0.044   \n",
       "           024950   삼천리자전거  0.675537       293100  293100     NaN    0.044   \n",
       "           900070   글로벌에스엠  0.516667       299160  299160     NaN    0.045   \n",
       "           036580      팜스코  0.523810       298410  298410     NaN    0.045   \n",
       "           184230  SGA솔루션즈  0.589354       299820  299820     NaN    0.045   \n",
       "           460850     동국씨엠  0.383273        90275   90275     NaN    0.014   \n",
       "           016250  SGC E&C  0.409565       276000  276000     NaN    0.042   \n",
       "           001230    동국홀딩스  0.354766        48088   48088     NaN    0.007   \n",
       "           049470      SGA  0.528251       299935  299935     NaN    0.045   \n",
       "           217820    원익피앤이  0.485701       275396  275396     NaN    0.041   \n",
       "           109960   AP헬스케어  0.218206       598820  598820     NaN    0.090   \n",
       "\n",
       "                       date*  \n",
       "date       ticker             \n",
       "2024-01-03 011780 2024-01-03  \n",
       "           066570 2024-01-03  \n",
       "           035890 2024-01-03  \n",
       "           040420 2024-01-03  \n",
       "           140520 2024-01-03  \n",
       "           072990 2024-01-03  \n",
       "           091580 2024-01-03  \n",
       "           011200 2024-01-03  \n",
       "           002220 2024-01-03  \n",
       "           006650 2024-01-03  \n",
       "           136490 2024-01-03  \n",
       "           064550 2024-01-03  \n",
       "           460860 2024-01-03  \n",
       "           040910 2024-01-03  \n",
       "           024950 2024-01-03  \n",
       "           900070 2024-01-03  \n",
       "           036580 2024-01-03  \n",
       "           184230 2024-01-03  \n",
       "           460850 2024-01-03  \n",
       "           016250 2024-01-03  \n",
       "           001230 2024-01-03  \n",
       "           049470 2024-01-03  \n",
       "           217820 2024-01-03  \n",
       "           109960 2024-01-03  "
      ]
     },
     "execution_count": 27,
     "metadata": {},
     "output_type": "execute_result"
    }
   ],
   "source": [
    "pf_liq.view_record()"
   ]
  },
  {
   "cell_type": "markdown",
   "id": "5cb5a3a2-0bbe-4f0c-adcf-49a72186ee99",
   "metadata": {},
   "source": [
    "## TDF"
   ]
  },
  {
   "cell_type": "code",
   "execution_count": 17,
   "id": "d7999807-ab5d-4dbf-8638-92be9c26de73",
   "metadata": {},
   "outputs": [],
   "source": [
    "selected = None"
   ]
  },
  {
   "cell_type": "code",
   "execution_count": 18,
   "id": "ecb9566a-7132-4ff6-8347-d3783a16de56",
   "metadata": {},
   "outputs": [
    {
     "name": "stdout",
     "output_type": "stream",
     "text": [
      "64 securities from 2008-11-28 to 2024-12-31 uploaded.\n",
      "WARNING: the number of days in a year with 64 tickers (100%) is 12 in avg.\n",
      "REMINDER: 64 equities converted to daily (days in year: 365)\n",
      "Daily metrics in Performance statistics must be meaningless\n",
      "Price data loaded\n",
      "Cost data transaction_cost_241217.csv loaded\n",
      "Transaction record to 2025-01-15 loaded\n"
     ]
    },
    {
     "data": {
      "text/html": [
       "<div>\n",
       "<style scoped>\n",
       "    .dataframe tbody tr th:only-of-type {\n",
       "        vertical-align: middle;\n",
       "    }\n",
       "\n",
       "    .dataframe tbody tr th {\n",
       "        vertical-align: top;\n",
       "    }\n",
       "\n",
       "    .dataframe thead th {\n",
       "        text-align: right;\n",
       "    }\n",
       "</style>\n",
       "<table border=\"1\" class=\"dataframe\">\n",
       "  <thead>\n",
       "    <tr style=\"text-align: right;\">\n",
       "      <th></th>\n",
       "      <th></th>\n",
       "      <th>name</th>\n",
       "      <th>ratio</th>\n",
       "      <th>transaction</th>\n",
       "      <th>net</th>\n",
       "      <th>weight</th>\n",
       "      <th>weight*</th>\n",
       "      <th>date*</th>\n",
       "    </tr>\n",
       "    <tr>\n",
       "      <th>date</th>\n",
       "      <th>ticker</th>\n",
       "      <th></th>\n",
       "      <th></th>\n",
       "      <th></th>\n",
       "      <th></th>\n",
       "      <th></th>\n",
       "      <th></th>\n",
       "      <th></th>\n",
       "    </tr>\n",
       "  </thead>\n",
       "  <tbody>\n",
       "    <tr>\n",
       "      <th rowspan=\"2\" valign=\"top\">2024-06-19</th>\n",
       "      <th>K55301BU6139</th>\n",
       "      <td>미래에셋전략배분TDF2035혼합자산자투자신탁종류C-P2e</td>\n",
       "      <td>1</td>\n",
       "      <td>5000000</td>\n",
       "      <td>5000000</td>\n",
       "      <td>0.5000</td>\n",
       "      <td>0.500</td>\n",
       "      <td>2024-06-19</td>\n",
       "    </tr>\n",
       "    <tr>\n",
       "      <th>K55206C95800</th>\n",
       "      <td>키움키워드림TDF2030증권투자신탁 1[혼합-재간접형]C-P2e(퇴직연금)</td>\n",
       "      <td>1</td>\n",
       "      <td>5000000</td>\n",
       "      <td>5000000</td>\n",
       "      <td>0.5000</td>\n",
       "      <td>0.500</td>\n",
       "      <td>2024-06-19</td>\n",
       "    </tr>\n",
       "    <tr>\n",
       "      <th rowspan=\"7\" valign=\"top\">2025-01-15</th>\n",
       "      <th>K55206C95800</th>\n",
       "      <td>키움키워드림TDF2030증권투자신탁 1[혼합-재간접형]C-P2e(퇴직연금)</td>\n",
       "      <td>1</td>\n",
       "      <td>0</td>\n",
       "      <td>5077506</td>\n",
       "      <td>0.1429</td>\n",
       "      <td>0.144</td>\n",
       "      <td>2025-01-15</td>\n",
       "    </tr>\n",
       "    <tr>\n",
       "      <th>K55301BU6139</th>\n",
       "      <td>미래에셋전략배분TDF2035혼합자산자투자신탁종류C-P2e</td>\n",
       "      <td>1</td>\n",
       "      <td>0</td>\n",
       "      <td>5077009</td>\n",
       "      <td>0.1429</td>\n",
       "      <td>0.144</td>\n",
       "      <td>2025-01-15</td>\n",
       "    </tr>\n",
       "    <tr>\n",
       "      <th>K55364CF7048</th>\n",
       "      <td>에셋플러스슈퍼아시아리치투게더증권자투자신탁 1(주식)종류C-P2e</td>\n",
       "      <td>1</td>\n",
       "      <td>5000000</td>\n",
       "      <td>5000000</td>\n",
       "      <td>0.1429</td>\n",
       "      <td>0.142</td>\n",
       "      <td>2025-01-15</td>\n",
       "    </tr>\n",
       "    <tr>\n",
       "      <th>K55234BY9966</th>\n",
       "      <td>IBK베트남플러스아시아증권투자신탁[주식]종류C-Re</td>\n",
       "      <td>1</td>\n",
       "      <td>5000000</td>\n",
       "      <td>5000000</td>\n",
       "      <td>0.1429</td>\n",
       "      <td>0.142</td>\n",
       "      <td>2025-01-15</td>\n",
       "    </tr>\n",
       "    <tr>\n",
       "      <th>K55213C50702</th>\n",
       "      <td>한화LIFEPLUSTDF2045증권투자신탁(혼합-재간접형)C-RPE(퇴직연금)</td>\n",
       "      <td>1</td>\n",
       "      <td>5000000</td>\n",
       "      <td>5000000</td>\n",
       "      <td>0.1429</td>\n",
       "      <td>0.142</td>\n",
       "      <td>2025-01-15</td>\n",
       "    </tr>\n",
       "    <tr>\n",
       "      <th>K55234DF3150</th>\n",
       "      <td>IBK로우코스트TDF2050증권자투자신탁[혼합-재간접형]종류C-Re</td>\n",
       "      <td>1</td>\n",
       "      <td>5000000</td>\n",
       "      <td>5000000</td>\n",
       "      <td>0.1429</td>\n",
       "      <td>0.142</td>\n",
       "      <td>2025-01-15</td>\n",
       "    </tr>\n",
       "    <tr>\n",
       "      <th>K55301BU6253</th>\n",
       "      <td>미래에셋전략배분TDF2040혼합자산자투자신탁 종류C-P2e</td>\n",
       "      <td>1</td>\n",
       "      <td>5000000</td>\n",
       "      <td>5000000</td>\n",
       "      <td>0.1429</td>\n",
       "      <td>0.142</td>\n",
       "      <td>2025-01-15</td>\n",
       "    </tr>\n",
       "  </tbody>\n",
       "</table>\n",
       "</div>"
      ],
      "text/plain": [
       "                                                                name  ratio  \\\n",
       "date       ticker                                                             \n",
       "2024-06-19 K55301BU6139              미래에셋전략배분TDF2035혼합자산자투자신탁종류C-P2e      1   \n",
       "           K55206C95800    키움키워드림TDF2030증권투자신탁 1[혼합-재간접형]C-P2e(퇴직연금)      1   \n",
       "2025-01-15 K55206C95800    키움키워드림TDF2030증권투자신탁 1[혼합-재간접형]C-P2e(퇴직연금)      1   \n",
       "           K55301BU6139              미래에셋전략배분TDF2035혼합자산자투자신탁종류C-P2e      1   \n",
       "           K55364CF7048          에셋플러스슈퍼아시아리치투게더증권자투자신탁 1(주식)종류C-P2e      1   \n",
       "           K55234BY9966                 IBK베트남플러스아시아증권투자신탁[주식]종류C-Re      1   \n",
       "           K55213C50702  한화LIFEPLUSTDF2045증권투자신탁(혼합-재간접형)C-RPE(퇴직연금)      1   \n",
       "           K55234DF3150        IBK로우코스트TDF2050증권자투자신탁[혼합-재간접형]종류C-Re      1   \n",
       "           K55301BU6253             미래에셋전략배분TDF2040혼합자산자투자신탁 종류C-P2e      1   \n",
       "\n",
       "                         transaction      net  weight  weight*      date*  \n",
       "date       ticker                                                          \n",
       "2024-06-19 K55301BU6139      5000000  5000000  0.5000    0.500 2024-06-19  \n",
       "           K55206C95800      5000000  5000000  0.5000    0.500 2024-06-19  \n",
       "2025-01-15 K55206C95800            0  5077506  0.1429    0.144 2025-01-15  \n",
       "           K55301BU6139            0  5077009  0.1429    0.144 2025-01-15  \n",
       "           K55364CF7048      5000000  5000000  0.1429    0.142 2025-01-15  \n",
       "           K55234BY9966      5000000  5000000  0.1429    0.142 2025-01-15  \n",
       "           K55213C50702      5000000  5000000  0.1429    0.142 2025-01-15  \n",
       "           K55234DF3150      5000000  5000000  0.1429    0.142 2025-01-15  \n",
       "           K55301BU6253      5000000  5000000  0.1429    0.142 2025-01-15  "
      ]
     },
     "execution_count": 18,
     "metadata": {},
     "output_type": "execute_result"
    }
   ],
   "source": [
    "pf_tdf = PM.create_portfolio('TDF_2406', tickers=selected, cost=file_cost)\n",
    "pf_tdf.view_record()"
   ]
  },
  {
   "cell_type": "code",
   "execution_count": 19,
   "id": "900cfe7e-2a3a-460b-bc03-25d1b8e492a2",
   "metadata": {},
   "outputs": [],
   "source": [
    "#pf_tdf.portfolio_data['strategy']\n",
    "#pf_tdf.get_names()"
   ]
  },
  {
   "cell_type": "code",
   "execution_count": 20,
   "id": "6f173f64-8137-4a01-a831-259619987813",
   "metadata": {},
   "outputs": [
    {
     "data": {
      "image/png": "[encoded data removed]",
      "text/plain": [
       "<Figure size 1000x600 with 2 Axes>"
      ]
     },
     "metadata": {},
     "output_type": "display_data"
    }
   ],
   "source": [
    "pf_tdf.plot(total=False)"
   ]
  },
  {
   "cell_type": "code",
   "execution_count": 31,
   "id": "a0631c7d-4e21-4030-bb21-f7c0c61e4d4e",
   "metadata": {},
   "outputs": [
    {
     "name": "stdout",
     "output_type": "stream",
     "text": [
      "Result from 2024-06-19 to 2024-12-31\n"
     ]
    },
    {
     "data": {
      "text/plain": [
       "buy      1.000000e+07\n",
       "sell     0.000000e+00\n",
       "value    1.053394e+07\n",
       "ugl      5.339420e+05\n",
       "roi      5.339420e-02\n",
       "Name: 2024-12-31 00:00:00, dtype: float64"
      ]
     },
     "execution_count": 31,
     "metadata": {},
     "output_type": "execute_result"
    }
   ],
   "source": [
    "date = None\n",
    "res = pf_tdf.valuate(date, print_msg=False)\n",
    "res"
   ]
  },
  {
   "cell_type": "code",
   "execution_count": 32,
   "id": "cbdb9f74-d8b7-4c82-8b48-327fc7472773",
   "metadata": {},
   "outputs": [
    {
     "data": {
      "application/vnd.jupyter.widget-view+json": {
       "model_id": "45c42104bec64314aeabdf0d56071e19",
       "version_major": 2,
       "version_minor": 0
      },
      "text/plain": [
       "VBox(children=(DatePicker(value=None, layout=Layout(width='200px'), step=1), IntSlider(value=0, continuous_upd…"
      ]
     },
     "execution_count": 32,
     "metadata": {},
     "output_type": "execute_result"
    }
   ],
   "source": [
    "# set kwargs of transaction_pipeline\n",
    "WidgetTransaction"
   ]
  },
  {
   "cell_type": "code",
   "execution_count": 16,
   "id": "b0d8203a-f1f9-4979-a126-0142aa20efd8",
   "metadata": {},
   "outputs": [
    {
     "name": "stdout",
     "output_type": "stream",
     "text": [
      "Liquidation set to None\n",
      "7 tickers selected by Selected from 2024-12-31 to 2024-12-31\n",
      "Weights of tickers determined by Equal weights.\n",
      "New cash inflows of 25,000,000\n",
      "Mean absolute error of weights: 0 %\n",
      "ROI: 1.4%, UGL: 504,000  (2024-12-31)\n",
      "All transactions saved to pf_tdf_static_241231.csv\n"
     ]
    },
    {
     "data": {
      "text/html": [
       "<div>\n",
       "<style scoped>\n",
       "    .dataframe tbody tr th:only-of-type {\n",
       "        vertical-align: middle;\n",
       "    }\n",
       "\n",
       "    .dataframe tbody tr th {\n",
       "        vertical-align: top;\n",
       "    }\n",
       "\n",
       "    .dataframe thead th {\n",
       "        text-align: right;\n",
       "    }\n",
       "</style>\n",
       "<table border=\"1\" class=\"dataframe\">\n",
       "  <thead>\n",
       "    <tr style=\"text-align: right;\">\n",
       "      <th></th>\n",
       "      <th></th>\n",
       "      <th>name</th>\n",
       "      <th>ratio</th>\n",
       "      <th>transaction</th>\n",
       "      <th>net</th>\n",
       "      <th>weight</th>\n",
       "      <th>weight*</th>\n",
       "      <th>date*</th>\n",
       "    </tr>\n",
       "    <tr>\n",
       "      <th>date</th>\n",
       "      <th>ticker</th>\n",
       "      <th></th>\n",
       "      <th></th>\n",
       "      <th></th>\n",
       "      <th></th>\n",
       "      <th></th>\n",
       "      <th></th>\n",
       "      <th></th>\n",
       "    </tr>\n",
       "  </thead>\n",
       "  <tbody>\n",
       "    <tr>\n",
       "      <th rowspan=\"2\" valign=\"top\">2024-06-19</th>\n",
       "      <th>K55301BU6139</th>\n",
       "      <td>미래에셋전략배분TDF2035혼합자산자투자신탁종류C-P2e</td>\n",
       "      <td>1</td>\n",
       "      <td>5000000</td>\n",
       "      <td>5000000</td>\n",
       "      <td>0.5000</td>\n",
       "      <td>0.500</td>\n",
       "      <td>2024-06-19</td>\n",
       "    </tr>\n",
       "    <tr>\n",
       "      <th>K55206C95800</th>\n",
       "      <td>키움키워드림TDF2030증권투자신탁 1[혼합-재간접형]C-P2e(퇴직연금)</td>\n",
       "      <td>1</td>\n",
       "      <td>5000000</td>\n",
       "      <td>5000000</td>\n",
       "      <td>0.5000</td>\n",
       "      <td>0.500</td>\n",
       "      <td>2024-06-19</td>\n",
       "    </tr>\n",
       "    <tr>\n",
       "      <th rowspan=\"7\" valign=\"top\">2024-12-31</th>\n",
       "      <th>K55206C95800</th>\n",
       "      <td>키움키워드림TDF2030증권투자신탁 1[혼합-재간접형]C-P2e(퇴직연금)</td>\n",
       "      <td>1</td>\n",
       "      <td>-221945</td>\n",
       "      <td>5077506</td>\n",
       "      <td>0.1429</td>\n",
       "      <td>0.143</td>\n",
       "      <td>2024-12-31</td>\n",
       "    </tr>\n",
       "    <tr>\n",
       "      <th>K55301BU6139</th>\n",
       "      <td>미래에셋전략배분TDF2035혼합자산자투자신탁종류C-P2e</td>\n",
       "      <td>1</td>\n",
       "      <td>-157482</td>\n",
       "      <td>5077009</td>\n",
       "      <td>0.1429</td>\n",
       "      <td>0.143</td>\n",
       "      <td>2024-12-31</td>\n",
       "    </tr>\n",
       "    <tr>\n",
       "      <th>K55364CF7048</th>\n",
       "      <td>에셋플러스슈퍼아시아리치투게더증권자투자신탁 1(주식)종류C-P2e</td>\n",
       "      <td>1</td>\n",
       "      <td>5077655</td>\n",
       "      <td>5077654</td>\n",
       "      <td>0.1429</td>\n",
       "      <td>0.143</td>\n",
       "      <td>2024-12-31</td>\n",
       "    </tr>\n",
       "    <tr>\n",
       "      <th>K55234BY9966</th>\n",
       "      <td>IBK베트남플러스아시아증권투자신탁[주식]종류C-Re</td>\n",
       "      <td>1</td>\n",
       "      <td>5077162</td>\n",
       "      <td>5077162</td>\n",
       "      <td>0.1429</td>\n",
       "      <td>0.143</td>\n",
       "      <td>2024-12-31</td>\n",
       "    </tr>\n",
       "    <tr>\n",
       "      <th>K55213C50702</th>\n",
       "      <td>한화LIFEPLUSTDF2045증권투자신탁(혼합-재간접형)C-RPE(퇴직연금)</td>\n",
       "      <td>1</td>\n",
       "      <td>5076831</td>\n",
       "      <td>5076831</td>\n",
       "      <td>0.1429</td>\n",
       "      <td>0.143</td>\n",
       "      <td>2024-12-31</td>\n",
       "    </tr>\n",
       "    <tr>\n",
       "      <th>K55234DF3150</th>\n",
       "      <td>IBK로우코스트TDF2050증권자투자신탁[혼합-재간접형]종류C-Re</td>\n",
       "      <td>1</td>\n",
       "      <td>5077180</td>\n",
       "      <td>5077180</td>\n",
       "      <td>0.1429</td>\n",
       "      <td>0.143</td>\n",
       "      <td>2024-12-31</td>\n",
       "    </tr>\n",
       "    <tr>\n",
       "      <th>K55301BU6253</th>\n",
       "      <td>미래에셋전략배분TDF2040혼합자산자투자신탁 종류C-P2e</td>\n",
       "      <td>1</td>\n",
       "      <td>5077278</td>\n",
       "      <td>5077278</td>\n",
       "      <td>0.1429</td>\n",
       "      <td>0.143</td>\n",
       "      <td>2024-12-31</td>\n",
       "    </tr>\n",
       "  </tbody>\n",
       "</table>\n",
       "</div>"
      ],
      "text/plain": [
       "                                                                name  ratio  \\\n",
       "date       ticker                                                             \n",
       "2024-06-19 K55301BU6139              미래에셋전략배분TDF2035혼합자산자투자신탁종류C-P2e      1   \n",
       "           K55206C95800    키움키워드림TDF2030증권투자신탁 1[혼합-재간접형]C-P2e(퇴직연금)      1   \n",
       "2024-12-31 K55206C95800    키움키워드림TDF2030증권투자신탁 1[혼합-재간접형]C-P2e(퇴직연금)      1   \n",
       "           K55301BU6139              미래에셋전략배분TDF2035혼합자산자투자신탁종류C-P2e      1   \n",
       "           K55364CF7048          에셋플러스슈퍼아시아리치투게더증권자투자신탁 1(주식)종류C-P2e      1   \n",
       "           K55234BY9966                 IBK베트남플러스아시아증권투자신탁[주식]종류C-Re      1   \n",
       "           K55213C50702  한화LIFEPLUSTDF2045증권투자신탁(혼합-재간접형)C-RPE(퇴직연금)      1   \n",
       "           K55234DF3150        IBK로우코스트TDF2050증권자투자신탁[혼합-재간접형]종류C-Re      1   \n",
       "           K55301BU6253             미래에셋전략배분TDF2040혼합자산자투자신탁 종류C-P2e      1   \n",
       "\n",
       "                         transaction      net  weight  weight*      date*  \n",
       "date       ticker                                                          \n",
       "2024-06-19 K55301BU6139      5000000  5000000  0.5000    0.500 2024-06-19  \n",
       "           K55206C95800      5000000  5000000  0.5000    0.500 2024-06-19  \n",
       "2024-12-31 K55206C95800      -221945  5077506  0.1429    0.143 2024-12-31  \n",
       "           K55301BU6139      -157482  5077009  0.1429    0.143 2024-12-31  \n",
       "           K55364CF7048      5077655  5077654  0.1429    0.143 2024-12-31  \n",
       "           K55234BY9966      5077162  5077162  0.1429    0.143 2024-12-31  \n",
       "           K55213C50702      5076831  5076831  0.1429    0.143 2024-12-31  \n",
       "           K55234DF3150      5077180  5077180  0.1429    0.143 2024-12-31  \n",
       "           K55301BU6253      5077278  5077278  0.1429    0.143 2024-12-31  "
      ]
     },
     "execution_count": 16,
     "metadata": {},
     "output_type": "execute_result"
    }
   ],
   "source": [
    "kwargs = dict(\n",
    "    date = WidgetTransaction.values(0),\n",
    "    capital = WidgetTransaction.values(1),\n",
    "    save = WidgetTransaction.values(2)\n",
    ")\n",
    "_ = pf_tdf.transaction_pipeline(**kwargs)\n",
    "\n",
    "pf_tdf.view_record()"
   ]
  },
  {
   "cell_type": "markdown",
   "id": "f86d2f0d-9368-4db8-a1af-6f767f32d2ca",
   "metadata": {},
   "source": [
    "## HANA"
   ]
  },
  {
   "cell_type": "code",
   "execution_count": 33,
   "id": "e64c06b3-5026-4d66-b1ed-8ce5ae691181",
   "metadata": {},
   "outputs": [],
   "source": [
    "#selected = ['KR5101888398', 'KR5236AS4826', 'KR5370AP9956', 'K55306CV9946']\n",
    "selected = None"
   ]
  },
  {
   "cell_type": "code",
   "execution_count": 35,
   "id": "cdee2ec4-982e-4d6a-8dd6-42f4c76edb00",
   "metadata": {},
   "outputs": [
    {
     "name": "stdout",
     "output_type": "stream",
     "text": [
      "64 securities from 2008-11-28 to 2024-12-31 uploaded.\n",
      "WARNING: the number of days in a year with 64 tickers (100%) is 12 in avg.\n",
      "REMINDER: 64 equities converted to daily (days in year: 365)\n",
      "Daily metrics in Performance statistics must be meaningless\n",
      "Price data loaded\n",
      "Cost data transaction_cost_241217.csv loaded\n",
      "Transaction record to 2024-08-01 loaded\n"
     ]
    },
    {
     "data": {
      "text/html": [
       "<div>\n",
       "<style scoped>\n",
       "    .dataframe tbody tr th:only-of-type {\n",
       "        vertical-align: middle;\n",
       "    }\n",
       "\n",
       "    .dataframe tbody tr th {\n",
       "        vertical-align: top;\n",
       "    }\n",
       "\n",
       "    .dataframe thead th {\n",
       "        text-align: right;\n",
       "    }\n",
       "</style>\n",
       "<table border=\"1\" class=\"dataframe\">\n",
       "  <thead>\n",
       "    <tr style=\"text-align: right;\">\n",
       "      <th></th>\n",
       "      <th></th>\n",
       "      <th>name</th>\n",
       "      <th>ratio</th>\n",
       "      <th>transaction</th>\n",
       "      <th>net</th>\n",
       "      <th>weight</th>\n",
       "      <th>weight*</th>\n",
       "      <th>date*</th>\n",
       "    </tr>\n",
       "    <tr>\n",
       "      <th>date</th>\n",
       "      <th>ticker</th>\n",
       "      <th></th>\n",
       "      <th></th>\n",
       "      <th></th>\n",
       "      <th></th>\n",
       "      <th></th>\n",
       "      <th></th>\n",
       "      <th></th>\n",
       "    </tr>\n",
       "  </thead>\n",
       "  <tbody>\n",
       "    <tr>\n",
       "      <th rowspan=\"4\" valign=\"top\">2024-08-01</th>\n",
       "      <th>KR5101888398</th>\n",
       "      <td>한국투자크레딧포커스ESG증권자투자신탁 1(채권)(C-e)</td>\n",
       "      <td>1</td>\n",
       "      <td>5020000</td>\n",
       "      <td>5020000</td>\n",
       "      <td>0.502</td>\n",
       "      <td>0.503</td>\n",
       "      <td>2024-08-01</td>\n",
       "    </tr>\n",
       "    <tr>\n",
       "      <th>KR5236AS4826</th>\n",
       "      <td>한국밸류10년투자증권투자신탁 1(채권혼합)종류C-E</td>\n",
       "      <td>1</td>\n",
       "      <td>2420000</td>\n",
       "      <td>2420000</td>\n",
       "      <td>0.242</td>\n",
       "      <td>0.242</td>\n",
       "      <td>2024-08-01</td>\n",
       "    </tr>\n",
       "    <tr>\n",
       "      <th>KR5370AP9956</th>\n",
       "      <td>AB글로벌고수익증권투자신탁(채권-재간접형)종류형Ce</td>\n",
       "      <td>1</td>\n",
       "      <td>1860000</td>\n",
       "      <td>1860000</td>\n",
       "      <td>0.186</td>\n",
       "      <td>0.186</td>\n",
       "      <td>2024-08-01</td>\n",
       "    </tr>\n",
       "    <tr>\n",
       "      <th>K55306CV9946</th>\n",
       "      <td>다올글로벌멀티에셋인컴EMP증권자투자신탁[혼합-재간접형](공)종류Ce</td>\n",
       "      <td>1</td>\n",
       "      <td>690000</td>\n",
       "      <td>690000</td>\n",
       "      <td>0.069</td>\n",
       "      <td>0.069</td>\n",
       "      <td>2024-08-01</td>\n",
       "    </tr>\n",
       "  </tbody>\n",
       "</table>\n",
       "</div>"
      ],
      "text/plain": [
       "                                                          name  ratio  \\\n",
       "date       ticker                                                       \n",
       "2024-08-01 KR5101888398        한국투자크레딧포커스ESG증권자투자신탁 1(채권)(C-e)      1   \n",
       "           KR5236AS4826           한국밸류10년투자증권투자신탁 1(채권혼합)종류C-E      1   \n",
       "           KR5370AP9956           AB글로벌고수익증권투자신탁(채권-재간접형)종류형Ce      1   \n",
       "           K55306CV9946  다올글로벌멀티에셋인컴EMP증권자투자신탁[혼합-재간접형](공)종류Ce      1   \n",
       "\n",
       "                         transaction      net  weight  weight*      date*  \n",
       "date       ticker                                                          \n",
       "2024-08-01 KR5101888398      5020000  5020000   0.502    0.503 2024-08-01  \n",
       "           KR5236AS4826      2420000  2420000   0.242    0.242 2024-08-01  \n",
       "           KR5370AP9956      1860000  1860000   0.186    0.186 2024-08-01  \n",
       "           K55306CV9946       690000   690000   0.069    0.069 2024-08-01  "
      ]
     },
     "execution_count": 35,
     "metadata": {},
     "output_type": "execute_result"
    }
   ],
   "source": [
    "pf_hana = PM.create_portfolio('HANA_2408', tickers=selected, **kw_cost)\n",
    "pf_hana.view_record()"
   ]
  },
  {
   "cell_type": "code",
   "execution_count": 49,
   "id": "4157dba3-e659-4973-9d46-1419afde22a8",
   "metadata": {},
   "outputs": [],
   "source": [
    "#pf_hana.portfolio_data['strategy']\n",
    "#pf_hana.cost\n",
    "#pf_hana.get_names()"
   ]
  },
  {
   "cell_type": "code",
   "execution_count": 38,
   "id": "01ec254d-f913-4bdd-97d2-574bc55b45a0",
   "metadata": {},
   "outputs": [
    {
     "data": {
      "image/png": "[encoded data removed]",
      "text/plain": [
       "<Figure size 1000x600 with 2 Axes>"
      ]
     },
     "metadata": {},
     "output_type": "display_data"
    }
   ],
   "source": [
    "pf_hana.plot(total=False, roi=False)"
   ]
  },
  {
   "cell_type": "code",
   "execution_count": 51,
   "id": "d53b2aad-17ae-47ba-ab04-81dd385692b5",
   "metadata": {},
   "outputs": [
    {
     "data": {
      "application/vnd.jupyter.widget-view+json": {
       "model_id": "7b65c23e236d4fb8896e08cf8596cd0b",
       "version_major": 2,
       "version_minor": 0
      },
      "text/plain": [
       "VBox(children=(DatePicker(value=None, layout=Layout(width='200px'), step=1), IntSlider(value=5000000, continuo…"
      ]
     },
     "execution_count": 51,
     "metadata": {},
     "output_type": "execute_result"
    }
   ],
   "source": [
    "# set kwargs of transaction_pipeline\n",
    "WidgetTransaction"
   ]
  },
  {
   "cell_type": "code",
   "execution_count": 52,
   "id": "13999c3b-6dac-4b53-92dc-d6abb31f2cbb",
   "metadata": {},
   "outputs": [
    {
     "name": "stdout",
     "output_type": "stream",
     "text": [
      "Liquidation set to None\n",
      "4 tickers selected by Selected from 2022-11-29 to 2024-11-29\n",
      "Weights of tickers determined by Inv.Vol.\n",
      "New cash inflows of 5,000,000\n",
      "Mean absolute error of weights: 0 %\n",
      "ROI: 0.6%, UGL: 88,000  (2024-11-29)\n",
      "Set save=True to save transaction record\n"
     ]
    },
    {
     "data": {
      "text/html": [
       "<div>\n",
       "<style scoped>\n",
       "    .dataframe tbody tr th:only-of-type {\n",
       "        vertical-align: middle;\n",
       "    }\n",
       "\n",
       "    .dataframe tbody tr th {\n",
       "        vertical-align: top;\n",
       "    }\n",
       "\n",
       "    .dataframe thead th {\n",
       "        text-align: right;\n",
       "    }\n",
       "</style>\n",
       "<table border=\"1\" class=\"dataframe\">\n",
       "  <thead>\n",
       "    <tr style=\"text-align: right;\">\n",
       "      <th></th>\n",
       "      <th></th>\n",
       "      <th>name</th>\n",
       "      <th>ratio</th>\n",
       "      <th>transaction</th>\n",
       "      <th>net</th>\n",
       "      <th>weight</th>\n",
       "      <th>weight*</th>\n",
       "      <th>date*</th>\n",
       "    </tr>\n",
       "    <tr>\n",
       "      <th>date</th>\n",
       "      <th>ticker</th>\n",
       "      <th></th>\n",
       "      <th></th>\n",
       "      <th></th>\n",
       "      <th></th>\n",
       "      <th></th>\n",
       "      <th></th>\n",
       "      <th></th>\n",
       "    </tr>\n",
       "  </thead>\n",
       "  <tbody>\n",
       "    <tr>\n",
       "      <th rowspan=\"4\" valign=\"top\">2024-08-01</th>\n",
       "      <th>KR5101888398</th>\n",
       "      <td>한국투자크레딧포커스ESG증권자투자신탁 1(채권)(C-e)</td>\n",
       "      <td>1</td>\n",
       "      <td>5020000</td>\n",
       "      <td>5020000</td>\n",
       "      <td>0.5020</td>\n",
       "      <td>0.503</td>\n",
       "      <td>2024-08-01</td>\n",
       "    </tr>\n",
       "    <tr>\n",
       "      <th>KR5236AS4826</th>\n",
       "      <td>한국밸류10년투자증권투자신탁 1(채권혼합)종류C-E</td>\n",
       "      <td>1</td>\n",
       "      <td>2420000</td>\n",
       "      <td>2420000</td>\n",
       "      <td>0.2420</td>\n",
       "      <td>0.242</td>\n",
       "      <td>2024-08-01</td>\n",
       "    </tr>\n",
       "    <tr>\n",
       "      <th>KR5370AP9956</th>\n",
       "      <td>AB글로벌고수익증권투자신탁(채권-재간접형)종류형Ce</td>\n",
       "      <td>1</td>\n",
       "      <td>1860000</td>\n",
       "      <td>1860000</td>\n",
       "      <td>0.1860</td>\n",
       "      <td>0.186</td>\n",
       "      <td>2024-08-01</td>\n",
       "    </tr>\n",
       "    <tr>\n",
       "      <th>K55306CV9946</th>\n",
       "      <td>다올글로벌멀티에셋인컴EMP증권자투자신탁[혼합-재간접형](공)종류Ce</td>\n",
       "      <td>1</td>\n",
       "      <td>690000</td>\n",
       "      <td>690000</td>\n",
       "      <td>0.0690</td>\n",
       "      <td>0.069</td>\n",
       "      <td>2024-08-01</td>\n",
       "    </tr>\n",
       "    <tr>\n",
       "      <th rowspan=\"4\" valign=\"top\">2024-11-29</th>\n",
       "      <th>KR5101888398</th>\n",
       "      <td>한국투자크레딧포커스ESG증권자투자신탁 1(채권)(C-e)</td>\n",
       "      <td>1</td>\n",
       "      <td>3383285</td>\n",
       "      <td>8503829</td>\n",
       "      <td>0.5633</td>\n",
       "      <td>0.563</td>\n",
       "      <td>2024-11-29</td>\n",
       "    </tr>\n",
       "    <tr>\n",
       "      <th>KR5236AS4826</th>\n",
       "      <td>한국밸류10년투자증권투자신탁 1(채권혼합)종류C-E</td>\n",
       "      <td>1</td>\n",
       "      <td>835773</td>\n",
       "      <td>3226604</td>\n",
       "      <td>0.2138</td>\n",
       "      <td>0.214</td>\n",
       "      <td>2024-11-29</td>\n",
       "    </tr>\n",
       "    <tr>\n",
       "      <th>KR5370AP9956</th>\n",
       "      <td>AB글로벌고수익증권투자신탁(채권-재간접형)종류형Ce</td>\n",
       "      <td>1</td>\n",
       "      <td>447243</td>\n",
       "      <td>2355309</td>\n",
       "      <td>0.1561</td>\n",
       "      <td>0.156</td>\n",
       "      <td>2024-11-29</td>\n",
       "    </tr>\n",
       "    <tr>\n",
       "      <th>K55306CV9946</th>\n",
       "      <td>다올글로벌멀티에셋인컴EMP증권자투자신탁[혼합-재간접형](공)종류Ce</td>\n",
       "      <td>1</td>\n",
       "      <td>330213</td>\n",
       "      <td>1007446</td>\n",
       "      <td>0.0668</td>\n",
       "      <td>0.067</td>\n",
       "      <td>2024-11-29</td>\n",
       "    </tr>\n",
       "  </tbody>\n",
       "</table>\n",
       "</div>"
      ],
      "text/plain": [
       "                                                          name  ratio  \\\n",
       "date       ticker                                                       \n",
       "2024-08-01 KR5101888398        한국투자크레딧포커스ESG증권자투자신탁 1(채권)(C-e)      1   \n",
       "           KR5236AS4826           한국밸류10년투자증권투자신탁 1(채권혼합)종류C-E      1   \n",
       "           KR5370AP9956           AB글로벌고수익증권투자신탁(채권-재간접형)종류형Ce      1   \n",
       "           K55306CV9946  다올글로벌멀티에셋인컴EMP증권자투자신탁[혼합-재간접형](공)종류Ce      1   \n",
       "2024-11-29 KR5101888398        한국투자크레딧포커스ESG증권자투자신탁 1(채권)(C-e)      1   \n",
       "           KR5236AS4826           한국밸류10년투자증권투자신탁 1(채권혼합)종류C-E      1   \n",
       "           KR5370AP9956           AB글로벌고수익증권투자신탁(채권-재간접형)종류형Ce      1   \n",
       "           K55306CV9946  다올글로벌멀티에셋인컴EMP증권자투자신탁[혼합-재간접형](공)종류Ce      1   \n",
       "\n",
       "                         transaction      net  weight  weight*      date*  \n",
       "date       ticker                                                          \n",
       "2024-08-01 KR5101888398      5020000  5020000  0.5020    0.503 2024-08-01  \n",
       "           KR5236AS4826      2420000  2420000  0.2420    0.242 2024-08-01  \n",
       "           KR5370AP9956      1860000  1860000  0.1860    0.186 2024-08-01  \n",
       "           K55306CV9946       690000   690000  0.0690    0.069 2024-08-01  \n",
       "2024-11-29 KR5101888398      3383285  8503829  0.5633    0.563 2024-11-29  \n",
       "           KR5236AS4826       835773  3226604  0.2138    0.214 2024-11-29  \n",
       "           KR5370AP9956       447243  2355309  0.1561    0.156 2024-11-29  \n",
       "           K55306CV9946       330213  1007446  0.0668    0.067 2024-11-29  "
      ]
     },
     "execution_count": 52,
     "metadata": {},
     "output_type": "execute_result"
    }
   ],
   "source": [
    "kwargs = dict(\n",
    "    date = WidgetTransaction.values(0),\n",
    "    capital = WidgetTransaction.values(1),\n",
    "    save = WidgetTransaction.values(2)\n",
    ")\n",
    "_ = pf_hana.transaction_pipeline(**kwargs)\n",
    "pf_hana.view_record()"
   ]
  },
  {
   "cell_type": "markdown",
   "id": "4918b1d0-3752-4e61-93c8-50bb121877f5",
   "metadata": {},
   "source": [
    "# testing"
   ]
  },
  {
   "cell_type": "code",
   "execution_count": 1,
   "id": "e93ceb72-d0da-4382-8c0b-ae0d521b02b6",
   "metadata": {},
   "outputs": [
    {
     "name": "stderr",
     "output_type": "stream",
     "text": [
      "WARNING (pytensor.tensor.blas): Using NumPy C-API based implementation for BLAS functions.\n"
     ]
    }
   ],
   "source": [
    "from pf_utils import PortfolioManager as PM \n",
    "from pf_utils import FinancialRatios, METRICS, FundDownloader\n",
    "from pf_widgets import WidgetUniverse, WidgetTransaction, w_date"
   ]
  },
  {
   "cell_type": "code",
   "execution_count": 2,
   "id": "a5b88225-85d6-40ad-9b20-f9e52bef81f2",
   "metadata": {},
   "outputs": [],
   "source": [
    "path_data = 'data'\n",
    "path_tran = 'transaction'"
   ]
  },
  {
   "cell_type": "code",
   "execution_count": 3,
   "id": "47db7a3e-eba4-4735-a7f2-a5ea0456fa5a",
   "metadata": {},
   "outputs": [],
   "source": [
    "file_cost='transaction_cost'\n",
    "kw_cost = {'cost': file_cost}"
   ]
  },
  {
   "cell_type": "code",
   "execution_count": 4,
   "id": "1f2b8f1e-d4f6-4fd8-836f-59cbccfaa737",
   "metadata": {},
   "outputs": [
    {
     "name": "stdout",
     "output_type": "stream",
     "text": [
      "200 securities from 2022-01-03 to 2025-01-20 uploaded.\n",
      "No data found\n",
      "ERROR: Failed to get ticker names\n",
      "Price data loaded\n",
      "No data found\n",
      "ERROR: Failed to get ticker names\n",
      "Cost data transaction_cost_241217.csv loaded\n",
      "Transaction record to 2025-01-16 loaded\n"
     ]
    }
   ],
   "source": [
    "pf_mmt = PM.create_portfolio('MMT_2407', **kw_cost) "
   ]
  },
  {
   "cell_type": "code",
   "execution_count": null,
   "id": "c3440dd4-f7a2-4300-a4a7-738d3fce5e05",
   "metadata": {},
   "outputs": [],
   "source": []
  },
  {
   "cell_type": "markdown",
   "id": "8695cb0c-e174-4785-9455-466e5986a632",
   "metadata": {},
   "source": [
    "## TODO"
   ]
  },
  {
   "cell_type": "code",
   "execution_count": 184,
   "id": "156d8a90-f284-4b4b-9377-b66748bef852",
   "metadata": {
    "scrolled": true
   },
   "outputs": [],
   "source": [
    "df_rec = pf_mmt.view_record(value=True)\n",
    "cols_record = pf_mmt.cols_record\n",
    "\n",
    "cm = CostManager(df_rec, pf_mmt.cols_record, pf_mmt.date_format)\n",
    "df_net = calc_cashflow_history(cm, total=True)"
   ]
  },
  {
   "cell_type": "code",
   "execution_count": 186,
   "id": "8d2d8fe4-2c0e-4ab5-848d-c468c4332d73",
   "metadata": {},
   "outputs": [
    {
     "data": {
      "text/html": [
       "<div>\n",
       "<style scoped>\n",
       "    .dataframe tbody tr th:only-of-type {\n",
       "        vertical-align: middle;\n",
       "    }\n",
       "\n",
       "    .dataframe tbody tr th {\n",
       "        vertical-align: top;\n",
       "    }\n",
       "\n",
       "    .dataframe thead th {\n",
       "        text-align: right;\n",
       "    }\n",
       "</style>\n",
       "<table border=\"1\" class=\"dataframe\">\n",
       "  <thead>\n",
       "    <tr style=\"text-align: right;\">\n",
       "      <th></th>\n",
       "      <th>buy</th>\n",
       "      <th>sell</th>\n",
       "    </tr>\n",
       "    <tr>\n",
       "      <th>date</th>\n",
       "      <th></th>\n",
       "      <th></th>\n",
       "    </tr>\n",
       "  </thead>\n",
       "  <tbody>\n",
       "    <tr>\n",
       "      <th>2024-07-22</th>\n",
       "      <td>1.425552e+07</td>\n",
       "      <td>0.000000e+00</td>\n",
       "    </tr>\n",
       "    <tr>\n",
       "      <th>2024-08-22</th>\n",
       "      <td>2.041484e+07</td>\n",
       "      <td>4.321649e+06</td>\n",
       "    </tr>\n",
       "    <tr>\n",
       "      <th>2024-09-26</th>\n",
       "      <td>2.041484e+07</td>\n",
       "      <td>7.141461e+06</td>\n",
       "    </tr>\n",
       "    <tr>\n",
       "      <th>2024-09-27</th>\n",
       "      <td>2.323995e+07</td>\n",
       "      <td>7.141461e+06</td>\n",
       "    </tr>\n",
       "    <tr>\n",
       "      <th>2024-10-08</th>\n",
       "      <td>2.631206e+07</td>\n",
       "      <td>1.049005e+07</td>\n",
       "    </tr>\n",
       "    <tr>\n",
       "      <th>2024-11-11</th>\n",
       "      <td>2.935057e+07</td>\n",
       "      <td>1.429595e+07</td>\n",
       "    </tr>\n",
       "    <tr>\n",
       "      <th>2024-12-16</th>\n",
       "      <td>3.669584e+07</td>\n",
       "      <td>2.272714e+07</td>\n",
       "    </tr>\n",
       "  </tbody>\n",
       "</table>\n",
       "</div>"
      ],
      "text/plain": [
       "                     buy          sell\n",
       "date                                  \n",
       "2024-07-22  1.425552e+07  0.000000e+00\n",
       "2024-08-22  2.041484e+07  4.321649e+06\n",
       "2024-09-26  2.041484e+07  7.141461e+06\n",
       "2024-09-27  2.323995e+07  7.141461e+06\n",
       "2024-10-08  2.631206e+07  1.049005e+07\n",
       "2024-11-11  2.935057e+07  1.429595e+07\n",
       "2024-12-16  3.669584e+07  2.272714e+07"
      ]
     },
     "execution_count": 186,
     "metadata": {},
     "output_type": "execute_result"
    }
   ],
   "source": [
    "df_net.groupby('date').sum()"
   ]
  },
  {
   "cell_type": "code",
   "execution_count": null,
   "id": "175a9f47-6b77-45b7-9c88-164637175c53",
   "metadata": {},
   "outputs": [],
   "source": []
  },
  {
   "cell_type": "code",
   "execution_count": null,
   "id": "ab86edcf-19dd-473f-a5ef-3d9f28962393",
   "metadata": {},
   "outputs": [],
   "source": []
  },
  {
   "cell_type": "code",
   "execution_count": 175,
   "id": "0937b868-2e5c-4f6b-9bda-cfd22628dfaa",
   "metadata": {
    "scrolled": true
   },
   "outputs": [],
   "source": [
    "date = None\n",
    "percent = True\n",
    "cost=dict(buy=0.00363960, sell=0.00363960, tax=0.18, fee=0)\n",
    "self = cm\n",
    "\n",
    "df_cf = calc_cashflow_history(cm)\n",
    "df_cost = self.calc_cost(date=date, percent=percent, **cost)\n",
    "\n",
    "df_cost = df_cost.rename(columns={'buy':'cost_buy'})\n",
    "df_cost['cost_sell'] = df_cost['sell'] + df_cost['fee'] + df_cost['tax']\n",
    "df_cost = df_cost[['cost_buy', 'cost_sell']]\n",
    "df_cost = df_cost.unstack(col_tkr).cumsum().ffill().stack()"
   ]
  },
  {
   "cell_type": "code",
   "execution_count": null,
   "id": "fdaf9a4c-024a-48d3-a9aa-9a9179da4311",
   "metadata": {
    "scrolled": true
   },
   "outputs": [],
   "source": [
    "df_net = df_cf.join(df_cost, how='outer').ffill()\n",
    "df_net['buy']  = df_net['buy'] + df_net['cost_buy']\n",
    "df_net['sell']  = df_net['sell'] - df_net['cost_sell']"
   ]
  },
  {
   "cell_type": "code",
   "execution_count": 177,
   "id": "70b25ed5-6889-4a2e-aa46-1662c26e2b79",
   "metadata": {
    "scrolled": true
   },
   "outputs": [
    {
     "data": {
      "text/html": [
       "<div>\n",
       "<style scoped>\n",
       "    .dataframe tbody tr th:only-of-type {\n",
       "        vertical-align: middle;\n",
       "    }\n",
       "\n",
       "    .dataframe tbody tr th {\n",
       "        vertical-align: top;\n",
       "    }\n",
       "\n",
       "    .dataframe thead th {\n",
       "        text-align: right;\n",
       "    }\n",
       "</style>\n",
       "<table border=\"1\" class=\"dataframe\">\n",
       "  <thead>\n",
       "    <tr style=\"text-align: right;\">\n",
       "      <th></th>\n",
       "      <th></th>\n",
       "      <th>buy</th>\n",
       "      <th>sell</th>\n",
       "      <th>cost_buy</th>\n",
       "      <th>cost_sell</th>\n",
       "    </tr>\n",
       "    <tr>\n",
       "      <th>date</th>\n",
       "      <th>ticker</th>\n",
       "      <th></th>\n",
       "      <th></th>\n",
       "      <th></th>\n",
       "      <th></th>\n",
       "    </tr>\n",
       "  </thead>\n",
       "  <tbody>\n",
       "    <tr>\n",
       "      <th rowspan=\"5\" valign=\"top\">2024-07-22</th>\n",
       "      <th>000150</th>\n",
       "      <td>2.600095e+06</td>\n",
       "      <td>0.000000e+00</td>\n",
       "      <td>94.629600</td>\n",
       "      <td>0.000000</td>\n",
       "    </tr>\n",
       "    <tr>\n",
       "      <th>003230</th>\n",
       "      <td>3.185116e+06</td>\n",
       "      <td>0.000000e+00</td>\n",
       "      <td>115.921260</td>\n",
       "      <td>0.000000</td>\n",
       "    </tr>\n",
       "    <tr>\n",
       "      <th>010120</th>\n",
       "      <td>2.664097e+06</td>\n",
       "      <td>0.000000e+00</td>\n",
       "      <td>96.958944</td>\n",
       "      <td>0.000000</td>\n",
       "    </tr>\n",
       "    <tr>\n",
       "      <th>042700</th>\n",
       "      <td>2.980108e+06</td>\n",
       "      <td>0.000000e+00</td>\n",
       "      <td>108.460080</td>\n",
       "      <td>0.000000</td>\n",
       "    </tr>\n",
       "    <tr>\n",
       "      <th>267260</th>\n",
       "      <td>2.826103e+06</td>\n",
       "      <td>0.000000e+00</td>\n",
       "      <td>102.855096</td>\n",
       "      <td>0.000000</td>\n",
       "    </tr>\n",
       "    <tr>\n",
       "      <th rowspan=\"7\" valign=\"top\">2024-08-22</th>\n",
       "      <th>000150</th>\n",
       "      <td>2.600095e+06</td>\n",
       "      <td>1.915276e+06</td>\n",
       "      <td>94.629600</td>\n",
       "      <td>3523.676645</td>\n",
       "    </tr>\n",
       "    <tr>\n",
       "      <th>003230</th>\n",
       "      <td>3.694134e+06</td>\n",
       "      <td>0.000000e+00</td>\n",
       "      <td>134.446824</td>\n",
       "      <td>0.000000</td>\n",
       "    </tr>\n",
       "    <tr>\n",
       "      <th>010120</th>\n",
       "      <td>2.664097e+06</td>\n",
       "      <td>2.088957e+06</td>\n",
       "      <td>96.958944</td>\n",
       "      <td>3843.209549</td>\n",
       "    </tr>\n",
       "    <tr>\n",
       "      <th>012450</th>\n",
       "      <td>2.825103e+06</td>\n",
       "      <td>0.000000e+00</td>\n",
       "      <td>102.818700</td>\n",
       "      <td>0.000000</td>\n",
       "    </tr>\n",
       "    <tr>\n",
       "      <th>042700</th>\n",
       "      <td>3.103213e+06</td>\n",
       "      <td>0.000000e+00</td>\n",
       "      <td>112.940428</td>\n",
       "      <td>0.000000</td>\n",
       "    </tr>\n",
       "    <tr>\n",
       "      <th>079550</th>\n",
       "      <td>2.702098e+06</td>\n",
       "      <td>0.000000e+00</td>\n",
       "      <td>98.341992</td>\n",
       "      <td>0.000000</td>\n",
       "    </tr>\n",
       "    <tr>\n",
       "      <th>267260</th>\n",
       "      <td>2.826103e+06</td>\n",
       "      <td>3.174160e+05</td>\n",
       "      <td>102.855096</td>\n",
       "      <td>583.973928</td>\n",
       "    </tr>\n",
       "    <tr>\n",
       "      <th rowspan=\"7\" valign=\"top\">2024-09-26</th>\n",
       "      <th>000150</th>\n",
       "      <td>2.600095e+06</td>\n",
       "      <td>1.915276e+06</td>\n",
       "      <td>94.629600</td>\n",
       "      <td>3523.676645</td>\n",
       "    </tr>\n",
       "    <tr>\n",
       "      <th>003230</th>\n",
       "      <td>3.694134e+06</td>\n",
       "      <td>0.000000e+00</td>\n",
       "      <td>134.446824</td>\n",
       "      <td>0.000000</td>\n",
       "    </tr>\n",
       "    <tr>\n",
       "      <th>010120</th>\n",
       "      <td>2.664097e+06</td>\n",
       "      <td>2.088957e+06</td>\n",
       "      <td>96.958944</td>\n",
       "      <td>3843.209549</td>\n",
       "    </tr>\n",
       "    <tr>\n",
       "      <th>012450</th>\n",
       "      <td>2.825103e+06</td>\n",
       "      <td>2.819812e+06</td>\n",
       "      <td>102.818700</td>\n",
       "      <td>5187.818700</td>\n",
       "    </tr>\n",
       "    <tr>\n",
       "      <th>042700</th>\n",
       "      <td>3.103213e+06</td>\n",
       "      <td>0.000000e+00</td>\n",
       "      <td>112.940428</td>\n",
       "      <td>0.000000</td>\n",
       "    </tr>\n",
       "    <tr>\n",
       "      <th>079550</th>\n",
       "      <td>2.702098e+06</td>\n",
       "      <td>0.000000e+00</td>\n",
       "      <td>98.341992</td>\n",
       "      <td>0.000000</td>\n",
       "    </tr>\n",
       "    <tr>\n",
       "      <th>267260</th>\n",
       "      <td>2.826103e+06</td>\n",
       "      <td>3.174160e+05</td>\n",
       "      <td>102.855096</td>\n",
       "      <td>583.973928</td>\n",
       "    </tr>\n",
       "    <tr>\n",
       "      <th rowspan=\"8\" valign=\"top\">2024-09-27</th>\n",
       "      <th>000150</th>\n",
       "      <td>2.600095e+06</td>\n",
       "      <td>1.915276e+06</td>\n",
       "      <td>94.629600</td>\n",
       "      <td>3523.676645</td>\n",
       "    </tr>\n",
       "    <tr>\n",
       "      <th>003230</th>\n",
       "      <td>3.694134e+06</td>\n",
       "      <td>0.000000e+00</td>\n",
       "      <td>134.446824</td>\n",
       "      <td>0.000000</td>\n",
       "    </tr>\n",
       "    <tr>\n",
       "      <th>010120</th>\n",
       "      <td>2.664097e+06</td>\n",
       "      <td>2.088957e+06</td>\n",
       "      <td>96.958944</td>\n",
       "      <td>3843.209549</td>\n",
       "    </tr>\n",
       "    <tr>\n",
       "      <th>012450</th>\n",
       "      <td>5.368487e+06</td>\n",
       "      <td>2.819812e+06</td>\n",
       "      <td>195.384356</td>\n",
       "      <td>5187.818700</td>\n",
       "    </tr>\n",
       "    <tr>\n",
       "      <th>042700</th>\n",
       "      <td>3.103213e+06</td>\n",
       "      <td>0.000000e+00</td>\n",
       "      <td>112.940428</td>\n",
       "      <td>0.000000</td>\n",
       "    </tr>\n",
       "    <tr>\n",
       "      <th>079550</th>\n",
       "      <td>2.702098e+06</td>\n",
       "      <td>0.000000e+00</td>\n",
       "      <td>98.341992</td>\n",
       "      <td>0.000000</td>\n",
       "    </tr>\n",
       "    <tr>\n",
       "      <th>267260</th>\n",
       "      <td>2.826103e+06</td>\n",
       "      <td>3.174160e+05</td>\n",
       "      <td>102.855096</td>\n",
       "      <td>583.973928</td>\n",
       "    </tr>\n",
       "    <tr>\n",
       "      <th>489790</th>\n",
       "      <td>2.817193e+05</td>\n",
       "      <td>0.000000e+00</td>\n",
       "      <td>10.253081</td>\n",
       "      <td>0.000000</td>\n",
       "    </tr>\n",
       "    <tr>\n",
       "      <th rowspan=\"9\" valign=\"top\">2024-10-08</th>\n",
       "      <th>000150</th>\n",
       "      <td>2.600095e+06</td>\n",
       "      <td>1.915276e+06</td>\n",
       "      <td>94.629600</td>\n",
       "      <td>3523.676645</td>\n",
       "    </tr>\n",
       "    <tr>\n",
       "      <th>003230</th>\n",
       "      <td>3.694134e+06</td>\n",
       "      <td>0.000000e+00</td>\n",
       "      <td>134.446824</td>\n",
       "      <td>0.000000</td>\n",
       "    </tr>\n",
       "    <tr>\n",
       "      <th>010120</th>\n",
       "      <td>2.664097e+06</td>\n",
       "      <td>2.088957e+06</td>\n",
       "      <td>96.958944</td>\n",
       "      <td>3843.209549</td>\n",
       "    </tr>\n",
       "    <tr>\n",
       "      <th>011790</th>\n",
       "      <td>3.072112e+06</td>\n",
       "      <td>0.000000e+00</td>\n",
       "      <td>111.808512</td>\n",
       "      <td>0.000000</td>\n",
       "    </tr>\n",
       "    <tr>\n",
       "      <th>012450</th>\n",
       "      <td>5.368487e+06</td>\n",
       "      <td>2.819812e+06</td>\n",
       "      <td>195.384356</td>\n",
       "      <td>5187.818700</td>\n",
       "    </tr>\n",
       "    <tr>\n",
       "      <th>042700</th>\n",
       "      <td>3.103213e+06</td>\n",
       "      <td>2.265931e+06</td>\n",
       "      <td>112.940428</td>\n",
       "      <td>4168.802560</td>\n",
       "    </tr>\n",
       "    <tr>\n",
       "      <th>079550</th>\n",
       "      <td>2.702098e+06</td>\n",
       "      <td>7.291585e+05</td>\n",
       "      <td>98.341992</td>\n",
       "      <td>1341.487278</td>\n",
       "    </tr>\n",
       "    <tr>\n",
       "      <th>267260</th>\n",
       "      <td>2.826103e+06</td>\n",
       "      <td>3.174160e+05</td>\n",
       "      <td>102.855096</td>\n",
       "      <td>583.973928</td>\n",
       "    </tr>\n",
       "    <tr>\n",
       "      <th>489790</th>\n",
       "      <td>2.817193e+05</td>\n",
       "      <td>3.534996e+05</td>\n",
       "      <td>10.253081</td>\n",
       "      <td>650.359643</td>\n",
       "    </tr>\n",
       "    <tr>\n",
       "      <th rowspan=\"10\" valign=\"top\">2024-11-11</th>\n",
       "      <th>000150</th>\n",
       "      <td>2.600095e+06</td>\n",
       "      <td>1.915276e+06</td>\n",
       "      <td>94.629600</td>\n",
       "      <td>3523.676645</td>\n",
       "    </tr>\n",
       "    <tr>\n",
       "      <th>003230</th>\n",
       "      <td>3.694134e+06</td>\n",
       "      <td>5.619661e+05</td>\n",
       "      <td>134.446824</td>\n",
       "      <td>1033.890948</td>\n",
       "    </tr>\n",
       "    <tr>\n",
       "      <th>010120</th>\n",
       "      <td>2.664097e+06</td>\n",
       "      <td>2.088957e+06</td>\n",
       "      <td>96.958944</td>\n",
       "      <td>3843.209549</td>\n",
       "    </tr>\n",
       "    <tr>\n",
       "      <th>011790</th>\n",
       "      <td>3.072112e+06</td>\n",
       "      <td>2.438414e+06</td>\n",
       "      <td>111.808512</td>\n",
       "      <td>4486.131788</td>\n",
       "    </tr>\n",
       "    <tr>\n",
       "      <th>012450</th>\n",
       "      <td>5.368487e+06</td>\n",
       "      <td>3.625330e+06</td>\n",
       "      <td>195.384356</td>\n",
       "      <td>6669.790272</td>\n",
       "    </tr>\n",
       "    <tr>\n",
       "      <th>042700</th>\n",
       "      <td>3.103213e+06</td>\n",
       "      <td>2.265931e+06</td>\n",
       "      <td>112.940428</td>\n",
       "      <td>4168.802560</td>\n",
       "    </tr>\n",
       "    <tr>\n",
       "      <th>064350</th>\n",
       "      <td>3.038511e+06</td>\n",
       "      <td>0.000000e+00</td>\n",
       "      <td>110.585606</td>\n",
       "      <td>0.000000</td>\n",
       "    </tr>\n",
       "    <tr>\n",
       "      <th>079550</th>\n",
       "      <td>2.702098e+06</td>\n",
       "      <td>7.291585e+05</td>\n",
       "      <td>98.341992</td>\n",
       "      <td>1341.487278</td>\n",
       "    </tr>\n",
       "    <tr>\n",
       "      <th>267260</th>\n",
       "      <td>2.826103e+06</td>\n",
       "      <td>3.174160e+05</td>\n",
       "      <td>102.855096</td>\n",
       "      <td>583.973928</td>\n",
       "    </tr>\n",
       "    <tr>\n",
       "      <th>489790</th>\n",
       "      <td>2.817193e+05</td>\n",
       "      <td>3.534996e+05</td>\n",
       "      <td>10.253081</td>\n",
       "      <td>650.359643</td>\n",
       "    </tr>\n",
       "    <tr>\n",
       "      <th rowspan=\"12\" valign=\"top\">2024-12-16</th>\n",
       "      <th>000150</th>\n",
       "      <td>5.325194e+06</td>\n",
       "      <td>1.915276e+06</td>\n",
       "      <td>193.808700</td>\n",
       "      <td>3523.676645</td>\n",
       "    </tr>\n",
       "    <tr>\n",
       "      <th>003230</th>\n",
       "      <td>3.694134e+06</td>\n",
       "      <td>2.017289e+06</td>\n",
       "      <td>134.446824</td>\n",
       "      <td>3711.356316</td>\n",
       "    </tr>\n",
       "    <tr>\n",
       "      <th>010120</th>\n",
       "      <td>2.664097e+06</td>\n",
       "      <td>2.088957e+06</td>\n",
       "      <td>96.958944</td>\n",
       "      <td>3843.209549</td>\n",
       "    </tr>\n",
       "    <tr>\n",
       "      <th>010130</th>\n",
       "      <td>2.330085e+06</td>\n",
       "      <td>0.000000e+00</td>\n",
       "      <td>84.802680</td>\n",
       "      <td>0.000000</td>\n",
       "    </tr>\n",
       "    <tr>\n",
       "      <th>011790</th>\n",
       "      <td>3.072112e+06</td>\n",
       "      <td>2.438414e+06</td>\n",
       "      <td>111.808512</td>\n",
       "      <td>4486.131788</td>\n",
       "    </tr>\n",
       "    <tr>\n",
       "      <th>012450</th>\n",
       "      <td>5.368487e+06</td>\n",
       "      <td>5.773878e+06</td>\n",
       "      <td>195.384356</td>\n",
       "      <td>10622.634498</td>\n",
       "    </tr>\n",
       "    <tr>\n",
       "      <th>042700</th>\n",
       "      <td>3.103213e+06</td>\n",
       "      <td>2.265931e+06</td>\n",
       "      <td>112.940428</td>\n",
       "      <td>4168.802560</td>\n",
       "    </tr>\n",
       "    <tr>\n",
       "      <th>064350</th>\n",
       "      <td>3.038511e+06</td>\n",
       "      <td>2.311747e+06</td>\n",
       "      <td>110.585606</td>\n",
       "      <td>4253.093136</td>\n",
       "    </tr>\n",
       "    <tr>\n",
       "      <th>079550</th>\n",
       "      <td>2.702098e+06</td>\n",
       "      <td>2.855946e+06</td>\n",
       "      <td>98.341992</td>\n",
       "      <td>5254.296235</td>\n",
       "    </tr>\n",
       "    <tr>\n",
       "      <th>267260</th>\n",
       "      <td>2.826103e+06</td>\n",
       "      <td>7.062007e+05</td>\n",
       "      <td>102.855096</td>\n",
       "      <td>1299.250170</td>\n",
       "    </tr>\n",
       "    <tr>\n",
       "      <th>298040</th>\n",
       "      <td>2.290083e+06</td>\n",
       "      <td>0.000000e+00</td>\n",
       "      <td>83.346840</td>\n",
       "      <td>0.000000</td>\n",
       "    </tr>\n",
       "    <tr>\n",
       "      <th>489790</th>\n",
       "      <td>2.817193e+05</td>\n",
       "      <td>3.534996e+05</td>\n",
       "      <td>10.253081</td>\n",
       "      <td>650.359643</td>\n",
       "    </tr>\n",
       "  </tbody>\n",
       "</table>\n",
       "</div>"
      ],
      "text/plain": [
       "                            buy          sell    cost_buy     cost_sell\n",
       "date       ticker                                                      \n",
       "2024-07-22 000150  2.600095e+06  0.000000e+00   94.629600      0.000000\n",
       "           003230  3.185116e+06  0.000000e+00  115.921260      0.000000\n",
       "           010120  2.664097e+06  0.000000e+00   96.958944      0.000000\n",
       "           042700  2.980108e+06  0.000000e+00  108.460080      0.000000\n",
       "           267260  2.826103e+06  0.000000e+00  102.855096      0.000000\n",
       "2024-08-22 000150  2.600095e+06  1.915276e+06   94.629600   3523.676645\n",
       "           003230  3.694134e+06  0.000000e+00  134.446824      0.000000\n",
       "           010120  2.664097e+06  2.088957e+06   96.958944   3843.209549\n",
       "           012450  2.825103e+06  0.000000e+00  102.818700      0.000000\n",
       "           042700  3.103213e+06  0.000000e+00  112.940428      0.000000\n",
       "           079550  2.702098e+06  0.000000e+00   98.341992      0.000000\n",
       "           267260  2.826103e+06  3.174160e+05  102.855096    583.973928\n",
       "2024-09-26 000150  2.600095e+06  1.915276e+06   94.629600   3523.676645\n",
       "           003230  3.694134e+06  0.000000e+00  134.446824      0.000000\n",
       "           010120  2.664097e+06  2.088957e+06   96.958944   3843.209549\n",
       "           012450  2.825103e+06  2.819812e+06  102.818700   5187.818700\n",
       "           042700  3.103213e+06  0.000000e+00  112.940428      0.000000\n",
       "           079550  2.702098e+06  0.000000e+00   98.341992      0.000000\n",
       "           267260  2.826103e+06  3.174160e+05  102.855096    583.973928\n",
       "2024-09-27 000150  2.600095e+06  1.915276e+06   94.629600   3523.676645\n",
       "           003230  3.694134e+06  0.000000e+00  134.446824      0.000000\n",
       "           010120  2.664097e+06  2.088957e+06   96.958944   3843.209549\n",
       "           012450  5.368487e+06  2.819812e+06  195.384356   5187.818700\n",
       "           042700  3.103213e+06  0.000000e+00  112.940428      0.000000\n",
       "           079550  2.702098e+06  0.000000e+00   98.341992      0.000000\n",
       "           267260  2.826103e+06  3.174160e+05  102.855096    583.973928\n",
       "           489790  2.817193e+05  0.000000e+00   10.253081      0.000000\n",
       "2024-10-08 000150  2.600095e+06  1.915276e+06   94.629600   3523.676645\n",
       "           003230  3.694134e+06  0.000000e+00  134.446824      0.000000\n",
       "           010120  2.664097e+06  2.088957e+06   96.958944   3843.209549\n",
       "           011790  3.072112e+06  0.000000e+00  111.808512      0.000000\n",
       "           012450  5.368487e+06  2.819812e+06  195.384356   5187.818700\n",
       "           042700  3.103213e+06  2.265931e+06  112.940428   4168.802560\n",
       "           079550  2.702098e+06  7.291585e+05   98.341992   1341.487278\n",
       "           267260  2.826103e+06  3.174160e+05  102.855096    583.973928\n",
       "           489790  2.817193e+05  3.534996e+05   10.253081    650.359643\n",
       "2024-11-11 000150  2.600095e+06  1.915276e+06   94.629600   3523.676645\n",
       "           003230  3.694134e+06  5.619661e+05  134.446824   1033.890948\n",
       "           010120  2.664097e+06  2.088957e+06   96.958944   3843.209549\n",
       "           011790  3.072112e+06  2.438414e+06  111.808512   4486.131788\n",
       "           012450  5.368487e+06  3.625330e+06  195.384356   6669.790272\n",
       "           042700  3.103213e+06  2.265931e+06  112.940428   4168.802560\n",
       "           064350  3.038511e+06  0.000000e+00  110.585606      0.000000\n",
       "           079550  2.702098e+06  7.291585e+05   98.341992   1341.487278\n",
       "           267260  2.826103e+06  3.174160e+05  102.855096    583.973928\n",
       "           489790  2.817193e+05  3.534996e+05   10.253081    650.359643\n",
       "2024-12-16 000150  5.325194e+06  1.915276e+06  193.808700   3523.676645\n",
       "           003230  3.694134e+06  2.017289e+06  134.446824   3711.356316\n",
       "           010120  2.664097e+06  2.088957e+06   96.958944   3843.209549\n",
       "           010130  2.330085e+06  0.000000e+00   84.802680      0.000000\n",
       "           011790  3.072112e+06  2.438414e+06  111.808512   4486.131788\n",
       "           012450  5.368487e+06  5.773878e+06  195.384356  10622.634498\n",
       "           042700  3.103213e+06  2.265931e+06  112.940428   4168.802560\n",
       "           064350  3.038511e+06  2.311747e+06  110.585606   4253.093136\n",
       "           079550  2.702098e+06  2.855946e+06   98.341992   5254.296235\n",
       "           267260  2.826103e+06  7.062007e+05  102.855096   1299.250170\n",
       "           298040  2.290083e+06  0.000000e+00   83.346840      0.000000\n",
       "           489790  2.817193e+05  3.534996e+05   10.253081    650.359643"
      ]
     },
     "execution_count": 177,
     "metadata": {},
     "output_type": "execute_result"
    }
   ],
   "source": [
    "df_net = df_cf.join(df_cost, how='outer')\n",
    "df_net['buy']  = df_net['buy'] + df_net['cost_buy']\n",
    "df_net['sell']  = df_net['sell'] - df_net['cost_sell']\n",
    "df_net"
   ]
  },
  {
   "cell_type": "code",
   "execution_count": null,
   "id": "794cca2d-bd88-4dd0-b886-646a41a85bc3",
   "metadata": {},
   "outputs": [],
   "source": []
  }
 ],
 "metadata": {
  "kernelspec": {
   "display_name": "portfolio",
   "language": "python",
   "name": "portfolio"
  },
  "language_info": {
   "codemirror_mode": {
    "name": "ipython",
    "version": 3
   },
   "file_extension": ".py",
   "mimetype": "text/x-python",
   "name": "python",
   "nbconvert_exporter": "python",
   "pygments_lexer": "ipython3",
   "version": "3.12.1"
  }
 },
 "nbformat": 4,
 "nbformat_minor": 5
}
