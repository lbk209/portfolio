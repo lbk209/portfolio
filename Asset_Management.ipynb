{
 "cells": [
  {
   "cell_type": "markdown",
   "id": "1a0d2b60-5842-4969-8229-84f355dc46fc",
   "metadata": {},
   "source": [
    "# Setting"
   ]
  },
  {
   "cell_type": "code",
   "execution_count": 1,
   "id": "7009fd2f-8efd-4ed3-a187-01939304fa9e",
   "metadata": {},
   "outputs": [
    {
     "name": "stderr",
     "output_type": "stream",
     "text": [
      "WARNING (pytensor.tensor.blas): Using NumPy C-API based implementation for BLAS functions.\n"
     ]
    }
   ],
   "source": [
    "from pf_utils import BacktestManager, DataManager, StaticPortfolio, MomentumPortfolio, AssetEvaluator, metrics\n",
    "from pf_widgets import WidgetUniverse, WidgetTransaction"
   ]
  },
  {
   "cell_type": "code",
   "execution_count": 2,
   "id": "723adb14-cd00-4d96-9c64-5a8628e82f44",
   "metadata": {},
   "outputs": [],
   "source": [
    "metrics2 = [\n",
    "    'total_return', 'cagr', 'monthly_vol', 'monthly_sharpe',\n",
    "    'max_drawdown', 'avg_drawdown','avg_drawdown_days', \n",
    "]\n",
    "\n",
    "path_data = 'data'\n",
    "path_tran = 'transaction'"
   ]
  },
  {
   "cell_type": "markdown",
   "id": "c786112f-9aef-4df7-8248-4ddcfcb2c1f0",
   "metadata": {},
   "source": [
    "# Universe"
   ]
  },
  {
   "cell_type": "code",
   "execution_count": 3,
   "id": "73024aab-e901-4e9c-94e2-a46e5b983dbe",
   "metadata": {},
   "outputs": [
    {
     "data": {
      "application/vnd.jupyter.widget-view+json": {
       "model_id": "2a855feb92174c139f8a2eeff2419e68",
       "version_major": 2,
       "version_minor": 0
      },
      "text/plain": [
       "VBox(children=(Checkbox(value=False, description='Download', indent=False), Checkbox(value=False, description=…"
      ]
     },
     "execution_count": 3,
     "metadata": {},
     "output_type": "execute_result"
    }
   ],
   "source": [
    "WidgetUniverse"
   ]
  },
  {
   "cell_type": "code",
   "execution_count": 4,
   "id": "bdb6f093-d816-4b0a-ad3f-1eaa80e35786",
   "metadata": {},
   "outputs": [],
   "source": [
    "# universe and file\n",
    "uv_k200 = ['kospi200', 'kospi200_prices.csv']\n",
    "uv_etf  = ['etf', 'etfs_all.csv']\n",
    "uv_irp  = ['fund', 'funds_irp.csv']\n",
    "uv_hana = ['fund', 'funds_kebhana.csv']"
   ]
  },
  {
   "cell_type": "markdown",
   "id": "1cb34ee5-b007-48b4-a11b-188e6bafad0f",
   "metadata": {},
   "source": [
    "## KOSPI200"
   ]
  },
  {
   "cell_type": "code",
   "execution_count": 5,
   "id": "8aa50408-fd2b-45f5-81ed-6c1a2479eb77",
   "metadata": {},
   "outputs": [
    {
     "name": "stdout",
     "output_type": "stream",
     "text": [
      "200 assets from 2021-01-04 to 2024-09-27 uploaded.\n",
      "df_prices updated\n"
     ]
    }
   ],
   "source": [
    "k200 = DataManager(\n",
    "    path = path_data,\n",
    "    **dict(zip(['universe', 'file'], uv_k200))\n",
    ")\n",
    "k200.upload()"
   ]
  },
  {
   "cell_type": "code",
   "execution_count": 6,
   "id": "56cfa843-ffc7-469f-a18d-aefecdac2e5d",
   "metadata": {},
   "outputs": [],
   "source": [
    "kw = dict(\n",
    "    n_years=3, \n",
    "    close_today = WidgetUniverse.values(1),\n",
    "    #tickers=k200.df_prices.columns\n",
    ")\n",
    "k200.download(**kw) if WidgetUniverse.values(0) else None"
   ]
  },
  {
   "cell_type": "code",
   "execution_count": 7,
   "id": "6654a8a7-4530-4c54-8fd7-46d71981e9f6",
   "metadata": {},
   "outputs": [],
   "source": [
    "df_k200 = k200.df_prices\n",
    "assetnames_k200 = k200.get_names()"
   ]
  },
  {
   "cell_type": "markdown",
   "id": "39d0213d-1cd0-42f6-8066-abb2eb6dd5db",
   "metadata": {},
   "source": [
    "## ETF"
   ]
  },
  {
   "cell_type": "code",
   "execution_count": 8,
   "id": "26a87f56-8333-4d02-bc67-2d58cda01a18",
   "metadata": {},
   "outputs": [
    {
     "name": "stdout",
     "output_type": "stream",
     "text": [
      "893 assets from 2021-01-04 to 2024-09-27 uploaded.\n",
      "df_prices updated\n"
     ]
    }
   ],
   "source": [
    "etf = DataManager(\n",
    "    path = path_data,\n",
    "    **dict(zip(['universe', 'file'], uv_etf)))\n",
    "etf.upload()"
   ]
  },
  {
   "cell_type": "code",
   "execution_count": 9,
   "id": "3cc26afb-d01e-4b99-9be0-fb446726b131",
   "metadata": {},
   "outputs": [],
   "source": [
    "kw = dict(\n",
    "    n_years=3, \n",
    "    close_today = WidgetUniverse.values(1),\n",
    "    #tickers=etf.df_prices.columns\n",
    ")\n",
    "etf.download(**kw) if WidgetUniverse.values(0) else None"
   ]
  },
  {
   "cell_type": "code",
   "execution_count": 10,
   "id": "35e4fe7f-1ebd-40f6-956c-44c464cb6a76",
   "metadata": {},
   "outputs": [
    {
     "data": {
      "text/plain": [
       "0) 069500: KODEX 200\n",
       "1) 273130: KODEX 종합채권(AA-이상)액티브\n",
       "2) 148070: KOSEF 국고채10년\n",
       "3) 379800: KODEX 미국S&P500TR\n",
       "4) 411060: ACE KRX금현물\n",
       "5) 284430: KODEX 200미국채혼합"
      ]
     },
     "execution_count": 10,
     "metadata": {},
     "output_type": "execute_result"
    }
   ],
   "source": [
    "choice = ['069500', '273130', '148070', '379800', '411060', '284430']\n",
    "df_etf = etf.df_prices[choice]\n",
    "assetnames_etf = etf.get_names(tickers=choice)\n",
    "assetnames_etf"
   ]
  },
  {
   "cell_type": "markdown",
   "id": "99c864db-6e90-4720-9287-a23b26b2263e",
   "metadata": {},
   "source": [
    "## IRP - FUNDS\n",
    "- https://www.kiwoomam.com/fund/KI0202020000M?parentfundcode=8325&fundcode=8335\n",
    "- https://www.kiwoomam.com/fund/KI0202020000M?parentfundcode=8370&fundcode=8380\n",
    "- https://investments.miraeasset.com/fund/view.do?fundGb=2&fundCd=537380&childFundGb=2&childFundCd=53738P\n",
    "- https://investments.miraeasset.com/fund/view.do?fundGb=2&fundCd=537400&childFundGb=2&childFundCd=53740P\n",
    "- https://investments.miraeasset.com/fund/view.do?fundGb=2&fundCd=537410&childFundGb=2&childFundCd=53741P\n",
    "- https://www.hanwhawm.com/main/finance/fundInfo/FI141_2.cmd?p=500&item_cd=5102896"
   ]
  },
  {
   "cell_type": "code",
   "execution_count": 13,
   "id": "c22863eb-b080-4dd0-b2b0-d199fba75c5a",
   "metadata": {},
   "outputs": [
    {
     "name": "stdout",
     "output_type": "stream",
     "text": [
      "Estimating price from \"data/funds_irp.csv\" ...\n",
      "  WARNING: taking the 1st two columns only.\n",
      "  WARNING: taking the 1st two columns only.\n",
      "Max error of 14 conversions: 0.16 %\n",
      "14 assets from 2017-07-31 to 2024-08-26 uploaded.\n",
      "df_prices updated\n",
      "WARNING: the number of days in a year with 14 assets (100%) is 121 in avg.\n"
     ]
    }
   ],
   "source": [
    "irp = DataManager(\n",
    "    upload_type = 'rate',\n",
    "    path = path_data,\n",
    "    **dict(zip(['universe', 'file'], uv_irp))\n",
    ")\n",
    "irp.upload()\n",
    "df = irp.check_days_in_year(252)"
   ]
  },
  {
   "cell_type": "code",
   "execution_count": 14,
   "id": "4ab328b2-8f44-40fc-b6cb-64f2e58d2d22",
   "metadata": {},
   "outputs": [
    {
     "name": "stdout",
     "output_type": "stream",
     "text": [
      "WARNING: the number of days in a year with 14 assets (100%) is 121 in avg.\n",
      "REMINDER: data converted to daily (days in year: 365)\n",
      "Daily metrics in Performance statistics must be meaningless\n"
     ]
    }
   ],
   "source": [
    "irp.convert_to_daily(True)"
   ]
  },
  {
   "cell_type": "code",
   "execution_count": 15,
   "id": "ca9f04ca-7358-4f4e-99ca-0b31d1857ce6",
   "metadata": {},
   "outputs": [],
   "source": [
    "df_irp = irp.df_prices\n",
    "assetnames_irp = irp.get_names()\n",
    "\n",
    "import pandas as pd\n",
    "df_an = pd.Series(assetnames_irp).to_frame('name')"
   ]
  },
  {
   "cell_type": "code",
   "execution_count": 16,
   "id": "b168cd3b-7986-4a19-bbff-44d1ac582f2d",
   "metadata": {},
   "outputs": [
    {
     "data": {
      "text/html": [
       "<div>\n",
       "<style scoped>\n",
       "    .dataframe tbody tr th:only-of-type {\n",
       "        vertical-align: middle;\n",
       "    }\n",
       "\n",
       "    .dataframe tbody tr th {\n",
       "        vertical-align: top;\n",
       "    }\n",
       "\n",
       "    .dataframe thead th {\n",
       "        text-align: right;\n",
       "    }\n",
       "</style>\n",
       "<table border=\"1\" class=\"dataframe\">\n",
       "  <thead>\n",
       "    <tr style=\"text-align: right;\">\n",
       "      <th></th>\n",
       "      <th>start date</th>\n",
       "      <th>end date</th>\n",
       "      <th>name</th>\n",
       "    </tr>\n",
       "  </thead>\n",
       "  <tbody>\n",
       "    <tr>\n",
       "      <th>K55223BT1450</th>\n",
       "      <td>2017-07-31</td>\n",
       "      <td>2024-07-31</td>\n",
       "      <td>KB온국민TDF2040증권투자신탁(주식혼합-재간접형)C-퇴직e</td>\n",
       "    </tr>\n",
       "    <tr>\n",
       "      <th>K55105BS5067</th>\n",
       "      <td>2017-07-31</td>\n",
       "      <td>2024-07-31</td>\n",
       "      <td>삼성한국형TDF2040증권투자신탁H[주식혼합-재간접형]C-Pe</td>\n",
       "    </tr>\n",
       "    <tr>\n",
       "      <th>K55210BU2435</th>\n",
       "      <td>2017-08-31</td>\n",
       "      <td>2024-07-31</td>\n",
       "      <td>신한마음편한TDF2040증권투자신탁[주식혼합-재간접형](종류C-re)</td>\n",
       "    </tr>\n",
       "    <tr>\n",
       "      <th>KR5223AE3357</th>\n",
       "      <td>2017-08-31</td>\n",
       "      <td>2024-07-31</td>\n",
       "      <td>kb퇴직연금배당증권자투자신탁(주식)C-E</td>\n",
       "    </tr>\n",
       "    <tr>\n",
       "      <th>K55365BT3694</th>\n",
       "      <td>2017-08-31</td>\n",
       "      <td>2024-07-31</td>\n",
       "      <td>kcgi코리아퇴직연금증권자투자신탁(주식)종류C-Pe2</td>\n",
       "    </tr>\n",
       "    <tr>\n",
       "      <th>K55207BU0715</th>\n",
       "      <td>2017-08-31</td>\n",
       "      <td>2024-07-31</td>\n",
       "      <td>교보악사파워인덱스증권자투자신탁1호(주식)C-Pe</td>\n",
       "    </tr>\n",
       "    <tr>\n",
       "      <th>K55203C53681</th>\n",
       "      <td>2018-04-30</td>\n",
       "      <td>2024-07-31</td>\n",
       "      <td>대신KOSPI200인덱스증권자투자신탁(주식-파생형)CPe</td>\n",
       "    </tr>\n",
       "    <tr>\n",
       "      <th>K55213C51890</th>\n",
       "      <td>2018-05-31</td>\n",
       "      <td>2024-07-31</td>\n",
       "      <td>한화LIFEPLUSTDF2040증권자투자신탁(혼합-재간접형)C-RPe(퇴직연금)</td>\n",
       "    </tr>\n",
       "    <tr>\n",
       "      <th>K55234CJ0997</th>\n",
       "      <td>2019-01-31</td>\n",
       "      <td>2024-07-31</td>\n",
       "      <td>IBK플레인바닐라EMP증권투자신탁(혼합-재간접형)C-Re</td>\n",
       "    </tr>\n",
       "    <tr>\n",
       "      <th>K55301BU5479</th>\n",
       "      <td>2017-08-14</td>\n",
       "      <td>2024-08-25</td>\n",
       "      <td>미래에셋전략배분TDF2045혼합자산자투자신탁 종류C-P2e</td>\n",
       "    </tr>\n",
       "    <tr>\n",
       "      <th>K55301BU6139</th>\n",
       "      <td>2017-09-20</td>\n",
       "      <td>2024-08-25</td>\n",
       "      <td>미래에셋전략배분TDF2035혼합자산자투자신탁종류C-P2e</td>\n",
       "    </tr>\n",
       "    <tr>\n",
       "      <th>K55301BU5453</th>\n",
       "      <td>2017-09-29</td>\n",
       "      <td>2024-08-25</td>\n",
       "      <td>미래에셋평생소득TIF혼합자산자투자신탁종류C-P2e</td>\n",
       "    </tr>\n",
       "    <tr>\n",
       "      <th>K55206C96311</th>\n",
       "      <td>2018-07-13</td>\n",
       "      <td>2024-08-26</td>\n",
       "      <td>키움키워드림TDF2045증권투자신탁 1[혼합-재간접형]C-P2e(퇴직연금)</td>\n",
       "    </tr>\n",
       "    <tr>\n",
       "      <th>K55206C95800</th>\n",
       "      <td>2018-07-26</td>\n",
       "      <td>2024-08-26</td>\n",
       "      <td>키움키워드림TDF2030증권투자신탁 1[혼합-재간접형]C-P2e(퇴직연금)</td>\n",
       "    </tr>\n",
       "  </tbody>\n",
       "</table>\n",
       "</div>"
      ],
      "text/plain": [
       "             start date   end date  \\\n",
       "K55223BT1450 2017-07-31 2024-07-31   \n",
       "K55105BS5067 2017-07-31 2024-07-31   \n",
       "K55210BU2435 2017-08-31 2024-07-31   \n",
       "KR5223AE3357 2017-08-31 2024-07-31   \n",
       "K55365BT3694 2017-08-31 2024-07-31   \n",
       "K55207BU0715 2017-08-31 2024-07-31   \n",
       "K55203C53681 2018-04-30 2024-07-31   \n",
       "K55213C51890 2018-05-31 2024-07-31   \n",
       "K55234CJ0997 2019-01-31 2024-07-31   \n",
       "K55301BU5479 2017-08-14 2024-08-25   \n",
       "K55301BU6139 2017-09-20 2024-08-25   \n",
       "K55301BU5453 2017-09-29 2024-08-25   \n",
       "K55206C96311 2018-07-13 2024-08-26   \n",
       "K55206C95800 2018-07-26 2024-08-26   \n",
       "\n",
       "                                                      name  \n",
       "K55223BT1450            KB온국민TDF2040증권투자신탁(주식혼합-재간접형)C-퇴직e  \n",
       "K55105BS5067            삼성한국형TDF2040증권투자신탁H[주식혼합-재간접형]C-Pe  \n",
       "K55210BU2435        신한마음편한TDF2040증권투자신탁[주식혼합-재간접형](종류C-re)  \n",
       "KR5223AE3357                        kb퇴직연금배당증권자투자신탁(주식)C-E  \n",
       "K55365BT3694                 kcgi코리아퇴직연금증권자투자신탁(주식)종류C-Pe2  \n",
       "K55207BU0715                    교보악사파워인덱스증권자투자신탁1호(주식)C-Pe  \n",
       "K55203C53681               대신KOSPI200인덱스증권자투자신탁(주식-파생형)CPe  \n",
       "K55213C51890  한화LIFEPLUSTDF2040증권자투자신탁(혼합-재간접형)C-RPe(퇴직연금)  \n",
       "K55234CJ0997               IBK플레인바닐라EMP증권투자신탁(혼합-재간접형)C-Re  \n",
       "K55301BU5479              미래에셋전략배분TDF2045혼합자산자투자신탁 종류C-P2e  \n",
       "K55301BU6139               미래에셋전략배분TDF2035혼합자산자투자신탁종류C-P2e  \n",
       "K55301BU5453                   미래에셋평생소득TIF혼합자산자투자신탁종류C-P2e  \n",
       "K55206C96311     키움키워드림TDF2045증권투자신탁 1[혼합-재간접형]C-P2e(퇴직연금)  \n",
       "K55206C95800     키움키워드림TDF2030증권투자신탁 1[혼합-재간접형]C-P2e(퇴직연금)  "
      ]
     },
     "execution_count": 16,
     "metadata": {},
     "output_type": "execute_result"
    }
   ],
   "source": [
    "irp.get_date_range().sort_values('end date').join(df_an)"
   ]
  },
  {
   "cell_type": "code",
   "execution_count": 17,
   "id": "b39755f5-ed92-4640-aada-9e84bd1eba06",
   "metadata": {},
   "outputs": [
    {
     "data": {
      "text/html": [
       "<div>\n",
       "<style scoped>\n",
       "    .dataframe tbody tr th:only-of-type {\n",
       "        vertical-align: middle;\n",
       "    }\n",
       "\n",
       "    .dataframe tbody tr th {\n",
       "        vertical-align: top;\n",
       "    }\n",
       "\n",
       "    .dataframe thead th {\n",
       "        text-align: right;\n",
       "    }\n",
       "</style>\n",
       "<table border=\"1\" class=\"dataframe\">\n",
       "  <thead>\n",
       "    <tr style=\"text-align: right;\">\n",
       "      <th></th>\n",
       "      <th>daily_sharpe</th>\n",
       "      <th>monthly_sharpe</th>\n",
       "      <th>yearly_sharpe</th>\n",
       "      <th>name</th>\n",
       "    </tr>\n",
       "  </thead>\n",
       "  <tbody>\n",
       "    <tr>\n",
       "      <th>K55301BU6139</th>\n",
       "      <td>0.953281</td>\n",
       "      <td>0.901074</td>\n",
       "      <td>0.59158</td>\n",
       "      <td>미래에셋전략배분TDF2035혼합자산자투자신탁종류C-P2e</td>\n",
       "    </tr>\n",
       "    <tr>\n",
       "      <th>K55301BU5479</th>\n",
       "      <td>0.928838</td>\n",
       "      <td>0.890844</td>\n",
       "      <td>0.589447</td>\n",
       "      <td>미래에셋전략배분TDF2045혼합자산자투자신탁 종류C-P2e</td>\n",
       "    </tr>\n",
       "    <tr>\n",
       "      <th>K55365BT3694</th>\n",
       "      <td>0.640849</td>\n",
       "      <td>0.640538</td>\n",
       "      <td>0.573647</td>\n",
       "      <td>kcgi코리아퇴직연금증권자투자신탁(주식)종류C-Pe2</td>\n",
       "    </tr>\n",
       "    <tr>\n",
       "      <th>K55213C51890</th>\n",
       "      <td>0.749963</td>\n",
       "      <td>0.754216</td>\n",
       "      <td>0.542374</td>\n",
       "      <td>한화LIFEPLUSTDF2040증권자투자신탁(혼합-재간접형)C-RPe(퇴직연금)</td>\n",
       "    </tr>\n",
       "    <tr>\n",
       "      <th>K55223BT1450</th>\n",
       "      <td>0.641399</td>\n",
       "      <td>0.641106</td>\n",
       "      <td>0.484719</td>\n",
       "      <td>KB온국민TDF2040증권투자신탁(주식혼합-재간접형)C-퇴직e</td>\n",
       "    </tr>\n",
       "    <tr>\n",
       "      <th>K55210BU2435</th>\n",
       "      <td>0.68767</td>\n",
       "      <td>0.689062</td>\n",
       "      <td>0.478562</td>\n",
       "      <td>신한마음편한TDF2040증권투자신탁[주식혼합-재간접형](종류C-re)</td>\n",
       "    </tr>\n",
       "    <tr>\n",
       "      <th>K55203C53681</th>\n",
       "      <td>0.542176</td>\n",
       "      <td>0.539386</td>\n",
       "      <td>0.475771</td>\n",
       "      <td>대신KOSPI200인덱스증권자투자신탁(주식-파생형)CPe</td>\n",
       "    </tr>\n",
       "    <tr>\n",
       "      <th>K55206C96311</th>\n",
       "      <td>0.730614</td>\n",
       "      <td>0.628118</td>\n",
       "      <td>0.452722</td>\n",
       "      <td>키움키워드림TDF2045증권투자신탁 1[혼합-재간접형]C-P2e(퇴직연금)</td>\n",
       "    </tr>\n",
       "    <tr>\n",
       "      <th>K55206C95800</th>\n",
       "      <td>0.778547</td>\n",
       "      <td>0.649921</td>\n",
       "      <td>0.439991</td>\n",
       "      <td>키움키워드림TDF2030증권투자신탁 1[혼합-재간접형]C-P2e(퇴직연금)</td>\n",
       "    </tr>\n",
       "    <tr>\n",
       "      <th>K55207BU0715</th>\n",
       "      <td>0.468617</td>\n",
       "      <td>0.464831</td>\n",
       "      <td>0.417496</td>\n",
       "      <td>교보악사파워인덱스증권자투자신탁1호(주식)C-Pe</td>\n",
       "    </tr>\n",
       "    <tr>\n",
       "      <th>K55301BU5453</th>\n",
       "      <td>0.989868</td>\n",
       "      <td>0.766073</td>\n",
       "      <td>0.391302</td>\n",
       "      <td>미래에셋평생소득TIF혼합자산자투자신탁종류C-P2e</td>\n",
       "    </tr>\n",
       "    <tr>\n",
       "      <th>K55105BS5067</th>\n",
       "      <td>0.511915</td>\n",
       "      <td>0.508636</td>\n",
       "      <td>0.330035</td>\n",
       "      <td>삼성한국형TDF2040증권투자신탁H[주식혼합-재간접형]C-Pe</td>\n",
       "    </tr>\n",
       "    <tr>\n",
       "      <th>K55234CJ0997</th>\n",
       "      <td>0.638194</td>\n",
       "      <td>0.637797</td>\n",
       "      <td>0.305769</td>\n",
       "      <td>IBK플레인바닐라EMP증권투자신탁(혼합-재간접형)C-Re</td>\n",
       "    </tr>\n",
       "    <tr>\n",
       "      <th>KR5223AE3357</th>\n",
       "      <td>0.308482</td>\n",
       "      <td>0.304493</td>\n",
       "      <td>0.276649</td>\n",
       "      <td>kb퇴직연금배당증권자투자신탁(주식)C-E</td>\n",
       "    </tr>\n",
       "  </tbody>\n",
       "</table>\n",
       "</div>"
      ],
      "text/plain": [
       "             daily_sharpe monthly_sharpe yearly_sharpe  \\\n",
       "K55301BU6139     0.953281       0.901074       0.59158   \n",
       "K55301BU5479     0.928838       0.890844      0.589447   \n",
       "K55365BT3694     0.640849       0.640538      0.573647   \n",
       "K55213C51890     0.749963       0.754216      0.542374   \n",
       "K55223BT1450     0.641399       0.641106      0.484719   \n",
       "K55210BU2435      0.68767       0.689062      0.478562   \n",
       "K55203C53681     0.542176       0.539386      0.475771   \n",
       "K55206C96311     0.730614       0.628118      0.452722   \n",
       "K55206C95800     0.778547       0.649921      0.439991   \n",
       "K55207BU0715     0.468617       0.464831      0.417496   \n",
       "K55301BU5453     0.989868       0.766073      0.391302   \n",
       "K55105BS5067     0.511915       0.508636      0.330035   \n",
       "K55234CJ0997     0.638194       0.637797      0.305769   \n",
       "KR5223AE3357     0.308482       0.304493      0.276649   \n",
       "\n",
       "                                                      name  \n",
       "K55301BU6139               미래에셋전략배분TDF2035혼합자산자투자신탁종류C-P2e  \n",
       "K55301BU5479              미래에셋전략배분TDF2045혼합자산자투자신탁 종류C-P2e  \n",
       "K55365BT3694                 kcgi코리아퇴직연금증권자투자신탁(주식)종류C-Pe2  \n",
       "K55213C51890  한화LIFEPLUSTDF2040증권자투자신탁(혼합-재간접형)C-RPe(퇴직연금)  \n",
       "K55223BT1450            KB온국민TDF2040증권투자신탁(주식혼합-재간접형)C-퇴직e  \n",
       "K55210BU2435        신한마음편한TDF2040증권투자신탁[주식혼합-재간접형](종류C-re)  \n",
       "K55203C53681               대신KOSPI200인덱스증권자투자신탁(주식-파생형)CPe  \n",
       "K55206C96311     키움키워드림TDF2045증권투자신탁 1[혼합-재간접형]C-P2e(퇴직연금)  \n",
       "K55206C95800     키움키워드림TDF2030증권투자신탁 1[혼합-재간접형]C-P2e(퇴직연금)  \n",
       "K55207BU0715                    교보악사파워인덱스증권자투자신탁1호(주식)C-Pe  \n",
       "K55301BU5453                   미래에셋평생소득TIF혼합자산자투자신탁종류C-P2e  \n",
       "K55105BS5067            삼성한국형TDF2040증권투자신탁H[주식혼합-재간접형]C-Pe  \n",
       "K55234CJ0997               IBK플레인바닐라EMP증권투자신탁(혼합-재간접형)C-Re  \n",
       "KR5223AE3357                        kb퇴직연금배당증권자투자신탁(주식)C-E  "
      ]
     },
     "execution_count": 17,
     "metadata": {},
     "output_type": "execute_result"
    }
   ],
   "source": [
    "irp.performance('sharpe', 'year').join(df_an)"
   ]
  },
  {
   "cell_type": "markdown",
   "id": "36c8bf0d-4dad-4e2c-9839-f6f61c7db911",
   "metadata": {},
   "source": [
    "## HANA - FUNDS\n",
    "- https://dis.kofia.or.kr"
   ]
  },
  {
   "cell_type": "code",
   "execution_count": 18,
   "id": "7e607069-dd69-4e22-8ce9-f81df53b9554",
   "metadata": {},
   "outputs": [
    {
     "name": "stdout",
     "output_type": "stream",
     "text": [
      "Estimating price from \"data/funds_kebhana.csv\" ...\n",
      "  error: -0.00 %\n",
      "  error: 0.01 %\n",
      "  error: -0.00 %\n",
      "  error: 0.00 %\n",
      "4 assets from 2010-01-29 to 2024-07-31 uploaded.\n",
      "df_prices updated\n"
     ]
    },
    {
     "data": {
      "text/html": [
       "<div>\n",
       "<style scoped>\n",
       "    .dataframe tbody tr th:only-of-type {\n",
       "        vertical-align: middle;\n",
       "    }\n",
       "\n",
       "    .dataframe tbody tr th {\n",
       "        vertical-align: top;\n",
       "    }\n",
       "\n",
       "    .dataframe thead th {\n",
       "        text-align: right;\n",
       "    }\n",
       "</style>\n",
       "<table border=\"1\" class=\"dataframe\">\n",
       "  <thead>\n",
       "    <tr style=\"text-align: right;\">\n",
       "      <th></th>\n",
       "      <th>start date</th>\n",
       "      <th>end date</th>\n",
       "    </tr>\n",
       "  </thead>\n",
       "  <tbody>\n",
       "    <tr>\n",
       "      <th>KR5101888398</th>\n",
       "      <td>2010-01-29</td>\n",
       "      <td>2024-07-31</td>\n",
       "    </tr>\n",
       "    <tr>\n",
       "      <th>KR5370AP9956</th>\n",
       "      <td>2014-04-30</td>\n",
       "      <td>2024-07-31</td>\n",
       "    </tr>\n",
       "    <tr>\n",
       "      <th>KR5236AS4826</th>\n",
       "      <td>2014-05-30</td>\n",
       "      <td>2024-07-31</td>\n",
       "    </tr>\n",
       "    <tr>\n",
       "      <th>K55306CV9946</th>\n",
       "      <td>2019-10-31</td>\n",
       "      <td>2024-07-31</td>\n",
       "    </tr>\n",
       "  </tbody>\n",
       "</table>\n",
       "</div>"
      ],
      "text/plain": [
       "             start date   end date\n",
       "KR5101888398 2010-01-29 2024-07-31\n",
       "KR5370AP9956 2014-04-30 2024-07-31\n",
       "KR5236AS4826 2014-05-30 2024-07-31\n",
       "K55306CV9946 2019-10-31 2024-07-31"
      ]
     },
     "execution_count": 18,
     "metadata": {},
     "output_type": "execute_result"
    }
   ],
   "source": [
    "hana = DataManager(\n",
    "    upload_type = 'rate',\n",
    "    path = path_data,\n",
    "    **dict(zip(['universe', 'file'], uv_hana))\n",
    ")\n",
    "hana.upload()\n",
    "hana.get_date_range()"
   ]
  },
  {
   "cell_type": "code",
   "execution_count": 19,
   "id": "64659ef9-1f1e-4fa3-93ff-55e23a5a0340",
   "metadata": {},
   "outputs": [
    {
     "data": {
      "text/plain": [
       "KR5101888398    12.0\n",
       "KR5236AS4826    12.0\n",
       "KR5370AP9956    12.0\n",
       "K55306CV9946    12.0\n",
       "dtype: float64"
      ]
     },
     "execution_count": 19,
     "metadata": {},
     "output_type": "execute_result"
    }
   ],
   "source": [
    "hana.check_days_in_year(12)"
   ]
  },
  {
   "cell_type": "code",
   "execution_count": 20,
   "id": "18a5f65f-d681-438a-af27-db404aeca9e8",
   "metadata": {},
   "outputs": [
    {
     "name": "stdout",
     "output_type": "stream",
     "text": [
      "WARNING: the number of days in a year with followings is 12 in avg.:\n",
      "KR5101888398: 12\n",
      "KR5236AS4826: 12\n",
      "KR5370AP9956: 12\n",
      "K55306CV9946: 12\n",
      "REMINDER: data converted to daily (days in year: 365)\n",
      "Daily metrics in Performance statistics must be meaningless\n"
     ]
    }
   ],
   "source": [
    "hana.convert_to_daily(True)"
   ]
  },
  {
   "cell_type": "code",
   "execution_count": 21,
   "id": "f4e8af84-8722-466a-9b29-bad3eb78c099",
   "metadata": {},
   "outputs": [
    {
     "data": {
      "text/plain": [
       "0) KR5101888398: 한국투자크레딧포커스ESG증권자투자신탁 1(채권)(C-e)\n",
       "1) KR5236AS4826: 한국밸류10년투자증권투자신탁 1(채권혼합)종류C-E\n",
       "2) KR5370AP9956: AB글로벌고수익증권투자신탁(채권-재간접형)종류형Ce\n",
       "3) K55306CV9946: 다올글로벌멀티에셋인컴EMP증권자투자신탁[혼합-재간접형](공)종류Ce"
      ]
     },
     "execution_count": 21,
     "metadata": {},
     "output_type": "execute_result"
    }
   ],
   "source": [
    "df_hana = hana.df_prices\n",
    "assetnames_hana = hana.get_names()\n",
    "assetnames_hana"
   ]
  },
  {
   "cell_type": "code",
   "execution_count": 23,
   "id": "ff070849-3cf7-4523-a606-c10548ed599d",
   "metadata": {},
   "outputs": [
    {
     "data": {
      "image/png": "[encoded data removed]",
      "text/plain": [
       "<Figure size 1000x400 with 1 Axes>"
      ]
     },
     "metadata": {},
     "output_type": "display_data"
    }
   ],
   "source": [
    "_ = df_hana.loc['2014':].plot(figsize=(10,4))"
   ]
  },
  {
   "cell_type": "markdown",
   "id": "0aaaa9db-40ad-414a-b709-de117191981b",
   "metadata": {},
   "source": [
    "# Backtest"
   ]
  },
  {
   "cell_type": "markdown",
   "id": "00168468-3042-497d-bd8b-35ee21ca83c5",
   "metadata": {},
   "source": [
    "## KOSPI 200"
   ]
  },
  {
   "cell_type": "code",
   "execution_count": 15,
   "id": "5cd3809d-522b-4cad-944e-de081a5b3657",
   "metadata": {},
   "outputs": [
    {
     "name": "stdout",
     "output_type": "stream",
     "text": [
      "15 assets removed for shorter periods (7.5%)\n",
      "running self.util_check_days_in_year to check days in a year\n",
      "WARNING: the number of days in a year with 185 assets (100%) is 247 in avg.\n"
     ]
    }
   ],
   "source": [
    "kwargs_bm = dict(\n",
    "    initial_capital = 10000000,\n",
    "    commissions = 0,\n",
    "    align_axis = 1, \n",
    "    days_in_year = 246,\n",
    "    asset_names = assetnames_k200\n",
    ")\n",
    "bm = BacktestManager(df_k200, **kwargs_bm)"
   ]
  },
  {
   "cell_type": "code",
   "execution_count": 16,
   "id": "9a647011-2deb-48fa-ba4c-96d4a699b70f",
   "metadata": {},
   "outputs": [],
   "source": [
    "lags = dict(lookback=12, lag=5)"
   ]
  },
  {
   "cell_type": "code",
   "execution_count": 17,
   "id": "63f41609-2c02-419d-b8dd-30993313c9e1",
   "metadata": {},
   "outputs": [
    {
     "name": "stdout",
     "output_type": "stream",
     "text": [
      "Benchmark is KODEX200\n"
     ]
    }
   ],
   "source": [
    "bm.benchmark_ticker(**lags)"
   ]
  },
  {
   "cell_type": "code",
   "execution_count": 18,
   "id": "b37e9472-eac5-4344-aa7f-a6975e7204b1",
   "metadata": {},
   "outputs": [],
   "source": [
    "select = 'Momentum'\n",
    "kwargs_build = dict(\n",
    "    name=f'KOSPI:{select}', select =select,\n",
    "    freq='M', weigh = 'ERC',\n",
    "    n_assets=5, **lags\n",
    ")\n",
    "bm.build(**kwargs_build)"
   ]
  },
  {
   "cell_type": "code",
   "execution_count": 29,
   "id": "ce2ebc9e-4f37-456c-8b80-6d08227047de",
   "metadata": {},
   "outputs": [],
   "source": [
    "select = 'K-ratio'\n",
    "kwargs_build.update(dict(\n",
    "    name=f'KOSPI:{select}', select =select,\n",
    "))\n",
    "bm.build(**kwargs_build)"
   ]
  },
  {
   "cell_type": "code",
   "execution_count": 19,
   "id": "c629fa84-dce1-42bd-8e96-6eef028632a1",
   "metadata": {},
   "outputs": [],
   "source": [
    "select = 'Momentum'\n",
    "n_assets = 10\n",
    "kwargs_build = dict(\n",
    "    name=f'KOSPI:{select}_{n_assets}', select =select,\n",
    "    freq='M', weigh = 'ERC',\n",
    "    n_assets=n_assets, **lags\n",
    ")\n",
    "bm.build(**kwargs_build)"
   ]
  },
  {
   "cell_type": "code",
   "execution_count": 20,
   "id": "f4636d65-e08d-4f8f-b957-ec2c728b4667",
   "metadata": {},
   "outputs": [
    {
     "name": "stdout",
     "output_type": "stream",
     "text": [
      "Backtesting 3 strategies: KODEX200, KOSPI:Momentum, KOSPI:Momentum_10\n"
     ]
    },
    {
     "name": "stderr",
     "output_type": "stream",
     "text": [
      "100%|█████████████████████████████████████████████████████████████████| 3/3 [00:02<00:00,  1.18it/s]"
     ]
    },
    {
     "name": "stdout",
     "output_type": "stream",
     "text": [
      "Returning stats\n"
     ]
    },
    {
     "name": "stderr",
     "output_type": "stream",
     "text": [
      "\n"
     ]
    },
    {
     "data": {
      "text/html": [
       "<div>\n",
       "<style scoped>\n",
       "    .dataframe tbody tr th:only-of-type {\n",
       "        vertical-align: middle;\n",
       "    }\n",
       "\n",
       "    .dataframe tbody tr th {\n",
       "        vertical-align: top;\n",
       "    }\n",
       "\n",
       "    .dataframe thead th {\n",
       "        text-align: right;\n",
       "    }\n",
       "</style>\n",
       "<table border=\"1\" class=\"dataframe\">\n",
       "  <thead>\n",
       "    <tr style=\"text-align: right;\">\n",
       "      <th></th>\n",
       "      <th>KOSPI:Momentum</th>\n",
       "      <th>KOSPI:Momentum_10</th>\n",
       "      <th>KODEX200</th>\n",
       "    </tr>\n",
       "  </thead>\n",
       "  <tbody>\n",
       "    <tr>\n",
       "      <th>start</th>\n",
       "      <td>2021-01-03</td>\n",
       "      <td>2021-01-03</td>\n",
       "      <td>2021-01-03</td>\n",
       "    </tr>\n",
       "    <tr>\n",
       "      <th>end</th>\n",
       "      <td>2024-08-23</td>\n",
       "      <td>2024-08-23</td>\n",
       "      <td>2024-08-23</td>\n",
       "    </tr>\n",
       "    <tr>\n",
       "      <th>total_return</th>\n",
       "      <td>4.681265</td>\n",
       "      <td>2.168628</td>\n",
       "      <td>0.002629</td>\n",
       "    </tr>\n",
       "    <tr>\n",
       "      <th>cagr</th>\n",
       "      <td>0.612504</td>\n",
       "      <td>0.373278</td>\n",
       "      <td>0.000722</td>\n",
       "    </tr>\n",
       "    <tr>\n",
       "      <th>calmar</th>\n",
       "      <td>2.197839</td>\n",
       "      <td>1.339425</td>\n",
       "      <td>0.002597</td>\n",
       "    </tr>\n",
       "    <tr>\n",
       "      <th>max_drawdown</th>\n",
       "      <td>-0.278685</td>\n",
       "      <td>-0.278685</td>\n",
       "      <td>-0.278165</td>\n",
       "    </tr>\n",
       "    <tr>\n",
       "      <th>avg_drawdown</th>\n",
       "      <td>-0.064276</td>\n",
       "      <td>-0.050644</td>\n",
       "      <td>-0.078234</td>\n",
       "    </tr>\n",
       "    <tr>\n",
       "      <th>avg_drawdown_days</th>\n",
       "      <td>17.6</td>\n",
       "      <td>25.65625</td>\n",
       "      <td>157.166667</td>\n",
       "    </tr>\n",
       "    <tr>\n",
       "      <th>daily_vol</th>\n",
       "      <td>0.399865</td>\n",
       "      <td>0.299541</td>\n",
       "      <td>0.156325</td>\n",
       "    </tr>\n",
       "    <tr>\n",
       "      <th>daily_sharpe</th>\n",
       "      <td>1.417141</td>\n",
       "      <td>1.229812</td>\n",
       "      <td>0.083251</td>\n",
       "    </tr>\n",
       "    <tr>\n",
       "      <th>daily_sortino</th>\n",
       "      <td>2.480367</td>\n",
       "      <td>2.010731</td>\n",
       "      <td>0.126282</td>\n",
       "    </tr>\n",
       "    <tr>\n",
       "      <th>monthly_vol</th>\n",
       "      <td>0.473201</td>\n",
       "      <td>0.40245</td>\n",
       "      <td>0.17317</td>\n",
       "    </tr>\n",
       "    <tr>\n",
       "      <th>monthly_sharpe</th>\n",
       "      <td>1.244371</td>\n",
       "      <td>0.98423</td>\n",
       "      <td>0.090111</td>\n",
       "    </tr>\n",
       "    <tr>\n",
       "      <th>monthly_sortino</th>\n",
       "      <td>4.190099</td>\n",
       "      <td>2.594891</td>\n",
       "      <td>0.14011</td>\n",
       "    </tr>\n",
       "  </tbody>\n",
       "</table>\n",
       "</div>"
      ],
      "text/plain": [
       "                  KOSPI:Momentum KOSPI:Momentum_10    KODEX200\n",
       "start                 2021-01-03        2021-01-03  2021-01-03\n",
       "end                   2024-08-23        2024-08-23  2024-08-23\n",
       "total_return            4.681265          2.168628    0.002629\n",
       "cagr                    0.612504          0.373278    0.000722\n",
       "calmar                  2.197839          1.339425    0.002597\n",
       "max_drawdown           -0.278685         -0.278685   -0.278165\n",
       "avg_drawdown           -0.064276         -0.050644   -0.078234\n",
       "avg_drawdown_days           17.6          25.65625  157.166667\n",
       "daily_vol               0.399865          0.299541    0.156325\n",
       "daily_sharpe            1.417141          1.229812    0.083251\n",
       "daily_sortino           2.480367          2.010731    0.126282\n",
       "monthly_vol             0.473201           0.40245     0.17317\n",
       "monthly_sharpe          1.244371           0.98423    0.090111\n",
       "monthly_sortino         4.190099          2.594891     0.14011"
      ]
     },
     "execution_count": 20,
     "metadata": {},
     "output_type": "execute_result"
    },
    {
     "data": {
      "image/png": "[encoded data removed]",
      "text/plain": [
       "<Figure size 1000x400 with 1 Axes>"
      ]
     },
     "metadata": {},
     "output_type": "display_data"
    }
   ],
   "source": [
    "bm.run(figsize=(10,4), stats_sort_by='monthly_sharpe')"
   ]
  },
  {
   "cell_type": "code",
   "execution_count": 21,
   "id": "25abb7ae-920c-4d4a-8ce9-b8a48858c0f5",
   "metadata": {},
   "outputs": [],
   "source": [
    "df_pf = bm.get_historical()\n",
    "df_pf = df_pf[['KODEX200','KOSPI:Momentum']]"
   ]
  },
  {
   "cell_type": "markdown",
   "id": "c7df33e3-8f1f-4633-a6aa-f4ee66196a91",
   "metadata": {},
   "source": [
    "## ETF"
   ]
  },
  {
   "cell_type": "code",
   "execution_count": 38,
   "id": "2fd24a73-19c1-413c-88a6-96bd4e00b2b3",
   "metadata": {},
   "outputs": [
    {
     "name": "stdout",
     "output_type": "stream",
     "text": [
      "period reset: 2021-12-15 ~ 2024-07-18\n",
      "running self.util_check_days_in_year to check days in a year\n"
     ]
    }
   ],
   "source": [
    "kwargs_bm = dict(\n",
    "    initial_capital = 10000000,\n",
    "    commissions = 0,\n",
    "    align_axis = 0, \n",
    "    days_in_year = 245,\n",
    "    asset_names = assetnames_etf\n",
    ")\n",
    "bm = BacktestManager(df_etf, **kwargs_bm)"
   ]
  },
  {
   "cell_type": "code",
   "execution_count": 39,
   "id": "93227910-9914-406a-a0a7-541d68a4fd44",
   "metadata": {},
   "outputs": [],
   "source": [
    "lags = dict(lookback=12, lag=5)"
   ]
  },
  {
   "cell_type": "code",
   "execution_count": 40,
   "id": "13a3623c-5807-48c4-9128-b6af7db76a99",
   "metadata": {},
   "outputs": [
    {
     "name": "stdout",
     "output_type": "stream",
     "text": [
      "Benchmark is KODEX200\n"
     ]
    }
   ],
   "source": [
    "bm.benchmark_ticker(**lags)"
   ]
  },
  {
   "cell_type": "code",
   "execution_count": 41,
   "id": "29dfeae2-4162-4686-bf53-83f3e97dcbef",
   "metadata": {},
   "outputs": [],
   "source": [
    "kwargs_build = dict(\n",
    "    freq = 'Y', select = 'all',\n",
    "    **lags # added to start backtest on same date with momentum\n",
    ")\n",
    "\n",
    "bm.build(name='ETF:Eqaully', weigh='equally', **kwargs_build)\n",
    "bm.build(name='ETF:ERC', weigh='ERC', **kwargs_build)\n",
    "bm.build(name='ETF:InvVol', weigh='InvVol', **kwargs_build)"
   ]
  },
  {
   "cell_type": "code",
   "execution_count": 42,
   "id": "3c8b22ef-614d-484e-a0f8-437e06b4f1c7",
   "metadata": {},
   "outputs": [],
   "source": [
    "kwargs_build = dict(\n",
    "    weigh='InvVol',  select = 'all',  **lags\n",
    ")\n",
    "\n",
    "bm.build(name='ETF:Eqaully(Q)', freq = 'Q', **kwargs_build)\n",
    "bm.build(name='ETF:Eqaully(M)', freq = 'M', **kwargs_build)"
   ]
  },
  {
   "cell_type": "code",
   "execution_count": 43,
   "id": "3c04e206-5e63-4bc6-a8b5-90869bdd09be",
   "metadata": {},
   "outputs": [
    {
     "name": "stdout",
     "output_type": "stream",
     "text": [
      "Backtesting 6 strategies: KODEX200, ETF:Eqaully, ... , ETF:Eqaully(M)\n"
     ]
    },
    {
     "name": "stderr",
     "output_type": "stream",
     "text": [
      "100%|█████████████████████████████████████████████████████████████████| 6/6 [00:01<00:00,  5.79it/s]\n"
     ]
    },
    {
     "name": "stdout",
     "output_type": "stream",
     "text": [
      "Returning stats\n"
     ]
    },
    {
     "data": {
      "text/html": [
       "<div>\n",
       "<style scoped>\n",
       "    .dataframe tbody tr th:only-of-type {\n",
       "        vertical-align: middle;\n",
       "    }\n",
       "\n",
       "    .dataframe tbody tr th {\n",
       "        vertical-align: top;\n",
       "    }\n",
       "\n",
       "    .dataframe thead th {\n",
       "        text-align: right;\n",
       "    }\n",
       "</style>\n",
       "<table border=\"1\" class=\"dataframe\">\n",
       "  <thead>\n",
       "    <tr style=\"text-align: right;\">\n",
       "      <th></th>\n",
       "      <th>ETF:Eqaully</th>\n",
       "      <th>ETF:ERC</th>\n",
       "      <th>ETF:Eqaully(M)</th>\n",
       "      <th>ETF:Eqaully(Q)</th>\n",
       "      <th>ETF:InvVol</th>\n",
       "      <th>KODEX200</th>\n",
       "    </tr>\n",
       "  </thead>\n",
       "  <tbody>\n",
       "    <tr>\n",
       "      <th>start</th>\n",
       "      <td>2021-12-14</td>\n",
       "      <td>2021-12-14</td>\n",
       "      <td>2021-12-14</td>\n",
       "      <td>2021-12-14</td>\n",
       "      <td>2021-12-14</td>\n",
       "      <td>2021-12-14</td>\n",
       "    </tr>\n",
       "    <tr>\n",
       "      <th>end</th>\n",
       "      <td>2024-07-18</td>\n",
       "      <td>2024-07-18</td>\n",
       "      <td>2024-07-18</td>\n",
       "      <td>2024-07-18</td>\n",
       "      <td>2024-07-18</td>\n",
       "      <td>2024-07-18</td>\n",
       "    </tr>\n",
       "    <tr>\n",
       "      <th>total_return</th>\n",
       "      <td>0.270048</td>\n",
       "      <td>0.224691</td>\n",
       "      <td>0.20629</td>\n",
       "      <td>0.202248</td>\n",
       "      <td>0.198584</td>\n",
       "      <td>0.319442</td>\n",
       "    </tr>\n",
       "    <tr>\n",
       "      <th>cagr</th>\n",
       "      <td>0.096586</td>\n",
       "      <td>0.081312</td>\n",
       "      <td>0.075017</td>\n",
       "      <td>0.073626</td>\n",
       "      <td>0.072363</td>\n",
       "      <td>0.112842</td>\n",
       "    </tr>\n",
       "    <tr>\n",
       "      <th>calmar</th>\n",
       "      <td>2.627234</td>\n",
       "      <td>2.112785</td>\n",
       "      <td>2.004658</td>\n",
       "      <td>1.991795</td>\n",
       "      <td>1.918062</td>\n",
       "      <td>0.895283</td>\n",
       "    </tr>\n",
       "    <tr>\n",
       "      <th>max_drawdown</th>\n",
       "      <td>-0.036763</td>\n",
       "      <td>-0.038486</td>\n",
       "      <td>-0.037421</td>\n",
       "      <td>-0.036965</td>\n",
       "      <td>-0.037727</td>\n",
       "      <td>-0.126041</td>\n",
       "    </tr>\n",
       "    <tr>\n",
       "      <th>avg_drawdown</th>\n",
       "      <td>-0.007541</td>\n",
       "      <td>-0.007283</td>\n",
       "      <td>-0.006064</td>\n",
       "      <td>-0.00668</td>\n",
       "      <td>-0.006697</td>\n",
       "      <td>-0.02551</td>\n",
       "    </tr>\n",
       "    <tr>\n",
       "      <th>avg_drawdown_days</th>\n",
       "      <td>12.216216</td>\n",
       "      <td>16.740741</td>\n",
       "      <td>15.0</td>\n",
       "      <td>16.851852</td>\n",
       "      <td>16.888889</td>\n",
       "      <td>19.192308</td>\n",
       "    </tr>\n",
       "    <tr>\n",
       "      <th>daily_vol</th>\n",
       "      <td>0.046106</td>\n",
       "      <td>0.040436</td>\n",
       "      <td>0.038918</td>\n",
       "      <td>0.038857</td>\n",
       "      <td>0.038869</td>\n",
       "      <td>0.125859</td>\n",
       "    </tr>\n",
       "    <tr>\n",
       "      <th>daily_sharpe</th>\n",
       "      <td>2.071368</td>\n",
       "      <td>2.000378</td>\n",
       "      <td>1.923199</td>\n",
       "      <td>1.891992</td>\n",
       "      <td>1.860437</td>\n",
       "      <td>0.932876</td>\n",
       "    </tr>\n",
       "    <tr>\n",
       "      <th>daily_sortino</th>\n",
       "      <td>3.486188</td>\n",
       "      <td>3.348137</td>\n",
       "      <td>3.189171</td>\n",
       "      <td>3.128047</td>\n",
       "      <td>3.069271</td>\n",
       "      <td>1.554938</td>\n",
       "    </tr>\n",
       "    <tr>\n",
       "      <th>monthly_vol</th>\n",
       "      <td>0.064213</td>\n",
       "      <td>0.056054</td>\n",
       "      <td>0.05561</td>\n",
       "      <td>0.055108</td>\n",
       "      <td>0.055145</td>\n",
       "      <td>0.137407</td>\n",
       "    </tr>\n",
       "    <tr>\n",
       "      <th>monthly_sharpe</th>\n",
       "      <td>1.477225</td>\n",
       "      <td>1.431008</td>\n",
       "      <td>1.336014</td>\n",
       "      <td>1.323968</td>\n",
       "      <td>1.301567</td>\n",
       "      <td>0.849445</td>\n",
       "    </tr>\n",
       "    <tr>\n",
       "      <th>monthly_sortino</th>\n",
       "      <td>4.275991</td>\n",
       "      <td>4.719391</td>\n",
       "      <td>3.982917</td>\n",
       "      <td>3.961035</td>\n",
       "      <td>3.863142</td>\n",
       "      <td>1.915467</td>\n",
       "    </tr>\n",
       "  </tbody>\n",
       "</table>\n",
       "</div>"
      ],
      "text/plain": [
       "                  ETF:Eqaully     ETF:ERC ETF:Eqaully(M) ETF:Eqaully(Q)  \\\n",
       "start              2021-12-14  2021-12-14     2021-12-14     2021-12-14   \n",
       "end                2024-07-18  2024-07-18     2024-07-18     2024-07-18   \n",
       "total_return         0.270048    0.224691        0.20629       0.202248   \n",
       "cagr                 0.096586    0.081312       0.075017       0.073626   \n",
       "calmar               2.627234    2.112785       2.004658       1.991795   \n",
       "max_drawdown        -0.036763   -0.038486      -0.037421      -0.036965   \n",
       "avg_drawdown        -0.007541   -0.007283      -0.006064       -0.00668   \n",
       "avg_drawdown_days   12.216216   16.740741           15.0      16.851852   \n",
       "daily_vol            0.046106    0.040436       0.038918       0.038857   \n",
       "daily_sharpe         2.071368    2.000378       1.923199       1.891992   \n",
       "daily_sortino        3.486188    3.348137       3.189171       3.128047   \n",
       "monthly_vol          0.064213    0.056054        0.05561       0.055108   \n",
       "monthly_sharpe       1.477225    1.431008       1.336014       1.323968   \n",
       "monthly_sortino      4.275991    4.719391       3.982917       3.961035   \n",
       "\n",
       "                   ETF:InvVol    KODEX200  \n",
       "start              2021-12-14  2021-12-14  \n",
       "end                2024-07-18  2024-07-18  \n",
       "total_return         0.198584    0.319442  \n",
       "cagr                 0.072363    0.112842  \n",
       "calmar               1.918062    0.895283  \n",
       "max_drawdown        -0.037727   -0.126041  \n",
       "avg_drawdown        -0.006697    -0.02551  \n",
       "avg_drawdown_days   16.888889   19.192308  \n",
       "daily_vol            0.038869    0.125859  \n",
       "daily_sharpe         1.860437    0.932876  \n",
       "daily_sortino        3.069271    1.554938  \n",
       "monthly_vol          0.055145    0.137407  \n",
       "monthly_sharpe       1.301567    0.849445  \n",
       "monthly_sortino      3.863142    1.915467  "
      ]
     },
     "execution_count": 43,
     "metadata": {},
     "output_type": "execute_result"
    },
    {
     "data": {
      "image/png": "[encoded data removed]",
      "text/plain": [
       "<Figure size 1000x400 with 1 Axes>"
      ]
     },
     "metadata": {},
     "output_type": "display_data"
    }
   ],
   "source": [
    "bm.run(figsize=(10,4), stats_sort_by='monthly_sharpe')"
   ]
  },
  {
   "cell_type": "code",
   "execution_count": 44,
   "id": "62d9d66e-cd01-49fc-af0c-bf8e01756ab3",
   "metadata": {},
   "outputs": [
    {
     "ename": "NameError",
     "evalue": "name 'df_pf' is not defined",
     "output_type": "error",
     "traceback": [
      "\u001b[0;31m---------------------------------------------------------------------------\u001b[0m",
      "\u001b[0;31mNameError\u001b[0m                                 Traceback (most recent call last)",
      "Cell \u001b[0;32mIn[44], line 2\u001b[0m\n\u001b[1;32m      1\u001b[0m df \u001b[38;5;241m=\u001b[39m bm\u001b[38;5;241m.\u001b[39mget_historical()\n\u001b[0;32m----> 2\u001b[0m df_pf \u001b[38;5;241m=\u001b[39m \u001b[43mdf_pf\u001b[49m\u001b[38;5;241m.\u001b[39mjoin(df[[\u001b[38;5;124m'\u001b[39m\u001b[38;5;124mETF:Eqaully\u001b[39m\u001b[38;5;124m'\u001b[39m, \u001b[38;5;124m'\u001b[39m\u001b[38;5;124mETF:ERC\u001b[39m\u001b[38;5;124m'\u001b[39m]])\n",
      "\u001b[0;31mNameError\u001b[0m: name 'df_pf' is not defined"
     ]
    }
   ],
   "source": [
    "df = bm.get_historical()\n",
    "df_pf = df_pf.join(df[['ETF:Eqaully', 'ETF:ERC']])"
   ]
  },
  {
   "cell_type": "markdown",
   "id": "91d08b17-542b-4d1f-a0e8-f2f5a854703f",
   "metadata": {},
   "source": [
    "## IRP"
   ]
  },
  {
   "cell_type": "code",
   "execution_count": 22,
   "id": "f002de8c-cbe1-4052-9118-72d2995ecfdf",
   "metadata": {},
   "outputs": [],
   "source": [
    "kwargs_bm = dict(\n",
    "    initial_capital = 10000000,\n",
    "    commissions = 0,\n",
    "    align_axis = 0, \n",
    "    days_in_year = 365,\n",
    "    asset_names = assetnames_irp\n",
    ")\n",
    "\n",
    "lags = dict(lookback=12, lag=5)"
   ]
  },
  {
   "cell_type": "markdown",
   "id": "1d108f0e-8be0-4581-bb12-e0159fb40b23",
   "metadata": {},
   "source": [
    "### My portfolio"
   ]
  },
  {
   "cell_type": "code",
   "execution_count": 306,
   "id": "7a946713-4f72-4d0d-b4fc-2f4bf62698e2",
   "metadata": {},
   "outputs": [
    {
     "data": {
      "text/plain": [
       "0) K55301BU6139: 미래에셋전략배분TDF2035혼합자산자투자신탁종류C-P2e\n",
       "1) K55206C95800: 키움키워드림TDF2030증권투자신탁 1[혼합-재간접형]C-P2e(퇴직연금)"
      ]
     },
     "execution_count": 306,
     "metadata": {},
     "output_type": "execute_result"
    }
   ],
   "source": [
    "choice_mp = ['K55301BU6139', 'K55206C95800']\n",
    "irp.get_names(choice_mp)"
   ]
  },
  {
   "cell_type": "code",
   "execution_count": 307,
   "id": "65eeaeb2-6211-4074-b9f9-9bb118054703",
   "metadata": {},
   "outputs": [
    {
     "name": "stdout",
     "output_type": "stream",
     "text": [
      "period reset: 2019-01-31 ~ 2024-07-31\n",
      "running self.util_check_days_in_year to check days in a year\n"
     ]
    }
   ],
   "source": [
    "bm = BacktestManager(df_irp, **kwargs_bm)"
   ]
  },
  {
   "cell_type": "code",
   "execution_count": 308,
   "id": "ae08c153-8479-47d5-8ec0-d87780812392",
   "metadata": {},
   "outputs": [
    {
     "name": "stdout",
     "output_type": "stream",
     "text": [
      "Benchmark is KODEX200\n"
     ]
    }
   ],
   "source": [
    "bm.benchmark_ticker()"
   ]
  },
  {
   "cell_type": "code",
   "execution_count": 309,
   "id": "a5888771-301f-48ae-9cf3-e5edc45c6cf8",
   "metadata": {},
   "outputs": [],
   "source": [
    "choice = choice_mp\n",
    "\n",
    "kwargs_build = dict(\n",
    "    # equal weights for choice, zero weights for the rest of the assets\n",
    "    weigh='Specified', weights=choice,\n",
    "    select ='all'\n",
    ")\n",
    "bm.build(name='MP:Quarterly', freq='Q', **kwargs_build)\n",
    "bm.build(name='MP:Yearly', freq='Y', **kwargs_build)"
   ]
  },
  {
   "cell_type": "code",
   "execution_count": 310,
   "id": "741ebf3e-54a7-4497-aea5-cad83abe431b",
   "metadata": {},
   "outputs": [
    {
     "name": "stdout",
     "output_type": "stream",
     "text": [
      "Backtesting 3 strategies: KODEX200, MP:Quarterly, MP:Yearly\n"
     ]
    },
    {
     "name": "stderr",
     "output_type": "stream",
     "text": [
      "100%|█████████████████████████████████████████████████████████████████| 3/3 [00:01<00:00,  1.82it/s]"
     ]
    },
    {
     "name": "stdout",
     "output_type": "stream",
     "text": [
      "Returning stats\n"
     ]
    },
    {
     "name": "stderr",
     "output_type": "stream",
     "text": [
      "\n"
     ]
    },
    {
     "data": {
      "text/html": [
       "<div>\n",
       "<style scoped>\n",
       "    .dataframe tbody tr th:only-of-type {\n",
       "        vertical-align: middle;\n",
       "    }\n",
       "\n",
       "    .dataframe tbody tr th {\n",
       "        vertical-align: top;\n",
       "    }\n",
       "\n",
       "    .dataframe thead th {\n",
       "        text-align: right;\n",
       "    }\n",
       "</style>\n",
       "<table border=\"1\" class=\"dataframe\">\n",
       "  <thead>\n",
       "    <tr style=\"text-align: right;\">\n",
       "      <th></th>\n",
       "      <th>MP:Yearly</th>\n",
       "      <th>MP:Quarterly</th>\n",
       "      <th>KODEX200</th>\n",
       "    </tr>\n",
       "  </thead>\n",
       "  <tbody>\n",
       "    <tr>\n",
       "      <th>start</th>\n",
       "      <td>2019-01-30</td>\n",
       "      <td>2019-01-30</td>\n",
       "      <td>2019-01-30</td>\n",
       "    </tr>\n",
       "    <tr>\n",
       "      <th>end</th>\n",
       "      <td>2024-07-31</td>\n",
       "      <td>2024-07-31</td>\n",
       "      <td>2024-07-31</td>\n",
       "    </tr>\n",
       "    <tr>\n",
       "      <th>total_return</th>\n",
       "      <td>0.5097</td>\n",
       "      <td>0.509769</td>\n",
       "      <td>0.487812</td>\n",
       "    </tr>\n",
       "    <tr>\n",
       "      <th>cagr</th>\n",
       "      <td>0.077764</td>\n",
       "      <td>0.077773</td>\n",
       "      <td>0.074906</td>\n",
       "    </tr>\n",
       "    <tr>\n",
       "      <th>monthly_vol</th>\n",
       "      <td>0.103181</td>\n",
       "      <td>0.103205</td>\n",
       "      <td>0.19921</td>\n",
       "    </tr>\n",
       "    <tr>\n",
       "      <th>monthly_sharpe</th>\n",
       "      <td>0.779885</td>\n",
       "      <td>0.779812</td>\n",
       "      <td>0.461712</td>\n",
       "    </tr>\n",
       "    <tr>\n",
       "      <th>max_drawdown</th>\n",
       "      <td>-0.215629</td>\n",
       "      <td>-0.21565</td>\n",
       "      <td>-0.346184</td>\n",
       "    </tr>\n",
       "    <tr>\n",
       "      <th>avg_drawdown</th>\n",
       "      <td>-0.014143</td>\n",
       "      <td>-0.014135</td>\n",
       "      <td>-0.047368</td>\n",
       "    </tr>\n",
       "    <tr>\n",
       "      <th>avg_drawdown_days</th>\n",
       "      <td>28.912281</td>\n",
       "      <td>28.912281</td>\n",
       "      <td>68.357143</td>\n",
       "    </tr>\n",
       "  </tbody>\n",
       "</table>\n",
       "</div>"
      ],
      "text/plain": [
       "                    MP:Yearly MP:Quarterly    KODEX200\n",
       "start              2019-01-30   2019-01-30  2019-01-30\n",
       "end                2024-07-31   2024-07-31  2024-07-31\n",
       "total_return           0.5097     0.509769    0.487812\n",
       "cagr                 0.077764     0.077773    0.074906\n",
       "monthly_vol          0.103181     0.103205     0.19921\n",
       "monthly_sharpe       0.779885     0.779812    0.461712\n",
       "max_drawdown        -0.215629     -0.21565   -0.346184\n",
       "avg_drawdown        -0.014143    -0.014135   -0.047368\n",
       "avg_drawdown_days   28.912281    28.912281   68.357143"
      ]
     },
     "execution_count": 310,
     "metadata": {},
     "output_type": "execute_result"
    }
   ],
   "source": [
    "bm.run(plot=False, stats_sort_by='monthly_sharpe', metrics=metrics2)"
   ]
  },
  {
   "cell_type": "markdown",
   "id": "0ab5758f-4493-402e-ae48-3b0d5756fdc5",
   "metadata": {},
   "source": [
    "### Weight"
   ]
  },
  {
   "cell_type": "code",
   "execution_count": 311,
   "id": "d3efea40-154b-4308-a79c-8f6fecacdb16",
   "metadata": {},
   "outputs": [
    {
     "name": "stdout",
     "output_type": "stream",
     "text": [
      "Benchmark is LAG:KODEX200\n"
     ]
    }
   ],
   "source": [
    "bm.benchmark_ticker(name='LAG:KODEX200', **lags)"
   ]
  },
  {
   "cell_type": "code",
   "execution_count": 312,
   "id": "eef4efc5-8c8e-4372-a3f5-2e14f7db1804",
   "metadata": {},
   "outputs": [],
   "source": [
    "kwargs_build = dict(\n",
    "    freq = 'Y', select = 'all',\n",
    "    **lags # added to start backtest on same date with momentum\n",
    ")\n",
    "\n",
    "choice = choice_mp\n",
    "bm.build(name='LAG:MP', weigh='Specified', weights=choice, **kwargs_build)"
   ]
  },
  {
   "cell_type": "code",
   "execution_count": 313,
   "id": "7a3802c5-7475-4f9c-9c64-cd5a7476dd9e",
   "metadata": {},
   "outputs": [],
   "source": [
    "bm.build(name='LAG:Eqaully', weigh='equally', **kwargs_build)\n",
    "bm.build(name='LAG:ERC', weigh='ERC', **kwargs_build)\n",
    "bm.build(name='LAG:InvVol', weigh='InvVol', **kwargs_build)\n",
    "bm.build(name='LAG:MeanVar', weigh='MeanVar', **kwargs_build)"
   ]
  },
  {
   "cell_type": "code",
   "execution_count": 314,
   "id": "286c0ba1-3cfb-40ee-b5b0-4f4a0efd3ed1",
   "metadata": {},
   "outputs": [
    {
     "data": {
      "text/plain": [
       "0) KODEX200\n",
       "1) MP:Quarterly\n",
       "2) MP:Yearly\n",
       "3) LAG:KODEX200\n",
       "4) LAG:MP\n",
       "5) LAG:Eqaully\n",
       "6) LAG:ERC\n",
       "7) LAG:InvVol\n",
       "8) LAG:MeanVar"
      ]
     },
     "execution_count": 314,
     "metadata": {},
     "output_type": "execute_result"
    }
   ],
   "source": [
    "bm.portfolios"
   ]
  },
  {
   "cell_type": "code",
   "execution_count": 315,
   "id": "6a5072d6-b405-43af-98a0-85b6328a1611",
   "metadata": {},
   "outputs": [
    {
     "name": "stdout",
     "output_type": "stream",
     "text": [
      "Backtesting 6 strategies: LAG:KODEX200, LAG:MP, ... , LAG:MeanVar\n"
     ]
    },
    {
     "name": "stderr",
     "output_type": "stream",
     "text": [
      "100%|█████████████████████████████████████████████████████████████████| 6/6 [00:03<00:00,  1.60it/s]"
     ]
    },
    {
     "name": "stdout",
     "output_type": "stream",
     "text": [
      "Returning stats\n"
     ]
    },
    {
     "name": "stderr",
     "output_type": "stream",
     "text": [
      "\n"
     ]
    },
    {
     "data": {
      "text/html": [
       "<div>\n",
       "<style scoped>\n",
       "    .dataframe tbody tr th:only-of-type {\n",
       "        vertical-align: middle;\n",
       "    }\n",
       "\n",
       "    .dataframe tbody tr th {\n",
       "        vertical-align: top;\n",
       "    }\n",
       "\n",
       "    .dataframe thead th {\n",
       "        text-align: right;\n",
       "    }\n",
       "</style>\n",
       "<table border=\"1\" class=\"dataframe\">\n",
       "  <thead>\n",
       "    <tr style=\"text-align: right;\">\n",
       "      <th></th>\n",
       "      <th>LAG:MP</th>\n",
       "      <th>LAG:Eqaully</th>\n",
       "      <th>LAG:ERC</th>\n",
       "      <th>LAG:InvVol</th>\n",
       "      <th>LAG:KODEX200</th>\n",
       "      <th>LAG:MeanVar</th>\n",
       "    </tr>\n",
       "  </thead>\n",
       "  <tbody>\n",
       "    <tr>\n",
       "      <th>start</th>\n",
       "      <td>2019-01-30</td>\n",
       "      <td>2019-01-30</td>\n",
       "      <td>2019-01-30</td>\n",
       "      <td>2019-01-30</td>\n",
       "      <td>2019-01-30</td>\n",
       "      <td>2019-01-30</td>\n",
       "    </tr>\n",
       "    <tr>\n",
       "      <th>end</th>\n",
       "      <td>2024-07-31</td>\n",
       "      <td>2024-07-31</td>\n",
       "      <td>2024-07-31</td>\n",
       "      <td>2024-07-31</td>\n",
       "      <td>2024-07-31</td>\n",
       "      <td>2024-07-31</td>\n",
       "    </tr>\n",
       "    <tr>\n",
       "      <th>total_return</th>\n",
       "      <td>0.320584</td>\n",
       "      <td>0.355465</td>\n",
       "      <td>0.310493</td>\n",
       "      <td>0.301408</td>\n",
       "      <td>0.435671</td>\n",
       "      <td>0.218928</td>\n",
       "    </tr>\n",
       "    <tr>\n",
       "      <th>cagr</th>\n",
       "      <td>0.051856</td>\n",
       "      <td>0.056853</td>\n",
       "      <td>0.05039</td>\n",
       "      <td>0.049062</td>\n",
       "      <td>0.067957</td>\n",
       "      <td>0.036648</td>\n",
       "    </tr>\n",
       "    <tr>\n",
       "      <th>monthly_vol</th>\n",
       "      <td>0.099719</td>\n",
       "      <td>0.119832</td>\n",
       "      <td>0.105256</td>\n",
       "      <td>0.104687</td>\n",
       "      <td>0.189682</td>\n",
       "      <td>0.10127</td>\n",
       "    </tr>\n",
       "    <tr>\n",
       "      <th>monthly_sharpe</th>\n",
       "      <td>0.558104</td>\n",
       "      <td>0.522481</td>\n",
       "      <td>0.520792</td>\n",
       "      <td>0.510908</td>\n",
       "      <td>0.440919</td>\n",
       "      <td>0.406259</td>\n",
       "    </tr>\n",
       "    <tr>\n",
       "      <th>max_drawdown</th>\n",
       "      <td>-0.215628</td>\n",
       "      <td>-0.204365</td>\n",
       "      <td>-0.185794</td>\n",
       "      <td>-0.183714</td>\n",
       "      <td>-0.342786</td>\n",
       "      <td>-0.189489</td>\n",
       "    </tr>\n",
       "    <tr>\n",
       "      <th>avg_drawdown</th>\n",
       "      <td>-0.018684</td>\n",
       "      <td>-0.012366</td>\n",
       "      <td>-0.011598</td>\n",
       "      <td>-0.011269</td>\n",
       "      <td>-0.052</td>\n",
       "      <td>-0.014114</td>\n",
       "    </tr>\n",
       "    <tr>\n",
       "      <th>avg_drawdown_days</th>\n",
       "      <td>39.333333</td>\n",
       "      <td>35.45</td>\n",
       "      <td>29.744681</td>\n",
       "      <td>32.627907</td>\n",
       "      <td>74.619048</td>\n",
       "      <td>41.828571</td>\n",
       "    </tr>\n",
       "  </tbody>\n",
       "</table>\n",
       "</div>"
      ],
      "text/plain": [
       "                       LAG:MP LAG:Eqaully     LAG:ERC  LAG:InvVol  \\\n",
       "start              2019-01-30  2019-01-30  2019-01-30  2019-01-30   \n",
       "end                2024-07-31  2024-07-31  2024-07-31  2024-07-31   \n",
       "total_return         0.320584    0.355465    0.310493    0.301408   \n",
       "cagr                 0.051856    0.056853     0.05039    0.049062   \n",
       "monthly_vol          0.099719    0.119832    0.105256    0.104687   \n",
       "monthly_sharpe       0.558104    0.522481    0.520792    0.510908   \n",
       "max_drawdown        -0.215628   -0.204365   -0.185794   -0.183714   \n",
       "avg_drawdown        -0.018684   -0.012366   -0.011598   -0.011269   \n",
       "avg_drawdown_days   39.333333       35.45   29.744681   32.627907   \n",
       "\n",
       "                  LAG:KODEX200 LAG:MeanVar  \n",
       "start               2019-01-30  2019-01-30  \n",
       "end                 2024-07-31  2024-07-31  \n",
       "total_return          0.435671    0.218928  \n",
       "cagr                  0.067957    0.036648  \n",
       "monthly_vol           0.189682     0.10127  \n",
       "monthly_sharpe        0.440919    0.406259  \n",
       "max_drawdown         -0.342786   -0.189489  \n",
       "avg_drawdown            -0.052   -0.014114  \n",
       "avg_drawdown_days    74.619048   41.828571  "
      ]
     },
     "execution_count": 315,
     "metadata": {},
     "output_type": "execute_result"
    }
   ],
   "source": [
    "pf_list = list(bm.portfolios.keys())[3:]\n",
    "bm.run(pf_list, plot=False, stats_sort_by='monthly_sharpe', metrics=metrics2)"
   ]
  },
  {
   "cell_type": "code",
   "execution_count": 316,
   "id": "a3987a67-d2a1-45e1-8e8d-ce553cb1e6d9",
   "metadata": {},
   "outputs": [],
   "source": [
    "kwb = {**kwargs_build, 'freq':'Q'}\n",
    "\n",
    "bm.build(name='LAG:Quarterly', weigh='equally', **kwb)"
   ]
  },
  {
   "cell_type": "code",
   "execution_count": 317,
   "id": "3fff8428-aaf6-47e4-ae34-e9976a25b096",
   "metadata": {},
   "outputs": [
    {
     "name": "stdout",
     "output_type": "stream",
     "text": [
      "Backtesting 7 strategies: LAG:KODEX200, LAG:MP, ... , LAG:Quarterly\n"
     ]
    },
    {
     "name": "stderr",
     "output_type": "stream",
     "text": [
      "100%|█████████████████████████████████████████████████████████████████| 7/7 [00:00<00:00, 10.57it/s]"
     ]
    },
    {
     "name": "stdout",
     "output_type": "stream",
     "text": [
      "Returning stats\n"
     ]
    },
    {
     "name": "stderr",
     "output_type": "stream",
     "text": [
      "\n"
     ]
    },
    {
     "data": {
      "text/html": [
       "<div>\n",
       "<style scoped>\n",
       "    .dataframe tbody tr th:only-of-type {\n",
       "        vertical-align: middle;\n",
       "    }\n",
       "\n",
       "    .dataframe tbody tr th {\n",
       "        vertical-align: top;\n",
       "    }\n",
       "\n",
       "    .dataframe thead th {\n",
       "        text-align: right;\n",
       "    }\n",
       "</style>\n",
       "<table border=\"1\" class=\"dataframe\">\n",
       "  <thead>\n",
       "    <tr style=\"text-align: right;\">\n",
       "      <th></th>\n",
       "      <th>LAG:MP</th>\n",
       "      <th>LAG:Eqaully</th>\n",
       "      <th>LAG:Quarterly</th>\n",
       "      <th>LAG:ERC</th>\n",
       "      <th>LAG:InvVol</th>\n",
       "      <th>LAG:KODEX200</th>\n",
       "      <th>LAG:MeanVar</th>\n",
       "    </tr>\n",
       "  </thead>\n",
       "  <tbody>\n",
       "    <tr>\n",
       "      <th>start</th>\n",
       "      <td>2019-01-30</td>\n",
       "      <td>2019-01-30</td>\n",
       "      <td>2019-01-30</td>\n",
       "      <td>2019-01-30</td>\n",
       "      <td>2019-01-30</td>\n",
       "      <td>2019-01-30</td>\n",
       "      <td>2019-01-30</td>\n",
       "    </tr>\n",
       "    <tr>\n",
       "      <th>end</th>\n",
       "      <td>2024-07-31</td>\n",
       "      <td>2024-07-31</td>\n",
       "      <td>2024-07-31</td>\n",
       "      <td>2024-07-31</td>\n",
       "      <td>2024-07-31</td>\n",
       "      <td>2024-07-31</td>\n",
       "      <td>2024-07-31</td>\n",
       "    </tr>\n",
       "    <tr>\n",
       "      <th>total_return</th>\n",
       "      <td>0.320584</td>\n",
       "      <td>0.355465</td>\n",
       "      <td>0.354231</td>\n",
       "      <td>0.310493</td>\n",
       "      <td>0.301408</td>\n",
       "      <td>0.435671</td>\n",
       "      <td>0.218928</td>\n",
       "    </tr>\n",
       "    <tr>\n",
       "      <th>cagr</th>\n",
       "      <td>0.051856</td>\n",
       "      <td>0.056853</td>\n",
       "      <td>0.056678</td>\n",
       "      <td>0.05039</td>\n",
       "      <td>0.049062</td>\n",
       "      <td>0.067957</td>\n",
       "      <td>0.036648</td>\n",
       "    </tr>\n",
       "    <tr>\n",
       "      <th>monthly_vol</th>\n",
       "      <td>0.099719</td>\n",
       "      <td>0.119832</td>\n",
       "      <td>0.11947</td>\n",
       "      <td>0.105256</td>\n",
       "      <td>0.104687</td>\n",
       "      <td>0.189682</td>\n",
       "      <td>0.10127</td>\n",
       "    </tr>\n",
       "    <tr>\n",
       "      <th>monthly_sharpe</th>\n",
       "      <td>0.558104</td>\n",
       "      <td>0.522481</td>\n",
       "      <td>0.522332</td>\n",
       "      <td>0.520792</td>\n",
       "      <td>0.510908</td>\n",
       "      <td>0.440919</td>\n",
       "      <td>0.406259</td>\n",
       "    </tr>\n",
       "    <tr>\n",
       "      <th>max_drawdown</th>\n",
       "      <td>-0.215628</td>\n",
       "      <td>-0.204365</td>\n",
       "      <td>-0.204063</td>\n",
       "      <td>-0.185794</td>\n",
       "      <td>-0.183714</td>\n",
       "      <td>-0.342786</td>\n",
       "      <td>-0.189489</td>\n",
       "    </tr>\n",
       "    <tr>\n",
       "      <th>avg_drawdown</th>\n",
       "      <td>-0.018684</td>\n",
       "      <td>-0.012366</td>\n",
       "      <td>-0.012063</td>\n",
       "      <td>-0.011598</td>\n",
       "      <td>-0.011269</td>\n",
       "      <td>-0.052</td>\n",
       "      <td>-0.014114</td>\n",
       "    </tr>\n",
       "    <tr>\n",
       "      <th>avg_drawdown_days</th>\n",
       "      <td>39.333333</td>\n",
       "      <td>35.45</td>\n",
       "      <td>34.463415</td>\n",
       "      <td>29.744681</td>\n",
       "      <td>32.627907</td>\n",
       "      <td>74.619048</td>\n",
       "      <td>41.828571</td>\n",
       "    </tr>\n",
       "  </tbody>\n",
       "</table>\n",
       "</div>"
      ],
      "text/plain": [
       "                       LAG:MP LAG:Eqaully LAG:Quarterly     LAG:ERC  \\\n",
       "start              2019-01-30  2019-01-30    2019-01-30  2019-01-30   \n",
       "end                2024-07-31  2024-07-31    2024-07-31  2024-07-31   \n",
       "total_return         0.320584    0.355465      0.354231    0.310493   \n",
       "cagr                 0.051856    0.056853      0.056678     0.05039   \n",
       "monthly_vol          0.099719    0.119832       0.11947    0.105256   \n",
       "monthly_sharpe       0.558104    0.522481      0.522332    0.520792   \n",
       "max_drawdown        -0.215628   -0.204365     -0.204063   -0.185794   \n",
       "avg_drawdown        -0.018684   -0.012366     -0.012063   -0.011598   \n",
       "avg_drawdown_days   39.333333       35.45     34.463415   29.744681   \n",
       "\n",
       "                   LAG:InvVol LAG:KODEX200 LAG:MeanVar  \n",
       "start              2019-01-30   2019-01-30  2019-01-30  \n",
       "end                2024-07-31   2024-07-31  2024-07-31  \n",
       "total_return         0.301408     0.435671    0.218928  \n",
       "cagr                 0.049062     0.067957    0.036648  \n",
       "monthly_vol          0.104687     0.189682     0.10127  \n",
       "monthly_sharpe       0.510908     0.440919    0.406259  \n",
       "max_drawdown        -0.183714    -0.342786   -0.189489  \n",
       "avg_drawdown        -0.011269       -0.052   -0.014114  \n",
       "avg_drawdown_days   32.627907    74.619048   41.828571  "
      ]
     },
     "execution_count": 317,
     "metadata": {},
     "output_type": "execute_result"
    }
   ],
   "source": [
    "pf_list = list(bm.portfolios.keys())[3:]\n",
    "bm.run(pf_list, plot=False, stats_sort_by='monthly_sharpe', metrics=metrics2)"
   ]
  },
  {
   "cell_type": "markdown",
   "id": "c0f19825-dd6a-44d2-8224-d3e2270fba63",
   "metadata": {},
   "source": [
    "### Select"
   ]
  },
  {
   "cell_type": "code",
   "execution_count": 318,
   "id": "3f519fb8-b036-4893-955a-3689f74b78e9",
   "metadata": {},
   "outputs": [
    {
     "data": {
      "text/plain": [
       "0) K55301BU6139: 미래에셋전략배분TDF2035혼합자산자투자신탁종류C-P2e\n",
       "1) K55301BU5479: 미래에셋전략배분TDF2045혼합자산자투자신탁 종류C-P2e\n",
       "2) K55365BT3694: kcgi코리아퇴직연금증권자투자신탁(주식)종류C-Pe2\n",
       "3) K55213C51890: 한화LIFEPLUSTDF2040증권자투자신탁(혼합-재간접형)C-RPe(퇴직연금)"
      ]
     },
     "execution_count": 318,
     "metadata": {},
     "output_type": "execute_result"
    }
   ],
   "source": [
    "n = 4\n",
    "choice = irp.performance('sharpe', 'year').index[:n].to_list()\n",
    "irp.get_names(choice)"
   ]
  },
  {
   "cell_type": "code",
   "execution_count": 319,
   "id": "c09982da-9c23-42c5-b125-bc25af777904",
   "metadata": {},
   "outputs": [],
   "source": [
    "kwa_list = [{'name':f'SHP:Y{i}', 'weights':choice[:i]} for i in range(1,n+1)]\n",
    "\n",
    "kwargs_build = dict(\n",
    "    freq = 'Y', select = 'all', weigh='Specified'\n",
    ")\n",
    "\n",
    "bm.build_batch(*kwa_list, **kwargs_build)"
   ]
  },
  {
   "cell_type": "code",
   "execution_count": 320,
   "id": "d9107d77-800c-4d4a-900a-53fa4b65ef8e",
   "metadata": {},
   "outputs": [
    {
     "data": {
      "text/plain": [
       "0) KODEX200\n",
       "1) MP:Quarterly\n",
       "2) MP:Yearly\n",
       "3) LAG:KODEX200\n",
       "4) LAG:MP\n",
       "5) LAG:Eqaully\n",
       "6) LAG:ERC\n",
       "7) LAG:InvVol\n",
       "8) LAG:MeanVar\n",
       "9) LAG:Quarterly\n",
       "10) SHP:Y1\n",
       "11) SHP:Y2\n",
       "12) SHP:Y3\n",
       "13) SHP:Y4"
      ]
     },
     "execution_count": 320,
     "metadata": {},
     "output_type": "execute_result"
    }
   ],
   "source": [
    "bm.portfolios"
   ]
  },
  {
   "cell_type": "code",
   "execution_count": 321,
   "id": "de91172c-9745-4592-8268-7192229e0898",
   "metadata": {},
   "outputs": [
    {
     "name": "stdout",
     "output_type": "stream",
     "text": [
      "Backtesting 6 strategies: KODEX200, MP:Yearly, ... , SHP:Y4\n"
     ]
    },
    {
     "name": "stderr",
     "output_type": "stream",
     "text": [
      "100%|█████████████████████████████████████████████████████████████████| 6/6 [00:02<00:00,  2.50it/s]"
     ]
    },
    {
     "name": "stdout",
     "output_type": "stream",
     "text": [
      "Returning stats\n"
     ]
    },
    {
     "name": "stderr",
     "output_type": "stream",
     "text": [
      "\n"
     ]
    },
    {
     "data": {
      "text/html": [
       "<div>\n",
       "<style scoped>\n",
       "    .dataframe tbody tr th:only-of-type {\n",
       "        vertical-align: middle;\n",
       "    }\n",
       "\n",
       "    .dataframe tbody tr th {\n",
       "        vertical-align: top;\n",
       "    }\n",
       "\n",
       "    .dataframe thead th {\n",
       "        text-align: right;\n",
       "    }\n",
       "</style>\n",
       "<table border=\"1\" class=\"dataframe\">\n",
       "  <thead>\n",
       "    <tr style=\"text-align: right;\">\n",
       "      <th></th>\n",
       "      <th>SHP:Y1</th>\n",
       "      <th>SHP:Y2</th>\n",
       "      <th>SHP:Y4</th>\n",
       "      <th>SHP:Y3</th>\n",
       "      <th>MP:Yearly</th>\n",
       "      <th>KODEX200</th>\n",
       "    </tr>\n",
       "  </thead>\n",
       "  <tbody>\n",
       "    <tr>\n",
       "      <th>start</th>\n",
       "      <td>2019-01-30</td>\n",
       "      <td>2019-01-30</td>\n",
       "      <td>2019-01-30</td>\n",
       "      <td>2019-01-30</td>\n",
       "      <td>2019-01-30</td>\n",
       "      <td>2019-01-30</td>\n",
       "    </tr>\n",
       "    <tr>\n",
       "      <th>end</th>\n",
       "      <td>2024-07-31</td>\n",
       "      <td>2024-07-31</td>\n",
       "      <td>2024-07-31</td>\n",
       "      <td>2024-07-31</td>\n",
       "      <td>2024-07-31</td>\n",
       "      <td>2024-07-31</td>\n",
       "    </tr>\n",
       "    <tr>\n",
       "      <th>total_return</th>\n",
       "      <td>0.586372</td>\n",
       "      <td>0.618317</td>\n",
       "      <td>0.666064</td>\n",
       "      <td>0.682601</td>\n",
       "      <td>0.5097</td>\n",
       "      <td>0.487812</td>\n",
       "    </tr>\n",
       "    <tr>\n",
       "      <th>cagr</th>\n",
       "      <td>0.087514</td>\n",
       "      <td>0.091463</td>\n",
       "      <td>0.097249</td>\n",
       "      <td>0.099221</td>\n",
       "      <td>0.077764</td>\n",
       "      <td>0.074906</td>\n",
       "    </tr>\n",
       "    <tr>\n",
       "      <th>monthly_vol</th>\n",
       "      <td>0.099616</td>\n",
       "      <td>0.104922</td>\n",
       "      <td>0.122943</td>\n",
       "      <td>0.126855</td>\n",
       "      <td>0.103181</td>\n",
       "      <td>0.19921</td>\n",
       "    </tr>\n",
       "    <tr>\n",
       "      <th>monthly_sharpe</th>\n",
       "      <td>0.894809</td>\n",
       "      <td>0.889493</td>\n",
       "      <td>0.819295</td>\n",
       "      <td>0.811894</td>\n",
       "      <td>0.779885</td>\n",
       "      <td>0.461712</td>\n",
       "    </tr>\n",
       "    <tr>\n",
       "      <th>max_drawdown</th>\n",
       "      <td>-0.215077</td>\n",
       "      <td>-0.22212</td>\n",
       "      <td>-0.184672</td>\n",
       "      <td>-0.203328</td>\n",
       "      <td>-0.215629</td>\n",
       "      <td>-0.346184</td>\n",
       "    </tr>\n",
       "    <tr>\n",
       "      <th>avg_drawdown</th>\n",
       "      <td>-0.0116</td>\n",
       "      <td>-0.012311</td>\n",
       "      <td>-0.009163</td>\n",
       "      <td>-0.010896</td>\n",
       "      <td>-0.014143</td>\n",
       "      <td>-0.047368</td>\n",
       "    </tr>\n",
       "    <tr>\n",
       "      <th>avg_drawdown_days</th>\n",
       "      <td>20.853659</td>\n",
       "      <td>20.987805</td>\n",
       "      <td>22.973333</td>\n",
       "      <td>24.942857</td>\n",
       "      <td>28.912281</td>\n",
       "      <td>68.357143</td>\n",
       "    </tr>\n",
       "  </tbody>\n",
       "</table>\n",
       "</div>"
      ],
      "text/plain": [
       "                       SHP:Y1      SHP:Y2      SHP:Y4      SHP:Y3   MP:Yearly  \\\n",
       "start              2019-01-30  2019-01-30  2019-01-30  2019-01-30  2019-01-30   \n",
       "end                2024-07-31  2024-07-31  2024-07-31  2024-07-31  2024-07-31   \n",
       "total_return         0.586372    0.618317    0.666064    0.682601      0.5097   \n",
       "cagr                 0.087514    0.091463    0.097249    0.099221    0.077764   \n",
       "monthly_vol          0.099616    0.104922    0.122943    0.126855    0.103181   \n",
       "monthly_sharpe       0.894809    0.889493    0.819295    0.811894    0.779885   \n",
       "max_drawdown        -0.215077    -0.22212   -0.184672   -0.203328   -0.215629   \n",
       "avg_drawdown          -0.0116   -0.012311   -0.009163   -0.010896   -0.014143   \n",
       "avg_drawdown_days   20.853659   20.987805   22.973333   24.942857   28.912281   \n",
       "\n",
       "                     KODEX200  \n",
       "start              2019-01-30  \n",
       "end                2024-07-31  \n",
       "total_return         0.487812  \n",
       "cagr                 0.074906  \n",
       "monthly_vol           0.19921  \n",
       "monthly_sharpe       0.461712  \n",
       "max_drawdown        -0.346184  \n",
       "avg_drawdown        -0.047368  \n",
       "avg_drawdown_days   68.357143  "
      ]
     },
     "execution_count": 321,
     "metadata": {},
     "output_type": "execute_result"
    }
   ],
   "source": [
    "pf_list = [0, 2, 10, 11, 12, 13]\n",
    "bm.run(pf_list, plot=False, stats_sort_by='monthly_sharpe', metrics=metrics2)"
   ]
  },
  {
   "cell_type": "code",
   "execution_count": 322,
   "id": "4087156f-a082-4b3f-b0d4-c9d167bba80b",
   "metadata": {},
   "outputs": [
    {
     "data": {
      "text/plain": [
       "0) K55301BU6139: 미래에셋전략배분TDF2035혼합자산자투자신탁종류C-P2e\n",
       "1) K55301BU5479: 미래에셋전략배분TDF2045혼합자산자투자신탁 종류C-P2e\n",
       "2) K55301BU5453: 미래에셋평생소득TIF혼합자산자투자신탁종류C-P2e\n",
       "3) K55213C51890: 한화LIFEPLUSTDF2040증권자투자신탁(혼합-재간접형)C-RPe(퇴직연금)"
      ]
     },
     "execution_count": 322,
     "metadata": {},
     "output_type": "execute_result"
    }
   ],
   "source": [
    "n = 4\n",
    "choice = irp.performance('sharpe', 'month').index[:n].to_list()\n",
    "irp.get_names(choice)"
   ]
  },
  {
   "cell_type": "code",
   "execution_count": 323,
   "id": "4458c6e7-15aa-4829-b586-a9cf7aa54813",
   "metadata": {},
   "outputs": [],
   "source": [
    "kwa_list = [{'name':f'SHP:M{i}', 'weights':choice[:i]} for i in range(1,n+1)]\n",
    "\n",
    "bm.build_batch(*kwa_list, **kwargs_build)"
   ]
  },
  {
   "cell_type": "code",
   "execution_count": 324,
   "id": "d86cef25-7b91-48e1-8b0a-21729afd66b3",
   "metadata": {},
   "outputs": [
    {
     "name": "stdout",
     "output_type": "stream",
     "text": [
      "Backtesting 7 strategies: KODEX200, MP:Yearly, ... , SHP:M4\n"
     ]
    },
    {
     "name": "stderr",
     "output_type": "stream",
     "text": [
      "100%|█████████████████████████████████████████████████████████████████| 7/7 [00:02<00:00,  2.92it/s]"
     ]
    },
    {
     "name": "stdout",
     "output_type": "stream",
     "text": [
      "Returning stats\n"
     ]
    },
    {
     "name": "stderr",
     "output_type": "stream",
     "text": [
      "\n"
     ]
    },
    {
     "data": {
      "text/html": [
       "<div>\n",
       "<style scoped>\n",
       "    .dataframe tbody tr th:only-of-type {\n",
       "        vertical-align: middle;\n",
       "    }\n",
       "\n",
       "    .dataframe tbody tr th {\n",
       "        vertical-align: top;\n",
       "    }\n",
       "\n",
       "    .dataframe thead th {\n",
       "        text-align: right;\n",
       "    }\n",
       "</style>\n",
       "<table border=\"1\" class=\"dataframe\">\n",
       "  <thead>\n",
       "    <tr style=\"text-align: right;\">\n",
       "      <th></th>\n",
       "      <th>SHP:Y1</th>\n",
       "      <th>SHP:M1</th>\n",
       "      <th>SHP:M2</th>\n",
       "      <th>SHP:M3</th>\n",
       "      <th>SHP:M4</th>\n",
       "      <th>MP:Yearly</th>\n",
       "      <th>KODEX200</th>\n",
       "    </tr>\n",
       "  </thead>\n",
       "  <tbody>\n",
       "    <tr>\n",
       "      <th>start</th>\n",
       "      <td>2019-01-30</td>\n",
       "      <td>2019-01-30</td>\n",
       "      <td>2019-01-30</td>\n",
       "      <td>2019-01-30</td>\n",
       "      <td>2019-01-30</td>\n",
       "      <td>2019-01-30</td>\n",
       "      <td>2019-01-30</td>\n",
       "    </tr>\n",
       "    <tr>\n",
       "      <th>end</th>\n",
       "      <td>2024-07-31</td>\n",
       "      <td>2024-07-31</td>\n",
       "      <td>2024-07-31</td>\n",
       "      <td>2024-07-31</td>\n",
       "      <td>2024-07-31</td>\n",
       "      <td>2024-07-31</td>\n",
       "      <td>2024-07-31</td>\n",
       "    </tr>\n",
       "    <tr>\n",
       "      <th>total_return</th>\n",
       "      <td>0.586372</td>\n",
       "      <td>0.586372</td>\n",
       "      <td>0.618317</td>\n",
       "      <td>0.496902</td>\n",
       "      <td>0.524563</td>\n",
       "      <td>0.5097</td>\n",
       "      <td>0.487812</td>\n",
       "    </tr>\n",
       "    <tr>\n",
       "      <th>cagr</th>\n",
       "      <td>0.087514</td>\n",
       "      <td>0.087514</td>\n",
       "      <td>0.091463</td>\n",
       "      <td>0.076097</td>\n",
       "      <td>0.079685</td>\n",
       "      <td>0.077764</td>\n",
       "      <td>0.074906</td>\n",
       "    </tr>\n",
       "    <tr>\n",
       "      <th>monthly_vol</th>\n",
       "      <td>0.099616</td>\n",
       "      <td>0.099616</td>\n",
       "      <td>0.104922</td>\n",
       "      <td>0.089114</td>\n",
       "      <td>0.094304</td>\n",
       "      <td>0.103181</td>\n",
       "      <td>0.19921</td>\n",
       "    </tr>\n",
       "    <tr>\n",
       "      <th>monthly_sharpe</th>\n",
       "      <td>0.894809</td>\n",
       "      <td>0.894809</td>\n",
       "      <td>0.889493</td>\n",
       "      <td>0.869994</td>\n",
       "      <td>0.862908</td>\n",
       "      <td>0.779885</td>\n",
       "      <td>0.461712</td>\n",
       "    </tr>\n",
       "    <tr>\n",
       "      <th>max_drawdown</th>\n",
       "      <td>-0.215077</td>\n",
       "      <td>-0.215077</td>\n",
       "      <td>-0.22212</td>\n",
       "      <td>-0.191431</td>\n",
       "      <td>-0.157305</td>\n",
       "      <td>-0.215629</td>\n",
       "      <td>-0.346184</td>\n",
       "    </tr>\n",
       "    <tr>\n",
       "      <th>avg_drawdown</th>\n",
       "      <td>-0.0116</td>\n",
       "      <td>-0.0116</td>\n",
       "      <td>-0.012311</td>\n",
       "      <td>-0.010156</td>\n",
       "      <td>-0.008272</td>\n",
       "      <td>-0.014143</td>\n",
       "      <td>-0.047368</td>\n",
       "    </tr>\n",
       "    <tr>\n",
       "      <th>avg_drawdown_days</th>\n",
       "      <td>20.853659</td>\n",
       "      <td>20.853659</td>\n",
       "      <td>20.987805</td>\n",
       "      <td>20.890244</td>\n",
       "      <td>20.26506</td>\n",
       "      <td>28.912281</td>\n",
       "      <td>68.357143</td>\n",
       "    </tr>\n",
       "  </tbody>\n",
       "</table>\n",
       "</div>"
      ],
      "text/plain": [
       "                       SHP:Y1      SHP:M1      SHP:M2      SHP:M3      SHP:M4  \\\n",
       "start              2019-01-30  2019-01-30  2019-01-30  2019-01-30  2019-01-30   \n",
       "end                2024-07-31  2024-07-31  2024-07-31  2024-07-31  2024-07-31   \n",
       "total_return         0.586372    0.586372    0.618317    0.496902    0.524563   \n",
       "cagr                 0.087514    0.087514    0.091463    0.076097    0.079685   \n",
       "monthly_vol          0.099616    0.099616    0.104922    0.089114    0.094304   \n",
       "monthly_sharpe       0.894809    0.894809    0.889493    0.869994    0.862908   \n",
       "max_drawdown        -0.215077   -0.215077    -0.22212   -0.191431   -0.157305   \n",
       "avg_drawdown          -0.0116     -0.0116   -0.012311   -0.010156   -0.008272   \n",
       "avg_drawdown_days   20.853659   20.853659   20.987805   20.890244    20.26506   \n",
       "\n",
       "                    MP:Yearly    KODEX200  \n",
       "start              2019-01-30  2019-01-30  \n",
       "end                2024-07-31  2024-07-31  \n",
       "total_return           0.5097    0.487812  \n",
       "cagr                 0.077764    0.074906  \n",
       "monthly_vol          0.103181     0.19921  \n",
       "monthly_sharpe       0.779885    0.461712  \n",
       "max_drawdown        -0.215629   -0.346184  \n",
       "avg_drawdown        -0.014143   -0.047368  \n",
       "avg_drawdown_days   28.912281   68.357143  "
      ]
     },
     "execution_count": 324,
     "metadata": {},
     "output_type": "execute_result"
    }
   ],
   "source": [
    "pf_list = [0, 2, 10, 14, 15, 16, 17]\n",
    "bm.run(pf_list, plot=False, stats_sort_by='monthly_sharpe', metrics=metrics2)"
   ]
  },
  {
   "cell_type": "code",
   "execution_count": 325,
   "id": "c7e4f6df-8b16-41b7-b464-cee76b3ae951",
   "metadata": {},
   "outputs": [
    {
     "data": {
      "text/plain": [
       "0) K55301BU5453: 미래에셋평생소득TIF혼합자산자투자신탁종류C-P2e\n",
       "1) K55301BU6139: 미래에셋전략배분TDF2035혼합자산자투자신탁종류C-P2e"
      ]
     },
     "execution_count": 325,
     "metadata": {},
     "output_type": "execute_result"
    }
   ],
   "source": [
    "choice = irp.performance('sharpe').idxmax().unique().tolist()\n",
    "irp.get_names(choice)"
   ]
  },
  {
   "cell_type": "code",
   "execution_count": 326,
   "id": "f7d0f02d-6a43-4c45-959f-7800e1d0ae85",
   "metadata": {},
   "outputs": [],
   "source": [
    "bm.build(name='SHP:Y1M1', weights=choice, **kwargs_build)"
   ]
  },
  {
   "cell_type": "code",
   "execution_count": 327,
   "id": "7cb175a6-cbdb-4258-b3b6-7e2bd8511ce8",
   "metadata": {},
   "outputs": [
    {
     "name": "stdout",
     "output_type": "stream",
     "text": [
      "Backtesting 4 strategies: KODEX200, MP:Yearly, SHP:Y1, SHP:Y1M1\n"
     ]
    },
    {
     "name": "stderr",
     "output_type": "stream",
     "text": [
      "100%|█████████████████████████████████████████████████████████████████| 4/4 [00:00<00:00,  6.18it/s]"
     ]
    },
    {
     "name": "stdout",
     "output_type": "stream",
     "text": [
      "Returning stats\n"
     ]
    },
    {
     "name": "stderr",
     "output_type": "stream",
     "text": [
      "\n"
     ]
    },
    {
     "data": {
      "text/html": [
       "<div>\n",
       "<style scoped>\n",
       "    .dataframe tbody tr th:only-of-type {\n",
       "        vertical-align: middle;\n",
       "    }\n",
       "\n",
       "    .dataframe tbody tr th {\n",
       "        vertical-align: top;\n",
       "    }\n",
       "\n",
       "    .dataframe thead th {\n",
       "        text-align: right;\n",
       "    }\n",
       "</style>\n",
       "<table border=\"1\" class=\"dataframe\">\n",
       "  <thead>\n",
       "    <tr style=\"text-align: right;\">\n",
       "      <th></th>\n",
       "      <th>SHP:Y1</th>\n",
       "      <th>SHP:Y1M1</th>\n",
       "      <th>MP:Yearly</th>\n",
       "      <th>KODEX200</th>\n",
       "    </tr>\n",
       "  </thead>\n",
       "  <tbody>\n",
       "    <tr>\n",
       "      <th>start</th>\n",
       "      <td>2019-01-30</td>\n",
       "      <td>2019-01-30</td>\n",
       "      <td>2019-01-30</td>\n",
       "      <td>2019-01-30</td>\n",
       "    </tr>\n",
       "    <tr>\n",
       "      <th>end</th>\n",
       "      <td>2024-07-31</td>\n",
       "      <td>2024-07-31</td>\n",
       "      <td>2024-07-31</td>\n",
       "      <td>2024-07-31</td>\n",
       "    </tr>\n",
       "    <tr>\n",
       "      <th>total_return</th>\n",
       "      <td>0.586372</td>\n",
       "      <td>0.423583</td>\n",
       "      <td>0.5097</td>\n",
       "      <td>0.487812</td>\n",
       "    </tr>\n",
       "    <tr>\n",
       "      <th>cagr</th>\n",
       "      <td>0.087514</td>\n",
       "      <td>0.066316</td>\n",
       "      <td>0.077764</td>\n",
       "      <td>0.074906</td>\n",
       "    </tr>\n",
       "    <tr>\n",
       "      <th>monthly_vol</th>\n",
       "      <td>0.099616</td>\n",
       "      <td>0.078857</td>\n",
       "      <td>0.103181</td>\n",
       "      <td>0.19921</td>\n",
       "    </tr>\n",
       "    <tr>\n",
       "      <th>monthly_sharpe</th>\n",
       "      <td>0.894809</td>\n",
       "      <td>0.85584</td>\n",
       "      <td>0.779885</td>\n",
       "      <td>0.461712</td>\n",
       "    </tr>\n",
       "    <tr>\n",
       "      <th>max_drawdown</th>\n",
       "      <td>-0.215077</td>\n",
       "      <td>-0.172359</td>\n",
       "      <td>-0.215629</td>\n",
       "      <td>-0.346184</td>\n",
       "    </tr>\n",
       "    <tr>\n",
       "      <th>avg_drawdown</th>\n",
       "      <td>-0.0116</td>\n",
       "      <td>-0.008916</td>\n",
       "      <td>-0.014143</td>\n",
       "      <td>-0.047368</td>\n",
       "    </tr>\n",
       "    <tr>\n",
       "      <th>avg_drawdown_days</th>\n",
       "      <td>20.853659</td>\n",
       "      <td>21.481013</td>\n",
       "      <td>28.912281</td>\n",
       "      <td>68.357143</td>\n",
       "    </tr>\n",
       "  </tbody>\n",
       "</table>\n",
       "</div>"
      ],
      "text/plain": [
       "                       SHP:Y1    SHP:Y1M1   MP:Yearly    KODEX200\n",
       "start              2019-01-30  2019-01-30  2019-01-30  2019-01-30\n",
       "end                2024-07-31  2024-07-31  2024-07-31  2024-07-31\n",
       "total_return         0.586372    0.423583      0.5097    0.487812\n",
       "cagr                 0.087514    0.066316    0.077764    0.074906\n",
       "monthly_vol          0.099616    0.078857    0.103181     0.19921\n",
       "monthly_sharpe       0.894809     0.85584    0.779885    0.461712\n",
       "max_drawdown        -0.215077   -0.172359   -0.215629   -0.346184\n",
       "avg_drawdown          -0.0116   -0.008916   -0.014143   -0.047368\n",
       "avg_drawdown_days   20.853659   21.481013   28.912281   68.357143"
      ]
     },
     "execution_count": 327,
     "metadata": {},
     "output_type": "execute_result"
    }
   ],
   "source": [
    "pf_list = [0, 2, 10, 18]\n",
    "bm.run(pf_list, plot=False, stats_sort_by='monthly_sharpe', metrics=metrics2)"
   ]
  },
  {
   "cell_type": "markdown",
   "id": "7041d7d5-935a-44f5-9bb2-361c728d5e5a",
   "metadata": {},
   "source": [
    "### Candis"
   ]
  },
  {
   "cell_type": "code",
   "execution_count": 328,
   "id": "c85d3b18-3699-4fde-9366-b39d23829fd2",
   "metadata": {},
   "outputs": [
    {
     "data": {
      "text/plain": [
       "0) K55301BU6139: 미래에셋전략배분TDF2035혼합자산자투자신탁종류C-P2e\n",
       "1) K55206C95800: 키움키워드림TDF2030증권투자신탁 1[혼합-재간접형]C-P2e(퇴직연금)\n",
       "2) K55365BT3694: kcgi코리아퇴직연금증권자투자신탁(주식)종류C-Pe2\n",
       "3) K55203C53681: 대신KOSPI200인덱스증권자투자신탁(주식-파생형)CPe\n",
       "4) K55234CJ0997: IBK플레인바닐라EMP증권투자신탁(혼합-재간접형)C-Re"
      ]
     },
     "execution_count": 328,
     "metadata": {},
     "output_type": "execute_result"
    }
   ],
   "source": [
    "choice = choice_mp + ['K55365BT3694', 'K55203C53681', 'K55234CJ0997']\n",
    "irp.get_names(choice)"
   ]
  },
  {
   "cell_type": "code",
   "execution_count": 329,
   "id": "917c0b9d-7f86-4718-8596-fc7130291a46",
   "metadata": {},
   "outputs": [],
   "source": [
    "bm.build(name='CAN1', weights=choice, **kwargs_build)"
   ]
  },
  {
   "cell_type": "code",
   "execution_count": 330,
   "id": "86cc6940-f532-432e-9210-68a3c522d706",
   "metadata": {},
   "outputs": [
    {
     "name": "stdout",
     "output_type": "stream",
     "text": [
      "Backtesting 4 strategies: KODEX200, MP:Yearly, SHP:Y1, CAN1\n"
     ]
    },
    {
     "name": "stderr",
     "output_type": "stream",
     "text": [
      "100%|█████████████████████████████████████████████████████████████████| 4/4 [00:00<00:00,  6.28it/s]"
     ]
    },
    {
     "name": "stdout",
     "output_type": "stream",
     "text": [
      "Returning stats\n"
     ]
    },
    {
     "name": "stderr",
     "output_type": "stream",
     "text": [
      "\n"
     ]
    },
    {
     "data": {
      "text/html": [
       "<div>\n",
       "<style scoped>\n",
       "    .dataframe tbody tr th:only-of-type {\n",
       "        vertical-align: middle;\n",
       "    }\n",
       "\n",
       "    .dataframe tbody tr th {\n",
       "        vertical-align: top;\n",
       "    }\n",
       "\n",
       "    .dataframe thead th {\n",
       "        text-align: right;\n",
       "    }\n",
       "</style>\n",
       "<table border=\"1\" class=\"dataframe\">\n",
       "  <thead>\n",
       "    <tr style=\"text-align: right;\">\n",
       "      <th></th>\n",
       "      <th>SHP:Y1</th>\n",
       "      <th>MP:Yearly</th>\n",
       "      <th>CAN1</th>\n",
       "      <th>KODEX200</th>\n",
       "    </tr>\n",
       "  </thead>\n",
       "  <tbody>\n",
       "    <tr>\n",
       "      <th>start</th>\n",
       "      <td>2019-01-30</td>\n",
       "      <td>2019-01-30</td>\n",
       "      <td>2019-01-30</td>\n",
       "      <td>2019-01-30</td>\n",
       "    </tr>\n",
       "    <tr>\n",
       "      <th>end</th>\n",
       "      <td>2024-07-31</td>\n",
       "      <td>2024-07-31</td>\n",
       "      <td>2024-07-31</td>\n",
       "      <td>2024-07-31</td>\n",
       "    </tr>\n",
       "    <tr>\n",
       "      <th>total_return</th>\n",
       "      <td>0.586372</td>\n",
       "      <td>0.5097</td>\n",
       "      <td>0.588888</td>\n",
       "      <td>0.487812</td>\n",
       "    </tr>\n",
       "    <tr>\n",
       "      <th>cagr</th>\n",
       "      <td>0.087514</td>\n",
       "      <td>0.077764</td>\n",
       "      <td>0.087828</td>\n",
       "      <td>0.074906</td>\n",
       "    </tr>\n",
       "    <tr>\n",
       "      <th>monthly_vol</th>\n",
       "      <td>0.099616</td>\n",
       "      <td>0.103181</td>\n",
       "      <td>0.128152</td>\n",
       "      <td>0.19921</td>\n",
       "    </tr>\n",
       "    <tr>\n",
       "      <th>monthly_sharpe</th>\n",
       "      <td>0.894809</td>\n",
       "      <td>0.779885</td>\n",
       "      <td>0.722651</td>\n",
       "      <td>0.461712</td>\n",
       "    </tr>\n",
       "    <tr>\n",
       "      <th>max_drawdown</th>\n",
       "      <td>-0.215077</td>\n",
       "      <td>-0.215629</td>\n",
       "      <td>-0.213511</td>\n",
       "      <td>-0.346184</td>\n",
       "    </tr>\n",
       "    <tr>\n",
       "      <th>avg_drawdown</th>\n",
       "      <td>-0.0116</td>\n",
       "      <td>-0.014143</td>\n",
       "      <td>-0.011399</td>\n",
       "      <td>-0.047368</td>\n",
       "    </tr>\n",
       "    <tr>\n",
       "      <th>avg_drawdown_days</th>\n",
       "      <td>20.853659</td>\n",
       "      <td>28.912281</td>\n",
       "      <td>35.333333</td>\n",
       "      <td>68.357143</td>\n",
       "    </tr>\n",
       "  </tbody>\n",
       "</table>\n",
       "</div>"
      ],
      "text/plain": [
       "                       SHP:Y1   MP:Yearly        CAN1    KODEX200\n",
       "start              2019-01-30  2019-01-30  2019-01-30  2019-01-30\n",
       "end                2024-07-31  2024-07-31  2024-07-31  2024-07-31\n",
       "total_return         0.586372      0.5097    0.588888    0.487812\n",
       "cagr                 0.087514    0.077764    0.087828    0.074906\n",
       "monthly_vol          0.099616    0.103181    0.128152     0.19921\n",
       "monthly_sharpe       0.894809    0.779885    0.722651    0.461712\n",
       "max_drawdown        -0.215077   -0.215629   -0.213511   -0.346184\n",
       "avg_drawdown          -0.0116   -0.014143   -0.011399   -0.047368\n",
       "avg_drawdown_days   20.853659   28.912281   35.333333   68.357143"
      ]
     },
     "execution_count": 330,
     "metadata": {},
     "output_type": "execute_result"
    }
   ],
   "source": [
    "pf_list = [0, 2, 10, 19]\n",
    "bm.run(pf_list, plot=False, stats_sort_by='monthly_sharpe', metrics=metrics2)"
   ]
  },
  {
   "cell_type": "code",
   "execution_count": 331,
   "id": "f8099669-6810-4d06-a35d-0a109199b96c",
   "metadata": {},
   "outputs": [],
   "source": [
    "choice = choice_mp + ['K55365BT3694']\n",
    "bm.build(name='CAN2', weights=choice, **kwargs_build)"
   ]
  },
  {
   "cell_type": "code",
   "execution_count": 332,
   "id": "4d1b34a8-0434-42c3-8327-3611c11f54a4",
   "metadata": {},
   "outputs": [
    {
     "name": "stdout",
     "output_type": "stream",
     "text": [
      "Backtesting 5 strategies: KODEX200, MP:Yearly, SHP:Y1, CAN1, CAN2\n"
     ]
    },
    {
     "name": "stderr",
     "output_type": "stream",
     "text": [
      "100%|█████████████████████████████████████████████████████████████████| 5/5 [00:00<00:00,  8.31it/s]"
     ]
    },
    {
     "name": "stdout",
     "output_type": "stream",
     "text": [
      "Returning stats\n"
     ]
    },
    {
     "name": "stderr",
     "output_type": "stream",
     "text": [
      "\n"
     ]
    },
    {
     "data": {
      "text/html": [
       "<div>\n",
       "<style scoped>\n",
       "    .dataframe tbody tr th:only-of-type {\n",
       "        vertical-align: middle;\n",
       "    }\n",
       "\n",
       "    .dataframe tbody tr th {\n",
       "        vertical-align: top;\n",
       "    }\n",
       "\n",
       "    .dataframe thead th {\n",
       "        text-align: right;\n",
       "    }\n",
       "</style>\n",
       "<table border=\"1\" class=\"dataframe\">\n",
       "  <thead>\n",
       "    <tr style=\"text-align: right;\">\n",
       "      <th></th>\n",
       "      <th>SHP:Y1</th>\n",
       "      <th>MP:Yearly</th>\n",
       "      <th>CAN2</th>\n",
       "      <th>CAN1</th>\n",
       "      <th>KODEX200</th>\n",
       "    </tr>\n",
       "  </thead>\n",
       "  <tbody>\n",
       "    <tr>\n",
       "      <th>start</th>\n",
       "      <td>2019-01-30</td>\n",
       "      <td>2019-01-30</td>\n",
       "      <td>2019-01-30</td>\n",
       "      <td>2019-01-30</td>\n",
       "      <td>2019-01-30</td>\n",
       "    </tr>\n",
       "    <tr>\n",
       "      <th>end</th>\n",
       "      <td>2024-07-31</td>\n",
       "      <td>2024-07-31</td>\n",
       "      <td>2024-07-31</td>\n",
       "      <td>2024-07-31</td>\n",
       "      <td>2024-07-31</td>\n",
       "    </tr>\n",
       "    <tr>\n",
       "      <th>total_return</th>\n",
       "      <td>0.586372</td>\n",
       "      <td>0.5097</td>\n",
       "      <td>0.609242</td>\n",
       "      <td>0.588888</td>\n",
       "      <td>0.487812</td>\n",
       "    </tr>\n",
       "    <tr>\n",
       "      <th>cagr</th>\n",
       "      <td>0.087514</td>\n",
       "      <td>0.077764</td>\n",
       "      <td>0.090348</td>\n",
       "      <td>0.087828</td>\n",
       "      <td>0.074906</td>\n",
       "    </tr>\n",
       "    <tr>\n",
       "      <th>monthly_vol</th>\n",
       "      <td>0.099616</td>\n",
       "      <td>0.103181</td>\n",
       "      <td>0.126804</td>\n",
       "      <td>0.128152</td>\n",
       "      <td>0.19921</td>\n",
       "    </tr>\n",
       "    <tr>\n",
       "      <th>monthly_sharpe</th>\n",
       "      <td>0.894809</td>\n",
       "      <td>0.779885</td>\n",
       "      <td>0.748086</td>\n",
       "      <td>0.722651</td>\n",
       "      <td>0.461712</td>\n",
       "    </tr>\n",
       "    <tr>\n",
       "      <th>max_drawdown</th>\n",
       "      <td>-0.215077</td>\n",
       "      <td>-0.215629</td>\n",
       "      <td>-0.208847</td>\n",
       "      <td>-0.213511</td>\n",
       "      <td>-0.346184</td>\n",
       "    </tr>\n",
       "    <tr>\n",
       "      <th>avg_drawdown</th>\n",
       "      <td>-0.0116</td>\n",
       "      <td>-0.014143</td>\n",
       "      <td>-0.012401</td>\n",
       "      <td>-0.011399</td>\n",
       "      <td>-0.047368</td>\n",
       "    </tr>\n",
       "    <tr>\n",
       "      <th>avg_drawdown_days</th>\n",
       "      <td>20.853659</td>\n",
       "      <td>28.912281</td>\n",
       "      <td>31.339623</td>\n",
       "      <td>35.333333</td>\n",
       "      <td>68.357143</td>\n",
       "    </tr>\n",
       "  </tbody>\n",
       "</table>\n",
       "</div>"
      ],
      "text/plain": [
       "                       SHP:Y1   MP:Yearly        CAN2        CAN1    KODEX200\n",
       "start              2019-01-30  2019-01-30  2019-01-30  2019-01-30  2019-01-30\n",
       "end                2024-07-31  2024-07-31  2024-07-31  2024-07-31  2024-07-31\n",
       "total_return         0.586372      0.5097    0.609242    0.588888    0.487812\n",
       "cagr                 0.087514    0.077764    0.090348    0.087828    0.074906\n",
       "monthly_vol          0.099616    0.103181    0.126804    0.128152     0.19921\n",
       "monthly_sharpe       0.894809    0.779885    0.748086    0.722651    0.461712\n",
       "max_drawdown        -0.215077   -0.215629   -0.208847   -0.213511   -0.346184\n",
       "avg_drawdown          -0.0116   -0.014143   -0.012401   -0.011399   -0.047368\n",
       "avg_drawdown_days   20.853659   28.912281   31.339623   35.333333   68.357143"
      ]
     },
     "execution_count": 332,
     "metadata": {},
     "output_type": "execute_result"
    }
   ],
   "source": [
    "pf_list = [0, 2, 10, 19, 20]\n",
    "bm.run(pf_list, plot=False, stats_sort_by='monthly_sharpe', metrics=metrics2)"
   ]
  },
  {
   "cell_type": "markdown",
   "id": "f80e72be-d158-406b-a275-632965e27ab8",
   "metadata": {},
   "source": [
    "#### Weight"
   ]
  },
  {
   "cell_type": "code",
   "execution_count": 362,
   "id": "deeafeac-289a-478e-bfb9-ee5de3024ab1",
   "metadata": {},
   "outputs": [
    {
     "data": {
      "text/plain": [
       "0) K55301BU6139: 미래에셋전략배분TDF2035혼합자산자투자신탁종류C-P2e\n",
       "1) K55206C95800: 키움키워드림TDF2030증권투자신탁 1[혼합-재간접형]C-P2e(퇴직연금)\n",
       "2) K55365BT3694: kcgi코리아퇴직연금증권자투자신탁(주식)종류C-Pe2\n",
       "3) K55213C51890: 한화LIFEPLUSTDF2040증권자투자신탁(혼합-재간접형)C-RPe(퇴직연금)\n",
       "4) K55203C53681: 대신KOSPI200인덱스증권자투자신탁(주식-파생형)CPe\n",
       "5) K55234CJ0997: IBK플레인바닐라EMP증권투자신탁(혼합-재간접형)C-Re"
      ]
     },
     "execution_count": 362,
     "metadata": {},
     "output_type": "execute_result"
    }
   ],
   "source": [
    "choice = choice_mp + ['K55365BT3694', 'K55213C51890', 'K55203C53681', 'K55234CJ0997']\n",
    "irp.get_names(choice)"
   ]
  },
  {
   "cell_type": "code",
   "execution_count": 363,
   "id": "bfbf88e9-eb83-4edf-a80f-947133e6bbaa",
   "metadata": {},
   "outputs": [
    {
     "name": "stdout",
     "output_type": "stream",
     "text": [
      "period reset: 2019-01-31 ~ 2024-07-31\n",
      "running self.util_check_days_in_year to check days in a year\n"
     ]
    }
   ],
   "source": [
    "df = df_irp[choice]\n",
    "bm = BacktestManager(df, **kwargs_bm)"
   ]
  },
  {
   "cell_type": "code",
   "execution_count": 364,
   "id": "c56ba28e-34b1-447c-b88e-75c61d9ad146",
   "metadata": {},
   "outputs": [
    {
     "name": "stdout",
     "output_type": "stream",
     "text": [
      "Benchmark is KODEX200\n"
     ]
    }
   ],
   "source": [
    "bm.benchmark_ticker(**lags)"
   ]
  },
  {
   "cell_type": "code",
   "execution_count": 365,
   "id": "bea7583e-4807-428a-baca-0a0f1f3c9b02",
   "metadata": {},
   "outputs": [],
   "source": [
    "kwargs_build = dict(\n",
    "    freq = 'Y', select = 'all',\n",
    "    **lags # added to start backtest on same date with momentum\n",
    ")\n",
    "\n",
    "bm.build(name='CAN3:Eqaully', weigh='equally', **kwargs_build)\n",
    "bm.build(name='CAN3:ERC', weigh='ERC', **kwargs_build)\n",
    "bm.build(name='CAN3:InvVol', weigh='InvVol', **kwargs_build)\n",
    "bm.build(name='CAN3:MeanVar', weigh='MeanVar', **kwargs_build)"
   ]
  },
  {
   "cell_type": "code",
   "execution_count": 366,
   "id": "36d7a90c-65c4-45b1-b1a8-0238dadf5812",
   "metadata": {},
   "outputs": [],
   "source": [
    "bm.build(name='MP', weigh='Specified', weights=choice_mp, **kwargs_build)"
   ]
  },
  {
   "cell_type": "code",
   "execution_count": 367,
   "id": "de45ddb6-dbfd-4ca5-a18e-1b98c7834eb5",
   "metadata": {},
   "outputs": [],
   "source": [
    "choice = irp.performance('sharpe', 'year').index\n",
    "bm.build(name=f'SHP:Y1', weigh='Specified', weights=choice[0], **kwargs_build)"
   ]
  },
  {
   "cell_type": "code",
   "execution_count": 368,
   "id": "b4b88731-f851-41a5-bfae-56083a467901",
   "metadata": {},
   "outputs": [
    {
     "name": "stdout",
     "output_type": "stream",
     "text": [
      "Backtesting 7 strategies: KODEX200, CAN3:Eqaully, ... , SHP:Y1\n"
     ]
    },
    {
     "name": "stderr",
     "output_type": "stream",
     "text": [
      "100%|█████████████████████████████████████████████████████████████████| 7/7 [00:03<00:00,  1.84it/s]"
     ]
    },
    {
     "name": "stdout",
     "output_type": "stream",
     "text": [
      "Returning stats\n"
     ]
    },
    {
     "name": "stderr",
     "output_type": "stream",
     "text": [
      "\n"
     ]
    },
    {
     "data": {
      "text/html": [
       "<div>\n",
       "<style scoped>\n",
       "    .dataframe tbody tr th:only-of-type {\n",
       "        vertical-align: middle;\n",
       "    }\n",
       "\n",
       "    .dataframe tbody tr th {\n",
       "        vertical-align: top;\n",
       "    }\n",
       "\n",
       "    .dataframe thead th {\n",
       "        text-align: right;\n",
       "    }\n",
       "</style>\n",
       "<table border=\"1\" class=\"dataframe\">\n",
       "  <thead>\n",
       "    <tr style=\"text-align: right;\">\n",
       "      <th></th>\n",
       "      <th>SHP:Y1</th>\n",
       "      <th>CAN3:Eqaully</th>\n",
       "      <th>CAN3:ERC</th>\n",
       "      <th>MP</th>\n",
       "      <th>CAN3:InvVol</th>\n",
       "      <th>KODEX200</th>\n",
       "      <th>CAN3:MeanVar</th>\n",
       "    </tr>\n",
       "  </thead>\n",
       "  <tbody>\n",
       "    <tr>\n",
       "      <th>start</th>\n",
       "      <td>2019-01-30</td>\n",
       "      <td>2019-01-30</td>\n",
       "      <td>2019-01-30</td>\n",
       "      <td>2019-01-30</td>\n",
       "      <td>2019-01-30</td>\n",
       "      <td>2019-01-30</td>\n",
       "      <td>2019-01-30</td>\n",
       "    </tr>\n",
       "    <tr>\n",
       "      <th>end</th>\n",
       "      <td>2024-07-31</td>\n",
       "      <td>2024-07-31</td>\n",
       "      <td>2024-07-31</td>\n",
       "      <td>2024-07-31</td>\n",
       "      <td>2024-07-31</td>\n",
       "      <td>2024-07-31</td>\n",
       "      <td>2024-07-31</td>\n",
       "    </tr>\n",
       "    <tr>\n",
       "      <th>total_return</th>\n",
       "      <td>0.375277</td>\n",
       "      <td>0.410699</td>\n",
       "      <td>0.36222</td>\n",
       "      <td>0.320584</td>\n",
       "      <td>0.35347</td>\n",
       "      <td>0.435671</td>\n",
       "      <td>0.239453</td>\n",
       "    </tr>\n",
       "    <tr>\n",
       "      <th>cagr</th>\n",
       "      <td>0.059645</td>\n",
       "      <td>0.064555</td>\n",
       "      <td>0.057809</td>\n",
       "      <td>0.051856</td>\n",
       "      <td>0.05657</td>\n",
       "      <td>0.067957</td>\n",
       "      <td>0.0398</td>\n",
       "    </tr>\n",
       "    <tr>\n",
       "      <th>monthly_vol</th>\n",
       "      <td>0.096018</td>\n",
       "      <td>0.121237</td>\n",
       "      <td>0.109432</td>\n",
       "      <td>0.099719</td>\n",
       "      <td>0.110411</td>\n",
       "      <td>0.189682</td>\n",
       "      <td>0.103302</td>\n",
       "    </tr>\n",
       "    <tr>\n",
       "      <th>monthly_sharpe</th>\n",
       "      <td>0.652645</td>\n",
       "      <td>0.577498</td>\n",
       "      <td>0.569288</td>\n",
       "      <td>0.558104</td>\n",
       "      <td>0.554492</td>\n",
       "      <td>0.440919</td>\n",
       "      <td>0.429649</td>\n",
       "    </tr>\n",
       "    <tr>\n",
       "      <th>max_drawdown</th>\n",
       "      <td>-0.21507</td>\n",
       "      <td>-0.196979</td>\n",
       "      <td>-0.183427</td>\n",
       "      <td>-0.215628</td>\n",
       "      <td>-0.181566</td>\n",
       "      <td>-0.342786</td>\n",
       "      <td>-0.195187</td>\n",
       "    </tr>\n",
       "    <tr>\n",
       "      <th>avg_drawdown</th>\n",
       "      <td>-0.014249</td>\n",
       "      <td>-0.012469</td>\n",
       "      <td>-0.012531</td>\n",
       "      <td>-0.018684</td>\n",
       "      <td>-0.011687</td>\n",
       "      <td>-0.052</td>\n",
       "      <td>-0.014138</td>\n",
       "    </tr>\n",
       "    <tr>\n",
       "      <th>avg_drawdown_days</th>\n",
       "      <td>25.714286</td>\n",
       "      <td>36.205128</td>\n",
       "      <td>34.121951</td>\n",
       "      <td>39.333333</td>\n",
       "      <td>32.55814</td>\n",
       "      <td>74.619048</td>\n",
       "      <td>41.542857</td>\n",
       "    </tr>\n",
       "  </tbody>\n",
       "</table>\n",
       "</div>"
      ],
      "text/plain": [
       "                       SHP:Y1 CAN3:Eqaully    CAN3:ERC          MP  \\\n",
       "start              2019-01-30   2019-01-30  2019-01-30  2019-01-30   \n",
       "end                2024-07-31   2024-07-31  2024-07-31  2024-07-31   \n",
       "total_return         0.375277     0.410699     0.36222    0.320584   \n",
       "cagr                 0.059645     0.064555    0.057809    0.051856   \n",
       "monthly_vol          0.096018     0.121237    0.109432    0.099719   \n",
       "monthly_sharpe       0.652645     0.577498    0.569288    0.558104   \n",
       "max_drawdown         -0.21507    -0.196979   -0.183427   -0.215628   \n",
       "avg_drawdown        -0.014249    -0.012469   -0.012531   -0.018684   \n",
       "avg_drawdown_days   25.714286    36.205128   34.121951   39.333333   \n",
       "\n",
       "                  CAN3:InvVol    KODEX200 CAN3:MeanVar  \n",
       "start              2019-01-30  2019-01-30   2019-01-30  \n",
       "end                2024-07-31  2024-07-31   2024-07-31  \n",
       "total_return          0.35347    0.435671     0.239453  \n",
       "cagr                  0.05657    0.067957       0.0398  \n",
       "monthly_vol          0.110411    0.189682     0.103302  \n",
       "monthly_sharpe       0.554492    0.440919     0.429649  \n",
       "max_drawdown        -0.181566   -0.342786    -0.195187  \n",
       "avg_drawdown        -0.011687      -0.052    -0.014138  \n",
       "avg_drawdown_days    32.55814   74.619048    41.542857  "
      ]
     },
     "execution_count": 368,
     "metadata": {},
     "output_type": "execute_result"
    }
   ],
   "source": [
    "bm.run(plot=False, stats_sort_by='monthly_sharpe', metrics=metrics2)"
   ]
  },
  {
   "cell_type": "markdown",
   "id": "dab3a833-3a15-47ac-9111-fcf09db04d6e",
   "metadata": {},
   "source": [
    "#### Value1"
   ]
  },
  {
   "cell_type": "code",
   "execution_count": 53,
   "id": "59b10f44-1f1b-45f5-9690-f5654689e01a",
   "metadata": {},
   "outputs": [
    {
     "data": {
      "text/plain": [
       "0) K55365BT3694: kcgi코리아퇴직연금증권자투자신탁(주식)종류C-Pe2\n",
       "1) K55203C53681: 대신KOSPI200인덱스증권자투자신탁(주식-파생형)CPe\n",
       "2) K55234CJ0997: IBK플레인바닐라EMP증권투자신탁(혼합-재간접형)C-Re"
      ]
     },
     "execution_count": 53,
     "metadata": {},
     "output_type": "execute_result"
    }
   ],
   "source": [
    "choice = ['K55365BT3694', 'K55203C53681', 'K55234CJ0997']\n",
    "irp.get_names(choice)"
   ]
  },
  {
   "cell_type": "code",
   "execution_count": 54,
   "id": "c764ae45-13f2-4be4-9260-bbadab2c63da",
   "metadata": {},
   "outputs": [
    {
     "name": "stdout",
     "output_type": "stream",
     "text": [
      "period reset: 2022-01-25 ~ 2024-07-31\n",
      "running self.util_check_days_in_year to check days in a year\n"
     ]
    },
    {
     "data": {
      "text/html": [
       "<div>\n",
       "<style scoped>\n",
       "    .dataframe tbody tr th:only-of-type {\n",
       "        vertical-align: middle;\n",
       "    }\n",
       "\n",
       "    .dataframe tbody tr th {\n",
       "        vertical-align: top;\n",
       "    }\n",
       "\n",
       "    .dataframe thead th {\n",
       "        text-align: right;\n",
       "    }\n",
       "</style>\n",
       "<table border=\"1\" class=\"dataframe\">\n",
       "  <thead>\n",
       "    <tr style=\"text-align: right;\">\n",
       "      <th></th>\n",
       "      <th>KOSPI:Momentum</th>\n",
       "      <th>K55365BT3694</th>\n",
       "      <th>K55203C53681</th>\n",
       "      <th>K55234CJ0997</th>\n",
       "    </tr>\n",
       "  </thead>\n",
       "  <tbody>\n",
       "    <tr>\n",
       "      <th>2022-01-25</th>\n",
       "      <td>100.000</td>\n",
       "      <td>1012.039352</td>\n",
       "      <td>1338.109236</td>\n",
       "      <td>1390.010967</td>\n",
       "    </tr>\n",
       "    <tr>\n",
       "      <th>2022-01-26</th>\n",
       "      <td>99.780</td>\n",
       "      <td>1012.039352</td>\n",
       "      <td>1338.109236</td>\n",
       "      <td>1390.010967</td>\n",
       "    </tr>\n",
       "    <tr>\n",
       "      <th>2022-01-27</th>\n",
       "      <td>96.064</td>\n",
       "      <td>1012.039352</td>\n",
       "      <td>1338.109236</td>\n",
       "      <td>1390.010967</td>\n",
       "    </tr>\n",
       "    <tr>\n",
       "      <th>2022-01-28</th>\n",
       "      <td>96.318</td>\n",
       "      <td>897.421767</td>\n",
       "      <td>1203.518615</td>\n",
       "      <td>1360.231095</td>\n",
       "    </tr>\n",
       "    <tr>\n",
       "      <th>2022-01-29</th>\n",
       "      <td>96.318</td>\n",
       "      <td>897.421767</td>\n",
       "      <td>1203.518615</td>\n",
       "      <td>1360.231095</td>\n",
       "    </tr>\n",
       "  </tbody>\n",
       "</table>\n",
       "</div>"
      ],
      "text/plain": [
       "            KOSPI:Momentum  K55365BT3694  K55203C53681  K55234CJ0997\n",
       "2022-01-25         100.000   1012.039352   1338.109236   1390.010967\n",
       "2022-01-26          99.780   1012.039352   1338.109236   1390.010967\n",
       "2022-01-27          96.064   1012.039352   1338.109236   1390.010967\n",
       "2022-01-28          96.318    897.421767   1203.518615   1360.231095\n",
       "2022-01-29          96.318    897.421767   1203.518615   1360.231095"
      ]
     },
     "execution_count": 54,
     "metadata": {},
     "output_type": "execute_result"
    }
   ],
   "source": [
    "df_v = df_pf['KOSPI:Momentum'].to_frame().join(df_irp[choice], how='outer')\n",
    "bm = BacktestManager(df_v, **kwargs_bm)\n",
    "bm.df_assets.head()"
   ]
  },
  {
   "cell_type": "code",
   "execution_count": 55,
   "id": "6b7c6dd7-213b-48ff-b9a4-5e6a570c9deb",
   "metadata": {},
   "outputs": [
    {
     "name": "stdout",
     "output_type": "stream",
     "text": [
      "Benchmark is KODEX200\n"
     ]
    }
   ],
   "source": [
    "bm.benchmark_ticker()"
   ]
  },
  {
   "cell_type": "code",
   "execution_count": 56,
   "id": "c5f57024-9638-49a7-8241-49eb520b85d7",
   "metadata": {},
   "outputs": [],
   "source": [
    "ew = lambda *l: [x for i,x in enumerate(bm.df_assets.columns) if i in l]\n",
    "\n",
    "kwargs_build = dict(\n",
    "    select = 'all', weigh='Specified'\n",
    ")\n",
    "\n",
    "hy = round(bm.days_in_year/2)\n",
    "kwa_list = [\n",
    "    {'name':f'VAL1:{f}{i}', 'freq':f if f != 'HY' else hy, 'weights':ew(0, i)} \n",
    "    for i in range(1,4) for f in ['Y', 'HY', 'Q', 'M']\n",
    "]\n",
    "\n",
    "bm.build_batch(*kwa_list, **kwargs_build)\n",
    "bm.build(name='VAL:Momentum', freq='Once', weights=ew(0), **kwargs_build)"
   ]
  },
  {
   "cell_type": "code",
   "execution_count": 57,
   "id": "76dc4273-050f-4d67-b75e-3c00722fa2b7",
   "metadata": {},
   "outputs": [
    {
     "name": "stdout",
     "output_type": "stream",
     "text": [
      "Backtesting 14 strategies: KODEX200, VAL1:Y1, ... , VAL:Momentum\n"
     ]
    },
    {
     "name": "stderr",
     "output_type": "stream",
     "text": [
      "100%|███████████████████████████████████████████████████████████████| 14/14 [00:03<00:00,  3.77it/s]"
     ]
    },
    {
     "name": "stdout",
     "output_type": "stream",
     "text": [
      "Returning stats\n"
     ]
    },
    {
     "name": "stderr",
     "output_type": "stream",
     "text": [
      "\n"
     ]
    },
    {
     "data": {
      "text/html": [
       "<div>\n",
       "<style scoped>\n",
       "    .dataframe tbody tr th:only-of-type {\n",
       "        vertical-align: middle;\n",
       "    }\n",
       "\n",
       "    .dataframe tbody tr th {\n",
       "        vertical-align: top;\n",
       "    }\n",
       "\n",
       "    .dataframe thead th {\n",
       "        text-align: right;\n",
       "    }\n",
       "</style>\n",
       "<table border=\"1\" class=\"dataframe\">\n",
       "  <thead>\n",
       "    <tr style=\"text-align: right;\">\n",
       "      <th></th>\n",
       "      <th>VAL1:M1</th>\n",
       "      <th>VAL:Momentum</th>\n",
       "      <th>VAL1:Q1</th>\n",
       "      <th>VAL1:HY1</th>\n",
       "      <th>VAL1:M2</th>\n",
       "      <th>VAL1:M3</th>\n",
       "      <th>VAL1:Q2</th>\n",
       "      <th>VAL1:HY2</th>\n",
       "      <th>VAL1:Q3</th>\n",
       "      <th>VAL1:HY3</th>\n",
       "      <th>VAL1:Y1</th>\n",
       "      <th>VAL1:Y2</th>\n",
       "      <th>VAL1:Y3</th>\n",
       "      <th>KODEX200</th>\n",
       "    </tr>\n",
       "  </thead>\n",
       "  <tbody>\n",
       "    <tr>\n",
       "      <th>start</th>\n",
       "      <td>2022-01-24</td>\n",
       "      <td>2022-01-24</td>\n",
       "      <td>2022-01-24</td>\n",
       "      <td>2022-01-24</td>\n",
       "      <td>2022-01-24</td>\n",
       "      <td>2022-01-24</td>\n",
       "      <td>2022-01-24</td>\n",
       "      <td>2022-01-24</td>\n",
       "      <td>2022-01-24</td>\n",
       "      <td>2022-01-24</td>\n",
       "      <td>2022-01-24</td>\n",
       "      <td>2022-01-24</td>\n",
       "      <td>2022-01-24</td>\n",
       "      <td>2022-01-24</td>\n",
       "    </tr>\n",
       "    <tr>\n",
       "      <th>end</th>\n",
       "      <td>2024-07-31</td>\n",
       "      <td>2024-07-31</td>\n",
       "      <td>2024-07-31</td>\n",
       "      <td>2024-07-31</td>\n",
       "      <td>2024-07-31</td>\n",
       "      <td>2024-07-31</td>\n",
       "      <td>2024-07-31</td>\n",
       "      <td>2024-07-31</td>\n",
       "      <td>2024-07-31</td>\n",
       "      <td>2024-07-31</td>\n",
       "      <td>2024-07-31</td>\n",
       "      <td>2024-07-31</td>\n",
       "      <td>2024-07-31</td>\n",
       "      <td>2024-07-31</td>\n",
       "    </tr>\n",
       "    <tr>\n",
       "      <th>total_return</th>\n",
       "      <td>1.816207</td>\n",
       "      <td>5.202315</td>\n",
       "      <td>1.948988</td>\n",
       "      <td>2.275473</td>\n",
       "      <td>1.743892</td>\n",
       "      <td>1.663188</td>\n",
       "      <td>1.876178</td>\n",
       "      <td>2.216583</td>\n",
       "      <td>1.817629</td>\n",
       "      <td>2.177257</td>\n",
       "      <td>1.994999</td>\n",
       "      <td>1.929399</td>\n",
       "      <td>1.892298</td>\n",
       "      <td>0.105647</td>\n",
       "    </tr>\n",
       "    <tr>\n",
       "      <th>cagr</th>\n",
       "      <td>0.509093</td>\n",
       "      <td>1.065356</td>\n",
       "      <td>0.53698</td>\n",
       "      <td>0.602478</td>\n",
       "      <td>0.493571</td>\n",
       "      <td>0.475954</td>\n",
       "      <td>0.521784</td>\n",
       "      <td>0.590964</td>\n",
       "      <td>0.509396</td>\n",
       "      <td>0.583205</td>\n",
       "      <td>0.546466</td>\n",
       "      <td>0.532914</td>\n",
       "      <td>0.525168</td>\n",
       "      <td>0.040723</td>\n",
       "    </tr>\n",
       "    <tr>\n",
       "      <th>monthly_vol</th>\n",
       "      <td>0.299109</td>\n",
       "      <td>0.543153</td>\n",
       "      <td>0.316649</td>\n",
       "      <td>0.355989</td>\n",
       "      <td>0.304777</td>\n",
       "      <td>0.283343</td>\n",
       "      <td>0.322797</td>\n",
       "      <td>0.361163</td>\n",
       "      <td>0.305477</td>\n",
       "      <td>0.350819</td>\n",
       "      <td>0.35985</td>\n",
       "      <td>0.362872</td>\n",
       "      <td>0.350884</td>\n",
       "      <td>0.201805</td>\n",
       "    </tr>\n",
       "    <tr>\n",
       "      <th>monthly_sharpe</th>\n",
       "      <td>1.654736</td>\n",
       "      <td>1.642873</td>\n",
       "      <td>1.637335</td>\n",
       "      <td>1.607304</td>\n",
       "      <td>1.583744</td>\n",
       "      <td>1.576551</td>\n",
       "      <td>1.569953</td>\n",
       "      <td>1.559326</td>\n",
       "      <td>1.556125</td>\n",
       "      <td>1.529182</td>\n",
       "      <td>1.493624</td>\n",
       "      <td>1.450505</td>\n",
       "      <td>1.421477</td>\n",
       "      <td>0.318938</td>\n",
       "    </tr>\n",
       "    <tr>\n",
       "      <th>max_drawdown</th>\n",
       "      <td>-0.174774</td>\n",
       "      <td>-0.262851</td>\n",
       "      <td>-0.177392</td>\n",
       "      <td>-0.176973</td>\n",
       "      <td>-0.165838</td>\n",
       "      <td>-0.145682</td>\n",
       "      <td>-0.16868</td>\n",
       "      <td>-0.16879</td>\n",
       "      <td>-0.16052</td>\n",
       "      <td>-0.17093</td>\n",
       "      <td>-0.192837</td>\n",
       "      <td>-0.186211</td>\n",
       "      <td>-0.197747</td>\n",
       "      <td>-0.235302</td>\n",
       "    </tr>\n",
       "    <tr>\n",
       "      <th>avg_drawdown</th>\n",
       "      <td>-0.038191</td>\n",
       "      <td>-0.061554</td>\n",
       "      <td>-0.038592</td>\n",
       "      <td>-0.040179</td>\n",
       "      <td>-0.039565</td>\n",
       "      <td>-0.033912</td>\n",
       "      <td>-0.042578</td>\n",
       "      <td>-0.042454</td>\n",
       "      <td>-0.03392</td>\n",
       "      <td>-0.037747</td>\n",
       "      <td>-0.049821</td>\n",
       "      <td>-0.047745</td>\n",
       "      <td>-0.047972</td>\n",
       "      <td>-0.035817</td>\n",
       "    </tr>\n",
       "    <tr>\n",
       "      <th>avg_drawdown_days</th>\n",
       "      <td>21.189189</td>\n",
       "      <td>17.088889</td>\n",
       "      <td>22.571429</td>\n",
       "      <td>21.944444</td>\n",
       "      <td>22.055556</td>\n",
       "      <td>19.7</td>\n",
       "      <td>22.628571</td>\n",
       "      <td>21.27027</td>\n",
       "      <td>21.297297</td>\n",
       "      <td>20.205128</td>\n",
       "      <td>21.378378</td>\n",
       "      <td>21.916667</td>\n",
       "      <td>20.410256</td>\n",
       "      <td>51.588235</td>\n",
       "    </tr>\n",
       "  </tbody>\n",
       "</table>\n",
       "</div>"
      ],
      "text/plain": [
       "                      VAL1:M1 VAL:Momentum     VAL1:Q1    VAL1:HY1  \\\n",
       "start              2022-01-24   2022-01-24  2022-01-24  2022-01-24   \n",
       "end                2024-07-31   2024-07-31  2024-07-31  2024-07-31   \n",
       "total_return         1.816207     5.202315    1.948988    2.275473   \n",
       "cagr                 0.509093     1.065356     0.53698    0.602478   \n",
       "monthly_vol          0.299109     0.543153    0.316649    0.355989   \n",
       "monthly_sharpe       1.654736     1.642873    1.637335    1.607304   \n",
       "max_drawdown        -0.174774    -0.262851   -0.177392   -0.176973   \n",
       "avg_drawdown        -0.038191    -0.061554   -0.038592   -0.040179   \n",
       "avg_drawdown_days   21.189189    17.088889   22.571429   21.944444   \n",
       "\n",
       "                      VAL1:M2     VAL1:M3     VAL1:Q2    VAL1:HY2     VAL1:Q3  \\\n",
       "start              2022-01-24  2022-01-24  2022-01-24  2022-01-24  2022-01-24   \n",
       "end                2024-07-31  2024-07-31  2024-07-31  2024-07-31  2024-07-31   \n",
       "total_return         1.743892    1.663188    1.876178    2.216583    1.817629   \n",
       "cagr                 0.493571    0.475954    0.521784    0.590964    0.509396   \n",
       "monthly_vol          0.304777    0.283343    0.322797    0.361163    0.305477   \n",
       "monthly_sharpe       1.583744    1.576551    1.569953    1.559326    1.556125   \n",
       "max_drawdown        -0.165838   -0.145682    -0.16868    -0.16879    -0.16052   \n",
       "avg_drawdown        -0.039565   -0.033912   -0.042578   -0.042454    -0.03392   \n",
       "avg_drawdown_days   22.055556        19.7   22.628571    21.27027   21.297297   \n",
       "\n",
       "                     VAL1:HY3     VAL1:Y1     VAL1:Y2     VAL1:Y3    KODEX200  \n",
       "start              2022-01-24  2022-01-24  2022-01-24  2022-01-24  2022-01-24  \n",
       "end                2024-07-31  2024-07-31  2024-07-31  2024-07-31  2024-07-31  \n",
       "total_return         2.177257    1.994999    1.929399    1.892298    0.105647  \n",
       "cagr                 0.583205    0.546466    0.532914    0.525168    0.040723  \n",
       "monthly_vol          0.350819     0.35985    0.362872    0.350884    0.201805  \n",
       "monthly_sharpe       1.529182    1.493624    1.450505    1.421477    0.318938  \n",
       "max_drawdown         -0.17093   -0.192837   -0.186211   -0.197747   -0.235302  \n",
       "avg_drawdown        -0.037747   -0.049821   -0.047745   -0.047972   -0.035817  \n",
       "avg_drawdown_days   20.205128   21.378378   21.916667   20.410256   51.588235  "
      ]
     },
     "execution_count": 57,
     "metadata": {},
     "output_type": "execute_result"
    }
   ],
   "source": [
    "bm.run(plot=False, stats_sort_by='monthly_sharpe', metrics=metrics2)"
   ]
  },
  {
   "cell_type": "markdown",
   "id": "00f1198e-1201-483f-b5b1-300d6e4a9e45",
   "metadata": {},
   "source": [
    "#### Value2"
   ]
  },
  {
   "cell_type": "code",
   "execution_count": 63,
   "id": "8e058b0a-f5b1-47f1-81a3-b1d109d0e99b",
   "metadata": {},
   "outputs": [
    {
     "data": {
      "text/plain": [
       "0) K55365BT3694: kcgi코리아퇴직연금증권자투자신탁(주식)종류C-Pe2"
      ]
     },
     "execution_count": 63,
     "metadata": {},
     "output_type": "execute_result"
    }
   ],
   "source": [
    "choice = ['K55365BT3694']\n",
    "irp.get_names(choice)"
   ]
  },
  {
   "cell_type": "code",
   "execution_count": 64,
   "id": "0c8b71c2-c6aa-4861-99c6-ef28a4777508",
   "metadata": {},
   "outputs": [
    {
     "name": "stdout",
     "output_type": "stream",
     "text": [
      "period reset: 2022-01-25 ~ 2024-07-31\n",
      "running self.util_check_days_in_year to check days in a year\n"
     ]
    },
    {
     "data": {
      "text/html": [
       "<div>\n",
       "<style scoped>\n",
       "    .dataframe tbody tr th:only-of-type {\n",
       "        vertical-align: middle;\n",
       "    }\n",
       "\n",
       "    .dataframe tbody tr th {\n",
       "        vertical-align: top;\n",
       "    }\n",
       "\n",
       "    .dataframe thead th {\n",
       "        text-align: right;\n",
       "    }\n",
       "</style>\n",
       "<table border=\"1\" class=\"dataframe\">\n",
       "  <thead>\n",
       "    <tr style=\"text-align: right;\">\n",
       "      <th></th>\n",
       "      <th>KOSPI:Momentum</th>\n",
       "      <th>K55365BT3694</th>\n",
       "    </tr>\n",
       "  </thead>\n",
       "  <tbody>\n",
       "    <tr>\n",
       "      <th>2022-01-25</th>\n",
       "      <td>100.000</td>\n",
       "      <td>1012.039352</td>\n",
       "    </tr>\n",
       "    <tr>\n",
       "      <th>2022-01-26</th>\n",
       "      <td>99.780</td>\n",
       "      <td>1012.039352</td>\n",
       "    </tr>\n",
       "    <tr>\n",
       "      <th>2022-01-27</th>\n",
       "      <td>96.064</td>\n",
       "      <td>1012.039352</td>\n",
       "    </tr>\n",
       "    <tr>\n",
       "      <th>2022-01-28</th>\n",
       "      <td>96.318</td>\n",
       "      <td>897.421767</td>\n",
       "    </tr>\n",
       "    <tr>\n",
       "      <th>2022-01-29</th>\n",
       "      <td>96.318</td>\n",
       "      <td>897.421767</td>\n",
       "    </tr>\n",
       "  </tbody>\n",
       "</table>\n",
       "</div>"
      ],
      "text/plain": [
       "            KOSPI:Momentum  K55365BT3694\n",
       "2022-01-25         100.000   1012.039352\n",
       "2022-01-26          99.780   1012.039352\n",
       "2022-01-27          96.064   1012.039352\n",
       "2022-01-28          96.318    897.421767\n",
       "2022-01-29          96.318    897.421767"
      ]
     },
     "execution_count": 64,
     "metadata": {},
     "output_type": "execute_result"
    }
   ],
   "source": [
    "df_v = df_pf['KOSPI:Momentum'].to_frame().join(df_irp[choice], how='outer')\n",
    "bm = BacktestManager(df_v, **kwargs_bm)\n",
    "bm.df_assets.head()"
   ]
  },
  {
   "cell_type": "code",
   "execution_count": 65,
   "id": "eabea72b-a5fa-461b-9a37-d97e90abe115",
   "metadata": {},
   "outputs": [
    {
     "name": "stdout",
     "output_type": "stream",
     "text": [
      "Backtesting 5 strategies: VAL2:Y, VAL2:HY, VAL2:Q, VAL2:M, VAL2:Momentum\n"
     ]
    },
    {
     "name": "stderr",
     "output_type": "stream",
     "text": [
      "100%|█████████████████████████████████████████████████████████████████| 5/5 [00:01<00:00,  4.33it/s]\n"
     ]
    },
    {
     "name": "stdout",
     "output_type": "stream",
     "text": [
      "Returning stats\n"
     ]
    },
    {
     "data": {
      "text/html": [
       "<div>\n",
       "<style scoped>\n",
       "    .dataframe tbody tr th:only-of-type {\n",
       "        vertical-align: middle;\n",
       "    }\n",
       "\n",
       "    .dataframe tbody tr th {\n",
       "        vertical-align: top;\n",
       "    }\n",
       "\n",
       "    .dataframe thead th {\n",
       "        text-align: right;\n",
       "    }\n",
       "</style>\n",
       "<table border=\"1\" class=\"dataframe\">\n",
       "  <thead>\n",
       "    <tr style=\"text-align: right;\">\n",
       "      <th></th>\n",
       "      <th>VAL2:Q</th>\n",
       "      <th>VAL2:M</th>\n",
       "      <th>VAL2:HY</th>\n",
       "      <th>VAL2:Momentum</th>\n",
       "      <th>VAL2:Y</th>\n",
       "    </tr>\n",
       "  </thead>\n",
       "  <tbody>\n",
       "    <tr>\n",
       "      <th>start</th>\n",
       "      <td>2022-01-24</td>\n",
       "      <td>2022-01-24</td>\n",
       "      <td>2022-01-24</td>\n",
       "      <td>2022-01-24</td>\n",
       "      <td>2022-01-24</td>\n",
       "    </tr>\n",
       "    <tr>\n",
       "      <th>end</th>\n",
       "      <td>2024-07-31</td>\n",
       "      <td>2024-07-31</td>\n",
       "      <td>2024-07-31</td>\n",
       "      <td>2024-07-31</td>\n",
       "      <td>2024-07-31</td>\n",
       "    </tr>\n",
       "    <tr>\n",
       "      <th>total_return</th>\n",
       "      <td>1.367166</td>\n",
       "      <td>1.274549</td>\n",
       "      <td>1.529266</td>\n",
       "      <td>4.653043</td>\n",
       "      <td>1.477626</td>\n",
       "    </tr>\n",
       "    <tr>\n",
       "      <th>cagr</th>\n",
       "      <td>0.408428</td>\n",
       "      <td>0.386262</td>\n",
       "      <td>0.445997</td>\n",
       "      <td>0.990624</td>\n",
       "      <td>0.43419</td>\n",
       "    </tr>\n",
       "    <tr>\n",
       "      <th>monthly_vol</th>\n",
       "      <td>0.191406</td>\n",
       "      <td>0.186329</td>\n",
       "      <td>0.233586</td>\n",
       "      <td>0.515736</td>\n",
       "      <td>0.261045</td>\n",
       "    </tr>\n",
       "    <tr>\n",
       "      <th>monthly_sharpe</th>\n",
       "      <td>1.914088</td>\n",
       "      <td>1.873641</td>\n",
       "      <td>1.717047</td>\n",
       "      <td>1.592483</td>\n",
       "      <td>1.527195</td>\n",
       "    </tr>\n",
       "    <tr>\n",
       "      <th>max_drawdown</th>\n",
       "      <td>-0.123468</td>\n",
       "      <td>-0.120783</td>\n",
       "      <td>-0.146581</td>\n",
       "      <td>-0.26285</td>\n",
       "      <td>-0.170256</td>\n",
       "    </tr>\n",
       "    <tr>\n",
       "      <th>avg_drawdown</th>\n",
       "      <td>-0.0216</td>\n",
       "      <td>-0.018723</td>\n",
       "      <td>-0.025313</td>\n",
       "      <td>-0.055505</td>\n",
       "      <td>-0.034704</td>\n",
       "    </tr>\n",
       "    <tr>\n",
       "      <th>avg_drawdown_days</th>\n",
       "      <td>12.294118</td>\n",
       "      <td>11.527778</td>\n",
       "      <td>13.3125</td>\n",
       "      <td>12.228571</td>\n",
       "      <td>12.969697</td>\n",
       "    </tr>\n",
       "  </tbody>\n",
       "</table>\n",
       "</div>"
      ],
      "text/plain": [
       "                       VAL2:Q      VAL2:M     VAL2:HY VAL2:Momentum  \\\n",
       "start              2022-01-24  2022-01-24  2022-01-24    2022-01-24   \n",
       "end                2024-07-31  2024-07-31  2024-07-31    2024-07-31   \n",
       "total_return         1.367166    1.274549    1.529266      4.653043   \n",
       "cagr                 0.408428    0.386262    0.445997      0.990624   \n",
       "monthly_vol          0.191406    0.186329    0.233586      0.515736   \n",
       "monthly_sharpe       1.914088    1.873641    1.717047      1.592483   \n",
       "max_drawdown        -0.123468   -0.120783   -0.146581      -0.26285   \n",
       "avg_drawdown          -0.0216   -0.018723   -0.025313     -0.055505   \n",
       "avg_drawdown_days   12.294118   11.527778     13.3125     12.228571   \n",
       "\n",
       "                       VAL2:Y  \n",
       "start              2022-01-24  \n",
       "end                2024-07-31  \n",
       "total_return         1.477626  \n",
       "cagr                  0.43419  \n",
       "monthly_vol          0.261045  \n",
       "monthly_sharpe       1.527195  \n",
       "max_drawdown        -0.170256  \n",
       "avg_drawdown        -0.034704  \n",
       "avg_drawdown_days   12.969697  "
      ]
     },
     "execution_count": 65,
     "metadata": {},
     "output_type": "execute_result"
    }
   ],
   "source": [
    "kwargs_build = dict(\n",
    "    select = 'all', **lags\n",
    ")\n",
    "\n",
    "kwa_list = [\n",
    "    {'name':f'VAL2:{f}', 'freq':f if f != 'HY' else hy} for f in ['Y', 'HY', 'Q', 'M']\n",
    "]\n",
    "\n",
    "bm.build_batch(*kwa_list, weigh='ERC', **kwargs_build)\n",
    "bm.build(name='VAL2:Momentum', freq='Once', weights=ew(0), weigh='Specified', **kwargs_build)\n",
    "bm.run(plot=False, stats_sort_by='monthly_sharpe', metrics=metrics2)"
   ]
  },
  {
   "cell_type": "code",
   "execution_count": 49,
   "id": "4a861844-46f2-407d-9dbe-e4d4844c0284",
   "metadata": {},
   "outputs": [],
   "source": [
    "df = bm.get_historical()\n",
    "df_pf = df_pf.join(df['TDF2:Eqaully'])"
   ]
  },
  {
   "cell_type": "markdown",
   "id": "6fb4f78b-163d-47e3-9daa-f2011bc6f470",
   "metadata": {},
   "source": [
    "## HANA"
   ]
  },
  {
   "cell_type": "code",
   "execution_count": 10,
   "id": "ecd48802-7d10-4166-ac11-70c157accbd4",
   "metadata": {},
   "outputs": [
    {
     "name": "stdout",
     "output_type": "stream",
     "text": [
      "period reset: 2019-10-31 ~ 2024-07-31\n",
      "running self.util_check_days_in_year to check days in a year\n"
     ]
    }
   ],
   "source": [
    "kwargs_bm = dict(\n",
    "    initial_capital = 10000000,\n",
    "    commissions = 0,\n",
    "    align_axis = 0, \n",
    "    days_in_year = 365,\n",
    "    asset_names = assetnames_hana\n",
    ")\n",
    "bm = BacktestManager(df_hana, **kwargs_bm)"
   ]
  },
  {
   "cell_type": "code",
   "execution_count": 11,
   "id": "a1e00782-b62b-42ec-b90d-85ecf014eeed",
   "metadata": {},
   "outputs": [],
   "source": [
    "lags = dict(lookback=12, lag=5)"
   ]
  },
  {
   "cell_type": "code",
   "execution_count": 12,
   "id": "6f852c13-5c83-46c2-8695-9835388d0cb4",
   "metadata": {},
   "outputs": [
    {
     "name": "stdout",
     "output_type": "stream",
     "text": [
      "Benchmark is KODEX200\n"
     ]
    }
   ],
   "source": [
    "bm.benchmark_ticker(**lags)"
   ]
  },
  {
   "cell_type": "code",
   "execution_count": 13,
   "id": "902f84a1-190f-4c6b-a240-bc42a3cd557b",
   "metadata": {},
   "outputs": [],
   "source": [
    "kwargs_build = dict(\n",
    "    freq = 'Y', select = 'all',\n",
    "    **lags # added to start backtest on same date with momentum\n",
    ")\n",
    "\n",
    "bm.build(name='HANA:Eqaully', weigh='equally', **kwargs_build)\n",
    "bm.build(name='HANA:ERC', weigh='ERC', **kwargs_build)\n",
    "bm.build(name='HANA:InvVol', weigh='InvVol', **kwargs_build)"
   ]
  },
  {
   "cell_type": "code",
   "execution_count": 14,
   "id": "b6450c21-6641-48ef-9c03-bb6cc0226f8d",
   "metadata": {},
   "outputs": [],
   "source": [
    "kwargs_build = dict(\n",
    "    weigh='InvVol',  select = 'all',  **lags\n",
    ")\n",
    "\n",
    "bm.build(name='HANA:InvVol(Q)', freq = 'Q', **kwargs_build)\n",
    "bm.build(name='HANA:InvVol(M)', freq = 'M', **kwargs_build)"
   ]
  },
  {
   "cell_type": "code",
   "execution_count": 15,
   "id": "8f2e8a88-b079-476a-b64c-7e160c9518f0",
   "metadata": {},
   "outputs": [
    {
     "name": "stdout",
     "output_type": "stream",
     "text": [
      "Backtesting 6 strategies: KODEX200, HANA:Eqaully, ... , HANA:InvVol(M)\n"
     ]
    },
    {
     "name": "stderr",
     "output_type": "stream",
     "text": [
      "100%|█████████████████████████████████████████████████████████████████| 6/6 [00:02<00:00,  2.16it/s]"
     ]
    },
    {
     "name": "stdout",
     "output_type": "stream",
     "text": [
      "Returning stats\n"
     ]
    },
    {
     "name": "stderr",
     "output_type": "stream",
     "text": [
      "\n"
     ]
    },
    {
     "data": {
      "text/html": [
       "<div>\n",
       "<style scoped>\n",
       "    .dataframe tbody tr th:only-of-type {\n",
       "        vertical-align: middle;\n",
       "    }\n",
       "\n",
       "    .dataframe tbody tr th {\n",
       "        vertical-align: top;\n",
       "    }\n",
       "\n",
       "    .dataframe thead th {\n",
       "        text-align: right;\n",
       "    }\n",
       "</style>\n",
       "<table border=\"1\" class=\"dataframe\">\n",
       "  <thead>\n",
       "    <tr style=\"text-align: right;\">\n",
       "      <th></th>\n",
       "      <th>HANA:InvVol</th>\n",
       "      <th>HANA:InvVol(M)</th>\n",
       "      <th>HANA:InvVol(Q)</th>\n",
       "      <th>HANA:ERC</th>\n",
       "      <th>HANA:Eqaully</th>\n",
       "      <th>KODEX200</th>\n",
       "    </tr>\n",
       "  </thead>\n",
       "  <tbody>\n",
       "    <tr>\n",
       "      <th>start</th>\n",
       "      <td>2019-10-30</td>\n",
       "      <td>2019-10-30</td>\n",
       "      <td>2019-10-30</td>\n",
       "      <td>2019-10-30</td>\n",
       "      <td>2019-10-30</td>\n",
       "      <td>2019-10-30</td>\n",
       "    </tr>\n",
       "    <tr>\n",
       "      <th>end</th>\n",
       "      <td>2024-07-31</td>\n",
       "      <td>2024-07-31</td>\n",
       "      <td>2024-07-31</td>\n",
       "      <td>2024-07-31</td>\n",
       "      <td>2024-07-31</td>\n",
       "      <td>2024-07-31</td>\n",
       "    </tr>\n",
       "    <tr>\n",
       "      <th>total_return</th>\n",
       "      <td>0.153301</td>\n",
       "      <td>0.128839</td>\n",
       "      <td>0.131496</td>\n",
       "      <td>0.180167</td>\n",
       "      <td>0.155502</td>\n",
       "      <td>0.317262</td>\n",
       "    </tr>\n",
       "    <tr>\n",
       "      <th>cagr</th>\n",
       "      <td>0.030463</td>\n",
       "      <td>0.025826</td>\n",
       "      <td>0.026333</td>\n",
       "      <td>0.035468</td>\n",
       "      <td>0.030877</td>\n",
       "      <td>0.05969</td>\n",
       "    </tr>\n",
       "    <tr>\n",
       "      <th>calmar</th>\n",
       "      <td>0.531545</td>\n",
       "      <td>0.397336</td>\n",
       "      <td>0.406434</td>\n",
       "      <td>0.434394</td>\n",
       "      <td>0.317349</td>\n",
       "      <td>0.174126</td>\n",
       "    </tr>\n",
       "    <tr>\n",
       "      <th>max_drawdown</th>\n",
       "      <td>-0.057311</td>\n",
       "      <td>-0.064998</td>\n",
       "      <td>-0.064791</td>\n",
       "      <td>-0.081649</td>\n",
       "      <td>-0.097296</td>\n",
       "      <td>-0.342796</td>\n",
       "    </tr>\n",
       "    <tr>\n",
       "      <th>avg_drawdown</th>\n",
       "      <td>-0.015045</td>\n",
       "      <td>-0.009759</td>\n",
       "      <td>-0.013248</td>\n",
       "      <td>-0.024826</td>\n",
       "      <td>-0.028437</td>\n",
       "      <td>-0.039924</td>\n",
       "    </tr>\n",
       "    <tr>\n",
       "      <th>avg_drawdown_days</th>\n",
       "      <td>128.166667</td>\n",
       "      <td>112.125</td>\n",
       "      <td>146.166667</td>\n",
       "      <td>172.0</td>\n",
       "      <td>177.8</td>\n",
       "      <td>87.133333</td>\n",
       "    </tr>\n",
       "    <tr>\n",
       "      <th>daily_vol</th>\n",
       "      <td>0.032006</td>\n",
       "      <td>0.032026</td>\n",
       "      <td>0.032686</td>\n",
       "      <td>0.046101</td>\n",
       "      <td>0.049326</td>\n",
       "      <td>0.153677</td>\n",
       "    </tr>\n",
       "    <tr>\n",
       "      <th>daily_sharpe</th>\n",
       "      <td>0.973311</td>\n",
       "      <td>0.828929</td>\n",
       "      <td>0.828294</td>\n",
       "      <td>0.7949</td>\n",
       "      <td>0.654115</td>\n",
       "      <td>0.46194</td>\n",
       "    </tr>\n",
       "    <tr>\n",
       "      <th>daily_sortino</th>\n",
       "      <td>1.897121</td>\n",
       "      <td>1.431321</td>\n",
       "      <td>1.445869</td>\n",
       "      <td>1.428709</td>\n",
       "      <td>1.072672</td>\n",
       "      <td>0.775417</td>\n",
       "    </tr>\n",
       "    <tr>\n",
       "      <th>monthly_vol</th>\n",
       "      <td>0.031912</td>\n",
       "      <td>0.031651</td>\n",
       "      <td>0.032852</td>\n",
       "      <td>0.046346</td>\n",
       "      <td>0.049325</td>\n",
       "      <td>0.177808</td>\n",
       "    </tr>\n",
       "    <tr>\n",
       "      <th>monthly_sharpe</th>\n",
       "      <td>0.957676</td>\n",
       "      <td>0.822452</td>\n",
       "      <td>0.808621</td>\n",
       "      <td>0.776172</td>\n",
       "      <td>0.641801</td>\n",
       "      <td>0.414488</td>\n",
       "    </tr>\n",
       "    <tr>\n",
       "      <th>monthly_sortino</th>\n",
       "      <td>2.094727</td>\n",
       "      <td>1.575526</td>\n",
       "      <td>1.57691</td>\n",
       "      <td>1.604376</td>\n",
       "      <td>1.212181</td>\n",
       "      <td>0.716039</td>\n",
       "    </tr>\n",
       "  </tbody>\n",
       "</table>\n",
       "</div>"
      ],
      "text/plain": [
       "                  HANA:InvVol HANA:InvVol(M) HANA:InvVol(Q)    HANA:ERC  \\\n",
       "start              2019-10-30     2019-10-30     2019-10-30  2019-10-30   \n",
       "end                2024-07-31     2024-07-31     2024-07-31  2024-07-31   \n",
       "total_return         0.153301       0.128839       0.131496    0.180167   \n",
       "cagr                 0.030463       0.025826       0.026333    0.035468   \n",
       "calmar               0.531545       0.397336       0.406434    0.434394   \n",
       "max_drawdown        -0.057311      -0.064998      -0.064791   -0.081649   \n",
       "avg_drawdown        -0.015045      -0.009759      -0.013248   -0.024826   \n",
       "avg_drawdown_days  128.166667        112.125     146.166667       172.0   \n",
       "daily_vol            0.032006       0.032026       0.032686    0.046101   \n",
       "daily_sharpe         0.973311       0.828929       0.828294      0.7949   \n",
       "daily_sortino        1.897121       1.431321       1.445869    1.428709   \n",
       "monthly_vol          0.031912       0.031651       0.032852    0.046346   \n",
       "monthly_sharpe       0.957676       0.822452       0.808621    0.776172   \n",
       "monthly_sortino      2.094727       1.575526        1.57691    1.604376   \n",
       "\n",
       "                  HANA:Eqaully    KODEX200  \n",
       "start               2019-10-30  2019-10-30  \n",
       "end                 2024-07-31  2024-07-31  \n",
       "total_return          0.155502    0.317262  \n",
       "cagr                  0.030877     0.05969  \n",
       "calmar                0.317349    0.174126  \n",
       "max_drawdown         -0.097296   -0.342796  \n",
       "avg_drawdown         -0.028437   -0.039924  \n",
       "avg_drawdown_days        177.8   87.133333  \n",
       "daily_vol             0.049326    0.153677  \n",
       "daily_sharpe          0.654115     0.46194  \n",
       "daily_sortino         1.072672    0.775417  \n",
       "monthly_vol           0.049325    0.177808  \n",
       "monthly_sharpe        0.641801    0.414488  \n",
       "monthly_sortino       1.212181    0.716039  "
      ]
     },
     "execution_count": 15,
     "metadata": {},
     "output_type": "execute_result"
    },
    {
     "data": {
      "image/png": "[encoded data removed]",
      "text/plain": [
       "<Figure size 1000x400 with 1 Axes>"
      ]
     },
     "metadata": {},
     "output_type": "display_data"
    }
   ],
   "source": [
    "bm.run(figsize=(10,4), stats_sort_by='monthly_sharpe')"
   ]
  },
  {
   "cell_type": "code",
   "execution_count": 24,
   "id": "bc5a5764-234f-4271-9068-78f299e5434a",
   "metadata": {},
   "outputs": [
    {
     "ename": "NameError",
     "evalue": "name 'df_pf' is not defined",
     "output_type": "error",
     "traceback": [
      "\u001b[0;31m---------------------------------------------------------------------------\u001b[0m",
      "\u001b[0;31mNameError\u001b[0m                                 Traceback (most recent call last)",
      "Cell \u001b[0;32mIn[24], line 2\u001b[0m\n\u001b[1;32m      1\u001b[0m df \u001b[38;5;241m=\u001b[39m bm\u001b[38;5;241m.\u001b[39mget_historical()\n\u001b[0;32m----> 2\u001b[0m df_pf \u001b[38;5;241m=\u001b[39m \u001b[43mdf_pf\u001b[49m\u001b[38;5;241m.\u001b[39mjoin(df[\u001b[38;5;124m'\u001b[39m\u001b[38;5;124mHANA:InvVol\u001b[39m\u001b[38;5;124m'\u001b[39m])\n",
      "\u001b[0;31mNameError\u001b[0m: name 'df_pf' is not defined"
     ]
    }
   ],
   "source": [
    "df = bm.get_historical()\n",
    "df_pf = df_pf.join(df['HANA:InvVol'])"
   ]
  },
  {
   "cell_type": "markdown",
   "id": "cf8a0232-f3a2-43db-aa5f-3d909e8263a8",
   "metadata": {},
   "source": [
    "## Summary"
   ]
  },
  {
   "cell_type": "code",
   "execution_count": 58,
   "id": "dee14040-64ef-44d3-96d2-4d77d6592098",
   "metadata": {},
   "outputs": [
    {
     "name": "stdout",
     "output_type": "stream",
     "text": [
      "WARNING: the number of days in a year with followings is 245 in avg.:\n",
      "ETF:Eqaully: 244\n",
      "ETF:ERC: 244\n",
      "TDF2:Eqaully: 246\n",
      "HANA:InvVol: 246\n"
     ]
    }
   ],
   "source": [
    "ae = AssetEvaluator(df_pf, 245)"
   ]
  },
  {
   "cell_type": "code",
   "execution_count": 59,
   "id": "4d62e8a7-f9c6-4c25-a6f0-71d2e1759c95",
   "metadata": {},
   "outputs": [
    {
     "data": {
      "text/html": [
       "<div>\n",
       "<style scoped>\n",
       "    .dataframe tbody tr th:only-of-type {\n",
       "        vertical-align: middle;\n",
       "    }\n",
       "\n",
       "    .dataframe tbody tr th {\n",
       "        vertical-align: top;\n",
       "    }\n",
       "\n",
       "    .dataframe thead th {\n",
       "        text-align: right;\n",
       "    }\n",
       "</style>\n",
       "<table border=\"1\" class=\"dataframe\">\n",
       "  <thead>\n",
       "    <tr style=\"text-align: right;\">\n",
       "      <th></th>\n",
       "      <th>ETF:Eqaully</th>\n",
       "      <th>ETF:ERC</th>\n",
       "      <th>KOSPI:Momentum</th>\n",
       "      <th>HANA:InvVol</th>\n",
       "      <th>TDF2:Eqaully</th>\n",
       "      <th>KODEX200</th>\n",
       "    </tr>\n",
       "  </thead>\n",
       "  <tbody>\n",
       "    <tr>\n",
       "      <th>start</th>\n",
       "      <td>2022-12-19</td>\n",
       "      <td>2022-12-19</td>\n",
       "      <td>2022-01-25</td>\n",
       "      <td>2022-01-10</td>\n",
       "      <td>2022-01-10</td>\n",
       "      <td>2022-01-10</td>\n",
       "    </tr>\n",
       "    <tr>\n",
       "      <th>end</th>\n",
       "      <td>2024-07-15</td>\n",
       "      <td>2024-07-15</td>\n",
       "      <td>2024-07-15</td>\n",
       "      <td>2024-06-28</td>\n",
       "      <td>2024-06-14</td>\n",
       "      <td>2024-07-15</td>\n",
       "    </tr>\n",
       "    <tr>\n",
       "      <th>total_return</th>\n",
       "      <td>0.268406</td>\n",
       "      <td>0.221212</td>\n",
       "      <td>6.076125</td>\n",
       "      <td>0.105528</td>\n",
       "      <td>0.048404</td>\n",
       "      <td>0.073467</td>\n",
       "    </tr>\n",
       "    <tr>\n",
       "      <th>cagr</th>\n",
       "      <td>0.163337</td>\n",
       "      <td>0.135605</td>\n",
       "      <td>1.208567</td>\n",
       "      <td>0.041555</td>\n",
       "      <td>0.019678</td>\n",
       "      <td>0.02864</td>\n",
       "    </tr>\n",
       "    <tr>\n",
       "      <th>calmar</th>\n",
       "      <td>4.442957</td>\n",
       "      <td>3.523505</td>\n",
       "      <td>4.597925</td>\n",
       "      <td>0.725071</td>\n",
       "      <td>0.120567</td>\n",
       "      <td>0.10294</td>\n",
       "    </tr>\n",
       "    <tr>\n",
       "      <th>max_drawdown</th>\n",
       "      <td>-0.036763</td>\n",
       "      <td>-0.038486</td>\n",
       "      <td>-0.262851</td>\n",
       "      <td>-0.057311</td>\n",
       "      <td>-0.16321</td>\n",
       "      <td>-0.278222</td>\n",
       "    </tr>\n",
       "    <tr>\n",
       "      <th>avg_drawdown</th>\n",
       "      <td>-0.007653</td>\n",
       "      <td>-0.007471</td>\n",
       "      <td>-0.059227</td>\n",
       "      <td>-0.026509</td>\n",
       "      <td>-0.02669</td>\n",
       "      <td>-0.053124</td>\n",
       "    </tr>\n",
       "    <tr>\n",
       "      <th>avg_drawdown_days</th>\n",
       "      <td>12.527778</td>\n",
       "      <td>17.384615</td>\n",
       "      <td>17.604651</td>\n",
       "      <td>214.666667</td>\n",
       "      <td>106.375</td>\n",
       "      <td>150.666667</td>\n",
       "    </tr>\n",
       "    <tr>\n",
       "      <th>daily_vol</th>\n",
       "      <td>0.058874</td>\n",
       "      <td>0.051632</td>\n",
       "      <td>0.467956</td>\n",
       "      <td>0.042535</td>\n",
       "      <td>0.068992</td>\n",
       "      <td>0.173314</td>\n",
       "    </tr>\n",
       "    <tr>\n",
       "      <th>daily_sharpe</th>\n",
       "      <td>2.673554</td>\n",
       "      <td>2.559844</td>\n",
       "      <td>1.973106</td>\n",
       "      <td>1.001981</td>\n",
       "      <td>0.324167</td>\n",
       "      <td>0.253552</td>\n",
       "    </tr>\n",
       "    <tr>\n",
       "      <th>daily_sortino</th>\n",
       "      <td>4.714778</td>\n",
       "      <td>4.483013</td>\n",
       "      <td>3.714411</td>\n",
       "      <td>1.89344</td>\n",
       "      <td>0.519324</td>\n",
       "      <td>0.435756</td>\n",
       "    </tr>\n",
       "    <tr>\n",
       "      <th>monthly_vol</th>\n",
       "      <td>0.070763</td>\n",
       "      <td>0.062614</td>\n",
       "      <td>0.532543</td>\n",
       "      <td>0.042271</td>\n",
       "      <td>0.090631</td>\n",
       "      <td>0.201705</td>\n",
       "    </tr>\n",
       "    <tr>\n",
       "      <th>monthly_sharpe</th>\n",
       "      <td>2.425376</td>\n",
       "      <td>2.289928</td>\n",
       "      <td>1.771324</td>\n",
       "      <td>1.120547</td>\n",
       "      <td>0.476933</td>\n",
       "      <td>0.390238</td>\n",
       "    </tr>\n",
       "    <tr>\n",
       "      <th>monthly_sortino</th>\n",
       "      <td>9.301996</td>\n",
       "      <td>11.127831</td>\n",
       "      <td>6.249977</td>\n",
       "      <td>2.428973</td>\n",
       "      <td>0.793051</td>\n",
       "      <td>0.636633</td>\n",
       "    </tr>\n",
       "  </tbody>\n",
       "</table>\n",
       "</div>"
      ],
      "text/plain": [
       "                  ETF:Eqaully     ETF:ERC KOSPI:Momentum HANA:InvVol  \\\n",
       "start              2022-12-19  2022-12-19     2022-01-25  2022-01-10   \n",
       "end                2024-07-15  2024-07-15     2024-07-15  2024-06-28   \n",
       "total_return         0.268406    0.221212       6.076125    0.105528   \n",
       "cagr                 0.163337    0.135605       1.208567    0.041555   \n",
       "calmar               4.442957    3.523505       4.597925    0.725071   \n",
       "max_drawdown        -0.036763   -0.038486      -0.262851   -0.057311   \n",
       "avg_drawdown        -0.007653   -0.007471      -0.059227   -0.026509   \n",
       "avg_drawdown_days   12.527778   17.384615      17.604651  214.666667   \n",
       "daily_vol            0.058874    0.051632       0.467956    0.042535   \n",
       "daily_sharpe         2.673554    2.559844       1.973106    1.001981   \n",
       "daily_sortino        4.714778    4.483013       3.714411     1.89344   \n",
       "monthly_vol          0.070763    0.062614       0.532543    0.042271   \n",
       "monthly_sharpe       2.425376    2.289928       1.771324    1.120547   \n",
       "monthly_sortino      9.301996   11.127831       6.249977    2.428973   \n",
       "\n",
       "                  TDF2:Eqaully    KODEX200  \n",
       "start               2022-01-10  2022-01-10  \n",
       "end                 2024-06-14  2024-07-15  \n",
       "total_return          0.048404    0.073467  \n",
       "cagr                  0.019678     0.02864  \n",
       "calmar                0.120567     0.10294  \n",
       "max_drawdown          -0.16321   -0.278222  \n",
       "avg_drawdown          -0.02669   -0.053124  \n",
       "avg_drawdown_days      106.375  150.666667  \n",
       "daily_vol             0.068992    0.173314  \n",
       "daily_sharpe          0.324167    0.253552  \n",
       "daily_sortino         0.519324    0.435756  \n",
       "monthly_vol           0.090631    0.201705  \n",
       "monthly_sharpe        0.476933    0.390238  \n",
       "monthly_sortino       0.793051    0.636633  "
      ]
     },
     "execution_count": 59,
     "metadata": {},
     "output_type": "execute_result"
    }
   ],
   "source": [
    "ae.get_stats(sort_by='monthly_sharpe', align_period=False)"
   ]
  },
  {
   "cell_type": "markdown",
   "id": "2c9b3de9-e20a-4486-9fc7-7ba75bd5fdec",
   "metadata": {},
   "source": [
    "# Transaction"
   ]
  },
  {
   "cell_type": "markdown",
   "id": "8c1d7580-8b01-4154-8c49-14f4063b6b03",
   "metadata": {},
   "source": [
    "## KOSPI200"
   ]
  },
  {
   "cell_type": "code",
   "execution_count": 23,
   "id": "ab3a72e9-226d-40dd-bac4-b76740397cca",
   "metadata": {},
   "outputs": [
    {
     "name": "stdout",
     "output_type": "stream",
     "text": [
      "15 assets removed for shorter periods (7.5%)\n",
      "running self.util_check_days_in_year to check days in a year\n",
      "WARNING: the number of days in a year with 185 assets (100%) is 247 in avg.\n",
      "Transaction record to 2024-09-26 loaded\n"
     ]
    }
   ],
   "source": [
    "kwargs = dict(\n",
    "    name='KOSPI Momentum',\n",
    "    file='pf_k200_momentum.csv',\n",
    "    method_select='Simple', method_weigh='ERC', lookback=12, lag=5,\n",
    "    path=path_tran,\n",
    "    days_in_year=246,\n",
    "    asset_names=assetnames_k200,\n",
    ")\n",
    "\n",
    "pf_k200 = MomentumPortfolio(df_k200, **kwargs)"
   ]
  },
  {
   "cell_type": "code",
   "execution_count": 24,
   "id": "77027256-82a9-4fd7-89ed-b854710eae4f",
   "metadata": {},
   "outputs": [
    {
     "data": {
      "text/html": [
       "<div>\n",
       "<style scoped>\n",
       "    .dataframe tbody tr th:only-of-type {\n",
       "        vertical-align: middle;\n",
       "    }\n",
       "\n",
       "    .dataframe tbody tr th {\n",
       "        vertical-align: top;\n",
       "    }\n",
       "\n",
       "    .dataframe thead th {\n",
       "        text-align: right;\n",
       "    }\n",
       "</style>\n",
       "<table border=\"1\" class=\"dataframe\">\n",
       "  <thead>\n",
       "    <tr style=\"text-align: right;\">\n",
       "      <th></th>\n",
       "      <th></th>\n",
       "      <th>name</th>\n",
       "      <th>price</th>\n",
       "      <th>transaction</th>\n",
       "      <th>net</th>\n",
       "      <th>weight</th>\n",
       "      <th>weight*</th>\n",
       "    </tr>\n",
       "    <tr>\n",
       "      <th>date</th>\n",
       "      <th>asset</th>\n",
       "      <th></th>\n",
       "      <th></th>\n",
       "      <th></th>\n",
       "      <th></th>\n",
       "      <th></th>\n",
       "      <th></th>\n",
       "    </tr>\n",
       "  </thead>\n",
       "  <tbody>\n",
       "    <tr>\n",
       "      <th rowspan=\"5\" valign=\"top\">2024-07-22</th>\n",
       "      <th>003230</th>\n",
       "      <td>삼양식품</td>\n",
       "      <td>637000</td>\n",
       "      <td>5</td>\n",
       "      <td>5</td>\n",
       "      <td>0.227</td>\n",
       "      <td>0.222000</td>\n",
       "    </tr>\n",
       "    <tr>\n",
       "      <th>267260</th>\n",
       "      <td>HD현대일렉트릭</td>\n",
       "      <td>314000</td>\n",
       "      <td>9</td>\n",
       "      <td>9</td>\n",
       "      <td>0.198</td>\n",
       "      <td>0.193000</td>\n",
       "    </tr>\n",
       "    <tr>\n",
       "      <th>042700</th>\n",
       "      <td>한미반도체</td>\n",
       "      <td>149000</td>\n",
       "      <td>20</td>\n",
       "      <td>20</td>\n",
       "      <td>0.205</td>\n",
       "      <td>0.211000</td>\n",
       "    </tr>\n",
       "    <tr>\n",
       "      <th>000150</th>\n",
       "      <td>두산</td>\n",
       "      <td>200000</td>\n",
       "      <td>13</td>\n",
       "      <td>13</td>\n",
       "      <td>0.189</td>\n",
       "      <td>0.187000</td>\n",
       "    </tr>\n",
       "    <tr>\n",
       "      <th>010120</th>\n",
       "      <td>LS ELECTRIC</td>\n",
       "      <td>222000</td>\n",
       "      <td>12</td>\n",
       "      <td>12</td>\n",
       "      <td>0.181</td>\n",
       "      <td>0.187000</td>\n",
       "    </tr>\n",
       "    <tr>\n",
       "      <th rowspan=\"7\" valign=\"top\">2024-08-22</th>\n",
       "      <th>267260</th>\n",
       "      <td>HD현대일렉트릭</td>\n",
       "      <td>318000</td>\n",
       "      <td>-1</td>\n",
       "      <td>8</td>\n",
       "      <td>0.192</td>\n",
       "      <td>0.184000</td>\n",
       "    </tr>\n",
       "    <tr>\n",
       "      <th>003230</th>\n",
       "      <td>삼양식품</td>\n",
       "      <td>509000</td>\n",
       "      <td>1</td>\n",
       "      <td>6</td>\n",
       "      <td>0.217</td>\n",
       "      <td>0.223000</td>\n",
       "    </tr>\n",
       "    <tr>\n",
       "      <th>012450</th>\n",
       "      <td>한화에어로스페이스</td>\n",
       "      <td>282500</td>\n",
       "      <td>10</td>\n",
       "      <td>10</td>\n",
       "      <td>0.206</td>\n",
       "      <td>0.206000</td>\n",
       "    </tr>\n",
       "    <tr>\n",
       "      <th>079550</th>\n",
       "      <td>LIG넥스원</td>\n",
       "      <td>193000</td>\n",
       "      <td>14</td>\n",
       "      <td>14</td>\n",
       "      <td>0.199</td>\n",
       "      <td>0.197000</td>\n",
       "    </tr>\n",
       "    <tr>\n",
       "      <th>042700</th>\n",
       "      <td>한미반도체</td>\n",
       "      <td>123100</td>\n",
       "      <td>1</td>\n",
       "      <td>21</td>\n",
       "      <td>0.186</td>\n",
       "      <td>0.189000</td>\n",
       "    </tr>\n",
       "    <tr>\n",
       "      <th>000150</th>\n",
       "      <td>두산</td>\n",
       "      <td>147600</td>\n",
       "      <td>-13</td>\n",
       "      <td>0</td>\n",
       "      <td>0.000</td>\n",
       "      <td>0.000000</td>\n",
       "    </tr>\n",
       "    <tr>\n",
       "      <th>010120</th>\n",
       "      <td>LS ELECTRIC</td>\n",
       "      <td>174400</td>\n",
       "      <td>-12</td>\n",
       "      <td>0</td>\n",
       "      <td>0.000</td>\n",
       "      <td>0.000000</td>\n",
       "    </tr>\n",
       "    <tr>\n",
       "      <th rowspan=\"5\" valign=\"top\">2024-09-26</th>\n",
       "      <th>267260</th>\n",
       "      <td>HD현대일렉트릭</td>\n",
       "      <td>335000</td>\n",
       "      <td>0</td>\n",
       "      <td>8</td>\n",
       "      <td>NaN</td>\n",
       "      <td>0.187541</td>\n",
       "    </tr>\n",
       "    <tr>\n",
       "      <th>003230</th>\n",
       "      <td>삼양식품</td>\n",
       "      <td>548000</td>\n",
       "      <td>0</td>\n",
       "      <td>6</td>\n",
       "      <td>NaN</td>\n",
       "      <td>0.230088</td>\n",
       "    </tr>\n",
       "    <tr>\n",
       "      <th>012450</th>\n",
       "      <td>한화에어로스페이스</td>\n",
       "      <td>282500</td>\n",
       "      <td>-10</td>\n",
       "      <td>0</td>\n",
       "      <td>NaN</td>\n",
       "      <td>0.202936</td>\n",
       "    </tr>\n",
       "    <tr>\n",
       "      <th>079550</th>\n",
       "      <td>LIG넥스원</td>\n",
       "      <td>216000</td>\n",
       "      <td>0</td>\n",
       "      <td>14</td>\n",
       "      <td>NaN</td>\n",
       "      <td>0.211614</td>\n",
       "    </tr>\n",
       "    <tr>\n",
       "      <th>042700</th>\n",
       "      <td>한미반도체</td>\n",
       "      <td>114200</td>\n",
       "      <td>0</td>\n",
       "      <td>21</td>\n",
       "      <td>NaN</td>\n",
       "      <td>0.167821</td>\n",
       "    </tr>\n",
       "  </tbody>\n",
       "</table>\n",
       "</div>"
      ],
      "text/plain": [
       "                          name   price  transaction  net  weight   weight*\n",
       "date       asset                                                          \n",
       "2024-07-22 003230         삼양식품  637000            5    5   0.227  0.222000\n",
       "           267260     HD현대일렉트릭  314000            9    9   0.198  0.193000\n",
       "           042700        한미반도체  149000           20   20   0.205  0.211000\n",
       "           000150           두산  200000           13   13   0.189  0.187000\n",
       "           010120  LS ELECTRIC  222000           12   12   0.181  0.187000\n",
       "2024-08-22 267260     HD현대일렉트릭  318000           -1    8   0.192  0.184000\n",
       "           003230         삼양식품  509000            1    6   0.217  0.223000\n",
       "           012450    한화에어로스페이스  282500           10   10   0.206  0.206000\n",
       "           079550       LIG넥스원  193000           14   14   0.199  0.197000\n",
       "           042700        한미반도체  123100            1   21   0.186  0.189000\n",
       "           000150           두산  147600          -13    0   0.000  0.000000\n",
       "           010120  LS ELECTRIC  174400          -12    0   0.000  0.000000\n",
       "2024-09-26 267260     HD현대일렉트릭  335000            0    8     NaN  0.187541\n",
       "           003230         삼양식품  548000            0    6     NaN  0.230088\n",
       "           012450    한화에어로스페이스  282500          -10    0     NaN  0.202936\n",
       "           079550       LIG넥스원  216000            0   14     NaN  0.211614\n",
       "           042700        한미반도체  114200            0   21     NaN  0.167821"
      ]
     },
     "execution_count": 24,
     "metadata": {},
     "output_type": "execute_result"
    }
   ],
   "source": [
    "pf_k200.record"
   ]
  },
  {
   "cell_type": "code",
   "execution_count": 10,
   "id": "4dce86f9-1672-4922-b6a5-c10f37d63337",
   "metadata": {},
   "outputs": [
    {
     "name": "stdout",
     "output_type": "stream",
     "text": [
      "Value 12,626,100, Profit -11.4% on 2024-09-27\n"
     ]
    },
    {
     "data": {
      "image/png": "[encoded data removed]",
      "text/plain": [
       "<Figure size 1000x400 with 2 Axes>"
      ]
     },
     "metadata": {},
     "output_type": "display_data"
    }
   ],
   "source": [
    "pf_k200.calc_value()"
   ]
  },
  {
   "cell_type": "code",
   "execution_count": 11,
   "id": "18459292-7c64-4513-8364-99db89ad036f",
   "metadata": {},
   "outputs": [
    {
     "data": {
      "text/html": [
       "<div>\n",
       "<style scoped>\n",
       "    .dataframe tbody tr th:only-of-type {\n",
       "        vertical-align: middle;\n",
       "    }\n",
       "\n",
       "    .dataframe tbody tr th {\n",
       "        vertical-align: top;\n",
       "    }\n",
       "\n",
       "    .dataframe thead th {\n",
       "        text-align: right;\n",
       "    }\n",
       "</style>\n",
       "<table border=\"1\" class=\"dataframe\">\n",
       "  <thead>\n",
       "    <tr style=\"text-align: right;\">\n",
       "      <th></th>\n",
       "      <th>KOSPI Momentum</th>\n",
       "    </tr>\n",
       "  </thead>\n",
       "  <tbody>\n",
       "    <tr>\n",
       "      <th>start</th>\n",
       "      <td>2024-07-22</td>\n",
       "    </tr>\n",
       "    <tr>\n",
       "      <th>end</th>\n",
       "      <td>2024-09-27</td>\n",
       "    </tr>\n",
       "    <tr>\n",
       "      <th>total_return</th>\n",
       "      <td>-0.114269</td>\n",
       "    </tr>\n",
       "    <tr>\n",
       "      <th>cagr</th>\n",
       "      <td>-0.48392</td>\n",
       "    </tr>\n",
       "    <tr>\n",
       "      <th>calmar</th>\n",
       "      <td>-1.472339</td>\n",
       "    </tr>\n",
       "    <tr>\n",
       "      <th>max_drawdown</th>\n",
       "      <td>-0.328674</td>\n",
       "    </tr>\n",
       "    <tr>\n",
       "      <th>avg_drawdown</th>\n",
       "      <td>-0.328674</td>\n",
       "    </tr>\n",
       "    <tr>\n",
       "      <th>avg_drawdown_days</th>\n",
       "      <td>64.0</td>\n",
       "    </tr>\n",
       "    <tr>\n",
       "      <th>daily_vol</th>\n",
       "      <td>0.584844</td>\n",
       "    </tr>\n",
       "    <tr>\n",
       "      <th>daily_sharpe</th>\n",
       "      <td>-0.86841</td>\n",
       "    </tr>\n",
       "    <tr>\n",
       "      <th>daily_sortino</th>\n",
       "      <td>-1.250898</td>\n",
       "    </tr>\n",
       "    <tr>\n",
       "      <th>monthly_vol</th>\n",
       "      <td>0.45791</td>\n",
       "    </tr>\n",
       "    <tr>\n",
       "      <th>monthly_sharpe</th>\n",
       "      <td>-0.609141</td>\n",
       "    </tr>\n",
       "    <tr>\n",
       "      <th>monthly_sortino</th>\n",
       "      <td>-0.975655</td>\n",
       "    </tr>\n",
       "  </tbody>\n",
       "</table>\n",
       "</div>"
      ],
      "text/plain": [
       "                  KOSPI Momentum\n",
       "start                 2024-07-22\n",
       "end                   2024-09-27\n",
       "total_return           -0.114269\n",
       "cagr                    -0.48392\n",
       "calmar                 -1.472339\n",
       "max_drawdown           -0.328674\n",
       "avg_drawdown           -0.328674\n",
       "avg_drawdown_days           64.0\n",
       "daily_vol               0.584844\n",
       "daily_sharpe            -0.86841\n",
       "daily_sortino          -1.250898\n",
       "monthly_vol              0.45791\n",
       "monthly_sharpe         -0.609141\n",
       "monthly_sortino        -0.975655"
      ]
     },
     "execution_count": 11,
     "metadata": {},
     "output_type": "execute_result"
    }
   ],
   "source": [
    "pf_k200.performance(metrics=metrics)"
   ]
  },
  {
   "cell_type": "code",
   "execution_count": 12,
   "id": "ff8e778d-a780-492a-9a14-945deb966e74",
   "metadata": {},
   "outputs": [
    {
     "data": {
      "application/vnd.jupyter.widget-view+json": {
       "model_id": "3f2f12ab85e2484ea4515b92dad906e9",
       "version_major": 2,
       "version_minor": 0
      },
      "text/plain": [
       "VBox(children=(DatePicker(value=None, layout=Layout(width='200px'), step=1), IntSlider(value=0, continuous_upd…"
      ]
     },
     "execution_count": 12,
     "metadata": {},
     "output_type": "execute_result"
    }
   ],
   "source": [
    "# set kwargs of transaction_pipeline\n",
    "WidgetTransaction"
   ]
  },
  {
   "cell_type": "code",
   "execution_count": 14,
   "id": "2493edb2-b79c-4eea-b898-bb3b181cfd1d",
   "metadata": {},
   "outputs": [
    {
     "name": "stdout",
     "output_type": "stream",
     "text": [
      "Liquidation prepared\n",
      "5 assets selected by Total return from 2023-09-22 to 2024-09-20\n",
      "Weights of assets determined by ERC.\n",
      "Mean absolute error of weights: 4 %\n",
      "Value 9,274,500, Profit -34.9%\n",
      "Set save=True to save transaction record\n"
     ]
    },
    {
     "data": {
      "text/html": [
       "<div>\n",
       "<style scoped>\n",
       "    .dataframe tbody tr th:only-of-type {\n",
       "        vertical-align: middle;\n",
       "    }\n",
       "\n",
       "    .dataframe tbody tr th {\n",
       "        vertical-align: top;\n",
       "    }\n",
       "\n",
       "    .dataframe thead th {\n",
       "        text-align: right;\n",
       "    }\n",
       "</style>\n",
       "<table border=\"1\" class=\"dataframe\">\n",
       "  <thead>\n",
       "    <tr style=\"text-align: right;\">\n",
       "      <th></th>\n",
       "      <th></th>\n",
       "      <th>name</th>\n",
       "      <th>price</th>\n",
       "      <th>transaction</th>\n",
       "      <th>net</th>\n",
       "      <th>weight</th>\n",
       "      <th>weight*</th>\n",
       "    </tr>\n",
       "    <tr>\n",
       "      <th>date</th>\n",
       "      <th>asset</th>\n",
       "      <th></th>\n",
       "      <th></th>\n",
       "      <th></th>\n",
       "      <th></th>\n",
       "      <th></th>\n",
       "      <th></th>\n",
       "    </tr>\n",
       "  </thead>\n",
       "  <tbody>\n",
       "    <tr>\n",
       "      <th rowspan=\"5\" valign=\"top\">2024-07-22</th>\n",
       "      <th>003230</th>\n",
       "      <td>삼양식품</td>\n",
       "      <td>637000</td>\n",
       "      <td>5</td>\n",
       "      <td>5</td>\n",
       "      <td>0.227</td>\n",
       "      <td>0.222</td>\n",
       "    </tr>\n",
       "    <tr>\n",
       "      <th>267260</th>\n",
       "      <td>HD현대일렉트릭</td>\n",
       "      <td>314000</td>\n",
       "      <td>9</td>\n",
       "      <td>9</td>\n",
       "      <td>0.198</td>\n",
       "      <td>0.193</td>\n",
       "    </tr>\n",
       "    <tr>\n",
       "      <th>042700</th>\n",
       "      <td>한미반도체</td>\n",
       "      <td>149000</td>\n",
       "      <td>20</td>\n",
       "      <td>20</td>\n",
       "      <td>0.205</td>\n",
       "      <td>0.211</td>\n",
       "    </tr>\n",
       "    <tr>\n",
       "      <th>000150</th>\n",
       "      <td>두산</td>\n",
       "      <td>200000</td>\n",
       "      <td>13</td>\n",
       "      <td>13</td>\n",
       "      <td>0.189</td>\n",
       "      <td>0.187</td>\n",
       "    </tr>\n",
       "    <tr>\n",
       "      <th>010120</th>\n",
       "      <td>LS ELECTRIC</td>\n",
       "      <td>222000</td>\n",
       "      <td>12</td>\n",
       "      <td>12</td>\n",
       "      <td>0.181</td>\n",
       "      <td>0.187</td>\n",
       "    </tr>\n",
       "    <tr>\n",
       "      <th rowspan=\"7\" valign=\"top\">2024-08-22</th>\n",
       "      <th>267260</th>\n",
       "      <td>HD현대일렉트릭</td>\n",
       "      <td>318000</td>\n",
       "      <td>-1</td>\n",
       "      <td>8</td>\n",
       "      <td>0.192</td>\n",
       "      <td>0.184</td>\n",
       "    </tr>\n",
       "    <tr>\n",
       "      <th>003230</th>\n",
       "      <td>삼양식품</td>\n",
       "      <td>509000</td>\n",
       "      <td>1</td>\n",
       "      <td>6</td>\n",
       "      <td>0.217</td>\n",
       "      <td>0.223</td>\n",
       "    </tr>\n",
       "    <tr>\n",
       "      <th>012450</th>\n",
       "      <td>한화에어로스페이스</td>\n",
       "      <td>282500</td>\n",
       "      <td>10</td>\n",
       "      <td>10</td>\n",
       "      <td>0.206</td>\n",
       "      <td>0.206</td>\n",
       "    </tr>\n",
       "    <tr>\n",
       "      <th>079550</th>\n",
       "      <td>LIG넥스원</td>\n",
       "      <td>193000</td>\n",
       "      <td>14</td>\n",
       "      <td>14</td>\n",
       "      <td>0.199</td>\n",
       "      <td>0.197</td>\n",
       "    </tr>\n",
       "    <tr>\n",
       "      <th>042700</th>\n",
       "      <td>한미반도체</td>\n",
       "      <td>123100</td>\n",
       "      <td>1</td>\n",
       "      <td>21</td>\n",
       "      <td>0.186</td>\n",
       "      <td>0.189</td>\n",
       "    </tr>\n",
       "    <tr>\n",
       "      <th>000150</th>\n",
       "      <td>두산</td>\n",
       "      <td>147600</td>\n",
       "      <td>-13</td>\n",
       "      <td>0</td>\n",
       "      <td>0.0</td>\n",
       "      <td>0.0</td>\n",
       "    </tr>\n",
       "    <tr>\n",
       "      <th>010120</th>\n",
       "      <td>LS ELECTRIC</td>\n",
       "      <td>174400</td>\n",
       "      <td>-12</td>\n",
       "      <td>0</td>\n",
       "      <td>0.0</td>\n",
       "      <td>0.0</td>\n",
       "    </tr>\n",
       "    <tr>\n",
       "      <th rowspan=\"7\" valign=\"top\">2024-09-27</th>\n",
       "      <th>267260</th>\n",
       "      <td>HD현대일렉트릭</td>\n",
       "      <td>319500</td>\n",
       "      <td>-1</td>\n",
       "      <td>7</td>\n",
       "      <td>0.196</td>\n",
       "      <td>0.197</td>\n",
       "    </tr>\n",
       "    <tr>\n",
       "      <th>003230</th>\n",
       "      <td>삼양식품</td>\n",
       "      <td>538000</td>\n",
       "      <td>-2</td>\n",
       "      <td>4</td>\n",
       "      <td>0.200</td>\n",
       "      <td>0.189</td>\n",
       "    </tr>\n",
       "    <tr>\n",
       "      <th>079550</th>\n",
       "      <td>LIG넥스원</td>\n",
       "      <td>210500</td>\n",
       "      <td>-3</td>\n",
       "      <td>11</td>\n",
       "      <td>0.198</td>\n",
       "      <td>0.204</td>\n",
       "    </tr>\n",
       "    <tr>\n",
       "      <th>036460</th>\n",
       "      <td>한국가스공사</td>\n",
       "      <td>46350</td>\n",
       "      <td>50</td>\n",
       "      <td>50</td>\n",
       "      <td>0.197</td>\n",
       "      <td>0.204</td>\n",
       "    </tr>\n",
       "    <tr>\n",
       "      <th>000100</th>\n",
       "      <td>유한양행</td>\n",
       "      <td>146100</td>\n",
       "      <td>16</td>\n",
       "      <td>16</td>\n",
       "      <td>0.209</td>\n",
       "      <td>0.206</td>\n",
       "    </tr>\n",
       "    <tr>\n",
       "      <th>012450</th>\n",
       "      <td>한화에어로스페이스</td>\n",
       "      <td>0</td>\n",
       "      <td>-10</td>\n",
       "      <td>0</td>\n",
       "      <td>0</td>\n",
       "      <td>0</td>\n",
       "    </tr>\n",
       "    <tr>\n",
       "      <th>042700</th>\n",
       "      <td>한미반도체</td>\n",
       "      <td>113000</td>\n",
       "      <td>-21</td>\n",
       "      <td>0</td>\n",
       "      <td>0</td>\n",
       "      <td>0</td>\n",
       "    </tr>\n",
       "  </tbody>\n",
       "</table>\n",
       "</div>"
      ],
      "text/plain": [
       "                          name   price  transaction  net weight weight*\n",
       "date       asset                                                       \n",
       "2024-07-22 003230         삼양식품  637000            5    5  0.227   0.222\n",
       "           267260     HD현대일렉트릭  314000            9    9  0.198   0.193\n",
       "           042700        한미반도체  149000           20   20  0.205   0.211\n",
       "           000150           두산  200000           13   13  0.189   0.187\n",
       "           010120  LS ELECTRIC  222000           12   12  0.181   0.187\n",
       "2024-08-22 267260     HD현대일렉트릭  318000           -1    8  0.192   0.184\n",
       "           003230         삼양식품  509000            1    6  0.217   0.223\n",
       "           012450    한화에어로스페이스  282500           10   10  0.206   0.206\n",
       "           079550       LIG넥스원  193000           14   14  0.199   0.197\n",
       "           042700        한미반도체  123100            1   21  0.186   0.189\n",
       "           000150           두산  147600          -13    0    0.0     0.0\n",
       "           010120  LS ELECTRIC  174400          -12    0    0.0     0.0\n",
       "2024-09-27 267260     HD현대일렉트릭  319500           -1    7  0.196   0.197\n",
       "           003230         삼양식품  538000           -2    4  0.200   0.189\n",
       "           079550       LIG넥스원  210500           -3   11  0.198   0.204\n",
       "           036460       한국가스공사   46350           50   50  0.197   0.204\n",
       "           000100         유한양행  146100           16   16  0.209   0.206\n",
       "           012450    한화에어로스페이스       0          -10    0      0       0\n",
       "           042700        한미반도체  113000          -21    0      0       0"
      ]
     },
     "execution_count": 14,
     "metadata": {},
     "output_type": "execute_result"
    }
   ],
   "source": [
    "kwargs_trs = dict(\n",
    "    n_assets = 5,\n",
    "    date = WidgetTransaction.values(0),\n",
    "    capital = WidgetTransaction.values(1),\n",
    "    save = WidgetTransaction.values(2)\n",
    ")\n",
    "kw_liq = dict(\n",
    "    assets_to_sell= '012450',\n",
    "    #assets_to_sell= {'489790':40000},\n",
    "    #assets_to_sell = {'012450':282500},\n",
    "    hold= True\n",
    ")\n",
    "pf_k200.transaction_pipeline(**kwargs_trs, **kw_liq)"
   ]
  },
  {
   "cell_type": "code",
   "execution_count": 19,
   "id": "2a895121-8f90-4282-8d6f-2d5882834c3b",
   "metadata": {},
   "outputs": [
    {
     "name": "stdout",
     "output_type": "stream",
     "text": [
      "Value 9,186,100, Profit -35.6% on 2024-09-24\n"
     ]
    }
   ],
   "source": [
    "#pf_k200.performance(metrics=metrics2)\n",
    "df_pf = pf_k200.get_historical()"
   ]
  },
  {
   "cell_type": "markdown",
   "id": "e321b1ba-7505-483c-a08c-636d6fa73d40",
   "metadata": {},
   "source": [
    "### Event: split"
   ]
  },
  {
   "cell_type": "code",
   "execution_count": 18,
   "id": "6ec60ea6-7855-4a6a-9438-bbbde8b5475c",
   "metadata": {},
   "outputs": [
    {
     "data": {
      "text/html": [
       "<div>\n",
       "<style scoped>\n",
       "    .dataframe tbody tr th:only-of-type {\n",
       "        vertical-align: middle;\n",
       "    }\n",
       "\n",
       "    .dataframe tbody tr th {\n",
       "        vertical-align: top;\n",
       "    }\n",
       "\n",
       "    .dataframe thead th {\n",
       "        text-align: right;\n",
       "    }\n",
       "</style>\n",
       "<table border=\"1\" class=\"dataframe\">\n",
       "  <thead>\n",
       "    <tr style=\"text-align: right;\">\n",
       "      <th></th>\n",
       "      <th></th>\n",
       "      <th>name</th>\n",
       "      <th>price</th>\n",
       "      <th>transaction</th>\n",
       "      <th>net</th>\n",
       "      <th>weight</th>\n",
       "      <th>weight*</th>\n",
       "    </tr>\n",
       "    <tr>\n",
       "      <th>date</th>\n",
       "      <th>asset</th>\n",
       "      <th></th>\n",
       "      <th></th>\n",
       "      <th></th>\n",
       "      <th></th>\n",
       "      <th></th>\n",
       "      <th></th>\n",
       "    </tr>\n",
       "  </thead>\n",
       "  <tbody>\n",
       "    <tr>\n",
       "      <th rowspan=\"5\" valign=\"top\">2024-07-22</th>\n",
       "      <th>003230</th>\n",
       "      <td>삼양식품</td>\n",
       "      <td>637000</td>\n",
       "      <td>5</td>\n",
       "      <td>5</td>\n",
       "      <td>0.227</td>\n",
       "      <td>0.222</td>\n",
       "    </tr>\n",
       "    <tr>\n",
       "      <th>267260</th>\n",
       "      <td>HD현대일렉트릭</td>\n",
       "      <td>314000</td>\n",
       "      <td>9</td>\n",
       "      <td>9</td>\n",
       "      <td>0.198</td>\n",
       "      <td>0.193</td>\n",
       "    </tr>\n",
       "    <tr>\n",
       "      <th>042700</th>\n",
       "      <td>한미반도체</td>\n",
       "      <td>149000</td>\n",
       "      <td>20</td>\n",
       "      <td>20</td>\n",
       "      <td>0.205</td>\n",
       "      <td>0.211</td>\n",
       "    </tr>\n",
       "    <tr>\n",
       "      <th>000150</th>\n",
       "      <td>두산</td>\n",
       "      <td>200000</td>\n",
       "      <td>13</td>\n",
       "      <td>13</td>\n",
       "      <td>0.189</td>\n",
       "      <td>0.187</td>\n",
       "    </tr>\n",
       "    <tr>\n",
       "      <th>010120</th>\n",
       "      <td>LS ELECTRIC</td>\n",
       "      <td>222000</td>\n",
       "      <td>12</td>\n",
       "      <td>12</td>\n",
       "      <td>0.181</td>\n",
       "      <td>0.187</td>\n",
       "    </tr>\n",
       "    <tr>\n",
       "      <th rowspan=\"7\" valign=\"top\">2024-08-22</th>\n",
       "      <th>267260</th>\n",
       "      <td>HD현대일렉트릭</td>\n",
       "      <td>318000</td>\n",
       "      <td>-1</td>\n",
       "      <td>8</td>\n",
       "      <td>0.192</td>\n",
       "      <td>0.184</td>\n",
       "    </tr>\n",
       "    <tr>\n",
       "      <th>003230</th>\n",
       "      <td>삼양식품</td>\n",
       "      <td>509000</td>\n",
       "      <td>1</td>\n",
       "      <td>6</td>\n",
       "      <td>0.217</td>\n",
       "      <td>0.223</td>\n",
       "    </tr>\n",
       "    <tr>\n",
       "      <th>012450</th>\n",
       "      <td>한화에어로스페이스</td>\n",
       "      <td>282500</td>\n",
       "      <td>10</td>\n",
       "      <td>10</td>\n",
       "      <td>0.206</td>\n",
       "      <td>0.206</td>\n",
       "    </tr>\n",
       "    <tr>\n",
       "      <th>079550</th>\n",
       "      <td>LIG넥스원</td>\n",
       "      <td>193000</td>\n",
       "      <td>14</td>\n",
       "      <td>14</td>\n",
       "      <td>0.199</td>\n",
       "      <td>0.197</td>\n",
       "    </tr>\n",
       "    <tr>\n",
       "      <th>042700</th>\n",
       "      <td>한미반도체</td>\n",
       "      <td>123100</td>\n",
       "      <td>1</td>\n",
       "      <td>21</td>\n",
       "      <td>0.186</td>\n",
       "      <td>0.189</td>\n",
       "    </tr>\n",
       "    <tr>\n",
       "      <th>000150</th>\n",
       "      <td>두산</td>\n",
       "      <td>147600</td>\n",
       "      <td>-13</td>\n",
       "      <td>0</td>\n",
       "      <td>0.000</td>\n",
       "      <td>0.000</td>\n",
       "    </tr>\n",
       "    <tr>\n",
       "      <th>010120</th>\n",
       "      <td>LS ELECTRIC</td>\n",
       "      <td>174400</td>\n",
       "      <td>-12</td>\n",
       "      <td>0</td>\n",
       "      <td>0.000</td>\n",
       "      <td>0.000</td>\n",
       "    </tr>\n",
       "  </tbody>\n",
       "</table>\n",
       "</div>"
      ],
      "text/plain": [
       "                          name   price  transaction  net  weight  weight*\n",
       "date       asset                                                         \n",
       "2024-07-22 003230         삼양식품  637000            5    5   0.227    0.222\n",
       "           267260     HD현대일렉트릭  314000            9    9   0.198    0.193\n",
       "           042700        한미반도체  149000           20   20   0.205    0.211\n",
       "           000150           두산  200000           13   13   0.189    0.187\n",
       "           010120  LS ELECTRIC  222000           12   12   0.181    0.187\n",
       "2024-08-22 267260     HD현대일렉트릭  318000           -1    8   0.192    0.184\n",
       "           003230         삼양식품  509000            1    6   0.217    0.223\n",
       "           012450    한화에어로스페이스  282500           10   10   0.206    0.206\n",
       "           079550       LIG넥스원  193000           14   14   0.199    0.197\n",
       "           042700        한미반도체  123100            1   21   0.186    0.189\n",
       "           000150           두산  147600          -13    0   0.000    0.000\n",
       "           010120  LS ELECTRIC  174400          -12    0   0.000    0.000"
      ]
     },
     "execution_count": 18,
     "metadata": {},
     "output_type": "execute_result"
    }
   ],
   "source": [
    "pf_k200.record"
   ]
  },
  {
   "cell_type": "code",
   "execution_count": 20,
   "id": "8e44faa7-52f9-4f88-817b-2afef2d6da1e",
   "metadata": {},
   "outputs": [
    {
     "name": "stdout",
     "output_type": "stream",
     "text": [
      "Transaction record to 2024-08-22 loaded\n",
      "All transactions saved to pf_k200_momentum_240926.csv\n"
     ]
    },
    {
     "data": {
      "text/html": [
       "<div>\n",
       "<style scoped>\n",
       "    .dataframe tbody tr th:only-of-type {\n",
       "        vertical-align: middle;\n",
       "    }\n",
       "\n",
       "    .dataframe tbody tr th {\n",
       "        vertical-align: top;\n",
       "    }\n",
       "\n",
       "    .dataframe thead th {\n",
       "        text-align: right;\n",
       "    }\n",
       "</style>\n",
       "<table border=\"1\" class=\"dataframe\">\n",
       "  <thead>\n",
       "    <tr style=\"text-align: right;\">\n",
       "      <th></th>\n",
       "      <th></th>\n",
       "      <th>name</th>\n",
       "      <th>price</th>\n",
       "      <th>transaction</th>\n",
       "      <th>net</th>\n",
       "      <th>weight</th>\n",
       "      <th>weight*</th>\n",
       "    </tr>\n",
       "    <tr>\n",
       "      <th>date</th>\n",
       "      <th>asset</th>\n",
       "      <th></th>\n",
       "      <th></th>\n",
       "      <th></th>\n",
       "      <th></th>\n",
       "      <th></th>\n",
       "      <th></th>\n",
       "    </tr>\n",
       "  </thead>\n",
       "  <tbody>\n",
       "    <tr>\n",
       "      <th rowspan=\"5\" valign=\"top\">2024-07-22</th>\n",
       "      <th>003230</th>\n",
       "      <td>삼양식품</td>\n",
       "      <td>637000</td>\n",
       "      <td>5</td>\n",
       "      <td>5</td>\n",
       "      <td>0.227</td>\n",
       "      <td>0.222000</td>\n",
       "    </tr>\n",
       "    <tr>\n",
       "      <th>267260</th>\n",
       "      <td>HD현대일렉트릭</td>\n",
       "      <td>314000</td>\n",
       "      <td>9</td>\n",
       "      <td>9</td>\n",
       "      <td>0.198</td>\n",
       "      <td>0.193000</td>\n",
       "    </tr>\n",
       "    <tr>\n",
       "      <th>042700</th>\n",
       "      <td>한미반도체</td>\n",
       "      <td>149000</td>\n",
       "      <td>20</td>\n",
       "      <td>20</td>\n",
       "      <td>0.205</td>\n",
       "      <td>0.211000</td>\n",
       "    </tr>\n",
       "    <tr>\n",
       "      <th>000150</th>\n",
       "      <td>두산</td>\n",
       "      <td>200000</td>\n",
       "      <td>13</td>\n",
       "      <td>13</td>\n",
       "      <td>0.189</td>\n",
       "      <td>0.187000</td>\n",
       "    </tr>\n",
       "    <tr>\n",
       "      <th>010120</th>\n",
       "      <td>LS ELECTRIC</td>\n",
       "      <td>222000</td>\n",
       "      <td>12</td>\n",
       "      <td>12</td>\n",
       "      <td>0.181</td>\n",
       "      <td>0.187000</td>\n",
       "    </tr>\n",
       "    <tr>\n",
       "      <th rowspan=\"7\" valign=\"top\">2024-08-22</th>\n",
       "      <th>267260</th>\n",
       "      <td>HD현대일렉트릭</td>\n",
       "      <td>318000</td>\n",
       "      <td>-1</td>\n",
       "      <td>8</td>\n",
       "      <td>0.192</td>\n",
       "      <td>0.184000</td>\n",
       "    </tr>\n",
       "    <tr>\n",
       "      <th>003230</th>\n",
       "      <td>삼양식품</td>\n",
       "      <td>509000</td>\n",
       "      <td>1</td>\n",
       "      <td>6</td>\n",
       "      <td>0.217</td>\n",
       "      <td>0.223000</td>\n",
       "    </tr>\n",
       "    <tr>\n",
       "      <th>012450</th>\n",
       "      <td>한화에어로스페이스</td>\n",
       "      <td>282500</td>\n",
       "      <td>10</td>\n",
       "      <td>10</td>\n",
       "      <td>0.206</td>\n",
       "      <td>0.206000</td>\n",
       "    </tr>\n",
       "    <tr>\n",
       "      <th>079550</th>\n",
       "      <td>LIG넥스원</td>\n",
       "      <td>193000</td>\n",
       "      <td>14</td>\n",
       "      <td>14</td>\n",
       "      <td>0.199</td>\n",
       "      <td>0.197000</td>\n",
       "    </tr>\n",
       "    <tr>\n",
       "      <th>042700</th>\n",
       "      <td>한미반도체</td>\n",
       "      <td>123100</td>\n",
       "      <td>1</td>\n",
       "      <td>21</td>\n",
       "      <td>0.186</td>\n",
       "      <td>0.189000</td>\n",
       "    </tr>\n",
       "    <tr>\n",
       "      <th>000150</th>\n",
       "      <td>두산</td>\n",
       "      <td>147600</td>\n",
       "      <td>-13</td>\n",
       "      <td>0</td>\n",
       "      <td>0.000</td>\n",
       "      <td>0.000000</td>\n",
       "    </tr>\n",
       "    <tr>\n",
       "      <th>010120</th>\n",
       "      <td>LS ELECTRIC</td>\n",
       "      <td>174400</td>\n",
       "      <td>-12</td>\n",
       "      <td>0</td>\n",
       "      <td>0.000</td>\n",
       "      <td>0.000000</td>\n",
       "    </tr>\n",
       "    <tr>\n",
       "      <th rowspan=\"5\" valign=\"top\">2024-09-26</th>\n",
       "      <th>267260</th>\n",
       "      <td>HD현대일렉트릭</td>\n",
       "      <td>335000</td>\n",
       "      <td>0</td>\n",
       "      <td>8</td>\n",
       "      <td>NaN</td>\n",
       "      <td>0.187541</td>\n",
       "    </tr>\n",
       "    <tr>\n",
       "      <th>003230</th>\n",
       "      <td>삼양식품</td>\n",
       "      <td>548000</td>\n",
       "      <td>0</td>\n",
       "      <td>6</td>\n",
       "      <td>NaN</td>\n",
       "      <td>0.230088</td>\n",
       "    </tr>\n",
       "    <tr>\n",
       "      <th>012450</th>\n",
       "      <td>한화에어로스페이스</td>\n",
       "      <td>290000</td>\n",
       "      <td>0</td>\n",
       "      <td>10</td>\n",
       "      <td>NaN</td>\n",
       "      <td>0.202936</td>\n",
       "    </tr>\n",
       "    <tr>\n",
       "      <th>079550</th>\n",
       "      <td>LIG넥스원</td>\n",
       "      <td>216000</td>\n",
       "      <td>0</td>\n",
       "      <td>14</td>\n",
       "      <td>NaN</td>\n",
       "      <td>0.211614</td>\n",
       "    </tr>\n",
       "    <tr>\n",
       "      <th>042700</th>\n",
       "      <td>한미반도체</td>\n",
       "      <td>114200</td>\n",
       "      <td>0</td>\n",
       "      <td>21</td>\n",
       "      <td>NaN</td>\n",
       "      <td>0.167821</td>\n",
       "    </tr>\n",
       "  </tbody>\n",
       "</table>\n",
       "</div>"
      ],
      "text/plain": [
       "                          name   price  transaction  net  weight   weight*\n",
       "date       asset                                                          \n",
       "2024-07-22 003230         삼양식품  637000            5    5   0.227  0.222000\n",
       "           267260     HD현대일렉트릭  314000            9    9   0.198  0.193000\n",
       "           042700        한미반도체  149000           20   20   0.205  0.211000\n",
       "           000150           두산  200000           13   13   0.189  0.187000\n",
       "           010120  LS ELECTRIC  222000           12   12   0.181  0.187000\n",
       "2024-08-22 267260     HD현대일렉트릭  318000           -1    8   0.192  0.184000\n",
       "           003230         삼양식품  509000            1    6   0.217  0.223000\n",
       "           012450    한화에어로스페이스  282500           10   10   0.206  0.206000\n",
       "           079550       LIG넥스원  193000           14   14   0.199  0.197000\n",
       "           042700        한미반도체  123100            1   21   0.186  0.189000\n",
       "           000150           두산  147600          -13    0   0.000  0.000000\n",
       "           010120  LS ELECTRIC  174400          -12    0   0.000  0.000000\n",
       "2024-09-26 267260     HD현대일렉트릭  335000            0    8     NaN  0.187541\n",
       "           003230         삼양식품  548000            0    6     NaN  0.230088\n",
       "           012450    한화에어로스페이스  290000            0   10     NaN  0.202936\n",
       "           079550       LIG넥스원  216000            0   14     NaN  0.211614\n",
       "           042700        한미반도체  114200            0   21     NaN  0.167821"
      ]
     },
     "execution_count": 20,
     "metadata": {},
     "output_type": "execute_result"
    }
   ],
   "source": [
    "date = '2024-09-26'\n",
    "save = True\n",
    "\n",
    "pf_k200.copy_record(date, save=save)"
   ]
  },
  {
   "cell_type": "code",
   "execution_count": 19,
   "id": "1a96acbf-10dd-4756-a68a-a7265bbc70df",
   "metadata": {},
   "outputs": [
    {
     "ename": "NameError",
     "evalue": "name 'date' is not defined",
     "output_type": "error",
     "traceback": [
      "\u001b[0;31m---------------------------------------------------------------------------\u001b[0m",
      "\u001b[0;31mNameError\u001b[0m                                 Traceback (most recent call last)",
      "Cell \u001b[0;32mIn[19], line 2\u001b[0m\n\u001b[1;32m      1\u001b[0m pf_k200\u001b[38;5;241m.\u001b[39mdf_rec\n\u001b[0;32m----> 2\u001b[0m \u001b[43mdate\u001b[49m\n",
      "\u001b[0;31mNameError\u001b[0m: name 'date' is not defined"
     ]
    }
   ],
   "source": [
    "pf_k200.df_rec\n",
    "date"
   ]
  },
  {
   "cell_type": "code",
   "execution_count": null,
   "id": "3e066316-c854-43a3-a70d-7d877be07970",
   "metadata": {},
   "outputs": [],
   "source": []
  },
  {
   "cell_type": "markdown",
   "id": "e51f1407-f0a5-45d0-80f6-b642b0b13987",
   "metadata": {},
   "source": [
    "### testing starts"
   ]
  },
  {
   "cell_type": "code",
   "execution_count": 21,
   "id": "b1530d88-33cd-4904-a143-5669cf7a3412",
   "metadata": {},
   "outputs": [],
   "source": [
    "def copy_record(self, date=None, save=True):\n",
    "    \"\"\"\n",
    "    copy latest transaction of record with new price on date\n",
    "    \"\"\"\n",
    "    cols_record = self.cols_record\n",
    "    col_date = cols_record['date']\n",
    "    col_name = cols_record['name']\n",
    "    col_prc = cols_record['prc']\n",
    "    col_trs = cols_record['trs']\n",
    "    col_net = cols_record['net']\n",
    "    col_wgta = cols_record['wgta']\n",
    "\n",
    "    # get transaction record\n",
    "    df_rec = self._check_result()\n",
    "    if df_rec is None:\n",
    "        return None\n",
    "    else:\n",
    "        df_rec = self.liquidation.recover_record(df_rec, cols_record)\n",
    "\n",
    "    # get universe and adjust copy date\n",
    "    df_data = self.df_universe\n",
    "    if date is not None:\n",
    "        df_data = df_data.loc[:date]\n",
    "    date = df_data.index.max()\n",
    "\n",
    "    # check if copy date is latest\n",
    "    if not self.check_new_transaction(date):\n",
    "       return None\n",
    "\n",
    "    # copy the latest transaction\n",
    "    date_lt = df_rec.index.get_level_values(0).max()\n",
    "    df_net = df_rec.loc[date_lt, [col_name, col_net]]\n",
    "    df_net = df_net.loc[df_net[col_net]>0]\n",
    "    df_net[col_trs] = 0\n",
    "\n",
    "    # get price at the date\n",
    "    df_prc = df_data.loc[date, df_net.index]\n",
    "    df_net = df_net.join(df_prc.to_frame(col_prc)).assign(date=date)\n",
    "    df_net = df_net.set_index(col_date, append=True).swaplevel()\n",
    "\n",
    "    # calc actual weight\n",
    "    wva = df_net[col_prc].mul(df_net[col_net]).rename(col_wgta)\n",
    "    wa = wva / wva.groupby(col_date).sum()\n",
    "    df_net = df_net.join(wa)\n",
    "\n",
    "    # append copied as new transaction\n",
    "    df_rec = pd.concat([df_rec, df_net])\n",
    "\n",
    "    if save:\n",
    "        self.save_transaction(df_rec)\n",
    "\n",
    "    return df_rec"
   ]
  },
  {
   "cell_type": "code",
   "execution_count": 23,
   "id": "da73f8be-f935-4ea0-82bb-043ff5e16a28",
   "metadata": {},
   "outputs": [
    {
     "name": "stdout",
     "output_type": "stream",
     "text": [
      "ERROR: check the date as no new transaction\n"
     ]
    }
   ],
   "source": [
    "import pandas as pd\n",
    "\n",
    "self = pf_k200\n",
    "date = None\n",
    "\n",
    "\n",
    "copy_record(self, date=date)"
   ]
  },
  {
   "cell_type": "code",
   "execution_count": 42,
   "id": "f62185b5-13cd-4295-873c-49cef673b610",
   "metadata": {},
   "outputs": [
    {
     "data": {
      "text/html": [
       "<div>\n",
       "<style scoped>\n",
       "    .dataframe tbody tr th:only-of-type {\n",
       "        vertical-align: middle;\n",
       "    }\n",
       "\n",
       "    .dataframe tbody tr th {\n",
       "        vertical-align: top;\n",
       "    }\n",
       "\n",
       "    .dataframe thead th {\n",
       "        text-align: right;\n",
       "    }\n",
       "</style>\n",
       "<table border=\"1\" class=\"dataframe\">\n",
       "  <thead>\n",
       "    <tr style=\"text-align: right;\">\n",
       "      <th></th>\n",
       "      <th></th>\n",
       "      <th>name</th>\n",
       "      <th>price</th>\n",
       "      <th>transaction</th>\n",
       "      <th>net</th>\n",
       "      <th>weight</th>\n",
       "      <th>weight*</th>\n",
       "    </tr>\n",
       "    <tr>\n",
       "      <th>date</th>\n",
       "      <th>asset</th>\n",
       "      <th></th>\n",
       "      <th></th>\n",
       "      <th></th>\n",
       "      <th></th>\n",
       "      <th></th>\n",
       "      <th></th>\n",
       "    </tr>\n",
       "  </thead>\n",
       "  <tbody>\n",
       "    <tr>\n",
       "      <th rowspan=\"5\" valign=\"top\">2024-07-19</th>\n",
       "      <th>003230</th>\n",
       "      <td>삼양식품</td>\n",
       "      <td>637000</td>\n",
       "      <td>5</td>\n",
       "      <td>5</td>\n",
       "      <td>0.227</td>\n",
       "      <td>0.222</td>\n",
       "    </tr>\n",
       "    <tr>\n",
       "      <th>267260</th>\n",
       "      <td>HD현대일렉트릭</td>\n",
       "      <td>314000</td>\n",
       "      <td>9</td>\n",
       "      <td>9</td>\n",
       "      <td>0.198</td>\n",
       "      <td>0.193</td>\n",
       "    </tr>\n",
       "    <tr>\n",
       "      <th>042700</th>\n",
       "      <td>한미반도체</td>\n",
       "      <td>149000</td>\n",
       "      <td>20</td>\n",
       "      <td>20</td>\n",
       "      <td>0.205</td>\n",
       "      <td>0.211</td>\n",
       "    </tr>\n",
       "    <tr>\n",
       "      <th>000150</th>\n",
       "      <td>두산</td>\n",
       "      <td>200000</td>\n",
       "      <td>13</td>\n",
       "      <td>13</td>\n",
       "      <td>0.189</td>\n",
       "      <td>0.187</td>\n",
       "    </tr>\n",
       "    <tr>\n",
       "      <th>010120</th>\n",
       "      <td>LS ELECTRIC</td>\n",
       "      <td>222000</td>\n",
       "      <td>12</td>\n",
       "      <td>12</td>\n",
       "      <td>0.181</td>\n",
       "      <td>0.187</td>\n",
       "    </tr>\n",
       "    <tr>\n",
       "      <th rowspan=\"7\" valign=\"top\">2024-08-22</th>\n",
       "      <th>267260</th>\n",
       "      <td>HD현대일렉트릭</td>\n",
       "      <td>318000</td>\n",
       "      <td>-1</td>\n",
       "      <td>8</td>\n",
       "      <td>0.192</td>\n",
       "      <td>0.184</td>\n",
       "    </tr>\n",
       "    <tr>\n",
       "      <th>003230</th>\n",
       "      <td>삼양식품</td>\n",
       "      <td>509000</td>\n",
       "      <td>1</td>\n",
       "      <td>6</td>\n",
       "      <td>0.217</td>\n",
       "      <td>0.223</td>\n",
       "    </tr>\n",
       "    <tr>\n",
       "      <th>012450</th>\n",
       "      <td>한화에어로스페이스</td>\n",
       "      <td>282500</td>\n",
       "      <td>10</td>\n",
       "      <td>10</td>\n",
       "      <td>0.206</td>\n",
       "      <td>0.206</td>\n",
       "    </tr>\n",
       "    <tr>\n",
       "      <th>079550</th>\n",
       "      <td>LIG넥스원</td>\n",
       "      <td>193000</td>\n",
       "      <td>14</td>\n",
       "      <td>14</td>\n",
       "      <td>0.199</td>\n",
       "      <td>0.197</td>\n",
       "    </tr>\n",
       "    <tr>\n",
       "      <th>042700</th>\n",
       "      <td>한미반도체</td>\n",
       "      <td>123100</td>\n",
       "      <td>1</td>\n",
       "      <td>21</td>\n",
       "      <td>0.186</td>\n",
       "      <td>0.189</td>\n",
       "    </tr>\n",
       "    <tr>\n",
       "      <th>000150</th>\n",
       "      <td>두산</td>\n",
       "      <td>147600</td>\n",
       "      <td>-13</td>\n",
       "      <td>0</td>\n",
       "      <td>0.0</td>\n",
       "      <td>0.0</td>\n",
       "    </tr>\n",
       "    <tr>\n",
       "      <th>010120</th>\n",
       "      <td>LS ELECTRIC</td>\n",
       "      <td>174400</td>\n",
       "      <td>-12</td>\n",
       "      <td>0</td>\n",
       "      <td>0.0</td>\n",
       "      <td>0.0</td>\n",
       "    </tr>\n",
       "    <tr>\n",
       "      <th rowspan=\"7\" valign=\"top\">2024-09-13</th>\n",
       "      <th>267260</th>\n",
       "      <td>HD현대일렉트릭</td>\n",
       "      <td>283500</td>\n",
       "      <td>0</td>\n",
       "      <td>8</td>\n",
       "      <td>0.197</td>\n",
       "      <td>0.201</td>\n",
       "    </tr>\n",
       "    <tr>\n",
       "      <th>003230</th>\n",
       "      <td>삼양식품</td>\n",
       "      <td>510000</td>\n",
       "      <td>-2</td>\n",
       "      <td>4</td>\n",
       "      <td>0.199</td>\n",
       "      <td>0.181</td>\n",
       "    </tr>\n",
       "    <tr>\n",
       "      <th>079550</th>\n",
       "      <td>LIG넥스원</td>\n",
       "      <td>207000</td>\n",
       "      <td>-3</td>\n",
       "      <td>11</td>\n",
       "      <td>0.198</td>\n",
       "      <td>0.202</td>\n",
       "    </tr>\n",
       "    <tr>\n",
       "      <th>036460</th>\n",
       "      <td>한국가스공사</td>\n",
       "      <td>46200</td>\n",
       "      <td>50</td>\n",
       "      <td>50</td>\n",
       "      <td>0.198</td>\n",
       "      <td>0.205</td>\n",
       "    </tr>\n",
       "    <tr>\n",
       "      <th>000100</th>\n",
       "      <td>유한양행</td>\n",
       "      <td>125000</td>\n",
       "      <td>19</td>\n",
       "      <td>19</td>\n",
       "      <td>0.208</td>\n",
       "      <td>0.211</td>\n",
       "    </tr>\n",
       "    <tr>\n",
       "      <th>012450</th>\n",
       "      <td>한화에어로스페이스</td>\n",
       "      <td>0</td>\n",
       "      <td>-10</td>\n",
       "      <td>0</td>\n",
       "      <td>0</td>\n",
       "      <td>0</td>\n",
       "    </tr>\n",
       "    <tr>\n",
       "      <th>042700</th>\n",
       "      <td>한미반도체</td>\n",
       "      <td>99500</td>\n",
       "      <td>-21</td>\n",
       "      <td>0</td>\n",
       "      <td>0</td>\n",
       "      <td>0</td>\n",
       "    </tr>\n",
       "    <tr>\n",
       "      <th rowspan=\"5\" valign=\"top\">2024-09-27</th>\n",
       "      <th>267260</th>\n",
       "      <td>HD현대일렉트릭</td>\n",
       "      <td>319500</td>\n",
       "      <td>0</td>\n",
       "      <td>8</td>\n",
       "      <td>NaN</td>\n",
       "      <td>0.210945</td>\n",
       "    </tr>\n",
       "    <tr>\n",
       "      <th>003230</th>\n",
       "      <td>삼양식품</td>\n",
       "      <td>538000</td>\n",
       "      <td>0</td>\n",
       "      <td>4</td>\n",
       "      <td>NaN</td>\n",
       "      <td>0.177603</td>\n",
       "    </tr>\n",
       "    <tr>\n",
       "      <th>079550</th>\n",
       "      <td>LIG넥스원</td>\n",
       "      <td>210500</td>\n",
       "      <td>0</td>\n",
       "      <td>11</td>\n",
       "      <td>NaN</td>\n",
       "      <td>0.191097</td>\n",
       "    </tr>\n",
       "    <tr>\n",
       "      <th>036460</th>\n",
       "      <td>한국가스공사</td>\n",
       "      <td>46350</td>\n",
       "      <td>0</td>\n",
       "      <td>50</td>\n",
       "      <td>NaN</td>\n",
       "      <td>0.191262</td>\n",
       "    </tr>\n",
       "    <tr>\n",
       "      <th>000100</th>\n",
       "      <td>유한양행</td>\n",
       "      <td>146100</td>\n",
       "      <td>0</td>\n",
       "      <td>19</td>\n",
       "      <td>NaN</td>\n",
       "      <td>0.229093</td>\n",
       "    </tr>\n",
       "  </tbody>\n",
       "</table>\n",
       "</div>"
      ],
      "text/plain": [
       "                          name   price  transaction  net weight   weight*\n",
       "date       asset                                                         \n",
       "2024-07-19 003230         삼양식품  637000            5    5  0.227     0.222\n",
       "           267260     HD현대일렉트릭  314000            9    9  0.198     0.193\n",
       "           042700        한미반도체  149000           20   20  0.205     0.211\n",
       "           000150           두산  200000           13   13  0.189     0.187\n",
       "           010120  LS ELECTRIC  222000           12   12  0.181     0.187\n",
       "2024-08-22 267260     HD현대일렉트릭  318000           -1    8  0.192     0.184\n",
       "           003230         삼양식품  509000            1    6  0.217     0.223\n",
       "           012450    한화에어로스페이스  282500           10   10  0.206     0.206\n",
       "           079550       LIG넥스원  193000           14   14  0.199     0.197\n",
       "           042700        한미반도체  123100            1   21  0.186     0.189\n",
       "           000150           두산  147600          -13    0    0.0       0.0\n",
       "           010120  LS ELECTRIC  174400          -12    0    0.0       0.0\n",
       "2024-09-13 267260     HD현대일렉트릭  283500            0    8  0.197     0.201\n",
       "           003230         삼양식품  510000           -2    4  0.199     0.181\n",
       "           079550       LIG넥스원  207000           -3   11  0.198     0.202\n",
       "           036460       한국가스공사   46200           50   50  0.198     0.205\n",
       "           000100         유한양행  125000           19   19  0.208     0.211\n",
       "           012450    한화에어로스페이스       0          -10    0      0         0\n",
       "           042700        한미반도체   99500          -21    0      0         0\n",
       "2024-09-27 267260     HD현대일렉트릭  319500            0    8    NaN  0.210945\n",
       "           003230         삼양식품  538000            0    4    NaN  0.177603\n",
       "           079550       LIG넥스원  210500            0   11    NaN  0.191097\n",
       "           036460       한국가스공사   46350            0   50    NaN  0.191262\n",
       "           000100         유한양행  146100            0   19    NaN  0.229093"
      ]
     },
     "execution_count": 42,
     "metadata": {},
     "output_type": "execute_result"
    }
   ],
   "source": [
    "pf_k200.record"
   ]
  },
  {
   "cell_type": "code",
   "execution_count": null,
   "id": "0d8dd948-2c1b-4f09-a4b1-b198f8bad980",
   "metadata": {},
   "outputs": [],
   "source": []
  },
  {
   "cell_type": "code",
   "execution_count": null,
   "id": "77b667cb-6c1e-4cab-ac0d-e2fc26bf4dd3",
   "metadata": {},
   "outputs": [],
   "source": []
  },
  {
   "cell_type": "markdown",
   "id": "7a1be394-8c31-4919-8546-f11f72034813",
   "metadata": {},
   "source": [
    "### testing ends"
   ]
  },
  {
   "cell_type": "code",
   "execution_count": null,
   "id": "34de2955-15ae-428a-80a5-fe863472e063",
   "metadata": {},
   "outputs": [],
   "source": []
  },
  {
   "cell_type": "code",
   "execution_count": null,
   "id": "b74770a4-d0a6-4332-b88d-3d0eac9a1bff",
   "metadata": {},
   "outputs": [],
   "source": []
  },
  {
   "cell_type": "markdown",
   "id": "c7cd959d-e330-4d8c-9f6b-a277b01e94f5",
   "metadata": {},
   "source": [
    "## ETF"
   ]
  },
  {
   "cell_type": "code",
   "execution_count": 31,
   "id": "28b212e9-bd21-47d4-b625-d49d1bef9eba",
   "metadata": {},
   "outputs": [
    {
     "name": "stdout",
     "output_type": "stream",
     "text": [
      "period reset: 2021-12-15 ~ 2024-09-26\n",
      "running self.util_check_days_in_year to check days in a year\n",
      "Transaction record to 2024-07-18 loaded\n",
      "Transaction dates updated for profit/loss on the dates\n"
     ]
    }
   ],
   "source": [
    "kwargs = dict(\n",
    "    name='ETF6',\n",
    "    file='pf_etf_static.csv',\n",
    "    method_weigh='Equally', lookback=12, lag=5,\n",
    "    path=path_tran,\n",
    "    days_in_year=246,\n",
    "    asset_names=assetnames_etf,\n",
    ")\n",
    "\n",
    "pf_etf = StaticPortfolio(df_etf, **kwargs)"
   ]
  },
  {
   "cell_type": "code",
   "execution_count": 32,
   "id": "2f2046bd-5dbb-43c1-a730-2db9cfff293a",
   "metadata": {},
   "outputs": [
    {
     "name": "stdout",
     "output_type": "stream",
     "text": [
      "Value 9,663,322, Profit -1.6% on 2024-09-26\n"
     ]
    },
    {
     "data": {
      "image/png": "[encoded data removed]",
      "text/plain": [
       "<Figure size 1000x400 with 2 Axes>"
      ]
     },
     "metadata": {},
     "output_type": "display_data"
    }
   ],
   "source": [
    "pf_etf.calc_value()"
   ]
  },
  {
   "cell_type": "code",
   "execution_count": 33,
   "id": "74abca3f-6864-4a0d-a760-ac41728e35b6",
   "metadata": {},
   "outputs": [
    {
     "data": {
      "text/html": [
       "<div>\n",
       "<style scoped>\n",
       "    .dataframe tbody tr th:only-of-type {\n",
       "        vertical-align: middle;\n",
       "    }\n",
       "\n",
       "    .dataframe tbody tr th {\n",
       "        vertical-align: top;\n",
       "    }\n",
       "\n",
       "    .dataframe thead th {\n",
       "        text-align: right;\n",
       "    }\n",
       "</style>\n",
       "<table border=\"1\" class=\"dataframe\">\n",
       "  <thead>\n",
       "    <tr style=\"text-align: right;\">\n",
       "      <th></th>\n",
       "      <th>ETF6</th>\n",
       "    </tr>\n",
       "  </thead>\n",
       "  <tbody>\n",
       "    <tr>\n",
       "      <th>start</th>\n",
       "      <td>2024-07-17</td>\n",
       "    </tr>\n",
       "    <tr>\n",
       "      <th>end</th>\n",
       "      <td>2024-09-26</td>\n",
       "    </tr>\n",
       "    <tr>\n",
       "      <th>total_return</th>\n",
       "      <td>-0.015949</td>\n",
       "    </tr>\n",
       "    <tr>\n",
       "      <th>cagr</th>\n",
       "      <td>-0.079381</td>\n",
       "    </tr>\n",
       "    <tr>\n",
       "      <th>calmar</th>\n",
       "      <td>-1.807703</td>\n",
       "    </tr>\n",
       "    <tr>\n",
       "      <th>max_drawdown</th>\n",
       "      <td>-0.043912</td>\n",
       "    </tr>\n",
       "    <tr>\n",
       "      <th>avg_drawdown</th>\n",
       "      <td>-0.043912</td>\n",
       "    </tr>\n",
       "    <tr>\n",
       "      <th>avg_drawdown_days</th>\n",
       "      <td>70.0</td>\n",
       "    </tr>\n",
       "    <tr>\n",
       "      <th>daily_vol</th>\n",
       "      <td>0.087956</td>\n",
       "    </tr>\n",
       "    <tr>\n",
       "      <th>daily_sharpe</th>\n",
       "      <td>-0.936548</td>\n",
       "    </tr>\n",
       "    <tr>\n",
       "      <th>daily_sortino</th>\n",
       "      <td>-1.21466</td>\n",
       "    </tr>\n",
       "    <tr>\n",
       "      <th>monthly_vol</th>\n",
       "      <td>0.054291</td>\n",
       "    </tr>\n",
       "    <tr>\n",
       "      <th>monthly_sharpe</th>\n",
       "      <td>-0.016041</td>\n",
       "    </tr>\n",
       "    <tr>\n",
       "      <th>monthly_sortino</th>\n",
       "      <td>-0.031873</td>\n",
       "    </tr>\n",
       "  </tbody>\n",
       "</table>\n",
       "</div>"
      ],
      "text/plain": [
       "                         ETF6\n",
       "start              2024-07-17\n",
       "end                2024-09-26\n",
       "total_return        -0.015949\n",
       "cagr                -0.079381\n",
       "calmar              -1.807703\n",
       "max_drawdown        -0.043912\n",
       "avg_drawdown        -0.043912\n",
       "avg_drawdown_days        70.0\n",
       "daily_vol            0.087956\n",
       "daily_sharpe        -0.936548\n",
       "daily_sortino        -1.21466\n",
       "monthly_vol          0.054291\n",
       "monthly_sharpe      -0.016041\n",
       "monthly_sortino     -0.031873"
      ]
     },
     "execution_count": 33,
     "metadata": {},
     "output_type": "execute_result"
    }
   ],
   "source": [
    "pf_etf.performance(metrics=metrics)"
   ]
  },
  {
   "cell_type": "code",
   "execution_count": 28,
   "id": "d05fbd06-1222-431d-8fc9-6c385c40f20c",
   "metadata": {},
   "outputs": [
    {
     "data": {
      "application/vnd.jupyter.widget-view+json": {
       "model_id": "20b829bee59f4be78dba21a41275f48e",
       "version_major": 2,
       "version_minor": 0
      },
      "text/plain": [
       "VBox(children=(DatePicker(value=None, layout=Layout(width='200px'), step=1), IntSlider(value=0, continuous_upd…"
      ]
     },
     "execution_count": 28,
     "metadata": {},
     "output_type": "execute_result"
    }
   ],
   "source": [
    "# set kwargs of transaction_pipeline\n",
    "WidgetTransaction"
   ]
  },
  {
   "cell_type": "code",
   "execution_count": 34,
   "id": "1a593c5d-812f-4f2e-81b4-6ecc7f97e65f",
   "metadata": {},
   "outputs": [
    {
     "name": "stdout",
     "output_type": "stream",
     "text": [
      "Liquidation set to None\n",
      "6 assets from 2023-09-21 to 2024-09-20 prepared for weight analysis\n",
      "Weights of assets determined by Equal weights.\n",
      "Mean absolute error of weights: 1 %\n",
      "Value 9,687,760, Profit -1.3%\n",
      "Set save=True to save transaction record\n"
     ]
    },
    {
     "data": {
      "text/html": [
       "<div>\n",
       "<style scoped>\n",
       "    .dataframe tbody tr th:only-of-type {\n",
       "        vertical-align: middle;\n",
       "    }\n",
       "\n",
       "    .dataframe tbody tr th {\n",
       "        vertical-align: top;\n",
       "    }\n",
       "\n",
       "    .dataframe thead th {\n",
       "        text-align: right;\n",
       "    }\n",
       "</style>\n",
       "<table border=\"1\" class=\"dataframe\">\n",
       "  <thead>\n",
       "    <tr style=\"text-align: right;\">\n",
       "      <th></th>\n",
       "      <th></th>\n",
       "      <th>name</th>\n",
       "      <th>price</th>\n",
       "      <th>transaction</th>\n",
       "      <th>net</th>\n",
       "      <th>weight</th>\n",
       "      <th>weight*</th>\n",
       "    </tr>\n",
       "    <tr>\n",
       "      <th>date</th>\n",
       "      <th>asset</th>\n",
       "      <th></th>\n",
       "      <th></th>\n",
       "      <th></th>\n",
       "      <th></th>\n",
       "      <th></th>\n",
       "      <th></th>\n",
       "    </tr>\n",
       "  </thead>\n",
       "  <tbody>\n",
       "    <tr>\n",
       "      <th rowspan=\"6\" valign=\"top\">2024-07-17</th>\n",
       "      <th>069500</th>\n",
       "      <td>KODEX 200</td>\n",
       "      <td>39085</td>\n",
       "      <td>42</td>\n",
       "      <td>42</td>\n",
       "      <td>0.167</td>\n",
       "      <td>0.167</td>\n",
       "    </tr>\n",
       "    <tr>\n",
       "      <th>273130</th>\n",
       "      <td>KODEX 종합채권(AA-이상)액티브</td>\n",
       "      <td>112895</td>\n",
       "      <td>14</td>\n",
       "      <td>14</td>\n",
       "      <td>0.167</td>\n",
       "      <td>0.161</td>\n",
       "    </tr>\n",
       "    <tr>\n",
       "      <th>148070</th>\n",
       "      <td>KOSEF 국고채10년</td>\n",
       "      <td>114910</td>\n",
       "      <td>14</td>\n",
       "      <td>14</td>\n",
       "      <td>0.167</td>\n",
       "      <td>0.164</td>\n",
       "    </tr>\n",
       "    <tr>\n",
       "      <th>379800</th>\n",
       "      <td>KODEX 미국S&amp;P500TR</td>\n",
       "      <td>17625</td>\n",
       "      <td>94</td>\n",
       "      <td>94</td>\n",
       "      <td>0.167</td>\n",
       "      <td>0.169</td>\n",
       "    </tr>\n",
       "    <tr>\n",
       "      <th>411060</th>\n",
       "      <td>ACE KRX금현물</td>\n",
       "      <td>15715</td>\n",
       "      <td>106</td>\n",
       "      <td>106</td>\n",
       "      <td>0.167</td>\n",
       "      <td>0.17</td>\n",
       "    </tr>\n",
       "    <tr>\n",
       "      <th>284430</th>\n",
       "      <td>KODEX 200미국채혼합</td>\n",
       "      <td>13440</td>\n",
       "      <td>124</td>\n",
       "      <td>124</td>\n",
       "      <td>0.167</td>\n",
       "      <td>0.17</td>\n",
       "    </tr>\n",
       "    <tr>\n",
       "      <th rowspan=\"6\" valign=\"top\">2024-09-26</th>\n",
       "      <th>069500</th>\n",
       "      <td>KODEX 200</td>\n",
       "      <td>35680</td>\n",
       "      <td>3</td>\n",
       "      <td>45</td>\n",
       "      <td>0.167</td>\n",
       "      <td>0.165</td>\n",
       "    </tr>\n",
       "    <tr>\n",
       "      <th>273130</th>\n",
       "      <td>KODEX 종합채권(AA-이상)액티브</td>\n",
       "      <td>114300</td>\n",
       "      <td>0</td>\n",
       "      <td>14</td>\n",
       "      <td>0.167</td>\n",
       "      <td>0.165</td>\n",
       "    </tr>\n",
       "    <tr>\n",
       "      <th>148070</th>\n",
       "      <td>KOSEF 국고채10년</td>\n",
       "      <td>116625</td>\n",
       "      <td>0</td>\n",
       "      <td>14</td>\n",
       "      <td>0.167</td>\n",
       "      <td>0.168</td>\n",
       "    </tr>\n",
       "    <tr>\n",
       "      <th>379800</th>\n",
       "      <td>KODEX 미국S&amp;P500TR</td>\n",
       "      <td>17425</td>\n",
       "      <td>-1</td>\n",
       "      <td>93</td>\n",
       "      <td>0.167</td>\n",
       "      <td>0.167</td>\n",
       "    </tr>\n",
       "    <tr>\n",
       "      <th>411060</th>\n",
       "      <td>ACE KRX금현물</td>\n",
       "      <td>16220</td>\n",
       "      <td>-6</td>\n",
       "      <td>100</td>\n",
       "      <td>0.167</td>\n",
       "      <td>0.167</td>\n",
       "    </tr>\n",
       "    <tr>\n",
       "      <th>284430</th>\n",
       "      <td>KODEX 200미국채혼합</td>\n",
       "      <td>12895</td>\n",
       "      <td>2</td>\n",
       "      <td>126</td>\n",
       "      <td>0.167</td>\n",
       "      <td>0.167</td>\n",
       "    </tr>\n",
       "  </tbody>\n",
       "</table>\n",
       "</div>"
      ],
      "text/plain": [
       "                                   name   price  transaction  net weight  \\\n",
       "date       asset                                                           \n",
       "2024-07-17 069500             KODEX 200   39085           42   42  0.167   \n",
       "           273130  KODEX 종합채권(AA-이상)액티브  112895           14   14  0.167   \n",
       "           148070          KOSEF 국고채10년  114910           14   14  0.167   \n",
       "           379800      KODEX 미국S&P500TR   17625           94   94  0.167   \n",
       "           411060            ACE KRX금현물   15715          106  106  0.167   \n",
       "           284430        KODEX 200미국채혼합   13440          124  124  0.167   \n",
       "2024-09-26 069500             KODEX 200   35680            3   45  0.167   \n",
       "           273130  KODEX 종합채권(AA-이상)액티브  114300            0   14  0.167   \n",
       "           148070          KOSEF 국고채10년  116625            0   14  0.167   \n",
       "           379800      KODEX 미국S&P500TR   17425           -1   93  0.167   \n",
       "           411060            ACE KRX금현물   16220           -6  100  0.167   \n",
       "           284430        KODEX 200미국채혼합   12895            2  126  0.167   \n",
       "\n",
       "                  weight*  \n",
       "date       asset           \n",
       "2024-07-17 069500   0.167  \n",
       "           273130   0.161  \n",
       "           148070   0.164  \n",
       "           379800   0.169  \n",
       "           411060    0.17  \n",
       "           284430    0.17  \n",
       "2024-09-26 069500   0.165  \n",
       "           273130   0.165  \n",
       "           148070   0.168  \n",
       "           379800   0.167  \n",
       "           411060   0.167  \n",
       "           284430   0.167  "
      ]
     },
     "execution_count": 34,
     "metadata": {},
     "output_type": "execute_result"
    }
   ],
   "source": [
    "kwargs = dict(\n",
    "    date = WidgetTransaction.values(0),\n",
    "    capital = WidgetTransaction.values(1),\n",
    "    save = WidgetTransaction.values(2)\n",
    ")\n",
    "pf_etf.transaction_pipeline(**kwargs)"
   ]
  },
  {
   "cell_type": "code",
   "execution_count": 21,
   "id": "75ecc717-a7e5-4ef6-acdf-1f7980833064",
   "metadata": {},
   "outputs": [],
   "source": [
    "df_pf = df_pf.to_frame().join(pf_etf.get_historical(), how='outer')"
   ]
  },
  {
   "cell_type": "markdown",
   "id": "5cb5a3a2-0bbe-4f0c-adcf-49a72186ee99",
   "metadata": {},
   "source": [
    "## IRP"
   ]
  },
  {
   "cell_type": "code",
   "execution_count": 40,
   "id": "bc90a2f2-946a-4427-8ea2-4b1bb805f321",
   "metadata": {},
   "outputs": [],
   "source": [
    "choice = ['K55301BU6139', 'K55206C95800']"
   ]
  },
  {
   "cell_type": "code",
   "execution_count": 41,
   "id": "f68c42e4-7d44-4394-a3b9-d32e3e7f6fe1",
   "metadata": {},
   "outputs": [
    {
     "name": "stdout",
     "output_type": "stream",
     "text": [
      "period reset: 2018-07-26 ~ 2024-08-25\n",
      "running self.util_check_days_in_year to check days in a year\n",
      "Transaction record to 2024-06-19 loaded\n",
      "Transaction dates updated for profit/loss on the dates\n"
     ]
    },
    {
     "data": {
      "text/html": [
       "<div>\n",
       "<style scoped>\n",
       "    .dataframe tbody tr th:only-of-type {\n",
       "        vertical-align: middle;\n",
       "    }\n",
       "\n",
       "    .dataframe tbody tr th {\n",
       "        vertical-align: top;\n",
       "    }\n",
       "\n",
       "    .dataframe thead th {\n",
       "        text-align: right;\n",
       "    }\n",
       "</style>\n",
       "<table border=\"1\" class=\"dataframe\">\n",
       "  <thead>\n",
       "    <tr style=\"text-align: right;\">\n",
       "      <th></th>\n",
       "      <th></th>\n",
       "      <th>name</th>\n",
       "      <th>price</th>\n",
       "      <th>transaction</th>\n",
       "      <th>net</th>\n",
       "      <th>weight</th>\n",
       "      <th>weight*</th>\n",
       "    </tr>\n",
       "    <tr>\n",
       "      <th>date</th>\n",
       "      <th>asset</th>\n",
       "      <th></th>\n",
       "      <th></th>\n",
       "      <th></th>\n",
       "      <th></th>\n",
       "      <th></th>\n",
       "      <th></th>\n",
       "    </tr>\n",
       "  </thead>\n",
       "  <tbody>\n",
       "    <tr>\n",
       "      <th rowspan=\"2\" valign=\"top\">2024-06-18</th>\n",
       "      <th>K55301BU6139</th>\n",
       "      <td>미래에셋전략배분TDF2035혼합자산자투자신탁종류C-P2e</td>\n",
       "      <td>1595</td>\n",
       "      <td>3132</td>\n",
       "      <td>3132</td>\n",
       "      <td>0.5</td>\n",
       "      <td>0.5</td>\n",
       "    </tr>\n",
       "    <tr>\n",
       "      <th>K55206C95800</th>\n",
       "      <td>키움키워드림TDF2030증권투자신탁 1[혼합-재간접형]C-P2e(퇴직연금)</td>\n",
       "      <td>1367</td>\n",
       "      <td>3657</td>\n",
       "      <td>3657</td>\n",
       "      <td>0.5</td>\n",
       "      <td>0.5</td>\n",
       "    </tr>\n",
       "  </tbody>\n",
       "</table>\n",
       "</div>"
      ],
      "text/plain": [
       "                                                              name  price  \\\n",
       "date       asset                                                            \n",
       "2024-06-18 K55301BU6139            미래에셋전략배분TDF2035혼합자산자투자신탁종류C-P2e   1595   \n",
       "           K55206C95800  키움키워드림TDF2030증권투자신탁 1[혼합-재간접형]C-P2e(퇴직연금)   1367   \n",
       "\n",
       "                         transaction   net  weight  weight*  \n",
       "date       asset                                             \n",
       "2024-06-18 K55301BU6139         3132  3132     0.5      0.5  \n",
       "           K55206C95800         3657  3657     0.5      0.5  "
      ]
     },
     "execution_count": 41,
     "metadata": {},
     "output_type": "execute_result"
    }
   ],
   "source": [
    "kwargs = dict(\n",
    "    name='TDF2',\n",
    "    file='pf_tdf_static.csv',\n",
    "    lookback=12, lag=5,\n",
    "    path=path_tran,\n",
    "    days_in_year=365,\n",
    "    asset_names=assetnames_irp,\n",
    ")\n",
    "\n",
    "pf_irp = StaticPortfolio(df_irp[choice], **kwargs)\n",
    "pf_irp.record"
   ]
  },
  {
   "cell_type": "code",
   "execution_count": 42,
   "id": "6f173f64-8137-4a01-a831-259619987813",
   "metadata": {},
   "outputs": [
    {
     "name": "stdout",
     "output_type": "stream",
     "text": [
      "Value 10,017,859, Profit 0.2% on 2024-08-25\n"
     ]
    },
    {
     "data": {
      "image/png": "[encoded data removed]",
      "text/plain": [
       "<Figure size 1000x400 with 2 Axes>"
      ]
     },
     "metadata": {},
     "output_type": "display_data"
    }
   ],
   "source": [
    "pf_irp.calc_value()"
   ]
  },
  {
   "cell_type": "code",
   "execution_count": 28,
   "id": "cbdb9f74-d8b7-4c82-8b48-327fc7472773",
   "metadata": {},
   "outputs": [
    {
     "data": {
      "application/vnd.jupyter.widget-view+json": {
       "model_id": "20b829bee59f4be78dba21a41275f48e",
       "version_major": 2,
       "version_minor": 0
      },
      "text/plain": [
       "VBox(children=(DatePicker(value=None, layout=Layout(width='200px'), step=1), IntSlider(value=0, continuous_upd…"
      ]
     },
     "execution_count": 28,
     "metadata": {},
     "output_type": "execute_result"
    }
   ],
   "source": [
    "# set kwargs of transaction_pipeline\n",
    "WidgetTransaction"
   ]
  },
  {
   "cell_type": "code",
   "execution_count": 43,
   "id": "b0d8203a-f1f9-4979-a126-0142aa20efd8",
   "metadata": {},
   "outputs": [
    {
     "name": "stdout",
     "output_type": "stream",
     "text": [
      "Liquidation set to None\n",
      "2 assets from 2023-08-20 to 2024-08-20 prepared for weight analysis\n",
      "Weights of assets determined by Equal weights.\n",
      "Mean absolute error of weights: 0 %\n",
      "Value 9,979,035, Profit -0.2%\n",
      "Set save=True to save transaction record\n"
     ]
    },
    {
     "data": {
      "text/html": [
       "<div>\n",
       "<style scoped>\n",
       "    .dataframe tbody tr th:only-of-type {\n",
       "        vertical-align: middle;\n",
       "    }\n",
       "\n",
       "    .dataframe tbody tr th {\n",
       "        vertical-align: top;\n",
       "    }\n",
       "\n",
       "    .dataframe thead th {\n",
       "        text-align: right;\n",
       "    }\n",
       "</style>\n",
       "<table border=\"1\" class=\"dataframe\">\n",
       "  <thead>\n",
       "    <tr style=\"text-align: right;\">\n",
       "      <th></th>\n",
       "      <th></th>\n",
       "      <th>name</th>\n",
       "      <th>price</th>\n",
       "      <th>transaction</th>\n",
       "      <th>net</th>\n",
       "      <th>weight</th>\n",
       "      <th>weight*</th>\n",
       "    </tr>\n",
       "    <tr>\n",
       "      <th>date</th>\n",
       "      <th>asset</th>\n",
       "      <th></th>\n",
       "      <th></th>\n",
       "      <th></th>\n",
       "      <th></th>\n",
       "      <th></th>\n",
       "      <th></th>\n",
       "    </tr>\n",
       "  </thead>\n",
       "  <tbody>\n",
       "    <tr>\n",
       "      <th rowspan=\"2\" valign=\"top\">2024-06-18</th>\n",
       "      <th>K55301BU6139</th>\n",
       "      <td>미래에셋전략배분TDF2035혼합자산자투자신탁종류C-P2e</td>\n",
       "      <td>1595</td>\n",
       "      <td>3132</td>\n",
       "      <td>3132</td>\n",
       "      <td>0.5</td>\n",
       "      <td>0.5</td>\n",
       "    </tr>\n",
       "    <tr>\n",
       "      <th>K55206C95800</th>\n",
       "      <td>키움키워드림TDF2030증권투자신탁 1[혼합-재간접형]C-P2e(퇴직연금)</td>\n",
       "      <td>1367</td>\n",
       "      <td>3657</td>\n",
       "      <td>3657</td>\n",
       "      <td>0.5</td>\n",
       "      <td>0.5</td>\n",
       "    </tr>\n",
       "    <tr>\n",
       "      <th rowspan=\"2\" valign=\"top\">2024-08-25</th>\n",
       "      <th>K55301BU6139</th>\n",
       "      <td>미래에셋전략배분TDF2035혼합자산자투자신탁종류C-P2e</td>\n",
       "      <td>1576</td>\n",
       "      <td>37</td>\n",
       "      <td>3169</td>\n",
       "      <td>0.500</td>\n",
       "      <td>0.500</td>\n",
       "    </tr>\n",
       "    <tr>\n",
       "      <th>K55206C95800</th>\n",
       "      <td>키움키워드림TDF2030증권투자신탁 1[혼합-재간접형]C-P2e(퇴직연금)</td>\n",
       "      <td>1379</td>\n",
       "      <td>-36</td>\n",
       "      <td>3621</td>\n",
       "      <td>0.500</td>\n",
       "      <td>0.500</td>\n",
       "    </tr>\n",
       "  </tbody>\n",
       "</table>\n",
       "</div>"
      ],
      "text/plain": [
       "                                                              name  price  \\\n",
       "date       asset                                                            \n",
       "2024-06-18 K55301BU6139            미래에셋전략배분TDF2035혼합자산자투자신탁종류C-P2e   1595   \n",
       "           K55206C95800  키움키워드림TDF2030증권투자신탁 1[혼합-재간접형]C-P2e(퇴직연금)   1367   \n",
       "2024-08-25 K55301BU6139            미래에셋전략배분TDF2035혼합자산자투자신탁종류C-P2e   1576   \n",
       "           K55206C95800  키움키워드림TDF2030증권투자신탁 1[혼합-재간접형]C-P2e(퇴직연금)   1379   \n",
       "\n",
       "                         transaction   net weight weight*  \n",
       "date       asset                                           \n",
       "2024-06-18 K55301BU6139         3132  3132    0.5     0.5  \n",
       "           K55206C95800         3657  3657    0.5     0.5  \n",
       "2024-08-25 K55301BU6139           37  3169  0.500   0.500  \n",
       "           K55206C95800          -36  3621  0.500   0.500  "
      ]
     },
     "execution_count": 43,
     "metadata": {},
     "output_type": "execute_result"
    }
   ],
   "source": [
    "kwargs = dict(\n",
    "    method_weigh = 'Equally', \n",
    "    date = WidgetTransaction.values(0),\n",
    "    capital = WidgetTransaction.values(1),\n",
    "    save = WidgetTransaction.values(2)\n",
    ")\n",
    "pf_irp.transaction_pipeline(**kwargs)"
   ]
  },
  {
   "cell_type": "code",
   "execution_count": 39,
   "id": "b86d91f9-881d-4655-ab82-2f7b7bf7c4da",
   "metadata": {},
   "outputs": [
    {
     "data": {
      "image/png": "[encoded data removed]",
      "text/plain": [
       "<Figure size 1000x400 with 2 Axes>"
      ]
     },
     "metadata": {},
     "output_type": "display_data"
    }
   ],
   "source": [
    "pf_irp.plot()"
   ]
  },
  {
   "cell_type": "code",
   "execution_count": 33,
   "id": "6b0e5105-b09c-4e98-85b1-402d5cd21f61",
   "metadata": {},
   "outputs": [
    {
     "data": {
      "text/html": [
       "<div>\n",
       "<style scoped>\n",
       "    .dataframe tbody tr th:only-of-type {\n",
       "        vertical-align: middle;\n",
       "    }\n",
       "\n",
       "    .dataframe tbody tr th {\n",
       "        vertical-align: top;\n",
       "    }\n",
       "\n",
       "    .dataframe thead th {\n",
       "        text-align: right;\n",
       "    }\n",
       "</style>\n",
       "<table border=\"1\" class=\"dataframe\">\n",
       "  <thead>\n",
       "    <tr style=\"text-align: right;\">\n",
       "      <th></th>\n",
       "      <th>TDF2</th>\n",
       "    </tr>\n",
       "  </thead>\n",
       "  <tbody>\n",
       "    <tr>\n",
       "      <th>start</th>\n",
       "      <td>2024-06-18</td>\n",
       "    </tr>\n",
       "    <tr>\n",
       "      <th>end</th>\n",
       "      <td>2024-07-22</td>\n",
       "    </tr>\n",
       "    <tr>\n",
       "      <th>total_return</th>\n",
       "      <td>0.005385</td>\n",
       "    </tr>\n",
       "    <tr>\n",
       "      <th>cagr</th>\n",
       "      <td>0.059393</td>\n",
       "    </tr>\n",
       "    <tr>\n",
       "      <th>calmar</th>\n",
       "      <td>3.090541</td>\n",
       "    </tr>\n",
       "    <tr>\n",
       "      <th>max_drawdown</th>\n",
       "      <td>-0.019218</td>\n",
       "    </tr>\n",
       "    <tr>\n",
       "      <th>avg_drawdown</th>\n",
       "      <td>-0.011809</td>\n",
       "    </tr>\n",
       "    <tr>\n",
       "      <th>avg_drawdown_days</th>\n",
       "      <td>8.5</td>\n",
       "    </tr>\n",
       "    <tr>\n",
       "      <th>daily_vol</th>\n",
       "      <td>0.042799</td>\n",
       "    </tr>\n",
       "    <tr>\n",
       "      <th>daily_sharpe</th>\n",
       "      <td>0.950972</td>\n",
       "    </tr>\n",
       "    <tr>\n",
       "      <th>daily_sortino</th>\n",
       "      <td>1.284183</td>\n",
       "    </tr>\n",
       "    <tr>\n",
       "      <th>monthly_vol</th>\n",
       "      <td>NaN</td>\n",
       "    </tr>\n",
       "    <tr>\n",
       "      <th>monthly_sharpe</th>\n",
       "      <td>NaN</td>\n",
       "    </tr>\n",
       "    <tr>\n",
       "      <th>monthly_sortino</th>\n",
       "      <td>NaN</td>\n",
       "    </tr>\n",
       "  </tbody>\n",
       "</table>\n",
       "</div>"
      ],
      "text/plain": [
       "                         TDF2\n",
       "start              2024-06-18\n",
       "end                2024-07-22\n",
       "total_return         0.005385\n",
       "cagr                 0.059393\n",
       "calmar               3.090541\n",
       "max_drawdown        -0.019218\n",
       "avg_drawdown        -0.011809\n",
       "avg_drawdown_days         8.5\n",
       "daily_vol            0.042799\n",
       "daily_sharpe         0.950972\n",
       "daily_sortino        1.284183\n",
       "monthly_vol               NaN\n",
       "monthly_sharpe            NaN\n",
       "monthly_sortino           NaN"
      ]
     },
     "execution_count": 33,
     "metadata": {},
     "output_type": "execute_result"
    }
   ],
   "source": [
    "pf_irp.performance(metrics=metrics)"
   ]
  },
  {
   "cell_type": "code",
   "execution_count": 34,
   "id": "3c4f4017-c044-45f2-b08b-4b4149b59576",
   "metadata": {},
   "outputs": [
    {
     "data": {
      "text/html": [
       "<div>\n",
       "<style scoped>\n",
       "    .dataframe tbody tr th:only-of-type {\n",
       "        vertical-align: middle;\n",
       "    }\n",
       "\n",
       "    .dataframe tbody tr th {\n",
       "        vertical-align: top;\n",
       "    }\n",
       "\n",
       "    .dataframe thead th {\n",
       "        text-align: right;\n",
       "    }\n",
       "</style>\n",
       "<table border=\"1\" class=\"dataframe\">\n",
       "  <thead>\n",
       "    <tr style=\"text-align: right;\">\n",
       "      <th></th>\n",
       "      <th>KOSPI Momentum</th>\n",
       "      <th>ETF6</th>\n",
       "      <th>TDF2</th>\n",
       "    </tr>\n",
       "  </thead>\n",
       "  <tbody>\n",
       "    <tr>\n",
       "      <th>2024-07-18</th>\n",
       "      <td>NaN</td>\n",
       "      <td>9788950.0</td>\n",
       "      <td>1.020846e+07</td>\n",
       "    </tr>\n",
       "    <tr>\n",
       "      <th>2024-07-19</th>\n",
       "      <td>14255000.0</td>\n",
       "      <td>9729050.0</td>\n",
       "      <td>1.014225e+07</td>\n",
       "    </tr>\n",
       "    <tr>\n",
       "      <th>2024-07-20</th>\n",
       "      <td>NaN</td>\n",
       "      <td>NaN</td>\n",
       "      <td>1.014225e+07</td>\n",
       "    </tr>\n",
       "    <tr>\n",
       "      <th>2024-07-21</th>\n",
       "      <td>NaN</td>\n",
       "      <td>NaN</td>\n",
       "      <td>1.014225e+07</td>\n",
       "    </tr>\n",
       "    <tr>\n",
       "      <th>2024-07-22</th>\n",
       "      <td>13880500.0</td>\n",
       "      <td>9717710.0</td>\n",
       "      <td>1.004848e+07</td>\n",
       "    </tr>\n",
       "  </tbody>\n",
       "</table>\n",
       "</div>"
      ],
      "text/plain": [
       "            KOSPI Momentum       ETF6          TDF2\n",
       "2024-07-18             NaN  9788950.0  1.020846e+07\n",
       "2024-07-19      14255000.0  9729050.0  1.014225e+07\n",
       "2024-07-20             NaN        NaN  1.014225e+07\n",
       "2024-07-21             NaN        NaN  1.014225e+07\n",
       "2024-07-22      13880500.0  9717710.0  1.004848e+07"
      ]
     },
     "execution_count": 34,
     "metadata": {},
     "output_type": "execute_result"
    }
   ],
   "source": [
    "df_pf = df_pf.join(pf_irp.get_historical(), how='outer')\n",
    "df_pf.tail()"
   ]
  },
  {
   "cell_type": "markdown",
   "id": "f86d2f0d-9368-4db8-a1af-6f767f32d2ca",
   "metadata": {},
   "source": [
    "## HANA"
   ]
  },
  {
   "cell_type": "code",
   "execution_count": 44,
   "id": "5e621eb1-e8d7-4b56-89ac-ab9ef7f56a10",
   "metadata": {},
   "outputs": [
    {
     "name": "stdout",
     "output_type": "stream",
     "text": [
      "period reset: 2019-10-31 ~ 2024-07-31\n",
      "running self.util_check_days_in_year to check days in a year\n",
      "WARNING: the number of days in a year with followings is 12 in avg.:\n",
      "KR5101888398: 12\n",
      "KR5236AS4826: 12\n",
      "KR5370AP9956: 12\n",
      "K55306CV9946: 12\n",
      "Transaction record to 2024-07-31 loaded\n",
      "Transaction dates updated for profit/loss on the dates\n"
     ]
    }
   ],
   "source": [
    "kwargs = dict(\n",
    "    name='HANA4',\n",
    "    file='pf_hana_static.csv',\n",
    "    method_weigh='InvVol', lookback=12, lag=5,\n",
    "    path=path_tran,\n",
    "    days_in_year=365,\n",
    "    asset_names=assetnames_hana,\n",
    ")\n",
    "\n",
    "pf_hana = StaticPortfolio(df_hana, **kwargs)"
   ]
  },
  {
   "cell_type": "code",
   "execution_count": 45,
   "id": "01ec254d-f913-4bdd-97d2-574bc55b45a0",
   "metadata": {},
   "outputs": [
    {
     "name": "stdout",
     "output_type": "stream",
     "text": [
      "Value 10,028,037, Profit 0.4% on 2024-07-31\n"
     ]
    },
    {
     "data": {
      "image/png": "[encoded data removed]",
      "text/plain": [
       "<Figure size 1000x400 with 2 Axes>"
      ]
     },
     "metadata": {},
     "output_type": "display_data"
    }
   ],
   "source": [
    "pf_hana.calc_value()"
   ]
  },
  {
   "cell_type": "code",
   "execution_count": 28,
   "id": "d53b2aad-17ae-47ba-ab04-81dd385692b5",
   "metadata": {},
   "outputs": [
    {
     "data": {
      "application/vnd.jupyter.widget-view+json": {
       "model_id": "20b829bee59f4be78dba21a41275f48e",
       "version_major": 2,
       "version_minor": 0
      },
      "text/plain": [
       "VBox(children=(DatePicker(value=None, layout=Layout(width='200px'), step=1), IntSlider(value=0, continuous_upd…"
      ]
     },
     "execution_count": 28,
     "metadata": {},
     "output_type": "execute_result"
    }
   ],
   "source": [
    "# set kwargs of transaction_pipeline\n",
    "WidgetTransaction"
   ]
  },
  {
   "cell_type": "code",
   "execution_count": 46,
   "id": "13999c3b-6dac-4b53-92dc-d6abb31f2cbb",
   "metadata": {},
   "outputs": [
    {
     "name": "stdout",
     "output_type": "stream",
     "text": [
      "Liquidation set to None\n",
      "4 assets from 2023-07-31 to 2024-06-28 prepared for weight analysis\n",
      "ERROR: check the date as no new transaction\n",
      "The profit from the most recent transaction: 0\n"
     ]
    },
    {
     "data": {
      "text/html": [
       "<div>\n",
       "<style scoped>\n",
       "    .dataframe tbody tr th:only-of-type {\n",
       "        vertical-align: middle;\n",
       "    }\n",
       "\n",
       "    .dataframe tbody tr th {\n",
       "        vertical-align: top;\n",
       "    }\n",
       "\n",
       "    .dataframe thead th {\n",
       "        text-align: right;\n",
       "    }\n",
       "</style>\n",
       "<table border=\"1\" class=\"dataframe\">\n",
       "  <thead>\n",
       "    <tr style=\"text-align: right;\">\n",
       "      <th></th>\n",
       "      <th></th>\n",
       "      <th>name</th>\n",
       "      <th>price</th>\n",
       "      <th>transaction</th>\n",
       "      <th>net</th>\n",
       "      <th>weight</th>\n",
       "      <th>weight*</th>\n",
       "    </tr>\n",
       "    <tr>\n",
       "      <th>date</th>\n",
       "      <th>asset</th>\n",
       "      <th></th>\n",
       "      <th></th>\n",
       "      <th></th>\n",
       "      <th></th>\n",
       "      <th></th>\n",
       "      <th></th>\n",
       "    </tr>\n",
       "  </thead>\n",
       "  <tbody>\n",
       "    <tr>\n",
       "      <th rowspan=\"4\" valign=\"top\">2024-06-28</th>\n",
       "      <th>KR5101888398</th>\n",
       "      <td>한국투자크레딧포커스ESG증권자투자신탁 1(채권)(C-e)</td>\n",
       "      <td>1068</td>\n",
       "      <td>4699</td>\n",
       "      <td>4699</td>\n",
       "      <td>0.502</td>\n",
       "      <td>0.502</td>\n",
       "    </tr>\n",
       "    <tr>\n",
       "      <th>KR5236AS4826</th>\n",
       "      <td>한국밸류10년투자증권투자신탁 1(채권혼합)종류C-E</td>\n",
       "      <td>1260</td>\n",
       "      <td>1920</td>\n",
       "      <td>1920</td>\n",
       "      <td>0.242</td>\n",
       "      <td>0.242</td>\n",
       "    </tr>\n",
       "    <tr>\n",
       "      <th>KR5370AP9956</th>\n",
       "      <td>AB글로벌고수익증권투자신탁(채권-재간접형)종류형Ce</td>\n",
       "      <td>1285</td>\n",
       "      <td>1448</td>\n",
       "      <td>1448</td>\n",
       "      <td>0.186</td>\n",
       "      <td>0.186</td>\n",
       "    </tr>\n",
       "    <tr>\n",
       "      <th>K55306CV9946</th>\n",
       "      <td>다올글로벌멀티에셋인컴EMP증권자투자신탁[혼합-재간접형](공)종류Ce</td>\n",
       "      <td>1151</td>\n",
       "      <td>602</td>\n",
       "      <td>602</td>\n",
       "      <td>0.069</td>\n",
       "      <td>0.069</td>\n",
       "    </tr>\n",
       "  </tbody>\n",
       "</table>\n",
       "</div>"
      ],
      "text/plain": [
       "                                                          name  price  \\\n",
       "date       asset                                                        \n",
       "2024-06-28 KR5101888398        한국투자크레딧포커스ESG증권자투자신탁 1(채권)(C-e)   1068   \n",
       "           KR5236AS4826           한국밸류10년투자증권투자신탁 1(채권혼합)종류C-E   1260   \n",
       "           KR5370AP9956           AB글로벌고수익증권투자신탁(채권-재간접형)종류형Ce   1285   \n",
       "           K55306CV9946  다올글로벌멀티에셋인컴EMP증권자투자신탁[혼합-재간접형](공)종류Ce   1151   \n",
       "\n",
       "                         transaction   net  weight  weight*  \n",
       "date       asset                                             \n",
       "2024-06-28 KR5101888398         4699  4699   0.502    0.502  \n",
       "           KR5236AS4826         1920  1920   0.242    0.242  \n",
       "           KR5370AP9956         1448  1448   0.186    0.186  \n",
       "           K55306CV9946          602   602   0.069    0.069  "
      ]
     },
     "execution_count": 46,
     "metadata": {},
     "output_type": "execute_result"
    }
   ],
   "source": [
    "kwargs = dict(\n",
    "    date = WidgetTransaction.values(0),\n",
    "    capital = WidgetTransaction.values(1),\n",
    "    save = WidgetTransaction.values(2)\n",
    ")\n",
    "pf_hana.transaction_pipeline(**kwargs)"
   ]
  },
  {
   "cell_type": "code",
   "execution_count": 47,
   "id": "8041db72-01c9-4a2f-9609-b8c3812c89c4",
   "metadata": {},
   "outputs": [
    {
     "data": {
      "image/png": "[encoded data removed]",
      "text/plain": [
       "<Figure size 1000x400 with 2 Axes>"
      ]
     },
     "metadata": {},
     "output_type": "display_data"
    }
   ],
   "source": [
    "pf_hana.plot()"
   ]
  },
  {
   "cell_type": "code",
   "execution_count": 48,
   "id": "cd1ebe41-1ead-478a-ad0f-d2fb28e222aa",
   "metadata": {},
   "outputs": [
    {
     "data": {
      "text/html": [
       "<div>\n",
       "<style scoped>\n",
       "    .dataframe tbody tr th:only-of-type {\n",
       "        vertical-align: middle;\n",
       "    }\n",
       "\n",
       "    .dataframe tbody tr th {\n",
       "        vertical-align: top;\n",
       "    }\n",
       "\n",
       "    .dataframe thead th {\n",
       "        text-align: right;\n",
       "    }\n",
       "</style>\n",
       "<table border=\"1\" class=\"dataframe\">\n",
       "  <thead>\n",
       "    <tr style=\"text-align: right;\">\n",
       "      <th></th>\n",
       "      <th>HANA4</th>\n",
       "    </tr>\n",
       "  </thead>\n",
       "  <tbody>\n",
       "    <tr>\n",
       "      <th>start</th>\n",
       "      <td>2024-06-28</td>\n",
       "    </tr>\n",
       "    <tr>\n",
       "      <th>end</th>\n",
       "      <td>2024-07-31</td>\n",
       "    </tr>\n",
       "    <tr>\n",
       "      <th>total_return</th>\n",
       "      <td>0.003675</td>\n",
       "    </tr>\n",
       "    <tr>\n",
       "      <th>cagr</th>\n",
       "      <td>0.041442</td>\n",
       "    </tr>\n",
       "    <tr>\n",
       "      <th>calmar</th>\n",
       "      <td>inf</td>\n",
       "    </tr>\n",
       "    <tr>\n",
       "      <th>max_drawdown</th>\n",
       "      <td>0.0</td>\n",
       "    </tr>\n",
       "    <tr>\n",
       "      <th>avg_drawdown</th>\n",
       "      <td>NaN</td>\n",
       "    </tr>\n",
       "    <tr>\n",
       "      <th>avg_drawdown_days</th>\n",
       "      <td>NaN</td>\n",
       "    </tr>\n",
       "    <tr>\n",
       "      <th>daily_vol</th>\n",
       "      <td>NaN</td>\n",
       "    </tr>\n",
       "    <tr>\n",
       "      <th>daily_sharpe</th>\n",
       "      <td>NaN</td>\n",
       "    </tr>\n",
       "    <tr>\n",
       "      <th>daily_sortino</th>\n",
       "      <td>NaN</td>\n",
       "    </tr>\n",
       "    <tr>\n",
       "      <th>monthly_vol</th>\n",
       "      <td>NaN</td>\n",
       "    </tr>\n",
       "    <tr>\n",
       "      <th>monthly_sharpe</th>\n",
       "      <td>NaN</td>\n",
       "    </tr>\n",
       "    <tr>\n",
       "      <th>monthly_sortino</th>\n",
       "      <td>NaN</td>\n",
       "    </tr>\n",
       "  </tbody>\n",
       "</table>\n",
       "</div>"
      ],
      "text/plain": [
       "                        HANA4\n",
       "start              2024-06-28\n",
       "end                2024-07-31\n",
       "total_return         0.003675\n",
       "cagr                 0.041442\n",
       "calmar                    inf\n",
       "max_drawdown              0.0\n",
       "avg_drawdown              NaN\n",
       "avg_drawdown_days         NaN\n",
       "daily_vol                 NaN\n",
       "daily_sharpe              NaN\n",
       "daily_sortino             NaN\n",
       "monthly_vol               NaN\n",
       "monthly_sharpe            NaN\n",
       "monthly_sortino           NaN"
      ]
     },
     "execution_count": 48,
     "metadata": {},
     "output_type": "execute_result"
    }
   ],
   "source": [
    "pf_hana.performance(metrics=metrics)"
   ]
  },
  {
   "cell_type": "code",
   "execution_count": 41,
   "id": "1c965c7b-23c6-439f-83b6-68eeb7eece4b",
   "metadata": {},
   "outputs": [],
   "source": [
    "df_pf = df_pf.join(pf_hana.get_historical(), how='outer')"
   ]
  },
  {
   "cell_type": "markdown",
   "id": "2c0c0f41-2166-4548-81c6-b5c79425aa0b",
   "metadata": {},
   "source": [
    "## Summary"
   ]
  },
  {
   "cell_type": "code",
   "execution_count": 42,
   "id": "8055a381-ad8e-4770-a1ce-de8f682d0be6",
   "metadata": {},
   "outputs": [
    {
     "name": "stdout",
     "output_type": "stream",
     "text": [
      "WARNING: the number of days in a year with followings is 0 in avg.:\n",
      "KOSPI Momentum: 0\n",
      "ETF6: 0\n",
      "TDF2: 0\n",
      "HANA4: 0\n"
     ]
    },
    {
     "data": {
      "text/html": [
       "<div>\n",
       "<style scoped>\n",
       "    .dataframe tbody tr th:only-of-type {\n",
       "        vertical-align: middle;\n",
       "    }\n",
       "\n",
       "    .dataframe tbody tr th {\n",
       "        vertical-align: top;\n",
       "    }\n",
       "\n",
       "    .dataframe thead th {\n",
       "        text-align: right;\n",
       "    }\n",
       "</style>\n",
       "<table border=\"1\" class=\"dataframe\">\n",
       "  <thead>\n",
       "    <tr style=\"text-align: right;\">\n",
       "      <th></th>\n",
       "      <th>KOSPI Momentum</th>\n",
       "      <th>ETF6</th>\n",
       "      <th>TDF2</th>\n",
       "      <th>HANA4</th>\n",
       "    </tr>\n",
       "  </thead>\n",
       "  <tbody>\n",
       "    <tr>\n",
       "      <th>start</th>\n",
       "      <td>2024-07-19</td>\n",
       "      <td>2024-07-17</td>\n",
       "      <td>2024-06-18</td>\n",
       "      <td>2024-06-28</td>\n",
       "    </tr>\n",
       "    <tr>\n",
       "      <th>end</th>\n",
       "      <td>2024-07-22</td>\n",
       "      <td>2024-07-22</td>\n",
       "      <td>2024-07-22</td>\n",
       "      <td>2024-06-28</td>\n",
       "    </tr>\n",
       "    <tr>\n",
       "      <th>total_return</th>\n",
       "      <td>-0.026271</td>\n",
       "      <td>-0.01041</td>\n",
       "      <td>0.005385</td>\n",
       "      <td>NaN</td>\n",
       "    </tr>\n",
       "    <tr>\n",
       "      <th>cagr</th>\n",
       "      <td>-0.960888</td>\n",
       "      <td>-0.534419</td>\n",
       "      <td>0.059393</td>\n",
       "      <td>NaN</td>\n",
       "    </tr>\n",
       "    <tr>\n",
       "      <th>calmar</th>\n",
       "      <td>-36.575313</td>\n",
       "      <td>-51.334876</td>\n",
       "      <td>3.090541</td>\n",
       "      <td>NaN</td>\n",
       "    </tr>\n",
       "    <tr>\n",
       "      <th>max_drawdown</th>\n",
       "      <td>-0.026271</td>\n",
       "      <td>-0.01041</td>\n",
       "      <td>-0.019218</td>\n",
       "      <td>NaN</td>\n",
       "    </tr>\n",
       "    <tr>\n",
       "      <th>avg_drawdown</th>\n",
       "      <td>-0.026271</td>\n",
       "      <td>-0.01041</td>\n",
       "      <td>-0.011809</td>\n",
       "      <td>NaN</td>\n",
       "    </tr>\n",
       "    <tr>\n",
       "      <th>avg_drawdown_days</th>\n",
       "      <td>0.0</td>\n",
       "      <td>4.0</td>\n",
       "      <td>8.5</td>\n",
       "      <td>NaN</td>\n",
       "    </tr>\n",
       "    <tr>\n",
       "      <th>daily_vol</th>\n",
       "      <td>NaN</td>\n",
       "      <td>0.03957</td>\n",
       "      <td>0.042799</td>\n",
       "      <td>NaN</td>\n",
       "    </tr>\n",
       "    <tr>\n",
       "      <th>daily_sharpe</th>\n",
       "      <td>NaN</td>\n",
       "      <td>-22.163551</td>\n",
       "      <td>0.950972</td>\n",
       "      <td>NaN</td>\n",
       "    </tr>\n",
       "    <tr>\n",
       "      <th>daily_sortino</th>\n",
       "      <td>NaN</td>\n",
       "      <td>-22.163551</td>\n",
       "      <td>1.284183</td>\n",
       "      <td>NaN</td>\n",
       "    </tr>\n",
       "    <tr>\n",
       "      <th>monthly_vol</th>\n",
       "      <td>NaN</td>\n",
       "      <td>NaN</td>\n",
       "      <td>NaN</td>\n",
       "      <td>NaN</td>\n",
       "    </tr>\n",
       "    <tr>\n",
       "      <th>monthly_sharpe</th>\n",
       "      <td>NaN</td>\n",
       "      <td>NaN</td>\n",
       "      <td>NaN</td>\n",
       "      <td>NaN</td>\n",
       "    </tr>\n",
       "    <tr>\n",
       "      <th>monthly_sortino</th>\n",
       "      <td>NaN</td>\n",
       "      <td>NaN</td>\n",
       "      <td>NaN</td>\n",
       "      <td>NaN</td>\n",
       "    </tr>\n",
       "  </tbody>\n",
       "</table>\n",
       "</div>"
      ],
      "text/plain": [
       "                  KOSPI Momentum        ETF6        TDF2       HANA4\n",
       "start                 2024-07-19  2024-07-17  2024-06-18  2024-06-28\n",
       "end                   2024-07-22  2024-07-22  2024-07-22  2024-06-28\n",
       "total_return           -0.026271    -0.01041    0.005385         NaN\n",
       "cagr                   -0.960888   -0.534419    0.059393         NaN\n",
       "calmar                -36.575313  -51.334876    3.090541         NaN\n",
       "max_drawdown           -0.026271    -0.01041   -0.019218         NaN\n",
       "avg_drawdown           -0.026271    -0.01041   -0.011809         NaN\n",
       "avg_drawdown_days            0.0         4.0         8.5         NaN\n",
       "daily_vol                    NaN     0.03957    0.042799         NaN\n",
       "daily_sharpe                 NaN  -22.163551    0.950972         NaN\n",
       "daily_sortino                NaN  -22.163551    1.284183         NaN\n",
       "monthly_vol                  NaN         NaN         NaN         NaN\n",
       "monthly_sharpe               NaN         NaN         NaN         NaN\n",
       "monthly_sortino              NaN         NaN         NaN         NaN"
      ]
     },
     "execution_count": 42,
     "metadata": {},
     "output_type": "execute_result"
    }
   ],
   "source": [
    "ae = AssetEvaluator(df_pf, 242)\n",
    "ae.get_stats(sort_by='monthly_sharpe', align_period=False)"
   ]
  },
  {
   "cell_type": "code",
   "execution_count": 34,
   "id": "801c9a16-90e8-43bc-85fb-03ed2030e06f",
   "metadata": {},
   "outputs": [
    {
     "data": {
      "image/png": "[encoded data removed]",
      "text/plain": [
       "<Figure size 1000x400 with 1 Axes>"
      ]
     },
     "metadata": {},
     "output_type": "display_data"
    }
   ],
   "source": [
    "_ = ae.plot_historical()"
   ]
  }
 ],
 "metadata": {
  "kernelspec": {
   "display_name": "portfolio",
   "language": "python",
   "name": "portfolio"
  },
  "language_info": {
   "codemirror_mode": {
    "name": "ipython",
    "version": 3
   },
   "file_extension": ".py",
   "mimetype": "text/x-python",
   "name": "python",
   "nbconvert_exporter": "python",
   "pygments_lexer": "ipython3",
   "version": "3.12.1"
  }
 },
 "nbformat": 4,
 "nbformat_minor": 5
}
