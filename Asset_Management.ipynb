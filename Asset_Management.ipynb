{
 "cells": [
  {
   "cell_type": "markdown",
   "id": "1a0d2b60-5842-4969-8229-84f355dc46fc",
   "metadata": {},
   "source": [
    "# Setting"
   ]
  },
  {
   "cell_type": "code",
   "execution_count": 1,
   "id": "7009fd2f-8efd-4ed3-a187-01939304fa9e",
   "metadata": {},
   "outputs": [
    {
     "name": "stderr",
     "output_type": "stream",
     "text": [
      "WARNING (pytensor.tensor.blas): Using NumPy C-API based implementation for BLAS functions.\n"
     ]
    }
   ],
   "source": [
    "from pf_utils import BacktestManager, DataManager, StaticPortfolio, MomentumPortfolio, AssetEvaluator, metrics"
   ]
  },
  {
   "cell_type": "code",
   "execution_count": 2,
   "id": "723adb14-cd00-4d96-9c64-5a8628e82f44",
   "metadata": {},
   "outputs": [],
   "source": [
    "metrics2 = [\n",
    "    'cagr', 'monthly_vol', 'monthly_sharpe',\n",
    "    'max_drawdown', 'avg_drawdown','avg_drawdown_days', \n",
    "]\n",
    "\n",
    "path_data = 'data'\n",
    "path_tran = 'transaction'"
   ]
  },
  {
   "cell_type": "markdown",
   "id": "c786112f-9aef-4df7-8248-4ddcfcb2c1f0",
   "metadata": {},
   "source": [
    "# Universe"
   ]
  },
  {
   "cell_type": "code",
   "execution_count": 3,
   "id": "8d428956-e4e3-4f34-8564-ec3a2cbd8dcd",
   "metadata": {},
   "outputs": [],
   "source": [
    "file_k200 = 'kospi200_prices.csv'\n",
    "file_etf = 'etfs_all.csv'\n",
    "file_tdf = '금융자산운용 - export.csv'\n",
    "\n",
    "download = False"
   ]
  },
  {
   "cell_type": "markdown",
   "id": "1cb34ee5-b007-48b4-a11b-188e6bafad0f",
   "metadata": {},
   "source": [
    "## KOSPI200"
   ]
  },
  {
   "cell_type": "code",
   "execution_count": 4,
   "id": "8aa50408-fd2b-45f5-81ed-6c1a2479eb77",
   "metadata": {},
   "outputs": [
    {
     "name": "stdout",
     "output_type": "stream",
     "text": [
      "200 assets from 2021-01-04 to 2024-07-10 uploaded.\n",
      "df_prices updated\n"
     ]
    }
   ],
   "source": [
    "k200 = DataManager(\n",
    "    universe = 'KOSPI200',\n",
    "    file = file_k200,\n",
    "    path = path_data\n",
    ")\n",
    "k200.upload()"
   ]
  },
  {
   "cell_type": "code",
   "execution_count": 5,
   "id": "56cfa843-ffc7-469f-a18d-aefecdac2e5d",
   "metadata": {},
   "outputs": [],
   "source": [
    "kw = dict(\n",
    "    n_years=3, \n",
    "    close_today=True,\n",
    "    #tickers=k200.df_prices.columns\n",
    ")\n",
    "k200.download(**kw) if download else None"
   ]
  },
  {
   "cell_type": "code",
   "execution_count": 6,
   "id": "6654a8a7-4530-4c54-8fd7-46d71981e9f6",
   "metadata": {},
   "outputs": [],
   "source": [
    "df_k200 = k200.df_prices\n",
    "assetnames_k200 = k200.get_names()"
   ]
  },
  {
   "cell_type": "markdown",
   "id": "39d0213d-1cd0-42f6-8066-abb2eb6dd5db",
   "metadata": {},
   "source": [
    "## ETF"
   ]
  },
  {
   "cell_type": "code",
   "execution_count": 7,
   "id": "26a87f56-8333-4d02-bc67-2d58cda01a18",
   "metadata": {},
   "outputs": [
    {
     "name": "stdout",
     "output_type": "stream",
     "text": [
      "870 assets from 2021-01-04 to 2024-07-10 uploaded.\n",
      "df_prices updated\n"
     ]
    }
   ],
   "source": [
    "etf = DataManager(\n",
    "    universe = 'ETF',\n",
    "    file = file_etf,\n",
    "    path = path_data\n",
    ")\n",
    "etf.upload()"
   ]
  },
  {
   "cell_type": "code",
   "execution_count": 8,
   "id": "3cc26afb-d01e-4b99-9be0-fb446726b131",
   "metadata": {},
   "outputs": [],
   "source": [
    "kw = dict(\n",
    "    n_years=3, \n",
    "    close_today=True,\n",
    "    #tickers=etf.df_prices.columns\n",
    ")\n",
    "etf.download(**kw) if download else None"
   ]
  },
  {
   "cell_type": "code",
   "execution_count": 9,
   "id": "35e4fe7f-1ebd-40f6-956c-44c464cb6a76",
   "metadata": {},
   "outputs": [
    {
     "data": {
      "text/plain": [
       "0) 069500: KODEX 200\n",
       "1) 273130: KODEX 종합채권(AA-이상)액티브\n",
       "2) 148070: KOSEF 국고채10년\n",
       "3) 379800: KODEX 미국S&P500TR\n",
       "4) 411060: ACE KRX금현물\n",
       "5) 284430: KODEX 200미국채혼합"
      ]
     },
     "execution_count": 9,
     "metadata": {},
     "output_type": "execute_result"
    }
   ],
   "source": [
    "choice = ['069500', '273130', '148070', '379800', '411060', '284430']\n",
    "df_etf = etf.df_prices[choice]\n",
    "assetnames_etf = etf.get_names(tickers=choice)\n",
    "assetnames_etf"
   ]
  },
  {
   "cell_type": "markdown",
   "id": "99c864db-6e90-4720-9287-a23b26b2263e",
   "metadata": {},
   "source": [
    "## TDF\n",
    "- https://www.kiwoomam.com/fund/KI0202020000M?parentfundcode=8325&fundcode=8335\n",
    "- https://investments.miraeasset.com/fund/view.do?fundGb=2&fundCd=537380&childFundGb=2&childFundCd=53738P\n",
    "- https://www.hanwhawm.com/main/finance/fundInfo/FI141_2.cmd?p=500&item_cd=5102896"
   ]
  },
  {
   "cell_type": "code",
   "execution_count": 10,
   "id": "c22863eb-b080-4dd0-b2b0-d199fba75c5a",
   "metadata": {},
   "outputs": [
    {
     "name": "stdout",
     "output_type": "stream",
     "text": [
      "Estimating price from rate ...\n",
      "  error: -0.07 %\n",
      "  WARNING: taking the 1st two columns only.\n",
      "  error: -0.00 %\n",
      "  error: 0.16 %\n",
      "  error: -0.13 %\n",
      "  error: 0.00 %\n",
      "5 assets from 2017-08-14 to 2024-07-15 uploaded.\n",
      "df_prices updated\n"
     ]
    },
    {
     "data": {
      "text/html": [
       "<div>\n",
       "<style scoped>\n",
       "    .dataframe tbody tr th:only-of-type {\n",
       "        vertical-align: middle;\n",
       "    }\n",
       "\n",
       "    .dataframe tbody tr th {\n",
       "        vertical-align: top;\n",
       "    }\n",
       "\n",
       "    .dataframe thead th {\n",
       "        text-align: right;\n",
       "    }\n",
       "</style>\n",
       "<table border=\"1\" class=\"dataframe\">\n",
       "  <thead>\n",
       "    <tr style=\"text-align: right;\">\n",
       "      <th></th>\n",
       "      <th>start date</th>\n",
       "      <th>end date</th>\n",
       "    </tr>\n",
       "  </thead>\n",
       "  <tbody>\n",
       "    <tr>\n",
       "      <th>K55301BU5479</th>\n",
       "      <td>2017-08-14</td>\n",
       "      <td>2024-06-16</td>\n",
       "    </tr>\n",
       "    <tr>\n",
       "      <th>K55301BU6139</th>\n",
       "      <td>2017-09-20</td>\n",
       "      <td>2024-07-14</td>\n",
       "    </tr>\n",
       "    <tr>\n",
       "      <th>K55301BU5453</th>\n",
       "      <td>2017-09-29</td>\n",
       "      <td>2024-06-16</td>\n",
       "    </tr>\n",
       "    <tr>\n",
       "      <th>K55206C96311</th>\n",
       "      <td>2018-07-13</td>\n",
       "      <td>2024-06-17</td>\n",
       "    </tr>\n",
       "    <tr>\n",
       "      <th>K55206C95800</th>\n",
       "      <td>2018-07-26</td>\n",
       "      <td>2024-07-15</td>\n",
       "    </tr>\n",
       "  </tbody>\n",
       "</table>\n",
       "</div>"
      ],
      "text/plain": [
       "             start date   end date\n",
       "K55301BU5479 2017-08-14 2024-06-16\n",
       "K55301BU6139 2017-09-20 2024-07-14\n",
       "K55301BU5453 2017-09-29 2024-06-16\n",
       "K55206C96311 2018-07-13 2024-06-17\n",
       "K55206C95800 2018-07-26 2024-07-15"
      ]
     },
     "execution_count": 10,
     "metadata": {},
     "output_type": "execute_result"
    }
   ],
   "source": [
    "tdf = DataManager(\n",
    "    universe = 'TDF',\n",
    "    file = file_tdf, upload_type = 'rate',\n",
    "    path = path_data\n",
    ")\n",
    "tdf.upload()\n",
    "tdf.get_date_range()"
   ]
  },
  {
   "cell_type": "code",
   "execution_count": 11,
   "id": "ca9f04ca-7358-4f4e-99ca-0b31d1857ce6",
   "metadata": {},
   "outputs": [
    {
     "data": {
      "text/plain": [
       "0) K55301BU6139: 미래에셋전략배분TDF2035혼합자산자투자신탁종류C-P2e\n",
       "1) K55206C95800: 키움키워드림TDF2030증권투자신탁 1[혼합-재간접형]C-P2e(퇴직연금)\n",
       "2) K55301BU5453: 미래에셋평생소득TIF혼합자산자투자신탁종류C-P2e\n",
       "3) K55301BU5479: 미래에셋전략배분TDF2045혼합자산자투자신탁 종류C-P2e\n",
       "4) K55206C96311: 키움키워드림TDF2045증권투자신탁 1[혼합-재간접형]C-P2e(퇴직연금)"
      ]
     },
     "execution_count": 11,
     "metadata": {},
     "output_type": "execute_result"
    }
   ],
   "source": [
    "df_tdf = tdf.df_prices\n",
    "assetnames_tdf = tdf.get_names()\n",
    "assetnames_tdf"
   ]
  },
  {
   "cell_type": "markdown",
   "id": "0aaaa9db-40ad-414a-b709-de117191981b",
   "metadata": {},
   "source": [
    "# Backtest"
   ]
  },
  {
   "cell_type": "markdown",
   "id": "00168468-3042-497d-bd8b-35ee21ca83c5",
   "metadata": {},
   "source": [
    "## KOSPI 200"
   ]
  },
  {
   "cell_type": "code",
   "execution_count": 14,
   "id": "5cd3809d-522b-4cad-944e-de081a5b3657",
   "metadata": {},
   "outputs": [
    {
     "name": "stdout",
     "output_type": "stream",
     "text": [
      "15 assets removed for shorter periods (7.5%)\n",
      "running self.util_check_days_in_year to check days in a year\n"
     ]
    }
   ],
   "source": [
    "kwargs_bm = dict(\n",
    "    initial_capital = 10000000,\n",
    "    commissions = 0,\n",
    "    align_axis = 1, \n",
    "    days_in_year = 246,\n",
    "    asset_names = assetnames_k200\n",
    ")\n",
    "bm = BacktestManager(df_k200, **kwargs_bm)"
   ]
  },
  {
   "cell_type": "code",
   "execution_count": 15,
   "id": "9a647011-2deb-48fa-ba4c-96d4a699b70f",
   "metadata": {},
   "outputs": [],
   "source": [
    "lags = dict(lookback=12, lag=5)"
   ]
  },
  {
   "cell_type": "code",
   "execution_count": 16,
   "id": "63f41609-2c02-419d-b8dd-30993313c9e1",
   "metadata": {},
   "outputs": [
    {
     "name": "stdout",
     "output_type": "stream",
     "text": [
      "Benchmark is KODEX200\n"
     ]
    }
   ],
   "source": [
    "bm.benchmark_ticker(**lags)"
   ]
  },
  {
   "cell_type": "code",
   "execution_count": 17,
   "id": "b37e9472-eac5-4344-aa7f-a6975e7204b1",
   "metadata": {},
   "outputs": [],
   "source": [
    "select = 'Momentum'\n",
    "kwargs_build = dict(\n",
    "    name=f'KOSPI:{select}', select =select,\n",
    "    freq='M', weigh = 'ERC',\n",
    "    n_assets=5, **lags\n",
    ")\n",
    "bm.build(**kwargs_build)"
   ]
  },
  {
   "cell_type": "code",
   "execution_count": 18,
   "id": "ce2ebc9e-4f37-456c-8b80-6d08227047de",
   "metadata": {},
   "outputs": [],
   "source": [
    "select = 'K-ratio'\n",
    "kwargs_build.update(dict(\n",
    "    name=f'KOSPI:{select}', select =select,\n",
    "))\n",
    "bm.build(**kwargs_build)"
   ]
  },
  {
   "cell_type": "code",
   "execution_count": 19,
   "id": "f4636d65-e08d-4f8f-b957-ec2c728b4667",
   "metadata": {},
   "outputs": [
    {
     "name": "stdout",
     "output_type": "stream",
     "text": [
      "Backtesting 3 strategies: KODEX200, KOSPI:Momentum, KOSPI:K-ratio\n"
     ]
    },
    {
     "name": "stderr",
     "output_type": "stream",
     "text": [
      "100%|█████████████████████████████████████████████████████████████████| 3/3 [00:57<00:00, 19.26s/it]"
     ]
    },
    {
     "name": "stdout",
     "output_type": "stream",
     "text": [
      "Returning stats\n"
     ]
    },
    {
     "name": "stderr",
     "output_type": "stream",
     "text": [
      "\n"
     ]
    },
    {
     "data": {
      "text/html": [
       "<div>\n",
       "<style scoped>\n",
       "    .dataframe tbody tr th:only-of-type {\n",
       "        vertical-align: middle;\n",
       "    }\n",
       "\n",
       "    .dataframe tbody tr th {\n",
       "        vertical-align: top;\n",
       "    }\n",
       "\n",
       "    .dataframe thead th {\n",
       "        text-align: right;\n",
       "    }\n",
       "</style>\n",
       "<table border=\"1\" class=\"dataframe\">\n",
       "  <thead>\n",
       "    <tr style=\"text-align: right;\">\n",
       "      <th></th>\n",
       "      <th>KOSPI:Momentum</th>\n",
       "      <th>KOSPI:K-ratio</th>\n",
       "      <th>KODEX200</th>\n",
       "    </tr>\n",
       "  </thead>\n",
       "  <tbody>\n",
       "    <tr>\n",
       "      <th>start</th>\n",
       "      <td>2021-01-03</td>\n",
       "      <td>2021-01-03</td>\n",
       "      <td>2021-01-03</td>\n",
       "    </tr>\n",
       "    <tr>\n",
       "      <th>end</th>\n",
       "      <td>2024-07-10</td>\n",
       "      <td>2024-07-10</td>\n",
       "      <td>2024-07-10</td>\n",
       "    </tr>\n",
       "    <tr>\n",
       "      <th>cagr</th>\n",
       "      <td>0.728994</td>\n",
       "      <td>0.308676</td>\n",
       "      <td>0.020773</td>\n",
       "    </tr>\n",
       "    <tr>\n",
       "      <th>monthly_vol</th>\n",
       "      <td>0.467373</td>\n",
       "      <td>0.253572</td>\n",
       "      <td>0.174975</td>\n",
       "    </tr>\n",
       "    <tr>\n",
       "      <th>monthly_sharpe</th>\n",
       "      <td>1.399333</td>\n",
       "      <td>1.192595</td>\n",
       "      <td>0.204963</td>\n",
       "    </tr>\n",
       "    <tr>\n",
       "      <th>max_drawdown</th>\n",
       "      <td>-0.262851</td>\n",
       "      <td>-0.211644</td>\n",
       "      <td>-0.278222</td>\n",
       "    </tr>\n",
       "    <tr>\n",
       "      <th>avg_drawdown</th>\n",
       "      <td>-0.059227</td>\n",
       "      <td>-0.030276</td>\n",
       "      <td>-0.061003</td>\n",
       "    </tr>\n",
       "    <tr>\n",
       "      <th>avg_drawdown_days</th>\n",
       "      <td>17.488372</td>\n",
       "      <td>18.261905</td>\n",
       "      <td>180.0</td>\n",
       "    </tr>\n",
       "  </tbody>\n",
       "</table>\n",
       "</div>"
      ],
      "text/plain": [
       "                  KOSPI:Momentum KOSPI:K-ratio    KODEX200\n",
       "start                 2021-01-03    2021-01-03  2021-01-03\n",
       "end                   2024-07-10    2024-07-10  2024-07-10\n",
       "cagr                    0.728994      0.308676    0.020773\n",
       "monthly_vol             0.467373      0.253572    0.174975\n",
       "monthly_sharpe          1.399333      1.192595    0.204963\n",
       "max_drawdown           -0.262851     -0.211644   -0.278222\n",
       "avg_drawdown           -0.059227     -0.030276   -0.061003\n",
       "avg_drawdown_days      17.488372     18.261905       180.0"
      ]
     },
     "execution_count": 19,
     "metadata": {},
     "output_type": "execute_result"
    },
    {
     "data": {
      "image/png": "[encoded data removed]",
      "text/plain": [
       "<Figure size 1000x400 with 1 Axes>"
      ]
     },
     "metadata": {},
     "output_type": "display_data"
    }
   ],
   "source": [
    "bm.run(figsize=(10,4), stats_sort_by='monthly_sharpe')"
   ]
  },
  {
   "cell_type": "code",
   "execution_count": 21,
   "id": "25abb7ae-920c-4d4a-8ce9-b8a48858c0f5",
   "metadata": {},
   "outputs": [],
   "source": [
    "df_pf = bm.get_historical()\n",
    "df_pf = df_pf[['KODEX200','KOSPI:Momentum']]"
   ]
  },
  {
   "cell_type": "markdown",
   "id": "c7df33e3-8f1f-4633-a6aa-f4ee66196a91",
   "metadata": {},
   "source": [
    "## ETF"
   ]
  },
  {
   "cell_type": "code",
   "execution_count": 22,
   "id": "2fd24a73-19c1-413c-88a6-96bd4e00b2b3",
   "metadata": {},
   "outputs": [
    {
     "name": "stdout",
     "output_type": "stream",
     "text": [
      "period reset: 2021-12-15 ~ 2024-07-10\n",
      "running self.util_check_days_in_year to check days in a year\n"
     ]
    }
   ],
   "source": [
    "kwargs_bm = dict(\n",
    "    initial_capital = 10000000,\n",
    "    commissions = 0,\n",
    "    align_axis = 0, \n",
    "    days_in_year = 245,\n",
    "    asset_names = assetnames_etf\n",
    ")\n",
    "bm = BacktestManager(df_etf, **kwargs_bm)"
   ]
  },
  {
   "cell_type": "code",
   "execution_count": 23,
   "id": "93227910-9914-406a-a0a7-541d68a4fd44",
   "metadata": {},
   "outputs": [],
   "source": [
    "lags = dict(lookback=12, lag=5)"
   ]
  },
  {
   "cell_type": "code",
   "execution_count": 24,
   "id": "13a3623c-5807-48c4-9128-b6af7db76a99",
   "metadata": {},
   "outputs": [
    {
     "name": "stdout",
     "output_type": "stream",
     "text": [
      "Benchmark is KODEX200\n"
     ]
    }
   ],
   "source": [
    "bm.benchmark_ticker(**lags)"
   ]
  },
  {
   "cell_type": "code",
   "execution_count": 25,
   "id": "29dfeae2-4162-4686-bf53-83f3e97dcbef",
   "metadata": {},
   "outputs": [],
   "source": [
    "kwargs_build = dict(\n",
    "    freq = 'Y', select = 'all',\n",
    "    **lags # added to start backtest on same date with momentum\n",
    ")\n",
    "\n",
    "bm.build(name='ETF:Eqaully', weigh='equally', **kwargs_build)\n",
    "bm.build(name='ETF:ERC', weigh='ERC', **kwargs_build)\n",
    "bm.build(name='ETF:InvVol', weigh='InvVol', **kwargs_build)"
   ]
  },
  {
   "cell_type": "code",
   "execution_count": 26,
   "id": "5ee4456d-88b3-464b-9345-323862c19ed3",
   "metadata": {},
   "outputs": [
    {
     "name": "stdout",
     "output_type": "stream",
     "text": [
      "Backtesting 4 strategies: KODEX200, ETF:Eqaully, ETF:ERC, ETF:InvVol\n"
     ]
    },
    {
     "name": "stderr",
     "output_type": "stream",
     "text": [
      "100%|█████████████████████████████████████████████████████████████████| 4/4 [00:00<00:00,  6.78it/s]\n"
     ]
    },
    {
     "name": "stdout",
     "output_type": "stream",
     "text": [
      "Returning stats\n"
     ]
    },
    {
     "data": {
      "text/html": [
       "<div>\n",
       "<style scoped>\n",
       "    .dataframe tbody tr th:only-of-type {\n",
       "        vertical-align: middle;\n",
       "    }\n",
       "\n",
       "    .dataframe tbody tr th {\n",
       "        vertical-align: top;\n",
       "    }\n",
       "\n",
       "    .dataframe thead th {\n",
       "        text-align: right;\n",
       "    }\n",
       "</style>\n",
       "<table border=\"1\" class=\"dataframe\">\n",
       "  <thead>\n",
       "    <tr style=\"text-align: right;\">\n",
       "      <th></th>\n",
       "      <th>ETF:Eqaully</th>\n",
       "      <th>ETF:ERC</th>\n",
       "      <th>ETF:InvVol</th>\n",
       "      <th>KODEX200</th>\n",
       "    </tr>\n",
       "  </thead>\n",
       "  <tbody>\n",
       "    <tr>\n",
       "      <th>start</th>\n",
       "      <td>2021-12-14</td>\n",
       "      <td>2021-12-14</td>\n",
       "      <td>2021-12-14</td>\n",
       "      <td>2021-12-14</td>\n",
       "    </tr>\n",
       "    <tr>\n",
       "      <th>end</th>\n",
       "      <td>2024-07-10</td>\n",
       "      <td>2024-07-10</td>\n",
       "      <td>2024-07-10</td>\n",
       "      <td>2024-07-10</td>\n",
       "    </tr>\n",
       "    <tr>\n",
       "      <th>total_return</th>\n",
       "      <td>0.261244</td>\n",
       "      <td>0.214048</td>\n",
       "      <td>0.190885</td>\n",
       "      <td>0.341347</td>\n",
       "    </tr>\n",
       "    <tr>\n",
       "      <th>cagr</th>\n",
       "      <td>0.094482</td>\n",
       "      <td>0.078365</td>\n",
       "      <td>0.070315</td>\n",
       "      <td>0.121013</td>\n",
       "    </tr>\n",
       "    <tr>\n",
       "      <th>calmar</th>\n",
       "      <td>2.570011</td>\n",
       "      <td>2.036211</td>\n",
       "      <td>1.863784</td>\n",
       "      <td>0.960111</td>\n",
       "    </tr>\n",
       "    <tr>\n",
       "      <th>max_drawdown</th>\n",
       "      <td>-0.036763</td>\n",
       "      <td>-0.038486</td>\n",
       "      <td>-0.037727</td>\n",
       "      <td>-0.126041</td>\n",
       "    </tr>\n",
       "    <tr>\n",
       "      <th>avg_drawdown</th>\n",
       "      <td>-0.007851</td>\n",
       "      <td>-0.007471</td>\n",
       "      <td>-0.00685</td>\n",
       "      <td>-0.025636</td>\n",
       "    </tr>\n",
       "    <tr>\n",
       "      <th>avg_drawdown_days</th>\n",
       "      <td>12.771429</td>\n",
       "      <td>17.346154</td>\n",
       "      <td>17.461538</td>\n",
       "      <td>19.68</td>\n",
       "    </tr>\n",
       "    <tr>\n",
       "      <th>daily_vol</th>\n",
       "      <td>0.046101</td>\n",
       "      <td>0.040422</td>\n",
       "      <td>0.038887</td>\n",
       "      <td>0.125812</td>\n",
       "    </tr>\n",
       "    <tr>\n",
       "      <th>daily_sharpe</th>\n",
       "      <td>2.030856</td>\n",
       "      <td>1.93376</td>\n",
       "      <td>1.810946</td>\n",
       "      <td>0.993648</td>\n",
       "    </tr>\n",
       "    <tr>\n",
       "      <th>daily_sortino</th>\n",
       "      <td>3.407956</td>\n",
       "      <td>3.225681</td>\n",
       "      <td>2.979924</td>\n",
       "      <td>1.66007</td>\n",
       "    </tr>\n",
       "    <tr>\n",
       "      <th>monthly_vol</th>\n",
       "      <td>0.063635</td>\n",
       "      <td>0.055222</td>\n",
       "      <td>0.054594</td>\n",
       "      <td>0.138014</td>\n",
       "    </tr>\n",
       "    <tr>\n",
       "      <th>monthly_sharpe</th>\n",
       "      <td>1.447454</td>\n",
       "      <td>1.390175</td>\n",
       "      <td>1.268237</td>\n",
       "      <td>0.892927</td>\n",
       "    </tr>\n",
       "    <tr>\n",
       "      <th>monthly_sortino</th>\n",
       "      <td>4.152085</td>\n",
       "      <td>4.51672</td>\n",
       "      <td>3.726542</td>\n",
       "      <td>2.022406</td>\n",
       "    </tr>\n",
       "  </tbody>\n",
       "</table>\n",
       "</div>"
      ],
      "text/plain": [
       "                  ETF:Eqaully     ETF:ERC  ETF:InvVol    KODEX200\n",
       "start              2021-12-14  2021-12-14  2021-12-14  2021-12-14\n",
       "end                2024-07-10  2024-07-10  2024-07-10  2024-07-10\n",
       "total_return         0.261244    0.214048    0.190885    0.341347\n",
       "cagr                 0.094482    0.078365    0.070315    0.121013\n",
       "calmar               2.570011    2.036211    1.863784    0.960111\n",
       "max_drawdown        -0.036763   -0.038486   -0.037727   -0.126041\n",
       "avg_drawdown        -0.007851   -0.007471    -0.00685   -0.025636\n",
       "avg_drawdown_days   12.771429   17.346154   17.461538       19.68\n",
       "daily_vol            0.046101    0.040422    0.038887    0.125812\n",
       "daily_sharpe         2.030856     1.93376    1.810946    0.993648\n",
       "daily_sortino        3.407956    3.225681    2.979924     1.66007\n",
       "monthly_vol          0.063635    0.055222    0.054594    0.138014\n",
       "monthly_sharpe       1.447454    1.390175    1.268237    0.892927\n",
       "monthly_sortino      4.152085     4.51672    3.726542    2.022406"
      ]
     },
     "execution_count": 26,
     "metadata": {},
     "output_type": "execute_result"
    },
    {
     "data": {
      "image/png": "[encoded data removed]",
      "text/plain": [
       "<Figure size 1000x400 with 1 Axes>"
      ]
     },
     "metadata": {},
     "output_type": "display_data"
    }
   ],
   "source": [
    "bm.run(figsize=(10,4), stats_sort_by='monthly_sharpe')"
   ]
  },
  {
   "cell_type": "code",
   "execution_count": 27,
   "id": "62d9d66e-cd01-49fc-af0c-bf8e01756ab3",
   "metadata": {},
   "outputs": [],
   "source": [
    "df = bm.get_historical()\n",
    "df_pf = df_pf.join(df[['ETF:Eqaully', 'ETF:ERC']])"
   ]
  },
  {
   "cell_type": "markdown",
   "id": "91d08b17-542b-4d1f-a0e8-f2f5a854703f",
   "metadata": {},
   "source": [
    "## TDF"
   ]
  },
  {
   "cell_type": "code",
   "execution_count": 36,
   "id": "f002de8c-cbe1-4052-9118-72d2995ecfdf",
   "metadata": {},
   "outputs": [
    {
     "name": "stdout",
     "output_type": "stream",
     "text": [
      "period reset: 2018-07-26 ~ 2024-06-16\n",
      "running self.util_check_days_in_year to check days in a year\n"
     ]
    }
   ],
   "source": [
    "kwargs_bm = dict(\n",
    "    initial_capital = 10000000,\n",
    "    commissions = 0,\n",
    "    align_axis = 0, \n",
    "    days_in_year = 365,\n",
    "    asset_names = assetnames_tdf\n",
    ")\n",
    "bm = BacktestManager(df_tdf, **kwargs_bm)"
   ]
  },
  {
   "cell_type": "code",
   "execution_count": 37,
   "id": "8b59f3cc-c76e-4b53-8f95-fcb96aa9908d",
   "metadata": {},
   "outputs": [],
   "source": [
    "lags = dict(lookback=12, lag=5)"
   ]
  },
  {
   "cell_type": "code",
   "execution_count": 38,
   "id": "ae08c153-8479-47d5-8ec0-d87780812392",
   "metadata": {},
   "outputs": [
    {
     "name": "stdout",
     "output_type": "stream",
     "text": [
      "Benchmark is KODEX200\n"
     ]
    }
   ],
   "source": [
    "bm.benchmark_ticker(**lags)"
   ]
  },
  {
   "cell_type": "code",
   "execution_count": 39,
   "id": "1d3828e5-7187-42a0-8ef9-5f11134ba7ad",
   "metadata": {},
   "outputs": [],
   "source": [
    "kwargs_build = dict(\n",
    "    freq = 'Y', select = 'all',\n",
    "    **lags # added to start backtest on same date with momentum\n",
    ")\n",
    "\n",
    "bm.build(name='TDF:Eqaully', weigh='equally', **kwargs_build)\n",
    "bm.build(name='TDF:ERC', weigh='ERC', **kwargs_build)\n",
    "bm.build(name='TDF:InvVol', weigh='InvVol', **kwargs_build)"
   ]
  },
  {
   "cell_type": "code",
   "execution_count": 40,
   "id": "a5888771-301f-48ae-9cf3-e5edc45c6cf8",
   "metadata": {},
   "outputs": [],
   "source": [
    "choice = ['K55301BU6139', 'K55206C95800']\n",
    "\n",
    "kwargs_build.update(dict(\n",
    "    name='TDF2:Eqaully', select ='all', \n",
    "    weigh='Specified',  weights=choice\n",
    "))\n",
    "bm.build(**kwargs_build)"
   ]
  },
  {
   "cell_type": "code",
   "execution_count": 41,
   "id": "c317615a-96e2-496a-94ef-20ea2c7564b4",
   "metadata": {},
   "outputs": [
    {
     "name": "stdout",
     "output_type": "stream",
     "text": [
      "Backtesting 5 strategies: KODEX200, TDF:Eqaully, TDF:ERC, TDF:InvVol, TDF2:Eqaully\n"
     ]
    },
    {
     "name": "stderr",
     "output_type": "stream",
     "text": [
      "100%|█████████████████████████████████████████████████████████████████| 5/5 [00:02<00:00,  1.74it/s]"
     ]
    },
    {
     "name": "stdout",
     "output_type": "stream",
     "text": [
      "Returning stats\n"
     ]
    },
    {
     "name": "stderr",
     "output_type": "stream",
     "text": [
      "\n"
     ]
    },
    {
     "data": {
      "text/html": [
       "<div>\n",
       "<style scoped>\n",
       "    .dataframe tbody tr th:only-of-type {\n",
       "        vertical-align: middle;\n",
       "    }\n",
       "\n",
       "    .dataframe tbody tr th {\n",
       "        vertical-align: top;\n",
       "    }\n",
       "\n",
       "    .dataframe thead th {\n",
       "        text-align: right;\n",
       "    }\n",
       "</style>\n",
       "<table border=\"1\" class=\"dataframe\">\n",
       "  <thead>\n",
       "    <tr style=\"text-align: right;\">\n",
       "      <th></th>\n",
       "      <th>TDF2:Eqaully</th>\n",
       "      <th>TDF:Eqaully</th>\n",
       "      <th>TDF:InvVol</th>\n",
       "      <th>TDF:ERC</th>\n",
       "      <th>KODEX200</th>\n",
       "    </tr>\n",
       "  </thead>\n",
       "  <tbody>\n",
       "    <tr>\n",
       "      <th>start</th>\n",
       "      <td>2018-07-25</td>\n",
       "      <td>2018-07-25</td>\n",
       "      <td>2018-07-25</td>\n",
       "      <td>2018-07-25</td>\n",
       "      <td>2018-07-25</td>\n",
       "    </tr>\n",
       "    <tr>\n",
       "      <th>end</th>\n",
       "      <td>2024-06-14</td>\n",
       "      <td>2024-06-14</td>\n",
       "      <td>2024-06-14</td>\n",
       "      <td>2024-06-14</td>\n",
       "      <td>2024-06-14</td>\n",
       "    </tr>\n",
       "    <tr>\n",
       "      <th>total_return</th>\n",
       "      <td>0.386717</td>\n",
       "      <td>0.369804</td>\n",
       "      <td>0.334643</td>\n",
       "      <td>0.338897</td>\n",
       "      <td>0.548027</td>\n",
       "    </tr>\n",
       "    <tr>\n",
       "      <th>cagr</th>\n",
       "      <td>0.057086</td>\n",
       "      <td>0.054885</td>\n",
       "      <td>0.050238</td>\n",
       "      <td>0.050805</td>\n",
       "      <td>0.077024</td>\n",
       "    </tr>\n",
       "    <tr>\n",
       "      <th>calmar</th>\n",
       "      <td>0.264737</td>\n",
       "      <td>0.264097</td>\n",
       "      <td>0.262103</td>\n",
       "      <td>0.262441</td>\n",
       "      <td>0.222392</td>\n",
       "    </tr>\n",
       "    <tr>\n",
       "      <th>max_drawdown</th>\n",
       "      <td>-0.215632</td>\n",
       "      <td>-0.207823</td>\n",
       "      <td>-0.191671</td>\n",
       "      <td>-0.193587</td>\n",
       "      <td>-0.346343</td>\n",
       "    </tr>\n",
       "    <tr>\n",
       "      <th>avg_drawdown</th>\n",
       "      <td>-0.01504</td>\n",
       "      <td>-0.014127</td>\n",
       "      <td>-0.012421</td>\n",
       "      <td>-0.012834</td>\n",
       "      <td>-0.041874</td>\n",
       "    </tr>\n",
       "    <tr>\n",
       "      <th>avg_drawdown_days</th>\n",
       "      <td>32.085106</td>\n",
       "      <td>31.333333</td>\n",
       "      <td>29.86</td>\n",
       "      <td>30.653061</td>\n",
       "      <td>53.935484</td>\n",
       "    </tr>\n",
       "    <tr>\n",
       "      <th>daily_vol</th>\n",
       "      <td>0.066812</td>\n",
       "      <td>0.064454</td>\n",
       "      <td>0.058252</td>\n",
       "      <td>0.058886</td>\n",
       "      <td>0.183777</td>\n",
       "    </tr>\n",
       "    <tr>\n",
       "      <th>daily_sharpe</th>\n",
       "      <td>0.884602</td>\n",
       "      <td>0.881452</td>\n",
       "      <td>0.891091</td>\n",
       "      <td>0.891528</td>\n",
       "      <td>0.505265</td>\n",
       "    </tr>\n",
       "    <tr>\n",
       "      <th>daily_sortino</th>\n",
       "      <td>1.306209</td>\n",
       "      <td>1.294179</td>\n",
       "      <td>1.301712</td>\n",
       "      <td>1.30679</td>\n",
       "      <td>0.825467</td>\n",
       "    </tr>\n",
       "    <tr>\n",
       "      <th>monthly_vol</th>\n",
       "      <td>0.096905</td>\n",
       "      <td>0.09397</td>\n",
       "      <td>0.086018</td>\n",
       "      <td>0.087612</td>\n",
       "      <td>0.185472</td>\n",
       "    </tr>\n",
       "    <tr>\n",
       "      <th>monthly_sharpe</th>\n",
       "      <td>0.620209</td>\n",
       "      <td>0.614402</td>\n",
       "      <td>0.611524</td>\n",
       "      <td>0.608165</td>\n",
       "      <td>0.490696</td>\n",
       "    </tr>\n",
       "    <tr>\n",
       "      <th>monthly_sortino</th>\n",
       "      <td>0.93898</td>\n",
       "      <td>0.927488</td>\n",
       "      <td>0.913321</td>\n",
       "      <td>0.908545</td>\n",
       "      <td>0.869934</td>\n",
       "    </tr>\n",
       "  </tbody>\n",
       "</table>\n",
       "</div>"
      ],
      "text/plain": [
       "                  TDF2:Eqaully TDF:Eqaully  TDF:InvVol     TDF:ERC    KODEX200\n",
       "start               2018-07-25  2018-07-25  2018-07-25  2018-07-25  2018-07-25\n",
       "end                 2024-06-14  2024-06-14  2024-06-14  2024-06-14  2024-06-14\n",
       "total_return          0.386717    0.369804    0.334643    0.338897    0.548027\n",
       "cagr                  0.057086    0.054885    0.050238    0.050805    0.077024\n",
       "calmar                0.264737    0.264097    0.262103    0.262441    0.222392\n",
       "max_drawdown         -0.215632   -0.207823   -0.191671   -0.193587   -0.346343\n",
       "avg_drawdown          -0.01504   -0.014127   -0.012421   -0.012834   -0.041874\n",
       "avg_drawdown_days    32.085106   31.333333       29.86   30.653061   53.935484\n",
       "daily_vol             0.066812    0.064454    0.058252    0.058886    0.183777\n",
       "daily_sharpe          0.884602    0.881452    0.891091    0.891528    0.505265\n",
       "daily_sortino         1.306209    1.294179    1.301712     1.30679    0.825467\n",
       "monthly_vol           0.096905     0.09397    0.086018    0.087612    0.185472\n",
       "monthly_sharpe        0.620209    0.614402    0.611524    0.608165    0.490696\n",
       "monthly_sortino        0.93898    0.927488    0.913321    0.908545    0.869934"
      ]
     },
     "execution_count": 41,
     "metadata": {},
     "output_type": "execute_result"
    },
    {
     "data": {
      "image/png": "[encoded data removed]",
      "text/plain": [
       "<Figure size 1000x400 with 1 Axes>"
      ]
     },
     "metadata": {},
     "output_type": "display_data"
    }
   ],
   "source": [
    "bm.run(figsize=(10,4), stats_sort_by='monthly_sharpe')"
   ]
  },
  {
   "cell_type": "code",
   "execution_count": 42,
   "id": "4a861844-46f2-407d-9dbe-e4d4844c0284",
   "metadata": {},
   "outputs": [],
   "source": [
    "df = bm.get_historical()\n",
    "df_pf = df_pf.join(df['TDF2:Eqaully'])"
   ]
  },
  {
   "cell_type": "markdown",
   "id": "cf8a0232-f3a2-43db-aa5f-3d909e8263a8",
   "metadata": {},
   "source": [
    "## Summary"
   ]
  },
  {
   "cell_type": "code",
   "execution_count": 43,
   "id": "dee14040-64ef-44d3-96d2-4d77d6592098",
   "metadata": {},
   "outputs": [
    {
     "name": "stdout",
     "output_type": "stream",
     "text": [
      "WARNING: the number of days in a year with followings is 244.66666666666666 in avg.:\n",
      "ETF:Eqaully: 244\n",
      "ETF:ERC: 244\n",
      "TDF2:Eqaully: 246\n"
     ]
    }
   ],
   "source": [
    "ae = AssetEvaluator(df_pf, 245)"
   ]
  },
  {
   "cell_type": "code",
   "execution_count": 44,
   "id": "4d62e8a7-f9c6-4c25-a6f0-71d2e1759c95",
   "metadata": {},
   "outputs": [
    {
     "data": {
      "text/html": [
       "<div>\n",
       "<style scoped>\n",
       "    .dataframe tbody tr th:only-of-type {\n",
       "        vertical-align: middle;\n",
       "    }\n",
       "\n",
       "    .dataframe tbody tr th {\n",
       "        vertical-align: top;\n",
       "    }\n",
       "\n",
       "    .dataframe thead th {\n",
       "        text-align: right;\n",
       "    }\n",
       "</style>\n",
       "<table border=\"1\" class=\"dataframe\">\n",
       "  <thead>\n",
       "    <tr style=\"text-align: right;\">\n",
       "      <th></th>\n",
       "      <th>ETF:Eqaully</th>\n",
       "      <th>ETF:ERC</th>\n",
       "      <th>KOSPI:Momentum</th>\n",
       "      <th>TDF2:Eqaully</th>\n",
       "      <th>KODEX200</th>\n",
       "    </tr>\n",
       "  </thead>\n",
       "  <tbody>\n",
       "    <tr>\n",
       "      <th>start</th>\n",
       "      <td>2022-12-19</td>\n",
       "      <td>2022-12-19</td>\n",
       "      <td>2022-01-25</td>\n",
       "      <td>2022-01-10</td>\n",
       "      <td>2022-01-10</td>\n",
       "    </tr>\n",
       "    <tr>\n",
       "      <th>end</th>\n",
       "      <td>2024-07-10</td>\n",
       "      <td>2024-07-10</td>\n",
       "      <td>2024-07-10</td>\n",
       "      <td>2024-06-14</td>\n",
       "      <td>2024-07-10</td>\n",
       "    </tr>\n",
       "    <tr>\n",
       "      <th>total_return</th>\n",
       "      <td>0.261244</td>\n",
       "      <td>0.214048</td>\n",
       "      <td>5.853925</td>\n",
       "      <td>0.048404</td>\n",
       "      <td>0.074952</td>\n",
       "    </tr>\n",
       "    <tr>\n",
       "      <th>cagr</th>\n",
       "      <td>0.160659</td>\n",
       "      <td>0.132589</td>\n",
       "      <td>1.18971</td>\n",
       "      <td>0.019678</td>\n",
       "      <td>0.029369</td>\n",
       "    </tr>\n",
       "    <tr>\n",
       "      <th>calmar</th>\n",
       "      <td>4.37009</td>\n",
       "      <td>3.44514</td>\n",
       "      <td>4.526184</td>\n",
       "      <td>0.120567</td>\n",
       "      <td>0.10556</td>\n",
       "    </tr>\n",
       "    <tr>\n",
       "      <th>max_drawdown</th>\n",
       "      <td>-0.036763</td>\n",
       "      <td>-0.038486</td>\n",
       "      <td>-0.262851</td>\n",
       "      <td>-0.16321</td>\n",
       "      <td>-0.278222</td>\n",
       "    </tr>\n",
       "    <tr>\n",
       "      <th>avg_drawdown</th>\n",
       "      <td>-0.007851</td>\n",
       "      <td>-0.007471</td>\n",
       "      <td>-0.059227</td>\n",
       "      <td>-0.02669</td>\n",
       "      <td>-0.061003</td>\n",
       "    </tr>\n",
       "    <tr>\n",
       "      <th>avg_drawdown_days</th>\n",
       "      <td>12.771429</td>\n",
       "      <td>17.346154</td>\n",
       "      <td>17.488372</td>\n",
       "      <td>106.375</td>\n",
       "      <td>180.0</td>\n",
       "    </tr>\n",
       "    <tr>\n",
       "      <th>daily_vol</th>\n",
       "      <td>0.059009</td>\n",
       "      <td>0.051766</td>\n",
       "      <td>0.467761</td>\n",
       "      <td>0.068992</td>\n",
       "      <td>0.173421</td>\n",
       "    </tr>\n",
       "    <tr>\n",
       "      <th>daily_sharpe</th>\n",
       "      <td>2.624961</td>\n",
       "      <td>2.498196</td>\n",
       "      <td>1.953838</td>\n",
       "      <td>0.324167</td>\n",
       "      <td>0.257587</td>\n",
       "    </tr>\n",
       "    <tr>\n",
       "      <th>daily_sortino</th>\n",
       "      <td>4.625224</td>\n",
       "      <td>4.374066</td>\n",
       "      <td>3.669234</td>\n",
       "      <td>0.519324</td>\n",
       "      <td>0.443011</td>\n",
       "    </tr>\n",
       "    <tr>\n",
       "      <th>monthly_vol</th>\n",
       "      <td>0.070436</td>\n",
       "      <td>0.062211</td>\n",
       "      <td>0.534109</td>\n",
       "      <td>0.090631</td>\n",
       "      <td>0.201774</td>\n",
       "    </tr>\n",
       "    <tr>\n",
       "      <th>monthly_sharpe</th>\n",
       "      <td>2.384834</td>\n",
       "      <td>2.243935</td>\n",
       "      <td>1.741862</td>\n",
       "      <td>0.476933</td>\n",
       "      <td>0.392928</td>\n",
       "    </tr>\n",
       "    <tr>\n",
       "      <th>monthly_sortino</th>\n",
       "      <td>9.104262</td>\n",
       "      <td>10.834222</td>\n",
       "      <td>6.165058</td>\n",
       "      <td>0.793051</td>\n",
       "      <td>0.64124</td>\n",
       "    </tr>\n",
       "  </tbody>\n",
       "</table>\n",
       "</div>"
      ],
      "text/plain": [
       "                  ETF:Eqaully     ETF:ERC KOSPI:Momentum TDF2:Eqaully  \\\n",
       "start              2022-12-19  2022-12-19     2022-01-25   2022-01-10   \n",
       "end                2024-07-10  2024-07-10     2024-07-10   2024-06-14   \n",
       "total_return         0.261244    0.214048       5.853925     0.048404   \n",
       "cagr                 0.160659    0.132589        1.18971     0.019678   \n",
       "calmar                4.37009     3.44514       4.526184     0.120567   \n",
       "max_drawdown        -0.036763   -0.038486      -0.262851     -0.16321   \n",
       "avg_drawdown        -0.007851   -0.007471      -0.059227     -0.02669   \n",
       "avg_drawdown_days   12.771429   17.346154      17.488372      106.375   \n",
       "daily_vol            0.059009    0.051766       0.467761     0.068992   \n",
       "daily_sharpe         2.624961    2.498196       1.953838     0.324167   \n",
       "daily_sortino        4.625224    4.374066       3.669234     0.519324   \n",
       "monthly_vol          0.070436    0.062211       0.534109     0.090631   \n",
       "monthly_sharpe       2.384834    2.243935       1.741862     0.476933   \n",
       "monthly_sortino      9.104262   10.834222       6.165058     0.793051   \n",
       "\n",
       "                     KODEX200  \n",
       "start              2022-01-10  \n",
       "end                2024-07-10  \n",
       "total_return         0.074952  \n",
       "cagr                 0.029369  \n",
       "calmar                0.10556  \n",
       "max_drawdown        -0.278222  \n",
       "avg_drawdown        -0.061003  \n",
       "avg_drawdown_days       180.0  \n",
       "daily_vol            0.173421  \n",
       "daily_sharpe         0.257587  \n",
       "daily_sortino        0.443011  \n",
       "monthly_vol          0.201774  \n",
       "monthly_sharpe       0.392928  \n",
       "monthly_sortino       0.64124  "
      ]
     },
     "execution_count": 44,
     "metadata": {},
     "output_type": "execute_result"
    }
   ],
   "source": [
    "ae.get_stats(sort_by='monthly_sharpe', align_period=False)"
   ]
  },
  {
   "cell_type": "markdown",
   "id": "2c9b3de9-e20a-4486-9fc7-7ba75bd5fdec",
   "metadata": {},
   "source": [
    "# Transaction"
   ]
  },
  {
   "cell_type": "markdown",
   "id": "8c1d7580-8b01-4154-8c49-14f4063b6b03",
   "metadata": {},
   "source": [
    "## KOSPI200"
   ]
  },
  {
   "cell_type": "code",
   "execution_count": 12,
   "id": "ab3a72e9-226d-40dd-bac4-b76740397cca",
   "metadata": {},
   "outputs": [
    {
     "name": "stdout",
     "output_type": "stream",
     "text": [
      "15 assets removed for shorter periods (7.5%)\n",
      "running self.util_check_days_in_year to check days in a year\n",
      "Transaction record to 2024-02-29 loaded.\n"
     ]
    }
   ],
   "source": [
    "kwargs = dict(\n",
    "    name='KOSPI Momentum',\n",
    "    file='pf_k200_momentum.csv',\n",
    "    method_select='Simple', method_weigh='ERC', lookback=12, lag=5,\n",
    "    path=path_tran,\n",
    "    days_in_year=246,\n",
    "    asset_names=assetnames_k200,\n",
    ")\n",
    "\n",
    "pf_k200 = MomentumPortfolio(df_k200, **kwargs)"
   ]
  },
  {
   "cell_type": "code",
   "execution_count": 13,
   "id": "2de584d4-b370-4c8f-b071-4edfb93387ee",
   "metadata": {},
   "outputs": [
    {
     "data": {
      "image/png": "[encoded data removed]",
      "text/plain": [
       "<Figure size 1000x400 with 2 Axes>"
      ]
     },
     "metadata": {},
     "output_type": "display_data"
    }
   ],
   "source": [
    "pf_k200.plot()"
   ]
  },
  {
   "cell_type": "code",
   "execution_count": 14,
   "id": "18459292-7c64-4513-8364-99db89ad036f",
   "metadata": {},
   "outputs": [
    {
     "data": {
      "text/html": [
       "<div>\n",
       "<style scoped>\n",
       "    .dataframe tbody tr th:only-of-type {\n",
       "        vertical-align: middle;\n",
       "    }\n",
       "\n",
       "    .dataframe tbody tr th {\n",
       "        vertical-align: top;\n",
       "    }\n",
       "\n",
       "    .dataframe thead th {\n",
       "        text-align: right;\n",
       "    }\n",
       "</style>\n",
       "<table border=\"1\" class=\"dataframe\">\n",
       "  <thead>\n",
       "    <tr style=\"text-align: right;\">\n",
       "      <th></th>\n",
       "      <th>KOSPI Momentum</th>\n",
       "    </tr>\n",
       "  </thead>\n",
       "  <tbody>\n",
       "    <tr>\n",
       "      <th>start</th>\n",
       "      <td>2023-12-28</td>\n",
       "    </tr>\n",
       "    <tr>\n",
       "      <th>end</th>\n",
       "      <td>2024-07-10</td>\n",
       "    </tr>\n",
       "    <tr>\n",
       "      <th>total_return</th>\n",
       "      <td>0.727825</td>\n",
       "    </tr>\n",
       "    <tr>\n",
       "      <th>cagr</th>\n",
       "      <td>1.785193</td>\n",
       "    </tr>\n",
       "    <tr>\n",
       "      <th>calmar</th>\n",
       "      <td>9.912636</td>\n",
       "    </tr>\n",
       "    <tr>\n",
       "      <th>max_drawdown</th>\n",
       "      <td>-0.180093</td>\n",
       "    </tr>\n",
       "    <tr>\n",
       "      <th>avg_drawdown</th>\n",
       "      <td>-0.039306</td>\n",
       "    </tr>\n",
       "    <tr>\n",
       "      <th>avg_drawdown_days</th>\n",
       "      <td>9.0</td>\n",
       "    </tr>\n",
       "    <tr>\n",
       "      <th>daily_vol</th>\n",
       "      <td>0.401825</td>\n",
       "    </tr>\n",
       "    <tr>\n",
       "      <th>daily_sharpe</th>\n",
       "      <td>2.861148</td>\n",
       "    </tr>\n",
       "    <tr>\n",
       "      <th>daily_sortino</th>\n",
       "      <td>5.894552</td>\n",
       "    </tr>\n",
       "    <tr>\n",
       "      <th>monthly_vol</th>\n",
       "      <td>0.483799</td>\n",
       "    </tr>\n",
       "    <tr>\n",
       "      <th>monthly_sharpe</th>\n",
       "      <td>2.211686</td>\n",
       "    </tr>\n",
       "    <tr>\n",
       "      <th>monthly_sortino</th>\n",
       "      <td>5.670879</td>\n",
       "    </tr>\n",
       "  </tbody>\n",
       "</table>\n",
       "</div>"
      ],
      "text/plain": [
       "                  KOSPI Momentum\n",
       "start                 2023-12-28\n",
       "end                   2024-07-10\n",
       "total_return            0.727825\n",
       "cagr                    1.785193\n",
       "calmar                  9.912636\n",
       "max_drawdown           -0.180093\n",
       "avg_drawdown           -0.039306\n",
       "avg_drawdown_days            9.0\n",
       "daily_vol               0.401825\n",
       "daily_sharpe            2.861148\n",
       "daily_sortino           5.894552\n",
       "monthly_vol             0.483799\n",
       "monthly_sharpe          2.211686\n",
       "monthly_sortino         5.670879"
      ]
     },
     "execution_count": 14,
     "metadata": {},
     "output_type": "execute_result"
    }
   ],
   "source": [
    "pf_k200.performance(metrics=metrics)"
   ]
  },
  {
   "cell_type": "code",
   "execution_count": 15,
   "id": "7c854a36-4ff7-4dfe-bc1e-912246f2f712",
   "metadata": {},
   "outputs": [
    {
     "name": "stdout",
     "output_type": "stream",
     "text": [
      "5 assets selected by Total return from 2023-07-05 to 2024-07-05\n",
      "Weights of assets determined by ERC.\n",
      "Value 17,455,000, Profit 7,151,800\n",
      "Set save=True to save transaction record\n"
     ]
    }
   ],
   "source": [
    "kwargs = dict(\n",
    "    #date = '2024-01-01',\n",
    "    #date = '2024-03-01',\n",
    "    date = None,\n",
    "    save = False\n",
    ")\n",
    "df = pf_k200.transaction_pipeline(**kwargs)"
   ]
  },
  {
   "cell_type": "code",
   "execution_count": 16,
   "id": "23150194-e55e-4279-8954-3a61ce25a19c",
   "metadata": {},
   "outputs": [],
   "source": [
    "#pf_k200.performance(metrics=metrics2)\n",
    "df_pf = pf_k200.get_historical()"
   ]
  },
  {
   "cell_type": "markdown",
   "id": "c7cd959d-e330-4d8c-9f6b-a277b01e94f5",
   "metadata": {},
   "source": [
    "## ETF"
   ]
  },
  {
   "cell_type": "code",
   "execution_count": 17,
   "id": "28b212e9-bd21-47d4-b625-d49d1bef9eba",
   "metadata": {},
   "outputs": [
    {
     "name": "stdout",
     "output_type": "stream",
     "text": [
      "period reset: 2021-12-15 ~ 2024-07-10\n",
      "running self.util_check_days_in_year to check days in a year\n",
      "Transaction record to 2024-04-30 loaded.\n"
     ]
    }
   ],
   "source": [
    "kwargs = dict(\n",
    "    name='ETF6',\n",
    "    file='pf_etf_static.csv',\n",
    "    method_weigh='ERC', lookback=12, lag=5,\n",
    "    path=path_tran,\n",
    "    days_in_year=245,\n",
    "    asset_names=assetnames_etf,\n",
    ")\n",
    "\n",
    "pf_etf = StaticPortfolio(df_etf, **kwargs)"
   ]
  },
  {
   "cell_type": "code",
   "execution_count": 18,
   "id": "6545f563-554e-41a8-8441-bf51f40e35b0",
   "metadata": {},
   "outputs": [
    {
     "data": {
      "image/png": "[encoded data removed]",
      "text/plain": [
       "<Figure size 1000x400 with 2 Axes>"
      ]
     },
     "metadata": {},
     "output_type": "display_data"
    }
   ],
   "source": [
    "pf_etf.plot()"
   ]
  },
  {
   "cell_type": "code",
   "execution_count": 19,
   "id": "74abca3f-6864-4a0d-a760-ac41728e35b6",
   "metadata": {},
   "outputs": [
    {
     "data": {
      "text/html": [
       "<div>\n",
       "<style scoped>\n",
       "    .dataframe tbody tr th:only-of-type {\n",
       "        vertical-align: middle;\n",
       "    }\n",
       "\n",
       "    .dataframe tbody tr th {\n",
       "        vertical-align: top;\n",
       "    }\n",
       "\n",
       "    .dataframe thead th {\n",
       "        text-align: right;\n",
       "    }\n",
       "</style>\n",
       "<table border=\"1\" class=\"dataframe\">\n",
       "  <thead>\n",
       "    <tr style=\"text-align: right;\">\n",
       "      <th></th>\n",
       "      <th>ETF6</th>\n",
       "    </tr>\n",
       "  </thead>\n",
       "  <tbody>\n",
       "    <tr>\n",
       "      <th>start</th>\n",
       "      <td>2023-12-28</td>\n",
       "    </tr>\n",
       "    <tr>\n",
       "      <th>end</th>\n",
       "      <td>2024-07-10</td>\n",
       "    </tr>\n",
       "    <tr>\n",
       "      <th>total_return</th>\n",
       "      <td>0.082719</td>\n",
       "    </tr>\n",
       "    <tr>\n",
       "      <th>cagr</th>\n",
       "      <td>0.160515</td>\n",
       "    </tr>\n",
       "    <tr>\n",
       "      <th>calmar</th>\n",
       "      <td>7.300269</td>\n",
       "    </tr>\n",
       "    <tr>\n",
       "      <th>max_drawdown</th>\n",
       "      <td>-0.021988</td>\n",
       "    </tr>\n",
       "    <tr>\n",
       "      <th>avg_drawdown</th>\n",
       "      <td>-0.006941</td>\n",
       "    </tr>\n",
       "    <tr>\n",
       "      <th>avg_drawdown_days</th>\n",
       "      <td>10.846154</td>\n",
       "    </tr>\n",
       "    <tr>\n",
       "      <th>daily_vol</th>\n",
       "      <td>0.058542</td>\n",
       "    </tr>\n",
       "    <tr>\n",
       "      <th>daily_sharpe</th>\n",
       "      <td>2.681895</td>\n",
       "    </tr>\n",
       "    <tr>\n",
       "      <th>daily_sortino</th>\n",
       "      <td>4.533459</td>\n",
       "    </tr>\n",
       "    <tr>\n",
       "      <th>monthly_vol</th>\n",
       "      <td>0.069106</td>\n",
       "    </tr>\n",
       "    <tr>\n",
       "      <th>monthly_sharpe</th>\n",
       "      <td>2.011726</td>\n",
       "    </tr>\n",
       "    <tr>\n",
       "      <th>monthly_sortino</th>\n",
       "      <td>10.294911</td>\n",
       "    </tr>\n",
       "  </tbody>\n",
       "</table>\n",
       "</div>"
      ],
      "text/plain": [
       "                         ETF6\n",
       "start              2023-12-28\n",
       "end                2024-07-10\n",
       "total_return         0.082719\n",
       "cagr                 0.160515\n",
       "calmar               7.300269\n",
       "max_drawdown        -0.021988\n",
       "avg_drawdown        -0.006941\n",
       "avg_drawdown_days   10.846154\n",
       "daily_vol            0.058542\n",
       "daily_sharpe         2.681895\n",
       "daily_sortino        4.533459\n",
       "monthly_vol          0.069106\n",
       "monthly_sharpe       2.011726\n",
       "monthly_sortino     10.294911"
      ]
     },
     "execution_count": 19,
     "metadata": {},
     "output_type": "execute_result"
    }
   ],
   "source": [
    "pf_etf.performance(metrics=metrics)"
   ]
  },
  {
   "cell_type": "code",
   "execution_count": 20,
   "id": "1a593c5d-812f-4f2e-81b4-6ecc7f97e65f",
   "metadata": {},
   "outputs": [
    {
     "name": "stdout",
     "output_type": "stream",
     "text": [
      "6 assets from 2023-07-05 to 2024-07-05 prepared for weight analysis\n",
      "Weights of assets determined by ERC.\n",
      "Value 11,024,129, Profit 1,023,614\n",
      "Set save=True to save transaction record\n"
     ]
    },
    {
     "data": {
      "text/html": [
       "<div>\n",
       "<style scoped>\n",
       "    .dataframe tbody tr th:only-of-type {\n",
       "        vertical-align: middle;\n",
       "    }\n",
       "\n",
       "    .dataframe tbody tr th {\n",
       "        vertical-align: top;\n",
       "    }\n",
       "\n",
       "    .dataframe thead th {\n",
       "        text-align: right;\n",
       "    }\n",
       "</style>\n",
       "<table border=\"1\" class=\"dataframe\">\n",
       "  <thead>\n",
       "    <tr style=\"text-align: right;\">\n",
       "      <th></th>\n",
       "      <th></th>\n",
       "      <th>name</th>\n",
       "      <th>price</th>\n",
       "      <th>transaction</th>\n",
       "      <th>net</th>\n",
       "      <th>weight</th>\n",
       "    </tr>\n",
       "    <tr>\n",
       "      <th>date</th>\n",
       "      <th>asset</th>\n",
       "      <th></th>\n",
       "      <th></th>\n",
       "      <th></th>\n",
       "      <th></th>\n",
       "      <th></th>\n",
       "    </tr>\n",
       "  </thead>\n",
       "  <tbody>\n",
       "    <tr>\n",
       "      <th rowspan=\"6\" valign=\"top\">2023-12-28</th>\n",
       "      <th>069500</th>\n",
       "      <td>KODEX 200</td>\n",
       "      <td>35635</td>\n",
       "      <td>29</td>\n",
       "      <td>29</td>\n",
       "      <td>0.10</td>\n",
       "    </tr>\n",
       "    <tr>\n",
       "      <th>148070</th>\n",
       "      <td>KOSEF 국고채10년</td>\n",
       "      <td>112490</td>\n",
       "      <td>14</td>\n",
       "      <td>14</td>\n",
       "      <td>0.16</td>\n",
       "    </tr>\n",
       "    <tr>\n",
       "      <th>273130</th>\n",
       "      <td>KODEX 종합채권(AA-이상)액티브</td>\n",
       "      <td>109855</td>\n",
       "      <td>22</td>\n",
       "      <td>22</td>\n",
       "      <td>0.24</td>\n",
       "    </tr>\n",
       "    <tr>\n",
       "      <th>284430</th>\n",
       "      <td>KODEX 200미국채혼합</td>\n",
       "      <td>12580</td>\n",
       "      <td>129</td>\n",
       "      <td>129</td>\n",
       "      <td>0.16</td>\n",
       "    </tr>\n",
       "    <tr>\n",
       "      <th>379800</th>\n",
       "      <td>KODEX 미국S&amp;P500TR</td>\n",
       "      <td>13955</td>\n",
       "      <td>112</td>\n",
       "      <td>112</td>\n",
       "      <td>0.16</td>\n",
       "    </tr>\n",
       "    <tr>\n",
       "      <th>411060</th>\n",
       "      <td>ACE KRX금현물</td>\n",
       "      <td>12330</td>\n",
       "      <td>135</td>\n",
       "      <td>135</td>\n",
       "      <td>0.17</td>\n",
       "    </tr>\n",
       "    <tr>\n",
       "      <th rowspan=\"6\" valign=\"top\">2024-02-29</th>\n",
       "      <th>069500</th>\n",
       "      <td>KODEX 200</td>\n",
       "      <td>35404</td>\n",
       "      <td>-1</td>\n",
       "      <td>28</td>\n",
       "      <td>0.10</td>\n",
       "    </tr>\n",
       "    <tr>\n",
       "      <th>148070</th>\n",
       "      <td>KOSEF 국고채10년</td>\n",
       "      <td>110565</td>\n",
       "      <td>0</td>\n",
       "      <td>14</td>\n",
       "      <td>0.16</td>\n",
       "    </tr>\n",
       "    <tr>\n",
       "      <th>273130</th>\n",
       "      <td>KODEX 종합채권(AA-이상)액티브</td>\n",
       "      <td>109025</td>\n",
       "      <td>0</td>\n",
       "      <td>22</td>\n",
       "      <td>0.25</td>\n",
       "    </tr>\n",
       "    <tr>\n",
       "      <th>284430</th>\n",
       "      <td>KODEX 200미국채혼합</td>\n",
       "      <td>12585</td>\n",
       "      <td>-6</td>\n",
       "      <td>123</td>\n",
       "      <td>0.16</td>\n",
       "    </tr>\n",
       "    <tr>\n",
       "      <th>379800</th>\n",
       "      <td>KODEX 미국S&amp;P500TR</td>\n",
       "      <td>15300</td>\n",
       "      <td>-5</td>\n",
       "      <td>107</td>\n",
       "      <td>0.17</td>\n",
       "    </tr>\n",
       "    <tr>\n",
       "      <th>411060</th>\n",
       "      <td>ACE KRX금현물</td>\n",
       "      <td>12465</td>\n",
       "      <td>-6</td>\n",
       "      <td>129</td>\n",
       "      <td>0.17</td>\n",
       "    </tr>\n",
       "    <tr>\n",
       "      <th rowspan=\"6\" valign=\"top\">2024-04-30</th>\n",
       "      <th>069500</th>\n",
       "      <td>KODEX 200</td>\n",
       "      <td>36650</td>\n",
       "      <td>-3</td>\n",
       "      <td>25</td>\n",
       "      <td>0.09</td>\n",
       "    </tr>\n",
       "    <tr>\n",
       "      <th>148070</th>\n",
       "      <td>KOSEF 국고채10년</td>\n",
       "      <td>109870</td>\n",
       "      <td>1</td>\n",
       "      <td>15</td>\n",
       "      <td>0.17</td>\n",
       "    </tr>\n",
       "    <tr>\n",
       "      <th>273130</th>\n",
       "      <td>KODEX 종합채권(AA-이상)액티브</td>\n",
       "      <td>109185</td>\n",
       "      <td>1</td>\n",
       "      <td>23</td>\n",
       "      <td>0.26</td>\n",
       "    </tr>\n",
       "    <tr>\n",
       "      <th>284430</th>\n",
       "      <td>KODEX 200미국채혼합</td>\n",
       "      <td>12805</td>\n",
       "      <td>1</td>\n",
       "      <td>124</td>\n",
       "      <td>0.16</td>\n",
       "    </tr>\n",
       "    <tr>\n",
       "      <th>379800</th>\n",
       "      <td>KODEX 미국S&amp;P500TR</td>\n",
       "      <td>16030</td>\n",
       "      <td>-10</td>\n",
       "      <td>97</td>\n",
       "      <td>0.16</td>\n",
       "    </tr>\n",
       "    <tr>\n",
       "      <th>411060</th>\n",
       "      <td>ACE KRX금현물</td>\n",
       "      <td>14800</td>\n",
       "      <td>-31</td>\n",
       "      <td>98</td>\n",
       "      <td>0.15</td>\n",
       "    </tr>\n",
       "    <tr>\n",
       "      <th rowspan=\"6\" valign=\"top\">2024-07-10</th>\n",
       "      <th>069500</th>\n",
       "      <td>KODEX 200</td>\n",
       "      <td>39735</td>\n",
       "      <td>-4</td>\n",
       "      <td>21</td>\n",
       "      <td>0.08</td>\n",
       "    </tr>\n",
       "    <tr>\n",
       "      <th>148070</th>\n",
       "      <td>KOSEF 국고채10년</td>\n",
       "      <td>114330</td>\n",
       "      <td>1</td>\n",
       "      <td>16</td>\n",
       "      <td>0.18</td>\n",
       "    </tr>\n",
       "    <tr>\n",
       "      <th>273130</th>\n",
       "      <td>KODEX 종합채권(AA-이상)액티브</td>\n",
       "      <td>112380</td>\n",
       "      <td>1</td>\n",
       "      <td>24</td>\n",
       "      <td>0.27</td>\n",
       "    </tr>\n",
       "    <tr>\n",
       "      <th>284430</th>\n",
       "      <td>KODEX 200미국채혼합</td>\n",
       "      <td>13490</td>\n",
       "      <td>-4</td>\n",
       "      <td>120</td>\n",
       "      <td>0.16</td>\n",
       "    </tr>\n",
       "    <tr>\n",
       "      <th>379800</th>\n",
       "      <td>KODEX 미국S&amp;P500TR</td>\n",
       "      <td>17560</td>\n",
       "      <td>-7</td>\n",
       "      <td>90</td>\n",
       "      <td>0.16</td>\n",
       "    </tr>\n",
       "    <tr>\n",
       "      <th>411060</th>\n",
       "      <td>ACE KRX금현물</td>\n",
       "      <td>15005</td>\n",
       "      <td>-2</td>\n",
       "      <td>96</td>\n",
       "      <td>0.14</td>\n",
       "    </tr>\n",
       "  </tbody>\n",
       "</table>\n",
       "</div>"
      ],
      "text/plain": [
       "                                   name   price  transaction  net weight\n",
       "date       asset                                                        \n",
       "2023-12-28 069500             KODEX 200   35635           29   29   0.10\n",
       "           148070          KOSEF 국고채10년  112490           14   14   0.16\n",
       "           273130  KODEX 종합채권(AA-이상)액티브  109855           22   22   0.24\n",
       "           284430        KODEX 200미국채혼합   12580          129  129   0.16\n",
       "           379800      KODEX 미국S&P500TR   13955          112  112   0.16\n",
       "           411060            ACE KRX금현물   12330          135  135   0.17\n",
       "2024-02-29 069500             KODEX 200   35404           -1   28   0.10\n",
       "           148070          KOSEF 국고채10년  110565            0   14   0.16\n",
       "           273130  KODEX 종합채권(AA-이상)액티브  109025            0   22   0.25\n",
       "           284430        KODEX 200미국채혼합   12585           -6  123   0.16\n",
       "           379800      KODEX 미국S&P500TR   15300           -5  107   0.17\n",
       "           411060            ACE KRX금현물   12465           -6  129   0.17\n",
       "2024-04-30 069500             KODEX 200   36650           -3   25   0.09\n",
       "           148070          KOSEF 국고채10년  109870            1   15   0.17\n",
       "           273130  KODEX 종합채권(AA-이상)액티브  109185            1   23   0.26\n",
       "           284430        KODEX 200미국채혼합   12805            1  124   0.16\n",
       "           379800      KODEX 미국S&P500TR   16030          -10   97   0.16\n",
       "           411060            ACE KRX금현물   14800          -31   98   0.15\n",
       "2024-07-10 069500             KODEX 200   39735           -4   21   0.08\n",
       "           148070          KOSEF 국고채10년  114330            1   16   0.18\n",
       "           273130  KODEX 종합채권(AA-이상)액티브  112380            1   24   0.27\n",
       "           284430        KODEX 200미국채혼합   13490           -4  120   0.16\n",
       "           379800      KODEX 미국S&P500TR   17560           -7   90   0.16\n",
       "           411060            ACE KRX금현물   15005           -2   96   0.14"
      ]
     },
     "execution_count": 20,
     "metadata": {},
     "output_type": "execute_result"
    }
   ],
   "source": [
    "pf_etf.transaction_pipeline(save=False)"
   ]
  },
  {
   "cell_type": "code",
   "execution_count": 21,
   "id": "75ecc717-a7e5-4ef6-acdf-1f7980833064",
   "metadata": {},
   "outputs": [],
   "source": [
    "df_pf = df_pf.to_frame().join(pf_etf.get_historical())"
   ]
  },
  {
   "cell_type": "markdown",
   "id": "5cb5a3a2-0bbe-4f0c-adcf-49a72186ee99",
   "metadata": {},
   "source": [
    "## TDF"
   ]
  },
  {
   "cell_type": "code",
   "execution_count": 22,
   "id": "bc90a2f2-946a-4427-8ea2-4b1bb805f321",
   "metadata": {},
   "outputs": [],
   "source": [
    "choice = ['K55301BU6139', 'K55206C95800']"
   ]
  },
  {
   "cell_type": "code",
   "execution_count": 23,
   "id": "f68c42e4-7d44-4394-a3b9-d32e3e7f6fe1",
   "metadata": {},
   "outputs": [
    {
     "name": "stdout",
     "output_type": "stream",
     "text": [
      "period reset: 2018-07-26 ~ 2024-07-14\n",
      "running self.util_check_days_in_year to check days in a year\n",
      "Transaction record to 2024-06-19 loaded.\n"
     ]
    }
   ],
   "source": [
    "kwargs = dict(\n",
    "    name='TDF2',\n",
    "    file='pf_tdf_static.csv',\n",
    "    lookback=12, lag=5,\n",
    "    path=path_tran,\n",
    "    days_in_year=365,\n",
    "    asset_names=assetnames_tdf,\n",
    ")\n",
    "\n",
    "pf_tdf = StaticPortfolio(df_tdf[choice], **kwargs)"
   ]
  },
  {
   "cell_type": "code",
   "execution_count": 24,
   "id": "b0d8203a-f1f9-4979-a126-0142aa20efd8",
   "metadata": {},
   "outputs": [
    {
     "name": "stdout",
     "output_type": "stream",
     "text": [
      "2 assets from 2023-06-14 to 2024-06-14 prepared for weight analysis\n",
      "ERROR: check the date as no new transaction\n",
      "The profit from the most recent transaction: 0\n"
     ]
    }
   ],
   "source": [
    "kwargs = dict(\n",
    "    method_weigh = 'Equally', \n",
    "    date = '2024-06-19',\n",
    "    save = True\n",
    ")\n",
    "df = pf_tdf.transaction_pipeline(**kwargs)"
   ]
  },
  {
   "cell_type": "code",
   "execution_count": 25,
   "id": "b86d91f9-881d-4655-ab82-2f7b7bf7c4da",
   "metadata": {},
   "outputs": [
    {
     "data": {
      "image/png": "[encoded data removed]",
      "text/plain": [
       "<Figure size 1000x400 with 2 Axes>"
      ]
     },
     "metadata": {},
     "output_type": "display_data"
    }
   ],
   "source": [
    "pf_tdf.plot()"
   ]
  },
  {
   "cell_type": "code",
   "execution_count": 26,
   "id": "6b0e5105-b09c-4e98-85b1-402d5cd21f61",
   "metadata": {},
   "outputs": [
    {
     "data": {
      "text/html": [
       "<div>\n",
       "<style scoped>\n",
       "    .dataframe tbody tr th:only-of-type {\n",
       "        vertical-align: middle;\n",
       "    }\n",
       "\n",
       "    .dataframe tbody tr th {\n",
       "        vertical-align: top;\n",
       "    }\n",
       "\n",
       "    .dataframe thead th {\n",
       "        text-align: right;\n",
       "    }\n",
       "</style>\n",
       "<table border=\"1\" class=\"dataframe\">\n",
       "  <thead>\n",
       "    <tr style=\"text-align: right;\">\n",
       "      <th></th>\n",
       "      <th>TDF2</th>\n",
       "    </tr>\n",
       "  </thead>\n",
       "  <tbody>\n",
       "    <tr>\n",
       "      <th>start</th>\n",
       "      <td>2024-06-19</td>\n",
       "    </tr>\n",
       "    <tr>\n",
       "      <th>end</th>\n",
       "      <td>2024-07-14</td>\n",
       "    </tr>\n",
       "    <tr>\n",
       "      <th>total_return</th>\n",
       "      <td>0.01553</td>\n",
       "    </tr>\n",
       "    <tr>\n",
       "      <th>cagr</th>\n",
       "      <td>0.252514</td>\n",
       "    </tr>\n",
       "    <tr>\n",
       "      <th>calmar</th>\n",
       "      <td>57.175393</td>\n",
       "    </tr>\n",
       "    <tr>\n",
       "      <th>max_drawdown</th>\n",
       "      <td>-0.004416</td>\n",
       "    </tr>\n",
       "    <tr>\n",
       "      <th>avg_drawdown</th>\n",
       "      <td>-0.004416</td>\n",
       "    </tr>\n",
       "    <tr>\n",
       "      <th>avg_drawdown_days</th>\n",
       "      <td>13.0</td>\n",
       "    </tr>\n",
       "    <tr>\n",
       "      <th>daily_vol</th>\n",
       "      <td>0.025607</td>\n",
       "    </tr>\n",
       "    <tr>\n",
       "      <th>daily_sharpe</th>\n",
       "      <td>6.080427</td>\n",
       "    </tr>\n",
       "    <tr>\n",
       "      <th>daily_sortino</th>\n",
       "      <td>15.797769</td>\n",
       "    </tr>\n",
       "    <tr>\n",
       "      <th>monthly_vol</th>\n",
       "      <td>NaN</td>\n",
       "    </tr>\n",
       "    <tr>\n",
       "      <th>monthly_sharpe</th>\n",
       "      <td>NaN</td>\n",
       "    </tr>\n",
       "    <tr>\n",
       "      <th>monthly_sortino</th>\n",
       "      <td>NaN</td>\n",
       "    </tr>\n",
       "  </tbody>\n",
       "</table>\n",
       "</div>"
      ],
      "text/plain": [
       "                         TDF2\n",
       "start              2024-06-19\n",
       "end                2024-07-14\n",
       "total_return          0.01553\n",
       "cagr                 0.252514\n",
       "calmar              57.175393\n",
       "max_drawdown        -0.004416\n",
       "avg_drawdown        -0.004416\n",
       "avg_drawdown_days        13.0\n",
       "daily_vol            0.025607\n",
       "daily_sharpe         6.080427\n",
       "daily_sortino       15.797769\n",
       "monthly_vol               NaN\n",
       "monthly_sharpe            NaN\n",
       "monthly_sortino           NaN"
      ]
     },
     "execution_count": 26,
     "metadata": {},
     "output_type": "execute_result"
    }
   ],
   "source": [
    "pf_tdf.performance(metrics=metrics)"
   ]
  },
  {
   "cell_type": "code",
   "execution_count": 27,
   "id": "3c4f4017-c044-45f2-b08b-4b4149b59576",
   "metadata": {},
   "outputs": [
    {
     "data": {
      "text/html": [
       "<div>\n",
       "<style scoped>\n",
       "    .dataframe tbody tr th:only-of-type {\n",
       "        vertical-align: middle;\n",
       "    }\n",
       "\n",
       "    .dataframe tbody tr th {\n",
       "        vertical-align: top;\n",
       "    }\n",
       "\n",
       "    .dataframe thead th {\n",
       "        text-align: right;\n",
       "    }\n",
       "</style>\n",
       "<table border=\"1\" class=\"dataframe\">\n",
       "  <thead>\n",
       "    <tr style=\"text-align: right;\">\n",
       "      <th></th>\n",
       "      <th>KOSPI Momentum</th>\n",
       "      <th>ETF6</th>\n",
       "      <th>TDF2</th>\n",
       "    </tr>\n",
       "  </thead>\n",
       "  <tbody>\n",
       "    <tr>\n",
       "      <th>2024-07-04</th>\n",
       "      <td>16337050</td>\n",
       "      <td>10622669.0</td>\n",
       "      <td>1.005072e+07</td>\n",
       "    </tr>\n",
       "    <tr>\n",
       "      <th>2024-07-05</th>\n",
       "      <td>16412850</td>\n",
       "      <td>10652259.0</td>\n",
       "      <td>1.006876e+07</td>\n",
       "    </tr>\n",
       "    <tr>\n",
       "      <th>2024-07-08</th>\n",
       "      <td>16559650</td>\n",
       "      <td>10687249.0</td>\n",
       "      <td>1.007790e+07</td>\n",
       "    </tr>\n",
       "    <tr>\n",
       "      <th>2024-07-09</th>\n",
       "      <td>16707450</td>\n",
       "      <td>10699414.0</td>\n",
       "      <td>1.011091e+07</td>\n",
       "    </tr>\n",
       "    <tr>\n",
       "      <th>2024-07-10</th>\n",
       "      <td>17455000</td>\n",
       "      <td>11024129.0</td>\n",
       "      <td>1.011854e+07</td>\n",
       "    </tr>\n",
       "  </tbody>\n",
       "</table>\n",
       "</div>"
      ],
      "text/plain": [
       "            KOSPI Momentum        ETF6          TDF2\n",
       "2024-07-04        16337050  10622669.0  1.005072e+07\n",
       "2024-07-05        16412850  10652259.0  1.006876e+07\n",
       "2024-07-08        16559650  10687249.0  1.007790e+07\n",
       "2024-07-09        16707450  10699414.0  1.011091e+07\n",
       "2024-07-10        17455000  11024129.0  1.011854e+07"
      ]
     },
     "execution_count": 27,
     "metadata": {},
     "output_type": "execute_result"
    }
   ],
   "source": [
    "df_pf = df_pf.join(pf_tdf.get_historical())\n",
    "df_pf.tail()"
   ]
  },
  {
   "cell_type": "code",
   "execution_count": null,
   "id": "2b016e60-2efb-44b8-bf2c-1dedc1efff24",
   "metadata": {},
   "outputs": [],
   "source": []
  },
  {
   "cell_type": "code",
   "execution_count": 74,
   "id": "134d2831-c881-4623-aac1-e5b27a79fb8e",
   "metadata": {},
   "outputs": [
    {
     "name": "stdout",
     "output_type": "stream",
     "text": [
      "WARNING: the number of days in a year with followings is nan in avg.:\n"
     ]
    },
    {
     "ename": "ValueError",
     "evalue": "cannot convert float NaN to integer",
     "output_type": "error",
     "traceback": [
      "\u001b[0;31m---------------------------------------------------------------------------\u001b[0m",
      "\u001b[0;31mValueError\u001b[0m                                Traceback (most recent call last)",
      "Cell \u001b[0;32mIn[74], line 2\u001b[0m\n\u001b[1;32m      1\u001b[0m \u001b[38;5;66;03m#ae = AssetEvaluator(df_pf.iloc[:,0], 242)\u001b[39;00m\n\u001b[0;32m----> 2\u001b[0m ae \u001b[38;5;241m=\u001b[39m \u001b[43mAssetEvaluator\u001b[49m\u001b[43m(\u001b[49m\u001b[43mdf_pf\u001b[49m\u001b[43m[\u001b[49m\u001b[38;5;124;43m'\u001b[39;49m\u001b[38;5;124;43mTDF2\u001b[39;49m\u001b[38;5;124;43m'\u001b[39;49m\u001b[43m]\u001b[49m\u001b[38;5;241;43m.\u001b[39;49m\u001b[43mdropna\u001b[49m\u001b[43m(\u001b[49m\u001b[43m)\u001b[49m\u001b[43m,\u001b[49m\u001b[43m \u001b[49m\u001b[38;5;241;43m242\u001b[39;49m\u001b[43m)\u001b[49m\n",
      "File \u001b[0;32m~/works/pf/pf_utils.py:1770\u001b[0m, in \u001b[0;36mAssetEvaluator.__init__\u001b[0;34m(self, df_prices, days_in_year, metrics)\u001b[0m\n\u001b[1;32m   1768\u001b[0m \u001b[38;5;28;01mif\u001b[39;00m df_prices\u001b[38;5;241m.\u001b[39mindex\u001b[38;5;241m.\u001b[39mname \u001b[38;5;129;01mis\u001b[39;00m \u001b[38;5;28;01mNone\u001b[39;00m:\n\u001b[1;32m   1769\u001b[0m     df_prices\u001b[38;5;241m.\u001b[39mindex\u001b[38;5;241m.\u001b[39mname \u001b[38;5;241m=\u001b[39m \u001b[38;5;124m'\u001b[39m\u001b[38;5;124mdate\u001b[39m\u001b[38;5;124m'\u001b[39m \u001b[38;5;66;03m# set index name to run check_days_in_year\u001b[39;00m\n\u001b[0;32m-> 1770\u001b[0m _ \u001b[38;5;241m=\u001b[39m \u001b[43mcheck_days_in_year\u001b[49m\u001b[43m(\u001b[49m\u001b[43mdf_prices\u001b[49m\u001b[43m,\u001b[49m\u001b[43m \u001b[49m\u001b[43mdays_in_year\u001b[49m\u001b[43m,\u001b[49m\u001b[43m \u001b[49m\u001b[43mfreq\u001b[49m\u001b[38;5;241;43m=\u001b[39;49m\u001b[38;5;124;43m'\u001b[39;49m\u001b[38;5;124;43mM\u001b[39;49m\u001b[38;5;124;43m'\u001b[39;49m\u001b[43m)\u001b[49m\n\u001b[1;32m   1772\u001b[0m \u001b[38;5;28mself\u001b[39m\u001b[38;5;241m.\u001b[39mdf_prices \u001b[38;5;241m=\u001b[39m df_prices\n\u001b[1;32m   1773\u001b[0m \u001b[38;5;28mself\u001b[39m\u001b[38;5;241m.\u001b[39mdays_in_year \u001b[38;5;241m=\u001b[39m days_in_year\n",
      "File \u001b[0;32m~/works/pf/pf_utils.py:212\u001b[0m, in \u001b[0;36mcheck_days_in_year\u001b[0;34m(df, days_in_year, freq, n_thr)\u001b[0m\n\u001b[1;32m    209\u001b[0m \u001b[38;5;28;01mif\u001b[39;00m n \u001b[38;5;241m<\u001b[39m n_thr:\n\u001b[1;32m    210\u001b[0m     \u001b[38;5;66;03m#print(f'WARNING: the number of days in a year with followings is not {days_in_year} in setting:')\u001b[39;00m\n\u001b[1;32m    211\u001b[0m     \u001b[38;5;28mprint\u001b[39m(\u001b[38;5;124mf\u001b[39m\u001b[38;5;124m'\u001b[39m\u001b[38;5;124mWARNING: the number of days in a year with followings is \u001b[39m\u001b[38;5;132;01m{\u001b[39;00mdf\u001b[38;5;241m.\u001b[39mmean()\u001b[38;5;132;01m}\u001b[39;00m\u001b[38;5;124m in avg.:\u001b[39m\u001b[38;5;124m'\u001b[39m)\n\u001b[0;32m--> 212\u001b[0m     _ \u001b[38;5;241m=\u001b[39m [\u001b[38;5;28mprint\u001b[39m(\u001b[38;5;124mf\u001b[39m\u001b[38;5;124m'\u001b[39m\u001b[38;5;132;01m{\u001b[39;00mk\u001b[38;5;132;01m}\u001b[39;00m\u001b[38;5;124m: \u001b[39m\u001b[38;5;132;01m{\u001b[39;00m\u001b[38;5;28;43mint\u001b[39;49m\u001b[43m(\u001b[49m\u001b[43mv\u001b[49m\u001b[43m)\u001b[49m\u001b[38;5;132;01m}\u001b[39;00m\u001b[38;5;124m'\u001b[39m) \u001b[38;5;28;01mfor\u001b[39;00m k,v \u001b[38;5;129;01min\u001b[39;00m df\u001b[38;5;241m.\u001b[39mto_dict()\u001b[38;5;241m.\u001b[39mitems()]\n\u001b[1;32m    213\u001b[0m \u001b[38;5;28;01melse\u001b[39;00m:\n\u001b[1;32m    214\u001b[0m     p \u001b[38;5;241m=\u001b[39m n \u001b[38;5;241m/\u001b[39m \u001b[38;5;28mlen\u001b[39m(df_days) \u001b[38;5;241m*\u001b[39m \u001b[38;5;241m100\u001b[39m\n",
      "\u001b[0;31mValueError\u001b[0m: cannot convert float NaN to integer"
     ]
    }
   ],
   "source": [
    "#ae = AssetEvaluator(df_pf.iloc[:,0], 242)\n",
    "ae = AssetEvaluator(df_pf['TDF2'].dropna(), 242)"
   ]
  },
  {
   "cell_type": "code",
   "execution_count": 35,
   "id": "bcd8177c-5034-400a-9a64-3e88adf99349",
   "metadata": {},
   "outputs": [],
   "source": [
    "def check_days_in_year(df, days_in_year=252, freq='M', n_thr=10):\n",
    "    \"\"\"\n",
    "    freq: unit to check days_in_year in df\n",
    "    \"\"\"\n",
    "    if freq == 'Y':\n",
    "        grp_format = '%Y'\n",
    "        #days_in_freq = days_in_year\n",
    "        factor = 1\n",
    "    elif freq == 'W':\n",
    "        grp_format = '%Y%m%U'\n",
    "        #days_in_freq = round(days_in_year/12/WEEKS_IN_YEAR)\n",
    "        factor = 12 * WEEKS_IN_YEAR\n",
    "    else: # default month\n",
    "        grp_format = '%Y%m'\n",
    "        #days_in_freq = round(days_in_year/12)\n",
    "        factor = 12\n",
    "\n",
    "    # calc mean days for each asset\n",
    "    df_days = (df.assign(gb=df.index.strftime(grp_format)).set_index('gb')\n",
    "                 .apply(lambda x: x.dropna().groupby('gb').count()[1:-1])\n",
    "                 .fillna(0).mul(factor).mean().round())\n",
    "\n",
    "    cond = (df_days != days_in_year)\n",
    "    if cond.sum() > 0:\n",
    "        df = df_days.loc[cond]\n",
    "        n = len(df)\n",
    "        if n < n_thr:\n",
    "            #print(f'WARNING: the number of days in a year with followings is not {days_in_year} in setting:')\n",
    "            print(f'WARNING: the number of days in a year with followings is {df.mean()} in avg.:')\n",
    "            _ = [print(f'{k}: {int(v)}') for k,v in df.to_dict().items()]\n",
    "        else:\n",
    "            p = n / len(df_days) * 100\n",
    "            #print(f'WARNING: the number of days in a year with {n} assets ({p:.0f}%) is not {days_in_year} in setting:')\n",
    "            print(f'WARNING: the number of days in a year with {n} assets ({p:.0f}%) is {df.mean()} in avg.')\n",
    "    \n",
    "    return df_days"
   ]
  },
  {
   "cell_type": "code",
   "execution_count": 36,
   "id": "1a145dc7-34c5-4199-a438-d323fac520c9",
   "metadata": {},
   "outputs": [
    {
     "name": "stdout",
     "output_type": "stream",
     "text": [
      "WARNING: the number of days in a year with followings is 121.0 in avg.:\n",
      "ETF6: 242\n",
      "TDF2: 0\n"
     ]
    },
    {
     "data": {
      "text/plain": [
       "ETF6    242.0\n",
       "TDF2      0.0\n",
       "dtype: float64"
      ]
     },
     "execution_count": 36,
     "metadata": {},
     "output_type": "execute_result"
    }
   ],
   "source": [
    "df = df_pf.iloc[:,1:]\n",
    "\n",
    "check_days_in_year(df)"
   ]
  },
  {
   "cell_type": "code",
   "execution_count": 89,
   "id": "bc51cf1b-f865-426d-9685-2f11ad0a1ab8",
   "metadata": {},
   "outputs": [
    {
     "data": {
      "text/plain": [
       "ETF6    242.0\n",
       "TDF2      NaN\n",
       "dtype: float64"
      ]
     },
     "execution_count": 89,
     "metadata": {},
     "output_type": "execute_result"
    }
   ],
   "source": [
    "days_in_year=252\n",
    "freq='M'\n",
    "n_thr=10\n",
    "\"\"\"\n",
    "freq: unit to check days_in_year in df\n",
    "\"\"\"\n",
    "if freq == 'Y':\n",
    "    grp_format = '%Y'\n",
    "    #days_in_freq = days_in_year\n",
    "    factor = 1\n",
    "elif freq == 'W':\n",
    "    grp_format = '%Y%m%U'\n",
    "    #days_in_freq = round(days_in_year/12/WEEKS_IN_YEAR)\n",
    "    factor = 12 * WEEKS_IN_YEAR\n",
    "else: # default month\n",
    "    grp_format = '%Y%m'\n",
    "    #days_in_freq = round(days_in_year/12)\n",
    "    factor = 12\n",
    "\n",
    "# calc mean days for each asset\n",
    "df_days = (df.assign(gb=df.index.strftime(grp_format)).set_index('gb')\n",
    "             .apply(lambda x: x.dropna().groupby('gb').count()[1:-1])\n",
    "             #.apply(lambda x: x.dropna().groupby('gb').count())\n",
    "             .mul(factor)\n",
    "           .mean().round()\n",
    "          )\n",
    "df_days"
   ]
  },
  {
   "cell_type": "code",
   "execution_count": 99,
   "id": "53ccf52f-b264-4e9d-aa6d-d04b8793da14",
   "metadata": {},
   "outputs": [
    {
     "data": {
      "text/plain": [
       "False"
      ]
     },
     "execution_count": 99,
     "metadata": {},
     "output_type": "execute_result"
    }
   ],
   "source": [
    "import numpy as np\n",
    "cond = (df_days != days_in_year)\n",
    "a = df_days.loc[cond].to_dict()['TDF2']\n",
    "a == np.nan"
   ]
  },
  {
   "cell_type": "code",
   "execution_count": 92,
   "id": "709331c5-ed59-4614-9895-b7a755dd5ce6",
   "metadata": {},
   "outputs": [
    {
     "data": {
      "text/plain": [
       "2"
      ]
     },
     "execution_count": 92,
     "metadata": {},
     "output_type": "execute_result"
    }
   ],
   "source": [
    "cond.sum()"
   ]
  },
  {
   "cell_type": "code",
   "execution_count": 102,
   "id": "95c0b64c-4e8d-44b3-a992-5ced1e62eb10",
   "metadata": {},
   "outputs": [
    {
     "data": {
      "text/plain": [
       "nan"
      ]
     },
     "execution_count": 102,
     "metadata": {},
     "output_type": "execute_result"
    }
   ],
   "source": [
    "a"
   ]
  },
  {
   "cell_type": "markdown",
   "id": "2c0c0f41-2166-4548-81c6-b5c79425aa0b",
   "metadata": {},
   "source": [
    "## Summary"
   ]
  },
  {
   "cell_type": "code",
   "execution_count": 28,
   "id": "8055a381-ad8e-4770-a1ce-de8f682d0be6",
   "metadata": {},
   "outputs": [
    {
     "name": "stdout",
     "output_type": "stream",
     "text": [
      "WARNING: the number of days in a year with followings is 0.0 in avg.:\n",
      "TDF2: 0\n"
     ]
    },
    {
     "data": {
      "text/html": [
       "<div>\n",
       "<style scoped>\n",
       "    .dataframe tbody tr th:only-of-type {\n",
       "        vertical-align: middle;\n",
       "    }\n",
       "\n",
       "    .dataframe tbody tr th {\n",
       "        vertical-align: top;\n",
       "    }\n",
       "\n",
       "    .dataframe thead th {\n",
       "        text-align: right;\n",
       "    }\n",
       "</style>\n",
       "<table border=\"1\" class=\"dataframe\">\n",
       "  <thead>\n",
       "    <tr style=\"text-align: right;\">\n",
       "      <th></th>\n",
       "      <th>ETF6</th>\n",
       "      <th>KOSPI Momentum</th>\n",
       "      <th>TDF2</th>\n",
       "    </tr>\n",
       "  </thead>\n",
       "  <tbody>\n",
       "    <tr>\n",
       "      <th>start</th>\n",
       "      <td>2023-12-28</td>\n",
       "      <td>2023-12-28</td>\n",
       "      <td>2024-06-19</td>\n",
       "    </tr>\n",
       "    <tr>\n",
       "      <th>end</th>\n",
       "      <td>2024-07-10</td>\n",
       "      <td>2024-07-10</td>\n",
       "      <td>2024-07-10</td>\n",
       "    </tr>\n",
       "    <tr>\n",
       "      <th>total_return</th>\n",
       "      <td>0.116321</td>\n",
       "      <td>0.772693</td>\n",
       "      <td>0.012395</td>\n",
       "    </tr>\n",
       "    <tr>\n",
       "      <th>cagr</th>\n",
       "      <td>0.228888</td>\n",
       "      <td>1.922199</td>\n",
       "      <td>0.238936</td>\n",
       "    </tr>\n",
       "    <tr>\n",
       "      <th>calmar</th>\n",
       "      <td>10.409919</td>\n",
       "      <td>10.673391</td>\n",
       "      <td>54.100936</td>\n",
       "    </tr>\n",
       "    <tr>\n",
       "      <th>max_drawdown</th>\n",
       "      <td>-0.021988</td>\n",
       "      <td>-0.180093</td>\n",
       "      <td>-0.004416</td>\n",
       "    </tr>\n",
       "    <tr>\n",
       "      <th>avg_drawdown</th>\n",
       "      <td>-0.007464</td>\n",
       "      <td>-0.039306</td>\n",
       "      <td>-0.004416</td>\n",
       "    </tr>\n",
       "    <tr>\n",
       "      <th>avg_drawdown_days</th>\n",
       "      <td>11.75</td>\n",
       "      <td>9.0</td>\n",
       "      <td>13.0</td>\n",
       "    </tr>\n",
       "    <tr>\n",
       "      <th>daily_vol</th>\n",
       "      <td>0.071756</td>\n",
       "      <td>0.405289</td>\n",
       "      <td>0.031278</td>\n",
       "    </tr>\n",
       "    <tr>\n",
       "      <th>daily_sharpe</th>\n",
       "      <td>3.032362</td>\n",
       "      <td>2.964145</td>\n",
       "      <td>6.633781</td>\n",
       "    </tr>\n",
       "    <tr>\n",
       "      <th>daily_sortino</th>\n",
       "      <td>6.277634</td>\n",
       "      <td>6.159402</td>\n",
       "      <td>17.346539</td>\n",
       "    </tr>\n",
       "    <tr>\n",
       "      <th>monthly_vol</th>\n",
       "      <td>0.08258</td>\n",
       "      <td>0.477627</td>\n",
       "      <td>NaN</td>\n",
       "    </tr>\n",
       "    <tr>\n",
       "      <th>monthly_sharpe</th>\n",
       "      <td>2.336978</td>\n",
       "      <td>2.335511</td>\n",
       "      <td>NaN</td>\n",
       "    </tr>\n",
       "    <tr>\n",
       "      <th>monthly_sortino</th>\n",
       "      <td>14.291057</td>\n",
       "      <td>5.911975</td>\n",
       "      <td>NaN</td>\n",
       "    </tr>\n",
       "  </tbody>\n",
       "</table>\n",
       "</div>"
      ],
      "text/plain": [
       "                         ETF6 KOSPI Momentum        TDF2\n",
       "start              2023-12-28     2023-12-28  2024-06-19\n",
       "end                2024-07-10     2024-07-10  2024-07-10\n",
       "total_return         0.116321       0.772693    0.012395\n",
       "cagr                 0.228888       1.922199    0.238936\n",
       "calmar              10.409919      10.673391   54.100936\n",
       "max_drawdown        -0.021988      -0.180093   -0.004416\n",
       "avg_drawdown        -0.007464      -0.039306   -0.004416\n",
       "avg_drawdown_days       11.75            9.0        13.0\n",
       "daily_vol            0.071756       0.405289    0.031278\n",
       "daily_sharpe         3.032362       2.964145    6.633781\n",
       "daily_sortino        6.277634       6.159402   17.346539\n",
       "monthly_vol           0.08258       0.477627         NaN\n",
       "monthly_sharpe       2.336978       2.335511         NaN\n",
       "monthly_sortino     14.291057       5.911975         NaN"
      ]
     },
     "execution_count": 28,
     "metadata": {},
     "output_type": "execute_result"
    }
   ],
   "source": [
    "ae = AssetEvaluator(df_pf, 242)\n",
    "ae.get_stats(sort_by='monthly_sharpe', align_period=False)"
   ]
  },
  {
   "cell_type": "code",
   "execution_count": 29,
   "id": "801c9a16-90e8-43bc-85fb-03ed2030e06f",
   "metadata": {},
   "outputs": [
    {
     "data": {
      "image/png": "[encoded data removed]",
      "text/plain": [
       "<Figure size 1000x400 with 1 Axes>"
      ]
     },
     "metadata": {},
     "output_type": "display_data"
    }
   ],
   "source": [
    "_ = ae.plot_historical()"
   ]
  },
  {
   "cell_type": "code",
   "execution_count": null,
   "id": "9d9a3346-5763-4ea9-a8ba-f8431a7e3c2e",
   "metadata": {},
   "outputs": [],
   "source": []
  }
 ],
 "metadata": {
  "kernelspec": {
   "display_name": "portfolio",
   "language": "python",
   "name": "portfolio"
  },
  "language_info": {
   "codemirror_mode": {
    "name": "ipython",
    "version": 3
   },
   "file_extension": ".py",
   "mimetype": "text/x-python",
   "name": "python",
   "nbconvert_exporter": "python",
   "pygments_lexer": "ipython3",
   "version": "3.12.1"
  }
 },
 "nbformat": 4,
 "nbformat_minor": 5
}
