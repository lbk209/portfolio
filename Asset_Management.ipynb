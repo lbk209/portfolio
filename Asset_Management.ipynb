{
 "cells": [
  {
   "cell_type": "markdown",
   "id": "1a0d2b60-5842-4969-8229-84f355dc46fc",
   "metadata": {},
   "source": [
    "# Setting"
   ]
  },
  {
   "cell_type": "code",
   "execution_count": 1,
   "id": "7009fd2f-8efd-4ed3-a187-01939304fa9e",
   "metadata": {},
   "outputs": [
    {
     "name": "stderr",
     "output_type": "stream",
     "text": [
      "WARNING (pytensor.tensor.blas): Using NumPy C-API based implementation for BLAS functions.\n"
     ]
    }
   ],
   "source": [
    "from pf_utils import BacktestManager, DataManager, StaticPortfolio, MomentumPortfolio"
   ]
  },
  {
   "cell_type": "code",
   "execution_count": 2,
   "id": "723adb14-cd00-4d96-9c64-5a8628e82f44",
   "metadata": {},
   "outputs": [],
   "source": [
    "metrics2 = [\n",
    "    'cagr', 'monthly_vol', 'monthly_sharpe',\n",
    "    'max_drawdown', 'avg_drawdown','avg_drawdown_days', \n",
    "]\n",
    "\n",
    "path_data = 'data'\n",
    "path_tran = 'transaction'"
   ]
  },
  {
   "cell_type": "markdown",
   "id": "c786112f-9aef-4df7-8248-4ddcfcb2c1f0",
   "metadata": {},
   "source": [
    "# Universe"
   ]
  },
  {
   "cell_type": "code",
   "execution_count": 3,
   "id": "8d428956-e4e3-4f34-8564-ec3a2cbd8dcd",
   "metadata": {},
   "outputs": [],
   "source": [
    "file_k200 = 'kospi200_prices_240710.csv'\n",
    "file_etf = 'etfs_all_240710.csv'\n",
    "download = False"
   ]
  },
  {
   "cell_type": "markdown",
   "id": "1cb34ee5-b007-48b4-a11b-188e6bafad0f",
   "metadata": {},
   "source": [
    "## KOSPI200"
   ]
  },
  {
   "cell_type": "code",
   "execution_count": 4,
   "id": "8aa50408-fd2b-45f5-81ed-6c1a2479eb77",
   "metadata": {},
   "outputs": [
    {
     "name": "stdout",
     "output_type": "stream",
     "text": [
      "200 assets from 2021-01-04 to 2024-07-10 uploaded.\n",
      "df_prices updated\n"
     ]
    }
   ],
   "source": [
    "k200 = DataManager(\n",
    "    file = file_k200,\n",
    "    universe = 'KOSPI200',\n",
    "    path = path_data\n",
    ")\n",
    "k200.upload()"
   ]
  },
  {
   "cell_type": "code",
   "execution_count": 5,
   "id": "56cfa843-ffc7-469f-a18d-aefecdac2e5d",
   "metadata": {},
   "outputs": [],
   "source": [
    "kw = dict(\n",
    "    n_years=3, \n",
    "    close_today=True,\n",
    "    #tickers=k200.df_prices.columns\n",
    ")\n",
    "k200.download(**kw) if download else None"
   ]
  },
  {
   "cell_type": "code",
   "execution_count": 6,
   "id": "6654a8a7-4530-4c54-8fd7-46d71981e9f6",
   "metadata": {},
   "outputs": [],
   "source": [
    "df_k200 = k200.df_prices\n",
    "assetnames_k200 = k200.get_names()"
   ]
  },
  {
   "cell_type": "markdown",
   "id": "39d0213d-1cd0-42f6-8066-abb2eb6dd5db",
   "metadata": {},
   "source": [
    "## ETF"
   ]
  },
  {
   "cell_type": "code",
   "execution_count": 7,
   "id": "26a87f56-8333-4d02-bc67-2d58cda01a18",
   "metadata": {},
   "outputs": [
    {
     "name": "stdout",
     "output_type": "stream",
     "text": [
      "870 assets from 2021-01-04 to 2024-07-10 uploaded.\n",
      "df_prices updated\n"
     ]
    }
   ],
   "source": [
    "etf = DataManager(\n",
    "    file = file_etf,\n",
    "    universe = 'ETF',\n",
    "    path = path_data\n",
    ")\n",
    "etf.upload()"
   ]
  },
  {
   "cell_type": "code",
   "execution_count": 8,
   "id": "3cc26afb-d01e-4b99-9be0-fb446726b131",
   "metadata": {},
   "outputs": [],
   "source": [
    "kw = dict(\n",
    "    n_years=3, \n",
    "    close_today=True,\n",
    "    #tickers=etf.df_prices.columns\n",
    ")\n",
    "etf.download(**kw) if download else None"
   ]
  },
  {
   "cell_type": "code",
   "execution_count": 9,
   "id": "35e4fe7f-1ebd-40f6-956c-44c464cb6a76",
   "metadata": {},
   "outputs": [
    {
     "data": {
      "text/plain": [
       "0) 069500: KODEX 200\n",
       "1) 273130: KODEX 종합채권(AA-이상)액티브\n",
       "2) 148070: KOSEF 국고채10년\n",
       "3) 379800: KODEX 미국S&P500TR\n",
       "4) 411060: ACE KRX금현물\n",
       "5) 284430: KODEX 200미국채혼합"
      ]
     },
     "execution_count": 9,
     "metadata": {},
     "output_type": "execute_result"
    }
   ],
   "source": [
    "choice = ['069500', '273130', '148070', '379800', '411060', '284430']\n",
    "df_etf = etf.df_prices[choice]\n",
    "assetnames_etf = etf.get_names(tickers=choice)\n",
    "assetnames_etf"
   ]
  },
  {
   "cell_type": "markdown",
   "id": "0aaaa9db-40ad-414a-b709-de117191981b",
   "metadata": {},
   "source": [
    "# Backtest"
   ]
  },
  {
   "cell_type": "markdown",
   "id": "0329280c-3562-4e2c-b874-726764eff47c",
   "metadata": {},
   "source": [
    "## testing"
   ]
  },
  {
   "cell_type": "markdown",
   "id": "98c66c30-ebb4-4fd2-bcfe-bc05e6ad4010",
   "metadata": {},
   "source": [
    "### class"
   ]
  },
  {
   "cell_type": "markdown",
   "id": "c03c49ca-f080-4383-940d-9643e588036f",
   "metadata": {},
   "source": [
    "### class ends"
   ]
  },
  {
   "cell_type": "markdown",
   "id": "1ab60dd0-0ea5-4edc-a435-ef7db102ed55",
   "metadata": {},
   "source": [
    "## testin ends"
   ]
  },
  {
   "cell_type": "markdown",
   "id": "00168468-3042-497d-bd8b-35ee21ca83c5",
   "metadata": {},
   "source": [
    "## KOSPI 200"
   ]
  },
  {
   "cell_type": "code",
   "execution_count": 10,
   "id": "5cd3809d-522b-4cad-944e-de081a5b3657",
   "metadata": {},
   "outputs": [
    {
     "name": "stdout",
     "output_type": "stream",
     "text": [
      "15 assets removed for shorter periods (7.5%)\n",
      "running self.util_check_days_in_year to check days in a year\n"
     ]
    }
   ],
   "source": [
    "kwargs_bm = dict(\n",
    "    initial_capital = 10000000,\n",
    "    commissions = 0,\n",
    "    align_axis = 1, \n",
    "    days_in_year = 246,\n",
    "    asset_names = assetnames_k200\n",
    ")\n",
    "bm = BacktestManager(df_k200, **kwargs_bm)"
   ]
  },
  {
   "cell_type": "code",
   "execution_count": 11,
   "id": "9a647011-2deb-48fa-ba4c-96d4a699b70f",
   "metadata": {},
   "outputs": [],
   "source": [
    "lags = dict(lookback=12, lag=12)"
   ]
  },
  {
   "cell_type": "code",
   "execution_count": 12,
   "id": "63f41609-2c02-419d-b8dd-30993313c9e1",
   "metadata": {},
   "outputs": [
    {
     "name": "stdout",
     "output_type": "stream",
     "text": [
      "Benchmark is KODEX200\n",
      "RunOnce selected\n"
     ]
    }
   ],
   "source": [
    "bm.benchmark_ticker(**lags)"
   ]
  },
  {
   "cell_type": "code",
   "execution_count": 13,
   "id": "b37e9472-eac5-4344-aa7f-a6975e7204b1",
   "metadata": {},
   "outputs": [],
   "source": [
    "select = 'Momentum'\n",
    "kwargs_build = dict(\n",
    "    name=select, select =select,\n",
    "    freq='M', weigh = 'ERC',\n",
    "    n_assets=5, **lags\n",
    ")\n",
    "bm.build(**kwargs_build)"
   ]
  },
  {
   "cell_type": "code",
   "execution_count": 14,
   "id": "ce2ebc9e-4f37-456c-8b80-6d08227047de",
   "metadata": {},
   "outputs": [],
   "source": [
    "select = 'K-ratio'\n",
    "kwargs_build.update(dict(\n",
    "    name=select, select =select\n",
    "))\n",
    "bm.build(**kwargs_build)"
   ]
  },
  {
   "cell_type": "code",
   "execution_count": 15,
   "id": "f4636d65-e08d-4f8f-b957-ec2c728b4667",
   "metadata": {},
   "outputs": [
    {
     "name": "stdout",
     "output_type": "stream",
     "text": [
      "Backtesting 3 strategies: KODEX200, Momentum, K-ratio\n"
     ]
    },
    {
     "name": "stderr",
     "output_type": "stream",
     "text": [
      "100%|█████████████████████████████████████████████████████████████████| 3/3 [00:57<00:00, 19.29s/it]"
     ]
    },
    {
     "name": "stdout",
     "output_type": "stream",
     "text": [
      "Returning stats\n"
     ]
    },
    {
     "name": "stderr",
     "output_type": "stream",
     "text": [
      "\n"
     ]
    },
    {
     "data": {
      "text/html": [
       "<div>\n",
       "<style scoped>\n",
       "    .dataframe tbody tr th:only-of-type {\n",
       "        vertical-align: middle;\n",
       "    }\n",
       "\n",
       "    .dataframe tbody tr th {\n",
       "        vertical-align: top;\n",
       "    }\n",
       "\n",
       "    .dataframe thead th {\n",
       "        text-align: right;\n",
       "    }\n",
       "</style>\n",
       "<table border=\"1\" class=\"dataframe\">\n",
       "  <thead>\n",
       "    <tr style=\"text-align: right;\">\n",
       "      <th></th>\n",
       "      <th>KODEX200</th>\n",
       "      <th>Momentum</th>\n",
       "      <th>K-ratio</th>\n",
       "    </tr>\n",
       "  </thead>\n",
       "  <tbody>\n",
       "    <tr>\n",
       "      <th>start</th>\n",
       "      <td>2021-01-03</td>\n",
       "      <td>2021-01-03</td>\n",
       "      <td>2021-01-03</td>\n",
       "    </tr>\n",
       "    <tr>\n",
       "      <th>end</th>\n",
       "      <td>2024-07-10</td>\n",
       "      <td>2024-07-10</td>\n",
       "      <td>2024-07-10</td>\n",
       "    </tr>\n",
       "    <tr>\n",
       "      <th>cagr</th>\n",
       "      <td>0.023295</td>\n",
       "      <td>0.68841</td>\n",
       "      <td>0.223438</td>\n",
       "    </tr>\n",
       "    <tr>\n",
       "      <th>monthly_vol</th>\n",
       "      <td>0.173711</td>\n",
       "      <td>0.432442</td>\n",
       "      <td>0.262307</td>\n",
       "    </tr>\n",
       "    <tr>\n",
       "      <th>monthly_sharpe</th>\n",
       "      <td>0.219454</td>\n",
       "      <td>1.428833</td>\n",
       "      <td>0.902308</td>\n",
       "    </tr>\n",
       "    <tr>\n",
       "      <th>max_drawdown</th>\n",
       "      <td>-0.257394</td>\n",
       "      <td>-0.276901</td>\n",
       "      <td>-0.229503</td>\n",
       "    </tr>\n",
       "    <tr>\n",
       "      <th>avg_drawdown</th>\n",
       "      <td>-0.039862</td>\n",
       "      <td>-0.05712</td>\n",
       "      <td>-0.043621</td>\n",
       "    </tr>\n",
       "    <tr>\n",
       "      <th>avg_drawdown_days</th>\n",
       "      <td>98.222222</td>\n",
       "      <td>17.581395</td>\n",
       "      <td>28.321429</td>\n",
       "    </tr>\n",
       "  </tbody>\n",
       "</table>\n",
       "</div>"
      ],
      "text/plain": [
       "                     KODEX200    Momentum     K-ratio\n",
       "start              2021-01-03  2021-01-03  2021-01-03\n",
       "end                2024-07-10  2024-07-10  2024-07-10\n",
       "cagr                 0.023295     0.68841    0.223438\n",
       "monthly_vol          0.173711    0.432442    0.262307\n",
       "monthly_sharpe       0.219454    1.428833    0.902308\n",
       "max_drawdown        -0.257394   -0.276901   -0.229503\n",
       "avg_drawdown        -0.039862    -0.05712   -0.043621\n",
       "avg_drawdown_days   98.222222   17.581395   28.321429"
      ]
     },
     "execution_count": 15,
     "metadata": {},
     "output_type": "execute_result"
    },
    {
     "data": {
      "image/png": "[encoded data removed]",
      "text/plain": [
       "<Figure size 1000x400 with 1 Axes>"
      ]
     },
     "metadata": {},
     "output_type": "display_data"
    }
   ],
   "source": [
    "bm.run(figsize=(10,4), metrics=metrics2)"
   ]
  },
  {
   "cell_type": "markdown",
   "id": "c7df33e3-8f1f-4633-a6aa-f4ee66196a91",
   "metadata": {},
   "source": [
    "## ETF"
   ]
  },
  {
   "cell_type": "code",
   "execution_count": 16,
   "id": "2fd24a73-19c1-413c-88a6-96bd4e00b2b3",
   "metadata": {},
   "outputs": [
    {
     "name": "stdout",
     "output_type": "stream",
     "text": [
      "period reset: 2021-12-15 ~ 2024-07-10\n",
      "running self.util_check_days_in_year to check days in a year\n"
     ]
    }
   ],
   "source": [
    "kwargs_bm = dict(\n",
    "    initial_capital = 10000000,\n",
    "    commissions = 0,\n",
    "    align_axis = 0, \n",
    "    days_in_year = 245,\n",
    "    asset_names = assetnames_etf\n",
    ")\n",
    "bm = BacktestManager(df_etf, **kwargs_bm)"
   ]
  },
  {
   "cell_type": "code",
   "execution_count": 17,
   "id": "93227910-9914-406a-a0a7-541d68a4fd44",
   "metadata": {},
   "outputs": [],
   "source": [
    "lags = dict(lookback=12, lag=0)"
   ]
  },
  {
   "cell_type": "code",
   "execution_count": 18,
   "id": "13a3623c-5807-48c4-9128-b6af7db76a99",
   "metadata": {},
   "outputs": [
    {
     "name": "stdout",
     "output_type": "stream",
     "text": [
      "Benchmark is KODEX200\n",
      "RunOnce selected\n"
     ]
    }
   ],
   "source": [
    "bm.benchmark_ticker(**lags)"
   ]
  },
  {
   "cell_type": "markdown",
   "id": "ef5f19e0-4426-48c1-9dc9-f7b6ba661615",
   "metadata": {},
   "source": [
    "### Weights"
   ]
  },
  {
   "cell_type": "code",
   "execution_count": 19,
   "id": "29dfeae2-4162-4686-bf53-83f3e97dcbef",
   "metadata": {},
   "outputs": [],
   "source": [
    "bm.build(\n",
    "    name = 'COMB1: Eqaully',\n",
    "    freq = 'Y', select = 'all', weigh = 'equally',\n",
    "    **lags # added to start backtest on same date with momentum\n",
    ")"
   ]
  },
  {
   "cell_type": "code",
   "execution_count": 20,
   "id": "26d5a384-906d-4e8f-b2da-508bdd3367a7",
   "metadata": {},
   "outputs": [],
   "source": [
    "bm.build(\n",
    "    name = 'COMB2: ERC',\n",
    "    freq = 'Y', select = 'all', weigh = 'ERC', \n",
    "    **lags\n",
    ")"
   ]
  },
  {
   "cell_type": "code",
   "execution_count": 21,
   "id": "b769cb57-06a6-4a12-bd8f-f7e33ae12af0",
   "metadata": {},
   "outputs": [],
   "source": [
    "bm.build(    \n",
    "    name = 'COMB3: InvVol',\n",
    "    freq = 'Y', select = 'all', weigh = 'InvVol', \n",
    "    **lags\n",
    ")"
   ]
  },
  {
   "cell_type": "code",
   "execution_count": 22,
   "id": "5ee4456d-88b3-464b-9345-323862c19ed3",
   "metadata": {},
   "outputs": [
    {
     "name": "stdout",
     "output_type": "stream",
     "text": [
      "Backtesting 4 strategies: KODEX200, COMB1: Eqaully, COMB2: ERC, COMB3: InvVol\n"
     ]
    },
    {
     "name": "stderr",
     "output_type": "stream",
     "text": [
      "100%|█████████████████████████████████████████████████████████████████| 4/4 [00:00<00:00,  7.11it/s]\n"
     ]
    },
    {
     "name": "stdout",
     "output_type": "stream",
     "text": [
      "Returning stats\n"
     ]
    },
    {
     "data": {
      "image/png": "[encoded data removed]",
      "text/plain": [
       "<Figure size 1000x400 with 1 Axes>"
      ]
     },
     "metadata": {},
     "output_type": "display_data"
    }
   ],
   "source": [
    "_ = bm.run(figsize=(10,4))"
   ]
  },
  {
   "cell_type": "code",
   "execution_count": 23,
   "id": "8092414f-f75a-4dee-9069-9ed65c2c3894",
   "metadata": {},
   "outputs": [
    {
     "data": {
      "text/html": [
       "<div>\n",
       "<style scoped>\n",
       "    .dataframe tbody tr th:only-of-type {\n",
       "        vertical-align: middle;\n",
       "    }\n",
       "\n",
       "    .dataframe tbody tr th {\n",
       "        vertical-align: top;\n",
       "    }\n",
       "\n",
       "    .dataframe thead th {\n",
       "        text-align: right;\n",
       "    }\n",
       "</style>\n",
       "<table border=\"1\" class=\"dataframe\">\n",
       "  <thead>\n",
       "    <tr style=\"text-align: right;\">\n",
       "      <th></th>\n",
       "      <th>COMB1: Eqaully</th>\n",
       "      <th>COMB2: ERC</th>\n",
       "      <th>COMB3: InvVol</th>\n",
       "      <th>KODEX200</th>\n",
       "    </tr>\n",
       "  </thead>\n",
       "  <tbody>\n",
       "    <tr>\n",
       "      <th>start</th>\n",
       "      <td>2021-12-14</td>\n",
       "      <td>2021-12-14</td>\n",
       "      <td>2021-12-14</td>\n",
       "      <td>2021-12-14</td>\n",
       "    </tr>\n",
       "    <tr>\n",
       "      <th>end</th>\n",
       "      <td>2024-07-10</td>\n",
       "      <td>2024-07-10</td>\n",
       "      <td>2024-07-10</td>\n",
       "      <td>2024-07-10</td>\n",
       "    </tr>\n",
       "    <tr>\n",
       "      <th>cagr</th>\n",
       "      <td>0.090121</td>\n",
       "      <td>0.076648</td>\n",
       "      <td>0.068648</td>\n",
       "      <td>0.111805</td>\n",
       "    </tr>\n",
       "    <tr>\n",
       "      <th>monthly_vol</th>\n",
       "      <td>0.066052</td>\n",
       "      <td>0.05665</td>\n",
       "      <td>0.055714</td>\n",
       "      <td>0.141305</td>\n",
       "    </tr>\n",
       "    <tr>\n",
       "      <th>monthly_sharpe</th>\n",
       "      <td>1.336255</td>\n",
       "      <td>1.328341</td>\n",
       "      <td>1.215825</td>\n",
       "      <td>0.816758</td>\n",
       "    </tr>\n",
       "    <tr>\n",
       "      <th>max_drawdown</th>\n",
       "      <td>-0.037245</td>\n",
       "      <td>-0.038813</td>\n",
       "      <td>-0.038013</td>\n",
       "      <td>-0.126072</td>\n",
       "    </tr>\n",
       "    <tr>\n",
       "      <th>avg_drawdown</th>\n",
       "      <td>-0.00824</td>\n",
       "      <td>-0.007614</td>\n",
       "      <td>-0.00727</td>\n",
       "      <td>-0.02702</td>\n",
       "    </tr>\n",
       "    <tr>\n",
       "      <th>avg_drawdown_days</th>\n",
       "      <td>13.558824</td>\n",
       "      <td>17.615385</td>\n",
       "      <td>18.48</td>\n",
       "      <td>20.75</td>\n",
       "    </tr>\n",
       "  </tbody>\n",
       "</table>\n",
       "</div>"
      ],
      "text/plain": [
       "                  COMB1: Eqaully  COMB2: ERC COMB3: InvVol    KODEX200\n",
       "start                 2021-12-14  2021-12-14    2021-12-14  2021-12-14\n",
       "end                   2024-07-10  2024-07-10    2024-07-10  2024-07-10\n",
       "cagr                    0.090121    0.076648      0.068648    0.111805\n",
       "monthly_vol             0.066052     0.05665      0.055714    0.141305\n",
       "monthly_sharpe          1.336255    1.328341      1.215825    0.816758\n",
       "max_drawdown           -0.037245   -0.038813     -0.038013   -0.126072\n",
       "avg_drawdown            -0.00824   -0.007614      -0.00727    -0.02702\n",
       "avg_drawdown_days      13.558824   17.615385         18.48       20.75"
      ]
     },
     "execution_count": 23,
     "metadata": {},
     "output_type": "execute_result"
    }
   ],
   "source": [
    "bm.get_stats(sort_by='monthly_sharpe', metrics=metrics2)"
   ]
  },
  {
   "cell_type": "markdown",
   "id": "4a918bca-8bbb-47fa-95e6-5c613e75aac0",
   "metadata": {},
   "source": [
    "### Freq"
   ]
  },
  {
   "cell_type": "code",
   "execution_count": 24,
   "id": "fd54dc34-1b67-47cd-b0ad-b6dc1e8fc36d",
   "metadata": {},
   "outputs": [],
   "source": [
    "kwargs_build = dict(\n",
    "    select = 'all', **lags,\n",
    "    weigh = 'ERC', \n",
    "    #weigh = 'Equally'\n",
    ")\n",
    "\n",
    "kwa_list = [{'name':f'freq {x}', 'freq':x} for x in ['M', 'Q', 'Y']]\n",
    "\n",
    "bm.build_batch(*kwa_list, **kwargs_build)"
   ]
  },
  {
   "cell_type": "code",
   "execution_count": 25,
   "id": "0759cc5c-c9f5-4231-b825-c3095e8ef6dc",
   "metadata": {},
   "outputs": [
    {
     "data": {
      "text/plain": [
       "0) KODEX200\n",
       "1) COMB1: Eqaully\n",
       "2) COMB2: ERC\n",
       "3) COMB3: InvVol\n",
       "4) freq M\n",
       "5) freq Q\n",
       "6) freq Y"
      ]
     },
     "execution_count": 25,
     "metadata": {},
     "output_type": "execute_result"
    }
   ],
   "source": [
    "bm.portfolios"
   ]
  },
  {
   "cell_type": "code",
   "execution_count": 26,
   "id": "e1fab293-9839-40cb-98f6-e4fcea14af04",
   "metadata": {},
   "outputs": [
    {
     "name": "stdout",
     "output_type": "stream",
     "text": [
      "Backtesting 3 strategies: freq M, freq Q, freq Y\n"
     ]
    },
    {
     "name": "stderr",
     "output_type": "stream",
     "text": [
      "100%|█████████████████████████████████████████████████████████████████| 3/3 [00:00<00:00,  6.02it/s]"
     ]
    },
    {
     "name": "stdout",
     "output_type": "stream",
     "text": [
      "Returning stats\n"
     ]
    },
    {
     "name": "stderr",
     "output_type": "stream",
     "text": [
      "\n"
     ]
    },
    {
     "data": {
      "text/html": [
       "<div>\n",
       "<style scoped>\n",
       "    .dataframe tbody tr th:only-of-type {\n",
       "        vertical-align: middle;\n",
       "    }\n",
       "\n",
       "    .dataframe tbody tr th {\n",
       "        vertical-align: top;\n",
       "    }\n",
       "\n",
       "    .dataframe thead th {\n",
       "        text-align: right;\n",
       "    }\n",
       "</style>\n",
       "<table border=\"1\" class=\"dataframe\">\n",
       "  <thead>\n",
       "    <tr style=\"text-align: right;\">\n",
       "      <th></th>\n",
       "      <th>freq Q</th>\n",
       "      <th>freq M</th>\n",
       "      <th>freq Y</th>\n",
       "    </tr>\n",
       "  </thead>\n",
       "  <tbody>\n",
       "    <tr>\n",
       "      <th>start</th>\n",
       "      <td>2021-12-14</td>\n",
       "      <td>2021-12-14</td>\n",
       "      <td>2021-12-14</td>\n",
       "    </tr>\n",
       "    <tr>\n",
       "      <th>end</th>\n",
       "      <td>2024-07-10</td>\n",
       "      <td>2024-07-10</td>\n",
       "      <td>2024-07-10</td>\n",
       "    </tr>\n",
       "    <tr>\n",
       "      <th>cagr</th>\n",
       "      <td>0.079483</td>\n",
       "      <td>0.080227</td>\n",
       "      <td>0.076648</td>\n",
       "    </tr>\n",
       "    <tr>\n",
       "      <th>monthly_vol</th>\n",
       "      <td>0.057267</td>\n",
       "      <td>0.05818</td>\n",
       "      <td>0.05665</td>\n",
       "    </tr>\n",
       "    <tr>\n",
       "      <th>monthly_sharpe</th>\n",
       "      <td>1.360582</td>\n",
       "      <td>1.351968</td>\n",
       "      <td>1.328341</td>\n",
       "    </tr>\n",
       "    <tr>\n",
       "      <th>max_drawdown</th>\n",
       "      <td>-0.037223</td>\n",
       "      <td>-0.037739</td>\n",
       "      <td>-0.038813</td>\n",
       "    </tr>\n",
       "    <tr>\n",
       "      <th>avg_drawdown</th>\n",
       "      <td>-0.006954</td>\n",
       "      <td>-0.00693</td>\n",
       "      <td>-0.007614</td>\n",
       "    </tr>\n",
       "    <tr>\n",
       "      <th>avg_drawdown_days</th>\n",
       "      <td>15.655172</td>\n",
       "      <td>15.655172</td>\n",
       "      <td>17.615385</td>\n",
       "    </tr>\n",
       "  </tbody>\n",
       "</table>\n",
       "</div>"
      ],
      "text/plain": [
       "                       freq Q      freq M      freq Y\n",
       "start              2021-12-14  2021-12-14  2021-12-14\n",
       "end                2024-07-10  2024-07-10  2024-07-10\n",
       "cagr                 0.079483    0.080227    0.076648\n",
       "monthly_vol          0.057267     0.05818     0.05665\n",
       "monthly_sharpe       1.360582    1.351968    1.328341\n",
       "max_drawdown        -0.037223   -0.037739   -0.038813\n",
       "avg_drawdown        -0.006954    -0.00693   -0.007614\n",
       "avg_drawdown_days   15.655172   15.655172   17.615385"
      ]
     },
     "execution_count": 26,
     "metadata": {},
     "output_type": "execute_result"
    }
   ],
   "source": [
    "pf_list = [4,5,6]\n",
    "_ = bm.run(pf_list, plot=False)\n",
    "bm.get_stats(sort_by='monthly_sharpe', metrics=metrics2)"
   ]
  },
  {
   "cell_type": "code",
   "execution_count": 29,
   "id": "ab2ff972-0483-4537-a4a0-356b7560d2f2",
   "metadata": {},
   "outputs": [
    {
     "name": "stdout",
     "output_type": "stream",
     "text": [
      "Backtesting 4 strategies: COMB1: Eqaully, COMB2: ERC, COMB3: InvVol, freq Q\n"
     ]
    },
    {
     "name": "stderr",
     "output_type": "stream",
     "text": [
      "100%|██████████████████████████████████████████████████████████████| 4/4 [00:00<00:00, 85163.53it/s]"
     ]
    },
    {
     "name": "stdout",
     "output_type": "stream",
     "text": [
      "Returning stats\n"
     ]
    },
    {
     "name": "stderr",
     "output_type": "stream",
     "text": [
      "\n"
     ]
    },
    {
     "data": {
      "text/html": [
       "<div>\n",
       "<style scoped>\n",
       "    .dataframe tbody tr th:only-of-type {\n",
       "        vertical-align: middle;\n",
       "    }\n",
       "\n",
       "    .dataframe tbody tr th {\n",
       "        vertical-align: top;\n",
       "    }\n",
       "\n",
       "    .dataframe thead th {\n",
       "        text-align: right;\n",
       "    }\n",
       "</style>\n",
       "<table border=\"1\" class=\"dataframe\">\n",
       "  <thead>\n",
       "    <tr style=\"text-align: right;\">\n",
       "      <th></th>\n",
       "      <th>freq Q</th>\n",
       "      <th>COMB1: Eqaully</th>\n",
       "      <th>COMB2: ERC</th>\n",
       "      <th>COMB3: InvVol</th>\n",
       "    </tr>\n",
       "  </thead>\n",
       "  <tbody>\n",
       "    <tr>\n",
       "      <th>start</th>\n",
       "      <td>2021-12-14</td>\n",
       "      <td>2021-12-14</td>\n",
       "      <td>2021-12-14</td>\n",
       "      <td>2021-12-14</td>\n",
       "    </tr>\n",
       "    <tr>\n",
       "      <th>end</th>\n",
       "      <td>2024-07-10</td>\n",
       "      <td>2024-07-10</td>\n",
       "      <td>2024-07-10</td>\n",
       "      <td>2024-07-10</td>\n",
       "    </tr>\n",
       "    <tr>\n",
       "      <th>total_return</th>\n",
       "      <td>0.217285</td>\n",
       "      <td>0.248365</td>\n",
       "      <td>0.209085</td>\n",
       "      <td>0.186123</td>\n",
       "    </tr>\n",
       "    <tr>\n",
       "      <th>cagr</th>\n",
       "      <td>0.079483</td>\n",
       "      <td>0.090121</td>\n",
       "      <td>0.076648</td>\n",
       "      <td>0.068648</td>\n",
       "    </tr>\n",
       "    <tr>\n",
       "      <th>calmar</th>\n",
       "      <td>2.135333</td>\n",
       "      <td>2.419682</td>\n",
       "      <td>1.974792</td>\n",
       "      <td>1.805908</td>\n",
       "    </tr>\n",
       "    <tr>\n",
       "      <th>max_drawdown</th>\n",
       "      <td>-0.037223</td>\n",
       "      <td>-0.037245</td>\n",
       "      <td>-0.038813</td>\n",
       "      <td>-0.038013</td>\n",
       "    </tr>\n",
       "    <tr>\n",
       "      <th>avg_drawdown</th>\n",
       "      <td>-0.006954</td>\n",
       "      <td>-0.00824</td>\n",
       "      <td>-0.007614</td>\n",
       "      <td>-0.00727</td>\n",
       "    </tr>\n",
       "    <tr>\n",
       "      <th>avg_drawdown_days</th>\n",
       "      <td>15.655172</td>\n",
       "      <td>13.558824</td>\n",
       "      <td>17.615385</td>\n",
       "      <td>18.48</td>\n",
       "    </tr>\n",
       "    <tr>\n",
       "      <th>daily_vol</th>\n",
       "      <td>0.040655</td>\n",
       "      <td>0.046131</td>\n",
       "      <td>0.040403</td>\n",
       "      <td>0.038937</td>\n",
       "    </tr>\n",
       "    <tr>\n",
       "      <th>daily_sharpe</th>\n",
       "      <td>1.94902</td>\n",
       "      <td>1.94082</td>\n",
       "      <td>1.894199</td>\n",
       "      <td>1.767652</td>\n",
       "    </tr>\n",
       "    <tr>\n",
       "      <th>daily_sortino</th>\n",
       "      <td>3.273195</td>\n",
       "      <td>3.256004</td>\n",
       "      <td>3.172386</td>\n",
       "      <td>2.913744</td>\n",
       "    </tr>\n",
       "    <tr>\n",
       "      <th>monthly_vol</th>\n",
       "      <td>0.057267</td>\n",
       "      <td>0.066052</td>\n",
       "      <td>0.05665</td>\n",
       "      <td>0.055714</td>\n",
       "    </tr>\n",
       "    <tr>\n",
       "      <th>monthly_sharpe</th>\n",
       "      <td>1.360582</td>\n",
       "      <td>1.336255</td>\n",
       "      <td>1.328341</td>\n",
       "      <td>1.215825</td>\n",
       "    </tr>\n",
       "    <tr>\n",
       "      <th>monthly_sortino</th>\n",
       "      <td>3.961767</td>\n",
       "      <td>3.309382</td>\n",
       "      <td>3.921578</td>\n",
       "      <td>3.31159</td>\n",
       "    </tr>\n",
       "  </tbody>\n",
       "</table>\n",
       "</div>"
      ],
      "text/plain": [
       "                       freq Q COMB1: Eqaully  COMB2: ERC COMB3: InvVol\n",
       "start              2021-12-14     2021-12-14  2021-12-14    2021-12-14\n",
       "end                2024-07-10     2024-07-10  2024-07-10    2024-07-10\n",
       "total_return         0.217285       0.248365    0.209085      0.186123\n",
       "cagr                 0.079483       0.090121    0.076648      0.068648\n",
       "calmar               2.135333       2.419682    1.974792      1.805908\n",
       "max_drawdown        -0.037223      -0.037245   -0.038813     -0.038013\n",
       "avg_drawdown        -0.006954       -0.00824   -0.007614      -0.00727\n",
       "avg_drawdown_days   15.655172      13.558824   17.615385         18.48\n",
       "daily_vol            0.040655       0.046131    0.040403      0.038937\n",
       "daily_sharpe          1.94902        1.94082    1.894199      1.767652\n",
       "daily_sortino        3.273195       3.256004    3.172386      2.913744\n",
       "monthly_vol          0.057267       0.066052     0.05665      0.055714\n",
       "monthly_sharpe       1.360582       1.336255    1.328341      1.215825\n",
       "monthly_sortino      3.961767       3.309382    3.921578       3.31159"
      ]
     },
     "execution_count": 29,
     "metadata": {},
     "output_type": "execute_result"
    }
   ],
   "source": [
    "pf_list = [1,2,3,5]\n",
    "_ = bm.run(pf_list, plot=False)\n",
    "bm.get_stats(sort_by='monthly_sharpe')"
   ]
  },
  {
   "cell_type": "code",
   "execution_count": 28,
   "id": "19553cdc-a26e-44c0-99de-a6eab143e671",
   "metadata": {},
   "outputs": [
    {
     "name": "stdout",
     "output_type": "stream",
     "text": [
      "freq Y: weights at transactions returned\n"
     ]
    },
    {
     "data": {
      "text/html": [
       "<div>\n",
       "<style scoped>\n",
       "    .dataframe tbody tr th:only-of-type {\n",
       "        vertical-align: middle;\n",
       "    }\n",
       "\n",
       "    .dataframe tbody tr th {\n",
       "        vertical-align: top;\n",
       "    }\n",
       "\n",
       "    .dataframe thead th {\n",
       "        text-align: right;\n",
       "    }\n",
       "</style>\n",
       "<table border=\"1\" class=\"dataframe\">\n",
       "  <thead>\n",
       "    <tr style=\"text-align: right;\">\n",
       "      <th></th>\n",
       "      <th>2022-12-14</th>\n",
       "      <th>2024-03-29</th>\n",
       "    </tr>\n",
       "  </thead>\n",
       "  <tbody>\n",
       "    <tr>\n",
       "      <th>KODEX 200 (069500)</th>\n",
       "      <td>0.087708</td>\n",
       "      <td>0.090512</td>\n",
       "    </tr>\n",
       "    <tr>\n",
       "      <th>KODEX 종합채권(AA-이상)액티브 (273130)</th>\n",
       "      <td>0.305130</td>\n",
       "      <td>0.255660</td>\n",
       "    </tr>\n",
       "    <tr>\n",
       "      <th>KOSEF 국고채10년 (148070)</th>\n",
       "      <td>0.159886</td>\n",
       "      <td>0.172915</td>\n",
       "    </tr>\n",
       "    <tr>\n",
       "      <th>KODEX 미국S&amp;P500TR (379800)</th>\n",
       "      <td>0.083880</td>\n",
       "      <td>0.162863</td>\n",
       "    </tr>\n",
       "    <tr>\n",
       "      <th>ACE KRX금현물 (411060)</th>\n",
       "      <td>0.182616</td>\n",
       "      <td>0.159607</td>\n",
       "    </tr>\n",
       "    <tr>\n",
       "      <th>KODEX 200미국채혼합 (284430)</th>\n",
       "      <td>0.167437</td>\n",
       "      <td>0.153291</td>\n",
       "    </tr>\n",
       "  </tbody>\n",
       "</table>\n",
       "</div>"
      ],
      "text/plain": [
       "                               2022-12-14  2024-03-29\n",
       "KODEX 200 (069500)               0.087708    0.090512\n",
       "KODEX 종합채권(AA-이상)액티브 (273130)    0.305130    0.255660\n",
       "KOSEF 국고채10년 (148070)            0.159886    0.172915\n",
       "KODEX 미국S&P500TR (379800)        0.083880    0.162863\n",
       "ACE KRX금현물 (411060)              0.182616    0.159607\n",
       "KODEX 200미국채혼합 (284430)          0.167437    0.153291"
      ]
     },
     "execution_count": 28,
     "metadata": {},
     "output_type": "execute_result"
    }
   ],
   "source": [
    "df = bm.get_security_weights(2).rename_axis(None)\n",
    "df.columns = [f'{bm.asset_names[x]} ({x})' for x in df.columns]\n",
    "df.T"
   ]
  },
  {
   "cell_type": "markdown",
   "id": "2c9b3de9-e20a-4486-9fc7-7ba75bd5fdec",
   "metadata": {},
   "source": [
    "# Transaction"
   ]
  },
  {
   "cell_type": "markdown",
   "id": "8c1d7580-8b01-4154-8c49-14f4063b6b03",
   "metadata": {},
   "source": [
    "## KOSPI200"
   ]
  },
  {
   "cell_type": "code",
   "execution_count": 44,
   "id": "ab3a72e9-226d-40dd-bac4-b76740397cca",
   "metadata": {},
   "outputs": [
    {
     "name": "stdout",
     "output_type": "stream",
     "text": [
      "15 assets removed for shorter periods (7.5%)\n",
      "running self.util_check_days_in_year to check days in a year\n",
      "REMINDER: make sure this is 1st transaction as no records provided\n"
     ]
    }
   ],
   "source": [
    "file_record = 'pf_k200_momentum_240710.csv'\n",
    "\n",
    "pf_k200 = MomentumPortfolio(df_k200, file_record,\n",
    "                            path=path_tran, days_in_year=246,\n",
    "                            asset_names=assetnames_k200)"
   ]
  },
  {
   "cell_type": "code",
   "execution_count": 45,
   "id": "7c854a36-4ff7-4dfe-bc1e-912246f2f712",
   "metadata": {},
   "outputs": [
    {
     "name": "stdout",
     "output_type": "stream",
     "text": [
      "5 assets selected by Total return from 2023-07-10 to 2024-07-10\n",
      "Weights of assets determined by ERC.\n",
      "Net profit: 0\n",
      "Set save=True to save transaction record\n"
     ]
    },
    {
     "data": {
      "text/html": [
       "<div>\n",
       "<style scoped>\n",
       "    .dataframe tbody tr th:only-of-type {\n",
       "        vertical-align: middle;\n",
       "    }\n",
       "\n",
       "    .dataframe tbody tr th {\n",
       "        vertical-align: top;\n",
       "    }\n",
       "\n",
       "    .dataframe thead th {\n",
       "        text-align: right;\n",
       "    }\n",
       "</style>\n",
       "<table border=\"1\" class=\"dataframe\">\n",
       "  <thead>\n",
       "    <tr style=\"text-align: right;\">\n",
       "      <th></th>\n",
       "      <th></th>\n",
       "      <th>price</th>\n",
       "      <th>transaction</th>\n",
       "      <th>net</th>\n",
       "      <th>weights</th>\n",
       "    </tr>\n",
       "    <tr>\n",
       "      <th>date</th>\n",
       "      <th>asset</th>\n",
       "      <th></th>\n",
       "      <th></th>\n",
       "      <th></th>\n",
       "      <th></th>\n",
       "    </tr>\n",
       "  </thead>\n",
       "  <tbody>\n",
       "    <tr>\n",
       "      <th rowspan=\"5\" valign=\"top\">2024-07-10</th>\n",
       "      <th>000150</th>\n",
       "      <td>233500</td>\n",
       "      <td>8</td>\n",
       "      <td>8</td>\n",
       "      <td>0.20</td>\n",
       "    </tr>\n",
       "    <tr>\n",
       "      <th>003230</th>\n",
       "      <td>619000</td>\n",
       "      <td>3</td>\n",
       "      <td>3</td>\n",
       "      <td>0.20</td>\n",
       "    </tr>\n",
       "    <tr>\n",
       "      <th>010120</th>\n",
       "      <td>224500</td>\n",
       "      <td>8</td>\n",
       "      <td>8</td>\n",
       "      <td>0.20</td>\n",
       "    </tr>\n",
       "    <tr>\n",
       "      <th>042700</th>\n",
       "      <td>162400</td>\n",
       "      <td>12</td>\n",
       "      <td>12</td>\n",
       "      <td>0.21</td>\n",
       "    </tr>\n",
       "    <tr>\n",
       "      <th>267260</th>\n",
       "      <td>342000</td>\n",
       "      <td>5</td>\n",
       "      <td>5</td>\n",
       "      <td>0.19</td>\n",
       "    </tr>\n",
       "  </tbody>\n",
       "</table>\n",
       "</div>"
      ],
      "text/plain": [
       "                    price  transaction  net weights\n",
       "date       asset                                   \n",
       "2024-07-10 000150  233500            8    8    0.20\n",
       "           003230  619000            3    3    0.20\n",
       "           010120  224500            8    8    0.20\n",
       "           042700  162400           12   12    0.21\n",
       "           267260  342000            5    5    0.19"
      ]
     },
     "execution_count": 45,
     "metadata": {},
     "output_type": "execute_result"
    }
   ],
   "source": [
    "pf_k200.transaction_pipeline()"
   ]
  },
  {
   "cell_type": "markdown",
   "id": "c7cd959d-e330-4d8c-9f6b-a277b01e94f5",
   "metadata": {},
   "source": [
    "## ETF"
   ]
  },
  {
   "cell_type": "code",
   "execution_count": 46,
   "id": "ea755f0d-daab-414d-9c3c-4bcd19f353f1",
   "metadata": {},
   "outputs": [
    {
     "name": "stdout",
     "output_type": "stream",
     "text": [
      "period reset: 2021-12-15 ~ 2024-07-10\n",
      "running self.util_check_days_in_year to check days in a year\n",
      "REMINDER: make sure this is 1st transaction as no records provided\n"
     ]
    }
   ],
   "source": [
    "file_record = 'pf_etf_static_240710.csv'\n",
    "\n",
    "pf_etf = StaticPortfolio(df_etf, file_record, \n",
    "                         path=path_tran, days_in_year=245)"
   ]
  },
  {
   "cell_type": "code",
   "execution_count": 47,
   "id": "1a593c5d-812f-4f2e-81b4-6ecc7f97e65f",
   "metadata": {},
   "outputs": [
    {
     "name": "stdout",
     "output_type": "stream",
     "text": [
      "6 assets from 2023-07-10 to 2024-07-10 prepared for weight analysis\n",
      "Weights of assets determined by ERC.\n",
      "Net profit: 0\n",
      "Set save=True to save transaction record\n"
     ]
    },
    {
     "data": {
      "text/html": [
       "<div>\n",
       "<style scoped>\n",
       "    .dataframe tbody tr th:only-of-type {\n",
       "        vertical-align: middle;\n",
       "    }\n",
       "\n",
       "    .dataframe tbody tr th {\n",
       "        vertical-align: top;\n",
       "    }\n",
       "\n",
       "    .dataframe thead th {\n",
       "        text-align: right;\n",
       "    }\n",
       "</style>\n",
       "<table border=\"1\" class=\"dataframe\">\n",
       "  <thead>\n",
       "    <tr style=\"text-align: right;\">\n",
       "      <th></th>\n",
       "      <th></th>\n",
       "      <th>price</th>\n",
       "      <th>transaction</th>\n",
       "      <th>net</th>\n",
       "      <th>weights</th>\n",
       "    </tr>\n",
       "    <tr>\n",
       "      <th>date</th>\n",
       "      <th>asset</th>\n",
       "      <th></th>\n",
       "      <th></th>\n",
       "      <th></th>\n",
       "      <th></th>\n",
       "    </tr>\n",
       "  </thead>\n",
       "  <tbody>\n",
       "    <tr>\n",
       "      <th rowspan=\"6\" valign=\"top\">2024-07-10</th>\n",
       "      <th>069500</th>\n",
       "      <td>39735</td>\n",
       "      <td>21</td>\n",
       "      <td>21</td>\n",
       "      <td>0.08</td>\n",
       "    </tr>\n",
       "    <tr>\n",
       "      <th>148070</th>\n",
       "      <td>114330</td>\n",
       "      <td>16</td>\n",
       "      <td>16</td>\n",
       "      <td>0.18</td>\n",
       "    </tr>\n",
       "    <tr>\n",
       "      <th>273130</th>\n",
       "      <td>112380</td>\n",
       "      <td>24</td>\n",
       "      <td>24</td>\n",
       "      <td>0.27</td>\n",
       "    </tr>\n",
       "    <tr>\n",
       "      <th>284430</th>\n",
       "      <td>13490</td>\n",
       "      <td>118</td>\n",
       "      <td>118</td>\n",
       "      <td>0.16</td>\n",
       "    </tr>\n",
       "    <tr>\n",
       "      <th>379800</th>\n",
       "      <td>17560</td>\n",
       "      <td>88</td>\n",
       "      <td>88</td>\n",
       "      <td>0.16</td>\n",
       "    </tr>\n",
       "    <tr>\n",
       "      <th>411060</th>\n",
       "      <td>15005</td>\n",
       "      <td>93</td>\n",
       "      <td>93</td>\n",
       "      <td>0.14</td>\n",
       "    </tr>\n",
       "  </tbody>\n",
       "</table>\n",
       "</div>"
      ],
      "text/plain": [
       "                    price  transaction  net weights\n",
       "date       asset                                   \n",
       "2024-07-10 069500   39735           21   21    0.08\n",
       "           148070  114330           16   16    0.18\n",
       "           273130  112380           24   24    0.27\n",
       "           284430   13490          118  118    0.16\n",
       "           379800   17560           88   88    0.16\n",
       "           411060   15005           93   93    0.14"
      ]
     },
     "execution_count": 47,
     "metadata": {},
     "output_type": "execute_result"
    }
   ],
   "source": [
    "pf_etf.transaction_pipeline()"
   ]
  },
  {
   "cell_type": "code",
   "execution_count": null,
   "id": "1a27b77a-54f6-40fe-918f-0273e22ab97e",
   "metadata": {},
   "outputs": [],
   "source": []
  }
 ],
 "metadata": {
  "kernelspec": {
   "display_name": "portfolio",
   "language": "python",
   "name": "portfolio"
  },
  "language_info": {
   "codemirror_mode": {
    "name": "ipython",
    "version": 3
   },
   "file_extension": ".py",
   "mimetype": "text/x-python",
   "name": "python",
   "nbconvert_exporter": "python",
   "pygments_lexer": "ipython3",
   "version": "3.12.1"
  }
 },
 "nbformat": 4,
 "nbformat_minor": 5
}
