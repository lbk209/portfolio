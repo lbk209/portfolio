{
 "cells": [
  {
   "cell_type": "markdown",
   "id": "1a0d2b60-5842-4969-8229-84f355dc46fc",
   "metadata": {},
   "source": [
    "# Setting"
   ]
  },
  {
   "cell_type": "code",
   "execution_count": 1,
   "id": "7009fd2f-8efd-4ed3-a187-01939304fa9e",
   "metadata": {},
   "outputs": [
    {
     "name": "stderr",
     "output_type": "stream",
     "text": [
      "WARNING (pytensor.tensor.blas): Using NumPy C-API based implementation for BLAS functions.\n"
     ]
    }
   ],
   "source": [
    "from pf_utils import BacktestManager, DataManager, MomentumPortfolio"
   ]
  },
  {
   "cell_type": "code",
   "execution_count": 2,
   "id": "723adb14-cd00-4d96-9c64-5a8628e82f44",
   "metadata": {},
   "outputs": [],
   "source": [
    "metrics2 = [\n",
    "    'cagr', 'monthly_vol', 'monthly_sharpe',\n",
    "    'max_drawdown', 'avg_drawdown','avg_drawdown_days', \n",
    "]\n",
    "\n",
    "path_data = 'data'"
   ]
  },
  {
   "cell_type": "markdown",
   "id": "0aaaa9db-40ad-414a-b709-de117191981b",
   "metadata": {},
   "source": [
    "# KOSPI 200"
   ]
  },
  {
   "cell_type": "code",
   "execution_count": 3,
   "id": "91fd81c5-0fa2-4cad-9190-61f8c5847fe7",
   "metadata": {},
   "outputs": [],
   "source": [
    "days_in_year = 246"
   ]
  },
  {
   "cell_type": "markdown",
   "id": "b226ec95-1432-4b5e-adda-73da5d6b4cc6",
   "metadata": {},
   "source": [
    "## Data"
   ]
  },
  {
   "cell_type": "code",
   "execution_count": 14,
   "id": "8aa50408-fd2b-45f5-81ed-6c1a2479eb77",
   "metadata": {},
   "outputs": [
    {
     "name": "stdout",
     "output_type": "stream",
     "text": [
      "200 assets from 2021-01-04 to 2024-07-05 uploaded.\n",
      "df_prices updated\n"
     ]
    }
   ],
   "source": [
    "k200 = DataManager(\n",
    "    file = 'kospi200_prices_240705.csv',\n",
    "    #file = 'kospi200_prices_240707l.csv',\n",
    "    universe = 'KOSPI200',\n",
    "    path = path_data\n",
    ")\n",
    "k200.upload()"
   ]
  },
  {
   "cell_type": "code",
   "execution_count": 6,
   "id": "56cfa843-ffc7-469f-a18d-aefecdac2e5d",
   "metadata": {},
   "outputs": [],
   "source": [
    "#k200.download(start_date='2000', tickers=df_k200.columns)"
   ]
  },
  {
   "cell_type": "code",
   "execution_count": 7,
   "id": "763b4f89-e88e-45f9-807f-6bf8a8608e20",
   "metadata": {},
   "outputs": [],
   "source": [
    "#file = 'test_240707l.csv'\n",
    "#k200.save(file=file)"
   ]
  },
  {
   "cell_type": "markdown",
   "id": "00168468-3042-497d-bd8b-35ee21ca83c5",
   "metadata": {},
   "source": [
    "## Backtest"
   ]
  },
  {
   "cell_type": "code",
   "execution_count": 7,
   "id": "5cd3809d-522b-4cad-944e-de081a5b3657",
   "metadata": {},
   "outputs": [
    {
     "name": "stdout",
     "output_type": "stream",
     "text": [
      "15 assets removed for shorter periods (7.5%)\n",
      "running self.util_check_days_in_year to check days in a year\n"
     ]
    }
   ],
   "source": [
    "kwargs_bm = dict(\n",
    "    initial_capital = 10000000,\n",
    "    commissions = 0,\n",
    "    align_axis = 1, \n",
    "    days_in_year = days_in_year\n",
    ")\n",
    "bm = BacktestManager(k200.df_prices, **kwargs_bm)"
   ]
  },
  {
   "cell_type": "code",
   "execution_count": 9,
   "id": "63f41609-2c02-419d-b8dd-30993313c9e1",
   "metadata": {},
   "outputs": [
    {
     "name": "stdout",
     "output_type": "stream",
     "text": [
      "RunOnce selected\n"
     ]
    }
   ],
   "source": [
    "name, ticker = 'KOSPI', '069500' \n",
    "df_kospi = bm.util_import_data(ticker, name=name)\n",
    "bm.benchmark(df_kospi)"
   ]
  },
  {
   "cell_type": "code",
   "execution_count": 10,
   "id": "b37e9472-eac5-4344-aa7f-a6975e7204b1",
   "metadata": {},
   "outputs": [],
   "source": [
    "kwargs_build = dict(\n",
    "    name = 'Momentum',\n",
    "    freq = 'M', select = 'Momentum', weigh = 'ERC',\n",
    "    n_assets=5, lookback=12, lag=12\n",
    ")\n",
    "bm.build(**kwargs_build)"
   ]
  },
  {
   "cell_type": "code",
   "execution_count": 11,
   "id": "ce2ebc9e-4f37-456c-8b80-6d08227047de",
   "metadata": {},
   "outputs": [],
   "source": [
    "kwargs_build = dict(\n",
    "    name = 'K-ratio',\n",
    "    freq = 'M', select = 'K-ratio', weigh = 'ERC',\n",
    "    n_assets=5, lookback=12, lag=12\n",
    ")\n",
    "bm.build(**kwargs_build)"
   ]
  },
  {
   "cell_type": "code",
   "execution_count": 12,
   "id": "f4636d65-e08d-4f8f-b957-ec2c728b4667",
   "metadata": {},
   "outputs": [
    {
     "name": "stdout",
     "output_type": "stream",
     "text": [
      "Backtesting 3 strategies: KOSPI, Momentum, K-ratio\n"
     ]
    },
    {
     "name": "stderr",
     "output_type": "stream",
     "text": [
      "100%|█████████████████████████████████████████████████████████████████| 3/3 [00:57<00:00, 19.23s/it]"
     ]
    },
    {
     "name": "stdout",
     "output_type": "stream",
     "text": [
      "Returning stats\n"
     ]
    },
    {
     "name": "stderr",
     "output_type": "stream",
     "text": [
      "\n"
     ]
    },
    {
     "data": {
      "text/html": [
       "<div>\n",
       "<style scoped>\n",
       "    .dataframe tbody tr th:only-of-type {\n",
       "        vertical-align: middle;\n",
       "    }\n",
       "\n",
       "    .dataframe tbody tr th {\n",
       "        vertical-align: top;\n",
       "    }\n",
       "\n",
       "    .dataframe thead th {\n",
       "        text-align: right;\n",
       "    }\n",
       "</style>\n",
       "<table border=\"1\" class=\"dataframe\">\n",
       "  <thead>\n",
       "    <tr style=\"text-align: right;\">\n",
       "      <th></th>\n",
       "      <th>KOSPI</th>\n",
       "      <th>Momentum</th>\n",
       "      <th>K-ratio</th>\n",
       "    </tr>\n",
       "  </thead>\n",
       "  <tbody>\n",
       "    <tr>\n",
       "      <th>start</th>\n",
       "      <td>2021-01-03 00:00:00</td>\n",
       "      <td>2021-01-03 00:00:00</td>\n",
       "      <td>2021-01-03 00:00:00</td>\n",
       "    </tr>\n",
       "    <tr>\n",
       "      <th>end</th>\n",
       "      <td>2024-07-05 00:00:00</td>\n",
       "      <td>2024-07-05 00:00:00</td>\n",
       "      <td>2024-07-05 00:00:00</td>\n",
       "    </tr>\n",
       "    <tr>\n",
       "      <th>total_return</th>\n",
       "      <td>0.05969</td>\n",
       "      <td>4.957162</td>\n",
       "      <td>1.069294</td>\n",
       "    </tr>\n",
       "    <tr>\n",
       "      <th>cagr</th>\n",
       "      <td>0.016695</td>\n",
       "      <td>0.664683</td>\n",
       "      <td>0.230809</td>\n",
       "    </tr>\n",
       "    <tr>\n",
       "      <th>calmar</th>\n",
       "      <td>0.048753</td>\n",
       "      <td>2.400439</td>\n",
       "      <td>1.005693</td>\n",
       "    </tr>\n",
       "    <tr>\n",
       "      <th>max_drawdown</th>\n",
       "      <td>-0.342432</td>\n",
       "      <td>-0.276901</td>\n",
       "      <td>-0.229503</td>\n",
       "    </tr>\n",
       "    <tr>\n",
       "      <th>avg_drawdown</th>\n",
       "      <td>-0.08767</td>\n",
       "      <td>-0.05712</td>\n",
       "      <td>-0.044447</td>\n",
       "    </tr>\n",
       "    <tr>\n",
       "      <th>avg_drawdown_days</th>\n",
       "      <td>210.666667</td>\n",
       "      <td>17.465116</td>\n",
       "      <td>29.296296</td>\n",
       "    </tr>\n",
       "    <tr>\n",
       "      <th>daily_vol</th>\n",
       "      <td>0.17209</td>\n",
       "      <td>0.381467</td>\n",
       "      <td>0.226929</td>\n",
       "    </tr>\n",
       "    <tr>\n",
       "      <th>daily_sharpe</th>\n",
       "      <td>0.184019</td>\n",
       "      <td>1.552919</td>\n",
       "      <td>1.047034</td>\n",
       "    </tr>\n",
       "    <tr>\n",
       "      <th>daily_sortino</th>\n",
       "      <td>0.317717</td>\n",
       "      <td>2.770288</td>\n",
       "      <td>1.743913</td>\n",
       "    </tr>\n",
       "    <tr>\n",
       "      <th>monthly_vol</th>\n",
       "      <td>0.185975</td>\n",
       "      <td>0.435543</td>\n",
       "      <td>0.262161</td>\n",
       "    </tr>\n",
       "    <tr>\n",
       "      <th>monthly_sharpe</th>\n",
       "      <td>0.157682</td>\n",
       "      <td>1.382685</td>\n",
       "      <td>0.922983</td>\n",
       "    </tr>\n",
       "    <tr>\n",
       "      <th>monthly_sortino</th>\n",
       "      <td>0.255096</td>\n",
       "      <td>4.698259</td>\n",
       "      <td>1.922783</td>\n",
       "    </tr>\n",
       "  </tbody>\n",
       "</table>\n",
       "</div>"
      ],
      "text/plain": [
       "                                 KOSPI             Momentum  \\\n",
       "start              2021-01-03 00:00:00  2021-01-03 00:00:00   \n",
       "end                2024-07-05 00:00:00  2024-07-05 00:00:00   \n",
       "total_return                   0.05969             4.957162   \n",
       "cagr                          0.016695             0.664683   \n",
       "calmar                        0.048753             2.400439   \n",
       "max_drawdown                 -0.342432            -0.276901   \n",
       "avg_drawdown                  -0.08767             -0.05712   \n",
       "avg_drawdown_days           210.666667            17.465116   \n",
       "daily_vol                      0.17209             0.381467   \n",
       "daily_sharpe                  0.184019             1.552919   \n",
       "daily_sortino                 0.317717             2.770288   \n",
       "monthly_vol                   0.185975             0.435543   \n",
       "monthly_sharpe                0.157682             1.382685   \n",
       "monthly_sortino               0.255096             4.698259   \n",
       "\n",
       "                               K-ratio  \n",
       "start              2021-01-03 00:00:00  \n",
       "end                2024-07-05 00:00:00  \n",
       "total_return                  1.069294  \n",
       "cagr                          0.230809  \n",
       "calmar                        1.005693  \n",
       "max_drawdown                 -0.229503  \n",
       "avg_drawdown                 -0.044447  \n",
       "avg_drawdown_days            29.296296  \n",
       "daily_vol                     0.226929  \n",
       "daily_sharpe                  1.047034  \n",
       "daily_sortino                 1.743913  \n",
       "monthly_vol                   0.262161  \n",
       "monthly_sharpe                0.922983  \n",
       "monthly_sortino               1.922783  "
      ]
     },
     "execution_count": 12,
     "metadata": {},
     "output_type": "execute_result"
    },
    {
     "data": {
      "image/png": "[encoded data removed]",
      "text/plain": [
       "<Figure size 1000x400 with 1 Axes>"
      ]
     },
     "metadata": {},
     "output_type": "display_data"
    }
   ],
   "source": [
    "bm.run(figsize=(10,4))"
   ]
  },
  {
   "cell_type": "code",
   "execution_count": null,
   "id": "2bc975ae-76dc-4765-bb78-85bba671a6e6",
   "metadata": {},
   "outputs": [],
   "source": []
  },
  {
   "cell_type": "code",
   "execution_count": null,
   "id": "203f286d-a1ea-49b9-9aac-85670804b990",
   "metadata": {},
   "outputs": [],
   "source": []
  },
  {
   "cell_type": "markdown",
   "id": "48f10eb8-3e2a-43fa-b071-73ce2bb9001a",
   "metadata": {},
   "source": [
    "# ETF"
   ]
  },
  {
   "cell_type": "markdown",
   "id": "699a3c84-83c9-4a94-bbd8-401ed4490a7e",
   "metadata": {},
   "source": [
    "## Data"
   ]
  },
  {
   "cell_type": "code",
   "execution_count": 32,
   "id": "26a87f56-8333-4d02-bc67-2d58cda01a18",
   "metadata": {},
   "outputs": [
    {
     "name": "stdout",
     "output_type": "stream",
     "text": [
      "864 assets from 2021-01-04 to 2024-07-05 uploaded.\n",
      "df_prices updated\n"
     ]
    }
   ],
   "source": [
    "etf = DataManager(\n",
    "    file = 'etfs_all_240705.csv',\n",
    "    universe = 'ETF',\n",
    "    path = path_data\n",
    ")\n",
    "etf.upload()"
   ]
  },
  {
   "cell_type": "code",
   "execution_count": 33,
   "id": "35e4fe7f-1ebd-40f6-956c-44c464cb6a76",
   "metadata": {},
   "outputs": [
    {
     "data": {
      "text/plain": [
       "0) 069500: KODEX 200\n",
       "1) 273130: KODEX 종합채권(AA-이상)액티브\n",
       "2) 148070: KOSEF 국고채10년\n",
       "3) 379800: KODEX 미국S&P500TR\n",
       "4) 411060: ACE KRX금현물\n",
       "5) 284430: KODEX 200미국채혼합"
      ]
     },
     "execution_count": 33,
     "metadata": {},
     "output_type": "execute_result"
    }
   ],
   "source": [
    "choice = ['069500', '273130', '148070', '379800', '411060', '284430']\n",
    "df_etfs = etf.df_prices[choice]\n",
    "asset_names = etf.get_names(tickers=choice)\n",
    "asset_names"
   ]
  },
  {
   "cell_type": "markdown",
   "id": "c7df33e3-8f1f-4633-a6aa-f4ee66196a91",
   "metadata": {},
   "source": [
    "## Backtest"
   ]
  },
  {
   "cell_type": "code",
   "execution_count": 35,
   "id": "2fd24a73-19c1-413c-88a6-96bd4e00b2b3",
   "metadata": {},
   "outputs": [
    {
     "name": "stdout",
     "output_type": "stream",
     "text": [
      "period reset: 2021-12-15 ~ 2024-07-05\n",
      "running self.util_check_days_in_year to check days in a year\n"
     ]
    }
   ],
   "source": [
    "kwargs_bm = dict(\n",
    "    initial_capital = 10000000,\n",
    "    commissions = 0,\n",
    "    align_axis = 0, \n",
    "    days_in_year = 245,\n",
    "    asset_names = asset_names\n",
    ")\n",
    "bm = BacktestManager(df_etfs, **kwargs_bm)"
   ]
  },
  {
   "cell_type": "code",
   "execution_count": 36,
   "id": "13a3623c-5807-48c4-9128-b6af7db76a99",
   "metadata": {},
   "outputs": [
    {
     "name": "stdout",
     "output_type": "stream",
     "text": [
      "RunOnce selected\n"
     ]
    }
   ],
   "source": [
    "bm.benchmark_ticker()"
   ]
  },
  {
   "cell_type": "code",
   "execution_count": 37,
   "id": "29dfeae2-4162-4686-bf53-83f3e97dcbef",
   "metadata": {},
   "outputs": [],
   "source": [
    "bm.build(\n",
    "    name = 'COMB1: Eqaully',\n",
    "    freq = 'Y', select = 'all', weigh = 'equally'\n",
    ")"
   ]
  },
  {
   "cell_type": "code",
   "execution_count": 38,
   "id": "26d5a384-906d-4e8f-b2da-508bdd3367a7",
   "metadata": {},
   "outputs": [],
   "source": [
    "bm.build(\n",
    "    name = 'COMB2: ERC',\n",
    "    freq = 'Y', select = 'all', weigh = 'ERC', \n",
    "    lookback=12, lag=0\n",
    ")"
   ]
  },
  {
   "cell_type": "code",
   "execution_count": 39,
   "id": "b769cb57-06a6-4a12-bd8f-f7e33ae12af0",
   "metadata": {},
   "outputs": [],
   "source": [
    "bm.build(    \n",
    "    name = 'COMB3: InvVol',\n",
    "    freq = 'Y', select = 'all', weigh = 'InvVol', \n",
    "    lookback=12, lag=0\n",
    ")"
   ]
  },
  {
   "cell_type": "code",
   "execution_count": 40,
   "id": "5ee4456d-88b3-464b-9345-323862c19ed3",
   "metadata": {},
   "outputs": [
    {
     "name": "stdout",
     "output_type": "stream",
     "text": [
      "Backtesting 4 strategies: KOSPI, COMB1: Eqaully, COMB2: ERC, COMB3: InvVol\n"
     ]
    },
    {
     "name": "stderr",
     "output_type": "stream",
     "text": [
      "100%|███████████████████████████████████████████████████████████████████████████████████████████████████| 4/4 [00:00<00:00,  7.22it/s]\n"
     ]
    },
    {
     "name": "stdout",
     "output_type": "stream",
     "text": [
      "Returning stats\n"
     ]
    },
    {
     "data": {
      "image/png": "[encoded data removed]",
      "text/plain": [
       "<Figure size 1000x400 with 1 Axes>"
      ]
     },
     "metadata": {},
     "output_type": "display_data"
    }
   ],
   "source": [
    "_ = bm.run(figsize=(10,4))"
   ]
  },
  {
   "cell_type": "code",
   "execution_count": 41,
   "id": "8092414f-f75a-4dee-9069-9ed65c2c3894",
   "metadata": {},
   "outputs": [
    {
     "data": {
      "text/html": [
       "<div>\n",
       "<style scoped>\n",
       "    .dataframe tbody tr th:only-of-type {\n",
       "        vertical-align: middle;\n",
       "    }\n",
       "\n",
       "    .dataframe tbody tr th {\n",
       "        vertical-align: top;\n",
       "    }\n",
       "\n",
       "    .dataframe thead th {\n",
       "        text-align: right;\n",
       "    }\n",
       "</style>\n",
       "<table border=\"1\" class=\"dataframe\">\n",
       "  <thead>\n",
       "    <tr style=\"text-align: right;\">\n",
       "      <th></th>\n",
       "      <th>COMB2: ERC</th>\n",
       "      <th>COMB3: InvVol</th>\n",
       "      <th>COMB1: Eqaully</th>\n",
       "      <th>KOSPI</th>\n",
       "    </tr>\n",
       "  </thead>\n",
       "  <tbody>\n",
       "    <tr>\n",
       "      <th>start</th>\n",
       "      <td>2021-12-14</td>\n",
       "      <td>2021-12-14</td>\n",
       "      <td>2021-12-14</td>\n",
       "      <td>2021-12-14</td>\n",
       "    </tr>\n",
       "    <tr>\n",
       "      <th>end</th>\n",
       "      <td>2024-07-05</td>\n",
       "      <td>2024-07-05</td>\n",
       "      <td>2024-07-05</td>\n",
       "      <td>2024-07-05</td>\n",
       "    </tr>\n",
       "    <tr>\n",
       "      <th>cagr</th>\n",
       "      <td>0.080517</td>\n",
       "      <td>0.071554</td>\n",
       "      <td>0.061102</td>\n",
       "      <td>0.025121</td>\n",
       "    </tr>\n",
       "    <tr>\n",
       "      <th>monthly_vol</th>\n",
       "      <td>0.05538</td>\n",
       "      <td>0.054357</td>\n",
       "      <td>0.083106</td>\n",
       "      <td>0.207521</td>\n",
       "    </tr>\n",
       "    <tr>\n",
       "      <th>monthly_sharpe</th>\n",
       "      <td>1.414939</td>\n",
       "      <td>1.288041</td>\n",
       "      <td>0.7053</td>\n",
       "      <td>0.20433</td>\n",
       "    </tr>\n",
       "    <tr>\n",
       "      <th>max_drawdown</th>\n",
       "      <td>-0.039351</td>\n",
       "      <td>-0.03793</td>\n",
       "      <td>-0.107524</td>\n",
       "      <td>-0.283724</td>\n",
       "    </tr>\n",
       "    <tr>\n",
       "      <th>avg_drawdown</th>\n",
       "      <td>-0.007642</td>\n",
       "      <td>-0.007321</td>\n",
       "      <td>-0.01059</td>\n",
       "      <td>-0.066244</td>\n",
       "    </tr>\n",
       "    <tr>\n",
       "      <th>avg_drawdown_days</th>\n",
       "      <td>16.851852</td>\n",
       "      <td>18.6</td>\n",
       "      <td>41.142857</td>\n",
       "      <td>184.0</td>\n",
       "    </tr>\n",
       "  </tbody>\n",
       "</table>\n",
       "</div>"
      ],
      "text/plain": [
       "                   COMB2: ERC COMB3: InvVol COMB1: Eqaully       KOSPI\n",
       "start              2021-12-14    2021-12-14     2021-12-14  2021-12-14\n",
       "end                2024-07-05    2024-07-05     2024-07-05  2024-07-05\n",
       "cagr                 0.080517      0.071554       0.061102    0.025121\n",
       "monthly_vol           0.05538      0.054357       0.083106    0.207521\n",
       "monthly_sharpe       1.414939      1.288041         0.7053     0.20433\n",
       "max_drawdown        -0.039351      -0.03793      -0.107524   -0.283724\n",
       "avg_drawdown        -0.007642     -0.007321       -0.01059   -0.066244\n",
       "avg_drawdown_days   16.851852          18.6      41.142857       184.0"
      ]
     },
     "execution_count": 41,
     "metadata": {},
     "output_type": "execute_result"
    }
   ],
   "source": [
    "bm.get_stats(sort_by='monthly_sharpe', metrics=metrics2)"
   ]
  },
  {
   "cell_type": "code",
   "execution_count": 42,
   "id": "0759cc5c-c9f5-4231-b825-c3095e8ef6dc",
   "metadata": {},
   "outputs": [
    {
     "data": {
      "text/plain": [
       "0) KOSPI\n",
       "1) COMB1: Eqaully\n",
       "2) COMB2: ERC\n",
       "3) COMB3: InvVol"
      ]
     },
     "execution_count": 42,
     "metadata": {},
     "output_type": "execute_result"
    }
   ],
   "source": [
    "bm.portfolios"
   ]
  },
  {
   "cell_type": "code",
   "execution_count": 52,
   "id": "19553cdc-a26e-44c0-99de-a6eab143e671",
   "metadata": {},
   "outputs": [
    {
     "name": "stdout",
     "output_type": "stream",
     "text": [
      "COMB2: ERC: weights at transactions returned\n"
     ]
    },
    {
     "data": {
      "text/html": [
       "<div>\n",
       "<style scoped>\n",
       "    .dataframe tbody tr th:only-of-type {\n",
       "        vertical-align: middle;\n",
       "    }\n",
       "\n",
       "    .dataframe tbody tr th {\n",
       "        vertical-align: top;\n",
       "    }\n",
       "\n",
       "    .dataframe thead th {\n",
       "        text-align: right;\n",
       "    }\n",
       "</style>\n",
       "<table border=\"1\" class=\"dataframe\">\n",
       "  <thead>\n",
       "    <tr style=\"text-align: right;\">\n",
       "      <th></th>\n",
       "      <th>2022-12-13</th>\n",
       "      <th>2023-12-11</th>\n",
       "    </tr>\n",
       "  </thead>\n",
       "  <tbody>\n",
       "    <tr>\n",
       "      <th>KODEX 200 (069500)</th>\n",
       "      <td>0.086727</td>\n",
       "      <td>0.102417</td>\n",
       "    </tr>\n",
       "    <tr>\n",
       "      <th>KODEX 종합채권(AA-이상)액티브 (273130)</th>\n",
       "      <td>0.304020</td>\n",
       "      <td>0.249632</td>\n",
       "    </tr>\n",
       "    <tr>\n",
       "      <th>KOSEF 국고채10년 (148070)</th>\n",
       "      <td>0.169403</td>\n",
       "      <td>0.151821</td>\n",
       "    </tr>\n",
       "    <tr>\n",
       "      <th>KODEX 미국S&amp;P500TR (379800)</th>\n",
       "      <td>0.083484</td>\n",
       "      <td>0.145020</td>\n",
       "    </tr>\n",
       "    <tr>\n",
       "      <th>ACE KRX금현물 (411060)</th>\n",
       "      <td>0.182266</td>\n",
       "      <td>0.166300</td>\n",
       "    </tr>\n",
       "    <tr>\n",
       "      <th>KODEX 200미국채혼합 (284430)</th>\n",
       "      <td>0.167560</td>\n",
       "      <td>0.165475</td>\n",
       "    </tr>\n",
       "  </tbody>\n",
       "</table>\n",
       "</div>"
      ],
      "text/plain": [
       "                               2022-12-13  2023-12-11\n",
       "KODEX 200 (069500)               0.086727    0.102417\n",
       "KODEX 종합채권(AA-이상)액티브 (273130)    0.304020    0.249632\n",
       "KOSEF 국고채10년 (148070)            0.169403    0.151821\n",
       "KODEX 미국S&P500TR (379800)        0.083484    0.145020\n",
       "ACE KRX금현물 (411060)              0.182266    0.166300\n",
       "KODEX 200미국채혼합 (284430)          0.167560    0.165475"
      ]
     },
     "execution_count": 52,
     "metadata": {},
     "output_type": "execute_result"
    }
   ],
   "source": [
    "df = bm.get_security_weights(2).rename_axis(None)\n",
    "df.columns = [f'{bm.asset_names[x]} ({x})' for x in df.columns]\n",
    "df.T"
   ]
  },
  {
   "cell_type": "markdown",
   "id": "2c9b3de9-e20a-4486-9fc7-7ba75bd5fdec",
   "metadata": {},
   "source": [
    "# Balance"
   ]
  },
  {
   "cell_type": "code",
   "execution_count": 7,
   "id": "8192eea6-6274-4e41-a1e5-5dd83bbd2a42",
   "metadata": {},
   "outputs": [
    {
     "name": "stdout",
     "output_type": "stream",
     "text": [
      "15 assets removed for shorter periods (7.5%)\n"
     ]
    }
   ],
   "source": [
    "k200 = MomentumPortfolio(df_k200, days_in_year)"
   ]
  },
  {
   "cell_type": "code",
   "execution_count": 10,
   "id": "f9e44228-f24b-4f4b-b5eb-5a5a58f26759",
   "metadata": {},
   "outputs": [],
   "source": [
    "k200.select('2024-06-01')\n",
    "k200.weigh()\n",
    "h = k200.balance()"
   ]
  },
  {
   "cell_type": "code",
   "execution_count": 13,
   "id": "7e00874e-09af-4d42-90b9-ebf7fe96ed83",
   "metadata": {},
   "outputs": [
    {
     "data": {
      "text/html": [
       "<div>\n",
       "<style scoped>\n",
       "    .dataframe tbody tr th:only-of-type {\n",
       "        vertical-align: middle;\n",
       "    }\n",
       "\n",
       "    .dataframe tbody tr th {\n",
       "        vertical-align: top;\n",
       "    }\n",
       "\n",
       "    .dataframe thead th {\n",
       "        text-align: right;\n",
       "    }\n",
       "</style>\n",
       "<table border=\"1\" class=\"dataframe\">\n",
       "  <thead>\n",
       "    <tr style=\"text-align: right;\">\n",
       "      <th></th>\n",
       "      <th>price</th>\n",
       "      <th>transaction</th>\n",
       "      <th>balance</th>\n",
       "    </tr>\n",
       "  </thead>\n",
       "  <tbody>\n",
       "    <tr>\n",
       "      <th>001570</th>\n",
       "      <td>82,800</td>\n",
       "      <td>0</td>\n",
       "      <td>17</td>\n",
       "    </tr>\n",
       "    <tr>\n",
       "      <th>002710</th>\n",
       "      <td>53,500</td>\n",
       "      <td>-3</td>\n",
       "      <td>30</td>\n",
       "    </tr>\n",
       "    <tr>\n",
       "      <th>042700</th>\n",
       "      <td>160,200</td>\n",
       "      <td>0</td>\n",
       "      <td>12</td>\n",
       "    </tr>\n",
       "    <tr>\n",
       "      <th>138040</th>\n",
       "      <td>83,400</td>\n",
       "      <td>-3</td>\n",
       "      <td>32</td>\n",
       "    </tr>\n",
       "    <tr>\n",
       "      <th>267260</th>\n",
       "      <td>311,000</td>\n",
       "      <td>-1</td>\n",
       "      <td>6</td>\n",
       "    </tr>\n",
       "  </tbody>\n",
       "</table>\n",
       "</div>"
      ],
      "text/plain": [
       "          price  transaction  balance\n",
       "001570   82,800            0       17\n",
       "002710   53,500           -3       30\n",
       "042700  160,200            0       12\n",
       "138040   83,400           -3       32\n",
       "267260  311,000           -1        6"
      ]
     },
     "execution_count": 13,
     "metadata": {},
     "output_type": "execute_result"
    }
   ],
   "source": [
    "k200.select()\n",
    "k200.weigh()\n",
    "k200.balance(h.balance)"
   ]
  },
  {
   "cell_type": "code",
   "execution_count": null,
   "id": "8367b3bb-95a5-41b7-8903-225d0ab613f7",
   "metadata": {},
   "outputs": [],
   "source": []
  }
 ],
 "metadata": {
  "kernelspec": {
   "display_name": "portfolio",
   "language": "python",
   "name": "portfolio"
  },
  "language_info": {
   "codemirror_mode": {
    "name": "ipython",
    "version": 3
   },
   "file_extension": ".py",
   "mimetype": "text/x-python",
   "name": "python",
   "nbconvert_exporter": "python",
   "pygments_lexer": "ipython3",
   "version": "3.12.1"
  }
 },
 "nbformat": 4,
 "nbformat_minor": 5
}
