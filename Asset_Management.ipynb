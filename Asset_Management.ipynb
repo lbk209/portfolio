{
 "cells": [
  {
   "cell_type": "markdown",
   "id": "1a0d2b60-5842-4969-8229-84f355dc46fc",
   "metadata": {},
   "source": [
    "# Setting"
   ]
  },
  {
   "cell_type": "code",
   "execution_count": 1,
   "id": "7009fd2f-8efd-4ed3-a187-01939304fa9e",
   "metadata": {},
   "outputs": [
    {
     "name": "stderr",
     "output_type": "stream",
     "text": [
      "WARNING (pytensor.tensor.blas): Using NumPy C-API based implementation for BLAS functions.\n"
     ]
    }
   ],
   "source": [
    "from pf_utils import BacktestManager, DataManager, StaticPortfolio, MomentumPortfolio, AssetEvaluator, metrics"
   ]
  },
  {
   "cell_type": "code",
   "execution_count": 2,
   "id": "723adb14-cd00-4d96-9c64-5a8628e82f44",
   "metadata": {},
   "outputs": [],
   "source": [
    "metrics2 = [\n",
    "    'cagr', 'monthly_vol', 'monthly_sharpe',\n",
    "    'max_drawdown', 'avg_drawdown','avg_drawdown_days', \n",
    "]\n",
    "\n",
    "path_data = 'data'\n",
    "path_tran = 'transaction'"
   ]
  },
  {
   "cell_type": "markdown",
   "id": "c786112f-9aef-4df7-8248-4ddcfcb2c1f0",
   "metadata": {},
   "source": [
    "# Universe"
   ]
  },
  {
   "cell_type": "code",
   "execution_count": 3,
   "id": "23a11ede-4676-480e-a2fd-c22fe464a7e9",
   "metadata": {},
   "outputs": [
    {
     "data": {
      "application/vnd.jupyter.widget-view+json": {
       "model_id": "f5eab54a87cf439781512419038b0b8c",
       "version_major": 2,
       "version_minor": 0
      },
      "text/plain": [
       "Checkbox(value=False, description='Download', indent=False)"
      ]
     },
     "metadata": {},
     "output_type": "display_data"
    },
    {
     "data": {
      "application/vnd.jupyter.widget-view+json": {
       "model_id": "eda462c658bc42f1ab100b3d5d51afc9",
       "version_major": 2,
       "version_minor": 0
      },
      "text/plain": [
       "Checkbox(value=False, description='Closed', indent=False)"
      ]
     },
     "metadata": {},
     "output_type": "display_data"
    }
   ],
   "source": [
    "from pf_widgets import w_download, w_close\n",
    "display(w_download, w_close)"
   ]
  },
  {
   "cell_type": "code",
   "execution_count": 4,
   "id": "bdb6f093-d816-4b0a-ad3f-1eaa80e35786",
   "metadata": {},
   "outputs": [],
   "source": [
    "# universe and file\n",
    "uv_k200 = ['kospi200', 'kospi200_prices.csv']\n",
    "uv_etf  = ['etf', 'etfs_all.csv']\n",
    "uv_irp  = ['fund', 'funds_irp.csv']\n",
    "uv_hana = ['fund', 'funds_kebhana.csv']"
   ]
  },
  {
   "cell_type": "markdown",
   "id": "1cb34ee5-b007-48b4-a11b-188e6bafad0f",
   "metadata": {},
   "source": [
    "## KOSPI200"
   ]
  },
  {
   "cell_type": "code",
   "execution_count": 5,
   "id": "8aa50408-fd2b-45f5-81ed-6c1a2479eb77",
   "metadata": {},
   "outputs": [
    {
     "name": "stdout",
     "output_type": "stream",
     "text": [
      "200 assets from 2021-01-04 to 2024-08-23 uploaded.\n",
      "df_prices updated\n"
     ]
    }
   ],
   "source": [
    "k200 = DataManager(\n",
    "    path = path_data,\n",
    "    **dict(zip(['universe', 'file'], uv_k200))\n",
    ")\n",
    "k200.upload()"
   ]
  },
  {
   "cell_type": "code",
   "execution_count": 6,
   "id": "56cfa843-ffc7-469f-a18d-aefecdac2e5d",
   "metadata": {},
   "outputs": [],
   "source": [
    "kw = dict(\n",
    "    n_years=3, \n",
    "    close_today = w_close.value,\n",
    "    #tickers=k200.df_prices.columns\n",
    ")\n",
    "k200.download(**kw) if w_download.value else None"
   ]
  },
  {
   "cell_type": "code",
   "execution_count": 7,
   "id": "6654a8a7-4530-4c54-8fd7-46d71981e9f6",
   "metadata": {},
   "outputs": [],
   "source": [
    "df_k200 = k200.df_prices\n",
    "assetnames_k200 = k200.get_names()"
   ]
  },
  {
   "cell_type": "markdown",
   "id": "39d0213d-1cd0-42f6-8066-abb2eb6dd5db",
   "metadata": {},
   "source": [
    "## ETF"
   ]
  },
  {
   "cell_type": "code",
   "execution_count": 8,
   "id": "26a87f56-8333-4d02-bc67-2d58cda01a18",
   "metadata": {},
   "outputs": [
    {
     "name": "stdout",
     "output_type": "stream",
     "text": [
      "881 assets from 2021-01-04 to 2024-08-23 uploaded.\n",
      "df_prices updated\n"
     ]
    }
   ],
   "source": [
    "etf = DataManager(\n",
    "    path = path_data,\n",
    "    **dict(zip(['universe', 'file'], uv_etf)))\n",
    "etf.upload()"
   ]
  },
  {
   "cell_type": "code",
   "execution_count": 9,
   "id": "3cc26afb-d01e-4b99-9be0-fb446726b131",
   "metadata": {},
   "outputs": [],
   "source": [
    "kw = dict(\n",
    "    n_years=3, \n",
    "    close_today = w_close.value,\n",
    "    #tickers=etf.df_prices.columns\n",
    ")\n",
    "etf.download(**kw) if w_download.value else None"
   ]
  },
  {
   "cell_type": "code",
   "execution_count": 10,
   "id": "35e4fe7f-1ebd-40f6-956c-44c464cb6a76",
   "metadata": {},
   "outputs": [
    {
     "data": {
      "text/plain": [
       "0) 069500: KODEX 200\n",
       "1) 273130: KODEX 종합채권(AA-이상)액티브\n",
       "2) 148070: KOSEF 국고채10년\n",
       "3) 379800: KODEX 미국S&P500TR\n",
       "4) 411060: ACE KRX금현물\n",
       "5) 284430: KODEX 200미국채혼합"
      ]
     },
     "execution_count": 10,
     "metadata": {},
     "output_type": "execute_result"
    }
   ],
   "source": [
    "choice = ['069500', '273130', '148070', '379800', '411060', '284430']\n",
    "df_etf = etf.df_prices[choice]\n",
    "assetnames_etf = etf.get_names(tickers=choice)\n",
    "assetnames_etf"
   ]
  },
  {
   "cell_type": "markdown",
   "id": "99c864db-6e90-4720-9287-a23b26b2263e",
   "metadata": {},
   "source": [
    "## IRP - FUNDS\n",
    "- https://www.kiwoomam.com/fund/KI0202020000M?parentfundcode=8325&fundcode=8335\n",
    "- https://investments.miraeasset.com/fund/view.do?fundGb=2&fundCd=537380&childFundGb=2&childFundCd=53738P\n",
    "- https://www.hanwhawm.com/main/finance/fundInfo/FI141_2.cmd?p=500&item_cd=5102896"
   ]
  },
  {
   "cell_type": "code",
   "execution_count": 13,
   "id": "c22863eb-b080-4dd0-b2b0-d199fba75c5a",
   "metadata": {},
   "outputs": [
    {
     "name": "stdout",
     "output_type": "stream",
     "text": [
      "Estimating price from \"data/funds_irp.csv\" ...\n",
      "  WARNING: taking the 1st two columns only.\n",
      "Max error of 14 conversions: 0.16 %\n",
      "14 assets from 2017-07-31 to 2024-07-31 uploaded.\n",
      "df_prices updated\n",
      "WARNING: the number of days in a year with 14 assets (100%) is 121 in avg.\n"
     ]
    }
   ],
   "source": [
    "irp = DataManager(\n",
    "    upload_type = 'rate',\n",
    "    path = path_data,\n",
    "    **dict(zip(['universe', 'file'], uv_irp))\n",
    ")\n",
    "irp.upload()\n",
    "df = irp.check_days_in_year(252)"
   ]
  },
  {
   "cell_type": "code",
   "execution_count": 15,
   "id": "4ab328b2-8f44-40fc-b6cb-64f2e58d2d22",
   "metadata": {},
   "outputs": [
    {
     "name": "stdout",
     "output_type": "stream",
     "text": [
      "WARNING: the number of days in a year with 14 assets (100%) is 121 in avg.\n",
      "REMINDER: data converted to daily (days in year: 365)\n",
      "Daily metrics in Performance statistics must be meaningless\n"
     ]
    }
   ],
   "source": [
    "irp.convert_to_daily(True)"
   ]
  },
  {
   "cell_type": "code",
   "execution_count": 17,
   "id": "b168cd3b-7986-4a19-bbff-44d1ac582f2d",
   "metadata": {},
   "outputs": [
    {
     "data": {
      "text/html": [
       "<div>\n",
       "<style scoped>\n",
       "    .dataframe tbody tr th:only-of-type {\n",
       "        vertical-align: middle;\n",
       "    }\n",
       "\n",
       "    .dataframe tbody tr th {\n",
       "        vertical-align: top;\n",
       "    }\n",
       "\n",
       "    .dataframe thead th {\n",
       "        text-align: right;\n",
       "    }\n",
       "</style>\n",
       "<table border=\"1\" class=\"dataframe\">\n",
       "  <thead>\n",
       "    <tr style=\"text-align: right;\">\n",
       "      <th></th>\n",
       "      <th>start date</th>\n",
       "      <th>end date</th>\n",
       "    </tr>\n",
       "  </thead>\n",
       "  <tbody>\n",
       "    <tr>\n",
       "      <th>K55223BT1450</th>\n",
       "      <td>2017-07-31</td>\n",
       "      <td>2024-07-31</td>\n",
       "    </tr>\n",
       "    <tr>\n",
       "      <th>K55105BS5067</th>\n",
       "      <td>2017-07-31</td>\n",
       "      <td>2024-07-31</td>\n",
       "    </tr>\n",
       "    <tr>\n",
       "      <th>K55301BU5479</th>\n",
       "      <td>2017-08-14</td>\n",
       "      <td>2024-06-16</td>\n",
       "    </tr>\n",
       "    <tr>\n",
       "      <th>K55210BU2435</th>\n",
       "      <td>2017-08-31</td>\n",
       "      <td>2024-07-31</td>\n",
       "    </tr>\n",
       "    <tr>\n",
       "      <th>KR5223AE3357</th>\n",
       "      <td>2017-08-31</td>\n",
       "      <td>2024-07-31</td>\n",
       "    </tr>\n",
       "    <tr>\n",
       "      <th>K55365BT3694</th>\n",
       "      <td>2017-08-31</td>\n",
       "      <td>2024-07-31</td>\n",
       "    </tr>\n",
       "    <tr>\n",
       "      <th>K55207BU0715</th>\n",
       "      <td>2017-08-31</td>\n",
       "      <td>2024-07-31</td>\n",
       "    </tr>\n",
       "    <tr>\n",
       "      <th>K55301BU6139</th>\n",
       "      <td>2017-09-20</td>\n",
       "      <td>2024-07-22</td>\n",
       "    </tr>\n",
       "    <tr>\n",
       "      <th>K55301BU5453</th>\n",
       "      <td>2017-09-29</td>\n",
       "      <td>2024-06-16</td>\n",
       "    </tr>\n",
       "    <tr>\n",
       "      <th>K55203C53681</th>\n",
       "      <td>2018-04-30</td>\n",
       "      <td>2024-07-31</td>\n",
       "    </tr>\n",
       "    <tr>\n",
       "      <th>K55213C51890</th>\n",
       "      <td>2018-05-31</td>\n",
       "      <td>2024-07-31</td>\n",
       "    </tr>\n",
       "    <tr>\n",
       "      <th>K55206C96311</th>\n",
       "      <td>2018-07-13</td>\n",
       "      <td>2024-06-17</td>\n",
       "    </tr>\n",
       "    <tr>\n",
       "      <th>K55206C95800</th>\n",
       "      <td>2018-07-26</td>\n",
       "      <td>2024-07-23</td>\n",
       "    </tr>\n",
       "    <tr>\n",
       "      <th>K55234CJ0997</th>\n",
       "      <td>2019-01-31</td>\n",
       "      <td>2024-07-31</td>\n",
       "    </tr>\n",
       "  </tbody>\n",
       "</table>\n",
       "</div>"
      ],
      "text/plain": [
       "             start date   end date\n",
       "K55223BT1450 2017-07-31 2024-07-31\n",
       "K55105BS5067 2017-07-31 2024-07-31\n",
       "K55301BU5479 2017-08-14 2024-06-16\n",
       "K55210BU2435 2017-08-31 2024-07-31\n",
       "KR5223AE3357 2017-08-31 2024-07-31\n",
       "K55365BT3694 2017-08-31 2024-07-31\n",
       "K55207BU0715 2017-08-31 2024-07-31\n",
       "K55301BU6139 2017-09-20 2024-07-22\n",
       "K55301BU5453 2017-09-29 2024-06-16\n",
       "K55203C53681 2018-04-30 2024-07-31\n",
       "K55213C51890 2018-05-31 2024-07-31\n",
       "K55206C96311 2018-07-13 2024-06-17\n",
       "K55206C95800 2018-07-26 2024-07-23\n",
       "K55234CJ0997 2019-01-31 2024-07-31"
      ]
     },
     "execution_count": 17,
     "metadata": {},
     "output_type": "execute_result"
    }
   ],
   "source": [
    "irp.get_date_range()"
   ]
  },
  {
   "cell_type": "code",
   "execution_count": 18,
   "id": "b39755f5-ed92-4640-aada-9e84bd1eba06",
   "metadata": {},
   "outputs": [
    {
     "data": {
      "text/html": [
       "<div>\n",
       "<style scoped>\n",
       "    .dataframe tbody tr th:only-of-type {\n",
       "        vertical-align: middle;\n",
       "    }\n",
       "\n",
       "    .dataframe tbody tr th {\n",
       "        vertical-align: top;\n",
       "    }\n",
       "\n",
       "    .dataframe thead th {\n",
       "        text-align: right;\n",
       "    }\n",
       "</style>\n",
       "<table border=\"1\" class=\"dataframe\">\n",
       "  <thead>\n",
       "    <tr style=\"text-align: right;\">\n",
       "      <th></th>\n",
       "      <th>daily_sharpe</th>\n",
       "      <th>monthly_sharpe</th>\n",
       "      <th>yearly_sharpe</th>\n",
       "    </tr>\n",
       "  </thead>\n",
       "  <tbody>\n",
       "    <tr>\n",
       "      <th>K55301BU5479</th>\n",
       "      <td>0.971258</td>\n",
       "      <td>0.926647</td>\n",
       "      <td>0.607931</td>\n",
       "    </tr>\n",
       "    <tr>\n",
       "      <th>K55301BU6139</th>\n",
       "      <td>0.99284</td>\n",
       "      <td>0.932816</td>\n",
       "      <td>0.606819</td>\n",
       "    </tr>\n",
       "    <tr>\n",
       "      <th>K55365BT3694</th>\n",
       "      <td>0.590866</td>\n",
       "      <td>0.586247</td>\n",
       "      <td>0.512494</td>\n",
       "    </tr>\n",
       "    <tr>\n",
       "      <th>K55213C51890</th>\n",
       "      <td>0.711905</td>\n",
       "      <td>0.710794</td>\n",
       "      <td>0.494694</td>\n",
       "    </tr>\n",
       "    <tr>\n",
       "      <th>K55223BT1450</th>\n",
       "      <td>0.613672</td>\n",
       "      <td>0.609538</td>\n",
       "      <td>0.447105</td>\n",
       "    </tr>\n",
       "    <tr>\n",
       "      <th>K55206C96311</th>\n",
       "      <td>0.727533</td>\n",
       "      <td>0.620327</td>\n",
       "      <td>0.440651</td>\n",
       "    </tr>\n",
       "    <tr>\n",
       "      <th>K55210BU2435</th>\n",
       "      <td>0.656462</td>\n",
       "      <td>0.653452</td>\n",
       "      <td>0.43721</td>\n",
       "    </tr>\n",
       "    <tr>\n",
       "      <th>K55203C53681</th>\n",
       "      <td>0.512799</td>\n",
       "      <td>0.507063</td>\n",
       "      <td>0.432236</td>\n",
       "    </tr>\n",
       "    <tr>\n",
       "      <th>K55206C95800</th>\n",
       "      <td>0.765275</td>\n",
       "      <td>0.63428</td>\n",
       "      <td>0.420561</td>\n",
       "    </tr>\n",
       "    <tr>\n",
       "      <th>K55301BU5453</th>\n",
       "      <td>1.002487</td>\n",
       "      <td>0.769008</td>\n",
       "      <td>0.387949</td>\n",
       "    </tr>\n",
       "    <tr>\n",
       "      <th>K55207BU0715</th>\n",
       "      <td>0.432664</td>\n",
       "      <td>0.426554</td>\n",
       "      <td>0.369039</td>\n",
       "    </tr>\n",
       "    <tr>\n",
       "      <th>K55105BS5067</th>\n",
       "      <td>0.493479</td>\n",
       "      <td>0.487586</td>\n",
       "      <td>0.303819</td>\n",
       "    </tr>\n",
       "    <tr>\n",
       "      <th>K55234CJ0997</th>\n",
       "      <td>0.612011</td>\n",
       "      <td>0.607839</td>\n",
       "      <td>0.272169</td>\n",
       "    </tr>\n",
       "    <tr>\n",
       "      <th>KR5223AE3357</th>\n",
       "      <td>0.276384</td>\n",
       "      <td>0.271307</td>\n",
       "      <td>0.235663</td>\n",
       "    </tr>\n",
       "  </tbody>\n",
       "</table>\n",
       "</div>"
      ],
      "text/plain": [
       "             daily_sharpe monthly_sharpe yearly_sharpe\n",
       "K55301BU5479     0.971258       0.926647      0.607931\n",
       "K55301BU6139      0.99284       0.932816      0.606819\n",
       "K55365BT3694     0.590866       0.586247      0.512494\n",
       "K55213C51890     0.711905       0.710794      0.494694\n",
       "K55223BT1450     0.613672       0.609538      0.447105\n",
       "K55206C96311     0.727533       0.620327      0.440651\n",
       "K55210BU2435     0.656462       0.653452       0.43721\n",
       "K55203C53681     0.512799       0.507063      0.432236\n",
       "K55206C95800     0.765275        0.63428      0.420561\n",
       "K55301BU5453     1.002487       0.769008      0.387949\n",
       "K55207BU0715     0.432664       0.426554      0.369039\n",
       "K55105BS5067     0.493479       0.487586      0.303819\n",
       "K55234CJ0997     0.612011       0.607839      0.272169\n",
       "KR5223AE3357     0.276384       0.271307      0.235663"
      ]
     },
     "execution_count": 18,
     "metadata": {},
     "output_type": "execute_result"
    }
   ],
   "source": [
    "irp.performance('sharpe', 'year')"
   ]
  },
  {
   "cell_type": "code",
   "execution_count": 19,
   "id": "ca9f04ca-7358-4f4e-99ca-0b31d1857ce6",
   "metadata": {},
   "outputs": [
    {
     "data": {
      "text/plain": [
       "0) K55301BU6139: 미래에셋전략배분TDF2035혼합자산자투자신탁종류C-P2e\n",
       "1) K55206C95800: 키움키워드림TDF2030증권투자신탁 1[혼합-재간접형]C-P2e(퇴직연금)\n",
       "2) K55301BU5453: 미래에셋평생소득TIF혼합자산자투자신탁종류C-P2e\n",
       "3) K55301BU5479: 미래에셋전략배분TDF2045혼합자산자투자신탁 종류C-P2e\n",
       "4) K55206C96311: 키움키워드림TDF2045증권투자신탁 1[혼합-재간접형]C-P2e(퇴직연금)\n",
       "5) K55210BU2435: 신한마음편한TDF2040증권투자신탁[주식혼합-재간접형](종류C-re)\n",
       "6) K55213C51890: 한화LIFEPLUSTDF2040증권자투자신탁(혼합-재간접형)C-RPe(퇴직연금)\n",
       "7) K55223BT1450: KB온국민TDF2040증권투자신탁(주식혼합-재간접형)C-퇴직e\n",
       "8) K55105BS5067: 삼성한국형TDF2040증권투자신탁H[주식혼합-재간접형]C-Pe\n",
       "9) KR5223AE3357: kb퇴직연금배당증권자투자신탁(주식)C-E\n",
       "10) K55365BT3694: kcgi코리아퇴직연금증권자투자신탁(주식)종류C-Pe2\n",
       "11) K55207BU0715: 교보악사파워인덱스증권자투자신탁1호(주식)C-Pe\n",
       "12) K55203C53681: 대신KOSPI200인덱스증권자투자신탁(주식-파생형)CPe\n",
       "13) K55234CJ0997: IBK플레인바닐라EMP증권투자신탁(혼합-재간접형)C-Re"
      ]
     },
     "execution_count": 19,
     "metadata": {},
     "output_type": "execute_result"
    }
   ],
   "source": [
    "df_irp = irp.df_prices\n",
    "assetnames_irp = irp.get_names()\n",
    "assetnames_irp"
   ]
  },
  {
   "cell_type": "markdown",
   "id": "36c8bf0d-4dad-4e2c-9839-f6f61c7db911",
   "metadata": {},
   "source": [
    "## HANA - FUNDS\n",
    "- https://dis.kofia.or.kr"
   ]
  },
  {
   "cell_type": "code",
   "execution_count": 13,
   "id": "7e607069-dd69-4e22-8ce9-f81df53b9554",
   "metadata": {},
   "outputs": [
    {
     "name": "stdout",
     "output_type": "stream",
     "text": [
      "Estimating price from \"data/funds_kebhana.csv\" ...\n",
      "  error: -0.00 %\n",
      "  error: 0.01 %\n",
      "  error: -0.00 %\n",
      "  error: 0.00 %\n",
      "4 assets from 2010-01-29 to 2024-07-31 uploaded.\n",
      "df_prices updated\n"
     ]
    },
    {
     "data": {
      "text/html": [
       "<div>\n",
       "<style scoped>\n",
       "    .dataframe tbody tr th:only-of-type {\n",
       "        vertical-align: middle;\n",
       "    }\n",
       "\n",
       "    .dataframe tbody tr th {\n",
       "        vertical-align: top;\n",
       "    }\n",
       "\n",
       "    .dataframe thead th {\n",
       "        text-align: right;\n",
       "    }\n",
       "</style>\n",
       "<table border=\"1\" class=\"dataframe\">\n",
       "  <thead>\n",
       "    <tr style=\"text-align: right;\">\n",
       "      <th></th>\n",
       "      <th>start date</th>\n",
       "      <th>end date</th>\n",
       "    </tr>\n",
       "  </thead>\n",
       "  <tbody>\n",
       "    <tr>\n",
       "      <th>KR5101888398</th>\n",
       "      <td>2010-01-29</td>\n",
       "      <td>2024-07-31</td>\n",
       "    </tr>\n",
       "    <tr>\n",
       "      <th>KR5370AP9956</th>\n",
       "      <td>2014-04-30</td>\n",
       "      <td>2024-07-31</td>\n",
       "    </tr>\n",
       "    <tr>\n",
       "      <th>KR5236AS4826</th>\n",
       "      <td>2014-05-30</td>\n",
       "      <td>2024-07-31</td>\n",
       "    </tr>\n",
       "    <tr>\n",
       "      <th>K55306CV9946</th>\n",
       "      <td>2019-10-31</td>\n",
       "      <td>2024-07-31</td>\n",
       "    </tr>\n",
       "  </tbody>\n",
       "</table>\n",
       "</div>"
      ],
      "text/plain": [
       "             start date   end date\n",
       "KR5101888398 2010-01-29 2024-07-31\n",
       "KR5370AP9956 2014-04-30 2024-07-31\n",
       "KR5236AS4826 2014-05-30 2024-07-31\n",
       "K55306CV9946 2019-10-31 2024-07-31"
      ]
     },
     "execution_count": 13,
     "metadata": {},
     "output_type": "execute_result"
    }
   ],
   "source": [
    "hana = DataManager(\n",
    "    upload_type = 'rate',\n",
    "    path = path_data,\n",
    "    **dict(zip(['universe', 'file'], uv_hana))\n",
    ")\n",
    "hana.upload()\n",
    "hana.get_date_range()"
   ]
  },
  {
   "cell_type": "code",
   "execution_count": 6,
   "id": "64659ef9-1f1e-4fa3-93ff-55e23a5a0340",
   "metadata": {},
   "outputs": [
    {
     "data": {
      "text/plain": [
       "KR5101888398    12.0\n",
       "KR5236AS4826    12.0\n",
       "KR5370AP9956    12.0\n",
       "K55306CV9946    12.0\n",
       "dtype: float64"
      ]
     },
     "execution_count": 6,
     "metadata": {},
     "output_type": "execute_result"
    }
   ],
   "source": [
    "hana.check_days_in_year(12)"
   ]
  },
  {
   "cell_type": "code",
   "execution_count": 7,
   "id": "18a5f65f-d681-438a-af27-db404aeca9e8",
   "metadata": {},
   "outputs": [
    {
     "name": "stdout",
     "output_type": "stream",
     "text": [
      "REMINDER: data converted to daily (days in year: 365)\n",
      "Daily metrics in Performance statistics must be meaningless\n"
     ]
    }
   ],
   "source": [
    "hana.convert_to_daily(True)"
   ]
  },
  {
   "cell_type": "code",
   "execution_count": 8,
   "id": "f4e8af84-8722-466a-9b29-bad3eb78c099",
   "metadata": {},
   "outputs": [
    {
     "data": {
      "text/plain": [
       "0) KR5101888398: 한국투자크레딧포커스ESG증권자투자신탁 1(채권)(C-e)\n",
       "1) KR5236AS4826: 한국밸류10년투자증권투자신탁 1(채권혼합)종류C-E\n",
       "2) KR5370AP9956: AB글로벌고수익증권투자신탁(채권-재간접형)종류형Ce\n",
       "3) K55306CV9946: 다올글로벌멀티에셋인컴EMP증권자투자신탁[혼합-재간접형](공)종류Ce"
      ]
     },
     "execution_count": 8,
     "metadata": {},
     "output_type": "execute_result"
    }
   ],
   "source": [
    "df_hana = hana.df_prices\n",
    "assetnames_hana = hana.get_names()\n",
    "assetnames_hana"
   ]
  },
  {
   "cell_type": "code",
   "execution_count": 9,
   "id": "ff070849-3cf7-4523-a606-c10548ed599d",
   "metadata": {},
   "outputs": [
    {
     "data": {
      "text/plain": [
       "<Axes: >"
      ]
     },
     "execution_count": 9,
     "metadata": {},
     "output_type": "execute_result"
    },
    {
     "data": {
      "image/png": "[encoded data removed]",
      "text/plain": [
       "<Figure size 1000x400 with 1 Axes>"
      ]
     },
     "metadata": {},
     "output_type": "display_data"
    }
   ],
   "source": [
    "df_hana.loc['2014':].plot(figsize=(10,4))"
   ]
  },
  {
   "cell_type": "markdown",
   "id": "0aaaa9db-40ad-414a-b709-de117191981b",
   "metadata": {},
   "source": [
    "# Backtest"
   ]
  },
  {
   "cell_type": "markdown",
   "id": "00168468-3042-497d-bd8b-35ee21ca83c5",
   "metadata": {},
   "source": [
    "## KOSPI 200"
   ]
  },
  {
   "cell_type": "code",
   "execution_count": 11,
   "id": "5cd3809d-522b-4cad-944e-de081a5b3657",
   "metadata": {},
   "outputs": [
    {
     "name": "stdout",
     "output_type": "stream",
     "text": [
      "15 assets removed for shorter periods (7.5%)\n",
      "running self.util_check_days_in_year to check days in a year\n",
      "WARNING: the number of days in a year with 185 assets (100%) is 247 in avg.\n"
     ]
    }
   ],
   "source": [
    "kwargs_bm = dict(\n",
    "    initial_capital = 10000000,\n",
    "    commissions = 0,\n",
    "    align_axis = 1, \n",
    "    days_in_year = 246,\n",
    "    asset_names = assetnames_k200\n",
    ")\n",
    "bm = BacktestManager(df_k200, **kwargs_bm)"
   ]
  },
  {
   "cell_type": "code",
   "execution_count": 12,
   "id": "9a647011-2deb-48fa-ba4c-96d4a699b70f",
   "metadata": {},
   "outputs": [],
   "source": [
    "lags = dict(lookback=12, lag=5)"
   ]
  },
  {
   "cell_type": "code",
   "execution_count": 13,
   "id": "63f41609-2c02-419d-b8dd-30993313c9e1",
   "metadata": {},
   "outputs": [
    {
     "name": "stdout",
     "output_type": "stream",
     "text": [
      "Benchmark is KODEX200\n"
     ]
    }
   ],
   "source": [
    "bm.benchmark_ticker(**lags)"
   ]
  },
  {
   "cell_type": "code",
   "execution_count": 14,
   "id": "b37e9472-eac5-4344-aa7f-a6975e7204b1",
   "metadata": {},
   "outputs": [],
   "source": [
    "select = 'Momentum'\n",
    "kwargs_build = dict(\n",
    "    name=f'KOSPI:{select}', select =select,\n",
    "    freq='M', weigh = 'ERC',\n",
    "    n_assets=5, **lags\n",
    ")\n",
    "bm.build(**kwargs_build)"
   ]
  },
  {
   "cell_type": "code",
   "execution_count": 15,
   "id": "ce2ebc9e-4f37-456c-8b80-6d08227047de",
   "metadata": {},
   "outputs": [],
   "source": [
    "select = 'K-ratio'\n",
    "kwargs_build.update(dict(\n",
    "    name=f'KOSPI:{select}', select =select,\n",
    "))\n",
    "bm.build(**kwargs_build)"
   ]
  },
  {
   "cell_type": "code",
   "execution_count": 16,
   "id": "c629fa84-dce1-42bd-8e96-6eef028632a1",
   "metadata": {},
   "outputs": [],
   "source": [
    "select = 'Momentum'\n",
    "n_assets = 10\n",
    "kwargs_build = dict(\n",
    "    name=f'KOSPI:{select}_{n_assets}', select =select,\n",
    "    freq='M', weigh = 'ERC',\n",
    "    n_assets=n_assets, **lags\n",
    ")\n",
    "bm.build(**kwargs_build)"
   ]
  },
  {
   "cell_type": "code",
   "execution_count": 17,
   "id": "f4636d65-e08d-4f8f-b957-ec2c728b4667",
   "metadata": {},
   "outputs": [
    {
     "name": "stdout",
     "output_type": "stream",
     "text": [
      "Backtesting 4 strategies: KODEX200, KOSPI:Momentum, KOSPI:K-ratio, KOSPI:Momentum_10\n"
     ]
    },
    {
     "name": "stderr",
     "output_type": "stream",
     "text": [
      "100%|█████████████████████████████████████████████████████████████████| 4/4 [01:03<00:00, 15.81s/it]"
     ]
    },
    {
     "name": "stdout",
     "output_type": "stream",
     "text": [
      "Returning stats\n"
     ]
    },
    {
     "name": "stderr",
     "output_type": "stream",
     "text": [
      "\n"
     ]
    },
    {
     "data": {
      "text/html": [
       "<div>\n",
       "<style scoped>\n",
       "    .dataframe tbody tr th:only-of-type {\n",
       "        vertical-align: middle;\n",
       "    }\n",
       "\n",
       "    .dataframe tbody tr th {\n",
       "        vertical-align: top;\n",
       "    }\n",
       "\n",
       "    .dataframe thead th {\n",
       "        text-align: right;\n",
       "    }\n",
       "</style>\n",
       "<table border=\"1\" class=\"dataframe\">\n",
       "  <thead>\n",
       "    <tr style=\"text-align: right;\">\n",
       "      <th></th>\n",
       "      <th>KOSPI:Momentum</th>\n",
       "      <th>KOSPI:K-ratio</th>\n",
       "      <th>KOSPI:Momentum_10</th>\n",
       "      <th>KODEX200</th>\n",
       "    </tr>\n",
       "  </thead>\n",
       "  <tbody>\n",
       "    <tr>\n",
       "      <th>start</th>\n",
       "      <td>2021-01-03</td>\n",
       "      <td>2021-01-03</td>\n",
       "      <td>2021-01-03</td>\n",
       "      <td>2021-01-03</td>\n",
       "    </tr>\n",
       "    <tr>\n",
       "      <th>end</th>\n",
       "      <td>2024-08-23</td>\n",
       "      <td>2024-08-23</td>\n",
       "      <td>2024-08-23</td>\n",
       "      <td>2024-08-23</td>\n",
       "    </tr>\n",
       "    <tr>\n",
       "      <th>total_return</th>\n",
       "      <td>4.681265</td>\n",
       "      <td>1.612401</td>\n",
       "      <td>2.168628</td>\n",
       "      <td>0.002629</td>\n",
       "    </tr>\n",
       "    <tr>\n",
       "      <th>cagr</th>\n",
       "      <td>0.612504</td>\n",
       "      <td>0.302272</td>\n",
       "      <td>0.373278</td>\n",
       "      <td>0.000722</td>\n",
       "    </tr>\n",
       "    <tr>\n",
       "      <th>calmar</th>\n",
       "      <td>2.197839</td>\n",
       "      <td>1.428209</td>\n",
       "      <td>1.339425</td>\n",
       "      <td>0.002597</td>\n",
       "    </tr>\n",
       "    <tr>\n",
       "      <th>max_drawdown</th>\n",
       "      <td>-0.278685</td>\n",
       "      <td>-0.211644</td>\n",
       "      <td>-0.278685</td>\n",
       "      <td>-0.278165</td>\n",
       "    </tr>\n",
       "    <tr>\n",
       "      <th>avg_drawdown</th>\n",
       "      <td>-0.064276</td>\n",
       "      <td>-0.032612</td>\n",
       "      <td>-0.050644</td>\n",
       "      <td>-0.078234</td>\n",
       "    </tr>\n",
       "    <tr>\n",
       "      <th>avg_drawdown_days</th>\n",
       "      <td>17.6</td>\n",
       "      <td>19.309524</td>\n",
       "      <td>25.65625</td>\n",
       "      <td>157.166667</td>\n",
       "    </tr>\n",
       "    <tr>\n",
       "      <th>daily_vol</th>\n",
       "      <td>0.399865</td>\n",
       "      <td>0.232031</td>\n",
       "      <td>0.299541</td>\n",
       "      <td>0.156325</td>\n",
       "    </tr>\n",
       "    <tr>\n",
       "      <th>daily_sharpe</th>\n",
       "      <td>1.417141</td>\n",
       "      <td>1.27646</td>\n",
       "      <td>1.229812</td>\n",
       "      <td>0.083251</td>\n",
       "    </tr>\n",
       "    <tr>\n",
       "      <th>daily_sortino</th>\n",
       "      <td>2.480367</td>\n",
       "      <td>2.123627</td>\n",
       "      <td>2.010731</td>\n",
       "      <td>0.126282</td>\n",
       "    </tr>\n",
       "    <tr>\n",
       "      <th>monthly_vol</th>\n",
       "      <td>0.473201</td>\n",
       "      <td>0.250542</td>\n",
       "      <td>0.40245</td>\n",
       "      <td>0.17317</td>\n",
       "    </tr>\n",
       "    <tr>\n",
       "      <th>monthly_sharpe</th>\n",
       "      <td>1.244371</td>\n",
       "      <td>1.19524</td>\n",
       "      <td>0.98423</td>\n",
       "      <td>0.090111</td>\n",
       "    </tr>\n",
       "    <tr>\n",
       "      <th>monthly_sortino</th>\n",
       "      <td>4.190099</td>\n",
       "      <td>3.298588</td>\n",
       "      <td>2.594891</td>\n",
       "      <td>0.14011</td>\n",
       "    </tr>\n",
       "  </tbody>\n",
       "</table>\n",
       "</div>"
      ],
      "text/plain": [
       "                  KOSPI:Momentum KOSPI:K-ratio KOSPI:Momentum_10    KODEX200\n",
       "start                 2021-01-03    2021-01-03        2021-01-03  2021-01-03\n",
       "end                   2024-08-23    2024-08-23        2024-08-23  2024-08-23\n",
       "total_return            4.681265      1.612401          2.168628    0.002629\n",
       "cagr                    0.612504      0.302272          0.373278    0.000722\n",
       "calmar                  2.197839      1.428209          1.339425    0.002597\n",
       "max_drawdown           -0.278685     -0.211644         -0.278685   -0.278165\n",
       "avg_drawdown           -0.064276     -0.032612         -0.050644   -0.078234\n",
       "avg_drawdown_days           17.6     19.309524          25.65625  157.166667\n",
       "daily_vol               0.399865      0.232031          0.299541    0.156325\n",
       "daily_sharpe            1.417141       1.27646          1.229812    0.083251\n",
       "daily_sortino           2.480367      2.123627          2.010731    0.126282\n",
       "monthly_vol             0.473201      0.250542           0.40245     0.17317\n",
       "monthly_sharpe          1.244371       1.19524           0.98423    0.090111\n",
       "monthly_sortino         4.190099      3.298588          2.594891     0.14011"
      ]
     },
     "execution_count": 17,
     "metadata": {},
     "output_type": "execute_result"
    },
    {
     "data": {
      "image/png": "[encoded data removed]",
      "text/plain": [
       "<Figure size 1000x400 with 1 Axes>"
      ]
     },
     "metadata": {},
     "output_type": "display_data"
    }
   ],
   "source": [
    "bm.run(figsize=(10,4), stats_sort_by='monthly_sharpe')"
   ]
  },
  {
   "cell_type": "code",
   "execution_count": 36,
   "id": "25abb7ae-920c-4d4a-8ce9-b8a48858c0f5",
   "metadata": {},
   "outputs": [],
   "source": [
    "df_pf = bm.get_historical()\n",
    "df_pf = df_pf[['KODEX200','KOSPI:Momentum']]"
   ]
  },
  {
   "cell_type": "markdown",
   "id": "c7df33e3-8f1f-4633-a6aa-f4ee66196a91",
   "metadata": {},
   "source": [
    "## ETF"
   ]
  },
  {
   "cell_type": "code",
   "execution_count": 38,
   "id": "2fd24a73-19c1-413c-88a6-96bd4e00b2b3",
   "metadata": {},
   "outputs": [
    {
     "name": "stdout",
     "output_type": "stream",
     "text": [
      "period reset: 2021-12-15 ~ 2024-07-18\n",
      "running self.util_check_days_in_year to check days in a year\n"
     ]
    }
   ],
   "source": [
    "kwargs_bm = dict(\n",
    "    initial_capital = 10000000,\n",
    "    commissions = 0,\n",
    "    align_axis = 0, \n",
    "    days_in_year = 245,\n",
    "    asset_names = assetnames_etf\n",
    ")\n",
    "bm = BacktestManager(df_etf, **kwargs_bm)"
   ]
  },
  {
   "cell_type": "code",
   "execution_count": 39,
   "id": "93227910-9914-406a-a0a7-541d68a4fd44",
   "metadata": {},
   "outputs": [],
   "source": [
    "lags = dict(lookback=12, lag=5)"
   ]
  },
  {
   "cell_type": "code",
   "execution_count": 40,
   "id": "13a3623c-5807-48c4-9128-b6af7db76a99",
   "metadata": {},
   "outputs": [
    {
     "name": "stdout",
     "output_type": "stream",
     "text": [
      "Benchmark is KODEX200\n"
     ]
    }
   ],
   "source": [
    "bm.benchmark_ticker(**lags)"
   ]
  },
  {
   "cell_type": "code",
   "execution_count": 41,
   "id": "29dfeae2-4162-4686-bf53-83f3e97dcbef",
   "metadata": {},
   "outputs": [],
   "source": [
    "kwargs_build = dict(\n",
    "    freq = 'Y', select = 'all',\n",
    "    **lags # added to start backtest on same date with momentum\n",
    ")\n",
    "\n",
    "bm.build(name='ETF:Eqaully', weigh='equally', **kwargs_build)\n",
    "bm.build(name='ETF:ERC', weigh='ERC', **kwargs_build)\n",
    "bm.build(name='ETF:InvVol', weigh='InvVol', **kwargs_build)"
   ]
  },
  {
   "cell_type": "code",
   "execution_count": 42,
   "id": "3c8b22ef-614d-484e-a0f8-437e06b4f1c7",
   "metadata": {},
   "outputs": [],
   "source": [
    "kwargs_build = dict(\n",
    "    weigh='InvVol',  select = 'all',  **lags\n",
    ")\n",
    "\n",
    "bm.build(name='ETF:Eqaully(Q)', freq = 'Q', **kwargs_build)\n",
    "bm.build(name='ETF:Eqaully(M)', freq = 'M', **kwargs_build)"
   ]
  },
  {
   "cell_type": "code",
   "execution_count": 43,
   "id": "3c04e206-5e63-4bc6-a8b5-90869bdd09be",
   "metadata": {},
   "outputs": [
    {
     "name": "stdout",
     "output_type": "stream",
     "text": [
      "Backtesting 6 strategies: KODEX200, ETF:Eqaully, ... , ETF:Eqaully(M)\n"
     ]
    },
    {
     "name": "stderr",
     "output_type": "stream",
     "text": [
      "100%|█████████████████████████████████████████████████████████████████| 6/6 [00:01<00:00,  5.79it/s]\n"
     ]
    },
    {
     "name": "stdout",
     "output_type": "stream",
     "text": [
      "Returning stats\n"
     ]
    },
    {
     "data": {
      "text/html": [
       "<div>\n",
       "<style scoped>\n",
       "    .dataframe tbody tr th:only-of-type {\n",
       "        vertical-align: middle;\n",
       "    }\n",
       "\n",
       "    .dataframe tbody tr th {\n",
       "        vertical-align: top;\n",
       "    }\n",
       "\n",
       "    .dataframe thead th {\n",
       "        text-align: right;\n",
       "    }\n",
       "</style>\n",
       "<table border=\"1\" class=\"dataframe\">\n",
       "  <thead>\n",
       "    <tr style=\"text-align: right;\">\n",
       "      <th></th>\n",
       "      <th>ETF:Eqaully</th>\n",
       "      <th>ETF:ERC</th>\n",
       "      <th>ETF:Eqaully(M)</th>\n",
       "      <th>ETF:Eqaully(Q)</th>\n",
       "      <th>ETF:InvVol</th>\n",
       "      <th>KODEX200</th>\n",
       "    </tr>\n",
       "  </thead>\n",
       "  <tbody>\n",
       "    <tr>\n",
       "      <th>start</th>\n",
       "      <td>2021-12-14</td>\n",
       "      <td>2021-12-14</td>\n",
       "      <td>2021-12-14</td>\n",
       "      <td>2021-12-14</td>\n",
       "      <td>2021-12-14</td>\n",
       "      <td>2021-12-14</td>\n",
       "    </tr>\n",
       "    <tr>\n",
       "      <th>end</th>\n",
       "      <td>2024-07-18</td>\n",
       "      <td>2024-07-18</td>\n",
       "      <td>2024-07-18</td>\n",
       "      <td>2024-07-18</td>\n",
       "      <td>2024-07-18</td>\n",
       "      <td>2024-07-18</td>\n",
       "    </tr>\n",
       "    <tr>\n",
       "      <th>total_return</th>\n",
       "      <td>0.270048</td>\n",
       "      <td>0.224691</td>\n",
       "      <td>0.20629</td>\n",
       "      <td>0.202248</td>\n",
       "      <td>0.198584</td>\n",
       "      <td>0.319442</td>\n",
       "    </tr>\n",
       "    <tr>\n",
       "      <th>cagr</th>\n",
       "      <td>0.096586</td>\n",
       "      <td>0.081312</td>\n",
       "      <td>0.075017</td>\n",
       "      <td>0.073626</td>\n",
       "      <td>0.072363</td>\n",
       "      <td>0.112842</td>\n",
       "    </tr>\n",
       "    <tr>\n",
       "      <th>calmar</th>\n",
       "      <td>2.627234</td>\n",
       "      <td>2.112785</td>\n",
       "      <td>2.004658</td>\n",
       "      <td>1.991795</td>\n",
       "      <td>1.918062</td>\n",
       "      <td>0.895283</td>\n",
       "    </tr>\n",
       "    <tr>\n",
       "      <th>max_drawdown</th>\n",
       "      <td>-0.036763</td>\n",
       "      <td>-0.038486</td>\n",
       "      <td>-0.037421</td>\n",
       "      <td>-0.036965</td>\n",
       "      <td>-0.037727</td>\n",
       "      <td>-0.126041</td>\n",
       "    </tr>\n",
       "    <tr>\n",
       "      <th>avg_drawdown</th>\n",
       "      <td>-0.007541</td>\n",
       "      <td>-0.007283</td>\n",
       "      <td>-0.006064</td>\n",
       "      <td>-0.00668</td>\n",
       "      <td>-0.006697</td>\n",
       "      <td>-0.02551</td>\n",
       "    </tr>\n",
       "    <tr>\n",
       "      <th>avg_drawdown_days</th>\n",
       "      <td>12.216216</td>\n",
       "      <td>16.740741</td>\n",
       "      <td>15.0</td>\n",
       "      <td>16.851852</td>\n",
       "      <td>16.888889</td>\n",
       "      <td>19.192308</td>\n",
       "    </tr>\n",
       "    <tr>\n",
       "      <th>daily_vol</th>\n",
       "      <td>0.046106</td>\n",
       "      <td>0.040436</td>\n",
       "      <td>0.038918</td>\n",
       "      <td>0.038857</td>\n",
       "      <td>0.038869</td>\n",
       "      <td>0.125859</td>\n",
       "    </tr>\n",
       "    <tr>\n",
       "      <th>daily_sharpe</th>\n",
       "      <td>2.071368</td>\n",
       "      <td>2.000378</td>\n",
       "      <td>1.923199</td>\n",
       "      <td>1.891992</td>\n",
       "      <td>1.860437</td>\n",
       "      <td>0.932876</td>\n",
       "    </tr>\n",
       "    <tr>\n",
       "      <th>daily_sortino</th>\n",
       "      <td>3.486188</td>\n",
       "      <td>3.348137</td>\n",
       "      <td>3.189171</td>\n",
       "      <td>3.128047</td>\n",
       "      <td>3.069271</td>\n",
       "      <td>1.554938</td>\n",
       "    </tr>\n",
       "    <tr>\n",
       "      <th>monthly_vol</th>\n",
       "      <td>0.064213</td>\n",
       "      <td>0.056054</td>\n",
       "      <td>0.05561</td>\n",
       "      <td>0.055108</td>\n",
       "      <td>0.055145</td>\n",
       "      <td>0.137407</td>\n",
       "    </tr>\n",
       "    <tr>\n",
       "      <th>monthly_sharpe</th>\n",
       "      <td>1.477225</td>\n",
       "      <td>1.431008</td>\n",
       "      <td>1.336014</td>\n",
       "      <td>1.323968</td>\n",
       "      <td>1.301567</td>\n",
       "      <td>0.849445</td>\n",
       "    </tr>\n",
       "    <tr>\n",
       "      <th>monthly_sortino</th>\n",
       "      <td>4.275991</td>\n",
       "      <td>4.719391</td>\n",
       "      <td>3.982917</td>\n",
       "      <td>3.961035</td>\n",
       "      <td>3.863142</td>\n",
       "      <td>1.915467</td>\n",
       "    </tr>\n",
       "  </tbody>\n",
       "</table>\n",
       "</div>"
      ],
      "text/plain": [
       "                  ETF:Eqaully     ETF:ERC ETF:Eqaully(M) ETF:Eqaully(Q)  \\\n",
       "start              2021-12-14  2021-12-14     2021-12-14     2021-12-14   \n",
       "end                2024-07-18  2024-07-18     2024-07-18     2024-07-18   \n",
       "total_return         0.270048    0.224691        0.20629       0.202248   \n",
       "cagr                 0.096586    0.081312       0.075017       0.073626   \n",
       "calmar               2.627234    2.112785       2.004658       1.991795   \n",
       "max_drawdown        -0.036763   -0.038486      -0.037421      -0.036965   \n",
       "avg_drawdown        -0.007541   -0.007283      -0.006064       -0.00668   \n",
       "avg_drawdown_days   12.216216   16.740741           15.0      16.851852   \n",
       "daily_vol            0.046106    0.040436       0.038918       0.038857   \n",
       "daily_sharpe         2.071368    2.000378       1.923199       1.891992   \n",
       "daily_sortino        3.486188    3.348137       3.189171       3.128047   \n",
       "monthly_vol          0.064213    0.056054        0.05561       0.055108   \n",
       "monthly_sharpe       1.477225    1.431008       1.336014       1.323968   \n",
       "monthly_sortino      4.275991    4.719391       3.982917       3.961035   \n",
       "\n",
       "                   ETF:InvVol    KODEX200  \n",
       "start              2021-12-14  2021-12-14  \n",
       "end                2024-07-18  2024-07-18  \n",
       "total_return         0.198584    0.319442  \n",
       "cagr                 0.072363    0.112842  \n",
       "calmar               1.918062    0.895283  \n",
       "max_drawdown        -0.037727   -0.126041  \n",
       "avg_drawdown        -0.006697    -0.02551  \n",
       "avg_drawdown_days   16.888889   19.192308  \n",
       "daily_vol            0.038869    0.125859  \n",
       "daily_sharpe         1.860437    0.932876  \n",
       "daily_sortino        3.069271    1.554938  \n",
       "monthly_vol          0.055145    0.137407  \n",
       "monthly_sharpe       1.301567    0.849445  \n",
       "monthly_sortino      3.863142    1.915467  "
      ]
     },
     "execution_count": 43,
     "metadata": {},
     "output_type": "execute_result"
    },
    {
     "data": {
      "image/png": "[encoded data removed]",
      "text/plain": [
       "<Figure size 1000x400 with 1 Axes>"
      ]
     },
     "metadata": {},
     "output_type": "display_data"
    }
   ],
   "source": [
    "bm.run(figsize=(10,4), stats_sort_by='monthly_sharpe')"
   ]
  },
  {
   "cell_type": "code",
   "execution_count": 44,
   "id": "62d9d66e-cd01-49fc-af0c-bf8e01756ab3",
   "metadata": {},
   "outputs": [
    {
     "ename": "NameError",
     "evalue": "name 'df_pf' is not defined",
     "output_type": "error",
     "traceback": [
      "\u001b[0;31m---------------------------------------------------------------------------\u001b[0m",
      "\u001b[0;31mNameError\u001b[0m                                 Traceback (most recent call last)",
      "Cell \u001b[0;32mIn[44], line 2\u001b[0m\n\u001b[1;32m      1\u001b[0m df \u001b[38;5;241m=\u001b[39m bm\u001b[38;5;241m.\u001b[39mget_historical()\n\u001b[0;32m----> 2\u001b[0m df_pf \u001b[38;5;241m=\u001b[39m \u001b[43mdf_pf\u001b[49m\u001b[38;5;241m.\u001b[39mjoin(df[[\u001b[38;5;124m'\u001b[39m\u001b[38;5;124mETF:Eqaully\u001b[39m\u001b[38;5;124m'\u001b[39m, \u001b[38;5;124m'\u001b[39m\u001b[38;5;124mETF:ERC\u001b[39m\u001b[38;5;124m'\u001b[39m]])\n",
      "\u001b[0;31mNameError\u001b[0m: name 'df_pf' is not defined"
     ]
    }
   ],
   "source": [
    "df = bm.get_historical()\n",
    "df_pf = df_pf.join(df[['ETF:Eqaully', 'ETF:ERC']])"
   ]
  },
  {
   "cell_type": "markdown",
   "id": "91d08b17-542b-4d1f-a0e8-f2f5a854703f",
   "metadata": {},
   "source": [
    "## IRP"
   ]
  },
  {
   "cell_type": "code",
   "execution_count": 20,
   "id": "f002de8c-cbe1-4052-9118-72d2995ecfdf",
   "metadata": {},
   "outputs": [
    {
     "name": "stdout",
     "output_type": "stream",
     "text": [
      "period reset: 2019-01-31 ~ 2024-06-16\n",
      "running self.util_check_days_in_year to check days in a year\n"
     ]
    }
   ],
   "source": [
    "kwargs_bm = dict(\n",
    "    initial_capital = 10000000,\n",
    "    commissions = 0,\n",
    "    align_axis = 0, \n",
    "    days_in_year = 365,\n",
    "    asset_names = assetnames_irp\n",
    ")\n",
    "bm = BacktestManager(df_irp, **kwargs_bm)"
   ]
  },
  {
   "cell_type": "code",
   "execution_count": 21,
   "id": "8b59f3cc-c76e-4b53-8f95-fcb96aa9908d",
   "metadata": {},
   "outputs": [],
   "source": [
    "lags = dict(lookback=12, lag=5)"
   ]
  },
  {
   "cell_type": "code",
   "execution_count": 22,
   "id": "ae08c153-8479-47d5-8ec0-d87780812392",
   "metadata": {},
   "outputs": [
    {
     "name": "stdout",
     "output_type": "stream",
     "text": [
      "Benchmark is KODEX200\n"
     ]
    }
   ],
   "source": [
    "bm.benchmark_ticker(**lags)"
   ]
  },
  {
   "cell_type": "code",
   "execution_count": 26,
   "id": "1d3828e5-7187-42a0-8ef9-5f11134ba7ad",
   "metadata": {},
   "outputs": [],
   "source": [
    "kwargs_build = dict(\n",
    "    freq = 'Y', select = 'all',\n",
    "    **lags # added to start backtest on same date with momentum\n",
    ")\n",
    "\n",
    "bm.build(name='TDF:Eqaully', weigh='equally', **kwargs_build)\n",
    "bm.build(name='TDF:ERC', weigh='ERC', **kwargs_build)\n",
    "bm.build(name='TDF:InvVol', weigh='InvVol', **kwargs_build)\n",
    "bm.build(name='TDF:MeanVar', weigh='MeanVar', **kwargs_build)"
   ]
  },
  {
   "cell_type": "code",
   "execution_count": 27,
   "id": "a5888771-301f-48ae-9cf3-e5edc45c6cf8",
   "metadata": {},
   "outputs": [],
   "source": [
    "choice = ['K55301BU6139', 'K55206C95800']\n",
    "\n",
    "kwargs_build.update(dict(\n",
    "    name='TDF2:Eqaully', select ='all', \n",
    "    weigh='Specified',  weights=choice\n",
    "))\n",
    "bm.build(**kwargs_build)"
   ]
  },
  {
   "cell_type": "code",
   "execution_count": 28,
   "id": "c317615a-96e2-496a-94ef-20ea2c7564b4",
   "metadata": {},
   "outputs": [
    {
     "name": "stdout",
     "output_type": "stream",
     "text": [
      "Backtesting 6 strategies: KODEX200, TDF:Eqaully, ... , TDF:MeanVar\n"
     ]
    },
    {
     "name": "stderr",
     "output_type": "stream",
     "text": [
      "100%|█████████████████████████████████████████████████████████████████| 6/6 [00:02<00:00,  2.01it/s]"
     ]
    },
    {
     "name": "stdout",
     "output_type": "stream",
     "text": [
      "Returning stats\n"
     ]
    },
    {
     "name": "stderr",
     "output_type": "stream",
     "text": [
      "\n"
     ]
    },
    {
     "data": {
      "text/html": [
       "<div>\n",
       "<style scoped>\n",
       "    .dataframe tbody tr th:only-of-type {\n",
       "        vertical-align: middle;\n",
       "    }\n",
       "\n",
       "    .dataframe tbody tr th {\n",
       "        vertical-align: top;\n",
       "    }\n",
       "\n",
       "    .dataframe thead th {\n",
       "        text-align: right;\n",
       "    }\n",
       "</style>\n",
       "<table border=\"1\" class=\"dataframe\">\n",
       "  <thead>\n",
       "    <tr style=\"text-align: right;\">\n",
       "      <th></th>\n",
       "      <th>TDF2:Eqaully</th>\n",
       "      <th>TDF:ERC</th>\n",
       "      <th>TDF:Eqaully</th>\n",
       "      <th>TDF:InvVol</th>\n",
       "      <th>KODEX200</th>\n",
       "      <th>TDF:MeanVar</th>\n",
       "    </tr>\n",
       "  </thead>\n",
       "  <tbody>\n",
       "    <tr>\n",
       "      <th>start</th>\n",
       "      <td>2019-01-30</td>\n",
       "      <td>2019-01-30</td>\n",
       "      <td>2019-01-30</td>\n",
       "      <td>2019-01-30</td>\n",
       "      <td>2019-01-30</td>\n",
       "      <td>2019-01-30</td>\n",
       "    </tr>\n",
       "    <tr>\n",
       "      <th>end</th>\n",
       "      <td>2024-06-14</td>\n",
       "      <td>2024-06-14</td>\n",
       "      <td>2024-06-14</td>\n",
       "      <td>2024-06-14</td>\n",
       "      <td>2024-06-14</td>\n",
       "      <td>2024-06-14</td>\n",
       "    </tr>\n",
       "    <tr>\n",
       "      <th>total_return</th>\n",
       "      <td>0.319244</td>\n",
       "      <td>0.293361</td>\n",
       "      <td>0.324335</td>\n",
       "      <td>0.282145</td>\n",
       "      <td>0.412397</td>\n",
       "      <td>0.207911</td>\n",
       "    </tr>\n",
       "    <tr>\n",
       "      <th>cagr</th>\n",
       "      <td>0.052931</td>\n",
       "      <td>0.049054</td>\n",
       "      <td>0.053686</td>\n",
       "      <td>0.047355</td>\n",
       "      <td>0.06639</td>\n",
       "      <td>0.03579</td>\n",
       "    </tr>\n",
       "    <tr>\n",
       "      <th>calmar</th>\n",
       "      <td>0.245474</td>\n",
       "      <td>0.264026</td>\n",
       "      <td>0.262698</td>\n",
       "      <td>0.257763</td>\n",
       "      <td>0.193679</td>\n",
       "      <td>0.188877</td>\n",
       "    </tr>\n",
       "    <tr>\n",
       "      <th>max_drawdown</th>\n",
       "      <td>-0.215628</td>\n",
       "      <td>-0.185794</td>\n",
       "      <td>-0.204365</td>\n",
       "      <td>-0.183714</td>\n",
       "      <td>-0.342786</td>\n",
       "      <td>-0.189489</td>\n",
       "    </tr>\n",
       "    <tr>\n",
       "      <th>avg_drawdown</th>\n",
       "      <td>-0.018778</td>\n",
       "      <td>-0.011908</td>\n",
       "      <td>-0.012961</td>\n",
       "      <td>-0.011647</td>\n",
       "      <td>-0.052</td>\n",
       "      <td>-0.014691</td>\n",
       "    </tr>\n",
       "    <tr>\n",
       "      <th>avg_drawdown_days</th>\n",
       "      <td>40.882353</td>\n",
       "      <td>31.272727</td>\n",
       "      <td>37.72973</td>\n",
       "      <td>34.525</td>\n",
       "      <td>72.380952</td>\n",
       "      <td>44.78125</td>\n",
       "    </tr>\n",
       "    <tr>\n",
       "      <th>daily_vol</th>\n",
       "      <td>0.06881</td>\n",
       "      <td>0.06821</td>\n",
       "      <td>0.094874</td>\n",
       "      <td>0.072148</td>\n",
       "      <td>0.186759</td>\n",
       "      <td>0.077941</td>\n",
       "    </tr>\n",
       "    <tr>\n",
       "      <th>daily_sharpe</th>\n",
       "      <td>0.801497</td>\n",
       "      <td>0.752605</td>\n",
       "      <td>0.611821</td>\n",
       "      <td>0.692387</td>\n",
       "      <td>0.445341</td>\n",
       "      <td>0.499999</td>\n",
       "    </tr>\n",
       "    <tr>\n",
       "      <th>daily_sortino</th>\n",
       "      <td>1.185366</td>\n",
       "      <td>1.108632</td>\n",
       "      <td>0.894577</td>\n",
       "      <td>1.016649</td>\n",
       "      <td>0.727977</td>\n",
       "      <td>0.842796</td>\n",
       "    </tr>\n",
       "    <tr>\n",
       "      <th>monthly_vol</th>\n",
       "      <td>0.100262</td>\n",
       "      <td>0.105441</td>\n",
       "      <td>0.119908</td>\n",
       "      <td>0.104852</td>\n",
       "      <td>0.189823</td>\n",
       "      <td>0.10151</td>\n",
       "    </tr>\n",
       "    <tr>\n",
       "      <th>monthly_sharpe</th>\n",
       "      <td>0.561538</td>\n",
       "      <td>0.504133</td>\n",
       "      <td>0.493421</td>\n",
       "      <td>0.490969</td>\n",
       "      <td>0.430136</td>\n",
       "      <td>0.394446</td>\n",
       "    </tr>\n",
       "    <tr>\n",
       "      <th>monthly_sortino</th>\n",
       "      <td>0.849083</td>\n",
       "      <td>0.767537</td>\n",
       "      <td>0.767488</td>\n",
       "      <td>0.74834</td>\n",
       "      <td>0.744237</td>\n",
       "      <td>0.623465</td>\n",
       "    </tr>\n",
       "  </tbody>\n",
       "</table>\n",
       "</div>"
      ],
      "text/plain": [
       "                  TDF2:Eqaully     TDF:ERC TDF:Eqaully  TDF:InvVol  \\\n",
       "start               2019-01-30  2019-01-30  2019-01-30  2019-01-30   \n",
       "end                 2024-06-14  2024-06-14  2024-06-14  2024-06-14   \n",
       "total_return          0.319244    0.293361    0.324335    0.282145   \n",
       "cagr                  0.052931    0.049054    0.053686    0.047355   \n",
       "calmar                0.245474    0.264026    0.262698    0.257763   \n",
       "max_drawdown         -0.215628   -0.185794   -0.204365   -0.183714   \n",
       "avg_drawdown         -0.018778   -0.011908   -0.012961   -0.011647   \n",
       "avg_drawdown_days    40.882353   31.272727    37.72973      34.525   \n",
       "daily_vol              0.06881     0.06821    0.094874    0.072148   \n",
       "daily_sharpe          0.801497    0.752605    0.611821    0.692387   \n",
       "daily_sortino         1.185366    1.108632    0.894577    1.016649   \n",
       "monthly_vol           0.100262    0.105441    0.119908    0.104852   \n",
       "monthly_sharpe        0.561538    0.504133    0.493421    0.490969   \n",
       "monthly_sortino       0.849083    0.767537    0.767488     0.74834   \n",
       "\n",
       "                     KODEX200 TDF:MeanVar  \n",
       "start              2019-01-30  2019-01-30  \n",
       "end                2024-06-14  2024-06-14  \n",
       "total_return         0.412397    0.207911  \n",
       "cagr                  0.06639     0.03579  \n",
       "calmar               0.193679    0.188877  \n",
       "max_drawdown        -0.342786   -0.189489  \n",
       "avg_drawdown           -0.052   -0.014691  \n",
       "avg_drawdown_days   72.380952    44.78125  \n",
       "daily_vol            0.186759    0.077941  \n",
       "daily_sharpe         0.445341    0.499999  \n",
       "daily_sortino        0.727977    0.842796  \n",
       "monthly_vol          0.189823     0.10151  \n",
       "monthly_sharpe       0.430136    0.394446  \n",
       "monthly_sortino      0.744237    0.623465  "
      ]
     },
     "execution_count": 28,
     "metadata": {},
     "output_type": "execute_result"
    },
    {
     "data": {
      "image/png": "[encoded data removed]",
      "text/plain": [
       "<Figure size 1000x400 with 1 Axes>"
      ]
     },
     "metadata": {},
     "output_type": "display_data"
    }
   ],
   "source": [
    "bm.run(figsize=(10,4), stats_sort_by='monthly_sharpe')"
   ]
  },
  {
   "cell_type": "code",
   "execution_count": 49,
   "id": "4a861844-46f2-407d-9dbe-e4d4844c0284",
   "metadata": {},
   "outputs": [],
   "source": [
    "df = bm.get_historical()\n",
    "df_pf = df_pf.join(df['TDF2:Eqaully'])"
   ]
  },
  {
   "cell_type": "markdown",
   "id": "6fb4f78b-163d-47e3-9daa-f2011bc6f470",
   "metadata": {},
   "source": [
    "## HANA"
   ]
  },
  {
   "cell_type": "code",
   "execution_count": 10,
   "id": "ecd48802-7d10-4166-ac11-70c157accbd4",
   "metadata": {},
   "outputs": [
    {
     "name": "stdout",
     "output_type": "stream",
     "text": [
      "period reset: 2019-10-31 ~ 2024-07-31\n",
      "running self.util_check_days_in_year to check days in a year\n"
     ]
    }
   ],
   "source": [
    "kwargs_bm = dict(\n",
    "    initial_capital = 10000000,\n",
    "    commissions = 0,\n",
    "    align_axis = 0, \n",
    "    days_in_year = 365,\n",
    "    asset_names = assetnames_hana\n",
    ")\n",
    "bm = BacktestManager(df_hana, **kwargs_bm)"
   ]
  },
  {
   "cell_type": "code",
   "execution_count": 11,
   "id": "a1e00782-b62b-42ec-b90d-85ecf014eeed",
   "metadata": {},
   "outputs": [],
   "source": [
    "lags = dict(lookback=12, lag=5)"
   ]
  },
  {
   "cell_type": "code",
   "execution_count": 12,
   "id": "6f852c13-5c83-46c2-8695-9835388d0cb4",
   "metadata": {},
   "outputs": [
    {
     "name": "stdout",
     "output_type": "stream",
     "text": [
      "Benchmark is KODEX200\n"
     ]
    }
   ],
   "source": [
    "bm.benchmark_ticker(**lags)"
   ]
  },
  {
   "cell_type": "code",
   "execution_count": 13,
   "id": "902f84a1-190f-4c6b-a240-bc42a3cd557b",
   "metadata": {},
   "outputs": [],
   "source": [
    "kwargs_build = dict(\n",
    "    freq = 'Y', select = 'all',\n",
    "    **lags # added to start backtest on same date with momentum\n",
    ")\n",
    "\n",
    "bm.build(name='HANA:Eqaully', weigh='equally', **kwargs_build)\n",
    "bm.build(name='HANA:ERC', weigh='ERC', **kwargs_build)\n",
    "bm.build(name='HANA:InvVol', weigh='InvVol', **kwargs_build)"
   ]
  },
  {
   "cell_type": "code",
   "execution_count": 14,
   "id": "b6450c21-6641-48ef-9c03-bb6cc0226f8d",
   "metadata": {},
   "outputs": [],
   "source": [
    "kwargs_build = dict(\n",
    "    weigh='InvVol',  select = 'all',  **lags\n",
    ")\n",
    "\n",
    "bm.build(name='HANA:InvVol(Q)', freq = 'Q', **kwargs_build)\n",
    "bm.build(name='HANA:InvVol(M)', freq = 'M', **kwargs_build)"
   ]
  },
  {
   "cell_type": "code",
   "execution_count": 15,
   "id": "8f2e8a88-b079-476a-b64c-7e160c9518f0",
   "metadata": {},
   "outputs": [
    {
     "name": "stdout",
     "output_type": "stream",
     "text": [
      "Backtesting 6 strategies: KODEX200, HANA:Eqaully, ... , HANA:InvVol(M)\n"
     ]
    },
    {
     "name": "stderr",
     "output_type": "stream",
     "text": [
      "100%|█████████████████████████████████████████████████████████████████| 6/6 [00:02<00:00,  2.16it/s]"
     ]
    },
    {
     "name": "stdout",
     "output_type": "stream",
     "text": [
      "Returning stats\n"
     ]
    },
    {
     "name": "stderr",
     "output_type": "stream",
     "text": [
      "\n"
     ]
    },
    {
     "data": {
      "text/html": [
       "<div>\n",
       "<style scoped>\n",
       "    .dataframe tbody tr th:only-of-type {\n",
       "        vertical-align: middle;\n",
       "    }\n",
       "\n",
       "    .dataframe tbody tr th {\n",
       "        vertical-align: top;\n",
       "    }\n",
       "\n",
       "    .dataframe thead th {\n",
       "        text-align: right;\n",
       "    }\n",
       "</style>\n",
       "<table border=\"1\" class=\"dataframe\">\n",
       "  <thead>\n",
       "    <tr style=\"text-align: right;\">\n",
       "      <th></th>\n",
       "      <th>HANA:InvVol</th>\n",
       "      <th>HANA:InvVol(M)</th>\n",
       "      <th>HANA:InvVol(Q)</th>\n",
       "      <th>HANA:ERC</th>\n",
       "      <th>HANA:Eqaully</th>\n",
       "      <th>KODEX200</th>\n",
       "    </tr>\n",
       "  </thead>\n",
       "  <tbody>\n",
       "    <tr>\n",
       "      <th>start</th>\n",
       "      <td>2019-10-30</td>\n",
       "      <td>2019-10-30</td>\n",
       "      <td>2019-10-30</td>\n",
       "      <td>2019-10-30</td>\n",
       "      <td>2019-10-30</td>\n",
       "      <td>2019-10-30</td>\n",
       "    </tr>\n",
       "    <tr>\n",
       "      <th>end</th>\n",
       "      <td>2024-07-31</td>\n",
       "      <td>2024-07-31</td>\n",
       "      <td>2024-07-31</td>\n",
       "      <td>2024-07-31</td>\n",
       "      <td>2024-07-31</td>\n",
       "      <td>2024-07-31</td>\n",
       "    </tr>\n",
       "    <tr>\n",
       "      <th>total_return</th>\n",
       "      <td>0.153301</td>\n",
       "      <td>0.128839</td>\n",
       "      <td>0.131496</td>\n",
       "      <td>0.180167</td>\n",
       "      <td>0.155502</td>\n",
       "      <td>0.317262</td>\n",
       "    </tr>\n",
       "    <tr>\n",
       "      <th>cagr</th>\n",
       "      <td>0.030463</td>\n",
       "      <td>0.025826</td>\n",
       "      <td>0.026333</td>\n",
       "      <td>0.035468</td>\n",
       "      <td>0.030877</td>\n",
       "      <td>0.05969</td>\n",
       "    </tr>\n",
       "    <tr>\n",
       "      <th>calmar</th>\n",
       "      <td>0.531545</td>\n",
       "      <td>0.397336</td>\n",
       "      <td>0.406434</td>\n",
       "      <td>0.434394</td>\n",
       "      <td>0.317349</td>\n",
       "      <td>0.174126</td>\n",
       "    </tr>\n",
       "    <tr>\n",
       "      <th>max_drawdown</th>\n",
       "      <td>-0.057311</td>\n",
       "      <td>-0.064998</td>\n",
       "      <td>-0.064791</td>\n",
       "      <td>-0.081649</td>\n",
       "      <td>-0.097296</td>\n",
       "      <td>-0.342796</td>\n",
       "    </tr>\n",
       "    <tr>\n",
       "      <th>avg_drawdown</th>\n",
       "      <td>-0.015045</td>\n",
       "      <td>-0.009759</td>\n",
       "      <td>-0.013248</td>\n",
       "      <td>-0.024826</td>\n",
       "      <td>-0.028437</td>\n",
       "      <td>-0.039924</td>\n",
       "    </tr>\n",
       "    <tr>\n",
       "      <th>avg_drawdown_days</th>\n",
       "      <td>128.166667</td>\n",
       "      <td>112.125</td>\n",
       "      <td>146.166667</td>\n",
       "      <td>172.0</td>\n",
       "      <td>177.8</td>\n",
       "      <td>87.133333</td>\n",
       "    </tr>\n",
       "    <tr>\n",
       "      <th>daily_vol</th>\n",
       "      <td>0.032006</td>\n",
       "      <td>0.032026</td>\n",
       "      <td>0.032686</td>\n",
       "      <td>0.046101</td>\n",
       "      <td>0.049326</td>\n",
       "      <td>0.153677</td>\n",
       "    </tr>\n",
       "    <tr>\n",
       "      <th>daily_sharpe</th>\n",
       "      <td>0.973311</td>\n",
       "      <td>0.828929</td>\n",
       "      <td>0.828294</td>\n",
       "      <td>0.7949</td>\n",
       "      <td>0.654115</td>\n",
       "      <td>0.46194</td>\n",
       "    </tr>\n",
       "    <tr>\n",
       "      <th>daily_sortino</th>\n",
       "      <td>1.897121</td>\n",
       "      <td>1.431321</td>\n",
       "      <td>1.445869</td>\n",
       "      <td>1.428709</td>\n",
       "      <td>1.072672</td>\n",
       "      <td>0.775417</td>\n",
       "    </tr>\n",
       "    <tr>\n",
       "      <th>monthly_vol</th>\n",
       "      <td>0.031912</td>\n",
       "      <td>0.031651</td>\n",
       "      <td>0.032852</td>\n",
       "      <td>0.046346</td>\n",
       "      <td>0.049325</td>\n",
       "      <td>0.177808</td>\n",
       "    </tr>\n",
       "    <tr>\n",
       "      <th>monthly_sharpe</th>\n",
       "      <td>0.957676</td>\n",
       "      <td>0.822452</td>\n",
       "      <td>0.808621</td>\n",
       "      <td>0.776172</td>\n",
       "      <td>0.641801</td>\n",
       "      <td>0.414488</td>\n",
       "    </tr>\n",
       "    <tr>\n",
       "      <th>monthly_sortino</th>\n",
       "      <td>2.094727</td>\n",
       "      <td>1.575526</td>\n",
       "      <td>1.57691</td>\n",
       "      <td>1.604376</td>\n",
       "      <td>1.212181</td>\n",
       "      <td>0.716039</td>\n",
       "    </tr>\n",
       "  </tbody>\n",
       "</table>\n",
       "</div>"
      ],
      "text/plain": [
       "                  HANA:InvVol HANA:InvVol(M) HANA:InvVol(Q)    HANA:ERC  \\\n",
       "start              2019-10-30     2019-10-30     2019-10-30  2019-10-30   \n",
       "end                2024-07-31     2024-07-31     2024-07-31  2024-07-31   \n",
       "total_return         0.153301       0.128839       0.131496    0.180167   \n",
       "cagr                 0.030463       0.025826       0.026333    0.035468   \n",
       "calmar               0.531545       0.397336       0.406434    0.434394   \n",
       "max_drawdown        -0.057311      -0.064998      -0.064791   -0.081649   \n",
       "avg_drawdown        -0.015045      -0.009759      -0.013248   -0.024826   \n",
       "avg_drawdown_days  128.166667        112.125     146.166667       172.0   \n",
       "daily_vol            0.032006       0.032026       0.032686    0.046101   \n",
       "daily_sharpe         0.973311       0.828929       0.828294      0.7949   \n",
       "daily_sortino        1.897121       1.431321       1.445869    1.428709   \n",
       "monthly_vol          0.031912       0.031651       0.032852    0.046346   \n",
       "monthly_sharpe       0.957676       0.822452       0.808621    0.776172   \n",
       "monthly_sortino      2.094727       1.575526        1.57691    1.604376   \n",
       "\n",
       "                  HANA:Eqaully    KODEX200  \n",
       "start               2019-10-30  2019-10-30  \n",
       "end                 2024-07-31  2024-07-31  \n",
       "total_return          0.155502    0.317262  \n",
       "cagr                  0.030877     0.05969  \n",
       "calmar                0.317349    0.174126  \n",
       "max_drawdown         -0.097296   -0.342796  \n",
       "avg_drawdown         -0.028437   -0.039924  \n",
       "avg_drawdown_days        177.8   87.133333  \n",
       "daily_vol             0.049326    0.153677  \n",
       "daily_sharpe          0.654115     0.46194  \n",
       "daily_sortino         1.072672    0.775417  \n",
       "monthly_vol           0.049325    0.177808  \n",
       "monthly_sharpe        0.641801    0.414488  \n",
       "monthly_sortino       1.212181    0.716039  "
      ]
     },
     "execution_count": 15,
     "metadata": {},
     "output_type": "execute_result"
    },
    {
     "data": {
      "image/png": "[encoded data removed]",
      "text/plain": [
       "<Figure size 1000x400 with 1 Axes>"
      ]
     },
     "metadata": {},
     "output_type": "display_data"
    }
   ],
   "source": [
    "bm.run(figsize=(10,4), stats_sort_by='monthly_sharpe')"
   ]
  },
  {
   "cell_type": "code",
   "execution_count": 24,
   "id": "bc5a5764-234f-4271-9068-78f299e5434a",
   "metadata": {},
   "outputs": [
    {
     "ename": "NameError",
     "evalue": "name 'df_pf' is not defined",
     "output_type": "error",
     "traceback": [
      "\u001b[0;31m---------------------------------------------------------------------------\u001b[0m",
      "\u001b[0;31mNameError\u001b[0m                                 Traceback (most recent call last)",
      "Cell \u001b[0;32mIn[24], line 2\u001b[0m\n\u001b[1;32m      1\u001b[0m df \u001b[38;5;241m=\u001b[39m bm\u001b[38;5;241m.\u001b[39mget_historical()\n\u001b[0;32m----> 2\u001b[0m df_pf \u001b[38;5;241m=\u001b[39m \u001b[43mdf_pf\u001b[49m\u001b[38;5;241m.\u001b[39mjoin(df[\u001b[38;5;124m'\u001b[39m\u001b[38;5;124mHANA:InvVol\u001b[39m\u001b[38;5;124m'\u001b[39m])\n",
      "\u001b[0;31mNameError\u001b[0m: name 'df_pf' is not defined"
     ]
    }
   ],
   "source": [
    "df = bm.get_historical()\n",
    "df_pf = df_pf.join(df['HANA:InvVol'])"
   ]
  },
  {
   "cell_type": "markdown",
   "id": "cf8a0232-f3a2-43db-aa5f-3d909e8263a8",
   "metadata": {},
   "source": [
    "## Summary"
   ]
  },
  {
   "cell_type": "code",
   "execution_count": 58,
   "id": "dee14040-64ef-44d3-96d2-4d77d6592098",
   "metadata": {},
   "outputs": [
    {
     "name": "stdout",
     "output_type": "stream",
     "text": [
      "WARNING: the number of days in a year with followings is 245 in avg.:\n",
      "ETF:Eqaully: 244\n",
      "ETF:ERC: 244\n",
      "TDF2:Eqaully: 246\n",
      "HANA:InvVol: 246\n"
     ]
    }
   ],
   "source": [
    "ae = AssetEvaluator(df_pf, 245)"
   ]
  },
  {
   "cell_type": "code",
   "execution_count": 59,
   "id": "4d62e8a7-f9c6-4c25-a6f0-71d2e1759c95",
   "metadata": {},
   "outputs": [
    {
     "data": {
      "text/html": [
       "<div>\n",
       "<style scoped>\n",
       "    .dataframe tbody tr th:only-of-type {\n",
       "        vertical-align: middle;\n",
       "    }\n",
       "\n",
       "    .dataframe tbody tr th {\n",
       "        vertical-align: top;\n",
       "    }\n",
       "\n",
       "    .dataframe thead th {\n",
       "        text-align: right;\n",
       "    }\n",
       "</style>\n",
       "<table border=\"1\" class=\"dataframe\">\n",
       "  <thead>\n",
       "    <tr style=\"text-align: right;\">\n",
       "      <th></th>\n",
       "      <th>ETF:Eqaully</th>\n",
       "      <th>ETF:ERC</th>\n",
       "      <th>KOSPI:Momentum</th>\n",
       "      <th>HANA:InvVol</th>\n",
       "      <th>TDF2:Eqaully</th>\n",
       "      <th>KODEX200</th>\n",
       "    </tr>\n",
       "  </thead>\n",
       "  <tbody>\n",
       "    <tr>\n",
       "      <th>start</th>\n",
       "      <td>2022-12-19</td>\n",
       "      <td>2022-12-19</td>\n",
       "      <td>2022-01-25</td>\n",
       "      <td>2022-01-10</td>\n",
       "      <td>2022-01-10</td>\n",
       "      <td>2022-01-10</td>\n",
       "    </tr>\n",
       "    <tr>\n",
       "      <th>end</th>\n",
       "      <td>2024-07-15</td>\n",
       "      <td>2024-07-15</td>\n",
       "      <td>2024-07-15</td>\n",
       "      <td>2024-06-28</td>\n",
       "      <td>2024-06-14</td>\n",
       "      <td>2024-07-15</td>\n",
       "    </tr>\n",
       "    <tr>\n",
       "      <th>total_return</th>\n",
       "      <td>0.268406</td>\n",
       "      <td>0.221212</td>\n",
       "      <td>6.076125</td>\n",
       "      <td>0.105528</td>\n",
       "      <td>0.048404</td>\n",
       "      <td>0.073467</td>\n",
       "    </tr>\n",
       "    <tr>\n",
       "      <th>cagr</th>\n",
       "      <td>0.163337</td>\n",
       "      <td>0.135605</td>\n",
       "      <td>1.208567</td>\n",
       "      <td>0.041555</td>\n",
       "      <td>0.019678</td>\n",
       "      <td>0.02864</td>\n",
       "    </tr>\n",
       "    <tr>\n",
       "      <th>calmar</th>\n",
       "      <td>4.442957</td>\n",
       "      <td>3.523505</td>\n",
       "      <td>4.597925</td>\n",
       "      <td>0.725071</td>\n",
       "      <td>0.120567</td>\n",
       "      <td>0.10294</td>\n",
       "    </tr>\n",
       "    <tr>\n",
       "      <th>max_drawdown</th>\n",
       "      <td>-0.036763</td>\n",
       "      <td>-0.038486</td>\n",
       "      <td>-0.262851</td>\n",
       "      <td>-0.057311</td>\n",
       "      <td>-0.16321</td>\n",
       "      <td>-0.278222</td>\n",
       "    </tr>\n",
       "    <tr>\n",
       "      <th>avg_drawdown</th>\n",
       "      <td>-0.007653</td>\n",
       "      <td>-0.007471</td>\n",
       "      <td>-0.059227</td>\n",
       "      <td>-0.026509</td>\n",
       "      <td>-0.02669</td>\n",
       "      <td>-0.053124</td>\n",
       "    </tr>\n",
       "    <tr>\n",
       "      <th>avg_drawdown_days</th>\n",
       "      <td>12.527778</td>\n",
       "      <td>17.384615</td>\n",
       "      <td>17.604651</td>\n",
       "      <td>214.666667</td>\n",
       "      <td>106.375</td>\n",
       "      <td>150.666667</td>\n",
       "    </tr>\n",
       "    <tr>\n",
       "      <th>daily_vol</th>\n",
       "      <td>0.058874</td>\n",
       "      <td>0.051632</td>\n",
       "      <td>0.467956</td>\n",
       "      <td>0.042535</td>\n",
       "      <td>0.068992</td>\n",
       "      <td>0.173314</td>\n",
       "    </tr>\n",
       "    <tr>\n",
       "      <th>daily_sharpe</th>\n",
       "      <td>2.673554</td>\n",
       "      <td>2.559844</td>\n",
       "      <td>1.973106</td>\n",
       "      <td>1.001981</td>\n",
       "      <td>0.324167</td>\n",
       "      <td>0.253552</td>\n",
       "    </tr>\n",
       "    <tr>\n",
       "      <th>daily_sortino</th>\n",
       "      <td>4.714778</td>\n",
       "      <td>4.483013</td>\n",
       "      <td>3.714411</td>\n",
       "      <td>1.89344</td>\n",
       "      <td>0.519324</td>\n",
       "      <td>0.435756</td>\n",
       "    </tr>\n",
       "    <tr>\n",
       "      <th>monthly_vol</th>\n",
       "      <td>0.070763</td>\n",
       "      <td>0.062614</td>\n",
       "      <td>0.532543</td>\n",
       "      <td>0.042271</td>\n",
       "      <td>0.090631</td>\n",
       "      <td>0.201705</td>\n",
       "    </tr>\n",
       "    <tr>\n",
       "      <th>monthly_sharpe</th>\n",
       "      <td>2.425376</td>\n",
       "      <td>2.289928</td>\n",
       "      <td>1.771324</td>\n",
       "      <td>1.120547</td>\n",
       "      <td>0.476933</td>\n",
       "      <td>0.390238</td>\n",
       "    </tr>\n",
       "    <tr>\n",
       "      <th>monthly_sortino</th>\n",
       "      <td>9.301996</td>\n",
       "      <td>11.127831</td>\n",
       "      <td>6.249977</td>\n",
       "      <td>2.428973</td>\n",
       "      <td>0.793051</td>\n",
       "      <td>0.636633</td>\n",
       "    </tr>\n",
       "  </tbody>\n",
       "</table>\n",
       "</div>"
      ],
      "text/plain": [
       "                  ETF:Eqaully     ETF:ERC KOSPI:Momentum HANA:InvVol  \\\n",
       "start              2022-12-19  2022-12-19     2022-01-25  2022-01-10   \n",
       "end                2024-07-15  2024-07-15     2024-07-15  2024-06-28   \n",
       "total_return         0.268406    0.221212       6.076125    0.105528   \n",
       "cagr                 0.163337    0.135605       1.208567    0.041555   \n",
       "calmar               4.442957    3.523505       4.597925    0.725071   \n",
       "max_drawdown        -0.036763   -0.038486      -0.262851   -0.057311   \n",
       "avg_drawdown        -0.007653   -0.007471      -0.059227   -0.026509   \n",
       "avg_drawdown_days   12.527778   17.384615      17.604651  214.666667   \n",
       "daily_vol            0.058874    0.051632       0.467956    0.042535   \n",
       "daily_sharpe         2.673554    2.559844       1.973106    1.001981   \n",
       "daily_sortino        4.714778    4.483013       3.714411     1.89344   \n",
       "monthly_vol          0.070763    0.062614       0.532543    0.042271   \n",
       "monthly_sharpe       2.425376    2.289928       1.771324    1.120547   \n",
       "monthly_sortino      9.301996   11.127831       6.249977    2.428973   \n",
       "\n",
       "                  TDF2:Eqaully    KODEX200  \n",
       "start               2022-01-10  2022-01-10  \n",
       "end                 2024-06-14  2024-07-15  \n",
       "total_return          0.048404    0.073467  \n",
       "cagr                  0.019678     0.02864  \n",
       "calmar                0.120567     0.10294  \n",
       "max_drawdown          -0.16321   -0.278222  \n",
       "avg_drawdown          -0.02669   -0.053124  \n",
       "avg_drawdown_days      106.375  150.666667  \n",
       "daily_vol             0.068992    0.173314  \n",
       "daily_sharpe          0.324167    0.253552  \n",
       "daily_sortino         0.519324    0.435756  \n",
       "monthly_vol           0.090631    0.201705  \n",
       "monthly_sharpe        0.476933    0.390238  \n",
       "monthly_sortino       0.793051    0.636633  "
      ]
     },
     "execution_count": 59,
     "metadata": {},
     "output_type": "execute_result"
    }
   ],
   "source": [
    "ae.get_stats(sort_by='monthly_sharpe', align_period=False)"
   ]
  },
  {
   "cell_type": "markdown",
   "id": "2c9b3de9-e20a-4486-9fc7-7ba75bd5fdec",
   "metadata": {},
   "source": [
    "# Transaction"
   ]
  },
  {
   "cell_type": "markdown",
   "id": "8c1d7580-8b01-4154-8c49-14f4063b6b03",
   "metadata": {},
   "source": [
    "## KOSPI200"
   ]
  },
  {
   "cell_type": "code",
   "execution_count": 18,
   "id": "ab3a72e9-226d-40dd-bac4-b76740397cca",
   "metadata": {},
   "outputs": [
    {
     "name": "stdout",
     "output_type": "stream",
     "text": [
      "15 assets removed for shorter periods (7.5%)\n",
      "running self.util_check_days_in_year to check days in a year\n",
      "WARNING: the number of days in a year with 185 assets (100%) is 247 in avg.\n",
      "Transaction record to 2024-08-22 loaded.\n",
      "Transaction dates updated for profit/loss on the dates\n"
     ]
    }
   ],
   "source": [
    "kwargs = dict(\n",
    "    name='KOSPI Momentum',\n",
    "    file='pf_k200_momentum.csv',\n",
    "    method_select='Simple', method_weigh='ERC', lookback=12, lag=5,\n",
    "    path=path_tran,\n",
    "    days_in_year=246,\n",
    "    asset_names=assetnames_k200,\n",
    ")\n",
    "\n",
    "pf_k200 = MomentumPortfolio(df_k200, **kwargs)"
   ]
  },
  {
   "cell_type": "code",
   "execution_count": 19,
   "id": "77027256-82a9-4fd7-89ed-b854710eae4f",
   "metadata": {},
   "outputs": [
    {
     "data": {
      "text/html": [
       "<div>\n",
       "<style scoped>\n",
       "    .dataframe tbody tr th:only-of-type {\n",
       "        vertical-align: middle;\n",
       "    }\n",
       "\n",
       "    .dataframe tbody tr th {\n",
       "        vertical-align: top;\n",
       "    }\n",
       "\n",
       "    .dataframe thead th {\n",
       "        text-align: right;\n",
       "    }\n",
       "</style>\n",
       "<table border=\"1\" class=\"dataframe\">\n",
       "  <thead>\n",
       "    <tr style=\"text-align: right;\">\n",
       "      <th></th>\n",
       "      <th></th>\n",
       "      <th>name</th>\n",
       "      <th>price</th>\n",
       "      <th>transaction</th>\n",
       "      <th>net</th>\n",
       "      <th>weight</th>\n",
       "      <th>weight*</th>\n",
       "    </tr>\n",
       "    <tr>\n",
       "      <th>date</th>\n",
       "      <th>asset</th>\n",
       "      <th></th>\n",
       "      <th></th>\n",
       "      <th></th>\n",
       "      <th></th>\n",
       "      <th></th>\n",
       "      <th></th>\n",
       "    </tr>\n",
       "  </thead>\n",
       "  <tbody>\n",
       "    <tr>\n",
       "      <th rowspan=\"5\" valign=\"top\">2024-07-18</th>\n",
       "      <th>003230</th>\n",
       "      <td>삼양식품</td>\n",
       "      <td>637000</td>\n",
       "      <td>5</td>\n",
       "      <td>5</td>\n",
       "      <td>0.227</td>\n",
       "      <td>0.222</td>\n",
       "    </tr>\n",
       "    <tr>\n",
       "      <th>267260</th>\n",
       "      <td>HD현대일렉트릭</td>\n",
       "      <td>314000</td>\n",
       "      <td>9</td>\n",
       "      <td>9</td>\n",
       "      <td>0.198</td>\n",
       "      <td>0.193</td>\n",
       "    </tr>\n",
       "    <tr>\n",
       "      <th>042700</th>\n",
       "      <td>한미반도체</td>\n",
       "      <td>149000</td>\n",
       "      <td>20</td>\n",
       "      <td>20</td>\n",
       "      <td>0.205</td>\n",
       "      <td>0.211</td>\n",
       "    </tr>\n",
       "    <tr>\n",
       "      <th>000150</th>\n",
       "      <td>두산</td>\n",
       "      <td>200000</td>\n",
       "      <td>13</td>\n",
       "      <td>13</td>\n",
       "      <td>0.189</td>\n",
       "      <td>0.187</td>\n",
       "    </tr>\n",
       "    <tr>\n",
       "      <th>010120</th>\n",
       "      <td>LS ELECTRIC</td>\n",
       "      <td>222000</td>\n",
       "      <td>12</td>\n",
       "      <td>12</td>\n",
       "      <td>0.181</td>\n",
       "      <td>0.187</td>\n",
       "    </tr>\n",
       "    <tr>\n",
       "      <th rowspan=\"7\" valign=\"top\">2024-08-21</th>\n",
       "      <th>267260</th>\n",
       "      <td>HD현대일렉트릭</td>\n",
       "      <td>318000</td>\n",
       "      <td>-1</td>\n",
       "      <td>8</td>\n",
       "      <td>0.192</td>\n",
       "      <td>0.184</td>\n",
       "    </tr>\n",
       "    <tr>\n",
       "      <th>003230</th>\n",
       "      <td>삼양식품</td>\n",
       "      <td>509000</td>\n",
       "      <td>1</td>\n",
       "      <td>6</td>\n",
       "      <td>0.217</td>\n",
       "      <td>0.223</td>\n",
       "    </tr>\n",
       "    <tr>\n",
       "      <th>012450</th>\n",
       "      <td>한화에어로스페이스</td>\n",
       "      <td>282500</td>\n",
       "      <td>10</td>\n",
       "      <td>10</td>\n",
       "      <td>0.206</td>\n",
       "      <td>0.206</td>\n",
       "    </tr>\n",
       "    <tr>\n",
       "      <th>079550</th>\n",
       "      <td>LIG넥스원</td>\n",
       "      <td>193000</td>\n",
       "      <td>14</td>\n",
       "      <td>14</td>\n",
       "      <td>0.199</td>\n",
       "      <td>0.197</td>\n",
       "    </tr>\n",
       "    <tr>\n",
       "      <th>042700</th>\n",
       "      <td>한미반도체</td>\n",
       "      <td>123100</td>\n",
       "      <td>1</td>\n",
       "      <td>21</td>\n",
       "      <td>0.186</td>\n",
       "      <td>0.189</td>\n",
       "    </tr>\n",
       "    <tr>\n",
       "      <th>000150</th>\n",
       "      <td>두산</td>\n",
       "      <td>147600</td>\n",
       "      <td>-13</td>\n",
       "      <td>0</td>\n",
       "      <td>0.000</td>\n",
       "      <td>0.000</td>\n",
       "    </tr>\n",
       "    <tr>\n",
       "      <th>010120</th>\n",
       "      <td>LS ELECTRIC</td>\n",
       "      <td>174400</td>\n",
       "      <td>-12</td>\n",
       "      <td>0</td>\n",
       "      <td>0.000</td>\n",
       "      <td>0.000</td>\n",
       "    </tr>\n",
       "  </tbody>\n",
       "</table>\n",
       "</div>"
      ],
      "text/plain": [
       "                          name   price  transaction  net  weight  weight*\n",
       "date       asset                                                         \n",
       "2024-07-18 003230         삼양식품  637000            5    5   0.227    0.222\n",
       "           267260     HD현대일렉트릭  314000            9    9   0.198    0.193\n",
       "           042700        한미반도체  149000           20   20   0.205    0.211\n",
       "           000150           두산  200000           13   13   0.189    0.187\n",
       "           010120  LS ELECTRIC  222000           12   12   0.181    0.187\n",
       "2024-08-21 267260     HD현대일렉트릭  318000           -1    8   0.192    0.184\n",
       "           003230         삼양식품  509000            1    6   0.217    0.223\n",
       "           012450    한화에어로스페이스  282500           10   10   0.206    0.206\n",
       "           079550       LIG넥스원  193000           14   14   0.199    0.197\n",
       "           042700        한미반도체  123100            1   21   0.186    0.189\n",
       "           000150           두산  147600          -13    0   0.000    0.000\n",
       "           010120  LS ELECTRIC  174400          -12    0   0.000    0.000"
      ]
     },
     "execution_count": 19,
     "metadata": {},
     "output_type": "execute_result"
    }
   ],
   "source": [
    "pf_k200.record"
   ]
  },
  {
   "cell_type": "code",
   "execution_count": 20,
   "id": "4dce86f9-1672-4922-b6a5-c10f37d63337",
   "metadata": {},
   "outputs": [
    {
     "name": "stdout",
     "output_type": "stream",
     "text": [
      "Value 11,426,800, Profit -19.8% on 2024-08-23\n"
     ]
    },
    {
     "data": {
      "image/png": "[encoded data removed]",
      "text/plain": [
       "<Figure size 1000x400 with 2 Axes>"
      ]
     },
     "metadata": {},
     "output_type": "display_data"
    }
   ],
   "source": [
    "pf_k200.calc_value()"
   ]
  },
  {
   "cell_type": "code",
   "execution_count": null,
   "id": "2493edb2-b79c-4eea-b898-bb3b181cfd1d",
   "metadata": {},
   "outputs": [],
   "source": [
    "kwargs = dict(\n",
    "    #date = '2024-06-15',\n",
    "    date = None,\n",
    "    n_assets = 5,\n",
    "    capital = 0,\n",
    "    #capital = 15000000,\n",
    "    save = False\n",
    "    #save = True\n",
    ")\n",
    "pf_k200.transaction_pipeline(**kwargs)"
   ]
  },
  {
   "cell_type": "code",
   "execution_count": 23,
   "id": "2de584d4-b370-4c8f-b071-4edfb93387ee",
   "metadata": {},
   "outputs": [
    {
     "data": {
      "image/png": "[encoded data removed]",
      "text/plain": [
       "<Figure size 1000x400 with 2 Axes>"
      ]
     },
     "metadata": {},
     "output_type": "display_data"
    }
   ],
   "source": [
    "pf_k200.plot()"
   ]
  },
  {
   "cell_type": "code",
   "execution_count": 22,
   "id": "18459292-7c64-4513-8364-99db89ad036f",
   "metadata": {},
   "outputs": [
    {
     "data": {
      "text/html": [
       "<div>\n",
       "<style scoped>\n",
       "    .dataframe tbody tr th:only-of-type {\n",
       "        vertical-align: middle;\n",
       "    }\n",
       "\n",
       "    .dataframe tbody tr th {\n",
       "        vertical-align: top;\n",
       "    }\n",
       "\n",
       "    .dataframe thead th {\n",
       "        text-align: right;\n",
       "    }\n",
       "</style>\n",
       "<table border=\"1\" class=\"dataframe\">\n",
       "  <thead>\n",
       "    <tr style=\"text-align: right;\">\n",
       "      <th></th>\n",
       "      <th>KOSPI Momentum</th>\n",
       "    </tr>\n",
       "  </thead>\n",
       "  <tbody>\n",
       "    <tr>\n",
       "      <th>start</th>\n",
       "      <td>2024-07-18</td>\n",
       "    </tr>\n",
       "    <tr>\n",
       "      <th>end</th>\n",
       "      <td>2024-08-23</td>\n",
       "    </tr>\n",
       "    <tr>\n",
       "      <th>total_return</th>\n",
       "      <td>-0.189344</td>\n",
       "    </tr>\n",
       "    <tr>\n",
       "      <th>cagr</th>\n",
       "      <td>-0.88113</td>\n",
       "    </tr>\n",
       "    <tr>\n",
       "      <th>calmar</th>\n",
       "      <td>-2.933415</td>\n",
       "    </tr>\n",
       "    <tr>\n",
       "      <th>max_drawdown</th>\n",
       "      <td>-0.300377</td>\n",
       "    </tr>\n",
       "    <tr>\n",
       "      <th>avg_drawdown</th>\n",
       "      <td>-0.165387</td>\n",
       "    </tr>\n",
       "    <tr>\n",
       "      <th>avg_drawdown_days</th>\n",
       "      <td>15.0</td>\n",
       "    </tr>\n",
       "    <tr>\n",
       "      <th>daily_vol</th>\n",
       "      <td>0.71251</td>\n",
       "    </tr>\n",
       "    <tr>\n",
       "      <th>daily_sharpe</th>\n",
       "      <td>-2.607827</td>\n",
       "    </tr>\n",
       "    <tr>\n",
       "      <th>daily_sortino</th>\n",
       "      <td>-3.713627</td>\n",
       "    </tr>\n",
       "    <tr>\n",
       "      <th>monthly_vol</th>\n",
       "      <td>NaN</td>\n",
       "    </tr>\n",
       "    <tr>\n",
       "      <th>monthly_sharpe</th>\n",
       "      <td>NaN</td>\n",
       "    </tr>\n",
       "    <tr>\n",
       "      <th>monthly_sortino</th>\n",
       "      <td>NaN</td>\n",
       "    </tr>\n",
       "  </tbody>\n",
       "</table>\n",
       "</div>"
      ],
      "text/plain": [
       "                  KOSPI Momentum\n",
       "start                 2024-07-18\n",
       "end                   2024-08-23\n",
       "total_return           -0.189344\n",
       "cagr                    -0.88113\n",
       "calmar                 -2.933415\n",
       "max_drawdown           -0.300377\n",
       "avg_drawdown           -0.165387\n",
       "avg_drawdown_days           15.0\n",
       "daily_vol                0.71251\n",
       "daily_sharpe           -2.607827\n",
       "daily_sortino          -3.713627\n",
       "monthly_vol                  NaN\n",
       "monthly_sharpe               NaN\n",
       "monthly_sortino              NaN"
      ]
     },
     "execution_count": 22,
     "metadata": {},
     "output_type": "execute_result"
    }
   ],
   "source": [
    "pf_k200.performance(metrics=metrics)"
   ]
  },
  {
   "cell_type": "code",
   "execution_count": 16,
   "id": "23150194-e55e-4279-8954-3a61ce25a19c",
   "metadata": {},
   "outputs": [],
   "source": [
    "#pf_k200.performance(metrics=metrics2)\n",
    "df_pf = pf_k200.get_historical()"
   ]
  },
  {
   "cell_type": "markdown",
   "id": "c7cd959d-e330-4d8c-9f6b-a277b01e94f5",
   "metadata": {},
   "source": [
    "## ETF"
   ]
  },
  {
   "cell_type": "code",
   "execution_count": 23,
   "id": "28b212e9-bd21-47d4-b625-d49d1bef9eba",
   "metadata": {},
   "outputs": [
    {
     "name": "stdout",
     "output_type": "stream",
     "text": [
      "period reset: 2021-12-15 ~ 2024-08-23\n",
      "running self.util_check_days_in_year to check days in a year\n",
      "Transaction record to 2024-07-18 loaded.\n",
      "Transaction dates updated for profit/loss on the dates\n"
     ]
    }
   ],
   "source": [
    "kwargs = dict(\n",
    "    name='ETF6',\n",
    "    file='pf_etf_static.csv',\n",
    "    method_weigh='Equally', lookback=12, lag=5,\n",
    "    path=path_tran,\n",
    "    days_in_year=246,\n",
    "    asset_names=assetnames_etf,\n",
    ")\n",
    "\n",
    "pf_etf = StaticPortfolio(df_etf, **kwargs)"
   ]
  },
  {
   "cell_type": "code",
   "execution_count": 24,
   "id": "2f2046bd-5dbb-43c1-a730-2db9cfff293a",
   "metadata": {},
   "outputs": [
    {
     "name": "stdout",
     "output_type": "stream",
     "text": [
      "Value 9,611,322, Profit -2.1% on 2024-08-23\n"
     ]
    },
    {
     "data": {
      "image/png": "[encoded data removed]",
      "text/plain": [
       "<Figure size 1000x400 with 2 Axes>"
      ]
     },
     "metadata": {},
     "output_type": "display_data"
    }
   ],
   "source": [
    "pf_etf.calc_value()"
   ]
  },
  {
   "cell_type": "code",
   "execution_count": 25,
   "id": "74abca3f-6864-4a0d-a760-ac41728e35b6",
   "metadata": {},
   "outputs": [
    {
     "data": {
      "text/html": [
       "<div>\n",
       "<style scoped>\n",
       "    .dataframe tbody tr th:only-of-type {\n",
       "        vertical-align: middle;\n",
       "    }\n",
       "\n",
       "    .dataframe tbody tr th {\n",
       "        vertical-align: top;\n",
       "    }\n",
       "\n",
       "    .dataframe thead th {\n",
       "        text-align: right;\n",
       "    }\n",
       "</style>\n",
       "<table border=\"1\" class=\"dataframe\">\n",
       "  <thead>\n",
       "    <tr style=\"text-align: right;\">\n",
       "      <th></th>\n",
       "      <th>ETF6</th>\n",
       "    </tr>\n",
       "  </thead>\n",
       "  <tbody>\n",
       "    <tr>\n",
       "      <th>start</th>\n",
       "      <td>2024-07-17</td>\n",
       "    </tr>\n",
       "    <tr>\n",
       "      <th>end</th>\n",
       "      <td>2024-08-23</td>\n",
       "    </tr>\n",
       "    <tr>\n",
       "      <th>total_return</th>\n",
       "      <td>-0.021244</td>\n",
       "    </tr>\n",
       "    <tr>\n",
       "      <th>cagr</th>\n",
       "      <td>-0.191016</td>\n",
       "    </tr>\n",
       "    <tr>\n",
       "      <th>calmar</th>\n",
       "      <td>-4.349915</td>\n",
       "    </tr>\n",
       "    <tr>\n",
       "      <th>max_drawdown</th>\n",
       "      <td>-0.043912</td>\n",
       "    </tr>\n",
       "    <tr>\n",
       "      <th>avg_drawdown</th>\n",
       "      <td>-0.043912</td>\n",
       "    </tr>\n",
       "    <tr>\n",
       "      <th>avg_drawdown_days</th>\n",
       "      <td>36.0</td>\n",
       "    </tr>\n",
       "    <tr>\n",
       "      <th>daily_vol</th>\n",
       "      <td>0.104601</td>\n",
       "    </tr>\n",
       "    <tr>\n",
       "      <th>daily_sharpe</th>\n",
       "      <td>-1.938168</td>\n",
       "    </tr>\n",
       "    <tr>\n",
       "      <th>daily_sortino</th>\n",
       "      <td>-2.434357</td>\n",
       "    </tr>\n",
       "    <tr>\n",
       "      <th>monthly_vol</th>\n",
       "      <td>NaN</td>\n",
       "    </tr>\n",
       "    <tr>\n",
       "      <th>monthly_sharpe</th>\n",
       "      <td>NaN</td>\n",
       "    </tr>\n",
       "    <tr>\n",
       "      <th>monthly_sortino</th>\n",
       "      <td>NaN</td>\n",
       "    </tr>\n",
       "  </tbody>\n",
       "</table>\n",
       "</div>"
      ],
      "text/plain": [
       "                         ETF6\n",
       "start              2024-07-17\n",
       "end                2024-08-23\n",
       "total_return        -0.021244\n",
       "cagr                -0.191016\n",
       "calmar              -4.349915\n",
       "max_drawdown        -0.043912\n",
       "avg_drawdown        -0.043912\n",
       "avg_drawdown_days        36.0\n",
       "daily_vol            0.104601\n",
       "daily_sharpe        -1.938168\n",
       "daily_sortino       -2.434357\n",
       "monthly_vol               NaN\n",
       "monthly_sharpe            NaN\n",
       "monthly_sortino           NaN"
      ]
     },
     "execution_count": 25,
     "metadata": {},
     "output_type": "execute_result"
    }
   ],
   "source": [
    "pf_etf.performance(metrics=metrics)"
   ]
  },
  {
   "cell_type": "code",
   "execution_count": 26,
   "id": "1a593c5d-812f-4f2e-81b4-6ecc7f97e65f",
   "metadata": {},
   "outputs": [
    {
     "name": "stdout",
     "output_type": "stream",
     "text": [
      "6 assets from 2023-08-18 to 2024-08-16 prepared for weight analysis\n",
      "Weights of assets determined by Equal weights.\n",
      "Mean absolute error of weights: 1 %\n",
      "Value 9,635,760, Profit -1.9%\n",
      "Set save=True to save transaction record\n"
     ]
    },
    {
     "data": {
      "text/html": [
       "<div>\n",
       "<style scoped>\n",
       "    .dataframe tbody tr th:only-of-type {\n",
       "        vertical-align: middle;\n",
       "    }\n",
       "\n",
       "    .dataframe tbody tr th {\n",
       "        vertical-align: top;\n",
       "    }\n",
       "\n",
       "    .dataframe thead th {\n",
       "        text-align: right;\n",
       "    }\n",
       "</style>\n",
       "<table border=\"1\" class=\"dataframe\">\n",
       "  <thead>\n",
       "    <tr style=\"text-align: right;\">\n",
       "      <th></th>\n",
       "      <th></th>\n",
       "      <th>name</th>\n",
       "      <th>price</th>\n",
       "      <th>transaction</th>\n",
       "      <th>net</th>\n",
       "      <th>weight</th>\n",
       "      <th>weight*</th>\n",
       "    </tr>\n",
       "    <tr>\n",
       "      <th>date</th>\n",
       "      <th>asset</th>\n",
       "      <th></th>\n",
       "      <th></th>\n",
       "      <th></th>\n",
       "      <th></th>\n",
       "      <th></th>\n",
       "      <th></th>\n",
       "    </tr>\n",
       "  </thead>\n",
       "  <tbody>\n",
       "    <tr>\n",
       "      <th rowspan=\"6\" valign=\"top\">2024-07-17</th>\n",
       "      <th>069500</th>\n",
       "      <td>KODEX 200</td>\n",
       "      <td>39085</td>\n",
       "      <td>42</td>\n",
       "      <td>42</td>\n",
       "      <td>0.167</td>\n",
       "      <td>0.167</td>\n",
       "    </tr>\n",
       "    <tr>\n",
       "      <th>273130</th>\n",
       "      <td>KODEX 종합채권(AA-이상)액티브</td>\n",
       "      <td>112895</td>\n",
       "      <td>14</td>\n",
       "      <td>14</td>\n",
       "      <td>0.167</td>\n",
       "      <td>0.161</td>\n",
       "    </tr>\n",
       "    <tr>\n",
       "      <th>148070</th>\n",
       "      <td>KOSEF 국고채10년</td>\n",
       "      <td>114910</td>\n",
       "      <td>14</td>\n",
       "      <td>14</td>\n",
       "      <td>0.167</td>\n",
       "      <td>0.164</td>\n",
       "    </tr>\n",
       "    <tr>\n",
       "      <th>379800</th>\n",
       "      <td>KODEX 미국S&amp;P500TR</td>\n",
       "      <td>17625</td>\n",
       "      <td>94</td>\n",
       "      <td>94</td>\n",
       "      <td>0.167</td>\n",
       "      <td>0.169</td>\n",
       "    </tr>\n",
       "    <tr>\n",
       "      <th>411060</th>\n",
       "      <td>ACE KRX금현물</td>\n",
       "      <td>15715</td>\n",
       "      <td>106</td>\n",
       "      <td>106</td>\n",
       "      <td>0.167</td>\n",
       "      <td>0.17</td>\n",
       "    </tr>\n",
       "    <tr>\n",
       "      <th>284430</th>\n",
       "      <td>KODEX 200미국채혼합</td>\n",
       "      <td>13440</td>\n",
       "      <td>124</td>\n",
       "      <td>124</td>\n",
       "      <td>0.167</td>\n",
       "      <td>0.17</td>\n",
       "    </tr>\n",
       "    <tr>\n",
       "      <th rowspan=\"6\" valign=\"top\">2024-08-23</th>\n",
       "      <th>069500</th>\n",
       "      <td>KODEX 200</td>\n",
       "      <td>36910</td>\n",
       "      <td>2</td>\n",
       "      <td>44</td>\n",
       "      <td>0.167</td>\n",
       "      <td>0.167</td>\n",
       "    </tr>\n",
       "    <tr>\n",
       "      <th>273130</th>\n",
       "      <td>KODEX 종합채권(AA-이상)액티브</td>\n",
       "      <td>113765</td>\n",
       "      <td>0</td>\n",
       "      <td>14</td>\n",
       "      <td>0.167</td>\n",
       "      <td>0.164</td>\n",
       "    </tr>\n",
       "    <tr>\n",
       "      <th>148070</th>\n",
       "      <td>KOSEF 국고채10년</td>\n",
       "      <td>116355</td>\n",
       "      <td>0</td>\n",
       "      <td>14</td>\n",
       "      <td>0.167</td>\n",
       "      <td>0.167</td>\n",
       "    </tr>\n",
       "    <tr>\n",
       "      <th>379800</th>\n",
       "      <td>KODEX 미국S&amp;P500TR</td>\n",
       "      <td>17040</td>\n",
       "      <td>2</td>\n",
       "      <td>96</td>\n",
       "      <td>0.167</td>\n",
       "      <td>0.168</td>\n",
       "    </tr>\n",
       "    <tr>\n",
       "      <th>411060</th>\n",
       "      <td>ACE KRX금현물</td>\n",
       "      <td>15450</td>\n",
       "      <td>-1</td>\n",
       "      <td>105</td>\n",
       "      <td>0.167</td>\n",
       "      <td>0.167</td>\n",
       "    </tr>\n",
       "    <tr>\n",
       "      <th>284430</th>\n",
       "      <td>KODEX 200미국채혼합</td>\n",
       "      <td>13100</td>\n",
       "      <td>0</td>\n",
       "      <td>124</td>\n",
       "      <td>0.167</td>\n",
       "      <td>0.167</td>\n",
       "    </tr>\n",
       "  </tbody>\n",
       "</table>\n",
       "</div>"
      ],
      "text/plain": [
       "                                   name   price  transaction  net weight  \\\n",
       "date       asset                                                           \n",
       "2024-07-17 069500             KODEX 200   39085           42   42  0.167   \n",
       "           273130  KODEX 종합채권(AA-이상)액티브  112895           14   14  0.167   \n",
       "           148070          KOSEF 국고채10년  114910           14   14  0.167   \n",
       "           379800      KODEX 미국S&P500TR   17625           94   94  0.167   \n",
       "           411060            ACE KRX금현물   15715          106  106  0.167   \n",
       "           284430        KODEX 200미국채혼합   13440          124  124  0.167   \n",
       "2024-08-23 069500             KODEX 200   36910            2   44  0.167   \n",
       "           273130  KODEX 종합채권(AA-이상)액티브  113765            0   14  0.167   \n",
       "           148070          KOSEF 국고채10년  116355            0   14  0.167   \n",
       "           379800      KODEX 미국S&P500TR   17040            2   96  0.167   \n",
       "           411060            ACE KRX금현물   15450           -1  105  0.167   \n",
       "           284430        KODEX 200미국채혼합   13100            0  124  0.167   \n",
       "\n",
       "                  weight*  \n",
       "date       asset           \n",
       "2024-07-17 069500   0.167  \n",
       "           273130   0.161  \n",
       "           148070   0.164  \n",
       "           379800   0.169  \n",
       "           411060    0.17  \n",
       "           284430    0.17  \n",
       "2024-08-23 069500   0.167  \n",
       "           273130   0.164  \n",
       "           148070   0.167  \n",
       "           379800   0.168  \n",
       "           411060   0.167  \n",
       "           284430   0.167  "
      ]
     },
     "execution_count": 26,
     "metadata": {},
     "output_type": "execute_result"
    }
   ],
   "source": [
    "kwargs = dict(\n",
    "    date = None,\n",
    "    #date = '2024-07-18',\n",
    "    capital = 0,\n",
    "    save = False\n",
    "    #save = True\n",
    ")\n",
    "pf_etf.transaction_pipeline(**kwargs)"
   ]
  },
  {
   "cell_type": "code",
   "execution_count": 21,
   "id": "75ecc717-a7e5-4ef6-acdf-1f7980833064",
   "metadata": {},
   "outputs": [],
   "source": [
    "df_pf = df_pf.to_frame().join(pf_etf.get_historical(), how='outer')"
   ]
  },
  {
   "cell_type": "markdown",
   "id": "5cb5a3a2-0bbe-4f0c-adcf-49a72186ee99",
   "metadata": {},
   "source": [
    "## IRP"
   ]
  },
  {
   "cell_type": "code",
   "execution_count": 28,
   "id": "bc90a2f2-946a-4427-8ea2-4b1bb805f321",
   "metadata": {},
   "outputs": [],
   "source": [
    "choice = ['K55301BU6139', 'K55206C95800']"
   ]
  },
  {
   "cell_type": "code",
   "execution_count": 29,
   "id": "f68c42e4-7d44-4394-a3b9-d32e3e7f6fe1",
   "metadata": {},
   "outputs": [
    {
     "name": "stdout",
     "output_type": "stream",
     "text": [
      "period reset: 2018-07-26 ~ 2024-07-22\n",
      "running self.util_check_days_in_year to check days in a year\n",
      "Transaction record to 2024-06-19 loaded.\n",
      "Transaction dates updated for profit/loss on the dates\n"
     ]
    },
    {
     "data": {
      "text/html": [
       "<div>\n",
       "<style scoped>\n",
       "    .dataframe tbody tr th:only-of-type {\n",
       "        vertical-align: middle;\n",
       "    }\n",
       "\n",
       "    .dataframe tbody tr th {\n",
       "        vertical-align: top;\n",
       "    }\n",
       "\n",
       "    .dataframe thead th {\n",
       "        text-align: right;\n",
       "    }\n",
       "</style>\n",
       "<table border=\"1\" class=\"dataframe\">\n",
       "  <thead>\n",
       "    <tr style=\"text-align: right;\">\n",
       "      <th></th>\n",
       "      <th></th>\n",
       "      <th>name</th>\n",
       "      <th>price</th>\n",
       "      <th>transaction</th>\n",
       "      <th>net</th>\n",
       "      <th>weight</th>\n",
       "      <th>weight*</th>\n",
       "    </tr>\n",
       "    <tr>\n",
       "      <th>date</th>\n",
       "      <th>asset</th>\n",
       "      <th></th>\n",
       "      <th></th>\n",
       "      <th></th>\n",
       "      <th></th>\n",
       "      <th></th>\n",
       "      <th></th>\n",
       "    </tr>\n",
       "  </thead>\n",
       "  <tbody>\n",
       "    <tr>\n",
       "      <th rowspan=\"2\" valign=\"top\">2024-06-18</th>\n",
       "      <th>K55301BU6139</th>\n",
       "      <td>미래에셋전략배분TDF2035혼합자산자투자신탁종류C-P2e</td>\n",
       "      <td>1595</td>\n",
       "      <td>3132</td>\n",
       "      <td>3132</td>\n",
       "      <td>0.5</td>\n",
       "      <td>0.5</td>\n",
       "    </tr>\n",
       "    <tr>\n",
       "      <th>K55206C95800</th>\n",
       "      <td>키움키워드림TDF2030증권투자신탁 1[혼합-재간접형]C-P2e(퇴직연금)</td>\n",
       "      <td>1367</td>\n",
       "      <td>3657</td>\n",
       "      <td>3657</td>\n",
       "      <td>0.5</td>\n",
       "      <td>0.5</td>\n",
       "    </tr>\n",
       "  </tbody>\n",
       "</table>\n",
       "</div>"
      ],
      "text/plain": [
       "                                                              name  price  \\\n",
       "date       asset                                                            \n",
       "2024-06-18 K55301BU6139            미래에셋전략배분TDF2035혼합자산자투자신탁종류C-P2e   1595   \n",
       "           K55206C95800  키움키워드림TDF2030증권투자신탁 1[혼합-재간접형]C-P2e(퇴직연금)   1367   \n",
       "\n",
       "                         transaction   net  weight  weight*  \n",
       "date       asset                                             \n",
       "2024-06-18 K55301BU6139         3132  3132     0.5      0.5  \n",
       "           K55206C95800         3657  3657     0.5      0.5  "
      ]
     },
     "execution_count": 29,
     "metadata": {},
     "output_type": "execute_result"
    }
   ],
   "source": [
    "kwargs = dict(\n",
    "    name='TDF2',\n",
    "    file='pf_tdf_static.csv',\n",
    "    lookback=12, lag=5,\n",
    "    path=path_tran,\n",
    "    days_in_year=365,\n",
    "    asset_names=assetnames_irp,\n",
    ")\n",
    "\n",
    "pf_irp = StaticPortfolio(df_irp[choice], **kwargs)\n",
    "pf_irp.record"
   ]
  },
  {
   "cell_type": "code",
   "execution_count": 30,
   "id": "6f173f64-8137-4a01-a831-259619987813",
   "metadata": {},
   "outputs": [
    {
     "name": "stdout",
     "output_type": "stream",
     "text": [
      "Value 10,084,466, Profit 0.9%\n"
     ]
    },
    {
     "data": {
      "image/png": "[encoded data removed]",
      "text/plain": [
       "<Figure size 1000x400 with 2 Axes>"
      ]
     },
     "metadata": {},
     "output_type": "display_data"
    }
   ],
   "source": [
    "pf_irp.calc_value()"
   ]
  },
  {
   "cell_type": "code",
   "execution_count": 31,
   "id": "b0d8203a-f1f9-4979-a126-0142aa20efd8",
   "metadata": {},
   "outputs": [
    {
     "name": "stdout",
     "output_type": "stream",
     "text": [
      "2 assets from 2023-07-17 to 2024-07-17 prepared for weight analysis\n",
      "Weights of assets determined by Equal weights.\n",
      "Mean absolute error of weights: 0 %\n",
      "Value 10,048,482, Profit 0.5%\n",
      "Set save=True to save transaction record\n"
     ]
    },
    {
     "data": {
      "text/html": [
       "<div>\n",
       "<style scoped>\n",
       "    .dataframe tbody tr th:only-of-type {\n",
       "        vertical-align: middle;\n",
       "    }\n",
       "\n",
       "    .dataframe tbody tr th {\n",
       "        vertical-align: top;\n",
       "    }\n",
       "\n",
       "    .dataframe thead th {\n",
       "        text-align: right;\n",
       "    }\n",
       "</style>\n",
       "<table border=\"1\" class=\"dataframe\">\n",
       "  <thead>\n",
       "    <tr style=\"text-align: right;\">\n",
       "      <th></th>\n",
       "      <th></th>\n",
       "      <th>name</th>\n",
       "      <th>price</th>\n",
       "      <th>transaction</th>\n",
       "      <th>net</th>\n",
       "      <th>weight</th>\n",
       "      <th>weight*</th>\n",
       "    </tr>\n",
       "    <tr>\n",
       "      <th>date</th>\n",
       "      <th>asset</th>\n",
       "      <th></th>\n",
       "      <th></th>\n",
       "      <th></th>\n",
       "      <th></th>\n",
       "      <th></th>\n",
       "      <th></th>\n",
       "    </tr>\n",
       "  </thead>\n",
       "  <tbody>\n",
       "    <tr>\n",
       "      <th rowspan=\"2\" valign=\"top\">2024-06-18</th>\n",
       "      <th>K55301BU6139</th>\n",
       "      <td>미래에셋전략배분TDF2035혼합자산자투자신탁종류C-P2e</td>\n",
       "      <td>1595</td>\n",
       "      <td>3132</td>\n",
       "      <td>3132</td>\n",
       "      <td>0.5</td>\n",
       "      <td>0.5</td>\n",
       "    </tr>\n",
       "    <tr>\n",
       "      <th>K55206C95800</th>\n",
       "      <td>키움키워드림TDF2030증권투자신탁 1[혼합-재간접형]C-P2e(퇴직연금)</td>\n",
       "      <td>1367</td>\n",
       "      <td>3657</td>\n",
       "      <td>3657</td>\n",
       "      <td>0.5</td>\n",
       "      <td>0.5</td>\n",
       "    </tr>\n",
       "    <tr>\n",
       "      <th rowspan=\"2\" valign=\"top\">2024-07-22</th>\n",
       "      <th>K55301BU6139</th>\n",
       "      <td>미래에셋전략배분TDF2035혼합자산자투자신탁종류C-P2e</td>\n",
       "      <td>1590</td>\n",
       "      <td>9</td>\n",
       "      <td>3141</td>\n",
       "      <td>0.500</td>\n",
       "      <td>0.500</td>\n",
       "    </tr>\n",
       "    <tr>\n",
       "      <th>K55206C95800</th>\n",
       "      <td>키움키워드림TDF2030증권투자신탁 1[혼합-재간접형]C-P2e(퇴직연금)</td>\n",
       "      <td>1386</td>\n",
       "      <td>-52</td>\n",
       "      <td>3605</td>\n",
       "      <td>0.500</td>\n",
       "      <td>0.500</td>\n",
       "    </tr>\n",
       "  </tbody>\n",
       "</table>\n",
       "</div>"
      ],
      "text/plain": [
       "                                                              name  price  \\\n",
       "date       asset                                                            \n",
       "2024-06-18 K55301BU6139            미래에셋전략배분TDF2035혼합자산자투자신탁종류C-P2e   1595   \n",
       "           K55206C95800  키움키워드림TDF2030증권투자신탁 1[혼합-재간접형]C-P2e(퇴직연금)   1367   \n",
       "2024-07-22 K55301BU6139            미래에셋전략배분TDF2035혼합자산자투자신탁종류C-P2e   1590   \n",
       "           K55206C95800  키움키워드림TDF2030증권투자신탁 1[혼합-재간접형]C-P2e(퇴직연금)   1386   \n",
       "\n",
       "                         transaction   net weight weight*  \n",
       "date       asset                                           \n",
       "2024-06-18 K55301BU6139         3132  3132    0.5     0.5  \n",
       "           K55206C95800         3657  3657    0.5     0.5  \n",
       "2024-07-22 K55301BU6139            9  3141  0.500   0.500  \n",
       "           K55206C95800          -52  3605  0.500   0.500  "
      ]
     },
     "execution_count": 31,
     "metadata": {},
     "output_type": "execute_result"
    }
   ],
   "source": [
    "kwargs = dict(\n",
    "    method_weigh = 'Equally', \n",
    "    #date = '2024-06-19',\n",
    "    capital=0,\n",
    "    save = False\n",
    ")\n",
    "pf_irp.transaction_pipeline(**kwargs)"
   ]
  },
  {
   "cell_type": "code",
   "execution_count": 32,
   "id": "b86d91f9-881d-4655-ab82-2f7b7bf7c4da",
   "metadata": {},
   "outputs": [
    {
     "data": {
      "image/png": "[encoded data removed]",
      "text/plain": [
       "<Figure size 1000x400 with 2 Axes>"
      ]
     },
     "metadata": {},
     "output_type": "display_data"
    }
   ],
   "source": [
    "pf_irp.plot()"
   ]
  },
  {
   "cell_type": "code",
   "execution_count": 33,
   "id": "6b0e5105-b09c-4e98-85b1-402d5cd21f61",
   "metadata": {},
   "outputs": [
    {
     "data": {
      "text/html": [
       "<div>\n",
       "<style scoped>\n",
       "    .dataframe tbody tr th:only-of-type {\n",
       "        vertical-align: middle;\n",
       "    }\n",
       "\n",
       "    .dataframe tbody tr th {\n",
       "        vertical-align: top;\n",
       "    }\n",
       "\n",
       "    .dataframe thead th {\n",
       "        text-align: right;\n",
       "    }\n",
       "</style>\n",
       "<table border=\"1\" class=\"dataframe\">\n",
       "  <thead>\n",
       "    <tr style=\"text-align: right;\">\n",
       "      <th></th>\n",
       "      <th>TDF2</th>\n",
       "    </tr>\n",
       "  </thead>\n",
       "  <tbody>\n",
       "    <tr>\n",
       "      <th>start</th>\n",
       "      <td>2024-06-18</td>\n",
       "    </tr>\n",
       "    <tr>\n",
       "      <th>end</th>\n",
       "      <td>2024-07-22</td>\n",
       "    </tr>\n",
       "    <tr>\n",
       "      <th>total_return</th>\n",
       "      <td>0.005385</td>\n",
       "    </tr>\n",
       "    <tr>\n",
       "      <th>cagr</th>\n",
       "      <td>0.059393</td>\n",
       "    </tr>\n",
       "    <tr>\n",
       "      <th>calmar</th>\n",
       "      <td>3.090541</td>\n",
       "    </tr>\n",
       "    <tr>\n",
       "      <th>max_drawdown</th>\n",
       "      <td>-0.019218</td>\n",
       "    </tr>\n",
       "    <tr>\n",
       "      <th>avg_drawdown</th>\n",
       "      <td>-0.011809</td>\n",
       "    </tr>\n",
       "    <tr>\n",
       "      <th>avg_drawdown_days</th>\n",
       "      <td>8.5</td>\n",
       "    </tr>\n",
       "    <tr>\n",
       "      <th>daily_vol</th>\n",
       "      <td>0.042799</td>\n",
       "    </tr>\n",
       "    <tr>\n",
       "      <th>daily_sharpe</th>\n",
       "      <td>0.950972</td>\n",
       "    </tr>\n",
       "    <tr>\n",
       "      <th>daily_sortino</th>\n",
       "      <td>1.284183</td>\n",
       "    </tr>\n",
       "    <tr>\n",
       "      <th>monthly_vol</th>\n",
       "      <td>NaN</td>\n",
       "    </tr>\n",
       "    <tr>\n",
       "      <th>monthly_sharpe</th>\n",
       "      <td>NaN</td>\n",
       "    </tr>\n",
       "    <tr>\n",
       "      <th>monthly_sortino</th>\n",
       "      <td>NaN</td>\n",
       "    </tr>\n",
       "  </tbody>\n",
       "</table>\n",
       "</div>"
      ],
      "text/plain": [
       "                         TDF2\n",
       "start              2024-06-18\n",
       "end                2024-07-22\n",
       "total_return         0.005385\n",
       "cagr                 0.059393\n",
       "calmar               3.090541\n",
       "max_drawdown        -0.019218\n",
       "avg_drawdown        -0.011809\n",
       "avg_drawdown_days         8.5\n",
       "daily_vol            0.042799\n",
       "daily_sharpe         0.950972\n",
       "daily_sortino        1.284183\n",
       "monthly_vol               NaN\n",
       "monthly_sharpe            NaN\n",
       "monthly_sortino           NaN"
      ]
     },
     "execution_count": 33,
     "metadata": {},
     "output_type": "execute_result"
    }
   ],
   "source": [
    "pf_irp.performance(metrics=metrics)"
   ]
  },
  {
   "cell_type": "code",
   "execution_count": 34,
   "id": "3c4f4017-c044-45f2-b08b-4b4149b59576",
   "metadata": {},
   "outputs": [
    {
     "data": {
      "text/html": [
       "<div>\n",
       "<style scoped>\n",
       "    .dataframe tbody tr th:only-of-type {\n",
       "        vertical-align: middle;\n",
       "    }\n",
       "\n",
       "    .dataframe tbody tr th {\n",
       "        vertical-align: top;\n",
       "    }\n",
       "\n",
       "    .dataframe thead th {\n",
       "        text-align: right;\n",
       "    }\n",
       "</style>\n",
       "<table border=\"1\" class=\"dataframe\">\n",
       "  <thead>\n",
       "    <tr style=\"text-align: right;\">\n",
       "      <th></th>\n",
       "      <th>KOSPI Momentum</th>\n",
       "      <th>ETF6</th>\n",
       "      <th>TDF2</th>\n",
       "    </tr>\n",
       "  </thead>\n",
       "  <tbody>\n",
       "    <tr>\n",
       "      <th>2024-07-18</th>\n",
       "      <td>NaN</td>\n",
       "      <td>9788950.0</td>\n",
       "      <td>1.020846e+07</td>\n",
       "    </tr>\n",
       "    <tr>\n",
       "      <th>2024-07-19</th>\n",
       "      <td>14255000.0</td>\n",
       "      <td>9729050.0</td>\n",
       "      <td>1.014225e+07</td>\n",
       "    </tr>\n",
       "    <tr>\n",
       "      <th>2024-07-20</th>\n",
       "      <td>NaN</td>\n",
       "      <td>NaN</td>\n",
       "      <td>1.014225e+07</td>\n",
       "    </tr>\n",
       "    <tr>\n",
       "      <th>2024-07-21</th>\n",
       "      <td>NaN</td>\n",
       "      <td>NaN</td>\n",
       "      <td>1.014225e+07</td>\n",
       "    </tr>\n",
       "    <tr>\n",
       "      <th>2024-07-22</th>\n",
       "      <td>13880500.0</td>\n",
       "      <td>9717710.0</td>\n",
       "      <td>1.004848e+07</td>\n",
       "    </tr>\n",
       "  </tbody>\n",
       "</table>\n",
       "</div>"
      ],
      "text/plain": [
       "            KOSPI Momentum       ETF6          TDF2\n",
       "2024-07-18             NaN  9788950.0  1.020846e+07\n",
       "2024-07-19      14255000.0  9729050.0  1.014225e+07\n",
       "2024-07-20             NaN        NaN  1.014225e+07\n",
       "2024-07-21             NaN        NaN  1.014225e+07\n",
       "2024-07-22      13880500.0  9717710.0  1.004848e+07"
      ]
     },
     "execution_count": 34,
     "metadata": {},
     "output_type": "execute_result"
    }
   ],
   "source": [
    "df_pf = df_pf.join(pf_irp.get_historical(), how='outer')\n",
    "df_pf.tail()"
   ]
  },
  {
   "cell_type": "markdown",
   "id": "f86d2f0d-9368-4db8-a1af-6f767f32d2ca",
   "metadata": {},
   "source": [
    "## HANA"
   ]
  },
  {
   "cell_type": "code",
   "execution_count": 16,
   "id": "5e621eb1-e8d7-4b56-89ac-ab9ef7f56a10",
   "metadata": {},
   "outputs": [
    {
     "name": "stdout",
     "output_type": "stream",
     "text": [
      "period reset: 2019-10-31 ~ 2024-07-31\n",
      "running self.util_check_days_in_year to check days in a year\n",
      "WARNING: no pf_hana_static* exists\n",
      "REMINDER: make sure this is 1st transaction as no records provided\n"
     ]
    }
   ],
   "source": [
    "kwargs = dict(\n",
    "    name='HANA4',\n",
    "    file='pf_hana_static.csv',\n",
    "    method_weigh='InvVol', lookback=12, lag=5,\n",
    "    path=path_tran,\n",
    "    days_in_year=365,\n",
    "    asset_names=assetnames_hana,\n",
    ")\n",
    "\n",
    "pf_hana = StaticPortfolio(df_hana, **kwargs)"
   ]
  },
  {
   "cell_type": "code",
   "execution_count": 17,
   "id": "01ec254d-f913-4bdd-97d2-574bc55b45a0",
   "metadata": {},
   "outputs": [
    {
     "name": "stdout",
     "output_type": "stream",
     "text": [
      "ERROR: No transaction record\n"
     ]
    }
   ],
   "source": [
    "pf_hana.calc_value()"
   ]
  },
  {
   "cell_type": "code",
   "execution_count": 18,
   "id": "13999c3b-6dac-4b53-92dc-d6abb31f2cbb",
   "metadata": {},
   "outputs": [
    {
     "name": "stdout",
     "output_type": "stream",
     "text": [
      "4 assets from 2023-07-26 to 2024-07-26 prepared for weight analysis\n",
      "WARNING: no record loaded\n",
      "Weights of assets determined by Inv.Vol.\n",
      "Mean absolute error of weights: 0 %\n",
      "Value 9,991,314, Profit 0.0%\n",
      "All transactions saved to pf_hana_static_240731.csv\n"
     ]
    },
    {
     "data": {
      "text/html": [
       "<div>\n",
       "<style scoped>\n",
       "    .dataframe tbody tr th:only-of-type {\n",
       "        vertical-align: middle;\n",
       "    }\n",
       "\n",
       "    .dataframe tbody tr th {\n",
       "        vertical-align: top;\n",
       "    }\n",
       "\n",
       "    .dataframe thead th {\n",
       "        text-align: right;\n",
       "    }\n",
       "</style>\n",
       "<table border=\"1\" class=\"dataframe\">\n",
       "  <thead>\n",
       "    <tr style=\"text-align: right;\">\n",
       "      <th></th>\n",
       "      <th></th>\n",
       "      <th>name</th>\n",
       "      <th>price</th>\n",
       "      <th>transaction</th>\n",
       "      <th>net</th>\n",
       "      <th>weight</th>\n",
       "      <th>weight*</th>\n",
       "    </tr>\n",
       "    <tr>\n",
       "      <th>date</th>\n",
       "      <th>asset</th>\n",
       "      <th></th>\n",
       "      <th></th>\n",
       "      <th></th>\n",
       "      <th></th>\n",
       "      <th></th>\n",
       "      <th></th>\n",
       "    </tr>\n",
       "  </thead>\n",
       "  <tbody>\n",
       "    <tr>\n",
       "      <th rowspan=\"4\" valign=\"top\">2024-07-31</th>\n",
       "      <th>KR5101888398</th>\n",
       "      <td>한국투자크레딧포커스ESG증권자투자신탁 1(채권)(C-e)</td>\n",
       "      <td>1068</td>\n",
       "      <td>4699</td>\n",
       "      <td>4699</td>\n",
       "      <td>0.502</td>\n",
       "      <td>0.502</td>\n",
       "    </tr>\n",
       "    <tr>\n",
       "      <th>KR5236AS4826</th>\n",
       "      <td>한국밸류10년투자증권투자신탁 1(채권혼합)종류C-E</td>\n",
       "      <td>1260</td>\n",
       "      <td>1920</td>\n",
       "      <td>1920</td>\n",
       "      <td>0.242</td>\n",
       "      <td>0.242</td>\n",
       "    </tr>\n",
       "    <tr>\n",
       "      <th>KR5370AP9956</th>\n",
       "      <td>AB글로벌고수익증권투자신탁(채권-재간접형)종류형Ce</td>\n",
       "      <td>1285</td>\n",
       "      <td>1448</td>\n",
       "      <td>1448</td>\n",
       "      <td>0.186</td>\n",
       "      <td>0.186</td>\n",
       "    </tr>\n",
       "    <tr>\n",
       "      <th>K55306CV9946</th>\n",
       "      <td>다올글로벌멀티에셋인컴EMP증권자투자신탁[혼합-재간접형](공)종류Ce</td>\n",
       "      <td>1151</td>\n",
       "      <td>602</td>\n",
       "      <td>602</td>\n",
       "      <td>0.069</td>\n",
       "      <td>0.069</td>\n",
       "    </tr>\n",
       "  </tbody>\n",
       "</table>\n",
       "</div>"
      ],
      "text/plain": [
       "                                                          name  price  \\\n",
       "date       asset                                                        \n",
       "2024-07-31 KR5101888398        한국투자크레딧포커스ESG증권자투자신탁 1(채권)(C-e)   1068   \n",
       "           KR5236AS4826           한국밸류10년투자증권투자신탁 1(채권혼합)종류C-E   1260   \n",
       "           KR5370AP9956           AB글로벌고수익증권투자신탁(채권-재간접형)종류형Ce   1285   \n",
       "           K55306CV9946  다올글로벌멀티에셋인컴EMP증권자투자신탁[혼합-재간접형](공)종류Ce   1151   \n",
       "\n",
       "                         transaction   net weight weight*  \n",
       "date       asset                                           \n",
       "2024-07-31 KR5101888398         4699  4699  0.502   0.502  \n",
       "           KR5236AS4826         1920  1920  0.242   0.242  \n",
       "           KR5370AP9956         1448  1448  0.186   0.186  \n",
       "           K55306CV9946          602   602  0.069   0.069  "
      ]
     },
     "execution_count": 18,
     "metadata": {},
     "output_type": "execute_result"
    }
   ],
   "source": [
    "kwargs = dict(\n",
    "    date = None,\n",
    "    #date = '2024-01-01',\n",
    "    capital = 10000000,\n",
    "    #save = False\n",
    "    save = True\n",
    ")\n",
    "pf_hana.transaction_pipeline(**kwargs)"
   ]
  },
  {
   "cell_type": "code",
   "execution_count": 40,
   "id": "dadfb50a-10a5-44a1-8ffd-2f3e090b2730",
   "metadata": {},
   "outputs": [
    {
     "data": {
      "text/plain": [
       "9990000.0"
      ]
     },
     "execution_count": 40,
     "metadata": {},
     "output_type": "execute_result"
    }
   ],
   "source": [
    "#pf_hana.df_rec.set_index('name', append=True).apply(lambda x: x.price * x.transaction, axis=1).round(-4)\n",
    "pf_hana.df_rec.set_index('name', append=True).weight.astype(float).mul(10000000).sum()"
   ]
  },
  {
   "cell_type": "code",
   "execution_count": 19,
   "id": "8041db72-01c9-4a2f-9609-b8c3812c89c4",
   "metadata": {},
   "outputs": [
    {
     "name": "stdout",
     "output_type": "stream",
     "text": [
      "ERROR: need more data to plot\n"
     ]
    }
   ],
   "source": [
    "pf_hana.plot()"
   ]
  },
  {
   "cell_type": "code",
   "execution_count": 39,
   "id": "cd1ebe41-1ead-478a-ad0f-d2fb28e222aa",
   "metadata": {},
   "outputs": [
    {
     "name": "stdout",
     "output_type": "stream",
     "text": [
      "ERROR: Need more data to measure\n"
     ]
    }
   ],
   "source": [
    "pf_hana.performance(metrics=metrics)"
   ]
  },
  {
   "cell_type": "code",
   "execution_count": 41,
   "id": "1c965c7b-23c6-439f-83b6-68eeb7eece4b",
   "metadata": {},
   "outputs": [],
   "source": [
    "df_pf = df_pf.join(pf_hana.get_historical(), how='outer')"
   ]
  },
  {
   "cell_type": "markdown",
   "id": "2c0c0f41-2166-4548-81c6-b5c79425aa0b",
   "metadata": {},
   "source": [
    "## Summary"
   ]
  },
  {
   "cell_type": "code",
   "execution_count": 42,
   "id": "8055a381-ad8e-4770-a1ce-de8f682d0be6",
   "metadata": {},
   "outputs": [
    {
     "name": "stdout",
     "output_type": "stream",
     "text": [
      "WARNING: the number of days in a year with followings is 0 in avg.:\n",
      "KOSPI Momentum: 0\n",
      "ETF6: 0\n",
      "TDF2: 0\n",
      "HANA4: 0\n"
     ]
    },
    {
     "data": {
      "text/html": [
       "<div>\n",
       "<style scoped>\n",
       "    .dataframe tbody tr th:only-of-type {\n",
       "        vertical-align: middle;\n",
       "    }\n",
       "\n",
       "    .dataframe tbody tr th {\n",
       "        vertical-align: top;\n",
       "    }\n",
       "\n",
       "    .dataframe thead th {\n",
       "        text-align: right;\n",
       "    }\n",
       "</style>\n",
       "<table border=\"1\" class=\"dataframe\">\n",
       "  <thead>\n",
       "    <tr style=\"text-align: right;\">\n",
       "      <th></th>\n",
       "      <th>KOSPI Momentum</th>\n",
       "      <th>ETF6</th>\n",
       "      <th>TDF2</th>\n",
       "      <th>HANA4</th>\n",
       "    </tr>\n",
       "  </thead>\n",
       "  <tbody>\n",
       "    <tr>\n",
       "      <th>start</th>\n",
       "      <td>2024-07-19</td>\n",
       "      <td>2024-07-17</td>\n",
       "      <td>2024-06-18</td>\n",
       "      <td>2024-06-28</td>\n",
       "    </tr>\n",
       "    <tr>\n",
       "      <th>end</th>\n",
       "      <td>2024-07-22</td>\n",
       "      <td>2024-07-22</td>\n",
       "      <td>2024-07-22</td>\n",
       "      <td>2024-06-28</td>\n",
       "    </tr>\n",
       "    <tr>\n",
       "      <th>total_return</th>\n",
       "      <td>-0.026271</td>\n",
       "      <td>-0.01041</td>\n",
       "      <td>0.005385</td>\n",
       "      <td>NaN</td>\n",
       "    </tr>\n",
       "    <tr>\n",
       "      <th>cagr</th>\n",
       "      <td>-0.960888</td>\n",
       "      <td>-0.534419</td>\n",
       "      <td>0.059393</td>\n",
       "      <td>NaN</td>\n",
       "    </tr>\n",
       "    <tr>\n",
       "      <th>calmar</th>\n",
       "      <td>-36.575313</td>\n",
       "      <td>-51.334876</td>\n",
       "      <td>3.090541</td>\n",
       "      <td>NaN</td>\n",
       "    </tr>\n",
       "    <tr>\n",
       "      <th>max_drawdown</th>\n",
       "      <td>-0.026271</td>\n",
       "      <td>-0.01041</td>\n",
       "      <td>-0.019218</td>\n",
       "      <td>NaN</td>\n",
       "    </tr>\n",
       "    <tr>\n",
       "      <th>avg_drawdown</th>\n",
       "      <td>-0.026271</td>\n",
       "      <td>-0.01041</td>\n",
       "      <td>-0.011809</td>\n",
       "      <td>NaN</td>\n",
       "    </tr>\n",
       "    <tr>\n",
       "      <th>avg_drawdown_days</th>\n",
       "      <td>0.0</td>\n",
       "      <td>4.0</td>\n",
       "      <td>8.5</td>\n",
       "      <td>NaN</td>\n",
       "    </tr>\n",
       "    <tr>\n",
       "      <th>daily_vol</th>\n",
       "      <td>NaN</td>\n",
       "      <td>0.03957</td>\n",
       "      <td>0.042799</td>\n",
       "      <td>NaN</td>\n",
       "    </tr>\n",
       "    <tr>\n",
       "      <th>daily_sharpe</th>\n",
       "      <td>NaN</td>\n",
       "      <td>-22.163551</td>\n",
       "      <td>0.950972</td>\n",
       "      <td>NaN</td>\n",
       "    </tr>\n",
       "    <tr>\n",
       "      <th>daily_sortino</th>\n",
       "      <td>NaN</td>\n",
       "      <td>-22.163551</td>\n",
       "      <td>1.284183</td>\n",
       "      <td>NaN</td>\n",
       "    </tr>\n",
       "    <tr>\n",
       "      <th>monthly_vol</th>\n",
       "      <td>NaN</td>\n",
       "      <td>NaN</td>\n",
       "      <td>NaN</td>\n",
       "      <td>NaN</td>\n",
       "    </tr>\n",
       "    <tr>\n",
       "      <th>monthly_sharpe</th>\n",
       "      <td>NaN</td>\n",
       "      <td>NaN</td>\n",
       "      <td>NaN</td>\n",
       "      <td>NaN</td>\n",
       "    </tr>\n",
       "    <tr>\n",
       "      <th>monthly_sortino</th>\n",
       "      <td>NaN</td>\n",
       "      <td>NaN</td>\n",
       "      <td>NaN</td>\n",
       "      <td>NaN</td>\n",
       "    </tr>\n",
       "  </tbody>\n",
       "</table>\n",
       "</div>"
      ],
      "text/plain": [
       "                  KOSPI Momentum        ETF6        TDF2       HANA4\n",
       "start                 2024-07-19  2024-07-17  2024-06-18  2024-06-28\n",
       "end                   2024-07-22  2024-07-22  2024-07-22  2024-06-28\n",
       "total_return           -0.026271    -0.01041    0.005385         NaN\n",
       "cagr                   -0.960888   -0.534419    0.059393         NaN\n",
       "calmar                -36.575313  -51.334876    3.090541         NaN\n",
       "max_drawdown           -0.026271    -0.01041   -0.019218         NaN\n",
       "avg_drawdown           -0.026271    -0.01041   -0.011809         NaN\n",
       "avg_drawdown_days            0.0         4.0         8.5         NaN\n",
       "daily_vol                    NaN     0.03957    0.042799         NaN\n",
       "daily_sharpe                 NaN  -22.163551    0.950972         NaN\n",
       "daily_sortino                NaN  -22.163551    1.284183         NaN\n",
       "monthly_vol                  NaN         NaN         NaN         NaN\n",
       "monthly_sharpe               NaN         NaN         NaN         NaN\n",
       "monthly_sortino              NaN         NaN         NaN         NaN"
      ]
     },
     "execution_count": 42,
     "metadata": {},
     "output_type": "execute_result"
    }
   ],
   "source": [
    "ae = AssetEvaluator(df_pf, 242)\n",
    "ae.get_stats(sort_by='monthly_sharpe', align_period=False)"
   ]
  },
  {
   "cell_type": "code",
   "execution_count": 34,
   "id": "801c9a16-90e8-43bc-85fb-03ed2030e06f",
   "metadata": {},
   "outputs": [
    {
     "data": {
      "image/png": "[encoded data removed]",
      "text/plain": [
       "<Figure size 1000x400 with 1 Axes>"
      ]
     },
     "metadata": {},
     "output_type": "display_data"
    }
   ],
   "source": [
    "_ = ae.plot_historical()"
   ]
  }
 ],
 "metadata": {
  "kernelspec": {
   "display_name": "portfolio",
   "language": "python",
   "name": "portfolio"
  },
  "language_info": {
   "codemirror_mode": {
    "name": "ipython",
    "version": 3
   },
   "file_extension": ".py",
   "mimetype": "text/x-python",
   "name": "python",
   "nbconvert_exporter": "python",
   "pygments_lexer": "ipython3",
   "version": "3.12.1"
  }
 },
 "nbformat": 4,
 "nbformat_minor": 5
}
