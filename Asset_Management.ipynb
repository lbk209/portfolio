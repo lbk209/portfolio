{
 "cells": [
  {
   "cell_type": "markdown",
   "id": "1a0d2b60-5842-4969-8229-84f355dc46fc",
   "metadata": {},
   "source": [
    "# Setting"
   ]
  },
  {
   "cell_type": "code",
   "execution_count": 1,
   "id": "7009fd2f-8efd-4ed3-a187-01939304fa9e",
   "metadata": {},
   "outputs": [
    {
     "name": "stderr",
     "output_type": "stream",
     "text": [
      "WARNING (pytensor.tensor.blas): Using NumPy C-API based implementation for BLAS functions.\n"
     ]
    }
   ],
   "source": [
    "from pf_utils import BacktestManager, DataManager, MomentumPortfolio"
   ]
  },
  {
   "cell_type": "code",
   "execution_count": 136,
   "id": "723adb14-cd00-4d96-9c64-5a8628e82f44",
   "metadata": {},
   "outputs": [],
   "source": [
    "metrics2 = [\n",
    "    'cagr', 'monthly_vol', 'monthly_sharpe',\n",
    "    'max_drawdown', 'avg_drawdown','avg_drawdown_days', \n",
    "]\n",
    "\n",
    "path_data = 'data'\n",
    "path_tran = 'transaction'"
   ]
  },
  {
   "cell_type": "markdown",
   "id": "c786112f-9aef-4df7-8248-4ddcfcb2c1f0",
   "metadata": {},
   "source": [
    "# Universe"
   ]
  },
  {
   "cell_type": "markdown",
   "id": "1cb34ee5-b007-48b4-a11b-188e6bafad0f",
   "metadata": {},
   "source": [
    "## KOSPI200"
   ]
  },
  {
   "cell_type": "code",
   "execution_count": 3,
   "id": "8aa50408-fd2b-45f5-81ed-6c1a2479eb77",
   "metadata": {},
   "outputs": [
    {
     "name": "stdout",
     "output_type": "stream",
     "text": [
      "200 assets from 2021-01-04 to 2024-07-08 uploaded.\n",
      "df_prices updated\n"
     ]
    }
   ],
   "source": [
    "k200 = DataManager(\n",
    "    file = 'kospi200_prices_240708.csv',\n",
    "    universe = 'KOSPI200',\n",
    "    path = path_data\n",
    ")\n",
    "k200.upload()"
   ]
  },
  {
   "cell_type": "code",
   "execution_count": 4,
   "id": "56cfa843-ffc7-469f-a18d-aefecdac2e5d",
   "metadata": {},
   "outputs": [],
   "source": [
    "# uncomment download to update prices\n",
    "kw = dict(\n",
    "    n_years=3, \n",
    "    #tickers=k200.df_prices.columns\n",
    ")\n",
    "#k200.download(**kw)"
   ]
  },
  {
   "cell_type": "code",
   "execution_count": 5,
   "id": "6654a8a7-4530-4c54-8fd7-46d71981e9f6",
   "metadata": {},
   "outputs": [],
   "source": [
    "df_k200 = k200.df_prices\n",
    "assetnames_k200 = k200.get_names()"
   ]
  },
  {
   "cell_type": "markdown",
   "id": "39d0213d-1cd0-42f6-8066-abb2eb6dd5db",
   "metadata": {},
   "source": [
    "## ETF"
   ]
  },
  {
   "cell_type": "code",
   "execution_count": 6,
   "id": "26a87f56-8333-4d02-bc67-2d58cda01a18",
   "metadata": {},
   "outputs": [
    {
     "name": "stdout",
     "output_type": "stream",
     "text": [
      "864 assets from 2021-01-04 to 2024-07-08 uploaded.\n",
      "df_prices updated\n"
     ]
    }
   ],
   "source": [
    "etf = DataManager(\n",
    "    file = 'etfs_all_240708.csv',\n",
    "    universe = 'ETF',\n",
    "    path = path_data\n",
    ")\n",
    "etf.upload()"
   ]
  },
  {
   "cell_type": "code",
   "execution_count": 7,
   "id": "3cc26afb-d01e-4b99-9be0-fb446726b131",
   "metadata": {},
   "outputs": [],
   "source": [
    "# uncomment download to update prices\n",
    "kw = dict(\n",
    "    n_years=3, \n",
    "    #tickers=etf.df_prices.columns\n",
    ")\n",
    "#etf.download(**kw)"
   ]
  },
  {
   "cell_type": "code",
   "execution_count": 8,
   "id": "35e4fe7f-1ebd-40f6-956c-44c464cb6a76",
   "metadata": {},
   "outputs": [
    {
     "data": {
      "text/plain": [
       "0) 069500: KODEX 200\n",
       "1) 273130: KODEX 종합채권(AA-이상)액티브\n",
       "2) 148070: KOSEF 국고채10년\n",
       "3) 379800: KODEX 미국S&P500TR\n",
       "4) 411060: ACE KRX금현물\n",
       "5) 284430: KODEX 200미국채혼합"
      ]
     },
     "execution_count": 8,
     "metadata": {},
     "output_type": "execute_result"
    }
   ],
   "source": [
    "choice = ['069500', '273130', '148070', '379800', '411060', '284430']\n",
    "df_etf = etf.df_prices[choice]\n",
    "assetnames_etf = etf.get_names(tickers=choice)\n",
    "assetnames_etf"
   ]
  },
  {
   "cell_type": "markdown",
   "id": "0aaaa9db-40ad-414a-b709-de117191981b",
   "metadata": {},
   "source": [
    "# Backtest"
   ]
  },
  {
   "cell_type": "markdown",
   "id": "00168468-3042-497d-bd8b-35ee21ca83c5",
   "metadata": {},
   "source": [
    "## KOSPI 200"
   ]
  },
  {
   "cell_type": "code",
   "execution_count": 18,
   "id": "5cd3809d-522b-4cad-944e-de081a5b3657",
   "metadata": {},
   "outputs": [
    {
     "name": "stdout",
     "output_type": "stream",
     "text": [
      "15 assets removed for shorter periods (7.5%)\n",
      "running self.util_check_days_in_year to check days in a year\n"
     ]
    }
   ],
   "source": [
    "kwargs_bm = dict(\n",
    "    initial_capital = 10000000,\n",
    "    commissions = 0,\n",
    "    align_axis = 1, \n",
    "    days_in_year = 246,\n",
    "    asset_names = assetnames_k200\n",
    ")\n",
    "bm = BacktestManager(df_k200, **kwargs_bm)"
   ]
  },
  {
   "cell_type": "code",
   "execution_count": 19,
   "id": "63f41609-2c02-419d-b8dd-30993313c9e1",
   "metadata": {},
   "outputs": [
    {
     "name": "stdout",
     "output_type": "stream",
     "text": [
      "Benchmark is KODEX200\n",
      "RunOnce selected\n"
     ]
    }
   ],
   "source": [
    "bm.benchmark_ticker()"
   ]
  },
  {
   "cell_type": "code",
   "execution_count": 10,
   "id": "b37e9472-eac5-4344-aa7f-a6975e7204b1",
   "metadata": {},
   "outputs": [],
   "source": [
    "kwargs_build = dict(\n",
    "    name = 'Momentum',\n",
    "    freq = 'M', select = 'Momentum', weigh = 'ERC',\n",
    "    n_assets=5, lookback=12, lag=12\n",
    ")\n",
    "bm.build(**kwargs_build)"
   ]
  },
  {
   "cell_type": "code",
   "execution_count": 11,
   "id": "ce2ebc9e-4f37-456c-8b80-6d08227047de",
   "metadata": {},
   "outputs": [],
   "source": [
    "kwargs_build = dict(\n",
    "    name = 'K-ratio',\n",
    "    freq = 'M', select = 'K-ratio', weigh = 'ERC',\n",
    "    n_assets=5, lookback=12, lag=12\n",
    ")\n",
    "bm.build(**kwargs_build)"
   ]
  },
  {
   "cell_type": "code",
   "execution_count": 12,
   "id": "f4636d65-e08d-4f8f-b957-ec2c728b4667",
   "metadata": {},
   "outputs": [
    {
     "name": "stdout",
     "output_type": "stream",
     "text": [
      "Backtesting 3 strategies: KODEX200, Momentum, K-ratio\n"
     ]
    },
    {
     "name": "stderr",
     "output_type": "stream",
     "text": [
      "100%|█████████████████████████████████████████████████████████████████| 3/3 [00:59<00:00, 19.69s/it]"
     ]
    },
    {
     "name": "stdout",
     "output_type": "stream",
     "text": [
      "Returning stats\n"
     ]
    },
    {
     "name": "stderr",
     "output_type": "stream",
     "text": [
      "\n"
     ]
    },
    {
     "data": {
      "text/html": [
       "<div>\n",
       "<style scoped>\n",
       "    .dataframe tbody tr th:only-of-type {\n",
       "        vertical-align: middle;\n",
       "    }\n",
       "\n",
       "    .dataframe tbody tr th {\n",
       "        vertical-align: top;\n",
       "    }\n",
       "\n",
       "    .dataframe thead th {\n",
       "        text-align: right;\n",
       "    }\n",
       "</style>\n",
       "<table border=\"1\" class=\"dataframe\">\n",
       "  <thead>\n",
       "    <tr style=\"text-align: right;\">\n",
       "      <th></th>\n",
       "      <th>KODEX200</th>\n",
       "      <th>Momentum</th>\n",
       "      <th>K-ratio</th>\n",
       "    </tr>\n",
       "  </thead>\n",
       "  <tbody>\n",
       "    <tr>\n",
       "      <th>start</th>\n",
       "      <td>2021-01-03</td>\n",
       "      <td>2021-01-03</td>\n",
       "      <td>2021-01-03</td>\n",
       "    </tr>\n",
       "    <tr>\n",
       "      <th>end</th>\n",
       "      <td>2024-07-05</td>\n",
       "      <td>2024-07-05</td>\n",
       "      <td>2024-07-05</td>\n",
       "    </tr>\n",
       "    <tr>\n",
       "      <th>cagr</th>\n",
       "      <td>0.016695</td>\n",
       "      <td>0.664683</td>\n",
       "      <td>0.230809</td>\n",
       "    </tr>\n",
       "    <tr>\n",
       "      <th>monthly_vol</th>\n",
       "      <td>0.185975</td>\n",
       "      <td>0.435543</td>\n",
       "      <td>0.262161</td>\n",
       "    </tr>\n",
       "    <tr>\n",
       "      <th>monthly_sharpe</th>\n",
       "      <td>0.157682</td>\n",
       "      <td>1.382685</td>\n",
       "      <td>0.922983</td>\n",
       "    </tr>\n",
       "    <tr>\n",
       "      <th>max_drawdown</th>\n",
       "      <td>-0.342432</td>\n",
       "      <td>-0.276901</td>\n",
       "      <td>-0.229503</td>\n",
       "    </tr>\n",
       "    <tr>\n",
       "      <th>avg_drawdown</th>\n",
       "      <td>-0.08767</td>\n",
       "      <td>-0.05712</td>\n",
       "      <td>-0.044447</td>\n",
       "    </tr>\n",
       "    <tr>\n",
       "      <th>avg_drawdown_days</th>\n",
       "      <td>210.666667</td>\n",
       "      <td>17.465116</td>\n",
       "      <td>29.296296</td>\n",
       "    </tr>\n",
       "  </tbody>\n",
       "</table>\n",
       "</div>"
      ],
      "text/plain": [
       "                     KODEX200    Momentum     K-ratio\n",
       "start              2021-01-03  2021-01-03  2021-01-03\n",
       "end                2024-07-05  2024-07-05  2024-07-05\n",
       "cagr                 0.016695    0.664683    0.230809\n",
       "monthly_vol          0.185975    0.435543    0.262161\n",
       "monthly_sharpe       0.157682    1.382685    0.922983\n",
       "max_drawdown        -0.342432   -0.276901   -0.229503\n",
       "avg_drawdown         -0.08767    -0.05712   -0.044447\n",
       "avg_drawdown_days  210.666667   17.465116   29.296296"
      ]
     },
     "execution_count": 12,
     "metadata": {},
     "output_type": "execute_result"
    },
    {
     "data": {
      "image/png": "[encoded data removed]",
      "text/plain": [
       "<Figure size 1000x400 with 1 Axes>"
      ]
     },
     "metadata": {},
     "output_type": "display_data"
    }
   ],
   "source": [
    "bm.run(figsize=(10,4), metrics=metrics2)"
   ]
  },
  {
   "cell_type": "markdown",
   "id": "c7df33e3-8f1f-4633-a6aa-f4ee66196a91",
   "metadata": {},
   "source": [
    "## ETF"
   ]
  },
  {
   "cell_type": "code",
   "execution_count": 23,
   "id": "2fd24a73-19c1-413c-88a6-96bd4e00b2b3",
   "metadata": {},
   "outputs": [
    {
     "name": "stdout",
     "output_type": "stream",
     "text": [
      "period reset: 2021-12-15 ~ 2024-07-05\n",
      "running self.util_check_days_in_year to check days in a year\n"
     ]
    }
   ],
   "source": [
    "kwargs_bm = dict(\n",
    "    initial_capital = 10000000,\n",
    "    commissions = 0,\n",
    "    align_axis = 0, \n",
    "    days_in_year = 245,\n",
    "    asset_names = assetnames_etf\n",
    ")\n",
    "bm = BacktestManager(df_etf, **kwargs_bm)"
   ]
  },
  {
   "cell_type": "code",
   "execution_count": 24,
   "id": "13a3623c-5807-48c4-9128-b6af7db76a99",
   "metadata": {},
   "outputs": [
    {
     "name": "stdout",
     "output_type": "stream",
     "text": [
      "Benchmark is KODEX200\n",
      "RunOnce selected\n"
     ]
    }
   ],
   "source": [
    "bm.benchmark_ticker()"
   ]
  },
  {
   "cell_type": "markdown",
   "id": "ef5f19e0-4426-48c1-9dc9-f7b6ba661615",
   "metadata": {},
   "source": [
    "### Weights"
   ]
  },
  {
   "cell_type": "code",
   "execution_count": 25,
   "id": "29dfeae2-4162-4686-bf53-83f3e97dcbef",
   "metadata": {},
   "outputs": [],
   "source": [
    "bm.build(\n",
    "    name = 'COMB1: Eqaully',\n",
    "    freq = 'Y', select = 'all', weigh = 'equally'\n",
    ")"
   ]
  },
  {
   "cell_type": "code",
   "execution_count": 26,
   "id": "26d5a384-906d-4e8f-b2da-508bdd3367a7",
   "metadata": {},
   "outputs": [],
   "source": [
    "bm.build(\n",
    "    name = 'COMB2: ERC',\n",
    "    freq = 'Y', select = 'all', weigh = 'ERC', \n",
    "    lookback=12, lag=0\n",
    ")"
   ]
  },
  {
   "cell_type": "code",
   "execution_count": 27,
   "id": "b769cb57-06a6-4a12-bd8f-f7e33ae12af0",
   "metadata": {},
   "outputs": [],
   "source": [
    "bm.build(    \n",
    "    name = 'COMB3: InvVol',\n",
    "    freq = 'Y', select = 'all', weigh = 'InvVol', \n",
    "    lookback=12, lag=0\n",
    ")"
   ]
  },
  {
   "cell_type": "code",
   "execution_count": 28,
   "id": "5ee4456d-88b3-464b-9345-323862c19ed3",
   "metadata": {},
   "outputs": [
    {
     "name": "stdout",
     "output_type": "stream",
     "text": [
      "Backtesting 4 strategies: KODEX200, COMB1: Eqaully, COMB2: ERC, COMB3: InvVol\n"
     ]
    },
    {
     "name": "stderr",
     "output_type": "stream",
     "text": [
      "100%|█████████████████████████████████████████████████████████████████| 4/4 [00:00<00:00,  6.44it/s]\n"
     ]
    },
    {
     "name": "stdout",
     "output_type": "stream",
     "text": [
      "Returning stats\n"
     ]
    },
    {
     "data": {
      "image/png": "[encoded data removed]",
      "text/plain": [
       "<Figure size 1000x400 with 1 Axes>"
      ]
     },
     "metadata": {},
     "output_type": "display_data"
    }
   ],
   "source": [
    "_ = bm.run(figsize=(10,4))"
   ]
  },
  {
   "cell_type": "code",
   "execution_count": 29,
   "id": "8092414f-f75a-4dee-9069-9ed65c2c3894",
   "metadata": {},
   "outputs": [
    {
     "data": {
      "text/html": [
       "<div>\n",
       "<style scoped>\n",
       "    .dataframe tbody tr th:only-of-type {\n",
       "        vertical-align: middle;\n",
       "    }\n",
       "\n",
       "    .dataframe tbody tr th {\n",
       "        vertical-align: top;\n",
       "    }\n",
       "\n",
       "    .dataframe thead th {\n",
       "        text-align: right;\n",
       "    }\n",
       "</style>\n",
       "<table border=\"1\" class=\"dataframe\">\n",
       "  <thead>\n",
       "    <tr style=\"text-align: right;\">\n",
       "      <th></th>\n",
       "      <th>COMB2: ERC</th>\n",
       "      <th>COMB3: InvVol</th>\n",
       "      <th>COMB1: Eqaully</th>\n",
       "      <th>KODEX200</th>\n",
       "    </tr>\n",
       "  </thead>\n",
       "  <tbody>\n",
       "    <tr>\n",
       "      <th>start</th>\n",
       "      <td>2021-12-14</td>\n",
       "      <td>2021-12-14</td>\n",
       "      <td>2021-12-14</td>\n",
       "      <td>2021-12-14</td>\n",
       "    </tr>\n",
       "    <tr>\n",
       "      <th>end</th>\n",
       "      <td>2024-07-05</td>\n",
       "      <td>2024-07-05</td>\n",
       "      <td>2024-07-05</td>\n",
       "      <td>2024-07-05</td>\n",
       "    </tr>\n",
       "    <tr>\n",
       "      <th>cagr</th>\n",
       "      <td>0.080517</td>\n",
       "      <td>0.071554</td>\n",
       "      <td>0.061102</td>\n",
       "      <td>0.025121</td>\n",
       "    </tr>\n",
       "    <tr>\n",
       "      <th>monthly_vol</th>\n",
       "      <td>0.05538</td>\n",
       "      <td>0.054357</td>\n",
       "      <td>0.083106</td>\n",
       "      <td>0.207521</td>\n",
       "    </tr>\n",
       "    <tr>\n",
       "      <th>monthly_sharpe</th>\n",
       "      <td>1.414939</td>\n",
       "      <td>1.288041</td>\n",
       "      <td>0.7053</td>\n",
       "      <td>0.20433</td>\n",
       "    </tr>\n",
       "    <tr>\n",
       "      <th>max_drawdown</th>\n",
       "      <td>-0.039351</td>\n",
       "      <td>-0.03793</td>\n",
       "      <td>-0.107524</td>\n",
       "      <td>-0.283724</td>\n",
       "    </tr>\n",
       "    <tr>\n",
       "      <th>avg_drawdown</th>\n",
       "      <td>-0.007642</td>\n",
       "      <td>-0.007321</td>\n",
       "      <td>-0.01059</td>\n",
       "      <td>-0.066244</td>\n",
       "    </tr>\n",
       "    <tr>\n",
       "      <th>avg_drawdown_days</th>\n",
       "      <td>16.851852</td>\n",
       "      <td>18.6</td>\n",
       "      <td>41.142857</td>\n",
       "      <td>184.0</td>\n",
       "    </tr>\n",
       "  </tbody>\n",
       "</table>\n",
       "</div>"
      ],
      "text/plain": [
       "                   COMB2: ERC COMB3: InvVol COMB1: Eqaully    KODEX200\n",
       "start              2021-12-14    2021-12-14     2021-12-14  2021-12-14\n",
       "end                2024-07-05    2024-07-05     2024-07-05  2024-07-05\n",
       "cagr                 0.080517      0.071554       0.061102    0.025121\n",
       "monthly_vol           0.05538      0.054357       0.083106    0.207521\n",
       "monthly_sharpe       1.414939      1.288041         0.7053     0.20433\n",
       "max_drawdown        -0.039351      -0.03793      -0.107524   -0.283724\n",
       "avg_drawdown        -0.007642     -0.007321       -0.01059   -0.066244\n",
       "avg_drawdown_days   16.851852          18.6      41.142857       184.0"
      ]
     },
     "execution_count": 29,
     "metadata": {},
     "output_type": "execute_result"
    }
   ],
   "source": [
    "bm.get_stats(sort_by='monthly_sharpe', metrics=metrics2)"
   ]
  },
  {
   "cell_type": "markdown",
   "id": "4a918bca-8bbb-47fa-95e6-5c613e75aac0",
   "metadata": {},
   "source": [
    "### Freq"
   ]
  },
  {
   "cell_type": "code",
   "execution_count": 30,
   "id": "fd54dc34-1b67-47cd-b0ad-b6dc1e8fc36d",
   "metadata": {},
   "outputs": [],
   "source": [
    "kwargs_build = dict(\n",
    "    select = 'all', weigh = 'ERC', \n",
    "    lookback=12, lag=0\n",
    ")\n",
    "\n",
    "kwa_list = [{'name':f'freq {x}', 'freq':x} for x in ['M', 'Q', 'Y']]\n",
    "\n",
    "bm.build_batch(*kwa_list, **kwargs_build)"
   ]
  },
  {
   "cell_type": "code",
   "execution_count": 31,
   "id": "0759cc5c-c9f5-4231-b825-c3095e8ef6dc",
   "metadata": {},
   "outputs": [
    {
     "data": {
      "text/plain": [
       "0) KODEX200\n",
       "1) COMB1: Eqaully\n",
       "2) COMB2: ERC\n",
       "3) COMB3: InvVol\n",
       "4) freq M\n",
       "5) freq Q\n",
       "6) freq Y"
      ]
     },
     "execution_count": 31,
     "metadata": {},
     "output_type": "execute_result"
    }
   ],
   "source": [
    "bm.portfolios"
   ]
  },
  {
   "cell_type": "code",
   "execution_count": 33,
   "id": "e1fab293-9839-40cb-98f6-e4fcea14af04",
   "metadata": {},
   "outputs": [
    {
     "name": "stdout",
     "output_type": "stream",
     "text": [
      "Backtesting 3 strategies: freq M, freq Q, freq Y\n"
     ]
    },
    {
     "name": "stderr",
     "output_type": "stream",
     "text": [
      "100%|█████████████████████████████████████████████████████████████████| 3/3 [00:00<00:00,  8.66it/s]"
     ]
    },
    {
     "name": "stdout",
     "output_type": "stream",
     "text": [
      "Returning stats\n"
     ]
    },
    {
     "name": "stderr",
     "output_type": "stream",
     "text": [
      "\n"
     ]
    },
    {
     "data": {
      "text/html": [
       "<div>\n",
       "<style scoped>\n",
       "    .dataframe tbody tr th:only-of-type {\n",
       "        vertical-align: middle;\n",
       "    }\n",
       "\n",
       "    .dataframe tbody tr th {\n",
       "        vertical-align: top;\n",
       "    }\n",
       "\n",
       "    .dataframe thead th {\n",
       "        text-align: right;\n",
       "    }\n",
       "</style>\n",
       "<table border=\"1\" class=\"dataframe\">\n",
       "  <thead>\n",
       "    <tr style=\"text-align: right;\">\n",
       "      <th></th>\n",
       "      <th>freq Y</th>\n",
       "      <th>freq M</th>\n",
       "      <th>freq Q</th>\n",
       "    </tr>\n",
       "  </thead>\n",
       "  <tbody>\n",
       "    <tr>\n",
       "      <th>start</th>\n",
       "      <td>2021-12-14</td>\n",
       "      <td>2021-12-14</td>\n",
       "      <td>2021-12-14</td>\n",
       "    </tr>\n",
       "    <tr>\n",
       "      <th>end</th>\n",
       "      <td>2024-07-05</td>\n",
       "      <td>2024-07-05</td>\n",
       "      <td>2024-07-05</td>\n",
       "    </tr>\n",
       "    <tr>\n",
       "      <th>cagr</th>\n",
       "      <td>0.080517</td>\n",
       "      <td>0.082151</td>\n",
       "      <td>0.080185</td>\n",
       "    </tr>\n",
       "    <tr>\n",
       "      <th>monthly_vol</th>\n",
       "      <td>0.05538</td>\n",
       "      <td>0.056932</td>\n",
       "      <td>0.056468</td>\n",
       "    </tr>\n",
       "    <tr>\n",
       "      <th>monthly_sharpe</th>\n",
       "      <td>1.414939</td>\n",
       "      <td>1.404275</td>\n",
       "      <td>1.383302</td>\n",
       "    </tr>\n",
       "    <tr>\n",
       "      <th>max_drawdown</th>\n",
       "      <td>-0.039351</td>\n",
       "      <td>-0.037221</td>\n",
       "      <td>-0.03933</td>\n",
       "    </tr>\n",
       "    <tr>\n",
       "      <th>avg_drawdown</th>\n",
       "      <td>-0.007642</td>\n",
       "      <td>-0.006569</td>\n",
       "      <td>-0.007348</td>\n",
       "    </tr>\n",
       "    <tr>\n",
       "      <th>avg_drawdown_days</th>\n",
       "      <td>16.851852</td>\n",
       "      <td>14.774194</td>\n",
       "      <td>16.214286</td>\n",
       "    </tr>\n",
       "  </tbody>\n",
       "</table>\n",
       "</div>"
      ],
      "text/plain": [
       "                       freq Y      freq M      freq Q\n",
       "start              2021-12-14  2021-12-14  2021-12-14\n",
       "end                2024-07-05  2024-07-05  2024-07-05\n",
       "cagr                 0.080517    0.082151    0.080185\n",
       "monthly_vol           0.05538    0.056932    0.056468\n",
       "monthly_sharpe       1.414939    1.404275    1.383302\n",
       "max_drawdown        -0.039351   -0.037221    -0.03933\n",
       "avg_drawdown        -0.007642   -0.006569   -0.007348\n",
       "avg_drawdown_days   16.851852   14.774194   16.214286"
      ]
     },
     "execution_count": 33,
     "metadata": {},
     "output_type": "execute_result"
    }
   ],
   "source": [
    "pf_list = [4,5,6]\n",
    "_ = bm.run(pf_list, plot=False)\n",
    "bm.get_stats(sort_by='monthly_sharpe', metrics=metrics2)"
   ]
  },
  {
   "cell_type": "code",
   "execution_count": 34,
   "id": "19553cdc-a26e-44c0-99de-a6eab143e671",
   "metadata": {},
   "outputs": [
    {
     "name": "stdout",
     "output_type": "stream",
     "text": [
      "freq Y: weights at transactions returned\n"
     ]
    },
    {
     "data": {
      "text/html": [
       "<div>\n",
       "<style scoped>\n",
       "    .dataframe tbody tr th:only-of-type {\n",
       "        vertical-align: middle;\n",
       "    }\n",
       "\n",
       "    .dataframe tbody tr th {\n",
       "        vertical-align: top;\n",
       "    }\n",
       "\n",
       "    .dataframe thead th {\n",
       "        text-align: right;\n",
       "    }\n",
       "</style>\n",
       "<table border=\"1\" class=\"dataframe\">\n",
       "  <thead>\n",
       "    <tr style=\"text-align: right;\">\n",
       "      <th></th>\n",
       "      <th>2022-12-13</th>\n",
       "      <th>2023-12-11</th>\n",
       "    </tr>\n",
       "  </thead>\n",
       "  <tbody>\n",
       "    <tr>\n",
       "      <th>KODEX 200 (069500)</th>\n",
       "      <td>0.086727</td>\n",
       "      <td>0.102417</td>\n",
       "    </tr>\n",
       "    <tr>\n",
       "      <th>KODEX 종합채권(AA-이상)액티브 (273130)</th>\n",
       "      <td>0.304020</td>\n",
       "      <td>0.249632</td>\n",
       "    </tr>\n",
       "    <tr>\n",
       "      <th>KOSEF 국고채10년 (148070)</th>\n",
       "      <td>0.169403</td>\n",
       "      <td>0.151821</td>\n",
       "    </tr>\n",
       "    <tr>\n",
       "      <th>KODEX 미국S&amp;P500TR (379800)</th>\n",
       "      <td>0.083484</td>\n",
       "      <td>0.145020</td>\n",
       "    </tr>\n",
       "    <tr>\n",
       "      <th>ACE KRX금현물 (411060)</th>\n",
       "      <td>0.182266</td>\n",
       "      <td>0.166300</td>\n",
       "    </tr>\n",
       "    <tr>\n",
       "      <th>KODEX 200미국채혼합 (284430)</th>\n",
       "      <td>0.167560</td>\n",
       "      <td>0.165475</td>\n",
       "    </tr>\n",
       "  </tbody>\n",
       "</table>\n",
       "</div>"
      ],
      "text/plain": [
       "                               2022-12-13  2023-12-11\n",
       "KODEX 200 (069500)               0.086727    0.102417\n",
       "KODEX 종합채권(AA-이상)액티브 (273130)    0.304020    0.249632\n",
       "KOSEF 국고채10년 (148070)            0.169403    0.151821\n",
       "KODEX 미국S&P500TR (379800)        0.083484    0.145020\n",
       "ACE KRX금현물 (411060)              0.182266    0.166300\n",
       "KODEX 200미국채혼합 (284430)          0.167560    0.165475"
      ]
     },
     "execution_count": 34,
     "metadata": {},
     "output_type": "execute_result"
    }
   ],
   "source": [
    "df = bm.get_security_weights(2).rename_axis(None)\n",
    "df.columns = [f'{bm.asset_names[x]} ({x})' for x in df.columns]\n",
    "df.T"
   ]
  },
  {
   "cell_type": "markdown",
   "id": "2c9b3de9-e20a-4486-9fc7-7ba75bd5fdec",
   "metadata": {},
   "source": [
    "# Transaction"
   ]
  },
  {
   "cell_type": "markdown",
   "id": "8c1d7580-8b01-4154-8c49-14f4063b6b03",
   "metadata": {},
   "source": [
    "## KOSPI200"
   ]
  },
  {
   "cell_type": "code",
   "execution_count": 215,
   "id": "ab3a72e9-226d-40dd-bac4-b76740397cca",
   "metadata": {},
   "outputs": [
    {
     "name": "stdout",
     "output_type": "stream",
     "text": [
      "15 assets removed for shorter periods (7.5%)\n",
      "running self.util_check_days_in_year to check days in a year\n",
      "REMINDER: make sure this is 1st transaction as no records provided\n"
     ]
    }
   ],
   "source": [
    "file_record = 'pf_k200_momentum_240101.csv'\n",
    "\n",
    "pf_k200 = MomentumPortfolio(df_k200, file_record,\n",
    "                            path=path_tran, days_in_year=246,\n",
    "                            asset_names=assetnames_k200)"
   ]
  },
  {
   "cell_type": "code",
   "execution_count": 216,
   "id": "7c854a36-4ff7-4dfe-bc1e-912246f2f712",
   "metadata": {},
   "outputs": [
    {
     "name": "stdout",
     "output_type": "stream",
     "text": [
      "5 assets selected by Total return from 2023-01-02 to 2024-01-02\n",
      "Weights of assets determined by ERC.\n",
      "Net profit: 0\n",
      "Set save=True to save transaction record\n"
     ]
    },
    {
     "data": {
      "text/html": [
       "<div>\n",
       "<style scoped>\n",
       "    .dataframe tbody tr th:only-of-type {\n",
       "        vertical-align: middle;\n",
       "    }\n",
       "\n",
       "    .dataframe tbody tr th {\n",
       "        vertical-align: top;\n",
       "    }\n",
       "\n",
       "    .dataframe thead th {\n",
       "        text-align: right;\n",
       "    }\n",
       "</style>\n",
       "<table border=\"1\" class=\"dataframe\">\n",
       "  <thead>\n",
       "    <tr style=\"text-align: right;\">\n",
       "      <th></th>\n",
       "      <th></th>\n",
       "      <th>price</th>\n",
       "      <th>transaction</th>\n",
       "      <th>net</th>\n",
       "      <th>weights</th>\n",
       "    </tr>\n",
       "    <tr>\n",
       "      <th>date</th>\n",
       "      <th>asset</th>\n",
       "      <th></th>\n",
       "      <th></th>\n",
       "      <th></th>\n",
       "      <th></th>\n",
       "    </tr>\n",
       "  </thead>\n",
       "  <tbody>\n",
       "    <tr>\n",
       "      <th rowspan=\"5\" valign=\"top\">2024-01-02</th>\n",
       "      <th>001570</th>\n",
       "      <td>105900</td>\n",
       "      <td>14</td>\n",
       "      <td>14</td>\n",
       "      <td>0.15</td>\n",
       "    </tr>\n",
       "    <tr>\n",
       "      <th>002710</th>\n",
       "      <td>56100</td>\n",
       "      <td>32</td>\n",
       "      <td>32</td>\n",
       "      <td>0.18</td>\n",
       "    </tr>\n",
       "    <tr>\n",
       "      <th>005070</th>\n",
       "      <td>144300</td>\n",
       "      <td>15</td>\n",
       "      <td>15</td>\n",
       "      <td>0.22</td>\n",
       "    </tr>\n",
       "    <tr>\n",
       "      <th>022100</th>\n",
       "      <td>69600</td>\n",
       "      <td>23</td>\n",
       "      <td>23</td>\n",
       "      <td>0.16</td>\n",
       "    </tr>\n",
       "    <tr>\n",
       "      <th>042700</th>\n",
       "      <td>60800</td>\n",
       "      <td>44</td>\n",
       "      <td>44</td>\n",
       "      <td>0.28</td>\n",
       "    </tr>\n",
       "  </tbody>\n",
       "</table>\n",
       "</div>"
      ],
      "text/plain": [
       "                    price  transaction  net weights\n",
       "date       asset                                   \n",
       "2024-01-02 001570  105900           14   14    0.15\n",
       "           002710   56100           32   32    0.18\n",
       "           005070  144300           15   15    0.22\n",
       "           022100   69600           23   23    0.16\n",
       "           042700   60800           44   44    0.28"
      ]
     },
     "execution_count": 216,
     "metadata": {},
     "output_type": "execute_result"
    }
   ],
   "source": [
    "df = pf_k200.transaction_pipeline(date='2024-01-02')\n",
    "df"
   ]
  },
  {
   "cell_type": "code",
   "execution_count": 220,
   "id": "141d4b59-97ab-47f2-947d-428a7989765e",
   "metadata": {},
   "outputs": [
    {
     "name": "stdout",
     "output_type": "stream",
     "text": [
      "5 assets selected by Total return from 2023-05-02 to 2024-04-30\n",
      "Weights of assets determined by ERC.\n",
      "ERROR: check the date as no new transaction\n",
      "All transactions saved to pf_k200_momentum_240430.csv\n"
     ]
    },
    {
     "data": {
      "text/html": [
       "<div>\n",
       "<style scoped>\n",
       "    .dataframe tbody tr th:only-of-type {\n",
       "        vertical-align: middle;\n",
       "    }\n",
       "\n",
       "    .dataframe tbody tr th {\n",
       "        vertical-align: top;\n",
       "    }\n",
       "\n",
       "    .dataframe thead th {\n",
       "        text-align: right;\n",
       "    }\n",
       "</style>\n",
       "<table border=\"1\" class=\"dataframe\">\n",
       "  <thead>\n",
       "    <tr style=\"text-align: right;\">\n",
       "      <th></th>\n",
       "      <th></th>\n",
       "      <th>price</th>\n",
       "      <th>transaction</th>\n",
       "      <th>net</th>\n",
       "      <th>weights</th>\n",
       "    </tr>\n",
       "    <tr>\n",
       "      <th>date</th>\n",
       "      <th>asset</th>\n",
       "      <th></th>\n",
       "      <th></th>\n",
       "      <th></th>\n",
       "      <th></th>\n",
       "    </tr>\n",
       "  </thead>\n",
       "  <tbody>\n",
       "    <tr>\n",
       "      <th rowspan=\"5\" valign=\"top\">2024-01-02</th>\n",
       "      <th>001570</th>\n",
       "      <td>105900</td>\n",
       "      <td>14</td>\n",
       "      <td>14</td>\n",
       "      <td>0.15</td>\n",
       "    </tr>\n",
       "    <tr>\n",
       "      <th>002710</th>\n",
       "      <td>56100</td>\n",
       "      <td>32</td>\n",
       "      <td>32</td>\n",
       "      <td>0.18</td>\n",
       "    </tr>\n",
       "    <tr>\n",
       "      <th>005070</th>\n",
       "      <td>144300</td>\n",
       "      <td>15</td>\n",
       "      <td>15</td>\n",
       "      <td>0.22</td>\n",
       "    </tr>\n",
       "    <tr>\n",
       "      <th>022100</th>\n",
       "      <td>69600</td>\n",
       "      <td>23</td>\n",
       "      <td>23</td>\n",
       "      <td>0.16</td>\n",
       "    </tr>\n",
       "    <tr>\n",
       "      <th>042700</th>\n",
       "      <td>60800</td>\n",
       "      <td>44</td>\n",
       "      <td>44</td>\n",
       "      <td>0.28</td>\n",
       "    </tr>\n",
       "    <tr>\n",
       "      <th rowspan=\"6\" valign=\"top\">2024-02-29</th>\n",
       "      <th>001570</th>\n",
       "      <td>96500</td>\n",
       "      <td>1</td>\n",
       "      <td>15</td>\n",
       "      <td>0.15</td>\n",
       "    </tr>\n",
       "    <tr>\n",
       "      <th>002710</th>\n",
       "      <td>67700</td>\n",
       "      <td>-8</td>\n",
       "      <td>24</td>\n",
       "      <td>0.17</td>\n",
       "    </tr>\n",
       "    <tr>\n",
       "      <th>005070</th>\n",
       "      <td>177100</td>\n",
       "      <td>-15</td>\n",
       "      <td>0</td>\n",
       "      <td>0.00</td>\n",
       "    </tr>\n",
       "    <tr>\n",
       "      <th>022100</th>\n",
       "      <td>54100</td>\n",
       "      <td>3</td>\n",
       "      <td>26</td>\n",
       "      <td>0.14</td>\n",
       "    </tr>\n",
       "    <tr>\n",
       "      <th>042700</th>\n",
       "      <td>84800</td>\n",
       "      <td>-18</td>\n",
       "      <td>26</td>\n",
       "      <td>0.23</td>\n",
       "    </tr>\n",
       "    <tr>\n",
       "      <th>267260</th>\n",
       "      <td>124400</td>\n",
       "      <td>25</td>\n",
       "      <td>25</td>\n",
       "      <td>0.32</td>\n",
       "    </tr>\n",
       "    <tr>\n",
       "      <th rowspan=\"8\" valign=\"top\">2024-04-30</th>\n",
       "      <th>001570</th>\n",
       "      <td>94100</td>\n",
       "      <td>-15</td>\n",
       "      <td>0</td>\n",
       "      <td>0.00</td>\n",
       "    </tr>\n",
       "    <tr>\n",
       "      <th>002710</th>\n",
       "      <td>53000</td>\n",
       "      <td>-24</td>\n",
       "      <td>0</td>\n",
       "      <td>0.00</td>\n",
       "    </tr>\n",
       "    <tr>\n",
       "      <th>003230</th>\n",
       "      <td>295500</td>\n",
       "      <td>8</td>\n",
       "      <td>8</td>\n",
       "      <td>0.25</td>\n",
       "    </tr>\n",
       "    <tr>\n",
       "      <th>005070</th>\n",
       "      <td>151800</td>\n",
       "      <td>0</td>\n",
       "      <td>0</td>\n",
       "      <td>0.00</td>\n",
       "    </tr>\n",
       "    <tr>\n",
       "      <th>010120</th>\n",
       "      <td>176600</td>\n",
       "      <td>11</td>\n",
       "      <td>11</td>\n",
       "      <td>0.20</td>\n",
       "    </tr>\n",
       "    <tr>\n",
       "      <th>022100</th>\n",
       "      <td>40750</td>\n",
       "      <td>13</td>\n",
       "      <td>39</td>\n",
       "      <td>0.17</td>\n",
       "    </tr>\n",
       "    <tr>\n",
       "      <th>042700</th>\n",
       "      <td>135000</td>\n",
       "      <td>-13</td>\n",
       "      <td>13</td>\n",
       "      <td>0.18</td>\n",
       "    </tr>\n",
       "    <tr>\n",
       "      <th>267260</th>\n",
       "      <td>247000</td>\n",
       "      <td>-17</td>\n",
       "      <td>8</td>\n",
       "      <td>0.21</td>\n",
       "    </tr>\n",
       "  </tbody>\n",
       "</table>\n",
       "</div>"
      ],
      "text/plain": [
       "                    price  transaction  net weights\n",
       "date       asset                                   \n",
       "2024-01-02 001570  105900           14   14    0.15\n",
       "           002710   56100           32   32    0.18\n",
       "           005070  144300           15   15    0.22\n",
       "           022100   69600           23   23    0.16\n",
       "           042700   60800           44   44    0.28\n",
       "2024-02-29 001570   96500            1   15    0.15\n",
       "           002710   67700           -8   24    0.17\n",
       "           005070  177100          -15    0    0.00\n",
       "           022100   54100            3   26    0.14\n",
       "           042700   84800          -18   26    0.23\n",
       "           267260  124400           25   25    0.32\n",
       "2024-04-30 001570   94100          -15    0    0.00\n",
       "           002710   53000          -24    0    0.00\n",
       "           003230  295500            8    8    0.25\n",
       "           005070  151800            0    0    0.00\n",
       "           010120  176600           11   11    0.20\n",
       "           022100   40750           13   39    0.17\n",
       "           042700  135000          -13   13    0.18\n",
       "           267260  247000          -17    8    0.21"
      ]
     },
     "execution_count": 220,
     "metadata": {},
     "output_type": "execute_result"
    }
   ],
   "source": [
    "df = pf_k200.transaction_pipeline(date='2024-05-01', record=df, save=True)\n",
    "df"
   ]
  },
  {
   "cell_type": "markdown",
   "id": "c7cd959d-e330-4d8c-9f6b-a277b01e94f5",
   "metadata": {},
   "source": [
    "## ETF"
   ]
  },
  {
   "cell_type": "code",
   "execution_count": 204,
   "id": "ea755f0d-daab-414d-9c3c-4bcd19f353f1",
   "metadata": {},
   "outputs": [
    {
     "name": "stdout",
     "output_type": "stream",
     "text": [
      "period reset: 2021-12-15 ~ 2024-07-08\n",
      "running self.util_check_days_in_year to check days in a year\n",
      "Transaction record to 2024-04-30 loaded.\n"
     ]
    }
   ],
   "source": [
    "#file_record = 'pf_etf_static_240102.csv'\n",
    "file_record = 'pf_etf_static_240430.csv'\n",
    "\n",
    "pf_etf = StaticPortfolio(df_etf, file_record, \n",
    "                         path=path_tran, days_in_year=245)"
   ]
  },
  {
   "cell_type": "code",
   "execution_count": 205,
   "id": "1a593c5d-812f-4f2e-81b4-6ecc7f97e65f",
   "metadata": {},
   "outputs": [
    {
     "name": "stdout",
     "output_type": "stream",
     "text": [
      "6 assets from 2023-01-02 to 2024-01-02 prepared for weight analysis\n",
      "Weights of assets determined by ERC.\n",
      "ERROR: check the date as no new transaction\n",
      "Set save=True to save transaction record\n"
     ]
    },
    {
     "data": {
      "text/html": [
       "<div>\n",
       "<style scoped>\n",
       "    .dataframe tbody tr th:only-of-type {\n",
       "        vertical-align: middle;\n",
       "    }\n",
       "\n",
       "    .dataframe tbody tr th {\n",
       "        vertical-align: top;\n",
       "    }\n",
       "\n",
       "    .dataframe thead th {\n",
       "        text-align: right;\n",
       "    }\n",
       "</style>\n",
       "<table border=\"1\" class=\"dataframe\">\n",
       "  <thead>\n",
       "    <tr style=\"text-align: right;\">\n",
       "      <th></th>\n",
       "      <th></th>\n",
       "      <th>price</th>\n",
       "      <th>transaction</th>\n",
       "      <th>net</th>\n",
       "      <th>weights</th>\n",
       "    </tr>\n",
       "    <tr>\n",
       "      <th>date</th>\n",
       "      <th>asset</th>\n",
       "      <th></th>\n",
       "      <th></th>\n",
       "      <th></th>\n",
       "      <th></th>\n",
       "    </tr>\n",
       "  </thead>\n",
       "  <tbody>\n",
       "    <tr>\n",
       "      <th rowspan=\"6\" valign=\"top\">2024-01-02</th>\n",
       "      <th>069500</th>\n",
       "      <td>35851</td>\n",
       "      <td>28</td>\n",
       "      <td>28</td>\n",
       "      <td>0.10</td>\n",
       "    </tr>\n",
       "    <tr>\n",
       "      <th>148070</th>\n",
       "      <td>111170</td>\n",
       "      <td>14</td>\n",
       "      <td>14</td>\n",
       "      <td>0.16</td>\n",
       "    </tr>\n",
       "    <tr>\n",
       "      <th>273130</th>\n",
       "      <td>109235</td>\n",
       "      <td>22</td>\n",
       "      <td>22</td>\n",
       "      <td>0.24</td>\n",
       "    </tr>\n",
       "    <tr>\n",
       "      <th>284430</th>\n",
       "      <td>12660</td>\n",
       "      <td>131</td>\n",
       "      <td>131</td>\n",
       "      <td>0.17</td>\n",
       "    </tr>\n",
       "    <tr>\n",
       "      <th>379800</th>\n",
       "      <td>14030</td>\n",
       "      <td>115</td>\n",
       "      <td>115</td>\n",
       "      <td>0.16</td>\n",
       "    </tr>\n",
       "    <tr>\n",
       "      <th>411060</th>\n",
       "      <td>12445</td>\n",
       "      <td>134</td>\n",
       "      <td>134</td>\n",
       "      <td>0.17</td>\n",
       "    </tr>\n",
       "    <tr>\n",
       "      <th rowspan=\"6\" valign=\"top\">2024-02-29</th>\n",
       "      <th>069500</th>\n",
       "      <td>35404</td>\n",
       "      <td>1</td>\n",
       "      <td>29</td>\n",
       "      <td>0.10</td>\n",
       "    </tr>\n",
       "    <tr>\n",
       "      <th>148070</th>\n",
       "      <td>110565</td>\n",
       "      <td>0</td>\n",
       "      <td>14</td>\n",
       "      <td>0.16</td>\n",
       "    </tr>\n",
       "    <tr>\n",
       "      <th>273130</th>\n",
       "      <td>109025</td>\n",
       "      <td>0</td>\n",
       "      <td>22</td>\n",
       "      <td>0.24</td>\n",
       "    </tr>\n",
       "    <tr>\n",
       "      <th>284430</th>\n",
       "      <td>12585</td>\n",
       "      <td>-8</td>\n",
       "      <td>123</td>\n",
       "      <td>0.16</td>\n",
       "    </tr>\n",
       "    <tr>\n",
       "      <th>379800</th>\n",
       "      <td>15300</td>\n",
       "      <td>-7</td>\n",
       "      <td>108</td>\n",
       "      <td>0.17</td>\n",
       "    </tr>\n",
       "    <tr>\n",
       "      <th>411060</th>\n",
       "      <td>12465</td>\n",
       "      <td>-3</td>\n",
       "      <td>131</td>\n",
       "      <td>0.17</td>\n",
       "    </tr>\n",
       "    <tr>\n",
       "      <th rowspan=\"6\" valign=\"top\">2024-04-30</th>\n",
       "      <th>069500</th>\n",
       "      <td>36650</td>\n",
       "      <td>-4</td>\n",
       "      <td>25</td>\n",
       "      <td>0.09</td>\n",
       "    </tr>\n",
       "    <tr>\n",
       "      <th>148070</th>\n",
       "      <td>109870</td>\n",
       "      <td>2</td>\n",
       "      <td>16</td>\n",
       "      <td>0.18</td>\n",
       "    </tr>\n",
       "    <tr>\n",
       "      <th>273130</th>\n",
       "      <td>109185</td>\n",
       "      <td>2</td>\n",
       "      <td>24</td>\n",
       "      <td>0.26</td>\n",
       "    </tr>\n",
       "    <tr>\n",
       "      <th>284430</th>\n",
       "      <td>12805</td>\n",
       "      <td>3</td>\n",
       "      <td>126</td>\n",
       "      <td>0.16</td>\n",
       "    </tr>\n",
       "    <tr>\n",
       "      <th>379800</th>\n",
       "      <td>16030</td>\n",
       "      <td>-10</td>\n",
       "      <td>98</td>\n",
       "      <td>0.16</td>\n",
       "    </tr>\n",
       "    <tr>\n",
       "      <th>411060</th>\n",
       "      <td>14800</td>\n",
       "      <td>-32</td>\n",
       "      <td>99</td>\n",
       "      <td>0.15</td>\n",
       "    </tr>\n",
       "  </tbody>\n",
       "</table>\n",
       "</div>"
      ],
      "text/plain": [
       "                    price  transaction  net  weights\n",
       "date       asset                                    \n",
       "2024-01-02 069500   35851           28   28     0.10\n",
       "           148070  111170           14   14     0.16\n",
       "           273130  109235           22   22     0.24\n",
       "           284430   12660          131  131     0.17\n",
       "           379800   14030          115  115     0.16\n",
       "           411060   12445          134  134     0.17\n",
       "2024-02-29 069500   35404            1   29     0.10\n",
       "           148070  110565            0   14     0.16\n",
       "           273130  109025            0   22     0.24\n",
       "           284430   12585           -8  123     0.16\n",
       "           379800   15300           -7  108     0.17\n",
       "           411060   12465           -3  131     0.17\n",
       "2024-04-30 069500   36650           -4   25     0.09\n",
       "           148070  109870            2   16     0.18\n",
       "           273130  109185            2   24     0.26\n",
       "           284430   12805            3  126     0.16\n",
       "           379800   16030          -10   98     0.16\n",
       "           411060   14800          -32   99     0.15"
      ]
     },
     "execution_count": 205,
     "metadata": {},
     "output_type": "execute_result"
    }
   ],
   "source": [
    "df = pf_etf.transaction_pipeline(date='2024-01-02')\n",
    "df"
   ]
  },
  {
   "cell_type": "code",
   "execution_count": 207,
   "id": "88cecf5e-ca1f-4026-92bb-bfd07f97d5ad",
   "metadata": {},
   "outputs": [
    {
     "name": "stdout",
     "output_type": "stream",
     "text": [
      "6 assets from 2023-07-03 to 2024-07-01 prepared for weight analysis\n",
      "Weights of assets determined by ERC.\n",
      "Net profit: 881,353\n",
      "Set save=True to save transaction record\n"
     ]
    },
    {
     "data": {
      "text/html": [
       "<div>\n",
       "<style scoped>\n",
       "    .dataframe tbody tr th:only-of-type {\n",
       "        vertical-align: middle;\n",
       "    }\n",
       "\n",
       "    .dataframe tbody tr th {\n",
       "        vertical-align: top;\n",
       "    }\n",
       "\n",
       "    .dataframe thead th {\n",
       "        text-align: right;\n",
       "    }\n",
       "</style>\n",
       "<table border=\"1\" class=\"dataframe\">\n",
       "  <thead>\n",
       "    <tr style=\"text-align: right;\">\n",
       "      <th></th>\n",
       "      <th></th>\n",
       "      <th>price</th>\n",
       "      <th>transaction</th>\n",
       "      <th>net</th>\n",
       "      <th>weights</th>\n",
       "    </tr>\n",
       "    <tr>\n",
       "      <th>date</th>\n",
       "      <th>asset</th>\n",
       "      <th></th>\n",
       "      <th></th>\n",
       "      <th></th>\n",
       "      <th></th>\n",
       "    </tr>\n",
       "  </thead>\n",
       "  <tbody>\n",
       "    <tr>\n",
       "      <th rowspan=\"6\" valign=\"top\">2024-01-02</th>\n",
       "      <th>069500</th>\n",
       "      <td>35851</td>\n",
       "      <td>28</td>\n",
       "      <td>28</td>\n",
       "      <td>0.10</td>\n",
       "    </tr>\n",
       "    <tr>\n",
       "      <th>148070</th>\n",
       "      <td>111170</td>\n",
       "      <td>14</td>\n",
       "      <td>14</td>\n",
       "      <td>0.16</td>\n",
       "    </tr>\n",
       "    <tr>\n",
       "      <th>273130</th>\n",
       "      <td>109235</td>\n",
       "      <td>22</td>\n",
       "      <td>22</td>\n",
       "      <td>0.24</td>\n",
       "    </tr>\n",
       "    <tr>\n",
       "      <th>284430</th>\n",
       "      <td>12660</td>\n",
       "      <td>131</td>\n",
       "      <td>131</td>\n",
       "      <td>0.17</td>\n",
       "    </tr>\n",
       "    <tr>\n",
       "      <th>379800</th>\n",
       "      <td>14030</td>\n",
       "      <td>115</td>\n",
       "      <td>115</td>\n",
       "      <td>0.16</td>\n",
       "    </tr>\n",
       "    <tr>\n",
       "      <th>411060</th>\n",
       "      <td>12445</td>\n",
       "      <td>134</td>\n",
       "      <td>134</td>\n",
       "      <td>0.17</td>\n",
       "    </tr>\n",
       "    <tr>\n",
       "      <th rowspan=\"6\" valign=\"top\">2024-02-29</th>\n",
       "      <th>069500</th>\n",
       "      <td>35404</td>\n",
       "      <td>1</td>\n",
       "      <td>29</td>\n",
       "      <td>0.10</td>\n",
       "    </tr>\n",
       "    <tr>\n",
       "      <th>148070</th>\n",
       "      <td>110565</td>\n",
       "      <td>0</td>\n",
       "      <td>14</td>\n",
       "      <td>0.16</td>\n",
       "    </tr>\n",
       "    <tr>\n",
       "      <th>273130</th>\n",
       "      <td>109025</td>\n",
       "      <td>0</td>\n",
       "      <td>22</td>\n",
       "      <td>0.24</td>\n",
       "    </tr>\n",
       "    <tr>\n",
       "      <th>284430</th>\n",
       "      <td>12585</td>\n",
       "      <td>-8</td>\n",
       "      <td>123</td>\n",
       "      <td>0.16</td>\n",
       "    </tr>\n",
       "    <tr>\n",
       "      <th>379800</th>\n",
       "      <td>15300</td>\n",
       "      <td>-7</td>\n",
       "      <td>108</td>\n",
       "      <td>0.17</td>\n",
       "    </tr>\n",
       "    <tr>\n",
       "      <th>411060</th>\n",
       "      <td>12465</td>\n",
       "      <td>-3</td>\n",
       "      <td>131</td>\n",
       "      <td>0.17</td>\n",
       "    </tr>\n",
       "    <tr>\n",
       "      <th rowspan=\"6\" valign=\"top\">2024-04-30</th>\n",
       "      <th>069500</th>\n",
       "      <td>36650</td>\n",
       "      <td>-4</td>\n",
       "      <td>25</td>\n",
       "      <td>0.09</td>\n",
       "    </tr>\n",
       "    <tr>\n",
       "      <th>148070</th>\n",
       "      <td>109870</td>\n",
       "      <td>2</td>\n",
       "      <td>16</td>\n",
       "      <td>0.18</td>\n",
       "    </tr>\n",
       "    <tr>\n",
       "      <th>273130</th>\n",
       "      <td>109185</td>\n",
       "      <td>2</td>\n",
       "      <td>24</td>\n",
       "      <td>0.26</td>\n",
       "    </tr>\n",
       "    <tr>\n",
       "      <th>284430</th>\n",
       "      <td>12805</td>\n",
       "      <td>3</td>\n",
       "      <td>126</td>\n",
       "      <td>0.16</td>\n",
       "    </tr>\n",
       "    <tr>\n",
       "      <th>379800</th>\n",
       "      <td>16030</td>\n",
       "      <td>-10</td>\n",
       "      <td>98</td>\n",
       "      <td>0.16</td>\n",
       "    </tr>\n",
       "    <tr>\n",
       "      <th>411060</th>\n",
       "      <td>14800</td>\n",
       "      <td>-32</td>\n",
       "      <td>99</td>\n",
       "      <td>0.15</td>\n",
       "    </tr>\n",
       "    <tr>\n",
       "      <th rowspan=\"6\" valign=\"top\">2024-07-01</th>\n",
       "      <th>069500</th>\n",
       "      <td>38620</td>\n",
       "      <td>-4</td>\n",
       "      <td>21</td>\n",
       "      <td>0.08</td>\n",
       "    </tr>\n",
       "    <tr>\n",
       "      <th>148070</th>\n",
       "      <td>113225</td>\n",
       "      <td>0</td>\n",
       "      <td>16</td>\n",
       "      <td>0.18</td>\n",
       "    </tr>\n",
       "    <tr>\n",
       "      <th>273130</th>\n",
       "      <td>111595</td>\n",
       "      <td>0</td>\n",
       "      <td>24</td>\n",
       "      <td>0.27</td>\n",
       "    </tr>\n",
       "    <tr>\n",
       "      <th>284430</th>\n",
       "      <td>13260</td>\n",
       "      <td>-7</td>\n",
       "      <td>119</td>\n",
       "      <td>0.16</td>\n",
       "    </tr>\n",
       "    <tr>\n",
       "      <th>379800</th>\n",
       "      <td>17180</td>\n",
       "      <td>-8</td>\n",
       "      <td>90</td>\n",
       "      <td>0.16</td>\n",
       "    </tr>\n",
       "    <tr>\n",
       "      <th>411060</th>\n",
       "      <td>14755</td>\n",
       "      <td>-4</td>\n",
       "      <td>95</td>\n",
       "      <td>0.14</td>\n",
       "    </tr>\n",
       "  </tbody>\n",
       "</table>\n",
       "</div>"
      ],
      "text/plain": [
       "                    price  transaction  net weights\n",
       "date       asset                                   \n",
       "2024-01-02 069500   35851           28   28    0.10\n",
       "           148070  111170           14   14    0.16\n",
       "           273130  109235           22   22    0.24\n",
       "           284430   12660          131  131    0.17\n",
       "           379800   14030          115  115    0.16\n",
       "           411060   12445          134  134    0.17\n",
       "2024-02-29 069500   35404            1   29    0.10\n",
       "           148070  110565            0   14    0.16\n",
       "           273130  109025            0   22    0.24\n",
       "           284430   12585           -8  123    0.16\n",
       "           379800   15300           -7  108    0.17\n",
       "           411060   12465           -3  131    0.17\n",
       "2024-04-30 069500   36650           -4   25    0.09\n",
       "           148070  109870            2   16    0.18\n",
       "           273130  109185            2   24    0.26\n",
       "           284430   12805            3  126    0.16\n",
       "           379800   16030          -10   98    0.16\n",
       "           411060   14800          -32   99    0.15\n",
       "2024-07-01 069500   38620           -4   21    0.08\n",
       "           148070  113225            0   16    0.18\n",
       "           273130  111595            0   24    0.27\n",
       "           284430   13260           -7  119    0.16\n",
       "           379800   17180           -8   90    0.16\n",
       "           411060   14755           -4   95    0.14"
      ]
     },
     "execution_count": 207,
     "metadata": {},
     "output_type": "execute_result"
    }
   ],
   "source": [
    "#df = pf_etf.transaction_pipeline(date='2024-03-01', record=df)\n",
    "#df = pf_etf.transaction_pipeline(date='2024-05-01', record=df, save=True)\n",
    "df = pf_etf.transaction_pipeline(date='2024-07-01', save=False)\n",
    "df"
   ]
  },
  {
   "cell_type": "code",
   "execution_count": null,
   "id": "1a27b77a-54f6-40fe-918f-0273e22ab97e",
   "metadata": {},
   "outputs": [],
   "source": []
  }
 ],
 "metadata": {
  "kernelspec": {
   "display_name": "portfolio",
   "language": "python",
   "name": "portfolio"
  },
  "language_info": {
   "codemirror_mode": {
    "name": "ipython",
    "version": 3
   },
   "file_extension": ".py",
   "mimetype": "text/x-python",
   "name": "python",
   "nbconvert_exporter": "python",
   "pygments_lexer": "ipython3",
   "version": "3.12.1"
  }
 },
 "nbformat": 4,
 "nbformat_minor": 5
}
