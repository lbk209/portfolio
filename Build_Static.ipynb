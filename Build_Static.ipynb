{
 "cells": [
  {
   "cell_type": "markdown",
   "id": "e26ef3b1-e3e4-4673-8087-c5ab5c69c503",
   "metadata": {},
   "source": [
    "# Setting"
   ]
  },
  {
   "cell_type": "code",
   "execution_count": 1,
   "id": "c128f390-4a02-48f3-a3e3-9ad4ed198dcb",
   "metadata": {},
   "outputs": [
    {
     "name": "stderr",
     "output_type": "stream",
     "text": [
      "WARNING (pytensor.tensor.blas): Using NumPy C-API based implementation for BLAS functions.\n"
     ]
    }
   ],
   "source": [
    "from pf_utils import PortfolioManager as PM \n",
    "from pf_utils import BacktestManager\n",
    "from pf_widgets import WidgetUniverse, WidgetTransaction"
   ]
  },
  {
   "cell_type": "code",
   "execution_count": 2,
   "id": "f7aa63c0-40e0-40ed-a8cc-07675b15188e",
   "metadata": {},
   "outputs": [],
   "source": [
    "path_data = 'data'"
   ]
  },
  {
   "cell_type": "markdown",
   "id": "a8d53d5d-70fa-4f7b-bbf0-4dc9be5d4e70",
   "metadata": {},
   "source": [
    "# Universe"
   ]
  },
  {
   "cell_type": "code",
   "execution_count": 3,
   "id": "2a637fc4-a969-44be-88a4-39642a19ddc3",
   "metadata": {},
   "outputs": [
    {
     "name": "stdout",
     "output_type": "stream",
     "text": [
      "Universe: UV_K200, UV_KRX, UV_LIQ, UV_WTR, UV_ETF, UV_FUND, UV_FCTR\n"
     ]
    }
   ],
   "source": [
    "PM.review('universe')"
   ]
  },
  {
   "cell_type": "code",
   "execution_count": 4,
   "id": "772f7b2a-2a4e-44d1-8ed0-5e85e1e9da07",
   "metadata": {},
   "outputs": [
    {
     "data": {
      "text/plain": [
       "{'universe': 'etf',\n",
       " 'file': 'etfs_weather',\n",
       " 'tickers': 'ETF/KR',\n",
       " 'daily': True,\n",
       " 'path': 'data'}"
      ]
     },
     "execution_count": 4,
     "metadata": {},
     "output_type": "execute_result"
    }
   ],
   "source": [
    "PM.review_universe('UV_WTR')"
   ]
  },
  {
   "cell_type": "code",
   "execution_count": 5,
   "id": "fed359e1-b17b-42bc-94ab-2ff60852bfb4",
   "metadata": {},
   "outputs": [
    {
     "data": {
      "application/vnd.jupyter.widget-view+json": {
       "model_id": "fb8e96bc1e1d486080be784053436d49",
       "version_major": 2,
       "version_minor": 0
      },
      "text/plain": [
       "VBox(children=(Checkbox(value=False, description='Download', indent=False), Checkbox(value=False, description=…"
      ]
     },
     "execution_count": 5,
     "metadata": {},
     "output_type": "execute_result"
    }
   ],
   "source": [
    "WidgetUniverse"
   ]
  },
  {
   "cell_type": "markdown",
   "id": "5a42cdc9-d44a-4622-a0cc-d93f4a6536f8",
   "metadata": {},
   "source": [
    "## WTR"
   ]
  },
  {
   "cell_type": "code",
   "execution_count": 6,
   "id": "cefee704-9125-46b4-bd62-e94e6c3e7ab7",
   "metadata": {},
   "outputs": [
    {
     "data": {
      "text/plain": [
       "{'universe': 'etf',\n",
       " 'file': 'etfs_weather',\n",
       " 'upload_type': 'price',\n",
       " 'path': 'data'}"
      ]
     },
     "execution_count": 6,
     "metadata": {},
     "output_type": "execute_result"
    }
   ],
   "source": [
    "PM.review_universe('UV_WTR')"
   ]
  },
  {
   "cell_type": "code",
   "execution_count": 7,
   "id": "8aa50408-fd2b-45f5-81ed-6c1a2479eb77",
   "metadata": {},
   "outputs": [
    {
     "name": "stdout",
     "output_type": "stream",
     "text": [
      "10 assets from 2002-10-14 to 2024-06-11 uploaded.\n",
      "df_prices loaded\n"
     ]
    }
   ],
   "source": [
    "file = 'bt_etfs_weather_240611' # data for backtesting\n",
    "wtr = PM.create_universe('UV_WTR', file=file)"
   ]
  },
  {
   "cell_type": "code",
   "execution_count": 8,
   "id": "89a228bc-9a72-4c46-a6f2-a98c9f1b727a",
   "metadata": {},
   "outputs": [],
   "source": [
    "kw = dict(\n",
    "    n_years=20, \n",
    "    close_today = WidgetUniverse.values(1),\n",
    "    tickers='selected'\n",
    ")\n",
    "wtr.download(**kw) if WidgetUniverse.values(0) else None"
   ]
  },
  {
   "cell_type": "code",
   "execution_count": 9,
   "id": "e5be2f23-dac4-4b68-9934-edc16e0f3458",
   "metadata": {},
   "outputs": [
    {
     "data": {
      "text/html": [
       "<div>\n",
       "<style scoped>\n",
       "    .dataframe tbody tr th:only-of-type {\n",
       "        vertical-align: middle;\n",
       "    }\n",
       "\n",
       "    .dataframe tbody tr th {\n",
       "        vertical-align: top;\n",
       "    }\n",
       "\n",
       "    .dataframe thead th {\n",
       "        text-align: right;\n",
       "    }\n",
       "</style>\n",
       "<table border=\"1\" class=\"dataframe\">\n",
       "  <thead>\n",
       "    <tr style=\"text-align: right;\">\n",
       "      <th></th>\n",
       "      <th>name</th>\n",
       "      <th>start date</th>\n",
       "      <th>end date</th>\n",
       "      <th>n</th>\n",
       "    </tr>\n",
       "  </thead>\n",
       "  <tbody>\n",
       "    <tr>\n",
       "      <th>069500</th>\n",
       "      <td>KODEX 200</td>\n",
       "      <td>2002-10-14</td>\n",
       "      <td>2024-06-11</td>\n",
       "      <td>5354</td>\n",
       "    </tr>\n",
       "    <tr>\n",
       "      <th>148070</th>\n",
       "      <td>KOSEF 국고채10년</td>\n",
       "      <td>2011-10-20</td>\n",
       "      <td>2024-06-11</td>\n",
       "      <td>3113</td>\n",
       "    </tr>\n",
       "    <tr>\n",
       "      <th>261220</th>\n",
       "      <td>KODEX WTI원유선물(H)</td>\n",
       "      <td>2016-12-27</td>\n",
       "      <td>2024-06-11</td>\n",
       "      <td>1831</td>\n",
       "    </tr>\n",
       "    <tr>\n",
       "      <th>273130</th>\n",
       "      <td>KODEX 종합채권(AA-이상)액티브</td>\n",
       "      <td>2017-06-29</td>\n",
       "      <td>2024-06-11</td>\n",
       "      <td>1708</td>\n",
       "    </tr>\n",
       "    <tr>\n",
       "      <th>284430</th>\n",
       "      <td>KODEX 200미국채혼합</td>\n",
       "      <td>2017-11-30</td>\n",
       "      <td>2024-06-11</td>\n",
       "      <td>1605</td>\n",
       "    </tr>\n",
       "    <tr>\n",
       "      <th>305080</th>\n",
       "      <td>TIGER 미국채10년선물</td>\n",
       "      <td>2018-08-30</td>\n",
       "      <td>2024-06-11</td>\n",
       "      <td>1422</td>\n",
       "    </tr>\n",
       "    <tr>\n",
       "      <th>304660</th>\n",
       "      <td>KODEX 미국30년국채울트라선물(H)</td>\n",
       "      <td>2018-09-12</td>\n",
       "      <td>2024-06-11</td>\n",
       "      <td>1413</td>\n",
       "    </tr>\n",
       "    <tr>\n",
       "      <th>379800</th>\n",
       "      <td>KODEX 미국S&amp;P500TR</td>\n",
       "      <td>2021-04-09</td>\n",
       "      <td>2024-06-11</td>\n",
       "      <td>781</td>\n",
       "    </tr>\n",
       "    <tr>\n",
       "      <th>411060</th>\n",
       "      <td>ACE KRX금현물</td>\n",
       "      <td>2021-12-15</td>\n",
       "      <td>2024-06-11</td>\n",
       "      <td>611</td>\n",
       "    </tr>\n",
       "    <tr>\n",
       "      <th>453850</th>\n",
       "      <td>ACE 미국30년국채액티브(H)</td>\n",
       "      <td>2023-03-14</td>\n",
       "      <td>2024-06-11</td>\n",
       "      <td>305</td>\n",
       "    </tr>\n",
       "  </tbody>\n",
       "</table>\n",
       "</div>"
      ],
      "text/plain": [
       "                         name start date   end date     n\n",
       "069500              KODEX 200 2002-10-14 2024-06-11  5354\n",
       "148070           KOSEF 국고채10년 2011-10-20 2024-06-11  3113\n",
       "261220       KODEX WTI원유선물(H) 2016-12-27 2024-06-11  1831\n",
       "273130   KODEX 종합채권(AA-이상)액티브 2017-06-29 2024-06-11  1708\n",
       "284430         KODEX 200미국채혼합 2017-11-30 2024-06-11  1605\n",
       "305080         TIGER 미국채10년선물 2018-08-30 2024-06-11  1422\n",
       "304660  KODEX 미국30년국채울트라선물(H) 2018-09-12 2024-06-11  1413\n",
       "379800       KODEX 미국S&P500TR 2021-04-09 2024-06-11   781\n",
       "411060             ACE KRX금현물 2021-12-15 2024-06-11   611\n",
       "453850      ACE 미국30년국채액티브(H) 2023-03-14 2024-06-11   305"
      ]
     },
     "execution_count": 9,
     "metadata": {},
     "output_type": "execute_result"
    }
   ],
   "source": [
    "df_wtr = wtr.df_prices\n",
    "names_wtr = wtr.get_names()\n",
    "wtr.get_date_range()"
   ]
  },
  {
   "cell_type": "markdown",
   "id": "0b58be39-b2b9-4f1e-9524-65323108b247",
   "metadata": {},
   "source": [
    "## FCTR"
   ]
  },
  {
   "cell_type": "code",
   "execution_count": 6,
   "id": "2f2da5dd-3087-44bb-b889-b09f115398c4",
   "metadata": {},
   "outputs": [
    {
     "data": {
      "text/plain": [
       "{'universe': 'yahoo',\n",
       " 'file': 'etfs_factors',\n",
       " 'upload_type': 'price',\n",
       " 'path': 'data'}"
      ]
     },
     "execution_count": 6,
     "metadata": {},
     "output_type": "execute_result"
    }
   ],
   "source": [
    "PM.review_universe('UV_FCTR')"
   ]
  },
  {
   "cell_type": "code",
   "execution_count": 7,
   "id": "520efb1c-94c4-4fcf-ba4b-ce595289bc13",
   "metadata": {},
   "outputs": [
    {
     "name": "stdout",
     "output_type": "stream",
     "text": [
      "7 assets from 1993-01-29 to 2024-10-18 uploaded.\n",
      "df_prices loaded\n"
     ]
    }
   ],
   "source": [
    "file = 'bt_etfs_factors_241018' # data for backtesting\n",
    "fctr = PM.create_universe('UV_FCTR', file=file)"
   ]
  },
  {
   "cell_type": "code",
   "execution_count": 8,
   "id": "88affcb8-e527-46c4-b3d9-2b2cca637f60",
   "metadata": {},
   "outputs": [],
   "source": [
    "kw = dict(\n",
    "    n_years=3, \n",
    "    close_today = WidgetUniverse.values(1),\n",
    "    tickers='selected'\n",
    ")\n",
    "fctr.download(**kw) if WidgetUniverse.values(0) else None"
   ]
  },
  {
   "cell_type": "code",
   "execution_count": 9,
   "id": "7885dc8a-e2ee-4fad-ad8b-93ee79f0d1f9",
   "metadata": {},
   "outputs": [
    {
     "data": {
      "text/html": [
       "<div>\n",
       "<style scoped>\n",
       "    .dataframe tbody tr th:only-of-type {\n",
       "        vertical-align: middle;\n",
       "    }\n",
       "\n",
       "    .dataframe tbody tr th {\n",
       "        vertical-align: top;\n",
       "    }\n",
       "\n",
       "    .dataframe thead th {\n",
       "        text-align: right;\n",
       "    }\n",
       "</style>\n",
       "<table border=\"1\" class=\"dataframe\">\n",
       "  <thead>\n",
       "    <tr style=\"text-align: right;\">\n",
       "      <th></th>\n",
       "      <th>name</th>\n",
       "      <th>start date</th>\n",
       "      <th>end date</th>\n",
       "      <th>n</th>\n",
       "    </tr>\n",
       "  </thead>\n",
       "  <tbody>\n",
       "    <tr>\n",
       "      <th>SPY</th>\n",
       "      <td>SPDR S&amp;P 500 ETF Trust</td>\n",
       "      <td>1993-01-29</td>\n",
       "      <td>2024-10-18</td>\n",
       "      <td>7988</td>\n",
       "    </tr>\n",
       "    <tr>\n",
       "      <th>USMV</th>\n",
       "      <td>iShares MSCI USA Min Vol Factor ETF</td>\n",
       "      <td>2011-10-20</td>\n",
       "      <td>2024-10-18</td>\n",
       "      <td>3270</td>\n",
       "    </tr>\n",
       "    <tr>\n",
       "      <th>MTUM</th>\n",
       "      <td>iShares MSCI USA Momentum Factor ETF</td>\n",
       "      <td>2013-04-18</td>\n",
       "      <td>2024-10-18</td>\n",
       "      <td>2897</td>\n",
       "    </tr>\n",
       "    <tr>\n",
       "      <th>SIZE</th>\n",
       "      <td>iShares MSCI USA Size Factor ETF</td>\n",
       "      <td>2013-04-18</td>\n",
       "      <td>2024-10-18</td>\n",
       "      <td>2897</td>\n",
       "    </tr>\n",
       "    <tr>\n",
       "      <th>VLUE</th>\n",
       "      <td>iShares MSCI USA Value Factor ETF</td>\n",
       "      <td>2013-04-18</td>\n",
       "      <td>2024-10-18</td>\n",
       "      <td>2897</td>\n",
       "    </tr>\n",
       "    <tr>\n",
       "      <th>QUAL</th>\n",
       "      <td>iShares MSCI USA Quality Factor ETF</td>\n",
       "      <td>2013-07-18</td>\n",
       "      <td>2024-10-18</td>\n",
       "      <td>2834</td>\n",
       "    </tr>\n",
       "    <tr>\n",
       "      <th>LRGF</th>\n",
       "      <td>iShares U.S. Equity Factor ETF</td>\n",
       "      <td>2015-04-30</td>\n",
       "      <td>2024-10-18</td>\n",
       "      <td>2385</td>\n",
       "    </tr>\n",
       "  </tbody>\n",
       "</table>\n",
       "</div>"
      ],
      "text/plain": [
       "                                      name start date   end date     n\n",
       "SPY                 SPDR S&P 500 ETF Trust 1993-01-29 2024-10-18  7988\n",
       "USMV   iShares MSCI USA Min Vol Factor ETF 2011-10-20 2024-10-18  3270\n",
       "MTUM  iShares MSCI USA Momentum Factor ETF 2013-04-18 2024-10-18  2897\n",
       "SIZE      iShares MSCI USA Size Factor ETF 2013-04-18 2024-10-18  2897\n",
       "VLUE     iShares MSCI USA Value Factor ETF 2013-04-18 2024-10-18  2897\n",
       "QUAL   iShares MSCI USA Quality Factor ETF 2013-07-18 2024-10-18  2834\n",
       "LRGF        iShares U.S. Equity Factor ETF 2015-04-30 2024-10-18  2385"
      ]
     },
     "execution_count": 9,
     "metadata": {},
     "output_type": "execute_result"
    }
   ],
   "source": [
    "df_fctr = fctr.df_prices\n",
    "tickers = df_fctr.columns\n",
    "names_fctr = fctr.get_names(tickers)\n",
    "fctr.get_date_range()"
   ]
  },
  {
   "cell_type": "markdown",
   "id": "29a67d0b-1b8f-4c89-a996-86bdb10a1ff7",
   "metadata": {},
   "source": [
    "## FUND"
   ]
  },
  {
   "cell_type": "code",
   "execution_count": 6,
   "id": "8081d98a-2c9e-4bad-9398-c993b79b0d45",
   "metadata": {},
   "outputs": [
    {
     "data": {
      "text/plain": [
       "{'universe': 'fund',\n",
       " 'file': 'funds_prices',\n",
       " 'tickers': 'funds_info',\n",
       " 'daily': False,\n",
       " 'path': 'data'}"
      ]
     },
     "execution_count": 6,
     "metadata": {},
     "output_type": "execute_result"
    }
   ],
   "source": [
    "PM.review_universe('UV_FUND')"
   ]
  },
  {
   "cell_type": "code",
   "execution_count": 7,
   "id": "7cebca36-cc76-4bc5-b9b2-fc74c22b7273",
   "metadata": {},
   "outputs": [
    {
     "name": "stdout",
     "output_type": "stream",
     "text": [
      "64 securities from 2008-11-28 to 2024-10-31 uploaded.\n",
      "WARNING: the number of days in a year with 64 tickers (100%) is 12 in avg.\n",
      "REMINDER: 64 equities converted to daily (days in year: 365)\n",
      "Daily metrics in Performance statistics must be meaningless\n",
      "df_prices loaded\n"
     ]
    }
   ],
   "source": [
    "fund = PM.create_universe('UV_FUND')"
   ]
  },
  {
   "cell_type": "code",
   "execution_count": 8,
   "id": "ca9f04ca-7358-4f4e-99ca-0b31d1857ce6",
   "metadata": {},
   "outputs": [
    {
     "data": {
      "text/html": [
       "<div>\n",
       "<style scoped>\n",
       "    .dataframe tbody tr th:only-of-type {\n",
       "        vertical-align: middle;\n",
       "    }\n",
       "\n",
       "    .dataframe tbody tr th {\n",
       "        vertical-align: top;\n",
       "    }\n",
       "\n",
       "    .dataframe thead th {\n",
       "        text-align: right;\n",
       "    }\n",
       "</style>\n",
       "<table border=\"1\" class=\"dataframe\">\n",
       "  <thead>\n",
       "    <tr style=\"text-align: right;\">\n",
       "      <th></th>\n",
       "      <th>name</th>\n",
       "      <th>start date</th>\n",
       "      <th>end date</th>\n",
       "      <th>n</th>\n",
       "    </tr>\n",
       "  </thead>\n",
       "  <tbody>\n",
       "    <tr>\n",
       "      <th>KR5101888398</th>\n",
       "      <td>한국투자크레딧포커스ESG증권자투자신탁 1(채권)(C-e)</td>\n",
       "      <td>2008-11-28</td>\n",
       "      <td>2024-10-31</td>\n",
       "      <td>5817</td>\n",
       "    </tr>\n",
       "    <tr>\n",
       "      <th>K55301BU6139</th>\n",
       "      <td>미래에셋전략배분TDF2035혼합자산자투자신탁종류C-P2e</td>\n",
       "      <td>2017-09-29</td>\n",
       "      <td>2024-10-31</td>\n",
       "      <td>2590</td>\n",
       "    </tr>\n",
       "    <tr>\n",
       "      <th>K55301BU5453</th>\n",
       "      <td>미래에셋평생소득TIF혼합자산자투자신탁종류C-P2e</td>\n",
       "      <td>2017-10-31</td>\n",
       "      <td>2024-10-31</td>\n",
       "      <td>2558</td>\n",
       "    </tr>\n",
       "    <tr>\n",
       "      <th>K55303BT4176</th>\n",
       "      <td>마이다스아시아리더스성장주연금증권자투자신탁(UH)(주식)C-Pe2</td>\n",
       "      <td>2017-11-30</td>\n",
       "      <td>2024-10-31</td>\n",
       "      <td>2528</td>\n",
       "    </tr>\n",
       "    <tr>\n",
       "      <th>K55234BY9966</th>\n",
       "      <td>IBK베트남플러스아시아증권투자신탁[주식]종류C-Re</td>\n",
       "      <td>2017-12-29</td>\n",
       "      <td>2024-10-31</td>\n",
       "      <td>2499</td>\n",
       "    </tr>\n",
       "    <tr>\n",
       "      <th>...</th>\n",
       "      <td>...</td>\n",
       "      <td>...</td>\n",
       "      <td>...</td>\n",
       "      <td>...</td>\n",
       "    </tr>\n",
       "    <tr>\n",
       "      <th>K55101BT7397</th>\n",
       "      <td>한국투자TDF알아서2040증권투자신탁(주식혼합-재간접형)(C-Re)</td>\n",
       "      <td>2017-08-31</td>\n",
       "      <td>2024-10-31</td>\n",
       "      <td>2619</td>\n",
       "    </tr>\n",
       "    <tr>\n",
       "      <th>K55365BT3694</th>\n",
       "      <td>kcgi코리아퇴직연금증권자투자신탁(주식)종류C-Pe2</td>\n",
       "      <td>2017-08-31</td>\n",
       "      <td>2024-10-31</td>\n",
       "      <td>2619</td>\n",
       "    </tr>\n",
       "    <tr>\n",
       "      <th>K55207BU0715</th>\n",
       "      <td>교보악사파워인덱스증권자투자신탁1호(주식)C-Pe</td>\n",
       "      <td>2017-08-31</td>\n",
       "      <td>2024-10-31</td>\n",
       "      <td>2619</td>\n",
       "    </tr>\n",
       "    <tr>\n",
       "      <th>K55234DF2657</th>\n",
       "      <td>IBK로우코스트TDF2030증권자투자신탁[혼합-재간접형]종류C-Re</td>\n",
       "      <td>2021-04-30</td>\n",
       "      <td>2024-10-31</td>\n",
       "      <td>1281</td>\n",
       "    </tr>\n",
       "    <tr>\n",
       "      <th>K55301DW1763</th>\n",
       "      <td>미래에셋전략배분TDF2035혼합자산자투자신탁종류O</td>\n",
       "      <td>2022-12-30</td>\n",
       "      <td>2024-10-31</td>\n",
       "      <td>672</td>\n",
       "    </tr>\n",
       "  </tbody>\n",
       "</table>\n",
       "<p>64 rows × 4 columns</p>\n",
       "</div>"
      ],
      "text/plain": [
       "                                               name start date   end date  \\\n",
       "KR5101888398        한국투자크레딧포커스ESG증권자투자신탁 1(채권)(C-e) 2008-11-28 2024-10-31   \n",
       "K55301BU6139        미래에셋전략배분TDF2035혼합자산자투자신탁종류C-P2e 2017-09-29 2024-10-31   \n",
       "K55301BU5453            미래에셋평생소득TIF혼합자산자투자신탁종류C-P2e 2017-10-31 2024-10-31   \n",
       "K55303BT4176    마이다스아시아리더스성장주연금증권자투자신탁(UH)(주식)C-Pe2 2017-11-30 2024-10-31   \n",
       "K55234BY9966           IBK베트남플러스아시아증권투자신탁[주식]종류C-Re 2017-12-29 2024-10-31   \n",
       "...                                             ...        ...        ...   \n",
       "K55101BT7397  한국투자TDF알아서2040증권투자신탁(주식혼합-재간접형)(C-Re) 2017-08-31 2024-10-31   \n",
       "K55365BT3694          kcgi코리아퇴직연금증권자투자신탁(주식)종류C-Pe2 2017-08-31 2024-10-31   \n",
       "K55207BU0715             교보악사파워인덱스증권자투자신탁1호(주식)C-Pe 2017-08-31 2024-10-31   \n",
       "K55234DF2657  IBK로우코스트TDF2030증권자투자신탁[혼합-재간접형]종류C-Re 2021-04-30 2024-10-31   \n",
       "K55301DW1763            미래에셋전략배분TDF2035혼합자산자투자신탁종류O 2022-12-30 2024-10-31   \n",
       "\n",
       "                 n  \n",
       "KR5101888398  5817  \n",
       "K55301BU6139  2590  \n",
       "K55301BU5453  2558  \n",
       "K55303BT4176  2528  \n",
       "K55234BY9966  2499  \n",
       "...            ...  \n",
       "K55101BT7397  2619  \n",
       "K55365BT3694  2619  \n",
       "K55207BU0715  2619  \n",
       "K55234DF2657  1281  \n",
       "K55301DW1763   672  \n",
       "\n",
       "[64 rows x 4 columns]"
      ]
     },
     "execution_count": 8,
     "metadata": {},
     "output_type": "execute_result"
    }
   ],
   "source": [
    "df_fund = fund.df_prices\n",
    "names_fund = fund.get_names()\n",
    "fund.get_date_range().sort_values('end date')"
   ]
  },
  {
   "cell_type": "code",
   "execution_count": 9,
   "id": "b39755f5-ed92-4640-aada-9e84bd1eba06",
   "metadata": {},
   "outputs": [
    {
     "data": {
      "text/html": [
       "<div>\n",
       "<style scoped>\n",
       "    .dataframe tbody tr th:only-of-type {\n",
       "        vertical-align: middle;\n",
       "    }\n",
       "\n",
       "    .dataframe tbody tr th {\n",
       "        vertical-align: top;\n",
       "    }\n",
       "\n",
       "    .dataframe thead th {\n",
       "        text-align: right;\n",
       "    }\n",
       "</style>\n",
       "<table border=\"1\" class=\"dataframe\">\n",
       "  <thead>\n",
       "    <tr style=\"text-align: right;\">\n",
       "      <th></th>\n",
       "      <th>name</th>\n",
       "      <th>cagr</th>\n",
       "      <th>monthly_sharpe</th>\n",
       "    </tr>\n",
       "  </thead>\n",
       "  <tbody>\n",
       "    <tr>\n",
       "      <th>K55364CF7048</th>\n",
       "      <td>에셋플러스슈퍼아시아리치투게더증권자투자신탁 1(주식)종류C-P2e</td>\n",
       "      <td>0.24036</td>\n",
       "      <td>2.680667</td>\n",
       "    </tr>\n",
       "    <tr>\n",
       "      <th>K55234DF3317</th>\n",
       "      <td>IBK로우코스트TDF2055증권자투자신탁[혼합-재간접형]종류C-Re</td>\n",
       "      <td>0.200786</td>\n",
       "      <td>2.526401</td>\n",
       "    </tr>\n",
       "    <tr>\n",
       "      <th>K55303BT4176</th>\n",
       "      <td>마이다스아시아리더스성장주연금증권자투자신탁(UH)(주식)C-Pe2</td>\n",
       "      <td>0.193234</td>\n",
       "      <td>1.710696</td>\n",
       "    </tr>\n",
       "    <tr>\n",
       "      <th>K55234DF3150</th>\n",
       "      <td>IBK로우코스트TDF2050증권자투자신탁[혼합-재간접형]종류C-Re</td>\n",
       "      <td>0.191473</td>\n",
       "      <td>2.475409</td>\n",
       "    </tr>\n",
       "    <tr>\n",
       "      <th>K55210CO3828</th>\n",
       "      <td>신한마음편한TDF2050증권투자신탁[주식혼합-재간접형](종류C-re)</td>\n",
       "      <td>0.189969</td>\n",
       "      <td>1.982037</td>\n",
       "    </tr>\n",
       "    <tr>\n",
       "      <th>...</th>\n",
       "      <td>...</td>\n",
       "      <td>...</td>\n",
       "      <td>...</td>\n",
       "    </tr>\n",
       "    <tr>\n",
       "      <th>K55235BW6799</th>\n",
       "      <td>피델리티아시아증권자투자신탁(주식)CP-e</td>\n",
       "      <td>0.078651</td>\n",
       "      <td>0.796964</td>\n",
       "    </tr>\n",
       "    <tr>\n",
       "      <th>K55301BU5453</th>\n",
       "      <td>미래에셋평생소득TIF혼합자산자투자신탁종류C-P2e</td>\n",
       "      <td>0.074331</td>\n",
       "      <td>1.680127</td>\n",
       "    </tr>\n",
       "    <tr>\n",
       "      <th>KR5101888398</th>\n",
       "      <td>한국투자크레딧포커스ESG증권자투자신탁 1(채권)(C-e)</td>\n",
       "      <td>0.073361</td>\n",
       "      <td>4.503562</td>\n",
       "    </tr>\n",
       "    <tr>\n",
       "      <th>KR5223AE3357</th>\n",
       "      <td>kb퇴직연금배당증권자투자신탁(주식)C-E</td>\n",
       "      <td>0.047621</td>\n",
       "      <td>0.40316</td>\n",
       "    </tr>\n",
       "    <tr>\n",
       "      <th>K55306CV9946</th>\n",
       "      <td>다올글로벌멀티에셋인컴EMP증권자투자신탁[혼합-재간접형](공)종류Ce</td>\n",
       "      <td>0.044525</td>\n",
       "      <td>0.379284</td>\n",
       "    </tr>\n",
       "  </tbody>\n",
       "</table>\n",
       "<p>64 rows × 3 columns</p>\n",
       "</div>"
      ],
      "text/plain": [
       "                                                name      cagr monthly_sharpe\n",
       "K55364CF7048     에셋플러스슈퍼아시아리치투게더증권자투자신탁 1(주식)종류C-P2e   0.24036       2.680667\n",
       "K55234DF3317   IBK로우코스트TDF2055증권자투자신탁[혼합-재간접형]종류C-Re  0.200786       2.526401\n",
       "K55303BT4176     마이다스아시아리더스성장주연금증권자투자신탁(UH)(주식)C-Pe2  0.193234       1.710696\n",
       "K55234DF3150   IBK로우코스트TDF2050증권자투자신탁[혼합-재간접형]종류C-Re  0.191473       2.475409\n",
       "K55210CO3828  신한마음편한TDF2050증권투자신탁[주식혼합-재간접형](종류C-re)  0.189969       1.982037\n",
       "...                                              ...       ...            ...\n",
       "K55235BW6799                  피델리티아시아증권자투자신탁(주식)CP-e  0.078651       0.796964\n",
       "K55301BU5453             미래에셋평생소득TIF혼합자산자투자신탁종류C-P2e  0.074331       1.680127\n",
       "KR5101888398         한국투자크레딧포커스ESG증권자투자신탁 1(채권)(C-e)  0.073361       4.503562\n",
       "KR5223AE3357                  kb퇴직연금배당증권자투자신탁(주식)C-E  0.047621        0.40316\n",
       "K55306CV9946   다올글로벌멀티에셋인컴EMP증권자투자신탁[혼합-재간접형](공)종류Ce  0.044525       0.379284\n",
       "\n",
       "[64 rows x 3 columns]"
      ]
     },
     "execution_count": 9,
     "metadata": {},
     "output_type": "execute_result"
    }
   ],
   "source": [
    "#fund.performance('sharpe', 'year')\n",
    "fund.performance(['cagr', 'monthly_sharpe'], 'cagr')"
   ]
  },
  {
   "cell_type": "markdown",
   "id": "e621851c-45c7-4a93-9ca2-9e5a4783a5d9",
   "metadata": {},
   "source": [
    "# Parameter Study"
   ]
  },
  {
   "cell_type": "markdown",
   "id": "220fca0b-b7e0-44d2-af6b-6de6ae067de8",
   "metadata": {},
   "source": [
    "## WTR\n",
    "*modified all weather*"
   ]
  },
  {
   "cell_type": "code",
   "execution_count": 33,
   "id": "dd3d26e0-792f-4632-a0c7-393be00f8501",
   "metadata": {},
   "outputs": [
    {
     "data": {
      "text/html": [
       "<div>\n",
       "<style scoped>\n",
       "    .dataframe tbody tr th:only-of-type {\n",
       "        vertical-align: middle;\n",
       "    }\n",
       "\n",
       "    .dataframe tbody tr th {\n",
       "        vertical-align: top;\n",
       "    }\n",
       "\n",
       "    .dataframe thead th {\n",
       "        text-align: right;\n",
       "    }\n",
       "</style>\n",
       "<table border=\"1\" class=\"dataframe\">\n",
       "  <thead>\n",
       "    <tr style=\"text-align: right;\">\n",
       "      <th></th>\n",
       "      <th>name</th>\n",
       "      <th>start date</th>\n",
       "      <th>end date</th>\n",
       "      <th>n</th>\n",
       "    </tr>\n",
       "  </thead>\n",
       "  <tbody>\n",
       "    <tr>\n",
       "      <th>069500</th>\n",
       "      <td>KODEX 200</td>\n",
       "      <td>2002-10-14</td>\n",
       "      <td>2024-06-11</td>\n",
       "      <td>5354</td>\n",
       "    </tr>\n",
       "    <tr>\n",
       "      <th>273130</th>\n",
       "      <td>KODEX 종합채권(AA-이상)액티브</td>\n",
       "      <td>2017-06-29</td>\n",
       "      <td>2024-06-11</td>\n",
       "      <td>1708</td>\n",
       "    </tr>\n",
       "    <tr>\n",
       "      <th>148070</th>\n",
       "      <td>KOSEF 국고채10년</td>\n",
       "      <td>2011-10-20</td>\n",
       "      <td>2024-06-11</td>\n",
       "      <td>3113</td>\n",
       "    </tr>\n",
       "    <tr>\n",
       "      <th>379800</th>\n",
       "      <td>KODEX 미국S&amp;P500TR</td>\n",
       "      <td>2021-04-09</td>\n",
       "      <td>2024-06-11</td>\n",
       "      <td>781</td>\n",
       "    </tr>\n",
       "    <tr>\n",
       "      <th>411060</th>\n",
       "      <td>ACE KRX금현물</td>\n",
       "      <td>2021-12-15</td>\n",
       "      <td>2024-06-11</td>\n",
       "      <td>611</td>\n",
       "    </tr>\n",
       "    <tr>\n",
       "      <th>284430</th>\n",
       "      <td>KODEX 200미국채혼합</td>\n",
       "      <td>2017-11-30</td>\n",
       "      <td>2024-06-11</td>\n",
       "      <td>1605</td>\n",
       "    </tr>\n",
       "  </tbody>\n",
       "</table>\n",
       "</div>"
      ],
      "text/plain": [
       "                        name start date   end date     n\n",
       "069500             KODEX 200 2002-10-14 2024-06-11  5354\n",
       "273130  KODEX 종합채권(AA-이상)액티브 2017-06-29 2024-06-11  1708\n",
       "148070          KOSEF 국고채10년 2011-10-20 2024-06-11  3113\n",
       "379800      KODEX 미국S&P500TR 2021-04-09 2024-06-11   781\n",
       "411060            ACE KRX금현물 2021-12-15 2024-06-11   611\n",
       "284430        KODEX 200미국채혼합 2017-11-30 2024-06-11  1605"
      ]
     },
     "execution_count": 33,
     "metadata": {},
     "output_type": "execute_result"
    }
   ],
   "source": [
    "selected = ['069500', '273130', '148070', '379800', '411060', '284430']\n",
    "wtr.get_date_range().loc[selected]"
   ]
  },
  {
   "cell_type": "code",
   "execution_count": 34,
   "id": "5293fab5-dae2-4df0-9b0d-1eb82ba10142",
   "metadata": {},
   "outputs": [],
   "source": [
    "n_val = 260\n",
    "n_lb = 0\n",
    "df = df_wtr\n",
    "df_train = df.iloc[:-n_val]\n",
    "df_val = df.iloc[-n_val-n_lb:]"
   ]
  },
  {
   "cell_type": "code",
   "execution_count": 35,
   "id": "16e92131-bacb-4a97-809d-0d6b164b11ea",
   "metadata": {},
   "outputs": [],
   "source": [
    "kwargs_bm = dict(\n",
    "    initial_capital = 1e7,\n",
    "    commissions = 0,\n",
    "    align_axis = None, \n",
    "    days_in_year = 245,\n",
    "    security_names = names_wtr\n",
    ")"
   ]
  },
  {
   "cell_type": "markdown",
   "id": "fac160cf-d6fd-46eb-8cfd-1629237bf509",
   "metadata": {},
   "source": [
    "### Equal Weight"
   ]
  },
  {
   "cell_type": "markdown",
   "id": "9e48f313-7e20-4d15-b5e7-36b32014193f",
   "metadata": {},
   "source": [
    "#### Cross-validate"
   ]
  },
  {
   "cell_type": "code",
   "execution_count": 13,
   "id": "e1ee1df9-22b4-4435-adf8-cd64d8f4a6bd",
   "metadata": {},
   "outputs": [
    {
     "data": {
      "text/plain": [
       "{'name': 'ETF:f1m', 'freq': '1m'}"
      ]
     },
     "execution_count": 13,
     "metadata": {},
     "output_type": "execute_result"
    }
   ],
   "source": [
    "from itertools import product\n",
    "\n",
    "p_args = dict(\n",
    "    p_freq = ['1m', '6m', '1y']\n",
    ")\n",
    "p_comb = list(product(*p_args.values()))\n",
    "params = [{'name':f'WTR:f{x[0]}', 'freq':x[0]} \n",
    "            for x in p_comb]\n",
    "params[0]"
   ]
  },
  {
   "cell_type": "code",
   "execution_count": 14,
   "id": "bcd383ff-5347-4fb6-9a4d-e836e647b915",
   "metadata": {},
   "outputs": [
    {
     "name": "stdout",
     "output_type": "stream",
     "text": [
      "10 assets from 2002-10-14 to 2023-05-17 uploaded.\n",
      "running self.util_check_days_in_year to check days in a year\n",
      "WARNING: the number of days in a year with 10 assets (100%) is 246 in avg.\n"
     ]
    }
   ],
   "source": [
    "bm = BacktestManager(df_train, **kwargs_bm)"
   ]
  },
  {
   "cell_type": "code",
   "execution_count": 15,
   "id": "55296a22-e653-46f1-bd0f-6d2f69a80e1e",
   "metadata": {},
   "outputs": [
    {
     "name": "stdout",
     "output_type": "stream",
     "text": [
      "3 jobs prepared for cross-validation\n"
     ]
    }
   ],
   "source": [
    "kwa_list = params\n",
    "kwargs_build = dict(\n",
    "    select=selected, reset_portfolios=True, build_cv=True\n",
    ")\n",
    "bm.build_batch(*kwa_list, **kwargs_build)"
   ]
  },
  {
   "cell_type": "code",
   "execution_count": 16,
   "id": "bfebbb85-2e7e-4bc9-a34d-ba52adaf4bc4",
   "metadata": {},
   "outputs": [
    {
     "name": "stdout",
     "output_type": "stream",
     "text": [
      "Cross-validating 3 strategies: ETF:f1m, ETF:f6m, ETF:f1y\n"
     ]
    },
    {
     "name": "stderr",
     "output_type": "stream",
     "text": [
      "100%|███████████████████████████████████████████████████████████████| 20/20 [01:07<00:00,  3.35s/it]\n",
      "100%|███████████████████████████████████████████████████████████████| 20/20 [01:12<00:00,  3.63s/it]\n",
      "100%|███████████████████████████████████████████████████████████████| 20/20 [01:11<00:00,  3.58s/it]\n"
     ]
    },
    {
     "name": "stdout",
     "output_type": "stream",
     "text": [
      "3.6 mins elapsed, 0.0 secs paused (0.0%)\n"
     ]
    }
   ],
   "source": [
    "bm.cross_validate(n_sample=20)"
   ]
  },
  {
   "cell_type": "markdown",
   "id": "b1836f80-18de-424b-b2dc-81e8f06c610d",
   "metadata": {},
   "source": [
    "#### Visualize"
   ]
  },
  {
   "cell_type": "code",
   "execution_count": 18,
   "id": "55f8c454-1790-4025-bb50-71903861a12c",
   "metadata": {},
   "outputs": [],
   "source": [
    "file = 'param_weather_equal.csv'"
   ]
  },
  {
   "cell_type": "markdown",
   "id": "fe37b186-30ae-4870-a280-ee8ac5f2151c",
   "metadata": {},
   "source": [
    "*Save param study*"
   ]
  },
  {
   "cell_type": "code",
   "execution_count": 18,
   "id": "e805d9dc-e4b2-41e7-8ddd-cf5bbee0b80b",
   "metadata": {},
   "outputs": [
    {
     "name": "stdout",
     "output_type": "stream",
     "text": [
      "ERROR: failed to save as the file exists\n",
      "3 param sets with 20 iterations per set\n"
     ]
    }
   ],
   "source": [
    "f = dict(file=file, path=path_data)\n",
    "df_cv = bm.get_cat_data(params, **f)"
   ]
  },
  {
   "cell_type": "markdown",
   "id": "9fe83c59-b243-409f-b782-de5124a0017b",
   "metadata": {},
   "source": [
    "*Load param study*"
   ]
  },
  {
   "cell_type": "code",
   "execution_count": 19,
   "id": "e02b3661-cb92-44d7-8700-e057e1b04665",
   "metadata": {},
   "outputs": [
    {
     "name": "stdout",
     "output_type": "stream",
     "text": [
      "Returning data/param_weather_equal.csv\n",
      "3 param sets with 20 iterations per set\n"
     ]
    }
   ],
   "source": [
    "bm = BacktestManager\n",
    "df_cv = bm.catplot(file, path=path_data)"
   ]
  },
  {
   "cell_type": "code",
   "execution_count": null,
   "id": "e66b1043-72b7-4885-9e51-ee6d9be069ca",
   "metadata": {},
   "outputs": [],
   "source": [
    "y = 'cagr'\n",
    "#y = 'monthly_sharpe'\n",
    "ref_val = 's&p500'"
   ]
  },
  {
   "cell_type": "code",
   "execution_count": null,
   "id": "fed89b92-4536-49ca-bf0f-db6eb62ca21b",
   "metadata": {},
   "outputs": [
    {
     "name": "stdout",
     "output_type": "stream",
     "text": [
      "Returning cagr of s&p500 from 2002-10-14 to 2023-05-16\n"
     ]
    },
    {
     "data": {
      "image/png": "[encoded data removed]",
      "text/plain": [
       "<Figure size 371.111x300 with 1 Axes>"
      ]
     },
     "metadata": {},
     "output_type": "display_data"
    }
   ],
   "source": [
    "kw = {'x':'freq', 'kind':'box'}\n",
    "_ = bm.catplot(data=df_cv, y=y, ref_val=ref_val, height=3, aspect=1.2, **kw)"
   ]
  },
  {
   "cell_type": "markdown",
   "id": "ea5f6bc9-735a-4547-a629-fd382060d53f",
   "metadata": {},
   "source": [
    "### All Combinations"
   ]
  },
  {
   "cell_type": "code",
   "execution_count": 26,
   "id": "f0ea14d3-a59c-45a4-a2c8-e64c1d02b36a",
   "metadata": {},
   "outputs": [],
   "source": [
    "df_train = df_wtr"
   ]
  },
  {
   "cell_type": "markdown",
   "id": "67569caa-f7da-4771-af20-188766437adb",
   "metadata": {},
   "source": [
    "#### Cross-validate"
   ]
  },
  {
   "cell_type": "code",
   "execution_count": 27,
   "id": "0cdfa519-2117-42a3-9982-49018d3651bf",
   "metadata": {},
   "outputs": [
    {
     "data": {
      "text/plain": [
       "{'name': 'WTR:equally/lb6m/lg0/f1m',\n",
       " 'weigh': 'equally',\n",
       " 'lookback': '6m',\n",
       " 'lag': 0,\n",
       " 'freq': '1m'}"
      ]
     },
     "execution_count": 27,
     "metadata": {},
     "output_type": "execute_result"
    }
   ],
   "source": [
    "from itertools import product\n",
    "\n",
    "p_args = dict(\n",
    "    p_w = ['equally', 'erc', 'meanvar', 'invvol'],\n",
    "    p_lookback = ['6m', '1y'],\n",
    "    p_lag = [0],\n",
    "    p_freq = ['1m', '1q', '6m', '1y']\n",
    ")\n",
    "p_comb = list(product(*p_args.values()))\n",
    "params = [{'name':f'WTR:{x[0]}/lb{x[1]}/lg{x[2]}/f{x[3]}',\n",
    "           'weigh':x[0], 'lookback':x[1], 'lag':x[2], 'freq':x[3]} \n",
    "            for x in p_comb]\n",
    "params[0]"
   ]
  },
  {
   "cell_type": "code",
   "execution_count": 28,
   "id": "f9aec016-7f26-48a6-962a-f766bfcdfca7",
   "metadata": {},
   "outputs": [
    {
     "name": "stdout",
     "output_type": "stream",
     "text": [
      "10 assets from 2002-10-14 to 2024-06-11 uploaded.\n",
      "running self.util_check_days_in_year to check days in a year\n",
      "WARNING: the number of days in a year with 9 assets (90%) is 246 in avg.\n"
     ]
    }
   ],
   "source": [
    "bm = BacktestManager(df_train, **kwargs_bm)"
   ]
  },
  {
   "cell_type": "code",
   "execution_count": 29,
   "id": "1b30baf6-60ef-4ddd-905b-fcc74138de8d",
   "metadata": {},
   "outputs": [
    {
     "name": "stdout",
     "output_type": "stream",
     "text": [
      "32 jobs prepared for cross-validation\n"
     ]
    }
   ],
   "source": [
    "kwa_list = params\n",
    "kwargs_build = dict(\n",
    "    select=selected, reset_portfolios=True, build_cv=True\n",
    ")\n",
    "bm.build_batch(*kwa_list, **kwargs_build)"
   ]
  },
  {
   "cell_type": "code",
   "execution_count": 30,
   "id": "d190a256-5bfc-40fc-93a7-9d266d182f5f",
   "metadata": {
    "scrolled": true
   },
   "outputs": [
    {
     "name": "stdout",
     "output_type": "stream",
     "text": [
      "Cross-validating 32 strategies: WTR:equally/lb6m/lg0/f1m, WTR:equally/lb6m/lg0/f1q, ... , WTR:invvol/lb1y/lg0/f1y\n"
     ]
    },
    {
     "name": "stderr",
     "output_type": "stream",
     "text": [
      "100%|███████████████████████████████████████████████████████████████| 18/18 [00:51<00:00,  2.86s/it]\n",
      "100%|███████████████████████████████████████████████████████████████| 18/18 [00:52<00:00,  2.93s/it]\n",
      "100%|███████████████████████████████████████████████████████████████| 18/18 [00:54<00:00,  3.01s/it]\n",
      "100%|███████████████████████████████████████████████████████████████| 18/18 [00:53<00:00,  2.98s/it]\n",
      "100%|███████████████████████████████████████████████████████████████| 18/18 [00:59<00:00,  3.32s/it]\n",
      "100%|███████████████████████████████████████████████████████████████| 18/18 [01:01<00:00,  3.42s/it]\n",
      "100%|███████████████████████████████████████████████████████████████| 18/18 [01:05<00:00,  3.65s/it]\n",
      "100%|███████████████████████████████████████████████████████████████| 18/18 [01:02<00:00,  3.46s/it]\n",
      "100%|███████████████████████████████████████████████████████████████| 18/18 [01:11<00:00,  3.95s/it]\n",
      "100%|███████████████████████████████████████████████████████████████| 18/18 [01:04<00:00,  3.58s/it]\n",
      "100%|███████████████████████████████████████████████████████████████| 18/18 [01:04<00:00,  3.60s/it]\n",
      "100%|███████████████████████████████████████████████████████████████| 18/18 [01:04<00:00,  3.58s/it]\n",
      "100%|███████████████████████████████████████████████████████████████| 18/18 [01:10<00:00,  3.93s/it]\n",
      "100%|███████████████████████████████████████████████████████████████| 18/18 [01:00<00:00,  3.38s/it]\n",
      "100%|███████████████████████████████████████████████████████████████| 18/18 [00:56<00:00,  3.14s/it]\n",
      "100%|███████████████████████████████████████████████████████████████| 18/18 [01:01<00:00,  3.42s/it]\n",
      "100%|███████████████████████████████████████████████████████████████| 18/18 [01:18<00:00,  4.36s/it]\n",
      "100%|███████████████████████████████████████████████████████████████| 18/18 [01:06<00:00,  3.68s/it]\n",
      "100%|███████████████████████████████████████████████████████████████| 18/18 [01:05<00:00,  3.65s/it]\n",
      "100%|███████████████████████████████████████████████████████████████| 18/18 [00:59<00:00,  3.33s/it]\n",
      "100%|███████████████████████████████████████████████████████████████| 18/18 [01:12<00:00,  4.02s/it]\n",
      "100%|███████████████████████████████████████████████████████████████| 18/18 [01:02<00:00,  3.48s/it]\n",
      "100%|███████████████████████████████████████████████████████████████| 18/18 [01:01<00:00,  3.41s/it]\n",
      "100%|███████████████████████████████████████████████████████████████| 18/18 [01:01<00:00,  3.42s/it]\n",
      "100%|███████████████████████████████████████████████████████████████| 18/18 [01:05<00:00,  3.62s/it]\n",
      "100%|███████████████████████████████████████████████████████████████| 18/18 [01:02<00:00,  3.46s/it]\n",
      "100%|███████████████████████████████████████████████████████████████| 18/18 [01:05<00:00,  3.61s/it]\n",
      "100%|███████████████████████████████████████████████████████████████| 18/18 [01:02<00:00,  3.47s/it]\n",
      "100%|███████████████████████████████████████████████████████████████| 18/18 [01:04<00:00,  3.59s/it]\n",
      "100%|███████████████████████████████████████████████████████████████| 18/18 [01:02<00:00,  3.48s/it]\n",
      "100%|███████████████████████████████████████████████████████████████| 18/18 [00:54<00:00,  3.01s/it]\n",
      "100%|███████████████████████████████████████████████████████████████| 18/18 [01:00<00:00,  3.38s/it]\n"
     ]
    },
    {
     "name": "stdout",
     "output_type": "stream",
     "text": [
      "33.7 mins elapsed, 0.0 secs paused (0.0%)\n"
     ]
    }
   ],
   "source": [
    "kw_batch = dict(size_batch=40, path_batch=path_data)\n",
    "bm.cross_validate(n_sample=20, **kw_batch)"
   ]
  },
  {
   "cell_type": "markdown",
   "id": "5cf4ae3a-6876-4570-93c1-21323a528688",
   "metadata": {},
   "source": [
    "#### Visualize"
   ]
  },
  {
   "cell_type": "code",
   "execution_count": 26,
   "id": "d7678f9e-e7be-42a4-ae94-2d6a39a72f9d",
   "metadata": {},
   "outputs": [],
   "source": [
    "file = 'param_weather.csv'"
   ]
  },
  {
   "cell_type": "markdown",
   "id": "fb55fe7d-bfcf-4c31-a620-59da0cd56533",
   "metadata": {},
   "source": [
    "*Save param study*"
   ]
  },
  {
   "cell_type": "code",
   "execution_count": 32,
   "id": "29406419-247d-4e29-b9f9-505d4f90f23d",
   "metadata": {},
   "outputs": [
    {
     "name": "stdout",
     "output_type": "stream",
     "text": [
      "param_weather.csv saved\n",
      "32 param sets with 18 iterations per set\n"
     ]
    }
   ],
   "source": [
    "f = dict(file=file, path=path_data)\n",
    "df_cv = bm.get_cat_data(params, **f)"
   ]
  },
  {
   "cell_type": "markdown",
   "id": "bc9d63e0-a5d4-4580-a6ea-b0bf3adb4b72",
   "metadata": {},
   "source": [
    "*Load param study*"
   ]
  },
  {
   "cell_type": "code",
   "execution_count": 27,
   "id": "35034f9b-e0d2-4b97-a4d9-c2872078403a",
   "metadata": {},
   "outputs": [
    {
     "name": "stdout",
     "output_type": "stream",
     "text": [
      "Returning data/param_weather.csv\n",
      "32 param sets with 18 iterations per set\n"
     ]
    }
   ],
   "source": [
    "bm = BacktestManager\n",
    "df_cv = bm.catplot(file, path=path_data)"
   ]
  },
  {
   "cell_type": "code",
   "execution_count": null,
   "id": "9318b524-b286-48cb-9a3a-02dd6e9bd4ef",
   "metadata": {},
   "outputs": [],
   "source": [
    "#y = 'cagr'\n",
    "y = 'monthly_sharpe'\n",
    "ref_val = 's&p500'"
   ]
  },
  {
   "cell_type": "code",
   "execution_count": null,
   "id": "072590aa-8aca-418a-9efd-3b7ad607e7dc",
   "metadata": {},
   "outputs": [
    {
     "name": "stdout",
     "output_type": "stream",
     "text": [
      "Returning monthly_sharpe of s&p500 from 2002-10-14 to 2024-06-10\n"
     ]
    },
    {
     "data": {
      "image/png": "[encoded data removed]",
      "text/plain": [
       "<Figure size 971.111x300 with 4 Axes>"
      ]
     },
     "metadata": {},
     "output_type": "display_data"
    }
   ],
   "source": [
    "#kw = {'hue':'lookback', 'x':'freq', 'col':'weigh', 'kind':'violin', 'split':True}\n",
    "kw = {'x':'freq', 'col':'weigh', 'kind':'box'}\n",
    "_ = bm.catplot(data=df_cv, y=y, ref_val=ref_val, height=3, aspect=.8, **kw)"
   ]
  },
  {
   "cell_type": "markdown",
   "id": "31e7012c-a09e-4042-8590-fd8f6eccc586",
   "metadata": {},
   "source": [
    "#### Validation"
   ]
  },
  {
   "cell_type": "code",
   "execution_count": 48,
   "id": "4156cc56-25a5-4a27-a957-ea9abd6ee267",
   "metadata": {},
   "outputs": [],
   "source": [
    "n_val = 260\n",
    "df_val = df_wtr.iloc[-n_val:]"
   ]
  },
  {
   "cell_type": "code",
   "execution_count": 49,
   "id": "7eaa890c-52c2-439a-bfde-7ad01925ec98",
   "metadata": {},
   "outputs": [
    {
     "name": "stdout",
     "output_type": "stream",
     "text": [
      "10 assets from 2023-05-18 to 2024-06-11 uploaded.\n",
      "running self.util_check_days_in_year to check days in a year\n",
      "Benchmark is s&p500\n"
     ]
    }
   ],
   "source": [
    "bm = BacktestManager(df_val, **kwargs_bm)\n",
    "\n",
    "bm.benchmark_ticker(name='s&p500')"
   ]
  },
  {
   "cell_type": "code",
   "execution_count": 50,
   "id": "8490870d-21cd-4c17-813b-a7e4f3a1bc23",
   "metadata": {},
   "outputs": [],
   "source": [
    "# weigh, lookback(M), lag(D), freq(D)\n",
    "p_comb = [['equally', 0, 0, '1m'],['equally', 0, 0, '1q'],['equally', 0, 0, '1y']]\n",
    "kwa_list = [{'name':f'WTR:{x[0]}/lb{x[1]}/lg{x[2]}/f{x[3]}',\n",
    "           'weigh':x[0], 'lookback':x[1], 'lag':x[2], 'freq':x[3]} \n",
    "            for x in p_comb]"
   ]
  },
  {
   "cell_type": "code",
   "execution_count": 51,
   "id": "7daf0a19-ffd3-4579-9522-7e988bba41bf",
   "metadata": {},
   "outputs": [
    {
     "name": "stdout",
     "output_type": "stream",
     "text": [
      "Backtesting 4 strategies: s&p500, WTR:equally/lb0/lg0/f1m, WTR:equally/lb0/lg0/f1q, WTR:equally/lb0/lg0/f1y\n"
     ]
    },
    {
     "name": "stderr",
     "output_type": "stream",
     "text": [
      "100%|█████████████████████████████████████████████████████████████████| 4/4 [00:00<00:00, 10.29it/s]\n"
     ]
    },
    {
     "name": "stdout",
     "output_type": "stream",
     "text": [
      "Returning stats\n"
     ]
    },
    {
     "data": {
      "text/html": [
       "<div>\n",
       "<style scoped>\n",
       "    .dataframe tbody tr th:only-of-type {\n",
       "        vertical-align: middle;\n",
       "    }\n",
       "\n",
       "    .dataframe tbody tr th {\n",
       "        vertical-align: top;\n",
       "    }\n",
       "\n",
       "    .dataframe thead th {\n",
       "        text-align: right;\n",
       "    }\n",
       "</style>\n",
       "<table border=\"1\" class=\"dataframe\">\n",
       "  <thead>\n",
       "    <tr style=\"text-align: right;\">\n",
       "      <th></th>\n",
       "      <th>s&amp;p500</th>\n",
       "      <th>WTR:equally/lb0/lg0/f1y</th>\n",
       "      <th>WTR:equally/lb0/lg0/f1m</th>\n",
       "      <th>WTR:equally/lb0/lg0/f1q</th>\n",
       "    </tr>\n",
       "  </thead>\n",
       "  <tbody>\n",
       "    <tr>\n",
       "      <th>start</th>\n",
       "      <td>2023-05-17</td>\n",
       "      <td>2023-05-17</td>\n",
       "      <td>2023-05-17</td>\n",
       "      <td>2023-05-17</td>\n",
       "    </tr>\n",
       "    <tr>\n",
       "      <th>end</th>\n",
       "      <td>2024-06-10</td>\n",
       "      <td>2024-06-10</td>\n",
       "      <td>2024-06-10</td>\n",
       "      <td>2024-06-10</td>\n",
       "    </tr>\n",
       "    <tr>\n",
       "      <th>total_return</th>\n",
       "      <td>0.276965</td>\n",
       "      <td>0.067274</td>\n",
       "      <td>0.065888</td>\n",
       "      <td>0.064462</td>\n",
       "    </tr>\n",
       "    <tr>\n",
       "      <th>cagr</th>\n",
       "      <td>0.257305</td>\n",
       "      <td>0.062873</td>\n",
       "      <td>0.06158</td>\n",
       "      <td>0.06025</td>\n",
       "    </tr>\n",
       "    <tr>\n",
       "      <th>calmar</th>\n",
       "      <td>2.503847</td>\n",
       "      <td>1.275519</td>\n",
       "      <td>1.242609</td>\n",
       "      <td>1.221271</td>\n",
       "    </tr>\n",
       "    <tr>\n",
       "      <th>max_drawdown</th>\n",
       "      <td>-0.102764</td>\n",
       "      <td>-0.049292</td>\n",
       "      <td>-0.049557</td>\n",
       "      <td>-0.049334</td>\n",
       "    </tr>\n",
       "    <tr>\n",
       "      <th>avg_drawdown</th>\n",
       "      <td>-0.013855</td>\n",
       "      <td>-0.015095</td>\n",
       "      <td>-0.016645</td>\n",
       "      <td>-0.016762</td>\n",
       "    </tr>\n",
       "    <tr>\n",
       "      <th>avg_drawdown_days</th>\n",
       "      <td>10.214286</td>\n",
       "      <td>31.363636</td>\n",
       "      <td>34.3</td>\n",
       "      <td>34.3</td>\n",
       "    </tr>\n",
       "    <tr>\n",
       "      <th>daily_vol</th>\n",
       "      <td>0.115228</td>\n",
       "      <td>0.068728</td>\n",
       "      <td>0.068919</td>\n",
       "      <td>0.068943</td>\n",
       "    </tr>\n",
       "    <tr>\n",
       "      <th>daily_sharpe</th>\n",
       "      <td>2.188605</td>\n",
       "      <td>0.985515</td>\n",
       "      <td>0.964045</td>\n",
       "      <td>0.94424</td>\n",
       "    </tr>\n",
       "    <tr>\n",
       "      <th>daily_sortino</th>\n",
       "      <td>3.952271</td>\n",
       "      <td>1.580944</td>\n",
       "      <td>1.537543</td>\n",
       "      <td>1.50937</td>\n",
       "    </tr>\n",
       "    <tr>\n",
       "      <th>monthly_vol</th>\n",
       "      <td>0.146638</td>\n",
       "      <td>0.068929</td>\n",
       "      <td>0.071692</td>\n",
       "      <td>0.071058</td>\n",
       "    </tr>\n",
       "    <tr>\n",
       "      <th>monthly_sharpe</th>\n",
       "      <td>1.648381</td>\n",
       "      <td>1.004447</td>\n",
       "      <td>0.951344</td>\n",
       "      <td>0.941781</td>\n",
       "    </tr>\n",
       "    <tr>\n",
       "      <th>monthly_sortino</th>\n",
       "      <td>3.93222</td>\n",
       "      <td>2.194102</td>\n",
       "      <td>2.164277</td>\n",
       "      <td>2.128022</td>\n",
       "    </tr>\n",
       "  </tbody>\n",
       "</table>\n",
       "</div>"
      ],
      "text/plain": [
       "                       s&p500 WTR:equally/lb0/lg0/f1y WTR:equally/lb0/lg0/f1m  \\\n",
       "start              2023-05-17              2023-05-17              2023-05-17   \n",
       "end                2024-06-10              2024-06-10              2024-06-10   \n",
       "total_return         0.276965                0.067274                0.065888   \n",
       "cagr                 0.257305                0.062873                 0.06158   \n",
       "calmar               2.503847                1.275519                1.242609   \n",
       "max_drawdown        -0.102764               -0.049292               -0.049557   \n",
       "avg_drawdown        -0.013855               -0.015095               -0.016645   \n",
       "avg_drawdown_days   10.214286               31.363636                    34.3   \n",
       "daily_vol            0.115228                0.068728                0.068919   \n",
       "daily_sharpe         2.188605                0.985515                0.964045   \n",
       "daily_sortino        3.952271                1.580944                1.537543   \n",
       "monthly_vol          0.146638                0.068929                0.071692   \n",
       "monthly_sharpe       1.648381                1.004447                0.951344   \n",
       "monthly_sortino       3.93222                2.194102                2.164277   \n",
       "\n",
       "                  WTR:equally/lb0/lg0/f1q  \n",
       "start                          2023-05-17  \n",
       "end                            2024-06-10  \n",
       "total_return                     0.064462  \n",
       "cagr                              0.06025  \n",
       "calmar                           1.221271  \n",
       "max_drawdown                    -0.049334  \n",
       "avg_drawdown                    -0.016762  \n",
       "avg_drawdown_days                    34.3  \n",
       "daily_vol                        0.068943  \n",
       "daily_sharpe                      0.94424  \n",
       "daily_sortino                     1.50937  \n",
       "monthly_vol                      0.071058  \n",
       "monthly_sharpe                   0.941781  \n",
       "monthly_sortino                  2.128022  "
      ]
     },
     "execution_count": 51,
     "metadata": {},
     "output_type": "execute_result"
    },
    {
     "data": {
      "image/png": "[encoded data removed]",
      "text/plain": [
       "<Figure size 800x400 with 1 Axes>"
      ]
     },
     "metadata": {},
     "output_type": "display_data"
    }
   ],
   "source": [
    "kwargs_build = dict(\n",
    "    select='all'\n",
    ")\n",
    "bm.build_batch(*kwa_list, **kwargs_build)\n",
    "\n",
    "bm.run(stats_sort_by='cagr', figsize=(8,4))"
   ]
  },
  {
   "cell_type": "markdown",
   "id": "bbc48cfb-bec2-4b43-b8d6-289657360943",
   "metadata": {},
   "source": [
    "## FCTR"
   ]
  },
  {
   "cell_type": "markdown",
   "id": "f6e3eee8-4da2-4041-8928-de6a44393011",
   "metadata": {},
   "source": [
    "### All Factors"
   ]
  },
  {
   "cell_type": "code",
   "execution_count": 10,
   "id": "e06af29a-ae71-498e-b6e6-c42cd5413f34",
   "metadata": {},
   "outputs": [
    {
     "data": {
      "text/html": [
       "<div>\n",
       "<style scoped>\n",
       "    .dataframe tbody tr th:only-of-type {\n",
       "        vertical-align: middle;\n",
       "    }\n",
       "\n",
       "    .dataframe tbody tr th {\n",
       "        vertical-align: top;\n",
       "    }\n",
       "\n",
       "    .dataframe thead th {\n",
       "        text-align: right;\n",
       "    }\n",
       "</style>\n",
       "<table border=\"1\" class=\"dataframe\">\n",
       "  <thead>\n",
       "    <tr style=\"text-align: right;\">\n",
       "      <th></th>\n",
       "      <th>name</th>\n",
       "      <th>start date</th>\n",
       "      <th>end date</th>\n",
       "      <th>n</th>\n",
       "    </tr>\n",
       "  </thead>\n",
       "  <tbody>\n",
       "    <tr>\n",
       "      <th>MTUM</th>\n",
       "      <td>iShares MSCI USA Momentum Factor ETF</td>\n",
       "      <td>2013-04-18</td>\n",
       "      <td>2024-10-18</td>\n",
       "      <td>2897</td>\n",
       "    </tr>\n",
       "    <tr>\n",
       "      <th>QUAL</th>\n",
       "      <td>iShares MSCI USA Quality Factor ETF</td>\n",
       "      <td>2013-07-18</td>\n",
       "      <td>2024-10-18</td>\n",
       "      <td>2834</td>\n",
       "    </tr>\n",
       "    <tr>\n",
       "      <th>SIZE</th>\n",
       "      <td>iShares MSCI USA Size Factor ETF</td>\n",
       "      <td>2013-04-18</td>\n",
       "      <td>2024-10-18</td>\n",
       "      <td>2897</td>\n",
       "    </tr>\n",
       "    <tr>\n",
       "      <th>USMV</th>\n",
       "      <td>iShares MSCI USA Min Vol Factor ETF</td>\n",
       "      <td>2011-10-20</td>\n",
       "      <td>2024-10-18</td>\n",
       "      <td>3270</td>\n",
       "    </tr>\n",
       "    <tr>\n",
       "      <th>VLUE</th>\n",
       "      <td>iShares MSCI USA Value Factor ETF</td>\n",
       "      <td>2013-04-18</td>\n",
       "      <td>2024-10-18</td>\n",
       "      <td>2897</td>\n",
       "    </tr>\n",
       "  </tbody>\n",
       "</table>\n",
       "</div>"
      ],
      "text/plain": [
       "                                      name start date   end date     n\n",
       "MTUM  iShares MSCI USA Momentum Factor ETF 2013-04-18 2024-10-18  2897\n",
       "QUAL   iShares MSCI USA Quality Factor ETF 2013-07-18 2024-10-18  2834\n",
       "SIZE      iShares MSCI USA Size Factor ETF 2013-04-18 2024-10-18  2897\n",
       "USMV   iShares MSCI USA Min Vol Factor ETF 2011-10-20 2024-10-18  3270\n",
       "VLUE     iShares MSCI USA Value Factor ETF 2013-04-18 2024-10-18  2897"
      ]
     },
     "execution_count": 10,
     "metadata": {},
     "output_type": "execute_result"
    }
   ],
   "source": [
    "selected = ['MTUM','QUAL','SIZE','USMV','VLUE']\n",
    "fctr.get_date_range().loc[selected]"
   ]
  },
  {
   "cell_type": "code",
   "execution_count": 11,
   "id": "3501055b-c8a2-4dda-af44-2837215fd935",
   "metadata": {},
   "outputs": [],
   "source": [
    "n_val = 260\n",
    "n_lb = 260\n",
    "df = df_fctr\n",
    "df_train = df.iloc[:-n_val]\n",
    "df_val = df.iloc[-n_val-n_lb:]"
   ]
  },
  {
   "cell_type": "code",
   "execution_count": 12,
   "id": "529a3bb6-7c93-4b41-afdd-2ff53ccbe8b9",
   "metadata": {},
   "outputs": [],
   "source": [
    "kwargs_bm = dict(\n",
    "    initial_capital = 1e5, # USD\n",
    "    commissions = 0,\n",
    "    align_axis = 0, \n",
    "    days_in_year = 252,\n",
    "    security_names = names_fctr\n",
    ")"
   ]
  },
  {
   "cell_type": "markdown",
   "id": "183f0b66-090c-49e7-859b-41ed2fd6f4e2",
   "metadata": {},
   "source": [
    "#### Cross-validate"
   ]
  },
  {
   "cell_type": "code",
   "execution_count": 62,
   "id": "1fe8b9b2-c071-4577-8a6a-06422ec56ecb",
   "metadata": {},
   "outputs": [
    {
     "data": {
      "text/plain": [
       "{'name': 'FCTR:equally/lb6m/lg0/f1q',\n",
       " 'weigh': 'equally',\n",
       " 'lookback': '6m',\n",
       " 'lag': 0,\n",
       " 'freq': '1q'}"
      ]
     },
     "execution_count": 62,
     "metadata": {},
     "output_type": "execute_result"
    }
   ],
   "source": [
    "from itertools import product\n",
    "\n",
    "p_args = dict(\n",
    "    p_w = ['equally', 'erc', 'meanvar', 'invvol'],\n",
    "    p_lookback = ['6m', '1y'],\n",
    "    p_lag = [0, '1w', '1m'],\n",
    "    p_freq = ['1q', '6m', '1y']\n",
    ")\n",
    "p_comb = list(product(*p_args.values()))\n",
    "params = [{'name':f'FCTR:{x[0]}/lb{x[1]}/lg{x[2]}/f{x[3]}',\n",
    "           'weigh':x[0], 'lookback':x[1], 'lag':x[2], 'freq':x[3]} \n",
    "            for x in p_comb]\n",
    "params[0]"
   ]
  },
  {
   "cell_type": "code",
   "execution_count": 63,
   "id": "01a63b34-51c1-47b4-b4ae-baeac21f32e4",
   "metadata": {},
   "outputs": [
    {
     "name": "stdout",
     "output_type": "stream",
     "text": [
      "period reset: 2015-04-30 ~ 2023-10-06\n",
      "7 assets from 2015-04-30 to 2023-10-06 uploaded.\n",
      "running self.util_check_days_in_year to check days in a year\n"
     ]
    }
   ],
   "source": [
    "bm = BacktestManager(df_train, **kwargs_bm)"
   ]
  },
  {
   "cell_type": "code",
   "execution_count": 64,
   "id": "58474546-9b3b-4735-a7ab-7a3c06e90b6f",
   "metadata": {},
   "outputs": [
    {
     "name": "stdout",
     "output_type": "stream",
     "text": [
      "72 jobs prepared for cross-validation\n"
     ]
    }
   ],
   "source": [
    "kwa_list = params\n",
    "kwargs_build = dict(\n",
    "    select=selected, reset_portfolios=True, build_cv=True\n",
    ")\n",
    "bm.build_batch(*kwa_list, **kwargs_build)"
   ]
  },
  {
   "cell_type": "code",
   "execution_count": 118,
   "id": "61f8ab0f-e1ab-449a-ba6a-f9b193b83888",
   "metadata": {
    "scrolled": true
   },
   "outputs": [
    {
     "name": "stdout",
     "output_type": "stream",
     "text": [
      "Cross-validating 72 strategies: FACTOR:equally/lb6m/lg0/f1q, FACTOR:equally/lb6m/lg0/f6m, ... , FACTOR:invvol/lb1y/lg1m/f1y\n"
     ]
    },
    {
     "name": "stderr",
     "output_type": "stream",
     "text": [
      "100%|███████████████████████████████████████████████████████████████| 20/20 [00:17<00:00,  1.16it/s]\n",
      "100%|███████████████████████████████████████████████████████████████| 20/20 [00:17<00:00,  1.15it/s]\n",
      "100%|███████████████████████████████████████████████████████████████| 20/20 [00:17<00:00,  1.17it/s]\n",
      "100%|███████████████████████████████████████████████████████████████| 20/20 [00:17<00:00,  1.14it/s]\n",
      "100%|███████████████████████████████████████████████████████████████| 20/20 [00:18<00:00,  1.07it/s]\n",
      "100%|███████████████████████████████████████████████████████████████| 20/20 [00:18<00:00,  1.07it/s]\n",
      "100%|███████████████████████████████████████████████████████████████| 20/20 [00:15<00:00,  1.30it/s]\n",
      "100%|███████████████████████████████████████████████████████████████| 20/20 [00:15<00:00,  1.28it/s]\n",
      "100%|███████████████████████████████████████████████████████████████| 20/20 [00:15<00:00,  1.31it/s]\n",
      "100%|███████████████████████████████████████████████████████████████| 20/20 [00:16<00:00,  1.18it/s]\n",
      "100%|███████████████████████████████████████████████████████████████| 20/20 [00:16<00:00,  1.18it/s]\n",
      "100%|███████████████████████████████████████████████████████████████| 20/20 [00:16<00:00,  1.18it/s]\n",
      "100%|███████████████████████████████████████████████████████████████| 20/20 [00:16<00:00,  1.21it/s]\n",
      "100%|███████████████████████████████████████████████████████████████| 20/20 [00:16<00:00,  1.22it/s]\n",
      "100%|███████████████████████████████████████████████████████████████| 20/20 [00:16<00:00,  1.22it/s]\n",
      "100%|███████████████████████████████████████████████████████████████| 20/20 [00:14<00:00,  1.40it/s]\n",
      "100%|███████████████████████████████████████████████████████████████| 20/20 [00:14<00:00,  1.42it/s]\n",
      "100%|███████████████████████████████████████████████████████████████| 20/20 [00:14<00:00,  1.39it/s]\n",
      "100%|███████████████████████████████████████████████████████████████| 20/20 [00:19<00:00,  1.03it/s]\n",
      "100%|███████████████████████████████████████████████████████████████| 20/20 [00:18<00:00,  1.06it/s]\n",
      "100%|███████████████████████████████████████████████████████████████| 20/20 [00:18<00:00,  1.08it/s]\n",
      "100%|███████████████████████████████████████████████████████████████| 20/20 [00:19<00:00,  1.02it/s]\n",
      "100%|███████████████████████████████████████████████████████████████| 20/20 [00:18<00:00,  1.06it/s]\n",
      "100%|███████████████████████████████████████████████████████████████| 20/20 [00:18<00:00,  1.07it/s]\n",
      "100%|███████████████████████████████████████████████████████████████| 20/20 [00:15<00:00,  1.26it/s]\n",
      "100%|███████████████████████████████████████████████████████████████| 20/20 [00:15<00:00,  1.29it/s]\n",
      "100%|███████████████████████████████████████████████████████████████| 20/20 [00:15<00:00,  1.30it/s]\n",
      "100%|███████████████████████████████████████████████████████████████| 20/20 [00:17<00:00,  1.14it/s]\n",
      "100%|███████████████████████████████████████████████████████████████| 20/20 [00:17<00:00,  1.17it/s]\n",
      "100%|███████████████████████████████████████████████████████████████| 20/20 [00:16<00:00,  1.19it/s]\n",
      "100%|███████████████████████████████████████████████████████████████| 20/20 [00:17<00:00,  1.13it/s]\n",
      "100%|███████████████████████████████████████████████████████████████| 20/20 [00:17<00:00,  1.17it/s]\n",
      "100%|███████████████████████████████████████████████████████████████| 20/20 [00:16<00:00,  1.19it/s]\n",
      "100%|███████████████████████████████████████████████████████████████| 20/20 [00:14<00:00,  1.34it/s]\n",
      "100%|███████████████████████████████████████████████████████████████| 20/20 [00:14<00:00,  1.37it/s]\n",
      "100%|███████████████████████████████████████████████████████████████| 20/20 [00:14<00:00,  1.38it/s]\n",
      "100%|███████████████████████████████████████████████████████████████| 20/20 [00:20<00:00,  1.02s/it]\n",
      "100%|███████████████████████████████████████████████████████████████| 20/20 [00:19<00:00,  1.05it/s]\n",
      "100%|███████████████████████████████████████████████████████████████| 20/20 [00:18<00:00,  1.09it/s]\n",
      "100%|███████████████████████████████████████████████████████████████| 20/20 [00:20<00:00,  1.02s/it]\n",
      "100%|███████████████████████████████████████████████████████████████| 20/20 [00:19<00:00,  1.05it/s]\n",
      "100%|███████████████████████████████████████████████████████████████| 20/20 [00:18<00:00,  1.06it/s]\n",
      "100%|███████████████████████████████████████████████████████████████| 20/20 [00:16<00:00,  1.22it/s]\n",
      "100%|███████████████████████████████████████████████████████████████| 20/20 [00:15<00:00,  1.29it/s]\n",
      "100%|███████████████████████████████████████████████████████████████| 20/20 [00:15<00:00,  1.32it/s]\n",
      "100%|███████████████████████████████████████████████████████████████| 20/20 [00:18<00:00,  1.08it/s]\n",
      "100%|███████████████████████████████████████████████████████████████| 20/20 [00:17<00:00,  1.17it/s]\n",
      "100%|███████████████████████████████████████████████████████████████| 20/20 [00:16<00:00,  1.21it/s]\n",
      "100%|███████████████████████████████████████████████████████████████| 20/20 [00:18<00:00,  1.09it/s]\n",
      "100%|███████████████████████████████████████████████████████████████| 20/20 [00:17<00:00,  1.17it/s]\n",
      "100%|███████████████████████████████████████████████████████████████| 20/20 [00:16<00:00,  1.20it/s]\n",
      "100%|███████████████████████████████████████████████████████████████| 20/20 [00:15<00:00,  1.27it/s]\n",
      "100%|███████████████████████████████████████████████████████████████| 20/20 [00:14<00:00,  1.37it/s]\n",
      "100%|███████████████████████████████████████████████████████████████| 20/20 [00:14<00:00,  1.39it/s]\n",
      "100%|███████████████████████████████████████████████████████████████| 20/20 [00:19<00:00,  1.05it/s]\n",
      "100%|███████████████████████████████████████████████████████████████| 20/20 [00:18<00:00,  1.06it/s]\n",
      "100%|███████████████████████████████████████████████████████████████| 20/20 [00:18<00:00,  1.08it/s]\n",
      "100%|███████████████████████████████████████████████████████████████| 20/20 [00:19<00:00,  1.04it/s]\n",
      "100%|███████████████████████████████████████████████████████████████| 20/20 [00:18<00:00,  1.07it/s]\n",
      "100%|███████████████████████████████████████████████████████████████| 20/20 [00:18<00:00,  1.07it/s]\n",
      "100%|███████████████████████████████████████████████████████████████| 20/20 [00:15<00:00,  1.28it/s]\n",
      "100%|███████████████████████████████████████████████████████████████| 20/20 [00:15<00:00,  1.30it/s]\n",
      "100%|███████████████████████████████████████████████████████████████| 20/20 [00:15<00:00,  1.32it/s]\n",
      "100%|███████████████████████████████████████████████████████████████| 20/20 [00:17<00:00,  1.17it/s]\n",
      "100%|███████████████████████████████████████████████████████████████| 20/20 [00:16<00:00,  1.18it/s]\n",
      "100%|███████████████████████████████████████████████████████████████| 20/20 [00:16<00:00,  1.21it/s]\n",
      "100%|███████████████████████████████████████████████████████████████| 20/20 [00:17<00:00,  1.17it/s]\n",
      "100%|███████████████████████████████████████████████████████████████| 20/20 [00:17<00:00,  1.17it/s]\n",
      "100%|███████████████████████████████████████████████████████████████| 20/20 [00:16<00:00,  1.20it/s]\n",
      "100%|███████████████████████████████████████████████████████████████| 20/20 [00:14<00:00,  1.36it/s]\n",
      "100%|███████████████████████████████████████████████████████████████| 20/20 [00:14<00:00,  1.37it/s]\n",
      "100%|███████████████████████████████████████████████████████████████| 20/20 [00:14<00:00,  1.39it/s]\n"
     ]
    },
    {
     "name": "stdout",
     "output_type": "stream",
     "text": [
      "20.9 mins elapsed, 0.0 secs paused (0.0%)\n",
      "Temp batch files deleted\n"
     ]
    }
   ],
   "source": [
    "kw_batch = dict(size_batch=40, path_batch=path_data)\n",
    "bm.cross_validate(n_sample=20, **kw_batch)"
   ]
  },
  {
   "cell_type": "code",
   "execution_count": null,
   "id": "71c77981-a2ef-4b7c-876f-e1fd9cbb7f79",
   "metadata": {
    "scrolled": true
   },
   "outputs": [],
   "source": [
    "#bm.cross_validate(n_sample=20)"
   ]
  },
  {
   "cell_type": "markdown",
   "id": "8d1c1a04-5ed5-48a3-bef9-ccd465da9427",
   "metadata": {},
   "source": [
    "#### Visualize"
   ]
  },
  {
   "cell_type": "code",
   "execution_count": 13,
   "id": "26453c4f-24e9-48c7-a811-149173282fe3",
   "metadata": {},
   "outputs": [],
   "source": [
    "file = 'param_factor_ishares5.csv'"
   ]
  },
  {
   "cell_type": "markdown",
   "id": "9ea6ae20-221d-4cbd-aa17-159a4a9cab71",
   "metadata": {},
   "source": [
    "*Save param study*"
   ]
  },
  {
   "cell_type": "code",
   "execution_count": 120,
   "id": "9c91211c-bcb2-42ec-ace1-1fb88af542dc",
   "metadata": {},
   "outputs": [
    {
     "name": "stdout",
     "output_type": "stream",
     "text": [
      "data/param_factor_ishares.csv saved\n",
      "72 param sets with 20 iterations per set\n"
     ]
    }
   ],
   "source": [
    "f = dict(file=file, path=path_data)\n",
    "df_cv = bm.get_cat_data(params, **f)"
   ]
  },
  {
   "cell_type": "markdown",
   "id": "c1d28b0b-b5c0-4fcc-94ee-409eb474af0f",
   "metadata": {},
   "source": [
    "*Load param study*"
   ]
  },
  {
   "cell_type": "code",
   "execution_count": 14,
   "id": "f0a51c0e-187c-4084-8302-1bab319c031c",
   "metadata": {},
   "outputs": [
    {
     "name": "stdout",
     "output_type": "stream",
     "text": [
      "Returning data/param_factor_ishares.csv\n",
      "72 param sets with 20 iterations per set\n"
     ]
    }
   ],
   "source": [
    "bm = BacktestManager\n",
    "df_cv = bm.catplot(file, path=path_data)"
   ]
  },
  {
   "cell_type": "code",
   "execution_count": 25,
   "id": "c3a8f330-7a97-4d24-9763-95d56cdf8c70",
   "metadata": {},
   "outputs": [],
   "source": [
    "y = 'monthly_sharpe' #'cagr'\n",
    "ref_val = 's&p500'\n",
    "#ref_val = ('LRGF', 'yahoo')"
   ]
  },
  {
   "cell_type": "code",
   "execution_count": 26,
   "id": "99cf3a8b-a1f1-4b12-b6f0-7e9c7447dad0",
   "metadata": {},
   "outputs": [
    {
     "name": "stderr",
     "output_type": "stream",
     "text": [
      "[*********************100%***********************]  1 of 1 completed"
     ]
    },
    {
     "name": "stdout",
     "output_type": "stream",
     "text": [
      "Returning monthly_sharpe of Adj Close from 2015-04-29 to 2022-01-04\n"
     ]
    },
    {
     "name": "stderr",
     "output_type": "stream",
     "text": [
      "\n"
     ]
    },
    {
     "data": {
      "image/png": "[encoded data removed]",
      "text/plain": [
       "<Figure size 971.111x300 with 4 Axes>"
      ]
     },
     "metadata": {},
     "output_type": "display_data"
    }
   ],
   "source": [
    "#kw = {'x':'lookback', 'col':'weigh', 'row':'freq', 'kind':'box'}\n",
    "#kw = {'x':'freq', 'col':'weigh', 'row':'lookback', 'kind':'box'}\n",
    "#kw = {'x':'freq', 'col':'weigh', 'hue':'lookback', 'kind':'violin', 'split':True}\n",
    "kw = {'x':'freq', 'col':'weigh', 'kind':'box'}\n",
    "\n",
    "_ = bm.catplot(data=df_cv, y=y, ref_val=ref_val, height=3, aspect=.8, **kw)"
   ]
  },
  {
   "cell_type": "markdown",
   "id": "a357d905-8709-4ef4-ad4c-9434e0f9253a",
   "metadata": {},
   "source": [
    "#### Validation"
   ]
  },
  {
   "cell_type": "code",
   "execution_count": 13,
   "id": "007d021f-e439-479c-814c-24b11a4fde03",
   "metadata": {},
   "outputs": [
    {
     "name": "stdout",
     "output_type": "stream",
     "text": [
      "7 assets from 2022-09-26 to 2024-10-18 uploaded.\n",
      "running self.util_check_days_in_year to check days in a year\n",
      "WARNING: the number of days in a year with 7 assets (100%) is 250 in avg.\n"
     ]
    },
    {
     "name": "stderr",
     "output_type": "stream",
     "text": [
      "[*********************100%***********************]  1 of 1 completed"
     ]
    },
    {
     "name": "stdout",
     "output_type": "stream",
     "text": [
      "Benchmark is s&p500\n",
      "WARNING: name set to LRGF\n"
     ]
    },
    {
     "name": "stderr",
     "output_type": "stream",
     "text": [
      "\n"
     ]
    }
   ],
   "source": [
    "bm = BacktestManager(df_val, **kwargs_bm)\n",
    "\n",
    "bm.benchmark_ticker('s&p500')\n",
    "bm.benchmark('LRGF')"
   ]
  },
  {
   "cell_type": "code",
   "execution_count": 14,
   "id": "ce89ef9e-55a9-460b-b536-0242b4caa323",
   "metadata": {},
   "outputs": [],
   "source": [
    "# weigh, lookback(M), lag(D), freq(D)\n",
    "p_comb = [['equally', '1q', 0, 0], ['equally', '1y', 0, 0]]\n",
    "kwa_list = [{'name':f'FCTR:{x[0]}/lb{x[1]}/lg{x[2]}/f{x[3]}',\n",
    "           'weigh':x[0], 'lookback':x[1], 'lag':x[2], 'freq':x[3]} \n",
    "            for x in p_comb]"
   ]
  },
  {
   "cell_type": "code",
   "execution_count": 15,
   "id": "e4235502-dd13-4365-a7cb-8620af4fb72a",
   "metadata": {},
   "outputs": [
    {
     "data": {
      "text/plain": [
       "['MTUM', 'QUAL', 'SIZE', 'USMV', 'VLUE']"
      ]
     },
     "execution_count": 15,
     "metadata": {},
     "output_type": "execute_result"
    }
   ],
   "source": [
    "selected"
   ]
  },
  {
   "cell_type": "code",
   "execution_count": 16,
   "id": "b606436d-e8f5-453e-bf77-93c6d4162a88",
   "metadata": {},
   "outputs": [
    {
     "name": "stdout",
     "output_type": "stream",
     "text": [
      "Backtesting 4 strategies: s&p500, LRGF, FCTR:equally/lb1q/lg0/f0, FCTR:equally/lb1y/lg0/f0\n"
     ]
    },
    {
     "name": "stderr",
     "output_type": "stream",
     "text": [
      "100%|█████████████████████████████████████████████████████████████████| 4/4 [00:00<00:00,  4.74it/s]\n"
     ]
    },
    {
     "name": "stdout",
     "output_type": "stream",
     "text": [
      "Returning stats\n"
     ]
    },
    {
     "data": {
      "text/html": [
       "<div>\n",
       "<style scoped>\n",
       "    .dataframe tbody tr th:only-of-type {\n",
       "        vertical-align: middle;\n",
       "    }\n",
       "\n",
       "    .dataframe tbody tr th {\n",
       "        vertical-align: top;\n",
       "    }\n",
       "\n",
       "    .dataframe thead th {\n",
       "        text-align: right;\n",
       "    }\n",
       "</style>\n",
       "<table border=\"1\" class=\"dataframe\">\n",
       "  <thead>\n",
       "    <tr style=\"text-align: right;\">\n",
       "      <th></th>\n",
       "      <th>LRGF</th>\n",
       "      <th>s&amp;p500</th>\n",
       "      <th>FCTR:equally/lb1q/lg0/f0</th>\n",
       "      <th>FCTR:equally/lb1y/lg0/f0</th>\n",
       "    </tr>\n",
       "  </thead>\n",
       "  <tbody>\n",
       "    <tr>\n",
       "      <th>start</th>\n",
       "      <td>2022-09-25</td>\n",
       "      <td>2022-09-25</td>\n",
       "      <td>2022-09-25</td>\n",
       "      <td>2022-09-25</td>\n",
       "    </tr>\n",
       "    <tr>\n",
       "      <th>end</th>\n",
       "      <td>2024-10-17</td>\n",
       "      <td>2024-10-17</td>\n",
       "      <td>2024-10-17</td>\n",
       "      <td>2024-10-17</td>\n",
       "    </tr>\n",
       "    <tr>\n",
       "      <th>total_return</th>\n",
       "      <td>0.680369</td>\n",
       "      <td>0.64429</td>\n",
       "      <td>0.40722</td>\n",
       "      <td>0.341595</td>\n",
       "    </tr>\n",
       "    <tr>\n",
       "      <th>cagr</th>\n",
       "      <td>0.286278</td>\n",
       "      <td>0.272807</td>\n",
       "      <td>0.180224</td>\n",
       "      <td>0.153198</td>\n",
       "    </tr>\n",
       "    <tr>\n",
       "      <th>calmar</th>\n",
       "      <td>2.995093</td>\n",
       "      <td>2.739532</td>\n",
       "      <td>1.945216</td>\n",
       "      <td>1.991193</td>\n",
       "    </tr>\n",
       "    <tr>\n",
       "      <th>max_drawdown</th>\n",
       "      <td>-0.095582</td>\n",
       "      <td>-0.099581</td>\n",
       "      <td>-0.09265</td>\n",
       "      <td>-0.076938</td>\n",
       "    </tr>\n",
       "    <tr>\n",
       "      <th>avg_drawdown</th>\n",
       "      <td>-0.017578</td>\n",
       "      <td>-0.018307</td>\n",
       "      <td>-0.015482</td>\n",
       "      <td>-0.012978</td>\n",
       "    </tr>\n",
       "    <tr>\n",
       "      <th>avg_drawdown_days</th>\n",
       "      <td>12.978723</td>\n",
       "      <td>13.021277</td>\n",
       "      <td>13.219512</td>\n",
       "      <td>8.171429</td>\n",
       "    </tr>\n",
       "    <tr>\n",
       "      <th>daily_vol</th>\n",
       "      <td>0.152894</td>\n",
       "      <td>0.148968</td>\n",
       "      <td>0.113647</td>\n",
       "      <td>0.086296</td>\n",
       "    </tr>\n",
       "    <tr>\n",
       "      <th>daily_sharpe</th>\n",
       "      <td>1.725159</td>\n",
       "      <td>1.69585</td>\n",
       "      <td>1.516729</td>\n",
       "      <td>1.696929</td>\n",
       "    </tr>\n",
       "    <tr>\n",
       "      <th>daily_sortino</th>\n",
       "      <td>3.148602</td>\n",
       "      <td>3.088262</td>\n",
       "      <td>2.606004</td>\n",
       "      <td>2.820532</td>\n",
       "    </tr>\n",
       "    <tr>\n",
       "      <th>monthly_vol</th>\n",
       "      <td>0.137524</td>\n",
       "      <td>0.135845</td>\n",
       "      <td>0.117741</td>\n",
       "      <td>0.094796</td>\n",
       "    </tr>\n",
       "    <tr>\n",
       "      <th>monthly_sharpe</th>\n",
       "      <td>1.952169</td>\n",
       "      <td>1.910394</td>\n",
       "      <td>1.458106</td>\n",
       "      <td>1.541377</td>\n",
       "    </tr>\n",
       "    <tr>\n",
       "      <th>monthly_sortino</th>\n",
       "      <td>4.741082</td>\n",
       "      <td>4.4499</td>\n",
       "      <td>3.270255</td>\n",
       "      <td>3.747755</td>\n",
       "    </tr>\n",
       "  </tbody>\n",
       "</table>\n",
       "</div>"
      ],
      "text/plain": [
       "                         LRGF      s&p500 FCTR:equally/lb1q/lg0/f0  \\\n",
       "start              2022-09-25  2022-09-25               2022-09-25   \n",
       "end                2024-10-17  2024-10-17               2024-10-17   \n",
       "total_return         0.680369     0.64429                  0.40722   \n",
       "cagr                 0.286278    0.272807                 0.180224   \n",
       "calmar               2.995093    2.739532                 1.945216   \n",
       "max_drawdown        -0.095582   -0.099581                 -0.09265   \n",
       "avg_drawdown        -0.017578   -0.018307                -0.015482   \n",
       "avg_drawdown_days   12.978723   13.021277                13.219512   \n",
       "daily_vol            0.152894    0.148968                 0.113647   \n",
       "daily_sharpe         1.725159     1.69585                 1.516729   \n",
       "daily_sortino        3.148602    3.088262                 2.606004   \n",
       "monthly_vol          0.137524    0.135845                 0.117741   \n",
       "monthly_sharpe       1.952169    1.910394                 1.458106   \n",
       "monthly_sortino      4.741082      4.4499                 3.270255   \n",
       "\n",
       "                  FCTR:equally/lb1y/lg0/f0  \n",
       "start                           2022-09-25  \n",
       "end                             2024-10-17  \n",
       "total_return                      0.341595  \n",
       "cagr                              0.153198  \n",
       "calmar                            1.991193  \n",
       "max_drawdown                     -0.076938  \n",
       "avg_drawdown                     -0.012978  \n",
       "avg_drawdown_days                 8.171429  \n",
       "daily_vol                         0.086296  \n",
       "daily_sharpe                      1.696929  \n",
       "daily_sortino                     2.820532  \n",
       "monthly_vol                       0.094796  \n",
       "monthly_sharpe                    1.541377  \n",
       "monthly_sortino                   3.747755  "
      ]
     },
     "execution_count": 16,
     "metadata": {},
     "output_type": "execute_result"
    },
    {
     "data": {
      "image/png": "[encoded data removed]",
      "text/plain": [
       "<Figure size 800x400 with 1 Axes>"
      ]
     },
     "metadata": {},
     "output_type": "display_data"
    }
   ],
   "source": [
    "kwargs_build = dict(\n",
    "    select=selected\n",
    ")\n",
    "bm.build_batch(*kwa_list, **kwargs_build)\n",
    "\n",
    "bm.run(stats_sort_by='cagr', figsize=(8,4))"
   ]
  },
  {
   "cell_type": "markdown",
   "id": "76dd0b6b-e30d-49e2-9da4-d5a5482b1e00",
   "metadata": {},
   "source": [
    "### Selected"
   ]
  },
  {
   "cell_type": "code",
   "execution_count": 35,
   "id": "12ae001b-391c-46a2-9272-c47822a9fedb",
   "metadata": {},
   "outputs": [
    {
     "data": {
      "text/html": [
       "<div>\n",
       "<style scoped>\n",
       "    .dataframe tbody tr th:only-of-type {\n",
       "        vertical-align: middle;\n",
       "    }\n",
       "\n",
       "    .dataframe tbody tr th {\n",
       "        vertical-align: top;\n",
       "    }\n",
       "\n",
       "    .dataframe thead th {\n",
       "        text-align: right;\n",
       "    }\n",
       "</style>\n",
       "<table border=\"1\" class=\"dataframe\">\n",
       "  <thead>\n",
       "    <tr style=\"text-align: right;\">\n",
       "      <th></th>\n",
       "      <th>name</th>\n",
       "      <th>start date</th>\n",
       "      <th>end date</th>\n",
       "      <th>n</th>\n",
       "    </tr>\n",
       "  </thead>\n",
       "  <tbody>\n",
       "    <tr>\n",
       "      <th>QUAL</th>\n",
       "      <td>iShares MSCI USA Quality Factor ETF</td>\n",
       "      <td>2013-07-18</td>\n",
       "      <td>2024-10-18</td>\n",
       "      <td>2834</td>\n",
       "    </tr>\n",
       "    <tr>\n",
       "      <th>SIZE</th>\n",
       "      <td>iShares MSCI USA Size Factor ETF</td>\n",
       "      <td>2013-04-18</td>\n",
       "      <td>2024-10-18</td>\n",
       "      <td>2897</td>\n",
       "    </tr>\n",
       "    <tr>\n",
       "      <th>VLUE</th>\n",
       "      <td>iShares MSCI USA Value Factor ETF</td>\n",
       "      <td>2013-04-18</td>\n",
       "      <td>2024-10-18</td>\n",
       "      <td>2897</td>\n",
       "    </tr>\n",
       "  </tbody>\n",
       "</table>\n",
       "</div>"
      ],
      "text/plain": [
       "                                     name start date   end date     n\n",
       "QUAL  iShares MSCI USA Quality Factor ETF 2013-07-18 2024-10-18  2834\n",
       "SIZE     iShares MSCI USA Size Factor ETF 2013-04-18 2024-10-18  2897\n",
       "VLUE    iShares MSCI USA Value Factor ETF 2013-04-18 2024-10-18  2897"
      ]
     },
     "execution_count": 35,
     "metadata": {},
     "output_type": "execute_result"
    }
   ],
   "source": [
    "#selected = ['QUAL','SIZE','USMV','VLUE']\n",
    "selected = ['QUAL','SIZE','VLUE']\n",
    "fctr.get_date_range().loc[selected]"
   ]
  },
  {
   "cell_type": "code",
   "execution_count": 36,
   "id": "13b30545-5653-4b2a-a98c-d87a92e59a1c",
   "metadata": {},
   "outputs": [],
   "source": [
    "n_val = 260\n",
    "n_lb = 260\n",
    "df = df_fctr\n",
    "df_train = df.iloc[:-n_val]\n",
    "df_val = df.iloc[-n_val-n_lb:]"
   ]
  },
  {
   "cell_type": "code",
   "execution_count": 37,
   "id": "db384c4a-1d15-40e6-825b-f64bfc8e08b7",
   "metadata": {},
   "outputs": [],
   "source": [
    "kwargs_bm = dict(\n",
    "    initial_capital = 1e5, # USD\n",
    "    commissions = 0,\n",
    "    align_axis = 0, \n",
    "    days_in_year = 252,\n",
    "    security_names = names_fctr\n",
    ")"
   ]
  },
  {
   "cell_type": "markdown",
   "id": "78cb74db-6c74-4117-a0ce-b01b80aa3a17",
   "metadata": {},
   "source": [
    "#### Cross-validate"
   ]
  },
  {
   "cell_type": "code",
   "execution_count": 39,
   "id": "b796231a-bc0b-49ed-91a8-aa123e4f8ee4",
   "metadata": {},
   "outputs": [
    {
     "data": {
      "text/plain": [
       "{'name': 'FCTR:equally/lb0/lg0/f1q',\n",
       " 'weigh': 'equally',\n",
       " 'lookback': 0,\n",
       " 'lag': 0,\n",
       " 'freq': '1q'}"
      ]
     },
     "execution_count": 39,
     "metadata": {},
     "output_type": "execute_result"
    }
   ],
   "source": [
    "from itertools import product\n",
    "\n",
    "p_args = dict(\n",
    "    p_w = ['equally', 'erc', 'meanvar', 'invvol'],\n",
    "    p_lookback = ['6m', '1y'],\n",
    "    p_lag = [0, '1w', '1m'],\n",
    "    p_freq = ['1q', '6m', '1y']\n",
    ")\n",
    "p_args = dict(\n",
    "    p_w = ['equally'],\n",
    "    p_lookback = [0],\n",
    "    p_lag = [0],\n",
    "    p_freq = ['1q', '6m', '1y']\n",
    ")\n",
    "p_comb = list(product(*p_args.values()))\n",
    "params = [{'name':f'FCTR:{x[0]}/lb{x[1]}/lg{x[2]}/f{x[3]}',\n",
    "           'weigh':x[0], 'lookback':x[1], 'lag':x[2], 'freq':x[3]} \n",
    "            for x in p_comb]\n",
    "params[0]"
   ]
  },
  {
   "cell_type": "code",
   "execution_count": 40,
   "id": "3538bb3a-e50d-4f2f-9d34-fa10eb438ba7",
   "metadata": {},
   "outputs": [
    {
     "name": "stdout",
     "output_type": "stream",
     "text": [
      "period reset: 2015-04-30 ~ 2023-10-06\n",
      "7 assets from 2015-04-30 to 2023-10-06 uploaded.\n",
      "running self.util_check_days_in_year to check days in a year\n"
     ]
    }
   ],
   "source": [
    "bm = BacktestManager(df_train, **kwargs_bm)"
   ]
  },
  {
   "cell_type": "code",
   "execution_count": 41,
   "id": "1ee24384-eabb-4d2c-9c7d-a7a55f6658ea",
   "metadata": {},
   "outputs": [
    {
     "data": {
      "text/plain": [
       "['QUAL', 'SIZE', 'VLUE']"
      ]
     },
     "execution_count": 41,
     "metadata": {},
     "output_type": "execute_result"
    }
   ],
   "source": [
    "selected"
   ]
  },
  {
   "cell_type": "code",
   "execution_count": 42,
   "id": "e63a0ecc-c06d-4718-a168-c82b626d5d41",
   "metadata": {},
   "outputs": [
    {
     "name": "stdout",
     "output_type": "stream",
     "text": [
      "3 jobs prepared for cross-validation\n"
     ]
    }
   ],
   "source": [
    "kwa_list = params\n",
    "kwargs_build = dict(\n",
    "    select=selected, reset_portfolios=True, build_cv=True\n",
    ")\n",
    "bm.build_batch(*kwa_list, **kwargs_build)"
   ]
  },
  {
   "cell_type": "code",
   "execution_count": 43,
   "id": "8cc5f759-b357-4b19-a8f4-5349fd487530",
   "metadata": {
    "scrolled": true
   },
   "outputs": [
    {
     "name": "stdout",
     "output_type": "stream",
     "text": [
      "Cross-validating 3 strategies: FCTR:equally/lb0/lg0/f1q, FCTR:equally/lb0/lg0/f6m, FCTR:equally/lb0/lg0/f1y\n"
     ]
    },
    {
     "name": "stderr",
     "output_type": "stream",
     "text": [
      "100%|███████████████████████████████████████████████████████████████| 18/18 [00:24<00:00,  1.37s/it]\n",
      "100%|███████████████████████████████████████████████████████████████| 18/18 [00:24<00:00,  1.35s/it]\n",
      "100%|███████████████████████████████████████████████████████████████| 18/18 [00:24<00:00,  1.37s/it]\n"
     ]
    },
    {
     "name": "stdout",
     "output_type": "stream",
     "text": [
      "1.2 mins elapsed, 0.0 secs paused (0.0%)\n"
     ]
    }
   ],
   "source": [
    "kw_batch = dict(size_batch=40, path_batch=path_data)\n",
    "bm.cross_validate(n_sample=20, **kw_batch)"
   ]
  },
  {
   "cell_type": "markdown",
   "id": "4e25f837-a9a8-4891-ba3e-d266baee02b2",
   "metadata": {},
   "source": [
    "#### Visualize"
   ]
  },
  {
   "cell_type": "code",
   "execution_count": 44,
   "id": "eeaf2ab8-db64-4d31-a4aa-73a9437c6114",
   "metadata": {},
   "outputs": [],
   "source": [
    "#file = 'param_factor_ishares4.csv'\n",
    "file = 'param_factor_ishares3.csv'"
   ]
  },
  {
   "cell_type": "markdown",
   "id": "aea5c613-a481-4f92-9c70-8049f16e97e2",
   "metadata": {},
   "source": [
    "*Save param study*"
   ]
  },
  {
   "cell_type": "code",
   "execution_count": 45,
   "id": "a9d1b88e-891a-4363-9f2b-34e3d8c11fc7",
   "metadata": {},
   "outputs": [
    {
     "name": "stdout",
     "output_type": "stream",
     "text": [
      "param_factor_ishares3.csv saved\n",
      "3 param sets with 18 iterations per set\n"
     ]
    }
   ],
   "source": [
    "f = dict(file=file, path=path_data)\n",
    "df_cv = bm.get_cat_data(params, **f)"
   ]
  },
  {
   "cell_type": "markdown",
   "id": "90a28948-4618-4039-8578-bac0c0917622",
   "metadata": {},
   "source": [
    "*Load param study*"
   ]
  },
  {
   "cell_type": "code",
   "execution_count": 46,
   "id": "82d091be-3881-48c4-a476-81bee04c8d6d",
   "metadata": {},
   "outputs": [
    {
     "name": "stdout",
     "output_type": "stream",
     "text": [
      "Returning data/param_factor_ishares3.csv\n",
      "3 param sets with 18 iterations per set\n"
     ]
    }
   ],
   "source": [
    "bm = BacktestManager\n",
    "df_cv = bm.catplot(file, path=path_data)"
   ]
  },
  {
   "cell_type": "code",
   "execution_count": 49,
   "id": "d46a95eb-95cf-43fc-9821-53b1a85c0b8e",
   "metadata": {},
   "outputs": [],
   "source": [
    "y = 'monthly_sharpe' #'cagr'\n",
    "ref_val = 's&p500'\n",
    "#ref_val = ('LRGF', 'yahoo')"
   ]
  },
  {
   "cell_type": "code",
   "execution_count": 50,
   "id": "6acc7fd7-6553-4b9a-b3d4-a8e0aa6b507d",
   "metadata": {},
   "outputs": [
    {
     "name": "stderr",
     "output_type": "stream",
     "text": [
      "[*********************100%***********************]  1 of 1 completed"
     ]
    },
    {
     "name": "stdout",
     "output_type": "stream",
     "text": [
      "Returning monthly_sharpe of s&p500 from 2015-04-29 to 2023-10-05\n"
     ]
    },
    {
     "name": "stderr",
     "output_type": "stream",
     "text": [
      "\n"
     ]
    },
    {
     "data": {
      "image/png": "[encoded data removed]",
      "text/plain": [
       "<Figure size 251.111x300 with 1 Axes>"
      ]
     },
     "metadata": {},
     "output_type": "display_data"
    }
   ],
   "source": [
    "#kw = {'x':'lookback', 'col':'weigh', 'row':'freq', 'kind':'box'}\n",
    "#kw = {'x':'freq', 'col':'weigh', 'row':'lookback', 'kind':'box'}\n",
    "#kw = {'x':'freq', 'col':'weigh', 'hue':'lookback', 'kind':'violin', 'split':True}\n",
    "kw = {'x':'freq', 'col':'weigh', 'kind':'box'}\n",
    "\n",
    "_ = bm.catplot(data=df_cv, y=y, ref_val=ref_val, height=3, aspect=.8, **kw)"
   ]
  },
  {
   "cell_type": "markdown",
   "id": "bfd0a9f9-d39f-4817-999d-9af3771cc922",
   "metadata": {},
   "source": [
    "## TDF"
   ]
  },
  {
   "cell_type": "code",
   "execution_count": 36,
   "id": "3f6ecdf0-5101-4bd0-a32b-09429a3133f4",
   "metadata": {},
   "outputs": [],
   "source": [
    "#selected = ['K55301BU6139', 'K55206C95800']\n",
    "#fund.get_names(selected)"
   ]
  },
  {
   "cell_type": "code",
   "execution_count": 12,
   "id": "bb61b041-fec8-466a-8169-b64a56f02a39",
   "metadata": {},
   "outputs": [
    {
     "data": {
      "text/plain": [
       "48"
      ]
     },
     "execution_count": 12,
     "metadata": {},
     "output_type": "execute_result"
    }
   ],
   "source": [
    "names = fund.get_names()\n",
    "selected = [k for k,v in names.items() if 'tdf' in v.lower()]\n",
    "len(selected)"
   ]
  },
  {
   "cell_type": "code",
   "execution_count": 13,
   "id": "4fa13c44-a847-4aa4-b27b-6b6e8296daf9",
   "metadata": {},
   "outputs": [],
   "source": [
    "n_val = 300\n",
    "n_lb = 260\n",
    "df = df_fund[selected]\n",
    "df_train = df.iloc[:-n_val]\n",
    "df_val = df.iloc[-n_val-n_lb:]"
   ]
  },
  {
   "cell_type": "code",
   "execution_count": 20,
   "id": "9dcdf450-e692-4bc1-8b36-a30bbd6301ae",
   "metadata": {},
   "outputs": [
    {
     "data": {
      "text/plain": [
       "<Axes: >"
      ]
     },
     "execution_count": 20,
     "metadata": {},
     "output_type": "execute_result"
    },
    {
     "data": {
      "image/png": "[encoded data removed]",
      "text/plain": [
       "<Figure size 640x480 with 1 Axes>"
      ]
     },
     "metadata": {},
     "output_type": "display_data"
    }
   ],
   "source": [
    "df_val.iloc[:,:3].plot()"
   ]
  },
  {
   "cell_type": "code",
   "execution_count": 14,
   "id": "3195e23a-e4e5-46d3-be1a-a6ef2b0dd852",
   "metadata": {},
   "outputs": [],
   "source": [
    "kwargs_bm = dict(\n",
    "    initial_capital = 1e7,\n",
    "    commissions = 0,\n",
    "    align_axis = 0, \n",
    "    days_in_year = 365,\n",
    "    security_names = names_fund\n",
    ")"
   ]
  },
  {
   "cell_type": "markdown",
   "id": "1d55923f-8304-42ec-814e-b1559c24aa23",
   "metadata": {},
   "source": [
    "### Selected"
   ]
  },
  {
   "cell_type": "markdown",
   "id": "7ee4ff81-b62d-4139-89a8-24a159d81611",
   "metadata": {},
   "source": [
    "#### Cross-validate"
   ]
  },
  {
   "cell_type": "code",
   "execution_count": 71,
   "id": "02bdafcc-a000-4508-bd32-c449994a3944",
   "metadata": {},
   "outputs": [
    {
     "data": {
      "text/plain": [
       "{'name': 'IRP:equally/lb6m/lg0/f6m',\n",
       " 'weigh': 'equally',\n",
       " 'lookback': '6m',\n",
       " 'lag': 0,\n",
       " 'freq': '6m'}"
      ]
     },
     "execution_count": 71,
     "metadata": {},
     "output_type": "execute_result"
    }
   ],
   "source": [
    "from itertools import product\n",
    "\n",
    "p_args = dict(\n",
    "    p_w = ['equally', 'erc', 'meanvar', 'invvol'],\n",
    "    p_lookback = ['6m', '1y'],\n",
    "    p_lag = [0],\n",
    "    p_freq = ['6m', '1y']\n",
    ")\n",
    "p_comb = list(product(*p_args.values()))\n",
    "params = [{'name':f'IRP:{x[0]}/lb{x[1]}/lg{x[2]}/f{x[3]}',\n",
    "           'weigh':x[0], 'lookback':x[1], 'lag':x[2], 'freq':x[3]} \n",
    "            for x in p_comb]\n",
    "params[0]"
   ]
  },
  {
   "cell_type": "code",
   "execution_count": 72,
   "id": "8fcfa887-ee2f-4720-8b3b-203821fb7c43",
   "metadata": {},
   "outputs": [
    {
     "name": "stdout",
     "output_type": "stream",
     "text": [
      "period reset: 2019-01-31 ~ 2023-10-31\n",
      "14 assets from 2019-01-31 to 2023-10-31 uploaded.\n",
      "running self.util_check_days_in_year to check days in a year\n"
     ]
    }
   ],
   "source": [
    "bm = BacktestManager(df_train, **kwargs_bm)"
   ]
  },
  {
   "cell_type": "code",
   "execution_count": 73,
   "id": "098a7e55-3dfe-4fa3-91d4-02172f067bc3",
   "metadata": {},
   "outputs": [
    {
     "name": "stdout",
     "output_type": "stream",
     "text": [
      "16 jobs prepared for cross-validation\n"
     ]
    }
   ],
   "source": [
    "kwa_list = params\n",
    "kwargs_build = dict(\n",
    "    select=selected, reset_portfolios=True, build_cv=True\n",
    ")\n",
    "bm.build_batch(*kwa_list, **kwargs_build)"
   ]
  },
  {
   "cell_type": "code",
   "execution_count": 23,
   "id": "cda16c1d-ca80-414c-a31f-16fab062a779",
   "metadata": {
    "scrolled": true
   },
   "outputs": [
    {
     "name": "stdout",
     "output_type": "stream",
     "text": [
      "Cross-validating 16 strategies: IRP:equally/lb6m/lg0/f6m, IRP:equally/lb6m/lg0/f1y, ... , IRP:invvol/lb1y/lg0/f1y\n"
     ]
    },
    {
     "name": "stderr",
     "output_type": "stream",
     "text": [
      "100%|███████████████████████████████████████████████████████████████| 19/19 [00:19<00:00,  1.04s/it]\n",
      "100%|███████████████████████████████████████████████████████████████| 19/19 [00:25<00:00,  1.34s/it]\n",
      "100%|███████████████████████████████████████████████████████████████| 19/19 [00:28<00:00,  1.51s/it]\n",
      "100%|███████████████████████████████████████████████████████████████| 19/19 [00:27<00:00,  1.42s/it]\n",
      "100%|███████████████████████████████████████████████████████████████| 19/19 [00:35<00:00,  1.85s/it]\n",
      "100%|███████████████████████████████████████████████████████████████| 19/19 [00:23<00:00,  1.26s/it]\n",
      "100%|███████████████████████████████████████████████████████████████| 19/19 [00:21<00:00,  1.11s/it]\n",
      "100%|███████████████████████████████████████████████████████████████| 19/19 [00:21<00:00,  1.11s/it]\n",
      "100%|███████████████████████████████████████████████████████████████| 19/19 [00:24<00:00,  1.28s/it]\n",
      "100%|███████████████████████████████████████████████████████████████| 19/19 [00:21<00:00,  1.13s/it]\n",
      "100%|███████████████████████████████████████████████████████████████| 19/19 [00:19<00:00,  1.02s/it]\n",
      "100%|███████████████████████████████████████████████████████████████| 19/19 [00:19<00:00,  1.00s/it]\n",
      "100%|███████████████████████████████████████████████████████████████| 19/19 [00:21<00:00,  1.11s/it]\n",
      "100%|███████████████████████████████████████████████████████████████| 19/19 [00:20<00:00,  1.10s/it]\n",
      "100%|███████████████████████████████████████████████████████████████| 19/19 [00:19<00:00,  1.00s/it]\n",
      "100%|███████████████████████████████████████████████████████████████| 19/19 [00:18<00:00,  1.00it/s]\n"
     ]
    },
    {
     "name": "stdout",
     "output_type": "stream",
     "text": [
      "6.2 mins elapsed, 0.0 secs paused (0.0%)\n"
     ]
    }
   ],
   "source": [
    "bm.cross_validate(n_sample=20)"
   ]
  },
  {
   "cell_type": "markdown",
   "id": "aabce8dc-d6ae-4b60-8cd5-7c73f20b2f7f",
   "metadata": {},
   "source": [
    "#### Visualize"
   ]
  },
  {
   "cell_type": "code",
   "execution_count": 24,
   "id": "f11e5eea-9ce3-4bf3-b2f2-625d531a6c61",
   "metadata": {},
   "outputs": [],
   "source": [
    "file = 'param_irp_s1.csv'"
   ]
  },
  {
   "cell_type": "markdown",
   "id": "e2ad1ff7-a7e1-4108-843e-00f72f712360",
   "metadata": {},
   "source": [
    "*Save param study*"
   ]
  },
  {
   "cell_type": "code",
   "execution_count": 25,
   "id": "18b7543a-014a-4ed1-bfec-e044df522b8d",
   "metadata": {},
   "outputs": [
    {
     "name": "stdout",
     "output_type": "stream",
     "text": [
      "data/param_irp_s1.csv saved\n",
      "16 param sets with 19 iterations per set\n"
     ]
    }
   ],
   "source": [
    "f = dict(file=file, path=path_data)\n",
    "df_cv = bm.get_cat_data(params, **f)"
   ]
  },
  {
   "cell_type": "markdown",
   "id": "b867ef0a-0c45-4ef6-b7c8-96501ca0c6f1",
   "metadata": {},
   "source": [
    "*Load param study*"
   ]
  },
  {
   "cell_type": "code",
   "execution_count": 26,
   "id": "ee167cc5-df13-4306-a124-402f7bc049da",
   "metadata": {},
   "outputs": [
    {
     "name": "stdout",
     "output_type": "stream",
     "text": [
      "Returning data/param_irp_s1.csv\n",
      "16 param sets with 19 iterations per set\n"
     ]
    }
   ],
   "source": [
    "bm = BacktestManager\n",
    "df_cv = bm.catplot(file, path=path_data)"
   ]
  },
  {
   "cell_type": "code",
   "execution_count": 27,
   "id": "f960265f-9b6e-4b12-93ed-10047cbcb0dd",
   "metadata": {},
   "outputs": [
    {
     "name": "stdout",
     "output_type": "stream",
     "text": [
      "Returning cagr of s&p500 from 2019-01-29 to 2023-10-30\n"
     ]
    }
   ],
   "source": [
    "y = 'cagr'\n",
    "ref_val = bm.benchmark_stats(y, data=df_cv, name='s&p500')"
   ]
  },
  {
   "cell_type": "code",
   "execution_count": 28,
   "id": "8d433755-3024-4b76-a665-90a13872164f",
   "metadata": {},
   "outputs": [
    {
     "data": {
      "image/png": "[encoded data removed]",
      "text/plain": [
       "<Figure size 971.111x300 with 4 Axes>"
      ]
     },
     "metadata": {},
     "output_type": "display_data"
    }
   ],
   "source": [
    "#kw = {'x':'lookback', 'col':'weigh', 'row':'freq', 'kind':'box'}\n",
    "#kw = {'x':'lookback', 'col':'weigh', 'hue':'freq'}\n",
    "kw = {'x':'lookback', 'col':'weigh', 'kind':'box'}\n",
    "\n",
    "_ = bm.catplot(data=df_cv, y=y, ref_val=ref_val, height=3, aspect=.8, **kw)"
   ]
  },
  {
   "cell_type": "code",
   "execution_count": 29,
   "id": "08473900-92db-48a9-b532-139f787855f4",
   "metadata": {},
   "outputs": [
    {
     "name": "stdout",
     "output_type": "stream",
     "text": [
      "Returning monthly_sharpe of s&p500 from 2019-01-29 to 2023-10-30\n"
     ]
    },
    {
     "data": {
      "image/png": "[encoded data removed]",
      "text/plain": [
       "<Figure size 971.111x300 with 4 Axes>"
      ]
     },
     "metadata": {},
     "output_type": "display_data"
    }
   ],
   "source": [
    "y = 'monthly_sharpe'\n",
    "ref_val = bm.benchmark_stats(y, data=df_cv, name='s&p500')\n",
    "_ = bm.catplot(data=df_cv, y=y, ref_val=ref_val, height=3, aspect=.8, **kw)"
   ]
  },
  {
   "cell_type": "markdown",
   "id": "3e55bf4a-53eb-4aee-b536-732e4a6e8870",
   "metadata": {},
   "source": [
    "#### Validation"
   ]
  },
  {
   "cell_type": "code",
   "execution_count": 15,
   "id": "c4f53f9e-8f9f-4e21-aabc-38b37cb4bdba",
   "metadata": {},
   "outputs": [
    {
     "name": "stdout",
     "output_type": "stream",
     "text": [
      "48 securities from 2023-04-21 to 2024-10-31 uploaded.\n",
      "running self.util_check_days_in_year to check days in a year\n",
      "WARNING: the number of days in a year with 48 tickers (100%) is 366 in avg.\n"
     ]
    },
    {
     "name": "stderr",
     "output_type": "stream",
     "text": [
      "[*********************100%***********************]  1 of 1 completed\n"
     ]
    }
   ],
   "source": [
    "bm = BacktestManager(df_val, **kwargs_bm)\n",
    "\n",
    "bm.benchmark_ticker(name='kodex200')\n",
    "bm.benchmark_ticker(name='s&p500')"
   ]
  },
  {
   "cell_type": "code",
   "execution_count": 16,
   "id": "4935d5ea-4720-43b0-9108-aa7591ad1074",
   "metadata": {},
   "outputs": [],
   "source": [
    "# weigh, lookback(M), lag(D), freq(D)\n",
    "p_comb = [['equally', 0, 0, '6m'], ['equally', 0, 0, '1y']]\n",
    "kwa_list = [{'name':f'FACTOR:{x[0]}/lb{x[1]}/lg{x[2]}/f{x[3]}',\n",
    "           'weigh':x[0], 'lookback':x[1], 'lag':x[2], 'freq':x[3]} \n",
    "            for x in p_comb]"
   ]
  },
  {
   "cell_type": "code",
   "execution_count": 18,
   "id": "23402c8a-af91-43a8-8116-f6e7c6565727",
   "metadata": {},
   "outputs": [
    {
     "name": "stdout",
     "output_type": "stream",
     "text": [
      "Backtesting 4 strategies: kodex200, s&p500, FACTOR:equally/lb0/lg0/f6m, FACTOR:equally/lb0/lg0/f1y\n"
     ]
    },
    {
     "name": "stderr",
     "output_type": "stream",
     "text": [
      "100%|█████████████████████████████████████████████████████████████████| 4/4 [00:01<00:00,  2.92it/s]"
     ]
    },
    {
     "name": "stdout",
     "output_type": "stream",
     "text": [
      "Returning stats\n"
     ]
    },
    {
     "name": "stderr",
     "output_type": "stream",
     "text": [
      "\n"
     ]
    },
    {
     "data": {
      "text/html": [
       "<div>\n",
       "<style scoped>\n",
       "    .dataframe tbody tr th:only-of-type {\n",
       "        vertical-align: middle;\n",
       "    }\n",
       "\n",
       "    .dataframe tbody tr th {\n",
       "        vertical-align: top;\n",
       "    }\n",
       "\n",
       "    .dataframe thead th {\n",
       "        text-align: right;\n",
       "    }\n",
       "</style>\n",
       "<table border=\"1\" class=\"dataframe\">\n",
       "  <thead>\n",
       "    <tr style=\"text-align: right;\">\n",
       "      <th></th>\n",
       "      <th>s&amp;p500</th>\n",
       "      <th>FACTOR:equally/lb0/lg0/f1y</th>\n",
       "      <th>FACTOR:equally/lb0/lg0/f6m</th>\n",
       "      <th>kodex200</th>\n",
       "    </tr>\n",
       "  </thead>\n",
       "  <tbody>\n",
       "    <tr>\n",
       "      <th>start</th>\n",
       "      <td>2023-04-20</td>\n",
       "      <td>2023-04-20</td>\n",
       "      <td>2023-04-20</td>\n",
       "      <td>2023-04-20</td>\n",
       "    </tr>\n",
       "    <tr>\n",
       "      <th>end</th>\n",
       "      <td>2024-10-30</td>\n",
       "      <td>2024-10-30</td>\n",
       "      <td>2024-10-30</td>\n",
       "      <td>2024-10-30</td>\n",
       "    </tr>\n",
       "    <tr>\n",
       "      <th>total_return</th>\n",
       "      <td>0.436474</td>\n",
       "      <td>0.224652</td>\n",
       "      <td>0.224571</td>\n",
       "      <td>0.07192</td>\n",
       "    </tr>\n",
       "    <tr>\n",
       "      <th>cagr</th>\n",
       "      <td>0.267004</td>\n",
       "      <td>0.141583</td>\n",
       "      <td>0.141534</td>\n",
       "      <td>0.046425</td>\n",
       "    </tr>\n",
       "    <tr>\n",
       "      <th>calmar</th>\n",
       "      <td>2.67697</td>\n",
       "      <td>2.362292</td>\n",
       "      <td>2.362184</td>\n",
       "      <td>0.281978</td>\n",
       "    </tr>\n",
       "    <tr>\n",
       "      <th>max_drawdown</th>\n",
       "      <td>-0.099741</td>\n",
       "      <td>-0.059934</td>\n",
       "      <td>-0.059916</td>\n",
       "      <td>-0.16464</td>\n",
       "    </tr>\n",
       "    <tr>\n",
       "      <th>avg_drawdown</th>\n",
       "      <td>-0.014872</td>\n",
       "      <td>-0.036795</td>\n",
       "      <td>-0.036786</td>\n",
       "      <td>-0.030441</td>\n",
       "    </tr>\n",
       "    <tr>\n",
       "      <th>avg_drawdown_days</th>\n",
       "      <td>11.27027</td>\n",
       "      <td>77.5</td>\n",
       "      <td>77.5</td>\n",
       "      <td>24.0</td>\n",
       "    </tr>\n",
       "    <tr>\n",
       "      <th>daily_vol</th>\n",
       "      <td>0.123442</td>\n",
       "      <td>0.084269</td>\n",
       "      <td>0.084251</td>\n",
       "      <td>0.188027</td>\n",
       "    </tr>\n",
       "    <tr>\n",
       "      <th>daily_sharpe</th>\n",
       "      <td>2.116476</td>\n",
       "      <td>1.72519</td>\n",
       "      <td>1.724991</td>\n",
       "      <td>0.353238</td>\n",
       "    </tr>\n",
       "    <tr>\n",
       "      <th>daily_sortino</th>\n",
       "      <td>3.665582</td>\n",
       "      <td>4.072721</td>\n",
       "      <td>4.072761</td>\n",
       "      <td>0.546654</td>\n",
       "    </tr>\n",
       "    <tr>\n",
       "      <th>monthly_vol</th>\n",
       "      <td>0.125475</td>\n",
       "      <td>0.077033</td>\n",
       "      <td>0.077004</td>\n",
       "      <td>0.174428</td>\n",
       "    </tr>\n",
       "    <tr>\n",
       "      <th>monthly_sharpe</th>\n",
       "      <td>1.953464</td>\n",
       "      <td>1.665617</td>\n",
       "      <td>1.665638</td>\n",
       "      <td>0.405364</td>\n",
       "    </tr>\n",
       "    <tr>\n",
       "      <th>monthly_sortino</th>\n",
       "      <td>4.66264</td>\n",
       "      <td>4.027554</td>\n",
       "      <td>4.027683</td>\n",
       "      <td>0.899734</td>\n",
       "    </tr>\n",
       "  </tbody>\n",
       "</table>\n",
       "</div>"
      ],
      "text/plain": [
       "                       s&p500 FACTOR:equally/lb0/lg0/f1y  \\\n",
       "start              2023-04-20                 2023-04-20   \n",
       "end                2024-10-30                 2024-10-30   \n",
       "total_return         0.436474                   0.224652   \n",
       "cagr                 0.267004                   0.141583   \n",
       "calmar                2.67697                   2.362292   \n",
       "max_drawdown        -0.099741                  -0.059934   \n",
       "avg_drawdown        -0.014872                  -0.036795   \n",
       "avg_drawdown_days    11.27027                       77.5   \n",
       "daily_vol            0.123442                   0.084269   \n",
       "daily_sharpe         2.116476                    1.72519   \n",
       "daily_sortino        3.665582                   4.072721   \n",
       "monthly_vol          0.125475                   0.077033   \n",
       "monthly_sharpe       1.953464                   1.665617   \n",
       "monthly_sortino       4.66264                   4.027554   \n",
       "\n",
       "                  FACTOR:equally/lb0/lg0/f6m    kodex200  \n",
       "start                             2023-04-20  2023-04-20  \n",
       "end                               2024-10-30  2024-10-30  \n",
       "total_return                        0.224571     0.07192  \n",
       "cagr                                0.141534    0.046425  \n",
       "calmar                              2.362184    0.281978  \n",
       "max_drawdown                       -0.059916    -0.16464  \n",
       "avg_drawdown                       -0.036786   -0.030441  \n",
       "avg_drawdown_days                       77.5        24.0  \n",
       "daily_vol                           0.084251    0.188027  \n",
       "daily_sharpe                        1.724991    0.353238  \n",
       "daily_sortino                       4.072761    0.546654  \n",
       "monthly_vol                         0.077004    0.174428  \n",
       "monthly_sharpe                      1.665638    0.405364  \n",
       "monthly_sortino                     4.027683    0.899734  "
      ]
     },
     "execution_count": 18,
     "metadata": {},
     "output_type": "execute_result"
    },
    {
     "data": {
      "image/png": "[encoded data removed]",
      "text/plain": [
       "<Figure size 800x400 with 1 Axes>"
      ]
     },
     "metadata": {},
     "output_type": "display_data"
    }
   ],
   "source": [
    "kwargs_build = dict(\n",
    "    select=selected\n",
    ")\n",
    "bm.build_batch(*kwa_list, **kwargs_build)\n",
    "\n",
    "bm.run(stats_sort_by='cagr', figsize=(8,4))"
   ]
  },
  {
   "cell_type": "markdown",
   "id": "28ef8c83-e868-46ce-a172-6e381fb5d096",
   "metadata": {},
   "source": [
    "### Momentum"
   ]
  },
  {
   "cell_type": "code",
   "execution_count": 74,
   "id": "50f9fbf4-a36a-4952-9578-94d62e99718a",
   "metadata": {},
   "outputs": [
    {
     "data": {
      "text/plain": [
       "0) K55105BS5067: 삼성한국형TDF2040증권투자신탁H[주식혼합-재간접형]C-Pe\n",
       "1) K55203C53681: 대신KOSPI200인덱스증권자투자신탁(주식-파생형)CPe\n",
       "2) K55206C95800: 키움키워드림TDF2030증권투자신탁 1[혼합-재간접형]C-P2e(퇴직연금)\n",
       "3) K55206C96311: 키움키워드림TDF2045증권투자신탁 1[혼합-재간접형]C-P2e(퇴직연금)\n",
       "4) K55207BU0715: 교보악사파워인덱스증권자투자신탁1호(주식)C-Pe\n",
       "5) K55210BU2435: 신한마음편한TDF2040증권투자신탁[주식혼합-재간접형](종류C-re)\n",
       "6) K55213C51890: 한화LIFEPLUSTDF2040증권자투자신탁(혼합-재간접형)C-RPe(퇴직연금)\n",
       "7) K55223BT1450: KB온국민TDF2040증권투자신탁(주식혼합-재간접형)C-퇴직e\n",
       "8) K55234CJ0997: IBK플레인바닐라EMP증권투자신탁(혼합-재간접형)C-Re\n",
       "9) K55301BU5453: 미래에셋평생소득TIF혼합자산자투자신탁종류C-P2e\n",
       "10) K55301BU5479: 미래에셋전략배분TDF2045혼합자산자투자신탁 종류C-P2e\n",
       "11) K55301BU6139: 미래에셋전략배분TDF2035혼합자산자투자신탁종류C-P2e\n",
       "12) K55365BT3694: kcgi코리아퇴직연금증권자투자신탁(주식)종류C-Pe2\n",
       "13) KR5223AE3357: kb퇴직연금배당증권자투자신탁(주식)C-E"
      ]
     },
     "execution_count": 74,
     "metadata": {},
     "output_type": "execute_result"
    }
   ],
   "source": [
    "irp.get_names()"
   ]
  },
  {
   "cell_type": "markdown",
   "id": "7c7c3041-29fd-42cd-b19f-2d23e324d3e2",
   "metadata": {},
   "source": [
    "#### Cross-validate"
   ]
  },
  {
   "cell_type": "code",
   "execution_count": 52,
   "id": "9c602b43-b80c-4de4-9c42-48e49306a348",
   "metadata": {},
   "outputs": [
    {
     "data": {
      "text/plain": [
       "{'name': 'IRP:n2/lb6m/lg0/f6m',\n",
       " 'n_assets': 2,\n",
       " 'lookback': '6m',\n",
       " 'lag': 0,\n",
       " 'freq': '6m'}"
      ]
     },
     "execution_count": 52,
     "metadata": {},
     "output_type": "execute_result"
    }
   ],
   "source": [
    "from itertools import product\n",
    "\n",
    "p_args = dict(\n",
    "    p_n_tickers = [2, 4],\n",
    "    p_lookback = ['6m', '1y'],\n",
    "    p_lag = [0, '1m', '2m'],\n",
    "    p_freq = ['6m', '1y']\n",
    ")\n",
    "p_comb = list(product(*p_args.values()))\n",
    "params = [{'name':f'IRP:n{x[0]}/lb{x[1]}/lg{x[2]}/f{x[3]}',\n",
    "           'n_tickers':x[0], 'lookback':x[1], 'lag':x[2], 'freq':x[3]} \n",
    "            for x in p_comb]\n",
    "params[0]"
   ]
  },
  {
   "cell_type": "code",
   "execution_count": 53,
   "id": "04955372-6cf3-4b17-88b6-cd8f97b49400",
   "metadata": {},
   "outputs": [
    {
     "name": "stdout",
     "output_type": "stream",
     "text": [
      "period reset: 2019-01-31 ~ 2023-10-31\n",
      "14 assets from 2019-01-31 to 2023-10-31 uploaded.\n",
      "running self.util_check_days_in_year to check days in a year\n"
     ]
    }
   ],
   "source": [
    "bm = BacktestManager(df_train, **kwargs_bm)"
   ]
  },
  {
   "cell_type": "code",
   "execution_count": 54,
   "id": "63d915cd-5f14-4c64-95b1-7622daed2161",
   "metadata": {},
   "outputs": [
    {
     "name": "stdout",
     "output_type": "stream",
     "text": [
      "24 jobs prepared for cross-validation\n"
     ]
    }
   ],
   "source": [
    "kwa_list = params\n",
    "kwargs_build = dict(\n",
    "    select='Momentum', weigh='Equally', reset_portfolios=True, build_cv=True\n",
    ")\n",
    "bm.build_batch(*kwa_list, **kwargs_build)"
   ]
  },
  {
   "cell_type": "code",
   "execution_count": 55,
   "id": "8949534e-ba54-4c8f-85bc-70f3f46cb5e7",
   "metadata": {
    "scrolled": true
   },
   "outputs": [
    {
     "name": "stdout",
     "output_type": "stream",
     "text": [
      "Cross-validating 24 strategies: IRP:n2/lb6m/lg0/f6m, IRP:n2/lb6m/lg0/f1y, ... , IRP:n4/lb1y/lg2m/f1y\n"
     ]
    },
    {
     "name": "stderr",
     "output_type": "stream",
     "text": [
      "100%|███████████████████████████████████████████████████████████████| 19/19 [00:34<00:00,  1.79s/it]\n",
      "100%|███████████████████████████████████████████████████████████████| 19/19 [00:36<00:00,  1.91s/it]\n",
      "100%|███████████████████████████████████████████████████████████████| 19/19 [00:39<00:00,  2.05s/it]\n",
      "100%|███████████████████████████████████████████████████████████████| 19/19 [00:38<00:00,  2.04s/it]\n",
      "100%|███████████████████████████████████████████████████████████████| 19/19 [00:38<00:00,  2.03s/it]\n",
      "100%|███████████████████████████████████████████████████████████████| 19/19 [00:36<00:00,  1.94s/it]\n",
      "100%|███████████████████████████████████████████████████████████████| 19/19 [00:35<00:00,  1.86s/it]\n",
      "100%|███████████████████████████████████████████████████████████████| 19/19 [00:35<00:00,  1.85s/it]\n",
      "100%|███████████████████████████████████████████████████████████████| 19/19 [00:34<00:00,  1.84s/it]\n",
      "100%|███████████████████████████████████████████████████████████████| 19/19 [00:34<00:00,  1.83s/it]\n",
      "100%|███████████████████████████████████████████████████████████████| 19/19 [00:34<00:00,  1.82s/it]\n",
      "100%|███████████████████████████████████████████████████████████████| 19/19 [00:34<00:00,  1.81s/it]\n",
      "100%|███████████████████████████████████████████████████████████████| 19/19 [00:35<00:00,  1.88s/it]\n",
      "100%|███████████████████████████████████████████████████████████████| 19/19 [00:35<00:00,  1.88s/it]\n",
      "100%|███████████████████████████████████████████████████████████████| 19/19 [00:35<00:00,  1.87s/it]\n",
      "100%|███████████████████████████████████████████████████████████████| 19/19 [00:35<00:00,  1.86s/it]\n",
      "100%|███████████████████████████████████████████████████████████████| 19/19 [00:35<00:00,  1.84s/it]\n",
      "100%|███████████████████████████████████████████████████████████████| 19/19 [00:34<00:00,  1.84s/it]\n",
      "100%|███████████████████████████████████████████████████████████████| 19/19 [00:35<00:00,  1.87s/it]\n",
      "100%|███████████████████████████████████████████████████████████████| 19/19 [00:35<00:00,  1.87s/it]\n",
      "100%|███████████████████████████████████████████████████████████████| 19/19 [00:35<00:00,  1.86s/it]\n",
      "100%|███████████████████████████████████████████████████████████████| 19/19 [00:35<00:00,  1.85s/it]\n",
      "100%|███████████████████████████████████████████████████████████████| 19/19 [00:35<00:00,  1.84s/it]\n",
      "100%|███████████████████████████████████████████████████████████████| 19/19 [00:34<00:00,  1.83s/it]\n"
     ]
    },
    {
     "name": "stdout",
     "output_type": "stream",
     "text": [
      "14.4 mins elapsed, 0.0 secs paused (0.0%)\n"
     ]
    }
   ],
   "source": [
    "kw_batch = dict(size_batch=0, path_batch=path_data)\n",
    "bm.cross_validate(n_sample=20, **kw_batch)"
   ]
  },
  {
   "cell_type": "markdown",
   "id": "d053671c-4d43-4781-a43f-a88d60f2d615",
   "metadata": {},
   "source": [
    "#### Visualize"
   ]
  },
  {
   "cell_type": "code",
   "execution_count": 56,
   "id": "102131bb-61f1-4864-a625-84f7a699677d",
   "metadata": {},
   "outputs": [],
   "source": [
    "file = 'param_irp_s2.csv'"
   ]
  },
  {
   "cell_type": "markdown",
   "id": "3dce382c-0d13-4766-b030-56628ad5a6f1",
   "metadata": {},
   "source": [
    "*Save param study*"
   ]
  },
  {
   "cell_type": "code",
   "execution_count": 57,
   "id": "e9e089d3-afa6-4a05-80f6-5018ac2e3479",
   "metadata": {},
   "outputs": [
    {
     "name": "stdout",
     "output_type": "stream",
     "text": [
      "data/param_irp_s2.csv saved\n",
      "24 param sets with 19 iterations per set\n"
     ]
    }
   ],
   "source": [
    "f = dict(file=file, path=path_data)\n",
    "df_cv = bm.get_cat_data(params, **f)"
   ]
  },
  {
   "cell_type": "markdown",
   "id": "7fb8a8c3-b015-452a-9600-30cd1b686c93",
   "metadata": {},
   "source": [
    "*Load param study*"
   ]
  },
  {
   "cell_type": "code",
   "execution_count": 58,
   "id": "0f1bfdb3-4a86-41a7-8804-7fe6b71055a1",
   "metadata": {},
   "outputs": [
    {
     "name": "stdout",
     "output_type": "stream",
     "text": [
      "Returning data/param_irp_s2.csv\n",
      "24 param sets with 19 iterations per set\n"
     ]
    }
   ],
   "source": [
    "bm = BacktestManager\n",
    "df_cv = bm.catplot(file, path=path_data)"
   ]
  },
  {
   "cell_type": "code",
   "execution_count": 59,
   "id": "ea463e03-807e-4835-9a4a-4c83e7e77685",
   "metadata": {},
   "outputs": [],
   "source": [
    "#kw = {'row':'lookback', 'col':'n_tickers', 'x':'freq', 'kind':'box'}\n",
    "#kw = {'row':'lookback', 'col':'n_tickers', 'x':'freq', 'hue':'lag'}\n",
    "#kw = {'hue':'lookback', 'col':'n_tickers', 'x':'freq', 'row':'lag', 'kind':'violin', 'split':True}\n",
    "kw = {'hue':'lookback', 'col':'n_tickers', 'row':'freq', 'x':'lag', 'kind':'violin', 'split':True}"
   ]
  },
  {
   "cell_type": "code",
   "execution_count": 60,
   "id": "fcfde2e6-f394-4322-8c7d-38f14b967068",
   "metadata": {},
   "outputs": [
    {
     "name": "stdout",
     "output_type": "stream",
     "text": [
      "Returning cagr of s&p500 from 2019-01-29 to 2023-10-30\n"
     ]
    },
    {
     "data": {
      "image/png": "[encoded data removed]",
      "text/plain": [
       "<Figure size 730.5x600 with 4 Axes>"
      ]
     },
     "metadata": {},
     "output_type": "display_data"
    }
   ],
   "source": [
    "y = 'cagr'\n",
    "ref_val = bm.benchmark_stats(y, data=df_cv, name='s&p500')\n",
    "_ = bm.catplot(data=df_cv, y=y, ref_val=ref_val, height=3, aspect=1.1, **kw)"
   ]
  },
  {
   "cell_type": "markdown",
   "id": "138804e7-feb3-4921-b857-108c08d46550",
   "metadata": {},
   "source": [
    "#### Validation"
   ]
  },
  {
   "cell_type": "code",
   "execution_count": 65,
   "id": "1b9bd1b4-37d6-47d2-88d2-237b07077ed5",
   "metadata": {},
   "outputs": [
    {
     "data": {
      "text/plain": [
       "560"
      ]
     },
     "execution_count": 65,
     "metadata": {},
     "output_type": "execute_result"
    }
   ],
   "source": [
    "len(df_val)"
   ]
  },
  {
   "cell_type": "code",
   "execution_count": 61,
   "id": "7cb833db-d544-4185-b36b-d5579b2ae7ca",
   "metadata": {},
   "outputs": [],
   "source": [
    "kwargs_bm = dict(\n",
    "    initial_capital = 1e7,\n",
    "    commissions = 0,\n",
    "    align_axis = None, \n",
    "    days_in_year = 365,\n",
    "    security_names = names_irp\n",
    ")"
   ]
  },
  {
   "cell_type": "code",
   "execution_count": 62,
   "id": "d4936e1d-6d8f-4083-b699-dbfe5b357aba",
   "metadata": {},
   "outputs": [
    {
     "name": "stdout",
     "output_type": "stream",
     "text": [
      "14 assets from 2023-02-14 to 2024-08-26 uploaded.\n",
      "running self.util_check_days_in_year to check days in a year\n",
      "WARNING: the number of days in a year with 14 assets (100%) is 366 in avg.\n",
      "Benchmark is kodex200\n",
      "Benchmark is s&p500\n"
     ]
    }
   ],
   "source": [
    "bm = BacktestManager(df_val, **kwargs_bm)\n",
    "\n",
    "bm.benchmark_ticker(name='kodex200')\n",
    "bm.benchmark_ticker(name='s&p500')"
   ]
  },
  {
   "cell_type": "code",
   "execution_count": 63,
   "id": "f9352026-e5dd-408f-b8a9-63b5075131f8",
   "metadata": {},
   "outputs": [],
   "source": [
    "# n, lookback(M), lag(D), freq(D)\n",
    "p_comb = [[4, '1y', 0, '6m']]\n",
    "kwa_list = [{'name':f'FACTOR:n{x[0]}/lb{x[1]}/lg{x[2]}/f{x[3]}',\n",
    "           'n_tickers':x[0], 'lookback':x[1], 'lag':x[2], 'freq':x[3]} \n",
    "            for x in p_comb]"
   ]
  },
  {
   "cell_type": "code",
   "execution_count": 64,
   "id": "72c7d936-e7c9-4622-99bf-91b79f4b632d",
   "metadata": {},
   "outputs": [
    {
     "name": "stdout",
     "output_type": "stream",
     "text": [
      "Backtesting 3 strategies: kodex200, s&p500, FACTOR:n4/lb1y/lg0/f6m\n"
     ]
    },
    {
     "name": "stderr",
     "output_type": "stream",
     "text": [
      "100%|█████████████████████████████████████████████████████████████████| 3/3 [00:00<00:00,  3.67it/s]"
     ]
    },
    {
     "name": "stdout",
     "output_type": "stream",
     "text": [
      "Returning stats\n"
     ]
    },
    {
     "name": "stderr",
     "output_type": "stream",
     "text": [
      "\n"
     ]
    },
    {
     "data": {
      "text/html": [
       "<div>\n",
       "<style scoped>\n",
       "    .dataframe tbody tr th:only-of-type {\n",
       "        vertical-align: middle;\n",
       "    }\n",
       "\n",
       "    .dataframe tbody tr th {\n",
       "        vertical-align: top;\n",
       "    }\n",
       "\n",
       "    .dataframe thead th {\n",
       "        text-align: right;\n",
       "    }\n",
       "</style>\n",
       "<table border=\"1\" class=\"dataframe\">\n",
       "  <thead>\n",
       "    <tr style=\"text-align: right;\">\n",
       "      <th></th>\n",
       "      <th>s&amp;p500</th>\n",
       "      <th>kodex200</th>\n",
       "      <th>FACTOR:n4/lb1y/lg0/f6m</th>\n",
       "    </tr>\n",
       "  </thead>\n",
       "  <tbody>\n",
       "    <tr>\n",
       "      <th>start</th>\n",
       "      <td>2023-02-13</td>\n",
       "      <td>2023-02-13</td>\n",
       "      <td>2023-02-13</td>\n",
       "    </tr>\n",
       "    <tr>\n",
       "      <th>end</th>\n",
       "      <td>2024-08-23</td>\n",
       "      <td>2024-08-23</td>\n",
       "      <td>2024-08-23</td>\n",
       "    </tr>\n",
       "    <tr>\n",
       "      <th>total_return</th>\n",
       "      <td>0.362183</td>\n",
       "      <td>0.170321</td>\n",
       "      <td>0.0</td>\n",
       "    </tr>\n",
       "    <tr>\n",
       "      <th>cagr</th>\n",
       "      <td>0.224684</td>\n",
       "      <td>0.10864</td>\n",
       "      <td>0.0</td>\n",
       "    </tr>\n",
       "    <tr>\n",
       "      <th>calmar</th>\n",
       "      <td>2.186951</td>\n",
       "      <td>0.659558</td>\n",
       "      <td>NaN</td>\n",
       "    </tr>\n",
       "    <tr>\n",
       "      <th>max_drawdown</th>\n",
       "      <td>-0.102739</td>\n",
       "      <td>-0.164717</td>\n",
       "      <td>0.0</td>\n",
       "    </tr>\n",
       "    <tr>\n",
       "      <th>avg_drawdown</th>\n",
       "      <td>-0.017402</td>\n",
       "      <td>-0.030855</td>\n",
       "      <td>NaN</td>\n",
       "    </tr>\n",
       "    <tr>\n",
       "      <th>avg_drawdown_days</th>\n",
       "      <td>12.228571</td>\n",
       "      <td>20.583333</td>\n",
       "      <td>NaN</td>\n",
       "    </tr>\n",
       "    <tr>\n",
       "      <th>daily_vol</th>\n",
       "      <td>0.128331</td>\n",
       "      <td>0.185418</td>\n",
       "      <td>0.0</td>\n",
       "    </tr>\n",
       "    <tr>\n",
       "      <th>daily_sharpe</th>\n",
       "      <td>1.732164</td>\n",
       "      <td>0.680727</td>\n",
       "      <td>NaN</td>\n",
       "    </tr>\n",
       "    <tr>\n",
       "      <th>daily_sortino</th>\n",
       "      <td>2.978869</td>\n",
       "      <td>1.057783</td>\n",
       "      <td>NaN</td>\n",
       "    </tr>\n",
       "    <tr>\n",
       "      <th>monthly_vol</th>\n",
       "      <td>0.125535</td>\n",
       "      <td>0.166012</td>\n",
       "      <td>0.0</td>\n",
       "    </tr>\n",
       "    <tr>\n",
       "      <th>monthly_sharpe</th>\n",
       "      <td>1.935652</td>\n",
       "      <td>0.818206</td>\n",
       "      <td>NaN</td>\n",
       "    </tr>\n",
       "    <tr>\n",
       "      <th>monthly_sortino</th>\n",
       "      <td>4.496402</td>\n",
       "      <td>1.864211</td>\n",
       "      <td>NaN</td>\n",
       "    </tr>\n",
       "  </tbody>\n",
       "</table>\n",
       "</div>"
      ],
      "text/plain": [
       "                       s&p500    kodex200 FACTOR:n4/lb1y/lg0/f6m\n",
       "start              2023-02-13  2023-02-13             2023-02-13\n",
       "end                2024-08-23  2024-08-23             2024-08-23\n",
       "total_return         0.362183    0.170321                    0.0\n",
       "cagr                 0.224684     0.10864                    0.0\n",
       "calmar               2.186951    0.659558                    NaN\n",
       "max_drawdown        -0.102739   -0.164717                    0.0\n",
       "avg_drawdown        -0.017402   -0.030855                    NaN\n",
       "avg_drawdown_days   12.228571   20.583333                    NaN\n",
       "daily_vol            0.128331    0.185418                    0.0\n",
       "daily_sharpe         1.732164    0.680727                    NaN\n",
       "daily_sortino        2.978869    1.057783                    NaN\n",
       "monthly_vol          0.125535    0.166012                    0.0\n",
       "monthly_sharpe       1.935652    0.818206                    NaN\n",
       "monthly_sortino      4.496402    1.864211                    NaN"
      ]
     },
     "execution_count": 64,
     "metadata": {},
     "output_type": "execute_result"
    },
    {
     "data": {
      "image/png": "[encoded data removed]",
      "text/plain": [
       "<Figure size 800x400 with 1 Axes>"
      ]
     },
     "metadata": {},
     "output_type": "display_data"
    }
   ],
   "source": [
    "kwargs_build = dict(\n",
    "    select='momentum', weigh='Equally'\n",
    ")\n",
    "bm.build_batch(*kwa_list, **kwargs_build)\n",
    "\n",
    "bm.run(stats_sort_by='cagr', figsize=(8,4))"
   ]
  },
  {
   "cell_type": "markdown",
   "id": "67e6edd6-0276-4c91-a4e4-899ad3c5e498",
   "metadata": {},
   "source": [
    "## HANA"
   ]
  },
  {
   "cell_type": "code",
   "execution_count": 75,
   "id": "6278704a-d84d-4c8e-a5be-7e415ed03835",
   "metadata": {},
   "outputs": [
    {
     "data": {
      "text/html": [
       "<div>\n",
       "<style scoped>\n",
       "    .dataframe tbody tr th:only-of-type {\n",
       "        vertical-align: middle;\n",
       "    }\n",
       "\n",
       "    .dataframe tbody tr th {\n",
       "        vertical-align: top;\n",
       "    }\n",
       "\n",
       "    .dataframe thead th {\n",
       "        text-align: right;\n",
       "    }\n",
       "</style>\n",
       "<table border=\"1\" class=\"dataframe\">\n",
       "  <thead>\n",
       "    <tr style=\"text-align: right;\">\n",
       "      <th></th>\n",
       "      <th>name</th>\n",
       "      <th>start date</th>\n",
       "      <th>end date</th>\n",
       "      <th>n</th>\n",
       "    </tr>\n",
       "  </thead>\n",
       "  <tbody>\n",
       "    <tr>\n",
       "      <th>KR5101888398</th>\n",
       "      <td>한국투자크레딧포커스ESG증권자투자신탁 1(채권)(C-e)</td>\n",
       "      <td>2010-01-29</td>\n",
       "      <td>2024-07-31</td>\n",
       "      <td>5298</td>\n",
       "    </tr>\n",
       "    <tr>\n",
       "      <th>KR5370AP9956</th>\n",
       "      <td>AB글로벌고수익증권투자신탁(채권-재간접형)종류형Ce</td>\n",
       "      <td>2014-04-30</td>\n",
       "      <td>2024-07-31</td>\n",
       "      <td>3746</td>\n",
       "    </tr>\n",
       "    <tr>\n",
       "      <th>KR5236AS4826</th>\n",
       "      <td>한국밸류10년투자증권투자신탁 1(채권혼합)종류C-E</td>\n",
       "      <td>2014-05-30</td>\n",
       "      <td>2024-07-31</td>\n",
       "      <td>3716</td>\n",
       "    </tr>\n",
       "    <tr>\n",
       "      <th>K55306CV9946</th>\n",
       "      <td>다올글로벌멀티에셋인컴EMP증권자투자신탁[혼합-재간접형](공)종류Ce</td>\n",
       "      <td>2019-10-31</td>\n",
       "      <td>2024-07-31</td>\n",
       "      <td>1736</td>\n",
       "    </tr>\n",
       "  </tbody>\n",
       "</table>\n",
       "</div>"
      ],
      "text/plain": [
       "                                               name start date   end date  \\\n",
       "KR5101888398        한국투자크레딧포커스ESG증권자투자신탁 1(채권)(C-e) 2010-01-29 2024-07-31   \n",
       "KR5370AP9956           AB글로벌고수익증권투자신탁(채권-재간접형)종류형Ce 2014-04-30 2024-07-31   \n",
       "KR5236AS4826           한국밸류10년투자증권투자신탁 1(채권혼합)종류C-E 2014-05-30 2024-07-31   \n",
       "K55306CV9946  다올글로벌멀티에셋인컴EMP증권자투자신탁[혼합-재간접형](공)종류Ce 2019-10-31 2024-07-31   \n",
       "\n",
       "                 n  \n",
       "KR5101888398  5298  \n",
       "KR5370AP9956  3746  \n",
       "KR5236AS4826  3716  \n",
       "K55306CV9946  1736  "
      ]
     },
     "execution_count": 75,
     "metadata": {},
     "output_type": "execute_result"
    }
   ],
   "source": [
    "hana.get_date_range()"
   ]
  },
  {
   "cell_type": "code",
   "execution_count": 79,
   "id": "aee164fe-9be5-40e1-a257-b3fe14ac0949",
   "metadata": {},
   "outputs": [],
   "source": [
    "n_val = 260\n",
    "n_lb = 0\n",
    "df = df_hana\n",
    "df_train = df.iloc[:-n_val]\n",
    "df_val = df.iloc[-n_val-n_lb:]"
   ]
  },
  {
   "cell_type": "code",
   "execution_count": 80,
   "id": "7afd25c1-1b24-43c1-849b-8fca1eb7ea29",
   "metadata": {},
   "outputs": [],
   "source": [
    "kwargs_bm = dict(\n",
    "    initial_capital = 1e7,\n",
    "    commissions = 0,\n",
    "    align_axis = None, \n",
    "    days_in_year = 365,\n",
    "    security_names = names_hana\n",
    ")"
   ]
  },
  {
   "cell_type": "markdown",
   "id": "f6fe0838-5577-4d4a-81ac-ad7a51b4a822",
   "metadata": {},
   "source": [
    "### Selected"
   ]
  },
  {
   "cell_type": "code",
   "execution_count": 14,
   "id": "93ba8c7f-a3e0-4236-b407-d2b2e7dd3a05",
   "metadata": {},
   "outputs": [
    {
     "data": {
      "text/plain": [
       "0) KR5101888398: 한국투자크레딧포커스ESG증권자투자신탁 1(채권)(C-e)\n",
       "1) KR5236AS4826: 한국밸류10년투자증권투자신탁 1(채권혼합)종류C-E\n",
       "2) KR5370AP9956: AB글로벌고수익증권투자신탁(채권-재간접형)종류형Ce\n",
       "3) K55306CV9946: 다올글로벌멀티에셋인컴EMP증권자투자신탁[혼합-재간접형](공)종류Ce"
      ]
     },
     "execution_count": 14,
     "metadata": {},
     "output_type": "execute_result"
    }
   ],
   "source": [
    "hana.get_names()"
   ]
  },
  {
   "cell_type": "markdown",
   "id": "91aeda5e-2653-4f39-8c78-3ef273502fdc",
   "metadata": {},
   "source": [
    "#### Cross-validate"
   ]
  },
  {
   "cell_type": "code",
   "execution_count": 16,
   "id": "b776c50e-7df7-4df8-9a03-c3867177e214",
   "metadata": {},
   "outputs": [
    {
     "data": {
      "text/plain": [
       "{'name': 'HANA:equally/lb6m/lg0/f6m',\n",
       " 'weigh': 'equally',\n",
       " 'lookback': '6m',\n",
       " 'lag': 0,\n",
       " 'freq': '6m'}"
      ]
     },
     "execution_count": 16,
     "metadata": {},
     "output_type": "execute_result"
    }
   ],
   "source": [
    "from itertools import product\n",
    "\n",
    "p_args = dict(\n",
    "    p_w = ['equally', 'erc', 'meanvar', 'invvol'],\n",
    "    p_lookback = ['6m', '1y', '2y'],\n",
    "    p_lag = [0],\n",
    "    p_freq = ['6m', '1y']\n",
    ")\n",
    "p_comb = list(product(*p_args.values()))\n",
    "params = [{'name':f'HANA:{x[0]}/lb{x[1]}/lg{x[2]}/f{x[3]}',\n",
    "           'weigh':x[0], 'lookback':x[1], 'lag':x[2], 'freq':x[3]} \n",
    "            for x in p_comb]\n",
    "params[0]"
   ]
  },
  {
   "cell_type": "code",
   "execution_count": 17,
   "id": "9db54f3f-f6f6-408e-a244-622556514169",
   "metadata": {},
   "outputs": [
    {
     "name": "stdout",
     "output_type": "stream",
     "text": [
      "4 assets from 2010-01-29 to 2023-10-05 uploaded.\n",
      "running self.util_check_days_in_year to check days in a year\n"
     ]
    }
   ],
   "source": [
    "bm = BacktestManager(df_train, **kwargs_bm)"
   ]
  },
  {
   "cell_type": "code",
   "execution_count": 19,
   "id": "583941c5-2cfb-4be7-a560-092737fc0fbe",
   "metadata": {},
   "outputs": [
    {
     "name": "stdout",
     "output_type": "stream",
     "text": [
      "24 jobs prepared for cross-validation\n"
     ]
    }
   ],
   "source": [
    "kwa_list = params\n",
    "kwargs_build = dict(\n",
    "    select='all', reset_portfolios=True, build_cv=True\n",
    ")\n",
    "bm.build_batch(*kwa_list, **kwargs_build)"
   ]
  },
  {
   "cell_type": "code",
   "execution_count": 20,
   "id": "bc8f4b26-0ce2-47cb-a04e-0f0b0e629932",
   "metadata": {
    "scrolled": true
   },
   "outputs": [
    {
     "name": "stdout",
     "output_type": "stream",
     "text": [
      "Cross-validating 24 strategies: HANA:equally/lb6m/lg0/f6m, HANA:equally/lb6m/lg0/f1y, ... , HANA:invvol/lb2y/lg0/f1y\n"
     ]
    },
    {
     "name": "stderr",
     "output_type": "stream",
     "text": [
      "100%|███████████████████████████████████████████████████████████████| 19/19 [00:30<00:00,  1.61s/it]\n",
      "100%|███████████████████████████████████████████████████████████████| 19/19 [00:29<00:00,  1.55s/it]\n",
      "100%|███████████████████████████████████████████████████████████████| 19/19 [00:32<00:00,  1.72s/it]\n",
      "100%|███████████████████████████████████████████████████████████████| 19/19 [00:32<00:00,  1.72s/it]\n",
      "100%|███████████████████████████████████████████████████████████████| 19/19 [00:32<00:00,  1.72s/it]\n",
      "100%|███████████████████████████████████████████████████████████████| 19/19 [00:31<00:00,  1.65s/it]\n",
      "100%|███████████████████████████████████████████████████████████████| 19/19 [00:34<00:00,  1.82s/it]\n",
      "100%|███████████████████████████████████████████████████████████████| 19/19 [00:33<00:00,  1.75s/it]\n",
      "100%|███████████████████████████████████████████████████████████████| 19/19 [00:32<00:00,  1.70s/it]\n",
      "100%|███████████████████████████████████████████████████████████████| 19/19 [00:31<00:00,  1.67s/it]\n",
      "100%|███████████████████████████████████████████████████████████████| 19/19 [00:31<00:00,  1.66s/it]\n",
      "100%|███████████████████████████████████████████████████████████████| 19/19 [00:30<00:00,  1.60s/it]\n",
      "100%|███████████████████████████████████████████████████████████████| 19/19 [00:34<00:00,  1.81s/it]\n",
      "100%|███████████████████████████████████████████████████████████████| 19/19 [00:33<00:00,  1.74s/it]\n",
      "100%|███████████████████████████████████████████████████████████████| 19/19 [00:33<00:00,  1.75s/it]\n",
      "100%|███████████████████████████████████████████████████████████████| 19/19 [00:31<00:00,  1.68s/it]\n",
      "100%|███████████████████████████████████████████████████████████████| 19/19 [00:32<00:00,  1.69s/it]\n",
      "100%|███████████████████████████████████████████████████████████████| 19/19 [00:30<00:00,  1.60s/it]\n",
      "100%|███████████████████████████████████████████████████████████████| 19/19 [00:33<00:00,  1.74s/it]\n",
      "100%|███████████████████████████████████████████████████████████████| 19/19 [00:32<00:00,  1.70s/it]\n",
      "100%|███████████████████████████████████████████████████████████████| 19/19 [00:32<00:00,  1.69s/it]\n",
      "100%|███████████████████████████████████████████████████████████████| 19/19 [00:31<00:00,  1.65s/it]\n",
      "100%|███████████████████████████████████████████████████████████████| 19/19 [00:31<00:00,  1.65s/it]\n",
      "100%|███████████████████████████████████████████████████████████████| 19/19 [00:30<00:00,  1.60s/it]\n"
     ]
    },
    {
     "name": "stdout",
     "output_type": "stream",
     "text": [
      "12.9 mins elapsed, 0.0 secs paused (0.0%)\n"
     ]
    }
   ],
   "source": [
    "kw_batch = dict(size_batch=0, path_batch=path_data)\n",
    "bm.cross_validate(n_sample=20, **kw_batch)"
   ]
  },
  {
   "cell_type": "markdown",
   "id": "be40c377-e8b6-49f8-bfec-646460e96ceb",
   "metadata": {},
   "source": [
    "#### Visualize"
   ]
  },
  {
   "cell_type": "code",
   "execution_count": 14,
   "id": "e9304eb6-c5a0-48e4-aeba-463e4cf7c617",
   "metadata": {},
   "outputs": [],
   "source": [
    "file = 'param_hana_s1.csv'"
   ]
  },
  {
   "cell_type": "markdown",
   "id": "ff42ce06-dab5-4657-ad7e-da0d5a453caf",
   "metadata": {},
   "source": [
    "*Save param study*"
   ]
  },
  {
   "cell_type": "code",
   "execution_count": 22,
   "id": "0df532f2-5e34-4c52-8fb0-e3805a9ffd0c",
   "metadata": {},
   "outputs": [
    {
     "name": "stdout",
     "output_type": "stream",
     "text": [
      "data/param_hana_s1.csv saved\n",
      "24 param sets with 19 iterations per set\n"
     ]
    }
   ],
   "source": [
    "f = dict(file=file, path=path_data)\n",
    "df_cv = bm.get_cat_data(params, **f)"
   ]
  },
  {
   "cell_type": "markdown",
   "id": "bdef4cf1-3b3b-4e0a-a4ce-73edb1d2b4b4",
   "metadata": {},
   "source": [
    "*Load param study*"
   ]
  },
  {
   "cell_type": "code",
   "execution_count": 15,
   "id": "fae1462a-af79-440d-9467-a8229965db51",
   "metadata": {},
   "outputs": [
    {
     "name": "stdout",
     "output_type": "stream",
     "text": [
      "Returning data/param_hana_s1.csv\n",
      "24 param sets with 19 iterations per set\n"
     ]
    }
   ],
   "source": [
    "bm = BacktestManager\n",
    "df_cv = bm.catplot(file, path=path_data)"
   ]
  },
  {
   "cell_type": "code",
   "execution_count": 16,
   "id": "814c1cda-4c37-4f24-a04b-e9f0a3d459f7",
   "metadata": {},
   "outputs": [
    {
     "name": "stdout",
     "output_type": "stream",
     "text": [
      "Returning cagr of s&p500 from 2010-01-27 to 2023-10-04\n"
     ]
    }
   ],
   "source": [
    "y = 'cagr'\n",
    "ref_val = bm.benchmark_stats(y, data=df_cv, name='s&p500')"
   ]
  },
  {
   "cell_type": "code",
   "execution_count": 26,
   "id": "e1fcf205-3cf2-40c9-8d35-61f3ee00ca5e",
   "metadata": {},
   "outputs": [],
   "source": [
    "#kw = {'row':'lookback', 'col':'freq', 'x':'weigh', 'hue':'lag'}\n",
    "#kw = {'x':'lookback', 'col':'weigh', 'row':'freq', 'hue':'lag'}\n",
    "#kw = {'x':'lookback', 'col':'weigh', 'row':'freq', 'kind':'box'}\n",
    "kw = {'x':'weigh', 'hue':'freq', 'col':'lookback', 'kind':'violin', 'split':True, 'inner':None}"
   ]
  },
  {
   "cell_type": "code",
   "execution_count": 27,
   "id": "25964d28-4e84-40f6-ad36-e0f682f437fd",
   "metadata": {},
   "outputs": [
    {
     "name": "stdout",
     "output_type": "stream",
     "text": [
      "Returning cagr of kospi from 2010-01-28 to 2023-10-05\n"
     ]
    },
    {
     "data": {
      "image/png": "[encoded data removed]",
      "text/plain": [
       "<Figure size 880.5x300 with 3 Axes>"
      ]
     },
     "metadata": {},
     "output_type": "display_data"
    }
   ],
   "source": [
    "y = 'cagr'\n",
    "ref_val = 'kospi' #'s&p500'\n",
    "_ = bm.catplot(data=df_cv, y=y, ref_val=ref_val, height=3, aspect=.9, **kw)"
   ]
  },
  {
   "cell_type": "markdown",
   "id": "63e8cf93-9e65-42f3-8ac8-d4f237f1b6b9",
   "metadata": {},
   "source": [
    "#### Validation"
   ]
  },
  {
   "cell_type": "code",
   "execution_count": 32,
   "id": "54f85a49-1dcd-4a84-a684-ccc355822781",
   "metadata": {},
   "outputs": [
    {
     "name": "stdout",
     "output_type": "stream",
     "text": [
      "4 assets from 2023-01-19 to 2024-07-31 uploaded.\n",
      "running self.util_check_days_in_year to check days in a year\n",
      "WARNING: the number of days in a year with 4 assets (100%) is 364 in avg.\n",
      "Benchmark is kodex200\n",
      "ERROR: check arg dfs\n"
     ]
    }
   ],
   "source": [
    "bm = BacktestManager(df_val, **kwargs_bm)\n",
    "\n",
    "bm.benchmark_ticker(name='kodex200')\n",
    "bm.benchmark('s&p500')"
   ]
  },
  {
   "cell_type": "code",
   "execution_count": 33,
   "id": "8699550c-3cdc-44eb-a7e2-be3d1b5c3ee6",
   "metadata": {},
   "outputs": [],
   "source": [
    "# weigh, lookback(M), lag(D), freq(D)\n",
    "p_comb = [['meanvar', '6m', 0, '1y'], ['equally', '6m', 0, '1y'], ['equally', 0, 0, '1y']]\n",
    "kwa_list = [{'name':f'HANA:{x[0]}/lb{x[1]}/lg{x[2]}/f{x[3]}',\n",
    "           'weigh':x[0], 'lookback':x[1], 'lag':x[2], 'freq':x[3]} \n",
    "            for x in p_comb]"
   ]
  },
  {
   "cell_type": "code",
   "execution_count": 35,
   "id": "4e2a9364-7897-4f4a-9e83-572b67802042",
   "metadata": {},
   "outputs": [
    {
     "name": "stdout",
     "output_type": "stream",
     "text": [
      "Backtesting 4 strategies: kodex200, HANA:meanvar/lb6m/lg0/f1y, HANA:equally/lb6m/lg0/f1y, HANA:equally/lb0/lg0/f1y\n"
     ]
    },
    {
     "name": "stderr",
     "output_type": "stream",
     "text": [
      "100%|█████████████████████████████████████████████████████████████████| 4/4 [00:00<00:00,  6.05it/s]\n"
     ]
    },
    {
     "name": "stdout",
     "output_type": "stream",
     "text": [
      "Returning stats\n"
     ]
    },
    {
     "data": {
      "text/html": [
       "<div>\n",
       "<style scoped>\n",
       "    .dataframe tbody tr th:only-of-type {\n",
       "        vertical-align: middle;\n",
       "    }\n",
       "\n",
       "    .dataframe tbody tr th {\n",
       "        vertical-align: top;\n",
       "    }\n",
       "\n",
       "    .dataframe thead th {\n",
       "        text-align: right;\n",
       "    }\n",
       "</style>\n",
       "<table border=\"1\" class=\"dataframe\">\n",
       "  <thead>\n",
       "    <tr style=\"text-align: right;\">\n",
       "      <th></th>\n",
       "      <th>kodex200</th>\n",
       "      <th>HANA:equally/lb0/lg0/f1y</th>\n",
       "      <th>HANA:equally/lb6m/lg0/f1y</th>\n",
       "      <th>HANA:meanvar/lb6m/lg0/f1y</th>\n",
       "    </tr>\n",
       "  </thead>\n",
       "  <tbody>\n",
       "    <tr>\n",
       "      <th>start</th>\n",
       "      <td>2023-01-18</td>\n",
       "      <td>2023-01-18</td>\n",
       "      <td>2023-01-18</td>\n",
       "      <td>2023-01-18</td>\n",
       "    </tr>\n",
       "    <tr>\n",
       "      <th>end</th>\n",
       "      <td>2024-07-31</td>\n",
       "      <td>2024-07-31</td>\n",
       "      <td>2024-07-31</td>\n",
       "      <td>2024-07-31</td>\n",
       "    </tr>\n",
       "    <tr>\n",
       "      <th>total_return</th>\n",
       "      <td>0.246558</td>\n",
       "      <td>0.141851</td>\n",
       "      <td>0.105622</td>\n",
       "      <td>0.085868</td>\n",
       "    </tr>\n",
       "    <tr>\n",
       "      <th>cagr</th>\n",
       "      <td>0.154587</td>\n",
       "      <td>0.090372</td>\n",
       "      <td>0.067682</td>\n",
       "      <td>0.0552</td>\n",
       "    </tr>\n",
       "    <tr>\n",
       "      <th>calmar</th>\n",
       "      <td>1.224666</td>\n",
       "      <td>2.759825</td>\n",
       "      <td>1.972666</td>\n",
       "      <td>6.212704</td>\n",
       "    </tr>\n",
       "    <tr>\n",
       "      <th>max_drawdown</th>\n",
       "      <td>-0.126228</td>\n",
       "      <td>-0.032746</td>\n",
       "      <td>-0.03431</td>\n",
       "      <td>-0.008885</td>\n",
       "    </tr>\n",
       "    <tr>\n",
       "      <th>avg_drawdown</th>\n",
       "      <td>-0.027691</td>\n",
       "      <td>-0.011109</td>\n",
       "      <td>-0.018062</td>\n",
       "      <td>-0.006729</td>\n",
       "    </tr>\n",
       "    <tr>\n",
       "      <th>avg_drawdown_days</th>\n",
       "      <td>21.086957</td>\n",
       "      <td>42.2</td>\n",
       "      <td>40.666667</td>\n",
       "      <td>31.0</td>\n",
       "    </tr>\n",
       "    <tr>\n",
       "      <th>daily_vol</th>\n",
       "      <td>0.160916</td>\n",
       "      <td>0.057979</td>\n",
       "      <td>0.056311</td>\n",
       "      <td>0.035172</td>\n",
       "    </tr>\n",
       "    <tr>\n",
       "      <th>daily_sharpe</th>\n",
       "      <td>0.998316</td>\n",
       "      <td>1.562215</td>\n",
       "      <td>1.222921</td>\n",
       "      <td>1.58728</td>\n",
       "    </tr>\n",
       "    <tr>\n",
       "      <th>daily_sortino</th>\n",
       "      <td>1.772045</td>\n",
       "      <td>3.796726</td>\n",
       "      <td>2.846039</td>\n",
       "      <td>5.757106</td>\n",
       "    </tr>\n",
       "    <tr>\n",
       "      <th>monthly_vol</th>\n",
       "      <td>0.163907</td>\n",
       "      <td>0.056918</td>\n",
       "      <td>0.057496</td>\n",
       "      <td>0.03003</td>\n",
       "    </tr>\n",
       "    <tr>\n",
       "      <th>monthly_sharpe</th>\n",
       "      <td>0.92771</td>\n",
       "      <td>1.435108</td>\n",
       "      <td>1.194319</td>\n",
       "      <td>1.847058</td>\n",
       "    </tr>\n",
       "    <tr>\n",
       "      <th>monthly_sortino</th>\n",
       "      <td>2.12295</td>\n",
       "      <td>3.722525</td>\n",
       "      <td>3.058327</td>\n",
       "      <td>6.309649</td>\n",
       "    </tr>\n",
       "  </tbody>\n",
       "</table>\n",
       "</div>"
      ],
      "text/plain": [
       "                     kodex200 HANA:equally/lb0/lg0/f1y  \\\n",
       "start              2023-01-18               2023-01-18   \n",
       "end                2024-07-31               2024-07-31   \n",
       "total_return         0.246558                 0.141851   \n",
       "cagr                 0.154587                 0.090372   \n",
       "calmar               1.224666                 2.759825   \n",
       "max_drawdown        -0.126228                -0.032746   \n",
       "avg_drawdown        -0.027691                -0.011109   \n",
       "avg_drawdown_days   21.086957                     42.2   \n",
       "daily_vol            0.160916                 0.057979   \n",
       "daily_sharpe         0.998316                 1.562215   \n",
       "daily_sortino        1.772045                 3.796726   \n",
       "monthly_vol          0.163907                 0.056918   \n",
       "monthly_sharpe        0.92771                 1.435108   \n",
       "monthly_sortino       2.12295                 3.722525   \n",
       "\n",
       "                  HANA:equally/lb6m/lg0/f1y HANA:meanvar/lb6m/lg0/f1y  \n",
       "start                            2023-01-18                2023-01-18  \n",
       "end                              2024-07-31                2024-07-31  \n",
       "total_return                       0.105622                  0.085868  \n",
       "cagr                               0.067682                    0.0552  \n",
       "calmar                             1.972666                  6.212704  \n",
       "max_drawdown                       -0.03431                 -0.008885  \n",
       "avg_drawdown                      -0.018062                 -0.006729  \n",
       "avg_drawdown_days                 40.666667                      31.0  \n",
       "daily_vol                          0.056311                  0.035172  \n",
       "daily_sharpe                       1.222921                   1.58728  \n",
       "daily_sortino                      2.846039                  5.757106  \n",
       "monthly_vol                        0.057496                   0.03003  \n",
       "monthly_sharpe                     1.194319                  1.847058  \n",
       "monthly_sortino                    3.058327                  6.309649  "
      ]
     },
     "execution_count": 35,
     "metadata": {},
     "output_type": "execute_result"
    },
    {
     "data": {
      "image/png": "[encoded data removed]",
      "text/plain": [
       "<Figure size 800x400 with 1 Axes>"
      ]
     },
     "metadata": {},
     "output_type": "display_data"
    }
   ],
   "source": [
    "kwargs_build = dict(\n",
    "    select='all'\n",
    ")\n",
    "bm.build_batch(*kwa_list, **kwargs_build)\n",
    "\n",
    "bm.run(stats_sort_by='cagr', figsize=(8,4))"
   ]
  },
  {
   "cell_type": "code",
   "execution_count": null,
   "id": "70906050-f32b-415e-b92a-75afbecbdcbe",
   "metadata": {},
   "outputs": [],
   "source": []
  }
 ],
 "metadata": {
  "kernelspec": {
   "display_name": "portfolio",
   "language": "python",
   "name": "portfolio"
  },
  "language_info": {
   "codemirror_mode": {
    "name": "ipython",
    "version": 3
   },
   "file_extension": ".py",
   "mimetype": "text/x-python",
   "name": "python",
   "nbconvert_exporter": "python",
   "pygments_lexer": "ipython3",
   "version": "3.12.1"
  }
 },
 "nbformat": 4,
 "nbformat_minor": 5
}
