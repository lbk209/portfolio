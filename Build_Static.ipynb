{
 "cells": [
  {
   "cell_type": "markdown",
   "id": "e26ef3b1-e3e4-4673-8087-c5ab5c69c503",
   "metadata": {},
   "source": [
    "# Setting"
   ]
  },
  {
   "cell_type": "code",
   "execution_count": 1,
   "id": "c128f390-4a02-48f3-a3e3-9ad4ed198dcb",
   "metadata": {},
   "outputs": [
    {
     "name": "stderr",
     "output_type": "stream",
     "text": [
      "WARNING (pytensor.tensor.blas): Using NumPy C-API based implementation for BLAS functions.\n"
     ]
    }
   ],
   "source": [
    "from pf_utils import DataManager, BacktestManager\n",
    "from pf_widgets import WidgetUniverse, WidgetTransaction"
   ]
  },
  {
   "cell_type": "code",
   "execution_count": 2,
   "id": "f7aa63c0-40e0-40ed-a8cc-07675b15188e",
   "metadata": {},
   "outputs": [],
   "source": [
    "METRICS2 = [\n",
    "    'total_return', 'cagr', 'monthly_vol', 'monthly_sharpe',\n",
    "    'max_drawdown', 'avg_drawdown','avg_drawdown_days', \n",
    "]\n",
    "\n",
    "path_data = 'data'\n",
    "path_tran = 'transaction'"
   ]
  },
  {
   "cell_type": "markdown",
   "id": "a8d53d5d-70fa-4f7b-bbf0-4dc9be5d4e70",
   "metadata": {},
   "source": [
    "# Universe"
   ]
  },
  {
   "cell_type": "code",
   "execution_count": 3,
   "id": "fed359e1-b17b-42bc-94ab-2ff60852bfb4",
   "metadata": {},
   "outputs": [
    {
     "data": {
      "application/vnd.jupyter.widget-view+json": {
       "model_id": "34b579e2d4e5494fadc099f8c6baa295",
       "version_major": 2,
       "version_minor": 0
      },
      "text/plain": [
       "VBox(children=(Checkbox(value=False, description='Download', indent=False), Checkbox(value=False, description=…"
      ]
     },
     "execution_count": 3,
     "metadata": {},
     "output_type": "execute_result"
    }
   ],
   "source": [
    "WidgetUniverse"
   ]
  },
  {
   "cell_type": "markdown",
   "id": "bd0d294e-57dd-4cae-a570-214bd75c1b55",
   "metadata": {},
   "source": [
    "*Define universe and file*"
   ]
  },
  {
   "cell_type": "code",
   "execution_count": 4,
   "id": "21a90510-1c9d-459d-8d77-e479790901a1",
   "metadata": {},
   "outputs": [],
   "source": [
    "uv_etf  = ['etf', 'etfs_all.csv']\n",
    "uv_factor  = ['yahoo', 'etfs_factors.csv']\n",
    "uv_irp  = ['fund', 'funds_irp.csv']\n",
    "uv_hana = ['fund', 'funds_kebhana.csv']"
   ]
  },
  {
   "cell_type": "markdown",
   "id": "5a42cdc9-d44a-4622-a0cc-d93f4a6536f8",
   "metadata": {},
   "source": [
    "## ETF"
   ]
  },
  {
   "cell_type": "code",
   "execution_count": 5,
   "id": "26a87f56-8333-4d02-bc67-2d58cda01a18",
   "metadata": {},
   "outputs": [
    {
     "name": "stdout",
     "output_type": "stream",
     "text": [
      "907 assets from 2021-01-04 to 2024-10-25 uploaded.\n",
      "df_prices updated\n"
     ]
    }
   ],
   "source": [
    "etf = DataManager(\n",
    "    path = path_data,\n",
    "    **dict(zip(['universe', 'file'], uv_etf)))\n",
    "etf.upload()"
   ]
  },
  {
   "cell_type": "code",
   "execution_count": 6,
   "id": "3cc26afb-d01e-4b99-9be0-fb446726b131",
   "metadata": {},
   "outputs": [],
   "source": [
    "kw = dict(\n",
    "    n_years=3, \n",
    "    close_today = WidgetUniverse.values(1),\n",
    "    #tickers=etf.df_prices.columns\n",
    ")\n",
    "etf.download(**kw) if WidgetUniverse.values(0) else None"
   ]
  },
  {
   "cell_type": "code",
   "execution_count": 7,
   "id": "35e4fe7f-1ebd-40f6-956c-44c464cb6a76",
   "metadata": {},
   "outputs": [
    {
     "data": {
      "text/plain": [
       "0) 069500: KODEX 200\n",
       "1) 273130: KODEX 종합채권(AA-이상)액티브\n",
       "2) 148070: KOSEF 국고채10년\n",
       "3) 379800: KODEX 미국S&P500TR\n",
       "4) 411060: ACE KRX금현물\n",
       "5) 284430: KODEX 200미국채혼합"
      ]
     },
     "execution_count": 7,
     "metadata": {},
     "output_type": "execute_result"
    }
   ],
   "source": [
    "selected = ['069500', '273130', '148070', '379800', '411060', '284430']\n",
    "df_etf = etf.df_prices[selected]\n",
    "assetnames_etf = etf.get_names(tickers=selected)\n",
    "assetnames_etf"
   ]
  },
  {
   "cell_type": "code",
   "execution_count": 8,
   "id": "5b4e6b04-6145-4005-a563-90e5a9b3ce69",
   "metadata": {},
   "outputs": [
    {
     "data": {
      "text/html": [
       "<div>\n",
       "<style scoped>\n",
       "    .dataframe tbody tr th:only-of-type {\n",
       "        vertical-align: middle;\n",
       "    }\n",
       "\n",
       "    .dataframe tbody tr th {\n",
       "        vertical-align: top;\n",
       "    }\n",
       "\n",
       "    .dataframe thead th {\n",
       "        text-align: right;\n",
       "    }\n",
       "</style>\n",
       "<table border=\"1\" class=\"dataframe\">\n",
       "  <thead>\n",
       "    <tr style=\"text-align: right;\">\n",
       "      <th></th>\n",
       "      <th>start date</th>\n",
       "      <th>end date</th>\n",
       "    </tr>\n",
       "  </thead>\n",
       "  <tbody>\n",
       "    <tr>\n",
       "      <th>069500</th>\n",
       "      <td>2021-01-04</td>\n",
       "      <td>2024-10-25</td>\n",
       "    </tr>\n",
       "    <tr>\n",
       "      <th>273130</th>\n",
       "      <td>2021-01-04</td>\n",
       "      <td>2024-10-25</td>\n",
       "    </tr>\n",
       "    <tr>\n",
       "      <th>148070</th>\n",
       "      <td>2021-01-04</td>\n",
       "      <td>2024-10-25</td>\n",
       "    </tr>\n",
       "    <tr>\n",
       "      <th>284430</th>\n",
       "      <td>2021-01-04</td>\n",
       "      <td>2024-10-25</td>\n",
       "    </tr>\n",
       "    <tr>\n",
       "      <th>379800</th>\n",
       "      <td>2021-04-09</td>\n",
       "      <td>2024-10-25</td>\n",
       "    </tr>\n",
       "    <tr>\n",
       "      <th>411060</th>\n",
       "      <td>2021-12-15</td>\n",
       "      <td>2024-10-25</td>\n",
       "    </tr>\n",
       "  </tbody>\n",
       "</table>\n",
       "</div>"
      ],
      "text/plain": [
       "       start date   end date\n",
       "069500 2021-01-04 2024-10-25\n",
       "273130 2021-01-04 2024-10-25\n",
       "148070 2021-01-04 2024-10-25\n",
       "284430 2021-01-04 2024-10-25\n",
       "379800 2021-04-09 2024-10-25\n",
       "411060 2021-12-15 2024-10-25"
      ]
     },
     "execution_count": 8,
     "metadata": {},
     "output_type": "execute_result"
    }
   ],
   "source": [
    "etf.get_date_range(df_etf)"
   ]
  },
  {
   "cell_type": "markdown",
   "id": "0b58be39-b2b9-4f1e-9524-65323108b247",
   "metadata": {},
   "source": [
    "## Factor"
   ]
  },
  {
   "cell_type": "code",
   "execution_count": 5,
   "id": "51ffa782-fea0-46e5-9fc7-4da0eea382e3",
   "metadata": {},
   "outputs": [
    {
     "name": "stdout",
     "output_type": "stream",
     "text": [
      "7 assets from 1993-01-29 to 2024-10-18 uploaded.\n",
      "df_prices updated\n"
     ]
    }
   ],
   "source": [
    "factor = DataManager(\n",
    "    path = path_data,\n",
    "    **dict(zip(['universe', 'file'], uv_factor)))\n",
    "factor.upload()"
   ]
  },
  {
   "cell_type": "markdown",
   "id": "3889b37e-da86-496e-a32d-7b9ee156c5de",
   "metadata": {},
   "source": [
    "**TODO: implement download for factor**"
   ]
  },
  {
   "cell_type": "code",
   "execution_count": 6,
   "id": "88affcb8-e527-46c4-b3d9-2b2cca637f60",
   "metadata": {},
   "outputs": [],
   "source": [
    "kw = dict(\n",
    "    n_years=3, \n",
    "    close_today = WidgetUniverse.values(1),\n",
    "    #tickers=etf.df_prices.columns\n",
    ")\n",
    "factor.download(**kw) if WidgetUniverse.values(0) else None"
   ]
  },
  {
   "cell_type": "code",
   "execution_count": 7,
   "id": "7885dc8a-e2ee-4fad-ad8b-93ee79f0d1f9",
   "metadata": {},
   "outputs": [
    {
     "data": {
      "text/plain": [
       "0) LRGF: iShares U.S. Equity Factor ETF\n",
       "1) MTUM: iShares MSCI USA Momentum Factor ETF\n",
       "2) QUAL: iShares MSCI USA Quality Factor ETF\n",
       "3) SIZE: iShares MSCI USA Size Factor ETF\n",
       "4) SPY: SPDR S&P 500 ETF Trust\n",
       "5) USMV: iShares MSCI USA Min Vol Factor ETF\n",
       "6) VLUE: iShares MSCI USA Value Factor ETF"
      ]
     },
     "execution_count": 7,
     "metadata": {},
     "output_type": "execute_result"
    }
   ],
   "source": [
    "df_factor = factor.df_prices\n",
    "tickers = df_factor.columns\n",
    "assetnames_factor = factor.get_names(tickers)\n",
    "assetnames_factor"
   ]
  },
  {
   "cell_type": "code",
   "execution_count": 8,
   "id": "9c9e2213-a55e-4d62-b4ce-ec1e7aea263d",
   "metadata": {},
   "outputs": [
    {
     "data": {
      "text/html": [
       "<div>\n",
       "<style scoped>\n",
       "    .dataframe tbody tr th:only-of-type {\n",
       "        vertical-align: middle;\n",
       "    }\n",
       "\n",
       "    .dataframe tbody tr th {\n",
       "        vertical-align: top;\n",
       "    }\n",
       "\n",
       "    .dataframe thead th {\n",
       "        text-align: right;\n",
       "    }\n",
       "</style>\n",
       "<table border=\"1\" class=\"dataframe\">\n",
       "  <thead>\n",
       "    <tr style=\"text-align: right;\">\n",
       "      <th></th>\n",
       "      <th>start date</th>\n",
       "      <th>end date</th>\n",
       "    </tr>\n",
       "  </thead>\n",
       "  <tbody>\n",
       "    <tr>\n",
       "      <th>SPY</th>\n",
       "      <td>1993-01-29</td>\n",
       "      <td>2024-10-18</td>\n",
       "    </tr>\n",
       "    <tr>\n",
       "      <th>USMV</th>\n",
       "      <td>2011-10-20</td>\n",
       "      <td>2024-10-18</td>\n",
       "    </tr>\n",
       "    <tr>\n",
       "      <th>MTUM</th>\n",
       "      <td>2013-04-18</td>\n",
       "      <td>2024-10-18</td>\n",
       "    </tr>\n",
       "    <tr>\n",
       "      <th>SIZE</th>\n",
       "      <td>2013-04-18</td>\n",
       "      <td>2024-10-18</td>\n",
       "    </tr>\n",
       "    <tr>\n",
       "      <th>VLUE</th>\n",
       "      <td>2013-04-18</td>\n",
       "      <td>2024-10-18</td>\n",
       "    </tr>\n",
       "    <tr>\n",
       "      <th>QUAL</th>\n",
       "      <td>2013-07-18</td>\n",
       "      <td>2024-10-18</td>\n",
       "    </tr>\n",
       "    <tr>\n",
       "      <th>LRGF</th>\n",
       "      <td>2015-04-30</td>\n",
       "      <td>2024-10-18</td>\n",
       "    </tr>\n",
       "  </tbody>\n",
       "</table>\n",
       "</div>"
      ],
      "text/plain": [
       "     start date   end date\n",
       "SPY  1993-01-29 2024-10-18\n",
       "USMV 2011-10-20 2024-10-18\n",
       "MTUM 2013-04-18 2024-10-18\n",
       "SIZE 2013-04-18 2024-10-18\n",
       "VLUE 2013-04-18 2024-10-18\n",
       "QUAL 2013-07-18 2024-10-18\n",
       "LRGF 2015-04-30 2024-10-18"
      ]
     },
     "execution_count": 8,
     "metadata": {},
     "output_type": "execute_result"
    }
   ],
   "source": [
    "factor.get_date_range(df_factor)"
   ]
  },
  {
   "cell_type": "markdown",
   "id": "29a67d0b-1b8f-4c89-a996-86bdb10a1ff7",
   "metadata": {},
   "source": [
    "## IRP\n",
    "- https://www.kiwoomam.com/fund/KI0202020000M?parentfundcode=8325&fundcode=8335\n",
    "- https://www.kiwoomam.com/fund/KI0202020000M?parentfundcode=8370&fundcode=8380\n",
    "- https://investments.miraeasset.com/fund/view.do?fundGb=2&fundCd=537380&childFundGb=2&childFundCd=53738P\n",
    "- https://investments.miraeasset.com/fund/view.do?fundGb=2&fundCd=537400&childFundGb=2&childFundCd=53740P\n",
    "- https://investments.miraeasset.com/fund/view.do?fundGb=2&fundCd=537410&childFundGb=2&childFundCd=53741P\n",
    "- https://www.hanwhawm.com/main/finance/fundInfo/FI141_2.cmd?p=500&item_cd=5102896"
   ]
  },
  {
   "cell_type": "code",
   "execution_count": 12,
   "id": "c22863eb-b080-4dd0-b2b0-d199fba75c5a",
   "metadata": {},
   "outputs": [
    {
     "name": "stdout",
     "output_type": "stream",
     "text": [
      "Estimating price from \"data/funds_irp.csv\" ...\n",
      "  WARNING: taking the 1st two columns only.\n",
      "  WARNING: taking the 1st two columns only.\n",
      "Max error of 14 conversions: 0.16 %\n",
      "14 assets from 2017-07-31 to 2024-08-26 uploaded.\n",
      "df_prices updated\n",
      "WARNING: the number of days in a year with 14 assets (100%) is 121 in avg.\n"
     ]
    }
   ],
   "source": [
    "irp = DataManager(\n",
    "    upload_type = 'rate',\n",
    "    path = path_data,\n",
    "    **dict(zip(['universe', 'file'], uv_irp))\n",
    ")\n",
    "irp.upload()\n",
    "df = irp.check_days_in_year(252)"
   ]
  },
  {
   "cell_type": "code",
   "execution_count": 13,
   "id": "4ab328b2-8f44-40fc-b6cb-64f2e58d2d22",
   "metadata": {},
   "outputs": [
    {
     "name": "stdout",
     "output_type": "stream",
     "text": [
      "WARNING: the number of days in a year with 14 assets (100%) is 121 in avg.\n",
      "REMINDER: data converted to daily (days in year: 365)\n",
      "Daily metrics in Performance statistics must be meaningless\n"
     ]
    }
   ],
   "source": [
    "irp.convert_to_daily(True)"
   ]
  },
  {
   "cell_type": "code",
   "execution_count": 14,
   "id": "ca9f04ca-7358-4f4e-99ca-0b31d1857ce6",
   "metadata": {},
   "outputs": [],
   "source": [
    "df_irp = irp.df_prices\n",
    "assetnames_irp = irp.get_names()\n",
    "\n",
    "import pandas as pd\n",
    "df_an = pd.Series(assetnames_irp).to_frame('name')"
   ]
  },
  {
   "cell_type": "code",
   "execution_count": 15,
   "id": "b168cd3b-7986-4a19-bbff-44d1ac582f2d",
   "metadata": {},
   "outputs": [
    {
     "data": {
      "text/html": [
       "<div>\n",
       "<style scoped>\n",
       "    .dataframe tbody tr th:only-of-type {\n",
       "        vertical-align: middle;\n",
       "    }\n",
       "\n",
       "    .dataframe tbody tr th {\n",
       "        vertical-align: top;\n",
       "    }\n",
       "\n",
       "    .dataframe thead th {\n",
       "        text-align: right;\n",
       "    }\n",
       "</style>\n",
       "<table border=\"1\" class=\"dataframe\">\n",
       "  <thead>\n",
       "    <tr style=\"text-align: right;\">\n",
       "      <th></th>\n",
       "      <th>start date</th>\n",
       "      <th>end date</th>\n",
       "      <th>name</th>\n",
       "    </tr>\n",
       "  </thead>\n",
       "  <tbody>\n",
       "    <tr>\n",
       "      <th>K55223BT1450</th>\n",
       "      <td>2017-07-31</td>\n",
       "      <td>2024-07-31</td>\n",
       "      <td>KB온국민TDF2040증권투자신탁(주식혼합-재간접형)C-퇴직e</td>\n",
       "    </tr>\n",
       "    <tr>\n",
       "      <th>K55105BS5067</th>\n",
       "      <td>2017-07-31</td>\n",
       "      <td>2024-07-31</td>\n",
       "      <td>삼성한국형TDF2040증권투자신탁H[주식혼합-재간접형]C-Pe</td>\n",
       "    </tr>\n",
       "    <tr>\n",
       "      <th>K55210BU2435</th>\n",
       "      <td>2017-08-31</td>\n",
       "      <td>2024-07-31</td>\n",
       "      <td>신한마음편한TDF2040증권투자신탁[주식혼합-재간접형](종류C-re)</td>\n",
       "    </tr>\n",
       "    <tr>\n",
       "      <th>KR5223AE3357</th>\n",
       "      <td>2017-08-31</td>\n",
       "      <td>2024-07-31</td>\n",
       "      <td>kb퇴직연금배당증권자투자신탁(주식)C-E</td>\n",
       "    </tr>\n",
       "    <tr>\n",
       "      <th>K55365BT3694</th>\n",
       "      <td>2017-08-31</td>\n",
       "      <td>2024-07-31</td>\n",
       "      <td>kcgi코리아퇴직연금증권자투자신탁(주식)종류C-Pe2</td>\n",
       "    </tr>\n",
       "    <tr>\n",
       "      <th>K55207BU0715</th>\n",
       "      <td>2017-08-31</td>\n",
       "      <td>2024-07-31</td>\n",
       "      <td>교보악사파워인덱스증권자투자신탁1호(주식)C-Pe</td>\n",
       "    </tr>\n",
       "    <tr>\n",
       "      <th>K55203C53681</th>\n",
       "      <td>2018-04-30</td>\n",
       "      <td>2024-07-31</td>\n",
       "      <td>대신KOSPI200인덱스증권자투자신탁(주식-파생형)CPe</td>\n",
       "    </tr>\n",
       "    <tr>\n",
       "      <th>K55213C51890</th>\n",
       "      <td>2018-05-31</td>\n",
       "      <td>2024-07-31</td>\n",
       "      <td>한화LIFEPLUSTDF2040증권자투자신탁(혼합-재간접형)C-RPe(퇴직연금)</td>\n",
       "    </tr>\n",
       "    <tr>\n",
       "      <th>K55234CJ0997</th>\n",
       "      <td>2019-01-31</td>\n",
       "      <td>2024-07-31</td>\n",
       "      <td>IBK플레인바닐라EMP증권투자신탁(혼합-재간접형)C-Re</td>\n",
       "    </tr>\n",
       "    <tr>\n",
       "      <th>K55301BU5479</th>\n",
       "      <td>2017-08-14</td>\n",
       "      <td>2024-08-25</td>\n",
       "      <td>미래에셋전략배분TDF2045혼합자산자투자신탁 종류C-P2e</td>\n",
       "    </tr>\n",
       "    <tr>\n",
       "      <th>K55301BU6139</th>\n",
       "      <td>2017-09-20</td>\n",
       "      <td>2024-08-25</td>\n",
       "      <td>미래에셋전략배분TDF2035혼합자산자투자신탁종류C-P2e</td>\n",
       "    </tr>\n",
       "    <tr>\n",
       "      <th>K55301BU5453</th>\n",
       "      <td>2017-09-29</td>\n",
       "      <td>2024-08-25</td>\n",
       "      <td>미래에셋평생소득TIF혼합자산자투자신탁종류C-P2e</td>\n",
       "    </tr>\n",
       "    <tr>\n",
       "      <th>K55206C96311</th>\n",
       "      <td>2018-07-13</td>\n",
       "      <td>2024-08-26</td>\n",
       "      <td>키움키워드림TDF2045증권투자신탁 1[혼합-재간접형]C-P2e(퇴직연금)</td>\n",
       "    </tr>\n",
       "    <tr>\n",
       "      <th>K55206C95800</th>\n",
       "      <td>2018-07-26</td>\n",
       "      <td>2024-08-26</td>\n",
       "      <td>키움키워드림TDF2030증권투자신탁 1[혼합-재간접형]C-P2e(퇴직연금)</td>\n",
       "    </tr>\n",
       "  </tbody>\n",
       "</table>\n",
       "</div>"
      ],
      "text/plain": [
       "             start date   end date  \\\n",
       "K55223BT1450 2017-07-31 2024-07-31   \n",
       "K55105BS5067 2017-07-31 2024-07-31   \n",
       "K55210BU2435 2017-08-31 2024-07-31   \n",
       "KR5223AE3357 2017-08-31 2024-07-31   \n",
       "K55365BT3694 2017-08-31 2024-07-31   \n",
       "K55207BU0715 2017-08-31 2024-07-31   \n",
       "K55203C53681 2018-04-30 2024-07-31   \n",
       "K55213C51890 2018-05-31 2024-07-31   \n",
       "K55234CJ0997 2019-01-31 2024-07-31   \n",
       "K55301BU5479 2017-08-14 2024-08-25   \n",
       "K55301BU6139 2017-09-20 2024-08-25   \n",
       "K55301BU5453 2017-09-29 2024-08-25   \n",
       "K55206C96311 2018-07-13 2024-08-26   \n",
       "K55206C95800 2018-07-26 2024-08-26   \n",
       "\n",
       "                                                      name  \n",
       "K55223BT1450            KB온국민TDF2040증권투자신탁(주식혼합-재간접형)C-퇴직e  \n",
       "K55105BS5067            삼성한국형TDF2040증권투자신탁H[주식혼합-재간접형]C-Pe  \n",
       "K55210BU2435        신한마음편한TDF2040증권투자신탁[주식혼합-재간접형](종류C-re)  \n",
       "KR5223AE3357                        kb퇴직연금배당증권자투자신탁(주식)C-E  \n",
       "K55365BT3694                 kcgi코리아퇴직연금증권자투자신탁(주식)종류C-Pe2  \n",
       "K55207BU0715                    교보악사파워인덱스증권자투자신탁1호(주식)C-Pe  \n",
       "K55203C53681               대신KOSPI200인덱스증권자투자신탁(주식-파생형)CPe  \n",
       "K55213C51890  한화LIFEPLUSTDF2040증권자투자신탁(혼합-재간접형)C-RPe(퇴직연금)  \n",
       "K55234CJ0997               IBK플레인바닐라EMP증권투자신탁(혼합-재간접형)C-Re  \n",
       "K55301BU5479              미래에셋전략배분TDF2045혼합자산자투자신탁 종류C-P2e  \n",
       "K55301BU6139               미래에셋전략배분TDF2035혼합자산자투자신탁종류C-P2e  \n",
       "K55301BU5453                   미래에셋평생소득TIF혼합자산자투자신탁종류C-P2e  \n",
       "K55206C96311     키움키워드림TDF2045증권투자신탁 1[혼합-재간접형]C-P2e(퇴직연금)  \n",
       "K55206C95800     키움키워드림TDF2030증권투자신탁 1[혼합-재간접형]C-P2e(퇴직연금)  "
      ]
     },
     "execution_count": 15,
     "metadata": {},
     "output_type": "execute_result"
    }
   ],
   "source": [
    "irp.get_date_range().sort_values('end date').join(df_an)"
   ]
  },
  {
   "cell_type": "code",
   "execution_count": 16,
   "id": "b39755f5-ed92-4640-aada-9e84bd1eba06",
   "metadata": {},
   "outputs": [
    {
     "data": {
      "text/html": [
       "<div>\n",
       "<style scoped>\n",
       "    .dataframe tbody tr th:only-of-type {\n",
       "        vertical-align: middle;\n",
       "    }\n",
       "\n",
       "    .dataframe tbody tr th {\n",
       "        vertical-align: top;\n",
       "    }\n",
       "\n",
       "    .dataframe thead th {\n",
       "        text-align: right;\n",
       "    }\n",
       "</style>\n",
       "<table border=\"1\" class=\"dataframe\">\n",
       "  <thead>\n",
       "    <tr style=\"text-align: right;\">\n",
       "      <th></th>\n",
       "      <th>daily_sharpe</th>\n",
       "      <th>monthly_sharpe</th>\n",
       "      <th>yearly_sharpe</th>\n",
       "      <th>name</th>\n",
       "    </tr>\n",
       "  </thead>\n",
       "  <tbody>\n",
       "    <tr>\n",
       "      <th>K55301BU6139</th>\n",
       "      <td>0.953281</td>\n",
       "      <td>0.901074</td>\n",
       "      <td>0.59158</td>\n",
       "      <td>미래에셋전략배분TDF2035혼합자산자투자신탁종류C-P2e</td>\n",
       "    </tr>\n",
       "    <tr>\n",
       "      <th>K55301BU5479</th>\n",
       "      <td>0.928838</td>\n",
       "      <td>0.890844</td>\n",
       "      <td>0.589447</td>\n",
       "      <td>미래에셋전략배분TDF2045혼합자산자투자신탁 종류C-P2e</td>\n",
       "    </tr>\n",
       "    <tr>\n",
       "      <th>K55365BT3694</th>\n",
       "      <td>0.640849</td>\n",
       "      <td>0.640538</td>\n",
       "      <td>0.573647</td>\n",
       "      <td>kcgi코리아퇴직연금증권자투자신탁(주식)종류C-Pe2</td>\n",
       "    </tr>\n",
       "    <tr>\n",
       "      <th>K55213C51890</th>\n",
       "      <td>0.749963</td>\n",
       "      <td>0.754216</td>\n",
       "      <td>0.542374</td>\n",
       "      <td>한화LIFEPLUSTDF2040증권자투자신탁(혼합-재간접형)C-RPe(퇴직연금)</td>\n",
       "    </tr>\n",
       "    <tr>\n",
       "      <th>K55223BT1450</th>\n",
       "      <td>0.641399</td>\n",
       "      <td>0.641106</td>\n",
       "      <td>0.484719</td>\n",
       "      <td>KB온국민TDF2040증권투자신탁(주식혼합-재간접형)C-퇴직e</td>\n",
       "    </tr>\n",
       "    <tr>\n",
       "      <th>K55210BU2435</th>\n",
       "      <td>0.68767</td>\n",
       "      <td>0.689062</td>\n",
       "      <td>0.478562</td>\n",
       "      <td>신한마음편한TDF2040증권투자신탁[주식혼합-재간접형](종류C-re)</td>\n",
       "    </tr>\n",
       "    <tr>\n",
       "      <th>K55203C53681</th>\n",
       "      <td>0.542176</td>\n",
       "      <td>0.539386</td>\n",
       "      <td>0.475771</td>\n",
       "      <td>대신KOSPI200인덱스증권자투자신탁(주식-파생형)CPe</td>\n",
       "    </tr>\n",
       "    <tr>\n",
       "      <th>K55206C96311</th>\n",
       "      <td>0.730614</td>\n",
       "      <td>0.628118</td>\n",
       "      <td>0.452722</td>\n",
       "      <td>키움키워드림TDF2045증권투자신탁 1[혼합-재간접형]C-P2e(퇴직연금)</td>\n",
       "    </tr>\n",
       "    <tr>\n",
       "      <th>K55206C95800</th>\n",
       "      <td>0.778547</td>\n",
       "      <td>0.649921</td>\n",
       "      <td>0.439991</td>\n",
       "      <td>키움키워드림TDF2030증권투자신탁 1[혼합-재간접형]C-P2e(퇴직연금)</td>\n",
       "    </tr>\n",
       "    <tr>\n",
       "      <th>K55207BU0715</th>\n",
       "      <td>0.468617</td>\n",
       "      <td>0.464831</td>\n",
       "      <td>0.417496</td>\n",
       "      <td>교보악사파워인덱스증권자투자신탁1호(주식)C-Pe</td>\n",
       "    </tr>\n",
       "    <tr>\n",
       "      <th>K55301BU5453</th>\n",
       "      <td>0.989868</td>\n",
       "      <td>0.766073</td>\n",
       "      <td>0.391302</td>\n",
       "      <td>미래에셋평생소득TIF혼합자산자투자신탁종류C-P2e</td>\n",
       "    </tr>\n",
       "    <tr>\n",
       "      <th>K55105BS5067</th>\n",
       "      <td>0.511915</td>\n",
       "      <td>0.508636</td>\n",
       "      <td>0.330035</td>\n",
       "      <td>삼성한국형TDF2040증권투자신탁H[주식혼합-재간접형]C-Pe</td>\n",
       "    </tr>\n",
       "    <tr>\n",
       "      <th>K55234CJ0997</th>\n",
       "      <td>0.638194</td>\n",
       "      <td>0.637797</td>\n",
       "      <td>0.305769</td>\n",
       "      <td>IBK플레인바닐라EMP증권투자신탁(혼합-재간접형)C-Re</td>\n",
       "    </tr>\n",
       "    <tr>\n",
       "      <th>KR5223AE3357</th>\n",
       "      <td>0.308482</td>\n",
       "      <td>0.304493</td>\n",
       "      <td>0.276649</td>\n",
       "      <td>kb퇴직연금배당증권자투자신탁(주식)C-E</td>\n",
       "    </tr>\n",
       "  </tbody>\n",
       "</table>\n",
       "</div>"
      ],
      "text/plain": [
       "             daily_sharpe monthly_sharpe yearly_sharpe  \\\n",
       "K55301BU6139     0.953281       0.901074       0.59158   \n",
       "K55301BU5479     0.928838       0.890844      0.589447   \n",
       "K55365BT3694     0.640849       0.640538      0.573647   \n",
       "K55213C51890     0.749963       0.754216      0.542374   \n",
       "K55223BT1450     0.641399       0.641106      0.484719   \n",
       "K55210BU2435      0.68767       0.689062      0.478562   \n",
       "K55203C53681     0.542176       0.539386      0.475771   \n",
       "K55206C96311     0.730614       0.628118      0.452722   \n",
       "K55206C95800     0.778547       0.649921      0.439991   \n",
       "K55207BU0715     0.468617       0.464831      0.417496   \n",
       "K55301BU5453     0.989868       0.766073      0.391302   \n",
       "K55105BS5067     0.511915       0.508636      0.330035   \n",
       "K55234CJ0997     0.638194       0.637797      0.305769   \n",
       "KR5223AE3357     0.308482       0.304493      0.276649   \n",
       "\n",
       "                                                      name  \n",
       "K55301BU6139               미래에셋전략배분TDF2035혼합자산자투자신탁종류C-P2e  \n",
       "K55301BU5479              미래에셋전략배분TDF2045혼합자산자투자신탁 종류C-P2e  \n",
       "K55365BT3694                 kcgi코리아퇴직연금증권자투자신탁(주식)종류C-Pe2  \n",
       "K55213C51890  한화LIFEPLUSTDF2040증권자투자신탁(혼합-재간접형)C-RPe(퇴직연금)  \n",
       "K55223BT1450            KB온국민TDF2040증권투자신탁(주식혼합-재간접형)C-퇴직e  \n",
       "K55210BU2435        신한마음편한TDF2040증권투자신탁[주식혼합-재간접형](종류C-re)  \n",
       "K55203C53681               대신KOSPI200인덱스증권자투자신탁(주식-파생형)CPe  \n",
       "K55206C96311     키움키워드림TDF2045증권투자신탁 1[혼합-재간접형]C-P2e(퇴직연금)  \n",
       "K55206C95800     키움키워드림TDF2030증권투자신탁 1[혼합-재간접형]C-P2e(퇴직연금)  \n",
       "K55207BU0715                    교보악사파워인덱스증권자투자신탁1호(주식)C-Pe  \n",
       "K55301BU5453                   미래에셋평생소득TIF혼합자산자투자신탁종류C-P2e  \n",
       "K55105BS5067            삼성한국형TDF2040증권투자신탁H[주식혼합-재간접형]C-Pe  \n",
       "K55234CJ0997               IBK플레인바닐라EMP증권투자신탁(혼합-재간접형)C-Re  \n",
       "KR5223AE3357                        kb퇴직연금배당증권자투자신탁(주식)C-E  "
      ]
     },
     "execution_count": 16,
     "metadata": {},
     "output_type": "execute_result"
    }
   ],
   "source": [
    "irp.performance('sharpe', 'year').join(df_an)"
   ]
  },
  {
   "cell_type": "markdown",
   "id": "c4f1cc87-4387-445a-85da-33e35577fb9c",
   "metadata": {},
   "source": [
    "## HANA\n",
    "- https://dis.kofia.or.kr"
   ]
  },
  {
   "cell_type": "code",
   "execution_count": 17,
   "id": "7e607069-dd69-4e22-8ce9-f81df53b9554",
   "metadata": {},
   "outputs": [
    {
     "name": "stdout",
     "output_type": "stream",
     "text": [
      "Estimating price from \"data/funds_kebhana.csv\" ...\n",
      "  error: -0.00 %\n",
      "  error: 0.01 %\n",
      "  error: -0.00 %\n",
      "  error: 0.00 %\n",
      "4 assets from 2010-01-29 to 2024-07-31 uploaded.\n",
      "df_prices updated\n"
     ]
    },
    {
     "data": {
      "text/html": [
       "<div>\n",
       "<style scoped>\n",
       "    .dataframe tbody tr th:only-of-type {\n",
       "        vertical-align: middle;\n",
       "    }\n",
       "\n",
       "    .dataframe tbody tr th {\n",
       "        vertical-align: top;\n",
       "    }\n",
       "\n",
       "    .dataframe thead th {\n",
       "        text-align: right;\n",
       "    }\n",
       "</style>\n",
       "<table border=\"1\" class=\"dataframe\">\n",
       "  <thead>\n",
       "    <tr style=\"text-align: right;\">\n",
       "      <th></th>\n",
       "      <th>start date</th>\n",
       "      <th>end date</th>\n",
       "    </tr>\n",
       "  </thead>\n",
       "  <tbody>\n",
       "    <tr>\n",
       "      <th>KR5101888398</th>\n",
       "      <td>2010-01-29</td>\n",
       "      <td>2024-07-31</td>\n",
       "    </tr>\n",
       "    <tr>\n",
       "      <th>KR5370AP9956</th>\n",
       "      <td>2014-04-30</td>\n",
       "      <td>2024-07-31</td>\n",
       "    </tr>\n",
       "    <tr>\n",
       "      <th>KR5236AS4826</th>\n",
       "      <td>2014-05-30</td>\n",
       "      <td>2024-07-31</td>\n",
       "    </tr>\n",
       "    <tr>\n",
       "      <th>K55306CV9946</th>\n",
       "      <td>2019-10-31</td>\n",
       "      <td>2024-07-31</td>\n",
       "    </tr>\n",
       "  </tbody>\n",
       "</table>\n",
       "</div>"
      ],
      "text/plain": [
       "             start date   end date\n",
       "KR5101888398 2010-01-29 2024-07-31\n",
       "KR5370AP9956 2014-04-30 2024-07-31\n",
       "KR5236AS4826 2014-05-30 2024-07-31\n",
       "K55306CV9946 2019-10-31 2024-07-31"
      ]
     },
     "execution_count": 17,
     "metadata": {},
     "output_type": "execute_result"
    }
   ],
   "source": [
    "hana = DataManager(\n",
    "    upload_type = 'rate',\n",
    "    path = path_data,\n",
    "    **dict(zip(['universe', 'file'], uv_hana))\n",
    ")\n",
    "hana.upload()\n",
    "hana.get_date_range()"
   ]
  },
  {
   "cell_type": "code",
   "execution_count": 18,
   "id": "64659ef9-1f1e-4fa3-93ff-55e23a5a0340",
   "metadata": {},
   "outputs": [
    {
     "data": {
      "text/plain": [
       "KR5101888398    12.0\n",
       "KR5236AS4826    12.0\n",
       "KR5370AP9956    12.0\n",
       "K55306CV9946    12.0\n",
       "dtype: float64"
      ]
     },
     "execution_count": 18,
     "metadata": {},
     "output_type": "execute_result"
    }
   ],
   "source": [
    "hana.check_days_in_year(12)"
   ]
  },
  {
   "cell_type": "code",
   "execution_count": 19,
   "id": "18a5f65f-d681-438a-af27-db404aeca9e8",
   "metadata": {},
   "outputs": [
    {
     "name": "stdout",
     "output_type": "stream",
     "text": [
      "WARNING: the number of days in a year with followings is 12 in avg.:\n",
      "KR5101888398: 12\n",
      "KR5236AS4826: 12\n",
      "KR5370AP9956: 12\n",
      "K55306CV9946: 12\n",
      "REMINDER: data converted to daily (days in year: 365)\n",
      "Daily metrics in Performance statistics must be meaningless\n"
     ]
    }
   ],
   "source": [
    "hana.convert_to_daily(True)"
   ]
  },
  {
   "cell_type": "code",
   "execution_count": 20,
   "id": "f4e8af84-8722-466a-9b29-bad3eb78c099",
   "metadata": {},
   "outputs": [
    {
     "data": {
      "text/plain": [
       "0) KR5101888398: 한국투자크레딧포커스ESG증권자투자신탁 1(채권)(C-e)\n",
       "1) KR5236AS4826: 한국밸류10년투자증권투자신탁 1(채권혼합)종류C-E\n",
       "2) KR5370AP9956: AB글로벌고수익증권투자신탁(채권-재간접형)종류형Ce\n",
       "3) K55306CV9946: 다올글로벌멀티에셋인컴EMP증권자투자신탁[혼합-재간접형](공)종류Ce"
      ]
     },
     "execution_count": 20,
     "metadata": {},
     "output_type": "execute_result"
    }
   ],
   "source": [
    "df_hana = hana.df_prices\n",
    "assetnames_hana = hana.get_names()\n",
    "assetnames_hana"
   ]
  },
  {
   "cell_type": "code",
   "execution_count": 21,
   "id": "ff070849-3cf7-4523-a606-c10548ed599d",
   "metadata": {},
   "outputs": [
    {
     "data": {
      "image/png": "[encoded data removed]",
      "text/plain": [
       "<Figure size 1000x400 with 1 Axes>"
      ]
     },
     "metadata": {},
     "output_type": "display_data"
    }
   ],
   "source": [
    "_ = df_hana.loc['2014':].plot(figsize=(10,4))"
   ]
  },
  {
   "cell_type": "markdown",
   "id": "e621851c-45c7-4a93-9ca2-9e5a4783a5d9",
   "metadata": {},
   "source": [
    "# Parameter Study"
   ]
  },
  {
   "cell_type": "markdown",
   "id": "220fca0b-b7e0-44d2-af6b-6de6ae067de8",
   "metadata": {},
   "source": [
    "## ETF"
   ]
  },
  {
   "cell_type": "code",
   "execution_count": 9,
   "id": "16e92131-bacb-4a97-809d-0d6b164b11ea",
   "metadata": {},
   "outputs": [],
   "source": [
    "kwargs_bm = dict(\n",
    "    initial_capital = 1e7,\n",
    "    commissions = 0,\n",
    "    align_axis = 0, \n",
    "    days_in_year = 245,\n",
    "    asset_names = assetnames_etf\n",
    ")"
   ]
  },
  {
   "cell_type": "markdown",
   "id": "fac160cf-d6fd-46eb-8cfd-1629237bf509",
   "metadata": {},
   "source": [
    "### Equal Weight"
   ]
  },
  {
   "cell_type": "code",
   "execution_count": 41,
   "id": "5293fab5-dae2-4df0-9b0d-1eb82ba10142",
   "metadata": {},
   "outputs": [],
   "source": [
    "n_val = 260\n",
    "lookback = 0\n",
    "df = df_etf\n",
    "df_train = df.iloc[:-n_val]\n",
    "df_val = df.iloc[-n_val-lookback:]"
   ]
  },
  {
   "cell_type": "markdown",
   "id": "9e48f313-7e20-4d15-b5e7-36b32014193f",
   "metadata": {},
   "source": [
    "#### Cross-validate"
   ]
  },
  {
   "cell_type": "code",
   "execution_count": 43,
   "id": "e1ee1df9-22b4-4435-adf8-cd64d8f4a6bd",
   "metadata": {},
   "outputs": [
    {
     "data": {
      "text/plain": [
       "{'name': 'ETF:f20', 'freq': 20}"
      ]
     },
     "execution_count": 43,
     "metadata": {},
     "output_type": "execute_result"
    }
   ],
   "source": [
    "from itertools import product\n",
    "\n",
    "p_args = dict(\n",
    "    p_freq = [20,60,125,250]\n",
    ")\n",
    "p_comb = list(product(*p_args.values()))\n",
    "params = [{'name':f'ETF:f{x[0]}', 'freq':x[0]} \n",
    "            for x in p_comb]\n",
    "params[0]"
   ]
  },
  {
   "cell_type": "code",
   "execution_count": 44,
   "id": "bcd383ff-5347-4fb6-9a4d-e836e647b915",
   "metadata": {},
   "outputs": [
    {
     "name": "stdout",
     "output_type": "stream",
     "text": [
      "period reset: 2021-12-15 ~ 2023-09-26\n",
      "6 assets from 2021-12-15 to 2023-09-26 uploaded.\n",
      "running self.util_check_days_in_year to check days in a year\n",
      "WARNING: the number of days in a year with 6 assets (100%) is 247 in avg.\n"
     ]
    }
   ],
   "source": [
    "bm = BacktestManager(df_train, **kwargs_bm)"
   ]
  },
  {
   "cell_type": "code",
   "execution_count": 45,
   "id": "55296a22-e653-46f1-bd0f-6d2f69a80e1e",
   "metadata": {},
   "outputs": [
    {
     "name": "stdout",
     "output_type": "stream",
     "text": [
      "4 jobs prepared for cross-validation\n"
     ]
    }
   ],
   "source": [
    "kwa_list = params\n",
    "kwargs_build = dict(\n",
    "    select='all', reset_portfolios=True, build_cv=True\n",
    ")\n",
    "bm.build_batch(*kwa_list, **kwargs_build)"
   ]
  },
  {
   "cell_type": "code",
   "execution_count": 46,
   "id": "bfebbb85-2e7e-4bc9-a34d-ba52adaf4bc4",
   "metadata": {},
   "outputs": [
    {
     "name": "stdout",
     "output_type": "stream",
     "text": [
      "Cross-validating 4 strategies: ETF:f20, ETF:f60, ETF:f125, ETF:f250\n"
     ]
    },
    {
     "name": "stderr",
     "output_type": "stream",
     "text": [
      "100%|███████████████████████████████████████████████████████████████| 19/19 [00:02<00:00,  6.49it/s]\n",
      "100%|███████████████████████████████████████████████████████████████| 19/19 [00:02<00:00,  6.95it/s]\n",
      "100%|███████████████████████████████████████████████████████████████| 19/19 [00:02<00:00,  7.05it/s]\n",
      "100%|███████████████████████████████████████████████████████████████| 19/19 [00:02<00:00,  7.08it/s]\n"
     ]
    },
    {
     "name": "stdout",
     "output_type": "stream",
     "text": [
      "11.8 secs elapsed, 0.0 secs paused (0.0%)\n"
     ]
    }
   ],
   "source": [
    "bm.cross_validate(n_sample=20)"
   ]
  },
  {
   "cell_type": "markdown",
   "id": "b1836f80-18de-424b-b2dc-81e8f06c610d",
   "metadata": {},
   "source": [
    "#### Visualize"
   ]
  },
  {
   "cell_type": "code",
   "execution_count": 24,
   "id": "55f8c454-1790-4025-bb50-71903861a12c",
   "metadata": {},
   "outputs": [],
   "source": [
    "file = 'param_etf_equal.csv'"
   ]
  },
  {
   "cell_type": "markdown",
   "id": "fe37b186-30ae-4870-a280-ee8ac5f2151c",
   "metadata": {},
   "source": [
    "*Save param study*"
   ]
  },
  {
   "cell_type": "code",
   "execution_count": 48,
   "id": "e805d9dc-e4b2-41e7-8ddd-cf5bbee0b80b",
   "metadata": {},
   "outputs": [
    {
     "name": "stdout",
     "output_type": "stream",
     "text": [
      "data/param_etf_equal.csv saved\n",
      "4 param sets with 19 iterations per set\n"
     ]
    }
   ],
   "source": [
    "f = dict(file=file, path=path_data)\n",
    "df_cv = bm.get_cat_data(params, **f)"
   ]
  },
  {
   "cell_type": "markdown",
   "id": "9fe83c59-b243-409f-b782-de5124a0017b",
   "metadata": {},
   "source": [
    "*Load param study*"
   ]
  },
  {
   "cell_type": "code",
   "execution_count": 25,
   "id": "e02b3661-cb92-44d7-8700-e057e1b04665",
   "metadata": {},
   "outputs": [
    {
     "name": "stdout",
     "output_type": "stream",
     "text": [
      "Returning data/param_etf_equal.csv\n",
      "4 param sets with 19 iterations per set\n"
     ]
    }
   ],
   "source": [
    "bm = BacktestManager\n",
    "df_cv = bm.catplot(file, path=path_data)"
   ]
  },
  {
   "cell_type": "code",
   "execution_count": 26,
   "id": "55dd10ae-844d-4224-86f9-0dbeed371c96",
   "metadata": {},
   "outputs": [
    {
     "name": "stdout",
     "output_type": "stream",
     "text": [
      "Returning cagr of KODEX200 from 2021-12-14 to 2023-09-26\n"
     ]
    }
   ],
   "source": [
    "y = 'cagr'\n",
    "ref_val = bm.benchmark_stats(y, data=df_cv, name='KODEX200')"
   ]
  },
  {
   "cell_type": "code",
   "execution_count": 27,
   "id": "4b0a7a6a-4553-4139-b914-99ef1f076b25",
   "metadata": {},
   "outputs": [
    {
     "data": {
      "image/png": "[encoded data removed]",
      "text/plain": [
       "<Figure size 386.111x250 with 1 Axes>"
      ]
     },
     "metadata": {},
     "output_type": "display_data"
    }
   ],
   "source": [
    "kw = {'x':'freq', 'kind':'box'}\n",
    "_ = bm.catplot(data=df_cv, y='cagr', ref_val=ref_val, height=2.5, aspect=1.5, **kw)"
   ]
  },
  {
   "cell_type": "markdown",
   "id": "ea5f6bc9-735a-4547-a629-fd382060d53f",
   "metadata": {},
   "source": [
    "### All Combinations"
   ]
  },
  {
   "cell_type": "code",
   "execution_count": 16,
   "id": "f0ea14d3-a59c-45a4-a2c8-e64c1d02b36a",
   "metadata": {},
   "outputs": [],
   "source": [
    "df_train = df_etf"
   ]
  },
  {
   "cell_type": "markdown",
   "id": "67569caa-f7da-4771-af20-188766437adb",
   "metadata": {},
   "source": [
    "#### Cross-validate"
   ]
  },
  {
   "cell_type": "code",
   "execution_count": 17,
   "id": "0cdfa519-2117-42a3-9982-49018d3651bf",
   "metadata": {},
   "outputs": [
    {
     "data": {
      "text/plain": [
       "{'name': 'ETF:equally/lb3/lg5/f20',\n",
       " 'weigh': 'equally',\n",
       " 'lookback': 3,\n",
       " 'lag': 5,\n",
       " 'freq': 20}"
      ]
     },
     "execution_count": 17,
     "metadata": {},
     "output_type": "execute_result"
    }
   ],
   "source": [
    "from itertools import product\n",
    "\n",
    "p_args = dict(\n",
    "    p_w = ['equally', 'erc', 'meanvar', 'invvol'],\n",
    "    p_lookback = [3,6,12],\n",
    "    p_lag = [5,10,20],\n",
    "    p_freq = [20,60,125,250]\n",
    ")\n",
    "p_comb = list(product(*p_args.values()))\n",
    "params = [{'name':f'ETF:{x[0]}/lb{x[1]}/lg{x[2]}/f{x[3]}',\n",
    "           'weigh':x[0], 'lookback':x[1], 'lag':x[2], 'freq':x[3]} \n",
    "            for x in p_comb]\n",
    "params[0]"
   ]
  },
  {
   "cell_type": "code",
   "execution_count": 18,
   "id": "f9aec016-7f26-48a6-962a-f766bfcdfca7",
   "metadata": {},
   "outputs": [
    {
     "name": "stdout",
     "output_type": "stream",
     "text": [
      "period reset: 2021-12-15 ~ 2024-10-25\n",
      "6 assets from 2021-12-15 to 2024-10-25 uploaded.\n",
      "running self.util_check_days_in_year to check days in a year\n"
     ]
    }
   ],
   "source": [
    "bm = BacktestManager(df_train, **kwargs_bm)"
   ]
  },
  {
   "cell_type": "code",
   "execution_count": 19,
   "id": "1b30baf6-60ef-4ddd-905b-fcc74138de8d",
   "metadata": {},
   "outputs": [
    {
     "name": "stdout",
     "output_type": "stream",
     "text": [
      "144 jobs prepared for cross-validation\n"
     ]
    }
   ],
   "source": [
    "kwa_list = params\n",
    "kwargs_build = dict(\n",
    "    select='all', reset_portfolios=True, build_cv=True\n",
    ")\n",
    "bm.build_batch(*kwa_list, **kwargs_build)"
   ]
  },
  {
   "cell_type": "code",
   "execution_count": 20,
   "id": "d190a256-5bfc-40fc-93a7-9d266d182f5f",
   "metadata": {
    "scrolled": true
   },
   "outputs": [
    {
     "name": "stdout",
     "output_type": "stream",
     "text": [
      "Cross-validating 144 strategies: ETF:equally/lb3/lg5/f20, ETF:equally/lb3/lg5/f60, ... , ETF:invvol/lb12/lg20/f250\n"
     ]
    },
    {
     "name": "stderr",
     "output_type": "stream",
     "text": [
      "100%|███████████████████████████████████████████████████████████████| 19/19 [00:03<00:00,  4.99it/s]\n",
      "100%|███████████████████████████████████████████████████████████████| 19/19 [00:03<00:00,  5.48it/s]\n",
      "100%|███████████████████████████████████████████████████████████████| 19/19 [00:03<00:00,  5.57it/s]\n",
      "100%|███████████████████████████████████████████████████████████████| 19/19 [00:03<00:00,  5.37it/s]\n",
      "100%|███████████████████████████████████████████████████████████████| 19/19 [00:03<00:00,  5.87it/s]\n",
      "100%|███████████████████████████████████████████████████████████████| 19/19 [00:03<00:00,  5.90it/s]\n",
      "100%|███████████████████████████████████████████████████████████████| 19/19 [00:03<00:00,  5.94it/s]\n",
      "100%|███████████████████████████████████████████████████████████████| 19/19 [00:03<00:00,  5.64it/s]\n",
      "100%|███████████████████████████████████████████████████████████████| 19/19 [00:03<00:00,  5.01it/s]\n",
      "100%|███████████████████████████████████████████████████████████████| 19/19 [00:03<00:00,  5.08it/s]\n",
      "100%|███████████████████████████████████████████████████████████████| 19/19 [00:03<00:00,  5.15it/s]\n",
      "100%|███████████████████████████████████████████████████████████████| 19/19 [00:03<00:00,  4.93it/s]\n",
      "100%|███████████████████████████████████████████████████████████████| 19/19 [00:03<00:00,  5.57it/s]\n",
      "100%|███████████████████████████████████████████████████████████████| 19/19 [00:03<00:00,  5.66it/s]\n",
      "100%|███████████████████████████████████████████████████████████████| 19/19 [00:03<00:00,  5.64it/s]\n",
      "100%|███████████████████████████████████████████████████████████████| 19/19 [00:03<00:00,  4.91it/s]\n",
      "100%|███████████████████████████████████████████████████████████████| 19/19 [00:03<00:00,  5.58it/s]\n",
      "100%|███████████████████████████████████████████████████████████████| 19/19 [00:03<00:00,  5.67it/s]\n",
      "100%|███████████████████████████████████████████████████████████████| 19/19 [00:03<00:00,  5.66it/s]\n",
      "100%|███████████████████████████████████████████████████████████████| 19/19 [00:03<00:00,  5.46it/s]\n",
      "100%|███████████████████████████████████████████████████████████████| 19/19 [00:03<00:00,  5.02it/s]\n",
      "100%|███████████████████████████████████████████████████████████████| 19/19 [00:03<00:00,  5.06it/s]\n",
      "100%|███████████████████████████████████████████████████████████████| 19/19 [00:03<00:00,  5.08it/s]\n",
      "100%|███████████████████████████████████████████████████████████████| 19/19 [00:03<00:00,  4.87it/s]\n",
      "100%|███████████████████████████████████████████████████████████████| 19/19 [00:03<00:00,  5.47it/s]\n",
      "100%|███████████████████████████████████████████████████████████████| 19/19 [00:03<00:00,  5.58it/s]\n",
      "100%|███████████████████████████████████████████████████████████████| 19/19 [00:03<00:00,  5.56it/s]\n",
      "100%|███████████████████████████████████████████████████████████████| 19/19 [00:03<00:00,  5.24it/s]\n",
      "100%|███████████████████████████████████████████████████████████████| 19/19 [00:02<00:00,  6.43it/s]\n",
      "100%|███████████████████████████████████████████████████████████████| 19/19 [00:02<00:00,  6.47it/s]\n",
      "100%|███████████████████████████████████████████████████████████████| 19/19 [00:03<00:00,  6.20it/s]\n",
      "100%|███████████████████████████████████████████████████████████████| 19/19 [00:02<00:00,  6.53it/s]\n",
      "100%|███████████████████████████████████████████████████████████████| 19/19 [00:03<00:00,  5.37it/s]\n",
      "100%|███████████████████████████████████████████████████████████████| 19/19 [00:03<00:00,  5.45it/s]\n",
      "100%|███████████████████████████████████████████████████████████████| 19/19 [00:03<00:00,  5.05it/s]\n",
      "100%|███████████████████████████████████████████████████████████████| 19/19 [00:03<00:00,  5.44it/s]\n",
      "100%|███████████████████████████████████████████████████████████████| 19/19 [00:05<00:00,  3.78it/s]\n",
      "100%|███████████████████████████████████████████████████████████████| 19/19 [00:04<00:00,  4.47it/s]\n",
      "100%|███████████████████████████████████████████████████████████████| 19/19 [00:04<00:00,  4.60it/s]\n",
      "100%|███████████████████████████████████████████████████████████████| 19/19 [00:04<00:00,  4.74it/s]\n",
      "100%|███████████████████████████████████████████████████████████████| 19/19 [00:04<00:00,  4.13it/s]\n",
      "100%|███████████████████████████████████████████████████████████████| 19/19 [00:04<00:00,  4.32it/s]\n",
      "100%|███████████████████████████████████████████████████████████████| 19/19 [00:04<00:00,  4.71it/s]\n",
      "100%|███████████████████████████████████████████████████████████████| 19/19 [00:03<00:00,  4.75it/s]\n",
      "100%|███████████████████████████████████████████████████████████████| 19/19 [00:05<00:00,  3.33it/s]\n",
      "100%|███████████████████████████████████████████████████████████████| 19/19 [00:04<00:00,  3.99it/s]\n",
      "100%|███████████████████████████████████████████████████████████████| 19/19 [00:04<00:00,  4.19it/s]\n",
      "100%|███████████████████████████████████████████████████████████████| 19/19 [00:04<00:00,  4.28it/s]\n",
      "100%|███████████████████████████████████████████████████████████████| 19/19 [00:04<00:00,  3.80it/s]\n",
      "100%|███████████████████████████████████████████████████████████████| 19/19 [00:04<00:00,  4.51it/s]\n",
      "100%|███████████████████████████████████████████████████████████████| 19/19 [00:04<00:00,  4.67it/s]\n",
      "100%|███████████████████████████████████████████████████████████████| 19/19 [00:03<00:00,  4.78it/s]\n",
      "100%|███████████████████████████████████████████████████████████████| 19/19 [00:04<00:00,  4.51it/s]\n",
      "100%|███████████████████████████████████████████████████████████████| 19/19 [00:03<00:00,  5.26it/s]\n",
      "100%|███████████████████████████████████████████████████████████████| 19/19 [00:03<00:00,  5.21it/s]\n",
      "100%|███████████████████████████████████████████████████████████████| 19/19 [00:03<00:00,  5.47it/s]\n",
      "100%|███████████████████████████████████████████████████████████████| 19/19 [00:04<00:00,  3.83it/s]\n",
      "100%|███████████████████████████████████████████████████████████████| 19/19 [00:04<00:00,  4.51it/s]\n",
      "100%|███████████████████████████████████████████████████████████████| 19/19 [00:04<00:00,  4.71it/s]\n",
      "100%|███████████████████████████████████████████████████████████████| 19/19 [00:03<00:00,  5.01it/s]\n",
      "100%|███████████████████████████████████████████████████████████████| 19/19 [00:04<00:00,  4.26it/s]\n",
      "100%|███████████████████████████████████████████████████████████████| 19/19 [00:03<00:00,  4.93it/s]\n",
      "100%|███████████████████████████████████████████████████████████████| 19/19 [00:04<00:00,  4.64it/s]\n",
      "100%|███████████████████████████████████████████████████████████████| 19/19 [00:04<00:00,  4.29it/s]\n",
      "100%|███████████████████████████████████████████████████████████████| 19/19 [00:03<00:00,  5.51it/s]\n",
      "100%|███████████████████████████████████████████████████████████████| 19/19 [00:03<00:00,  5.95it/s]\n",
      "100%|███████████████████████████████████████████████████████████████| 19/19 [00:03<00:00,  6.29it/s]\n",
      "100%|███████████████████████████████████████████████████████████████| 19/19 [00:02<00:00,  6.42it/s]\n",
      "100%|███████████████████████████████████████████████████████████████| 19/19 [00:05<00:00,  3.66it/s]\n",
      "100%|███████████████████████████████████████████████████████████████| 19/19 [00:03<00:00,  4.90it/s]\n",
      "100%|███████████████████████████████████████████████████████████████| 19/19 [00:03<00:00,  5.00it/s]\n",
      "100%|███████████████████████████████████████████████████████████████| 19/19 [00:03<00:00,  5.14it/s]\n",
      "100%|███████████████████████████████████████████████████████████████| 19/19 [00:06<00:00,  2.97it/s]\n",
      "100%|███████████████████████████████████████████████████████████████| 19/19 [00:04<00:00,  3.81it/s]\n",
      "100%|███████████████████████████████████████████████████████████████| 19/19 [00:04<00:00,  4.29it/s]\n",
      "100%|███████████████████████████████████████████████████████████████| 19/19 [00:03<00:00,  4.85it/s]\n",
      "100%|███████████████████████████████████████████████████████████████| 19/19 [00:05<00:00,  3.50it/s]\n",
      "100%|███████████████████████████████████████████████████████████████| 19/19 [00:04<00:00,  4.66it/s]\n",
      "100%|███████████████████████████████████████████████████████████████| 19/19 [00:03<00:00,  4.93it/s]\n",
      "100%|███████████████████████████████████████████████████████████████| 19/19 [00:03<00:00,  5.23it/s]\n",
      "100%|███████████████████████████████████████████████████████████████| 19/19 [00:07<00:00,  2.69it/s]\n",
      "100%|███████████████████████████████████████████████████████████████| 19/19 [00:05<00:00,  3.43it/s]\n",
      "100%|███████████████████████████████████████████████████████████████| 19/19 [00:04<00:00,  4.15it/s]\n",
      "100%|███████████████████████████████████████████████████████████████| 19/19 [00:04<00:00,  4.47it/s]\n",
      "100%|███████████████████████████████████████████████████████████████| 19/19 [00:06<00:00,  3.06it/s]\n",
      "100%|███████████████████████████████████████████████████████████████| 19/19 [00:04<00:00,  4.24it/s]\n",
      "100%|███████████████████████████████████████████████████████████████| 19/19 [00:03<00:00,  4.79it/s]\n",
      "100%|███████████████████████████████████████████████████████████████| 19/19 [00:04<00:00,  4.36it/s]\n",
      "100%|███████████████████████████████████████████████████████████████| 19/19 [00:05<00:00,  3.54it/s]\n",
      "100%|███████████████████████████████████████████████████████████████| 19/19 [00:03<00:00,  4.80it/s]\n",
      "100%|███████████████████████████████████████████████████████████████| 19/19 [00:03<00:00,  5.05it/s]\n",
      "100%|███████████████████████████████████████████████████████████████| 19/19 [00:03<00:00,  5.42it/s]\n",
      "100%|███████████████████████████████████████████████████████████████| 19/19 [00:06<00:00,  2.75it/s]\n",
      "100%|███████████████████████████████████████████████████████████████| 19/19 [00:04<00:00,  4.20it/s]\n",
      "100%|███████████████████████████████████████████████████████████████| 19/19 [00:04<00:00,  4.62it/s]\n",
      "100%|███████████████████████████████████████████████████████████████| 19/19 [00:05<00:00,  3.76it/s]\n",
      "100%|███████████████████████████████████████████████████████████████| 19/19 [00:06<00:00,  3.12it/s]\n",
      "100%|███████████████████████████████████████████████████████████████| 19/19 [00:04<00:00,  4.24it/s]\n",
      "100%|███████████████████████████████████████████████████████████████| 19/19 [00:03<00:00,  5.03it/s]\n",
      "100%|███████████████████████████████████████████████████████████████| 19/19 [00:04<00:00,  4.68it/s]\n",
      "100%|███████████████████████████████████████████████████████████████| 19/19 [00:04<00:00,  4.01it/s]\n",
      "100%|███████████████████████████████████████████████████████████████| 19/19 [00:03<00:00,  5.66it/s]\n",
      "100%|███████████████████████████████████████████████████████████████| 19/19 [00:03<00:00,  5.92it/s]\n",
      "100%|███████████████████████████████████████████████████████████████| 19/19 [00:03<00:00,  5.91it/s]\n",
      "100%|███████████████████████████████████████████████████████████████| 19/19 [00:06<00:00,  3.12it/s]\n",
      "100%|███████████████████████████████████████████████████████████████| 19/19 [00:04<00:00,  4.40it/s]\n",
      "100%|███████████████████████████████████████████████████████████████| 19/19 [00:03<00:00,  4.86it/s]\n",
      "100%|███████████████████████████████████████████████████████████████| 19/19 [00:03<00:00,  5.17it/s]\n",
      "100%|███████████████████████████████████████████████████████████████| 19/19 [00:04<00:00,  3.99it/s]\n",
      "100%|███████████████████████████████████████████████████████████████| 19/19 [00:04<00:00,  4.69it/s]\n",
      "100%|███████████████████████████████████████████████████████████████| 19/19 [00:03<00:00,  4.79it/s]\n",
      "100%|███████████████████████████████████████████████████████████████| 19/19 [00:03<00:00,  4.78it/s]\n",
      "100%|███████████████████████████████████████████████████████████████| 19/19 [00:04<00:00,  4.32it/s]\n",
      "100%|███████████████████████████████████████████████████████████████| 19/19 [00:03<00:00,  5.06it/s]\n",
      "100%|███████████████████████████████████████████████████████████████| 19/19 [00:03<00:00,  5.04it/s]\n",
      "100%|███████████████████████████████████████████████████████████████| 19/19 [00:03<00:00,  5.33it/s]\n",
      "100%|███████████████████████████████████████████████████████████████| 19/19 [00:05<00:00,  3.61it/s]\n",
      "100%|███████████████████████████████████████████████████████████████| 19/19 [00:04<00:00,  4.26it/s]\n",
      "100%|███████████████████████████████████████████████████████████████| 19/19 [00:04<00:00,  4.10it/s]\n",
      "100%|███████████████████████████████████████████████████████████████| 19/19 [00:04<00:00,  4.52it/s]\n",
      "100%|███████████████████████████████████████████████████████████████| 19/19 [00:04<00:00,  4.25it/s]\n",
      "100%|███████████████████████████████████████████████████████████████| 19/19 [00:03<00:00,  4.79it/s]\n",
      "100%|███████████████████████████████████████████████████████████████| 19/19 [00:03<00:00,  4.84it/s]\n",
      "100%|███████████████████████████████████████████████████████████████| 19/19 [00:03<00:00,  4.92it/s]\n",
      "100%|███████████████████████████████████████████████████████████████| 19/19 [00:03<00:00,  4.81it/s]\n",
      "100%|███████████████████████████████████████████████████████████████| 19/19 [00:03<00:00,  5.35it/s]\n",
      "100%|███████████████████████████████████████████████████████████████| 19/19 [00:03<00:00,  5.56it/s]\n",
      "100%|███████████████████████████████████████████████████████████████| 19/19 [00:03<00:00,  5.67it/s]\n",
      "100%|███████████████████████████████████████████████████████████████| 19/19 [00:04<00:00,  3.94it/s]\n",
      "100%|███████████████████████████████████████████████████████████████| 19/19 [00:04<00:00,  4.59it/s]\n",
      "100%|███████████████████████████████████████████████████████████████| 19/19 [00:03<00:00,  4.96it/s]\n",
      "100%|███████████████████████████████████████████████████████████████| 19/19 [00:03<00:00,  5.01it/s]\n",
      "100%|███████████████████████████████████████████████████████████████| 19/19 [00:04<00:00,  4.58it/s]\n",
      "100%|███████████████████████████████████████████████████████████████| 19/19 [00:03<00:00,  5.27it/s]\n",
      "100%|███████████████████████████████████████████████████████████████| 19/19 [00:03<00:00,  5.39it/s]\n",
      "100%|███████████████████████████████████████████████████████████████| 19/19 [00:03<00:00,  5.43it/s]\n",
      "100%|███████████████████████████████████████████████████████████████| 19/19 [00:03<00:00,  5.53it/s]\n",
      "100%|███████████████████████████████████████████████████████████████| 19/19 [00:03<00:00,  6.31it/s]\n",
      "100%|███████████████████████████████████████████████████████████████| 19/19 [00:02<00:00,  6.44it/s]\n",
      "100%|███████████████████████████████████████████████████████████████| 19/19 [00:03<00:00,  6.23it/s]\n",
      "100%|███████████████████████████████████████████████████████████████| 19/19 [00:04<00:00,  4.31it/s]\n",
      "100%|███████████████████████████████████████████████████████████████| 19/19 [00:04<00:00,  4.34it/s]\n",
      "100%|███████████████████████████████████████████████████████████████| 19/19 [00:03<00:00,  5.00it/s]\n",
      "100%|███████████████████████████████████████████████████████████████| 19/19 [00:03<00:00,  5.09it/s]\n"
     ]
    },
    {
     "name": "stdout",
     "output_type": "stream",
     "text": [
      "10.3 mins elapsed, 0.0 secs paused (0.0%)\n"
     ]
    }
   ],
   "source": [
    "bm.cross_validate(n_sample=20)"
   ]
  },
  {
   "cell_type": "markdown",
   "id": "5cf4ae3a-6876-4570-93c1-21323a528688",
   "metadata": {},
   "source": [
    "#### Visualize"
   ]
  },
  {
   "cell_type": "code",
   "execution_count": 28,
   "id": "d7678f9e-e7be-42a4-ae94-2d6a39a72f9d",
   "metadata": {},
   "outputs": [],
   "source": [
    "file = 'param_etf.csv'"
   ]
  },
  {
   "cell_type": "markdown",
   "id": "fb55fe7d-bfcf-4c31-a620-59da0cd56533",
   "metadata": {},
   "source": [
    "*Save param study*"
   ]
  },
  {
   "cell_type": "code",
   "execution_count": null,
   "id": "29406419-247d-4e29-b9f9-505d4f90f23d",
   "metadata": {},
   "outputs": [],
   "source": [
    "f = dict(file=file, path=path_data)\n",
    "df_cv = bm.get_cat_data(params, **f)"
   ]
  },
  {
   "cell_type": "markdown",
   "id": "bc9d63e0-a5d4-4580-a6ea-b0bf3adb4b72",
   "metadata": {},
   "source": [
    "*Load param study*"
   ]
  },
  {
   "cell_type": "code",
   "execution_count": 29,
   "id": "35034f9b-e0d2-4b97-a4d9-c2872078403a",
   "metadata": {},
   "outputs": [
    {
     "name": "stdout",
     "output_type": "stream",
     "text": [
      "Returning data/param_etf.csv\n",
      "144 param sets with 19 iterations per set\n"
     ]
    }
   ],
   "source": [
    "bm = BacktestManager\n",
    "df_cv = bm.catplot(file, path=path_data)"
   ]
  },
  {
   "cell_type": "code",
   "execution_count": 30,
   "id": "4c54e657-25d5-4d05-9aa0-dd479a8f39ff",
   "metadata": {},
   "outputs": [
    {
     "name": "stdout",
     "output_type": "stream",
     "text": [
      "Returning cagr of KODEX200 from 2021-12-14 to 2024-10-25\n"
     ]
    }
   ],
   "source": [
    "y = 'cagr'\n",
    "ref_val = bm.benchmark_stats(y, data=df_cv, name='KODEX200')"
   ]
  },
  {
   "cell_type": "code",
   "execution_count": 31,
   "id": "68c0b3b5-c975-4728-801d-d5ac2207b4f2",
   "metadata": {},
   "outputs": [
    {
     "data": {
      "image/png": "[encoded data removed]",
      "text/plain": [
       "<Figure size 966.25x750 with 12 Axes>"
      ]
     },
     "metadata": {},
     "output_type": "display_data"
    }
   ],
   "source": [
    "kw = {'row':'lookback', 'col':'freq', 'x':'weigh', 'hue':'lag'}\n",
    "#kw = {'col':'lookback', 'row':'freq', 'x':'weigh', 'hue':'lag'}\n",
    "\n",
    "_ = bm.catplot(data=df_cv, y=y, ref_val=ref_val, height=2.5, aspect=.9, **kw)"
   ]
  },
  {
   "cell_type": "markdown",
   "id": "31e7012c-a09e-4042-8590-fd8f6eccc586",
   "metadata": {},
   "source": [
    "#### Validation"
   ]
  },
  {
   "cell_type": "code",
   "execution_count": 32,
   "id": "4156cc56-25a5-4a27-a957-ea9abd6ee267",
   "metadata": {},
   "outputs": [],
   "source": [
    "n_val = 260\n",
    "df_val = df_etf.iloc[-n_val:]"
   ]
  },
  {
   "cell_type": "code",
   "execution_count": 33,
   "id": "7eaa890c-52c2-439a-bfde-7ad01925ec98",
   "metadata": {},
   "outputs": [
    {
     "name": "stdout",
     "output_type": "stream",
     "text": [
      "6 assets from 2023-09-27 to 2024-10-25 uploaded.\n",
      "running self.util_check_days_in_year to check days in a year\n",
      "WARNING: the number of days in a year with 6 assets (100%) is 243 in avg.\n",
      "Benchmark is KODEX200\n"
     ]
    }
   ],
   "source": [
    "bm = BacktestManager(df_val, **kwargs_bm)\n",
    "\n",
    "lags = dict(lookback=6, lag=20)\n",
    "bm.benchmark_ticker(**lags)"
   ]
  },
  {
   "cell_type": "code",
   "execution_count": 34,
   "id": "8490870d-21cd-4c17-813b-a7e4f3a1bc23",
   "metadata": {},
   "outputs": [],
   "source": [
    "# weigh, lookback(M), lag(D), freq(D)\n",
    "p_comb = [['equally', 6, 20, 125], ['meanvar', 6, 20, 125]]\n",
    "kwa_list = [{'name':f'ETF:{x[0]}/lb{x[1]}/lg{x[2]}/f{x[3]}',\n",
    "           'weigh':x[0], 'lookback':x[1], 'lag':x[2], 'freq':x[3]} \n",
    "            for x in p_comb]"
   ]
  },
  {
   "cell_type": "code",
   "execution_count": 35,
   "id": "7daf0a19-ffd3-4579-9522-7e988bba41bf",
   "metadata": {},
   "outputs": [
    {
     "name": "stdout",
     "output_type": "stream",
     "text": [
      "Backtesting 3 strategies: KODEX200, ETF:equally/lb6/lg20/f125, ETF:meanvar/lb6/lg20/f125\n"
     ]
    },
    {
     "name": "stderr",
     "output_type": "stream",
     "text": [
      "100%|█████████████████████████████████████████████████████████████████| 3/3 [00:00<00:00, 14.45it/s]"
     ]
    },
    {
     "name": "stdout",
     "output_type": "stream",
     "text": [
      "Returning stats\n"
     ]
    },
    {
     "name": "stderr",
     "output_type": "stream",
     "text": [
      "\n"
     ]
    },
    {
     "data": {
      "text/html": [
       "<div>\n",
       "<style scoped>\n",
       "    .dataframe tbody tr th:only-of-type {\n",
       "        vertical-align: middle;\n",
       "    }\n",
       "\n",
       "    .dataframe tbody tr th {\n",
       "        vertical-align: top;\n",
       "    }\n",
       "\n",
       "    .dataframe thead th {\n",
       "        text-align: right;\n",
       "    }\n",
       "</style>\n",
       "<table border=\"1\" class=\"dataframe\">\n",
       "  <thead>\n",
       "    <tr style=\"text-align: right;\">\n",
       "      <th></th>\n",
       "      <th>ETF:meanvar/lb6/lg20/f125</th>\n",
       "      <th>ETF:equally/lb6/lg20/f125</th>\n",
       "      <th>KODEX200</th>\n",
       "    </tr>\n",
       "  </thead>\n",
       "  <tbody>\n",
       "    <tr>\n",
       "      <th>start</th>\n",
       "      <td>2023-09-26</td>\n",
       "      <td>2023-09-26</td>\n",
       "      <td>2023-09-26</td>\n",
       "    </tr>\n",
       "    <tr>\n",
       "      <th>end</th>\n",
       "      <td>2024-10-25</td>\n",
       "      <td>2024-10-25</td>\n",
       "      <td>2024-10-25</td>\n",
       "    </tr>\n",
       "    <tr>\n",
       "      <th>total_return</th>\n",
       "      <td>0.106379</td>\n",
       "      <td>0.063134</td>\n",
       "      <td>-0.050663</td>\n",
       "    </tr>\n",
       "    <tr>\n",
       "      <th>cagr</th>\n",
       "      <td>0.097988</td>\n",
       "      <td>0.058243</td>\n",
       "      <td>-0.046938</td>\n",
       "    </tr>\n",
       "    <tr>\n",
       "      <th>calmar</th>\n",
       "      <td>2.074562</td>\n",
       "      <td>1.306615</td>\n",
       "      <td>-0.285257</td>\n",
       "    </tr>\n",
       "    <tr>\n",
       "      <th>max_drawdown</th>\n",
       "      <td>-0.047233</td>\n",
       "      <td>-0.044576</td>\n",
       "      <td>-0.164546</td>\n",
       "    </tr>\n",
       "    <tr>\n",
       "      <th>avg_drawdown</th>\n",
       "      <td>-0.011426</td>\n",
       "      <td>-0.009972</td>\n",
       "      <td>-0.028975</td>\n",
       "    </tr>\n",
       "    <tr>\n",
       "      <th>avg_drawdown_days</th>\n",
       "      <td>16.333333</td>\n",
       "      <td>16.7</td>\n",
       "      <td>17.4</td>\n",
       "    </tr>\n",
       "    <tr>\n",
       "      <th>daily_vol</th>\n",
       "      <td>0.056786</td>\n",
       "      <td>0.051258</td>\n",
       "      <td>0.158881</td>\n",
       "    </tr>\n",
       "    <tr>\n",
       "      <th>daily_sharpe</th>\n",
       "      <td>1.754144</td>\n",
       "      <td>1.183371</td>\n",
       "      <td>-0.236282</td>\n",
       "    </tr>\n",
       "    <tr>\n",
       "      <th>daily_sortino</th>\n",
       "      <td>2.620958</td>\n",
       "      <td>1.672202</td>\n",
       "      <td>-0.306784</td>\n",
       "    </tr>\n",
       "    <tr>\n",
       "      <th>monthly_vol</th>\n",
       "      <td>0.065958</td>\n",
       "      <td>0.04986</td>\n",
       "      <td>0.09649</td>\n",
       "    </tr>\n",
       "    <tr>\n",
       "      <th>monthly_sharpe</th>\n",
       "      <td>1.449789</td>\n",
       "      <td>1.15868</td>\n",
       "      <td>-0.452419</td>\n",
       "    </tr>\n",
       "    <tr>\n",
       "      <th>monthly_sortino</th>\n",
       "      <td>8.282168</td>\n",
       "      <td>4.383122</td>\n",
       "      <td>-0.743988</td>\n",
       "    </tr>\n",
       "  </tbody>\n",
       "</table>\n",
       "</div>"
      ],
      "text/plain": [
       "                  ETF:meanvar/lb6/lg20/f125 ETF:equally/lb6/lg20/f125  \\\n",
       "start                            2023-09-26                2023-09-26   \n",
       "end                              2024-10-25                2024-10-25   \n",
       "total_return                       0.106379                  0.063134   \n",
       "cagr                               0.097988                  0.058243   \n",
       "calmar                             2.074562                  1.306615   \n",
       "max_drawdown                      -0.047233                 -0.044576   \n",
       "avg_drawdown                      -0.011426                 -0.009972   \n",
       "avg_drawdown_days                 16.333333                      16.7   \n",
       "daily_vol                          0.056786                  0.051258   \n",
       "daily_sharpe                       1.754144                  1.183371   \n",
       "daily_sortino                      2.620958                  1.672202   \n",
       "monthly_vol                        0.065958                   0.04986   \n",
       "monthly_sharpe                     1.449789                   1.15868   \n",
       "monthly_sortino                    8.282168                  4.383122   \n",
       "\n",
       "                     KODEX200  \n",
       "start              2023-09-26  \n",
       "end                2024-10-25  \n",
       "total_return        -0.050663  \n",
       "cagr                -0.046938  \n",
       "calmar              -0.285257  \n",
       "max_drawdown        -0.164546  \n",
       "avg_drawdown        -0.028975  \n",
       "avg_drawdown_days        17.4  \n",
       "daily_vol            0.158881  \n",
       "daily_sharpe        -0.236282  \n",
       "daily_sortino       -0.306784  \n",
       "monthly_vol           0.09649  \n",
       "monthly_sharpe      -0.452419  \n",
       "monthly_sortino     -0.743988  "
      ]
     },
     "execution_count": 35,
     "metadata": {},
     "output_type": "execute_result"
    },
    {
     "data": {
      "image/png": "[encoded data removed]",
      "text/plain": [
       "<Figure size 800x400 with 1 Axes>"
      ]
     },
     "metadata": {},
     "output_type": "display_data"
    }
   ],
   "source": [
    "kwargs_build = dict(\n",
    "    select='all'\n",
    ")\n",
    "bm.build_batch(*kwa_list, **kwargs_build)\n",
    "\n",
    "bm.run(stats_sort_by='cagr', figsize=(8,4))"
   ]
  },
  {
   "cell_type": "markdown",
   "id": "bbc48cfb-bec2-4b43-b8d6-289657360943",
   "metadata": {},
   "source": [
    "## Factor"
   ]
  },
  {
   "cell_type": "code",
   "execution_count": 9,
   "id": "944a289e-afaf-4301-8d5f-a20197d155e1",
   "metadata": {},
   "outputs": [
    {
     "data": {
      "text/plain": [
       "7988"
      ]
     },
     "execution_count": 9,
     "metadata": {},
     "output_type": "execute_result"
    }
   ],
   "source": [
    "len(df_factor)"
   ]
  },
  {
   "cell_type": "code",
   "execution_count": 49,
   "id": "3501055b-c8a2-4dda-af44-2837215fd935",
   "metadata": {},
   "outputs": [],
   "source": [
    "n_val = 700\n",
    "lookback = 260\n",
    "df = df_factor\n",
    "df_train = df.iloc[:-n_val]\n",
    "df_val = df.iloc[-n_val-lookback:]"
   ]
  },
  {
   "cell_type": "code",
   "execution_count": 50,
   "id": "529a3bb6-7c93-4b41-afdd-2ff53ccbe8b9",
   "metadata": {},
   "outputs": [],
   "source": [
    "kwargs_bm = dict(\n",
    "    initial_capital = 1e5, # USD\n",
    "    commissions = 0,\n",
    "    align_axis = 0, \n",
    "    days_in_year = 252,\n",
    "    asset_names = assetnames_factor\n",
    ")"
   ]
  },
  {
   "cell_type": "markdown",
   "id": "d08f436f-f0ca-4f29-9672-07a4be4537ee",
   "metadata": {},
   "source": [
    "### All Combinations"
   ]
  },
  {
   "cell_type": "code",
   "execution_count": 10,
   "id": "8d2765fb-56a3-4f63-bd7e-e2d6854232a9",
   "metadata": {},
   "outputs": [
    {
     "data": {
      "text/plain": [
       "['iShares MSCI USA Momentum Factor ETF',\n",
       " 'iShares MSCI USA Quality Factor ETF',\n",
       " 'iShares MSCI USA Size Factor ETF',\n",
       " 'iShares MSCI USA Min Vol Factor ETF',\n",
       " 'iShares MSCI USA Value Factor ETF']"
      ]
     },
     "execution_count": 10,
     "metadata": {},
     "output_type": "execute_result"
    }
   ],
   "source": [
    "selected = ['MTUM','QUAL','SIZE','USMV','VLUE']\n",
    "[assetnames_factor[x] for x in selected]"
   ]
  },
  {
   "cell_type": "markdown",
   "id": "183f0b66-090c-49e7-859b-41ed2fd6f4e2",
   "metadata": {},
   "source": [
    "#### Cross-validate"
   ]
  },
  {
   "cell_type": "code",
   "execution_count": 13,
   "id": "1fe8b9b2-c071-4577-8a6a-06422ec56ecb",
   "metadata": {},
   "outputs": [
    {
     "data": {
      "text/plain": [
       "{'name': 'FACTOR:equally/lb3/lg5/f20',\n",
       " 'weigh': 'equally',\n",
       " 'lookback': 3,\n",
       " 'lag': 5,\n",
       " 'freq': 20}"
      ]
     },
     "execution_count": 13,
     "metadata": {},
     "output_type": "execute_result"
    }
   ],
   "source": [
    "from itertools import product\n",
    "\n",
    "p_args = dict(\n",
    "    p_w = ['equally', 'erc', 'meanvar', 'invvol'],\n",
    "    p_lookback = [3,6,12],\n",
    "    p_lag = [5,10,20],\n",
    "    p_freq = [20,60,125,250]\n",
    ")\n",
    "p_comb = list(product(*p_args.values()))\n",
    "params = [{'name':f'FACTOR:{x[0]}/lb{x[1]}/lg{x[2]}/f{x[3]}',\n",
    "           'weigh':x[0], 'lookback':x[1], 'lag':x[2], 'freq':x[3]} \n",
    "            for x in p_comb]\n",
    "params[0]"
   ]
  },
  {
   "cell_type": "code",
   "execution_count": 14,
   "id": "01a63b34-51c1-47b4-b4ae-baeac21f32e4",
   "metadata": {},
   "outputs": [
    {
     "name": "stdout",
     "output_type": "stream",
     "text": [
      "period reset: 2015-04-30 ~ 2022-01-05\n",
      "7 assets from 2015-04-30 to 2022-01-05 uploaded.\n",
      "running self.util_check_days_in_year to check days in a year\n"
     ]
    }
   ],
   "source": [
    "bm = BacktestManager(df_train, **kwargs_bm)"
   ]
  },
  {
   "cell_type": "code",
   "execution_count": 15,
   "id": "58474546-9b3b-4735-a7ab-7a3c06e90b6f",
   "metadata": {},
   "outputs": [
    {
     "name": "stdout",
     "output_type": "stream",
     "text": [
      "144 jobs prepared for cross-validation\n"
     ]
    }
   ],
   "source": [
    "kwa_list = params\n",
    "kwargs_build = dict(\n",
    "    select=selected, reset_portfolios=True, build_cv=True\n",
    ")\n",
    "bm.build_batch(*kwa_list, **kwargs_build)"
   ]
  },
  {
   "cell_type": "code",
   "execution_count": 16,
   "id": "61f8ab0f-e1ab-449a-ba6a-f9b193b83888",
   "metadata": {
    "scrolled": true
   },
   "outputs": [
    {
     "name": "stdout",
     "output_type": "stream",
     "text": [
      "Cross-validating 144 strategies: FACTOR:equally/lb3/lg5/f20, FACTOR:equally/lb3/lg5/f60, ... , FACTOR:invvol/lb12/lg20/f250\n"
     ]
    },
    {
     "name": "stderr",
     "output_type": "stream",
     "text": [
      "100%|███████████████████████████████████████████████████████████████| 18/18 [00:15<00:00,  1.19it/s]\n",
      "100%|███████████████████████████████████████████████████████████████| 18/18 [00:14<00:00,  1.21it/s]\n",
      "100%|███████████████████████████████████████████████████████████████| 18/18 [00:14<00:00,  1.21it/s]\n",
      "100%|███████████████████████████████████████████████████████████████| 18/18 [00:14<00:00,  1.23it/s]\n",
      "100%|███████████████████████████████████████████████████████████████| 18/18 [00:13<00:00,  1.31it/s]\n",
      "100%|███████████████████████████████████████████████████████████████| 18/18 [00:14<00:00,  1.25it/s]\n",
      "100%|███████████████████████████████████████████████████████████████| 18/18 [00:14<00:00,  1.26it/s]\n",
      "100%|███████████████████████████████████████████████████████████████| 18/18 [00:14<00:00,  1.26it/s]\n",
      "100%|███████████████████████████████████████████████████████████████| 18/18 [00:18<00:00,  1.05s/it]\n",
      "100%|███████████████████████████████████████████████████████████████| 18/18 [00:18<00:00,  1.04s/it]\n",
      "100%|███████████████████████████████████████████████████████████████| 18/18 [00:18<00:00,  1.03s/it]\n",
      "100%|███████████████████████████████████████████████████████████████| 18/18 [00:18<00:00,  1.04s/it]\n",
      "100%|███████████████████████████████████████████████████████████████| 18/18 [00:16<00:00,  1.07it/s]\n",
      "100%|███████████████████████████████████████████████████████████████| 18/18 [00:16<00:00,  1.11it/s]\n",
      "100%|███████████████████████████████████████████████████████████████| 18/18 [00:16<00:00,  1.11it/s]\n",
      "100%|███████████████████████████████████████████████████████████████| 18/18 [00:16<00:00,  1.11it/s]\n",
      "100%|███████████████████████████████████████████████████████████████| 18/18 [00:13<00:00,  1.30it/s]\n",
      "100%|███████████████████████████████████████████████████████████████| 18/18 [00:13<00:00,  1.33it/s]\n",
      "100%|███████████████████████████████████████████████████████████████| 18/18 [00:13<00:00,  1.33it/s]\n",
      "100%|███████████████████████████████████████████████████████████████| 18/18 [00:13<00:00,  1.32it/s]\n",
      "100%|███████████████████████████████████████████████████████████████| 18/18 [00:16<00:00,  1.06it/s]\n",
      "100%|███████████████████████████████████████████████████████████████| 18/18 [00:16<00:00,  1.08it/s]\n",
      "100%|███████████████████████████████████████████████████████████████| 18/18 [00:16<00:00,  1.08it/s]\n",
      "100%|███████████████████████████████████████████████████████████████| 18/18 [00:16<00:00,  1.09it/s]\n",
      "100%|███████████████████████████████████████████████████████████████| 18/18 [00:16<00:00,  1.08it/s]\n",
      "100%|███████████████████████████████████████████████████████████████| 18/18 [00:16<00:00,  1.10it/s]\n",
      "100%|███████████████████████████████████████████████████████████████| 18/18 [00:16<00:00,  1.09it/s]\n",
      "100%|███████████████████████████████████████████████████████████████| 18/18 [00:16<00:00,  1.10it/s]\n",
      "100%|███████████████████████████████████████████████████████████████| 18/18 [00:12<00:00,  1.41it/s]\n",
      "100%|███████████████████████████████████████████████████████████████| 18/18 [00:12<00:00,  1.42it/s]\n",
      "100%|███████████████████████████████████████████████████████████████| 18/18 [00:12<00:00,  1.41it/s]\n",
      "100%|███████████████████████████████████████████████████████████████| 18/18 [00:12<00:00,  1.40it/s]\n",
      "100%|███████████████████████████████████████████████████████████████| 18/18 [00:17<00:00,  1.04it/s]\n",
      "100%|███████████████████████████████████████████████████████████████| 18/18 [00:17<00:00,  1.04it/s]\n",
      "100%|███████████████████████████████████████████████████████████████| 18/18 [00:17<00:00,  1.05it/s]\n",
      "100%|███████████████████████████████████████████████████████████████| 18/18 [00:17<00:00,  1.06it/s]\n",
      "100%|███████████████████████████████████████████████████████████████| 18/18 [00:18<00:00,  1.06s/it]\n",
      "100%|███████████████████████████████████████████████████████████████| 18/18 [00:16<00:00,  1.07it/s]\n",
      "100%|███████████████████████████████████████████████████████████████| 18/18 [00:16<00:00,  1.11it/s]\n",
      "100%|███████████████████████████████████████████████████████████████| 18/18 [00:15<00:00,  1.13it/s]\n",
      "100%|███████████████████████████████████████████████████████████████| 18/18 [00:16<00:00,  1.08it/s]\n",
      "100%|███████████████████████████████████████████████████████████████| 18/18 [00:14<00:00,  1.21it/s]\n",
      "100%|███████████████████████████████████████████████████████████████| 18/18 [00:14<00:00,  1.25it/s]\n",
      "100%|███████████████████████████████████████████████████████████████| 18/18 [00:14<00:00,  1.28it/s]\n",
      "100%|███████████████████████████████████████████████████████████████| 18/18 [00:22<00:00,  1.23s/it]\n",
      "100%|███████████████████████████████████████████████████████████████| 18/18 [00:19<00:00,  1.08s/it]\n",
      "100%|███████████████████████████████████████████████████████████████| 18/18 [00:18<00:00,  1.05s/it]\n",
      "100%|███████████████████████████████████████████████████████████████| 18/18 [00:18<00:00,  1.04s/it]\n",
      "100%|███████████████████████████████████████████████████████████████| 18/18 [00:19<00:00,  1.07s/it]\n",
      "100%|███████████████████████████████████████████████████████████████| 18/18 [00:17<00:00,  1.04it/s]\n",
      "100%|███████████████████████████████████████████████████████████████| 18/18 [00:17<00:00,  1.04it/s]\n",
      "100%|███████████████████████████████████████████████████████████████| 18/18 [00:17<00:00,  1.05it/s]\n",
      "100%|███████████████████████████████████████████████████████████████| 18/18 [00:16<00:00,  1.10it/s]\n",
      "100%|███████████████████████████████████████████████████████████████| 18/18 [00:14<00:00,  1.22it/s]\n",
      "100%|███████████████████████████████████████████████████████████████| 18/18 [00:14<00:00,  1.26it/s]\n",
      "100%|███████████████████████████████████████████████████████████████| 18/18 [00:14<00:00,  1.27it/s]\n",
      "100%|███████████████████████████████████████████████████████████████| 18/18 [00:20<00:00,  1.13s/it]\n",
      "100%|███████████████████████████████████████████████████████████████| 18/18 [00:18<00:00,  1.01s/it]\n",
      "100%|███████████████████████████████████████████████████████████████| 18/18 [00:17<00:00,  1.02it/s]\n",
      "100%|███████████████████████████████████████████████████████████████| 18/18 [00:17<00:00,  1.04it/s]\n",
      "100%|███████████████████████████████████████████████████████████████| 18/18 [00:20<00:00,  1.12s/it]\n",
      "100%|███████████████████████████████████████████████████████████████| 18/18 [00:18<00:00,  1.00s/it]\n",
      "100%|███████████████████████████████████████████████████████████████| 18/18 [00:17<00:00,  1.04it/s]\n",
      "100%|███████████████████████████████████████████████████████████████| 18/18 [00:17<00:00,  1.05it/s]\n",
      "100%|███████████████████████████████████████████████████████████████| 18/18 [00:15<00:00,  1.19it/s]\n",
      "100%|███████████████████████████████████████████████████████████████| 18/18 [00:13<00:00,  1.30it/s]\n",
      "100%|███████████████████████████████████████████████████████████████| 18/18 [00:13<00:00,  1.32it/s]\n",
      "100%|███████████████████████████████████████████████████████████████| 18/18 [00:13<00:00,  1.37it/s]\n",
      "100%|███████████████████████████████████████████████████████████████| 18/18 [00:21<00:00,  1.18s/it]\n",
      "100%|███████████████████████████████████████████████████████████████| 18/18 [00:18<00:00,  1.05s/it]\n",
      "100%|███████████████████████████████████████████████████████████████| 18/18 [00:18<00:00,  1.01s/it]\n",
      "100%|███████████████████████████████████████████████████████████████| 18/18 [00:17<00:00,  1.01it/s]\n",
      "100%|███████████████████████████████████████████████████████████████| 18/18 [00:22<00:00,  1.25s/it]\n",
      "100%|███████████████████████████████████████████████████████████████| 18/18 [00:17<00:00,  1.01it/s]\n",
      "100%|███████████████████████████████████████████████████████████████| 18/18 [00:16<00:00,  1.09it/s]\n",
      "100%|███████████████████████████████████████████████████████████████| 18/18 [00:16<00:00,  1.12it/s]\n",
      "100%|███████████████████████████████████████████████████████████████| 18/18 [00:18<00:00,  1.05s/it]\n",
      "100%|███████████████████████████████████████████████████████████████| 18/18 [00:15<00:00,  1.16it/s]\n",
      "100%|███████████████████████████████████████████████████████████████| 18/18 [00:14<00:00,  1.24it/s]\n",
      "100%|███████████████████████████████████████████████████████████████| 18/18 [00:14<00:00,  1.28it/s]\n",
      "100%|███████████████████████████████████████████████████████████████| 18/18 [00:26<00:00,  1.46s/it]\n",
      "100%|███████████████████████████████████████████████████████████████| 18/18 [00:20<00:00,  1.16s/it]\n",
      "100%|███████████████████████████████████████████████████████████████| 18/18 [00:19<00:00,  1.07s/it]\n",
      "100%|███████████████████████████████████████████████████████████████| 18/18 [00:18<00:00,  1.03s/it]\n",
      "100%|███████████████████████████████████████████████████████████████| 18/18 [00:23<00:00,  1.29s/it]\n",
      "100%|███████████████████████████████████████████████████████████████| 18/18 [00:18<00:00,  1.01s/it]\n",
      "100%|███████████████████████████████████████████████████████████████| 18/18 [00:16<00:00,  1.06it/s]\n",
      "100%|███████████████████████████████████████████████████████████████| 18/18 [00:16<00:00,  1.09it/s]\n",
      "100%|███████████████████████████████████████████████████████████████| 18/18 [00:18<00:00,  1.04s/it]\n",
      "100%|███████████████████████████████████████████████████████████████| 18/18 [00:15<00:00,  1.20it/s]\n",
      "100%|███████████████████████████████████████████████████████████████| 18/18 [00:13<00:00,  1.29it/s]\n",
      "100%|███████████████████████████████████████████████████████████████| 18/18 [00:13<00:00,  1.32it/s]\n",
      "100%|███████████████████████████████████████████████████████████████| 18/18 [00:23<00:00,  1.33s/it]\n",
      "100%|███████████████████████████████████████████████████████████████| 18/18 [00:18<00:00,  1.04s/it]\n",
      "100%|███████████████████████████████████████████████████████████████| 18/18 [00:17<00:00,  1.03it/s]\n",
      "100%|███████████████████████████████████████████████████████████████| 18/18 [00:16<00:00,  1.06it/s]\n",
      "100%|███████████████████████████████████████████████████████████████| 18/18 [00:23<00:00,  1.32s/it]\n",
      "100%|███████████████████████████████████████████████████████████████| 18/18 [00:18<00:00,  1.04s/it]\n",
      "100%|███████████████████████████████████████████████████████████████| 18/18 [00:17<00:00,  1.04it/s]\n",
      "100%|███████████████████████████████████████████████████████████████| 18/18 [00:16<00:00,  1.08it/s]\n",
      "100%|███████████████████████████████████████████████████████████████| 18/18 [00:17<00:00,  1.03it/s]\n",
      "100%|███████████████████████████████████████████████████████████████| 18/18 [00:14<00:00,  1.28it/s]\n",
      "100%|███████████████████████████████████████████████████████████████| 18/18 [00:13<00:00,  1.35it/s]\n",
      "100%|███████████████████████████████████████████████████████████████| 18/18 [00:12<00:00,  1.42it/s]\n",
      "100%|███████████████████████████████████████████████████████████████| 18/18 [00:25<00:00,  1.40s/it]\n",
      "100%|███████████████████████████████████████████████████████████████| 18/18 [00:19<00:00,  1.10s/it]\n",
      "100%|███████████████████████████████████████████████████████████████| 18/18 [00:18<00:00,  1.01s/it]\n",
      "100%|███████████████████████████████████████████████████████████████| 18/18 [00:17<00:00,  1.03it/s]\n",
      "100%|███████████████████████████████████████████████████████████████| 18/18 [00:17<00:00,  1.02it/s]\n",
      "100%|███████████████████████████████████████████████████████████████| 18/18 [00:16<00:00,  1.09it/s]\n",
      "100%|███████████████████████████████████████████████████████████████| 18/18 [00:16<00:00,  1.11it/s]\n",
      "100%|███████████████████████████████████████████████████████████████| 18/18 [00:15<00:00,  1.13it/s]\n",
      "100%|███████████████████████████████████████████████████████████████| 18/18 [00:15<00:00,  1.16it/s]\n",
      "100%|███████████████████████████████████████████████████████████████| 18/18 [00:14<00:00,  1.23it/s]\n",
      "100%|███████████████████████████████████████████████████████████████| 18/18 [00:14<00:00,  1.26it/s]\n",
      "100%|███████████████████████████████████████████████████████████████| 18/18 [00:14<00:00,  1.26it/s]\n",
      "100%|███████████████████████████████████████████████████████████████| 18/18 [00:20<00:00,  1.15s/it]\n",
      "100%|███████████████████████████████████████████████████████████████| 18/18 [00:18<00:00,  1.05s/it]\n",
      "100%|███████████████████████████████████████████████████████████████| 18/18 [00:18<00:00,  1.05s/it]\n",
      "100%|███████████████████████████████████████████████████████████████| 18/18 [00:18<00:00,  1.03s/it]\n",
      "100%|███████████████████████████████████████████████████████████████| 18/18 [00:18<00:00,  1.01s/it]\n",
      "100%|███████████████████████████████████████████████████████████████| 18/18 [00:16<00:00,  1.06it/s]\n",
      "100%|███████████████████████████████████████████████████████████████| 18/18 [00:16<00:00,  1.08it/s]\n",
      "100%|███████████████████████████████████████████████████████████████| 18/18 [00:16<00:00,  1.09it/s]\n",
      "100%|███████████████████████████████████████████████████████████████| 18/18 [00:15<00:00,  1.19it/s]\n",
      "100%|███████████████████████████████████████████████████████████████| 18/18 [00:14<00:00,  1.27it/s]\n",
      "100%|███████████████████████████████████████████████████████████████| 18/18 [00:13<00:00,  1.29it/s]\n",
      "100%|███████████████████████████████████████████████████████████████| 18/18 [00:13<00:00,  1.29it/s]\n",
      "100%|███████████████████████████████████████████████████████████████| 18/18 [00:18<00:00,  1.04s/it]\n",
      "100%|███████████████████████████████████████████████████████████████| 18/18 [00:17<00:00,  1.04it/s]\n",
      "100%|███████████████████████████████████████████████████████████████| 18/18 [00:16<00:00,  1.06it/s]\n",
      "100%|███████████████████████████████████████████████████████████████| 18/18 [00:16<00:00,  1.06it/s]\n",
      "100%|███████████████████████████████████████████████████████████████| 18/18 [00:18<00:00,  1.03s/it]\n",
      "100%|███████████████████████████████████████████████████████████████| 18/18 [00:17<00:00,  1.05it/s]\n",
      "100%|███████████████████████████████████████████████████████████████| 18/18 [00:16<00:00,  1.07it/s]\n",
      "100%|███████████████████████████████████████████████████████████████| 18/18 [00:16<00:00,  1.07it/s]\n",
      "100%|███████████████████████████████████████████████████████████████| 18/18 [00:14<00:00,  1.27it/s]\n",
      "100%|███████████████████████████████████████████████████████████████| 18/18 [00:13<00:00,  1.35it/s]\n",
      "100%|███████████████████████████████████████████████████████████████| 18/18 [00:13<00:00,  1.37it/s]\n",
      "100%|███████████████████████████████████████████████████████████████| 18/18 [00:12<00:00,  1.40it/s]\n",
      "100%|███████████████████████████████████████████████████████████████| 18/18 [00:19<00:00,  1.08s/it]\n",
      "100%|███████████████████████████████████████████████████████████████| 18/18 [00:19<00:00,  1.08s/it]\n",
      "100%|███████████████████████████████████████████████████████████████| 18/18 [00:18<00:00,  1.00s/it]\n",
      "100%|███████████████████████████████████████████████████████████████| 18/18 [00:17<00:00,  1.00it/s]\n"
     ]
    },
    {
     "name": "stdout",
     "output_type": "stream",
     "text": [
      "41.4 mins elapsed, 0.0 secs paused (0.0%)\n",
      "Temp batch files deleted\n"
     ]
    }
   ],
   "source": [
    "kw_batch = dict(size_batch=50, path_batch=path_data)\n",
    "bm.cross_validate(n_sample=20, **kw_batch)"
   ]
  },
  {
   "cell_type": "code",
   "execution_count": null,
   "id": "71c77981-a2ef-4b7c-876f-e1fd9cbb7f79",
   "metadata": {
    "scrolled": true
   },
   "outputs": [],
   "source": [
    "#bm.cross_validate(n_sample=20)"
   ]
  },
  {
   "cell_type": "markdown",
   "id": "8d1c1a04-5ed5-48a3-bef9-ccd465da9427",
   "metadata": {},
   "source": [
    "#### Visualize"
   ]
  },
  {
   "cell_type": "code",
   "execution_count": 52,
   "id": "26453c4f-24e9-48c7-a811-149173282fe3",
   "metadata": {},
   "outputs": [],
   "source": [
    "file = 'param_factor_ishares.csv'"
   ]
  },
  {
   "cell_type": "markdown",
   "id": "9ea6ae20-221d-4cbd-aa17-159a4a9cab71",
   "metadata": {},
   "source": [
    "*Save param study*"
   ]
  },
  {
   "cell_type": "code",
   "execution_count": 18,
   "id": "9c91211c-bcb2-42ec-ace1-1fb88af542dc",
   "metadata": {},
   "outputs": [
    {
     "name": "stdout",
     "output_type": "stream",
     "text": [
      "data/param_factor_ishares.csv saved\n",
      "144 param sets with 18 iterations per set\n"
     ]
    }
   ],
   "source": [
    "f = dict(file=file, path=path_data)\n",
    "df_cv = bm.get_cat_data(params, **f)"
   ]
  },
  {
   "cell_type": "markdown",
   "id": "c1d28b0b-b5c0-4fcc-94ee-409eb474af0f",
   "metadata": {},
   "source": [
    "*Load param study*"
   ]
  },
  {
   "cell_type": "code",
   "execution_count": 53,
   "id": "f0a51c0e-187c-4084-8302-1bab319c031c",
   "metadata": {},
   "outputs": [
    {
     "name": "stdout",
     "output_type": "stream",
     "text": [
      "Returning data/param_factor_ishares.csv\n",
      "144 param sets with 18 iterations per set\n"
     ]
    }
   ],
   "source": [
    "bm = BacktestManager\n",
    "df_cv = bm.catplot(file, path=path_data)"
   ]
  },
  {
   "cell_type": "code",
   "execution_count": 54,
   "id": "c3a8f330-7a97-4d24-9763-95d56cdf8c70",
   "metadata": {},
   "outputs": [
    {
     "name": "stdout",
     "output_type": "stream",
     "text": [
      "Returning cagr of s&p500 from 2015-04-28 to 2022-01-04\n"
     ]
    }
   ],
   "source": [
    "y = 'cagr'\n",
    "ref_val = bm.benchmark_stats(y, data=df_cv, name='s&p500')"
   ]
  },
  {
   "cell_type": "code",
   "execution_count": 58,
   "id": "99cf3a8b-a1f1-4b12-b6f0-7e9c7447dad0",
   "metadata": {},
   "outputs": [
    {
     "data": {
      "image/png": "[encoded data removed]",
      "text/plain": [
       "<Figure size 911.111x1000 with 16 Axes>"
      ]
     },
     "metadata": {},
     "output_type": "display_data"
    }
   ],
   "source": [
    "#kw = {'row':'lookback', 'col':'freq', 'x':'weigh', 'hue':'lag'}\n",
    "#kw = {'x':'lookback', 'col':'weigh', 'row':'freq', 'hue':'lag'}\n",
    "kw = {'x':'lookback', 'col':'weigh', 'row':'freq', 'kind':'box'}\n",
    "#kw = {'x':'lookback', 'col':'freq', 'row':'weigh', 'kind':'box'}\n",
    "#kw = {'x':'lookback', 'hue':'weigh', 'col':'freq'}\n",
    "\n",
    "_ = bm.catplot(data=df_cv, y=y, ref_val=ref_val, height=2.5, aspect=.9, **kw)"
   ]
  },
  {
   "cell_type": "markdown",
   "id": "b82d7103-84d3-447d-b842-7e8181af34f8",
   "metadata": {},
   "source": [
    "### Selected"
   ]
  },
  {
   "cell_type": "code",
   "execution_count": 59,
   "id": "d7849454-9b3b-480f-95cf-a9aa83e26380",
   "metadata": {},
   "outputs": [
    {
     "data": {
      "text/plain": [
       "['iShares MSCI USA Momentum Factor ETF',\n",
       " 'iShares MSCI USA Quality Factor ETF',\n",
       " 'iShares MSCI USA Size Factor ETF',\n",
       " 'iShares MSCI USA Value Factor ETF']"
      ]
     },
     "execution_count": 59,
     "metadata": {},
     "output_type": "execute_result"
    }
   ],
   "source": [
    "selected = ['MTUM','QUAL','SIZE', 'VLUE']\n",
    "[assetnames_factor[x] for x in selected]"
   ]
  },
  {
   "cell_type": "markdown",
   "id": "2bcfc2ae-9589-4a51-bc0b-c25d76fd051d",
   "metadata": {},
   "source": [
    "#### Cross-validate"
   ]
  },
  {
   "cell_type": "code",
   "execution_count": 61,
   "id": "9e6e9dc6-ed4c-45a0-bce3-1504b119cc93",
   "metadata": {},
   "outputs": [
    {
     "data": {
      "text/plain": [
       "{'name': 'FACTOR:equally/lb3/lg5/f20',\n",
       " 'weigh': 'equally',\n",
       " 'lookback': 3,\n",
       " 'lag': 5,\n",
       " 'freq': 20}"
      ]
     },
     "execution_count": 61,
     "metadata": {},
     "output_type": "execute_result"
    }
   ],
   "source": [
    "from itertools import product\n",
    "\n",
    "p_args = dict(\n",
    "    p_w = ['equally', 'erc', 'meanvar'],\n",
    "    p_lookback = [3,6,12],\n",
    "    p_lag = [5],\n",
    "    p_freq = [20,60,125,250]\n",
    ")\n",
    "p_comb = list(product(*p_args.values()))\n",
    "params = [{'name':f'FACTOR:{x[0]}/lb{x[1]}/lg{x[2]}/f{x[3]}',\n",
    "           'weigh':x[0], 'lookback':x[1], 'lag':x[2], 'freq':x[3]} \n",
    "            for x in p_comb]\n",
    "params[0]"
   ]
  },
  {
   "cell_type": "code",
   "execution_count": 62,
   "id": "821eb871-78df-4935-8339-841d97782b6b",
   "metadata": {},
   "outputs": [
    {
     "name": "stdout",
     "output_type": "stream",
     "text": [
      "period reset: 2015-04-30 ~ 2022-01-05\n",
      "7 assets from 2015-04-30 to 2022-01-05 uploaded.\n",
      "running self.util_check_days_in_year to check days in a year\n"
     ]
    }
   ],
   "source": [
    "bm = BacktestManager(df_train, **kwargs_bm)"
   ]
  },
  {
   "cell_type": "code",
   "execution_count": 63,
   "id": "ad82d97f-1029-43b5-846f-dba67b21eca8",
   "metadata": {},
   "outputs": [
    {
     "name": "stdout",
     "output_type": "stream",
     "text": [
      "36 jobs prepared for cross-validation\n"
     ]
    }
   ],
   "source": [
    "kwa_list = params\n",
    "kwargs_build = dict(\n",
    "    select=selected, reset_portfolios=True, build_cv=True\n",
    ")\n",
    "bm.build_batch(*kwa_list, **kwargs_build)"
   ]
  },
  {
   "cell_type": "code",
   "execution_count": 64,
   "id": "008b874f-b2b0-4a90-a62e-07fc96ca0a8f",
   "metadata": {
    "scrolled": true
   },
   "outputs": [
    {
     "name": "stdout",
     "output_type": "stream",
     "text": [
      "Cross-validating 36 strategies: FACTOR:equally/lb3/lg5/f20, FACTOR:equally/lb3/lg5/f60, ... , FACTOR:meanvar/lb12/lg5/f250\n"
     ]
    },
    {
     "name": "stderr",
     "output_type": "stream",
     "text": [
      "100%|███████████████████████████████████████████████████████████████| 19/19 [00:15<00:00,  1.20it/s]\n",
      "100%|███████████████████████████████████████████████████████████████| 19/19 [00:15<00:00,  1.24it/s]\n",
      "100%|███████████████████████████████████████████████████████████████| 19/19 [00:15<00:00,  1.23it/s]\n",
      "100%|███████████████████████████████████████████████████████████████| 19/19 [00:15<00:00,  1.24it/s]\n",
      "100%|███████████████████████████████████████████████████████████████| 19/19 [00:16<00:00,  1.13it/s]\n",
      "100%|███████████████████████████████████████████████████████████████| 19/19 [00:17<00:00,  1.11it/s]\n",
      "100%|███████████████████████████████████████████████████████████████| 19/19 [00:17<00:00,  1.11it/s]\n",
      "100%|███████████████████████████████████████████████████████████████| 19/19 [00:17<00:00,  1.11it/s]\n",
      "100%|███████████████████████████████████████████████████████████████| 19/19 [00:17<00:00,  1.09it/s]\n",
      "100%|███████████████████████████████████████████████████████████████| 19/19 [00:17<00:00,  1.08it/s]\n",
      "100%|███████████████████████████████████████████████████████████████| 19/19 [00:17<00:00,  1.11it/s]\n",
      "100%|███████████████████████████████████████████████████████████████| 19/19 [00:17<00:00,  1.10it/s]\n",
      "100%|███████████████████████████████████████████████████████████████| 19/19 [00:22<00:00,  1.16s/it]\n",
      "100%|███████████████████████████████████████████████████████████████| 19/19 [00:18<00:00,  1.04it/s]\n",
      "100%|███████████████████████████████████████████████████████████████| 19/19 [00:18<00:00,  1.06it/s]\n",
      "100%|███████████████████████████████████████████████████████████████| 19/19 [00:17<00:00,  1.09it/s]\n",
      "100%|███████████████████████████████████████████████████████████████| 19/19 [00:21<00:00,  1.12s/it]\n",
      "100%|███████████████████████████████████████████████████████████████| 19/19 [00:18<00:00,  1.00it/s]\n",
      "100%|███████████████████████████████████████████████████████████████| 19/19 [00:18<00:00,  1.05it/s]\n",
      "100%|███████████████████████████████████████████████████████████████| 19/19 [00:17<00:00,  1.07it/s]\n",
      "100%|███████████████████████████████████████████████████████████████| 19/19 [00:21<00:00,  1.12s/it]\n",
      "100%|███████████████████████████████████████████████████████████████| 19/19 [00:19<00:00,  1.02s/it]\n",
      "100%|███████████████████████████████████████████████████████████████| 19/19 [00:18<00:00,  1.02it/s]\n",
      "100%|███████████████████████████████████████████████████████████████| 19/19 [00:17<00:00,  1.07it/s]\n",
      "100%|███████████████████████████████████████████████████████████████| 19/19 [00:23<00:00,  1.24s/it]\n",
      "100%|███████████████████████████████████████████████████████████████| 19/19 [00:19<00:00,  1.02s/it]\n",
      "100%|███████████████████████████████████████████████████████████████| 19/19 [00:17<00:00,  1.08it/s]\n",
      "100%|███████████████████████████████████████████████████████████████| 19/19 [00:17<00:00,  1.11it/s]\n",
      "100%|███████████████████████████████████████████████████████████████| 19/19 [00:24<00:00,  1.28s/it]\n",
      "100%|███████████████████████████████████████████████████████████████| 19/19 [00:19<00:00,  1.02s/it]\n",
      "100%|███████████████████████████████████████████████████████████████| 19/19 [00:18<00:00,  1.03it/s]\n",
      "100%|███████████████████████████████████████████████████████████████| 19/19 [00:18<00:00,  1.05it/s]\n",
      "100%|███████████████████████████████████████████████████████████████| 19/19 [00:25<00:00,  1.34s/it]\n",
      "100%|███████████████████████████████████████████████████████████████| 19/19 [00:19<00:00,  1.05s/it]\n",
      "100%|███████████████████████████████████████████████████████████████| 19/19 [00:18<00:00,  1.05it/s]\n",
      "100%|███████████████████████████████████████████████████████████████| 19/19 [00:17<00:00,  1.08it/s]\n"
     ]
    },
    {
     "name": "stdout",
     "output_type": "stream",
     "text": [
      "11.4 mins elapsed, 0.0 secs paused (0.0%)\n"
     ]
    }
   ],
   "source": [
    "kw_batch = dict(size_batch=50, path_batch=path_data)\n",
    "bm.cross_validate(n_sample=20, **kw_batch)"
   ]
  },
  {
   "cell_type": "markdown",
   "id": "f7caebdf-6baa-4f66-96b4-f1b32f7aaf73",
   "metadata": {},
   "source": [
    "#### Visualize"
   ]
  },
  {
   "cell_type": "code",
   "execution_count": 65,
   "id": "4b3b974e-0b97-4678-8acf-ddda1d2cef4d",
   "metadata": {},
   "outputs": [],
   "source": [
    "file = 'param_factor_ishares_s1.csv'"
   ]
  },
  {
   "cell_type": "markdown",
   "id": "6a1ec546-92e8-4e98-980e-04f33234589a",
   "metadata": {},
   "source": [
    "*Save param study*"
   ]
  },
  {
   "cell_type": "code",
   "execution_count": 66,
   "id": "b0097c52-5d35-4849-aabc-f83633fa8b7c",
   "metadata": {},
   "outputs": [
    {
     "name": "stdout",
     "output_type": "stream",
     "text": [
      "data/param_factor_ishares_s1.csv saved\n",
      "36 param sets with 19 iterations per set\n"
     ]
    }
   ],
   "source": [
    "f = dict(file=file, path=path_data)\n",
    "df_cv = bm.get_cat_data(params, **f)"
   ]
  },
  {
   "cell_type": "markdown",
   "id": "a75cd7ab-60f3-4eb9-aaf2-e9e556ee7f43",
   "metadata": {},
   "source": [
    "*Load param study*"
   ]
  },
  {
   "cell_type": "code",
   "execution_count": 67,
   "id": "0007eff1-49a7-4b17-8242-f4e364c4ee3d",
   "metadata": {},
   "outputs": [
    {
     "name": "stdout",
     "output_type": "stream",
     "text": [
      "Returning data/param_factor_ishares_s1.csv\n",
      "36 param sets with 19 iterations per set\n"
     ]
    }
   ],
   "source": [
    "bm = BacktestManager\n",
    "df_cv = bm.catplot(file, path=path_data)"
   ]
  },
  {
   "cell_type": "code",
   "execution_count": 68,
   "id": "5c39931b-78c8-440c-b4bc-50d4ff5b81b3",
   "metadata": {},
   "outputs": [
    {
     "name": "stdout",
     "output_type": "stream",
     "text": [
      "Returning cagr of s&p500 from 2015-04-28 to 2022-01-04\n"
     ]
    }
   ],
   "source": [
    "y = 'cagr'\n",
    "ref_val = bm.benchmark_stats(y, data=df_cv, name='s&p500')"
   ]
  },
  {
   "cell_type": "code",
   "execution_count": 69,
   "id": "30b1d56d-f77f-4fb1-8884-e07fd2f533ec",
   "metadata": {},
   "outputs": [
    {
     "data": {
      "image/png": "[encoded data removed]",
      "text/plain": [
       "<Figure size 686.111x1000 with 12 Axes>"
      ]
     },
     "metadata": {},
     "output_type": "display_data"
    }
   ],
   "source": [
    "#kw = {'row':'lookback', 'col':'freq', 'x':'weigh', 'hue':'lag'}\n",
    "#kw = {'x':'lookback', 'col':'weigh', 'row':'freq', 'hue':'lag'}\n",
    "kw = {'x':'lookback', 'col':'weigh', 'row':'freq', 'kind':'box'}\n",
    "#kw = {'x':'lookback', 'col':'freq', 'row':'weigh', 'kind':'box'}\n",
    "\n",
    "_ = bm.catplot(data=df_cv, y=y, ref_val=ref_val, height=2.5, aspect=.9, **kw)"
   ]
  },
  {
   "cell_type": "markdown",
   "id": "a357d905-8709-4ef4-ad4c-9434e0f9253a",
   "metadata": {},
   "source": [
    "#### Validation"
   ]
  },
  {
   "cell_type": "code",
   "execution_count": 70,
   "id": "007d021f-e439-479c-814c-24b11a4fde03",
   "metadata": {},
   "outputs": [
    {
     "name": "stdout",
     "output_type": "stream",
     "text": [
      "7 assets from 2020-12-24 to 2024-10-18 uploaded.\n",
      "running self.util_check_days_in_year to check days in a year\n",
      "WARNING: the number of days in a year with 7 assets (100%) is 251 in avg.\n",
      "Benchmark is s&p500\n"
     ]
    }
   ],
   "source": [
    "df = df_val\n",
    "#df = df_factor\n",
    "bm = BacktestManager(df, **kwargs_bm)\n",
    "\n",
    "lags = dict(lookback=3, lag=5)\n",
    "bm.benchmark_ticker(name='s&p500', **lags)"
   ]
  },
  {
   "cell_type": "code",
   "execution_count": 71,
   "id": "ce89ef9e-55a9-460b-b536-0242b4caa323",
   "metadata": {},
   "outputs": [],
   "source": [
    "# weigh, lookback(M), lag(D), freq(D)\n",
    "p_comb = [['meanvar', 3, 5, 20], ['equally', 3, 5, 20], ['equally', 3, 5, 250]]\n",
    "kwa_list = [{'name':f'FACTOR:{x[0]}/lb{x[1]}/lg{x[2]}/f{x[3]}',\n",
    "           'weigh':x[0], 'lookback':x[1], 'lag':x[2], 'freq':x[3]} \n",
    "            for x in p_comb]"
   ]
  },
  {
   "cell_type": "code",
   "execution_count": 72,
   "id": "e4235502-dd13-4365-a7cb-8620af4fb72a",
   "metadata": {},
   "outputs": [
    {
     "data": {
      "text/plain": [
       "['MTUM', 'QUAL', 'SIZE', 'VLUE']"
      ]
     },
     "execution_count": 72,
     "metadata": {},
     "output_type": "execute_result"
    }
   ],
   "source": [
    "selected"
   ]
  },
  {
   "cell_type": "code",
   "execution_count": 73,
   "id": "b606436d-e8f5-453e-bf77-93c6d4162a88",
   "metadata": {},
   "outputs": [
    {
     "name": "stdout",
     "output_type": "stream",
     "text": [
      "Backtesting 4 strategies: s&p500, FACTOR:meanvar/lb3/lg5/f20, FACTOR:equally/lb3/lg5/f20, FACTOR:equally/lb3/lg5/f250\n"
     ]
    },
    {
     "name": "stderr",
     "output_type": "stream",
     "text": [
      "100%|█████████████████████████████████████████████████████████████████| 4/4 [00:01<00:00,  2.22it/s]"
     ]
    },
    {
     "name": "stdout",
     "output_type": "stream",
     "text": [
      "Returning stats\n"
     ]
    },
    {
     "name": "stderr",
     "output_type": "stream",
     "text": [
      "\n"
     ]
    },
    {
     "data": {
      "text/html": [
       "<div>\n",
       "<style scoped>\n",
       "    .dataframe tbody tr th:only-of-type {\n",
       "        vertical-align: middle;\n",
       "    }\n",
       "\n",
       "    .dataframe tbody tr th {\n",
       "        vertical-align: top;\n",
       "    }\n",
       "\n",
       "    .dataframe thead th {\n",
       "        text-align: right;\n",
       "    }\n",
       "</style>\n",
       "<table border=\"1\" class=\"dataframe\">\n",
       "  <thead>\n",
       "    <tr style=\"text-align: right;\">\n",
       "      <th></th>\n",
       "      <th>s&amp;p500</th>\n",
       "      <th>FACTOR:equally/lb3/lg5/f20</th>\n",
       "      <th>FACTOR:equally/lb3/lg5/f250</th>\n",
       "      <th>FACTOR:meanvar/lb3/lg5/f20</th>\n",
       "    </tr>\n",
       "  </thead>\n",
       "  <tbody>\n",
       "    <tr>\n",
       "      <th>start</th>\n",
       "      <td>2020-12-23</td>\n",
       "      <td>2020-12-23</td>\n",
       "      <td>2020-12-23</td>\n",
       "      <td>2020-12-23</td>\n",
       "    </tr>\n",
       "    <tr>\n",
       "      <th>end</th>\n",
       "      <td>2024-10-17</td>\n",
       "      <td>2024-10-17</td>\n",
       "      <td>2024-10-17</td>\n",
       "      <td>2024-10-17</td>\n",
       "    </tr>\n",
       "    <tr>\n",
       "      <th>total_return</th>\n",
       "      <td>0.467595</td>\n",
       "      <td>0.371233</td>\n",
       "      <td>0.366366</td>\n",
       "      <td>0.19167</td>\n",
       "    </tr>\n",
       "    <tr>\n",
       "      <th>cagr</th>\n",
       "      <td>0.105741</td>\n",
       "      <td>0.086239</td>\n",
       "      <td>0.085227</td>\n",
       "      <td>0.047018</td>\n",
       "    </tr>\n",
       "    <tr>\n",
       "      <th>calmar</th>\n",
       "      <td>0.418399</td>\n",
       "      <td>0.334725</td>\n",
       "      <td>0.329523</td>\n",
       "      <td>0.142989</td>\n",
       "    </tr>\n",
       "    <tr>\n",
       "      <th>max_drawdown</th>\n",
       "      <td>-0.252728</td>\n",
       "      <td>-0.257641</td>\n",
       "      <td>-0.258638</td>\n",
       "      <td>-0.328822</td>\n",
       "    </tr>\n",
       "    <tr>\n",
       "      <th>avg_drawdown</th>\n",
       "      <td>-0.016806</td>\n",
       "      <td>-0.021593</td>\n",
       "      <td>-0.020935</td>\n",
       "      <td>-0.025993</td>\n",
       "    </tr>\n",
       "    <tr>\n",
       "      <th>avg_drawdown_days</th>\n",
       "      <td>22.352941</td>\n",
       "      <td>27.232558</td>\n",
       "      <td>28.585366</td>\n",
       "      <td>41.931034</td>\n",
       "    </tr>\n",
       "    <tr>\n",
       "      <th>daily_vol</th>\n",
       "      <td>0.160363</td>\n",
       "      <td>0.161938</td>\n",
       "      <td>0.16201</td>\n",
       "      <td>0.163264</td>\n",
       "    </tr>\n",
       "    <tr>\n",
       "      <th>daily_sharpe</th>\n",
       "      <td>0.708921</td>\n",
       "      <td>0.593354</td>\n",
       "      <td>0.587393</td>\n",
       "      <td>0.363896</td>\n",
       "    </tr>\n",
       "    <tr>\n",
       "      <th>daily_sortino</th>\n",
       "      <td>1.154235</td>\n",
       "      <td>0.973455</td>\n",
       "      <td>0.963017</td>\n",
       "      <td>0.591504</td>\n",
       "    </tr>\n",
       "    <tr>\n",
       "      <th>monthly_vol</th>\n",
       "      <td>0.158459</td>\n",
       "      <td>0.161416</td>\n",
       "      <td>0.161722</td>\n",
       "      <td>0.16697</td>\n",
       "    </tr>\n",
       "    <tr>\n",
       "      <th>monthly_sharpe</th>\n",
       "      <td>0.712118</td>\n",
       "      <td>0.591095</td>\n",
       "      <td>0.584509</td>\n",
       "      <td>0.356677</td>\n",
       "    </tr>\n",
       "    <tr>\n",
       "      <th>monthly_sortino</th>\n",
       "      <td>1.251516</td>\n",
       "      <td>1.054355</td>\n",
       "      <td>1.040684</td>\n",
       "      <td>0.596035</td>\n",
       "    </tr>\n",
       "  </tbody>\n",
       "</table>\n",
       "</div>"
      ],
      "text/plain": [
       "                       s&p500 FACTOR:equally/lb3/lg5/f20  \\\n",
       "start              2020-12-23                 2020-12-23   \n",
       "end                2024-10-17                 2024-10-17   \n",
       "total_return         0.467595                   0.371233   \n",
       "cagr                 0.105741                   0.086239   \n",
       "calmar               0.418399                   0.334725   \n",
       "max_drawdown        -0.252728                  -0.257641   \n",
       "avg_drawdown        -0.016806                  -0.021593   \n",
       "avg_drawdown_days   22.352941                  27.232558   \n",
       "daily_vol            0.160363                   0.161938   \n",
       "daily_sharpe         0.708921                   0.593354   \n",
       "daily_sortino        1.154235                   0.973455   \n",
       "monthly_vol          0.158459                   0.161416   \n",
       "monthly_sharpe       0.712118                   0.591095   \n",
       "monthly_sortino      1.251516                   1.054355   \n",
       "\n",
       "                  FACTOR:equally/lb3/lg5/f250 FACTOR:meanvar/lb3/lg5/f20  \n",
       "start                              2020-12-23                 2020-12-23  \n",
       "end                                2024-10-17                 2024-10-17  \n",
       "total_return                         0.366366                    0.19167  \n",
       "cagr                                 0.085227                   0.047018  \n",
       "calmar                               0.329523                   0.142989  \n",
       "max_drawdown                        -0.258638                  -0.328822  \n",
       "avg_drawdown                        -0.020935                  -0.025993  \n",
       "avg_drawdown_days                   28.585366                  41.931034  \n",
       "daily_vol                             0.16201                   0.163264  \n",
       "daily_sharpe                         0.587393                   0.363896  \n",
       "daily_sortino                        0.963017                   0.591504  \n",
       "monthly_vol                          0.161722                    0.16697  \n",
       "monthly_sharpe                       0.584509                   0.356677  \n",
       "monthly_sortino                      1.040684                   0.596035  "
      ]
     },
     "execution_count": 73,
     "metadata": {},
     "output_type": "execute_result"
    },
    {
     "data": {
      "image/png": "[encoded data removed]",
      "text/plain": [
       "<Figure size 800x400 with 1 Axes>"
      ]
     },
     "metadata": {},
     "output_type": "display_data"
    }
   ],
   "source": [
    "kwargs_build = dict(\n",
    "    select=selected\n",
    ")\n",
    "bm.build_batch(*kwa_list, **kwargs_build)\n",
    "\n",
    "bm.run(stats_sort_by='cagr', figsize=(8,4))"
   ]
  },
  {
   "cell_type": "markdown",
   "id": "bfd0a9f9-d39f-4817-999d-9af3771cc922",
   "metadata": {},
   "source": [
    "## IRP"
   ]
  },
  {
   "cell_type": "code",
   "execution_count": 22,
   "id": "3195e23a-e4e5-46d3-be1a-a6ef2b0dd852",
   "metadata": {},
   "outputs": [],
   "source": [
    "kwargs_bm = dict(\n",
    "    initial_capital = 10000000,\n",
    "    commissions = 0,\n",
    "    align_axis = 0, \n",
    "    days_in_year = 365,\n",
    "    asset_names = assetnames_irp\n",
    ")\n",
    "\n",
    "lags = dict(lookback=12, lag=5)"
   ]
  },
  {
   "cell_type": "markdown",
   "id": "a129dd46-ac46-4600-84f9-0db404da4d1c",
   "metadata": {},
   "source": [
    "### My portfolio"
   ]
  },
  {
   "cell_type": "code",
   "execution_count": 306,
   "id": "0f13b613-232a-48a7-812b-41b8a79b9a31",
   "metadata": {},
   "outputs": [
    {
     "data": {
      "text/plain": [
       "0) K55301BU6139: 미래에셋전략배분TDF2035혼합자산자투자신탁종류C-P2e\n",
       "1) K55206C95800: 키움키워드림TDF2030증권투자신탁 1[혼합-재간접형]C-P2e(퇴직연금)"
      ]
     },
     "execution_count": 306,
     "metadata": {},
     "output_type": "execute_result"
    }
   ],
   "source": [
    "choice_mp = ['K55301BU6139', 'K55206C95800']\n",
    "irp.get_names(choice_mp)"
   ]
  },
  {
   "cell_type": "code",
   "execution_count": 307,
   "id": "aee73b83-da42-412c-850d-c5e6b8e73376",
   "metadata": {},
   "outputs": [
    {
     "name": "stdout",
     "output_type": "stream",
     "text": [
      "period reset: 2019-01-31 ~ 2024-07-31\n",
      "running self.util_check_days_in_year to check days in a year\n"
     ]
    }
   ],
   "source": [
    "bm = BacktestManager(df_irp, **kwargs_bm)"
   ]
  },
  {
   "cell_type": "code",
   "execution_count": 308,
   "id": "a435a92a-574f-4eea-9d17-4d501cfb40a1",
   "metadata": {},
   "outputs": [
    {
     "name": "stdout",
     "output_type": "stream",
     "text": [
      "Benchmark is KODEX200\n"
     ]
    }
   ],
   "source": [
    "bm.benchmark_ticker()"
   ]
  },
  {
   "cell_type": "code",
   "execution_count": 309,
   "id": "7c4dbe1a-6e29-46e0-967d-f9168e8d8e61",
   "metadata": {},
   "outputs": [],
   "source": [
    "choice = choice_mp\n",
    "\n",
    "kwargs_build = dict(\n",
    "    # equal weights for choice, zero weights for the rest of the assets\n",
    "    weigh='Specified', weights=choice,\n",
    "    select ='all'\n",
    ")\n",
    "bm.build(name='MP:Quarterly', freq='Q', **kwargs_build)\n",
    "bm.build(name='MP:Yearly', freq='Y', **kwargs_build)"
   ]
  },
  {
   "cell_type": "code",
   "execution_count": 310,
   "id": "2dc21d6e-b49d-4a5a-87ac-a83b1ad3bf66",
   "metadata": {},
   "outputs": [
    {
     "name": "stdout",
     "output_type": "stream",
     "text": [
      "Backtesting 3 strategies: KODEX200, MP:Quarterly, MP:Yearly\n"
     ]
    },
    {
     "name": "stderr",
     "output_type": "stream",
     "text": [
      "100%|█████████████████████████████████████████████████████████████████| 3/3 [00:01<00:00,  1.82it/s]"
     ]
    },
    {
     "name": "stdout",
     "output_type": "stream",
     "text": [
      "Returning stats\n"
     ]
    },
    {
     "name": "stderr",
     "output_type": "stream",
     "text": [
      "\n"
     ]
    },
    {
     "data": {
      "text/html": [
       "<div>\n",
       "<style scoped>\n",
       "    .dataframe tbody tr th:only-of-type {\n",
       "        vertical-align: middle;\n",
       "    }\n",
       "\n",
       "    .dataframe tbody tr th {\n",
       "        vertical-align: top;\n",
       "    }\n",
       "\n",
       "    .dataframe thead th {\n",
       "        text-align: right;\n",
       "    }\n",
       "</style>\n",
       "<table border=\"1\" class=\"dataframe\">\n",
       "  <thead>\n",
       "    <tr style=\"text-align: right;\">\n",
       "      <th></th>\n",
       "      <th>MP:Yearly</th>\n",
       "      <th>MP:Quarterly</th>\n",
       "      <th>KODEX200</th>\n",
       "    </tr>\n",
       "  </thead>\n",
       "  <tbody>\n",
       "    <tr>\n",
       "      <th>start</th>\n",
       "      <td>2019-01-30</td>\n",
       "      <td>2019-01-30</td>\n",
       "      <td>2019-01-30</td>\n",
       "    </tr>\n",
       "    <tr>\n",
       "      <th>end</th>\n",
       "      <td>2024-07-31</td>\n",
       "      <td>2024-07-31</td>\n",
       "      <td>2024-07-31</td>\n",
       "    </tr>\n",
       "    <tr>\n",
       "      <th>total_return</th>\n",
       "      <td>0.5097</td>\n",
       "      <td>0.509769</td>\n",
       "      <td>0.487812</td>\n",
       "    </tr>\n",
       "    <tr>\n",
       "      <th>cagr</th>\n",
       "      <td>0.077764</td>\n",
       "      <td>0.077773</td>\n",
       "      <td>0.074906</td>\n",
       "    </tr>\n",
       "    <tr>\n",
       "      <th>monthly_vol</th>\n",
       "      <td>0.103181</td>\n",
       "      <td>0.103205</td>\n",
       "      <td>0.19921</td>\n",
       "    </tr>\n",
       "    <tr>\n",
       "      <th>monthly_sharpe</th>\n",
       "      <td>0.779885</td>\n",
       "      <td>0.779812</td>\n",
       "      <td>0.461712</td>\n",
       "    </tr>\n",
       "    <tr>\n",
       "      <th>max_drawdown</th>\n",
       "      <td>-0.215629</td>\n",
       "      <td>-0.21565</td>\n",
       "      <td>-0.346184</td>\n",
       "    </tr>\n",
       "    <tr>\n",
       "      <th>avg_drawdown</th>\n",
       "      <td>-0.014143</td>\n",
       "      <td>-0.014135</td>\n",
       "      <td>-0.047368</td>\n",
       "    </tr>\n",
       "    <tr>\n",
       "      <th>avg_drawdown_days</th>\n",
       "      <td>28.912281</td>\n",
       "      <td>28.912281</td>\n",
       "      <td>68.357143</td>\n",
       "    </tr>\n",
       "  </tbody>\n",
       "</table>\n",
       "</div>"
      ],
      "text/plain": [
       "                    MP:Yearly MP:Quarterly    KODEX200\n",
       "start              2019-01-30   2019-01-30  2019-01-30\n",
       "end                2024-07-31   2024-07-31  2024-07-31\n",
       "total_return           0.5097     0.509769    0.487812\n",
       "cagr                 0.077764     0.077773    0.074906\n",
       "monthly_vol          0.103181     0.103205     0.19921\n",
       "monthly_sharpe       0.779885     0.779812    0.461712\n",
       "max_drawdown        -0.215629     -0.21565   -0.346184\n",
       "avg_drawdown        -0.014143    -0.014135   -0.047368\n",
       "avg_drawdown_days   28.912281    28.912281   68.357143"
      ]
     },
     "execution_count": 310,
     "metadata": {},
     "output_type": "execute_result"
    }
   ],
   "source": [
    "bm.run(plot=False, stats_sort_by='monthly_sharpe', metrics=METRICS2)"
   ]
  },
  {
   "cell_type": "markdown",
   "id": "da8984b6-1b9c-49af-8c8e-6b37c22f8b84",
   "metadata": {},
   "source": [
    "### Weight"
   ]
  },
  {
   "cell_type": "code",
   "execution_count": 311,
   "id": "c85f7798-689a-44e2-a72a-50919e2f2348",
   "metadata": {},
   "outputs": [
    {
     "name": "stdout",
     "output_type": "stream",
     "text": [
      "Benchmark is LAG:KODEX200\n"
     ]
    }
   ],
   "source": [
    "bm.benchmark_ticker(name='LAG:KODEX200', **lags)"
   ]
  },
  {
   "cell_type": "code",
   "execution_count": 312,
   "id": "9e57987c-72a1-4375-9aed-182092575974",
   "metadata": {},
   "outputs": [],
   "source": [
    "kwargs_build = dict(\n",
    "    freq = 'Y', select = 'all',\n",
    "    **lags # added to start backtest on same date with momentum\n",
    ")\n",
    "\n",
    "choice = choice_mp\n",
    "bm.build(name='LAG:MP', weigh='Specified', weights=choice, **kwargs_build)"
   ]
  },
  {
   "cell_type": "code",
   "execution_count": 313,
   "id": "a2b518b0-027f-4b28-9a5e-7a6f35527dc6",
   "metadata": {},
   "outputs": [],
   "source": [
    "bm.build(name='LAG:Eqaully', weigh='equally', **kwargs_build)\n",
    "bm.build(name='LAG:ERC', weigh='ERC', **kwargs_build)\n",
    "bm.build(name='LAG:InvVol', weigh='InvVol', **kwargs_build)\n",
    "bm.build(name='LAG:MeanVar', weigh='MeanVar', **kwargs_build)"
   ]
  },
  {
   "cell_type": "code",
   "execution_count": 314,
   "id": "fccb86b0-8225-482a-a5bd-bae2ae9a3bb2",
   "metadata": {},
   "outputs": [
    {
     "data": {
      "text/plain": [
       "0) KODEX200\n",
       "1) MP:Quarterly\n",
       "2) MP:Yearly\n",
       "3) LAG:KODEX200\n",
       "4) LAG:MP\n",
       "5) LAG:Eqaully\n",
       "6) LAG:ERC\n",
       "7) LAG:InvVol\n",
       "8) LAG:MeanVar"
      ]
     },
     "execution_count": 314,
     "metadata": {},
     "output_type": "execute_result"
    }
   ],
   "source": [
    "bm.portfolios"
   ]
  },
  {
   "cell_type": "code",
   "execution_count": 315,
   "id": "cb9f5c4b-1390-417f-8f37-62021253e63d",
   "metadata": {},
   "outputs": [
    {
     "name": "stdout",
     "output_type": "stream",
     "text": [
      "Backtesting 6 strategies: LAG:KODEX200, LAG:MP, ... , LAG:MeanVar\n"
     ]
    },
    {
     "name": "stderr",
     "output_type": "stream",
     "text": [
      "100%|█████████████████████████████████████████████████████████████████| 6/6 [00:03<00:00,  1.60it/s]"
     ]
    },
    {
     "name": "stdout",
     "output_type": "stream",
     "text": [
      "Returning stats\n"
     ]
    },
    {
     "name": "stderr",
     "output_type": "stream",
     "text": [
      "\n"
     ]
    },
    {
     "data": {
      "text/html": [
       "<div>\n",
       "<style scoped>\n",
       "    .dataframe tbody tr th:only-of-type {\n",
       "        vertical-align: middle;\n",
       "    }\n",
       "\n",
       "    .dataframe tbody tr th {\n",
       "        vertical-align: top;\n",
       "    }\n",
       "\n",
       "    .dataframe thead th {\n",
       "        text-align: right;\n",
       "    }\n",
       "</style>\n",
       "<table border=\"1\" class=\"dataframe\">\n",
       "  <thead>\n",
       "    <tr style=\"text-align: right;\">\n",
       "      <th></th>\n",
       "      <th>LAG:MP</th>\n",
       "      <th>LAG:Eqaully</th>\n",
       "      <th>LAG:ERC</th>\n",
       "      <th>LAG:InvVol</th>\n",
       "      <th>LAG:KODEX200</th>\n",
       "      <th>LAG:MeanVar</th>\n",
       "    </tr>\n",
       "  </thead>\n",
       "  <tbody>\n",
       "    <tr>\n",
       "      <th>start</th>\n",
       "      <td>2019-01-30</td>\n",
       "      <td>2019-01-30</td>\n",
       "      <td>2019-01-30</td>\n",
       "      <td>2019-01-30</td>\n",
       "      <td>2019-01-30</td>\n",
       "      <td>2019-01-30</td>\n",
       "    </tr>\n",
       "    <tr>\n",
       "      <th>end</th>\n",
       "      <td>2024-07-31</td>\n",
       "      <td>2024-07-31</td>\n",
       "      <td>2024-07-31</td>\n",
       "      <td>2024-07-31</td>\n",
       "      <td>2024-07-31</td>\n",
       "      <td>2024-07-31</td>\n",
       "    </tr>\n",
       "    <tr>\n",
       "      <th>total_return</th>\n",
       "      <td>0.320584</td>\n",
       "      <td>0.355465</td>\n",
       "      <td>0.310493</td>\n",
       "      <td>0.301408</td>\n",
       "      <td>0.435671</td>\n",
       "      <td>0.218928</td>\n",
       "    </tr>\n",
       "    <tr>\n",
       "      <th>cagr</th>\n",
       "      <td>0.051856</td>\n",
       "      <td>0.056853</td>\n",
       "      <td>0.05039</td>\n",
       "      <td>0.049062</td>\n",
       "      <td>0.067957</td>\n",
       "      <td>0.036648</td>\n",
       "    </tr>\n",
       "    <tr>\n",
       "      <th>monthly_vol</th>\n",
       "      <td>0.099719</td>\n",
       "      <td>0.119832</td>\n",
       "      <td>0.105256</td>\n",
       "      <td>0.104687</td>\n",
       "      <td>0.189682</td>\n",
       "      <td>0.10127</td>\n",
       "    </tr>\n",
       "    <tr>\n",
       "      <th>monthly_sharpe</th>\n",
       "      <td>0.558104</td>\n",
       "      <td>0.522481</td>\n",
       "      <td>0.520792</td>\n",
       "      <td>0.510908</td>\n",
       "      <td>0.440919</td>\n",
       "      <td>0.406259</td>\n",
       "    </tr>\n",
       "    <tr>\n",
       "      <th>max_drawdown</th>\n",
       "      <td>-0.215628</td>\n",
       "      <td>-0.204365</td>\n",
       "      <td>-0.185794</td>\n",
       "      <td>-0.183714</td>\n",
       "      <td>-0.342786</td>\n",
       "      <td>-0.189489</td>\n",
       "    </tr>\n",
       "    <tr>\n",
       "      <th>avg_drawdown</th>\n",
       "      <td>-0.018684</td>\n",
       "      <td>-0.012366</td>\n",
       "      <td>-0.011598</td>\n",
       "      <td>-0.011269</td>\n",
       "      <td>-0.052</td>\n",
       "      <td>-0.014114</td>\n",
       "    </tr>\n",
       "    <tr>\n",
       "      <th>avg_drawdown_days</th>\n",
       "      <td>39.333333</td>\n",
       "      <td>35.45</td>\n",
       "      <td>29.744681</td>\n",
       "      <td>32.627907</td>\n",
       "      <td>74.619048</td>\n",
       "      <td>41.828571</td>\n",
       "    </tr>\n",
       "  </tbody>\n",
       "</table>\n",
       "</div>"
      ],
      "text/plain": [
       "                       LAG:MP LAG:Eqaully     LAG:ERC  LAG:InvVol  \\\n",
       "start              2019-01-30  2019-01-30  2019-01-30  2019-01-30   \n",
       "end                2024-07-31  2024-07-31  2024-07-31  2024-07-31   \n",
       "total_return         0.320584    0.355465    0.310493    0.301408   \n",
       "cagr                 0.051856    0.056853     0.05039    0.049062   \n",
       "monthly_vol          0.099719    0.119832    0.105256    0.104687   \n",
       "monthly_sharpe       0.558104    0.522481    0.520792    0.510908   \n",
       "max_drawdown        -0.215628   -0.204365   -0.185794   -0.183714   \n",
       "avg_drawdown        -0.018684   -0.012366   -0.011598   -0.011269   \n",
       "avg_drawdown_days   39.333333       35.45   29.744681   32.627907   \n",
       "\n",
       "                  LAG:KODEX200 LAG:MeanVar  \n",
       "start               2019-01-30  2019-01-30  \n",
       "end                 2024-07-31  2024-07-31  \n",
       "total_return          0.435671    0.218928  \n",
       "cagr                  0.067957    0.036648  \n",
       "monthly_vol           0.189682     0.10127  \n",
       "monthly_sharpe        0.440919    0.406259  \n",
       "max_drawdown         -0.342786   -0.189489  \n",
       "avg_drawdown            -0.052   -0.014114  \n",
       "avg_drawdown_days    74.619048   41.828571  "
      ]
     },
     "execution_count": 315,
     "metadata": {},
     "output_type": "execute_result"
    }
   ],
   "source": [
    "pf_list = list(bm.portfolios.keys())[3:]\n",
    "bm.run(pf_list, plot=False, stats_sort_by='monthly_sharpe', metrics=METRICS2)"
   ]
  },
  {
   "cell_type": "code",
   "execution_count": 316,
   "id": "249491ae-a2fa-4da5-82fb-cb796d701ec2",
   "metadata": {},
   "outputs": [],
   "source": [
    "kwb = {**kwargs_build, 'freq':'Q'}\n",
    "\n",
    "bm.build(name='LAG:Quarterly', weigh='equally', **kwb)"
   ]
  },
  {
   "cell_type": "code",
   "execution_count": 317,
   "id": "93b23497-38ed-43d8-ab22-9725ca58289b",
   "metadata": {},
   "outputs": [
    {
     "name": "stdout",
     "output_type": "stream",
     "text": [
      "Backtesting 7 strategies: LAG:KODEX200, LAG:MP, ... , LAG:Quarterly\n"
     ]
    },
    {
     "name": "stderr",
     "output_type": "stream",
     "text": [
      "100%|█████████████████████████████████████████████████████████████████| 7/7 [00:00<00:00, 10.57it/s]"
     ]
    },
    {
     "name": "stdout",
     "output_type": "stream",
     "text": [
      "Returning stats\n"
     ]
    },
    {
     "name": "stderr",
     "output_type": "stream",
     "text": [
      "\n"
     ]
    },
    {
     "data": {
      "text/html": [
       "<div>\n",
       "<style scoped>\n",
       "    .dataframe tbody tr th:only-of-type {\n",
       "        vertical-align: middle;\n",
       "    }\n",
       "\n",
       "    .dataframe tbody tr th {\n",
       "        vertical-align: top;\n",
       "    }\n",
       "\n",
       "    .dataframe thead th {\n",
       "        text-align: right;\n",
       "    }\n",
       "</style>\n",
       "<table border=\"1\" class=\"dataframe\">\n",
       "  <thead>\n",
       "    <tr style=\"text-align: right;\">\n",
       "      <th></th>\n",
       "      <th>LAG:MP</th>\n",
       "      <th>LAG:Eqaully</th>\n",
       "      <th>LAG:Quarterly</th>\n",
       "      <th>LAG:ERC</th>\n",
       "      <th>LAG:InvVol</th>\n",
       "      <th>LAG:KODEX200</th>\n",
       "      <th>LAG:MeanVar</th>\n",
       "    </tr>\n",
       "  </thead>\n",
       "  <tbody>\n",
       "    <tr>\n",
       "      <th>start</th>\n",
       "      <td>2019-01-30</td>\n",
       "      <td>2019-01-30</td>\n",
       "      <td>2019-01-30</td>\n",
       "      <td>2019-01-30</td>\n",
       "      <td>2019-01-30</td>\n",
       "      <td>2019-01-30</td>\n",
       "      <td>2019-01-30</td>\n",
       "    </tr>\n",
       "    <tr>\n",
       "      <th>end</th>\n",
       "      <td>2024-07-31</td>\n",
       "      <td>2024-07-31</td>\n",
       "      <td>2024-07-31</td>\n",
       "      <td>2024-07-31</td>\n",
       "      <td>2024-07-31</td>\n",
       "      <td>2024-07-31</td>\n",
       "      <td>2024-07-31</td>\n",
       "    </tr>\n",
       "    <tr>\n",
       "      <th>total_return</th>\n",
       "      <td>0.320584</td>\n",
       "      <td>0.355465</td>\n",
       "      <td>0.354231</td>\n",
       "      <td>0.310493</td>\n",
       "      <td>0.301408</td>\n",
       "      <td>0.435671</td>\n",
       "      <td>0.218928</td>\n",
       "    </tr>\n",
       "    <tr>\n",
       "      <th>cagr</th>\n",
       "      <td>0.051856</td>\n",
       "      <td>0.056853</td>\n",
       "      <td>0.056678</td>\n",
       "      <td>0.05039</td>\n",
       "      <td>0.049062</td>\n",
       "      <td>0.067957</td>\n",
       "      <td>0.036648</td>\n",
       "    </tr>\n",
       "    <tr>\n",
       "      <th>monthly_vol</th>\n",
       "      <td>0.099719</td>\n",
       "      <td>0.119832</td>\n",
       "      <td>0.11947</td>\n",
       "      <td>0.105256</td>\n",
       "      <td>0.104687</td>\n",
       "      <td>0.189682</td>\n",
       "      <td>0.10127</td>\n",
       "    </tr>\n",
       "    <tr>\n",
       "      <th>monthly_sharpe</th>\n",
       "      <td>0.558104</td>\n",
       "      <td>0.522481</td>\n",
       "      <td>0.522332</td>\n",
       "      <td>0.520792</td>\n",
       "      <td>0.510908</td>\n",
       "      <td>0.440919</td>\n",
       "      <td>0.406259</td>\n",
       "    </tr>\n",
       "    <tr>\n",
       "      <th>max_drawdown</th>\n",
       "      <td>-0.215628</td>\n",
       "      <td>-0.204365</td>\n",
       "      <td>-0.204063</td>\n",
       "      <td>-0.185794</td>\n",
       "      <td>-0.183714</td>\n",
       "      <td>-0.342786</td>\n",
       "      <td>-0.189489</td>\n",
       "    </tr>\n",
       "    <tr>\n",
       "      <th>avg_drawdown</th>\n",
       "      <td>-0.018684</td>\n",
       "      <td>-0.012366</td>\n",
       "      <td>-0.012063</td>\n",
       "      <td>-0.011598</td>\n",
       "      <td>-0.011269</td>\n",
       "      <td>-0.052</td>\n",
       "      <td>-0.014114</td>\n",
       "    </tr>\n",
       "    <tr>\n",
       "      <th>avg_drawdown_days</th>\n",
       "      <td>39.333333</td>\n",
       "      <td>35.45</td>\n",
       "      <td>34.463415</td>\n",
       "      <td>29.744681</td>\n",
       "      <td>32.627907</td>\n",
       "      <td>74.619048</td>\n",
       "      <td>41.828571</td>\n",
       "    </tr>\n",
       "  </tbody>\n",
       "</table>\n",
       "</div>"
      ],
      "text/plain": [
       "                       LAG:MP LAG:Eqaully LAG:Quarterly     LAG:ERC  \\\n",
       "start              2019-01-30  2019-01-30    2019-01-30  2019-01-30   \n",
       "end                2024-07-31  2024-07-31    2024-07-31  2024-07-31   \n",
       "total_return         0.320584    0.355465      0.354231    0.310493   \n",
       "cagr                 0.051856    0.056853      0.056678     0.05039   \n",
       "monthly_vol          0.099719    0.119832       0.11947    0.105256   \n",
       "monthly_sharpe       0.558104    0.522481      0.522332    0.520792   \n",
       "max_drawdown        -0.215628   -0.204365     -0.204063   -0.185794   \n",
       "avg_drawdown        -0.018684   -0.012366     -0.012063   -0.011598   \n",
       "avg_drawdown_days   39.333333       35.45     34.463415   29.744681   \n",
       "\n",
       "                   LAG:InvVol LAG:KODEX200 LAG:MeanVar  \n",
       "start              2019-01-30   2019-01-30  2019-01-30  \n",
       "end                2024-07-31   2024-07-31  2024-07-31  \n",
       "total_return         0.301408     0.435671    0.218928  \n",
       "cagr                 0.049062     0.067957    0.036648  \n",
       "monthly_vol          0.104687     0.189682     0.10127  \n",
       "monthly_sharpe       0.510908     0.440919    0.406259  \n",
       "max_drawdown        -0.183714    -0.342786   -0.189489  \n",
       "avg_drawdown        -0.011269       -0.052   -0.014114  \n",
       "avg_drawdown_days   32.627907    74.619048   41.828571  "
      ]
     },
     "execution_count": 317,
     "metadata": {},
     "output_type": "execute_result"
    }
   ],
   "source": [
    "pf_list = list(bm.portfolios.keys())[3:]\n",
    "bm.run(pf_list, plot=False, stats_sort_by='monthly_sharpe', metrics=METRICS2)"
   ]
  },
  {
   "cell_type": "markdown",
   "id": "29e882b3-344f-4e63-bf56-62e6aa5041e1",
   "metadata": {},
   "source": [
    "### Select"
   ]
  },
  {
   "cell_type": "code",
   "execution_count": 318,
   "id": "c9ce2c9f-ff43-4e02-83f1-20732aa224af",
   "metadata": {},
   "outputs": [
    {
     "data": {
      "text/plain": [
       "0) K55301BU6139: 미래에셋전략배분TDF2035혼합자산자투자신탁종류C-P2e\n",
       "1) K55301BU5479: 미래에셋전략배분TDF2045혼합자산자투자신탁 종류C-P2e\n",
       "2) K55365BT3694: kcgi코리아퇴직연금증권자투자신탁(주식)종류C-Pe2\n",
       "3) K55213C51890: 한화LIFEPLUSTDF2040증권자투자신탁(혼합-재간접형)C-RPe(퇴직연금)"
      ]
     },
     "execution_count": 318,
     "metadata": {},
     "output_type": "execute_result"
    }
   ],
   "source": [
    "n = 4\n",
    "choice = irp.performance('sharpe', 'year').index[:n].to_list()\n",
    "irp.get_names(choice)"
   ]
  },
  {
   "cell_type": "code",
   "execution_count": 319,
   "id": "74f03cfa-bdb2-4457-a78b-4a2f7e6fbb76",
   "metadata": {},
   "outputs": [],
   "source": [
    "kwa_list = [{'name':f'SHP:Y{i}', 'weights':choice[:i]} for i in range(1,n+1)]\n",
    "\n",
    "kwargs_build = dict(\n",
    "    freq = 'Y', select = 'all', weigh='Specified'\n",
    ")\n",
    "\n",
    "bm.build_batch(*kwa_list, **kwargs_build)"
   ]
  },
  {
   "cell_type": "code",
   "execution_count": 320,
   "id": "1908778b-3a1c-4925-b38c-9d2c55cc2e31",
   "metadata": {},
   "outputs": [
    {
     "data": {
      "text/plain": [
       "0) KODEX200\n",
       "1) MP:Quarterly\n",
       "2) MP:Yearly\n",
       "3) LAG:KODEX200\n",
       "4) LAG:MP\n",
       "5) LAG:Eqaully\n",
       "6) LAG:ERC\n",
       "7) LAG:InvVol\n",
       "8) LAG:MeanVar\n",
       "9) LAG:Quarterly\n",
       "10) SHP:Y1\n",
       "11) SHP:Y2\n",
       "12) SHP:Y3\n",
       "13) SHP:Y4"
      ]
     },
     "execution_count": 320,
     "metadata": {},
     "output_type": "execute_result"
    }
   ],
   "source": [
    "bm.portfolios"
   ]
  },
  {
   "cell_type": "code",
   "execution_count": 321,
   "id": "c853861d-8a26-4c48-bf31-2df7c41be3fe",
   "metadata": {},
   "outputs": [
    {
     "name": "stdout",
     "output_type": "stream",
     "text": [
      "Backtesting 6 strategies: KODEX200, MP:Yearly, ... , SHP:Y4\n"
     ]
    },
    {
     "name": "stderr",
     "output_type": "stream",
     "text": [
      "100%|█████████████████████████████████████████████████████████████████| 6/6 [00:02<00:00,  2.50it/s]"
     ]
    },
    {
     "name": "stdout",
     "output_type": "stream",
     "text": [
      "Returning stats\n"
     ]
    },
    {
     "name": "stderr",
     "output_type": "stream",
     "text": [
      "\n"
     ]
    },
    {
     "data": {
      "text/html": [
       "<div>\n",
       "<style scoped>\n",
       "    .dataframe tbody tr th:only-of-type {\n",
       "        vertical-align: middle;\n",
       "    }\n",
       "\n",
       "    .dataframe tbody tr th {\n",
       "        vertical-align: top;\n",
       "    }\n",
       "\n",
       "    .dataframe thead th {\n",
       "        text-align: right;\n",
       "    }\n",
       "</style>\n",
       "<table border=\"1\" class=\"dataframe\">\n",
       "  <thead>\n",
       "    <tr style=\"text-align: right;\">\n",
       "      <th></th>\n",
       "      <th>SHP:Y1</th>\n",
       "      <th>SHP:Y2</th>\n",
       "      <th>SHP:Y4</th>\n",
       "      <th>SHP:Y3</th>\n",
       "      <th>MP:Yearly</th>\n",
       "      <th>KODEX200</th>\n",
       "    </tr>\n",
       "  </thead>\n",
       "  <tbody>\n",
       "    <tr>\n",
       "      <th>start</th>\n",
       "      <td>2019-01-30</td>\n",
       "      <td>2019-01-30</td>\n",
       "      <td>2019-01-30</td>\n",
       "      <td>2019-01-30</td>\n",
       "      <td>2019-01-30</td>\n",
       "      <td>2019-01-30</td>\n",
       "    </tr>\n",
       "    <tr>\n",
       "      <th>end</th>\n",
       "      <td>2024-07-31</td>\n",
       "      <td>2024-07-31</td>\n",
       "      <td>2024-07-31</td>\n",
       "      <td>2024-07-31</td>\n",
       "      <td>2024-07-31</td>\n",
       "      <td>2024-07-31</td>\n",
       "    </tr>\n",
       "    <tr>\n",
       "      <th>total_return</th>\n",
       "      <td>0.586372</td>\n",
       "      <td>0.618317</td>\n",
       "      <td>0.666064</td>\n",
       "      <td>0.682601</td>\n",
       "      <td>0.5097</td>\n",
       "      <td>0.487812</td>\n",
       "    </tr>\n",
       "    <tr>\n",
       "      <th>cagr</th>\n",
       "      <td>0.087514</td>\n",
       "      <td>0.091463</td>\n",
       "      <td>0.097249</td>\n",
       "      <td>0.099221</td>\n",
       "      <td>0.077764</td>\n",
       "      <td>0.074906</td>\n",
       "    </tr>\n",
       "    <tr>\n",
       "      <th>monthly_vol</th>\n",
       "      <td>0.099616</td>\n",
       "      <td>0.104922</td>\n",
       "      <td>0.122943</td>\n",
       "      <td>0.126855</td>\n",
       "      <td>0.103181</td>\n",
       "      <td>0.19921</td>\n",
       "    </tr>\n",
       "    <tr>\n",
       "      <th>monthly_sharpe</th>\n",
       "      <td>0.894809</td>\n",
       "      <td>0.889493</td>\n",
       "      <td>0.819295</td>\n",
       "      <td>0.811894</td>\n",
       "      <td>0.779885</td>\n",
       "      <td>0.461712</td>\n",
       "    </tr>\n",
       "    <tr>\n",
       "      <th>max_drawdown</th>\n",
       "      <td>-0.215077</td>\n",
       "      <td>-0.22212</td>\n",
       "      <td>-0.184672</td>\n",
       "      <td>-0.203328</td>\n",
       "      <td>-0.215629</td>\n",
       "      <td>-0.346184</td>\n",
       "    </tr>\n",
       "    <tr>\n",
       "      <th>avg_drawdown</th>\n",
       "      <td>-0.0116</td>\n",
       "      <td>-0.012311</td>\n",
       "      <td>-0.009163</td>\n",
       "      <td>-0.010896</td>\n",
       "      <td>-0.014143</td>\n",
       "      <td>-0.047368</td>\n",
       "    </tr>\n",
       "    <tr>\n",
       "      <th>avg_drawdown_days</th>\n",
       "      <td>20.853659</td>\n",
       "      <td>20.987805</td>\n",
       "      <td>22.973333</td>\n",
       "      <td>24.942857</td>\n",
       "      <td>28.912281</td>\n",
       "      <td>68.357143</td>\n",
       "    </tr>\n",
       "  </tbody>\n",
       "</table>\n",
       "</div>"
      ],
      "text/plain": [
       "                       SHP:Y1      SHP:Y2      SHP:Y4      SHP:Y3   MP:Yearly  \\\n",
       "start              2019-01-30  2019-01-30  2019-01-30  2019-01-30  2019-01-30   \n",
       "end                2024-07-31  2024-07-31  2024-07-31  2024-07-31  2024-07-31   \n",
       "total_return         0.586372    0.618317    0.666064    0.682601      0.5097   \n",
       "cagr                 0.087514    0.091463    0.097249    0.099221    0.077764   \n",
       "monthly_vol          0.099616    0.104922    0.122943    0.126855    0.103181   \n",
       "monthly_sharpe       0.894809    0.889493    0.819295    0.811894    0.779885   \n",
       "max_drawdown        -0.215077    -0.22212   -0.184672   -0.203328   -0.215629   \n",
       "avg_drawdown          -0.0116   -0.012311   -0.009163   -0.010896   -0.014143   \n",
       "avg_drawdown_days   20.853659   20.987805   22.973333   24.942857   28.912281   \n",
       "\n",
       "                     KODEX200  \n",
       "start              2019-01-30  \n",
       "end                2024-07-31  \n",
       "total_return         0.487812  \n",
       "cagr                 0.074906  \n",
       "monthly_vol           0.19921  \n",
       "monthly_sharpe       0.461712  \n",
       "max_drawdown        -0.346184  \n",
       "avg_drawdown        -0.047368  \n",
       "avg_drawdown_days   68.357143  "
      ]
     },
     "execution_count": 321,
     "metadata": {},
     "output_type": "execute_result"
    }
   ],
   "source": [
    "pf_list = [0, 2, 10, 11, 12, 13]\n",
    "bm.run(pf_list, plot=False, stats_sort_by='monthly_sharpe', metrics=METRICS2)"
   ]
  },
  {
   "cell_type": "code",
   "execution_count": 322,
   "id": "4ba9c1a6-7073-4554-93dd-1887f478b4a7",
   "metadata": {},
   "outputs": [
    {
     "data": {
      "text/plain": [
       "0) K55301BU6139: 미래에셋전략배분TDF2035혼합자산자투자신탁종류C-P2e\n",
       "1) K55301BU5479: 미래에셋전략배분TDF2045혼합자산자투자신탁 종류C-P2e\n",
       "2) K55301BU5453: 미래에셋평생소득TIF혼합자산자투자신탁종류C-P2e\n",
       "3) K55213C51890: 한화LIFEPLUSTDF2040증권자투자신탁(혼합-재간접형)C-RPe(퇴직연금)"
      ]
     },
     "execution_count": 322,
     "metadata": {},
     "output_type": "execute_result"
    }
   ],
   "source": [
    "n = 4\n",
    "choice = irp.performance('sharpe', 'month').index[:n].to_list()\n",
    "irp.get_names(choice)"
   ]
  },
  {
   "cell_type": "code",
   "execution_count": 323,
   "id": "1315bc42-9c76-41ae-864b-cd38cb2e3e5d",
   "metadata": {},
   "outputs": [],
   "source": [
    "kwa_list = [{'name':f'SHP:M{i}', 'weights':choice[:i]} for i in range(1,n+1)]\n",
    "\n",
    "bm.build_batch(*kwa_list, **kwargs_build)"
   ]
  },
  {
   "cell_type": "code",
   "execution_count": 324,
   "id": "93224a85-05b4-45c6-bfa0-0acbba4b0b90",
   "metadata": {},
   "outputs": [
    {
     "name": "stdout",
     "output_type": "stream",
     "text": [
      "Backtesting 7 strategies: KODEX200, MP:Yearly, ... , SHP:M4\n"
     ]
    },
    {
     "name": "stderr",
     "output_type": "stream",
     "text": [
      "100%|█████████████████████████████████████████████████████████████████| 7/7 [00:02<00:00,  2.92it/s]"
     ]
    },
    {
     "name": "stdout",
     "output_type": "stream",
     "text": [
      "Returning stats\n"
     ]
    },
    {
     "name": "stderr",
     "output_type": "stream",
     "text": [
      "\n"
     ]
    },
    {
     "data": {
      "text/html": [
       "<div>\n",
       "<style scoped>\n",
       "    .dataframe tbody tr th:only-of-type {\n",
       "        vertical-align: middle;\n",
       "    }\n",
       "\n",
       "    .dataframe tbody tr th {\n",
       "        vertical-align: top;\n",
       "    }\n",
       "\n",
       "    .dataframe thead th {\n",
       "        text-align: right;\n",
       "    }\n",
       "</style>\n",
       "<table border=\"1\" class=\"dataframe\">\n",
       "  <thead>\n",
       "    <tr style=\"text-align: right;\">\n",
       "      <th></th>\n",
       "      <th>SHP:Y1</th>\n",
       "      <th>SHP:M1</th>\n",
       "      <th>SHP:M2</th>\n",
       "      <th>SHP:M3</th>\n",
       "      <th>SHP:M4</th>\n",
       "      <th>MP:Yearly</th>\n",
       "      <th>KODEX200</th>\n",
       "    </tr>\n",
       "  </thead>\n",
       "  <tbody>\n",
       "    <tr>\n",
       "      <th>start</th>\n",
       "      <td>2019-01-30</td>\n",
       "      <td>2019-01-30</td>\n",
       "      <td>2019-01-30</td>\n",
       "      <td>2019-01-30</td>\n",
       "      <td>2019-01-30</td>\n",
       "      <td>2019-01-30</td>\n",
       "      <td>2019-01-30</td>\n",
       "    </tr>\n",
       "    <tr>\n",
       "      <th>end</th>\n",
       "      <td>2024-07-31</td>\n",
       "      <td>2024-07-31</td>\n",
       "      <td>2024-07-31</td>\n",
       "      <td>2024-07-31</td>\n",
       "      <td>2024-07-31</td>\n",
       "      <td>2024-07-31</td>\n",
       "      <td>2024-07-31</td>\n",
       "    </tr>\n",
       "    <tr>\n",
       "      <th>total_return</th>\n",
       "      <td>0.586372</td>\n",
       "      <td>0.586372</td>\n",
       "      <td>0.618317</td>\n",
       "      <td>0.496902</td>\n",
       "      <td>0.524563</td>\n",
       "      <td>0.5097</td>\n",
       "      <td>0.487812</td>\n",
       "    </tr>\n",
       "    <tr>\n",
       "      <th>cagr</th>\n",
       "      <td>0.087514</td>\n",
       "      <td>0.087514</td>\n",
       "      <td>0.091463</td>\n",
       "      <td>0.076097</td>\n",
       "      <td>0.079685</td>\n",
       "      <td>0.077764</td>\n",
       "      <td>0.074906</td>\n",
       "    </tr>\n",
       "    <tr>\n",
       "      <th>monthly_vol</th>\n",
       "      <td>0.099616</td>\n",
       "      <td>0.099616</td>\n",
       "      <td>0.104922</td>\n",
       "      <td>0.089114</td>\n",
       "      <td>0.094304</td>\n",
       "      <td>0.103181</td>\n",
       "      <td>0.19921</td>\n",
       "    </tr>\n",
       "    <tr>\n",
       "      <th>monthly_sharpe</th>\n",
       "      <td>0.894809</td>\n",
       "      <td>0.894809</td>\n",
       "      <td>0.889493</td>\n",
       "      <td>0.869994</td>\n",
       "      <td>0.862908</td>\n",
       "      <td>0.779885</td>\n",
       "      <td>0.461712</td>\n",
       "    </tr>\n",
       "    <tr>\n",
       "      <th>max_drawdown</th>\n",
       "      <td>-0.215077</td>\n",
       "      <td>-0.215077</td>\n",
       "      <td>-0.22212</td>\n",
       "      <td>-0.191431</td>\n",
       "      <td>-0.157305</td>\n",
       "      <td>-0.215629</td>\n",
       "      <td>-0.346184</td>\n",
       "    </tr>\n",
       "    <tr>\n",
       "      <th>avg_drawdown</th>\n",
       "      <td>-0.0116</td>\n",
       "      <td>-0.0116</td>\n",
       "      <td>-0.012311</td>\n",
       "      <td>-0.010156</td>\n",
       "      <td>-0.008272</td>\n",
       "      <td>-0.014143</td>\n",
       "      <td>-0.047368</td>\n",
       "    </tr>\n",
       "    <tr>\n",
       "      <th>avg_drawdown_days</th>\n",
       "      <td>20.853659</td>\n",
       "      <td>20.853659</td>\n",
       "      <td>20.987805</td>\n",
       "      <td>20.890244</td>\n",
       "      <td>20.26506</td>\n",
       "      <td>28.912281</td>\n",
       "      <td>68.357143</td>\n",
       "    </tr>\n",
       "  </tbody>\n",
       "</table>\n",
       "</div>"
      ],
      "text/plain": [
       "                       SHP:Y1      SHP:M1      SHP:M2      SHP:M3      SHP:M4  \\\n",
       "start              2019-01-30  2019-01-30  2019-01-30  2019-01-30  2019-01-30   \n",
       "end                2024-07-31  2024-07-31  2024-07-31  2024-07-31  2024-07-31   \n",
       "total_return         0.586372    0.586372    0.618317    0.496902    0.524563   \n",
       "cagr                 0.087514    0.087514    0.091463    0.076097    0.079685   \n",
       "monthly_vol          0.099616    0.099616    0.104922    0.089114    0.094304   \n",
       "monthly_sharpe       0.894809    0.894809    0.889493    0.869994    0.862908   \n",
       "max_drawdown        -0.215077   -0.215077    -0.22212   -0.191431   -0.157305   \n",
       "avg_drawdown          -0.0116     -0.0116   -0.012311   -0.010156   -0.008272   \n",
       "avg_drawdown_days   20.853659   20.853659   20.987805   20.890244    20.26506   \n",
       "\n",
       "                    MP:Yearly    KODEX200  \n",
       "start              2019-01-30  2019-01-30  \n",
       "end                2024-07-31  2024-07-31  \n",
       "total_return           0.5097    0.487812  \n",
       "cagr                 0.077764    0.074906  \n",
       "monthly_vol          0.103181     0.19921  \n",
       "monthly_sharpe       0.779885    0.461712  \n",
       "max_drawdown        -0.215629   -0.346184  \n",
       "avg_drawdown        -0.014143   -0.047368  \n",
       "avg_drawdown_days   28.912281   68.357143  "
      ]
     },
     "execution_count": 324,
     "metadata": {},
     "output_type": "execute_result"
    }
   ],
   "source": [
    "pf_list = [0, 2, 10, 14, 15, 16, 17]\n",
    "bm.run(pf_list, plot=False, stats_sort_by='monthly_sharpe', metrics=METRICS2)"
   ]
  },
  {
   "cell_type": "code",
   "execution_count": 325,
   "id": "06300ff3-9ff5-4ac0-b868-430167abca99",
   "metadata": {},
   "outputs": [
    {
     "data": {
      "text/plain": [
       "0) K55301BU5453: 미래에셋평생소득TIF혼합자산자투자신탁종류C-P2e\n",
       "1) K55301BU6139: 미래에셋전략배분TDF2035혼합자산자투자신탁종류C-P2e"
      ]
     },
     "execution_count": 325,
     "metadata": {},
     "output_type": "execute_result"
    }
   ],
   "source": [
    "choice = irp.performance('sharpe').idxmax().unique().tolist()\n",
    "irp.get_names(choice)"
   ]
  },
  {
   "cell_type": "code",
   "execution_count": 326,
   "id": "e001c6a1-cb26-401b-bed3-0169089e3ce6",
   "metadata": {},
   "outputs": [],
   "source": [
    "bm.build(name='SHP:Y1M1', weights=choice, **kwargs_build)"
   ]
  },
  {
   "cell_type": "code",
   "execution_count": 327,
   "id": "e453cc20-51f6-423b-a476-56f274cb08dc",
   "metadata": {},
   "outputs": [
    {
     "name": "stdout",
     "output_type": "stream",
     "text": [
      "Backtesting 4 strategies: KODEX200, MP:Yearly, SHP:Y1, SHP:Y1M1\n"
     ]
    },
    {
     "name": "stderr",
     "output_type": "stream",
     "text": [
      "100%|█████████████████████████████████████████████████████████████████| 4/4 [00:00<00:00,  6.18it/s]"
     ]
    },
    {
     "name": "stdout",
     "output_type": "stream",
     "text": [
      "Returning stats\n"
     ]
    },
    {
     "name": "stderr",
     "output_type": "stream",
     "text": [
      "\n"
     ]
    },
    {
     "data": {
      "text/html": [
       "<div>\n",
       "<style scoped>\n",
       "    .dataframe tbody tr th:only-of-type {\n",
       "        vertical-align: middle;\n",
       "    }\n",
       "\n",
       "    .dataframe tbody tr th {\n",
       "        vertical-align: top;\n",
       "    }\n",
       "\n",
       "    .dataframe thead th {\n",
       "        text-align: right;\n",
       "    }\n",
       "</style>\n",
       "<table border=\"1\" class=\"dataframe\">\n",
       "  <thead>\n",
       "    <tr style=\"text-align: right;\">\n",
       "      <th></th>\n",
       "      <th>SHP:Y1</th>\n",
       "      <th>SHP:Y1M1</th>\n",
       "      <th>MP:Yearly</th>\n",
       "      <th>KODEX200</th>\n",
       "    </tr>\n",
       "  </thead>\n",
       "  <tbody>\n",
       "    <tr>\n",
       "      <th>start</th>\n",
       "      <td>2019-01-30</td>\n",
       "      <td>2019-01-30</td>\n",
       "      <td>2019-01-30</td>\n",
       "      <td>2019-01-30</td>\n",
       "    </tr>\n",
       "    <tr>\n",
       "      <th>end</th>\n",
       "      <td>2024-07-31</td>\n",
       "      <td>2024-07-31</td>\n",
       "      <td>2024-07-31</td>\n",
       "      <td>2024-07-31</td>\n",
       "    </tr>\n",
       "    <tr>\n",
       "      <th>total_return</th>\n",
       "      <td>0.586372</td>\n",
       "      <td>0.423583</td>\n",
       "      <td>0.5097</td>\n",
       "      <td>0.487812</td>\n",
       "    </tr>\n",
       "    <tr>\n",
       "      <th>cagr</th>\n",
       "      <td>0.087514</td>\n",
       "      <td>0.066316</td>\n",
       "      <td>0.077764</td>\n",
       "      <td>0.074906</td>\n",
       "    </tr>\n",
       "    <tr>\n",
       "      <th>monthly_vol</th>\n",
       "      <td>0.099616</td>\n",
       "      <td>0.078857</td>\n",
       "      <td>0.103181</td>\n",
       "      <td>0.19921</td>\n",
       "    </tr>\n",
       "    <tr>\n",
       "      <th>monthly_sharpe</th>\n",
       "      <td>0.894809</td>\n",
       "      <td>0.85584</td>\n",
       "      <td>0.779885</td>\n",
       "      <td>0.461712</td>\n",
       "    </tr>\n",
       "    <tr>\n",
       "      <th>max_drawdown</th>\n",
       "      <td>-0.215077</td>\n",
       "      <td>-0.172359</td>\n",
       "      <td>-0.215629</td>\n",
       "      <td>-0.346184</td>\n",
       "    </tr>\n",
       "    <tr>\n",
       "      <th>avg_drawdown</th>\n",
       "      <td>-0.0116</td>\n",
       "      <td>-0.008916</td>\n",
       "      <td>-0.014143</td>\n",
       "      <td>-0.047368</td>\n",
       "    </tr>\n",
       "    <tr>\n",
       "      <th>avg_drawdown_days</th>\n",
       "      <td>20.853659</td>\n",
       "      <td>21.481013</td>\n",
       "      <td>28.912281</td>\n",
       "      <td>68.357143</td>\n",
       "    </tr>\n",
       "  </tbody>\n",
       "</table>\n",
       "</div>"
      ],
      "text/plain": [
       "                       SHP:Y1    SHP:Y1M1   MP:Yearly    KODEX200\n",
       "start              2019-01-30  2019-01-30  2019-01-30  2019-01-30\n",
       "end                2024-07-31  2024-07-31  2024-07-31  2024-07-31\n",
       "total_return         0.586372    0.423583      0.5097    0.487812\n",
       "cagr                 0.087514    0.066316    0.077764    0.074906\n",
       "monthly_vol          0.099616    0.078857    0.103181     0.19921\n",
       "monthly_sharpe       0.894809     0.85584    0.779885    0.461712\n",
       "max_drawdown        -0.215077   -0.172359   -0.215629   -0.346184\n",
       "avg_drawdown          -0.0116   -0.008916   -0.014143   -0.047368\n",
       "avg_drawdown_days   20.853659   21.481013   28.912281   68.357143"
      ]
     },
     "execution_count": 327,
     "metadata": {},
     "output_type": "execute_result"
    }
   ],
   "source": [
    "pf_list = [0, 2, 10, 18]\n",
    "bm.run(pf_list, plot=False, stats_sort_by='monthly_sharpe', metrics=METRICS2)"
   ]
  },
  {
   "cell_type": "markdown",
   "id": "05c47211-4358-4ae9-9c29-e634a9372540",
   "metadata": {},
   "source": [
    "### Candis"
   ]
  },
  {
   "cell_type": "code",
   "execution_count": 328,
   "id": "6c5cff33-c78a-4537-a1cd-423bf2708fda",
   "metadata": {},
   "outputs": [
    {
     "data": {
      "text/plain": [
       "0) K55301BU6139: 미래에셋전략배분TDF2035혼합자산자투자신탁종류C-P2e\n",
       "1) K55206C95800: 키움키워드림TDF2030증권투자신탁 1[혼합-재간접형]C-P2e(퇴직연금)\n",
       "2) K55365BT3694: kcgi코리아퇴직연금증권자투자신탁(주식)종류C-Pe2\n",
       "3) K55203C53681: 대신KOSPI200인덱스증권자투자신탁(주식-파생형)CPe\n",
       "4) K55234CJ0997: IBK플레인바닐라EMP증권투자신탁(혼합-재간접형)C-Re"
      ]
     },
     "execution_count": 328,
     "metadata": {},
     "output_type": "execute_result"
    }
   ],
   "source": [
    "choice = choice_mp + ['K55365BT3694', 'K55203C53681', 'K55234CJ0997']\n",
    "irp.get_names(choice)"
   ]
  },
  {
   "cell_type": "code",
   "execution_count": 329,
   "id": "4009bb5f-3294-4573-a4d2-873a4f5f7a1a",
   "metadata": {},
   "outputs": [],
   "source": [
    "bm.build(name='CAN1', weights=choice, **kwargs_build)"
   ]
  },
  {
   "cell_type": "code",
   "execution_count": 330,
   "id": "2c45a813-459c-4c3c-b28d-914fefee6461",
   "metadata": {},
   "outputs": [
    {
     "name": "stdout",
     "output_type": "stream",
     "text": [
      "Backtesting 4 strategies: KODEX200, MP:Yearly, SHP:Y1, CAN1\n"
     ]
    },
    {
     "name": "stderr",
     "output_type": "stream",
     "text": [
      "100%|█████████████████████████████████████████████████████████████████| 4/4 [00:00<00:00,  6.28it/s]"
     ]
    },
    {
     "name": "stdout",
     "output_type": "stream",
     "text": [
      "Returning stats\n"
     ]
    },
    {
     "name": "stderr",
     "output_type": "stream",
     "text": [
      "\n"
     ]
    },
    {
     "data": {
      "text/html": [
       "<div>\n",
       "<style scoped>\n",
       "    .dataframe tbody tr th:only-of-type {\n",
       "        vertical-align: middle;\n",
       "    }\n",
       "\n",
       "    .dataframe tbody tr th {\n",
       "        vertical-align: top;\n",
       "    }\n",
       "\n",
       "    .dataframe thead th {\n",
       "        text-align: right;\n",
       "    }\n",
       "</style>\n",
       "<table border=\"1\" class=\"dataframe\">\n",
       "  <thead>\n",
       "    <tr style=\"text-align: right;\">\n",
       "      <th></th>\n",
       "      <th>SHP:Y1</th>\n",
       "      <th>MP:Yearly</th>\n",
       "      <th>CAN1</th>\n",
       "      <th>KODEX200</th>\n",
       "    </tr>\n",
       "  </thead>\n",
       "  <tbody>\n",
       "    <tr>\n",
       "      <th>start</th>\n",
       "      <td>2019-01-30</td>\n",
       "      <td>2019-01-30</td>\n",
       "      <td>2019-01-30</td>\n",
       "      <td>2019-01-30</td>\n",
       "    </tr>\n",
       "    <tr>\n",
       "      <th>end</th>\n",
       "      <td>2024-07-31</td>\n",
       "      <td>2024-07-31</td>\n",
       "      <td>2024-07-31</td>\n",
       "      <td>2024-07-31</td>\n",
       "    </tr>\n",
       "    <tr>\n",
       "      <th>total_return</th>\n",
       "      <td>0.586372</td>\n",
       "      <td>0.5097</td>\n",
       "      <td>0.588888</td>\n",
       "      <td>0.487812</td>\n",
       "    </tr>\n",
       "    <tr>\n",
       "      <th>cagr</th>\n",
       "      <td>0.087514</td>\n",
       "      <td>0.077764</td>\n",
       "      <td>0.087828</td>\n",
       "      <td>0.074906</td>\n",
       "    </tr>\n",
       "    <tr>\n",
       "      <th>monthly_vol</th>\n",
       "      <td>0.099616</td>\n",
       "      <td>0.103181</td>\n",
       "      <td>0.128152</td>\n",
       "      <td>0.19921</td>\n",
       "    </tr>\n",
       "    <tr>\n",
       "      <th>monthly_sharpe</th>\n",
       "      <td>0.894809</td>\n",
       "      <td>0.779885</td>\n",
       "      <td>0.722651</td>\n",
       "      <td>0.461712</td>\n",
       "    </tr>\n",
       "    <tr>\n",
       "      <th>max_drawdown</th>\n",
       "      <td>-0.215077</td>\n",
       "      <td>-0.215629</td>\n",
       "      <td>-0.213511</td>\n",
       "      <td>-0.346184</td>\n",
       "    </tr>\n",
       "    <tr>\n",
       "      <th>avg_drawdown</th>\n",
       "      <td>-0.0116</td>\n",
       "      <td>-0.014143</td>\n",
       "      <td>-0.011399</td>\n",
       "      <td>-0.047368</td>\n",
       "    </tr>\n",
       "    <tr>\n",
       "      <th>avg_drawdown_days</th>\n",
       "      <td>20.853659</td>\n",
       "      <td>28.912281</td>\n",
       "      <td>35.333333</td>\n",
       "      <td>68.357143</td>\n",
       "    </tr>\n",
       "  </tbody>\n",
       "</table>\n",
       "</div>"
      ],
      "text/plain": [
       "                       SHP:Y1   MP:Yearly        CAN1    KODEX200\n",
       "start              2019-01-30  2019-01-30  2019-01-30  2019-01-30\n",
       "end                2024-07-31  2024-07-31  2024-07-31  2024-07-31\n",
       "total_return         0.586372      0.5097    0.588888    0.487812\n",
       "cagr                 0.087514    0.077764    0.087828    0.074906\n",
       "monthly_vol          0.099616    0.103181    0.128152     0.19921\n",
       "monthly_sharpe       0.894809    0.779885    0.722651    0.461712\n",
       "max_drawdown        -0.215077   -0.215629   -0.213511   -0.346184\n",
       "avg_drawdown          -0.0116   -0.014143   -0.011399   -0.047368\n",
       "avg_drawdown_days   20.853659   28.912281   35.333333   68.357143"
      ]
     },
     "execution_count": 330,
     "metadata": {},
     "output_type": "execute_result"
    }
   ],
   "source": [
    "pf_list = [0, 2, 10, 19]\n",
    "bm.run(pf_list, plot=False, stats_sort_by='monthly_sharpe', metrics=METRICS2)"
   ]
  },
  {
   "cell_type": "code",
   "execution_count": 331,
   "id": "d2eef141-6296-4a81-97ea-7fb61a1e4bd8",
   "metadata": {},
   "outputs": [],
   "source": [
    "choice = choice_mp + ['K55365BT3694']\n",
    "bm.build(name='CAN2', weights=choice, **kwargs_build)"
   ]
  },
  {
   "cell_type": "code",
   "execution_count": 332,
   "id": "971c99ad-e5bb-4f1b-8219-b7ba4c6bff92",
   "metadata": {},
   "outputs": [
    {
     "name": "stdout",
     "output_type": "stream",
     "text": [
      "Backtesting 5 strategies: KODEX200, MP:Yearly, SHP:Y1, CAN1, CAN2\n"
     ]
    },
    {
     "name": "stderr",
     "output_type": "stream",
     "text": [
      "100%|█████████████████████████████████████████████████████████████████| 5/5 [00:00<00:00,  8.31it/s]"
     ]
    },
    {
     "name": "stdout",
     "output_type": "stream",
     "text": [
      "Returning stats\n"
     ]
    },
    {
     "name": "stderr",
     "output_type": "stream",
     "text": [
      "\n"
     ]
    },
    {
     "data": {
      "text/html": [
       "<div>\n",
       "<style scoped>\n",
       "    .dataframe tbody tr th:only-of-type {\n",
       "        vertical-align: middle;\n",
       "    }\n",
       "\n",
       "    .dataframe tbody tr th {\n",
       "        vertical-align: top;\n",
       "    }\n",
       "\n",
       "    .dataframe thead th {\n",
       "        text-align: right;\n",
       "    }\n",
       "</style>\n",
       "<table border=\"1\" class=\"dataframe\">\n",
       "  <thead>\n",
       "    <tr style=\"text-align: right;\">\n",
       "      <th></th>\n",
       "      <th>SHP:Y1</th>\n",
       "      <th>MP:Yearly</th>\n",
       "      <th>CAN2</th>\n",
       "      <th>CAN1</th>\n",
       "      <th>KODEX200</th>\n",
       "    </tr>\n",
       "  </thead>\n",
       "  <tbody>\n",
       "    <tr>\n",
       "      <th>start</th>\n",
       "      <td>2019-01-30</td>\n",
       "      <td>2019-01-30</td>\n",
       "      <td>2019-01-30</td>\n",
       "      <td>2019-01-30</td>\n",
       "      <td>2019-01-30</td>\n",
       "    </tr>\n",
       "    <tr>\n",
       "      <th>end</th>\n",
       "      <td>2024-07-31</td>\n",
       "      <td>2024-07-31</td>\n",
       "      <td>2024-07-31</td>\n",
       "      <td>2024-07-31</td>\n",
       "      <td>2024-07-31</td>\n",
       "    </tr>\n",
       "    <tr>\n",
       "      <th>total_return</th>\n",
       "      <td>0.586372</td>\n",
       "      <td>0.5097</td>\n",
       "      <td>0.609242</td>\n",
       "      <td>0.588888</td>\n",
       "      <td>0.487812</td>\n",
       "    </tr>\n",
       "    <tr>\n",
       "      <th>cagr</th>\n",
       "      <td>0.087514</td>\n",
       "      <td>0.077764</td>\n",
       "      <td>0.090348</td>\n",
       "      <td>0.087828</td>\n",
       "      <td>0.074906</td>\n",
       "    </tr>\n",
       "    <tr>\n",
       "      <th>monthly_vol</th>\n",
       "      <td>0.099616</td>\n",
       "      <td>0.103181</td>\n",
       "      <td>0.126804</td>\n",
       "      <td>0.128152</td>\n",
       "      <td>0.19921</td>\n",
       "    </tr>\n",
       "    <tr>\n",
       "      <th>monthly_sharpe</th>\n",
       "      <td>0.894809</td>\n",
       "      <td>0.779885</td>\n",
       "      <td>0.748086</td>\n",
       "      <td>0.722651</td>\n",
       "      <td>0.461712</td>\n",
       "    </tr>\n",
       "    <tr>\n",
       "      <th>max_drawdown</th>\n",
       "      <td>-0.215077</td>\n",
       "      <td>-0.215629</td>\n",
       "      <td>-0.208847</td>\n",
       "      <td>-0.213511</td>\n",
       "      <td>-0.346184</td>\n",
       "    </tr>\n",
       "    <tr>\n",
       "      <th>avg_drawdown</th>\n",
       "      <td>-0.0116</td>\n",
       "      <td>-0.014143</td>\n",
       "      <td>-0.012401</td>\n",
       "      <td>-0.011399</td>\n",
       "      <td>-0.047368</td>\n",
       "    </tr>\n",
       "    <tr>\n",
       "      <th>avg_drawdown_days</th>\n",
       "      <td>20.853659</td>\n",
       "      <td>28.912281</td>\n",
       "      <td>31.339623</td>\n",
       "      <td>35.333333</td>\n",
       "      <td>68.357143</td>\n",
       "    </tr>\n",
       "  </tbody>\n",
       "</table>\n",
       "</div>"
      ],
      "text/plain": [
       "                       SHP:Y1   MP:Yearly        CAN2        CAN1    KODEX200\n",
       "start              2019-01-30  2019-01-30  2019-01-30  2019-01-30  2019-01-30\n",
       "end                2024-07-31  2024-07-31  2024-07-31  2024-07-31  2024-07-31\n",
       "total_return         0.586372      0.5097    0.609242    0.588888    0.487812\n",
       "cagr                 0.087514    0.077764    0.090348    0.087828    0.074906\n",
       "monthly_vol          0.099616    0.103181    0.126804    0.128152     0.19921\n",
       "monthly_sharpe       0.894809    0.779885    0.748086    0.722651    0.461712\n",
       "max_drawdown        -0.215077   -0.215629   -0.208847   -0.213511   -0.346184\n",
       "avg_drawdown          -0.0116   -0.014143   -0.012401   -0.011399   -0.047368\n",
       "avg_drawdown_days   20.853659   28.912281   31.339623   35.333333   68.357143"
      ]
     },
     "execution_count": 332,
     "metadata": {},
     "output_type": "execute_result"
    }
   ],
   "source": [
    "pf_list = [0, 2, 10, 19, 20]\n",
    "bm.run(pf_list, plot=False, stats_sort_by='monthly_sharpe', metrics=METRICS2)"
   ]
  },
  {
   "cell_type": "markdown",
   "id": "45beec20-64fb-4a54-8e2e-2db890e62cbd",
   "metadata": {},
   "source": [
    "#### Weight"
   ]
  },
  {
   "cell_type": "code",
   "execution_count": 362,
   "id": "3549745a-426a-4109-b642-ab9633d035a1",
   "metadata": {},
   "outputs": [
    {
     "data": {
      "text/plain": [
       "0) K55301BU6139: 미래에셋전략배분TDF2035혼합자산자투자신탁종류C-P2e\n",
       "1) K55206C95800: 키움키워드림TDF2030증권투자신탁 1[혼합-재간접형]C-P2e(퇴직연금)\n",
       "2) K55365BT3694: kcgi코리아퇴직연금증권자투자신탁(주식)종류C-Pe2\n",
       "3) K55213C51890: 한화LIFEPLUSTDF2040증권자투자신탁(혼합-재간접형)C-RPe(퇴직연금)\n",
       "4) K55203C53681: 대신KOSPI200인덱스증권자투자신탁(주식-파생형)CPe\n",
       "5) K55234CJ0997: IBK플레인바닐라EMP증권투자신탁(혼합-재간접형)C-Re"
      ]
     },
     "execution_count": 362,
     "metadata": {},
     "output_type": "execute_result"
    }
   ],
   "source": [
    "choice = choice_mp + ['K55365BT3694', 'K55213C51890', 'K55203C53681', 'K55234CJ0997']\n",
    "irp.get_names(choice)"
   ]
  },
  {
   "cell_type": "code",
   "execution_count": 363,
   "id": "ede5d255-1ec0-4e6c-8a51-359907077da4",
   "metadata": {},
   "outputs": [
    {
     "name": "stdout",
     "output_type": "stream",
     "text": [
      "period reset: 2019-01-31 ~ 2024-07-31\n",
      "running self.util_check_days_in_year to check days in a year\n"
     ]
    }
   ],
   "source": [
    "df = df_irp[choice]\n",
    "bm = BacktestManager(df, **kwargs_bm)"
   ]
  },
  {
   "cell_type": "code",
   "execution_count": 364,
   "id": "586d312b-2a09-43fd-82c8-c21d844834e5",
   "metadata": {},
   "outputs": [
    {
     "name": "stdout",
     "output_type": "stream",
     "text": [
      "Benchmark is KODEX200\n"
     ]
    }
   ],
   "source": [
    "bm.benchmark_ticker(**lags)"
   ]
  },
  {
   "cell_type": "code",
   "execution_count": 365,
   "id": "83388212-6211-49e8-8d50-6f6eec0d0bde",
   "metadata": {},
   "outputs": [],
   "source": [
    "kwargs_build = dict(\n",
    "    freq = 'Y', select = 'all',\n",
    "    **lags # added to start backtest on same date with momentum\n",
    ")\n",
    "\n",
    "bm.build(name='CAN3:Eqaully', weigh='equally', **kwargs_build)\n",
    "bm.build(name='CAN3:ERC', weigh='ERC', **kwargs_build)\n",
    "bm.build(name='CAN3:InvVol', weigh='InvVol', **kwargs_build)\n",
    "bm.build(name='CAN3:MeanVar', weigh='MeanVar', **kwargs_build)"
   ]
  },
  {
   "cell_type": "code",
   "execution_count": 366,
   "id": "61a970b2-4a2e-4963-84e9-78199a6387f9",
   "metadata": {},
   "outputs": [],
   "source": [
    "bm.build(name='MP', weigh='Specified', weights=choice_mp, **kwargs_build)"
   ]
  },
  {
   "cell_type": "code",
   "execution_count": 367,
   "id": "93d59f2d-1198-43bf-8af8-dd51d4827049",
   "metadata": {},
   "outputs": [],
   "source": [
    "choice = irp.performance('sharpe', 'year').index\n",
    "bm.build(name=f'SHP:Y1', weigh='Specified', weights=choice[0], **kwargs_build)"
   ]
  },
  {
   "cell_type": "code",
   "execution_count": 368,
   "id": "2e527055-29b8-4440-83c5-eb4c3d645556",
   "metadata": {},
   "outputs": [
    {
     "name": "stdout",
     "output_type": "stream",
     "text": [
      "Backtesting 7 strategies: KODEX200, CAN3:Eqaully, ... , SHP:Y1\n"
     ]
    },
    {
     "name": "stderr",
     "output_type": "stream",
     "text": [
      "100%|█████████████████████████████████████████████████████████████████| 7/7 [00:03<00:00,  1.84it/s]"
     ]
    },
    {
     "name": "stdout",
     "output_type": "stream",
     "text": [
      "Returning stats\n"
     ]
    },
    {
     "name": "stderr",
     "output_type": "stream",
     "text": [
      "\n"
     ]
    },
    {
     "data": {
      "text/html": [
       "<div>\n",
       "<style scoped>\n",
       "    .dataframe tbody tr th:only-of-type {\n",
       "        vertical-align: middle;\n",
       "    }\n",
       "\n",
       "    .dataframe tbody tr th {\n",
       "        vertical-align: top;\n",
       "    }\n",
       "\n",
       "    .dataframe thead th {\n",
       "        text-align: right;\n",
       "    }\n",
       "</style>\n",
       "<table border=\"1\" class=\"dataframe\">\n",
       "  <thead>\n",
       "    <tr style=\"text-align: right;\">\n",
       "      <th></th>\n",
       "      <th>SHP:Y1</th>\n",
       "      <th>CAN3:Eqaully</th>\n",
       "      <th>CAN3:ERC</th>\n",
       "      <th>MP</th>\n",
       "      <th>CAN3:InvVol</th>\n",
       "      <th>KODEX200</th>\n",
       "      <th>CAN3:MeanVar</th>\n",
       "    </tr>\n",
       "  </thead>\n",
       "  <tbody>\n",
       "    <tr>\n",
       "      <th>start</th>\n",
       "      <td>2019-01-30</td>\n",
       "      <td>2019-01-30</td>\n",
       "      <td>2019-01-30</td>\n",
       "      <td>2019-01-30</td>\n",
       "      <td>2019-01-30</td>\n",
       "      <td>2019-01-30</td>\n",
       "      <td>2019-01-30</td>\n",
       "    </tr>\n",
       "    <tr>\n",
       "      <th>end</th>\n",
       "      <td>2024-07-31</td>\n",
       "      <td>2024-07-31</td>\n",
       "      <td>2024-07-31</td>\n",
       "      <td>2024-07-31</td>\n",
       "      <td>2024-07-31</td>\n",
       "      <td>2024-07-31</td>\n",
       "      <td>2024-07-31</td>\n",
       "    </tr>\n",
       "    <tr>\n",
       "      <th>total_return</th>\n",
       "      <td>0.375277</td>\n",
       "      <td>0.410699</td>\n",
       "      <td>0.36222</td>\n",
       "      <td>0.320584</td>\n",
       "      <td>0.35347</td>\n",
       "      <td>0.435671</td>\n",
       "      <td>0.239453</td>\n",
       "    </tr>\n",
       "    <tr>\n",
       "      <th>cagr</th>\n",
       "      <td>0.059645</td>\n",
       "      <td>0.064555</td>\n",
       "      <td>0.057809</td>\n",
       "      <td>0.051856</td>\n",
       "      <td>0.05657</td>\n",
       "      <td>0.067957</td>\n",
       "      <td>0.0398</td>\n",
       "    </tr>\n",
       "    <tr>\n",
       "      <th>monthly_vol</th>\n",
       "      <td>0.096018</td>\n",
       "      <td>0.121237</td>\n",
       "      <td>0.109432</td>\n",
       "      <td>0.099719</td>\n",
       "      <td>0.110411</td>\n",
       "      <td>0.189682</td>\n",
       "      <td>0.103302</td>\n",
       "    </tr>\n",
       "    <tr>\n",
       "      <th>monthly_sharpe</th>\n",
       "      <td>0.652645</td>\n",
       "      <td>0.577498</td>\n",
       "      <td>0.569288</td>\n",
       "      <td>0.558104</td>\n",
       "      <td>0.554492</td>\n",
       "      <td>0.440919</td>\n",
       "      <td>0.429649</td>\n",
       "    </tr>\n",
       "    <tr>\n",
       "      <th>max_drawdown</th>\n",
       "      <td>-0.21507</td>\n",
       "      <td>-0.196979</td>\n",
       "      <td>-0.183427</td>\n",
       "      <td>-0.215628</td>\n",
       "      <td>-0.181566</td>\n",
       "      <td>-0.342786</td>\n",
       "      <td>-0.195187</td>\n",
       "    </tr>\n",
       "    <tr>\n",
       "      <th>avg_drawdown</th>\n",
       "      <td>-0.014249</td>\n",
       "      <td>-0.012469</td>\n",
       "      <td>-0.012531</td>\n",
       "      <td>-0.018684</td>\n",
       "      <td>-0.011687</td>\n",
       "      <td>-0.052</td>\n",
       "      <td>-0.014138</td>\n",
       "    </tr>\n",
       "    <tr>\n",
       "      <th>avg_drawdown_days</th>\n",
       "      <td>25.714286</td>\n",
       "      <td>36.205128</td>\n",
       "      <td>34.121951</td>\n",
       "      <td>39.333333</td>\n",
       "      <td>32.55814</td>\n",
       "      <td>74.619048</td>\n",
       "      <td>41.542857</td>\n",
       "    </tr>\n",
       "  </tbody>\n",
       "</table>\n",
       "</div>"
      ],
      "text/plain": [
       "                       SHP:Y1 CAN3:Eqaully    CAN3:ERC          MP  \\\n",
       "start              2019-01-30   2019-01-30  2019-01-30  2019-01-30   \n",
       "end                2024-07-31   2024-07-31  2024-07-31  2024-07-31   \n",
       "total_return         0.375277     0.410699     0.36222    0.320584   \n",
       "cagr                 0.059645     0.064555    0.057809    0.051856   \n",
       "monthly_vol          0.096018     0.121237    0.109432    0.099719   \n",
       "monthly_sharpe       0.652645     0.577498    0.569288    0.558104   \n",
       "max_drawdown         -0.21507    -0.196979   -0.183427   -0.215628   \n",
       "avg_drawdown        -0.014249    -0.012469   -0.012531   -0.018684   \n",
       "avg_drawdown_days   25.714286    36.205128   34.121951   39.333333   \n",
       "\n",
       "                  CAN3:InvVol    KODEX200 CAN3:MeanVar  \n",
       "start              2019-01-30  2019-01-30   2019-01-30  \n",
       "end                2024-07-31  2024-07-31   2024-07-31  \n",
       "total_return          0.35347    0.435671     0.239453  \n",
       "cagr                  0.05657    0.067957       0.0398  \n",
       "monthly_vol          0.110411    0.189682     0.103302  \n",
       "monthly_sharpe       0.554492    0.440919     0.429649  \n",
       "max_drawdown        -0.181566   -0.342786    -0.195187  \n",
       "avg_drawdown        -0.011687      -0.052    -0.014138  \n",
       "avg_drawdown_days    32.55814   74.619048    41.542857  "
      ]
     },
     "execution_count": 368,
     "metadata": {},
     "output_type": "execute_result"
    }
   ],
   "source": [
    "bm.run(plot=False, stats_sort_by='monthly_sharpe', metrics=METRICS2)"
   ]
  },
  {
   "cell_type": "markdown",
   "id": "758f1360-0b60-4d97-b1ca-977281fe28a1",
   "metadata": {},
   "source": [
    "#### Value1"
   ]
  },
  {
   "cell_type": "code",
   "execution_count": 53,
   "id": "f58707eb-4691-43c1-855e-6c2271f9c7b2",
   "metadata": {},
   "outputs": [
    {
     "data": {
      "text/plain": [
       "0) K55365BT3694: kcgi코리아퇴직연금증권자투자신탁(주식)종류C-Pe2\n",
       "1) K55203C53681: 대신KOSPI200인덱스증권자투자신탁(주식-파생형)CPe\n",
       "2) K55234CJ0997: IBK플레인바닐라EMP증권투자신탁(혼합-재간접형)C-Re"
      ]
     },
     "execution_count": 53,
     "metadata": {},
     "output_type": "execute_result"
    }
   ],
   "source": [
    "choice = ['K55365BT3694', 'K55203C53681', 'K55234CJ0997']\n",
    "irp.get_names(choice)"
   ]
  },
  {
   "cell_type": "code",
   "execution_count": 54,
   "id": "9de224c5-26d4-4386-8757-f989241deac2",
   "metadata": {},
   "outputs": [
    {
     "name": "stdout",
     "output_type": "stream",
     "text": [
      "period reset: 2022-01-25 ~ 2024-07-31\n",
      "running self.util_check_days_in_year to check days in a year\n"
     ]
    },
    {
     "data": {
      "text/html": [
       "<div>\n",
       "<style scoped>\n",
       "    .dataframe tbody tr th:only-of-type {\n",
       "        vertical-align: middle;\n",
       "    }\n",
       "\n",
       "    .dataframe tbody tr th {\n",
       "        vertical-align: top;\n",
       "    }\n",
       "\n",
       "    .dataframe thead th {\n",
       "        text-align: right;\n",
       "    }\n",
       "</style>\n",
       "<table border=\"1\" class=\"dataframe\">\n",
       "  <thead>\n",
       "    <tr style=\"text-align: right;\">\n",
       "      <th></th>\n",
       "      <th>KOSPI:Momentum</th>\n",
       "      <th>K55365BT3694</th>\n",
       "      <th>K55203C53681</th>\n",
       "      <th>K55234CJ0997</th>\n",
       "    </tr>\n",
       "  </thead>\n",
       "  <tbody>\n",
       "    <tr>\n",
       "      <th>2022-01-25</th>\n",
       "      <td>100.000</td>\n",
       "      <td>1012.039352</td>\n",
       "      <td>1338.109236</td>\n",
       "      <td>1390.010967</td>\n",
       "    </tr>\n",
       "    <tr>\n",
       "      <th>2022-01-26</th>\n",
       "      <td>99.780</td>\n",
       "      <td>1012.039352</td>\n",
       "      <td>1338.109236</td>\n",
       "      <td>1390.010967</td>\n",
       "    </tr>\n",
       "    <tr>\n",
       "      <th>2022-01-27</th>\n",
       "      <td>96.064</td>\n",
       "      <td>1012.039352</td>\n",
       "      <td>1338.109236</td>\n",
       "      <td>1390.010967</td>\n",
       "    </tr>\n",
       "    <tr>\n",
       "      <th>2022-01-28</th>\n",
       "      <td>96.318</td>\n",
       "      <td>897.421767</td>\n",
       "      <td>1203.518615</td>\n",
       "      <td>1360.231095</td>\n",
       "    </tr>\n",
       "    <tr>\n",
       "      <th>2022-01-29</th>\n",
       "      <td>96.318</td>\n",
       "      <td>897.421767</td>\n",
       "      <td>1203.518615</td>\n",
       "      <td>1360.231095</td>\n",
       "    </tr>\n",
       "  </tbody>\n",
       "</table>\n",
       "</div>"
      ],
      "text/plain": [
       "            KOSPI:Momentum  K55365BT3694  K55203C53681  K55234CJ0997\n",
       "2022-01-25         100.000   1012.039352   1338.109236   1390.010967\n",
       "2022-01-26          99.780   1012.039352   1338.109236   1390.010967\n",
       "2022-01-27          96.064   1012.039352   1338.109236   1390.010967\n",
       "2022-01-28          96.318    897.421767   1203.518615   1360.231095\n",
       "2022-01-29          96.318    897.421767   1203.518615   1360.231095"
      ]
     },
     "execution_count": 54,
     "metadata": {},
     "output_type": "execute_result"
    }
   ],
   "source": [
    "df_v = df_pf['K200:Momentum'].to_frame().join(df_irp[choice], how='outer')\n",
    "bm = BacktestManager(df_v, **kwargs_bm)\n",
    "bm.df_assets.head()"
   ]
  },
  {
   "cell_type": "code",
   "execution_count": 55,
   "id": "bddeb278-e149-4e4b-9bbd-17a264d5002b",
   "metadata": {},
   "outputs": [
    {
     "name": "stdout",
     "output_type": "stream",
     "text": [
      "Benchmark is KODEX200\n"
     ]
    }
   ],
   "source": [
    "bm.benchmark_ticker()"
   ]
  },
  {
   "cell_type": "code",
   "execution_count": 56,
   "id": "b291f0ff-709d-4b4b-82ea-6eb81105aca0",
   "metadata": {},
   "outputs": [],
   "source": [
    "ew = lambda *l: [x for i,x in enumerate(bm.df_assets.columns) if i in l]\n",
    "\n",
    "kwargs_build = dict(\n",
    "    select = 'all', weigh='Specified'\n",
    ")\n",
    "\n",
    "hy = round(bm.days_in_year/2)\n",
    "kwa_list = [\n",
    "    {'name':f'VAL1:{f}{i}', 'freq':f if f != 'HY' else hy, 'weights':ew(0, i)} \n",
    "    for i in range(1,4) for f in ['Y', 'HY', 'Q', 'M']\n",
    "]\n",
    "\n",
    "bm.build_batch(*kwa_list, **kwargs_build)\n",
    "bm.build(name='VAL:Momentum', freq='Once', weights=ew(0), **kwargs_build)"
   ]
  },
  {
   "cell_type": "code",
   "execution_count": 57,
   "id": "e715ba72-bc00-4b24-922a-6df382515f39",
   "metadata": {},
   "outputs": [
    {
     "name": "stdout",
     "output_type": "stream",
     "text": [
      "Backtesting 14 strategies: KODEX200, VAL1:Y1, ... , VAL:Momentum\n"
     ]
    },
    {
     "name": "stderr",
     "output_type": "stream",
     "text": [
      "100%|███████████████████████████████████████████████████████████████| 14/14 [00:03<00:00,  3.77it/s]"
     ]
    },
    {
     "name": "stdout",
     "output_type": "stream",
     "text": [
      "Returning stats\n"
     ]
    },
    {
     "name": "stderr",
     "output_type": "stream",
     "text": [
      "\n"
     ]
    },
    {
     "data": {
      "text/html": [
       "<div>\n",
       "<style scoped>\n",
       "    .dataframe tbody tr th:only-of-type {\n",
       "        vertical-align: middle;\n",
       "    }\n",
       "\n",
       "    .dataframe tbody tr th {\n",
       "        vertical-align: top;\n",
       "    }\n",
       "\n",
       "    .dataframe thead th {\n",
       "        text-align: right;\n",
       "    }\n",
       "</style>\n",
       "<table border=\"1\" class=\"dataframe\">\n",
       "  <thead>\n",
       "    <tr style=\"text-align: right;\">\n",
       "      <th></th>\n",
       "      <th>VAL1:M1</th>\n",
       "      <th>VAL:Momentum</th>\n",
       "      <th>VAL1:Q1</th>\n",
       "      <th>VAL1:HY1</th>\n",
       "      <th>VAL1:M2</th>\n",
       "      <th>VAL1:M3</th>\n",
       "      <th>VAL1:Q2</th>\n",
       "      <th>VAL1:HY2</th>\n",
       "      <th>VAL1:Q3</th>\n",
       "      <th>VAL1:HY3</th>\n",
       "      <th>VAL1:Y1</th>\n",
       "      <th>VAL1:Y2</th>\n",
       "      <th>VAL1:Y3</th>\n",
       "      <th>KODEX200</th>\n",
       "    </tr>\n",
       "  </thead>\n",
       "  <tbody>\n",
       "    <tr>\n",
       "      <th>start</th>\n",
       "      <td>2022-01-24</td>\n",
       "      <td>2022-01-24</td>\n",
       "      <td>2022-01-24</td>\n",
       "      <td>2022-01-24</td>\n",
       "      <td>2022-01-24</td>\n",
       "      <td>2022-01-24</td>\n",
       "      <td>2022-01-24</td>\n",
       "      <td>2022-01-24</td>\n",
       "      <td>2022-01-24</td>\n",
       "      <td>2022-01-24</td>\n",
       "      <td>2022-01-24</td>\n",
       "      <td>2022-01-24</td>\n",
       "      <td>2022-01-24</td>\n",
       "      <td>2022-01-24</td>\n",
       "    </tr>\n",
       "    <tr>\n",
       "      <th>end</th>\n",
       "      <td>2024-07-31</td>\n",
       "      <td>2024-07-31</td>\n",
       "      <td>2024-07-31</td>\n",
       "      <td>2024-07-31</td>\n",
       "      <td>2024-07-31</td>\n",
       "      <td>2024-07-31</td>\n",
       "      <td>2024-07-31</td>\n",
       "      <td>2024-07-31</td>\n",
       "      <td>2024-07-31</td>\n",
       "      <td>2024-07-31</td>\n",
       "      <td>2024-07-31</td>\n",
       "      <td>2024-07-31</td>\n",
       "      <td>2024-07-31</td>\n",
       "      <td>2024-07-31</td>\n",
       "    </tr>\n",
       "    <tr>\n",
       "      <th>total_return</th>\n",
       "      <td>1.816207</td>\n",
       "      <td>5.202315</td>\n",
       "      <td>1.948988</td>\n",
       "      <td>2.275473</td>\n",
       "      <td>1.743892</td>\n",
       "      <td>1.663188</td>\n",
       "      <td>1.876178</td>\n",
       "      <td>2.216583</td>\n",
       "      <td>1.817629</td>\n",
       "      <td>2.177257</td>\n",
       "      <td>1.994999</td>\n",
       "      <td>1.929399</td>\n",
       "      <td>1.892298</td>\n",
       "      <td>0.105647</td>\n",
       "    </tr>\n",
       "    <tr>\n",
       "      <th>cagr</th>\n",
       "      <td>0.509093</td>\n",
       "      <td>1.065356</td>\n",
       "      <td>0.53698</td>\n",
       "      <td>0.602478</td>\n",
       "      <td>0.493571</td>\n",
       "      <td>0.475954</td>\n",
       "      <td>0.521784</td>\n",
       "      <td>0.590964</td>\n",
       "      <td>0.509396</td>\n",
       "      <td>0.583205</td>\n",
       "      <td>0.546466</td>\n",
       "      <td>0.532914</td>\n",
       "      <td>0.525168</td>\n",
       "      <td>0.040723</td>\n",
       "    </tr>\n",
       "    <tr>\n",
       "      <th>monthly_vol</th>\n",
       "      <td>0.299109</td>\n",
       "      <td>0.543153</td>\n",
       "      <td>0.316649</td>\n",
       "      <td>0.355989</td>\n",
       "      <td>0.304777</td>\n",
       "      <td>0.283343</td>\n",
       "      <td>0.322797</td>\n",
       "      <td>0.361163</td>\n",
       "      <td>0.305477</td>\n",
       "      <td>0.350819</td>\n",
       "      <td>0.35985</td>\n",
       "      <td>0.362872</td>\n",
       "      <td>0.350884</td>\n",
       "      <td>0.201805</td>\n",
       "    </tr>\n",
       "    <tr>\n",
       "      <th>monthly_sharpe</th>\n",
       "      <td>1.654736</td>\n",
       "      <td>1.642873</td>\n",
       "      <td>1.637335</td>\n",
       "      <td>1.607304</td>\n",
       "      <td>1.583744</td>\n",
       "      <td>1.576551</td>\n",
       "      <td>1.569953</td>\n",
       "      <td>1.559326</td>\n",
       "      <td>1.556125</td>\n",
       "      <td>1.529182</td>\n",
       "      <td>1.493624</td>\n",
       "      <td>1.450505</td>\n",
       "      <td>1.421477</td>\n",
       "      <td>0.318938</td>\n",
       "    </tr>\n",
       "    <tr>\n",
       "      <th>max_drawdown</th>\n",
       "      <td>-0.174774</td>\n",
       "      <td>-0.262851</td>\n",
       "      <td>-0.177392</td>\n",
       "      <td>-0.176973</td>\n",
       "      <td>-0.165838</td>\n",
       "      <td>-0.145682</td>\n",
       "      <td>-0.16868</td>\n",
       "      <td>-0.16879</td>\n",
       "      <td>-0.16052</td>\n",
       "      <td>-0.17093</td>\n",
       "      <td>-0.192837</td>\n",
       "      <td>-0.186211</td>\n",
       "      <td>-0.197747</td>\n",
       "      <td>-0.235302</td>\n",
       "    </tr>\n",
       "    <tr>\n",
       "      <th>avg_drawdown</th>\n",
       "      <td>-0.038191</td>\n",
       "      <td>-0.061554</td>\n",
       "      <td>-0.038592</td>\n",
       "      <td>-0.040179</td>\n",
       "      <td>-0.039565</td>\n",
       "      <td>-0.033912</td>\n",
       "      <td>-0.042578</td>\n",
       "      <td>-0.042454</td>\n",
       "      <td>-0.03392</td>\n",
       "      <td>-0.037747</td>\n",
       "      <td>-0.049821</td>\n",
       "      <td>-0.047745</td>\n",
       "      <td>-0.047972</td>\n",
       "      <td>-0.035817</td>\n",
       "    </tr>\n",
       "    <tr>\n",
       "      <th>avg_drawdown_days</th>\n",
       "      <td>21.189189</td>\n",
       "      <td>17.088889</td>\n",
       "      <td>22.571429</td>\n",
       "      <td>21.944444</td>\n",
       "      <td>22.055556</td>\n",
       "      <td>19.7</td>\n",
       "      <td>22.628571</td>\n",
       "      <td>21.27027</td>\n",
       "      <td>21.297297</td>\n",
       "      <td>20.205128</td>\n",
       "      <td>21.378378</td>\n",
       "      <td>21.916667</td>\n",
       "      <td>20.410256</td>\n",
       "      <td>51.588235</td>\n",
       "    </tr>\n",
       "  </tbody>\n",
       "</table>\n",
       "</div>"
      ],
      "text/plain": [
       "                      VAL1:M1 VAL:Momentum     VAL1:Q1    VAL1:HY1  \\\n",
       "start              2022-01-24   2022-01-24  2022-01-24  2022-01-24   \n",
       "end                2024-07-31   2024-07-31  2024-07-31  2024-07-31   \n",
       "total_return         1.816207     5.202315    1.948988    2.275473   \n",
       "cagr                 0.509093     1.065356     0.53698    0.602478   \n",
       "monthly_vol          0.299109     0.543153    0.316649    0.355989   \n",
       "monthly_sharpe       1.654736     1.642873    1.637335    1.607304   \n",
       "max_drawdown        -0.174774    -0.262851   -0.177392   -0.176973   \n",
       "avg_drawdown        -0.038191    -0.061554   -0.038592   -0.040179   \n",
       "avg_drawdown_days   21.189189    17.088889   22.571429   21.944444   \n",
       "\n",
       "                      VAL1:M2     VAL1:M3     VAL1:Q2    VAL1:HY2     VAL1:Q3  \\\n",
       "start              2022-01-24  2022-01-24  2022-01-24  2022-01-24  2022-01-24   \n",
       "end                2024-07-31  2024-07-31  2024-07-31  2024-07-31  2024-07-31   \n",
       "total_return         1.743892    1.663188    1.876178    2.216583    1.817629   \n",
       "cagr                 0.493571    0.475954    0.521784    0.590964    0.509396   \n",
       "monthly_vol          0.304777    0.283343    0.322797    0.361163    0.305477   \n",
       "monthly_sharpe       1.583744    1.576551    1.569953    1.559326    1.556125   \n",
       "max_drawdown        -0.165838   -0.145682    -0.16868    -0.16879    -0.16052   \n",
       "avg_drawdown        -0.039565   -0.033912   -0.042578   -0.042454    -0.03392   \n",
       "avg_drawdown_days   22.055556        19.7   22.628571    21.27027   21.297297   \n",
       "\n",
       "                     VAL1:HY3     VAL1:Y1     VAL1:Y2     VAL1:Y3    KODEX200  \n",
       "start              2022-01-24  2022-01-24  2022-01-24  2022-01-24  2022-01-24  \n",
       "end                2024-07-31  2024-07-31  2024-07-31  2024-07-31  2024-07-31  \n",
       "total_return         2.177257    1.994999    1.929399    1.892298    0.105647  \n",
       "cagr                 0.583205    0.546466    0.532914    0.525168    0.040723  \n",
       "monthly_vol          0.350819     0.35985    0.362872    0.350884    0.201805  \n",
       "monthly_sharpe       1.529182    1.493624    1.450505    1.421477    0.318938  \n",
       "max_drawdown         -0.17093   -0.192837   -0.186211   -0.197747   -0.235302  \n",
       "avg_drawdown        -0.037747   -0.049821   -0.047745   -0.047972   -0.035817  \n",
       "avg_drawdown_days   20.205128   21.378378   21.916667   20.410256   51.588235  "
      ]
     },
     "execution_count": 57,
     "metadata": {},
     "output_type": "execute_result"
    }
   ],
   "source": [
    "bm.run(plot=False, stats_sort_by='monthly_sharpe', metrics=METRICS2)"
   ]
  },
  {
   "cell_type": "markdown",
   "id": "45d40325-4c23-4ecf-974b-a9f3008137a3",
   "metadata": {},
   "source": [
    "#### Value2"
   ]
  },
  {
   "cell_type": "code",
   "execution_count": 63,
   "id": "51d0ae8c-4702-49f5-b017-05964d638309",
   "metadata": {},
   "outputs": [
    {
     "data": {
      "text/plain": [
       "0) K55365BT3694: kcgi코리아퇴직연금증권자투자신탁(주식)종류C-Pe2"
      ]
     },
     "execution_count": 63,
     "metadata": {},
     "output_type": "execute_result"
    }
   ],
   "source": [
    "choice = ['K55365BT3694']\n",
    "irp.get_names(choice)"
   ]
  },
  {
   "cell_type": "code",
   "execution_count": 64,
   "id": "3c9f1a97-f615-47f9-ba44-b402e43b015b",
   "metadata": {},
   "outputs": [
    {
     "name": "stdout",
     "output_type": "stream",
     "text": [
      "period reset: 2022-01-25 ~ 2024-07-31\n",
      "running self.util_check_days_in_year to check days in a year\n"
     ]
    },
    {
     "data": {
      "text/html": [
       "<div>\n",
       "<style scoped>\n",
       "    .dataframe tbody tr th:only-of-type {\n",
       "        vertical-align: middle;\n",
       "    }\n",
       "\n",
       "    .dataframe tbody tr th {\n",
       "        vertical-align: top;\n",
       "    }\n",
       "\n",
       "    .dataframe thead th {\n",
       "        text-align: right;\n",
       "    }\n",
       "</style>\n",
       "<table border=\"1\" class=\"dataframe\">\n",
       "  <thead>\n",
       "    <tr style=\"text-align: right;\">\n",
       "      <th></th>\n",
       "      <th>KOSPI:Momentum</th>\n",
       "      <th>K55365BT3694</th>\n",
       "    </tr>\n",
       "  </thead>\n",
       "  <tbody>\n",
       "    <tr>\n",
       "      <th>2022-01-25</th>\n",
       "      <td>100.000</td>\n",
       "      <td>1012.039352</td>\n",
       "    </tr>\n",
       "    <tr>\n",
       "      <th>2022-01-26</th>\n",
       "      <td>99.780</td>\n",
       "      <td>1012.039352</td>\n",
       "    </tr>\n",
       "    <tr>\n",
       "      <th>2022-01-27</th>\n",
       "      <td>96.064</td>\n",
       "      <td>1012.039352</td>\n",
       "    </tr>\n",
       "    <tr>\n",
       "      <th>2022-01-28</th>\n",
       "      <td>96.318</td>\n",
       "      <td>897.421767</td>\n",
       "    </tr>\n",
       "    <tr>\n",
       "      <th>2022-01-29</th>\n",
       "      <td>96.318</td>\n",
       "      <td>897.421767</td>\n",
       "    </tr>\n",
       "  </tbody>\n",
       "</table>\n",
       "</div>"
      ],
      "text/plain": [
       "            KOSPI:Momentum  K55365BT3694\n",
       "2022-01-25         100.000   1012.039352\n",
       "2022-01-26          99.780   1012.039352\n",
       "2022-01-27          96.064   1012.039352\n",
       "2022-01-28          96.318    897.421767\n",
       "2022-01-29          96.318    897.421767"
      ]
     },
     "execution_count": 64,
     "metadata": {},
     "output_type": "execute_result"
    }
   ],
   "source": [
    "df_v = df_pf['K200:Momentum'].to_frame().join(df_irp[choice], how='outer')\n",
    "bm = BacktestManager(df_v, **kwargs_bm)\n",
    "bm.df_assets.head()"
   ]
  },
  {
   "cell_type": "code",
   "execution_count": 65,
   "id": "b2a390c6-d28c-469d-89b7-10fef9ca168e",
   "metadata": {},
   "outputs": [
    {
     "name": "stdout",
     "output_type": "stream",
     "text": [
      "Backtesting 5 strategies: VAL2:Y, VAL2:HY, VAL2:Q, VAL2:M, VAL2:Momentum\n"
     ]
    },
    {
     "name": "stderr",
     "output_type": "stream",
     "text": [
      "100%|█████████████████████████████████████████████████████████████████| 5/5 [00:01<00:00,  4.33it/s]\n"
     ]
    },
    {
     "name": "stdout",
     "output_type": "stream",
     "text": [
      "Returning stats\n"
     ]
    },
    {
     "data": {
      "text/html": [
       "<div>\n",
       "<style scoped>\n",
       "    .dataframe tbody tr th:only-of-type {\n",
       "        vertical-align: middle;\n",
       "    }\n",
       "\n",
       "    .dataframe tbody tr th {\n",
       "        vertical-align: top;\n",
       "    }\n",
       "\n",
       "    .dataframe thead th {\n",
       "        text-align: right;\n",
       "    }\n",
       "</style>\n",
       "<table border=\"1\" class=\"dataframe\">\n",
       "  <thead>\n",
       "    <tr style=\"text-align: right;\">\n",
       "      <th></th>\n",
       "      <th>VAL2:Q</th>\n",
       "      <th>VAL2:M</th>\n",
       "      <th>VAL2:HY</th>\n",
       "      <th>VAL2:Momentum</th>\n",
       "      <th>VAL2:Y</th>\n",
       "    </tr>\n",
       "  </thead>\n",
       "  <tbody>\n",
       "    <tr>\n",
       "      <th>start</th>\n",
       "      <td>2022-01-24</td>\n",
       "      <td>2022-01-24</td>\n",
       "      <td>2022-01-24</td>\n",
       "      <td>2022-01-24</td>\n",
       "      <td>2022-01-24</td>\n",
       "    </tr>\n",
       "    <tr>\n",
       "      <th>end</th>\n",
       "      <td>2024-07-31</td>\n",
       "      <td>2024-07-31</td>\n",
       "      <td>2024-07-31</td>\n",
       "      <td>2024-07-31</td>\n",
       "      <td>2024-07-31</td>\n",
       "    </tr>\n",
       "    <tr>\n",
       "      <th>total_return</th>\n",
       "      <td>1.367166</td>\n",
       "      <td>1.274549</td>\n",
       "      <td>1.529266</td>\n",
       "      <td>4.653043</td>\n",
       "      <td>1.477626</td>\n",
       "    </tr>\n",
       "    <tr>\n",
       "      <th>cagr</th>\n",
       "      <td>0.408428</td>\n",
       "      <td>0.386262</td>\n",
       "      <td>0.445997</td>\n",
       "      <td>0.990624</td>\n",
       "      <td>0.43419</td>\n",
       "    </tr>\n",
       "    <tr>\n",
       "      <th>monthly_vol</th>\n",
       "      <td>0.191406</td>\n",
       "      <td>0.186329</td>\n",
       "      <td>0.233586</td>\n",
       "      <td>0.515736</td>\n",
       "      <td>0.261045</td>\n",
       "    </tr>\n",
       "    <tr>\n",
       "      <th>monthly_sharpe</th>\n",
       "      <td>1.914088</td>\n",
       "      <td>1.873641</td>\n",
       "      <td>1.717047</td>\n",
       "      <td>1.592483</td>\n",
       "      <td>1.527195</td>\n",
       "    </tr>\n",
       "    <tr>\n",
       "      <th>max_drawdown</th>\n",
       "      <td>-0.123468</td>\n",
       "      <td>-0.120783</td>\n",
       "      <td>-0.146581</td>\n",
       "      <td>-0.26285</td>\n",
       "      <td>-0.170256</td>\n",
       "    </tr>\n",
       "    <tr>\n",
       "      <th>avg_drawdown</th>\n",
       "      <td>-0.0216</td>\n",
       "      <td>-0.018723</td>\n",
       "      <td>-0.025313</td>\n",
       "      <td>-0.055505</td>\n",
       "      <td>-0.034704</td>\n",
       "    </tr>\n",
       "    <tr>\n",
       "      <th>avg_drawdown_days</th>\n",
       "      <td>12.294118</td>\n",
       "      <td>11.527778</td>\n",
       "      <td>13.3125</td>\n",
       "      <td>12.228571</td>\n",
       "      <td>12.969697</td>\n",
       "    </tr>\n",
       "  </tbody>\n",
       "</table>\n",
       "</div>"
      ],
      "text/plain": [
       "                       VAL2:Q      VAL2:M     VAL2:HY VAL2:Momentum  \\\n",
       "start              2022-01-24  2022-01-24  2022-01-24    2022-01-24   \n",
       "end                2024-07-31  2024-07-31  2024-07-31    2024-07-31   \n",
       "total_return         1.367166    1.274549    1.529266      4.653043   \n",
       "cagr                 0.408428    0.386262    0.445997      0.990624   \n",
       "monthly_vol          0.191406    0.186329    0.233586      0.515736   \n",
       "monthly_sharpe       1.914088    1.873641    1.717047      1.592483   \n",
       "max_drawdown        -0.123468   -0.120783   -0.146581      -0.26285   \n",
       "avg_drawdown          -0.0216   -0.018723   -0.025313     -0.055505   \n",
       "avg_drawdown_days   12.294118   11.527778     13.3125     12.228571   \n",
       "\n",
       "                       VAL2:Y  \n",
       "start              2022-01-24  \n",
       "end                2024-07-31  \n",
       "total_return         1.477626  \n",
       "cagr                  0.43419  \n",
       "monthly_vol          0.261045  \n",
       "monthly_sharpe       1.527195  \n",
       "max_drawdown        -0.170256  \n",
       "avg_drawdown        -0.034704  \n",
       "avg_drawdown_days   12.969697  "
      ]
     },
     "execution_count": 65,
     "metadata": {},
     "output_type": "execute_result"
    }
   ],
   "source": [
    "kwargs_build = dict(\n",
    "    select = 'all', **lags\n",
    ")\n",
    "\n",
    "kwa_list = [\n",
    "    {'name':f'VAL2:{f}', 'freq':f if f != 'HY' else hy} for f in ['Y', 'HY', 'Q', 'M']\n",
    "]\n",
    "\n",
    "bm.build_batch(*kwa_list, weigh='ERC', **kwargs_build)\n",
    "bm.build(name='VAL2:Momentum', freq='Once', weights=ew(0), weigh='Specified', **kwargs_build)\n",
    "bm.run(plot=False, stats_sort_by='monthly_sharpe', metrics=METRICS2)"
   ]
  },
  {
   "cell_type": "code",
   "execution_count": 49,
   "id": "feb6bb0f-51ab-4a2f-96c2-b7c301623f16",
   "metadata": {},
   "outputs": [],
   "source": [
    "df = bm.get_historical()\n",
    "df_pf = df_pf.join(df['TDF2:Eqaully'])"
   ]
  },
  {
   "cell_type": "markdown",
   "id": "67e6edd6-0276-4c91-a4e4-899ad3c5e498",
   "metadata": {},
   "source": [
    "## HANA"
   ]
  },
  {
   "cell_type": "code",
   "execution_count": 10,
   "id": "1c6ae238-3c6b-4fa8-9a53-b87cadb22b31",
   "metadata": {},
   "outputs": [
    {
     "name": "stdout",
     "output_type": "stream",
     "text": [
      "period reset: 2019-10-31 ~ 2024-07-31\n",
      "running self.util_check_days_in_year to check days in a year\n"
     ]
    }
   ],
   "source": [
    "kwargs_bm = dict(\n",
    "    initial_capital = 10000000,\n",
    "    commissions = 0,\n",
    "    align_axis = 0, \n",
    "    days_in_year = 365,\n",
    "    asset_names = assetnames_hana\n",
    ")\n",
    "bm = BacktestManager(df_hana, **kwargs_bm)"
   ]
  },
  {
   "cell_type": "code",
   "execution_count": 11,
   "id": "a7d1e65d-c046-45b7-a123-84b23526e177",
   "metadata": {},
   "outputs": [],
   "source": [
    "lags = dict(lookback=12, lag=5)"
   ]
  },
  {
   "cell_type": "code",
   "execution_count": 12,
   "id": "c51ed30e-c505-4c5d-81ad-51294bf53e91",
   "metadata": {},
   "outputs": [
    {
     "name": "stdout",
     "output_type": "stream",
     "text": [
      "Benchmark is KODEX200\n"
     ]
    }
   ],
   "source": [
    "bm.benchmark_ticker(**lags)"
   ]
  },
  {
   "cell_type": "code",
   "execution_count": 13,
   "id": "62dbaca6-de59-47b2-9519-9d2c04304663",
   "metadata": {},
   "outputs": [],
   "source": [
    "kwargs_build = dict(\n",
    "    freq = 'Y', select = 'all',\n",
    "    **lags # added to start backtest on same date with momentum\n",
    ")\n",
    "\n",
    "bm.build(name='HANA:Eqaully', weigh='equally', **kwargs_build)\n",
    "bm.build(name='HANA:ERC', weigh='ERC', **kwargs_build)\n",
    "bm.build(name='HANA:InvVol', weigh='InvVol', **kwargs_build)"
   ]
  },
  {
   "cell_type": "code",
   "execution_count": 14,
   "id": "240b256a-5810-407c-901a-449036b3c41d",
   "metadata": {},
   "outputs": [],
   "source": [
    "kwargs_build = dict(\n",
    "    weigh='InvVol',  select = 'all',  **lags\n",
    ")\n",
    "\n",
    "bm.build(name='HANA:InvVol(Q)', freq = 'Q', **kwargs_build)\n",
    "bm.build(name='HANA:InvVol(M)', freq = 'M', **kwargs_build)"
   ]
  },
  {
   "cell_type": "code",
   "execution_count": 15,
   "id": "8d97fa61-ca24-4b6c-8aa7-2bf12f7d73a3",
   "metadata": {},
   "outputs": [
    {
     "name": "stdout",
     "output_type": "stream",
     "text": [
      "Backtesting 6 strategies: KODEX200, HANA:Eqaully, ... , HANA:InvVol(M)\n"
     ]
    },
    {
     "name": "stderr",
     "output_type": "stream",
     "text": [
      "100%|█████████████████████████████████████████████████████████████████| 6/6 [00:02<00:00,  2.16it/s]"
     ]
    },
    {
     "name": "stdout",
     "output_type": "stream",
     "text": [
      "Returning stats\n"
     ]
    },
    {
     "name": "stderr",
     "output_type": "stream",
     "text": [
      "\n"
     ]
    },
    {
     "data": {
      "text/html": [
       "<div>\n",
       "<style scoped>\n",
       "    .dataframe tbody tr th:only-of-type {\n",
       "        vertical-align: middle;\n",
       "    }\n",
       "\n",
       "    .dataframe tbody tr th {\n",
       "        vertical-align: top;\n",
       "    }\n",
       "\n",
       "    .dataframe thead th {\n",
       "        text-align: right;\n",
       "    }\n",
       "</style>\n",
       "<table border=\"1\" class=\"dataframe\">\n",
       "  <thead>\n",
       "    <tr style=\"text-align: right;\">\n",
       "      <th></th>\n",
       "      <th>HANA:InvVol</th>\n",
       "      <th>HANA:InvVol(M)</th>\n",
       "      <th>HANA:InvVol(Q)</th>\n",
       "      <th>HANA:ERC</th>\n",
       "      <th>HANA:Eqaully</th>\n",
       "      <th>KODEX200</th>\n",
       "    </tr>\n",
       "  </thead>\n",
       "  <tbody>\n",
       "    <tr>\n",
       "      <th>start</th>\n",
       "      <td>2019-10-30</td>\n",
       "      <td>2019-10-30</td>\n",
       "      <td>2019-10-30</td>\n",
       "      <td>2019-10-30</td>\n",
       "      <td>2019-10-30</td>\n",
       "      <td>2019-10-30</td>\n",
       "    </tr>\n",
       "    <tr>\n",
       "      <th>end</th>\n",
       "      <td>2024-07-31</td>\n",
       "      <td>2024-07-31</td>\n",
       "      <td>2024-07-31</td>\n",
       "      <td>2024-07-31</td>\n",
       "      <td>2024-07-31</td>\n",
       "      <td>2024-07-31</td>\n",
       "    </tr>\n",
       "    <tr>\n",
       "      <th>total_return</th>\n",
       "      <td>0.153301</td>\n",
       "      <td>0.128839</td>\n",
       "      <td>0.131496</td>\n",
       "      <td>0.180167</td>\n",
       "      <td>0.155502</td>\n",
       "      <td>0.317262</td>\n",
       "    </tr>\n",
       "    <tr>\n",
       "      <th>cagr</th>\n",
       "      <td>0.030463</td>\n",
       "      <td>0.025826</td>\n",
       "      <td>0.026333</td>\n",
       "      <td>0.035468</td>\n",
       "      <td>0.030877</td>\n",
       "      <td>0.05969</td>\n",
       "    </tr>\n",
       "    <tr>\n",
       "      <th>calmar</th>\n",
       "      <td>0.531545</td>\n",
       "      <td>0.397336</td>\n",
       "      <td>0.406434</td>\n",
       "      <td>0.434394</td>\n",
       "      <td>0.317349</td>\n",
       "      <td>0.174126</td>\n",
       "    </tr>\n",
       "    <tr>\n",
       "      <th>max_drawdown</th>\n",
       "      <td>-0.057311</td>\n",
       "      <td>-0.064998</td>\n",
       "      <td>-0.064791</td>\n",
       "      <td>-0.081649</td>\n",
       "      <td>-0.097296</td>\n",
       "      <td>-0.342796</td>\n",
       "    </tr>\n",
       "    <tr>\n",
       "      <th>avg_drawdown</th>\n",
       "      <td>-0.015045</td>\n",
       "      <td>-0.009759</td>\n",
       "      <td>-0.013248</td>\n",
       "      <td>-0.024826</td>\n",
       "      <td>-0.028437</td>\n",
       "      <td>-0.039924</td>\n",
       "    </tr>\n",
       "    <tr>\n",
       "      <th>avg_drawdown_days</th>\n",
       "      <td>128.166667</td>\n",
       "      <td>112.125</td>\n",
       "      <td>146.166667</td>\n",
       "      <td>172.0</td>\n",
       "      <td>177.8</td>\n",
       "      <td>87.133333</td>\n",
       "    </tr>\n",
       "    <tr>\n",
       "      <th>daily_vol</th>\n",
       "      <td>0.032006</td>\n",
       "      <td>0.032026</td>\n",
       "      <td>0.032686</td>\n",
       "      <td>0.046101</td>\n",
       "      <td>0.049326</td>\n",
       "      <td>0.153677</td>\n",
       "    </tr>\n",
       "    <tr>\n",
       "      <th>daily_sharpe</th>\n",
       "      <td>0.973311</td>\n",
       "      <td>0.828929</td>\n",
       "      <td>0.828294</td>\n",
       "      <td>0.7949</td>\n",
       "      <td>0.654115</td>\n",
       "      <td>0.46194</td>\n",
       "    </tr>\n",
       "    <tr>\n",
       "      <th>daily_sortino</th>\n",
       "      <td>1.897121</td>\n",
       "      <td>1.431321</td>\n",
       "      <td>1.445869</td>\n",
       "      <td>1.428709</td>\n",
       "      <td>1.072672</td>\n",
       "      <td>0.775417</td>\n",
       "    </tr>\n",
       "    <tr>\n",
       "      <th>monthly_vol</th>\n",
       "      <td>0.031912</td>\n",
       "      <td>0.031651</td>\n",
       "      <td>0.032852</td>\n",
       "      <td>0.046346</td>\n",
       "      <td>0.049325</td>\n",
       "      <td>0.177808</td>\n",
       "    </tr>\n",
       "    <tr>\n",
       "      <th>monthly_sharpe</th>\n",
       "      <td>0.957676</td>\n",
       "      <td>0.822452</td>\n",
       "      <td>0.808621</td>\n",
       "      <td>0.776172</td>\n",
       "      <td>0.641801</td>\n",
       "      <td>0.414488</td>\n",
       "    </tr>\n",
       "    <tr>\n",
       "      <th>monthly_sortino</th>\n",
       "      <td>2.094727</td>\n",
       "      <td>1.575526</td>\n",
       "      <td>1.57691</td>\n",
       "      <td>1.604376</td>\n",
       "      <td>1.212181</td>\n",
       "      <td>0.716039</td>\n",
       "    </tr>\n",
       "  </tbody>\n",
       "</table>\n",
       "</div>"
      ],
      "text/plain": [
       "                  HANA:InvVol HANA:InvVol(M) HANA:InvVol(Q)    HANA:ERC  \\\n",
       "start              2019-10-30     2019-10-30     2019-10-30  2019-10-30   \n",
       "end                2024-07-31     2024-07-31     2024-07-31  2024-07-31   \n",
       "total_return         0.153301       0.128839       0.131496    0.180167   \n",
       "cagr                 0.030463       0.025826       0.026333    0.035468   \n",
       "calmar               0.531545       0.397336       0.406434    0.434394   \n",
       "max_drawdown        -0.057311      -0.064998      -0.064791   -0.081649   \n",
       "avg_drawdown        -0.015045      -0.009759      -0.013248   -0.024826   \n",
       "avg_drawdown_days  128.166667        112.125     146.166667       172.0   \n",
       "daily_vol            0.032006       0.032026       0.032686    0.046101   \n",
       "daily_sharpe         0.973311       0.828929       0.828294      0.7949   \n",
       "daily_sortino        1.897121       1.431321       1.445869    1.428709   \n",
       "monthly_vol          0.031912       0.031651       0.032852    0.046346   \n",
       "monthly_sharpe       0.957676       0.822452       0.808621    0.776172   \n",
       "monthly_sortino      2.094727       1.575526        1.57691    1.604376   \n",
       "\n",
       "                  HANA:Eqaully    KODEX200  \n",
       "start               2019-10-30  2019-10-30  \n",
       "end                 2024-07-31  2024-07-31  \n",
       "total_return          0.155502    0.317262  \n",
       "cagr                  0.030877     0.05969  \n",
       "calmar                0.317349    0.174126  \n",
       "max_drawdown         -0.097296   -0.342796  \n",
       "avg_drawdown         -0.028437   -0.039924  \n",
       "avg_drawdown_days        177.8   87.133333  \n",
       "daily_vol             0.049326    0.153677  \n",
       "daily_sharpe          0.654115     0.46194  \n",
       "daily_sortino         1.072672    0.775417  \n",
       "monthly_vol           0.049325    0.177808  \n",
       "monthly_sharpe        0.641801    0.414488  \n",
       "monthly_sortino       1.212181    0.716039  "
      ]
     },
     "execution_count": 15,
     "metadata": {},
     "output_type": "execute_result"
    },
    {
     "data": {
      "image/png": "[encoded data removed]",
      "text/plain": [
       "<Figure size 1000x400 with 1 Axes>"
      ]
     },
     "metadata": {},
     "output_type": "display_data"
    }
   ],
   "source": [
    "bm.run(figsize=(10,4), stats_sort_by='monthly_sharpe')"
   ]
  },
  {
   "cell_type": "code",
   "execution_count": null,
   "id": "be571998-1ce8-4119-9ebb-b17ffc24125b",
   "metadata": {},
   "outputs": [],
   "source": [
    "df = bm.get_historical()\n",
    "df_pf = df_pf.join(df['HANA:InvVol'])"
   ]
  },
  {
   "cell_type": "markdown",
   "id": "f50aa3a4-92a5-461b-ad42-054988841707",
   "metadata": {},
   "source": [
    "## Summary"
   ]
  },
  {
   "cell_type": "markdown",
   "id": "0f6ecc8f-4f4a-4917-8f07-cb0efbe9294b",
   "metadata": {},
   "source": [
    "# testing"
   ]
  },
  {
   "cell_type": "code",
   "execution_count": 17,
   "id": "4f3a4d85-69ff-415d-9b3b-709ad92845a5",
   "metadata": {},
   "outputs": [
    {
     "data": {
      "text/plain": [
       "{'name': 'FACTOR:equally/lb3/lg5/f125',\n",
       " 'weigh': 'equally',\n",
       " 'lookback': 3,\n",
       " 'lag': 5,\n",
       " 'freq': 125}"
      ]
     },
     "execution_count": 17,
     "metadata": {},
     "output_type": "execute_result"
    }
   ],
   "source": [
    "from itertools import product\n",
    "\n",
    "p_args = dict(\n",
    "    p_w = ['equally'],\n",
    "    p_lookback = [3,6,12],\n",
    "    p_lag = [5],\n",
    "    p_freq = [125]\n",
    ")\n",
    "p_comb = list(product(*p_args.values()))\n",
    "params = [{'name':f'FACTOR:{x[0]}/lb{x[1]}/lg{x[2]}/f{x[3]}',\n",
    "           'weigh':x[0], 'lookback':x[1], 'lag':x[2], 'freq':x[3]} \n",
    "            for x in p_comb]\n",
    "params[0]"
   ]
  },
  {
   "cell_type": "code",
   "execution_count": 18,
   "id": "be8894af-18a5-4e48-90d4-e44c53009de9",
   "metadata": {},
   "outputs": [
    {
     "name": "stdout",
     "output_type": "stream",
     "text": [
      "period reset: 2013-07-18 ~ 2022-01-05\n",
      "5 assets from 2013-07-18 to 2022-01-05 uploaded.\n",
      "running self.util_check_days_in_year to check days in a year\n"
     ]
    }
   ],
   "source": [
    "bm = BacktestManager(df_train, **kwargs_bm)"
   ]
  },
  {
   "cell_type": "code",
   "execution_count": 19,
   "id": "c1284184-50ce-4285-b64d-e48a037aa007",
   "metadata": {},
   "outputs": [
    {
     "name": "stdout",
     "output_type": "stream",
     "text": [
      "3 jobs prepared for cross-validation\n"
     ]
    }
   ],
   "source": [
    "kwa_list = params\n",
    "kwargs_build = dict(\n",
    "    select='all', reset_portfolios=True, build_cv=True\n",
    ")\n",
    "bm.build_batch(*kwa_list, **kwargs_build)"
   ]
  },
  {
   "cell_type": "code",
   "execution_count": 22,
   "id": "66cbbc49-0e5d-4698-a759-aae2b9f55a58",
   "metadata": {},
   "outputs": [
    {
     "name": "stdout",
     "output_type": "stream",
     "text": [
      "Cross-validating 3 strategies: FACTOR:equally/lb3/lg5/f125, FACTOR:equally/lb6/lg5/f125, FACTOR:equally/lb12/lg5/f125\n"
     ]
    },
    {
     "name": "stderr",
     "output_type": "stream",
     "text": [
      "100%|█████████████████████████████████████████████████████████████████| 2/2 [00:01<00:00,  1.69it/s]\n",
      "100%|█████████████████████████████████████████████████████████████████| 2/2 [00:01<00:00,  1.69it/s]\n",
      "100%|█████████████████████████████████████████████████████████████████| 2/2 [00:01<00:00,  1.67it/s]"
     ]
    },
    {
     "name": "stdout",
     "output_type": "stream",
     "text": [
      "3.7 secs elapsed, 0.0 secs paused (0.0%)\n"
     ]
    },
    {
     "name": "stderr",
     "output_type": "stream",
     "text": [
      "\n"
     ]
    }
   ],
   "source": [
    "kw_batch = dict(size_batch=2, path_batch=path_data, delete_batch=False)\n",
    "bm.cross_validate(n_sample=2, **kw_batch)"
   ]
  },
  {
   "cell_type": "code",
   "execution_count": 23,
   "id": "c34dac7d-24f6-48e8-870e-f50c1e395018",
   "metadata": {},
   "outputs": [
    {
     "name": "stdout",
     "output_type": "stream",
     "text": [
      "3 param sets with 19 iterations per set\n"
     ]
    }
   ],
   "source": [
    "df_cv = bm.get_cat_data(params)"
   ]
  },
  {
   "cell_type": "markdown",
   "id": "bb4ea280-256f-42d7-bdbf-7c7e97091871",
   "metadata": {},
   "source": [
    "*Load param study*"
   ]
  },
  {
   "cell_type": "code",
   "execution_count": 24,
   "id": "f2672e8c-a7a6-4beb-8ab4-d61ae2dbf077",
   "metadata": {},
   "outputs": [
    {
     "name": "stdout",
     "output_type": "stream",
     "text": [
      "Returning cagr of s&p500 from 2013-07-16 to 2022-01-04\n"
     ]
    }
   ],
   "source": [
    "y = 'cagr'\n",
    "ref_val = bm.benchmark_stats(y, data=df_cv, name='s&p500')"
   ]
  },
  {
   "cell_type": "code",
   "execution_count": 26,
   "id": "c312caa0-8255-49be-a247-c44de44433d4",
   "metadata": {},
   "outputs": [
    {
     "data": {
      "image/png": "[encoded data removed]",
      "text/plain": [
       "<Figure size 283x250 with 1 Axes>"
      ]
     },
     "metadata": {},
     "output_type": "display_data"
    }
   ],
   "source": [
    "#kw = {'row':'lookback', 'col':'freq', 'x':'weigh', 'hue':'lag'}\n",
    "kw = {'x':'lookback', 'col':'weigh', 'row':'freq', 'hue':'lag'}\n",
    "#kw = {'x':'lookback', 'col':'weigh', 'row':'freq', 'kind':'box'}\n",
    "\n",
    "_ = bm.catplot(data=df_cv, y=y, ref_val=ref_val, height=2.5, aspect=.9, **kw)"
   ]
  },
  {
   "cell_type": "code",
   "execution_count": 34,
   "id": "5dc63bf5-2186-4f06-9eba-33f55ddb2716",
   "metadata": {},
   "outputs": [
    {
     "data": {
      "text/plain": [
       "False"
      ]
     },
     "execution_count": 34,
     "metadata": {},
     "output_type": "execute_result"
    }
   ],
   "source": [
    "a = dict(a=1)\n",
    "a is dict()"
   ]
  },
  {
   "cell_type": "code",
   "execution_count": 35,
   "id": "61268e36-9d42-43ee-b5ad-ca45b90e0b6e",
   "metadata": {},
   "outputs": [
    {
     "data": {
      "text/plain": [
       "1"
      ]
     },
     "execution_count": 35,
     "metadata": {},
     "output_type": "execute_result"
    }
   ],
   "source": [
    "len(a)"
   ]
  },
  {
   "cell_type": "code",
   "execution_count": 38,
   "id": "cb5997ea-fb44-4e31-96e3-cf9fa21c4f4b",
   "metadata": {},
   "outputs": [
    {
     "ename": "NotImplementedError",
     "evalue": "",
     "output_type": "error",
     "traceback": [
      "\u001b[0;31m---------------------------------------------------------------------------\u001b[0m",
      "\u001b[0;31mNotImplementedError\u001b[0m                       Traceback (most recent call last)",
      "Cell \u001b[0;32mIn[38], line 7\u001b[0m\n\u001b[1;32m      4\u001b[0m     \u001b[38;5;28;01melse\u001b[39;00m:\n\u001b[1;32m      5\u001b[0m         \u001b[38;5;28;01mraise\u001b[39;00m \u001b[38;5;167;01mNotImplementedError\u001b[39;00m\n\u001b[0;32m----> 7\u001b[0m \u001b[43mtest\u001b[49m\u001b[43m(\u001b[49m\u001b[38;5;241;43m-\u001b[39;49m\u001b[38;5;241;43m1\u001b[39;49m\u001b[43m)\u001b[49m\n",
      "Cell \u001b[0;32mIn[38], line 5\u001b[0m, in \u001b[0;36mtest\u001b[0;34m(a)\u001b[0m\n\u001b[1;32m      3\u001b[0m     \u001b[38;5;28;01mreturn\u001b[39;00m a\n\u001b[1;32m      4\u001b[0m \u001b[38;5;28;01melse\u001b[39;00m:\n\u001b[0;32m----> 5\u001b[0m     \u001b[38;5;28;01mraise\u001b[39;00m \u001b[38;5;167;01mNotImplementedError\u001b[39;00m\n",
      "\u001b[0;31mNotImplementedError\u001b[0m: "
     ]
    }
   ],
   "source": [
    "def test(a):\n",
    "    if a > 0:\n",
    "        return a\n",
    "    else:\n",
    "        raise NotImplementedError\n",
    "\n",
    "test(-1)"
   ]
  },
  {
   "cell_type": "code",
   "execution_count": null,
   "id": "a0c12e62-67cf-42f3-85bf-dcb72277029b",
   "metadata": {
    "scrolled": true
   },
   "outputs": [],
   "source": [
    "#bm.cross_validate(n_sample=20)"
   ]
  },
  {
   "cell_type": "code",
   "execution_count": 39,
   "id": "cd50083e-0f2a-46b8-82e8-092f6437126e",
   "metadata": {},
   "outputs": [],
   "source": [
    "def _get_tickers_kospi200(self, ticker='KRX/INDEX/STOCK/1028', \n",
    "                          col_asset='Code', col_name='Name'):\n",
    "    tickers = fdr.SnapDataReader(ticker)\n",
    "    return tickers.set_index(col_asset)[col_name].to_dict()"
   ]
  },
  {
   "cell_type": "code",
   "execution_count": null,
   "id": "9da91259-d63b-441f-9ac9-ef1b3a17cca7",
   "metadata": {},
   "outputs": [],
   "source": [
    "def _get_tickers_yahoo(self, ticker='KRX/INDEX/STOCK/1028', \n",
    "                          col_asset='Code', col_name='Name'):\n",
    "    tickers = fdr.SnapDataReader(ticker)\n",
    "    return tickers.set_index(col_asset)[col_name].to_dict()"
   ]
  },
  {
   "cell_type": "code",
   "execution_count": 50,
   "id": "60b5a49e-3649-4be5-bf13-c0b0b22ece3b",
   "metadata": {},
   "outputs": [
    {
     "data": {
      "text/plain": [
       "{'LRGF': 'iShares U.S. Equity Factor ETF',\n",
       " 'MTUM': 'iShares MSCI USA Momentum Facto',\n",
       " 'QUAL': 'iShares MSCI USA Quality Factor',\n",
       " 'SIZE': 'iShares MSCI USA Size Factor ET',\n",
       " 'SPY': 'SPDR S&P 500',\n",
       " 'USMV': 'iShares MSCI USA Min Vol Factor',\n",
       " 'VLUE': 'iShares MSCI USA Value Factor E'}"
      ]
     },
     "execution_count": 50,
     "metadata": {},
     "output_type": "execute_result"
    }
   ],
   "source": [
    "import yfinance as yf\n",
    "\n",
    "\n",
    "def _get_tickers_yahoo(self, tickers):\n",
    "    if isinstance(tickers, str):\n",
    "        tickers = [tickers]\n",
    "    yft = yf.Tickers(' '.join(tickers))\n",
    "    return {x:yft.tickers[x].info['shortName'] for x in tickers}\n",
    "\n",
    "tickers = ['LRGF', 'MTUM', 'QUAL', 'SIZE', 'SPY', 'USMV', 'VLUE']\n",
    "_get_tickers_yahoo(1, tickers)"
   ]
  },
  {
   "cell_type": "code",
   "execution_count": 44,
   "id": "e69d3e35-a9da-4c65-b857-d2901ddd1f03",
   "metadata": {},
   "outputs": [
    {
     "data": {
      "text/plain": [
       "<function __main__.<lambda>(**kw)>"
      ]
     },
     "execution_count": 44,
     "metadata": {},
     "output_type": "execute_result"
    }
   ],
   "source": [
    "test2 = lambda **kw: test(1, **kw)\n",
    "test2"
   ]
  },
  {
   "cell_type": "code",
   "execution_count": 46,
   "id": "214499dd-3a2b-4493-84e3-8d0e907e7540",
   "metadata": {},
   "outputs": [
    {
     "data": {
      "text/plain": [
       "['LRGF', 'MTUM', 'QUAL', 'SIZE', 'SPY', 'USMV', 'VLUE']"
      ]
     },
     "execution_count": 46,
     "metadata": {},
     "output_type": "execute_result"
    }
   ],
   "source": [
    "tickers = df_factor.columns.to_list()"
   ]
  },
  {
   "cell_type": "code",
   "execution_count": null,
   "id": "a58d372e-363d-4d4c-8832-5593597b53e8",
   "metadata": {},
   "outputs": [],
   "source": []
  }
 ],
 "metadata": {
  "kernelspec": {
   "display_name": "portfolio",
   "language": "python",
   "name": "portfolio"
  },
  "language_info": {
   "codemirror_mode": {
    "name": "ipython",
    "version": 3
   },
   "file_extension": ".py",
   "mimetype": "text/x-python",
   "name": "python",
   "nbconvert_exporter": "python",
   "pygments_lexer": "ipython3",
   "version": "3.12.1"
  }
 },
 "nbformat": 4,
 "nbformat_minor": 5
}
