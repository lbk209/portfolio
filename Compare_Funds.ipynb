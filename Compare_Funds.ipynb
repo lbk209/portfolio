{
 "cells": [
  {
   "cell_type": "markdown",
   "id": "bfa8fd41-711c-4c5d-b97b-7c19f99c38e2",
   "metadata": {},
   "source": [
    "# Setting"
   ]
  },
  {
   "cell_type": "code",
   "execution_count": 1,
   "id": "cc6e06a2-5a26-411e-9b8b-59f1a50da756",
   "metadata": {},
   "outputs": [
    {
     "name": "stderr",
     "output_type": "stream",
     "text": [
      "WARNING (pytensor.tensor.blas): Using NumPy C-API based implementation for BLAS functions.\n"
     ]
    }
   ],
   "source": [
    "from pf_utils import PortfolioManager as PM \n",
    "from pf_utils import BayesianEstimator, performance_stats, get_date_range, METRICS"
   ]
  },
  {
   "cell_type": "code",
   "execution_count": 2,
   "id": "f713901a-c7f0-41f0-bb1f-c50af24ead27",
   "metadata": {},
   "outputs": [],
   "source": [
    "path_data = 'data'\n",
    "path_tran = 'transaction'"
   ]
  },
  {
   "cell_type": "code",
   "execution_count": 3,
   "id": "be9bb8fc-f077-4032-b695-a92d7bf0ee6d",
   "metadata": {},
   "outputs": [],
   "source": [
    "file_cost='transaction_cost'"
   ]
  },
  {
   "cell_type": "markdown",
   "id": "32f3d27d-4fde-4984-8c1e-c56a00877de0",
   "metadata": {},
   "source": [
    "# Data"
   ]
  },
  {
   "cell_type": "code",
   "execution_count": 4,
   "id": "bafb6552-e6e1-4bf3-89ae-1085e3fe6cb4",
   "metadata": {},
   "outputs": [
    {
     "name": "stdout",
     "output_type": "stream",
     "text": [
      "242 securities from 2005-01-31 to 2025-02-28 uploaded.\n",
      "WARNING: the number of days in a year with 242 tickers (100%) is 12 in avg.\n",
      "REMINDER: 242 equities converted to daily\n",
      "Daily metrics in Performance statistics must be meaningless\n",
      "Price data loaded\n",
      "Cost data transaction_cost_250319.csv loaded\n"
     ]
    }
   ],
   "source": [
    "universe = 'UV_FUND'\n",
    "fund = PM.create_universe(universe)\n",
    "cost = PM.get_cost(universe, file=file_cost, path=path_tran)\n",
    "fee = cost['fee']"
   ]
  },
  {
   "cell_type": "code",
   "execution_count": 5,
   "id": "338ef71c-e94e-4110-aee6-e6e099b491b4",
   "metadata": {},
   "outputs": [],
   "source": [
    "df_prices = fund.df_prices\n",
    "df_prices_fees = fund._get_prices_after_fee(df_prices, fee)"
   ]
  },
  {
   "cell_type": "code",
   "execution_count": 6,
   "id": "a101d1d3-e402-4508-8986-ba554782b8a9",
   "metadata": {},
   "outputs": [
    {
     "data": {
      "image/png": "[encoded data removed]",
      "text/plain": [
       "<Figure size 640x480 with 1 Axes>"
      ]
     },
     "metadata": {},
     "output_type": "display_data"
    }
   ],
   "source": [
    "df_prc = df_prices.resample('M').last()\n",
    "days_in_year = fund.days_in_year\n",
    "df_year = get_date_range(df_prc).loc[:, 'n'].div(days_in_year).rename('year')\n",
    "_ = df_year.groupby(df_year.round()).count().cumsum().div(df_year.count()).plot(title='Cumulative distribution of data size')"
   ]
  },
  {
   "cell_type": "markdown",
   "id": "92a19c41-9803-4808-a876-956b81eb4de8",
   "metadata": {},
   "source": [
    "# Bayesian"
   ]
  },
  {
   "cell_type": "markdown",
   "id": "46217dcb-3436-46f2-81b7-a1e5a7a46bd2",
   "metadata": {},
   "source": [
    "*revert data to original montly for estimation*"
   ]
  },
  {
   "cell_type": "code",
   "execution_count": 7,
   "id": "f232a15c-9f08-4755-8e06-4acdd5e034f6",
   "metadata": {},
   "outputs": [],
   "source": [
    "days_in_year = 12\n",
    "df_prc = df_prices_fees.resample('M').last()"
   ]
  },
  {
   "cell_type": "markdown",
   "id": "495e82c8-365f-48e8-8034-f03c9d958c68",
   "metadata": {},
   "source": [
    "## 1 Year Rate of Return"
   ]
  },
  {
   "cell_type": "code",
   "execution_count": null,
   "id": "1f230c1c-379b-4e1b-a534-72d2c4247118",
   "metadata": {},
   "outputs": [],
   "source": [
    "freq_year = 1\n",
    "min_year = 4 # min data size"
   ]
  },
  {
   "cell_type": "code",
   "execution_count": null,
   "id": "a5ca4a13-6c0d-47c4-b649-7e0ff17167d4",
   "metadata": {},
   "outputs": [],
   "source": [
    "file_est = f'fund_f{freq_year}y_s{min_year}y_250109'\n",
    "file_est"
   ]
  },
  {
   "cell_type": "markdown",
   "id": "5ca55086-9b2f-483a-9516-7b713d1dd878",
   "metadata": {},
   "source": [
    "### Split"
   ]
  },
  {
   "cell_type": "code",
   "execution_count": null,
   "id": "52c4d656-351a-4663-94b0-b4d79b583e40",
   "metadata": {},
   "outputs": [],
   "source": [
    "tickers = df_year.loc[df_year > min_year].index.to_list()\n",
    "len(tickers)"
   ]
  },
  {
   "cell_type": "code",
   "execution_count": null,
   "id": "71c09381-ee8f-41fb-88a1-f2a3febbb40f",
   "metadata": {},
   "outputs": [],
   "source": [
    "n = freq_year * days_in_year\n",
    "df_p = df_prc[tickers]\n",
    "df_train = df_p.iloc[:-n]\n",
    "df_val = df_p.iloc[-n:]"
   ]
  },
  {
   "cell_type": "code",
   "execution_count": null,
   "id": "685d73ab-7872-4b78-b0c2-4b8030a9e623",
   "metadata": {},
   "outputs": [],
   "source": [
    "len(df_p), len(df_train), len(df_val)"
   ]
  },
  {
   "cell_type": "markdown",
   "id": "30c50d78-5d23-4225-bc06-b00c8f544b82",
   "metadata": {},
   "source": [
    "### Estimate"
   ]
  },
  {
   "cell_type": "code",
   "execution_count": null,
   "id": "d6f74b96-43c6-43b4-b181-d7f6896bcd75",
   "metadata": {},
   "outputs": [],
   "source": [
    "kw = dict(\n",
    "    days_in_year = days_in_year,\n",
    "    security_names = fund.security_names\n",
    ")"
   ]
  },
  {
   "cell_type": "markdown",
   "id": "c23b3735-6c37-49f0-a2e0-716ea59b87d2",
   "metadata": {},
   "source": [
    "*Sample*"
   ]
  },
  {
   "cell_type": "code",
   "execution_count": null,
   "id": "c71ba49f-cf5c-4dc2-85d3-3d40c74bc4ec",
   "metadata": {},
   "outputs": [],
   "source": [
    "freq = freq_year * days_in_year\n",
    "be = BayesianEstimator(df_train, **kw)\n",
    "be.bayesian_sample(freq=freq, file=file_est, path=path_data)"
   ]
  },
  {
   "cell_type": "markdown",
   "id": "9398ad69-9c3e-4cb6-967b-1ca5e0cf9278",
   "metadata": {},
   "source": [
    "*Load*"
   ]
  },
  {
   "cell_type": "code",
   "execution_count": null,
   "id": "cde9cf64-7e61-4756-91c0-9f56756c2ea4",
   "metadata": {},
   "outputs": [],
   "source": [
    "be = BayesianEstimator.create(file_est, path_data, **kw)"
   ]
  },
  {
   "cell_type": "markdown",
   "id": "faaefe84-d6f0-4755-9eda-48344afab3db",
   "metadata": {},
   "source": [
    "#### Visualize"
   ]
  },
  {
   "cell_type": "code",
   "execution_count": null,
   "id": "dd0a129c-4739-41e7-a3e8-d915337f1b7b",
   "metadata": {},
   "outputs": [],
   "source": [
    "#xlims = None\n",
    "xlims = [(-0.3, 0.4), (-1, 2.5)]\n",
    "_ = be.plot_returns(max_legend=10, xlims=xlims)"
   ]
  },
  {
   "cell_type": "markdown",
   "id": "d3cf0f3c-c2cb-47f3-bf94-4c3afe16561f",
   "metadata": {},
   "source": [
    "### Compare"
   ]
  },
  {
   "cell_type": "code",
   "execution_count": null,
   "id": "05d33066-9cfc-4a1c-a6f5-cf0c7a37df52",
   "metadata": {},
   "outputs": [],
   "source": [
    "#var_name = 'cagr'\n",
    "var_name = 'total_return' # freq 1y\n",
    "ms = ['mean','sd','hdi_3%','hdi_97%']\n",
    "ascending = [False, True, False, False]\n",
    "\n",
    "df_s = be.bayesian_summary(var_name).droplevel(0)\n",
    "pick = lambda i, n=5, df=df_s: df.sort_values(ms[i], ascending=ascending[i]).iloc[:n].index.to_list()"
   ]
  },
  {
   "cell_type": "code",
   "execution_count": null,
   "id": "1da07da1-c4e7-4ddd-990a-b3ca804fb5bf",
   "metadata": {},
   "outputs": [],
   "source": [
    "#df_s.isna().any(axis=1).sum()\n",
    "#df_s = df_s.dropna()"
   ]
  },
  {
   "cell_type": "code",
   "execution_count": null,
   "id": "496f6598-89ee-4eac-a2ed-5d7b6cf988a3",
   "metadata": {},
   "outputs": [],
   "source": [
    "t0 = pick(0)\n",
    "kw = dict(\n",
    "    ref_val='default', \n",
    "    figsize=(12,2.5), textsize=9, grid=(1,5), length=16)\n",
    "be.plot_posterior(var_name, t0, **kw)"
   ]
  },
  {
   "cell_type": "code",
   "execution_count": null,
   "id": "a4bb15ab-0868-4321-a7c8-1bd129056178",
   "metadata": {},
   "outputs": [],
   "source": [
    "t1 = pick(1)\n",
    "be.plot_posterior(var_name, t1, **kw)"
   ]
  },
  {
   "cell_type": "code",
   "execution_count": null,
   "id": "3ab171c9-a563-486f-a2f1-71554a424c35",
   "metadata": {},
   "outputs": [],
   "source": [
    "t2 = pick(2)\n",
    "be.plot_posterior(var_name, t2, **kw)"
   ]
  },
  {
   "cell_type": "code",
   "execution_count": null,
   "id": "9798997b-6392-46d6-80c0-447ca01c9d92",
   "metadata": {},
   "outputs": [],
   "source": [
    "t3 = pick(3)\n",
    "be.plot_posterior(var_name, t3, **kw)"
   ]
  },
  {
   "cell_type": "markdown",
   "id": "9ec22a00-4d0d-4ce0-89e6-ed79c67245fd",
   "metadata": {},
   "source": [
    "### Validate"
   ]
  },
  {
   "cell_type": "code",
   "execution_count": null,
   "id": "bc1d2a27-e712-4d79-93b5-db0d1c3d015d",
   "metadata": {},
   "outputs": [],
   "source": [
    "m = var_name\n",
    "start = df_val.index.min()\n",
    "fund.plot(t0, fee=fee, base=1000, metric=m, start_date=start)"
   ]
  },
  {
   "cell_type": "code",
   "execution_count": null,
   "id": "65dd51ed-325c-4ecf-a3d9-92ac29f664c3",
   "metadata": {},
   "outputs": [],
   "source": [
    "fund.plot(t2, fee=fee, base=1000, metric=m, start_date=start)"
   ]
  },
  {
   "cell_type": "markdown",
   "id": "4aee62f4-3472-46e6-8f0c-365ab0fe07ea",
   "metadata": {},
   "source": [
    "## 3 Year Rate of Return"
   ]
  },
  {
   "cell_type": "markdown",
   "id": "7fc5c33c-9c25-4ee3-89d2-530c9b2e0131",
   "metadata": {},
   "source": [
    "### Min years 7"
   ]
  },
  {
   "cell_type": "code",
   "execution_count": null,
   "id": "26daf92e-6dfa-4657-9945-61a3e3c9eb2f",
   "metadata": {},
   "outputs": [],
   "source": [
    "freq_year = 3\n",
    "min_year = 7 # min data size"
   ]
  },
  {
   "cell_type": "code",
   "execution_count": null,
   "id": "9f798aa3-84bb-4f48-9748-114a3fccaf3c",
   "metadata": {},
   "outputs": [],
   "source": [
    "file_est = f'fund_f{freq_year}y_s{min_year}y_250109'\n",
    "file_est"
   ]
  },
  {
   "cell_type": "markdown",
   "id": "5961d7ef-9771-4e31-ba72-b3558ba6c8b6",
   "metadata": {},
   "source": [
    "#### Split"
   ]
  },
  {
   "cell_type": "code",
   "execution_count": null,
   "id": "7c372335-fe4a-4068-9f90-68cbc4eea4e5",
   "metadata": {},
   "outputs": [],
   "source": [
    "tickers = df_year.loc[df_year > min_year].index.to_list()\n",
    "len(tickers)"
   ]
  },
  {
   "cell_type": "code",
   "execution_count": null,
   "id": "d5d19d1f-5ea7-4f59-b580-1f344b2adc68",
   "metadata": {},
   "outputs": [],
   "source": [
    "n = freq_year * days_in_year\n",
    "df_p = df_prc[tickers]\n",
    "df_train = df_p.iloc[:-n]\n",
    "df_val = df_p.iloc[-n:]"
   ]
  },
  {
   "cell_type": "code",
   "execution_count": null,
   "id": "840998e1-0ef7-47a3-8f5f-c87fe603de50",
   "metadata": {},
   "outputs": [],
   "source": [
    "len(df_p), len(df_train), len(df_val)"
   ]
  },
  {
   "cell_type": "markdown",
   "id": "2b5e060b-d40a-43b2-88bb-913909992485",
   "metadata": {},
   "source": [
    "#### Estimate"
   ]
  },
  {
   "cell_type": "code",
   "execution_count": null,
   "id": "9d2d139c-bf98-4110-a6fc-05771d8ecdc9",
   "metadata": {},
   "outputs": [],
   "source": [
    "kw = dict(\n",
    "    days_in_year = days_in_year,\n",
    "    security_names = fund.security_names\n",
    ")"
   ]
  },
  {
   "cell_type": "markdown",
   "id": "fcce9766-ddb2-47a1-ab4d-41281d1a80bf",
   "metadata": {},
   "source": [
    "*Sample*"
   ]
  },
  {
   "cell_type": "code",
   "execution_count": null,
   "id": "57953b4b-a596-4f06-9061-dab326b65838",
   "metadata": {},
   "outputs": [],
   "source": [
    "freq = freq_year * days_in_year\n",
    "be = BayesianEstimator(df_train, **kw)\n",
    "be.bayesian_sample(freq=freq, file=file_est, path=path_data)"
   ]
  },
  {
   "cell_type": "markdown",
   "id": "62450eab-7267-437d-bf51-336aaad39b18",
   "metadata": {},
   "source": [
    "*Load*"
   ]
  },
  {
   "cell_type": "code",
   "execution_count": null,
   "id": "126011e2-1be1-45b4-90f9-a7a146a017c5",
   "metadata": {},
   "outputs": [],
   "source": [
    "be = BayesianEstimator.create(file_est, path_data, **kw)"
   ]
  },
  {
   "cell_type": "markdown",
   "id": "bbbe4755-fcb9-474d-9edd-e871b11ea59f",
   "metadata": {},
   "source": [
    "##### Visualize"
   ]
  },
  {
   "cell_type": "code",
   "execution_count": null,
   "id": "d76eff9c-f0fd-4c5d-b7ef-4b0d938a80dd",
   "metadata": {},
   "outputs": [],
   "source": [
    "#xlims = None\n",
    "xlims = [(-0.5, 1.5), (-0.5, 6)]\n",
    "_ = be.plot_returns(max_legend=10, xlims=xlims)"
   ]
  },
  {
   "cell_type": "markdown",
   "id": "1109923e-e2a2-4a5c-8c20-7908afbda621",
   "metadata": {},
   "source": [
    "#### Compare"
   ]
  },
  {
   "cell_type": "code",
   "execution_count": null,
   "id": "7d684a8d-36f3-4907-8712-23a0141a6cbb",
   "metadata": {},
   "outputs": [],
   "source": [
    "#var_name = 'cagr'\n",
    "var_name = 'total_return'\n",
    "ms = ['mean','sd','hdi_3%','hdi_97%']\n",
    "ascending = [False, True, False, False]\n",
    "\n",
    "df_s = be.bayesian_summary(var_name).droplevel(0)\n",
    "pick = lambda i, n=5, df=df_s: df.sort_values(ms[i], ascending=ascending[i]).iloc[:n].index.to_list()"
   ]
  },
  {
   "cell_type": "code",
   "execution_count": null,
   "id": "592ff7c8-638c-40fe-b79f-33ac41eaf225",
   "metadata": {},
   "outputs": [],
   "source": [
    "#df_s.isna().any(axis=1).sum()\n",
    "#df_s = df_s.dropna()"
   ]
  },
  {
   "cell_type": "code",
   "execution_count": null,
   "id": "b5a60c24-7dcf-4b25-9394-2d10e2bf7b83",
   "metadata": {},
   "outputs": [],
   "source": [
    "t0 = pick(0)\n",
    "kw = dict(\n",
    "    ref_val='default', \n",
    "    figsize=(12,2.5), textsize=9, grid=(1,5), length=16)\n",
    "be.plot_posterior(var_name, t0, **kw)"
   ]
  },
  {
   "cell_type": "code",
   "execution_count": null,
   "id": "35d82436-6561-4e23-b4b7-833741b19160",
   "metadata": {},
   "outputs": [],
   "source": [
    "t2 = pick(2)\n",
    "be.plot_posterior(var_name, t2, **kw)"
   ]
  },
  {
   "cell_type": "code",
   "execution_count": null,
   "id": "c2dfa922-01bd-4cb9-82e1-3105bdc01853",
   "metadata": {},
   "outputs": [],
   "source": [
    "t3 = pick(3)\n",
    "be.plot_posterior(var_name, t3, **kw)"
   ]
  },
  {
   "cell_type": "markdown",
   "id": "02d70c87-7f59-4fa1-892f-8c33ad067620",
   "metadata": {},
   "source": [
    "#### Validate"
   ]
  },
  {
   "cell_type": "code",
   "execution_count": null,
   "id": "bbe04ae1-198d-4e13-8c54-d8c9738bafbb",
   "metadata": {},
   "outputs": [],
   "source": [
    "m = var_name\n",
    "start = df_val.index.min()\n",
    "fund.plot(t2, fee=fee, base=1000, metric=m, start_date=start)"
   ]
  },
  {
   "cell_type": "code",
   "execution_count": null,
   "id": "6e1becf4-707a-4187-a0f0-7c8763c9eeda",
   "metadata": {},
   "outputs": [],
   "source": [
    "fund.plot(t0, fee=fee, base=1000, metric=m, start_date=start)"
   ]
  },
  {
   "cell_type": "markdown",
   "id": "eef51807-6087-4ebd-b8a9-a8c825bdb721",
   "metadata": {},
   "source": [
    "### Min years 3 w/o Validation"
   ]
  },
  {
   "cell_type": "code",
   "execution_count": null,
   "id": "c2d66e89-e8f1-4f0d-ad18-db1ba2a192d4",
   "metadata": {},
   "outputs": [],
   "source": [
    "freq_year = 3\n",
    "min_year = 3 # min data size"
   ]
  },
  {
   "cell_type": "code",
   "execution_count": null,
   "id": "55b8d69e-277c-488b-8b2a-dc69dc24b4d0",
   "metadata": {},
   "outputs": [],
   "source": [
    "file_base = f'fund_f{freq_year}y_s{min_year}y'\n",
    "file_est_old = f'fund_f{freq_year}y_s{min_year}y_250109'\n",
    "file_est = f'fund_f{freq_year}y_s{min_year}y_250207'\n",
    "file_est"
   ]
  },
  {
   "cell_type": "code",
   "execution_count": null,
   "id": "9f29d05d-76bb-49a4-85c2-82f53b70de4a",
   "metadata": {},
   "outputs": [],
   "source": [
    "file_base = f'fund_f{freq_year}y_s{min_year}y'\n",
    "file_est_old = f'{file_base}_250109'\n",
    "file_est = f'{file_base}_250207'\n",
    "file_est"
   ]
  },
  {
   "cell_type": "markdown",
   "id": "f6275e8e-bd6d-4f0d-ae2e-3b3b567224a3",
   "metadata": {},
   "source": [
    "#### Split"
   ]
  },
  {
   "cell_type": "code",
   "execution_count": null,
   "id": "036a60bf-be65-4064-9ac4-d7723051bf8c",
   "metadata": {},
   "outputs": [],
   "source": [
    "be = BayesianEstimator.create(file_est_old, path_data)\n",
    "tickers = be.df_prices.columns\n",
    "# remove tickers tested\n",
    "tickers = df_year.loc[df_year > min_year].index.difference(tickers)\n",
    "len(tickers)"
   ]
  },
  {
   "cell_type": "markdown",
   "id": "a6494efd-5098-4362-92f3-9f4e1f6260b0",
   "metadata": {},
   "source": [
    "*no validation*"
   ]
  },
  {
   "cell_type": "code",
   "execution_count": null,
   "id": "ff9c3ffc-2a30-4499-ab64-85cabb18cfd1",
   "metadata": {},
   "outputs": [],
   "source": [
    "df_p = df_prc[tickers]\n",
    "df_train = df_p"
   ]
  },
  {
   "cell_type": "code",
   "execution_count": null,
   "id": "4b316ae4-5d5c-4888-bfaa-024c9bb12472",
   "metadata": {},
   "outputs": [],
   "source": [
    "len(df_train)"
   ]
  },
  {
   "cell_type": "markdown",
   "id": "9b8d6734-56e9-4618-bd46-f5aa56f4b679",
   "metadata": {},
   "source": [
    "#### Estimate"
   ]
  },
  {
   "cell_type": "code",
   "execution_count": null,
   "id": "89ee0439-ccd2-4067-a211-ca9a50abd300",
   "metadata": {},
   "outputs": [],
   "source": [
    "kw = dict(\n",
    "    days_in_year = days_in_year,\n",
    "    security_names = fund.security_names\n",
    ")"
   ]
  },
  {
   "cell_type": "markdown",
   "id": "6fb860b9-8b2f-41a6-8442-b353093226ec",
   "metadata": {},
   "source": [
    "*Sample*"
   ]
  },
  {
   "cell_type": "code",
   "execution_count": null,
   "id": "dd1cfc74-f7e9-49b3-9187-0a3988633f77",
   "metadata": {
    "scrolled": true
   },
   "outputs": [],
   "source": [
    "freq = freq_year * days_in_year\n",
    "be = BayesianEstimator(df_train, **kw)\n",
    "# uncomment for new sampling \n",
    "be.bayesian_sample(freq=freq, file=file_est, path=path_data)"
   ]
  },
  {
   "cell_type": "markdown",
   "id": "2cd9f15c-947d-4c63-bd34-bc1396274546",
   "metadata": {},
   "source": [
    "*Load all estimates*"
   ]
  },
  {
   "cell_type": "code",
   "execution_count": null,
   "id": "5081efaf-79e4-4f7c-ae7b-4cdf551044d5",
   "metadata": {},
   "outputs": [],
   "source": [
    "be = BayesianEstimator.create(file_base, path_data, **kw)"
   ]
  },
  {
   "cell_type": "markdown",
   "id": "c864616d-7788-4d90-9171-711b598b0e9a",
   "metadata": {},
   "source": [
    "##### Visualize"
   ]
  },
  {
   "cell_type": "code",
   "execution_count": null,
   "id": "4b37be70-47f2-43a0-a5e6-6e2c1e1a684f",
   "metadata": {},
   "outputs": [],
   "source": [
    "xlims = None\n",
    "#xlims = [(-0.3, 0.8), (-4, 10)]\n",
    "_ = be.plot_returns(max_legend=10, xlims=xlims)"
   ]
  },
  {
   "cell_type": "markdown",
   "id": "5943fee8-f6cd-464c-990f-2d83531220b2",
   "metadata": {},
   "source": [
    "#### Compare"
   ]
  },
  {
   "cell_type": "code",
   "execution_count": null,
   "id": "310e75b1-d761-4979-9760-a7362a844bbf",
   "metadata": {},
   "outputs": [],
   "source": [
    "var_name = 'total_return'\n",
    "ms = ['mean','sd','hdi_3%','hdi_97%']\n",
    "ascending = [False, True, False, False]\n",
    "\n",
    "df_s = be.bayesian_summary(var_name).droplevel(0)\n",
    "pick = lambda i, n=5: df_s.sort_values(ms[i], ascending=ascending[i]).iloc[:n].index.to_list()\n",
    "df_s"
   ]
  },
  {
   "cell_type": "code",
   "execution_count": null,
   "id": "08890f8f-15b0-44ce-8564-cb9086f8e92d",
   "metadata": {},
   "outputs": [],
   "source": [
    "t0 = pick(0)\n",
    "kw = dict(\n",
    "    plotly=False,\n",
    "    ref_val='default', \n",
    "    figsize=(12,3), textsize=9, grid=(1,5), length=16)\n",
    "be.plot_posterior(var_name, t0, **kw)"
   ]
  },
  {
   "cell_type": "code",
   "execution_count": null,
   "id": "f1afd598-e878-41f5-bce0-a5b259109e39",
   "metadata": {},
   "outputs": [],
   "source": [
    "t0 = pick(0)\n",
    "be.plot_posterior(var_name, t0)"
   ]
  },
  {
   "cell_type": "code",
   "execution_count": null,
   "id": "01ab14ed-a4ae-467c-8a9a-9878bb3c286b",
   "metadata": {},
   "outputs": [],
   "source": [
    "t2 = pick(2)\n",
    "be.plot_posterior(var_name, t2)"
   ]
  },
  {
   "cell_type": "code",
   "execution_count": null,
   "id": "9ac8e883-317e-4bc4-9270-ea9ed5cf94b2",
   "metadata": {},
   "outputs": [],
   "source": [
    "t3 = pick(3)\n",
    "be.plot_posterior(var_name, t3)"
   ]
  },
  {
   "cell_type": "markdown",
   "id": "08e60dfd-3b9e-4b95-b9ef-2dd6519119ea",
   "metadata": {},
   "source": [
    "*choice from frequentist stats*"
   ]
  },
  {
   "cell_type": "code",
   "execution_count": null,
   "id": "35737c38-3e70-4c5d-b975-bfbddbe39454",
   "metadata": {},
   "outputs": [],
   "source": [
    "n = 5\n",
    "t = be.get_stats(var_name).T.sort_values(var_name, ascending=False).iloc[:n].index.to_list()\n",
    "be.plot_posterior(var_name, t)"
   ]
  },
  {
   "cell_type": "markdown",
   "id": "f5022fe5-913a-4540-a9e3-7490cd79d176",
   "metadata": {},
   "source": [
    "#### Cases"
   ]
  },
  {
   "cell_type": "markdown",
   "id": "6605d243-6be2-45bf-bab8-1b0a120571bf",
   "metadata": {},
   "source": [
    "##### TDF"
   ]
  },
  {
   "cell_type": "code",
   "execution_count": null,
   "id": "f00b656a-f055-44b8-acdb-39ead6666572",
   "metadata": {},
   "outputs": [],
   "source": [
    "from math import ceil\n",
    "tdf = 'tdf2040'\n",
    "t9 = pick(2, 99)\n",
    "t9 = [x for x in t9 if tdf in fund.security_names[x].lower()]\n",
    "grid = (ceil(len(t9)/5), 5)\n",
    "#be.plot_posterior(var_name, t9, **{**kw, 'grid':grid, 'figsize':(12,3*grid[0])})\n",
    "be.plot_posterior(var_name, t9)"
   ]
  },
  {
   "cell_type": "markdown",
   "id": "47a1f513-3675-4b82-9240-9894975bab9c",
   "metadata": {},
   "source": [
    "##### Asia"
   ]
  },
  {
   "cell_type": "code",
   "execution_count": null,
   "id": "6a0c5ad0-1582-40e2-8420-c1c27694d147",
   "metadata": {},
   "outputs": [],
   "source": [
    "t9 = ['K55364CF7048','K55303BT4176','K55234BY9966','K55235BW6799']\n",
    "grid = (1,4)\n",
    "#be.plot_posterior(var_name, t9, **{**kw, 'grid':grid, 'figsize':(12,3*grid[0])})\n",
    "be.plot_posterior(var_name, t9)"
   ]
  },
  {
   "cell_type": "code",
   "execution_count": null,
   "id": "aeaf9254-33bf-46f1-ad3f-49b3249176ee",
   "metadata": {},
   "outputs": [],
   "source": [
    "fund.get_names(t9)"
   ]
  },
  {
   "cell_type": "markdown",
   "id": "c62908f8-74f7-450a-ad18-a97c43cb3960",
   "metadata": {},
   "source": [
    "### Min years 5"
   ]
  },
  {
   "cell_type": "code",
   "execution_count": 8,
   "id": "abc619e8-8f43-4a75-ac77-12a02aa9a684",
   "metadata": {},
   "outputs": [],
   "source": [
    "freq_year = 3\n",
    "min_year = 5 # min data size"
   ]
  },
  {
   "cell_type": "code",
   "execution_count": 10,
   "id": "e610f1a5-c1e8-418e-898e-614363c7b2b1",
   "metadata": {},
   "outputs": [
    {
     "data": {
      "text/plain": [
       "'fund_f3y_s5y_250228'"
      ]
     },
     "execution_count": 10,
     "metadata": {},
     "output_type": "execute_result"
    }
   ],
   "source": [
    "file_est = f'fund_f{freq_year}y_s{min_year}y_250228'\n",
    "file_est"
   ]
  },
  {
   "cell_type": "markdown",
   "id": "50b0144c-0fcf-4b35-81eb-9a8adb190028",
   "metadata": {},
   "source": [
    "#### Split"
   ]
  },
  {
   "cell_type": "code",
   "execution_count": 11,
   "id": "e22bbc88-5b81-4212-b897-2597b8e17d0d",
   "metadata": {},
   "outputs": [
    {
     "data": {
      "text/plain": [
       "180"
      ]
     },
     "execution_count": 11,
     "metadata": {},
     "output_type": "execute_result"
    }
   ],
   "source": [
    "tickers = df_year.loc[df_year > min_year].index.to_list()\n",
    "len(tickers)"
   ]
  },
  {
   "cell_type": "markdown",
   "id": "67c711d1-32ec-4c4e-92c0-f57a26f916c9",
   "metadata": {},
   "source": [
    "*no validation*"
   ]
  },
  {
   "cell_type": "code",
   "execution_count": 12,
   "id": "6644e4e3-a21b-4db6-862d-c37afa923f24",
   "metadata": {},
   "outputs": [],
   "source": [
    "df_p = df_prc[tickers]\n",
    "df_train = df_p"
   ]
  },
  {
   "cell_type": "code",
   "execution_count": 13,
   "id": "707c82d8-5d85-4e05-98e0-4d9c8b72c586",
   "metadata": {},
   "outputs": [
    {
     "data": {
      "text/plain": [
       "242"
      ]
     },
     "execution_count": 13,
     "metadata": {},
     "output_type": "execute_result"
    }
   ],
   "source": [
    "len(df_train)"
   ]
  },
  {
   "cell_type": "markdown",
   "id": "4838667b-53aa-4df7-b17c-f0b8a1579b56",
   "metadata": {},
   "source": [
    "#### Estimate"
   ]
  },
  {
   "cell_type": "code",
   "execution_count": 14,
   "id": "758abc00-3863-4b28-91a7-659386ab5001",
   "metadata": {},
   "outputs": [],
   "source": [
    "kw = dict(\n",
    "    days_in_year = days_in_year,\n",
    "    security_names = fund.security_names\n",
    ")"
   ]
  },
  {
   "cell_type": "markdown",
   "id": "aff7fc17-bbcd-450f-840e-9eb00b57a264",
   "metadata": {},
   "source": [
    "*Sample*"
   ]
  },
  {
   "cell_type": "code",
   "execution_count": 15,
   "id": "c5714d77-2df6-4fe7-bc8d-73f6f75f4112",
   "metadata": {},
   "outputs": [
    {
     "name": "stdout",
     "output_type": "stream",
     "text": [
      "Running batch 1 ...\n"
     ]
    },
    {
     "name": "stderr",
     "output_type": "stream",
     "text": [
      "Auto-assigning NUTS sampler...\n",
      "Initializing NUTS using jitter+adapt_diag...\n",
      "Multiprocess sampling (4 chains in 4 jobs)\n",
      "NUTS: [nu_minus_two, mu, sig, total_return]\n"
     ]
    },
    {
     "data": {
      "application/vnd.jupyter.widget-view+json": {
       "model_id": "637eff2fece144fb9da3d2751611504e",
       "version_major": 2,
       "version_minor": 0
      },
      "text/plain": [
       "Output()"
      ]
     },
     "metadata": {},
     "output_type": "display_data"
    },
    {
     "data": {
      "text/html": [
       "<pre style=\"white-space:pre;overflow-x:auto;line-height:normal;font-family:Menlo,'DejaVu Sans Mono',consolas,'Courier New',monospace\"></pre>\n"
      ],
      "text/plain": []
     },
     "metadata": {},
     "output_type": "display_data"
    },
    {
     "data": {
      "text/html": [
       "<pre style=\"white-space:pre;overflow-x:auto;line-height:normal;font-family:Menlo,'DejaVu Sans Mono',consolas,'Courier New',monospace\">\n",
       "</pre>\n"
      ],
      "text/plain": [
       "\n"
      ]
     },
     "metadata": {},
     "output_type": "display_data"
    },
    {
     "name": "stderr",
     "output_type": "stream",
     "text": [
      "Sampling 4 chains for 1_000 tune and 1_000 draw iterations (4_000 + 4_000 draws total) took 148 seconds.\n"
     ]
    },
    {
     "name": "stdout",
     "output_type": "stream",
     "text": [
      "Running batch 2 ...\n"
     ]
    },
    {
     "name": "stderr",
     "output_type": "stream",
     "text": [
      "Auto-assigning NUTS sampler...\n",
      "Initializing NUTS using jitter+adapt_diag...\n",
      "Multiprocess sampling (4 chains in 4 jobs)\n",
      "NUTS: [nu_minus_two, mu, sig, total_return]\n"
     ]
    },
    {
     "data": {
      "application/vnd.jupyter.widget-view+json": {
       "model_id": "abee8b65d9804ce7800ce1f7c76d2f26",
       "version_major": 2,
       "version_minor": 0
      },
      "text/plain": [
       "Output()"
      ]
     },
     "metadata": {},
     "output_type": "display_data"
    },
    {
     "data": {
      "text/html": [
       "<pre style=\"white-space:pre;overflow-x:auto;line-height:normal;font-family:Menlo,'DejaVu Sans Mono',consolas,'Courier New',monospace\"></pre>\n"
      ],
      "text/plain": []
     },
     "metadata": {},
     "output_type": "display_data"
    },
    {
     "data": {
      "text/html": [
       "<pre style=\"white-space:pre;overflow-x:auto;line-height:normal;font-family:Menlo,'DejaVu Sans Mono',consolas,'Courier New',monospace\">\n",
       "</pre>\n"
      ],
      "text/plain": [
       "\n"
      ]
     },
     "metadata": {},
     "output_type": "display_data"
    },
    {
     "name": "stderr",
     "output_type": "stream",
     "text": [
      "Sampling 4 chains for 1_000 tune and 1_000 draw iterations (4_000 + 4_000 draws total) took 136 seconds.\n"
     ]
    },
    {
     "name": "stdout",
     "output_type": "stream",
     "text": [
      "Running batch 3 ...\n"
     ]
    },
    {
     "name": "stderr",
     "output_type": "stream",
     "text": [
      "Auto-assigning NUTS sampler...\n",
      "Initializing NUTS using jitter+adapt_diag...\n",
      "Multiprocess sampling (4 chains in 4 jobs)\n",
      "NUTS: [nu_minus_two, mu, sig, total_return]\n"
     ]
    },
    {
     "data": {
      "application/vnd.jupyter.widget-view+json": {
       "model_id": "388a2d18af0249a391173267447a8e59",
       "version_major": 2,
       "version_minor": 0
      },
      "text/plain": [
       "Output()"
      ]
     },
     "metadata": {},
     "output_type": "display_data"
    },
    {
     "data": {
      "text/html": [
       "<pre style=\"white-space:pre;overflow-x:auto;line-height:normal;font-family:Menlo,'DejaVu Sans Mono',consolas,'Courier New',monospace\"></pre>\n"
      ],
      "text/plain": []
     },
     "metadata": {},
     "output_type": "display_data"
    },
    {
     "data": {
      "text/html": [
       "<pre style=\"white-space:pre;overflow-x:auto;line-height:normal;font-family:Menlo,'DejaVu Sans Mono',consolas,'Courier New',monospace\">\n",
       "</pre>\n"
      ],
      "text/plain": [
       "\n"
      ]
     },
     "metadata": {},
     "output_type": "display_data"
    },
    {
     "name": "stderr",
     "output_type": "stream",
     "text": [
      "Sampling 4 chains for 1_000 tune and 1_000 draw iterations (4_000 + 4_000 draws total) took 153 seconds.\n"
     ]
    },
    {
     "name": "stdout",
     "output_type": "stream",
     "text": [
      "Running batch 4 ...\n"
     ]
    },
    {
     "name": "stderr",
     "output_type": "stream",
     "text": [
      "Auto-assigning NUTS sampler...\n",
      "Initializing NUTS using jitter+adapt_diag...\n",
      "Multiprocess sampling (4 chains in 4 jobs)\n",
      "NUTS: [nu_minus_two, mu, sig, total_return]\n"
     ]
    },
    {
     "data": {
      "application/vnd.jupyter.widget-view+json": {
       "model_id": "c0bac356bf6842e2a0c4a13b58c24bbf",
       "version_major": 2,
       "version_minor": 0
      },
      "text/plain": [
       "Output()"
      ]
     },
     "metadata": {},
     "output_type": "display_data"
    },
    {
     "data": {
      "text/html": [
       "<pre style=\"white-space:pre;overflow-x:auto;line-height:normal;font-family:Menlo,'DejaVu Sans Mono',consolas,'Courier New',monospace\"></pre>\n"
      ],
      "text/plain": []
     },
     "metadata": {},
     "output_type": "display_data"
    },
    {
     "data": {
      "text/html": [
       "<pre style=\"white-space:pre;overflow-x:auto;line-height:normal;font-family:Menlo,'DejaVu Sans Mono',consolas,'Courier New',monospace\">\n",
       "</pre>\n"
      ],
      "text/plain": [
       "\n"
      ]
     },
     "metadata": {},
     "output_type": "display_data"
    },
    {
     "name": "stderr",
     "output_type": "stream",
     "text": [
      "Sampling 4 chains for 1_000 tune and 1_000 draw iterations (4_000 + 4_000 draws total) took 95 seconds.\n"
     ]
    },
    {
     "name": "stdout",
     "output_type": "stream",
     "text": [
      "data/fund_f3y_s5y_250228.pkl saved\n",
      "Execution time of bayesian_sample: 1199.60 secs\n"
     ]
    }
   ],
   "source": [
    "freq = freq_year * days_in_year\n",
    "be = BayesianEstimator(df_train, **kw)\n",
    "be.bayesian_sample(freq=freq, file=file_est, path=path_data)"
   ]
  },
  {
   "cell_type": "markdown",
   "id": "efd340ce-3ee3-4c65-908d-a980592aae52",
   "metadata": {},
   "source": [
    "*Load*"
   ]
  },
  {
   "cell_type": "code",
   "execution_count": null,
   "id": "a9f9878f-56ff-4197-94a0-0cd8158966b9",
   "metadata": {},
   "outputs": [],
   "source": [
    "be = BayesianEstimator.create(file_est, path_data, **kw)"
   ]
  },
  {
   "cell_type": "markdown",
   "id": "20bee882-df15-406b-8532-c3448b3a5ad1",
   "metadata": {},
   "source": [
    "##### Visualize"
   ]
  },
  {
   "cell_type": "code",
   "execution_count": null,
   "id": "4f643ac7-053f-422b-b4a0-c3a3eb070c1e",
   "metadata": {},
   "outputs": [],
   "source": [
    "xlims = None\n",
    "#xlims = [(-0.5, 1.5), (-0.5, 6)]\n",
    "_ = be.plot_returns(max_legend=10, xlims=xlims)"
   ]
  },
  {
   "cell_type": "markdown",
   "id": "bd5fa9e3-4df0-4990-949f-ac2763711ece",
   "metadata": {},
   "source": [
    "#### Compare"
   ]
  },
  {
   "cell_type": "code",
   "execution_count": null,
   "id": "254f5d4a-caf2-4afe-832f-2aee00b7c6aa",
   "metadata": {},
   "outputs": [],
   "source": [
    "#var_name = 'cagr'\n",
    "var_name = 'total_return'\n",
    "ms = ['mean','sd','hdi_3%','hdi_97%']\n",
    "ascending = [False, True, False, False]\n",
    "\n",
    "df_s = be.bayesian_summary(var_name).droplevel(0)\n",
    "pick = lambda i, n=5, df=df_s: df.sort_values(ms[i], ascending=ascending[i]).iloc[:n].index.to_list()"
   ]
  },
  {
   "cell_type": "code",
   "execution_count": null,
   "id": "f32a184c-f0e9-4dbc-81f5-2c45a65566b7",
   "metadata": {},
   "outputs": [],
   "source": [
    "#df_s.isna().any(axis=1).sum()\n",
    "#df_s = df_s.dropna()"
   ]
  },
  {
   "cell_type": "code",
   "execution_count": null,
   "id": "52dd7f9c-53ce-491d-89dc-7c30454f6e39",
   "metadata": {},
   "outputs": [],
   "source": [
    "t0 = pick(0)\n",
    "kw = dict(\n",
    "    ref_val='default', \n",
    "    figsize=(12,2.5), textsize=9, grid=(1,5), length=16)\n",
    "be.plot_posterior(var_name, t0, **kw)"
   ]
  },
  {
   "cell_type": "code",
   "execution_count": null,
   "id": "c73c0639-bb79-4e80-8b2d-1691f7a2070b",
   "metadata": {},
   "outputs": [],
   "source": [
    "t2 = pick(2)\n",
    "be.plot_posterior(var_name, t2, **kw)"
   ]
  },
  {
   "cell_type": "code",
   "execution_count": null,
   "id": "ee9925cc-93d7-40d3-861e-bf6acba5bde0",
   "metadata": {},
   "outputs": [],
   "source": [
    "t3 = pick(3)\n",
    "be.plot_posterior(var_name, t3, **kw)"
   ]
  },
  {
   "cell_type": "markdown",
   "id": "17cb938b-8e44-4125-9424-0cf56b6df3ab",
   "metadata": {},
   "source": [
    "#### Validate"
   ]
  },
  {
   "cell_type": "code",
   "execution_count": null,
   "id": "58df8167-5edd-4918-b6e6-bb05c4659989",
   "metadata": {},
   "outputs": [],
   "source": [
    "m = var_name\n",
    "start = df_val.index.min()\n",
    "fund.plot(t2, fee=fee, base=1000, metric=m, start_date=start)"
   ]
  },
  {
   "cell_type": "code",
   "execution_count": null,
   "id": "a1a8d938-2236-4425-b317-d182c492599d",
   "metadata": {},
   "outputs": [],
   "source": [
    "fund.plot(t0, fee=fee, base=1000, metric=m, start_date=start)"
   ]
  },
  {
   "cell_type": "markdown",
   "id": "432cef7f-a1c2-43a2-9fa0-c92b04238dd6",
   "metadata": {},
   "source": [
    "# Visualize"
   ]
  },
  {
   "cell_type": "code",
   "execution_count": 1,
   "id": "59601448-d606-4746-b27b-7258bbe2b350",
   "metadata": {},
   "outputs": [
    {
     "name": "stderr",
     "output_type": "stream",
     "text": [
      "WARNING (pytensor.tensor.blas): Using NumPy C-API based implementation for BLAS functions.\n"
     ]
    }
   ],
   "source": [
    "from pf_utils import PortfolioManager as PM \n",
    "from pf_dash import create_app, add_density_plot, add_hdi_plot, add_scatter_plot"
   ]
  },
  {
   "cell_type": "code",
   "execution_count": 2,
   "id": "a5ec5476-ead4-4853-a232-0ed93dfa1e06",
   "metadata": {},
   "outputs": [],
   "source": [
    "path_data = 'data'\n",
    "path_tran = 'transaction'\n",
    "file_cost = 'transaction_cost'"
   ]
  },
  {
   "cell_type": "markdown",
   "id": "490a88e3-07b1-49e4-8710-346e63c3e1b8",
   "metadata": {},
   "source": [
    "## Data"
   ]
  },
  {
   "cell_type": "markdown",
   "id": "c6e42ed9-173f-4f64-97c7-e755c6d2c852",
   "metadata": {},
   "source": [
    "### Price"
   ]
  },
  {
   "cell_type": "code",
   "execution_count": 3,
   "id": "6477cd6f-227a-4b81-8b98-68988b5b4809",
   "metadata": {},
   "outputs": [
    {
     "name": "stdout",
     "output_type": "stream",
     "text": [
      "224 securities from 2005-01-31 to 2025-01-31 uploaded.\n",
      "WARNING: the number of days in a year with 224 tickers (100%) is 12 in avg.\n",
      "REMINDER: 224 equities converted to daily\n",
      "Daily metrics in Performance statistics must be meaningless\n",
      "Price data loaded\n",
      "Cost data transaction_cost_250207.csv loaded\n"
     ]
    }
   ],
   "source": [
    "universe = 'UV_FUND'\n",
    "fund = PM.create_universe(universe)\n",
    "cost = PM.get_cost(universe, file=file_cost, path=path_tran)\n",
    "fee = cost['fee']"
   ]
  },
  {
   "cell_type": "code",
   "execution_count": 4,
   "id": "b7497b75-d5f0-4371-bee0-703e6c9432e6",
   "metadata": {},
   "outputs": [],
   "source": [
    "df_prices = fund.df_prices\n",
    "df_prices_fees = fund._get_prices_after_fee(df_prices, fee)"
   ]
  },
  {
   "cell_type": "code",
   "execution_count": 5,
   "id": "49c75355-09db-4831-b006-b165fd549a08",
   "metadata": {},
   "outputs": [],
   "source": [
    "df_prc = df_prices.resample('M').last()\n",
    "df_prc_f = df_prices_fees.resample('M').last()\n",
    "fund_name = fund.security_names"
   ]
  },
  {
   "cell_type": "code",
   "execution_count": 6,
   "id": "bfac3f8d-c5ad-4a33-a3aa-8eb9eeab3eb6",
   "metadata": {},
   "outputs": [],
   "source": [
    "tickers = None\n",
    "#tickers = ['K55364CF7048','K55303BT4176','K55234BY9966','K55235BW6799']\n",
    "#tickers = t9\n",
    "#tickers = ['K55206C95800', 'K55301BU6139','K55364CF7048','K55234BY9966','K55213C50702','K55234DF3150','K55301BU6253']\n",
    "#tdf = 'tdf2035'\n",
    "#tickers = [k for k,v in fund_name.items() if tdf in v.lower()]"
   ]
  },
  {
   "cell_type": "markdown",
   "id": "ee9c040a-c55b-4581-b13b-4025307dd9f4",
   "metadata": {},
   "source": [
    "### Scatter"
   ]
  },
  {
   "cell_type": "code",
   "execution_count": 7,
   "id": "012970c6-c0dc-42c1-aab0-c0e0140975d2",
   "metadata": {},
   "outputs": [
    {
     "name": "stdout",
     "output_type": "stream",
     "text": [
      "fund_f3y_s3y.pkl* loaded\n",
      "WARNING: the number of days in a year with 192 tickers (100%) is 12 in avg.\n"
     ]
    },
    {
     "data": {
      "text/html": [
       "<div>\n",
       "<style scoped>\n",
       "    .dataframe tbody tr th:only-of-type {\n",
       "        vertical-align: middle;\n",
       "    }\n",
       "\n",
       "    .dataframe tbody tr th {\n",
       "        vertical-align: top;\n",
       "    }\n",
       "\n",
       "    .dataframe thead th {\n",
       "        text-align: right;\n",
       "    }\n",
       "</style>\n",
       "<table border=\"1\" class=\"dataframe\">\n",
       "  <thead>\n",
       "    <tr style=\"text-align: right;\">\n",
       "      <th></th>\n",
       "      <th>mean</th>\n",
       "      <th>sd</th>\n",
       "      <th>hdi_3%</th>\n",
       "      <th>hdi_97%</th>\n",
       "      <th>mcse_mean</th>\n",
       "      <th>mcse_sd</th>\n",
       "      <th>ess_bulk</th>\n",
       "      <th>ess_tail</th>\n",
       "      <th>r_hat</th>\n",
       "    </tr>\n",
       "    <tr>\n",
       "      <th>ticker</th>\n",
       "      <th></th>\n",
       "      <th></th>\n",
       "      <th></th>\n",
       "      <th></th>\n",
       "      <th></th>\n",
       "      <th></th>\n",
       "      <th></th>\n",
       "      <th></th>\n",
       "      <th></th>\n",
       "    </tr>\n",
       "  </thead>\n",
       "  <tbody>\n",
       "    <tr>\n",
       "      <th>KR5101888398</th>\n",
       "      <td>0.079</td>\n",
       "      <td>0.027</td>\n",
       "      <td>0.029</td>\n",
       "      <td>0.131</td>\n",
       "      <td>0.000</td>\n",
       "      <td>0.000</td>\n",
       "      <td>8872.0</td>\n",
       "      <td>2719.0</td>\n",
       "      <td>1.0</td>\n",
       "    </tr>\n",
       "    <tr>\n",
       "      <th>KR5370AP9956</th>\n",
       "      <td>0.044</td>\n",
       "      <td>0.087</td>\n",
       "      <td>-0.107</td>\n",
       "      <td>0.214</td>\n",
       "      <td>0.001</td>\n",
       "      <td>0.001</td>\n",
       "      <td>9362.0</td>\n",
       "      <td>2617.0</td>\n",
       "      <td>1.0</td>\n",
       "    </tr>\n",
       "    <tr>\n",
       "      <th>KR5236AS4826</th>\n",
       "      <td>0.081</td>\n",
       "      <td>0.076</td>\n",
       "      <td>-0.070</td>\n",
       "      <td>0.221</td>\n",
       "      <td>0.001</td>\n",
       "      <td>0.001</td>\n",
       "      <td>7581.0</td>\n",
       "      <td>2640.0</td>\n",
       "      <td>1.0</td>\n",
       "    </tr>\n",
       "    <tr>\n",
       "      <th>K55105BH1010</th>\n",
       "      <td>0.104</td>\n",
       "      <td>0.151</td>\n",
       "      <td>-0.167</td>\n",
       "      <td>0.393</td>\n",
       "      <td>0.002</td>\n",
       "      <td>0.002</td>\n",
       "      <td>8777.0</td>\n",
       "      <td>3110.0</td>\n",
       "      <td>1.0</td>\n",
       "    </tr>\n",
       "    <tr>\n",
       "      <th>K55301BM7640</th>\n",
       "      <td>0.208</td>\n",
       "      <td>0.130</td>\n",
       "      <td>-0.029</td>\n",
       "      <td>0.460</td>\n",
       "      <td>0.002</td>\n",
       "      <td>0.001</td>\n",
       "      <td>7049.0</td>\n",
       "      <td>2868.0</td>\n",
       "      <td>1.0</td>\n",
       "    </tr>\n",
       "  </tbody>\n",
       "</table>\n",
       "</div>"
      ],
      "text/plain": [
       "               mean     sd  hdi_3%  hdi_97%  mcse_mean  mcse_sd  ess_bulk  \\\n",
       "ticker                                                                      \n",
       "KR5101888398  0.079  0.027   0.029    0.131      0.000    0.000    8872.0   \n",
       "KR5370AP9956  0.044  0.087  -0.107    0.214      0.001    0.001    9362.0   \n",
       "KR5236AS4826  0.081  0.076  -0.070    0.221      0.001    0.001    7581.0   \n",
       "K55105BH1010  0.104  0.151  -0.167    0.393      0.002    0.002    8777.0   \n",
       "K55301BM7640  0.208  0.130  -0.029    0.460      0.002    0.001    7049.0   \n",
       "\n",
       "              ess_tail  r_hat  \n",
       "ticker                         \n",
       "KR5101888398    2719.0    1.0  \n",
       "KR5370AP9956    2617.0    1.0  \n",
       "KR5236AS4826    2640.0    1.0  \n",
       "K55105BH1010    3110.0    1.0  \n",
       "K55301BM7640    2868.0    1.0  "
      ]
     },
     "execution_count": 7,
     "metadata": {},
     "output_type": "execute_result"
    }
   ],
   "source": [
    "from pf_dash import get_hdi\n",
    "import pandas as pd\n",
    "\n",
    "file = 'fund_f3y_s3y'\n",
    "path = 'data'\n",
    "df = get_hdi(file, path, tickers=tickers, to_dict=False)\n",
    "df.head()"
   ]
  },
  {
   "cell_type": "code",
   "execution_count": 8,
   "id": "2b571d3f-ce2e-4fae-9c7a-2e58662ce550",
   "metadata": {},
   "outputs": [],
   "source": [
    "#df.to_csv('pages/funds_bayesian_ret3y_250207.csv')"
   ]
  },
  {
   "cell_type": "markdown",
   "id": "a787a940-0210-4c3b-9f7d-9ffaa0d0d61a",
   "metadata": {},
   "source": [
    "### Category"
   ]
  },
  {
   "cell_type": "code",
   "execution_count": 9,
   "id": "fd233312-d352-4603-9061-feceddecd39a",
   "metadata": {},
   "outputs": [],
   "source": [
    "import pandas as pd\n",
    "\n",
    "file = 'funds_categories.csv'\n",
    "path = 'data'\n",
    "df_cat_all = pd.read_csv(f'{path}/{file}').set_index('ticker')"
   ]
  },
  {
   "cell_type": "code",
   "execution_count": 10,
   "id": "087a6d83-cefc-420d-8a07-fc994e7e71f2",
   "metadata": {},
   "outputs": [
    {
     "data": {
      "text/plain": [
       "Index(['seller', 'account', 'manager', 'asset', 'strategy', 'region'], dtype='object')"
      ]
     },
     "execution_count": 10,
     "metadata": {},
     "output_type": "execute_result"
    }
   ],
   "source": [
    "df_cat = df_cat_all.iloc[:, 1:]\n",
    "df_cat.columns"
   ]
  },
  {
   "cell_type": "markdown",
   "id": "8a03fa00-9c37-4398-a120-ce9f8ef2ed2c",
   "metadata": {},
   "source": [
    "## Plot"
   ]
  },
  {
   "cell_type": "code",
   "execution_count": 11,
   "id": "9ec44434-2644-448d-9609-fb7bdd0b0e6a",
   "metadata": {},
   "outputs": [],
   "source": [
    "tickers = None\n",
    "#tickers = ['K55101BT4402', 'K55101BT4428', 'K55101BT4444', 'K55101BT7397']\n",
    "app, get_tickers = create_app(df_prc, df_prc_f, df_cat,\n",
    "                              fund_name=fund_name, tickers=tickers\n",
    "                             )"
   ]
  },
  {
   "cell_type": "code",
   "execution_count": 12,
   "id": "05380912-0c0d-4ae0-82ae-4a3bd9d37dcb",
   "metadata": {},
   "outputs": [
    {
     "name": "stdout",
     "output_type": "stream",
     "text": [
      "fund_f3y_s3y.pkl* loaded\n",
      "WARNING: the number of days in a year with 192 tickers (100%) is 12 in avg.\n"
     ]
    }
   ],
   "source": [
    "kw_dst = dict(\n",
    "    file = 'fund_f3y_s3y',\n",
    "    path = 'data',\n",
    "    tickers = tickers,\n",
    "    fund_name = fund_name\n",
    ")\n",
    "kw_hdi = dict(\n",
    "    #sort_by = 'mean', ascending=False, # default\n",
    "    #sort_by = 'sd', ascending=True,\n",
    "    line_width=3\n",
    ")\n",
    "#add_density_plot(app, get_tickers, **kw_dst)\n",
    "add_hdi_plot(app, get_tickers, **kw_dst, **kw_hdi)"
   ]
  },
  {
   "cell_type": "code",
   "execution_count": 13,
   "id": "5f7b806c-2f28-4f71-a2e6-892e0b9b44df",
   "metadata": {},
   "outputs": [
    {
     "name": "stdout",
     "output_type": "stream",
     "text": [
      "fund_f3y_s3y.pkl* loaded\n",
      "WARNING: the number of days in a year with 192 tickers (100%) is 12 in avg.\n"
     ]
    }
   ],
   "source": [
    "add_scatter_plot(app, get_tickers, df_cat=df_cat, **kw_dst)"
   ]
  },
  {
   "cell_type": "code",
   "execution_count": 14,
   "id": "9bbebcc3-edbf-4c9e-bc2c-52056c8d1343",
   "metadata": {},
   "outputs": [
    {
     "data": {
      "text/html": [
       "\n",
       "        <iframe\n",
       "            width=\"100%\"\n",
       "            height=\"650\"\n",
       "            src=\"http://127.0.0.1:8051/\"\n",
       "            frameborder=\"0\"\n",
       "            allowfullscreen\n",
       "            \n",
       "        ></iframe>\n",
       "        "
      ],
      "text/plain": [
       "<IPython.lib.display.IFrame at 0x7446fd207aa0>"
      ]
     },
     "metadata": {},
     "output_type": "display_data"
    }
   ],
   "source": [
    "app.run_server(debug=True, port=8051)"
   ]
  },
  {
   "cell_type": "markdown",
   "id": "606e2c46-e1af-40c1-8e93-2af3031605ad",
   "metadata": {},
   "source": [
    "# Categories"
   ]
  },
  {
   "cell_type": "markdown",
   "id": "cdbc1c71-1662-48fe-a367-db5004e4562c",
   "metadata": {},
   "source": [
    "## Data"
   ]
  },
  {
   "cell_type": "code",
   "execution_count": 15,
   "id": "395f49a2-56ed-4c09-a0cd-424cef656cad",
   "metadata": {},
   "outputs": [
    {
     "name": "stdout",
     "output_type": "stream",
     "text": [
      "fund_f3y_s3y.pkl* loaded\n",
      "WARNING: the number of days in a year with 192 tickers (100%) is 12 in avg.\n"
     ]
    },
    {
     "data": {
      "text/html": [
       "<div>\n",
       "<style scoped>\n",
       "    .dataframe tbody tr th:only-of-type {\n",
       "        vertical-align: middle;\n",
       "    }\n",
       "\n",
       "    .dataframe tbody tr th {\n",
       "        vertical-align: top;\n",
       "    }\n",
       "\n",
       "    .dataframe thead th {\n",
       "        text-align: right;\n",
       "    }\n",
       "</style>\n",
       "<table border=\"1\" class=\"dataframe\">\n",
       "  <thead>\n",
       "    <tr style=\"text-align: right;\">\n",
       "      <th></th>\n",
       "      <th>mean</th>\n",
       "      <th>sd</th>\n",
       "      <th>hdi_3%</th>\n",
       "      <th>hdi_97%</th>\n",
       "      <th>mcse_mean</th>\n",
       "      <th>mcse_sd</th>\n",
       "      <th>ess_bulk</th>\n",
       "      <th>ess_tail</th>\n",
       "      <th>r_hat</th>\n",
       "    </tr>\n",
       "    <tr>\n",
       "      <th>ticker</th>\n",
       "      <th></th>\n",
       "      <th></th>\n",
       "      <th></th>\n",
       "      <th></th>\n",
       "      <th></th>\n",
       "      <th></th>\n",
       "      <th></th>\n",
       "      <th></th>\n",
       "      <th></th>\n",
       "    </tr>\n",
       "  </thead>\n",
       "  <tbody>\n",
       "    <tr>\n",
       "      <th>KR5101888398</th>\n",
       "      <td>0.079</td>\n",
       "      <td>0.027</td>\n",
       "      <td>0.029</td>\n",
       "      <td>0.131</td>\n",
       "      <td>0.000</td>\n",
       "      <td>0.000</td>\n",
       "      <td>8872.0</td>\n",
       "      <td>2719.0</td>\n",
       "      <td>1.0</td>\n",
       "    </tr>\n",
       "    <tr>\n",
       "      <th>KR5370AP9956</th>\n",
       "      <td>0.044</td>\n",
       "      <td>0.087</td>\n",
       "      <td>-0.107</td>\n",
       "      <td>0.214</td>\n",
       "      <td>0.001</td>\n",
       "      <td>0.001</td>\n",
       "      <td>9362.0</td>\n",
       "      <td>2617.0</td>\n",
       "      <td>1.0</td>\n",
       "    </tr>\n",
       "    <tr>\n",
       "      <th>KR5236AS4826</th>\n",
       "      <td>0.081</td>\n",
       "      <td>0.076</td>\n",
       "      <td>-0.070</td>\n",
       "      <td>0.221</td>\n",
       "      <td>0.001</td>\n",
       "      <td>0.001</td>\n",
       "      <td>7581.0</td>\n",
       "      <td>2640.0</td>\n",
       "      <td>1.0</td>\n",
       "    </tr>\n",
       "    <tr>\n",
       "      <th>K55105BH1010</th>\n",
       "      <td>0.104</td>\n",
       "      <td>0.151</td>\n",
       "      <td>-0.167</td>\n",
       "      <td>0.393</td>\n",
       "      <td>0.002</td>\n",
       "      <td>0.002</td>\n",
       "      <td>8777.0</td>\n",
       "      <td>3110.0</td>\n",
       "      <td>1.0</td>\n",
       "    </tr>\n",
       "    <tr>\n",
       "      <th>K55301BM7640</th>\n",
       "      <td>0.208</td>\n",
       "      <td>0.130</td>\n",
       "      <td>-0.029</td>\n",
       "      <td>0.460</td>\n",
       "      <td>0.002</td>\n",
       "      <td>0.001</td>\n",
       "      <td>7049.0</td>\n",
       "      <td>2868.0</td>\n",
       "      <td>1.0</td>\n",
       "    </tr>\n",
       "  </tbody>\n",
       "</table>\n",
       "</div>"
      ],
      "text/plain": [
       "               mean     sd  hdi_3%  hdi_97%  mcse_mean  mcse_sd  ess_bulk  \\\n",
       "ticker                                                                      \n",
       "KR5101888398  0.079  0.027   0.029    0.131      0.000    0.000    8872.0   \n",
       "KR5370AP9956  0.044  0.087  -0.107    0.214      0.001    0.001    9362.0   \n",
       "KR5236AS4826  0.081  0.076  -0.070    0.221      0.001    0.001    7581.0   \n",
       "K55105BH1010  0.104  0.151  -0.167    0.393      0.002    0.002    8777.0   \n",
       "K55301BM7640  0.208  0.130  -0.029    0.460      0.002    0.001    7049.0   \n",
       "\n",
       "              ess_tail  r_hat  \n",
       "ticker                         \n",
       "KR5101888398    2719.0    1.0  \n",
       "KR5370AP9956    2617.0    1.0  \n",
       "KR5236AS4826    2640.0    1.0  \n",
       "K55105BH1010    3110.0    1.0  \n",
       "K55301BM7640    2868.0    1.0  "
      ]
     },
     "execution_count": 15,
     "metadata": {},
     "output_type": "execute_result"
    }
   ],
   "source": [
    "from pf_dash import get_hdi\n",
    "\n",
    "file = 'fund_f3y_s3y'\n",
    "path = 'data'\n",
    "df_ret = get_hdi(file, path, tickers=None, to_dict=False)\n",
    "df_ret.head()"
   ]
  },
  {
   "cell_type": "code",
   "execution_count": 13,
   "id": "6ce04e57-6b1f-4306-a04b-cb40037b13e3",
   "metadata": {},
   "outputs": [
    {
     "data": {
      "text/html": [
       "<div>\n",
       "<style scoped>\n",
       "    .dataframe tbody tr th:only-of-type {\n",
       "        vertical-align: middle;\n",
       "    }\n",
       "\n",
       "    .dataframe tbody tr th {\n",
       "        vertical-align: top;\n",
       "    }\n",
       "\n",
       "    .dataframe thead th {\n",
       "        text-align: right;\n",
       "    }\n",
       "</style>\n",
       "<table border=\"1\" class=\"dataframe\">\n",
       "  <thead>\n",
       "    <tr style=\"text-align: right;\">\n",
       "      <th></th>\n",
       "      <th>name</th>\n",
       "      <th>desc</th>\n",
       "      <th>label</th>\n",
       "    </tr>\n",
       "    <tr>\n",
       "      <th>ticker</th>\n",
       "      <th></th>\n",
       "      <th></th>\n",
       "      <th></th>\n",
       "    </tr>\n",
       "  </thead>\n",
       "  <tbody>\n",
       "    <tr>\n",
       "      <th>K55101BT4402</th>\n",
       "      <td>한국투자TDF알아서2030증권투자신탁(주식혼합-재간접형)(C-Re)</td>\n",
       "      <td>\"1. 투자목적\\n- 이 투자신탁은 장기적으로 투자자의 노후자금 마련을 위하여 국내...</td>\n",
       "      <td>TDF_주식_혼합_한국투자_글로벌</td>\n",
       "    </tr>\n",
       "    <tr>\n",
       "      <th>K55101BT4428</th>\n",
       "      <td>한국투자TDF알아서2035증권투자신탁(주식혼합-재간접형)(C-Re)</td>\n",
       "      <td>\"1. 투자목적\\n- 이 투자신탁은 장기적으로 투자자의 노후자금 마련을 위하여 국내...</td>\n",
       "      <td>TDF_주식_혼합_한국투자_글로벌</td>\n",
       "    </tr>\n",
       "    <tr>\n",
       "      <th>K55101BT4444</th>\n",
       "      <td>한국투자TDF알아서2045증권투자신탁(주식혼합-재간접형)(C-Re)</td>\n",
       "      <td>\"1. 투자목적\\n- 이 투자신탁은 장기적으로 투자자의 노후자금 마련을 위하여 국내...</td>\n",
       "      <td>TDF_주식_혼합_한국투자_글로벌</td>\n",
       "    </tr>\n",
       "    <tr>\n",
       "      <th>K55101BT7397</th>\n",
       "      <td>한국투자TDF알아서2040증권투자신탁(주식혼합-재간접형)(C-Re)</td>\n",
       "      <td>\"1. 투자목적\\n- 이 투자신탁은 장기적으로 투자자의 노후자금 마련을 위하여 국내...</td>\n",
       "      <td>TDF_주식_혼합_한국투자_글로벌</td>\n",
       "    </tr>\n",
       "    <tr>\n",
       "      <th>K55101BY3944</th>\n",
       "      <td>한국투자TIF알아서평생소득증권자투자신탁(채권혼합-재간접형)(C-Re)</td>\n",
       "      <td>\"1. 투자목적\\n- 이 투자신탁은 국내ㆍ외 집합투자증권에 주로 투자하는 모투자신탁...</td>\n",
       "      <td>TIF_채권_혼합_한국투자_글로벌</td>\n",
       "    </tr>\n",
       "  </tbody>\n",
       "</table>\n",
       "</div>"
      ],
      "text/plain": [
       "                                                name  \\\n",
       "ticker                                                 \n",
       "K55101BT4402   한국투자TDF알아서2030증권투자신탁(주식혼합-재간접형)(C-Re)   \n",
       "K55101BT4428   한국투자TDF알아서2035증권투자신탁(주식혼합-재간접형)(C-Re)   \n",
       "K55101BT4444   한국투자TDF알아서2045증권투자신탁(주식혼합-재간접형)(C-Re)   \n",
       "K55101BT7397   한국투자TDF알아서2040증권투자신탁(주식혼합-재간접형)(C-Re)   \n",
       "K55101BY3944  한국투자TIF알아서평생소득증권자투자신탁(채권혼합-재간접형)(C-Re)   \n",
       "\n",
       "                                                           desc  \\\n",
       "ticker                                                            \n",
       "K55101BT4402  \"1. 투자목적\\n- 이 투자신탁은 장기적으로 투자자의 노후자금 마련을 위하여 국내...   \n",
       "K55101BT4428  \"1. 투자목적\\n- 이 투자신탁은 장기적으로 투자자의 노후자금 마련을 위하여 국내...   \n",
       "K55101BT4444  \"1. 투자목적\\n- 이 투자신탁은 장기적으로 투자자의 노후자금 마련을 위하여 국내...   \n",
       "K55101BT7397  \"1. 투자목적\\n- 이 투자신탁은 장기적으로 투자자의 노후자금 마련을 위하여 국내...   \n",
       "K55101BY3944  \"1. 투자목적\\n- 이 투자신탁은 국내ㆍ외 집합투자증권에 주로 투자하는 모투자신탁...   \n",
       "\n",
       "                           label  \n",
       "ticker                            \n",
       "K55101BT4402  TDF_주식_혼합_한국투자_글로벌  \n",
       "K55101BT4428  TDF_주식_혼합_한국투자_글로벌  \n",
       "K55101BT4444  TDF_주식_혼합_한국투자_글로벌  \n",
       "K55101BT7397  TDF_주식_혼합_한국투자_글로벌  \n",
       "K55101BY3944  TIF_채권_혼합_한국투자_글로벌  "
      ]
     },
     "execution_count": 13,
     "metadata": {},
     "output_type": "execute_result"
    }
   ],
   "source": [
    "# load labels\n",
    "import pandas as pd\n",
    "\n",
    "file = 'funds_labels.csv'\n",
    "path_data = 'data'\n",
    "df_labels = pd.read_csv(f'{path_data}/{file}').set_index('ticker')\n",
    "#df_labels['label'].str.split('_', expand=True).stack().value_counts().sort_index().to_dict()\n",
    "df_labels.head()"
   ]
  },
  {
   "cell_type": "code",
   "execution_count": 81,
   "id": "6c24d1b0-dad2-43b9-8ea5-18dc03579eb6",
   "metadata": {},
   "outputs": [
    {
     "data": {
      "text/plain": [
       "Index(['name', 'seller', 'account', 'manager', 'asset', 'strategy', 'region'], dtype='object')"
      ]
     },
     "execution_count": 81,
     "metadata": {},
     "output_type": "execute_result"
    }
   ],
   "source": [
    "import pandas as pd\n",
    "\n",
    "file = 'funds_categories_250317.csv'\n",
    "path = 'data'\n",
    "df_cat = pd.read_csv(f'{path}/{file}').set_index('ticker')\n",
    "df_cat.columns"
   ]
  },
  {
   "cell_type": "markdown",
   "id": "16d0fe7e-4b3b-487e-bccb-218ea3a7be6f",
   "metadata": {},
   "source": [
    "### Review"
   ]
  },
  {
   "cell_type": "code",
   "execution_count": 67,
   "id": "f9b049c6-25c7-40d7-8fa1-f8eaf01a644c",
   "metadata": {},
   "outputs": [
    {
     "data": {
      "text/html": [
       "<div>\n",
       "<style scoped>\n",
       "    .dataframe tbody tr th:only-of-type {\n",
       "        vertical-align: middle;\n",
       "    }\n",
       "\n",
       "    .dataframe tbody tr th {\n",
       "        vertical-align: top;\n",
       "    }\n",
       "\n",
       "    .dataframe thead th {\n",
       "        text-align: right;\n",
       "    }\n",
       "</style>\n",
       "<table border=\"1\" class=\"dataframe\">\n",
       "  <thead>\n",
       "    <tr style=\"text-align: right;\">\n",
       "      <th></th>\n",
       "      <th>name</th>\n",
       "      <th>seller</th>\n",
       "      <th>account</th>\n",
       "      <th>manager</th>\n",
       "      <th>asset</th>\n",
       "      <th>strategy</th>\n",
       "      <th>region</th>\n",
       "    </tr>\n",
       "    <tr>\n",
       "      <th>ticker</th>\n",
       "      <th></th>\n",
       "      <th></th>\n",
       "      <th></th>\n",
       "      <th></th>\n",
       "      <th></th>\n",
       "      <th></th>\n",
       "      <th></th>\n",
       "    </tr>\n",
       "  </thead>\n",
       "  <tbody>\n",
       "    <tr>\n",
       "      <th>K55365BT3694</th>\n",
       "      <td>kcgi코리아퇴직연금증권자투자신탁(주식)종류C-Pe2</td>\n",
       "      <td>기업은행</td>\n",
       "      <td>퇴직연금</td>\n",
       "      <td>kcgi</td>\n",
       "      <td>주식</td>\n",
       "      <td>주식</td>\n",
       "      <td>국내</td>\n",
       "    </tr>\n",
       "  </tbody>\n",
       "</table>\n",
       "</div>"
      ],
      "text/plain": [
       "                                       name seller account manager asset  \\\n",
       "ticker                                                                     \n",
       "K55365BT3694  kcgi코리아퇴직연금증권자투자신탁(주식)종류C-Pe2   기업은행    퇴직연금    kcgi    주식   \n",
       "\n",
       "             strategy region  \n",
       "ticker                        \n",
       "K55365BT3694       주식     국내  "
      ]
     },
     "execution_count": 67,
     "metadata": {},
     "output_type": "execute_result"
    }
   ],
   "source": [
    "df_cat.loc[df_cat['name'].str.lower().str.contains('kcgi')]"
   ]
  },
  {
   "cell_type": "code",
   "execution_count": 82,
   "id": "fe46c4c0-e749-4d25-976d-62110e59df3c",
   "metadata": {},
   "outputs": [
    {
     "data": {
      "text/plain": [
       "False"
      ]
     },
     "execution_count": 82,
     "metadata": {},
     "output_type": "execute_result"
    }
   ],
   "source": [
    "df = {\n",
    "    'KR5303AL4276': ['마이다스거북이90증권자투자신탁 1(주식)Ce', '기업은행', '일반', '마이다스', '주식', '주식', '국내'],\n",
    "    'KR5207AW8081': ['교보악사Tomorrow장기우량증권투자신탁K -1(채권)ClassCE', '기업은행', '일반', '교보악사', '채권', '채권', '국내'],\n",
    "    'KR5232AT9794': ['NH-Amundi국채10년인덱스증권자투자신탁[채권]ClassCe', '기업은행', '일반', 'NH-Amundi', '채권', '인덱스', '국내'],\n",
    "    'K55101E95072': ['한국투자미국장기국채증권자투자신탁H(채권-재간접형)(C-e)', '기업은행', '일반', '한국투자', '채권', '채권', '미국'],\n",
    "    'KR5225A89035': ['미래에셋배당커버드콜액티브증권자투자신탁(주식혼합)종류C-e', '기업은행', '일반', '미래에셋', '혼합', '배당', '국내'],\n",
    "    'K55301BA7040': ['미래에셋글로벌솔루션증권자투자신탁(주식-재간접형)종류C-e', '기업은행', '일반', '미래에셋', '주식', '주식', '글로벌'],\n",
    "    'KR5236AN0936': ['한국밸류10년투자배당증권자투자신탁(주식)종류C-E', '기업은행', '일반', '한국밸류', '주식', '배당', '국내'],\n",
    "    'KR5209950314': ['신영밸류고배당증권자투자신탁(주식)e형', '기업은행', '일반', '신영', '주식', '배당', '국내'],\n",
    "    'KR5234769887': ['IBK골드마이닝증권자투자신탁 1[주식]종류Ce', '기업은행', '일반', 'IBK', '주식', '원자재', '글로벌'],\n",
    "    'K55240D58714': ['BNK삼성전자중소형증권투자신탁 1(주식)ClassC-e', '기업은행', '일반', 'BNK', '주식', '주식', '국내'],\n",
    "    'K55306BO8724': ['다올글로벌빅테크1등주증권투자신탁[주식]종류Ce', '기업은행', '일반', '다올', '주식', '기술', '글로벌'],\n",
    "    'KR5101753360': ['한국투자네비게이터증권투자신탁 1(주식)(C-e)', '기업은행', '일반', '한국투자', '주식', '주식', '국내'],\n",
    "    'KR5365AJ4440': ['KCGI코리아증권투자신탁 1[주식]종류Ce', '기업은행', '일반', 'KCGI', '주식', '주식', '국내'],\n",
    "    #'': ['', '기업은행', '일반', '', '', '', ''], # template\n",
    "}\n",
    "df = pd.DataFrame().from_dict(df, orient='index', columns=df_cat.columns).rename_axis('ticker')\n",
    "df_cat = pd.concat([df_cat, df])\n",
    "df_cat.index.duplicated().any()"
   ]
  },
  {
   "cell_type": "code",
   "execution_count": 63,
   "id": "7881c3b4-d6e8-42e6-aa0e-b7735f1bbb42",
   "metadata": {},
   "outputs": [
    {
     "data": {
      "text/plain": [
       "array(['TDF', 'TIF', '인덱스', '주식', 'EMP', '배당', '채권', '기술', 'ESG', 'MMF',\n",
       "       '리츠', '원자재'], dtype=object)"
      ]
     },
     "execution_count": 63,
     "metadata": {},
     "output_type": "execute_result"
    }
   ],
   "source": [
    "cat = 'strategy' #'manager' 'region' #'strategy'\n",
    "df_cat[cat].unique()"
   ]
  },
  {
   "cell_type": "code",
   "execution_count": 83,
   "id": "ac973ca6-cd8c-4806-a06a-5653bca656e0",
   "metadata": {},
   "outputs": [
    {
     "data": {
      "text/html": [
       "<div>\n",
       "<style scoped>\n",
       "    .dataframe tbody tr th:only-of-type {\n",
       "        vertical-align: middle;\n",
       "    }\n",
       "\n",
       "    .dataframe tbody tr th {\n",
       "        vertical-align: top;\n",
       "    }\n",
       "\n",
       "    .dataframe thead th {\n",
       "        text-align: right;\n",
       "    }\n",
       "</style>\n",
       "<table border=\"1\" class=\"dataframe\">\n",
       "  <thead>\n",
       "    <tr style=\"text-align: right;\">\n",
       "      <th></th>\n",
       "      <th>name</th>\n",
       "      <th>seller</th>\n",
       "      <th>account</th>\n",
       "      <th>manager</th>\n",
       "      <th>asset</th>\n",
       "      <th>strategy</th>\n",
       "      <th>region</th>\n",
       "    </tr>\n",
       "    <tr>\n",
       "      <th>ticker</th>\n",
       "      <th></th>\n",
       "      <th></th>\n",
       "      <th></th>\n",
       "      <th></th>\n",
       "      <th></th>\n",
       "      <th></th>\n",
       "      <th></th>\n",
       "    </tr>\n",
       "  </thead>\n",
       "  <tbody>\n",
       "    <tr>\n",
       "      <th>KR5234769887</th>\n",
       "      <td>IBK골드마이닝증권자투자신탁 1[주식]종류Ce</td>\n",
       "      <td>기업은행</td>\n",
       "      <td>일반</td>\n",
       "      <td>IBK</td>\n",
       "      <td>주식</td>\n",
       "      <td>원자재</td>\n",
       "      <td>글로벌</td>\n",
       "    </tr>\n",
       "    <tr>\n",
       "      <th>K55240D58714</th>\n",
       "      <td>BNK삼성전자중소형증권투자신탁 1(주식)ClassC-e</td>\n",
       "      <td>기업은행</td>\n",
       "      <td>일반</td>\n",
       "      <td>BNK</td>\n",
       "      <td>주식</td>\n",
       "      <td>주식</td>\n",
       "      <td>국내</td>\n",
       "    </tr>\n",
       "    <tr>\n",
       "      <th>K55306BO8724</th>\n",
       "      <td>다올글로벌빅테크1등주증권투자신탁[주식]종류Ce</td>\n",
       "      <td>기업은행</td>\n",
       "      <td>일반</td>\n",
       "      <td>다올</td>\n",
       "      <td>주식</td>\n",
       "      <td>기술</td>\n",
       "      <td>글로벌</td>\n",
       "    </tr>\n",
       "    <tr>\n",
       "      <th>KR5101753360</th>\n",
       "      <td>한국투자네비게이터증권투자신탁 1(주식)(C-e)</td>\n",
       "      <td>기업은행</td>\n",
       "      <td>일반</td>\n",
       "      <td>한국투자</td>\n",
       "      <td>주식</td>\n",
       "      <td>주식</td>\n",
       "      <td>국내</td>\n",
       "    </tr>\n",
       "    <tr>\n",
       "      <th>KR5365AJ4440</th>\n",
       "      <td>KCGI코리아증권투자신탁 1[주식]종류Ce</td>\n",
       "      <td>기업은행</td>\n",
       "      <td>일반</td>\n",
       "      <td>KCGI</td>\n",
       "      <td>주식</td>\n",
       "      <td>주식</td>\n",
       "      <td>국내</td>\n",
       "    </tr>\n",
       "  </tbody>\n",
       "</table>\n",
       "</div>"
      ],
      "text/plain": [
       "                                        name seller account manager asset  \\\n",
       "ticker                                                                      \n",
       "KR5234769887       IBK골드마이닝증권자투자신탁 1[주식]종류Ce   기업은행      일반     IBK    주식   \n",
       "K55240D58714  BNK삼성전자중소형증권투자신탁 1(주식)ClassC-e   기업은행      일반     BNK    주식   \n",
       "K55306BO8724       다올글로벌빅테크1등주증권투자신탁[주식]종류Ce   기업은행      일반      다올    주식   \n",
       "KR5101753360      한국투자네비게이터증권투자신탁 1(주식)(C-e)   기업은행      일반    한국투자    주식   \n",
       "KR5365AJ4440         KCGI코리아증권투자신탁 1[주식]종류Ce   기업은행      일반    KCGI    주식   \n",
       "\n",
       "             strategy region  \n",
       "ticker                        \n",
       "KR5234769887      원자재    글로벌  \n",
       "K55240D58714       주식     국내  \n",
       "K55306BO8724       기술    글로벌  \n",
       "KR5101753360       주식     국내  \n",
       "KR5365AJ4440       주식     국내  "
      ]
     },
     "execution_count": 83,
     "metadata": {},
     "output_type": "execute_result"
    }
   ],
   "source": [
    "df_cat.tail()"
   ]
  },
  {
   "cell_type": "code",
   "execution_count": 84,
   "id": "d7031e0d-b113-4c3d-90d0-b52185e5dba3",
   "metadata": {},
   "outputs": [],
   "source": [
    "file = 'funds_categories.csv'\n",
    "path = 'data'\n",
    "df_cat.to_csv(f'{path}/{file}')"
   ]
  },
  {
   "cell_type": "markdown",
   "id": "5b7c458d-d685-441b-84bf-c6ffb2f606b3",
   "metadata": {},
   "source": [
    "## Labeling"
   ]
  },
  {
   "cell_type": "code",
   "execution_count": 39,
   "id": "59921694-a2ce-4c5f-9893-428575b036e6",
   "metadata": {},
   "outputs": [],
   "source": [
    "import pandas as pd\n",
    "\n",
    "def set_groups(group, *words, cat=None, df_cat=None, column='name', casesense=True, overwrite=False, not_prefix='~'):\n",
    "    df_c = df_cat.copy()\n",
    "    df_w = df_c[column] if casesense else df_c[column].str.lower()\n",
    "    func = lambda x: df_w.index[df_w.fillna('N/A').str.contains(x)]\n",
    "    tkrs = df_w.index\n",
    "    if len(words) == 0:\n",
    "        words = [group]\n",
    "    for w in words:\n",
    "        w = w if casesense else w.lower()\n",
    "        if w.startswith(not_prefix):\n",
    "            tkrs = tkrs.difference(func(w[1:]))\n",
    "        else:\n",
    "            tkrs = tkrs.intersection(func(w))\n",
    "    # check if rows to update is none    \n",
    "    if not overwrite and cat in df_c.columns:\n",
    "        if df_c.loc[tkrs, cat].notna().any():\n",
    "            print(f'ERROR: check tickers for {group}')\n",
    "            return tkrs\n",
    "    df_c.loc[tkrs, cat] = group\n",
    "    return df_c"
   ]
  },
  {
   "cell_type": "code",
   "execution_count": 40,
   "id": "bfee15da-09f6-4c9b-ac5d-a0a09ef75c2b",
   "metadata": {
    "scrolled": true
   },
   "outputs": [
    {
     "data": {
      "text/plain": [
       "{'AB': 3,\n",
       " 'BNK': 1,\n",
       " 'EMP': 9,\n",
       " 'ESG': 12,\n",
       " 'IBK': 10,\n",
       " 'KB': 11,\n",
       " 'KCGI': 1,\n",
       " 'MMF': 4,\n",
       " 'NH-AMUNDI': 4,\n",
       " 'TDF': 62,\n",
       " 'TIF': 2,\n",
       " 'UH': 8,\n",
       " 'iM에셋': 2,\n",
       " '가치': 11,\n",
       " '공모주': 3,\n",
       " '광업': 1,\n",
       " '교보악사': 5,\n",
       " '국내': 6,\n",
       " '글로벌': 118,\n",
       " '금': 1,\n",
       " '금융': 2,\n",
       " '기술': 5,\n",
       " '다올': 4,\n",
       " '대신': 1,\n",
       " '로보틱스': 3,\n",
       " '리츠': 2,\n",
       " '마이다스': 4,\n",
       " '미국': 17,\n",
       " '미래에셋': 29,\n",
       " '반도체': 5,\n",
       " '배당': 10,\n",
       " '베트남': 4,\n",
       " '부품소재': 1,\n",
       " '브릭스': 2,\n",
       " '삼성': 21,\n",
       " '성장': 14,\n",
       " '소비': 3,\n",
       " '수소': 1,\n",
       " '슈로더': 2,\n",
       " '신영': 2,\n",
       " '신한': 7,\n",
       " '아시아': 11,\n",
       " '에너지': 1,\n",
       " '에셋플러스': 2,\n",
       " '우리': 3,\n",
       " '유럽': 2,\n",
       " '유리': 5,\n",
       " '유진': 3,\n",
       " '의료': 2,\n",
       " '이스트스프링': 2,\n",
       " '인덱스': 12,\n",
       " '인도': 7,\n",
       " '인프라': 1,\n",
       " '전기차': 2,\n",
       " '정보통신': 8,\n",
       " '주식': 165,\n",
       " '중국': 12,\n",
       " '채권': 79,\n",
       " '키움': 8,\n",
       " '테크': 1,\n",
       " '트러스톤': 2,\n",
       " '피델리티': 11,\n",
       " '하나': 13,\n",
       " '한국': 50,\n",
       " '한국밸류': 4,\n",
       " '한국투자': 21,\n",
       " '한화': 11,\n",
       " '혼합': 94}"
      ]
     },
     "execution_count": 40,
     "metadata": {},
     "output_type": "execute_result"
    }
   ],
   "source": [
    "df_labels['label'].str.split('_', expand=True).stack().value_counts().sort_index().to_dict()"
   ]
  },
  {
   "cell_type": "code",
   "execution_count": 24,
   "id": "0e6fa763-cb0e-4614-9146-24bdda72eaf4",
   "metadata": {},
   "outputs": [
    {
     "data": {
      "text/plain": [
       "Index(['desc', 'label', 'name', 'seller', 'account', 'manager', 'asset',\n",
       "       'strategy'],\n",
       "      dtype='object')"
      ]
     },
     "execution_count": 24,
     "metadata": {},
     "output_type": "execute_result"
    }
   ],
   "source": [
    "df_working = df_labels[['desc', 'label']].join(df_cat)\n",
    "#df_working = pd.read_csv('data/funds_catetories_w.csv').set_index('ticker')\n",
    "df_working.columns"
   ]
  },
  {
   "cell_type": "code",
   "execution_count": 25,
   "id": "49dab9a6-11df-4ee2-a335-d82de11a1831",
   "metadata": {},
   "outputs": [],
   "source": [
    "#cols_groups = ['seller', 'account']\n",
    "cols_groups = ['seller', 'account', 'manager', 'asset', 'strategy']"
   ]
  },
  {
   "cell_type": "code",
   "execution_count": 26,
   "id": "378f6a05-786b-44dd-b403-b23a65f5b379",
   "metadata": {},
   "outputs": [],
   "source": [
    "for col in cols_groups:\n",
    "    if df_working[col].isna().any():\n",
    "        print(f'WARNING: Check {col}')\n",
    "        break"
   ]
  },
  {
   "cell_type": "code",
   "execution_count": 27,
   "id": "6530fe70-513d-451b-8af2-4cf6a2d0f7b7",
   "metadata": {},
   "outputs": [
    {
     "data": {
      "text/html": [
       "<div>\n",
       "<style scoped>\n",
       "    .dataframe tbody tr th:only-of-type {\n",
       "        vertical-align: middle;\n",
       "    }\n",
       "\n",
       "    .dataframe tbody tr th {\n",
       "        vertical-align: top;\n",
       "    }\n",
       "\n",
       "    .dataframe thead th {\n",
       "        text-align: right;\n",
       "    }\n",
       "</style>\n",
       "<table border=\"1\" class=\"dataframe\">\n",
       "  <thead>\n",
       "    <tr style=\"text-align: right;\">\n",
       "      <th></th>\n",
       "      <th>desc</th>\n",
       "      <th>label</th>\n",
       "      <th>name</th>\n",
       "      <th>seller</th>\n",
       "      <th>account</th>\n",
       "      <th>manager</th>\n",
       "      <th>asset</th>\n",
       "      <th>strategy</th>\n",
       "    </tr>\n",
       "    <tr>\n",
       "      <th>ticker</th>\n",
       "      <th></th>\n",
       "      <th></th>\n",
       "      <th></th>\n",
       "      <th></th>\n",
       "      <th></th>\n",
       "      <th></th>\n",
       "      <th></th>\n",
       "      <th></th>\n",
       "    </tr>\n",
       "  </thead>\n",
       "  <tbody>\n",
       "  </tbody>\n",
       "</table>\n",
       "</div>"
      ],
      "text/plain": [
       "Empty DataFrame\n",
       "Columns: [desc, label, name, seller, account, manager, asset, strategy]\n",
       "Index: []"
      ]
     },
     "execution_count": 27,
     "metadata": {},
     "output_type": "execute_result"
    }
   ],
   "source": [
    "df_working.loc[df_working[col].isna()]"
   ]
  },
  {
   "cell_type": "markdown",
   "id": "0d539904-1128-4539-b493-99e6ded52a06",
   "metadata": {
    "jp-MarkdownHeadingCollapsed": true
   },
   "source": [
    "#### Manager"
   ]
  },
  {
   "cell_type": "code",
   "execution_count": null,
   "id": "dfbc1e0e-d09d-4845-90e3-1b1f8ce1a8bf",
   "metadata": {},
   "outputs": [],
   "source": [
    "df_working['name'].apply(lambda x: x[:2]).value_counts().index"
   ]
  },
  {
   "cell_type": "code",
   "execution_count": null,
   "id": "32bb5072-528e-47e7-ae9d-c5952a8e516f",
   "metadata": {},
   "outputs": [],
   "source": [
    "groups = ['미래에셋', '한국투자', '한국밸류', '삼성', '하나', '키움', 'KB', '한화', '피델리티', 'IBK', '신한', 'NH-Amundi', '유리',\n",
    "       '다올', '교보악사', '마이다스', '우리', '유진', 'AB', '슈로더', '트러스톤', 'iM에셋', '이스트스프링', '신영', '에셋플러스',\n",
    "       'BNK', 'kcgi', '대신']\n",
    "\n",
    "len(groups), len(set(groups))"
   ]
  },
  {
   "cell_type": "code",
   "execution_count": null,
   "id": "b81f1738-d396-4c65-973e-7a0824194e9a",
   "metadata": {},
   "outputs": [],
   "source": [
    "#df_working.loc[df_working['name'].str.startswith('한국')]"
   ]
  },
  {
   "cell_type": "code",
   "execution_count": null,
   "id": "835f97ae-ab22-4537-a9cc-7dd19fdb0215",
   "metadata": {},
   "outputs": [],
   "source": [
    "#df = df_working['name'].str.lower().apply(lambda x: sum([g.lower() in x for g in groups]))\n",
    "df = df_working['name'].str.lower().apply(lambda x: sum([x.startswith(g.lower()) for g in groups]))\n",
    "idx = df.loc[df != 1].index\n",
    "df_working.loc[idx]"
   ]
  },
  {
   "cell_type": "code",
   "execution_count": null,
   "id": "921f31bf-a7fa-4025-b879-59ff517dd775",
   "metadata": {},
   "outputs": [],
   "source": [
    "cat = 'manager'\n",
    "\n",
    "for g in groups:\n",
    "    df_working = set_groups(g, f'^{g}', cat=cat, df_cat=df_working)\n",
    "\n",
    "df_working.fillna('N/A').groupby(cat)['name'].count()"
   ]
  },
  {
   "cell_type": "code",
   "execution_count": null,
   "id": "a13e0cfe-bd3e-4404-96b7-f8549981fd15",
   "metadata": {},
   "outputs": [],
   "source": [
    "cols_groups.append(cat)\n",
    "cols_groups"
   ]
  },
  {
   "cell_type": "markdown",
   "id": "4518bbd1-20b3-4bb6-9e36-44c154621f7c",
   "metadata": {},
   "source": [
    "#### Asset"
   ]
  },
  {
   "cell_type": "code",
   "execution_count": null,
   "id": "2337b40e-facd-4e5e-b094-0257a0f7e1c5",
   "metadata": {},
   "outputs": [],
   "source": [
    "cat = 'asset'\n",
    "column = 'label'\n",
    "\n",
    "group = '혼합'\n",
    "word = group\n",
    "df = set_groups(group, word, cat=cat, df_cat=df_working, column=column)\n",
    "df.fillna('N/A').groupby(cat)['name'].count()"
   ]
  },
  {
   "cell_type": "code",
   "execution_count": null,
   "id": "be7eda42-6041-4501-8ead-5c5321b79f33",
   "metadata": {},
   "outputs": [],
   "source": [
    "group = '주식'\n",
    "words = ['주식', '~혼합']\n",
    "df = set_groups(group, *words, cat=cat, df_cat=df, column=column)\n",
    "df.fillna('N/A').groupby(cat)['name'].count()"
   ]
  },
  {
   "cell_type": "code",
   "execution_count": null,
   "id": "415be990-a97d-4e6f-a25f-9a5299e0707f",
   "metadata": {},
   "outputs": [],
   "source": [
    "group = '채권'\n",
    "words = ['채권', '~주식', '~혼합']\n",
    "df = set_groups(group, *words, cat=cat, df_cat=df, column=column)\n",
    "df.fillna('N/A').groupby(cat)['name'].count()"
   ]
  },
  {
   "cell_type": "code",
   "execution_count": null,
   "id": "12c275ad-c607-43ab-b5fd-451b91df486b",
   "metadata": {},
   "outputs": [],
   "source": [
    "group = 'MMF'\n",
    "words = ['MMF', '~채권', '~주식', '~혼합']\n",
    "df = set_groups(group, *words, cat=cat, df_cat=df, column=column)\n",
    "df.fillna('N/A').groupby(cat)['name'].count()"
   ]
  },
  {
   "cell_type": "code",
   "execution_count": null,
   "id": "6708d8f6-f584-4482-8892-227f54508677",
   "metadata": {},
   "outputs": [],
   "source": [
    "group = '리츠'\n",
    "words = ['리츠', '~채권', '~주식', '~혼합']\n",
    "df = set_groups(group, *words, cat=cat, df_cat=df, column=column)\n",
    "df.fillna('N/A').groupby(cat)['name'].count()"
   ]
  },
  {
   "cell_type": "code",
   "execution_count": null,
   "id": "34791951-2d0f-4e67-99d0-b7125ddac59a",
   "metadata": {},
   "outputs": [],
   "source": [
    "group = '원자재'\n",
    "words = ['금', '~채권', '~주식', '~혼합']\n",
    "df = set_groups(group, *words, cat=cat, df_cat=df, column=column)\n",
    "df.fillna('N/A').groupby(cat)['name'].count()"
   ]
  },
  {
   "cell_type": "code",
   "execution_count": null,
   "id": "91142662-41b9-4ae7-a5fe-0c2de6b47734",
   "metadata": {},
   "outputs": [],
   "source": [
    "df_working = df"
   ]
  },
  {
   "cell_type": "code",
   "execution_count": null,
   "id": "2e451d90-dbe7-438c-a57b-9001852569fe",
   "metadata": {
    "scrolled": true
   },
   "outputs": [],
   "source": [
    "#df.loc[df[cat].isna()].to_csv('data/funds_working.csv')"
   ]
  },
  {
   "cell_type": "code",
   "execution_count": null,
   "id": "bcd86645-6464-43f7-96b9-2a6acc61888d",
   "metadata": {},
   "outputs": [],
   "source": [
    "#df_w = pd.read_csv('data/funds_working.csv').set_index('ticker')\n",
    "#df_w"
   ]
  },
  {
   "cell_type": "code",
   "execution_count": null,
   "id": "c9ad7d88-dcd6-408b-9e15-08d09a7683a5",
   "metadata": {},
   "outputs": [],
   "source": [
    "#df_working.loc[df_w.index, 'label'].isna().all()\n",
    "\n",
    "#df_working.loc[df_w.index, 'label'] = df_w['label']"
   ]
  },
  {
   "cell_type": "code",
   "execution_count": null,
   "id": "a86fee54-5c17-4bf9-88f0-69fcbc0755ca",
   "metadata": {},
   "outputs": [],
   "source": [
    "#df_working.loc[df_w.index, 'label']"
   ]
  },
  {
   "cell_type": "code",
   "execution_count": null,
   "id": "b96a223c-3fe0-4292-8a2a-6c571f2be9b2",
   "metadata": {},
   "outputs": [],
   "source": []
  },
  {
   "cell_type": "markdown",
   "id": "fb21e4ca-62a6-4289-b60a-72c463b292f1",
   "metadata": {
    "jp-MarkdownHeadingCollapsed": true
   },
   "source": [
    "#### Strategy"
   ]
  },
  {
   "cell_type": "code",
   "execution_count": null,
   "id": "a40f9fb4-89f8-443a-bf79-2869a2f40ebd",
   "metadata": {},
   "outputs": [],
   "source": [
    "df_working.columns"
   ]
  },
  {
   "cell_type": "code",
   "execution_count": null,
   "id": "ba84e1b8-cb40-49df-88e3-7715906e8dc3",
   "metadata": {},
   "outputs": [],
   "source": [
    "cat = 'strategy'\n",
    "column = 'label'\n",
    "\n",
    "group = 'TDF'\n",
    "word = group\n",
    "df = set_groups(group, word, cat=cat, df_cat=df_working, column=column)\n",
    "df.fillna('N/A').groupby(cat)['name'].count()"
   ]
  },
  {
   "cell_type": "code",
   "execution_count": null,
   "id": "7bba67ed-c8b4-4d26-a725-7f8026b8ed5a",
   "metadata": {},
   "outputs": [],
   "source": [
    "group = 'TIF'\n",
    "word = group\n",
    "df = set_groups(group, word, cat=cat, df_cat=df, column=column)\n",
    "df.fillna('N/A').groupby(cat)['name'].count()"
   ]
  },
  {
   "cell_type": "code",
   "execution_count": null,
   "id": "eede0b42-5992-4019-9218-1919cc0a1679",
   "metadata": {},
   "outputs": [],
   "source": [
    "group = 'ESG'\n",
    "word = group\n",
    "df = set_groups(group, word, cat=cat, df_cat=df, column=column)\n",
    "df.fillna('N/A').groupby(cat)['name'].count()"
   ]
  },
  {
   "cell_type": "code",
   "execution_count": null,
   "id": "a142b031-2dcb-47c9-9528-2ecca1b1f568",
   "metadata": {},
   "outputs": [],
   "source": [
    "group = '기술'\n",
    "word_tech = '기술|로보틱스|반도체|부품소재|전기차|정보통신|테크|수소|의료'\n",
    "df = set_groups(group, word_tech, cat=cat, df_cat=df, column=column)\n",
    "df.fillna('N/A').groupby(cat)['name'].count()"
   ]
  },
  {
   "cell_type": "code",
   "execution_count": null,
   "id": "952a6856-e8de-4b4c-b959-9401bb71dcc2",
   "metadata": {},
   "outputs": [],
   "source": [
    "group = 'EMP'\n",
    "words = ['EMP', f'~{word_tech}']\n",
    "df = set_groups(group, *words, cat=cat, df_cat=df, column=column)\n",
    "df.fillna('N/A').groupby(cat)['name'].count()"
   ]
  },
  {
   "cell_type": "code",
   "execution_count": null,
   "id": "9e64d288-54ad-484e-a69f-24deef5808ec",
   "metadata": {},
   "outputs": [],
   "source": [
    "group = '인덱스'\n",
    "words = [group, f'~{word_tech}']\n",
    "df = set_groups(group, *words, cat=cat, df_cat=df, column=column)\n",
    "df.fillna('N/A').groupby(cat)['name'].count()"
   ]
  },
  {
   "cell_type": "code",
   "execution_count": null,
   "id": "663c0b5e-ee0b-4979-93e7-12fcc342fb03",
   "metadata": {},
   "outputs": [],
   "source": [
    "group = '배당'\n",
    "words = [group, f'~{word_tech}', '~EMP']\n",
    "df = set_groups(group, *words, cat=cat, df_cat=df, column=column)\n",
    "df.fillna('N/A').groupby(cat)['name'].count()"
   ]
  },
  {
   "cell_type": "code",
   "execution_count": null,
   "id": "d189abc1-bf5f-4fe9-8d87-0558a7b5b240",
   "metadata": {},
   "outputs": [],
   "source": [
    "group = '채권'\n",
    "\n",
    "cond = df[cat].isna()\n",
    "cond = cond & df['label'].str.contains('채권')\n",
    "\n",
    "df.loc[cond, cat] = group\n",
    "df.fillna('N/A').groupby(cat)['name'].count()"
   ]
  },
  {
   "cell_type": "code",
   "execution_count": null,
   "id": "9068a03b-2364-45c7-acce-a071ce53f4a2",
   "metadata": {},
   "outputs": [],
   "source": [
    "group = '주식'\n",
    "\n",
    "cond = df[cat].isna()\n",
    "cond = cond & df['label'].str.contains('주식')\n",
    "\n",
    "df.loc[cond, cat] = group\n",
    "df.fillna('N/A').groupby(cat)['name'].count()"
   ]
  },
  {
   "cell_type": "code",
   "execution_count": null,
   "id": "e70767de-305b-42cb-9cb4-fc7f15c462c5",
   "metadata": {},
   "outputs": [],
   "source": [
    "df.loc[df['asset'].isin(['MMF', '리츠', '원자재']), cat].isna().all()"
   ]
  },
  {
   "cell_type": "code",
   "execution_count": null,
   "id": "9f7d7269-7ddd-430e-81dd-fbe361763238",
   "metadata": {},
   "outputs": [],
   "source": [
    "tkrs = df.loc[df['asset'].isin(['MMF', '리츠', '원자재']), cat].index\n",
    "df.loc[tkrs, cat] = df.loc[tkrs, 'asset']"
   ]
  },
  {
   "cell_type": "code",
   "execution_count": null,
   "id": "1b729aef-37eb-4e71-a8ab-acfc6aacb7dd",
   "metadata": {},
   "outputs": [],
   "source": [
    "#df_working.loc[df, ['name', column]]\n",
    "#df.fillna('N/A').groupby('asset')['name'].count()"
   ]
  },
  {
   "cell_type": "code",
   "execution_count": null,
   "id": "53e535b0-5203-4d7b-8d02-980512287961",
   "metadata": {},
   "outputs": [],
   "source": [
    "df.loc[df[cat].isna(), ['name', column, 'asset']]\n",
    "#df.loc[df[cat].isna(), column].notna().all()\n",
    "#df.loc[df[cat].isna(), column].str.split('_', expand=True).stack().value_counts().sort_index().to_dict()\n",
    "\n",
    "#cond = df[column].str.contains('주식')\n",
    "#cond = df['name'].str.contains('배당|인컴')\n",
    "#cond = cond & df[cat].isna()\n",
    "#df.loc[cond, ['name', column, 'asset']]"
   ]
  },
  {
   "cell_type": "code",
   "execution_count": null,
   "id": "0eb3164e-95a5-43d9-8e03-52317beb0319",
   "metadata": {},
   "outputs": [],
   "source": [
    "df_working = df"
   ]
  },
  {
   "cell_type": "markdown",
   "id": "12417096-e1c1-46bb-aee7-3a17c57ec6de",
   "metadata": {},
   "source": [
    "#### Region"
   ]
  },
  {
   "cell_type": "code",
   "execution_count": 37,
   "id": "b38ad2d2-8f2b-4819-a1cb-047228803d3f",
   "metadata": {},
   "outputs": [
    {
     "data": {
      "text/plain": [
       "Index(['desc', 'label', 'name', 'seller', 'account', 'manager', 'asset',\n",
       "       'strategy'],\n",
       "      dtype='object')"
      ]
     },
     "execution_count": 37,
     "metadata": {},
     "output_type": "execute_result"
    }
   ],
   "source": [
    "df_working.columns"
   ]
  },
  {
   "cell_type": "code",
   "execution_count": 82,
   "id": "cc55941e-0e79-4463-af20-f18023865d75",
   "metadata": {},
   "outputs": [
    {
     "data": {
      "text/plain": [
       "region\n",
       "N/A    111\n",
       "글로벌    118\n",
       "Name: name, dtype: int64"
      ]
     },
     "execution_count": 82,
     "metadata": {},
     "output_type": "execute_result"
    }
   ],
   "source": [
    "cat = 'region'\n",
    "column = 'label'\n",
    "\n",
    "group = '글로벌'\n",
    "word = group\n",
    "df = set_groups(group, word, cat=cat, df_cat=df_working, column=column)\n",
    "df.fillna('N/A').groupby(cat)['name'].count()"
   ]
  },
  {
   "cell_type": "code",
   "execution_count": 83,
   "id": "aca7fbc0-c9a7-40a5-9a1b-4107f0bf92ed",
   "metadata": {},
   "outputs": [
    {
     "data": {
      "text/plain": [
       "region\n",
       "N/A     65\n",
       "국내      46\n",
       "글로벌    118\n",
       "Name: name, dtype: int64"
      ]
     },
     "execution_count": 83,
     "metadata": {},
     "output_type": "execute_result"
    }
   ],
   "source": [
    "group = '국내'\n",
    "words = ['한국', '~한국밸류', '~한국투자']\n",
    "df = set_groups(group, *words, cat=cat, df_cat=df, column=column)\n",
    "df.fillna('N/A').groupby(cat)['name'].count()"
   ]
  },
  {
   "cell_type": "code",
   "execution_count": 84,
   "id": "c770ce1e-bdd1-4a9b-99c8-506d4ddaf306",
   "metadata": {},
   "outputs": [
    {
     "data": {
      "text/plain": [
       "region\n",
       "N/A     59\n",
       "국내      52\n",
       "글로벌    118\n",
       "Name: name, dtype: int64"
      ]
     },
     "execution_count": 84,
     "metadata": {},
     "output_type": "execute_result"
    }
   ],
   "source": [
    "group = '국내'\n",
    "words = [group]\n",
    "df = set_groups(group, *words, cat=cat, df_cat=df, column=column)\n",
    "df.fillna('N/A').groupby(cat)['name'].count()"
   ]
  },
  {
   "cell_type": "code",
   "execution_count": 85,
   "id": "8bfcb1fa-b3a6-441e-9f0d-638bd94e6057",
   "metadata": {},
   "outputs": [
    {
     "data": {
      "text/plain": [
       "region\n",
       "N/A     42\n",
       "국내      52\n",
       "글로벌    118\n",
       "미국      17\n",
       "Name: name, dtype: int64"
      ]
     },
     "execution_count": 85,
     "metadata": {},
     "output_type": "execute_result"
    }
   ],
   "source": [
    "group = '미국'\n",
    "words = [group]\n",
    "df = set_groups(group, *words, cat=cat, df_cat=df, column=column)\n",
    "df.fillna('N/A').groupby(cat)['name'].count()"
   ]
  },
  {
   "cell_type": "code",
   "execution_count": 97,
   "id": "c7fb8cf6-cd94-44c3-bc8d-74fc0e907123",
   "metadata": {},
   "outputs": [
    {
     "data": {
      "text/plain": [
       "region\n",
       "N/A     11\n",
       "국내      56\n",
       "글로벌    118\n",
       "미국      17\n",
       "아시아     25\n",
       "유럽       2\n",
       "Name: name, dtype: int64"
      ]
     },
     "execution_count": 97,
     "metadata": {},
     "output_type": "execute_result"
    }
   ],
   "source": [
    "group = '유럽'\n",
    "words = [group]\n",
    "df = set_groups(group, *words, cat=cat, df_cat=df, column=column)\n",
    "df.fillna('N/A').groupby(cat)['name'].count()"
   ]
  },
  {
   "cell_type": "code",
   "execution_count": 86,
   "id": "f0e3c438-2bd5-4ada-a6e5-1c697f493301",
   "metadata": {},
   "outputs": [
    {
     "data": {
      "text/plain": [
       "region\n",
       "N/A     17\n",
       "국내      52\n",
       "글로벌    118\n",
       "미국      17\n",
       "아시아     25\n",
       "Name: name, dtype: int64"
      ]
     },
     "execution_count": 86,
     "metadata": {},
     "output_type": "execute_result"
    }
   ],
   "source": [
    "group = '아시아'\n",
    "words = ['중국|아시아|인도|베트남|브릭스']\n",
    "df = set_groups(group, *words, cat=cat, df_cat=df, column=column)\n",
    "df.fillna('N/A').groupby(cat)['name'].count()"
   ]
  },
  {
   "cell_type": "code",
   "execution_count": 95,
   "id": "5a1f3c64-8c7f-4719-8765-e121e31216d9",
   "metadata": {},
   "outputs": [],
   "source": [
    "cond = df[cat].isna()\n",
    "cond = cond & df['label'].str.replace('한국밸류', '').str.replace('한국투자', '').str.contains('한국')\n",
    "df.loc[cond, ['name', 'label']]\n",
    "df.loc[cond, cat] = '국내'"
   ]
  },
  {
   "cell_type": "code",
   "execution_count": 98,
   "id": "c031068a-2d1b-46e2-87bc-4d97c306822b",
   "metadata": {},
   "outputs": [
    {
     "data": {
      "text/html": [
       "<div>\n",
       "<style scoped>\n",
       "    .dataframe tbody tr th:only-of-type {\n",
       "        vertical-align: middle;\n",
       "    }\n",
       "\n",
       "    .dataframe tbody tr th {\n",
       "        vertical-align: top;\n",
       "    }\n",
       "\n",
       "    .dataframe thead th {\n",
       "        text-align: right;\n",
       "    }\n",
       "</style>\n",
       "<table border=\"1\" class=\"dataframe\">\n",
       "  <thead>\n",
       "    <tr style=\"text-align: right;\">\n",
       "      <th></th>\n",
       "      <th>name</th>\n",
       "      <th>label</th>\n",
       "    </tr>\n",
       "    <tr>\n",
       "      <th>ticker</th>\n",
       "      <th></th>\n",
       "      <th></th>\n",
       "    </tr>\n",
       "  </thead>\n",
       "  <tbody>\n",
       "    <tr>\n",
       "      <th>K55101CH6269</th>\n",
       "      <td>한국투자크레딧포커스ESG증권자투자신탁 1(채권)(C-Pe)</td>\n",
       "      <td>채권_ESG_한국투자</td>\n",
       "    </tr>\n",
       "    <tr>\n",
       "      <th>K55102C13374</th>\n",
       "      <td>하나PIMCO글로벌인컴혼합자산자투자신탁(H)[재간접형]ClassC-PE</td>\n",
       "      <td>혼합_하나_채권</td>\n",
       "    </tr>\n",
       "    <tr>\n",
       "      <th>K55229BT3864</th>\n",
       "      <td>이스트스프링개인신종MMF 1[국공채]클래스C-P2(연금저축)E</td>\n",
       "      <td>MMF_채권_이스트스프링</td>\n",
       "    </tr>\n",
       "    <tr>\n",
       "      <th>K55229BX9378</th>\n",
       "      <td>이스트스프링골드리치특별자산투자신탁[금-파생형]클래스C-P2(연금저축)E</td>\n",
       "      <td>금_이스트스프링</td>\n",
       "    </tr>\n",
       "    <tr>\n",
       "      <th>K55236BG3001</th>\n",
       "      <td>한국밸류10년투자증권투자신탁 1(채권혼합)종류C-Pe</td>\n",
       "      <td>채권_혼합_한국밸류</td>\n",
       "    </tr>\n",
       "    <tr>\n",
       "      <th>K55236BG3266</th>\n",
       "      <td>한국밸류10년투자연금증권전환형자투자신탁 1(채권)종류C-E</td>\n",
       "      <td>채권_한국밸류</td>\n",
       "    </tr>\n",
       "    <tr>\n",
       "      <th>KR5101AT3563</th>\n",
       "      <td>한국투자골드플랜연금증권전환형투자신탁 1(국공채)(C-e)</td>\n",
       "      <td>채권_한국투자</td>\n",
       "    </tr>\n",
       "    <tr>\n",
       "      <th>KR5101AU0509</th>\n",
       "      <td>한국투자삼성TOP3증권자투자신탁 1(채권혼합)(C-Pe)</td>\n",
       "      <td>채권_혼합_한국투자</td>\n",
       "    </tr>\n",
       "    <tr>\n",
       "      <th>KR5301AT1987</th>\n",
       "      <td>미래에셋글로벌다이나믹연금증권전환형자투자신탁 1(채권)종류C-e</td>\n",
       "      <td>채권_미래에셋</td>\n",
       "    </tr>\n",
       "    <tr>\n",
       "      <th>KR5101888398</th>\n",
       "      <td>한국투자크레딧포커스ESG증권자투자신탁 1(채권)(C-e)</td>\n",
       "      <td>채권_ESG_한국투자</td>\n",
       "    </tr>\n",
       "    <tr>\n",
       "      <th>KR5236AS4826</th>\n",
       "      <td>한국밸류10년투자증권투자신탁 1(채권혼합)종류C-E</td>\n",
       "      <td>채권_혼합_한국밸류</td>\n",
       "    </tr>\n",
       "  </tbody>\n",
       "</table>\n",
       "</div>"
      ],
      "text/plain": [
       "                                                 name          label\n",
       "ticker                                                              \n",
       "K55101CH6269         한국투자크레딧포커스ESG증권자투자신탁 1(채권)(C-Pe)    채권_ESG_한국투자\n",
       "K55102C13374  하나PIMCO글로벌인컴혼합자산자투자신탁(H)[재간접형]ClassC-PE       혼합_하나_채권\n",
       "K55229BT3864       이스트스프링개인신종MMF 1[국공채]클래스C-P2(연금저축)E  MMF_채권_이스트스프링\n",
       "K55229BX9378  이스트스프링골드리치특별자산투자신탁[금-파생형]클래스C-P2(연금저축)E       금_이스트스프링\n",
       "K55236BG3001            한국밸류10년투자증권투자신탁 1(채권혼합)종류C-Pe     채권_혼합_한국밸류\n",
       "K55236BG3266         한국밸류10년투자연금증권전환형자투자신탁 1(채권)종류C-E        채권_한국밸류\n",
       "KR5101AT3563          한국투자골드플랜연금증권전환형투자신탁 1(국공채)(C-e)        채권_한국투자\n",
       "KR5101AU0509          한국투자삼성TOP3증권자투자신탁 1(채권혼합)(C-Pe)     채권_혼합_한국투자\n",
       "KR5301AT1987       미래에셋글로벌다이나믹연금증권전환형자투자신탁 1(채권)종류C-e        채권_미래에셋\n",
       "KR5101888398          한국투자크레딧포커스ESG증권자투자신탁 1(채권)(C-e)    채권_ESG_한국투자\n",
       "KR5236AS4826             한국밸류10년투자증권투자신탁 1(채권혼합)종류C-E     채권_혼합_한국밸류"
      ]
     },
     "execution_count": 98,
     "metadata": {},
     "output_type": "execute_result"
    }
   ],
   "source": [
    "cond = df[cat].isna()\n",
    "df.loc[cond, ['name', 'label']]"
   ]
  },
  {
   "cell_type": "code",
   "execution_count": 102,
   "id": "383e72c2-3b72-4ce5-a8ac-7ad317a0a33b",
   "metadata": {},
   "outputs": [],
   "source": [
    "df.columns\n",
    "cols = ['name', 'seller', 'account', 'manager', 'asset',\n",
    "       'strategy', 'region']"
   ]
  },
  {
   "cell_type": "code",
   "execution_count": 103,
   "id": "78fd5caf-7f14-49ca-a6bb-e73eee2e37cf",
   "metadata": {},
   "outputs": [],
   "source": [
    "df[cols].to_csv('data/funds_categories_w.csv')"
   ]
  },
  {
   "cell_type": "code",
   "execution_count": 65,
   "id": "8d2055b1-4d45-4d5d-8c91-7e3ab4412da7",
   "metadata": {
    "scrolled": true
   },
   "outputs": [
    {
     "data": {
      "text/plain": [
       "{'채권': 14,\n",
       " '주식': 10,\n",
       " '한국투자': 9,\n",
       " '혼합': 6,\n",
       " '국내': 6,\n",
       " '한국밸류': 4,\n",
       " '한국': 4,\n",
       " '가치': 3,\n",
       " 'ESG': 3,\n",
       " '이스트스프링': 2,\n",
       " '유럽': 2,\n",
       " '미국': 2,\n",
       " '배당': 2,\n",
       " '피델리티': 1,\n",
       " '슈로더': 1,\n",
       " 'MMF': 1,\n",
       " '금': 1,\n",
       " '하나': 1,\n",
       " 'UH': 1,\n",
       " '미래에셋': 1}"
      ]
     },
     "execution_count": 65,
     "metadata": {},
     "output_type": "execute_result"
    }
   ],
   "source": [
    "(df.loc[df[cat].isna(), 'label'].str.split('_', expand=True).stack().value_counts()\n",
    " #.sort_index()\n",
    " .sort_values(ascending=False)\n",
    " .to_dict())"
   ]
  },
  {
   "cell_type": "code",
   "execution_count": 76,
   "id": "1fbff55a-b9b3-42bb-912a-20001c10652f",
   "metadata": {},
   "outputs": [
    {
     "data": {
      "text/html": [
       "<div>\n",
       "<style scoped>\n",
       "    .dataframe tbody tr th:only-of-type {\n",
       "        vertical-align: middle;\n",
       "    }\n",
       "\n",
       "    .dataframe tbody tr th {\n",
       "        vertical-align: top;\n",
       "    }\n",
       "\n",
       "    .dataframe thead th {\n",
       "        text-align: right;\n",
       "    }\n",
       "</style>\n",
       "<table border=\"1\" class=\"dataframe\">\n",
       "  <thead>\n",
       "    <tr style=\"text-align: right;\">\n",
       "      <th></th>\n",
       "      <th>name</th>\n",
       "      <th>label</th>\n",
       "    </tr>\n",
       "    <tr>\n",
       "      <th>ticker</th>\n",
       "      <th></th>\n",
       "      <th></th>\n",
       "    </tr>\n",
       "  </thead>\n",
       "  <tbody>\n",
       "    <tr>\n",
       "      <th>K55101BT4402</th>\n",
       "      <td>한국투자TDF알아서2030증권투자신탁(주식혼합-재간접형)(C-Re)</td>\n",
       "      <td>TDF_주식_혼합_한국투자_글로벌</td>\n",
       "    </tr>\n",
       "    <tr>\n",
       "      <th>K55101BT4428</th>\n",
       "      <td>한국투자TDF알아서2035증권투자신탁(주식혼합-재간접형)(C-Re)</td>\n",
       "      <td>TDF_주식_혼합_한국투자_글로벌</td>\n",
       "    </tr>\n",
       "    <tr>\n",
       "      <th>K55101BT4444</th>\n",
       "      <td>한국투자TDF알아서2045증권투자신탁(주식혼합-재간접형)(C-Re)</td>\n",
       "      <td>TDF_주식_혼합_한국투자_글로벌</td>\n",
       "    </tr>\n",
       "    <tr>\n",
       "      <th>K55101BT7397</th>\n",
       "      <td>한국투자TDF알아서2040증권투자신탁(주식혼합-재간접형)(C-Re)</td>\n",
       "      <td>TDF_주식_혼합_한국투자_글로벌</td>\n",
       "    </tr>\n",
       "    <tr>\n",
       "      <th>K55101BY3944</th>\n",
       "      <td>한국투자TIF알아서평생소득증권자투자신탁(채권혼합-재간접형)(C-Re)</td>\n",
       "      <td>TIF_채권_혼합_한국투자_글로벌</td>\n",
       "    </tr>\n",
       "    <tr>\n",
       "      <th>K55101CU1644</th>\n",
       "      <td>한국투자TDF알아서2050증권자투자신탁H(주식혼합-재간접형)(C-Re)</td>\n",
       "      <td>TDF_주식_혼합_한국투자_글로벌</td>\n",
       "    </tr>\n",
       "    <tr>\n",
       "      <th>K55101BT4394</th>\n",
       "      <td>한국투자TDF알아서2030증권투자신탁(주식혼합-재간접형)(C-Pe)</td>\n",
       "      <td>TDF_주식_혼합_한국투자_글로벌</td>\n",
       "    </tr>\n",
       "    <tr>\n",
       "      <th>K55101BD5217</th>\n",
       "      <td>한국투자웰링턴글로벌퀄리티증권자투자신탁H(주식)(C-Pe)</td>\n",
       "      <td>주식_글로벌_가치_한국투자</td>\n",
       "    </tr>\n",
       "    <tr>\n",
       "      <th>K55101BX0164</th>\n",
       "      <td>한국투자글로벌전기차&amp;배터리증권투자신탁(주식)(C-Pe)</td>\n",
       "      <td>주식_글로벌_전기차_한국투자</td>\n",
       "    </tr>\n",
       "    <tr>\n",
       "      <th>K55101BZ1079</th>\n",
       "      <td>한국투자월스트리트투자은행증권투자신탁 1(주식)(C-Pe)</td>\n",
       "      <td>주식_글로벌_금융_한국투자</td>\n",
       "    </tr>\n",
       "    <tr>\n",
       "      <th>K55101CH6269</th>\n",
       "      <td>한국투자크레딧포커스ESG증권자투자신탁 1(채권)(C-Pe)</td>\n",
       "      <td>채권_ESG_한국투자</td>\n",
       "    </tr>\n",
       "    <tr>\n",
       "      <th>K55101D20676</th>\n",
       "      <td>한국투자미국배당귀족증권자투자신탁H(주식)(C-Pe)</td>\n",
       "      <td>배당_주식_미국_한국투자</td>\n",
       "    </tr>\n",
       "    <tr>\n",
       "      <th>K55101D20874</th>\n",
       "      <td>한국투자미국배당귀족증권자투자신탁UH(주식)(C-Pe)</td>\n",
       "      <td>배당_주식_미국_한국투자_UH</td>\n",
       "    </tr>\n",
       "    <tr>\n",
       "      <th>KR5101AT3514</th>\n",
       "      <td>한국투자골드플랜글로벌이머징연금증권전환형자투자신탁 1(주식)(C-e)</td>\n",
       "      <td>주식_브릭스_아시아_한국투자</td>\n",
       "    </tr>\n",
       "    <tr>\n",
       "      <th>KR5101AT3522</th>\n",
       "      <td>한국투자골드플랜네비게이터연금증권전환형투자신탁 1(주식)(C-e)</td>\n",
       "      <td>주식_한국_한국투자_가치</td>\n",
       "    </tr>\n",
       "    <tr>\n",
       "      <th>KR5101AT3548</th>\n",
       "      <td>한국투자골드플랜브릭스연금증권전환형자투자신탁 1(주식)(C-e)</td>\n",
       "      <td>주식_브릭스_한국투자</td>\n",
       "    </tr>\n",
       "    <tr>\n",
       "      <th>KR5101AT3563</th>\n",
       "      <td>한국투자골드플랜연금증권전환형투자신탁 1(국공채)(C-e)</td>\n",
       "      <td>채권_한국투자</td>\n",
       "    </tr>\n",
       "    <tr>\n",
       "      <th>KR5101AT3571</th>\n",
       "      <td>한국투자골드플랜연금증권전환형투자신탁 1(주식)(C-e)</td>\n",
       "      <td>주식_한국_한국투자_가치</td>\n",
       "    </tr>\n",
       "    <tr>\n",
       "      <th>KR5101AT3589</th>\n",
       "      <td>한국투자골드플랜연금증권전환형투자신탁 1(주식혼합)(C-e)</td>\n",
       "      <td>주식_혼합_한국투자_한국</td>\n",
       "    </tr>\n",
       "    <tr>\n",
       "      <th>KR5101AU0509</th>\n",
       "      <td>한국투자삼성TOP3증권자투자신탁 1(채권혼합)(C-Pe)</td>\n",
       "      <td>채권_혼합_한국투자</td>\n",
       "    </tr>\n",
       "    <tr>\n",
       "      <th>KR5101888398</th>\n",
       "      <td>한국투자크레딧포커스ESG증권자투자신탁 1(채권)(C-e)</td>\n",
       "      <td>채권_ESG_한국투자</td>\n",
       "    </tr>\n",
       "  </tbody>\n",
       "</table>\n",
       "</div>"
      ],
      "text/plain": [
       "                                                 name               label\n",
       "ticker                                                                   \n",
       "K55101BT4402    한국투자TDF알아서2030증권투자신탁(주식혼합-재간접형)(C-Re)  TDF_주식_혼합_한국투자_글로벌\n",
       "K55101BT4428    한국투자TDF알아서2035증권투자신탁(주식혼합-재간접형)(C-Re)  TDF_주식_혼합_한국투자_글로벌\n",
       "K55101BT4444    한국투자TDF알아서2045증권투자신탁(주식혼합-재간접형)(C-Re)  TDF_주식_혼합_한국투자_글로벌\n",
       "K55101BT7397    한국투자TDF알아서2040증권투자신탁(주식혼합-재간접형)(C-Re)  TDF_주식_혼합_한국투자_글로벌\n",
       "K55101BY3944   한국투자TIF알아서평생소득증권자투자신탁(채권혼합-재간접형)(C-Re)  TIF_채권_혼합_한국투자_글로벌\n",
       "K55101CU1644  한국투자TDF알아서2050증권자투자신탁H(주식혼합-재간접형)(C-Re)  TDF_주식_혼합_한국투자_글로벌\n",
       "K55101BT4394    한국투자TDF알아서2030증권투자신탁(주식혼합-재간접형)(C-Pe)  TDF_주식_혼합_한국투자_글로벌\n",
       "K55101BD5217          한국투자웰링턴글로벌퀄리티증권자투자신탁H(주식)(C-Pe)      주식_글로벌_가치_한국투자\n",
       "K55101BX0164           한국투자글로벌전기차&배터리증권투자신탁(주식)(C-Pe)     주식_글로벌_전기차_한국투자\n",
       "K55101BZ1079          한국투자월스트리트투자은행증권투자신탁 1(주식)(C-Pe)      주식_글로벌_금융_한국투자\n",
       "K55101CH6269         한국투자크레딧포커스ESG증권자투자신탁 1(채권)(C-Pe)         채권_ESG_한국투자\n",
       "K55101D20676             한국투자미국배당귀족증권자투자신탁H(주식)(C-Pe)       배당_주식_미국_한국투자\n",
       "K55101D20874            한국투자미국배당귀족증권자투자신탁UH(주식)(C-Pe)    배당_주식_미국_한국투자_UH\n",
       "KR5101AT3514    한국투자골드플랜글로벌이머징연금증권전환형자투자신탁 1(주식)(C-e)     주식_브릭스_아시아_한국투자\n",
       "KR5101AT3522      한국투자골드플랜네비게이터연금증권전환형투자신탁 1(주식)(C-e)       주식_한국_한국투자_가치\n",
       "KR5101AT3548       한국투자골드플랜브릭스연금증권전환형자투자신탁 1(주식)(C-e)         주식_브릭스_한국투자\n",
       "KR5101AT3563          한국투자골드플랜연금증권전환형투자신탁 1(국공채)(C-e)             채권_한국투자\n",
       "KR5101AT3571           한국투자골드플랜연금증권전환형투자신탁 1(주식)(C-e)       주식_한국_한국투자_가치\n",
       "KR5101AT3589         한국투자골드플랜연금증권전환형투자신탁 1(주식혼합)(C-e)       주식_혼합_한국투자_한국\n",
       "KR5101AU0509          한국투자삼성TOP3증권자투자신탁 1(채권혼합)(C-Pe)          채권_혼합_한국투자\n",
       "KR5101888398          한국투자크레딧포커스ESG증권자투자신탁 1(채권)(C-e)         채권_ESG_한국투자"
      ]
     },
     "execution_count": 76,
     "metadata": {},
     "output_type": "execute_result"
    }
   ],
   "source": [
    "df_working.loc[df, ['name', 'label']]"
   ]
  },
  {
   "cell_type": "code",
   "execution_count": null,
   "id": "8576187c-9b17-4ac9-a3f9-57649e165e10",
   "metadata": {},
   "outputs": [],
   "source": []
  },
  {
   "cell_type": "code",
   "execution_count": null,
   "id": "deb5e8f1-6c92-4d90-b77c-51f83e8ef976",
   "metadata": {},
   "outputs": [],
   "source": []
  },
  {
   "cell_type": "markdown",
   "id": "870c583e-09e5-4c9d-bd64-49c2649639e3",
   "metadata": {},
   "source": [
    "#### Benchmark?"
   ]
  },
  {
   "cell_type": "code",
   "execution_count": null,
   "id": "6b209eac-9aba-4cf5-835d-a5d6d30b9ed8",
   "metadata": {},
   "outputs": [],
   "source": []
  },
  {
   "cell_type": "markdown",
   "id": "fd28310b-8a17-4dc6-9cc1-893efa953787",
   "metadata": {},
   "source": [
    "#### Save"
   ]
  },
  {
   "cell_type": "code",
   "execution_count": null,
   "id": "bd067ffc-8594-4715-9e71-4f8df8933b58",
   "metadata": {},
   "outputs": [],
   "source": [
    "df_working.head()"
   ]
  },
  {
   "cell_type": "code",
   "execution_count": 118,
   "id": "638731f7-4ab8-430f-83d4-62089ffe9e30",
   "metadata": {},
   "outputs": [
    {
     "data": {
      "text/plain": [
       "seller       2\n",
       "account      3\n",
       "manager     28\n",
       "asset        6\n",
       "strategy    12\n",
       "dtype: int64"
      ]
     },
     "execution_count": 118,
     "metadata": {},
     "output_type": "execute_result"
    }
   ],
   "source": [
    "df_cat.iloc[:, 1:].nunique()"
   ]
  },
  {
   "cell_type": "code",
   "execution_count": 117,
   "id": "5d5ee4a8-64c7-4536-b4be-b4b52d6561ec",
   "metadata": {},
   "outputs": [
    {
     "data": {
      "text/plain": [
       "seller       2\n",
       "account      3\n",
       "manager     28\n",
       "asset        6\n",
       "strategy    12\n",
       "region       5\n",
       "dtype: int64"
      ]
     },
     "execution_count": 117,
     "metadata": {},
     "output_type": "execute_result"
    }
   ],
   "source": [
    "df = pd.read_csv('data/funds_categories_w.csv').set_index('ticker')\n",
    "df.iloc[:, 1:].nunique()"
   ]
  },
  {
   "cell_type": "code",
   "execution_count": null,
   "id": "87f5198a-7096-49bf-85b2-7ebdebb95cad",
   "metadata": {},
   "outputs": [],
   "source": [
    "df_working.to_csv('data/funds_categories_w.csv')"
   ]
  },
  {
   "cell_type": "code",
   "execution_count": null,
   "id": "acee5e39-f18e-42e6-bedd-7e64af5a86e6",
   "metadata": {},
   "outputs": [],
   "source": []
  },
  {
   "cell_type": "code",
   "execution_count": null,
   "id": "b6fda511-dd78-4624-a616-f29c0c0986a8",
   "metadata": {},
   "outputs": [],
   "source": []
  },
  {
   "cell_type": "code",
   "execution_count": null,
   "id": "ae697436-effc-4c29-8cfe-56332917feaa",
   "metadata": {},
   "outputs": [],
   "source": []
  },
  {
   "cell_type": "code",
   "execution_count": null,
   "id": "cbd3d3eb-264d-4c33-9c5c-e1f9cc81ce77",
   "metadata": {},
   "outputs": [],
   "source": []
  },
  {
   "cell_type": "code",
   "execution_count": null,
   "id": "62d79a91-31ee-44ab-b61a-1c86ae2188da",
   "metadata": {},
   "outputs": [],
   "source": []
  },
  {
   "cell_type": "code",
   "execution_count": null,
   "id": "3c5fab07-b91b-4c08-b6e5-92090725dc61",
   "metadata": {},
   "outputs": [],
   "source": []
  },
  {
   "cell_type": "markdown",
   "id": "b862a94e-994f-46f4-851b-2c26a1eb2822",
   "metadata": {},
   "source": [
    "# Manual"
   ]
  },
  {
   "cell_type": "code",
   "execution_count": null,
   "id": "fb1ea944-1cb3-4b21-9702-a997d83655cc",
   "metadata": {},
   "outputs": [],
   "source": [
    "from pf_dash import get_hdi\n",
    "\n",
    "file = 'fund_f3y_s3y'\n",
    "path = 'data'\n",
    "df_ret = get_hdi(file, path, tickers=None, to_dict=False)\n",
    "df_ret.head()"
   ]
  },
  {
   "cell_type": "code",
   "execution_count": null,
   "id": "ae0050d3-1bad-4664-b4bf-fdda602b3646",
   "metadata": {},
   "outputs": [],
   "source": [
    "from pf_utils import PortfolioManager as PM \n",
    "\n",
    "universe = 'UV_FUND'\n",
    "fund = PM.create_universe(universe)\n",
    "fund_name = fund.security_names\n",
    "fund_name = {k:v for k,v in fund_name.items() if k in df_ret.index}"
   ]
  },
  {
   "cell_type": "code",
   "execution_count": null,
   "id": "ca4ded71-1ae5-4265-ac0e-c7d5229bf0e7",
   "metadata": {
    "scrolled": true
   },
   "outputs": [],
   "source": [
    "# load labels\n",
    "import pandas as pd\n",
    "\n",
    "file = 'funds_labels.csv'\n",
    "path_data = 'data'\n",
    "df_labels = pd.read_csv(f'{path_data}/{file}').set_index('ticker')\n",
    "df_labels['label'].str.split('_', expand=True).stack().value_counts().sort_index().to_dict()"
   ]
  },
  {
   "cell_type": "code",
   "execution_count": null,
   "id": "951513eb-271d-48af-80a4-c8473a80c403",
   "metadata": {},
   "outputs": [],
   "source": [
    "def get_tickers(*args, df_labels=df_labels):\n",
    "    tkrs = df_labels['label'].str.split('_').apply(lambda x: len(set(args) - set(x)) == 0)\n",
    "    return df_labels.index[tkrs]\n",
    "\n",
    "df_groups = pd.DataFrame(None, index=df_labels.index)\n",
    "\n",
    "group = 'g1'\n",
    "tkrs = get_tickers('TDF')\n",
    "df_groups.loc[tkrs, group] = 'TDF'\n",
    "\n",
    "tkrs = df_groups.loc[df_groups[group].isna()].index\n",
    "tkrs = get_tickers('EMP').intersection(tkrs)\n",
    "df_groups.loc[tkrs, group] = 'EMP'\n",
    "\n",
    "tkrs = df_groups.loc[df_groups[group].isna()].index\n",
    "tkrs = get_tickers('ESG').intersection(tkrs)\n",
    "df_groups.loc[tkrs, group] = 'ESG'\n",
    "\n",
    "tkrs = df_groups.loc[df_groups[group].isna()].index\n",
    "tkrs = get_tickers('MMF').intersection(tkrs)\n",
    "df_groups.loc[tkrs, group] = 'MMF'\n",
    "\n",
    "tkrs = df_groups.loc[df_groups[group].isna()].index\n",
    "tkrs = get_tickers('글로벌', '주식').intersection(tkrs)\n",
    "df_groups.loc[tkrs, group] = '주식_글로벌'\n",
    "\n",
    "tkrs = df_groups.loc[df_groups[group].isna()].index\n",
    "tkrs = get_tickers('한국', '주식').intersection(tkrs)\n",
    "df_groups.loc[tkrs, group] = '주식_국내'\n",
    "\n",
    "tkrs = df_groups.loc[df_groups[group].isna()].index\n",
    "tkrs = get_tickers('베트남', '주식').intersection(tkrs)\n",
    "df_groups.loc[tkrs, group] = '주식_신흥국'\n",
    "\n",
    "tkrs = df_groups.loc[df_groups[group].isna()].index\n",
    "tkrs = get_tickers('인도', '주식').intersection(tkrs)\n",
    "df_groups.loc[tkrs, group] = '주식_신흥국'\n",
    "\n",
    "tkrs = df_groups.loc[df_groups[group].isna()].index\n",
    "tkrs = get_tickers('중국', '주식').intersection(tkrs)\n",
    "df_groups.loc[tkrs, group] = '주식_신흥국'\n",
    "\n",
    "tkrs = df_groups.loc[df_groups[group].isna()].index\n",
    "tkrs = get_tickers('아시아', '주식').intersection(tkrs)\n",
    "df_groups.loc[tkrs, group] = '주식_신흥국'\n",
    "\n",
    "tkrs = df_groups.loc[df_groups[group].isna()].index\n",
    "tkrs = get_tickers('브릭스', '주식').intersection(tkrs)\n",
    "df_groups.loc[tkrs, group] = '주식_신흥국'\n",
    "\n",
    "tkrs = df_groups.loc[df_groups[group].isna()].index\n",
    "tkrs = get_tickers('미국', '주식').intersection(tkrs)\n",
    "df_groups.loc[tkrs, group] = '주식_선진국'\n",
    "\n",
    "tkrs = df_groups.loc[df_groups[group].isna()].index\n",
    "tkrs = get_tickers('유럽', '주식').intersection(tkrs)\n",
    "df_groups.loc[tkrs, group] = '주식_선진국'\n",
    "\n",
    "tkrs = df_groups.loc[df_groups[group].isna()].index\n",
    "tkrs = get_tickers('채권').intersection(tkrs)\n",
    "df_groups.loc[tkrs, group] = '채권'\n",
    "\n",
    "tkrs = df_groups.loc[df_groups[group].isna()].index\n",
    "tkrs = get_tickers('금').intersection(tkrs)\n",
    "df_groups.loc[tkrs, group] = '기타자산'\n",
    "\n",
    "tkrs = df_groups.loc[df_groups[group].isna()].index\n",
    "tkrs = get_tickers('리츠').intersection(tkrs)\n",
    "df_groups.loc[tkrs, group] = '기타자산'\n",
    "\n",
    "df_groups[group].isna().sum()"
   ]
  },
  {
   "cell_type": "code",
   "execution_count": null,
   "id": "1eae9620-695f-4164-b7e6-6b6240a860aa",
   "metadata": {},
   "outputs": [],
   "source": [
    "df_groups.groupby(group).g1.count()"
   ]
  },
  {
   "cell_type": "code",
   "execution_count": null,
   "id": "31839ab0-f564-4ea2-9edd-956d7fdd2ac9",
   "metadata": {},
   "outputs": [],
   "source": [
    "tkrs = df_groups.index[df_groups.g1.isna()]\n",
    "df_labels.loc[tkrs]"
   ]
  },
  {
   "cell_type": "code",
   "execution_count": null,
   "id": "fdff3ed0-7163-4190-b5cf-82212e8d82c3",
   "metadata": {},
   "outputs": [],
   "source": [
    "df_groups.join(df_ret[['mean', 'sd']]).groupby('g1')['mean'].agg(['count', 'mean', 'std']).sort_values('mean', ascending=False)"
   ]
  },
  {
   "cell_type": "code",
   "execution_count": null,
   "id": "2e96f760-3fcd-4696-96bd-97170a8b0c1b",
   "metadata": {},
   "outputs": [],
   "source": []
  },
  {
   "cell_type": "code",
   "execution_count": null,
   "id": "86f8ad1f-835d-423d-8992-f05de3221f02",
   "metadata": {},
   "outputs": [],
   "source": []
  },
  {
   "cell_type": "code",
   "execution_count": null,
   "id": "b8fe7a45-b3d9-4147-af23-c30e65295afa",
   "metadata": {},
   "outputs": [],
   "source": []
  },
  {
   "cell_type": "markdown",
   "id": "103c5e6e-e79a-45ea-bc8b-7ce53a485733",
   "metadata": {},
   "source": [
    "# Clustering"
   ]
  },
  {
   "cell_type": "markdown",
   "id": "06c23111-81af-4ca9-a824-dafc326ba289",
   "metadata": {},
   "source": [
    "## Data"
   ]
  },
  {
   "cell_type": "code",
   "execution_count": null,
   "id": "f143bae4-bd25-47d3-b48c-f082ac121711",
   "metadata": {},
   "outputs": [],
   "source": [
    "import pandas as pd\n",
    "import numpy as np"
   ]
  },
  {
   "cell_type": "code",
   "execution_count": null,
   "id": "aaecbccc-d42e-45c5-83bf-620f59150251",
   "metadata": {
    "scrolled": true
   },
   "outputs": [],
   "source": [
    "# load labels\n",
    "\n",
    "file = 'funds_labels.csv'\n",
    "path_data = 'data'\n",
    "df_labels = pd.read_csv(f'{path_data}/{file}').set_index('ticker')"
   ]
  },
  {
   "cell_type": "code",
   "execution_count": null,
   "id": "7dc34d84-ea54-42ed-8d82-5704cb2dba2c",
   "metadata": {
    "scrolled": true
   },
   "outputs": [],
   "source": [
    "df_labels['label'].str.split('_', expand=True).stack().value_counts().sort_index().to_dict()"
   ]
  },
  {
   "cell_type": "code",
   "execution_count": null,
   "id": "bd929895-1640-4e3e-a574-66612cae7c97",
   "metadata": {},
   "outputs": [],
   "source": [
    "titles = df_labels['name'].to_list()\n",
    "docs = df_labels['label'].to_list()\n",
    "docs = [' '.join(x.split('_')) for x in docs]\n",
    "docs[:3]"
   ]
  },
  {
   "cell_type": "code",
   "execution_count": null,
   "id": "c3633a6c-9f48-41e2-ad46-724b586538f2",
   "metadata": {},
   "outputs": [],
   "source": [
    "feature_names = df_labels['label'].str.split('_', expand=True).stack().value_counts().index.to_list()"
   ]
  },
  {
   "cell_type": "markdown",
   "id": "198880af-bd36-4c4d-a4e1-321b97aabf86",
   "metadata": {},
   "source": [
    "## UMAP"
   ]
  },
  {
   "cell_type": "code",
   "execution_count": null,
   "id": "8b1a8baf-6f1e-48ab-95d0-f434c3fcd986",
   "metadata": {
    "scrolled": true
   },
   "outputs": [],
   "source": [
    "# Create data for embedding\n",
    "data_embedding = []\n",
    "\n",
    "for doc in docs:\n",
    "    features_in_doc = set(doc.split())\n",
    "    binary_vector = [1 if feature in features_in_doc else 0 for feature in feature_names]\n",
    "    data_embedding.append(binary_vector)\n",
    "\n",
    "# Convert the list of lists into a numpy array for better handling\n",
    "data_embedding = np.array(data_embedding)"
   ]
  },
  {
   "cell_type": "code",
   "execution_count": null,
   "id": "cb935b51-1b02-4eb3-95c8-80223ac24e7a",
   "metadata": {},
   "outputs": [],
   "source": [
    "def create_embedding(doc, feature_names, sep=' '):\n",
    "    features_in_doc = set(doc.split(sep))\n",
    "    return [1 if feature in features_in_doc else 0 for feature in feature_names]\n",
    "\n",
    "data_embedding = []\n",
    "for doc in docs:\n",
    "    binary_vector = create_embedding(doc, feature_names)\n",
    "    data_embedding.append(binary_vector)\n",
    "\n",
    "# Convert the list of lists into a numpy array for better handling\n",
    "#data_embedding = np.array(data_embedding)"
   ]
  },
  {
   "cell_type": "code",
   "execution_count": null,
   "id": "e8f354a1-61b2-4781-ac60-28bd250b411e",
   "metadata": {},
   "outputs": [],
   "source": [
    "import umap\n",
    "\n",
    "metric = 'dice' #'jaccard' #'hamming'\n",
    "\n",
    "# Apply UMAP for dimensionality reduction\n",
    "umap_model = umap.UMAP(n_components=2,\n",
    "                       n_neighbors=10,\n",
    "                       metric=metric,\n",
    "                       min_dist=0.0, \n",
    "                       random_state=42\n",
    "                      )\n",
    "embeddings = umap_model.fit_transform(data_embedding)"
   ]
  },
  {
   "cell_type": "code",
   "execution_count": null,
   "id": "02cdef18-b578-451b-8765-9a15e86dcf6f",
   "metadata": {},
   "outputs": [],
   "source": [
    "#embeddings.shape"
   ]
  },
  {
   "cell_type": "code",
   "execution_count": null,
   "id": "6dfb7429-e0de-4792-b06a-a5c4207b99e6",
   "metadata": {},
   "outputs": [],
   "source": [
    "from matplotlib import pyplot as plt\n",
    "import seaborn as sns\n",
    "\n",
    "plt.scatter(\n",
    "    embeddings[:, 0],\n",
    "    embeddings[:, 1],\n",
    "    #c=[sns.color_palette()[x] for x in penguins.species.map({\"Adelie\":0, \"Chinstrap\":1, \"Gentoo\":2})]\n",
    ")\n",
    "plt.gca().set_aspect('equal', 'datalim')"
   ]
  },
  {
   "cell_type": "markdown",
   "id": "05216ff3-b280-4710-930e-8f4937a4eb6e",
   "metadata": {},
   "source": [
    "## Topic"
   ]
  },
  {
   "cell_type": "code",
   "execution_count": null,
   "id": "073e7d7a-0d67-4d83-825c-32eeb04a79ae",
   "metadata": {},
   "outputs": [],
   "source": [
    "import hdbscan\n",
    "from bertopic import BERTopic\n",
    "from sklearn.feature_extraction.text import CountVectorizer\n",
    "import collections\n",
    "#from bertopic.representation import KeyBERTInspired\n",
    "from sentence_transformers import SentenceTransformer\n",
    "\n",
    "#st_id = 'all-MiniLM-L12-v2'\n",
    "st_id = 'paraphrase-multilingual-MiniLM-L12-v2'\n",
    "embedding_model = SentenceTransformer(st_id)"
   ]
  },
  {
   "cell_type": "code",
   "execution_count": null,
   "id": "d37d940a-e304-4182-a43c-198fbc9e7f46",
   "metadata": {},
   "outputs": [],
   "source": [
    "# Apply UMAP for dimensionality reduction\n",
    "umap_model = umap.UMAP(n_components=10,\n",
    "                       n_neighbors=10,\n",
    "                       metric='dice',\n",
    "                       #metric='cosine',\n",
    "                       min_dist=0.0, \n",
    "                       random_state=42)\n",
    "embeddings = umap_model.fit_transform(data_embedding)"
   ]
  },
  {
   "cell_type": "code",
   "execution_count": null,
   "id": "2b15f81c-6782-4b18-9322-1e7d54787cfe",
   "metadata": {},
   "outputs": [],
   "source": [
    "seed_topic_list = ['TDF 글로벌 혼합 주식']\n",
    "#seed_topic_list = [x.split() for x in seed_topic_list]\n",
    "seed_topic_list = [create_embedding(x, feature_names) for x in seed_topic_list]\n",
    "seed_topic_list = umap_model.transform(seed_topic_list)\n",
    "seed_topic_list"
   ]
  },
  {
   "cell_type": "code",
   "execution_count": null,
   "id": "7d76f9b8-e639-4f0a-a165-ba8c32b2d717",
   "metadata": {},
   "outputs": [],
   "source": [
    "# Custom CountVectorizer (Ensures empty vocabulary issue is avoided)\n",
    "#vectorizer = CountVectorizer(token_pattern=r\"(?u)\\b\\w+\\b\")  # Allows numeric words\n",
    "vectorizer = CountVectorizer(min_df=1)\n",
    "\n",
    "hdbscan_model = hdbscan.HDBSCAN(min_cluster_size=5, \n",
    "                                #min_samples=1, \n",
    "                                #metric='euclidean', cluster_selection_method='eom', \n",
    "                                prediction_data=True)\n",
    "\n",
    "# Initialize BERTopic with a custom vectorizer\n",
    "topic_model = BERTopic(\n",
    "    embedding_model=embedding_model,\n",
    "    hdbscan_model=hdbscan_model,\n",
    "    umap_model=None,\n",
    "    calculate_probabilities=True,\n",
    "    vectorizer_model=vectorizer,  # Use custom vectorizer\n",
    "    #representation_model=representation_model,\n",
    "    #seed_topic_list=seed_topic_list,\n",
    "    top_n_words=3,\n",
    " )\n",
    "\n",
    "# Fit BERTopic with unchanged embeddings\n",
    "topics, probs = topic_model.fit_transform(docs, embeddings)"
   ]
  },
  {
   "cell_type": "code",
   "execution_count": null,
   "id": "909774cb-b3e3-495a-82b7-a79d2d5f1a0a",
   "metadata": {
    "scrolled": true
   },
   "outputs": [],
   "source": [
    "topic_model.get_topic_info()"
   ]
  },
  {
   "cell_type": "code",
   "execution_count": null,
   "id": "66d94744-ffc8-40ca-a540-b1eb325d9d61",
   "metadata": {
    "scrolled": true
   },
   "outputs": [],
   "source": [
    "# Get document-topic mapping\n",
    "doc_info = topic_model.get_document_info(docs)\n",
    "\n",
    "# Group document IDs by topic\n",
    "topic_to_docs = doc_info.groupby(\"Topic\").apply(lambda x: x.index.tolist(), include_groups=False)\n",
    "\n",
    "names = titles\n",
    "\n",
    "# Print topic-wise document IDs along with topic names (keywords)\n",
    "for topic, doc_ids in topic_to_docs.items():\n",
    "    if topic != -1:  # Ignore outlier topic (-1)\n",
    "        topic_keywords = \", \".join([word for word, _ in topic_model.get_topic(topic)])\n",
    "        print(f\"Topic {topic} ({topic_keywords})\")\n",
    "        nm = [names[x] for x in doc_ids]\n",
    "        nm = sorted(nm)\n",
    "        _ = [print(x) for x in nm]\n",
    "        #_ = [print(names[x]) for x in doc_ids]\n",
    "    print()"
   ]
  },
  {
   "cell_type": "code",
   "execution_count": null,
   "id": "d0b58561-1bde-49d0-87d9-1daa2a148e92",
   "metadata": {},
   "outputs": [],
   "source": [
    "topic_model.visualize_topics()"
   ]
  },
  {
   "cell_type": "code",
   "execution_count": null,
   "id": "df6d4895-2385-4ed7-8d96-3b6c203af253",
   "metadata": {},
   "outputs": [],
   "source": []
  },
  {
   "cell_type": "markdown",
   "id": "04c14467-90b2-4330-a66a-c0e5e49aefbb",
   "metadata": {},
   "source": [
    "# Topic"
   ]
  },
  {
   "cell_type": "markdown",
   "id": "8ae97c4c-5225-4494-bc55-b29610b6854a",
   "metadata": {},
   "source": [
    "## Documents"
   ]
  },
  {
   "cell_type": "code",
   "execution_count": null,
   "id": "75139c73-4e09-4a55-b760-7ea2f7106167",
   "metadata": {},
   "outputs": [],
   "source": [
    "import pandas as pd\n",
    "# load labels\n",
    "file = 'funds_labels.csv'\n",
    "path_data = 'data'\n",
    "df_labels = pd.read_csv(f'{path_data}/{file}').set_index('ticker')"
   ]
  },
  {
   "cell_type": "code",
   "execution_count": null,
   "id": "42834560-c52b-4067-ab34-6b6a141e46b5",
   "metadata": {
    "scrolled": true
   },
   "outputs": [],
   "source": [
    "df = df_labels['label'].str.split('_', expand=True).stack()\n",
    "categories = df.value_counts().sort_index().to_dict()\n",
    "categories"
   ]
  },
  {
   "cell_type": "code",
   "execution_count": null,
   "id": "88fe740a-18fe-43f3-8530-ebc2241bde3f",
   "metadata": {},
   "outputs": [],
   "source": [
    "len(categories)"
   ]
  },
  {
   "cell_type": "code",
   "execution_count": null,
   "id": "324a1574-bb2b-40ca-a154-f3bed16caf58",
   "metadata": {},
   "outputs": [],
   "source": [
    "titles = df_labels['name'].to_list()\n",
    "docs = df_labels['label'].to_list()\n",
    "docs = [' '.join(x.split('_')) for x in docs]"
   ]
  },
  {
   "cell_type": "code",
   "execution_count": null,
   "id": "bd123e58-b719-466b-a328-688c36e3c0f3",
   "metadata": {},
   "outputs": [],
   "source": [
    "i = 43\n",
    "titles[i], docs[i]"
   ]
  },
  {
   "cell_type": "markdown",
   "id": "e49e223c-74b8-4e57-abd5-460002900e97",
   "metadata": {},
   "source": [
    "## Supervised"
   ]
  },
  {
   "cell_type": "code",
   "execution_count": null,
   "id": "a2e235a8-8a3b-435d-b752-0408d7d9fa3a",
   "metadata": {},
   "outputs": [],
   "source": [
    "zeroshot_topic_list = ['TDF', 'EMP', 'ESG']"
   ]
  },
  {
   "cell_type": "code",
   "execution_count": null,
   "id": "e6ac5722-9100-4889-bed4-27c2d727af2c",
   "metadata": {},
   "outputs": [],
   "source": [
    "seed_topic_list = ['TDF 글로벌 혼합 주식']\n",
    "seed_topic_list = [x.split() for x in seed_topic_list]\n",
    "seed_topic_list"
   ]
  },
  {
   "cell_type": "code",
   "execution_count": null,
   "id": "b57415ce-7fc5-40ab-9292-378ee256bc33",
   "metadata": {},
   "outputs": [],
   "source": [
    "def set_label(labels, label, categories, docs, search=None):\n",
    "    if label not in categories:\n",
    "        return print('ERROR')\n",
    "    search = label if search is None else search\n",
    "    for i, x in enumerate(labels):\n",
    "        if x == -1:\n",
    "            if search.lower() in docs[i].lower():\n",
    "                labels[i] = categories.index(label)\n",
    "    return labels\n",
    "\n",
    "categories = list(categories.keys())\n",
    "\n",
    "labels = [-1] * len(titles)\n",
    "for l in ['TDF', 'EMP', 'TIF', 'ESG']:\n",
    "    labels = set_label(labels, l, categories, titles)\n",
    "\n",
    "a = [x for x in labels if x == -1]\n",
    "len(a), len(a) / len(labels)"
   ]
  },
  {
   "cell_type": "markdown",
   "id": "e0b41345-1cda-47e0-957c-4568f66146a6",
   "metadata": {},
   "source": [
    "## Sub-models"
   ]
  },
  {
   "cell_type": "code",
   "execution_count": null,
   "id": "a0cd6445-d358-4392-b7a0-358dec03f8ff",
   "metadata": {},
   "outputs": [],
   "source": [
    "from sentence_transformers import SentenceTransformer\n",
    "\n",
    "st_id = 'paraphrase-multilingual-MiniLM-L12-v2'\n",
    "embedding_model = SentenceTransformer(st_id)\n",
    "\n",
    "embeddings = embedding_model.encode(docs)"
   ]
  },
  {
   "cell_type": "code",
   "execution_count": null,
   "id": "6bc9f1be-d578-4251-b456-dd5ee8f0cfbc",
   "metadata": {},
   "outputs": [],
   "source": [
    "from umap import UMAP\n",
    "\n",
    "umap_model = UMAP(\n",
    "    n_neighbors=5, \n",
    "    n_components=20, \n",
    "    min_dist=0.0, \n",
    "    #metric='cosine', \n",
    "    random_state=42)"
   ]
  },
  {
   "cell_type": "code",
   "execution_count": null,
   "id": "2a02f94c-e33a-4050-8831-2437f0335654",
   "metadata": {},
   "outputs": [],
   "source": [
    "from hdbscan import HDBSCAN\n",
    "\n",
    "hdbscan_model = HDBSCAN(min_cluster_size=3, \n",
    "                        #metric='euclidean', cluster_selection_method='eom', \n",
    "                        prediction_data=True)"
   ]
  },
  {
   "cell_type": "code",
   "execution_count": null,
   "id": "dccda837-404d-45c4-abbe-0a175614c069",
   "metadata": {},
   "outputs": [],
   "source": [
    "from bertopic.representation import KeyBERTInspired\n",
    "\n",
    "# Fine-tune your topic representations\n",
    "representation_model = KeyBERTInspired()"
   ]
  },
  {
   "cell_type": "code",
   "execution_count": null,
   "id": "bd0bcc9a-eff0-4ad1-8442-4422f46d3a58",
   "metadata": {},
   "outputs": [],
   "source": [
    "from sklearn.feature_extraction.text import CountVectorizer\n",
    "\n",
    "vectorizer_model = CountVectorizer(min_df=3)"
   ]
  },
  {
   "cell_type": "markdown",
   "id": "66419583-4846-464d-8dcf-08f3e6796b59",
   "metadata": {},
   "source": [
    "## Fit"
   ]
  },
  {
   "cell_type": "code",
   "execution_count": null,
   "id": "0f095c3e-2b9a-43b8-bfcd-8ca7f170fea2",
   "metadata": {},
   "outputs": [],
   "source": [
    "from bertopic import BERTopic\n",
    "\n",
    "topic_model = BERTopic(\n",
    "    embedding_model=embedding_model,\n",
    "    umap_model=umap_model,\n",
    "    hdbscan_model=hdbscan_model,\n",
    "    vectorizer_model=vectorizer_model,\n",
    "    representation_model=representation_model,\n",
    "\n",
    "    #seed_topic_list=seed_topic_list,\n",
    "    #zeroshot_topic_list=zeroshot_topic_list,\n",
    "    #zeroshot_min_similarity=.5,\n",
    "\n",
    "    top_n_words=3,\n",
    "    #min_topic_size=20,\n",
    ")\n",
    "\n",
    "# Train model\n",
    "#topics, probs = topic_model.fit_transform(docs, embeddings, y=labels)\n",
    "topic_model = topic_model.fit(docs, embeddings, y=labels)"
   ]
  },
  {
   "cell_type": "markdown",
   "id": "f3841f61-2d7c-4467-b2e4-7572a4ff6509",
   "metadata": {},
   "source": [
    "## Post"
   ]
  },
  {
   "cell_type": "code",
   "execution_count": null,
   "id": "df41758a-e1f0-47a0-b809-19e049628329",
   "metadata": {},
   "outputs": [],
   "source": [
    "# Show topics\n",
    "topic_model.get_topic_info()"
   ]
  },
  {
   "cell_type": "code",
   "execution_count": null,
   "id": "2fb8804f-9cab-434b-9c24-b12aa5bb824c",
   "metadata": {
    "scrolled": true
   },
   "outputs": [],
   "source": [
    "# Get document-topic mapping\n",
    "doc_info = topic_model.get_document_info(docs)\n",
    "\n",
    "# Group document IDs by topic\n",
    "topic_to_docs = doc_info.groupby(\"Topic\").apply(lambda x: x.index.tolist(), include_groups=False)\n",
    "\n",
    "topic_name = topic_model.get_topic_info().set_index('Topic')['Name'].to_dict()\n",
    "\n",
    "names = titles\n",
    "\n",
    "# Print topic-wise document IDs along with topic names (keywords)\n",
    "for topic, doc_ids in topic_to_docs.items():\n",
    "    if topic != -1:  # Ignore outlier topic (-1)\n",
    "        #topic_keywords = \", \".join([word for word, _ in topic_model.get_topic(topic)])\n",
    "        topic_keywords = topic_name[topic]\n",
    "        print(f\"Topic {topic} ({topic_keywords})\")\n",
    "        nm = [names[x] for x in doc_ids]\n",
    "        nm = sorted(nm)\n",
    "        _ = [print(x) for x in nm]\n",
    "        #_ = [print(names[x]) for x in doc_ids]\n",
    "    print()"
   ]
  },
  {
   "cell_type": "code",
   "execution_count": null,
   "id": "e8eab04d-d478-45e8-ada5-b249c631c2c7",
   "metadata": {},
   "outputs": [],
   "source": [
    "topic_model.visualize_topics()"
   ]
  },
  {
   "cell_type": "code",
   "execution_count": null,
   "id": "04020a33-875c-4c44-b6ce-18d51c997395",
   "metadata": {},
   "outputs": [],
   "source": []
  },
  {
   "cell_type": "code",
   "execution_count": null,
   "id": "432b7d3e-8587-48bb-af1d-c045f829a53d",
   "metadata": {},
   "outputs": [],
   "source": [
    "from bertopic import BERTopic\n",
    "from sklearn.datasets import fetch_20newsgroups\n",
    "\n",
    "data = fetch_20newsgroups(subset='test',  remove=('headers', 'footers', 'quotes'))\n",
    "docs = data[\"data\"]\n",
    "categories = data[\"target\"]\n",
    "category_names = data[\"target_names\"]\n",
    "\n",
    "topic_model = BERTopic(verbose=True).fit(docs, y=categories)"
   ]
  },
  {
   "cell_type": "code",
   "execution_count": null,
   "id": "6ac28207-1a03-4cba-b730-57ad51f000f7",
   "metadata": {},
   "outputs": [],
   "source": [
    "topic_model.get_topic_info()"
   ]
  },
  {
   "cell_type": "code",
   "execution_count": null,
   "id": "a752037e-60c8-4288-bd81-fba5667ab402",
   "metadata": {},
   "outputs": [],
   "source": [
    "import pandas as pd\n",
    "import numpy as np\n",
    "\n",
    "# Get topics assigned to each document\n",
    "topics, _ = topic_model.transform(docs)\n",
    "\n",
    "# Create a DataFrame mapping topics to true categories\n",
    "df = pd.DataFrame({\"Category\": categories, \"Topic\": topics})\n",
    "\n",
    "# Compute frequency of topics per category\n",
    "topic_category_counts = df.groupby([\"Category\", \"Topic\"]).size().unstack(fill_value=0)\n",
    "\n",
    "# Normalize to get the proportion of each topic within each category\n",
    "topic_category_distribution = topic_category_counts.div(topic_category_counts.sum(axis=1), axis=0)\n",
    "\n",
    "print(topic_category_distribution)\n"
   ]
  },
  {
   "cell_type": "code",
   "execution_count": null,
   "id": "1779954d-8c2f-48bd-9c9e-3f38db821109",
   "metadata": {},
   "outputs": [],
   "source": []
  },
  {
   "cell_type": "markdown",
   "id": "7eb3a6e6-bfb2-48ff-ac96-716b1c109678",
   "metadata": {},
   "source": [
    "# Topic"
   ]
  },
  {
   "cell_type": "code",
   "execution_count": null,
   "id": "0c10af49-2028-4a8e-8d5d-87ddfb900056",
   "metadata": {},
   "outputs": [],
   "source": [
    "from pf_utils import PortfolioManager as PM \n",
    "\n",
    "universe = 'UV_FUND'\n",
    "fund = PM.create_universe(universe)"
   ]
  },
  {
   "cell_type": "code",
   "execution_count": null,
   "id": "670d5207-334a-4561-8fe7-b44b04b15fcf",
   "metadata": {},
   "outputs": [],
   "source": [
    "from pf_dash import get_hdi\n",
    "\n",
    "file = 'fund_f3y_s3y'\n",
    "path = 'data'\n",
    "options_order = get_hdi(file, path, tickers=None, to_dict=False)\n",
    "#options_order = options_order['mean'].rank(ascending=False)\n",
    "options_order.head()"
   ]
  },
  {
   "cell_type": "code",
   "execution_count": null,
   "id": "93775464-f168-4d88-abe9-3b30c92a24a3",
   "metadata": {
    "scrolled": true
   },
   "outputs": [],
   "source": [
    "fund_name = fund.get_names(options_order.index)"
   ]
  },
  {
   "cell_type": "markdown",
   "id": "ecb71acc-8fcb-4aa5-88d9-b01a7eb3a70b",
   "metadata": {},
   "source": [
    "## Data"
   ]
  },
  {
   "cell_type": "markdown",
   "id": "4d6fe275-f19f-41bd-9447-706a9621337a",
   "metadata": {
    "jp-MarkdownHeadingCollapsed": true
   },
   "source": [
    "### Split"
   ]
  },
  {
   "cell_type": "code",
   "execution_count": null,
   "id": "3b09b4e0-5d8d-47e0-bf6a-5e517b55e204",
   "metadata": {},
   "outputs": [],
   "source": [
    "import re\n",
    "\n",
    "def sliding_window_tokenization(name, min_size=1, max_size=3, step=1):\n",
    "    # Tokenize the name into words or characters\n",
    "    tokens = list(name)  # or use a word-level tokenizer for Korean\n",
    "\n",
    "    # Define the symbols to strip\n",
    "    symbols_to_strip = r\"[^\\w가-힣]\"  # Remove non-Korean and non-alphanumeric characters\n",
    "\n",
    "    # Initialize an empty list to hold the smaller chunks\n",
    "    chunks = []\n",
    "    \n",
    "    # Loop through the tokens with a sliding window\n",
    "    for start in range(0, len(tokens) - min_size + 1, step):\n",
    "        for end in range(start + min_size, min(len(tokens), start + max_size) + 1):\n",
    "            chunk = ''.join(tokens[start:end])  # Join the tokens within the window\n",
    "            \n",
    "            # Strip symbols from the beginning and end of the chunk\n",
    "            cleaned_chunk = re.sub(r'^[^\\w가-힣]+', '', chunk)  # Remove symbols at the start\n",
    "            cleaned_chunk = re.sub(r'[^\\w가-힣]+$', '', cleaned_chunk)  # Remove symbols at the end\n",
    "            \n",
    "            if cleaned_chunk:  # Only add non-empty chunks\n",
    "                chunks.append(cleaned_chunk)\n",
    "    \n",
    "    return ', '.join(chunks)"
   ]
  },
  {
   "cell_type": "code",
   "execution_count": null,
   "id": "ea09a445-fe7f-4108-acad-4669d74dddf1",
   "metadata": {},
   "outputs": [],
   "source": [
    "titles = list(fund_name.values())\n",
    "docs_id = list(fund_name.keys())\n",
    "\n",
    "func = lambda x: sliding_window_tokenization(x, min_size=3, max_size=6, step=1)\n",
    "docs = [func(x) for x in titles]\n",
    "docs[0]"
   ]
  },
  {
   "cell_type": "markdown",
   "id": "36a174ea-c90c-4bfd-a024-4cccc9cea714",
   "metadata": {
    "jp-MarkdownHeadingCollapsed": true
   },
   "source": [
    "### NLP"
   ]
  },
  {
   "cell_type": "code",
   "execution_count": null,
   "id": "0eccb905-651e-4a30-b070-e234e30c7199",
   "metadata": {},
   "outputs": [],
   "source": [
    "titles = list(fund_name.values())\n",
    "docs_ticker = list(fund_name.keys())"
   ]
  },
  {
   "cell_type": "code",
   "execution_count": null,
   "id": "78dac314-218e-4993-a3dd-9f0f941a409f",
   "metadata": {},
   "outputs": [],
   "source": [
    "from kiwipiepy import Kiwi\n",
    "from kiwipiepy.utils import Stopwords\n",
    "\n",
    "kiwi = Kiwi()\n",
    "stopwords = Stopwords()"
   ]
  },
  {
   "cell_type": "code",
   "execution_count": null,
   "id": "d364b51f-5238-43d2-ac3c-6c364039c47f",
   "metadata": {},
   "outputs": [],
   "source": [
    "voca = ['고수익', '그로스', '로우코스트', '자투자', '재간접', '인컴', '온국민', '4차산업', 'iM에셋', '로보테크', '다올', '에셋', '인컴', '빅테크', '1등주', 'KOSPI200', '리더스', '성장주', '마이다스', '아시아', '리더스', '개인전용', '고배당', '커버드콜', '전략배분', '밸류', '중소형', '차이나', '한국형', '삼성', '로보틱스',  '신한', '마음편한', '중소형', '에셋플러스', '이스트스프링', '키움', '더드림', '키워드림', '트러스톤', '피텔리티', '알아서', '네비게이터', '전기차', '월스트리트', 'LIFEPLUS', 'TDF', '단기채']\n",
    "voca = list(set(voca))\n",
    "\n",
    "_ = [kiwi.add_user_word(x, \"USER0\") for x in voca]"
   ]
  },
  {
   "cell_type": "code",
   "execution_count": null,
   "id": "7fe493a1-5743-4f54-b462-baa0d2de78b8",
   "metadata": {},
   "outputs": [],
   "source": [
    "#inputs = titles\n",
    "#kiwi.extract_words(inputs, min_cnt=5, max_word_len=10, min_score=0.5)"
   ]
  },
  {
   "cell_type": "code",
   "execution_count": null,
   "id": "cd0bd77f-5b49-4d40-9732-e02aaf02ef9a",
   "metadata": {},
   "outputs": [],
   "source": [
    "sw = ['AB', 'BNK', 'IBK', 'KB', '미래', 'NH', 'Amundi', 'iM에셋', '교보', '악사', '다올', '마이다스', '미래에셋', '삼성', '슈로더', '신영', '신한', '에셋플러스', '우리', '유리', '유진', '이스트스프링', '키움', '키워드림', '트러스톤', '피델리티', '하나', '하나인', '한국밸류','한국투자', '한화', 'LIFEPLUS']\n",
    "#_ = [stopwords.add((x, 'NNG')) for x in sw]\n",
    "\n",
    "#docs = [x for s in sw for t in titles]\n",
    "\n",
    "docs = titles\n",
    "docs = [x.lower() for x in docs]\n",
    "sw = [x.lower() for x in sw]\n",
    "for s in sw:\n",
    "    docs = [t.replace(s, '') for t in docs]"
   ]
  },
  {
   "cell_type": "code",
   "execution_count": null,
   "id": "83473907-e1ee-4032-8fca-5f5db50e5fb0",
   "metadata": {},
   "outputs": [],
   "source": [
    "docs = [kiwi.space(x) for x in docs]\n",
    "docs = [kiwi.tokenize(x, stopwords=stopwords) for x in docs]\n",
    "#docs = [', '.join([x.form for x in tokens]) for tokens in docs] \n",
    "docs = [' '.join([x.form for x in tokens]) for tokens in docs] # TODO"
   ]
  },
  {
   "cell_type": "code",
   "execution_count": null,
   "id": "e1a86d1d-1c5a-4591-8194-26c29b37c613",
   "metadata": {},
   "outputs": [],
   "source": [
    "seed_topic_list = [\n",
    "    ['한국형', 'KOSPI', '국내', '코리아'],\n",
    "    ['중소형', '하이일드', '성장'],\n",
    "    ['이머징', '아시아', '중국', '차이나', '베트남', '인디아', '성장', '인도'],\n",
    "    ['인덱스'],\n",
    "    ['혁신', '기술', '테크', '전기차', '반도체', '로보트', '메타버스', '블루칩'],\n",
    "    ['자원', '에너지', '광업'],\n",
    "    ['인프라', '리츠'],\n",
    "    ['배당', '연금', '채권'],\n",
    "    ['헬스']\n",
    "]"
   ]
  },
  {
   "cell_type": "code",
   "execution_count": null,
   "id": "235e1b84-d939-4452-a8ee-d8dfd040821d",
   "metadata": {},
   "outputs": [],
   "source": [
    "zeroshot_topic_list = ['미국', '아시아', '기술', '안정']"
   ]
  },
  {
   "cell_type": "markdown",
   "id": "763623e8-f085-4856-a5ad-06b9c25e10c1",
   "metadata": {},
   "source": [
    "### Desc"
   ]
  },
  {
   "cell_type": "code",
   "execution_count": null,
   "id": "fe5cdfb2-74d1-421b-b590-e78dbb8a12be",
   "metadata": {
    "scrolled": true
   },
   "outputs": [],
   "source": [
    "import pandas as pd\n",
    "file = 'funds_desc.csv'\n",
    "path_data = 'data'\n",
    "df_docs = pd.read_csv(f'{path_data}/{file}')"
   ]
  },
  {
   "cell_type": "code",
   "execution_count": null,
   "id": "d7abc33e-2410-428a-ab41-a27444558534",
   "metadata": {},
   "outputs": [],
   "source": [
    "df_docs = df_docs.loc[~df_docs['name'].str.contains('TDF')]"
   ]
  },
  {
   "cell_type": "code",
   "execution_count": null,
   "id": "90c551f2-e385-42a7-bddc-337c7fea2d33",
   "metadata": {},
   "outputs": [],
   "source": [
    "titles = df_docs['name'].to_list()\n",
    "docs = df_docs['desc'].to_list()\n",
    "docs = [x.upper() for x in docs]"
   ]
  },
  {
   "cell_type": "code",
   "execution_count": null,
   "id": "3b51a90d-fd51-425e-af41-312b59c8b0ac",
   "metadata": {},
   "outputs": [],
   "source": [
    "#zeroshot_topic_list = ['TDF']"
   ]
  },
  {
   "cell_type": "code",
   "execution_count": null,
   "id": "d7ff3fd9-54cd-42d0-8a2f-2d442611bf2c",
   "metadata": {},
   "outputs": [],
   "source": [
    "seed_topic_list = [\n",
    "    ['한국형', 'KOSPI', '국내', '코리아'],\n",
    "    ['중소형', '하이일드', '성장'],\n",
    "    ['이머징', '아시아', '중국', '차이나', '베트남', '인디아', '성장', '인도'],\n",
    "    ['인덱스'],\n",
    "    ['혁신', '기술', '테크', '전기차', '반도체', '로보트', '메타버스', '블루칩'],\n",
    "    ['자원', '에너지', '광업'],\n",
    "    ['인프라', '리츠'],\n",
    "    ['배당', '연금', '채권'],\n",
    "    ['헬스']\n",
    "]"
   ]
  },
  {
   "cell_type": "markdown",
   "id": "4d85e50e-9edd-4314-91cd-a5a292a5a3fe",
   "metadata": {},
   "source": [
    "### Label"
   ]
  },
  {
   "cell_type": "code",
   "execution_count": null,
   "id": "22c3a298-9964-4675-ad4f-91fa1f780dd0",
   "metadata": {},
   "outputs": [],
   "source": [
    "import pandas as pd\n",
    "# load labels\n",
    "file = 'funds_labels.csv'\n",
    "path_data = 'data'\n",
    "df_labels = pd.read_csv(f'{path_data}/{file}').set_index('ticker')"
   ]
  },
  {
   "cell_type": "code",
   "execution_count": null,
   "id": "d8398b08-e2d4-49bb-b384-1c75752c8343",
   "metadata": {
    "scrolled": true
   },
   "outputs": [],
   "source": [
    "df = df_labels['label'].str.split('_', expand=True).stack()\n",
    "a = df.value_counts().sort_index().to_dict()\n",
    "a"
   ]
  },
  {
   "cell_type": "code",
   "execution_count": null,
   "id": "6764afae-761f-42d6-9ec4-a1281175d37c",
   "metadata": {},
   "outputs": [],
   "source": [
    "len(a)"
   ]
  },
  {
   "cell_type": "code",
   "execution_count": null,
   "id": "e76a458e-31bb-42e4-bc70-386f079d94db",
   "metadata": {},
   "outputs": [],
   "source": [
    "titles = df_labels['name'].to_list()\n",
    "docs = df_labels['label'].to_list()\n",
    "docs = [' '.join(x.split('_')) for x in docs]"
   ]
  },
  {
   "cell_type": "code",
   "execution_count": null,
   "id": "650ef0d0-a2b7-43c6-b63c-f83b18876509",
   "metadata": {},
   "outputs": [],
   "source": [
    "i = 43\n",
    "titles[i], docs[i]"
   ]
  },
  {
   "cell_type": "code",
   "execution_count": null,
   "id": "80f190f1-be87-4114-8950-5e11ceb419fe",
   "metadata": {},
   "outputs": [],
   "source": [
    "zeroshot_topic_list = ['TDF 글로벌 혼합']"
   ]
  },
  {
   "cell_type": "code",
   "execution_count": null,
   "id": "43f51175-adf8-4b78-9952-3bd272028ab8",
   "metadata": {},
   "outputs": [],
   "source": [
    "seed_topic_list = ['TDF 글로벌 혼합 주식']\n",
    "seed_topic_list = [x.split() for x in seed_topic_list]\n",
    "seed_topic_list"
   ]
  },
  {
   "cell_type": "markdown",
   "id": "6fc8ee0c-6d85-43b9-a0d2-7e1d524655fd",
   "metadata": {},
   "source": [
    "## Sub-models"
   ]
  },
  {
   "cell_type": "code",
   "execution_count": null,
   "id": "1ab0a7c4-0159-4199-b6d9-f8d1e30bb0e7",
   "metadata": {},
   "outputs": [],
   "source": [
    "from sentence_transformers import SentenceTransformer\n",
    "\n",
    "#st_id = 'all-MiniLM-L12-v2'\n",
    "st_id = 'paraphrase-multilingual-MiniLM-L12-v2'\n",
    "embedding_model = SentenceTransformer(st_id)"
   ]
  },
  {
   "cell_type": "code",
   "execution_count": null,
   "id": "49bff9fc-1719-412f-90c5-d3b326df532a",
   "metadata": {},
   "outputs": [],
   "source": [
    "embeddings = embedding_model.encode(docs, show_progress_bar=True)"
   ]
  },
  {
   "cell_type": "code",
   "execution_count": null,
   "id": "8e1d046a-4b3f-458b-b2de-d60f69a161c5",
   "metadata": {},
   "outputs": [],
   "source": [
    "from umap import UMAP\n",
    "\n",
    "umap_model = UMAP(\n",
    "    n_neighbors=10, \n",
    "    n_components=20, \n",
    "    min_dist=0.0, \n",
    "    #metric='cosine', \n",
    "    random_state=42)"
   ]
  },
  {
   "cell_type": "code",
   "execution_count": null,
   "id": "247b66d8-9f0d-4298-9648-649e67ec1908",
   "metadata": {},
   "outputs": [],
   "source": [
    "from bertopic.dimensionality import BaseDimensionalityReduction\n",
    "\n",
    "# Fit BERTopic without actually performing any dimensionality reduction\n",
    "empty_dimensionality_model = BaseDimensionalityReduction()"
   ]
  },
  {
   "cell_type": "code",
   "execution_count": null,
   "id": "7de85f8e-e399-4533-9f82-f781ac508411",
   "metadata": {},
   "outputs": [],
   "source": [
    "from hdbscan import HDBSCAN\n",
    "\n",
    "hdbscan_model = HDBSCAN(min_cluster_size=5, \n",
    "                        #metric='euclidean', cluster_selection_method='eom', \n",
    "                        prediction_data=True)"
   ]
  },
  {
   "cell_type": "code",
   "execution_count": null,
   "id": "e72172eb-f559-49f6-8c4d-823bce1bcbf8",
   "metadata": {},
   "outputs": [],
   "source": [
    "from bertopic.representation import KeyBERTInspired\n",
    "\n",
    "# Fine-tune your topic representations\n",
    "#representation_model = KeyBERTInspired()"
   ]
  },
  {
   "cell_type": "code",
   "execution_count": null,
   "id": "531d8364-a4d9-4412-b4e6-02a10c35973b",
   "metadata": {},
   "outputs": [],
   "source": [
    "from sklearn.feature_extraction.text import CountVectorizer\n",
    "vectorizer = CountVectorizer(min_df=5)"
   ]
  },
  {
   "cell_type": "code",
   "execution_count": null,
   "id": "0cf246e3-0c2e-46f3-8814-fd246080ab0a",
   "metadata": {},
   "outputs": [],
   "source": [
    "from bertopic import BERTopic\n",
    "\n",
    "topic_model = BERTopic(\n",
    "\n",
    "    # Pipeline models\n",
    "    embedding_model=embedding_model,\n",
    "\n",
    "    umap_model=umap_model,\n",
    "    #umap_model=empty_dimensionality_model,\n",
    "    \n",
    "    hdbscan_model=hdbscan_model,\n",
    "    #vectorizer_model=vectorizer_model,\n",
    "    #representation_model=representation_model,\n",
    "\n",
    "    seed_topic_list=seed_topic_list,\n",
    "    #zeroshot_topic_list=zeroshot_topic_list,\n",
    "    #zeroshot_min_similarity=.7,\n",
    "\n",
    "    # Hyperparameters\n",
    "    top_n_words=3,\n",
    "    #min_topic_size=20,\n",
    "    #verbose=True\n",
    ")\n",
    "\n",
    "# Train model\n",
    "topics, probs = topic_model.fit_transform(docs, embeddings)"
   ]
  },
  {
   "cell_type": "markdown",
   "id": "541ea9ae-c851-4227-99ce-b4b6ee83a5fa",
   "metadata": {},
   "source": [
    "## Post"
   ]
  },
  {
   "cell_type": "code",
   "execution_count": null,
   "id": "43ab62c3-e281-454f-a703-71ffd0e588a2",
   "metadata": {},
   "outputs": [],
   "source": [
    "# Show topics\n",
    "topic_model.get_topic_info()"
   ]
  },
  {
   "cell_type": "code",
   "execution_count": null,
   "id": "038c8ea1-f9c1-4785-b8d9-63780bd31c7b",
   "metadata": {
    "scrolled": true
   },
   "outputs": [],
   "source": [
    "# Get document-topic mapping\n",
    "doc_info = topic_model.get_document_info(docs)\n",
    "\n",
    "# Group document IDs by topic\n",
    "topic_to_docs = doc_info.groupby(\"Topic\").apply(lambda x: x.index.tolist(), include_groups=False)\n",
    "\n",
    "names = titles\n",
    "\n",
    "# Print topic-wise document IDs along with topic names (keywords)\n",
    "for topic, doc_ids in topic_to_docs.items():\n",
    "    if topic != -1:  # Ignore outlier topic (-1)\n",
    "        topic_keywords = \", \".join([word for word, _ in topic_model.get_topic(topic)])\n",
    "        print(f\"Topic {topic} ({topic_keywords})\")\n",
    "        nm = [names[x] for x in doc_ids]\n",
    "        nm = sorted(nm)\n",
    "        _ = [print(x) for x in nm]\n",
    "        #_ = [print(names[x]) for x in doc_ids]\n",
    "    print()"
   ]
  },
  {
   "cell_type": "code",
   "execution_count": null,
   "id": "37271ef9-d964-4bff-aa59-c04c94fca2d3",
   "metadata": {},
   "outputs": [],
   "source": [
    "topic_model.visualize_topics()"
   ]
  },
  {
   "cell_type": "code",
   "execution_count": null,
   "id": "65532322-9c30-4dc2-ad0c-da002876a88f",
   "metadata": {},
   "outputs": [],
   "source": [
    "# Reduce outliers with pre-calculate embeddings instead\n",
    "new_topics = topic_model.reduce_outliers(docs, topics, strategy=\"embeddings\", embeddings=embeddings)"
   ]
  },
  {
   "cell_type": "code",
   "execution_count": null,
   "id": "f28f3a9a-f1aa-4b7c-9e2b-a7235a814638",
   "metadata": {},
   "outputs": [],
   "source": [
    "topic_model.visualize_hierarchy()"
   ]
  },
  {
   "cell_type": "code",
   "execution_count": null,
   "id": "8193271e-81d7-46ca-a336-6a47e6664f58",
   "metadata": {},
   "outputs": [],
   "source": [
    "# Reduce dimensionality of embeddings, this step is optional but much faster to perform iteratively:\n",
    "reduced_embeddings = UMAP(n_neighbors=10, n_components=2, min_dist=0.0, metric='cosine').fit_transform(embeddings)\n",
    "\n",
    "# Visualize the documents in 2-dimensional space and show the titles on hover instead of the abstracts\n",
    "# NOTE: You can hide the hover with `hide_document_hover=True` which is especially helpful if you have a large dataset\n",
    "# NOTE: You can also hide the annotations with `hide_annotations=True` which is helpful to see the larger structure\n",
    "topic_model.visualize_documents(titles, reduced_embeddings=reduced_embeddings, custom_labels=True)"
   ]
  },
  {
   "cell_type": "markdown",
   "id": "4d408b8b-3614-4b68-8ab3-a02a103a3aa2",
   "metadata": {},
   "source": [
    "# Labeling"
   ]
  },
  {
   "cell_type": "code",
   "execution_count": null,
   "id": "b57ad18d-d092-4ff1-a667-e2f50a86f024",
   "metadata": {},
   "outputs": [],
   "source": [
    "# function to update label\n",
    "import numpy as np\n",
    "import pandas as pd\n",
    "\n",
    "path_data = 'data'\n",
    "\n",
    "def add_label(new, old, splitter='_'):\n",
    "    if isinstance(new, list):\n",
    "        new = splitter.join(new)\n",
    "        \n",
    "    if (old is None) or (old is np.nan):\n",
    "        return new\n",
    "\n",
    "    for n in new.split(splitter):\n",
    "        if n not in old:\n",
    "            old = f'{old}{splitter}{n}'\n",
    "    return old"
   ]
  },
  {
   "cell_type": "code",
   "execution_count": null,
   "id": "0c7583f4-0306-4670-9327-220908c24daa",
   "metadata": {
    "scrolled": true
   },
   "outputs": [],
   "source": [
    "# load labels\n",
    "file = 'funds_labels.csv'\n",
    "df_labels = pd.read_csv(f'{path_data}/{file}').set_index('ticker')"
   ]
  },
  {
   "cell_type": "code",
   "execution_count": null,
   "id": "50537836-3907-4246-8a08-f6de15edec74",
   "metadata": {
    "scrolled": true
   },
   "outputs": [],
   "source": [
    "df_labels['label'].str.split('_', expand=True).stack().value_counts().sort_index().to_dict()"
   ]
  },
  {
   "cell_type": "code",
   "execution_count": null,
   "id": "e952df2f-9f15-4e5b-964f-d933fbd67af4",
   "metadata": {},
   "outputs": [],
   "source": [
    "df_labels['label'].str.split('_', expand=True).stack().count()"
   ]
  },
  {
   "cell_type": "code",
   "execution_count": null,
   "id": "740e1b5c-289c-442b-be51-9bd4fc50480c",
   "metadata": {},
   "outputs": [],
   "source": [
    "# save just label for convenience of update\n",
    "from pprint import pformat\n",
    "\n",
    "file = 'funds_labels_desc.csv'\n",
    "df_labels.iloc[:, :-1].sort_index().to_csv(f'{path_data}/{file}')\n",
    "\n",
    "file = 'funds_labels_working.py'\n",
    "data = df_labels['label'].str.split('_').to_dict()\n",
    "with open(f'{path_data}/{file}', \"w\") as f:\n",
    "    f.write(pformat(dict(sorted(data.items()))))"
   ]
  },
  {
   "cell_type": "code",
   "execution_count": null,
   "id": "55976301-c48d-443f-87f3-5b2c9a15f816",
   "metadata": {},
   "outputs": [],
   "source": [
    "# update & save labels\n",
    "import ast\n",
    "\n",
    "file = 'funds_labels_working.py'\n",
    "with open(f'{path_data}/{file}', \"r\") as f:\n",
    "    tkrs = f.read()  # Reads the whole file\n",
    "tkrs = ast.literal_eval(tkrs)\n",
    "\n",
    "file = 'funds_labels.csv'\n",
    "df_labels = pd.read_csv(f'{path_data}/{file}').set_index('ticker')\n",
    "df_labels.loc[tkrs.keys(), 'label'] = df_labels.loc[tkrs.keys()].apply(lambda x: add_label(tkrs[x.name], x['label']), axis=1)\n",
    "df_labels.to_csv(f'{path_data}/{file}')"
   ]
  },
  {
   "cell_type": "code",
   "execution_count": null,
   "id": "ec32127e-3bce-43c9-b0da-61c5b7443fa0",
   "metadata": {},
   "outputs": [],
   "source": [
    "l = df_labels['label'].str.split('_', expand=True).stack().value_counts().sort_index().to_dict()\n",
    "l['공모주']"
   ]
  },
  {
   "cell_type": "code",
   "execution_count": null,
   "id": "2fc86217-c965-483a-bc65-87ffbced6457",
   "metadata": {},
   "outputs": [],
   "source": [
    "w = 'uh'\n",
    "cond = df_labels['name'].str.contains(w, regex=False)\n",
    "df_labels.loc[cond, 'name']"
   ]
  },
  {
   "cell_type": "code",
   "execution_count": null,
   "id": "0b271848-d0a5-452c-8ffe-1d6b4b8def34",
   "metadata": {},
   "outputs": [],
   "source": [
    "import re\n",
    "words = ['UH', '공모주']\n",
    "labels = dict(zip(words, words))\n",
    "\n",
    "for w, l in labels.items():\n",
    "    cond = df_labels['name'].str.lower().str.contains(w.lower(), regex=False)\n",
    "    df_labels.loc[cond, 'label'] = df_labels.loc[cond, 'label'].apply(lambda x: add_label(l, x))"
   ]
  },
  {
   "cell_type": "code",
   "execution_count": null,
   "id": "6f2294b0-e5a5-4e91-88ac-9f197bb61b1c",
   "metadata": {},
   "outputs": [],
   "source": [
    "df_labels['label'].str.split('_', expand=True).stack().count()"
   ]
  },
  {
   "cell_type": "code",
   "execution_count": null,
   "id": "fc0ce293-4789-4619-891e-48216ea50045",
   "metadata": {},
   "outputs": [],
   "source": [
    "file = 'funds_labels.csv'\n",
    "df_labels.to_csv(f'{path_data}/{file}')"
   ]
  },
  {
   "cell_type": "markdown",
   "id": "d67293a6-0709-40c4-bbae-29b94c3b14a5",
   "metadata": {},
   "source": [
    "### Done"
   ]
  },
  {
   "cell_type": "code",
   "execution_count": null,
   "id": "422f29bd-81b3-412a-b460-7946b84f1d62",
   "metadata": {},
   "outputs": [],
   "source": [
    "#df_labels['label'].value_counts().sort_values()[-10:]\n",
    "cond = df_labels['label'].value_counts().sort_index()[:10]\n",
    "#cond = df_labels['label'].value_counts().sort_index()[10:20]\n",
    "cond.index"
   ]
  },
  {
   "cell_type": "code",
   "execution_count": null,
   "id": "2aa14c8a-226f-48f7-8faf-576c06045ef9",
   "metadata": {},
   "outputs": [],
   "source": [
    "#cond = df_labels['label'] == 'TDF_혼합'\n",
    "cond = df_labels['label'].isin(cond.index)\n",
    "df = df_labels.loc[cond]"
   ]
  },
  {
   "cell_type": "code",
   "execution_count": null,
   "id": "7a0147cd-9dbd-4129-8f2e-c46ee1f7b929",
   "metadata": {
    "scrolled": true
   },
   "outputs": [],
   "source": [
    "# save just label for convenience of update\n",
    "from pprint import pformat\n",
    "\n",
    "file = 'funds_working.csv'\n",
    "df.iloc[:, :-1].sort_index().to_csv(f'{path_data}/{file}')\n",
    "\n",
    "file = 'funds_labeling.py'\n",
    "data = df['label'].str.split('_').to_dict()\n",
    "with open(f'{path_data}/{file}', \"w\") as f:\n",
    "    f.write(pformat(dict(sorted(data.items()))))"
   ]
  },
  {
   "cell_type": "code",
   "execution_count": null,
   "id": "7f8da2ed-155c-4cf9-910a-b062ba6d2246",
   "metadata": {},
   "outputs": [],
   "source": [
    "# update & save labels\n",
    "import ast\n",
    "\n",
    "file = 'funds_labeling.py'\n",
    "with open(f'{path_data}/{file}', \"r\") as f:\n",
    "    tkrs = f.read()  # Reads the whole file\n",
    "tkrs = ast.literal_eval(tkrs)\n",
    "\n",
    "file = 'funds_labels_250221.csv'\n",
    "df_labels = pd.read_csv(f'{path_data}/{file}').set_index('ticker')\n",
    "df_labels.loc[tkrs.keys(), 'label'] = df_labels.loc[tkrs.keys()].apply(lambda x: add_label(tkrs[x.name], x['label']), axis=1)\n",
    "df_labels.to_csv(f'{path_data}/{file}')"
   ]
  },
  {
   "cell_type": "code",
   "execution_count": null,
   "id": "4de249ca-063a-413f-b875-fd2207625e4d",
   "metadata": {},
   "outputs": [],
   "source": [
    "df_labels['label'].str.split('_', expand=True).stack().value_counts()\n",
    "#df_labels['label'].str.split('_', expand=True).stack().count()"
   ]
  },
  {
   "cell_type": "code",
   "execution_count": null,
   "id": "19d145c1-cafa-4451-97ce-6c4501d98a6d",
   "metadata": {},
   "outputs": [],
   "source": [
    "file = 'funds_labels_250221.csv'\n",
    "df_labels = pd.read_csv(f'{path_data}/{file}').set_index('ticker')\n",
    "df_labels['label'].str.split('_', expand=True).stack().value_counts()"
   ]
  },
  {
   "cell_type": "code",
   "execution_count": null,
   "id": "ccc37c1a-eb67-4038-999e-05350eea17b6",
   "metadata": {},
   "outputs": [],
   "source": [
    "import re\n",
    "words = ['AB', 'BNK', 'KB', '슈로더', '피델리티', '에셋플러스', 'IBK', 'iM에셋', 'KCGI',\n",
    "        '교보악사', '다올', '대신', '마이다스', '신영', '신한', '유리', '유진', '이스트스프링',\n",
    "        '키움', '트러스톤', '한국밸류', '한국투자', '한화']\n",
    "labels = dict(zip(words, words))\n",
    "labels.update({\n",
    "    '미래에셋': '미래',\n",
    "    'NH-Amundi': 'NH-AMUNDI',\n",
    "})\n",
    "\n",
    "for w, l in labels.items():\n",
    "    cond = df_labels['name'].str.lower().str.contains(w.lower(), regex=False)\n",
    "    df_labels.loc[cond, 'label'] = df_labels.loc[cond, 'label'].apply(lambda x: add_label(l, x))"
   ]
  },
  {
   "cell_type": "code",
   "execution_count": null,
   "id": "f52ece7d-cd86-4b3a-8f67-091ef47478e6",
   "metadata": {},
   "outputs": [],
   "source": [
    "df_labels['label'].str.split('_', expand=True).stack().value_counts().sort_index().index"
   ]
  },
  {
   "cell_type": "code",
   "execution_count": null,
   "id": "9ec865c3-f29d-4a91-bd82-9ae0c80d9e23",
   "metadata": {},
   "outputs": [],
   "source": [
    "w = r'^삼성'\n",
    "#w = r'^우리'\n",
    "#cond = df_labels['name'].str.contains(w, regex=True)\n",
    "#df_labels.loc[cond, 'name']\n",
    "\n",
    "labels = {\n",
    "    r'^삼성': '삼성',\n",
    "    r'^우리': '우리',\n",
    "}\n",
    "\n",
    "for w, l in labels.items():\n",
    "    cond = df_labels['name'].str.contains(w, regex=True)\n",
    "    df_labels.loc[cond, 'label'] = df_labels.loc[cond, 'label'].apply(lambda x: add_label(l, x))"
   ]
  },
  {
   "cell_type": "code",
   "execution_count": null,
   "id": "b730e60e-12f0-4c51-8b32-cf7a11ed9c73",
   "metadata": {},
   "outputs": [],
   "source": [
    "df = df_labels['label'].str.split('_', expand=True).stack().value_counts()\n",
    "df.loc[df.index.isin(['우리', '삼성', '미래에셋'])]"
   ]
  },
  {
   "cell_type": "code",
   "execution_count": null,
   "id": "d7b55984-a818-4466-a0cf-d5f6300c65c2",
   "metadata": {},
   "outputs": [],
   "source": [
    "w = '한국밸류'\n",
    "cond = df_labels['name'].str.contains(w, regex=False)\n",
    "df_labels.loc[cond, 'name']"
   ]
  },
  {
   "cell_type": "code",
   "execution_count": null,
   "id": "f984495d-4157-4c10-ba70-ff4b5f4a755d",
   "metadata": {},
   "outputs": [],
   "source": [
    "df_labels.loc[:, 'label'] = df_labels['label'].apply(lambda x: x.replace('미래', '미래에셋')) "
   ]
  },
  {
   "cell_type": "code",
   "execution_count": null,
   "id": "8d0da7ad-6a76-4096-8f97-20512b0cc3ee",
   "metadata": {},
   "outputs": [],
   "source": [
    "file = 'funds_labels_250221.csv'\n",
    "df_labels.to_csv(f'{path_data}/{file}')"
   ]
  },
  {
   "cell_type": "code",
   "execution_count": null,
   "id": "8465e4a8-9f96-429e-afd0-5285354539ff",
   "metadata": {},
   "outputs": [],
   "source": []
  },
  {
   "cell_type": "markdown",
   "id": "b8d04920-1ce1-4fe4-80e9-434662586bc7",
   "metadata": {},
   "source": [
    "### Done"
   ]
  },
  {
   "cell_type": "code",
   "execution_count": null,
   "id": "e47fe1a9-6239-476a-9f71-277479e62413",
   "metadata": {
    "scrolled": true
   },
   "outputs": [],
   "source": [
    "import pandas as pd\n",
    "import numpy as np\n",
    "\n",
    "file = 'funds_labels_250221.csv'\n",
    "path_data = 'data'\n",
    "df = pd.read_csv(f'{path_data}/{file}').set_index('ticker')"
   ]
  },
  {
   "cell_type": "code",
   "execution_count": null,
   "id": "b1b44313-6139-43e0-8a2b-05a169709f97",
   "metadata": {},
   "outputs": [],
   "source": [
    "#l = r'[\\[(]채권(?![\\])])'\n",
    "l = '인컴'\n",
    "col = 'name'\n",
    "#col = 'desc'\n",
    "#cond = df[col].str.contains(l, regex=True)\n",
    "cond = df[col].str.contains(l, regex=False)\n",
    "df.loc[cond]"
   ]
  },
  {
   "cell_type": "code",
   "execution_count": null,
   "id": "e31fc0ca-06f5-47d8-b42a-6791444e4a2a",
   "metadata": {},
   "outputs": [],
   "source": [
    "#df_labels.loc[tkrs.keys(), 'label'] = df_labels.loc[tkrs.keys()].apply(lambda x: add_label(tkrs[x.name], x['label']), axis=1)\n",
    "i = ['인컴']\n",
    "df.loc[cond, 'label'] = df.loc[cond, 'label'].apply(lambda x: add_label(l, x))"
   ]
  },
  {
   "cell_type": "code",
   "execution_count": null,
   "id": "d1cc39ef-0a0f-47b0-9082-91adeec503f0",
   "metadata": {},
   "outputs": [],
   "source": [
    "file = 'funds_labels_250221.csv'\n",
    "df.to_csv(f'{path_data}/{file}')"
   ]
  },
  {
   "cell_type": "code",
   "execution_count": null,
   "id": "0981e6be-2fa4-4b3d-a4a0-b3ff280d20ad",
   "metadata": {},
   "outputs": [],
   "source": []
  },
  {
   "cell_type": "code",
   "execution_count": null,
   "id": "83749c61-c89c-426c-9f1e-c6a7db58c13d",
   "metadata": {},
   "outputs": [],
   "source": [
    "df_labels"
   ]
  },
  {
   "cell_type": "code",
   "execution_count": null,
   "id": "a03c6ce0-cf9c-4241-a955-de2690ec42a3",
   "metadata": {},
   "outputs": [],
   "source": []
  },
  {
   "cell_type": "code",
   "execution_count": null,
   "id": "6f1ad688-29b2-419c-b47c-f767cbbaf40d",
   "metadata": {},
   "outputs": [],
   "source": []
  },
  {
   "cell_type": "code",
   "execution_count": null,
   "id": "43fd7ac2-c506-41e3-b520-49943f1702cf",
   "metadata": {},
   "outputs": [],
   "source": [
    "import re\n",
    "words = ['TDF', 'TIF', '배당', 'EMP', '인덱스', '(주식)', '[주식]', '(주식', '[주식', \n",
    "         '(채권)', '[채권]', '(채권', '[채권', '혼합', '성장', 'MMF', '리츠', '반도체', 'ESG',\n",
    "         '아시아', '중국', '인도', '베트남']\n",
    "labels = [re.sub(r'[^a-zA-Z0-9\\s가-힣]', '', x) for x in words]\n",
    "labels = dict(zip(words, labels))\n",
    "\n",
    "labels.update({\n",
    "    '차이나':'중국', '인디아':'인도', '로보':'로보틱스', '국공채':'채권'\n",
    "})\n",
    "\n",
    "df['label'] = None\n",
    "for w, l in labels.items():\n",
    "    cond = df['name'].str.contains(w, regex=False)\n",
    "    df.loc[cond, 'label'] = df.loc[cond, 'label'].apply(lambda x: add_label(l, x))"
   ]
  },
  {
   "cell_type": "raw",
   "id": "698688ab-664a-4f7e-ac4b-9f6360663887",
   "metadata": {},
   "source": [
    "주식, 채권, 혼합, MMF, 파생, EMP,\n",
    "성장, 가치, 배당\n",
    "인덱스, 상장지수, 주가지수연계\n",
    "미국, 유럽, 중국, 인도, 아시아, 한국, 글로벌\n",
    "기술, 반도체, 전기차, 로보틱스, 리츠, 금융, 인프라, 정보통신, 금, ESG, 에너지, 수소, 부품소재, 테크, 의료, 소비, 광업\n",
    "TDF, TIF"
   ]
  },
  {
   "cell_type": "code",
   "execution_count": null,
   "id": "e1c49b19-5e2a-4baf-a1f7-d88157d0d8e7",
   "metadata": {},
   "outputs": [],
   "source": [
    "import ast\n",
    "\n",
    "file = \"funds_labeling.py\"\n",
    "path = 'data'\n",
    "\n",
    "with open(f'{path}/{file}', \"r\") as f:\n",
    "    tkrs = f.read()  # Reads the whole file\n",
    "\n",
    "tkrs = ast.literal_eval(tkrs)\n",
    "\n",
    "#df.loc[tkrs, 'label'] = df.loc[tkrs, 'label'].apply(lambda x: add_label(new, x))\n",
    "df.loc[tkrs.keys(), 'label'] = df.loc[tkrs.keys()].apply(lambda x: add_label(tkrs[x.name], x['label']), axis=1)"
   ]
  },
  {
   "cell_type": "code",
   "execution_count": null,
   "id": "824bed50-326c-4941-af35-9e8bd0529d98",
   "metadata": {},
   "outputs": [],
   "source": [
    "df['label'].value_counts().sort_values()[-10:]"
   ]
  },
  {
   "cell_type": "code",
   "execution_count": null,
   "id": "4b9e73c5-0fb0-48c9-9607-d86567c1ec9b",
   "metadata": {},
   "outputs": [],
   "source": [
    "#cond = df['label'].isna()\n",
    "cond = df['label'] == 'TDF_혼합'\n",
    "cond.sum()"
   ]
  },
  {
   "cell_type": "code",
   "execution_count": null,
   "id": "e4c42d94-ca96-4e6d-9c13-ff4beb0f6798",
   "metadata": {},
   "outputs": [],
   "source": [
    "df.loc[cond].iloc[:, :-1].to_csv('data/funds_working.csv')"
   ]
  },
  {
   "cell_type": "code",
   "execution_count": null,
   "id": "849a39aa-150b-461d-8f9d-fae1c328f35e",
   "metadata": {},
   "outputs": [],
   "source": [
    "df.to_csv('data/funds_labels.csv')"
   ]
  },
  {
   "cell_type": "code",
   "execution_count": null,
   "id": "ea75bea1-bdba-4c66-8d08-f8e3ad128836",
   "metadata": {},
   "outputs": [],
   "source": []
  },
  {
   "cell_type": "markdown",
   "id": "957959c3-2754-45ea-a1f3-2d7e8d07088c",
   "metadata": {},
   "source": [
    "# testing"
   ]
  },
  {
   "cell_type": "code",
   "execution_count": 3,
   "id": "650a0de7-ae64-491d-b2b8-e0696800d50d",
   "metadata": {},
   "outputs": [
    {
     "name": "stdout",
     "output_type": "stream",
     "text": [
      "Looping... done.\n",
      "Execution time of test: 2 mins\n"
     ]
    }
   ],
   "source": [
    "from pf_utils import print_runtime\n",
    "\n",
    "import time\n",
    "\n",
    "@print_runtime\n",
    "def test(duration = 120):\n",
    "    start_time = time.time()  # Record the start time\n",
    "\n",
    "    print(\"Looping...\", end=' ')\n",
    "    while time.time() - start_time < duration:\n",
    "        time.sleep(1)  # Sleep for 1 second to avoid excessive CPU usage\n",
    "\n",
    "    print('done.')\n",
    "    return None\n",
    "\n",
    "\n",
    "test(120)\n"
   ]
  },
  {
   "cell_type": "code",
   "execution_count": null,
   "id": "9e5dff33-0a14-4e53-9ecb-a91bee72d2ab",
   "metadata": {},
   "outputs": [],
   "source": []
  }
 ],
 "metadata": {
  "kernelspec": {
   "display_name": "portfolio",
   "language": "python",
   "name": "portfolio"
  },
  "language_info": {
   "codemirror_mode": {
    "name": "ipython",
    "version": 3
   },
   "file_extension": ".py",
   "mimetype": "text/x-python",
   "name": "python",
   "nbconvert_exporter": "python",
   "pygments_lexer": "ipython3",
   "version": "3.12.1"
  }
 },
 "nbformat": 4,
 "nbformat_minor": 5
}
