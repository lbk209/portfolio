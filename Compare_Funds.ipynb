{
 "cells": [
  {
   "cell_type": "markdown",
   "id": "bfa8fd41-711c-4c5d-b97b-7c19f99c38e2",
   "metadata": {},
   "source": [
    "# Setting"
   ]
  },
  {
   "cell_type": "code",
   "execution_count": null,
   "id": "cc6e06a2-5a26-411e-9b8b-59f1a50da756",
   "metadata": {},
   "outputs": [],
   "source": [
    "from pf_utils import PortfolioManager as PM \n",
    "from pf_utils import BayesianEstimator, performance_stats, get_date_range, METRICS"
   ]
  },
  {
   "cell_type": "code",
   "execution_count": null,
   "id": "f713901a-c7f0-41f0-bb1f-c50af24ead27",
   "metadata": {},
   "outputs": [],
   "source": [
    "path_data = 'data'\n",
    "path_tran = 'transaction'"
   ]
  },
  {
   "cell_type": "code",
   "execution_count": null,
   "id": "be9bb8fc-f077-4032-b695-a92d7bf0ee6d",
   "metadata": {},
   "outputs": [],
   "source": [
    "file_cost='transaction_cost'"
   ]
  },
  {
   "cell_type": "markdown",
   "id": "32f3d27d-4fde-4984-8c1e-c56a00877de0",
   "metadata": {},
   "source": [
    "# Data"
   ]
  },
  {
   "cell_type": "code",
   "execution_count": null,
   "id": "bafb6552-e6e1-4bf3-89ae-1085e3fe6cb4",
   "metadata": {},
   "outputs": [],
   "source": [
    "universe = 'UV_FUND'\n",
    "fund = PM.create_universe(universe)\n",
    "cost = PM.get_cost(universe, file=file_cost, path=path_tran)\n",
    "fee = cost['fee']"
   ]
  },
  {
   "cell_type": "code",
   "execution_count": null,
   "id": "338ef71c-e94e-4110-aee6-e6e099b491b4",
   "metadata": {},
   "outputs": [],
   "source": [
    "df_prices = fund.df_prices\n",
    "df_prices_fees = fund._get_prices_after_fee(df_prices, fee)"
   ]
  },
  {
   "cell_type": "code",
   "execution_count": null,
   "id": "a101d1d3-e402-4508-8986-ba554782b8a9",
   "metadata": {},
   "outputs": [],
   "source": [
    "days_in_year = fund.days_in_year\n",
    "df_year = get_date_range(df_prices).loc[:, 'n'].div(days_in_year).rename('year')\n",
    "_ = df_year.groupby(df_year.round()).count().cumsum().div(df_year.count()).plot(title='Cumulative distribution of data size')"
   ]
  },
  {
   "cell_type": "markdown",
   "id": "92a19c41-9803-4808-a876-956b81eb4de8",
   "metadata": {},
   "source": [
    "# Bayesian"
   ]
  },
  {
   "cell_type": "markdown",
   "id": "46217dcb-3436-46f2-81b7-a1e5a7a46bd2",
   "metadata": {},
   "source": [
    "*revert data to original montly for estimation*"
   ]
  },
  {
   "cell_type": "code",
   "execution_count": null,
   "id": "f232a15c-9f08-4755-8e06-4acdd5e034f6",
   "metadata": {},
   "outputs": [],
   "source": [
    "days_in_year = 12\n",
    "df_prc = df_prices_fees.resample('M').last()"
   ]
  },
  {
   "cell_type": "markdown",
   "id": "495e82c8-365f-48e8-8034-f03c9d958c68",
   "metadata": {},
   "source": [
    "## 1 Year Rate of Return"
   ]
  },
  {
   "cell_type": "code",
   "execution_count": null,
   "id": "1f230c1c-379b-4e1b-a534-72d2c4247118",
   "metadata": {},
   "outputs": [],
   "source": [
    "freq_year = 1\n",
    "min_year = 4 # min data size"
   ]
  },
  {
   "cell_type": "code",
   "execution_count": null,
   "id": "a5ca4a13-6c0d-47c4-b649-7e0ff17167d4",
   "metadata": {},
   "outputs": [],
   "source": [
    "file_est = f'fund_f{freq_year}y_s{min_year}y_250109'\n",
    "file_est"
   ]
  },
  {
   "cell_type": "markdown",
   "id": "5ca55086-9b2f-483a-9516-7b713d1dd878",
   "metadata": {},
   "source": [
    "### Split"
   ]
  },
  {
   "cell_type": "code",
   "execution_count": null,
   "id": "52c4d656-351a-4663-94b0-b4d79b583e40",
   "metadata": {},
   "outputs": [],
   "source": [
    "tickers = df_year.loc[df_year >= min_year].index.to_list()\n",
    "len(tickers)"
   ]
  },
  {
   "cell_type": "code",
   "execution_count": null,
   "id": "71c09381-ee8f-41fb-88a1-f2a3febbb40f",
   "metadata": {},
   "outputs": [],
   "source": [
    "n = freq_year * days_in_year\n",
    "df_p = df_prc[tickers]\n",
    "df_train = df_p.iloc[:-n]\n",
    "df_val = df_p.iloc[-n:]"
   ]
  },
  {
   "cell_type": "code",
   "execution_count": null,
   "id": "685d73ab-7872-4b78-b0c2-4b8030a9e623",
   "metadata": {},
   "outputs": [],
   "source": [
    "len(df_p), len(df_train), len(df_val)"
   ]
  },
  {
   "cell_type": "markdown",
   "id": "30c50d78-5d23-4225-bc06-b00c8f544b82",
   "metadata": {},
   "source": [
    "### Estimate"
   ]
  },
  {
   "cell_type": "code",
   "execution_count": null,
   "id": "d6f74b96-43c6-43b4-b181-d7f6896bcd75",
   "metadata": {},
   "outputs": [],
   "source": [
    "kw = dict(\n",
    "    days_in_year = days_in_year,\n",
    "    security_names = fund.security_names\n",
    ")"
   ]
  },
  {
   "cell_type": "markdown",
   "id": "c23b3735-6c37-49f0-a2e0-716ea59b87d2",
   "metadata": {},
   "source": [
    "*Sample*"
   ]
  },
  {
   "cell_type": "code",
   "execution_count": null,
   "id": "c71ba49f-cf5c-4dc2-85d3-3d40c74bc4ec",
   "metadata": {},
   "outputs": [],
   "source": [
    "freq = freq_year * days_in_year\n",
    "be = BayesianEstimator(df_train, **kw)\n",
    "be.bayesian_sample(freq=freq, file=file_est, path=path_data)"
   ]
  },
  {
   "cell_type": "markdown",
   "id": "9398ad69-9c3e-4cb6-967b-1ca5e0cf9278",
   "metadata": {},
   "source": [
    "*Load*"
   ]
  },
  {
   "cell_type": "code",
   "execution_count": null,
   "id": "cde9cf64-7e61-4756-91c0-9f56756c2ea4",
   "metadata": {},
   "outputs": [],
   "source": [
    "be = BayesianEstimator.create(file_est, path_data, **kw)"
   ]
  },
  {
   "cell_type": "markdown",
   "id": "faaefe84-d6f0-4755-9eda-48344afab3db",
   "metadata": {},
   "source": [
    "#### Visualize"
   ]
  },
  {
   "cell_type": "code",
   "execution_count": null,
   "id": "dd0a129c-4739-41e7-a3e8-d915337f1b7b",
   "metadata": {},
   "outputs": [],
   "source": [
    "#xlims = None\n",
    "xlims = [(-0.3, 0.4), (-1, 2.5)]\n",
    "_ = be.plot_returns(max_legend=10, xlims=xlims)"
   ]
  },
  {
   "cell_type": "markdown",
   "id": "d3cf0f3c-c2cb-47f3-bf94-4c3afe16561f",
   "metadata": {},
   "source": [
    "### Compare"
   ]
  },
  {
   "cell_type": "code",
   "execution_count": null,
   "id": "05d33066-9cfc-4a1c-a6f5-cf0c7a37df52",
   "metadata": {},
   "outputs": [],
   "source": [
    "#var_name = 'cagr'\n",
    "var_name = 'total_return' # freq 1y\n",
    "ms = ['mean','sd','hdi_3%','hdi_97%']\n",
    "ascending = [False, True, False, False]\n",
    "\n",
    "df_s = be.bayesian_summary(var_name).droplevel(0)\n",
    "pick = lambda i, n=5, df=df_s: df.sort_values(ms[i], ascending=ascending[i]).iloc[:n].index.to_list()"
   ]
  },
  {
   "cell_type": "code",
   "execution_count": null,
   "id": "1da07da1-c4e7-4ddd-990a-b3ca804fb5bf",
   "metadata": {},
   "outputs": [],
   "source": [
    "#df_s.isna().any(axis=1).sum()\n",
    "#df_s = df_s.dropna()"
   ]
  },
  {
   "cell_type": "code",
   "execution_count": null,
   "id": "496f6598-89ee-4eac-a2ed-5d7b6cf988a3",
   "metadata": {},
   "outputs": [],
   "source": [
    "t0 = pick(0)\n",
    "kw = dict(\n",
    "    ref_val='default', \n",
    "    figsize=(12,2.5), textsize=9, grid=(1,5), length=16)\n",
    "be.plot_posterior(var_name, t0, **kw)"
   ]
  },
  {
   "cell_type": "code",
   "execution_count": null,
   "id": "a4bb15ab-0868-4321-a7c8-1bd129056178",
   "metadata": {},
   "outputs": [],
   "source": [
    "t1 = pick(1)\n",
    "be.plot_posterior(var_name, t1, **kw)"
   ]
  },
  {
   "cell_type": "code",
   "execution_count": null,
   "id": "3ab171c9-a563-486f-a2f1-71554a424c35",
   "metadata": {},
   "outputs": [],
   "source": [
    "t2 = pick(2)\n",
    "be.plot_posterior(var_name, t2, **kw)"
   ]
  },
  {
   "cell_type": "code",
   "execution_count": null,
   "id": "9798997b-6392-46d6-80c0-447ca01c9d92",
   "metadata": {},
   "outputs": [],
   "source": [
    "t3 = pick(3)\n",
    "be.plot_posterior(var_name, t3, **kw)"
   ]
  },
  {
   "cell_type": "markdown",
   "id": "9ec22a00-4d0d-4ce0-89e6-ed79c67245fd",
   "metadata": {},
   "source": [
    "### Validate"
   ]
  },
  {
   "cell_type": "code",
   "execution_count": null,
   "id": "bc1d2a27-e712-4d79-93b5-db0d1c3d015d",
   "metadata": {},
   "outputs": [],
   "source": [
    "m = var_name\n",
    "start = df_val.index.min()\n",
    "fund.plot(t0, fee=fee, base=1000, metric=m, start_date=start)"
   ]
  },
  {
   "cell_type": "code",
   "execution_count": null,
   "id": "65dd51ed-325c-4ecf-a3d9-92ac29f664c3",
   "metadata": {},
   "outputs": [],
   "source": [
    "fund.plot(t2, fee=fee, base=1000, metric=m, start_date=start)"
   ]
  },
  {
   "cell_type": "markdown",
   "id": "4aee62f4-3472-46e6-8f0c-365ab0fe07ea",
   "metadata": {},
   "source": [
    "## 3 Year Rate of Return"
   ]
  },
  {
   "cell_type": "code",
   "execution_count": null,
   "id": "b10cdcdc-60d9-44a6-babf-7b00db3c44a8",
   "metadata": {},
   "outputs": [],
   "source": [
    "freq_year = 3"
   ]
  },
  {
   "cell_type": "markdown",
   "id": "7fc5c33c-9c25-4ee3-89d2-530c9b2e0131",
   "metadata": {},
   "source": [
    "### Min years 7"
   ]
  },
  {
   "cell_type": "code",
   "execution_count": null,
   "id": "26daf92e-6dfa-4657-9945-61a3e3c9eb2f",
   "metadata": {},
   "outputs": [],
   "source": [
    "min_year = 7 # min data size"
   ]
  },
  {
   "cell_type": "code",
   "execution_count": null,
   "id": "9f798aa3-84bb-4f48-9748-114a3fccaf3c",
   "metadata": {},
   "outputs": [],
   "source": [
    "file_est = f'fund_f{freq_year}y_s{min_year}y_250109'\n",
    "file_est"
   ]
  },
  {
   "cell_type": "markdown",
   "id": "5961d7ef-9771-4e31-ba72-b3558ba6c8b6",
   "metadata": {},
   "source": [
    "#### Split"
   ]
  },
  {
   "cell_type": "code",
   "execution_count": null,
   "id": "7c372335-fe4a-4068-9f90-68cbc4eea4e5",
   "metadata": {},
   "outputs": [],
   "source": [
    "tickers = df_year.loc[df_year >= min_year].index.to_list()\n",
    "len(tickers)"
   ]
  },
  {
   "cell_type": "code",
   "execution_count": null,
   "id": "d5d19d1f-5ea7-4f59-b580-1f344b2adc68",
   "metadata": {},
   "outputs": [],
   "source": [
    "n = freq_year * days_in_year\n",
    "df_p = df_prc[tickers]\n",
    "df_train = df_p.iloc[:-n]\n",
    "df_val = df_p.iloc[-n:]"
   ]
  },
  {
   "cell_type": "code",
   "execution_count": null,
   "id": "840998e1-0ef7-47a3-8f5f-c87fe603de50",
   "metadata": {},
   "outputs": [],
   "source": [
    "len(df_p), len(df_train), len(df_val)"
   ]
  },
  {
   "cell_type": "markdown",
   "id": "2b5e060b-d40a-43b2-88bb-913909992485",
   "metadata": {},
   "source": [
    "#### Estimate"
   ]
  },
  {
   "cell_type": "code",
   "execution_count": null,
   "id": "9d2d139c-bf98-4110-a6fc-05771d8ecdc9",
   "metadata": {},
   "outputs": [],
   "source": [
    "kw = dict(\n",
    "    days_in_year = days_in_year,\n",
    "    security_names = fund.security_names\n",
    ")"
   ]
  },
  {
   "cell_type": "markdown",
   "id": "fcce9766-ddb2-47a1-ab4d-41281d1a80bf",
   "metadata": {},
   "source": [
    "*Sample*"
   ]
  },
  {
   "cell_type": "code",
   "execution_count": null,
   "id": "57953b4b-a596-4f06-9061-dab326b65838",
   "metadata": {},
   "outputs": [],
   "source": [
    "freq = freq_year * days_in_year\n",
    "be = BayesianEstimator(df_train, **kw)\n",
    "be.bayesian_sample(freq=freq, file=file_est, path=path_data)"
   ]
  },
  {
   "cell_type": "markdown",
   "id": "62450eab-7267-437d-bf51-336aaad39b18",
   "metadata": {},
   "source": [
    "*Load*"
   ]
  },
  {
   "cell_type": "code",
   "execution_count": null,
   "id": "126011e2-1be1-45b4-90f9-a7a146a017c5",
   "metadata": {},
   "outputs": [],
   "source": [
    "be = BayesianEstimator.create(file_est, path_data, **kw)"
   ]
  },
  {
   "cell_type": "markdown",
   "id": "bbbe4755-fcb9-474d-9edd-e871b11ea59f",
   "metadata": {},
   "source": [
    "##### Visualize"
   ]
  },
  {
   "cell_type": "code",
   "execution_count": null,
   "id": "d76eff9c-f0fd-4c5d-b7ef-4b0d938a80dd",
   "metadata": {},
   "outputs": [],
   "source": [
    "#xlims = None\n",
    "xlims = [(-0.5, 1.5), (-0.5, 6)]\n",
    "_ = be.plot_returns(max_legend=10, xlims=xlims)"
   ]
  },
  {
   "cell_type": "markdown",
   "id": "1109923e-e2a2-4a5c-8c20-7908afbda621",
   "metadata": {},
   "source": [
    "#### Compare"
   ]
  },
  {
   "cell_type": "code",
   "execution_count": null,
   "id": "7d684a8d-36f3-4907-8712-23a0141a6cbb",
   "metadata": {},
   "outputs": [],
   "source": [
    "#var_name = 'cagr'\n",
    "var_name = 'total_return'\n",
    "ms = ['mean','sd','hdi_3%','hdi_97%']\n",
    "ascending = [False, True, False, False]\n",
    "\n",
    "df_s = be.bayesian_summary(var_name).droplevel(0)\n",
    "pick = lambda i, n=5, df=df_s: df.sort_values(ms[i], ascending=ascending[i]).iloc[:n].index.to_list()"
   ]
  },
  {
   "cell_type": "code",
   "execution_count": null,
   "id": "592ff7c8-638c-40fe-b79f-33ac41eaf225",
   "metadata": {},
   "outputs": [],
   "source": [
    "#df_s.isna().any(axis=1).sum()\n",
    "#df_s = df_s.dropna()"
   ]
  },
  {
   "cell_type": "code",
   "execution_count": null,
   "id": "b5a60c24-7dcf-4b25-9394-2d10e2bf7b83",
   "metadata": {},
   "outputs": [],
   "source": [
    "t0 = pick(0)\n",
    "kw = dict(\n",
    "    ref_val='default', \n",
    "    figsize=(12,2.5), textsize=9, grid=(1,5), length=16)\n",
    "be.plot_posterior(var_name, t0, **kw)"
   ]
  },
  {
   "cell_type": "code",
   "execution_count": null,
   "id": "35d82436-6561-4e23-b4b7-833741b19160",
   "metadata": {},
   "outputs": [],
   "source": [
    "t2 = pick(2)\n",
    "be.plot_posterior(var_name, t2, **kw)"
   ]
  },
  {
   "cell_type": "code",
   "execution_count": null,
   "id": "c2dfa922-01bd-4cb9-82e1-3105bdc01853",
   "metadata": {},
   "outputs": [],
   "source": [
    "t3 = pick(3)\n",
    "be.plot_posterior(var_name, t3, **kw)"
   ]
  },
  {
   "cell_type": "markdown",
   "id": "02d70c87-7f59-4fa1-892f-8c33ad067620",
   "metadata": {},
   "source": [
    "#### Validate"
   ]
  },
  {
   "cell_type": "code",
   "execution_count": null,
   "id": "bbe04ae1-198d-4e13-8c54-d8c9738bafbb",
   "metadata": {},
   "outputs": [],
   "source": [
    "m = var_name\n",
    "start = df_val.index.min()\n",
    "fund.plot(t2, fee=fee, base=1000, metric=m, start_date=start)"
   ]
  },
  {
   "cell_type": "code",
   "execution_count": null,
   "id": "6e1becf4-707a-4187-a0f0-7c8763c9eeda",
   "metadata": {},
   "outputs": [],
   "source": [
    "fund.plot(t0, fee=fee, base=1000, metric=m, start_date=start)"
   ]
  },
  {
   "cell_type": "markdown",
   "id": "eef51807-6087-4ebd-b8a9-a8c825bdb721",
   "metadata": {},
   "source": [
    "### Min years 3 w/o Validation"
   ]
  },
  {
   "cell_type": "code",
   "execution_count": null,
   "id": "c2d66e89-e8f1-4f0d-ad18-db1ba2a192d4",
   "metadata": {},
   "outputs": [],
   "source": [
    "min_year = 3 # min data size"
   ]
  },
  {
   "cell_type": "code",
   "execution_count": null,
   "id": "55b8d69e-277c-488b-8b2a-dc69dc24b4d0",
   "metadata": {},
   "outputs": [],
   "source": [
    "file_est = f'fund_f{freq_year}y_s{min_year}y_250109'\n",
    "file_est"
   ]
  },
  {
   "cell_type": "markdown",
   "id": "f6275e8e-bd6d-4f0d-ae2e-3b3b567224a3",
   "metadata": {},
   "source": [
    "#### Split"
   ]
  },
  {
   "cell_type": "code",
   "execution_count": null,
   "id": "7392181a-e7f4-4161-beae-96a4958bafe4",
   "metadata": {},
   "outputs": [],
   "source": [
    "tickers = df_year.loc[df_year >= min_year].index.to_list()\n",
    "len(tickers)"
   ]
  },
  {
   "cell_type": "markdown",
   "id": "a6494efd-5098-4362-92f3-9f4e1f6260b0",
   "metadata": {},
   "source": [
    "*no validation*"
   ]
  },
  {
   "cell_type": "code",
   "execution_count": null,
   "id": "ff9c3ffc-2a30-4499-ab64-85cabb18cfd1",
   "metadata": {},
   "outputs": [],
   "source": [
    "df_p = df_prc[tickers]\n",
    "df_train = df_p"
   ]
  },
  {
   "cell_type": "code",
   "execution_count": null,
   "id": "4b316ae4-5d5c-4888-bfaa-024c9bb12472",
   "metadata": {},
   "outputs": [],
   "source": [
    "len(df_train)"
   ]
  },
  {
   "cell_type": "markdown",
   "id": "9b8d6734-56e9-4618-bd46-f5aa56f4b679",
   "metadata": {},
   "source": [
    "#### Estimate"
   ]
  },
  {
   "cell_type": "code",
   "execution_count": null,
   "id": "89ee0439-ccd2-4067-a211-ca9a50abd300",
   "metadata": {},
   "outputs": [],
   "source": [
    "kw = dict(\n",
    "    days_in_year = days_in_year,\n",
    "    security_names = fund.security_names\n",
    ")"
   ]
  },
  {
   "cell_type": "markdown",
   "id": "6fb860b9-8b2f-41a6-8442-b353093226ec",
   "metadata": {},
   "source": [
    "*Sample*"
   ]
  },
  {
   "cell_type": "code",
   "execution_count": null,
   "id": "c741230e-2613-4ec2-85f5-905ac4cdaf9a",
   "metadata": {},
   "outputs": [],
   "source": [
    "freq = freq_year * days_in_year\n",
    "be = BayesianEstimator(df_train, **kw)\n",
    "# uncomment for new sampling \n",
    "#be.bayesian_sample(freq=freq, file=file_est, path=path_data)"
   ]
  },
  {
   "cell_type": "markdown",
   "id": "2cd9f15c-947d-4c63-bd34-bc1396274546",
   "metadata": {},
   "source": [
    "*Load*"
   ]
  },
  {
   "cell_type": "code",
   "execution_count": null,
   "id": "4304de40-f6fd-4db5-9ceb-6ecdc1bc360e",
   "metadata": {},
   "outputs": [],
   "source": [
    "be = BayesianEstimator.create(file_est, path_data, **kw)"
   ]
  },
  {
   "cell_type": "markdown",
   "id": "c864616d-7788-4d90-9171-711b598b0e9a",
   "metadata": {},
   "source": [
    "##### Visualize"
   ]
  },
  {
   "cell_type": "code",
   "execution_count": null,
   "id": "4b37be70-47f2-43a0-a5e6-6e2c1e1a684f",
   "metadata": {},
   "outputs": [],
   "source": [
    "#xlims = None\n",
    "xlims = [(-0.3, 0.8), (-4, 10)]\n",
    "_ = be.plot_returns(max_legend=10, xlims=xlims)"
   ]
  },
  {
   "cell_type": "markdown",
   "id": "5943fee8-f6cd-464c-990f-2d83531220b2",
   "metadata": {},
   "source": [
    "#### Compare"
   ]
  },
  {
   "cell_type": "code",
   "execution_count": null,
   "id": "310e75b1-d761-4979-9760-a7362a844bbf",
   "metadata": {},
   "outputs": [],
   "source": [
    "var_name = 'total_return'\n",
    "ms = ['mean','sd','hdi_3%','hdi_97%']\n",
    "ascending = [False, True, False, False]\n",
    "\n",
    "df_s = be.bayesian_summary(var_name).droplevel(0)\n",
    "pick = lambda i, n=5: df_s.sort_values(ms[i], ascending=ascending[i]).iloc[:n].index.to_list()"
   ]
  },
  {
   "cell_type": "code",
   "execution_count": null,
   "id": "08890f8f-15b0-44ce-8564-cb9086f8e92d",
   "metadata": {},
   "outputs": [],
   "source": [
    "t0 = pick(0)\n",
    "kw = dict(\n",
    "    plotly=False,\n",
    "    ref_val='default', \n",
    "    figsize=(12,3), textsize=9, grid=(1,5), length=16)\n",
    "be.plot_posterior(var_name, t0, **kw)"
   ]
  },
  {
   "cell_type": "code",
   "execution_count": null,
   "id": "f1afd598-e878-41f5-bce0-a5b259109e39",
   "metadata": {},
   "outputs": [],
   "source": [
    "be.plot_posterior(var_name, t0, error=0.9999)"
   ]
  },
  {
   "cell_type": "code",
   "execution_count": null,
   "id": "01ab14ed-a4ae-467c-8a9a-9878bb3c286b",
   "metadata": {},
   "outputs": [],
   "source": [
    "t2 = pick(2)\n",
    "be.plot_posterior(var_name, t2)"
   ]
  },
  {
   "cell_type": "code",
   "execution_count": null,
   "id": "9ac8e883-317e-4bc4-9270-ea9ed5cf94b2",
   "metadata": {},
   "outputs": [],
   "source": [
    "t3 = pick(3)\n",
    "be.plot_posterior(var_name, t3)"
   ]
  },
  {
   "cell_type": "markdown",
   "id": "08e60dfd-3b9e-4b95-b9ef-2dd6519119ea",
   "metadata": {},
   "source": [
    "*choice from frequentist stats*"
   ]
  },
  {
   "cell_type": "code",
   "execution_count": null,
   "id": "35737c38-3e70-4c5d-b975-bfbddbe39454",
   "metadata": {},
   "outputs": [],
   "source": [
    "n = 5\n",
    "t = be.get_stats(var_name).T.sort_values(var_name, ascending=False).iloc[:n].index.to_list()\n",
    "be.plot_posterior(var_name, t)"
   ]
  },
  {
   "cell_type": "markdown",
   "id": "f5022fe5-913a-4540-a9e3-7490cd79d176",
   "metadata": {},
   "source": [
    "#### Cases"
   ]
  },
  {
   "cell_type": "markdown",
   "id": "6605d243-6be2-45bf-bab8-1b0a120571bf",
   "metadata": {},
   "source": [
    "##### TDF"
   ]
  },
  {
   "cell_type": "code",
   "execution_count": null,
   "id": "f00b656a-f055-44b8-acdb-39ead6666572",
   "metadata": {},
   "outputs": [],
   "source": [
    "from math import ceil\n",
    "tdf = 'tdf2030'\n",
    "t9 = pick(2, 99)\n",
    "t9 = [x for x in t9 if tdf in fund.security_names[x].lower()]\n",
    "grid = (ceil(len(t9)/5), 5)\n",
    "#be.plot_posterior(var_name, t9, **{**kw, 'grid':grid, 'figsize':(12,3*grid[0])})\n",
    "be.plot_posterior(var_name, t9)"
   ]
  },
  {
   "cell_type": "markdown",
   "id": "47a1f513-3675-4b82-9240-9894975bab9c",
   "metadata": {},
   "source": [
    "##### Asia"
   ]
  },
  {
   "cell_type": "code",
   "execution_count": null,
   "id": "6a0c5ad0-1582-40e2-8420-c1c27694d147",
   "metadata": {},
   "outputs": [],
   "source": [
    "t9 = ['K55364CF7048','K55303BT4176','K55234BY9966','K55235BW6799']\n",
    "grid = (1,4)\n",
    "be.plot_posterior(var_name, t9, **{**kw, 'grid':grid, 'figsize':(12,3*grid[0])})"
   ]
  },
  {
   "cell_type": "code",
   "execution_count": null,
   "id": "aeaf9254-33bf-46f1-ad3f-49b3249176ee",
   "metadata": {},
   "outputs": [],
   "source": [
    "fund.get_names(t9)"
   ]
  },
  {
   "cell_type": "markdown",
   "id": "432cef7f-a1c2-43a2-9fa0-c92b04238dd6",
   "metadata": {},
   "source": [
    "# Visualize"
   ]
  },
  {
   "cell_type": "code",
   "execution_count": 1,
   "id": "59601448-d606-4746-b27b-7258bbe2b350",
   "metadata": {},
   "outputs": [
    {
     "name": "stderr",
     "output_type": "stream",
     "text": [
      "WARNING (pytensor.tensor.blas): Using NumPy C-API based implementation for BLAS functions.\n"
     ]
    }
   ],
   "source": [
    "from pf_utils import PortfolioManager as PM \n",
    "from pf_dash import create_app, add_density_plot"
   ]
  },
  {
   "cell_type": "code",
   "execution_count": 2,
   "id": "a5ec5476-ead4-4853-a232-0ed93dfa1e06",
   "metadata": {},
   "outputs": [],
   "source": [
    "path_data = 'data'\n",
    "path_tran = 'transaction'\n",
    "file_cost = 'transaction_cost'"
   ]
  },
  {
   "cell_type": "code",
   "execution_count": 3,
   "id": "6477cd6f-227a-4b81-8b98-68988b5b4809",
   "metadata": {},
   "outputs": [
    {
     "name": "stdout",
     "output_type": "stream",
     "text": [
      "64 securities from 2008-11-28 to 2024-12-31 uploaded.\n",
      "WARNING: the number of days in a year with 64 tickers (100%) is 12 in avg.\n",
      "REMINDER: 64 equities converted to daily (days in year: 365)\n",
      "Daily metrics in Performance statistics must be meaningless\n",
      "Price data loaded\n",
      "Cost data transaction_cost_241217.csv loaded\n"
     ]
    }
   ],
   "source": [
    "universe = 'UV_FUND'\n",
    "fund = PM.create_universe(universe)\n",
    "cost = PM.get_cost(universe, file=file_cost, path=path_tran)\n",
    "fee = cost['fee']"
   ]
  },
  {
   "cell_type": "code",
   "execution_count": 4,
   "id": "b7497b75-d5f0-4371-bee0-703e6c9432e6",
   "metadata": {},
   "outputs": [],
   "source": [
    "df_prices = fund.df_prices\n",
    "df_prices_fees = fund._get_prices_after_fee(df_prices, fee)"
   ]
  },
  {
   "cell_type": "code",
   "execution_count": 5,
   "id": "49c75355-09db-4831-b006-b165fd549a08",
   "metadata": {},
   "outputs": [],
   "source": [
    "df_prc = df_prices.resample('M').last()\n",
    "df_prc_f = df_prices_fees.resample('M').last()\n",
    "fund_name = fund.security_names"
   ]
  },
  {
   "cell_type": "code",
   "execution_count": 6,
   "id": "f4a948fb-dcba-4236-9787-733b73d1a32c",
   "metadata": {},
   "outputs": [],
   "source": [
    "tickers = None\n",
    "#tickers = ['K55364CF7048','K55303BT4176','K55234BY9966','K55235BW6799']\n",
    "app = create_app(df_prc, df_prc_f, fund_name=fund_name, tickers=tickers)"
   ]
  },
  {
   "cell_type": "code",
   "execution_count": 22,
   "id": "e8071a0f-60e3-4cf3-854d-0fa61cb31a8d",
   "metadata": {},
   "outputs": [],
   "source": [
    "from pf_dash import get_inference, update_inference_data, update_inference_plot\n",
    "from dash import Dash, html, dcc, Output, Input\n",
    "import dash_bootstrap_components as dbc\n",
    "\n",
    "\n",
    "def add_density_plot(app, file=None, path=None, tickers=None, fund_name=None,\n",
    "                     n_points=500, error=0.999, option_all='All', n_default=5):\n",
    "    data_inf = get_inference(file, path, tickers=tickers, n_points=n_points, error=error)\n",
    "\n",
    "    # update layout of the app\n",
    "    new_tab = dbc.Tab(dcc.Graph(id='density-plot'), label='추정')\n",
    "\n",
    "    # Locate the Row containing Tabs and append the new Tab\n",
    "    app.add_tab(new_tab)\n",
    "\n",
    "    # Add density-data Store to the layout\n",
    "    app.layout.children.append(\n",
    "        dcc.Store(id='density-data')\n",
    "    )\n",
    "\n",
    "    @app.callback(\n",
    "        Output('density-data', 'data'),\n",
    "        Input('ticker-dropdown', 'value')\n",
    "    )\n",
    "    def _update_inference_data(tickers):\n",
    "        \"\"\"\n",
    "        process data and save to dcc.Store\n",
    "        \"\"\"\n",
    "        return update_inference_data(tickers, data_inf, option_all=option_all, n_default=n_default)\n",
    "        \n",
    "    \n",
    "    @app.callback(\n",
    "        Output('density-plot', 'figure'),\n",
    "        Input('density-data', 'data')\n",
    "    )\n",
    "    def _update_inference_plot(data):\n",
    "        return update_inference_plot(data, fund_name)"
   ]
  },
  {
   "cell_type": "code",
   "execution_count": 7,
   "id": "e3ba9b49-8502-4f69-b03a-54fe59f06060",
   "metadata": {},
   "outputs": [],
   "source": [
    "kw_dst = dict(\n",
    "    file = 'fund_f3y_s3y_250109.pkl',\n",
    "    path = 'data',\n",
    "    tickers = tickers,\n",
    "    fund_name = fund_name\n",
    ")\n",
    "add_density_plot(app, **kw_dst)"
   ]
  },
  {
   "cell_type": "code",
   "execution_count": 8,
   "id": "9bbebcc3-edbf-4c9e-bc2c-52056c8d1343",
   "metadata": {},
   "outputs": [
    {
     "data": {
      "text/html": [
       "\n",
       "        <iframe\n",
       "            width=\"100%\"\n",
       "            height=\"650\"\n",
       "            src=\"http://127.0.0.1:8050/\"\n",
       "            frameborder=\"0\"\n",
       "            allowfullscreen\n",
       "            \n",
       "        ></iframe>\n",
       "        "
      ],
      "text/plain": [
       "<IPython.lib.display.IFrame at 0x72938a0915b0>"
      ]
     },
     "metadata": {},
     "output_type": "display_data"
    }
   ],
   "source": [
    "app.run_server()"
   ]
  },
  {
   "cell_type": "code",
   "execution_count": 9,
   "id": "9518a21e-3c20-48b7-a825-646046007d2d",
   "metadata": {},
   "outputs": [
    {
     "name": "stdout",
     "output_type": "stream",
     "text": [
      "ERROR: tab '추정' already exits\n"
     ]
    }
   ],
   "source": [
    "add_density_plot(app, **kw_dst)"
   ]
  },
  {
   "cell_type": "code",
   "execution_count": 29,
   "id": "c54a7098-d28e-4922-beeb-c716f9201ef1",
   "metadata": {},
   "outputs": [],
   "source": [
    "new_tab = dbc.Tab(dcc.Graph(id='density-plot'), label='추정2')\n",
    "\n",
    "for row in app.layout.children:\n",
    "    if isinstance(row, dbc.Row):\n",
    "        if isinstance(row.children, dbc.Tabs):\n",
    "            labels = [x.label for x in row.children.children]\n",
    "            if new_tab.label in labels:\n",
    "                print(f\"ERROR: tab '{new_tab.label}' already exits\")\n",
    "            else:\n",
    "                row.children.children.append(new_tab)\n",
    "                break"
   ]
  },
  {
   "cell_type": "code",
   "execution_count": 30,
   "id": "a463bffb-68f4-4032-91b0-f585c6c252d4",
   "metadata": {},
   "outputs": [
    {
     "data": {
      "text/plain": [
       "[Tab(children=Graph(id='price-plot'), label='가격'),\n",
       " Tab(children=Graph(id='return-plot'), label='수익률'),\n",
       " Tab(children=Graph(id='density-plot'), label='추정'),\n",
       " Tab(children=Graph(id='density-plot'), label='추정'),\n",
       " Tab(children=Graph(id='density-plot'), label='추정2')]"
      ]
     },
     "execution_count": 30,
     "metadata": {},
     "output_type": "execute_result"
    }
   ],
   "source": [
    "row.children.children"
   ]
  },
  {
   "cell_type": "code",
   "execution_count": null,
   "id": "943704af-b2de-4d40-870a-d12f4a1efec5",
   "metadata": {},
   "outputs": [],
   "source": []
  },
  {
   "cell_type": "code",
   "execution_count": null,
   "id": "66832912-de99-4899-8fd3-ca71a72e8846",
   "metadata": {},
   "outputs": [],
   "source": []
  },
  {
   "cell_type": "code",
   "execution_count": null,
   "id": "bede5202-0117-449a-8a8b-f497d61864d2",
   "metadata": {},
   "outputs": [],
   "source": []
  }
 ],
 "metadata": {
  "kernelspec": {
   "display_name": "portfolio",
   "language": "python",
   "name": "portfolio"
  },
  "language_info": {
   "codemirror_mode": {
    "name": "ipython",
    "version": 3
   },
   "file_extension": ".py",
   "mimetype": "text/x-python",
   "name": "python",
   "nbconvert_exporter": "python",
   "pygments_lexer": "ipython3",
   "version": "3.12.1"
  }
 },
 "nbformat": 4,
 "nbformat_minor": 5
}
