{
 "cells": [
  {
   "cell_type": "markdown",
   "id": "c2f30b81-2795-4ddf-aff7-7464c62beab8",
   "metadata": {},
   "source": [
    "# Setting"
   ]
  },
  {
   "cell_type": "code",
   "execution_count": 1,
   "id": "7009fd2f-8efd-4ed3-a187-01939304fa9e",
   "metadata": {},
   "outputs": [
    {
     "name": "stderr",
     "output_type": "stream",
     "text": [
      "WARNING (pytensor.tensor.blas): Using NumPy C-API based implementation for BLAS functions.\n"
     ]
    }
   ],
   "source": [
    "from pf_utils import DataManager, FinancialRatios, BacktestManager, MomentumPortfolio\n",
    "from pf_widgets import WidgetUniverse, WidgetTransaction"
   ]
  },
  {
   "cell_type": "code",
   "execution_count": 2,
   "id": "723adb14-cd00-4d96-9c64-5a8628e82f44",
   "metadata": {},
   "outputs": [],
   "source": [
    "metrics2 = [\n",
    "    'total_return', 'cagr', 'monthly_vol', 'monthly_sharpe',\n",
    "    'max_drawdown', 'avg_drawdown','avg_drawdown_days', \n",
    "]\n",
    "\n",
    "path_data = 'data'\n",
    "path_tran = 'transaction'"
   ]
  },
  {
   "cell_type": "code",
   "execution_count": 3,
   "id": "29f0c90e-c68c-499c-874e-a59a4dfd6199",
   "metadata": {},
   "outputs": [],
   "source": [
    "file_bt_price = 'kospi200_prices_000306_240707.csv'\n",
    "file_bt_ratio = 'kospi200_ratios_170531_240930.csv'"
   ]
  },
  {
   "cell_type": "markdown",
   "id": "048635c3-9e88-4ff4-b3cb-61ea6eb5b122",
   "metadata": {},
   "source": [
    "# Data"
   ]
  },
  {
   "cell_type": "markdown",
   "id": "37cd4e81-2b86-49e5-b9e1-8eca575bad72",
   "metadata": {},
   "source": [
    "## Universe: KOSPI200"
   ]
  },
  {
   "cell_type": "code",
   "execution_count": 4,
   "id": "8aa50408-fd2b-45f5-81ed-6c1a2479eb77",
   "metadata": {},
   "outputs": [
    {
     "name": "stdout",
     "output_type": "stream",
     "text": [
      "201 assets from 2021-01-04 to 2024-10-17 uploaded.\n",
      "df_prices updated\n"
     ]
    }
   ],
   "source": [
    "k200 = DataManager(\n",
    "    universe = 'kospi200',\n",
    "    #file = file_bt_price,\n",
    "    file = 'kospi200_prices.csv',\n",
    "    path = path_data\n",
    ")\n",
    "k200.upload()"
   ]
  },
  {
   "cell_type": "code",
   "execution_count": 5,
   "id": "6654a8a7-4530-4c54-8fd7-46d71981e9f6",
   "metadata": {},
   "outputs": [],
   "source": [
    "df_k200 = k200.df_prices\n",
    "assetnames_k200 = k200.get_names()"
   ]
  },
  {
   "cell_type": "markdown",
   "id": "79e4489f-d590-4c64-9423-2fc5e69427b4",
   "metadata": {},
   "source": [
    "### data for backtesting"
   ]
  },
  {
   "cell_type": "code",
   "execution_count": 6,
   "id": "1521c116-c371-4f1d-855a-06e4d41a252e",
   "metadata": {},
   "outputs": [
    {
     "data": {
      "text/plain": [
       "201"
      ]
     },
     "execution_count": 6,
     "metadata": {},
     "output_type": "execute_result"
    }
   ],
   "source": [
    "if k200.file_historical == file_bt_price:\n",
    "    cond = df_k200.notna().sum(axis=1) > 170\n",
    "    df_k200 = df_k200.loc[cond].dropna(axis=1)\n",
    "df_k200.columns.size"
   ]
  },
  {
   "cell_type": "markdown",
   "id": "58f5b226-5a4c-4114-95d7-753251ffcd44",
   "metadata": {},
   "source": [
    "## Ratios"
   ]
  },
  {
   "cell_type": "code",
   "execution_count": 7,
   "id": "73024aab-e901-4e9c-94e2-a46e5b983dbe",
   "metadata": {},
   "outputs": [
    {
     "data": {
      "application/vnd.jupyter.widget-view+json": {
       "model_id": "72f1e1c7609c47c6b770e6e80f35507a",
       "version_major": 2,
       "version_minor": 0
      },
      "text/plain": [
       "VBox(children=(Checkbox(value=False, description='Download', indent=False), Checkbox(value=False, description=…"
      ]
     },
     "execution_count": 7,
     "metadata": {},
     "output_type": "execute_result"
    }
   ],
   "source": [
    "WidgetUniverse"
   ]
  },
  {
   "cell_type": "code",
   "execution_count": 8,
   "id": "48635aeb-da0b-4f8f-addf-8bde2c9dbeeb",
   "metadata": {},
   "outputs": [
    {
     "name": "stdout",
     "output_type": "stream",
     "text": [
      "Financial ratios of 201 stocks from 2023-01-02 to 2024-10-16 loaded\n"
     ]
    }
   ],
   "source": [
    "if k200.file_historical == file_bt_price:\n",
    "    file = file_bt_ratio\n",
    "else:\n",
    "    file = 'kospi200_ratios.csv'\n",
    "\n",
    "fr = FinancialRatios(file, path_data)"
   ]
  },
  {
   "cell_type": "code",
   "execution_count": 9,
   "id": "f3339b80-7aa9-48dc-a8b3-cb99b04ba6a7",
   "metadata": {},
   "outputs": [],
   "source": [
    "start = '2023-01-01'\n",
    "tickers = df_k200.columns.to_list()\n",
    "kw = dict(\n",
    "    freq = 'd',\n",
    "    close_today = WidgetUniverse.values(1)\n",
    ")\n",
    "fr.download(tickers, start, **kw) if WidgetUniverse.values(0) else None"
   ]
  },
  {
   "cell_type": "code",
   "execution_count": 10,
   "id": "ee8ebbff-7161-4114-9832-859e0b176663",
   "metadata": {},
   "outputs": [
    {
     "name": "stdout",
     "output_type": "stream",
     "text": [
      "Ranking score of PER on 2024-10-16\n"
     ]
    },
    {
     "data": {
      "text/plain": [
       "ticker\n",
       "010060    0.000000\n",
       "003030    0.006211\n",
       "016380    0.012422\n",
       "009970    0.018634\n",
       "047040    0.024845\n",
       "            ...   \n",
       "009420    0.975155\n",
       "329180    0.981366\n",
       "377300    0.987578\n",
       "450080    0.993789\n",
       "004800    1.000000\n",
       "Name: PER, Length: 162, dtype: float64"
      ]
     },
     "execution_count": 10,
     "metadata": {},
     "output_type": "execute_result"
    }
   ],
   "source": [
    "#fr.calc_rank(metrics='PER', date='start', topn=None)\n",
    "fr.calc_rank(metrics='PER', topn=None)"
   ]
  },
  {
   "cell_type": "code",
   "execution_count": 11,
   "id": "bc5f2844-567d-4f51-8ad0-76b935a74e3d",
   "metadata": {},
   "outputs": [
    {
     "name": "stdout",
     "output_type": "stream",
     "text": [
      "Historical of PER+PBR ranking score created\n"
     ]
    },
    {
     "data": {
      "text/plain": [
       "ticker  date      \n",
       "005930  2023-01-02    1.115655\n",
       "        2023-01-03    1.120757\n",
       "        2023-01-04    1.146513\n",
       "        2023-01-05    1.162310\n",
       "        2023-01-06    1.167412\n",
       "                        ...   \n",
       "016380  2024-10-10    0.207072\n",
       "        2024-10-11    0.224572\n",
       "        2024-10-14    0.204572\n",
       "        2024-10-15    0.207072\n",
       "        2024-10-16    0.201547\n",
       "Name: PER, Length: 86908, dtype: float64"
      ]
     },
     "execution_count": 11,
     "metadata": {},
     "output_type": "execute_result"
    }
   ],
   "source": [
    "#fr.calc_historical()\n",
    "fr.calc_historical(['PER', 'PBR'])"
   ]
  },
  {
   "cell_type": "code",
   "execution_count": 12,
   "id": "cf16f58a-b9f5-4ee8-960d-1cf639ac7ba4",
   "metadata": {},
   "outputs": [
    {
     "name": "stdout",
     "output_type": "stream",
     "text": [
      "Returning stats of daily averages\n"
     ]
    },
    {
     "data": {
      "text/html": [
       "<div>\n",
       "<style scoped>\n",
       "    .dataframe tbody tr th:only-of-type {\n",
       "        vertical-align: middle;\n",
       "    }\n",
       "\n",
       "    .dataframe tbody tr th {\n",
       "        vertical-align: top;\n",
       "    }\n",
       "\n",
       "    .dataframe thead th {\n",
       "        text-align: right;\n",
       "    }\n",
       "</style>\n",
       "<table border=\"1\" class=\"dataframe\">\n",
       "  <thead>\n",
       "    <tr style=\"text-align: right;\">\n",
       "      <th></th>\n",
       "      <th>BPS</th>\n",
       "      <th>PER</th>\n",
       "      <th>PBR</th>\n",
       "      <th>EPS</th>\n",
       "      <th>DIV</th>\n",
       "      <th>DPS</th>\n",
       "    </tr>\n",
       "  </thead>\n",
       "  <tbody>\n",
       "    <tr>\n",
       "      <th>start</th>\n",
       "      <td>2023-01-02</td>\n",
       "      <td>2023-01-02</td>\n",
       "      <td>2023-01-02</td>\n",
       "      <td>2023-01-02</td>\n",
       "      <td>2023-01-02</td>\n",
       "      <td>2023-01-02</td>\n",
       "    </tr>\n",
       "    <tr>\n",
       "      <th>end</th>\n",
       "      <td>2024-10-16</td>\n",
       "      <td>2024-10-16</td>\n",
       "      <td>2024-10-16</td>\n",
       "      <td>2024-10-16</td>\n",
       "      <td>2024-10-16</td>\n",
       "      <td>2024-10-16</td>\n",
       "    </tr>\n",
       "    <tr>\n",
       "      <th>mean</th>\n",
       "      <td>105788.5</td>\n",
       "      <td>68.9</td>\n",
       "      <td>2.3</td>\n",
       "      <td>8780.0</td>\n",
       "      <td>2.4</td>\n",
       "      <td>1817.4</td>\n",
       "    </tr>\n",
       "    <tr>\n",
       "      <th>std</th>\n",
       "      <td>3542.4</td>\n",
       "      <td>40.8</td>\n",
       "      <td>0.3</td>\n",
       "      <td>1352.9</td>\n",
       "      <td>0.1</td>\n",
       "      <td>122.5</td>\n",
       "    </tr>\n",
       "  </tbody>\n",
       "</table>\n",
       "</div>"
      ],
      "text/plain": [
       "              BPS         PER         PBR         EPS         DIV         DPS\n",
       "start  2023-01-02  2023-01-02  2023-01-02  2023-01-02  2023-01-02  2023-01-02\n",
       "end    2024-10-16  2024-10-16  2024-10-16  2024-10-16  2024-10-16  2024-10-16\n",
       "mean     105788.5        68.9         2.3      8780.0         2.4      1817.4\n",
       "std        3542.4        40.8         0.3      1352.9         0.1       122.5"
      ]
     },
     "execution_count": 12,
     "metadata": {},
     "output_type": "execute_result"
    }
   ],
   "source": [
    "#fr.get_stats(stats_daily=False)\n",
    "fr.get_stats()"
   ]
  },
  {
   "cell_type": "markdown",
   "id": "b6914587-3ba3-4d75-bc11-00ea845325b4",
   "metadata": {},
   "source": [
    "## Reshape for backtest"
   ]
  },
  {
   "cell_type": "code",
   "execution_count": 13,
   "id": "a8ab925c-0005-4cee-95cf-46153788092d",
   "metadata": {},
   "outputs": [
    {
     "name": "stdout",
     "output_type": "stream",
     "text": [
      "WARNING: No interpolation as data is not monthly\n",
      "WARNING: No interpolation as data is not monthly\n"
     ]
    }
   ],
   "source": [
    "df_p = fr.util_reshape(df_k200)\n",
    "\n",
    "fratios_dict = dict()\n",
    "for r in ['PER', 'PBR']:\n",
    "    df = fr.interpolate(df_p, r)\n",
    "    fratios_dict[r] = fr.util_reshape(df, stack=False)"
   ]
  },
  {
   "cell_type": "code",
   "execution_count": 14,
   "id": "dcd383c0-4b0e-41e3-bd89-b673e97be649",
   "metadata": {},
   "outputs": [
    {
     "data": {
      "text/html": [
       "<div>\n",
       "<style scoped>\n",
       "    .dataframe tbody tr th:only-of-type {\n",
       "        vertical-align: middle;\n",
       "    }\n",
       "\n",
       "    .dataframe tbody tr th {\n",
       "        vertical-align: top;\n",
       "    }\n",
       "\n",
       "    .dataframe thead th {\n",
       "        text-align: right;\n",
       "    }\n",
       "</style>\n",
       "<table border=\"1\" class=\"dataframe\">\n",
       "  <thead>\n",
       "    <tr style=\"text-align: right;\">\n",
       "      <th>ticker</th>\n",
       "      <th>000080</th>\n",
       "      <th>000100</th>\n",
       "      <th>000120</th>\n",
       "      <th>000150</th>\n",
       "      <th>000210</th>\n",
       "      <th>000240</th>\n",
       "      <th>000270</th>\n",
       "      <th>000660</th>\n",
       "      <th>000670</th>\n",
       "      <th>000720</th>\n",
       "      <th>...</th>\n",
       "      <th>361610</th>\n",
       "      <th>373220</th>\n",
       "      <th>375500</th>\n",
       "      <th>377300</th>\n",
       "      <th>383220</th>\n",
       "      <th>402340</th>\n",
       "      <th>450080</th>\n",
       "      <th>454910</th>\n",
       "      <th>457190</th>\n",
       "      <th>489790</th>\n",
       "    </tr>\n",
       "    <tr>\n",
       "      <th>date</th>\n",
       "      <th></th>\n",
       "      <th></th>\n",
       "      <th></th>\n",
       "      <th></th>\n",
       "      <th></th>\n",
       "      <th></th>\n",
       "      <th></th>\n",
       "      <th></th>\n",
       "      <th></th>\n",
       "      <th></th>\n",
       "      <th></th>\n",
       "      <th></th>\n",
       "      <th></th>\n",
       "      <th></th>\n",
       "      <th></th>\n",
       "      <th></th>\n",
       "      <th></th>\n",
       "      <th></th>\n",
       "      <th></th>\n",
       "      <th></th>\n",
       "      <th></th>\n",
       "    </tr>\n",
       "  </thead>\n",
       "  <tbody>\n",
       "    <tr>\n",
       "      <th>2024-10-10</th>\n",
       "      <td>1.28</td>\n",
       "      <td>5.77</td>\n",
       "      <td>0.50</td>\n",
       "      <td>1.91</td>\n",
       "      <td>0.26</td>\n",
       "      <td>0.41</td>\n",
       "      <td>0.86</td>\n",
       "      <td>2.40</td>\n",
       "      <td>0.18</td>\n",
       "      <td>0.42</td>\n",
       "      <td>...</td>\n",
       "      <td>1.11</td>\n",
       "      <td>4.95</td>\n",
       "      <td>0.25</td>\n",
       "      <td>1.76</td>\n",
       "      <td>1.97</td>\n",
       "      <td>0.75</td>\n",
       "      <td>10.57</td>\n",
       "      <td>9.08</td>\n",
       "      <td>15.21</td>\n",
       "      <td>0.0</td>\n",
       "    </tr>\n",
       "    <tr>\n",
       "      <th>2024-10-11</th>\n",
       "      <td>1.28</td>\n",
       "      <td>5.87</td>\n",
       "      <td>0.50</td>\n",
       "      <td>2.00</td>\n",
       "      <td>0.25</td>\n",
       "      <td>0.41</td>\n",
       "      <td>0.86</td>\n",
       "      <td>2.39</td>\n",
       "      <td>0.18</td>\n",
       "      <td>0.41</td>\n",
       "      <td>...</td>\n",
       "      <td>1.07</td>\n",
       "      <td>4.76</td>\n",
       "      <td>0.25</td>\n",
       "      <td>1.77</td>\n",
       "      <td>1.87</td>\n",
       "      <td>0.75</td>\n",
       "      <td>10.15</td>\n",
       "      <td>9.07</td>\n",
       "      <td>14.40</td>\n",
       "      <td>0.0</td>\n",
       "    </tr>\n",
       "    <tr>\n",
       "      <th>2024-10-14</th>\n",
       "      <td>1.29</td>\n",
       "      <td>5.74</td>\n",
       "      <td>0.50</td>\n",
       "      <td>2.11</td>\n",
       "      <td>0.26</td>\n",
       "      <td>0.40</td>\n",
       "      <td>0.86</td>\n",
       "      <td>2.41</td>\n",
       "      <td>0.19</td>\n",
       "      <td>0.42</td>\n",
       "      <td>...</td>\n",
       "      <td>1.05</td>\n",
       "      <td>4.70</td>\n",
       "      <td>0.25</td>\n",
       "      <td>1.77</td>\n",
       "      <td>1.94</td>\n",
       "      <td>0.77</td>\n",
       "      <td>10.17</td>\n",
       "      <td>9.13</td>\n",
       "      <td>14.14</td>\n",
       "      <td>0.0</td>\n",
       "    </tr>\n",
       "    <tr>\n",
       "      <th>2024-10-15</th>\n",
       "      <td>1.29</td>\n",
       "      <td>5.95</td>\n",
       "      <td>0.49</td>\n",
       "      <td>2.08</td>\n",
       "      <td>0.25</td>\n",
       "      <td>0.40</td>\n",
       "      <td>0.85</td>\n",
       "      <td>2.48</td>\n",
       "      <td>0.19</td>\n",
       "      <td>0.41</td>\n",
       "      <td>...</td>\n",
       "      <td>1.03</td>\n",
       "      <td>4.67</td>\n",
       "      <td>0.25</td>\n",
       "      <td>1.78</td>\n",
       "      <td>1.88</td>\n",
       "      <td>0.77</td>\n",
       "      <td>9.69</td>\n",
       "      <td>9.08</td>\n",
       "      <td>13.91</td>\n",
       "      <td>0.0</td>\n",
       "    </tr>\n",
       "    <tr>\n",
       "      <th>2024-10-16</th>\n",
       "      <td>1.28</td>\n",
       "      <td>5.77</td>\n",
       "      <td>0.49</td>\n",
       "      <td>2.09</td>\n",
       "      <td>0.25</td>\n",
       "      <td>0.41</td>\n",
       "      <td>0.83</td>\n",
       "      <td>2.43</td>\n",
       "      <td>0.19</td>\n",
       "      <td>0.41</td>\n",
       "      <td>...</td>\n",
       "      <td>0.99</td>\n",
       "      <td>4.69</td>\n",
       "      <td>0.25</td>\n",
       "      <td>1.77</td>\n",
       "      <td>1.82</td>\n",
       "      <td>0.76</td>\n",
       "      <td>9.93</td>\n",
       "      <td>8.91</td>\n",
       "      <td>13.81</td>\n",
       "      <td>0.0</td>\n",
       "    </tr>\n",
       "  </tbody>\n",
       "</table>\n",
       "<p>5 rows × 201 columns</p>\n",
       "</div>"
      ],
      "text/plain": [
       "ticker      000080  000100  000120  000150  000210  000240  000270  000660  \\\n",
       "date                                                                         \n",
       "2024-10-10    1.28    5.77    0.50    1.91    0.26    0.41    0.86    2.40   \n",
       "2024-10-11    1.28    5.87    0.50    2.00    0.25    0.41    0.86    2.39   \n",
       "2024-10-14    1.29    5.74    0.50    2.11    0.26    0.40    0.86    2.41   \n",
       "2024-10-15    1.29    5.95    0.49    2.08    0.25    0.40    0.85    2.48   \n",
       "2024-10-16    1.28    5.77    0.49    2.09    0.25    0.41    0.83    2.43   \n",
       "\n",
       "ticker      000670  000720  ...  361610  373220  375500  377300  383220  \\\n",
       "date                        ...                                           \n",
       "2024-10-10    0.18    0.42  ...    1.11    4.95    0.25    1.76    1.97   \n",
       "2024-10-11    0.18    0.41  ...    1.07    4.76    0.25    1.77    1.87   \n",
       "2024-10-14    0.19    0.42  ...    1.05    4.70    0.25    1.77    1.94   \n",
       "2024-10-15    0.19    0.41  ...    1.03    4.67    0.25    1.78    1.88   \n",
       "2024-10-16    0.19    0.41  ...    0.99    4.69    0.25    1.77    1.82   \n",
       "\n",
       "ticker      402340  450080  454910  457190  489790  \n",
       "date                                                \n",
       "2024-10-10    0.75   10.57    9.08   15.21     0.0  \n",
       "2024-10-11    0.75   10.15    9.07   14.40     0.0  \n",
       "2024-10-14    0.77   10.17    9.13   14.14     0.0  \n",
       "2024-10-15    0.77    9.69    9.08   13.91     0.0  \n",
       "2024-10-16    0.76    9.93    8.91   13.81     0.0  \n",
       "\n",
       "[5 rows x 201 columns]"
      ]
     },
     "execution_count": 14,
     "metadata": {},
     "output_type": "execute_result"
    }
   ],
   "source": [
    "fratios_dict[r].tail()"
   ]
  },
  {
   "cell_type": "markdown",
   "id": "03622b85-24a4-4e51-877b-82caddc1f792",
   "metadata": {},
   "source": [
    "# Backtest"
   ]
  },
  {
   "cell_type": "markdown",
   "id": "292e103d-72dd-4efd-9885-dfb46f9c495b",
   "metadata": {},
   "source": [
    "## Example"
   ]
  },
  {
   "cell_type": "code",
   "execution_count": 23,
   "id": "975b5ba1-ceb7-4f65-ab23-bc86c59cd924",
   "metadata": {},
   "outputs": [],
   "source": [
    "fratio = 'PER'\n",
    "df_ratio = fratios_dict[fratio]"
   ]
  },
  {
   "cell_type": "code",
   "execution_count": 15,
   "id": "2fd24a73-19c1-413c-88a6-96bd4e00b2b3",
   "metadata": {},
   "outputs": [
    {
     "name": "stdout",
     "output_type": "stream",
     "text": [
      "running self.util_check_days_in_year to check days in a year\n",
      "171 assets from 2017-05-10 to 2024-07-05 uploaded.\n"
     ]
    }
   ],
   "source": [
    "kwargs_bm = dict(\n",
    "    initial_capital = 1e7,\n",
    "    commissions = 0,\n",
    "    align_axis = None, \n",
    "    days_in_year = 246,\n",
    "    asset_names = assetnames_k200\n",
    ")\n",
    "bm = BacktestManager(df_k200, **kwargs_bm)"
   ]
  },
  {
   "cell_type": "code",
   "execution_count": 16,
   "id": "13a3623c-5807-48c4-9128-b6af7db76a99",
   "metadata": {},
   "outputs": [
    {
     "name": "stdout",
     "output_type": "stream",
     "text": [
      "Benchmark is KODEX200\n"
     ]
    }
   ],
   "source": [
    "bm.benchmark_ticker()"
   ]
  },
  {
   "cell_type": "code",
   "execution_count": 17,
   "id": "f699543e-3f00-41a6-bf13-e71cd9a5f3b1",
   "metadata": {},
   "outputs": [],
   "source": [
    "#bm.buy_n_hold(name='PER', weigh='equally')"
   ]
  },
  {
   "cell_type": "code",
   "execution_count": 18,
   "id": "c3efc223-029a-4f72-a35f-7b5b1b871ba1",
   "metadata": {},
   "outputs": [],
   "source": [
    "select = 'f-ratio'\n",
    "kwargs_build = dict(\n",
    "    name=f'{select}', select =select, weigh='Equally', \n",
    "    n_assets=5, freq='Y', lookback=5,\n",
    "    df_ratio=df_ratio, ratio_descending=True\n",
    ")\n",
    "bm.build(**kwargs_build)"
   ]
  },
  {
   "cell_type": "code",
   "execution_count": 20,
   "id": "3c04e206-5e63-4bc6-a8b5-90869bdd09be",
   "metadata": {},
   "outputs": [
    {
     "name": "stdout",
     "output_type": "stream",
     "text": [
      "Backtesting 2 strategies: KODEX200, f-ratio\n"
     ]
    },
    {
     "name": "stderr",
     "output_type": "stream",
     "text": [
      "100%|██████████████████████████████████████████████████████████████| 2/2 [00:00<00:00, 15709.00it/s]"
     ]
    },
    {
     "name": "stdout",
     "output_type": "stream",
     "text": [
      "Returning stats\n"
     ]
    },
    {
     "name": "stderr",
     "output_type": "stream",
     "text": [
      "\n"
     ]
    },
    {
     "data": {
      "text/html": [
       "<div>\n",
       "<style scoped>\n",
       "    .dataframe tbody tr th:only-of-type {\n",
       "        vertical-align: middle;\n",
       "    }\n",
       "\n",
       "    .dataframe tbody tr th {\n",
       "        vertical-align: top;\n",
       "    }\n",
       "\n",
       "    .dataframe thead th {\n",
       "        text-align: right;\n",
       "    }\n",
       "</style>\n",
       "<table border=\"1\" class=\"dataframe\">\n",
       "  <thead>\n",
       "    <tr style=\"text-align: right;\">\n",
       "      <th></th>\n",
       "      <th>KODEX200</th>\n",
       "      <th>f-ratio</th>\n",
       "    </tr>\n",
       "  </thead>\n",
       "  <tbody>\n",
       "    <tr>\n",
       "      <th>start</th>\n",
       "      <td>2017-05-09</td>\n",
       "      <td>2017-05-09</td>\n",
       "    </tr>\n",
       "    <tr>\n",
       "      <th>end</th>\n",
       "      <td>2024-07-05</td>\n",
       "      <td>2024-07-05</td>\n",
       "    </tr>\n",
       "    <tr>\n",
       "      <th>total_return</th>\n",
       "      <td>0.545298</td>\n",
       "      <td>0.393314</td>\n",
       "    </tr>\n",
       "    <tr>\n",
       "      <th>cagr</th>\n",
       "      <td>0.062699</td>\n",
       "      <td>0.047437</td>\n",
       "    </tr>\n",
       "    <tr>\n",
       "      <th>calmar</th>\n",
       "      <td>0.164837</td>\n",
       "      <td>0.087122</td>\n",
       "    </tr>\n",
       "    <tr>\n",
       "      <th>max_drawdown</th>\n",
       "      <td>-0.38037</td>\n",
       "      <td>-0.544485</td>\n",
       "    </tr>\n",
       "    <tr>\n",
       "      <th>avg_drawdown</th>\n",
       "      <td>-0.04033</td>\n",
       "      <td>-0.085891</td>\n",
       "    </tr>\n",
       "    <tr>\n",
       "      <th>avg_drawdown_days</th>\n",
       "      <td>78.46875</td>\n",
       "      <td>126.75</td>\n",
       "    </tr>\n",
       "    <tr>\n",
       "      <th>daily_vol</th>\n",
       "      <td>0.18247</td>\n",
       "      <td>0.29995</td>\n",
       "    </tr>\n",
       "    <tr>\n",
       "      <th>daily_sharpe</th>\n",
       "      <td>0.432459</td>\n",
       "      <td>0.307699</td>\n",
       "    </tr>\n",
       "    <tr>\n",
       "      <th>daily_sortino</th>\n",
       "      <td>0.712425</td>\n",
       "      <td>0.524206</td>\n",
       "    </tr>\n",
       "    <tr>\n",
       "      <th>monthly_vol</th>\n",
       "      <td>0.189287</td>\n",
       "      <td>0.314762</td>\n",
       "    </tr>\n",
       "    <tr>\n",
       "      <th>monthly_sharpe</th>\n",
       "      <td>0.393669</td>\n",
       "      <td>0.28462</td>\n",
       "    </tr>\n",
       "    <tr>\n",
       "      <th>monthly_sortino</th>\n",
       "      <td>0.69101</td>\n",
       "      <td>0.480503</td>\n",
       "    </tr>\n",
       "  </tbody>\n",
       "</table>\n",
       "</div>"
      ],
      "text/plain": [
       "                     KODEX200     f-ratio\n",
       "start              2017-05-09  2017-05-09\n",
       "end                2024-07-05  2024-07-05\n",
       "total_return         0.545298    0.393314\n",
       "cagr                 0.062699    0.047437\n",
       "calmar               0.164837    0.087122\n",
       "max_drawdown         -0.38037   -0.544485\n",
       "avg_drawdown         -0.04033   -0.085891\n",
       "avg_drawdown_days    78.46875      126.75\n",
       "daily_vol             0.18247     0.29995\n",
       "daily_sharpe         0.432459    0.307699\n",
       "daily_sortino        0.712425    0.524206\n",
       "monthly_vol          0.189287    0.314762\n",
       "monthly_sharpe       0.393669     0.28462\n",
       "monthly_sortino       0.69101    0.480503"
      ]
     },
     "execution_count": 20,
     "metadata": {},
     "output_type": "execute_result"
    },
    {
     "data": {
      "image/png": "[encoded data removed]",
      "text/plain": [
       "<Figure size 900x400 with 1 Axes>"
      ]
     },
     "metadata": {},
     "output_type": "display_data"
    }
   ],
   "source": [
    "bm.run(figsize=(9,4), stats_sort_by='cagr')"
   ]
  },
  {
   "cell_type": "code",
   "execution_count": 21,
   "id": "1ec27168-9c7a-448c-b375-7e6c0a587c12",
   "metadata": {},
   "outputs": [
    {
     "data": {
      "text/plain": [
       "0) KODEX200\n",
       "1) f-ratio"
      ]
     },
     "execution_count": 21,
     "metadata": {},
     "output_type": "execute_result"
    }
   ],
   "source": [
    "bm.portfolios"
   ]
  },
  {
   "cell_type": "code",
   "execution_count": 22,
   "id": "66080a41-f6e2-4fb8-8474-d3155d8a6e2f",
   "metadata": {},
   "outputs": [
    {
     "data": {
      "image/png": "[encoded data removed]",
      "text/plain": [
       "<Figure size 1000x500 with 1 Axes>"
      ]
     },
     "metadata": {},
     "output_type": "display_data"
    }
   ],
   "source": [
    "bm.plot_security_weights(1, legend=False)"
   ]
  },
  {
   "cell_type": "markdown",
   "id": "bee60ab5-dc33-4719-8953-df741f415e71",
   "metadata": {},
   "source": [
    "## Parameter study"
   ]
  },
  {
   "cell_type": "code",
   "execution_count": 24,
   "id": "83ad84d6-5a5b-4f30-b4cf-e5cf074deb29",
   "metadata": {},
   "outputs": [],
   "source": [
    "n_test = 500\n",
    "df_train = df_k200.iloc[:-n_test]\n",
    "df_test = df_k200.iloc[-n_test:]"
   ]
  },
  {
   "cell_type": "code",
   "execution_count": 25,
   "id": "af85bd3b-a440-46b5-87c7-b922b6918ef6",
   "metadata": {},
   "outputs": [],
   "source": [
    "kwargs_bm = dict(\n",
    "    initial_capital = 1e7,\n",
    "    commissions = 0,\n",
    "    align_axis = None, \n",
    "    days_in_year = 246,\n",
    "    asset_names = assetnames_k200\n",
    ")"
   ]
  },
  {
   "cell_type": "code",
   "execution_count": 26,
   "id": "9cd776f9-90cd-4131-b4a1-af037e092114",
   "metadata": {},
   "outputs": [
    {
     "name": "stdout",
     "output_type": "stream",
     "text": [
      "running self.util_check_days_in_year to check days in a year\n",
      "171 assets from 2017-05-10 to 2022-06-24 uploaded.\n"
     ]
    }
   ],
   "source": [
    "bm = BacktestManager(df_train, **kwargs_bm)"
   ]
  },
  {
   "cell_type": "code",
   "execution_count": 27,
   "id": "9b161aba-8e39-48ae-8e01-c1b8032d2e45",
   "metadata": {},
   "outputs": [
    {
     "name": "stdout",
     "output_type": "stream",
     "text": [
      "Benchmark is KODEX200\n"
     ]
    }
   ],
   "source": [
    "bm.benchmark_ticker()"
   ]
  },
  {
   "cell_type": "code",
   "execution_count": 28,
   "id": "cb0578fe-c0b4-4d47-9736-3fdcda64fdc7",
   "metadata": {},
   "outputs": [],
   "source": [
    "from itertools import product\n",
    "\n",
    "params = dict(\n",
    "    #p_fr = ['PER', 'PBR', 'PER+PBR'],\n",
    "    p_fr = ['PER', 'PBR'],\n",
    "    p_ast = [5, 10, 20, 30],\n",
    "    p_freq = [130, 250, 500],\n",
    "    p_lb = [0, 5, 10, 20, 30, 60]\n",
    ")\n",
    "p_comb = list(product(*params.values()))\n",
    "kwa_list = [{'name':f'{x[0]}:a{x[1]}/f{x[2]}/lb{x[3]}',\n",
    "             'df_ratio':fratios_dict[x[0]], 'n_assets':x[1], 'freq':x[2], 'lookback':x[3]} \n",
    "            for x in p_comb]\n",
    "\n",
    "kwargs_build = dict(\n",
    "    select='F-ratio', weigh='Equally', ratio_descending=False\n",
    ")\n",
    "bm.build_batch(*kwa_list, **kwargs_build)"
   ]
  },
  {
   "cell_type": "code",
   "execution_count": 29,
   "id": "efae142d-367d-405f-bff7-e240c91db207",
   "metadata": {},
   "outputs": [
    {
     "name": "stdout",
     "output_type": "stream",
     "text": [
      "Backtesting 145 strategies: KODEX200, PER:a5/f130/lb0, ... , PBR:a30/f500/lb60\n"
     ]
    },
    {
     "name": "stderr",
     "output_type": "stream",
     "text": [
      "100%|█████████████████████████████████████████████████████████████| 145/145 [02:39<00:00,  1.10s/it]\n"
     ]
    },
    {
     "name": "stdout",
     "output_type": "stream",
     "text": [
      "Returning stats\n"
     ]
    },
    {
     "data": {
      "text/html": [
       "<div>\n",
       "<style scoped>\n",
       "    .dataframe tbody tr th:only-of-type {\n",
       "        vertical-align: middle;\n",
       "    }\n",
       "\n",
       "    .dataframe tbody tr th {\n",
       "        vertical-align: top;\n",
       "    }\n",
       "\n",
       "    .dataframe thead th {\n",
       "        text-align: right;\n",
       "    }\n",
       "</style>\n",
       "<table border=\"1\" class=\"dataframe\">\n",
       "  <thead>\n",
       "    <tr style=\"text-align: right;\">\n",
       "      <th></th>\n",
       "      <th>PER:a5/f500/lb5</th>\n",
       "      <th>PER:a5/f500/lb0</th>\n",
       "      <th>PER:a5/f500/lb10</th>\n",
       "      <th>PER:a5/f130/lb10</th>\n",
       "      <th>PER:a5/f130/lb0</th>\n",
       "    </tr>\n",
       "  </thead>\n",
       "  <tbody>\n",
       "    <tr>\n",
       "      <th>start</th>\n",
       "      <td>2017-05-09</td>\n",
       "      <td>2017-05-09</td>\n",
       "      <td>2017-05-09</td>\n",
       "      <td>2017-05-09</td>\n",
       "      <td>2017-05-09</td>\n",
       "    </tr>\n",
       "    <tr>\n",
       "      <th>end</th>\n",
       "      <td>2022-06-24</td>\n",
       "      <td>2022-06-24</td>\n",
       "      <td>2022-06-24</td>\n",
       "      <td>2022-06-24</td>\n",
       "      <td>2022-06-24</td>\n",
       "    </tr>\n",
       "    <tr>\n",
       "      <th>total_return</th>\n",
       "      <td>1.869966</td>\n",
       "      <td>1.869966</td>\n",
       "      <td>1.501494</td>\n",
       "      <td>1.296179</td>\n",
       "      <td>1.286074</td>\n",
       "    </tr>\n",
       "    <tr>\n",
       "      <th>cagr</th>\n",
       "      <td>0.228393</td>\n",
       "      <td>0.228393</td>\n",
       "      <td>0.195896</td>\n",
       "      <td>0.176079</td>\n",
       "      <td>0.175068</td>\n",
       "    </tr>\n",
       "    <tr>\n",
       "      <th>calmar</th>\n",
       "      <td>0.544341</td>\n",
       "      <td>0.544341</td>\n",
       "      <td>0.46689</td>\n",
       "      <td>0.335116</td>\n",
       "      <td>0.333477</td>\n",
       "    </tr>\n",
       "    <tr>\n",
       "      <th>max_drawdown</th>\n",
       "      <td>-0.419577</td>\n",
       "      <td>-0.419577</td>\n",
       "      <td>-0.419577</td>\n",
       "      <td>-0.525428</td>\n",
       "      <td>-0.524978</td>\n",
       "    </tr>\n",
       "    <tr>\n",
       "      <th>avg_drawdown</th>\n",
       "      <td>-0.054061</td>\n",
       "      <td>-0.054061</td>\n",
       "      <td>-0.048832</td>\n",
       "      <td>-0.045914</td>\n",
       "      <td>-0.047307</td>\n",
       "    </tr>\n",
       "    <tr>\n",
       "      <th>avg_drawdown_days</th>\n",
       "      <td>34.28</td>\n",
       "      <td>34.28</td>\n",
       "      <td>36.808511</td>\n",
       "      <td>30.696429</td>\n",
       "      <td>31.981481</td>\n",
       "    </tr>\n",
       "    <tr>\n",
       "      <th>daily_vol</th>\n",
       "      <td>0.267809</td>\n",
       "      <td>0.267809</td>\n",
       "      <td>0.263329</td>\n",
       "      <td>0.25059</td>\n",
       "      <td>0.251767</td>\n",
       "    </tr>\n",
       "    <tr>\n",
       "      <th>daily_sharpe</th>\n",
       "      <td>0.92066</td>\n",
       "      <td>0.92066</td>\n",
       "      <td>0.827453</td>\n",
       "      <td>0.788417</td>\n",
       "      <td>0.782393</td>\n",
       "    </tr>\n",
       "    <tr>\n",
       "      <th>daily_sortino</th>\n",
       "      <td>1.59039</td>\n",
       "      <td>1.59039</td>\n",
       "      <td>1.424263</td>\n",
       "      <td>1.309821</td>\n",
       "      <td>1.301748</td>\n",
       "    </tr>\n",
       "    <tr>\n",
       "      <th>monthly_vol</th>\n",
       "      <td>0.267968</td>\n",
       "      <td>0.267968</td>\n",
       "      <td>0.259743</td>\n",
       "      <td>0.274186</td>\n",
       "      <td>0.273472</td>\n",
       "    </tr>\n",
       "    <tr>\n",
       "      <th>monthly_sharpe</th>\n",
       "      <td>0.876514</td>\n",
       "      <td>0.876514</td>\n",
       "      <td>0.791098</td>\n",
       "      <td>0.699999</td>\n",
       "      <td>0.697944</td>\n",
       "    </tr>\n",
       "    <tr>\n",
       "      <th>monthly_sortino</th>\n",
       "      <td>1.904657</td>\n",
       "      <td>1.904657</td>\n",
       "      <td>1.628934</td>\n",
       "      <td>1.404919</td>\n",
       "      <td>1.399366</td>\n",
       "    </tr>\n",
       "  </tbody>\n",
       "</table>\n",
       "</div>"
      ],
      "text/plain": [
       "                  PER:a5/f500/lb5 PER:a5/f500/lb0 PER:a5/f500/lb10  \\\n",
       "start                  2017-05-09      2017-05-09       2017-05-09   \n",
       "end                    2022-06-24      2022-06-24       2022-06-24   \n",
       "total_return             1.869966        1.869966         1.501494   \n",
       "cagr                     0.228393        0.228393         0.195896   \n",
       "calmar                   0.544341        0.544341          0.46689   \n",
       "max_drawdown            -0.419577       -0.419577        -0.419577   \n",
       "avg_drawdown            -0.054061       -0.054061        -0.048832   \n",
       "avg_drawdown_days           34.28           34.28        36.808511   \n",
       "daily_vol                0.267809        0.267809         0.263329   \n",
       "daily_sharpe              0.92066         0.92066         0.827453   \n",
       "daily_sortino             1.59039         1.59039         1.424263   \n",
       "monthly_vol              0.267968        0.267968         0.259743   \n",
       "monthly_sharpe           0.876514        0.876514         0.791098   \n",
       "monthly_sortino          1.904657        1.904657         1.628934   \n",
       "\n",
       "                  PER:a5/f130/lb10 PER:a5/f130/lb0  \n",
       "start                   2017-05-09      2017-05-09  \n",
       "end                     2022-06-24      2022-06-24  \n",
       "total_return              1.296179        1.286074  \n",
       "cagr                      0.176079        0.175068  \n",
       "calmar                    0.335116        0.333477  \n",
       "max_drawdown             -0.525428       -0.524978  \n",
       "avg_drawdown             -0.045914       -0.047307  \n",
       "avg_drawdown_days        30.696429       31.981481  \n",
       "daily_vol                  0.25059        0.251767  \n",
       "daily_sharpe              0.788417        0.782393  \n",
       "daily_sortino             1.309821        1.301748  \n",
       "monthly_vol               0.274186        0.273472  \n",
       "monthly_sharpe            0.699999        0.697944  \n",
       "monthly_sortino           1.404919        1.399366  "
      ]
     },
     "execution_count": 29,
     "metadata": {},
     "output_type": "execute_result"
    }
   ],
   "source": [
    "df_res = bm.run(stats_sort_by='cagr', plot=False)\n",
    "df_res.iloc[:, :5]"
   ]
  },
  {
   "cell_type": "code",
   "execution_count": 30,
   "id": "ef4923da-4af7-4eba-9847-933a4acf391c",
   "metadata": {
    "scrolled": true
   },
   "outputs": [
    {
     "data": {
      "text/plain": [
       "0) KODEX200\n",
       "1) PER:a5/f130/lb0\n",
       "2) PER:a5/f130/lb5\n",
       "3) PER:a5/f130/lb10\n",
       "4) PER:a5/f130/lb20\n",
       "5) PER:a5/f130/lb30\n",
       "6) PER:a5/f130/lb60\n",
       "7) PER:a5/f250/lb0\n",
       "8) PER:a5/f250/lb5\n",
       "9) PER:a5/f250/lb10\n",
       "10) PER:a5/f250/lb20\n",
       "11) PER:a5/f250/lb30\n",
       "12) PER:a5/f250/lb60\n",
       "13) PER:a5/f500/lb0\n",
       "14) PER:a5/f500/lb5\n",
       "15) PER:a5/f500/lb10\n",
       "16) PER:a5/f500/lb20\n",
       "17) PER:a5/f500/lb30\n",
       "18) PER:a5/f500/lb60\n",
       "19) PER:a10/f130/lb0\n",
       "20) PER:a10/f130/lb5\n",
       "21) PER:a10/f130/lb10\n",
       "22) PER:a10/f130/lb20\n",
       "23) PER:a10/f130/lb30\n",
       "24) PER:a10/f130/lb60\n",
       "25) PER:a10/f250/lb0\n",
       "26) PER:a10/f250/lb5\n",
       "27) PER:a10/f250/lb10\n",
       "28) PER:a10/f250/lb20\n",
       "29) PER:a10/f250/lb30\n",
       "30) PER:a10/f250/lb60\n",
       "31) PER:a10/f500/lb0\n",
       "32) PER:a10/f500/lb5\n",
       "33) PER:a10/f500/lb10\n",
       "34) PER:a10/f500/lb20\n",
       "35) PER:a10/f500/lb30\n",
       "36) PER:a10/f500/lb60\n",
       "37) PER:a20/f130/lb0\n",
       "38) PER:a20/f130/lb5\n",
       "39) PER:a20/f130/lb10\n",
       "40) PER:a20/f130/lb20\n",
       "41) PER:a20/f130/lb30\n",
       "42) PER:a20/f130/lb60\n",
       "43) PER:a20/f250/lb0\n",
       "44) PER:a20/f250/lb5\n",
       "45) PER:a20/f250/lb10\n",
       "46) PER:a20/f250/lb20\n",
       "47) PER:a20/f250/lb30\n",
       "48) PER:a20/f250/lb60\n",
       "49) PER:a20/f500/lb0\n",
       "50) PER:a20/f500/lb5\n",
       "51) PER:a20/f500/lb10\n",
       "52) PER:a20/f500/lb20\n",
       "53) PER:a20/f500/lb30\n",
       "54) PER:a20/f500/lb60\n",
       "55) PER:a30/f130/lb0\n",
       "56) PER:a30/f130/lb5\n",
       "57) PER:a30/f130/lb10\n",
       "58) PER:a30/f130/lb20\n",
       "59) PER:a30/f130/lb30\n",
       "60) PER:a30/f130/lb60\n",
       "61) PER:a30/f250/lb0\n",
       "62) PER:a30/f250/lb5\n",
       "63) PER:a30/f250/lb10\n",
       "64) PER:a30/f250/lb20\n",
       "65) PER:a30/f250/lb30\n",
       "66) PER:a30/f250/lb60\n",
       "67) PER:a30/f500/lb0\n",
       "68) PER:a30/f500/lb5\n",
       "69) PER:a30/f500/lb10\n",
       "70) PER:a30/f500/lb20\n",
       "71) PER:a30/f500/lb30\n",
       "72) PER:a30/f500/lb60\n",
       "73) PBR:a5/f130/lb0\n",
       "74) PBR:a5/f130/lb5\n",
       "75) PBR:a5/f130/lb10\n",
       "76) PBR:a5/f130/lb20\n",
       "77) PBR:a5/f130/lb30\n",
       "78) PBR:a5/f130/lb60\n",
       "79) PBR:a5/f250/lb0\n",
       "80) PBR:a5/f250/lb5\n",
       "81) PBR:a5/f250/lb10\n",
       "82) PBR:a5/f250/lb20\n",
       "83) PBR:a5/f250/lb30\n",
       "84) PBR:a5/f250/lb60\n",
       "85) PBR:a5/f500/lb0\n",
       "86) PBR:a5/f500/lb5\n",
       "87) PBR:a5/f500/lb10\n",
       "88) PBR:a5/f500/lb20\n",
       "89) PBR:a5/f500/lb30\n",
       "90) PBR:a5/f500/lb60\n",
       "91) PBR:a10/f130/lb0\n",
       "92) PBR:a10/f130/lb5\n",
       "93) PBR:a10/f130/lb10\n",
       "94) PBR:a10/f130/lb20\n",
       "95) PBR:a10/f130/lb30\n",
       "96) PBR:a10/f130/lb60\n",
       "97) PBR:a10/f250/lb0\n",
       "98) PBR:a10/f250/lb5\n",
       "99) PBR:a10/f250/lb10\n",
       "100) PBR:a10/f250/lb20\n",
       "101) PBR:a10/f250/lb30\n",
       "102) PBR:a10/f250/lb60\n",
       "103) PBR:a10/f500/lb0\n",
       "104) PBR:a10/f500/lb5\n",
       "105) PBR:a10/f500/lb10\n",
       "106) PBR:a10/f500/lb20\n",
       "107) PBR:a10/f500/lb30\n",
       "108) PBR:a10/f500/lb60\n",
       "109) PBR:a20/f130/lb0\n",
       "110) PBR:a20/f130/lb5\n",
       "111) PBR:a20/f130/lb10\n",
       "112) PBR:a20/f130/lb20\n",
       "113) PBR:a20/f130/lb30\n",
       "114) PBR:a20/f130/lb60\n",
       "115) PBR:a20/f250/lb0\n",
       "116) PBR:a20/f250/lb5\n",
       "117) PBR:a20/f250/lb10\n",
       "118) PBR:a20/f250/lb20\n",
       "119) PBR:a20/f250/lb30\n",
       "120) PBR:a20/f250/lb60\n",
       "121) PBR:a20/f500/lb0\n",
       "122) PBR:a20/f500/lb5\n",
       "123) PBR:a20/f500/lb10\n",
       "124) PBR:a20/f500/lb20\n",
       "125) PBR:a20/f500/lb30\n",
       "126) PBR:a20/f500/lb60\n",
       "127) PBR:a30/f130/lb0\n",
       "128) PBR:a30/f130/lb5\n",
       "129) PBR:a30/f130/lb10\n",
       "130) PBR:a30/f130/lb20\n",
       "131) PBR:a30/f130/lb30\n",
       "132) PBR:a30/f130/lb60\n",
       "133) PBR:a30/f250/lb0\n",
       "134) PBR:a30/f250/lb5\n",
       "135) PBR:a30/f250/lb10\n",
       "136) PBR:a30/f250/lb20\n",
       "137) PBR:a30/f250/lb30\n",
       "138) PBR:a30/f250/lb60\n",
       "139) PBR:a30/f500/lb0\n",
       "140) PBR:a30/f500/lb5\n",
       "141) PBR:a30/f500/lb10\n",
       "142) PBR:a30/f500/lb20\n",
       "143) PBR:a30/f500/lb30\n",
       "144) PBR:a30/f500/lb60"
      ]
     },
     "execution_count": 30,
     "metadata": {},
     "output_type": "execute_result"
    }
   ],
   "source": [
    "bm.portfolios"
   ]
  },
  {
   "cell_type": "code",
   "execution_count": 33,
   "id": "c74bf4f4-cfcb-47e3-80d1-6c6805934027",
   "metadata": {},
   "outputs": [
    {
     "data": {
      "text/html": [
       "<div>\n",
       "<style scoped>\n",
       "    .dataframe tbody tr th:only-of-type {\n",
       "        vertical-align: middle;\n",
       "    }\n",
       "\n",
       "    .dataframe tbody tr th {\n",
       "        vertical-align: top;\n",
       "    }\n",
       "\n",
       "    .dataframe thead th {\n",
       "        text-align: right;\n",
       "    }\n",
       "</style>\n",
       "<table border=\"1\" class=\"dataframe\">\n",
       "  <thead>\n",
       "    <tr style=\"text-align: right;\">\n",
       "      <th></th>\n",
       "      <th>PER:a5/f500/lb0</th>\n",
       "      <th>PER:a5/f500/lb5</th>\n",
       "      <th>PER:a5/f130/lb0</th>\n",
       "      <th>PER:a5/f130/lb5</th>\n",
       "      <th>PER:a5/f250/lb5</th>\n",
       "      <th>PER:a5/f250/lb0</th>\n",
       "      <th>KODEX200</th>\n",
       "    </tr>\n",
       "  </thead>\n",
       "  <tbody>\n",
       "    <tr>\n",
       "      <th>start</th>\n",
       "      <td>2017-05-09</td>\n",
       "      <td>2017-05-09</td>\n",
       "      <td>2017-05-09</td>\n",
       "      <td>2017-05-09</td>\n",
       "      <td>2017-05-09</td>\n",
       "      <td>2017-05-09</td>\n",
       "      <td>2017-05-09</td>\n",
       "    </tr>\n",
       "    <tr>\n",
       "      <th>end</th>\n",
       "      <td>2022-06-24</td>\n",
       "      <td>2022-06-24</td>\n",
       "      <td>2022-06-24</td>\n",
       "      <td>2022-06-24</td>\n",
       "      <td>2022-06-24</td>\n",
       "      <td>2022-06-24</td>\n",
       "      <td>2022-06-24</td>\n",
       "    </tr>\n",
       "    <tr>\n",
       "      <th>total_return</th>\n",
       "      <td>1.869966</td>\n",
       "      <td>1.869966</td>\n",
       "      <td>1.286074</td>\n",
       "      <td>1.286074</td>\n",
       "      <td>0.880016</td>\n",
       "      <td>0.879816</td>\n",
       "      <td>0.166881</td>\n",
       "    </tr>\n",
       "    <tr>\n",
       "      <th>cagr</th>\n",
       "      <td>0.228393</td>\n",
       "      <td>0.228393</td>\n",
       "      <td>0.175068</td>\n",
       "      <td>0.175068</td>\n",
       "      <td>0.131077</td>\n",
       "      <td>0.131054</td>\n",
       "      <td>0.03057</td>\n",
       "    </tr>\n",
       "    <tr>\n",
       "      <th>calmar</th>\n",
       "      <td>0.544341</td>\n",
       "      <td>0.544341</td>\n",
       "      <td>0.333477</td>\n",
       "      <td>0.333477</td>\n",
       "      <td>0.262178</td>\n",
       "      <td>0.262131</td>\n",
       "      <td>0.08037</td>\n",
       "    </tr>\n",
       "    <tr>\n",
       "      <th>max_drawdown</th>\n",
       "      <td>-0.419577</td>\n",
       "      <td>-0.419577</td>\n",
       "      <td>-0.524978</td>\n",
       "      <td>-0.524978</td>\n",
       "      <td>-0.499955</td>\n",
       "      <td>-0.499955</td>\n",
       "      <td>-0.38037</td>\n",
       "    </tr>\n",
       "    <tr>\n",
       "      <th>avg_drawdown</th>\n",
       "      <td>-0.054061</td>\n",
       "      <td>-0.054061</td>\n",
       "      <td>-0.047307</td>\n",
       "      <td>-0.047307</td>\n",
       "      <td>-0.058234</td>\n",
       "      <td>-0.058135</td>\n",
       "      <td>-0.038662</td>\n",
       "    </tr>\n",
       "    <tr>\n",
       "      <th>avg_drawdown_days</th>\n",
       "      <td>34.28</td>\n",
       "      <td>34.28</td>\n",
       "      <td>31.981481</td>\n",
       "      <td>31.981481</td>\n",
       "      <td>47.756757</td>\n",
       "      <td>47.756757</td>\n",
       "      <td>55.28125</td>\n",
       "    </tr>\n",
       "    <tr>\n",
       "      <th>daily_vol</th>\n",
       "      <td>0.267809</td>\n",
       "      <td>0.267809</td>\n",
       "      <td>0.251767</td>\n",
       "      <td>0.251767</td>\n",
       "      <td>0.264814</td>\n",
       "      <td>0.264622</td>\n",
       "      <td>0.187578</td>\n",
       "    </tr>\n",
       "    <tr>\n",
       "      <th>daily_sharpe</th>\n",
       "      <td>0.92066</td>\n",
       "      <td>0.92066</td>\n",
       "      <td>0.782393</td>\n",
       "      <td>0.782393</td>\n",
       "      <td>0.608326</td>\n",
       "      <td>0.608495</td>\n",
       "      <td>0.258084</td>\n",
       "    </tr>\n",
       "    <tr>\n",
       "      <th>daily_sortino</th>\n",
       "      <td>1.59039</td>\n",
       "      <td>1.59039</td>\n",
       "      <td>1.301748</td>\n",
       "      <td>1.301748</td>\n",
       "      <td>1.044202</td>\n",
       "      <td>1.044858</td>\n",
       "      <td>0.415633</td>\n",
       "    </tr>\n",
       "    <tr>\n",
       "      <th>monthly_vol</th>\n",
       "      <td>0.267968</td>\n",
       "      <td>0.267968</td>\n",
       "      <td>0.273472</td>\n",
       "      <td>0.273472</td>\n",
       "      <td>0.261978</td>\n",
       "      <td>0.26199</td>\n",
       "      <td>0.185062</td>\n",
       "    </tr>\n",
       "    <tr>\n",
       "      <th>monthly_sharpe</th>\n",
       "      <td>0.876514</td>\n",
       "      <td>0.876514</td>\n",
       "      <td>0.697944</td>\n",
       "      <td>0.697944</td>\n",
       "      <td>0.568871</td>\n",
       "      <td>0.568778</td>\n",
       "      <td>0.223819</td>\n",
       "    </tr>\n",
       "    <tr>\n",
       "      <th>monthly_sortino</th>\n",
       "      <td>1.904657</td>\n",
       "      <td>1.904657</td>\n",
       "      <td>1.399366</td>\n",
       "      <td>1.399366</td>\n",
       "      <td>1.176919</td>\n",
       "      <td>1.176607</td>\n",
       "      <td>0.391036</td>\n",
       "    </tr>\n",
       "  </tbody>\n",
       "</table>\n",
       "</div>"
      ],
      "text/plain": [
       "                  PER:a5/f500/lb0 PER:a5/f500/lb5 PER:a5/f130/lb0  \\\n",
       "start                  2017-05-09      2017-05-09      2017-05-09   \n",
       "end                    2022-06-24      2022-06-24      2022-06-24   \n",
       "total_return             1.869966        1.869966        1.286074   \n",
       "cagr                     0.228393        0.228393        0.175068   \n",
       "calmar                   0.544341        0.544341        0.333477   \n",
       "max_drawdown            -0.419577       -0.419577       -0.524978   \n",
       "avg_drawdown            -0.054061       -0.054061       -0.047307   \n",
       "avg_drawdown_days           34.28           34.28       31.981481   \n",
       "daily_vol                0.267809        0.267809        0.251767   \n",
       "daily_sharpe              0.92066         0.92066        0.782393   \n",
       "daily_sortino             1.59039         1.59039        1.301748   \n",
       "monthly_vol              0.267968        0.267968        0.273472   \n",
       "monthly_sharpe           0.876514        0.876514        0.697944   \n",
       "monthly_sortino          1.904657        1.904657        1.399366   \n",
       "\n",
       "                  PER:a5/f130/lb5 PER:a5/f250/lb5 PER:a5/f250/lb0    KODEX200  \n",
       "start                  2017-05-09      2017-05-09      2017-05-09  2017-05-09  \n",
       "end                    2022-06-24      2022-06-24      2022-06-24  2022-06-24  \n",
       "total_return             1.286074        0.880016        0.879816    0.166881  \n",
       "cagr                     0.175068        0.131077        0.131054     0.03057  \n",
       "calmar                   0.333477        0.262178        0.262131     0.08037  \n",
       "max_drawdown            -0.524978       -0.499955       -0.499955    -0.38037  \n",
       "avg_drawdown            -0.047307       -0.058234       -0.058135   -0.038662  \n",
       "avg_drawdown_days       31.981481       47.756757       47.756757    55.28125  \n",
       "daily_vol                0.251767        0.264814        0.264622    0.187578  \n",
       "daily_sharpe             0.782393        0.608326        0.608495    0.258084  \n",
       "daily_sortino            1.301748        1.044202        1.044858    0.415633  \n",
       "monthly_vol              0.273472        0.261978         0.26199    0.185062  \n",
       "monthly_sharpe           0.697944        0.568871        0.568778    0.223819  \n",
       "monthly_sortino          1.399366        1.176919        1.176607    0.391036  "
      ]
     },
     "execution_count": 33,
     "metadata": {},
     "output_type": "execute_result"
    }
   ],
   "source": [
    "#pf_list = [0, 1, 3, 4, 13, 15, 16]\n",
    "pf_list = [0, 1, 2, 7, 8, 13, 14]\n",
    "#pf_list = list(range(7))\n",
    "\n",
    "#bm.get_stats(pf_list, sort_by='monthly_sharpe')\n",
    "bm.get_stats(pf_list, sort_by='cagr')"
   ]
  },
  {
   "cell_type": "code",
   "execution_count": 34,
   "id": "59cc4bd9-84bc-4144-9f0c-fb70bf955ffb",
   "metadata": {},
   "outputs": [
    {
     "data": {
      "image/png": "[encoded data removed]",
      "text/plain": [
       "<Figure size 900x400 with 1 Axes>"
      ]
     },
     "metadata": {},
     "output_type": "display_data"
    }
   ],
   "source": [
    "_ = bm.plot(pf_list, figsize=(9,4))"
   ]
  },
  {
   "cell_type": "markdown",
   "id": "43092efa-d491-4dc4-b195-11ad0df10314",
   "metadata": {},
   "source": [
    "### Validation"
   ]
  },
  {
   "cell_type": "code",
   "execution_count": 35,
   "id": "91179db9-1420-4cb7-be04-afa3694953eb",
   "metadata": {},
   "outputs": [
    {
     "name": "stdout",
     "output_type": "stream",
     "text": [
      "running self.util_check_days_in_year to check days in a year\n",
      "171 assets from 2022-06-27 to 2024-07-05 uploaded.\n",
      "Benchmark is KODEX200\n"
     ]
    }
   ],
   "source": [
    "bm = BacktestManager(df_test, **kwargs_bm)\n",
    "bm.benchmark_ticker()"
   ]
  },
  {
   "cell_type": "code",
   "execution_count": 36,
   "id": "23bc7919-cd61-40f7-b550-6d150982a840",
   "metadata": {},
   "outputs": [
    {
     "name": "stdout",
     "output_type": "stream",
     "text": [
      "Backtesting 19 strategies: KODEX200, PER:a5/f130/lb0, ... , PER:a10/f500/lb10\n"
     ]
    },
    {
     "name": "stderr",
     "output_type": "stream",
     "text": [
      "100%|███████████████████████████████████████████████████████████████| 19/19 [00:07<00:00,  2.65it/s]"
     ]
    },
    {
     "name": "stdout",
     "output_type": "stream",
     "text": [
      "Returning stats\n"
     ]
    },
    {
     "name": "stderr",
     "output_type": "stream",
     "text": [
      "\n"
     ]
    }
   ],
   "source": [
    "from itertools import product\n",
    "\n",
    "params = dict(\n",
    "    p_fr = ['PER'],\n",
    "    p_ast = [5, 10],\n",
    "    p_freq = [130, 250, 500],\n",
    "    p_lb = [0, 5, 10]\n",
    ")\n",
    "p_comb = list(product(*params.values()))\n",
    "kwa_list = [{'name':f'{x[0]}:a{x[1]}/f{x[2]}/lb{x[3]}',\n",
    "              'df_ratio':fratios_dict[x[0]], 'n_assets':x[1], 'freq':x[2], 'lookback':x[3]} \n",
    "            for x in p_comb]\n",
    "\n",
    "kwargs_build = dict(\n",
    "    select='F-ratio', weigh='Equally', ratio_descending=False\n",
    ")\n",
    "\n",
    "bm.build_batch(*kwa_list, **kwargs_build)\n",
    "df_res = bm.run(stats_sort_by='cagr', plot=False)"
   ]
  },
  {
   "cell_type": "code",
   "execution_count": 37,
   "id": "57adba5f-c482-4103-869c-43fbeb460f97",
   "metadata": {},
   "outputs": [],
   "source": [
    "#df_res = bm.get_stats(sort_by='monthly_sharpe')"
   ]
  },
  {
   "cell_type": "code",
   "execution_count": 38,
   "id": "55fc6670-9170-4926-9673-1925325b5f94",
   "metadata": {},
   "outputs": [
    {
     "data": {
      "text/html": [
       "<div>\n",
       "<style scoped>\n",
       "    .dataframe tbody tr th:only-of-type {\n",
       "        vertical-align: middle;\n",
       "    }\n",
       "\n",
       "    .dataframe tbody tr th {\n",
       "        vertical-align: top;\n",
       "    }\n",
       "\n",
       "    .dataframe thead th {\n",
       "        text-align: right;\n",
       "    }\n",
       "</style>\n",
       "<table border=\"1\" class=\"dataframe\">\n",
       "  <thead>\n",
       "    <tr style=\"text-align: right;\">\n",
       "      <th></th>\n",
       "      <th>PER:a5/f130/lb0</th>\n",
       "      <th>PER:a5/f250/lb0</th>\n",
       "      <th>PER:a5/f250/lb5</th>\n",
       "      <th>PER:a5/f250/lb10</th>\n",
       "      <th>KODEX200</th>\n",
       "    </tr>\n",
       "  </thead>\n",
       "  <tbody>\n",
       "    <tr>\n",
       "      <th>start</th>\n",
       "      <td>2022-06-26</td>\n",
       "      <td>2022-06-26</td>\n",
       "      <td>2022-06-26</td>\n",
       "      <td>2022-06-26</td>\n",
       "      <td>2022-06-26</td>\n",
       "    </tr>\n",
       "    <tr>\n",
       "      <th>end</th>\n",
       "      <td>2024-07-05</td>\n",
       "      <td>2024-07-05</td>\n",
       "      <td>2024-07-05</td>\n",
       "      <td>2024-07-05</td>\n",
       "      <td>2024-07-05</td>\n",
       "    </tr>\n",
       "    <tr>\n",
       "      <th>total_return</th>\n",
       "      <td>0.354263</td>\n",
       "      <td>0.337132</td>\n",
       "      <td>0.337132</td>\n",
       "      <td>0.337132</td>\n",
       "      <td>0.307593</td>\n",
       "    </tr>\n",
       "    <tr>\n",
       "      <th>cagr</th>\n",
       "      <td>0.161465</td>\n",
       "      <td>0.15419</td>\n",
       "      <td>0.15419</td>\n",
       "      <td>0.15419</td>\n",
       "      <td>0.141534</td>\n",
       "    </tr>\n",
       "    <tr>\n",
       "      <th>calmar</th>\n",
       "      <td>0.751864</td>\n",
       "      <td>0.717987</td>\n",
       "      <td>0.717987</td>\n",
       "      <td>0.717987</td>\n",
       "      <td>0.953443</td>\n",
       "    </tr>\n",
       "    <tr>\n",
       "      <th>max_drawdown</th>\n",
       "      <td>-0.214753</td>\n",
       "      <td>-0.214753</td>\n",
       "      <td>-0.214753</td>\n",
       "      <td>-0.214753</td>\n",
       "      <td>-0.148445</td>\n",
       "    </tr>\n",
       "    <tr>\n",
       "      <th>avg_drawdown</th>\n",
       "      <td>-0.061921</td>\n",
       "      <td>-0.057175</td>\n",
       "      <td>-0.057175</td>\n",
       "      <td>-0.057175</td>\n",
       "      <td>-0.030484</td>\n",
       "    </tr>\n",
       "    <tr>\n",
       "      <th>avg_drawdown_days</th>\n",
       "      <td>37.944444</td>\n",
       "      <td>34.05</td>\n",
       "      <td>34.05</td>\n",
       "      <td>34.05</td>\n",
       "      <td>25.269231</td>\n",
       "    </tr>\n",
       "    <tr>\n",
       "      <th>daily_vol</th>\n",
       "      <td>0.258318</td>\n",
       "      <td>0.260772</td>\n",
       "      <td>0.260772</td>\n",
       "      <td>0.260772</td>\n",
       "      <td>0.168761</td>\n",
       "    </tr>\n",
       "    <tr>\n",
       "      <th>daily_sharpe</th>\n",
       "      <td>0.719883</td>\n",
       "      <td>0.691137</td>\n",
       "      <td>0.691137</td>\n",
       "      <td>0.691137</td>\n",
       "      <td>0.88523</td>\n",
       "    </tr>\n",
       "    <tr>\n",
       "      <th>daily_sortino</th>\n",
       "      <td>1.342315</td>\n",
       "      <td>1.266716</td>\n",
       "      <td>1.266716</td>\n",
       "      <td>1.266716</td>\n",
       "      <td>1.573946</td>\n",
       "    </tr>\n",
       "    <tr>\n",
       "      <th>monthly_vol</th>\n",
       "      <td>0.275983</td>\n",
       "      <td>0.277138</td>\n",
       "      <td>0.277138</td>\n",
       "      <td>0.277138</td>\n",
       "      <td>0.197235</td>\n",
       "    </tr>\n",
       "    <tr>\n",
       "      <th>monthly_sharpe</th>\n",
       "      <td>0.630293</td>\n",
       "      <td>0.607877</td>\n",
       "      <td>0.607877</td>\n",
       "      <td>0.607877</td>\n",
       "      <td>0.81536</td>\n",
       "    </tr>\n",
       "    <tr>\n",
       "      <th>monthly_sortino</th>\n",
       "      <td>1.283168</td>\n",
       "      <td>1.181982</td>\n",
       "      <td>1.181982</td>\n",
       "      <td>1.181982</td>\n",
       "      <td>1.473538</td>\n",
       "    </tr>\n",
       "  </tbody>\n",
       "</table>\n",
       "</div>"
      ],
      "text/plain": [
       "                  PER:a5/f130/lb0 PER:a5/f250/lb0 PER:a5/f250/lb5  \\\n",
       "start                  2022-06-26      2022-06-26      2022-06-26   \n",
       "end                    2024-07-05      2024-07-05      2024-07-05   \n",
       "total_return             0.354263        0.337132        0.337132   \n",
       "cagr                     0.161465         0.15419         0.15419   \n",
       "calmar                   0.751864        0.717987        0.717987   \n",
       "max_drawdown            -0.214753       -0.214753       -0.214753   \n",
       "avg_drawdown            -0.061921       -0.057175       -0.057175   \n",
       "avg_drawdown_days       37.944444           34.05           34.05   \n",
       "daily_vol                0.258318        0.260772        0.260772   \n",
       "daily_sharpe             0.719883        0.691137        0.691137   \n",
       "daily_sortino            1.342315        1.266716        1.266716   \n",
       "monthly_vol              0.275983        0.277138        0.277138   \n",
       "monthly_sharpe           0.630293        0.607877        0.607877   \n",
       "monthly_sortino          1.283168        1.181982        1.181982   \n",
       "\n",
       "                  PER:a5/f250/lb10    KODEX200  \n",
       "start                   2022-06-26  2022-06-26  \n",
       "end                     2024-07-05  2024-07-05  \n",
       "total_return              0.337132    0.307593  \n",
       "cagr                       0.15419    0.141534  \n",
       "calmar                    0.717987    0.953443  \n",
       "max_drawdown             -0.214753   -0.148445  \n",
       "avg_drawdown             -0.057175   -0.030484  \n",
       "avg_drawdown_days            34.05   25.269231  \n",
       "daily_vol                 0.260772    0.168761  \n",
       "daily_sharpe              0.691137     0.88523  \n",
       "daily_sortino             1.266716    1.573946  \n",
       "monthly_vol               0.277138    0.197235  \n",
       "monthly_sharpe            0.607877     0.81536  \n",
       "monthly_sortino           1.181982    1.473538  "
      ]
     },
     "execution_count": 38,
     "metadata": {},
     "output_type": "execute_result"
    }
   ],
   "source": [
    "df_res.iloc[:, :5]"
   ]
  },
  {
   "cell_type": "markdown",
   "id": "af36ff6b-78eb-413e-ad16-de01d333db98",
   "metadata": {},
   "source": [
    "## Cross-validation"
   ]
  },
  {
   "cell_type": "code",
   "execution_count": 39,
   "id": "1f052dcd-420a-4238-9f6b-a53008ca48ee",
   "metadata": {},
   "outputs": [],
   "source": [
    "n_test = 500\n",
    "df_train = df_k200.iloc[:-n_test]\n",
    "df_test = df_k200.iloc[-n_test:]"
   ]
  },
  {
   "cell_type": "code",
   "execution_count": 40,
   "id": "366a7a80-73d5-4d70-8361-416b3fc6c80b",
   "metadata": {},
   "outputs": [],
   "source": [
    "kwargs_bm = dict(\n",
    "    initial_capital = 1e7,\n",
    "    commissions = 0,\n",
    "    align_axis = None, \n",
    "    days_in_year = 246,\n",
    "    asset_names = assetnames_k200\n",
    ")"
   ]
  },
  {
   "cell_type": "code",
   "execution_count": 41,
   "id": "749b03a3-73d1-49a7-9bf0-56438e8bf5e3",
   "metadata": {},
   "outputs": [
    {
     "name": "stdout",
     "output_type": "stream",
     "text": [
      "running self.util_check_days_in_year to check days in a year\n",
      "171 assets from 2022-06-27 to 2024-07-05 uploaded.\n"
     ]
    }
   ],
   "source": [
    "bm = BacktestManager(df_test, **kwargs_bm)"
   ]
  },
  {
   "cell_type": "code",
   "execution_count": 42,
   "id": "d73c5d9f-1fba-4305-84d6-325603469922",
   "metadata": {},
   "outputs": [],
   "source": [
    "from itertools import product\n",
    "\n",
    "params = dict(\n",
    "    p_fr = ['PER'],\n",
    "    p_ast = [5, 10],\n",
    "    p_freq = [130, 250, 500],\n",
    "    p_lb = [0, 5, 10]\n",
    ")\n",
    "p_comb = list(product(*params.values()))\n",
    "kwa_list = [{'name':f'{x[0]}:a{x[1]}/f{x[2]}/lb{x[3]}',\n",
    "             'df_ratio':fratios_dict[x[0]], 'n_assets':x[1], 'freq':x[2], 'lookback':x[3]} \n",
    "            for x in p_comb]\n",
    "\n",
    "kwargs_build = dict(\n",
    "    select='F-ratio', weigh='Equally', ratio_descending=False\n",
    ")\n",
    "\n",
    "bm.build_batch(*kwa_list, **kwargs_build)"
   ]
  },
  {
   "cell_type": "code",
   "execution_count": 45,
   "id": "e762274f-c402-4672-9342-dc68e8534a85",
   "metadata": {
    "scrolled": true
   },
   "outputs": [
    {
     "name": "stdout",
     "output_type": "stream",
     "text": [
      "Cross-validating 18 strategies: PER:a5/f130/lb0, PER:a5/f130/lb5, ... , PER:a10/f500/lb10\n"
     ]
    },
    {
     "name": "stderr",
     "output_type": "stream",
     "text": [
      "100%|███████████████████████████████████████████████████████████████| 17/17 [00:06<00:00,  2.67it/s]\n",
      "100%|███████████████████████████████████████████████████████████████| 17/17 [00:06<00:00,  2.60it/s]\n",
      "100%|███████████████████████████████████████████████████████████████| 17/17 [00:06<00:00,  2.48it/s]\n",
      "100%|███████████████████████████████████████████████████████████████| 17/17 [00:06<00:00,  2.65it/s]\n",
      "100%|███████████████████████████████████████████████████████████████| 17/17 [00:06<00:00,  2.66it/s]\n",
      "100%|███████████████████████████████████████████████████████████████| 17/17 [00:06<00:00,  2.63it/s]\n",
      "100%|███████████████████████████████████████████████████████████████| 17/17 [00:06<00:00,  2.72it/s]\n",
      "100%|███████████████████████████████████████████████████████████████| 17/17 [00:06<00:00,  2.66it/s]\n",
      "100%|███████████████████████████████████████████████████████████████| 17/17 [00:06<00:00,  2.62it/s]\n",
      "100%|███████████████████████████████████████████████████████████████| 17/17 [00:06<00:00,  2.58it/s]\n",
      "100%|███████████████████████████████████████████████████████████████| 17/17 [00:07<00:00,  2.42it/s]\n",
      "100%|███████████████████████████████████████████████████████████████| 17/17 [00:07<00:00,  2.23it/s]\n",
      "100%|███████████████████████████████████████████████████████████████| 17/17 [00:07<00:00,  2.31it/s]\n",
      "100%|███████████████████████████████████████████████████████████████| 17/17 [00:07<00:00,  2.30it/s]\n",
      "100%|███████████████████████████████████████████████████████████████| 17/17 [00:07<00:00,  2.28it/s]\n",
      "100%|███████████████████████████████████████████████████████████████| 17/17 [00:07<00:00,  2.30it/s]\n",
      "100%|███████████████████████████████████████████████████████████████| 17/17 [00:07<00:00,  2.41it/s]\n",
      "100%|███████████████████████████████████████████████████████████████| 17/17 [00:07<00:00,  2.38it/s]\n"
     ]
    }
   ],
   "source": [
    "df_res = bm.cross_validate(n_sample=20)"
   ]
  },
  {
   "cell_type": "code",
   "execution_count": 47,
   "id": "0d15c358-707d-4247-bf52-9a67fc14f4ff",
   "metadata": {},
   "outputs": [
    {
     "data": {
      "text/html": [
       "<div>\n",
       "<style scoped>\n",
       "    .dataframe tbody tr th:only-of-type {\n",
       "        vertical-align: middle;\n",
       "    }\n",
       "\n",
       "    .dataframe tbody tr th {\n",
       "        vertical-align: top;\n",
       "    }\n",
       "\n",
       "    .dataframe thead th {\n",
       "        text-align: right;\n",
       "    }\n",
       "</style>\n",
       "<table border=\"1\" class=\"dataframe\">\n",
       "  <thead>\n",
       "    <tr style=\"text-align: right;\">\n",
       "      <th></th>\n",
       "      <th>cagr</th>\n",
       "      <th>max_drawdown</th>\n",
       "      <th>avg_drawdown</th>\n",
       "      <th>avg_drawdown_days</th>\n",
       "      <th>monthly_vol</th>\n",
       "      <th>monthly_sharpe</th>\n",
       "    </tr>\n",
       "  </thead>\n",
       "  <tbody>\n",
       "    <tr>\n",
       "      <th>PER:a5/f130/lb0</th>\n",
       "      <td>0.09 ± 0.052</td>\n",
       "      <td>-0.19 ± 0.030</td>\n",
       "      <td>-0.07 ± 0.019</td>\n",
       "      <td>52.06 ± 23.186</td>\n",
       "      <td>0.19 ± 0.041</td>\n",
       "      <td>0.54 ± 0.257</td>\n",
       "    </tr>\n",
       "    <tr>\n",
       "      <th>PER:a5/f130/lb5</th>\n",
       "      <td>0.09 ± 0.052</td>\n",
       "      <td>-0.19 ± 0.029</td>\n",
       "      <td>-0.07 ± 0.021</td>\n",
       "      <td>54.48 ± 24.460</td>\n",
       "      <td>0.19 ± 0.039</td>\n",
       "      <td>0.50 ± 0.253</td>\n",
       "    </tr>\n",
       "    <tr>\n",
       "      <th>PER:a5/f130/lb10</th>\n",
       "      <td>0.09 ± 0.045</td>\n",
       "      <td>-0.19 ± 0.030</td>\n",
       "      <td>-0.07 ± 0.021</td>\n",
       "      <td>50.59 ± 21.019</td>\n",
       "      <td>0.20 ± 0.035</td>\n",
       "      <td>0.54 ± 0.211</td>\n",
       "    </tr>\n",
       "    <tr>\n",
       "      <th>PER:a5/f250/lb0</th>\n",
       "      <td>0.11 ± 0.057</td>\n",
       "      <td>-0.20 ± 0.019</td>\n",
       "      <td>-0.07 ± 0.026</td>\n",
       "      <td>57.01 ± 34.600</td>\n",
       "      <td>0.22 ± 0.039</td>\n",
       "      <td>0.56 ± 0.186</td>\n",
       "    </tr>\n",
       "    <tr>\n",
       "      <th>PER:a5/f250/lb5</th>\n",
       "      <td>0.10 ± 0.063</td>\n",
       "      <td>-0.21 ± 0.030</td>\n",
       "      <td>-0.08 ± 0.054</td>\n",
       "      <td>80.41 ± 108.021</td>\n",
       "      <td>0.22 ± 0.038</td>\n",
       "      <td>0.51 ± 0.231</td>\n",
       "    </tr>\n",
       "    <tr>\n",
       "      <th>PER:a5/f250/lb10</th>\n",
       "      <td>0.10 ± 0.055</td>\n",
       "      <td>-0.21 ± 0.023</td>\n",
       "      <td>-0.07 ± 0.027</td>\n",
       "      <td>61.43 ± 36.485</td>\n",
       "      <td>0.22 ± 0.037</td>\n",
       "      <td>0.53 ± 0.183</td>\n",
       "    </tr>\n",
       "    <tr>\n",
       "      <th>PER:a5/f500/lb0</th>\n",
       "      <td>0.02 ± 0.041</td>\n",
       "      <td>-0.21 ± 0.024</td>\n",
       "      <td>-0.08 ± 0.035</td>\n",
       "      <td>88.17 ± 55.666</td>\n",
       "      <td>0.19 ± 0.048</td>\n",
       "      <td>0.17 ± 0.203</td>\n",
       "    </tr>\n",
       "    <tr>\n",
       "      <th>PER:a5/f500/lb5</th>\n",
       "      <td>0.01 ± 0.047</td>\n",
       "      <td>-0.22 ± 0.030</td>\n",
       "      <td>-0.09 ± 0.052</td>\n",
       "      <td>104.33 ± 105.994</td>\n",
       "      <td>0.19 ± 0.046</td>\n",
       "      <td>0.14 ± 0.263</td>\n",
       "    </tr>\n",
       "    <tr>\n",
       "      <th>PER:a5/f500/lb10</th>\n",
       "      <td>0.02 ± 0.040</td>\n",
       "      <td>-0.22 ± 0.029</td>\n",
       "      <td>-0.08 ± 0.037</td>\n",
       "      <td>91.07 ± 54.597</td>\n",
       "      <td>0.19 ± 0.045</td>\n",
       "      <td>0.16 ± 0.212</td>\n",
       "    </tr>\n",
       "    <tr>\n",
       "      <th>PER:a10/f130/lb0</th>\n",
       "      <td>0.05 ± 0.042</td>\n",
       "      <td>-0.17 ± 0.019</td>\n",
       "      <td>-0.06 ± 0.021</td>\n",
       "      <td>63.31 ± 32.264</td>\n",
       "      <td>0.14 ± 0.044</td>\n",
       "      <td>0.33 ± 0.220</td>\n",
       "    </tr>\n",
       "    <tr>\n",
       "      <th>PER:a10/f130/lb5</th>\n",
       "      <td>0.04 ± 0.038</td>\n",
       "      <td>-0.17 ± 0.020</td>\n",
       "      <td>-0.06 ± 0.015</td>\n",
       "      <td>60.82 ± 25.615</td>\n",
       "      <td>0.14 ± 0.044</td>\n",
       "      <td>0.31 ± 0.212</td>\n",
       "    </tr>\n",
       "    <tr>\n",
       "      <th>PER:a10/f130/lb10</th>\n",
       "      <td>0.04 ± 0.037</td>\n",
       "      <td>-0.17 ± 0.020</td>\n",
       "      <td>-0.06 ± 0.017</td>\n",
       "      <td>63.23 ± 32.460</td>\n",
       "      <td>0.15 ± 0.043</td>\n",
       "      <td>0.32 ± 0.194</td>\n",
       "    </tr>\n",
       "    <tr>\n",
       "      <th>PER:a10/f250/lb0</th>\n",
       "      <td>0.04 ± 0.049</td>\n",
       "      <td>-0.18 ± 0.021</td>\n",
       "      <td>-0.07 ± 0.035</td>\n",
       "      <td>98.33 ± 112.049</td>\n",
       "      <td>0.15 ± 0.042</td>\n",
       "      <td>0.27 ± 0.239</td>\n",
       "    </tr>\n",
       "    <tr>\n",
       "      <th>PER:a10/f250/lb5</th>\n",
       "      <td>0.04 ± 0.049</td>\n",
       "      <td>-0.18 ± 0.021</td>\n",
       "      <td>-0.07 ± 0.034</td>\n",
       "      <td>98.31 ± 112.050</td>\n",
       "      <td>0.15 ± 0.042</td>\n",
       "      <td>0.27 ± 0.235</td>\n",
       "    </tr>\n",
       "    <tr>\n",
       "      <th>PER:a10/f250/lb10</th>\n",
       "      <td>0.04 ± 0.049</td>\n",
       "      <td>-0.18 ± 0.021</td>\n",
       "      <td>-0.07 ± 0.031</td>\n",
       "      <td>98.31 ± 112.050</td>\n",
       "      <td>0.15 ± 0.042</td>\n",
       "      <td>0.27 ± 0.235</td>\n",
       "    </tr>\n",
       "    <tr>\n",
       "      <th>PER:a10/f500/lb0</th>\n",
       "      <td>0.02 ± 0.047</td>\n",
       "      <td>-0.19 ± 0.018</td>\n",
       "      <td>-0.07 ± 0.022</td>\n",
       "      <td>87.95 ± 64.192</td>\n",
       "      <td>0.15 ± 0.047</td>\n",
       "      <td>0.18 ± 0.258</td>\n",
       "    </tr>\n",
       "    <tr>\n",
       "      <th>PER:a10/f500/lb5</th>\n",
       "      <td>0.02 ± 0.048</td>\n",
       "      <td>-0.19 ± 0.018</td>\n",
       "      <td>-0.07 ± 0.034</td>\n",
       "      <td>102.26 ± 111.137</td>\n",
       "      <td>0.15 ± 0.048</td>\n",
       "      <td>0.17 ± 0.273</td>\n",
       "    </tr>\n",
       "    <tr>\n",
       "      <th>PER:a10/f500/lb10</th>\n",
       "      <td>0.02 ± 0.048</td>\n",
       "      <td>-0.19 ± 0.019</td>\n",
       "      <td>-0.07 ± 0.031</td>\n",
       "      <td>102.26 ± 111.137</td>\n",
       "      <td>0.15 ± 0.048</td>\n",
       "      <td>0.17 ± 0.278</td>\n",
       "    </tr>\n",
       "  </tbody>\n",
       "</table>\n",
       "</div>"
      ],
      "text/plain": [
       "                           cagr   max_drawdown   avg_drawdown  \\\n",
       "PER:a5/f130/lb0    0.09 ± 0.052  -0.19 ± 0.030  -0.07 ± 0.019   \n",
       "PER:a5/f130/lb5    0.09 ± 0.052  -0.19 ± 0.029  -0.07 ± 0.021   \n",
       "PER:a5/f130/lb10   0.09 ± 0.045  -0.19 ± 0.030  -0.07 ± 0.021   \n",
       "PER:a5/f250/lb0    0.11 ± 0.057  -0.20 ± 0.019  -0.07 ± 0.026   \n",
       "PER:a5/f250/lb5    0.10 ± 0.063  -0.21 ± 0.030  -0.08 ± 0.054   \n",
       "PER:a5/f250/lb10   0.10 ± 0.055  -0.21 ± 0.023  -0.07 ± 0.027   \n",
       "PER:a5/f500/lb0    0.02 ± 0.041  -0.21 ± 0.024  -0.08 ± 0.035   \n",
       "PER:a5/f500/lb5    0.01 ± 0.047  -0.22 ± 0.030  -0.09 ± 0.052   \n",
       "PER:a5/f500/lb10   0.02 ± 0.040  -0.22 ± 0.029  -0.08 ± 0.037   \n",
       "PER:a10/f130/lb0   0.05 ± 0.042  -0.17 ± 0.019  -0.06 ± 0.021   \n",
       "PER:a10/f130/lb5   0.04 ± 0.038  -0.17 ± 0.020  -0.06 ± 0.015   \n",
       "PER:a10/f130/lb10  0.04 ± 0.037  -0.17 ± 0.020  -0.06 ± 0.017   \n",
       "PER:a10/f250/lb0   0.04 ± 0.049  -0.18 ± 0.021  -0.07 ± 0.035   \n",
       "PER:a10/f250/lb5   0.04 ± 0.049  -0.18 ± 0.021  -0.07 ± 0.034   \n",
       "PER:a10/f250/lb10  0.04 ± 0.049  -0.18 ± 0.021  -0.07 ± 0.031   \n",
       "PER:a10/f500/lb0   0.02 ± 0.047  -0.19 ± 0.018  -0.07 ± 0.022   \n",
       "PER:a10/f500/lb5   0.02 ± 0.048  -0.19 ± 0.018  -0.07 ± 0.034   \n",
       "PER:a10/f500/lb10  0.02 ± 0.048  -0.19 ± 0.019  -0.07 ± 0.031   \n",
       "\n",
       "                  avg_drawdown_days   monthly_vol monthly_sharpe  \n",
       "PER:a5/f130/lb0      52.06 ± 23.186  0.19 ± 0.041   0.54 ± 0.257  \n",
       "PER:a5/f130/lb5      54.48 ± 24.460  0.19 ± 0.039   0.50 ± 0.253  \n",
       "PER:a5/f130/lb10     50.59 ± 21.019  0.20 ± 0.035   0.54 ± 0.211  \n",
       "PER:a5/f250/lb0      57.01 ± 34.600  0.22 ± 0.039   0.56 ± 0.186  \n",
       "PER:a5/f250/lb5     80.41 ± 108.021  0.22 ± 0.038   0.51 ± 0.231  \n",
       "PER:a5/f250/lb10     61.43 ± 36.485  0.22 ± 0.037   0.53 ± 0.183  \n",
       "PER:a5/f500/lb0      88.17 ± 55.666  0.19 ± 0.048   0.17 ± 0.203  \n",
       "PER:a5/f500/lb5    104.33 ± 105.994  0.19 ± 0.046   0.14 ± 0.263  \n",
       "PER:a5/f500/lb10     91.07 ± 54.597  0.19 ± 0.045   0.16 ± 0.212  \n",
       "PER:a10/f130/lb0     63.31 ± 32.264  0.14 ± 0.044   0.33 ± 0.220  \n",
       "PER:a10/f130/lb5     60.82 ± 25.615  0.14 ± 0.044   0.31 ± 0.212  \n",
       "PER:a10/f130/lb10    63.23 ± 32.460  0.15 ± 0.043   0.32 ± 0.194  \n",
       "PER:a10/f250/lb0    98.33 ± 112.049  0.15 ± 0.042   0.27 ± 0.239  \n",
       "PER:a10/f250/lb5    98.31 ± 112.050  0.15 ± 0.042   0.27 ± 0.235  \n",
       "PER:a10/f250/lb10   98.31 ± 112.050  0.15 ± 0.042   0.27 ± 0.235  \n",
       "PER:a10/f500/lb0     87.95 ± 64.192  0.15 ± 0.047   0.18 ± 0.258  \n",
       "PER:a10/f500/lb5   102.26 ± 111.137  0.15 ± 0.048   0.17 ± 0.273  \n",
       "PER:a10/f500/lb10  102.26 ± 111.137  0.15 ± 0.048   0.17 ± 0.278  "
      ]
     },
     "execution_count": 47,
     "metadata": {},
     "output_type": "execute_result"
    }
   ],
   "source": [
    "m = ['cagr', 'max_drawdown', 'avg_drawdown', 'avg_drawdown_days', 'monthly_vol', 'monthly_sharpe']\n",
    "df_res.T[m]"
   ]
  },
  {
   "cell_type": "code",
   "execution_count": null,
   "id": "4e0951e7-5b68-4a36-a629-4a635120a351",
   "metadata": {
    "scrolled": true
   },
   "outputs": [],
   "source": [
    "#bm.cv_strategies"
   ]
  },
  {
   "cell_type": "code",
   "execution_count": null,
   "id": "e5ba75f2-77db-4948-9bb4-f3d1122315c7",
   "metadata": {},
   "outputs": [],
   "source": [
    "#pf_list = list(range(6))\n",
    "#bm.cross_validate(pf_list, n_sample=10)"
   ]
  },
  {
   "cell_type": "markdown",
   "id": "4081e26a-0d1b-494d-afda-adc7592de525",
   "metadata": {},
   "source": [
    "# Transaction"
   ]
  },
  {
   "cell_type": "code",
   "execution_count": 14,
   "id": "7f11736e-a72d-4b11-b332-b61db68b83cb",
   "metadata": {},
   "outputs": [],
   "source": [
    "df_ratio = fratios_dict['PER']"
   ]
  },
  {
   "cell_type": "code",
   "execution_count": 15,
   "id": "ab3a72e9-226d-40dd-bac4-b76740397cca",
   "metadata": {},
   "outputs": [
    {
     "name": "stdout",
     "output_type": "stream",
     "text": [
      "201 assets from 2021-01-04 to 2024-10-17 uploaded.\n",
      "running self.util_check_days_in_year to check days in a year\n",
      "WARNING: the number of days in a year with 8 assets (4%) is 214 in avg.\n",
      "WARNING: no record test_per* exists\n",
      "REMINDER: make sure this is 1st transaction as no records provided\n"
     ]
    }
   ],
   "source": [
    "kw_per = dict(\n",
    "    name='PER',\n",
    "    method_select='f-ratio',\n",
    "    sort_ascending=True,\n",
    "    lookback=0, # days\n",
    "    df_additional=df_ratio,\n",
    "    method_weigh='equally',\n",
    "    align_axis=None\n",
    ")\n",
    "\n",
    "kwargs = dict(\n",
    "    #file='pf_k200_per.csv',\n",
    "    file='test_per.csv',\n",
    "    path=path_tran,\n",
    "    days_in_year=246,\n",
    "    asset_names=assetnames_k200,\n",
    "    **kw_per\n",
    ")\n",
    "\n",
    "pf_per = MomentumPortfolio(df_k200, **kwargs)"
   ]
  },
  {
   "cell_type": "code",
   "execution_count": 16,
   "id": "77027256-82a9-4fd7-89ed-b854710eae4f",
   "metadata": {},
   "outputs": [
    {
     "name": "stdout",
     "output_type": "stream",
     "text": [
      "ERROR: No transaction record\n"
     ]
    }
   ],
   "source": [
    "pf_per.view_record()"
   ]
  },
  {
   "cell_type": "code",
   "execution_count": 29,
   "id": "4dce86f9-1672-4922-b6a5-c10f37d63337",
   "metadata": {},
   "outputs": [
    {
     "name": "stdout",
     "output_type": "stream",
     "text": [
      "Portfolio value 5,304,050, Profit 7.5% on 2024-10-17\n"
     ]
    },
    {
     "data": {
      "image/png": "[encoded data removed]",
      "text/plain": [
       "<Figure size 1000x400 with 2 Axes>"
      ]
     },
     "metadata": {},
     "output_type": "display_data"
    }
   ],
   "source": [
    "pf_per.valuate()"
   ]
  },
  {
   "cell_type": "code",
   "execution_count": 18,
   "id": "ff8e778d-a780-492a-9a14-945deb966e74",
   "metadata": {},
   "outputs": [
    {
     "data": {
      "application/vnd.jupyter.widget-view+json": {
       "model_id": "f24c4cdb996a4b549e965b7de7df1b85",
       "version_major": 2,
       "version_minor": 0
      },
      "text/plain": [
       "VBox(children=(DatePicker(value=None, layout=Layout(width='200px'), step=1), IntSlider(value=0, continuous_upd…"
      ]
     },
     "execution_count": 18,
     "metadata": {},
     "output_type": "execute_result"
    }
   ],
   "source": [
    "# set kwargs of transaction_pipeline\n",
    "WidgetTransaction"
   ]
  },
  {
   "cell_type": "code",
   "execution_count": 21,
   "id": "2493edb2-b79c-4eea-b898-bb3b181cfd1d",
   "metadata": {},
   "outputs": [
    {
     "name": "stdout",
     "output_type": "stream",
     "text": [
      "Liquidation set to None\n",
      "5 assets selected by Financial Ratio from 2024-04-30 to 2024-04-30\n",
      "WARNING: No record loaded\n",
      "Weights of assets determined by Equal weights.\n",
      "Mean absolute error of weights: 1 %\n",
      "Portfolio value 5,304,050, Profit 7.5% on 2024-10-17\n",
      "Set save=True to save transaction record\n"
     ]
    },
    {
     "data": {
      "text/html": [
       "<div>\n",
       "<style scoped>\n",
       "    .dataframe tbody tr th:only-of-type {\n",
       "        vertical-align: middle;\n",
       "    }\n",
       "\n",
       "    .dataframe tbody tr th {\n",
       "        vertical-align: top;\n",
       "    }\n",
       "\n",
       "    .dataframe thead th {\n",
       "        text-align: right;\n",
       "    }\n",
       "</style>\n",
       "<table border=\"1\" class=\"dataframe\">\n",
       "  <thead>\n",
       "    <tr style=\"text-align: right;\">\n",
       "      <th></th>\n",
       "      <th></th>\n",
       "      <th>name</th>\n",
       "      <th>price</th>\n",
       "      <th>transaction</th>\n",
       "      <th>net</th>\n",
       "      <th>weight</th>\n",
       "      <th>weight*</th>\n",
       "    </tr>\n",
       "    <tr>\n",
       "      <th>date</th>\n",
       "      <th>asset</th>\n",
       "      <th></th>\n",
       "      <th></th>\n",
       "      <th></th>\n",
       "      <th></th>\n",
       "      <th></th>\n",
       "      <th></th>\n",
       "    </tr>\n",
       "  </thead>\n",
       "  <tbody>\n",
       "    <tr>\n",
       "      <th rowspan=\"5\" valign=\"top\">2024-04-30</th>\n",
       "      <th>011200</th>\n",
       "      <td>HMM</td>\n",
       "      <td>15850</td>\n",
       "      <td>63</td>\n",
       "      <td>63</td>\n",
       "      <td>0.200</td>\n",
       "      <td>0.2023</td>\n",
       "    </tr>\n",
       "    <tr>\n",
       "      <th>137310</th>\n",
       "      <td>에스디바이오센서</td>\n",
       "      <td>10540</td>\n",
       "      <td>94</td>\n",
       "      <td>94</td>\n",
       "      <td>0.200</td>\n",
       "      <td>0.2008</td>\n",
       "    </tr>\n",
       "    <tr>\n",
       "      <th>016380</th>\n",
       "      <td>KG스틸</td>\n",
       "      <td>7120</td>\n",
       "      <td>140</td>\n",
       "      <td>140</td>\n",
       "      <td>0.200</td>\n",
       "      <td>0.2020</td>\n",
       "    </tr>\n",
       "    <tr>\n",
       "      <th>036460</th>\n",
       "      <td>한국가스공사</td>\n",
       "      <td>27600</td>\n",
       "      <td>36</td>\n",
       "      <td>36</td>\n",
       "      <td>0.200</td>\n",
       "      <td>0.2013</td>\n",
       "    </tr>\n",
       "    <tr>\n",
       "      <th>139480</th>\n",
       "      <td>이마트</td>\n",
       "      <td>63700</td>\n",
       "      <td>15</td>\n",
       "      <td>15</td>\n",
       "      <td>0.200</td>\n",
       "      <td>0.1936</td>\n",
       "    </tr>\n",
       "  </tbody>\n",
       "</table>\n",
       "</div>"
      ],
      "text/plain": [
       "                       name  price  transaction  net weight weight*\n",
       "date       asset                                                   \n",
       "2024-04-30 011200       HMM  15850           63   63  0.200  0.2023\n",
       "           137310  에스디바이오센서  10540           94   94  0.200  0.2008\n",
       "           016380      KG스틸   7120          140  140  0.200  0.2020\n",
       "           036460    한국가스공사  27600           36   36  0.200  0.2013\n",
       "           139480       이마트  63700           15   15  0.200  0.1936"
      ]
     },
     "execution_count": 21,
     "metadata": {},
     "output_type": "execute_result"
    }
   ],
   "source": [
    "kwargs_trs = dict(\n",
    "    n_assets = 5,\n",
    "    date = WidgetTransaction.values(0),\n",
    "    capital = WidgetTransaction.values(1),\n",
    "    save = WidgetTransaction.values(2)\n",
    ")\n",
    "\n",
    "_ = pf_per.transaction_pipeline(**kwargs_trs)\n",
    "pf_per.view_record()"
   ]
  },
  {
   "cell_type": "code",
   "execution_count": 22,
   "id": "c413910e-07d2-46fe-b12e-c10ed22b2406",
   "metadata": {},
   "outputs": [
    {
     "data": {
      "image/png": "[encoded data removed]",
      "text/plain": [
       "<Figure size 800x500 with 2 Axes>"
      ]
     },
     "metadata": {},
     "output_type": "display_data"
    }
   ],
   "source": [
    "_ = pf_per.check_additional(plot=True)"
   ]
  },
  {
   "cell_type": "code",
   "execution_count": null,
   "id": "e266a202-c851-42a5-b86f-0ef034617aee",
   "metadata": {},
   "outputs": [],
   "source": []
  }
 ],
 "metadata": {
  "kernelspec": {
   "display_name": "portfolio",
   "language": "python",
   "name": "portfolio"
  },
  "language_info": {
   "codemirror_mode": {
    "name": "ipython",
    "version": 3
   },
   "file_extension": ".py",
   "mimetype": "text/x-python",
   "name": "python",
   "nbconvert_exporter": "python",
   "pygments_lexer": "ipython3",
   "version": "3.12.1"
  }
 },
 "nbformat": 4,
 "nbformat_minor": 5
}
