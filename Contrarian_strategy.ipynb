{
 "cells": [
  {
   "cell_type": "markdown",
   "id": "c2f30b81-2795-4ddf-aff7-7464c62beab8",
   "metadata": {},
   "source": [
    "# Setting"
   ]
  },
  {
   "cell_type": "code",
   "execution_count": 1,
   "id": "7009fd2f-8efd-4ed3-a187-01939304fa9e",
   "metadata": {},
   "outputs": [
    {
     "name": "stderr",
     "output_type": "stream",
     "text": [
      "WARNING (pytensor.tensor.blas): Using NumPy C-API based implementation for BLAS functions.\n"
     ]
    }
   ],
   "source": [
    "from pf_utils import DataManager, FinancialRatios, BacktestManager, MomentumPortfolio\n",
    "from pf_widgets import WidgetUniverse, WidgetTransaction"
   ]
  },
  {
   "cell_type": "code",
   "execution_count": 2,
   "id": "723adb14-cd00-4d96-9c64-5a8628e82f44",
   "metadata": {},
   "outputs": [],
   "source": [
    "metrics2 = [\n",
    "    'total_return', 'cagr', 'monthly_vol', 'monthly_sharpe',\n",
    "    'max_drawdown', 'avg_drawdown','avg_drawdown_days', \n",
    "]\n",
    "\n",
    "path_data = 'data'\n",
    "path_tran = 'transaction'"
   ]
  },
  {
   "cell_type": "code",
   "execution_count": 3,
   "id": "29f0c90e-c68c-499c-874e-a59a4dfd6199",
   "metadata": {},
   "outputs": [],
   "source": [
    "file_bt_price = 'kospi200_prices_000306_240707.csv'\n",
    "file_bt_ratio = 'kospi200_ratios_170531_240930.csv'"
   ]
  },
  {
   "cell_type": "markdown",
   "id": "048635c3-9e88-4ff4-b3cb-61ea6eb5b122",
   "metadata": {},
   "source": [
    "# Data"
   ]
  },
  {
   "cell_type": "markdown",
   "id": "37cd4e81-2b86-49e5-b9e1-8eca575bad72",
   "metadata": {},
   "source": [
    "## Universe: KOSPI200"
   ]
  },
  {
   "cell_type": "code",
   "execution_count": 4,
   "id": "8aa50408-fd2b-45f5-81ed-6c1a2479eb77",
   "metadata": {},
   "outputs": [
    {
     "name": "stdout",
     "output_type": "stream",
     "text": [
      "201 assets from 2021-01-04 to 2024-10-17 uploaded.\n",
      "df_prices updated\n"
     ]
    }
   ],
   "source": [
    "k200 = DataManager(\n",
    "    universe = 'kospi200',\n",
    "    #file = file_bt_price,\n",
    "    file = 'kospi200_prices.csv',\n",
    "    path = path_data\n",
    ")\n",
    "k200.upload()"
   ]
  },
  {
   "cell_type": "code",
   "execution_count": 5,
   "id": "6654a8a7-4530-4c54-8fd7-46d71981e9f6",
   "metadata": {},
   "outputs": [],
   "source": [
    "df_k200 = k200.df_prices\n",
    "assetnames_k200 = k200.get_names()"
   ]
  },
  {
   "cell_type": "markdown",
   "id": "79e4489f-d590-4c64-9423-2fc5e69427b4",
   "metadata": {},
   "source": [
    "### data for backtesting"
   ]
  },
  {
   "cell_type": "code",
   "execution_count": 6,
   "id": "1521c116-c371-4f1d-855a-06e4d41a252e",
   "metadata": {},
   "outputs": [
    {
     "data": {
      "text/plain": [
       "201"
      ]
     },
     "execution_count": 6,
     "metadata": {},
     "output_type": "execute_result"
    }
   ],
   "source": [
    "if k200.file_historical == file_bt_price:\n",
    "    cond = df_k200.notna().sum(axis=1) > 170\n",
    "    df_k200 = df_k200.loc[cond].dropna(axis=1)\n",
    "df_k200.columns.size"
   ]
  },
  {
   "cell_type": "markdown",
   "id": "58f5b226-5a4c-4114-95d7-753251ffcd44",
   "metadata": {},
   "source": [
    "## Ratios"
   ]
  },
  {
   "cell_type": "code",
   "execution_count": 7,
   "id": "73024aab-e901-4e9c-94e2-a46e5b983dbe",
   "metadata": {},
   "outputs": [
    {
     "data": {
      "application/vnd.jupyter.widget-view+json": {
       "model_id": "8b0937d3e02142998781b0a320250b37",
       "version_major": 2,
       "version_minor": 0
      },
      "text/plain": [
       "VBox(children=(Checkbox(value=False, description='Download', indent=False), Checkbox(value=False, description=…"
      ]
     },
     "execution_count": 7,
     "metadata": {},
     "output_type": "execute_result"
    }
   ],
   "source": [
    "WidgetUniverse"
   ]
  },
  {
   "cell_type": "code",
   "execution_count": 8,
   "id": "48635aeb-da0b-4f8f-addf-8bde2c9dbeeb",
   "metadata": {},
   "outputs": [
    {
     "name": "stdout",
     "output_type": "stream",
     "text": [
      "Financial ratios of 201 stocks from 2023-01-02 to 2024-10-16 loaded\n"
     ]
    }
   ],
   "source": [
    "if k200.file_historical == file_bt_price:\n",
    "    file = file_bt_ratio\n",
    "else:\n",
    "    file = 'kospi200_ratios.csv'\n",
    "\n",
    "fr = FinancialRatios(file, path_data)"
   ]
  },
  {
   "cell_type": "code",
   "execution_count": 9,
   "id": "f3339b80-7aa9-48dc-a8b3-cb99b04ba6a7",
   "metadata": {},
   "outputs": [],
   "source": [
    "start = '2023-01-01'\n",
    "tickers = df_k200.columns.to_list()\n",
    "kw = dict(\n",
    "    freq = 'd',\n",
    "    close_today = WidgetUniverse.values(1)\n",
    ")\n",
    "fr.download(tickers, start, **kw) if WidgetUniverse.values(0) else None"
   ]
  },
  {
   "cell_type": "code",
   "execution_count": 10,
   "id": "ee8ebbff-7161-4114-9832-859e0b176663",
   "metadata": {},
   "outputs": [
    {
     "name": "stdout",
     "output_type": "stream",
     "text": [
      "Ranking score of PER on 2024-10-16\n"
     ]
    },
    {
     "data": {
      "text/plain": [
       "ticker\n",
       "010060    0.000000\n",
       "003030    0.006211\n",
       "016380    0.012422\n",
       "009970    0.018634\n",
       "047040    0.024845\n",
       "            ...   \n",
       "009420    0.975155\n",
       "329180    0.981366\n",
       "377300    0.987578\n",
       "450080    0.993789\n",
       "004800    1.000000\n",
       "Name: PER, Length: 162, dtype: float64"
      ]
     },
     "execution_count": 10,
     "metadata": {},
     "output_type": "execute_result"
    }
   ],
   "source": [
    "#fr.calc_rank(metrics='PER', date='start', topn=None)\n",
    "fr.calc_rank(metrics='PER', topn=None)"
   ]
  },
  {
   "cell_type": "code",
   "execution_count": 11,
   "id": "bc5f2844-567d-4f51-8ad0-76b935a74e3d",
   "metadata": {},
   "outputs": [
    {
     "name": "stdout",
     "output_type": "stream",
     "text": [
      "Historical of PER+PBR ranking score created\n"
     ]
    },
    {
     "data": {
      "text/plain": [
       "ticker  date      \n",
       "005930  2023-01-02    1.115655\n",
       "        2023-01-03    1.120757\n",
       "        2023-01-04    1.146513\n",
       "        2023-01-05    1.162310\n",
       "        2023-01-06    1.167412\n",
       "                        ...   \n",
       "016380  2024-10-10    0.207072\n",
       "        2024-10-11    0.224572\n",
       "        2024-10-14    0.204572\n",
       "        2024-10-15    0.207072\n",
       "        2024-10-16    0.201547\n",
       "Name: PER, Length: 86908, dtype: float64"
      ]
     },
     "execution_count": 11,
     "metadata": {},
     "output_type": "execute_result"
    }
   ],
   "source": [
    "#fr.calc_historical()\n",
    "fr.calc_historical(['PER', 'PBR'])"
   ]
  },
  {
   "cell_type": "code",
   "execution_count": 12,
   "id": "cf16f58a-b9f5-4ee8-960d-1cf639ac7ba4",
   "metadata": {},
   "outputs": [
    {
     "name": "stdout",
     "output_type": "stream",
     "text": [
      "Returning stats of daily averages\n"
     ]
    },
    {
     "data": {
      "text/html": [
       "<div>\n",
       "<style scoped>\n",
       "    .dataframe tbody tr th:only-of-type {\n",
       "        vertical-align: middle;\n",
       "    }\n",
       "\n",
       "    .dataframe tbody tr th {\n",
       "        vertical-align: top;\n",
       "    }\n",
       "\n",
       "    .dataframe thead th {\n",
       "        text-align: right;\n",
       "    }\n",
       "</style>\n",
       "<table border=\"1\" class=\"dataframe\">\n",
       "  <thead>\n",
       "    <tr style=\"text-align: right;\">\n",
       "      <th></th>\n",
       "      <th>BPS</th>\n",
       "      <th>PER</th>\n",
       "      <th>PBR</th>\n",
       "      <th>EPS</th>\n",
       "      <th>DIV</th>\n",
       "      <th>DPS</th>\n",
       "    </tr>\n",
       "  </thead>\n",
       "  <tbody>\n",
       "    <tr>\n",
       "      <th>start</th>\n",
       "      <td>2023-01-02</td>\n",
       "      <td>2023-01-02</td>\n",
       "      <td>2023-01-02</td>\n",
       "      <td>2023-01-02</td>\n",
       "      <td>2023-01-02</td>\n",
       "      <td>2023-01-02</td>\n",
       "    </tr>\n",
       "    <tr>\n",
       "      <th>end</th>\n",
       "      <td>2024-10-16</td>\n",
       "      <td>2024-10-16</td>\n",
       "      <td>2024-10-16</td>\n",
       "      <td>2024-10-16</td>\n",
       "      <td>2024-10-16</td>\n",
       "      <td>2024-10-16</td>\n",
       "    </tr>\n",
       "    <tr>\n",
       "      <th>mean</th>\n",
       "      <td>105788.5</td>\n",
       "      <td>68.9</td>\n",
       "      <td>2.3</td>\n",
       "      <td>8780.0</td>\n",
       "      <td>2.4</td>\n",
       "      <td>1817.4</td>\n",
       "    </tr>\n",
       "    <tr>\n",
       "      <th>std</th>\n",
       "      <td>3542.4</td>\n",
       "      <td>40.8</td>\n",
       "      <td>0.3</td>\n",
       "      <td>1352.9</td>\n",
       "      <td>0.1</td>\n",
       "      <td>122.5</td>\n",
       "    </tr>\n",
       "  </tbody>\n",
       "</table>\n",
       "</div>"
      ],
      "text/plain": [
       "              BPS         PER         PBR         EPS         DIV         DPS\n",
       "start  2023-01-02  2023-01-02  2023-01-02  2023-01-02  2023-01-02  2023-01-02\n",
       "end    2024-10-16  2024-10-16  2024-10-16  2024-10-16  2024-10-16  2024-10-16\n",
       "mean     105788.5        68.9         2.3      8780.0         2.4      1817.4\n",
       "std        3542.4        40.8         0.3      1352.9         0.1       122.5"
      ]
     },
     "execution_count": 12,
     "metadata": {},
     "output_type": "execute_result"
    }
   ],
   "source": [
    "#fr.get_stats(stats_daily=False)\n",
    "fr.get_stats()"
   ]
  },
  {
   "cell_type": "markdown",
   "id": "b6914587-3ba3-4d75-bc11-00ea845325b4",
   "metadata": {},
   "source": [
    "## Reshape for backtest"
   ]
  },
  {
   "cell_type": "code",
   "execution_count": 13,
   "id": "a8ab925c-0005-4cee-95cf-46153788092d",
   "metadata": {},
   "outputs": [
    {
     "name": "stdout",
     "output_type": "stream",
     "text": [
      "WARNING: No interpolation as data is not monthly\n",
      "WARNING: No interpolation as data is not monthly\n"
     ]
    }
   ],
   "source": [
    "df_p = fr.util_reshape(df_k200)\n",
    "\n",
    "fratios_dict = dict()\n",
    "for r in ['PER', 'PBR']:\n",
    "    df = fr.interpolate(df_p, r)\n",
    "    fratios_dict[r] = fr.util_reshape(df, stack=False)"
   ]
  },
  {
   "cell_type": "code",
   "execution_count": 14,
   "id": "dcd383c0-4b0e-41e3-bd89-b673e97be649",
   "metadata": {},
   "outputs": [
    {
     "data": {
      "text/html": [
       "<div>\n",
       "<style scoped>\n",
       "    .dataframe tbody tr th:only-of-type {\n",
       "        vertical-align: middle;\n",
       "    }\n",
       "\n",
       "    .dataframe tbody tr th {\n",
       "        vertical-align: top;\n",
       "    }\n",
       "\n",
       "    .dataframe thead th {\n",
       "        text-align: right;\n",
       "    }\n",
       "</style>\n",
       "<table border=\"1\" class=\"dataframe\">\n",
       "  <thead>\n",
       "    <tr style=\"text-align: right;\">\n",
       "      <th>ticker</th>\n",
       "      <th>000080</th>\n",
       "      <th>000100</th>\n",
       "      <th>000120</th>\n",
       "      <th>000150</th>\n",
       "      <th>000210</th>\n",
       "      <th>000240</th>\n",
       "      <th>000270</th>\n",
       "      <th>000660</th>\n",
       "      <th>000670</th>\n",
       "      <th>000720</th>\n",
       "      <th>...</th>\n",
       "      <th>361610</th>\n",
       "      <th>373220</th>\n",
       "      <th>375500</th>\n",
       "      <th>377300</th>\n",
       "      <th>383220</th>\n",
       "      <th>402340</th>\n",
       "      <th>450080</th>\n",
       "      <th>454910</th>\n",
       "      <th>457190</th>\n",
       "      <th>489790</th>\n",
       "    </tr>\n",
       "    <tr>\n",
       "      <th>date</th>\n",
       "      <th></th>\n",
       "      <th></th>\n",
       "      <th></th>\n",
       "      <th></th>\n",
       "      <th></th>\n",
       "      <th></th>\n",
       "      <th></th>\n",
       "      <th></th>\n",
       "      <th></th>\n",
       "      <th></th>\n",
       "      <th></th>\n",
       "      <th></th>\n",
       "      <th></th>\n",
       "      <th></th>\n",
       "      <th></th>\n",
       "      <th></th>\n",
       "      <th></th>\n",
       "      <th></th>\n",
       "      <th></th>\n",
       "      <th></th>\n",
       "      <th></th>\n",
       "    </tr>\n",
       "  </thead>\n",
       "  <tbody>\n",
       "    <tr>\n",
       "      <th>2024-10-10</th>\n",
       "      <td>1.28</td>\n",
       "      <td>5.77</td>\n",
       "      <td>0.50</td>\n",
       "      <td>1.91</td>\n",
       "      <td>0.26</td>\n",
       "      <td>0.41</td>\n",
       "      <td>0.86</td>\n",
       "      <td>2.40</td>\n",
       "      <td>0.18</td>\n",
       "      <td>0.42</td>\n",
       "      <td>...</td>\n",
       "      <td>1.11</td>\n",
       "      <td>4.95</td>\n",
       "      <td>0.25</td>\n",
       "      <td>1.76</td>\n",
       "      <td>1.97</td>\n",
       "      <td>0.75</td>\n",
       "      <td>10.57</td>\n",
       "      <td>9.08</td>\n",
       "      <td>15.21</td>\n",
       "      <td>0.0</td>\n",
       "    </tr>\n",
       "    <tr>\n",
       "      <th>2024-10-11</th>\n",
       "      <td>1.28</td>\n",
       "      <td>5.87</td>\n",
       "      <td>0.50</td>\n",
       "      <td>2.00</td>\n",
       "      <td>0.25</td>\n",
       "      <td>0.41</td>\n",
       "      <td>0.86</td>\n",
       "      <td>2.39</td>\n",
       "      <td>0.18</td>\n",
       "      <td>0.41</td>\n",
       "      <td>...</td>\n",
       "      <td>1.07</td>\n",
       "      <td>4.76</td>\n",
       "      <td>0.25</td>\n",
       "      <td>1.77</td>\n",
       "      <td>1.87</td>\n",
       "      <td>0.75</td>\n",
       "      <td>10.15</td>\n",
       "      <td>9.07</td>\n",
       "      <td>14.40</td>\n",
       "      <td>0.0</td>\n",
       "    </tr>\n",
       "    <tr>\n",
       "      <th>2024-10-14</th>\n",
       "      <td>1.29</td>\n",
       "      <td>5.74</td>\n",
       "      <td>0.50</td>\n",
       "      <td>2.11</td>\n",
       "      <td>0.26</td>\n",
       "      <td>0.40</td>\n",
       "      <td>0.86</td>\n",
       "      <td>2.41</td>\n",
       "      <td>0.19</td>\n",
       "      <td>0.42</td>\n",
       "      <td>...</td>\n",
       "      <td>1.05</td>\n",
       "      <td>4.70</td>\n",
       "      <td>0.25</td>\n",
       "      <td>1.77</td>\n",
       "      <td>1.94</td>\n",
       "      <td>0.77</td>\n",
       "      <td>10.17</td>\n",
       "      <td>9.13</td>\n",
       "      <td>14.14</td>\n",
       "      <td>0.0</td>\n",
       "    </tr>\n",
       "    <tr>\n",
       "      <th>2024-10-15</th>\n",
       "      <td>1.29</td>\n",
       "      <td>5.95</td>\n",
       "      <td>0.49</td>\n",
       "      <td>2.08</td>\n",
       "      <td>0.25</td>\n",
       "      <td>0.40</td>\n",
       "      <td>0.85</td>\n",
       "      <td>2.48</td>\n",
       "      <td>0.19</td>\n",
       "      <td>0.41</td>\n",
       "      <td>...</td>\n",
       "      <td>1.03</td>\n",
       "      <td>4.67</td>\n",
       "      <td>0.25</td>\n",
       "      <td>1.78</td>\n",
       "      <td>1.88</td>\n",
       "      <td>0.77</td>\n",
       "      <td>9.69</td>\n",
       "      <td>9.08</td>\n",
       "      <td>13.91</td>\n",
       "      <td>0.0</td>\n",
       "    </tr>\n",
       "    <tr>\n",
       "      <th>2024-10-16</th>\n",
       "      <td>1.28</td>\n",
       "      <td>5.77</td>\n",
       "      <td>0.49</td>\n",
       "      <td>2.09</td>\n",
       "      <td>0.25</td>\n",
       "      <td>0.41</td>\n",
       "      <td>0.83</td>\n",
       "      <td>2.43</td>\n",
       "      <td>0.19</td>\n",
       "      <td>0.41</td>\n",
       "      <td>...</td>\n",
       "      <td>0.99</td>\n",
       "      <td>4.69</td>\n",
       "      <td>0.25</td>\n",
       "      <td>1.77</td>\n",
       "      <td>1.82</td>\n",
       "      <td>0.76</td>\n",
       "      <td>9.93</td>\n",
       "      <td>8.91</td>\n",
       "      <td>13.81</td>\n",
       "      <td>0.0</td>\n",
       "    </tr>\n",
       "  </tbody>\n",
       "</table>\n",
       "<p>5 rows × 201 columns</p>\n",
       "</div>"
      ],
      "text/plain": [
       "ticker      000080  000100  000120  000150  000210  000240  000270  000660  \\\n",
       "date                                                                         \n",
       "2024-10-10    1.28    5.77    0.50    1.91    0.26    0.41    0.86    2.40   \n",
       "2024-10-11    1.28    5.87    0.50    2.00    0.25    0.41    0.86    2.39   \n",
       "2024-10-14    1.29    5.74    0.50    2.11    0.26    0.40    0.86    2.41   \n",
       "2024-10-15    1.29    5.95    0.49    2.08    0.25    0.40    0.85    2.48   \n",
       "2024-10-16    1.28    5.77    0.49    2.09    0.25    0.41    0.83    2.43   \n",
       "\n",
       "ticker      000670  000720  ...  361610  373220  375500  377300  383220  \\\n",
       "date                        ...                                           \n",
       "2024-10-10    0.18    0.42  ...    1.11    4.95    0.25    1.76    1.97   \n",
       "2024-10-11    0.18    0.41  ...    1.07    4.76    0.25    1.77    1.87   \n",
       "2024-10-14    0.19    0.42  ...    1.05    4.70    0.25    1.77    1.94   \n",
       "2024-10-15    0.19    0.41  ...    1.03    4.67    0.25    1.78    1.88   \n",
       "2024-10-16    0.19    0.41  ...    0.99    4.69    0.25    1.77    1.82   \n",
       "\n",
       "ticker      402340  450080  454910  457190  489790  \n",
       "date                                                \n",
       "2024-10-10    0.75   10.57    9.08   15.21     0.0  \n",
       "2024-10-11    0.75   10.15    9.07   14.40     0.0  \n",
       "2024-10-14    0.77   10.17    9.13   14.14     0.0  \n",
       "2024-10-15    0.77    9.69    9.08   13.91     0.0  \n",
       "2024-10-16    0.76    9.93    8.91   13.81     0.0  \n",
       "\n",
       "[5 rows x 201 columns]"
      ]
     },
     "execution_count": 14,
     "metadata": {},
     "output_type": "execute_result"
    }
   ],
   "source": [
    "fratios_dict[r].tail()"
   ]
  },
  {
   "cell_type": "markdown",
   "id": "03622b85-24a4-4e51-877b-82caddc1f792",
   "metadata": {},
   "source": [
    "# Backtest"
   ]
  },
  {
   "cell_type": "markdown",
   "id": "292e103d-72dd-4efd-9885-dfb46f9c495b",
   "metadata": {},
   "source": [
    "## Example"
   ]
  },
  {
   "cell_type": "code",
   "execution_count": 23,
   "id": "975b5ba1-ceb7-4f65-ab23-bc86c59cd924",
   "metadata": {},
   "outputs": [],
   "source": [
    "fratio = 'PER'\n",
    "df_ratio = fratios_dict[fratio]"
   ]
  },
  {
   "cell_type": "code",
   "execution_count": 15,
   "id": "2fd24a73-19c1-413c-88a6-96bd4e00b2b3",
   "metadata": {},
   "outputs": [
    {
     "name": "stdout",
     "output_type": "stream",
     "text": [
      "running self.util_check_days_in_year to check days in a year\n",
      "171 assets from 2017-05-10 to 2024-07-05 uploaded.\n"
     ]
    }
   ],
   "source": [
    "kwargs_bm = dict(\n",
    "    initial_capital = 1e7,\n",
    "    commissions = 0,\n",
    "    align_axis = None, \n",
    "    days_in_year = 246,\n",
    "    asset_names = assetnames_k200\n",
    ")\n",
    "bm = BacktestManager(df_k200, **kwargs_bm)"
   ]
  },
  {
   "cell_type": "code",
   "execution_count": 16,
   "id": "13a3623c-5807-48c4-9128-b6af7db76a99",
   "metadata": {},
   "outputs": [
    {
     "name": "stdout",
     "output_type": "stream",
     "text": [
      "Benchmark is KODEX200\n"
     ]
    }
   ],
   "source": [
    "bm.benchmark_ticker()"
   ]
  },
  {
   "cell_type": "code",
   "execution_count": 17,
   "id": "f699543e-3f00-41a6-bf13-e71cd9a5f3b1",
   "metadata": {},
   "outputs": [],
   "source": [
    "#bm.buy_n_hold(name='PER', weigh='equally')"
   ]
  },
  {
   "cell_type": "code",
   "execution_count": 18,
   "id": "c3efc223-029a-4f72-a35f-7b5b1b871ba1",
   "metadata": {},
   "outputs": [],
   "source": [
    "select = 'f-ratio'\n",
    "kwargs_build = dict(\n",
    "    name=f'{select}', select =select, weigh='Equally', \n",
    "    n_assets=5, freq='Y', lookback=5,\n",
    "    df_ratio=df_ratio, ratio_descending=True\n",
    ")\n",
    "bm.build(**kwargs_build)"
   ]
  },
  {
   "cell_type": "code",
   "execution_count": 20,
   "id": "3c04e206-5e63-4bc6-a8b5-90869bdd09be",
   "metadata": {},
   "outputs": [
    {
     "name": "stdout",
     "output_type": "stream",
     "text": [
      "Backtesting 2 strategies: KODEX200, f-ratio\n"
     ]
    },
    {
     "name": "stderr",
     "output_type": "stream",
     "text": [
      "100%|██████████████████████████████████████████████████████████████| 2/2 [00:00<00:00, 15709.00it/s]"
     ]
    },
    {
     "name": "stdout",
     "output_type": "stream",
     "text": [
      "Returning stats\n"
     ]
    },
    {
     "name": "stderr",
     "output_type": "stream",
     "text": [
      "\n"
     ]
    },
    {
     "data": {
      "text/html": [
       "<div>\n",
       "<style scoped>\n",
       "    .dataframe tbody tr th:only-of-type {\n",
       "        vertical-align: middle;\n",
       "    }\n",
       "\n",
       "    .dataframe tbody tr th {\n",
       "        vertical-align: top;\n",
       "    }\n",
       "\n",
       "    .dataframe thead th {\n",
       "        text-align: right;\n",
       "    }\n",
       "</style>\n",
       "<table border=\"1\" class=\"dataframe\">\n",
       "  <thead>\n",
       "    <tr style=\"text-align: right;\">\n",
       "      <th></th>\n",
       "      <th>KODEX200</th>\n",
       "      <th>f-ratio</th>\n",
       "    </tr>\n",
       "  </thead>\n",
       "  <tbody>\n",
       "    <tr>\n",
       "      <th>start</th>\n",
       "      <td>2017-05-09</td>\n",
       "      <td>2017-05-09</td>\n",
       "    </tr>\n",
       "    <tr>\n",
       "      <th>end</th>\n",
       "      <td>2024-07-05</td>\n",
       "      <td>2024-07-05</td>\n",
       "    </tr>\n",
       "    <tr>\n",
       "      <th>total_return</th>\n",
       "      <td>0.545298</td>\n",
       "      <td>0.393314</td>\n",
       "    </tr>\n",
       "    <tr>\n",
       "      <th>cagr</th>\n",
       "      <td>0.062699</td>\n",
       "      <td>0.047437</td>\n",
       "    </tr>\n",
       "    <tr>\n",
       "      <th>calmar</th>\n",
       "      <td>0.164837</td>\n",
       "      <td>0.087122</td>\n",
       "    </tr>\n",
       "    <tr>\n",
       "      <th>max_drawdown</th>\n",
       "      <td>-0.38037</td>\n",
       "      <td>-0.544485</td>\n",
       "    </tr>\n",
       "    <tr>\n",
       "      <th>avg_drawdown</th>\n",
       "      <td>-0.04033</td>\n",
       "      <td>-0.085891</td>\n",
       "    </tr>\n",
       "    <tr>\n",
       "      <th>avg_drawdown_days</th>\n",
       "      <td>78.46875</td>\n",
       "      <td>126.75</td>\n",
       "    </tr>\n",
       "    <tr>\n",
       "      <th>daily_vol</th>\n",
       "      <td>0.18247</td>\n",
       "      <td>0.29995</td>\n",
       "    </tr>\n",
       "    <tr>\n",
       "      <th>daily_sharpe</th>\n",
       "      <td>0.432459</td>\n",
       "      <td>0.307699</td>\n",
       "    </tr>\n",
       "    <tr>\n",
       "      <th>daily_sortino</th>\n",
       "      <td>0.712425</td>\n",
       "      <td>0.524206</td>\n",
       "    </tr>\n",
       "    <tr>\n",
       "      <th>monthly_vol</th>\n",
       "      <td>0.189287</td>\n",
       "      <td>0.314762</td>\n",
       "    </tr>\n",
       "    <tr>\n",
       "      <th>monthly_sharpe</th>\n",
       "      <td>0.393669</td>\n",
       "      <td>0.28462</td>\n",
       "    </tr>\n",
       "    <tr>\n",
       "      <th>monthly_sortino</th>\n",
       "      <td>0.69101</td>\n",
       "      <td>0.480503</td>\n",
       "    </tr>\n",
       "  </tbody>\n",
       "</table>\n",
       "</div>"
      ],
      "text/plain": [
       "                     KODEX200     f-ratio\n",
       "start              2017-05-09  2017-05-09\n",
       "end                2024-07-05  2024-07-05\n",
       "total_return         0.545298    0.393314\n",
       "cagr                 0.062699    0.047437\n",
       "calmar               0.164837    0.087122\n",
       "max_drawdown         -0.38037   -0.544485\n",
       "avg_drawdown         -0.04033   -0.085891\n",
       "avg_drawdown_days    78.46875      126.75\n",
       "daily_vol             0.18247     0.29995\n",
       "daily_sharpe         0.432459    0.307699\n",
       "daily_sortino        0.712425    0.524206\n",
       "monthly_vol          0.189287    0.314762\n",
       "monthly_sharpe       0.393669     0.28462\n",
       "monthly_sortino       0.69101    0.480503"
      ]
     },
     "execution_count": 20,
     "metadata": {},
     "output_type": "execute_result"
    },
    {
     "data": {
      "image/png": "[encoded data removed]",
      "text/plain": [
       "<Figure size 900x400 with 1 Axes>"
      ]
     },
     "metadata": {},
     "output_type": "display_data"
    }
   ],
   "source": [
    "bm.run(figsize=(9,4), stats_sort_by='cagr')"
   ]
  },
  {
   "cell_type": "code",
   "execution_count": 21,
   "id": "1ec27168-9c7a-448c-b375-7e6c0a587c12",
   "metadata": {},
   "outputs": [
    {
     "data": {
      "text/plain": [
       "0) KODEX200\n",
       "1) f-ratio"
      ]
     },
     "execution_count": 21,
     "metadata": {},
     "output_type": "execute_result"
    }
   ],
   "source": [
    "bm.portfolios"
   ]
  },
  {
   "cell_type": "code",
   "execution_count": 22,
   "id": "66080a41-f6e2-4fb8-8474-d3155d8a6e2f",
   "metadata": {},
   "outputs": [
    {
     "data": {
      "image/png": "[encoded data removed]",
      "text/plain": [
       "<Figure size 1000x500 with 1 Axes>"
      ]
     },
     "metadata": {},
     "output_type": "display_data"
    }
   ],
   "source": [
    "bm.plot_security_weights(1, legend=False)"
   ]
  },
  {
   "cell_type": "markdown",
   "id": "bee60ab5-dc33-4719-8953-df741f415e71",
   "metadata": {},
   "source": [
    "## Parameter study"
   ]
  },
  {
   "cell_type": "code",
   "execution_count": 24,
   "id": "83ad84d6-5a5b-4f30-b4cf-e5cf074deb29",
   "metadata": {},
   "outputs": [],
   "source": [
    "n_test = 500\n",
    "df_train = df_k200.iloc[:-n_test]\n",
    "df_test = df_k200.iloc[-n_test:]"
   ]
  },
  {
   "cell_type": "code",
   "execution_count": 25,
   "id": "af85bd3b-a440-46b5-87c7-b922b6918ef6",
   "metadata": {},
   "outputs": [],
   "source": [
    "kwargs_bm = dict(\n",
    "    initial_capital = 1e7,\n",
    "    commissions = 0,\n",
    "    align_axis = None, \n",
    "    days_in_year = 246,\n",
    "    asset_names = assetnames_k200\n",
    ")"
   ]
  },
  {
   "cell_type": "code",
   "execution_count": 26,
   "id": "9cd776f9-90cd-4131-b4a1-af037e092114",
   "metadata": {},
   "outputs": [
    {
     "name": "stdout",
     "output_type": "stream",
     "text": [
      "running self.util_check_days_in_year to check days in a year\n",
      "171 assets from 2017-05-10 to 2022-06-24 uploaded.\n"
     ]
    }
   ],
   "source": [
    "bm = BacktestManager(df_train, **kwargs_bm)"
   ]
  },
  {
   "cell_type": "code",
   "execution_count": 27,
   "id": "9b161aba-8e39-48ae-8e01-c1b8032d2e45",
   "metadata": {},
   "outputs": [
    {
     "name": "stdout",
     "output_type": "stream",
     "text": [
      "Benchmark is KODEX200\n"
     ]
    }
   ],
   "source": [
    "bm.benchmark_ticker()"
   ]
  },
  {
   "cell_type": "code",
   "execution_count": 28,
   "id": "cb0578fe-c0b4-4d47-9736-3fdcda64fdc7",
   "metadata": {},
   "outputs": [],
   "source": [
    "from itertools import product\n",
    "\n",
    "params = dict(\n",
    "    #p_fr = ['PER', 'PBR', 'PER+PBR'],\n",
    "    p_fr = ['PER', 'PBR'],\n",
    "    p_ast = [5, 10, 20, 30],\n",
    "    p_freq = [130, 250, 500],\n",
    "    p_lb = [0, 5, 10, 20, 30, 60]\n",
    ")\n",
    "p_comb = list(product(*params.values()))\n",
    "kwa_list = [{'name':f'{x[0]}:a{x[1]}/f{x[2]}/lb{x[3]}',\n",
    "             'df_ratio':fratios_dict[x[0]], 'n_assets':x[1], 'freq':x[2], 'lookback':x[3]} \n",
    "            for x in p_comb]\n",
    "\n",
    "kwargs_build = dict(\n",
    "    select='F-ratio', weigh='Equally', ratio_descending=False\n",
    ")\n",
    "bm.build_batch(*kwa_list, **kwargs_build)"
   ]
  },
  {
   "cell_type": "code",
   "execution_count": 29,
   "id": "efae142d-367d-405f-bff7-e240c91db207",
   "metadata": {},
   "outputs": [
    {
     "name": "stdout",
     "output_type": "stream",
     "text": [
      "Backtesting 145 strategies: KODEX200, PER:a5/f130/lb0, ... , PBR:a30/f500/lb60\n"
     ]
    },
    {
     "name": "stderr",
     "output_type": "stream",
     "text": [
      "100%|█████████████████████████████████████████████████████████████| 145/145 [02:39<00:00,  1.10s/it]\n"
     ]
    },
    {
     "name": "stdout",
     "output_type": "stream",
     "text": [
      "Returning stats\n"
     ]
    },
    {
     "data": {
      "text/html": [
       "<div>\n",
       "<style scoped>\n",
       "    .dataframe tbody tr th:only-of-type {\n",
       "        vertical-align: middle;\n",
       "    }\n",
       "\n",
       "    .dataframe tbody tr th {\n",
       "        vertical-align: top;\n",
       "    }\n",
       "\n",
       "    .dataframe thead th {\n",
       "        text-align: right;\n",
       "    }\n",
       "</style>\n",
       "<table border=\"1\" class=\"dataframe\">\n",
       "  <thead>\n",
       "    <tr style=\"text-align: right;\">\n",
       "      <th></th>\n",
       "      <th>PER:a5/f500/lb5</th>\n",
       "      <th>PER:a5/f500/lb0</th>\n",
       "      <th>PER:a5/f500/lb10</th>\n",
       "      <th>PER:a5/f130/lb10</th>\n",
       "      <th>PER:a5/f130/lb0</th>\n",
       "    </tr>\n",
       "  </thead>\n",
       "  <tbody>\n",
       "    <tr>\n",
       "      <th>start</th>\n",
       "      <td>2017-05-09</td>\n",
       "      <td>2017-05-09</td>\n",
       "      <td>2017-05-09</td>\n",
       "      <td>2017-05-09</td>\n",
       "      <td>2017-05-09</td>\n",
       "    </tr>\n",
       "    <tr>\n",
       "      <th>end</th>\n",
       "      <td>2022-06-24</td>\n",
       "      <td>2022-06-24</td>\n",
       "      <td>2022-06-24</td>\n",
       "      <td>2022-06-24</td>\n",
       "      <td>2022-06-24</td>\n",
       "    </tr>\n",
       "    <tr>\n",
       "      <th>total_return</th>\n",
       "      <td>1.869966</td>\n",
       "      <td>1.869966</td>\n",
       "      <td>1.501494</td>\n",
       "      <td>1.296179</td>\n",
       "      <td>1.286074</td>\n",
       "    </tr>\n",
       "    <tr>\n",
       "      <th>cagr</th>\n",
       "      <td>0.228393</td>\n",
       "      <td>0.228393</td>\n",
       "      <td>0.195896</td>\n",
       "      <td>0.176079</td>\n",
       "      <td>0.175068</td>\n",
       "    </tr>\n",
       "    <tr>\n",
       "      <th>calmar</th>\n",
       "      <td>0.544341</td>\n",
       "      <td>0.544341</td>\n",
       "      <td>0.46689</td>\n",
       "      <td>0.335116</td>\n",
       "      <td>0.333477</td>\n",
       "    </tr>\n",
       "    <tr>\n",
       "      <th>max_drawdown</th>\n",
       "      <td>-0.419577</td>\n",
       "      <td>-0.419577</td>\n",
       "      <td>-0.419577</td>\n",
       "      <td>-0.525428</td>\n",
       "      <td>-0.524978</td>\n",
       "    </tr>\n",
       "    <tr>\n",
       "      <th>avg_drawdown</th>\n",
       "      <td>-0.054061</td>\n",
       "      <td>-0.054061</td>\n",
       "      <td>-0.048832</td>\n",
       "      <td>-0.045914</td>\n",
       "      <td>-0.047307</td>\n",
       "    </tr>\n",
       "    <tr>\n",
       "      <th>avg_drawdown_days</th>\n",
       "      <td>34.28</td>\n",
       "      <td>34.28</td>\n",
       "      <td>36.808511</td>\n",
       "      <td>30.696429</td>\n",
       "      <td>31.981481</td>\n",
       "    </tr>\n",
       "    <tr>\n",
       "      <th>daily_vol</th>\n",
       "      <td>0.267809</td>\n",
       "      <td>0.267809</td>\n",
       "      <td>0.263329</td>\n",
       "      <td>0.25059</td>\n",
       "      <td>0.251767</td>\n",
       "    </tr>\n",
       "    <tr>\n",
       "      <th>daily_sharpe</th>\n",
       "      <td>0.92066</td>\n",
       "      <td>0.92066</td>\n",
       "      <td>0.827453</td>\n",
       "      <td>0.788417</td>\n",
       "      <td>0.782393</td>\n",
       "    </tr>\n",
       "    <tr>\n",
       "      <th>daily_sortino</th>\n",
       "      <td>1.59039</td>\n",
       "      <td>1.59039</td>\n",
       "      <td>1.424263</td>\n",
       "      <td>1.309821</td>\n",
       "      <td>1.301748</td>\n",
       "    </tr>\n",
       "    <tr>\n",
       "      <th>monthly_vol</th>\n",
       "      <td>0.267968</td>\n",
       "      <td>0.267968</td>\n",
       "      <td>0.259743</td>\n",
       "      <td>0.274186</td>\n",
       "      <td>0.273472</td>\n",
       "    </tr>\n",
       "    <tr>\n",
       "      <th>monthly_sharpe</th>\n",
       "      <td>0.876514</td>\n",
       "      <td>0.876514</td>\n",
       "      <td>0.791098</td>\n",
       "      <td>0.699999</td>\n",
       "      <td>0.697944</td>\n",
       "    </tr>\n",
       "    <tr>\n",
       "      <th>monthly_sortino</th>\n",
       "      <td>1.904657</td>\n",
       "      <td>1.904657</td>\n",
       "      <td>1.628934</td>\n",
       "      <td>1.404919</td>\n",
       "      <td>1.399366</td>\n",
       "    </tr>\n",
       "  </tbody>\n",
       "</table>\n",
       "</div>"
      ],
      "text/plain": [
       "                  PER:a5/f500/lb5 PER:a5/f500/lb0 PER:a5/f500/lb10  \\\n",
       "start                  2017-05-09      2017-05-09       2017-05-09   \n",
       "end                    2022-06-24      2022-06-24       2022-06-24   \n",
       "total_return             1.869966        1.869966         1.501494   \n",
       "cagr                     0.228393        0.228393         0.195896   \n",
       "calmar                   0.544341        0.544341          0.46689   \n",
       "max_drawdown            -0.419577       -0.419577        -0.419577   \n",
       "avg_drawdown            -0.054061       -0.054061        -0.048832   \n",
       "avg_drawdown_days           34.28           34.28        36.808511   \n",
       "daily_vol                0.267809        0.267809         0.263329   \n",
       "daily_sharpe              0.92066         0.92066         0.827453   \n",
       "daily_sortino             1.59039         1.59039         1.424263   \n",
       "monthly_vol              0.267968        0.267968         0.259743   \n",
       "monthly_sharpe           0.876514        0.876514         0.791098   \n",
       "monthly_sortino          1.904657        1.904657         1.628934   \n",
       "\n",
       "                  PER:a5/f130/lb10 PER:a5/f130/lb0  \n",
       "start                   2017-05-09      2017-05-09  \n",
       "end                     2022-06-24      2022-06-24  \n",
       "total_return              1.296179        1.286074  \n",
       "cagr                      0.176079        0.175068  \n",
       "calmar                    0.335116        0.333477  \n",
       "max_drawdown             -0.525428       -0.524978  \n",
       "avg_drawdown             -0.045914       -0.047307  \n",
       "avg_drawdown_days        30.696429       31.981481  \n",
       "daily_vol                  0.25059        0.251767  \n",
       "daily_sharpe              0.788417        0.782393  \n",
       "daily_sortino             1.309821        1.301748  \n",
       "monthly_vol               0.274186        0.273472  \n",
       "monthly_sharpe            0.699999        0.697944  \n",
       "monthly_sortino           1.404919        1.399366  "
      ]
     },
     "execution_count": 29,
     "metadata": {},
     "output_type": "execute_result"
    }
   ],
   "source": [
    "df_res = bm.run(stats_sort_by='cagr', plot=False)\n",
    "df_res.iloc[:, :5]"
   ]
  },
  {
   "cell_type": "code",
   "execution_count": 30,
   "id": "ef4923da-4af7-4eba-9847-933a4acf391c",
   "metadata": {
    "scrolled": true
   },
   "outputs": [
    {
     "data": {
      "text/plain": [
       "0) KODEX200\n",
       "1) PER:a5/f130/lb0\n",
       "2) PER:a5/f130/lb5\n",
       "3) PER:a5/f130/lb10\n",
       "4) PER:a5/f130/lb20\n",
       "5) PER:a5/f130/lb30\n",
       "6) PER:a5/f130/lb60\n",
       "7) PER:a5/f250/lb0\n",
       "8) PER:a5/f250/lb5\n",
       "9) PER:a5/f250/lb10\n",
       "10) PER:a5/f250/lb20\n",
       "11) PER:a5/f250/lb30\n",
       "12) PER:a5/f250/lb60\n",
       "13) PER:a5/f500/lb0\n",
       "14) PER:a5/f500/lb5\n",
       "15) PER:a5/f500/lb10\n",
       "16) PER:a5/f500/lb20\n",
       "17) PER:a5/f500/lb30\n",
       "18) PER:a5/f500/lb60\n",
       "19) PER:a10/f130/lb0\n",
       "20) PER:a10/f130/lb5\n",
       "21) PER:a10/f130/lb10\n",
       "22) PER:a10/f130/lb20\n",
       "23) PER:a10/f130/lb30\n",
       "24) PER:a10/f130/lb60\n",
       "25) PER:a10/f250/lb0\n",
       "26) PER:a10/f250/lb5\n",
       "27) PER:a10/f250/lb10\n",
       "28) PER:a10/f250/lb20\n",
       "29) PER:a10/f250/lb30\n",
       "30) PER:a10/f250/lb60\n",
       "31) PER:a10/f500/lb0\n",
       "32) PER:a10/f500/lb5\n",
       "33) PER:a10/f500/lb10\n",
       "34) PER:a10/f500/lb20\n",
       "35) PER:a10/f500/lb30\n",
       "36) PER:a10/f500/lb60\n",
       "37) PER:a20/f130/lb0\n",
       "38) PER:a20/f130/lb5\n",
       "39) PER:a20/f130/lb10\n",
       "40) PER:a20/f130/lb20\n",
       "41) PER:a20/f130/lb30\n",
       "42) PER:a20/f130/lb60\n",
       "43) PER:a20/f250/lb0\n",
       "44) PER:a20/f250/lb5\n",
       "45) PER:a20/f250/lb10\n",
       "46) PER:a20/f250/lb20\n",
       "47) PER:a20/f250/lb30\n",
       "48) PER:a20/f250/lb60\n",
       "49) PER:a20/f500/lb0\n",
       "50) PER:a20/f500/lb5\n",
       "51) PER:a20/f500/lb10\n",
       "52) PER:a20/f500/lb20\n",
       "53) PER:a20/f500/lb30\n",
       "54) PER:a20/f500/lb60\n",
       "55) PER:a30/f130/lb0\n",
       "56) PER:a30/f130/lb5\n",
       "57) PER:a30/f130/lb10\n",
       "58) PER:a30/f130/lb20\n",
       "59) PER:a30/f130/lb30\n",
       "60) PER:a30/f130/lb60\n",
       "61) PER:a30/f250/lb0\n",
       "62) PER:a30/f250/lb5\n",
       "63) PER:a30/f250/lb10\n",
       "64) PER:a30/f250/lb20\n",
       "65) PER:a30/f250/lb30\n",
       "66) PER:a30/f250/lb60\n",
       "67) PER:a30/f500/lb0\n",
       "68) PER:a30/f500/lb5\n",
       "69) PER:a30/f500/lb10\n",
       "70) PER:a30/f500/lb20\n",
       "71) PER:a30/f500/lb30\n",
       "72) PER:a30/f500/lb60\n",
       "73) PBR:a5/f130/lb0\n",
       "74) PBR:a5/f130/lb5\n",
       "75) PBR:a5/f130/lb10\n",
       "76) PBR:a5/f130/lb20\n",
       "77) PBR:a5/f130/lb30\n",
       "78) PBR:a5/f130/lb60\n",
       "79) PBR:a5/f250/lb0\n",
       "80) PBR:a5/f250/lb5\n",
       "81) PBR:a5/f250/lb10\n",
       "82) PBR:a5/f250/lb20\n",
       "83) PBR:a5/f250/lb30\n",
       "84) PBR:a5/f250/lb60\n",
       "85) PBR:a5/f500/lb0\n",
       "86) PBR:a5/f500/lb5\n",
       "87) PBR:a5/f500/lb10\n",
       "88) PBR:a5/f500/lb20\n",
       "89) PBR:a5/f500/lb30\n",
       "90) PBR:a5/f500/lb60\n",
       "91) PBR:a10/f130/lb0\n",
       "92) PBR:a10/f130/lb5\n",
       "93) PBR:a10/f130/lb10\n",
       "94) PBR:a10/f130/lb20\n",
       "95) PBR:a10/f130/lb30\n",
       "96) PBR:a10/f130/lb60\n",
       "97) PBR:a10/f250/lb0\n",
       "98) PBR:a10/f250/lb5\n",
       "99) PBR:a10/f250/lb10\n",
       "100) PBR:a10/f250/lb20\n",
       "101) PBR:a10/f250/lb30\n",
       "102) PBR:a10/f250/lb60\n",
       "103) PBR:a10/f500/lb0\n",
       "104) PBR:a10/f500/lb5\n",
       "105) PBR:a10/f500/lb10\n",
       "106) PBR:a10/f500/lb20\n",
       "107) PBR:a10/f500/lb30\n",
       "108) PBR:a10/f500/lb60\n",
       "109) PBR:a20/f130/lb0\n",
       "110) PBR:a20/f130/lb5\n",
       "111) PBR:a20/f130/lb10\n",
       "112) PBR:a20/f130/lb20\n",
       "113) PBR:a20/f130/lb30\n",
       "114) PBR:a20/f130/lb60\n",
       "115) PBR:a20/f250/lb0\n",
       "116) PBR:a20/f250/lb5\n",
       "117) PBR:a20/f250/lb10\n",
       "118) PBR:a20/f250/lb20\n",
       "119) PBR:a20/f250/lb30\n",
       "120) PBR:a20/f250/lb60\n",
       "121) PBR:a20/f500/lb0\n",
       "122) PBR:a20/f500/lb5\n",
       "123) PBR:a20/f500/lb10\n",
       "124) PBR:a20/f500/lb20\n",
       "125) PBR:a20/f500/lb30\n",
       "126) PBR:a20/f500/lb60\n",
       "127) PBR:a30/f130/lb0\n",
       "128) PBR:a30/f130/lb5\n",
       "129) PBR:a30/f130/lb10\n",
       "130) PBR:a30/f130/lb20\n",
       "131) PBR:a30/f130/lb30\n",
       "132) PBR:a30/f130/lb60\n",
       "133) PBR:a30/f250/lb0\n",
       "134) PBR:a30/f250/lb5\n",
       "135) PBR:a30/f250/lb10\n",
       "136) PBR:a30/f250/lb20\n",
       "137) PBR:a30/f250/lb30\n",
       "138) PBR:a30/f250/lb60\n",
       "139) PBR:a30/f500/lb0\n",
       "140) PBR:a30/f500/lb5\n",
       "141) PBR:a30/f500/lb10\n",
       "142) PBR:a30/f500/lb20\n",
       "143) PBR:a30/f500/lb30\n",
       "144) PBR:a30/f500/lb60"
      ]
     },
     "execution_count": 30,
     "metadata": {},
     "output_type": "execute_result"
    }
   ],
   "source": [
    "bm.portfolios"
   ]
  },
  {
   "cell_type": "code",
   "execution_count": 33,
   "id": "c74bf4f4-cfcb-47e3-80d1-6c6805934027",
   "metadata": {},
   "outputs": [
    {
     "data": {
      "text/html": [
       "<div>\n",
       "<style scoped>\n",
       "    .dataframe tbody tr th:only-of-type {\n",
       "        vertical-align: middle;\n",
       "    }\n",
       "\n",
       "    .dataframe tbody tr th {\n",
       "        vertical-align: top;\n",
       "    }\n",
       "\n",
       "    .dataframe thead th {\n",
       "        text-align: right;\n",
       "    }\n",
       "</style>\n",
       "<table border=\"1\" class=\"dataframe\">\n",
       "  <thead>\n",
       "    <tr style=\"text-align: right;\">\n",
       "      <th></th>\n",
       "      <th>PER:a5/f500/lb0</th>\n",
       "      <th>PER:a5/f500/lb5</th>\n",
       "      <th>PER:a5/f130/lb0</th>\n",
       "      <th>PER:a5/f130/lb5</th>\n",
       "      <th>PER:a5/f250/lb5</th>\n",
       "      <th>PER:a5/f250/lb0</th>\n",
       "      <th>KODEX200</th>\n",
       "    </tr>\n",
       "  </thead>\n",
       "  <tbody>\n",
       "    <tr>\n",
       "      <th>start</th>\n",
       "      <td>2017-05-09</td>\n",
       "      <td>2017-05-09</td>\n",
       "      <td>2017-05-09</td>\n",
       "      <td>2017-05-09</td>\n",
       "      <td>2017-05-09</td>\n",
       "      <td>2017-05-09</td>\n",
       "      <td>2017-05-09</td>\n",
       "    </tr>\n",
       "    <tr>\n",
       "      <th>end</th>\n",
       "      <td>2022-06-24</td>\n",
       "      <td>2022-06-24</td>\n",
       "      <td>2022-06-24</td>\n",
       "      <td>2022-06-24</td>\n",
       "      <td>2022-06-24</td>\n",
       "      <td>2022-06-24</td>\n",
       "      <td>2022-06-24</td>\n",
       "    </tr>\n",
       "    <tr>\n",
       "      <th>total_return</th>\n",
       "      <td>1.869966</td>\n",
       "      <td>1.869966</td>\n",
       "      <td>1.286074</td>\n",
       "      <td>1.286074</td>\n",
       "      <td>0.880016</td>\n",
       "      <td>0.879816</td>\n",
       "      <td>0.166881</td>\n",
       "    </tr>\n",
       "    <tr>\n",
       "      <th>cagr</th>\n",
       "      <td>0.228393</td>\n",
       "      <td>0.228393</td>\n",
       "      <td>0.175068</td>\n",
       "      <td>0.175068</td>\n",
       "      <td>0.131077</td>\n",
       "      <td>0.131054</td>\n",
       "      <td>0.03057</td>\n",
       "    </tr>\n",
       "    <tr>\n",
       "      <th>calmar</th>\n",
       "      <td>0.544341</td>\n",
       "      <td>0.544341</td>\n",
       "      <td>0.333477</td>\n",
       "      <td>0.333477</td>\n",
       "      <td>0.262178</td>\n",
       "      <td>0.262131</td>\n",
       "      <td>0.08037</td>\n",
       "    </tr>\n",
       "    <tr>\n",
       "      <th>max_drawdown</th>\n",
       "      <td>-0.419577</td>\n",
       "      <td>-0.419577</td>\n",
       "      <td>-0.524978</td>\n",
       "      <td>-0.524978</td>\n",
       "      <td>-0.499955</td>\n",
       "      <td>-0.499955</td>\n",
       "      <td>-0.38037</td>\n",
       "    </tr>\n",
       "    <tr>\n",
       "      <th>avg_drawdown</th>\n",
       "      <td>-0.054061</td>\n",
       "      <td>-0.054061</td>\n",
       "      <td>-0.047307</td>\n",
       "      <td>-0.047307</td>\n",
       "      <td>-0.058234</td>\n",
       "      <td>-0.058135</td>\n",
       "      <td>-0.038662</td>\n",
       "    </tr>\n",
       "    <tr>\n",
       "      <th>avg_drawdown_days</th>\n",
       "      <td>34.28</td>\n",
       "      <td>34.28</td>\n",
       "      <td>31.981481</td>\n",
       "      <td>31.981481</td>\n",
       "      <td>47.756757</td>\n",
       "      <td>47.756757</td>\n",
       "      <td>55.28125</td>\n",
       "    </tr>\n",
       "    <tr>\n",
       "      <th>daily_vol</th>\n",
       "      <td>0.267809</td>\n",
       "      <td>0.267809</td>\n",
       "      <td>0.251767</td>\n",
       "      <td>0.251767</td>\n",
       "      <td>0.264814</td>\n",
       "      <td>0.264622</td>\n",
       "      <td>0.187578</td>\n",
       "    </tr>\n",
       "    <tr>\n",
       "      <th>daily_sharpe</th>\n",
       "      <td>0.92066</td>\n",
       "      <td>0.92066</td>\n",
       "      <td>0.782393</td>\n",
       "      <td>0.782393</td>\n",
       "      <td>0.608326</td>\n",
       "      <td>0.608495</td>\n",
       "      <td>0.258084</td>\n",
       "    </tr>\n",
       "    <tr>\n",
       "      <th>daily_sortino</th>\n",
       "      <td>1.59039</td>\n",
       "      <td>1.59039</td>\n",
       "      <td>1.301748</td>\n",
       "      <td>1.301748</td>\n",
       "      <td>1.044202</td>\n",
       "      <td>1.044858</td>\n",
       "      <td>0.415633</td>\n",
       "    </tr>\n",
       "    <tr>\n",
       "      <th>monthly_vol</th>\n",
       "      <td>0.267968</td>\n",
       "      <td>0.267968</td>\n",
       "      <td>0.273472</td>\n",
       "      <td>0.273472</td>\n",
       "      <td>0.261978</td>\n",
       "      <td>0.26199</td>\n",
       "      <td>0.185062</td>\n",
       "    </tr>\n",
       "    <tr>\n",
       "      <th>monthly_sharpe</th>\n",
       "      <td>0.876514</td>\n",
       "      <td>0.876514</td>\n",
       "      <td>0.697944</td>\n",
       "      <td>0.697944</td>\n",
       "      <td>0.568871</td>\n",
       "      <td>0.568778</td>\n",
       "      <td>0.223819</td>\n",
       "    </tr>\n",
       "    <tr>\n",
       "      <th>monthly_sortino</th>\n",
       "      <td>1.904657</td>\n",
       "      <td>1.904657</td>\n",
       "      <td>1.399366</td>\n",
       "      <td>1.399366</td>\n",
       "      <td>1.176919</td>\n",
       "      <td>1.176607</td>\n",
       "      <td>0.391036</td>\n",
       "    </tr>\n",
       "  </tbody>\n",
       "</table>\n",
       "</div>"
      ],
      "text/plain": [
       "                  PER:a5/f500/lb0 PER:a5/f500/lb5 PER:a5/f130/lb0  \\\n",
       "start                  2017-05-09      2017-05-09      2017-05-09   \n",
       "end                    2022-06-24      2022-06-24      2022-06-24   \n",
       "total_return             1.869966        1.869966        1.286074   \n",
       "cagr                     0.228393        0.228393        0.175068   \n",
       "calmar                   0.544341        0.544341        0.333477   \n",
       "max_drawdown            -0.419577       -0.419577       -0.524978   \n",
       "avg_drawdown            -0.054061       -0.054061       -0.047307   \n",
       "avg_drawdown_days           34.28           34.28       31.981481   \n",
       "daily_vol                0.267809        0.267809        0.251767   \n",
       "daily_sharpe              0.92066         0.92066        0.782393   \n",
       "daily_sortino             1.59039         1.59039        1.301748   \n",
       "monthly_vol              0.267968        0.267968        0.273472   \n",
       "monthly_sharpe           0.876514        0.876514        0.697944   \n",
       "monthly_sortino          1.904657        1.904657        1.399366   \n",
       "\n",
       "                  PER:a5/f130/lb5 PER:a5/f250/lb5 PER:a5/f250/lb0    KODEX200  \n",
       "start                  2017-05-09      2017-05-09      2017-05-09  2017-05-09  \n",
       "end                    2022-06-24      2022-06-24      2022-06-24  2022-06-24  \n",
       "total_return             1.286074        0.880016        0.879816    0.166881  \n",
       "cagr                     0.175068        0.131077        0.131054     0.03057  \n",
       "calmar                   0.333477        0.262178        0.262131     0.08037  \n",
       "max_drawdown            -0.524978       -0.499955       -0.499955    -0.38037  \n",
       "avg_drawdown            -0.047307       -0.058234       -0.058135   -0.038662  \n",
       "avg_drawdown_days       31.981481       47.756757       47.756757    55.28125  \n",
       "daily_vol                0.251767        0.264814        0.264622    0.187578  \n",
       "daily_sharpe             0.782393        0.608326        0.608495    0.258084  \n",
       "daily_sortino            1.301748        1.044202        1.044858    0.415633  \n",
       "monthly_vol              0.273472        0.261978         0.26199    0.185062  \n",
       "monthly_sharpe           0.697944        0.568871        0.568778    0.223819  \n",
       "monthly_sortino          1.399366        1.176919        1.176607    0.391036  "
      ]
     },
     "execution_count": 33,
     "metadata": {},
     "output_type": "execute_result"
    }
   ],
   "source": [
    "#pf_list = [0, 1, 3, 4, 13, 15, 16]\n",
    "pf_list = [0, 1, 2, 7, 8, 13, 14]\n",
    "#pf_list = list(range(7))\n",
    "\n",
    "#bm.get_stats(pf_list, sort_by='monthly_sharpe')\n",
    "bm.get_stats(pf_list, sort_by='cagr')"
   ]
  },
  {
   "cell_type": "code",
   "execution_count": 34,
   "id": "59cc4bd9-84bc-4144-9f0c-fb70bf955ffb",
   "metadata": {},
   "outputs": [
    {
     "data": {
      "image/png": "[encoded data removed]",
      "text/plain": [
       "<Figure size 900x400 with 1 Axes>"
      ]
     },
     "metadata": {},
     "output_type": "display_data"
    }
   ],
   "source": [
    "_ = bm.plot(pf_list, figsize=(9,4))"
   ]
  },
  {
   "cell_type": "markdown",
   "id": "43092efa-d491-4dc4-b195-11ad0df10314",
   "metadata": {},
   "source": [
    "### Validation"
   ]
  },
  {
   "cell_type": "code",
   "execution_count": 35,
   "id": "91179db9-1420-4cb7-be04-afa3694953eb",
   "metadata": {},
   "outputs": [
    {
     "name": "stdout",
     "output_type": "stream",
     "text": [
      "running self.util_check_days_in_year to check days in a year\n",
      "171 assets from 2022-06-27 to 2024-07-05 uploaded.\n",
      "Benchmark is KODEX200\n"
     ]
    }
   ],
   "source": [
    "bm = BacktestManager(df_test, **kwargs_bm)\n",
    "bm.benchmark_ticker()"
   ]
  },
  {
   "cell_type": "code",
   "execution_count": 36,
   "id": "23bc7919-cd61-40f7-b550-6d150982a840",
   "metadata": {},
   "outputs": [
    {
     "name": "stdout",
     "output_type": "stream",
     "text": [
      "Backtesting 19 strategies: KODEX200, PER:a5/f130/lb0, ... , PER:a10/f500/lb10\n"
     ]
    },
    {
     "name": "stderr",
     "output_type": "stream",
     "text": [
      "100%|███████████████████████████████████████████████████████████████| 19/19 [00:07<00:00,  2.65it/s]"
     ]
    },
    {
     "name": "stdout",
     "output_type": "stream",
     "text": [
      "Returning stats\n"
     ]
    },
    {
     "name": "stderr",
     "output_type": "stream",
     "text": [
      "\n"
     ]
    }
   ],
   "source": [
    "from itertools import product\n",
    "\n",
    "params = dict(\n",
    "    p_fr = ['PER'],\n",
    "    p_ast = [5, 10],\n",
    "    p_freq = [130, 250, 500],\n",
    "    p_lb = [0, 5, 10]\n",
    ")\n",
    "p_comb = list(product(*params.values()))\n",
    "kwa_list = [{'name':f'{x[0]}:a{x[1]}/f{x[2]}/lb{x[3]}',\n",
    "              'df_ratio':fratios_dict[x[0]], 'n_assets':x[1], 'freq':x[2], 'lookback':x[3]} \n",
    "            for x in p_comb]\n",
    "\n",
    "kwargs_build = dict(\n",
    "    select='F-ratio', weigh='Equally', ratio_descending=False\n",
    ")\n",
    "\n",
    "bm.build_batch(*kwa_list, **kwargs_build)\n",
    "df_res = bm.run(stats_sort_by='cagr', plot=False)"
   ]
  },
  {
   "cell_type": "code",
   "execution_count": 37,
   "id": "57adba5f-c482-4103-869c-43fbeb460f97",
   "metadata": {},
   "outputs": [],
   "source": [
    "#df_res = bm.get_stats(sort_by='monthly_sharpe')"
   ]
  },
  {
   "cell_type": "code",
   "execution_count": 38,
   "id": "55fc6670-9170-4926-9673-1925325b5f94",
   "metadata": {},
   "outputs": [
    {
     "data": {
      "text/html": [
       "<div>\n",
       "<style scoped>\n",
       "    .dataframe tbody tr th:only-of-type {\n",
       "        vertical-align: middle;\n",
       "    }\n",
       "\n",
       "    .dataframe tbody tr th {\n",
       "        vertical-align: top;\n",
       "    }\n",
       "\n",
       "    .dataframe thead th {\n",
       "        text-align: right;\n",
       "    }\n",
       "</style>\n",
       "<table border=\"1\" class=\"dataframe\">\n",
       "  <thead>\n",
       "    <tr style=\"text-align: right;\">\n",
       "      <th></th>\n",
       "      <th>PER:a5/f130/lb0</th>\n",
       "      <th>PER:a5/f250/lb0</th>\n",
       "      <th>PER:a5/f250/lb5</th>\n",
       "      <th>PER:a5/f250/lb10</th>\n",
       "      <th>KODEX200</th>\n",
       "    </tr>\n",
       "  </thead>\n",
       "  <tbody>\n",
       "    <tr>\n",
       "      <th>start</th>\n",
       "      <td>2022-06-26</td>\n",
       "      <td>2022-06-26</td>\n",
       "      <td>2022-06-26</td>\n",
       "      <td>2022-06-26</td>\n",
       "      <td>2022-06-26</td>\n",
       "    </tr>\n",
       "    <tr>\n",
       "      <th>end</th>\n",
       "      <td>2024-07-05</td>\n",
       "      <td>2024-07-05</td>\n",
       "      <td>2024-07-05</td>\n",
       "      <td>2024-07-05</td>\n",
       "      <td>2024-07-05</td>\n",
       "    </tr>\n",
       "    <tr>\n",
       "      <th>total_return</th>\n",
       "      <td>0.354263</td>\n",
       "      <td>0.337132</td>\n",
       "      <td>0.337132</td>\n",
       "      <td>0.337132</td>\n",
       "      <td>0.307593</td>\n",
       "    </tr>\n",
       "    <tr>\n",
       "      <th>cagr</th>\n",
       "      <td>0.161465</td>\n",
       "      <td>0.15419</td>\n",
       "      <td>0.15419</td>\n",
       "      <td>0.15419</td>\n",
       "      <td>0.141534</td>\n",
       "    </tr>\n",
       "    <tr>\n",
       "      <th>calmar</th>\n",
       "      <td>0.751864</td>\n",
       "      <td>0.717987</td>\n",
       "      <td>0.717987</td>\n",
       "      <td>0.717987</td>\n",
       "      <td>0.953443</td>\n",
       "    </tr>\n",
       "    <tr>\n",
       "      <th>max_drawdown</th>\n",
       "      <td>-0.214753</td>\n",
       "      <td>-0.214753</td>\n",
       "      <td>-0.214753</td>\n",
       "      <td>-0.214753</td>\n",
       "      <td>-0.148445</td>\n",
       "    </tr>\n",
       "    <tr>\n",
       "      <th>avg_drawdown</th>\n",
       "      <td>-0.061921</td>\n",
       "      <td>-0.057175</td>\n",
       "      <td>-0.057175</td>\n",
       "      <td>-0.057175</td>\n",
       "      <td>-0.030484</td>\n",
       "    </tr>\n",
       "    <tr>\n",
       "      <th>avg_drawdown_days</th>\n",
       "      <td>37.944444</td>\n",
       "      <td>34.05</td>\n",
       "      <td>34.05</td>\n",
       "      <td>34.05</td>\n",
       "      <td>25.269231</td>\n",
       "    </tr>\n",
       "    <tr>\n",
       "      <th>daily_vol</th>\n",
       "      <td>0.258318</td>\n",
       "      <td>0.260772</td>\n",
       "      <td>0.260772</td>\n",
       "      <td>0.260772</td>\n",
       "      <td>0.168761</td>\n",
       "    </tr>\n",
       "    <tr>\n",
       "      <th>daily_sharpe</th>\n",
       "      <td>0.719883</td>\n",
       "      <td>0.691137</td>\n",
       "      <td>0.691137</td>\n",
       "      <td>0.691137</td>\n",
       "      <td>0.88523</td>\n",
       "    </tr>\n",
       "    <tr>\n",
       "      <th>daily_sortino</th>\n",
       "      <td>1.342315</td>\n",
       "      <td>1.266716</td>\n",
       "      <td>1.266716</td>\n",
       "      <td>1.266716</td>\n",
       "      <td>1.573946</td>\n",
       "    </tr>\n",
       "    <tr>\n",
       "      <th>monthly_vol</th>\n",
       "      <td>0.275983</td>\n",
       "      <td>0.277138</td>\n",
       "      <td>0.277138</td>\n",
       "      <td>0.277138</td>\n",
       "      <td>0.197235</td>\n",
       "    </tr>\n",
       "    <tr>\n",
       "      <th>monthly_sharpe</th>\n",
       "      <td>0.630293</td>\n",
       "      <td>0.607877</td>\n",
       "      <td>0.607877</td>\n",
       "      <td>0.607877</td>\n",
       "      <td>0.81536</td>\n",
       "    </tr>\n",
       "    <tr>\n",
       "      <th>monthly_sortino</th>\n",
       "      <td>1.283168</td>\n",
       "      <td>1.181982</td>\n",
       "      <td>1.181982</td>\n",
       "      <td>1.181982</td>\n",
       "      <td>1.473538</td>\n",
       "    </tr>\n",
       "  </tbody>\n",
       "</table>\n",
       "</div>"
      ],
      "text/plain": [
       "                  PER:a5/f130/lb0 PER:a5/f250/lb0 PER:a5/f250/lb5  \\\n",
       "start                  2022-06-26      2022-06-26      2022-06-26   \n",
       "end                    2024-07-05      2024-07-05      2024-07-05   \n",
       "total_return             0.354263        0.337132        0.337132   \n",
       "cagr                     0.161465         0.15419         0.15419   \n",
       "calmar                   0.751864        0.717987        0.717987   \n",
       "max_drawdown            -0.214753       -0.214753       -0.214753   \n",
       "avg_drawdown            -0.061921       -0.057175       -0.057175   \n",
       "avg_drawdown_days       37.944444           34.05           34.05   \n",
       "daily_vol                0.258318        0.260772        0.260772   \n",
       "daily_sharpe             0.719883        0.691137        0.691137   \n",
       "daily_sortino            1.342315        1.266716        1.266716   \n",
       "monthly_vol              0.275983        0.277138        0.277138   \n",
       "monthly_sharpe           0.630293        0.607877        0.607877   \n",
       "monthly_sortino          1.283168        1.181982        1.181982   \n",
       "\n",
       "                  PER:a5/f250/lb10    KODEX200  \n",
       "start                   2022-06-26  2022-06-26  \n",
       "end                     2024-07-05  2024-07-05  \n",
       "total_return              0.337132    0.307593  \n",
       "cagr                       0.15419    0.141534  \n",
       "calmar                    0.717987    0.953443  \n",
       "max_drawdown             -0.214753   -0.148445  \n",
       "avg_drawdown             -0.057175   -0.030484  \n",
       "avg_drawdown_days            34.05   25.269231  \n",
       "daily_vol                 0.260772    0.168761  \n",
       "daily_sharpe              0.691137     0.88523  \n",
       "daily_sortino             1.266716    1.573946  \n",
       "monthly_vol               0.277138    0.197235  \n",
       "monthly_sharpe            0.607877     0.81536  \n",
       "monthly_sortino           1.181982    1.473538  "
      ]
     },
     "execution_count": 38,
     "metadata": {},
     "output_type": "execute_result"
    }
   ],
   "source": [
    "df_res.iloc[:, :5]"
   ]
  },
  {
   "cell_type": "markdown",
   "id": "af36ff6b-78eb-413e-ad16-de01d333db98",
   "metadata": {},
   "source": [
    "## Cross-validation"
   ]
  },
  {
   "cell_type": "code",
   "execution_count": 39,
   "id": "1f052dcd-420a-4238-9f6b-a53008ca48ee",
   "metadata": {},
   "outputs": [],
   "source": [
    "n_test = 500\n",
    "df_train = df_k200.iloc[:-n_test]\n",
    "df_test = df_k200.iloc[-n_test:]"
   ]
  },
  {
   "cell_type": "code",
   "execution_count": 40,
   "id": "366a7a80-73d5-4d70-8361-416b3fc6c80b",
   "metadata": {},
   "outputs": [],
   "source": [
    "kwargs_bm = dict(\n",
    "    initial_capital = 1e7,\n",
    "    commissions = 0,\n",
    "    align_axis = None, \n",
    "    days_in_year = 246,\n",
    "    asset_names = assetnames_k200\n",
    ")"
   ]
  },
  {
   "cell_type": "code",
   "execution_count": 41,
   "id": "749b03a3-73d1-49a7-9bf0-56438e8bf5e3",
   "metadata": {},
   "outputs": [
    {
     "name": "stdout",
     "output_type": "stream",
     "text": [
      "running self.util_check_days_in_year to check days in a year\n",
      "171 assets from 2022-06-27 to 2024-07-05 uploaded.\n"
     ]
    }
   ],
   "source": [
    "bm = BacktestManager(df_test, **kwargs_bm)"
   ]
  },
  {
   "cell_type": "code",
   "execution_count": 42,
   "id": "d73c5d9f-1fba-4305-84d6-325603469922",
   "metadata": {},
   "outputs": [],
   "source": [
    "from itertools import product\n",
    "\n",
    "params = dict(\n",
    "    p_fr = ['PER'],\n",
    "    p_ast = [5, 10],\n",
    "    p_freq = [130, 250, 500],\n",
    "    p_lb = [0, 5, 10]\n",
    ")\n",
    "p_comb = list(product(*params.values()))\n",
    "kwa_list = [{'name':f'{x[0]}:a{x[1]}/f{x[2]}/lb{x[3]}',\n",
    "             'df_ratio':fratios_dict[x[0]], 'n_assets':x[1], 'freq':x[2], 'lookback':x[3]} \n",
    "            for x in p_comb]\n",
    "\n",
    "kwargs_build = dict(\n",
    "    select='F-ratio', weigh='Equally', ratio_descending=False\n",
    ")\n",
    "\n",
    "bm.build_batch(*kwa_list, **kwargs_build)"
   ]
  },
  {
   "cell_type": "code",
   "execution_count": 45,
   "id": "e762274f-c402-4672-9342-dc68e8534a85",
   "metadata": {
    "scrolled": true
   },
   "outputs": [
    {
     "name": "stdout",
     "output_type": "stream",
     "text": [
      "Cross-validating 18 strategies: PER:a5/f130/lb0, PER:a5/f130/lb5, ... , PER:a10/f500/lb10\n"
     ]
    },
    {
     "name": "stderr",
     "output_type": "stream",
     "text": [
      "100%|███████████████████████████████████████████████████████████████| 17/17 [00:06<00:00,  2.67it/s]\n",
      "100%|███████████████████████████████████████████████████████████████| 17/17 [00:06<00:00,  2.60it/s]\n",
      "100%|███████████████████████████████████████████████████████████████| 17/17 [00:06<00:00,  2.48it/s]\n",
      "100%|███████████████████████████████████████████████████████████████| 17/17 [00:06<00:00,  2.65it/s]\n",
      "100%|███████████████████████████████████████████████████████████████| 17/17 [00:06<00:00,  2.66it/s]\n",
      "100%|███████████████████████████████████████████████████████████████| 17/17 [00:06<00:00,  2.63it/s]\n",
      "100%|███████████████████████████████████████████████████████████████| 17/17 [00:06<00:00,  2.72it/s]\n",
      "100%|███████████████████████████████████████████████████████████████| 17/17 [00:06<00:00,  2.66it/s]\n",
      "100%|███████████████████████████████████████████████████████████████| 17/17 [00:06<00:00,  2.62it/s]\n",
      "100%|███████████████████████████████████████████████████████████████| 17/17 [00:06<00:00,  2.58it/s]\n",
      "100%|███████████████████████████████████████████████████████████████| 17/17 [00:07<00:00,  2.42it/s]\n",
      "100%|███████████████████████████████████████████████████████████████| 17/17 [00:07<00:00,  2.23it/s]\n",
      "100%|███████████████████████████████████████████████████████████████| 17/17 [00:07<00:00,  2.31it/s]\n",
      "100%|███████████████████████████████████████████████████████████████| 17/17 [00:07<00:00,  2.30it/s]\n",
      "100%|███████████████████████████████████████████████████████████████| 17/17 [00:07<00:00,  2.28it/s]\n",
      "100%|███████████████████████████████████████████████████████████████| 17/17 [00:07<00:00,  2.30it/s]\n",
      "100%|███████████████████████████████████████████████████████████████| 17/17 [00:07<00:00,  2.41it/s]\n",
      "100%|███████████████████████████████████████████████████████████████| 17/17 [00:07<00:00,  2.38it/s]\n"
     ]
    }
   ],
   "source": [
    "df_res = bm.cross_validate(n_sample=20)"
   ]
  },
  {
   "cell_type": "code",
   "execution_count": 47,
   "id": "0d15c358-707d-4247-bf52-9a67fc14f4ff",
   "metadata": {},
   "outputs": [
    {
     "data": {
      "text/html": [
       "<div>\n",
       "<style scoped>\n",
       "    .dataframe tbody tr th:only-of-type {\n",
       "        vertical-align: middle;\n",
       "    }\n",
       "\n",
       "    .dataframe tbody tr th {\n",
       "        vertical-align: top;\n",
       "    }\n",
       "\n",
       "    .dataframe thead th {\n",
       "        text-align: right;\n",
       "    }\n",
       "</style>\n",
       "<table border=\"1\" class=\"dataframe\">\n",
       "  <thead>\n",
       "    <tr style=\"text-align: right;\">\n",
       "      <th></th>\n",
       "      <th>cagr</th>\n",
       "      <th>max_drawdown</th>\n",
       "      <th>avg_drawdown</th>\n",
       "      <th>avg_drawdown_days</th>\n",
       "      <th>monthly_vol</th>\n",
       "      <th>monthly_sharpe</th>\n",
       "    </tr>\n",
       "  </thead>\n",
       "  <tbody>\n",
       "    <tr>\n",
       "      <th>PER:a5/f130/lb0</th>\n",
       "      <td>0.09 ± 0.052</td>\n",
       "      <td>-0.19 ± 0.030</td>\n",
       "      <td>-0.07 ± 0.019</td>\n",
       "      <td>52.06 ± 23.186</td>\n",
       "      <td>0.19 ± 0.041</td>\n",
       "      <td>0.54 ± 0.257</td>\n",
       "    </tr>\n",
       "    <tr>\n",
       "      <th>PER:a5/f130/lb5</th>\n",
       "      <td>0.09 ± 0.052</td>\n",
       "      <td>-0.19 ± 0.029</td>\n",
       "      <td>-0.07 ± 0.021</td>\n",
       "      <td>54.48 ± 24.460</td>\n",
       "      <td>0.19 ± 0.039</td>\n",
       "      <td>0.50 ± 0.253</td>\n",
       "    </tr>\n",
       "    <tr>\n",
       "      <th>PER:a5/f130/lb10</th>\n",
       "      <td>0.09 ± 0.045</td>\n",
       "      <td>-0.19 ± 0.030</td>\n",
       "      <td>-0.07 ± 0.021</td>\n",
       "      <td>50.59 ± 21.019</td>\n",
       "      <td>0.20 ± 0.035</td>\n",
       "      <td>0.54 ± 0.211</td>\n",
       "    </tr>\n",
       "    <tr>\n",
       "      <th>PER:a5/f250/lb0</th>\n",
       "      <td>0.11 ± 0.057</td>\n",
       "      <td>-0.20 ± 0.019</td>\n",
       "      <td>-0.07 ± 0.026</td>\n",
       "      <td>57.01 ± 34.600</td>\n",
       "      <td>0.22 ± 0.039</td>\n",
       "      <td>0.56 ± 0.186</td>\n",
       "    </tr>\n",
       "    <tr>\n",
       "      <th>PER:a5/f250/lb5</th>\n",
       "      <td>0.10 ± 0.063</td>\n",
       "      <td>-0.21 ± 0.030</td>\n",
       "      <td>-0.08 ± 0.054</td>\n",
       "      <td>80.41 ± 108.021</td>\n",
       "      <td>0.22 ± 0.038</td>\n",
       "      <td>0.51 ± 0.231</td>\n",
       "    </tr>\n",
       "    <tr>\n",
       "      <th>PER:a5/f250/lb10</th>\n",
       "      <td>0.10 ± 0.055</td>\n",
       "      <td>-0.21 ± 0.023</td>\n",
       "      <td>-0.07 ± 0.027</td>\n",
       "      <td>61.43 ± 36.485</td>\n",
       "      <td>0.22 ± 0.037</td>\n",
       "      <td>0.53 ± 0.183</td>\n",
       "    </tr>\n",
       "    <tr>\n",
       "      <th>PER:a5/f500/lb0</th>\n",
       "      <td>0.02 ± 0.041</td>\n",
       "      <td>-0.21 ± 0.024</td>\n",
       "      <td>-0.08 ± 0.035</td>\n",
       "      <td>88.17 ± 55.666</td>\n",
       "      <td>0.19 ± 0.048</td>\n",
       "      <td>0.17 ± 0.203</td>\n",
       "    </tr>\n",
       "    <tr>\n",
       "      <th>PER:a5/f500/lb5</th>\n",
       "      <td>0.01 ± 0.047</td>\n",
       "      <td>-0.22 ± 0.030</td>\n",
       "      <td>-0.09 ± 0.052</td>\n",
       "      <td>104.33 ± 105.994</td>\n",
       "      <td>0.19 ± 0.046</td>\n",
       "      <td>0.14 ± 0.263</td>\n",
       "    </tr>\n",
       "    <tr>\n",
       "      <th>PER:a5/f500/lb10</th>\n",
       "      <td>0.02 ± 0.040</td>\n",
       "      <td>-0.22 ± 0.029</td>\n",
       "      <td>-0.08 ± 0.037</td>\n",
       "      <td>91.07 ± 54.597</td>\n",
       "      <td>0.19 ± 0.045</td>\n",
       "      <td>0.16 ± 0.212</td>\n",
       "    </tr>\n",
       "    <tr>\n",
       "      <th>PER:a10/f130/lb0</th>\n",
       "      <td>0.05 ± 0.042</td>\n",
       "      <td>-0.17 ± 0.019</td>\n",
       "      <td>-0.06 ± 0.021</td>\n",
       "      <td>63.31 ± 32.264</td>\n",
       "      <td>0.14 ± 0.044</td>\n",
       "      <td>0.33 ± 0.220</td>\n",
       "    </tr>\n",
       "    <tr>\n",
       "      <th>PER:a10/f130/lb5</th>\n",
       "      <td>0.04 ± 0.038</td>\n",
       "      <td>-0.17 ± 0.020</td>\n",
       "      <td>-0.06 ± 0.015</td>\n",
       "      <td>60.82 ± 25.615</td>\n",
       "      <td>0.14 ± 0.044</td>\n",
       "      <td>0.31 ± 0.212</td>\n",
       "    </tr>\n",
       "    <tr>\n",
       "      <th>PER:a10/f130/lb10</th>\n",
       "      <td>0.04 ± 0.037</td>\n",
       "      <td>-0.17 ± 0.020</td>\n",
       "      <td>-0.06 ± 0.017</td>\n",
       "      <td>63.23 ± 32.460</td>\n",
       "      <td>0.15 ± 0.043</td>\n",
       "      <td>0.32 ± 0.194</td>\n",
       "    </tr>\n",
       "    <tr>\n",
       "      <th>PER:a10/f250/lb0</th>\n",
       "      <td>0.04 ± 0.049</td>\n",
       "      <td>-0.18 ± 0.021</td>\n",
       "      <td>-0.07 ± 0.035</td>\n",
       "      <td>98.33 ± 112.049</td>\n",
       "      <td>0.15 ± 0.042</td>\n",
       "      <td>0.27 ± 0.239</td>\n",
       "    </tr>\n",
       "    <tr>\n",
       "      <th>PER:a10/f250/lb5</th>\n",
       "      <td>0.04 ± 0.049</td>\n",
       "      <td>-0.18 ± 0.021</td>\n",
       "      <td>-0.07 ± 0.034</td>\n",
       "      <td>98.31 ± 112.050</td>\n",
       "      <td>0.15 ± 0.042</td>\n",
       "      <td>0.27 ± 0.235</td>\n",
       "    </tr>\n",
       "    <tr>\n",
       "      <th>PER:a10/f250/lb10</th>\n",
       "      <td>0.04 ± 0.049</td>\n",
       "      <td>-0.18 ± 0.021</td>\n",
       "      <td>-0.07 ± 0.031</td>\n",
       "      <td>98.31 ± 112.050</td>\n",
       "      <td>0.15 ± 0.042</td>\n",
       "      <td>0.27 ± 0.235</td>\n",
       "    </tr>\n",
       "    <tr>\n",
       "      <th>PER:a10/f500/lb0</th>\n",
       "      <td>0.02 ± 0.047</td>\n",
       "      <td>-0.19 ± 0.018</td>\n",
       "      <td>-0.07 ± 0.022</td>\n",
       "      <td>87.95 ± 64.192</td>\n",
       "      <td>0.15 ± 0.047</td>\n",
       "      <td>0.18 ± 0.258</td>\n",
       "    </tr>\n",
       "    <tr>\n",
       "      <th>PER:a10/f500/lb5</th>\n",
       "      <td>0.02 ± 0.048</td>\n",
       "      <td>-0.19 ± 0.018</td>\n",
       "      <td>-0.07 ± 0.034</td>\n",
       "      <td>102.26 ± 111.137</td>\n",
       "      <td>0.15 ± 0.048</td>\n",
       "      <td>0.17 ± 0.273</td>\n",
       "    </tr>\n",
       "    <tr>\n",
       "      <th>PER:a10/f500/lb10</th>\n",
       "      <td>0.02 ± 0.048</td>\n",
       "      <td>-0.19 ± 0.019</td>\n",
       "      <td>-0.07 ± 0.031</td>\n",
       "      <td>102.26 ± 111.137</td>\n",
       "      <td>0.15 ± 0.048</td>\n",
       "      <td>0.17 ± 0.278</td>\n",
       "    </tr>\n",
       "  </tbody>\n",
       "</table>\n",
       "</div>"
      ],
      "text/plain": [
       "                           cagr   max_drawdown   avg_drawdown  \\\n",
       "PER:a5/f130/lb0    0.09 ± 0.052  -0.19 ± 0.030  -0.07 ± 0.019   \n",
       "PER:a5/f130/lb5    0.09 ± 0.052  -0.19 ± 0.029  -0.07 ± 0.021   \n",
       "PER:a5/f130/lb10   0.09 ± 0.045  -0.19 ± 0.030  -0.07 ± 0.021   \n",
       "PER:a5/f250/lb0    0.11 ± 0.057  -0.20 ± 0.019  -0.07 ± 0.026   \n",
       "PER:a5/f250/lb5    0.10 ± 0.063  -0.21 ± 0.030  -0.08 ± 0.054   \n",
       "PER:a5/f250/lb10   0.10 ± 0.055  -0.21 ± 0.023  -0.07 ± 0.027   \n",
       "PER:a5/f500/lb0    0.02 ± 0.041  -0.21 ± 0.024  -0.08 ± 0.035   \n",
       "PER:a5/f500/lb5    0.01 ± 0.047  -0.22 ± 0.030  -0.09 ± 0.052   \n",
       "PER:a5/f500/lb10   0.02 ± 0.040  -0.22 ± 0.029  -0.08 ± 0.037   \n",
       "PER:a10/f130/lb0   0.05 ± 0.042  -0.17 ± 0.019  -0.06 ± 0.021   \n",
       "PER:a10/f130/lb5   0.04 ± 0.038  -0.17 ± 0.020  -0.06 ± 0.015   \n",
       "PER:a10/f130/lb10  0.04 ± 0.037  -0.17 ± 0.020  -0.06 ± 0.017   \n",
       "PER:a10/f250/lb0   0.04 ± 0.049  -0.18 ± 0.021  -0.07 ± 0.035   \n",
       "PER:a10/f250/lb5   0.04 ± 0.049  -0.18 ± 0.021  -0.07 ± 0.034   \n",
       "PER:a10/f250/lb10  0.04 ± 0.049  -0.18 ± 0.021  -0.07 ± 0.031   \n",
       "PER:a10/f500/lb0   0.02 ± 0.047  -0.19 ± 0.018  -0.07 ± 0.022   \n",
       "PER:a10/f500/lb5   0.02 ± 0.048  -0.19 ± 0.018  -0.07 ± 0.034   \n",
       "PER:a10/f500/lb10  0.02 ± 0.048  -0.19 ± 0.019  -0.07 ± 0.031   \n",
       "\n",
       "                  avg_drawdown_days   monthly_vol monthly_sharpe  \n",
       "PER:a5/f130/lb0      52.06 ± 23.186  0.19 ± 0.041   0.54 ± 0.257  \n",
       "PER:a5/f130/lb5      54.48 ± 24.460  0.19 ± 0.039   0.50 ± 0.253  \n",
       "PER:a5/f130/lb10     50.59 ± 21.019  0.20 ± 0.035   0.54 ± 0.211  \n",
       "PER:a5/f250/lb0      57.01 ± 34.600  0.22 ± 0.039   0.56 ± 0.186  \n",
       "PER:a5/f250/lb5     80.41 ± 108.021  0.22 ± 0.038   0.51 ± 0.231  \n",
       "PER:a5/f250/lb10     61.43 ± 36.485  0.22 ± 0.037   0.53 ± 0.183  \n",
       "PER:a5/f500/lb0      88.17 ± 55.666  0.19 ± 0.048   0.17 ± 0.203  \n",
       "PER:a5/f500/lb5    104.33 ± 105.994  0.19 ± 0.046   0.14 ± 0.263  \n",
       "PER:a5/f500/lb10     91.07 ± 54.597  0.19 ± 0.045   0.16 ± 0.212  \n",
       "PER:a10/f130/lb0     63.31 ± 32.264  0.14 ± 0.044   0.33 ± 0.220  \n",
       "PER:a10/f130/lb5     60.82 ± 25.615  0.14 ± 0.044   0.31 ± 0.212  \n",
       "PER:a10/f130/lb10    63.23 ± 32.460  0.15 ± 0.043   0.32 ± 0.194  \n",
       "PER:a10/f250/lb0    98.33 ± 112.049  0.15 ± 0.042   0.27 ± 0.239  \n",
       "PER:a10/f250/lb5    98.31 ± 112.050  0.15 ± 0.042   0.27 ± 0.235  \n",
       "PER:a10/f250/lb10   98.31 ± 112.050  0.15 ± 0.042   0.27 ± 0.235  \n",
       "PER:a10/f500/lb0     87.95 ± 64.192  0.15 ± 0.047   0.18 ± 0.258  \n",
       "PER:a10/f500/lb5   102.26 ± 111.137  0.15 ± 0.048   0.17 ± 0.273  \n",
       "PER:a10/f500/lb10  102.26 ± 111.137  0.15 ± 0.048   0.17 ± 0.278  "
      ]
     },
     "execution_count": 47,
     "metadata": {},
     "output_type": "execute_result"
    }
   ],
   "source": [
    "m = ['cagr', 'max_drawdown', 'avg_drawdown', 'avg_drawdown_days', 'monthly_vol', 'monthly_sharpe']\n",
    "df_res.T[m]"
   ]
  },
  {
   "cell_type": "code",
   "execution_count": null,
   "id": "4e0951e7-5b68-4a36-a629-4a635120a351",
   "metadata": {
    "scrolled": true
   },
   "outputs": [],
   "source": [
    "#bm.cv_strategies"
   ]
  },
  {
   "cell_type": "code",
   "execution_count": null,
   "id": "e5ba75f2-77db-4948-9bb4-f3d1122315c7",
   "metadata": {},
   "outputs": [],
   "source": [
    "#pf_list = list(range(6))\n",
    "#bm.cross_validate(pf_list, n_sample=10)"
   ]
  },
  {
   "cell_type": "markdown",
   "id": "4081e26a-0d1b-494d-afda-adc7592de525",
   "metadata": {},
   "source": [
    "# Transaction"
   ]
  },
  {
   "cell_type": "code",
   "execution_count": 15,
   "id": "7f11736e-a72d-4b11-b332-b61db68b83cb",
   "metadata": {},
   "outputs": [],
   "source": [
    "df_ratio = fratios_dict['PER']"
   ]
  },
  {
   "cell_type": "code",
   "execution_count": 16,
   "id": "ab3a72e9-226d-40dd-bac4-b76740397cca",
   "metadata": {},
   "outputs": [
    {
     "name": "stdout",
     "output_type": "stream",
     "text": [
      "201 assets from 2021-01-04 to 2024-10-17 uploaded.\n",
      "running self.util_check_days_in_year to check days in a year\n",
      "WARNING: the number of days in a year with 8 assets (4%) is 214 in avg.\n",
      "WARNING: no record test_per* exists\n",
      "REMINDER: make sure this is 1st transaction as no records provided\n"
     ]
    }
   ],
   "source": [
    "kw_per = dict(\n",
    "    name='PER',\n",
    "    method_select='f-ratio',\n",
    "    sort_ascending=True,\n",
    "    lookback=0, # days\n",
    "    df_additional=df_ratio,\n",
    "    method_weigh='equally',\n",
    "    align_axis=None\n",
    ")\n",
    "\n",
    "kwargs = dict(\n",
    "    #file='pf_k200_per.csv',\n",
    "    file='test_per.csv',\n",
    "    path=path_tran,\n",
    "    days_in_year=246,\n",
    "    asset_names=assetnames_k200,\n",
    "    **kw_per\n",
    ")\n",
    "\n",
    "pf_per = MomentumPortfolio(df_k200, **kwargs)"
   ]
  },
  {
   "cell_type": "code",
   "execution_count": 17,
   "id": "77027256-82a9-4fd7-89ed-b854710eae4f",
   "metadata": {},
   "outputs": [
    {
     "name": "stdout",
     "output_type": "stream",
     "text": [
      "ERROR: No transaction record\n"
     ]
    }
   ],
   "source": [
    "pf_per.view_record()"
   ]
  },
  {
   "cell_type": "code",
   "execution_count": 18,
   "id": "4dce86f9-1672-4922-b6a5-c10f37d63337",
   "metadata": {},
   "outputs": [
    {
     "name": "stdout",
     "output_type": "stream",
     "text": [
      "ERROR: No transaction record\n"
     ]
    }
   ],
   "source": [
    "pf_per.valuate()"
   ]
  },
  {
   "cell_type": "code",
   "execution_count": 19,
   "id": "ff8e778d-a780-492a-9a14-945deb966e74",
   "metadata": {},
   "outputs": [
    {
     "data": {
      "application/vnd.jupyter.widget-view+json": {
       "model_id": "78c5ae7dfc574b5dab8f51ec61d07cc3",
       "version_major": 2,
       "version_minor": 0
      },
      "text/plain": [
       "VBox(children=(DatePicker(value=None, layout=Layout(width='200px'), step=1), IntSlider(value=0, continuous_upd…"
      ]
     },
     "execution_count": 19,
     "metadata": {},
     "output_type": "execute_result"
    }
   ],
   "source": [
    "# set kwargs of transaction_pipeline\n",
    "WidgetTransaction"
   ]
  },
  {
   "cell_type": "code",
   "execution_count": 20,
   "id": "2493edb2-b79c-4eea-b898-bb3b181cfd1d",
   "metadata": {},
   "outputs": [
    {
     "name": "stdout",
     "output_type": "stream",
     "text": [
      "Liquidation set to None\n",
      "5 assets selected by Financial Ratio from 2024-10-14 to 2024-10-14\n",
      "WARNING: No record loaded\n",
      "Weights of assets determined by Equal weights.\n",
      "Mean absolute error of weights: 5 %\n",
      "Portfolio value 3,776,620, Profit -0.9% on 2024-10-17\n",
      "Set save=True to save transaction record\n"
     ]
    },
    {
     "data": {
      "text/html": [
       "<div>\n",
       "<style scoped>\n",
       "    .dataframe tbody tr th:only-of-type {\n",
       "        vertical-align: middle;\n",
       "    }\n",
       "\n",
       "    .dataframe tbody tr th {\n",
       "        vertical-align: top;\n",
       "    }\n",
       "\n",
       "    .dataframe thead th {\n",
       "        text-align: right;\n",
       "    }\n",
       "</style>\n",
       "<table border=\"1\" class=\"dataframe\">\n",
       "  <thead>\n",
       "    <tr style=\"text-align: right;\">\n",
       "      <th></th>\n",
       "      <th></th>\n",
       "      <th>name</th>\n",
       "      <th>price</th>\n",
       "      <th>transaction</th>\n",
       "      <th>net</th>\n",
       "      <th>weight</th>\n",
       "      <th>weight*</th>\n",
       "    </tr>\n",
       "    <tr>\n",
       "      <th>date</th>\n",
       "      <th>asset</th>\n",
       "      <th></th>\n",
       "      <th></th>\n",
       "      <th></th>\n",
       "      <th></th>\n",
       "      <th></th>\n",
       "      <th></th>\n",
       "    </tr>\n",
       "  </thead>\n",
       "  <tbody>\n",
       "    <tr>\n",
       "      <th rowspan=\"5\" valign=\"top\">2024-10-14</th>\n",
       "      <th>010060</th>\n",
       "      <td>OCI홀딩스</td>\n",
       "      <td>67700</td>\n",
       "      <td>11</td>\n",
       "      <td>11</td>\n",
       "      <td>0.200</td>\n",
       "      <td>0.1953</td>\n",
       "    </tr>\n",
       "    <tr>\n",
       "      <th>003030</th>\n",
       "      <td>세아제강지주</td>\n",
       "      <td>168100</td>\n",
       "      <td>4</td>\n",
       "      <td>4</td>\n",
       "      <td>0.200</td>\n",
       "      <td>0.1764</td>\n",
       "    </tr>\n",
       "    <tr>\n",
       "      <th>009970</th>\n",
       "      <td>영원무역홀딩스</td>\n",
       "      <td>88600</td>\n",
       "      <td>9</td>\n",
       "      <td>9</td>\n",
       "      <td>0.200</td>\n",
       "      <td>0.2092</td>\n",
       "    </tr>\n",
       "    <tr>\n",
       "      <th>016380</th>\n",
       "      <td>KG스틸</td>\n",
       "      <td>6650</td>\n",
       "      <td>120</td>\n",
       "      <td>120</td>\n",
       "      <td>0.200</td>\n",
       "      <td>0.2093</td>\n",
       "    </tr>\n",
       "    <tr>\n",
       "      <th>047040</th>\n",
       "      <td>대우건설</td>\n",
       "      <td>3790</td>\n",
       "      <td>211</td>\n",
       "      <td>211</td>\n",
       "      <td>0.200</td>\n",
       "      <td>0.2098</td>\n",
       "    </tr>\n",
       "  </tbody>\n",
       "</table>\n",
       "</div>"
      ],
      "text/plain": [
       "                      name   price  transaction  net weight weight*\n",
       "date       asset                                                   \n",
       "2024-10-14 010060   OCI홀딩스   67700           11   11  0.200  0.1953\n",
       "           003030   세아제강지주  168100            4    4  0.200  0.1764\n",
       "           009970  영원무역홀딩스   88600            9    9  0.200  0.2092\n",
       "           016380     KG스틸    6650          120  120  0.200  0.2093\n",
       "           047040     대우건설    3790          211  211  0.200  0.2098"
      ]
     },
     "execution_count": 20,
     "metadata": {},
     "output_type": "execute_result"
    }
   ],
   "source": [
    "kwargs_trs = dict(\n",
    "    n_assets = 5,\n",
    "    date = WidgetTransaction.values(0),\n",
    "    capital = WidgetTransaction.values(1),\n",
    "    save = WidgetTransaction.values(2)\n",
    ")\n",
    "\n",
    "_ = pf_per.transaction_pipeline(**kwargs_trs)\n",
    "pf_per.view_record()"
   ]
  },
  {
   "cell_type": "code",
   "execution_count": 21,
   "id": "c413910e-07d2-46fe-b12e-c10ed22b2406",
   "metadata": {},
   "outputs": [
    {
     "data": {
      "image/png": "[encoded data removed]",
      "text/plain": [
       "<Figure size 800x500 with 2 Axes>"
      ]
     },
     "metadata": {},
     "output_type": "display_data"
    }
   ],
   "source": [
    "_ = pf_per.check_additional(plot=True)"
   ]
  },
  {
   "cell_type": "markdown",
   "id": "b198a7a5-ff42-468b-a0d6-b279fe0478f8",
   "metadata": {},
   "source": [
    "### testing stars"
   ]
  },
  {
   "cell_type": "code",
   "execution_count": 22,
   "id": "a8399b82-9e6e-445f-888b-a95b4d77eb19",
   "metadata": {},
   "outputs": [
    {
     "name": "stdout",
     "output_type": "stream",
     "text": [
      "No record on 2024-9-29\n"
     ]
    },
    {
     "data": {
      "image/png": "[encoded data removed]",
      "text/plain": [
       "<Figure size 800x500 with 1 Axes>"
      ]
     },
     "metadata": {},
     "output_type": "display_data"
    }
   ],
   "source": [
    "date = '2024-9-29'\n",
    "_ = pf_per.check_additional(date, plot=True)\n",
    "#pf_per.df_rec.loc[:date].index.get_level_values(0).max() "
   ]
  },
  {
   "cell_type": "code",
   "execution_count": 73,
   "id": "6e148e07-0763-4e38-8e9b-744f607f5f17",
   "metadata": {},
   "outputs": [],
   "source": [
    "df = fratios_dict[r]"
   ]
  },
  {
   "cell_type": "code",
   "execution_count": 74,
   "id": "64b17ef7-afd9-447f-83c9-8f802cc61414",
   "metadata": {},
   "outputs": [
    {
     "data": {
      "image/png": "[encoded data removed]",
      "text/plain": [
       "<Figure size 800x500 with 2 Axes>"
      ]
     },
     "metadata": {},
     "output_type": "display_data"
    }
   ],
   "source": [
    "def get_stats(self, df, start_date=None, end_date=None, stats=['mean', 'std'], \n",
    "              stats_daily=True):\n",
    "    \"\"\"\n",
    "    df: df_prices or df_additional (see MomentumPortfolio)\n",
    "    \"\"\"\n",
    "    return DataManager.get_stats(df, start_date=start_date, end_date=end_date, stats=stats, \n",
    "              stats_daily=stats_daily, date_format=self.date_format)\n",
    "\n",
    "\n",
    "def check_additional(self, date=None, stats=['mean', 'median', 'std'],\n",
    "                     plot=False, figsize=(8,5)):\n",
    "    \"\"\"\n",
    "    check df_additional\n",
    "    date: a transaction date from record\n",
    "    \"\"\"\n",
    "    df_additional = self.df_additional\n",
    "    if df_additional is None:\n",
    "        return print('ERROR: no df_additional available')\n",
    "\n",
    "    df_rec = self._check_result()\n",
    "    if df_rec is None:\n",
    "        return None\n",
    "\n",
    "    df = df_rec.loc[:date]\n",
    "    date = df.index.get_level_values(0).max() # nearest date to transaction\n",
    "    assets = df.loc[date].index.to_list()\n",
    "    df_all = df_additional.loc[date:]\n",
    "\n",
    "    try:\n",
    "        df_res = df_all[assets]\n",
    "    except KeyError as e:\n",
    "        return print(f'ERROR: KeyError {e}')\n",
    "\n",
    "    if plot:\n",
    "        ax = df_res.plot(figsize=figsize)\n",
    "        ax2 = df_all.mean(axis=1).plot(ax=ax.twinx())\n",
    "\n",
    "    return df_res\n",
    "\n",
    "\n",
    "df_res = check_additional(pf_per, plot=True)"
   ]
  },
  {
   "cell_type": "code",
   "execution_count": 79,
   "id": "22f7a127-5932-49f6-a73a-9bb65732a56e",
   "metadata": {},
   "outputs": [
    {
     "data": {
      "text/html": [
       "<div>\n",
       "<style scoped>\n",
       "    .dataframe tbody tr th:only-of-type {\n",
       "        vertical-align: middle;\n",
       "    }\n",
       "\n",
       "    .dataframe tbody tr th {\n",
       "        vertical-align: top;\n",
       "    }\n",
       "\n",
       "    .dataframe thead th {\n",
       "        text-align: right;\n",
       "    }\n",
       "</style>\n",
       "<table border=\"1\" class=\"dataframe\">\n",
       "  <thead>\n",
       "    <tr style=\"text-align: right;\">\n",
       "      <th>ticker</th>\n",
       "      <th>010060</th>\n",
       "      <th>003030</th>\n",
       "      <th>016380</th>\n",
       "      <th>009970</th>\n",
       "      <th>088350</th>\n",
       "    </tr>\n",
       "    <tr>\n",
       "      <th>date</th>\n",
       "      <th></th>\n",
       "      <th></th>\n",
       "      <th></th>\n",
       "      <th></th>\n",
       "      <th></th>\n",
       "    </tr>\n",
       "  </thead>\n",
       "  <tbody>\n",
       "    <tr>\n",
       "      <th>2024-09-30</th>\n",
       "      <td>1.94</td>\n",
       "      <td>2.48</td>\n",
       "      <td>2.86</td>\n",
       "      <td>2.87</td>\n",
       "      <td>3.01</td>\n",
       "    </tr>\n",
       "    <tr>\n",
       "      <th>2024-10-02</th>\n",
       "      <td>1.89</td>\n",
       "      <td>2.44</td>\n",
       "      <td>2.82</td>\n",
       "      <td>2.83</td>\n",
       "      <td>2.93</td>\n",
       "    </tr>\n",
       "    <tr>\n",
       "      <th>2024-10-04</th>\n",
       "      <td>1.88</td>\n",
       "      <td>2.47</td>\n",
       "      <td>2.78</td>\n",
       "      <td>2.76</td>\n",
       "      <td>2.96</td>\n",
       "    </tr>\n",
       "    <tr>\n",
       "      <th>2024-10-07</th>\n",
       "      <td>1.92</td>\n",
       "      <td>2.46</td>\n",
       "      <td>2.85</td>\n",
       "      <td>2.73</td>\n",
       "      <td>3.10</td>\n",
       "    </tr>\n",
       "    <tr>\n",
       "      <th>2024-10-08</th>\n",
       "      <td>1.87</td>\n",
       "      <td>2.47</td>\n",
       "      <td>2.86</td>\n",
       "      <td>2.70</td>\n",
       "      <td>3.08</td>\n",
       "    </tr>\n",
       "    <tr>\n",
       "      <th>2024-10-10</th>\n",
       "      <td>1.87</td>\n",
       "      <td>2.45</td>\n",
       "      <td>2.82</td>\n",
       "      <td>2.70</td>\n",
       "      <td>3.04</td>\n",
       "    </tr>\n",
       "    <tr>\n",
       "      <th>2024-10-11</th>\n",
       "      <td>1.83</td>\n",
       "      <td>2.40</td>\n",
       "      <td>2.87</td>\n",
       "      <td>2.77</td>\n",
       "      <td>3.09</td>\n",
       "    </tr>\n",
       "    <tr>\n",
       "      <th>2024-10-14</th>\n",
       "      <td>1.85</td>\n",
       "      <td>2.39</td>\n",
       "      <td>2.84</td>\n",
       "      <td>2.77</td>\n",
       "      <td>3.09</td>\n",
       "    </tr>\n",
       "    <tr>\n",
       "      <th>2024-10-15</th>\n",
       "      <td>1.86</td>\n",
       "      <td>2.37</td>\n",
       "      <td>2.85</td>\n",
       "      <td>2.79</td>\n",
       "      <td>3.10</td>\n",
       "    </tr>\n",
       "    <tr>\n",
       "      <th>2024-10-16</th>\n",
       "      <td>1.84</td>\n",
       "      <td>2.32</td>\n",
       "      <td>2.77</td>\n",
       "      <td>2.78</td>\n",
       "      <td>3.11</td>\n",
       "    </tr>\n",
       "  </tbody>\n",
       "</table>\n",
       "</div>"
      ],
      "text/plain": [
       "ticker      010060  003030  016380  009970  088350\n",
       "date                                              \n",
       "2024-09-30    1.94    2.48    2.86    2.87    3.01\n",
       "2024-10-02    1.89    2.44    2.82    2.83    2.93\n",
       "2024-10-04    1.88    2.47    2.78    2.76    2.96\n",
       "2024-10-07    1.92    2.46    2.85    2.73    3.10\n",
       "2024-10-08    1.87    2.47    2.86    2.70    3.08\n",
       "2024-10-10    1.87    2.45    2.82    2.70    3.04\n",
       "2024-10-11    1.83    2.40    2.87    2.77    3.09\n",
       "2024-10-14    1.85    2.39    2.84    2.77    3.09\n",
       "2024-10-15    1.86    2.37    2.85    2.79    3.10\n",
       "2024-10-16    1.84    2.32    2.77    2.78    3.11"
      ]
     },
     "execution_count": 79,
     "metadata": {},
     "output_type": "execute_result"
    }
   ],
   "source": [
    "df_res"
   ]
  },
  {
   "cell_type": "code",
   "execution_count": null,
   "id": "c1782931-5fc6-4573-901f-9714ec60f008",
   "metadata": {},
   "outputs": [],
   "source": []
  },
  {
   "cell_type": "code",
   "execution_count": 92,
   "id": "18c70f86-b052-4408-826a-bda95427289f",
   "metadata": {},
   "outputs": [
    {
     "data": {
      "text/plain": [
       "ticker\n",
       "011200    4.066216\n",
       "036460    0.981832\n",
       "016380    1.906156\n",
       "078930    2.325045\n",
       "137310    0.876276\n",
       "dtype: float64"
      ]
     },
     "execution_count": 92,
     "metadata": {},
     "output_type": "execute_result"
    }
   ],
   "source": [
    "df_res.mean()"
   ]
  },
  {
   "cell_type": "code",
   "execution_count": 45,
   "id": "b083916b-1bb2-42bb-8861-f7aa3c6669c5",
   "metadata": {},
   "outputs": [
    {
     "name": "stdout",
     "output_type": "stream",
     "text": [
      "Stats of daily averages from 2023-01-02 to 2024-10-16:\n",
      "       mean median   std\n",
      "daily  68.9   58.2  40.8\n"
     ]
    },
    {
     "data": {
      "image/png": "[encoded data removed]",
      "text/plain": [
       "<Figure size 700x300 with 1 Axes>"
      ]
     },
     "metadata": {},
     "output_type": "display_data"
    }
   ],
   "source": [
    "from pf_utils import get_date_minmax\n",
    "\n",
    "def get_stats(df, start_date=None, end_date=None, stats=['mean', 'median', 'std'], \n",
    "              stats_daily=True, date_format='%Y-%m-%d', msg=True,\n",
    "              plot=False, figsize=(7,3)):\n",
    "    \"\"\"\n",
    "    df: df of date index and ticker columns. ex) self.df_prices \n",
    "    stats_daily:\n",
    "     set to True to calculate statistics of daily averages for all stocks\n",
    "     set to False to calculate statistics of stock averages over the given period\n",
    "    \"\"\"\n",
    "    df = df.loc[start_date:end_date]\n",
    "    axis = 1 if stats_daily else 0\n",
    "    df_m = df.mean(axis=axis)\n",
    "    df_stats = df_m.agg(stats)\n",
    "    \n",
    "    if msg:\n",
    "        dt0, dt1 = get_date_minmax(df, date_format)\n",
    "        ps = 'daily' if stats_daily else 'stock'\n",
    "        print(f'Stats of {ps} averages from {dt0} to {dt1}:')\n",
    "        print(df_stats.map(lambda x: f'{x:.1f}').to_frame(ps).T.to_string())\n",
    "\n",
    "    if plot and stats_daily:\n",
    "        ax = df_m.plot(figsize=figsize)\n",
    "        \n",
    "    return df_m\n",
    "\n",
    "df = get_stats(pf_per.df_additional, stats_daily=True, plot=True)"
   ]
  },
  {
   "cell_type": "code",
   "execution_count": 46,
   "id": "f551338f-4bef-4103-a654-b8048d41697e",
   "metadata": {},
   "outputs": [
    {
     "data": {
      "text/plain": [
       "date\n",
       "2023-01-02     19.435584\n",
       "2023-01-03     19.381472\n",
       "2023-01-04     19.407665\n",
       "2023-01-05     19.358934\n",
       "2023-01-06     19.536041\n",
       "                 ...    \n",
       "2024-10-10    126.762040\n",
       "2024-10-11    126.105721\n",
       "2024-10-14    128.027562\n",
       "2024-10-15    126.309204\n",
       "2024-10-16    126.238060\n",
       "Length: 437, dtype: float64"
      ]
     },
     "execution_count": 46,
     "metadata": {},
     "output_type": "execute_result"
    }
   ],
   "source": [
    "df"
   ]
  },
  {
   "cell_type": "code",
   "execution_count": 34,
   "id": "3ee6b61c-9566-4eb9-b329-540fd2264be5",
   "metadata": {},
   "outputs": [
    {
     "data": {
      "text/plain": [
       "ticker\n",
       "000080     23.970801\n",
       "000100     49.197162\n",
       "000120     17.697551\n",
       "000150      1.483341\n",
       "000210      9.897140\n",
       "             ...    \n",
       "402340     18.680572\n",
       "450080    843.157330\n",
       "454910      0.000000\n",
       "457190      0.000000\n",
       "489790      0.000000\n",
       "Length: 201, dtype: float64"
      ]
     },
     "execution_count": 34,
     "metadata": {},
     "output_type": "execute_result"
    }
   ],
   "source": [
    "pf_per.df_additional.mean(0)"
   ]
  },
  {
   "cell_type": "code",
   "execution_count": 50,
   "id": "64b185ef-4872-4531-92ce-fe0a6dfa6644",
   "metadata": {},
   "outputs": [],
   "source": [
    "import pandas as pd\n",
    "\n",
    "def get_stats(self, metrics=None, start_date=None, end_date=None, stats=['mean', 'median', 'std'],\n",
    "              stats_daily=True):\n",
    "    \"\"\"\n",
    "    stats_daily:\n",
    "     set to True to calculate statistics of daily averages for all stocks\n",
    "     set to False to calculate statistics of stock averages over the given period\n",
    "    \"\"\"\n",
    "    df_ratios = self.df_ratios\n",
    "    if df_ratios is None:\n",
    "        return print('ERROR: load ratios first')\n",
    "\n",
    "    if metrics is None:\n",
    "        metrics = df_ratios.columns\n",
    "    if isinstance(metrics, str):\n",
    "        metrics = [metrics]\n",
    "\n",
    "    col_date = self.cols_index['date']\n",
    "    col_ticker = self.cols_index['ticker']\n",
    "    col_metric = 'metric'\n",
    "    idx = pd.IndexSlice\n",
    "    df_r = (df_ratios.sort_index().loc[idx[:, start_date:end_date], metrics]\n",
    "                .rename_axis(col_metric, axis=1))\n",
    "    # get dates\n",
    "    cols_fn = ['first', 'last']\n",
    "    cols_se = ['start','end']\n",
    "    df_d = (df_r.stack().dropna().reset_index(col_date)\n",
    "            .groupby(col_metric).date.agg(cols_fn)\n",
    "            .apply(lambda x: x.dt.strftime(self.date_format))\n",
    "            .rename(columns=dict(zip(cols_fn, cols_se)))\n",
    "            .T\n",
    "            .loc[:, metrics] # set to original order of metrics\n",
    "           )\n",
    "    # calc stats\n",
    "    by = col_date if stats_daily else col_ticker\n",
    "    ps = 'stats of daily averages' if stats_daily else 'stats of stock averages'\n",
    "    df_s = (df_r.dropna()\n",
    "            .groupby(by).mean() # daily mean of each metric\n",
    "            .agg(stats) # stats of daily mean of each metric\n",
    "            .map(lambda x: f'{x:.1f}'))\n",
    "\n",
    "    return (df_r, by)\n",
    "\n",
    "    print(f'Returning {ps}')\n",
    "    # calc stats and append to date\n",
    "    return pd.concat([df_d, df_s])\n",
    "\n",
    "\n",
    "df_r, by = get_stats(fr)"
   ]
  },
  {
   "cell_type": "code",
   "execution_count": 54,
   "id": "1f8ff0f1-eeab-491d-a6f7-1b55ad674152",
   "metadata": {},
   "outputs": [
    {
     "data": {
      "text/html": [
       "<div>\n",
       "<style scoped>\n",
       "    .dataframe tbody tr th:only-of-type {\n",
       "        vertical-align: middle;\n",
       "    }\n",
       "\n",
       "    .dataframe tbody tr th {\n",
       "        vertical-align: top;\n",
       "    }\n",
       "\n",
       "    .dataframe thead th {\n",
       "        text-align: right;\n",
       "    }\n",
       "</style>\n",
       "<table border=\"1\" class=\"dataframe\">\n",
       "  <thead>\n",
       "    <tr style=\"text-align: right;\">\n",
       "      <th>metric</th>\n",
       "      <th>BPS</th>\n",
       "      <th>PER</th>\n",
       "      <th>PBR</th>\n",
       "      <th>EPS</th>\n",
       "      <th>DIV</th>\n",
       "      <th>DPS</th>\n",
       "    </tr>\n",
       "    <tr>\n",
       "      <th>ticker</th>\n",
       "      <th></th>\n",
       "      <th></th>\n",
       "      <th></th>\n",
       "      <th></th>\n",
       "      <th></th>\n",
       "      <th></th>\n",
       "    </tr>\n",
       "  </thead>\n",
       "  <tbody>\n",
       "    <tr>\n",
       "      <th>000080</th>\n",
       "      <td>16212.938215</td>\n",
       "      <td>23.970801</td>\n",
       "      <td>1.331304</td>\n",
       "      <td>1023.139588</td>\n",
       "      <td>4.312014</td>\n",
       "      <td>921.853547</td>\n",
       "    </tr>\n",
       "    <tr>\n",
       "      <th>000100</th>\n",
       "      <td>27398.327231</td>\n",
       "      <td>49.197162</td>\n",
       "      <td>2.635469</td>\n",
       "      <td>1459.517162</td>\n",
       "      <td>0.604577</td>\n",
       "      <td>412.585812</td>\n",
       "    </tr>\n",
       "    <tr>\n",
       "      <th>000120</th>\n",
       "      <td>179398.871854</td>\n",
       "      <td>17.697551</td>\n",
       "      <td>0.535149</td>\n",
       "      <td>7544.123570</td>\n",
       "      <td>0.427002</td>\n",
       "      <td>406.178490</td>\n",
       "    </tr>\n",
       "    <tr>\n",
       "      <th>000150</th>\n",
       "      <td>102191.068650</td>\n",
       "      <td>1.483341</td>\n",
       "      <td>1.208627</td>\n",
       "      <td>2231.075515</td>\n",
       "      <td>1.831831</td>\n",
       "      <td>2000.000000</td>\n",
       "    </tr>\n",
       "    <tr>\n",
       "      <th>000210</th>\n",
       "      <td>176098.773455</td>\n",
       "      <td>9.897140</td>\n",
       "      <td>0.280801</td>\n",
       "      <td>9360.633867</td>\n",
       "      <td>2.368787</td>\n",
       "      <td>1168.878719</td>\n",
       "    </tr>\n",
       "    <tr>\n",
       "      <th>...</th>\n",
       "      <td>...</td>\n",
       "      <td>...</td>\n",
       "      <td>...</td>\n",
       "      <td>...</td>\n",
       "      <td>...</td>\n",
       "      <td>...</td>\n",
       "    </tr>\n",
       "    <tr>\n",
       "      <th>402340</th>\n",
       "      <td>117063.743707</td>\n",
       "      <td>18.680572</td>\n",
       "      <td>0.497414</td>\n",
       "      <td>1527.713959</td>\n",
       "      <td>0.000000</td>\n",
       "      <td>0.000000</td>\n",
       "    </tr>\n",
       "    <tr>\n",
       "      <th>450080</th>\n",
       "      <td>8492.072398</td>\n",
       "      <td>843.157330</td>\n",
       "      <td>18.810814</td>\n",
       "      <td>189.972851</td>\n",
       "      <td>0.000000</td>\n",
       "      <td>0.000000</td>\n",
       "    </tr>\n",
       "    <tr>\n",
       "      <th>454910</th>\n",
       "      <td>3461.274900</td>\n",
       "      <td>0.000000</td>\n",
       "      <td>52.851394</td>\n",
       "      <td>0.000000</td>\n",
       "      <td>0.000000</td>\n",
       "      <td>0.000000</td>\n",
       "    </tr>\n",
       "    <tr>\n",
       "      <th>457190</th>\n",
       "      <td>1121.607143</td>\n",
       "      <td>0.000000</td>\n",
       "      <td>4.475923</td>\n",
       "      <td>0.000000</td>\n",
       "      <td>0.000000</td>\n",
       "      <td>0.000000</td>\n",
       "    </tr>\n",
       "    <tr>\n",
       "      <th>489790</th>\n",
       "      <td>0.000000</td>\n",
       "      <td>0.000000</td>\n",
       "      <td>0.000000</td>\n",
       "      <td>0.000000</td>\n",
       "      <td>0.000000</td>\n",
       "      <td>0.000000</td>\n",
       "    </tr>\n",
       "  </tbody>\n",
       "</table>\n",
       "<p>201 rows × 6 columns</p>\n",
       "</div>"
      ],
      "text/plain": [
       "metric            BPS         PER        PBR          EPS       DIV  \\\n",
       "ticker                                                                \n",
       "000080   16212.938215   23.970801   1.331304  1023.139588  4.312014   \n",
       "000100   27398.327231   49.197162   2.635469  1459.517162  0.604577   \n",
       "000120  179398.871854   17.697551   0.535149  7544.123570  0.427002   \n",
       "000150  102191.068650    1.483341   1.208627  2231.075515  1.831831   \n",
       "000210  176098.773455    9.897140   0.280801  9360.633867  2.368787   \n",
       "...               ...         ...        ...          ...       ...   \n",
       "402340  117063.743707   18.680572   0.497414  1527.713959  0.000000   \n",
       "450080    8492.072398  843.157330  18.810814   189.972851  0.000000   \n",
       "454910    3461.274900    0.000000  52.851394     0.000000  0.000000   \n",
       "457190    1121.607143    0.000000   4.475923     0.000000  0.000000   \n",
       "489790       0.000000    0.000000   0.000000     0.000000  0.000000   \n",
       "\n",
       "metric          DPS  \n",
       "ticker               \n",
       "000080   921.853547  \n",
       "000100   412.585812  \n",
       "000120   406.178490  \n",
       "000150  2000.000000  \n",
       "000210  1168.878719  \n",
       "...             ...  \n",
       "402340     0.000000  \n",
       "450080     0.000000  \n",
       "454910     0.000000  \n",
       "457190     0.000000  \n",
       "489790     0.000000  \n",
       "\n",
       "[201 rows x 6 columns]"
      ]
     },
     "execution_count": 54,
     "metadata": {},
     "output_type": "execute_result"
    }
   ],
   "source": [
    "df_r.dropna().groupby('ticker').mean()"
   ]
  },
  {
   "cell_type": "code",
   "execution_count": null,
   "id": "313eea17-8dfc-420b-98b3-a08eb7fce32d",
   "metadata": {},
   "outputs": [],
   "source": []
  }
 ],
 "metadata": {
  "kernelspec": {
   "display_name": "portfolio",
   "language": "python",
   "name": "portfolio"
  },
  "language_info": {
   "codemirror_mode": {
    "name": "ipython",
    "version": 3
   },
   "file_extension": ".py",
   "mimetype": "text/x-python",
   "name": "python",
   "nbconvert_exporter": "python",
   "pygments_lexer": "ipython3",
   "version": "3.12.1"
  }
 },
 "nbformat": 4,
 "nbformat_minor": 5
}
