{
 "cells": [
  {
   "cell_type": "markdown",
   "id": "c2f30b81-2795-4ddf-aff7-7464c62beab8",
   "metadata": {},
   "source": [
    "# Setting"
   ]
  },
  {
   "cell_type": "code",
   "execution_count": 1,
   "id": "7009fd2f-8efd-4ed3-a187-01939304fa9e",
   "metadata": {},
   "outputs": [
    {
     "name": "stderr",
     "output_type": "stream",
     "text": [
      "WARNING (pytensor.tensor.blas): Using NumPy C-API based implementation for BLAS functions.\n"
     ]
    }
   ],
   "source": [
    "from pf_utils import DataManager, FinancialRatios, BacktestManager, MomentumPortfolio\n",
    "from pf_widgets import WidgetUniverse, WidgetTransaction"
   ]
  },
  {
   "cell_type": "code",
   "execution_count": 2,
   "id": "723adb14-cd00-4d96-9c64-5a8628e82f44",
   "metadata": {},
   "outputs": [],
   "source": [
    "metrics2 = [\n",
    "    'total_return', 'cagr', 'monthly_vol', 'monthly_sharpe',\n",
    "    'max_drawdown', 'avg_drawdown','avg_drawdown_days', \n",
    "]\n",
    "\n",
    "path_data = 'data'\n",
    "path_tran = 'transaction'"
   ]
  },
  {
   "cell_type": "markdown",
   "id": "048635c3-9e88-4ff4-b3cb-61ea6eb5b122",
   "metadata": {},
   "source": [
    "# Data"
   ]
  },
  {
   "cell_type": "markdown",
   "id": "37cd4e81-2b86-49e5-b9e1-8eca575bad72",
   "metadata": {},
   "source": [
    "## Universe: KOSPI200"
   ]
  },
  {
   "cell_type": "code",
   "execution_count": 3,
   "id": "8aa50408-fd2b-45f5-81ed-6c1a2479eb77",
   "metadata": {},
   "outputs": [
    {
     "name": "stdout",
     "output_type": "stream",
     "text": [
      "200 assets from 2000-03-06 to 2024-07-05 uploaded.\n",
      "df_prices updated\n"
     ]
    }
   ],
   "source": [
    "k200 = DataManager(\n",
    "    universe = 'kospi200',\n",
    "    file = 'kospi200_prices_240707lst.csv',\n",
    "    path = path_data\n",
    ")\n",
    "k200.upload()"
   ]
  },
  {
   "cell_type": "code",
   "execution_count": 4,
   "id": "6654a8a7-4530-4c54-8fd7-46d71981e9f6",
   "metadata": {},
   "outputs": [],
   "source": [
    "df_k200 = k200.df_prices\n",
    "assetnames_k200 = k200.get_names()"
   ]
  },
  {
   "cell_type": "code",
   "execution_count": 5,
   "id": "1521c116-c371-4f1d-855a-06e4d41a252e",
   "metadata": {},
   "outputs": [
    {
     "data": {
      "text/plain": [
       "171"
      ]
     },
     "execution_count": 5,
     "metadata": {},
     "output_type": "execute_result"
    }
   ],
   "source": [
    "cond = df_k200.notna().sum(axis=1) > 170\n",
    "df_k200 = df_k200.loc[cond].dropna(axis=1)\n",
    "df_k200.columns.size"
   ]
  },
  {
   "cell_type": "markdown",
   "id": "58f5b226-5a4c-4114-95d7-753251ffcd44",
   "metadata": {},
   "source": [
    "## Ratios"
   ]
  },
  {
   "cell_type": "code",
   "execution_count": 6,
   "id": "73024aab-e901-4e9c-94e2-a46e5b983dbe",
   "metadata": {},
   "outputs": [
    {
     "data": {
      "application/vnd.jupyter.widget-view+json": {
       "model_id": "d6538149eb1e48db80be2e7938bf9e43",
       "version_major": 2,
       "version_minor": 0
      },
      "text/plain": [
       "VBox(children=(Checkbox(value=False, description='Download', indent=False), Checkbox(value=False, description=…"
      ]
     },
     "execution_count": 6,
     "metadata": {},
     "output_type": "execute_result"
    }
   ],
   "source": [
    "WidgetUniverse"
   ]
  },
  {
   "cell_type": "code",
   "execution_count": 7,
   "id": "48635aeb-da0b-4f8f-addf-8bde2c9dbeeb",
   "metadata": {},
   "outputs": [
    {
     "name": "stdout",
     "output_type": "stream",
     "text": [
      "Financial ratios of 171 stocks from 2017-05-31 to 2024-09-30 loaded\n"
     ]
    }
   ],
   "source": [
    "file = 'kospi200_ratios.csv'\n",
    "fr = FinancialRatios(file, path_data)"
   ]
  },
  {
   "cell_type": "code",
   "execution_count": 8,
   "id": "f3339b80-7aa9-48dc-a8b3-cb99b04ba6a7",
   "metadata": {},
   "outputs": [],
   "source": [
    "start = df_k200.index.min()\n",
    "#tickers = df_k200.columns.to_list()[:3]\n",
    "tickers = df_k200.columns.to_list()\n",
    "\n",
    "fr.download(tickers, start) if WidgetUniverse.values(0) else None"
   ]
  },
  {
   "cell_type": "code",
   "execution_count": 9,
   "id": "e674e2d3-b7cf-4a3e-9f00-876c747f24cc",
   "metadata": {},
   "outputs": [
    {
     "data": {
      "text/html": [
       "<div>\n",
       "<style scoped>\n",
       "    .dataframe tbody tr th:only-of-type {\n",
       "        vertical-align: middle;\n",
       "    }\n",
       "\n",
       "    .dataframe tbody tr th {\n",
       "        vertical-align: top;\n",
       "    }\n",
       "\n",
       "    .dataframe thead th {\n",
       "        text-align: right;\n",
       "    }\n",
       "</style>\n",
       "<table border=\"1\" class=\"dataframe\">\n",
       "  <thead>\n",
       "    <tr style=\"text-align: right;\">\n",
       "      <th></th>\n",
       "      <th></th>\n",
       "      <th>BPS</th>\n",
       "      <th>PER</th>\n",
       "      <th>PBR</th>\n",
       "      <th>EPS</th>\n",
       "      <th>DIV</th>\n",
       "      <th>DPS</th>\n",
       "    </tr>\n",
       "    <tr>\n",
       "      <th>ticker</th>\n",
       "      <th>date</th>\n",
       "      <th></th>\n",
       "      <th></th>\n",
       "      <th></th>\n",
       "      <th></th>\n",
       "      <th></th>\n",
       "      <th></th>\n",
       "    </tr>\n",
       "  </thead>\n",
       "  <tbody>\n",
       "    <tr>\n",
       "      <th rowspan=\"5\" valign=\"top\">005930</th>\n",
       "      <th>2017-05-31</th>\n",
       "      <td>1156530</td>\n",
       "      <td>14.43</td>\n",
       "      <td>1.97</td>\n",
       "      <td>157967</td>\n",
       "      <td>1.25</td>\n",
       "      <td>28500</td>\n",
       "    </tr>\n",
       "    <tr>\n",
       "      <th>2017-06-30</th>\n",
       "      <td>1156530</td>\n",
       "      <td>14.14</td>\n",
       "      <td>1.93</td>\n",
       "      <td>157967</td>\n",
       "      <td>1.28</td>\n",
       "      <td>28500</td>\n",
       "    </tr>\n",
       "    <tr>\n",
       "      <th>2017-07-31</th>\n",
       "      <td>1156530</td>\n",
       "      <td>14.95</td>\n",
       "      <td>2.04</td>\n",
       "      <td>157967</td>\n",
       "      <td>1.21</td>\n",
       "      <td>28500</td>\n",
       "    </tr>\n",
       "    <tr>\n",
       "      <th>2017-08-31</th>\n",
       "      <td>1156530</td>\n",
       "      <td>15.38</td>\n",
       "      <td>2.10</td>\n",
       "      <td>157967</td>\n",
       "      <td>1.17</td>\n",
       "      <td>28500</td>\n",
       "    </tr>\n",
       "    <tr>\n",
       "      <th>2017-09-30</th>\n",
       "      <td>1156530</td>\n",
       "      <td>14.71</td>\n",
       "      <td>2.01</td>\n",
       "      <td>157967</td>\n",
       "      <td>1.23</td>\n",
       "      <td>28500</td>\n",
       "    </tr>\n",
       "    <tr>\n",
       "      <th>...</th>\n",
       "      <th>...</th>\n",
       "      <td>...</td>\n",
       "      <td>...</td>\n",
       "      <td>...</td>\n",
       "      <td>...</td>\n",
       "      <td>...</td>\n",
       "      <td>...</td>\n",
       "    </tr>\n",
       "    <tr>\n",
       "      <th rowspan=\"5\" valign=\"top\">000670</th>\n",
       "      <th>2024-05-31</th>\n",
       "      <td>2216785</td>\n",
       "      <td>0.00</td>\n",
       "      <td>0.18</td>\n",
       "      <td>0</td>\n",
       "      <td>2.48</td>\n",
       "      <td>10000</td>\n",
       "    </tr>\n",
       "    <tr>\n",
       "      <th>2024-06-30</th>\n",
       "      <td>2216785</td>\n",
       "      <td>0.00</td>\n",
       "      <td>0.17</td>\n",
       "      <td>0</td>\n",
       "      <td>2.66</td>\n",
       "      <td>10000</td>\n",
       "    </tr>\n",
       "    <tr>\n",
       "      <th>2024-07-31</th>\n",
       "      <td>2216785</td>\n",
       "      <td>0.00</td>\n",
       "      <td>0.15</td>\n",
       "      <td>0</td>\n",
       "      <td>2.95</td>\n",
       "      <td>10000</td>\n",
       "    </tr>\n",
       "    <tr>\n",
       "      <th>2024-08-31</th>\n",
       "      <td>2216785</td>\n",
       "      <td>0.00</td>\n",
       "      <td>0.14</td>\n",
       "      <td>0</td>\n",
       "      <td>3.17</td>\n",
       "      <td>10000</td>\n",
       "    </tr>\n",
       "    <tr>\n",
       "      <th>2024-09-30</th>\n",
       "      <td>2216785</td>\n",
       "      <td>0.00</td>\n",
       "      <td>0.14</td>\n",
       "      <td>0</td>\n",
       "      <td>3.23</td>\n",
       "      <td>10000</td>\n",
       "    </tr>\n",
       "  </tbody>\n",
       "</table>\n",
       "<p>15219 rows × 6 columns</p>\n",
       "</div>"
      ],
      "text/plain": [
       "                       BPS    PER   PBR     EPS   DIV    DPS\n",
       "ticker date                                                 \n",
       "005930 2017-05-31  1156530  14.43  1.97  157967  1.25  28500\n",
       "       2017-06-30  1156530  14.14  1.93  157967  1.28  28500\n",
       "       2017-07-31  1156530  14.95  2.04  157967  1.21  28500\n",
       "       2017-08-31  1156530  15.38  2.10  157967  1.17  28500\n",
       "       2017-09-30  1156530  14.71  2.01  157967  1.23  28500\n",
       "...                    ...    ...   ...     ...   ...    ...\n",
       "000670 2024-05-31  2216785   0.00  0.18       0  2.48  10000\n",
       "       2024-06-30  2216785   0.00  0.17       0  2.66  10000\n",
       "       2024-07-31  2216785   0.00  0.15       0  2.95  10000\n",
       "       2024-08-31  2216785   0.00  0.14       0  3.17  10000\n",
       "       2024-09-30  2216785   0.00  0.14       0  3.23  10000\n",
       "\n",
       "[15219 rows x 6 columns]"
      ]
     },
     "execution_count": 9,
     "metadata": {},
     "output_type": "execute_result"
    }
   ],
   "source": [
    "fr.df_ratios"
   ]
  },
  {
   "cell_type": "code",
   "execution_count": 10,
   "id": "ee8ebbff-7161-4114-9832-859e0b176663",
   "metadata": {},
   "outputs": [
    {
     "name": "stdout",
     "output_type": "stream",
     "text": [
      "Ranking score of PER on 2017-05-31\n"
     ]
    },
    {
     "data": {
      "text/plain": [
       "ticker\n",
       "081660    0.000000\n",
       "002710    0.006667\n",
       "015760    0.013333\n",
       "000270    0.020000\n",
       "006650    0.026667\n",
       "            ...   \n",
       "009420    0.973333\n",
       "009150    0.980000\n",
       "008930    0.986667\n",
       "011070    0.993333\n",
       "241560    1.000000\n",
       "Name: PER, Length: 151, dtype: float64"
      ]
     },
     "execution_count": 10,
     "metadata": {},
     "output_type": "execute_result"
    }
   ],
   "source": [
    "fr.calc_rank(metrics='PER', date='start', topn=None)"
   ]
  },
  {
   "cell_type": "code",
   "execution_count": 11,
   "id": "bc5f2844-567d-4f51-8ad0-76b935a74e3d",
   "metadata": {},
   "outputs": [
    {
     "name": "stdout",
     "output_type": "stream",
     "text": [
      "Historical of PER+PBR ranking score created\n"
     ]
    },
    {
     "data": {
      "text/plain": [
       "ticker  date      \n",
       "005930  2017-05-31    1.170513\n",
       "        2017-06-30    1.133791\n",
       "        2017-07-31    1.197392\n",
       "        2017-08-31    1.200673\n",
       "        2017-09-30    1.155763\n",
       "                        ...   \n",
       "000670  2024-05-31    0.011765\n",
       "        2024-06-30    0.011765\n",
       "        2024-07-31    0.005882\n",
       "        2024-08-31    0.000000\n",
       "        2024-09-30    0.000000\n",
       "Name: PER, Length: 15219, dtype: float64"
      ]
     },
     "execution_count": 11,
     "metadata": {},
     "output_type": "execute_result"
    }
   ],
   "source": [
    "#fr.calc_historical()\n",
    "fr.calc_historical(['PER', 'PBR'])"
   ]
  },
  {
   "cell_type": "markdown",
   "id": "b6914587-3ba3-4d75-bc11-00ea845325b4",
   "metadata": {},
   "source": [
    "## Reshape for backtest"
   ]
  },
  {
   "cell_type": "code",
   "execution_count": 12,
   "id": "a8ab925c-0005-4cee-95cf-46153788092d",
   "metadata": {},
   "outputs": [
    {
     "name": "stdout",
     "output_type": "stream",
     "text": [
      "PER interpolated from 2017-05-10 to 2024-07-05\n",
      "PBR interpolated from 2017-05-10 to 2024-07-05\n"
     ]
    }
   ],
   "source": [
    "df_p = fr.util_reshape(df_k200)\n",
    "\n",
    "fratios_dict = dict()\n",
    "for r in ['PER', 'PBR']:\n",
    "    df = fr.interpolate(df_p, r)\n",
    "    fratios_dict[r] = fr.util_reshape(df, stack=False)"
   ]
  },
  {
   "cell_type": "markdown",
   "id": "03622b85-24a4-4e51-877b-82caddc1f792",
   "metadata": {},
   "source": [
    "# Backtest"
   ]
  },
  {
   "cell_type": "markdown",
   "id": "292e103d-72dd-4efd-9885-dfb46f9c495b",
   "metadata": {},
   "source": [
    "## Example"
   ]
  },
  {
   "cell_type": "code",
   "execution_count": 48,
   "id": "975b5ba1-ceb7-4f65-ab23-bc86c59cd924",
   "metadata": {},
   "outputs": [],
   "source": [
    "fratio = 'PER'\n",
    "df_ratio = fratios_dict[fratio]"
   ]
  },
  {
   "cell_type": "code",
   "execution_count": 49,
   "id": "2fd24a73-19c1-413c-88a6-96bd4e00b2b3",
   "metadata": {},
   "outputs": [
    {
     "name": "stdout",
     "output_type": "stream",
     "text": [
      "running self.util_check_days_in_year to check days in a year\n"
     ]
    }
   ],
   "source": [
    "kwargs_bm = dict(\n",
    "    initial_capital = 1e7,\n",
    "    commissions = 0,\n",
    "    align_axis = 0, \n",
    "    days_in_year = 246,\n",
    "    asset_names = assetnames_k200\n",
    ")\n",
    "bm = BacktestManager(df_k200, **kwargs_bm)"
   ]
  },
  {
   "cell_type": "code",
   "execution_count": 50,
   "id": "294a09bd-78db-43f8-95af-5d5f49be422c",
   "metadata": {},
   "outputs": [
    {
     "name": "stdout",
     "output_type": "stream",
     "text": [
      "period reset: 2017-05-10 ~ 2024-07-05\n"
     ]
    }
   ],
   "source": [
    "#bm.align_period(df_k200, axis=0, fill_na=True, print_msg2=True)\n",
    "\n",
    "from pf_utils import get_date_minmax\n",
    "\n",
    "df_aligned = df_k200\n",
    "date_format = '%Y-%m-%d'\n",
    "#dts = [x.strftime(date_format) for x in (df_aligned.index.min(), df_aligned.index.max())]\n",
    "dts = get_date_minmax(df_aligned, date_format)\n",
    "\n",
    "msg1 = f\"period reset: {' ~ '.join(dts)}\"\n",
    "print(msg1)"
   ]
  },
  {
   "cell_type": "code",
   "execution_count": 51,
   "id": "13a3623c-5807-48c4-9128-b6af7db76a99",
   "metadata": {},
   "outputs": [
    {
     "name": "stdout",
     "output_type": "stream",
     "text": [
      "Benchmark is KODEX200\n"
     ]
    }
   ],
   "source": [
    "bm.benchmark_ticker()"
   ]
  },
  {
   "cell_type": "code",
   "execution_count": 52,
   "id": "f699543e-3f00-41a6-bf13-e71cd9a5f3b1",
   "metadata": {},
   "outputs": [],
   "source": [
    "#bm.buy_n_hold(name='PER', weigh='equally')"
   ]
  },
  {
   "cell_type": "code",
   "execution_count": 53,
   "id": "c3efc223-029a-4f72-a35f-7b5b1b871ba1",
   "metadata": {},
   "outputs": [],
   "source": [
    "select = 'f-ratio'\n",
    "kwargs_build = dict(\n",
    "    name=f'{select}', select =select, weigh='Equally', \n",
    "    n_assets=5, freq='Y', lookback=5,\n",
    "    df_ratio=df_ratio, ratio_descending=True\n",
    ")\n",
    "bm.build(**kwargs_build)"
   ]
  },
  {
   "cell_type": "code",
   "execution_count": 54,
   "id": "3c04e206-5e63-4bc6-a8b5-90869bdd09be",
   "metadata": {},
   "outputs": [
    {
     "name": "stdout",
     "output_type": "stream",
     "text": [
      "Backtesting 2 strategies: KODEX200, f-ratio\n"
     ]
    },
    {
     "name": "stderr",
     "output_type": "stream",
     "text": [
      "100%|█████████████████████████████████████████████████████████████████| 2/2 [00:01<00:00,  1.05it/s]"
     ]
    },
    {
     "name": "stdout",
     "output_type": "stream",
     "text": [
      "Returning stats\n"
     ]
    },
    {
     "name": "stderr",
     "output_type": "stream",
     "text": [
      "\n"
     ]
    },
    {
     "data": {
      "text/html": [
       "<div>\n",
       "<style scoped>\n",
       "    .dataframe tbody tr th:only-of-type {\n",
       "        vertical-align: middle;\n",
       "    }\n",
       "\n",
       "    .dataframe tbody tr th {\n",
       "        vertical-align: top;\n",
       "    }\n",
       "\n",
       "    .dataframe thead th {\n",
       "        text-align: right;\n",
       "    }\n",
       "</style>\n",
       "<table border=\"1\" class=\"dataframe\">\n",
       "  <thead>\n",
       "    <tr style=\"text-align: right;\">\n",
       "      <th></th>\n",
       "      <th>KODEX200</th>\n",
       "      <th>f-ratio</th>\n",
       "    </tr>\n",
       "  </thead>\n",
       "  <tbody>\n",
       "    <tr>\n",
       "      <th>start</th>\n",
       "      <td>2017-05-09</td>\n",
       "      <td>2017-05-09</td>\n",
       "    </tr>\n",
       "    <tr>\n",
       "      <th>end</th>\n",
       "      <td>2024-07-05</td>\n",
       "      <td>2024-07-05</td>\n",
       "    </tr>\n",
       "    <tr>\n",
       "      <th>total_return</th>\n",
       "      <td>0.545298</td>\n",
       "      <td>0.393314</td>\n",
       "    </tr>\n",
       "    <tr>\n",
       "      <th>cagr</th>\n",
       "      <td>0.062699</td>\n",
       "      <td>0.047437</td>\n",
       "    </tr>\n",
       "    <tr>\n",
       "      <th>calmar</th>\n",
       "      <td>0.164837</td>\n",
       "      <td>0.087122</td>\n",
       "    </tr>\n",
       "    <tr>\n",
       "      <th>max_drawdown</th>\n",
       "      <td>-0.38037</td>\n",
       "      <td>-0.544485</td>\n",
       "    </tr>\n",
       "    <tr>\n",
       "      <th>avg_drawdown</th>\n",
       "      <td>-0.04033</td>\n",
       "      <td>-0.085891</td>\n",
       "    </tr>\n",
       "    <tr>\n",
       "      <th>avg_drawdown_days</th>\n",
       "      <td>78.46875</td>\n",
       "      <td>126.75</td>\n",
       "    </tr>\n",
       "    <tr>\n",
       "      <th>daily_vol</th>\n",
       "      <td>0.18247</td>\n",
       "      <td>0.29995</td>\n",
       "    </tr>\n",
       "    <tr>\n",
       "      <th>daily_sharpe</th>\n",
       "      <td>0.432459</td>\n",
       "      <td>0.307699</td>\n",
       "    </tr>\n",
       "    <tr>\n",
       "      <th>daily_sortino</th>\n",
       "      <td>0.712425</td>\n",
       "      <td>0.524206</td>\n",
       "    </tr>\n",
       "    <tr>\n",
       "      <th>monthly_vol</th>\n",
       "      <td>0.189287</td>\n",
       "      <td>0.314762</td>\n",
       "    </tr>\n",
       "    <tr>\n",
       "      <th>monthly_sharpe</th>\n",
       "      <td>0.393669</td>\n",
       "      <td>0.28462</td>\n",
       "    </tr>\n",
       "    <tr>\n",
       "      <th>monthly_sortino</th>\n",
       "      <td>0.69101</td>\n",
       "      <td>0.480503</td>\n",
       "    </tr>\n",
       "  </tbody>\n",
       "</table>\n",
       "</div>"
      ],
      "text/plain": [
       "                     KODEX200     f-ratio\n",
       "start              2017-05-09  2017-05-09\n",
       "end                2024-07-05  2024-07-05\n",
       "total_return         0.545298    0.393314\n",
       "cagr                 0.062699    0.047437\n",
       "calmar               0.164837    0.087122\n",
       "max_drawdown         -0.38037   -0.544485\n",
       "avg_drawdown         -0.04033   -0.085891\n",
       "avg_drawdown_days    78.46875      126.75\n",
       "daily_vol             0.18247     0.29995\n",
       "daily_sharpe         0.432459    0.307699\n",
       "daily_sortino        0.712425    0.524206\n",
       "monthly_vol          0.189287    0.314762\n",
       "monthly_sharpe       0.393669     0.28462\n",
       "monthly_sortino       0.69101    0.480503"
      ]
     },
     "execution_count": 54,
     "metadata": {},
     "output_type": "execute_result"
    },
    {
     "data": {
      "image/png": "[encoded data removed]",
      "text/plain": [
       "<Figure size 900x400 with 1 Axes>"
      ]
     },
     "metadata": {},
     "output_type": "display_data"
    }
   ],
   "source": [
    "bm.run(figsize=(9,4), stats_sort_by='monthly_sharpe')"
   ]
  },
  {
   "cell_type": "code",
   "execution_count": 55,
   "id": "1ec27168-9c7a-448c-b375-7e6c0a587c12",
   "metadata": {},
   "outputs": [
    {
     "data": {
      "text/plain": [
       "0) KODEX200\n",
       "1) f-ratio"
      ]
     },
     "execution_count": 55,
     "metadata": {},
     "output_type": "execute_result"
    }
   ],
   "source": [
    "bm.portfolios"
   ]
  },
  {
   "cell_type": "code",
   "execution_count": 56,
   "id": "66080a41-f6e2-4fb8-8474-d3155d8a6e2f",
   "metadata": {},
   "outputs": [
    {
     "data": {
      "image/png": "[encoded data removed]",
      "text/plain": [
       "<Figure size 1000x500 with 1 Axes>"
      ]
     },
     "metadata": {},
     "output_type": "display_data"
    }
   ],
   "source": [
    "bm.plot_security_weights(1, legend=False)"
   ]
  },
  {
   "cell_type": "markdown",
   "id": "bee60ab5-dc33-4719-8953-df741f415e71",
   "metadata": {},
   "source": [
    "## Parameter study"
   ]
  },
  {
   "cell_type": "code",
   "execution_count": 13,
   "id": "83ad84d6-5a5b-4f30-b4cf-e5cf074deb29",
   "metadata": {},
   "outputs": [],
   "source": [
    "n_test = 500\n",
    "df_train = df_k200.iloc[:-n_test]\n",
    "df_test = df_k200.iloc[-n_test:]"
   ]
  },
  {
   "cell_type": "code",
   "execution_count": 14,
   "id": "af85bd3b-a440-46b5-87c7-b922b6918ef6",
   "metadata": {},
   "outputs": [],
   "source": [
    "kwargs_bm = dict(\n",
    "    initial_capital = 1e7,\n",
    "    commissions = 0,\n",
    "    align_axis = None, \n",
    "    days_in_year = 246,\n",
    "    asset_names = assetnames_k200\n",
    ")"
   ]
  },
  {
   "cell_type": "code",
   "execution_count": 15,
   "id": "9cd776f9-90cd-4131-b4a1-af037e092114",
   "metadata": {},
   "outputs": [
    {
     "name": "stdout",
     "output_type": "stream",
     "text": [
      "running self.util_check_days_in_year to check days in a year\n"
     ]
    }
   ],
   "source": [
    "bm = BacktestManager(df_train, **kwargs_bm)"
   ]
  },
  {
   "cell_type": "code",
   "execution_count": 16,
   "id": "9b161aba-8e39-48ae-8e01-c1b8032d2e45",
   "metadata": {},
   "outputs": [
    {
     "name": "stdout",
     "output_type": "stream",
     "text": [
      "Benchmark is KODEX200\n"
     ]
    }
   ],
   "source": [
    "bm.benchmark_ticker()"
   ]
  },
  {
   "cell_type": "code",
   "execution_count": 17,
   "id": "cb0578fe-c0b4-4d47-9736-3fdcda64fdc7",
   "metadata": {},
   "outputs": [],
   "source": [
    "from itertools import product\n",
    "\n",
    "params = dict(\n",
    "    #p_fr = ['PER', 'PBR', 'PER+PBR'],\n",
    "    p_fr = ['PER', 'PBR'],\n",
    "    p_ast = [5, 10, 20, 30],\n",
    "    p_freq = [130, 250, 500],\n",
    "    p_lb = [0, 5, 10, 20, 30, 60]\n",
    ")\n",
    "p_comb = list(product(*params.values()))\n",
    "kwa_list = [{'name':f'{x[0]}:a{x[1]}/f{x[2]}/lb{x[3]}',\n",
    "             'df_ratio':fratios_dict[x[0]], 'n_assets':x[1], 'freq':x[2], 'lookback':x[3]} \n",
    "            for x in p_comb]\n",
    "\n",
    "kwargs_build = dict(\n",
    "    select='F-ratio', weigh='Equally', ratio_descending=False\n",
    ")\n",
    "bm.build_batch(*kwa_list, **kwargs_build)"
   ]
  },
  {
   "cell_type": "code",
   "execution_count": 18,
   "id": "efae142d-367d-405f-bff7-e240c91db207",
   "metadata": {},
   "outputs": [
    {
     "name": "stdout",
     "output_type": "stream",
     "text": [
      "Backtesting 145 strategies: KODEX200, PER:a5/f130/lb0, ... , PBR:a30/f500/lb60\n"
     ]
    },
    {
     "name": "stderr",
     "output_type": "stream",
     "text": [
      "100%|█████████████████████████████████████████████████████████████| 145/145 [02:39<00:00,  1.10s/it]\n"
     ]
    },
    {
     "name": "stdout",
     "output_type": "stream",
     "text": [
      "Returning stats\n"
     ]
    },
    {
     "data": {
      "text/html": [
       "<div>\n",
       "<style scoped>\n",
       "    .dataframe tbody tr th:only-of-type {\n",
       "        vertical-align: middle;\n",
       "    }\n",
       "\n",
       "    .dataframe tbody tr th {\n",
       "        vertical-align: top;\n",
       "    }\n",
       "\n",
       "    .dataframe thead th {\n",
       "        text-align: right;\n",
       "    }\n",
       "</style>\n",
       "<table border=\"1\" class=\"dataframe\">\n",
       "  <thead>\n",
       "    <tr style=\"text-align: right;\">\n",
       "      <th></th>\n",
       "      <th>PER:a5/f500/lb0</th>\n",
       "      <th>PER:a5/f500/lb5</th>\n",
       "      <th>PER:a5/f500/lb10</th>\n",
       "      <th>PER:a5/f500/lb30</th>\n",
       "      <th>PER:a5/f130/lb10</th>\n",
       "    </tr>\n",
       "  </thead>\n",
       "  <tbody>\n",
       "    <tr>\n",
       "      <th>start</th>\n",
       "      <td>2017-05-09</td>\n",
       "      <td>2017-05-09</td>\n",
       "      <td>2017-05-09</td>\n",
       "      <td>2017-05-09</td>\n",
       "      <td>2017-05-09</td>\n",
       "    </tr>\n",
       "    <tr>\n",
       "      <th>end</th>\n",
       "      <td>2022-06-24</td>\n",
       "      <td>2022-06-24</td>\n",
       "      <td>2022-06-24</td>\n",
       "      <td>2022-06-24</td>\n",
       "      <td>2022-06-24</td>\n",
       "    </tr>\n",
       "    <tr>\n",
       "      <th>total_return</th>\n",
       "      <td>1.869966</td>\n",
       "      <td>1.869966</td>\n",
       "      <td>1.501494</td>\n",
       "      <td>1.243397</td>\n",
       "      <td>1.296179</td>\n",
       "    </tr>\n",
       "    <tr>\n",
       "      <th>cagr</th>\n",
       "      <td>0.228393</td>\n",
       "      <td>0.228393</td>\n",
       "      <td>0.195896</td>\n",
       "      <td>0.170755</td>\n",
       "      <td>0.176079</td>\n",
       "    </tr>\n",
       "    <tr>\n",
       "      <th>calmar</th>\n",
       "      <td>0.544341</td>\n",
       "      <td>0.544341</td>\n",
       "      <td>0.46689</td>\n",
       "      <td>0.37943</td>\n",
       "      <td>0.335116</td>\n",
       "    </tr>\n",
       "    <tr>\n",
       "      <th>max_drawdown</th>\n",
       "      <td>-0.419577</td>\n",
       "      <td>-0.419577</td>\n",
       "      <td>-0.419577</td>\n",
       "      <td>-0.450031</td>\n",
       "      <td>-0.525428</td>\n",
       "    </tr>\n",
       "    <tr>\n",
       "      <th>avg_drawdown</th>\n",
       "      <td>-0.054061</td>\n",
       "      <td>-0.054061</td>\n",
       "      <td>-0.048832</td>\n",
       "      <td>-0.056934</td>\n",
       "      <td>-0.045914</td>\n",
       "    </tr>\n",
       "    <tr>\n",
       "      <th>avg_drawdown_days</th>\n",
       "      <td>34.28</td>\n",
       "      <td>34.28</td>\n",
       "      <td>36.808511</td>\n",
       "      <td>32.679245</td>\n",
       "      <td>30.696429</td>\n",
       "    </tr>\n",
       "    <tr>\n",
       "      <th>daily_vol</th>\n",
       "      <td>0.267809</td>\n",
       "      <td>0.267809</td>\n",
       "      <td>0.263329</td>\n",
       "      <td>0.318648</td>\n",
       "      <td>0.25059</td>\n",
       "    </tr>\n",
       "    <tr>\n",
       "      <th>daily_sharpe</th>\n",
       "      <td>0.92066</td>\n",
       "      <td>0.92066</td>\n",
       "      <td>0.827453</td>\n",
       "      <td>0.665237</td>\n",
       "      <td>0.788417</td>\n",
       "    </tr>\n",
       "    <tr>\n",
       "      <th>daily_sortino</th>\n",
       "      <td>1.59039</td>\n",
       "      <td>1.59039</td>\n",
       "      <td>1.424263</td>\n",
       "      <td>1.125435</td>\n",
       "      <td>1.309821</td>\n",
       "    </tr>\n",
       "    <tr>\n",
       "      <th>monthly_vol</th>\n",
       "      <td>0.267968</td>\n",
       "      <td>0.267968</td>\n",
       "      <td>0.259743</td>\n",
       "      <td>0.24192</td>\n",
       "      <td>0.274186</td>\n",
       "    </tr>\n",
       "    <tr>\n",
       "      <th>monthly_sharpe</th>\n",
       "      <td>0.876514</td>\n",
       "      <td>0.876514</td>\n",
       "      <td>0.791098</td>\n",
       "      <td>0.744081</td>\n",
       "      <td>0.699999</td>\n",
       "    </tr>\n",
       "    <tr>\n",
       "      <th>monthly_sortino</th>\n",
       "      <td>1.904657</td>\n",
       "      <td>1.904657</td>\n",
       "      <td>1.628934</td>\n",
       "      <td>1.389508</td>\n",
       "      <td>1.404919</td>\n",
       "    </tr>\n",
       "  </tbody>\n",
       "</table>\n",
       "</div>"
      ],
      "text/plain": [
       "                  PER:a5/f500/lb0 PER:a5/f500/lb5 PER:a5/f500/lb10  \\\n",
       "start                  2017-05-09      2017-05-09       2017-05-09   \n",
       "end                    2022-06-24      2022-06-24       2022-06-24   \n",
       "total_return             1.869966        1.869966         1.501494   \n",
       "cagr                     0.228393        0.228393         0.195896   \n",
       "calmar                   0.544341        0.544341          0.46689   \n",
       "max_drawdown            -0.419577       -0.419577        -0.419577   \n",
       "avg_drawdown            -0.054061       -0.054061        -0.048832   \n",
       "avg_drawdown_days           34.28           34.28        36.808511   \n",
       "daily_vol                0.267809        0.267809         0.263329   \n",
       "daily_sharpe              0.92066         0.92066         0.827453   \n",
       "daily_sortino             1.59039         1.59039         1.424263   \n",
       "monthly_vol              0.267968        0.267968         0.259743   \n",
       "monthly_sharpe           0.876514        0.876514         0.791098   \n",
       "monthly_sortino          1.904657        1.904657         1.628934   \n",
       "\n",
       "                  PER:a5/f500/lb30 PER:a5/f130/lb10  \n",
       "start                   2017-05-09       2017-05-09  \n",
       "end                     2022-06-24       2022-06-24  \n",
       "total_return              1.243397         1.296179  \n",
       "cagr                      0.170755         0.176079  \n",
       "calmar                     0.37943         0.335116  \n",
       "max_drawdown             -0.450031        -0.525428  \n",
       "avg_drawdown             -0.056934        -0.045914  \n",
       "avg_drawdown_days        32.679245        30.696429  \n",
       "daily_vol                 0.318648          0.25059  \n",
       "daily_sharpe              0.665237         0.788417  \n",
       "daily_sortino             1.125435         1.309821  \n",
       "monthly_vol                0.24192         0.274186  \n",
       "monthly_sharpe            0.744081         0.699999  \n",
       "monthly_sortino           1.389508         1.404919  "
      ]
     },
     "execution_count": 18,
     "metadata": {},
     "output_type": "execute_result"
    }
   ],
   "source": [
    "df_res = bm.run(stats_sort_by='monthly_sharpe', plot=False)\n",
    "df_res.iloc[:, :5]"
   ]
  },
  {
   "cell_type": "code",
   "execution_count": 26,
   "id": "7b955502-0c2f-41ef-bcae-6b830a4a9d94",
   "metadata": {},
   "outputs": [
    {
     "data": {
      "text/html": [
       "<div>\n",
       "<style scoped>\n",
       "    .dataframe tbody tr th:only-of-type {\n",
       "        vertical-align: middle;\n",
       "    }\n",
       "\n",
       "    .dataframe tbody tr th {\n",
       "        vertical-align: top;\n",
       "    }\n",
       "\n",
       "    .dataframe thead th {\n",
       "        text-align: right;\n",
       "    }\n",
       "</style>\n",
       "<table border=\"1\" class=\"dataframe\">\n",
       "  <thead>\n",
       "    <tr style=\"text-align: right;\">\n",
       "      <th></th>\n",
       "      <th>PER:a5/f500/lb0</th>\n",
       "      <th>PER:a5/f500/lb5</th>\n",
       "      <th>PER:a5/f500/lb10</th>\n",
       "      <th>PER:a5/f500/lb30</th>\n",
       "      <th>PER:a5/f130/lb10</th>\n",
       "      <th>PER:a5/f130/lb0</th>\n",
       "      <th>PER:a5/f130/lb5</th>\n",
       "    </tr>\n",
       "  </thead>\n",
       "  <tbody>\n",
       "    <tr>\n",
       "      <th>total_return</th>\n",
       "      <td>1.869966</td>\n",
       "      <td>1.869966</td>\n",
       "      <td>1.501494</td>\n",
       "      <td>1.243397</td>\n",
       "      <td>1.296179</td>\n",
       "      <td>1.286074</td>\n",
       "      <td>1.286074</td>\n",
       "    </tr>\n",
       "    <tr>\n",
       "      <th>cagr</th>\n",
       "      <td>0.228393</td>\n",
       "      <td>0.228393</td>\n",
       "      <td>0.195896</td>\n",
       "      <td>0.170755</td>\n",
       "      <td>0.176079</td>\n",
       "      <td>0.175068</td>\n",
       "      <td>0.175068</td>\n",
       "    </tr>\n",
       "    <tr>\n",
       "      <th>monthly_vol</th>\n",
       "      <td>0.267968</td>\n",
       "      <td>0.267968</td>\n",
       "      <td>0.259743</td>\n",
       "      <td>0.24192</td>\n",
       "      <td>0.274186</td>\n",
       "      <td>0.273472</td>\n",
       "      <td>0.273472</td>\n",
       "    </tr>\n",
       "    <tr>\n",
       "      <th>monthly_sharpe</th>\n",
       "      <td>0.876514</td>\n",
       "      <td>0.876514</td>\n",
       "      <td>0.791098</td>\n",
       "      <td>0.744081</td>\n",
       "      <td>0.699999</td>\n",
       "      <td>0.697944</td>\n",
       "      <td>0.697944</td>\n",
       "    </tr>\n",
       "    <tr>\n",
       "      <th>max_drawdown</th>\n",
       "      <td>-0.419577</td>\n",
       "      <td>-0.419577</td>\n",
       "      <td>-0.419577</td>\n",
       "      <td>-0.450031</td>\n",
       "      <td>-0.525428</td>\n",
       "      <td>-0.524978</td>\n",
       "      <td>-0.524978</td>\n",
       "    </tr>\n",
       "    <tr>\n",
       "      <th>avg_drawdown</th>\n",
       "      <td>-0.054061</td>\n",
       "      <td>-0.054061</td>\n",
       "      <td>-0.048832</td>\n",
       "      <td>-0.056934</td>\n",
       "      <td>-0.045914</td>\n",
       "      <td>-0.047307</td>\n",
       "      <td>-0.047307</td>\n",
       "    </tr>\n",
       "    <tr>\n",
       "      <th>avg_drawdown_days</th>\n",
       "      <td>34.28</td>\n",
       "      <td>34.28</td>\n",
       "      <td>36.808511</td>\n",
       "      <td>32.679245</td>\n",
       "      <td>30.696429</td>\n",
       "      <td>31.981481</td>\n",
       "      <td>31.981481</td>\n",
       "    </tr>\n",
       "  </tbody>\n",
       "</table>\n",
       "</div>"
      ],
      "text/plain": [
       "                  PER:a5/f500/lb0 PER:a5/f500/lb5 PER:a5/f500/lb10  \\\n",
       "total_return             1.869966        1.869966         1.501494   \n",
       "cagr                     0.228393        0.228393         0.195896   \n",
       "monthly_vol              0.267968        0.267968         0.259743   \n",
       "monthly_sharpe           0.876514        0.876514         0.791098   \n",
       "max_drawdown            -0.419577       -0.419577        -0.419577   \n",
       "avg_drawdown            -0.054061       -0.054061        -0.048832   \n",
       "avg_drawdown_days           34.28           34.28        36.808511   \n",
       "\n",
       "                  PER:a5/f500/lb30 PER:a5/f130/lb10 PER:a5/f130/lb0  \\\n",
       "total_return              1.243397         1.296179        1.286074   \n",
       "cagr                      0.170755         0.176079        0.175068   \n",
       "monthly_vol                0.24192         0.274186        0.273472   \n",
       "monthly_sharpe            0.744081         0.699999        0.697944   \n",
       "max_drawdown             -0.450031        -0.525428       -0.524978   \n",
       "avg_drawdown             -0.056934        -0.045914       -0.047307   \n",
       "avg_drawdown_days        32.679245        30.696429       31.981481   \n",
       "\n",
       "                  PER:a5/f130/lb5  \n",
       "total_return             1.286074  \n",
       "cagr                     0.175068  \n",
       "monthly_vol              0.273472  \n",
       "monthly_sharpe           0.697944  \n",
       "max_drawdown            -0.524978  \n",
       "avg_drawdown            -0.047307  \n",
       "avg_drawdown_days       31.981481  "
      ]
     },
     "execution_count": 26,
     "metadata": {},
     "output_type": "execute_result"
    }
   ],
   "source": [
    "df_res.loc[metrics2].iloc[:,:7]"
   ]
  },
  {
   "cell_type": "code",
   "execution_count": 27,
   "id": "ef4923da-4af7-4eba-9847-933a4acf391c",
   "metadata": {
    "scrolled": true
   },
   "outputs": [
    {
     "data": {
      "text/plain": [
       "0) KODEX200\n",
       "1) PER:a5/f130/lb0\n",
       "2) PER:a5/f130/lb5\n",
       "3) PER:a5/f130/lb10\n",
       "4) PER:a5/f130/lb20\n",
       "5) PER:a5/f130/lb30\n",
       "6) PER:a5/f130/lb60\n",
       "7) PER:a5/f250/lb0\n",
       "8) PER:a5/f250/lb5\n",
       "9) PER:a5/f250/lb10\n",
       "10) PER:a5/f250/lb20\n",
       "11) PER:a5/f250/lb30\n",
       "12) PER:a5/f250/lb60\n",
       "13) PER:a5/f500/lb0\n",
       "14) PER:a5/f500/lb5\n",
       "15) PER:a5/f500/lb10\n",
       "16) PER:a5/f500/lb20\n",
       "17) PER:a5/f500/lb30\n",
       "18) PER:a5/f500/lb60\n",
       "19) PER:a10/f130/lb0\n",
       "20) PER:a10/f130/lb5\n",
       "21) PER:a10/f130/lb10\n",
       "22) PER:a10/f130/lb20\n",
       "23) PER:a10/f130/lb30\n",
       "24) PER:a10/f130/lb60\n",
       "25) PER:a10/f250/lb0\n",
       "26) PER:a10/f250/lb5\n",
       "27) PER:a10/f250/lb10\n",
       "28) PER:a10/f250/lb20\n",
       "29) PER:a10/f250/lb30\n",
       "30) PER:a10/f250/lb60\n",
       "31) PER:a10/f500/lb0\n",
       "32) PER:a10/f500/lb5\n",
       "33) PER:a10/f500/lb10\n",
       "34) PER:a10/f500/lb20\n",
       "35) PER:a10/f500/lb30\n",
       "36) PER:a10/f500/lb60\n",
       "37) PER:a20/f130/lb0\n",
       "38) PER:a20/f130/lb5\n",
       "39) PER:a20/f130/lb10\n",
       "40) PER:a20/f130/lb20\n",
       "41) PER:a20/f130/lb30\n",
       "42) PER:a20/f130/lb60\n",
       "43) PER:a20/f250/lb0\n",
       "44) PER:a20/f250/lb5\n",
       "45) PER:a20/f250/lb10\n",
       "46) PER:a20/f250/lb20\n",
       "47) PER:a20/f250/lb30\n",
       "48) PER:a20/f250/lb60\n",
       "49) PER:a20/f500/lb0\n",
       "50) PER:a20/f500/lb5\n",
       "51) PER:a20/f500/lb10\n",
       "52) PER:a20/f500/lb20\n",
       "53) PER:a20/f500/lb30\n",
       "54) PER:a20/f500/lb60\n",
       "55) PER:a30/f130/lb0\n",
       "56) PER:a30/f130/lb5\n",
       "57) PER:a30/f130/lb10\n",
       "58) PER:a30/f130/lb20\n",
       "59) PER:a30/f130/lb30\n",
       "60) PER:a30/f130/lb60\n",
       "61) PER:a30/f250/lb0\n",
       "62) PER:a30/f250/lb5\n",
       "63) PER:a30/f250/lb10\n",
       "64) PER:a30/f250/lb20\n",
       "65) PER:a30/f250/lb30\n",
       "66) PER:a30/f250/lb60\n",
       "67) PER:a30/f500/lb0\n",
       "68) PER:a30/f500/lb5\n",
       "69) PER:a30/f500/lb10\n",
       "70) PER:a30/f500/lb20\n",
       "71) PER:a30/f500/lb30\n",
       "72) PER:a30/f500/lb60\n",
       "73) PBR:a5/f130/lb0\n",
       "74) PBR:a5/f130/lb5\n",
       "75) PBR:a5/f130/lb10\n",
       "76) PBR:a5/f130/lb20\n",
       "77) PBR:a5/f130/lb30\n",
       "78) PBR:a5/f130/lb60\n",
       "79) PBR:a5/f250/lb0\n",
       "80) PBR:a5/f250/lb5\n",
       "81) PBR:a5/f250/lb10\n",
       "82) PBR:a5/f250/lb20\n",
       "83) PBR:a5/f250/lb30\n",
       "84) PBR:a5/f250/lb60\n",
       "85) PBR:a5/f500/lb0\n",
       "86) PBR:a5/f500/lb5\n",
       "87) PBR:a5/f500/lb10\n",
       "88) PBR:a5/f500/lb20\n",
       "89) PBR:a5/f500/lb30\n",
       "90) PBR:a5/f500/lb60\n",
       "91) PBR:a10/f130/lb0\n",
       "92) PBR:a10/f130/lb5\n",
       "93) PBR:a10/f130/lb10\n",
       "94) PBR:a10/f130/lb20\n",
       "95) PBR:a10/f130/lb30\n",
       "96) PBR:a10/f130/lb60\n",
       "97) PBR:a10/f250/lb0\n",
       "98) PBR:a10/f250/lb5\n",
       "99) PBR:a10/f250/lb10\n",
       "100) PBR:a10/f250/lb20\n",
       "101) PBR:a10/f250/lb30\n",
       "102) PBR:a10/f250/lb60\n",
       "103) PBR:a10/f500/lb0\n",
       "104) PBR:a10/f500/lb5\n",
       "105) PBR:a10/f500/lb10\n",
       "106) PBR:a10/f500/lb20\n",
       "107) PBR:a10/f500/lb30\n",
       "108) PBR:a10/f500/lb60\n",
       "109) PBR:a20/f130/lb0\n",
       "110) PBR:a20/f130/lb5\n",
       "111) PBR:a20/f130/lb10\n",
       "112) PBR:a20/f130/lb20\n",
       "113) PBR:a20/f130/lb30\n",
       "114) PBR:a20/f130/lb60\n",
       "115) PBR:a20/f250/lb0\n",
       "116) PBR:a20/f250/lb5\n",
       "117) PBR:a20/f250/lb10\n",
       "118) PBR:a20/f250/lb20\n",
       "119) PBR:a20/f250/lb30\n",
       "120) PBR:a20/f250/lb60\n",
       "121) PBR:a20/f500/lb0\n",
       "122) PBR:a20/f500/lb5\n",
       "123) PBR:a20/f500/lb10\n",
       "124) PBR:a20/f500/lb20\n",
       "125) PBR:a20/f500/lb30\n",
       "126) PBR:a20/f500/lb60\n",
       "127) PBR:a30/f130/lb0\n",
       "128) PBR:a30/f130/lb5\n",
       "129) PBR:a30/f130/lb10\n",
       "130) PBR:a30/f130/lb20\n",
       "131) PBR:a30/f130/lb30\n",
       "132) PBR:a30/f130/lb60\n",
       "133) PBR:a30/f250/lb0\n",
       "134) PBR:a30/f250/lb5\n",
       "135) PBR:a30/f250/lb10\n",
       "136) PBR:a30/f250/lb20\n",
       "137) PBR:a30/f250/lb30\n",
       "138) PBR:a30/f250/lb60\n",
       "139) PBR:a30/f500/lb0\n",
       "140) PBR:a30/f500/lb5\n",
       "141) PBR:a30/f500/lb10\n",
       "142) PBR:a30/f500/lb20\n",
       "143) PBR:a30/f500/lb30\n",
       "144) PBR:a30/f500/lb60"
      ]
     },
     "execution_count": 27,
     "metadata": {},
     "output_type": "execute_result"
    }
   ],
   "source": [
    "bm.portfolios"
   ]
  },
  {
   "cell_type": "code",
   "execution_count": 29,
   "id": "c74bf4f4-cfcb-47e3-80d1-6c6805934027",
   "metadata": {},
   "outputs": [
    {
     "data": {
      "text/html": [
       "<div>\n",
       "<style scoped>\n",
       "    .dataframe tbody tr th:only-of-type {\n",
       "        vertical-align: middle;\n",
       "    }\n",
       "\n",
       "    .dataframe tbody tr th {\n",
       "        vertical-align: top;\n",
       "    }\n",
       "\n",
       "    .dataframe thead th {\n",
       "        text-align: right;\n",
       "    }\n",
       "</style>\n",
       "<table border=\"1\" class=\"dataframe\">\n",
       "  <thead>\n",
       "    <tr style=\"text-align: right;\">\n",
       "      <th></th>\n",
       "      <th>KODEX200</th>\n",
       "      <th>PER:a5/f130/lb0</th>\n",
       "      <th>PER:a5/f130/lb10</th>\n",
       "      <th>PER:a5/f130/lb20</th>\n",
       "      <th>PER:a5/f500/lb0</th>\n",
       "      <th>PER:a5/f500/lb10</th>\n",
       "      <th>PER:a5/f500/lb20</th>\n",
       "    </tr>\n",
       "  </thead>\n",
       "  <tbody>\n",
       "    <tr>\n",
       "      <th>start</th>\n",
       "      <td>2017-05-09</td>\n",
       "      <td>2017-05-09</td>\n",
       "      <td>2017-05-09</td>\n",
       "      <td>2017-05-09</td>\n",
       "      <td>2017-05-09</td>\n",
       "      <td>2017-05-09</td>\n",
       "      <td>2017-05-09</td>\n",
       "    </tr>\n",
       "    <tr>\n",
       "      <th>end</th>\n",
       "      <td>2022-06-24</td>\n",
       "      <td>2022-06-24</td>\n",
       "      <td>2022-06-24</td>\n",
       "      <td>2022-06-24</td>\n",
       "      <td>2022-06-24</td>\n",
       "      <td>2022-06-24</td>\n",
       "      <td>2022-06-24</td>\n",
       "    </tr>\n",
       "    <tr>\n",
       "      <th>total_return</th>\n",
       "      <td>0.166881</td>\n",
       "      <td>1.286074</td>\n",
       "      <td>1.296179</td>\n",
       "      <td>1.229889</td>\n",
       "      <td>1.869966</td>\n",
       "      <td>1.501494</td>\n",
       "      <td>1.25775</td>\n",
       "    </tr>\n",
       "    <tr>\n",
       "      <th>cagr</th>\n",
       "      <td>0.03057</td>\n",
       "      <td>0.175068</td>\n",
       "      <td>0.176079</td>\n",
       "      <td>0.169376</td>\n",
       "      <td>0.228393</td>\n",
       "      <td>0.195896</td>\n",
       "      <td>0.172213</td>\n",
       "    </tr>\n",
       "    <tr>\n",
       "      <th>calmar</th>\n",
       "      <td>0.08037</td>\n",
       "      <td>0.333477</td>\n",
       "      <td>0.335116</td>\n",
       "      <td>0.322635</td>\n",
       "      <td>0.544341</td>\n",
       "      <td>0.46689</td>\n",
       "      <td>0.323109</td>\n",
       "    </tr>\n",
       "    <tr>\n",
       "      <th>max_drawdown</th>\n",
       "      <td>-0.38037</td>\n",
       "      <td>-0.524978</td>\n",
       "      <td>-0.525428</td>\n",
       "      <td>-0.524978</td>\n",
       "      <td>-0.419577</td>\n",
       "      <td>-0.419577</td>\n",
       "      <td>-0.532987</td>\n",
       "    </tr>\n",
       "    <tr>\n",
       "      <th>avg_drawdown</th>\n",
       "      <td>-0.038662</td>\n",
       "      <td>-0.047307</td>\n",
       "      <td>-0.045914</td>\n",
       "      <td>-0.049667</td>\n",
       "      <td>-0.054061</td>\n",
       "      <td>-0.048832</td>\n",
       "      <td>-0.049558</td>\n",
       "    </tr>\n",
       "    <tr>\n",
       "      <th>avg_drawdown_days</th>\n",
       "      <td>55.28125</td>\n",
       "      <td>31.981481</td>\n",
       "      <td>30.696429</td>\n",
       "      <td>34.64</td>\n",
       "      <td>34.28</td>\n",
       "      <td>36.808511</td>\n",
       "      <td>39.863636</td>\n",
       "    </tr>\n",
       "    <tr>\n",
       "      <th>daily_vol</th>\n",
       "      <td>0.187578</td>\n",
       "      <td>0.251767</td>\n",
       "      <td>0.25059</td>\n",
       "      <td>0.251217</td>\n",
       "      <td>0.267809</td>\n",
       "      <td>0.263329</td>\n",
       "      <td>0.269621</td>\n",
       "    </tr>\n",
       "    <tr>\n",
       "      <th>daily_sharpe</th>\n",
       "      <td>0.258084</td>\n",
       "      <td>0.782393</td>\n",
       "      <td>0.788417</td>\n",
       "      <td>0.763747</td>\n",
       "      <td>0.92066</td>\n",
       "      <td>0.827453</td>\n",
       "      <td>0.738391</td>\n",
       "    </tr>\n",
       "    <tr>\n",
       "      <th>daily_sortino</th>\n",
       "      <td>0.415633</td>\n",
       "      <td>1.301748</td>\n",
       "      <td>1.309821</td>\n",
       "      <td>1.271715</td>\n",
       "      <td>1.59039</td>\n",
       "      <td>1.424263</td>\n",
       "      <td>1.265613</td>\n",
       "    </tr>\n",
       "    <tr>\n",
       "      <th>monthly_vol</th>\n",
       "      <td>0.185062</td>\n",
       "      <td>0.273472</td>\n",
       "      <td>0.274186</td>\n",
       "      <td>0.271091</td>\n",
       "      <td>0.267968</td>\n",
       "      <td>0.259743</td>\n",
       "      <td>0.282387</td>\n",
       "    </tr>\n",
       "    <tr>\n",
       "      <th>monthly_sharpe</th>\n",
       "      <td>0.223819</td>\n",
       "      <td>0.697944</td>\n",
       "      <td>0.699999</td>\n",
       "      <td>0.683752</td>\n",
       "      <td>0.876514</td>\n",
       "      <td>0.791098</td>\n",
       "      <td>0.675614</td>\n",
       "    </tr>\n",
       "    <tr>\n",
       "      <th>monthly_sortino</th>\n",
       "      <td>0.391036</td>\n",
       "      <td>1.399366</td>\n",
       "      <td>1.404919</td>\n",
       "      <td>1.348361</td>\n",
       "      <td>1.904657</td>\n",
       "      <td>1.628934</td>\n",
       "      <td>1.370552</td>\n",
       "    </tr>\n",
       "  </tbody>\n",
       "</table>\n",
       "</div>"
      ],
      "text/plain": [
       "                     KODEX200 PER:a5/f130/lb0 PER:a5/f130/lb10  \\\n",
       "start              2017-05-09      2017-05-09       2017-05-09   \n",
       "end                2022-06-24      2022-06-24       2022-06-24   \n",
       "total_return         0.166881        1.286074         1.296179   \n",
       "cagr                  0.03057        0.175068         0.176079   \n",
       "calmar                0.08037        0.333477         0.335116   \n",
       "max_drawdown         -0.38037       -0.524978        -0.525428   \n",
       "avg_drawdown        -0.038662       -0.047307        -0.045914   \n",
       "avg_drawdown_days    55.28125       31.981481        30.696429   \n",
       "daily_vol            0.187578        0.251767          0.25059   \n",
       "daily_sharpe         0.258084        0.782393         0.788417   \n",
       "daily_sortino        0.415633        1.301748         1.309821   \n",
       "monthly_vol          0.185062        0.273472         0.274186   \n",
       "monthly_sharpe       0.223819        0.697944         0.699999   \n",
       "monthly_sortino      0.391036        1.399366         1.404919   \n",
       "\n",
       "                  PER:a5/f130/lb20 PER:a5/f500/lb0 PER:a5/f500/lb10  \\\n",
       "start                   2017-05-09      2017-05-09       2017-05-09   \n",
       "end                     2022-06-24      2022-06-24       2022-06-24   \n",
       "total_return              1.229889        1.869966         1.501494   \n",
       "cagr                      0.169376        0.228393         0.195896   \n",
       "calmar                    0.322635        0.544341          0.46689   \n",
       "max_drawdown             -0.524978       -0.419577        -0.419577   \n",
       "avg_drawdown             -0.049667       -0.054061        -0.048832   \n",
       "avg_drawdown_days            34.64           34.28        36.808511   \n",
       "daily_vol                 0.251217        0.267809         0.263329   \n",
       "daily_sharpe              0.763747         0.92066         0.827453   \n",
       "daily_sortino             1.271715         1.59039         1.424263   \n",
       "monthly_vol               0.271091        0.267968         0.259743   \n",
       "monthly_sharpe            0.683752        0.876514         0.791098   \n",
       "monthly_sortino           1.348361        1.904657         1.628934   \n",
       "\n",
       "                  PER:a5/f500/lb20  \n",
       "start                   2017-05-09  \n",
       "end                     2022-06-24  \n",
       "total_return               1.25775  \n",
       "cagr                      0.172213  \n",
       "calmar                    0.323109  \n",
       "max_drawdown             -0.532987  \n",
       "avg_drawdown             -0.049558  \n",
       "avg_drawdown_days        39.863636  \n",
       "daily_vol                 0.269621  \n",
       "daily_sharpe              0.738391  \n",
       "daily_sortino             1.265613  \n",
       "monthly_vol               0.282387  \n",
       "monthly_sharpe            0.675614  \n",
       "monthly_sortino           1.370552  "
      ]
     },
     "execution_count": 29,
     "metadata": {},
     "output_type": "execute_result"
    }
   ],
   "source": [
    "pf_list = [0, 1, 3, 4, 13, 15, 16]\n",
    "#pf_list = list(range(7))\n",
    "#bm.get_stats(pf_list, sort_by='monthly_sharpe')\n",
    "bm.get_stats(pf_list)"
   ]
  },
  {
   "cell_type": "code",
   "execution_count": 30,
   "id": "59cc4bd9-84bc-4144-9f0c-fb70bf955ffb",
   "metadata": {},
   "outputs": [
    {
     "data": {
      "image/png": "[encoded data removed]",
      "text/plain": [
       "<Figure size 900x400 with 1 Axes>"
      ]
     },
     "metadata": {},
     "output_type": "display_data"
    }
   ],
   "source": [
    "_ = bm.plot(pf_list, figsize=(9,4))"
   ]
  },
  {
   "cell_type": "markdown",
   "id": "43092efa-d491-4dc4-b195-11ad0df10314",
   "metadata": {},
   "source": [
    "### Validation"
   ]
  },
  {
   "cell_type": "code",
   "execution_count": 42,
   "id": "91179db9-1420-4cb7-be04-afa3694953eb",
   "metadata": {},
   "outputs": [
    {
     "name": "stdout",
     "output_type": "stream",
     "text": [
      "running self.util_check_days_in_year to check days in a year\n",
      "Benchmark is KODEX200\n"
     ]
    }
   ],
   "source": [
    "bm = BacktestManager(df_test, **kwargs_bm)\n",
    "bm.benchmark_ticker()"
   ]
  },
  {
   "cell_type": "code",
   "execution_count": 32,
   "id": "23bc7919-cd61-40f7-b550-6d150982a840",
   "metadata": {},
   "outputs": [
    {
     "name": "stdout",
     "output_type": "stream",
     "text": [
      "Backtesting 145 strategies: KODEX200, PER:a5/f130/lb0, ... , PBR:a30/f500/lb60\n"
     ]
    },
    {
     "name": "stderr",
     "output_type": "stream",
     "text": [
      "100%|█████████████████████████████████████████████████████████████| 145/145 [00:08<00:00, 16.66it/s]\n"
     ]
    },
    {
     "name": "stdout",
     "output_type": "stream",
     "text": [
      "Returning stats\n"
     ]
    }
   ],
   "source": [
    "from itertools import product\n",
    "\n",
    "params = dict(\n",
    "    p_fr = ['PER'],\n",
    "    p_ast = [5],\n",
    "    p_freq = [130, 250, 500],\n",
    "    p_lb = [0, 5, 10]\n",
    ")\n",
    "p_comb = list(product(*params.values()))\n",
    "kwa_list = [{'name':f'{x[0]}:a{x[1]}/f{x[2]}/lb{x[3]}',\n",
    "              'df_ratio':fratios_dict[x[0]], 'n_assets':x[1], 'freq':x[2], 'lookback':x[3]} \n",
    "            for x in p_comb]\n",
    "\n",
    "kwargs_build = dict(\n",
    "    select='F-ratio', weigh='Equally', ratio_descending=False\n",
    ")\n",
    "\n",
    "bm.build_batch(*kwa_list, **kwargs_build)\n",
    "df_res = bm.run(stats_sort_by='monthly_sharpe', plot=False)"
   ]
  },
  {
   "cell_type": "code",
   "execution_count": 33,
   "id": "55fc6670-9170-4926-9673-1925325b5f94",
   "metadata": {},
   "outputs": [
    {
     "data": {
      "text/html": [
       "<div>\n",
       "<style scoped>\n",
       "    .dataframe tbody tr th:only-of-type {\n",
       "        vertical-align: middle;\n",
       "    }\n",
       "\n",
       "    .dataframe tbody tr th {\n",
       "        vertical-align: top;\n",
       "    }\n",
       "\n",
       "    .dataframe thead th {\n",
       "        text-align: right;\n",
       "    }\n",
       "</style>\n",
       "<table border=\"1\" class=\"dataframe\">\n",
       "  <thead>\n",
       "    <tr style=\"text-align: right;\">\n",
       "      <th></th>\n",
       "      <th>PER:a5/f500/lb0</th>\n",
       "      <th>PER:a5/f500/lb5</th>\n",
       "      <th>PER:a5/f500/lb10</th>\n",
       "      <th>PER:a5/f500/lb30</th>\n",
       "      <th>PER:a5/f130/lb10</th>\n",
       "    </tr>\n",
       "  </thead>\n",
       "  <tbody>\n",
       "    <tr>\n",
       "      <th>start</th>\n",
       "      <td>2017-05-09</td>\n",
       "      <td>2017-05-09</td>\n",
       "      <td>2017-05-09</td>\n",
       "      <td>2017-05-09</td>\n",
       "      <td>2017-05-09</td>\n",
       "    </tr>\n",
       "    <tr>\n",
       "      <th>end</th>\n",
       "      <td>2022-06-24</td>\n",
       "      <td>2022-06-24</td>\n",
       "      <td>2022-06-24</td>\n",
       "      <td>2022-06-24</td>\n",
       "      <td>2022-06-24</td>\n",
       "    </tr>\n",
       "    <tr>\n",
       "      <th>total_return</th>\n",
       "      <td>1.869966</td>\n",
       "      <td>1.869966</td>\n",
       "      <td>1.501494</td>\n",
       "      <td>1.243397</td>\n",
       "      <td>1.296179</td>\n",
       "    </tr>\n",
       "    <tr>\n",
       "      <th>cagr</th>\n",
       "      <td>0.228393</td>\n",
       "      <td>0.228393</td>\n",
       "      <td>0.195896</td>\n",
       "      <td>0.170755</td>\n",
       "      <td>0.176079</td>\n",
       "    </tr>\n",
       "    <tr>\n",
       "      <th>calmar</th>\n",
       "      <td>0.544341</td>\n",
       "      <td>0.544341</td>\n",
       "      <td>0.46689</td>\n",
       "      <td>0.37943</td>\n",
       "      <td>0.335116</td>\n",
       "    </tr>\n",
       "    <tr>\n",
       "      <th>max_drawdown</th>\n",
       "      <td>-0.419577</td>\n",
       "      <td>-0.419577</td>\n",
       "      <td>-0.419577</td>\n",
       "      <td>-0.450031</td>\n",
       "      <td>-0.525428</td>\n",
       "    </tr>\n",
       "    <tr>\n",
       "      <th>avg_drawdown</th>\n",
       "      <td>-0.054061</td>\n",
       "      <td>-0.054061</td>\n",
       "      <td>-0.048832</td>\n",
       "      <td>-0.056934</td>\n",
       "      <td>-0.045914</td>\n",
       "    </tr>\n",
       "    <tr>\n",
       "      <th>avg_drawdown_days</th>\n",
       "      <td>34.28</td>\n",
       "      <td>34.28</td>\n",
       "      <td>36.808511</td>\n",
       "      <td>32.679245</td>\n",
       "      <td>30.696429</td>\n",
       "    </tr>\n",
       "    <tr>\n",
       "      <th>daily_vol</th>\n",
       "      <td>0.267809</td>\n",
       "      <td>0.267809</td>\n",
       "      <td>0.263329</td>\n",
       "      <td>0.318648</td>\n",
       "      <td>0.25059</td>\n",
       "    </tr>\n",
       "    <tr>\n",
       "      <th>daily_sharpe</th>\n",
       "      <td>0.92066</td>\n",
       "      <td>0.92066</td>\n",
       "      <td>0.827453</td>\n",
       "      <td>0.665237</td>\n",
       "      <td>0.788417</td>\n",
       "    </tr>\n",
       "    <tr>\n",
       "      <th>daily_sortino</th>\n",
       "      <td>1.59039</td>\n",
       "      <td>1.59039</td>\n",
       "      <td>1.424263</td>\n",
       "      <td>1.125435</td>\n",
       "      <td>1.309821</td>\n",
       "    </tr>\n",
       "    <tr>\n",
       "      <th>monthly_vol</th>\n",
       "      <td>0.267968</td>\n",
       "      <td>0.267968</td>\n",
       "      <td>0.259743</td>\n",
       "      <td>0.24192</td>\n",
       "      <td>0.274186</td>\n",
       "    </tr>\n",
       "    <tr>\n",
       "      <th>monthly_sharpe</th>\n",
       "      <td>0.876514</td>\n",
       "      <td>0.876514</td>\n",
       "      <td>0.791098</td>\n",
       "      <td>0.744081</td>\n",
       "      <td>0.699999</td>\n",
       "    </tr>\n",
       "    <tr>\n",
       "      <th>monthly_sortino</th>\n",
       "      <td>1.904657</td>\n",
       "      <td>1.904657</td>\n",
       "      <td>1.628934</td>\n",
       "      <td>1.389508</td>\n",
       "      <td>1.404919</td>\n",
       "    </tr>\n",
       "  </tbody>\n",
       "</table>\n",
       "</div>"
      ],
      "text/plain": [
       "                  PER:a5/f500/lb0 PER:a5/f500/lb5 PER:a5/f500/lb10  \\\n",
       "start                  2017-05-09      2017-05-09       2017-05-09   \n",
       "end                    2022-06-24      2022-06-24       2022-06-24   \n",
       "total_return             1.869966        1.869966         1.501494   \n",
       "cagr                     0.228393        0.228393         0.195896   \n",
       "calmar                   0.544341        0.544341          0.46689   \n",
       "max_drawdown            -0.419577       -0.419577        -0.419577   \n",
       "avg_drawdown            -0.054061       -0.054061        -0.048832   \n",
       "avg_drawdown_days           34.28           34.28        36.808511   \n",
       "daily_vol                0.267809        0.267809         0.263329   \n",
       "daily_sharpe              0.92066         0.92066         0.827453   \n",
       "daily_sortino             1.59039         1.59039         1.424263   \n",
       "monthly_vol              0.267968        0.267968         0.259743   \n",
       "monthly_sharpe           0.876514        0.876514         0.791098   \n",
       "monthly_sortino          1.904657        1.904657         1.628934   \n",
       "\n",
       "                  PER:a5/f500/lb30 PER:a5/f130/lb10  \n",
       "start                   2017-05-09       2017-05-09  \n",
       "end                     2022-06-24       2022-06-24  \n",
       "total_return              1.243397         1.296179  \n",
       "cagr                      0.170755         0.176079  \n",
       "calmar                     0.37943         0.335116  \n",
       "max_drawdown             -0.450031        -0.525428  \n",
       "avg_drawdown             -0.056934        -0.045914  \n",
       "avg_drawdown_days        32.679245        30.696429  \n",
       "daily_vol                 0.318648          0.25059  \n",
       "daily_sharpe              0.665237         0.788417  \n",
       "daily_sortino             1.125435         1.309821  \n",
       "monthly_vol                0.24192         0.274186  \n",
       "monthly_sharpe            0.744081         0.699999  \n",
       "monthly_sortino           1.389508         1.404919  "
      ]
     },
     "execution_count": 33,
     "metadata": {},
     "output_type": "execute_result"
    }
   ],
   "source": [
    "df_res.iloc[:, :5]"
   ]
  },
  {
   "cell_type": "markdown",
   "id": "af36ff6b-78eb-413e-ad16-de01d333db98",
   "metadata": {},
   "source": [
    "## Cross-validation"
   ]
  },
  {
   "cell_type": "code",
   "execution_count": 34,
   "id": "1f052dcd-420a-4238-9f6b-a53008ca48ee",
   "metadata": {},
   "outputs": [],
   "source": [
    "n_test = 500\n",
    "df_train = df_k200.iloc[:-n_test]\n",
    "df_test = df_k200.iloc[-n_test:]"
   ]
  },
  {
   "cell_type": "code",
   "execution_count": 35,
   "id": "366a7a80-73d5-4d70-8361-416b3fc6c80b",
   "metadata": {},
   "outputs": [],
   "source": [
    "kwargs_bm = dict(\n",
    "    initial_capital = 1e7,\n",
    "    commissions = 0,\n",
    "    align_axis = None, \n",
    "    days_in_year = 246,\n",
    "    asset_names = assetnames_k200\n",
    ")"
   ]
  },
  {
   "cell_type": "code",
   "execution_count": 36,
   "id": "749b03a3-73d1-49a7-9bf0-56438e8bf5e3",
   "metadata": {},
   "outputs": [
    {
     "name": "stdout",
     "output_type": "stream",
     "text": [
      "running self.util_check_days_in_year to check days in a year\n"
     ]
    }
   ],
   "source": [
    "bm = BacktestManager(df_test, **kwargs_bm)"
   ]
  },
  {
   "cell_type": "code",
   "execution_count": 39,
   "id": "d73c5d9f-1fba-4305-84d6-325603469922",
   "metadata": {},
   "outputs": [],
   "source": [
    "from itertools import product\n",
    "\n",
    "params = dict(\n",
    "    p_fr = ['PER'],\n",
    "    p_ast = [5, 10],\n",
    "    p_freq = [130, 250, 500],\n",
    "    p_lb = [0, 5, 10]\n",
    ")\n",
    "p_comb = list(product(*params.values()))\n",
    "kwa_list = [{'name':f'{x[0]}:a{x[1]}/f{x[2]}/lb{x[3]}',\n",
    "             'df_ratio':fratios_dict[x[0]], 'n_assets':x[1], 'freq':x[2], 'lookback':x[3]} \n",
    "            for x in p_comb]\n",
    "\n",
    "kwargs_build = dict(\n",
    "    select='F-ratio', weigh='Equally', ratio_descending=False\n",
    ")\n",
    "\n",
    "bm.build_batch(*kwa_list, **kwargs_build)"
   ]
  },
  {
   "cell_type": "code",
   "execution_count": 40,
   "id": "e762274f-c402-4672-9342-dc68e8534a85",
   "metadata": {},
   "outputs": [
    {
     "name": "stdout",
     "output_type": "stream",
     "text": [
      "Cross-validating 18 strategies: PER:a5/f130/lb0, PER:a5/f130/lb10, ... , PER:a10/f500/lb10\n"
     ]
    },
    {
     "name": "stderr",
     "output_type": "stream",
     "text": [
      "100%|███████████████████████████████████████████████████████████████| 10/10 [00:03<00:00,  2.65it/s]\n",
      "100%|███████████████████████████████████████████████████████████████| 10/10 [00:03<00:00,  2.59it/s]\n",
      "100%|███████████████████████████████████████████████████████████████| 10/10 [00:03<00:00,  2.66it/s]\n",
      "100%|███████████████████████████████████████████████████████████████| 10/10 [00:03<00:00,  2.61it/s]\n",
      "100%|███████████████████████████████████████████████████████████████| 10/10 [00:03<00:00,  2.68it/s]\n",
      "100%|███████████████████████████████████████████████████████████████| 10/10 [00:04<00:00,  2.45it/s]\n",
      "100%|███████████████████████████████████████████████████████████████| 10/10 [00:03<00:00,  2.60it/s]\n",
      "100%|███████████████████████████████████████████████████████████████| 10/10 [00:03<00:00,  2.62it/s]\n",
      "100%|███████████████████████████████████████████████████████████████| 10/10 [00:03<00:00,  2.64it/s]\n",
      "100%|███████████████████████████████████████████████████████████████| 10/10 [00:03<00:00,  2.58it/s]\n",
      "100%|███████████████████████████████████████████████████████████████| 10/10 [00:03<00:00,  2.50it/s]\n",
      "100%|███████████████████████████████████████████████████████████████| 10/10 [00:03<00:00,  2.50it/s]\n",
      "100%|███████████████████████████████████████████████████████████████| 10/10 [00:03<00:00,  2.50it/s]\n",
      "100%|███████████████████████████████████████████████████████████████| 10/10 [00:03<00:00,  2.52it/s]\n",
      "100%|███████████████████████████████████████████████████████████████| 10/10 [00:03<00:00,  2.50it/s]\n",
      "100%|███████████████████████████████████████████████████████████████| 10/10 [00:04<00:00,  2.45it/s]\n",
      "100%|███████████████████████████████████████████████████████████████| 10/10 [00:04<00:00,  2.29it/s]\n",
      "100%|███████████████████████████████████████████████████████████████| 10/10 [00:04<00:00,  2.26it/s]\n"
     ]
    }
   ],
   "source": [
    "df_res = bm.cross_validate(n_sample=10)"
   ]
  },
  {
   "cell_type": "code",
   "execution_count": 88,
   "id": "0d15c358-707d-4247-bf52-9a67fc14f4ff",
   "metadata": {},
   "outputs": [
    {
     "data": {
      "text/html": [
       "<div>\n",
       "<style scoped>\n",
       "    .dataframe tbody tr th:only-of-type {\n",
       "        vertical-align: middle;\n",
       "    }\n",
       "\n",
       "    .dataframe tbody tr th {\n",
       "        vertical-align: top;\n",
       "    }\n",
       "\n",
       "    .dataframe thead th {\n",
       "        text-align: right;\n",
       "    }\n",
       "</style>\n",
       "<table border=\"1\" class=\"dataframe\">\n",
       "  <thead>\n",
       "    <tr style=\"text-align: right;\">\n",
       "      <th></th>\n",
       "      <th>cagr</th>\n",
       "      <th>max_drawdown</th>\n",
       "      <th>avg_drawdown</th>\n",
       "      <th>avg_drawdown_days</th>\n",
       "      <th>monthly_vol</th>\n",
       "      <th>monthly_sharpe</th>\n",
       "    </tr>\n",
       "  </thead>\n",
       "  <tbody>\n",
       "    <tr>\n",
       "      <th>PER:a5/f130/lb0</th>\n",
       "      <td>0.12 ± 0.070</td>\n",
       "      <td>-0.18 ± 0.014</td>\n",
       "      <td>-0.07 ± 0.016</td>\n",
       "      <td>44.17 ± 11.123</td>\n",
       "      <td>0.22 ± 0.050</td>\n",
       "      <td>0.59 ± 0.277</td>\n",
       "    </tr>\n",
       "    <tr>\n",
       "      <th>PER:a5/f130/lb10</th>\n",
       "      <td>0.11 ± 0.069</td>\n",
       "      <td>-0.19 ± 0.028</td>\n",
       "      <td>-0.07 ± 0.018</td>\n",
       "      <td>49.33 ± 16.612</td>\n",
       "      <td>0.21 ± 0.052</td>\n",
       "      <td>0.53 ± 0.267</td>\n",
       "    </tr>\n",
       "    <tr>\n",
       "      <th>PER:a5/f250/lb0</th>\n",
       "      <td>0.11 ± 0.053</td>\n",
       "      <td>-0.20 ± 0.025</td>\n",
       "      <td>-0.07 ± 0.017</td>\n",
       "      <td>51.98 ± 18.663</td>\n",
       "      <td>0.23 ± 0.062</td>\n",
       "      <td>0.53 ± 0.203</td>\n",
       "    </tr>\n",
       "    <tr>\n",
       "      <th>PER:a5/f250/lb10</th>\n",
       "      <td>0.10 ± 0.045</td>\n",
       "      <td>-0.21 ± 0.033</td>\n",
       "      <td>-0.07 ± 0.017</td>\n",
       "      <td>54.39 ± 17.900</td>\n",
       "      <td>0.23 ± 0.059</td>\n",
       "      <td>0.51 ± 0.158</td>\n",
       "    </tr>\n",
       "    <tr>\n",
       "      <th>PER:a5/f500/lb0</th>\n",
       "      <td>0.03 ± 0.029</td>\n",
       "      <td>-0.22 ± 0.031</td>\n",
       "      <td>-0.07 ± 0.018</td>\n",
       "      <td>68.55 ± 21.359</td>\n",
       "      <td>0.21 ± 0.065</td>\n",
       "      <td>0.23 ± 0.166</td>\n",
       "    </tr>\n",
       "    <tr>\n",
       "      <th>PER:a5/f500/lb10</th>\n",
       "      <td>0.02 ± 0.040</td>\n",
       "      <td>-0.23 ± 0.034</td>\n",
       "      <td>-0.07 ± 0.019</td>\n",
       "      <td>68.20 ± 19.808</td>\n",
       "      <td>0.21 ± 0.064</td>\n",
       "      <td>0.18 ± 0.221</td>\n",
       "    </tr>\n",
       "    <tr>\n",
       "      <th>PER:a5/f130/lb5</th>\n",
       "      <td>0.11 ± 0.070</td>\n",
       "      <td>-0.19 ± 0.027</td>\n",
       "      <td>-0.07 ± 0.015</td>\n",
       "      <td>49.56 ± 16.537</td>\n",
       "      <td>0.22 ± 0.052</td>\n",
       "      <td>0.54 ± 0.279</td>\n",
       "    </tr>\n",
       "    <tr>\n",
       "      <th>PER:a5/f250/lb5</th>\n",
       "      <td>0.11 ± 0.051</td>\n",
       "      <td>-0.21 ± 0.024</td>\n",
       "      <td>-0.07 ± 0.017</td>\n",
       "      <td>53.05 ± 17.713</td>\n",
       "      <td>0.23 ± 0.061</td>\n",
       "      <td>0.53 ± 0.187</td>\n",
       "    </tr>\n",
       "    <tr>\n",
       "      <th>PER:a5/f500/lb5</th>\n",
       "      <td>0.03 ± 0.029</td>\n",
       "      <td>-0.22 ± 0.030</td>\n",
       "      <td>-0.07 ± 0.018</td>\n",
       "      <td>70.08 ± 20.264</td>\n",
       "      <td>0.21 ± 0.063</td>\n",
       "      <td>0.23 ± 0.166</td>\n",
       "    </tr>\n",
       "    <tr>\n",
       "      <th>PER:a10/f130/lb0</th>\n",
       "      <td>0.04 ± 0.028</td>\n",
       "      <td>-0.18 ± 0.026</td>\n",
       "      <td>-0.06 ± 0.011</td>\n",
       "      <td>63.67 ± 16.357</td>\n",
       "      <td>0.16 ± 0.052</td>\n",
       "      <td>0.29 ± 0.183</td>\n",
       "    </tr>\n",
       "    <tr>\n",
       "      <th>PER:a10/f130/lb5</th>\n",
       "      <td>0.03 ± 0.029</td>\n",
       "      <td>-0.18 ± 0.025</td>\n",
       "      <td>-0.06 ± 0.011</td>\n",
       "      <td>62.73 ± 15.437</td>\n",
       "      <td>0.16 ± 0.052</td>\n",
       "      <td>0.26 ± 0.205</td>\n",
       "    </tr>\n",
       "    <tr>\n",
       "      <th>PER:a10/f130/lb10</th>\n",
       "      <td>0.04 ± 0.026</td>\n",
       "      <td>-0.18 ± 0.023</td>\n",
       "      <td>-0.06 ± 0.012</td>\n",
       "      <td>61.43 ± 15.513</td>\n",
       "      <td>0.16 ± 0.051</td>\n",
       "      <td>0.27 ± 0.193</td>\n",
       "    </tr>\n",
       "    <tr>\n",
       "      <th>PER:a10/f250/lb0</th>\n",
       "      <td>0.05 ± 0.036</td>\n",
       "      <td>-0.18 ± 0.020</td>\n",
       "      <td>-0.06 ± 0.017</td>\n",
       "      <td>62.68 ± 19.163</td>\n",
       "      <td>0.16 ± 0.049</td>\n",
       "      <td>0.38 ± 0.142</td>\n",
       "    </tr>\n",
       "    <tr>\n",
       "      <th>PER:a10/f250/lb5</th>\n",
       "      <td>0.06 ± 0.033</td>\n",
       "      <td>-0.18 ± 0.021</td>\n",
       "      <td>-0.06 ± 0.016</td>\n",
       "      <td>60.77 ± 18.506</td>\n",
       "      <td>0.16 ± 0.048</td>\n",
       "      <td>0.39 ± 0.123</td>\n",
       "    </tr>\n",
       "    <tr>\n",
       "      <th>PER:a10/f250/lb10</th>\n",
       "      <td>0.06 ± 0.037</td>\n",
       "      <td>-0.17 ± 0.021</td>\n",
       "      <td>-0.06 ± 0.017</td>\n",
       "      <td>58.34 ± 13.690</td>\n",
       "      <td>0.16 ± 0.047</td>\n",
       "      <td>0.40 ± 0.146</td>\n",
       "    </tr>\n",
       "    <tr>\n",
       "      <th>PER:a10/f500/lb0</th>\n",
       "      <td>0.04 ± 0.026</td>\n",
       "      <td>-0.18 ± 0.020</td>\n",
       "      <td>-0.06 ± 0.015</td>\n",
       "      <td>63.61 ± 13.907</td>\n",
       "      <td>0.16 ± 0.052</td>\n",
       "      <td>0.28 ± 0.158</td>\n",
       "    </tr>\n",
       "    <tr>\n",
       "      <th>PER:a10/f500/lb5</th>\n",
       "      <td>0.03 ± 0.025</td>\n",
       "      <td>-0.18 ± 0.021</td>\n",
       "      <td>-0.06 ± 0.015</td>\n",
       "      <td>65.73 ± 14.081</td>\n",
       "      <td>0.16 ± 0.051</td>\n",
       "      <td>0.27 ± 0.165</td>\n",
       "    </tr>\n",
       "    <tr>\n",
       "      <th>PER:a10/f500/lb10</th>\n",
       "      <td>0.03 ± 0.027</td>\n",
       "      <td>-0.18 ± 0.019</td>\n",
       "      <td>-0.06 ± 0.017</td>\n",
       "      <td>65.21 ± 14.444</td>\n",
       "      <td>0.16 ± 0.052</td>\n",
       "      <td>0.21 ± 0.164</td>\n",
       "    </tr>\n",
       "  </tbody>\n",
       "</table>\n",
       "</div>"
      ],
      "text/plain": [
       "                           cagr   max_drawdown   avg_drawdown  \\\n",
       "PER:a5/f130/lb0    0.12 ± 0.070  -0.18 ± 0.014  -0.07 ± 0.016   \n",
       "PER:a5/f130/lb10   0.11 ± 0.069  -0.19 ± 0.028  -0.07 ± 0.018   \n",
       "PER:a5/f250/lb0    0.11 ± 0.053  -0.20 ± 0.025  -0.07 ± 0.017   \n",
       "PER:a5/f250/lb10   0.10 ± 0.045  -0.21 ± 0.033  -0.07 ± 0.017   \n",
       "PER:a5/f500/lb0    0.03 ± 0.029  -0.22 ± 0.031  -0.07 ± 0.018   \n",
       "PER:a5/f500/lb10   0.02 ± 0.040  -0.23 ± 0.034  -0.07 ± 0.019   \n",
       "PER:a5/f130/lb5    0.11 ± 0.070  -0.19 ± 0.027  -0.07 ± 0.015   \n",
       "PER:a5/f250/lb5    0.11 ± 0.051  -0.21 ± 0.024  -0.07 ± 0.017   \n",
       "PER:a5/f500/lb5    0.03 ± 0.029  -0.22 ± 0.030  -0.07 ± 0.018   \n",
       "PER:a10/f130/lb0   0.04 ± 0.028  -0.18 ± 0.026  -0.06 ± 0.011   \n",
       "PER:a10/f130/lb5   0.03 ± 0.029  -0.18 ± 0.025  -0.06 ± 0.011   \n",
       "PER:a10/f130/lb10  0.04 ± 0.026  -0.18 ± 0.023  -0.06 ± 0.012   \n",
       "PER:a10/f250/lb0   0.05 ± 0.036  -0.18 ± 0.020  -0.06 ± 0.017   \n",
       "PER:a10/f250/lb5   0.06 ± 0.033  -0.18 ± 0.021  -0.06 ± 0.016   \n",
       "PER:a10/f250/lb10  0.06 ± 0.037  -0.17 ± 0.021  -0.06 ± 0.017   \n",
       "PER:a10/f500/lb0   0.04 ± 0.026  -0.18 ± 0.020  -0.06 ± 0.015   \n",
       "PER:a10/f500/lb5   0.03 ± 0.025  -0.18 ± 0.021  -0.06 ± 0.015   \n",
       "PER:a10/f500/lb10  0.03 ± 0.027  -0.18 ± 0.019  -0.06 ± 0.017   \n",
       "\n",
       "                  avg_drawdown_days   monthly_vol monthly_sharpe  \n",
       "PER:a5/f130/lb0      44.17 ± 11.123  0.22 ± 0.050   0.59 ± 0.277  \n",
       "PER:a5/f130/lb10     49.33 ± 16.612  0.21 ± 0.052   0.53 ± 0.267  \n",
       "PER:a5/f250/lb0      51.98 ± 18.663  0.23 ± 0.062   0.53 ± 0.203  \n",
       "PER:a5/f250/lb10     54.39 ± 17.900  0.23 ± 0.059   0.51 ± 0.158  \n",
       "PER:a5/f500/lb0      68.55 ± 21.359  0.21 ± 0.065   0.23 ± 0.166  \n",
       "PER:a5/f500/lb10     68.20 ± 19.808  0.21 ± 0.064   0.18 ± 0.221  \n",
       "PER:a5/f130/lb5      49.56 ± 16.537  0.22 ± 0.052   0.54 ± 0.279  \n",
       "PER:a5/f250/lb5      53.05 ± 17.713  0.23 ± 0.061   0.53 ± 0.187  \n",
       "PER:a5/f500/lb5      70.08 ± 20.264  0.21 ± 0.063   0.23 ± 0.166  \n",
       "PER:a10/f130/lb0     63.67 ± 16.357  0.16 ± 0.052   0.29 ± 0.183  \n",
       "PER:a10/f130/lb5     62.73 ± 15.437  0.16 ± 0.052   0.26 ± 0.205  \n",
       "PER:a10/f130/lb10    61.43 ± 15.513  0.16 ± 0.051   0.27 ± 0.193  \n",
       "PER:a10/f250/lb0     62.68 ± 19.163  0.16 ± 0.049   0.38 ± 0.142  \n",
       "PER:a10/f250/lb5     60.77 ± 18.506  0.16 ± 0.048   0.39 ± 0.123  \n",
       "PER:a10/f250/lb10    58.34 ± 13.690  0.16 ± 0.047   0.40 ± 0.146  \n",
       "PER:a10/f500/lb0     63.61 ± 13.907  0.16 ± 0.052   0.28 ± 0.158  \n",
       "PER:a10/f500/lb5     65.73 ± 14.081  0.16 ± 0.051   0.27 ± 0.165  \n",
       "PER:a10/f500/lb10    65.21 ± 14.444  0.16 ± 0.052   0.21 ± 0.164  "
      ]
     },
     "execution_count": 88,
     "metadata": {},
     "output_type": "execute_result"
    }
   ],
   "source": [
    "m = ['cagr', 'max_drawdown', 'avg_drawdown', 'avg_drawdown_days', 'monthly_vol', 'monthly_sharpe']\n",
    "df_res.T[m]"
   ]
  },
  {
   "cell_type": "code",
   "execution_count": null,
   "id": "4e0951e7-5b68-4a36-a629-4a635120a351",
   "metadata": {
    "scrolled": true
   },
   "outputs": [],
   "source": [
    "#bm.cv_strategies"
   ]
  },
  {
   "cell_type": "code",
   "execution_count": null,
   "id": "e5ba75f2-77db-4948-9bb4-f3d1122315c7",
   "metadata": {},
   "outputs": [],
   "source": [
    "#pf_list = list(range(6))\n",
    "#bm.cross_validate(pf_list, n_sample=10)"
   ]
  },
  {
   "cell_type": "markdown",
   "id": "4081e26a-0d1b-494d-afda-adc7592de525",
   "metadata": {},
   "source": [
    "# Transaction"
   ]
  },
  {
   "cell_type": "code",
   "execution_count": 42,
   "id": "7f11736e-a72d-4b11-b332-b61db68b83cb",
   "metadata": {},
   "outputs": [],
   "source": [
    "df_ratio = fratios_dict['PER']"
   ]
  },
  {
   "cell_type": "code",
   "execution_count": 43,
   "id": "ab3a72e9-226d-40dd-bac4-b76740397cca",
   "metadata": {},
   "outputs": [
    {
     "name": "stdout",
     "output_type": "stream",
     "text": [
      "running self.util_check_days_in_year to check days in a year\n",
      "WARNING: no record test_per* exists\n",
      "REMINDER: make sure this is 1st transaction as no records provided\n"
     ]
    }
   ],
   "source": [
    "kw_per = dict(\n",
    "    name='PER',\n",
    "    method_select='f-ratio',\n",
    "    sort_ascending=True,\n",
    "    lookback=0, # days\n",
    "    df_additional=df_ratio,\n",
    "    method_weigh='equally', \n",
    ")\n",
    "\n",
    "kwargs = dict(\n",
    "    #file='pf_k200_per.csv',\n",
    "    file='test_per.csv',\n",
    "    path=path_tran,\n",
    "    days_in_year=246,\n",
    "    asset_names=assetnames_k200,\n",
    "    **kw_per\n",
    ")\n",
    "\n",
    "pf_per = MomentumPortfolio(df_k200, **kwargs)"
   ]
  },
  {
   "cell_type": "code",
   "execution_count": 44,
   "id": "77027256-82a9-4fd7-89ed-b854710eae4f",
   "metadata": {},
   "outputs": [],
   "source": [
    "pf_per.record"
   ]
  },
  {
   "cell_type": "code",
   "execution_count": 45,
   "id": "4dce86f9-1672-4922-b6a5-c10f37d63337",
   "metadata": {},
   "outputs": [
    {
     "name": "stdout",
     "output_type": "stream",
     "text": [
      "ERROR: No transaction record\n"
     ]
    }
   ],
   "source": [
    "pf_per.valuate()"
   ]
  },
  {
   "cell_type": "code",
   "execution_count": 46,
   "id": "ff8e778d-a780-492a-9a14-945deb966e74",
   "metadata": {},
   "outputs": [
    {
     "data": {
      "application/vnd.jupyter.widget-view+json": {
       "model_id": "0e4e1710d47b497fa92938db6efdcee9",
       "version_major": 2,
       "version_minor": 0
      },
      "text/plain": [
       "VBox(children=(DatePicker(value=datetime.date(2024, 1, 1), layout=Layout(width='200px'), step=1), IntSlider(va…"
      ]
     },
     "execution_count": 46,
     "metadata": {},
     "output_type": "execute_result"
    }
   ],
   "source": [
    "# set kwargs of transaction_pipeline\n",
    "WidgetTransaction"
   ]
  },
  {
   "cell_type": "code",
   "execution_count": 48,
   "id": "2493edb2-b79c-4eea-b898-bb3b181cfd1d",
   "metadata": {},
   "outputs": [
    {
     "name": "stdout",
     "output_type": "stream",
     "text": [
      "Liquidation set to None\n",
      "5 assets selected by Financial Ratio from 2023-12-28 to 2023-12-28\n",
      "WARNING: No record loaded\n",
      "Weights of assets determined by Equal weights.\n",
      "Mean absolute error of weights: 1 %\n",
      "Portfolio value 4,679,820, Profit 18.7% on 2024-07-05\n",
      "Set save=True to save transaction record\n"
     ]
    },
    {
     "data": {
      "text/html": [
       "<div>\n",
       "<style scoped>\n",
       "    .dataframe tbody tr th:only-of-type {\n",
       "        vertical-align: middle;\n",
       "    }\n",
       "\n",
       "    .dataframe tbody tr th {\n",
       "        vertical-align: top;\n",
       "    }\n",
       "\n",
       "    .dataframe thead th {\n",
       "        text-align: right;\n",
       "    }\n",
       "</style>\n",
       "<table border=\"1\" class=\"dataframe\">\n",
       "  <thead>\n",
       "    <tr style=\"text-align: right;\">\n",
       "      <th></th>\n",
       "      <th></th>\n",
       "      <th>name</th>\n",
       "      <th>price</th>\n",
       "      <th>transaction</th>\n",
       "      <th>net</th>\n",
       "      <th>weight</th>\n",
       "      <th>weight*</th>\n",
       "    </tr>\n",
       "    <tr>\n",
       "      <th>date</th>\n",
       "      <th>asset</th>\n",
       "      <th></th>\n",
       "      <th></th>\n",
       "      <th></th>\n",
       "      <th></th>\n",
       "      <th></th>\n",
       "      <th></th>\n",
       "    </tr>\n",
       "  </thead>\n",
       "  <tbody>\n",
       "    <tr>\n",
       "      <th rowspan=\"5\" valign=\"top\">2023-12-28</th>\n",
       "      <th>011200</th>\n",
       "      <td>HMM</td>\n",
       "      <td>19580</td>\n",
       "      <td>40</td>\n",
       "      <td>40</td>\n",
       "      <td>0.200</td>\n",
       "      <td>0.1987</td>\n",
       "    </tr>\n",
       "    <tr>\n",
       "      <th>036460</th>\n",
       "      <td>한국가스공사</td>\n",
       "      <td>24700</td>\n",
       "      <td>32</td>\n",
       "      <td>32</td>\n",
       "      <td>0.200</td>\n",
       "      <td>0.2006</td>\n",
       "    </tr>\n",
       "    <tr>\n",
       "      <th>016380</th>\n",
       "      <td>KG스틸</td>\n",
       "      <td>8900</td>\n",
       "      <td>89</td>\n",
       "      <td>89</td>\n",
       "      <td>0.200</td>\n",
       "      <td>0.2010</td>\n",
       "    </tr>\n",
       "    <tr>\n",
       "      <th>000880</th>\n",
       "      <td>한화</td>\n",
       "      <td>25750</td>\n",
       "      <td>31</td>\n",
       "      <td>31</td>\n",
       "      <td>0.200</td>\n",
       "      <td>0.2025</td>\n",
       "    </tr>\n",
       "    <tr>\n",
       "      <th>078930</th>\n",
       "      <td>GS</td>\n",
       "      <td>40900</td>\n",
       "      <td>19</td>\n",
       "      <td>19</td>\n",
       "      <td>0.200</td>\n",
       "      <td>0.1972</td>\n",
       "    </tr>\n",
       "  </tbody>\n",
       "</table>\n",
       "</div>"
      ],
      "text/plain": [
       "                     name  price  transaction  net weight weight*\n",
       "date       asset                                                 \n",
       "2023-12-28 011200     HMM  19580           40   40  0.200  0.1987\n",
       "           036460  한국가스공사  24700           32   32  0.200  0.2006\n",
       "           016380    KG스틸   8900           89   89  0.200  0.2010\n",
       "           000880      한화  25750           31   31  0.200  0.2025\n",
       "           078930      GS  40900           19   19  0.200  0.1972"
      ]
     },
     "execution_count": 48,
     "metadata": {},
     "output_type": "execute_result"
    }
   ],
   "source": [
    "kwargs_trs = dict(\n",
    "    n_assets = 5,\n",
    "    date = WidgetTransaction.values(0),\n",
    "    capital = WidgetTransaction.values(1),\n",
    "    save = WidgetTransaction.values(2)\n",
    ")\n",
    "kw_liq = dict(\n",
    "    #assets_to_sell= {'489790':34500},\n",
    "    #assets_to_sell= '489790',\n",
    "    #hold= True\n",
    ")\n",
    "df_trs = pf_per.transaction_pipeline(**kwargs_trs, **kw_liq)\n",
    "df_trs.loc[df_trs.index.get_level_values(0).unique()[-2:]]"
   ]
  },
  {
   "cell_type": "code",
   "execution_count": null,
   "id": "312be2f9-7ef0-4a56-bf59-92f2a8e04da9",
   "metadata": {},
   "outputs": [],
   "source": []
  }
 ],
 "metadata": {
  "kernelspec": {
   "display_name": "portfolio",
   "language": "python",
   "name": "portfolio"
  },
  "language_info": {
   "codemirror_mode": {
    "name": "ipython",
    "version": 3
   },
   "file_extension": ".py",
   "mimetype": "text/x-python",
   "name": "python",
   "nbconvert_exporter": "python",
   "pygments_lexer": "ipython3",
   "version": "3.12.1"
  }
 },
 "nbformat": 4,
 "nbformat_minor": 5
}
