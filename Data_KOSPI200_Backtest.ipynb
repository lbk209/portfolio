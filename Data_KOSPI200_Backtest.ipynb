{
 "cells": [
  {
   "cell_type": "markdown",
   "id": "fc3d9801-e4f9-4a2b-8d61-f9217fac08c9",
   "metadata": {},
   "source": [
    "# Setting"
   ]
  },
  {
   "cell_type": "code",
   "execution_count": 1,
   "id": "7009fd2f-8efd-4ed3-a187-01939304fa9e",
   "metadata": {},
   "outputs": [
    {
     "name": "stderr",
     "output_type": "stream",
     "text": [
      "WARNING (pytensor.tensor.blas): Using NumPy C-API based implementation for BLAS functions.\n"
     ]
    }
   ],
   "source": [
    "from pf_utils import DataManager, BacktestManager, FinancialRatios\n",
    "from pf_widgets import WidgetUniverse, WidgetTransaction"
   ]
  },
  {
   "cell_type": "code",
   "execution_count": 2,
   "id": "723adb14-cd00-4d96-9c64-5a8628e82f44",
   "metadata": {},
   "outputs": [],
   "source": [
    "path_data = 'data'\n",
    "path_comp = 'data/kospi200'"
   ]
  },
  {
   "cell_type": "code",
   "execution_count": 3,
   "id": "56d431fb-648d-46c4-85a4-ca7b434cbc70",
   "metadata": {},
   "outputs": [],
   "source": [
    "col_ticker = '종목코드'\n",
    "col_date = 'date'"
   ]
  },
  {
   "cell_type": "markdown",
   "id": "218eefe0-0d3e-4c63-b48c-d1c81a63f737",
   "metadata": {},
   "source": [
    "# Components"
   ]
  },
  {
   "cell_type": "code",
   "execution_count": 4,
   "id": "609753cb-7ac4-4446-bf09-e3de7621c997",
   "metadata": {},
   "outputs": [],
   "source": [
    "import pandas as pd\n",
    "import re\n",
    "from pf_utils import get_file_list"
   ]
  },
  {
   "cell_type": "code",
   "execution_count": 5,
   "id": "6e588a08-d500-42f7-9906-d5f37051551b",
   "metadata": {
    "scrolled": true
   },
   "outputs": [
    {
     "data": {
      "text/plain": [
       "['kospi200_components_040102.csv',\n",
       " 'kospi200_components_050103.csv',\n",
       " 'kospi200_components_060102.csv',\n",
       " 'kospi200_components_070102.csv',\n",
       " 'kospi200_components_080102.csv',\n",
       " 'kospi200_components_090102.csv',\n",
       " 'kospi200_components_100104.csv',\n",
       " 'kospi200_components_110103.csv',\n",
       " 'kospi200_components_120102.csv',\n",
       " 'kospi200_components_130102.csv',\n",
       " 'kospi200_components_140102.csv',\n",
       " 'kospi200_components_150102.csv',\n",
       " 'kospi200_components_160104.csv',\n",
       " 'kospi200_components_170102.csv',\n",
       " 'kospi200_components_180102.csv',\n",
       " 'kospi200_components_190102.csv',\n",
       " 'kospi200_components_200102.csv',\n",
       " 'kospi200_components_210104.csv',\n",
       " 'kospi200_components_220103.csv',\n",
       " 'kospi200_components_230102.csv',\n",
       " 'kospi200_components_240102.csv']"
      ]
     },
     "execution_count": 5,
     "metadata": {},
     "output_type": "execute_result"
    }
   ],
   "source": [
    "file = 'kospi200_components'\n",
    "files = get_file_list(file, path_comp)\n",
    "files"
   ]
  },
  {
   "cell_type": "code",
   "execution_count": 6,
   "id": "bd0948ce-73f8-4626-9ab1-d2c4844c5889",
   "metadata": {},
   "outputs": [],
   "source": [
    "get_date = lambda x: '20' + re.search(r'\\_(\\d{6})\\.', x).group(1)\n",
    "\n",
    "df_comp = pd.DataFrame()\n",
    "for f in files:\n",
    "    date = get_date(f)\n",
    "    f = f'{path_comp}/{f}'\n",
    "    df = pd.read_csv(f, dtype={col_ticker:str})\n",
    "    df = df.assign(date=date)\n",
    "    df_comp = pd.concat([df_comp, df])\n",
    "\n",
    "df_comp[col_date] = pd.to_datetime(df_comp[col_date])"
   ]
  },
  {
   "cell_type": "code",
   "execution_count": 7,
   "id": "0d5de6b9-75d1-4104-bb9b-9a9c8a74fb25",
   "metadata": {},
   "outputs": [
    {
     "data": {
      "text/plain": [
       "439"
      ]
     },
     "execution_count": 7,
     "metadata": {},
     "output_type": "execute_result"
    }
   ],
   "source": [
    "tickers_all = df_comp[col_ticker].unique()\n",
    "len(tickers_all)"
   ]
  },
  {
   "cell_type": "markdown",
   "id": "f5ea3d51-11a7-439d-9a47-2dfe28e46115",
   "metadata": {},
   "source": [
    "# Price"
   ]
  },
  {
   "cell_type": "markdown",
   "id": "a46a6a9c-cc79-40f9-96ca-7f4bf9a8a1e9",
   "metadata": {},
   "source": [
    "## Download"
   ]
  },
  {
   "cell_type": "code",
   "execution_count": 8,
   "id": "73024aab-e901-4e9c-94e2-a46e5b983dbe",
   "metadata": {},
   "outputs": [
    {
     "data": {
      "application/vnd.jupyter.widget-view+json": {
       "model_id": "14888950580a4efb923b5065a9312ada",
       "version_major": 2,
       "version_minor": 0
      },
      "text/plain": [
       "VBox(children=(Checkbox(value=False, description='Download', indent=False), Checkbox(value=False, description=…"
      ]
     },
     "execution_count": 8,
     "metadata": {},
     "output_type": "execute_result"
    }
   ],
   "source": [
    "WidgetUniverse"
   ]
  },
  {
   "cell_type": "code",
   "execution_count": 9,
   "id": "255caf54-538b-4743-ab0f-e0a8783fb3c6",
   "metadata": {},
   "outputs": [
    {
     "data": {
      "text/plain": [
       "('2004-01-02', '2024-01-02')"
      ]
     },
     "execution_count": 9,
     "metadata": {},
     "output_type": "execute_result"
    }
   ],
   "source": [
    "start_date = df_comp[col_date].min().strftime('%Y-%m-%d')\n",
    "end_date = df_comp[col_date].max().strftime('%Y-%m-%d')\n",
    "start_date, end_date"
   ]
  },
  {
   "cell_type": "code",
   "execution_count": 10,
   "id": "0a2b10d6-f9e0-4055-95c9-ac4bed42a034",
   "metadata": {},
   "outputs": [],
   "source": [
    "uv_k2hl = ['krx', 'kospi200_bt_prices_040102_241023.csv']"
   ]
  },
  {
   "cell_type": "code",
   "execution_count": 11,
   "id": "6b45e83b-ba1e-4f64-8c67-648cc80144e8",
   "metadata": {},
   "outputs": [
    {
     "name": "stdout",
     "output_type": "stream",
     "text": [
      "426 assets from 2004-01-02 to 2024-10-23 uploaded.\n",
      "df_prices updated\n"
     ]
    }
   ],
   "source": [
    "k2hl = DataManager(\n",
    "    path = path_data,\n",
    "    **dict(zip(['universe', 'file'], uv_k2hl))\n",
    ")\n",
    "k2hl.upload()"
   ]
  },
  {
   "cell_type": "code",
   "execution_count": 14,
   "id": "48c48a4d-99dd-419c-be03-e5f2503a6170",
   "metadata": {},
   "outputs": [
    {
     "name": "stdout",
     "output_type": "stream",
     "text": [
      "Downloading ...\n",
      "REMINDER: 439 tickers set regardless of market\n"
     ]
    },
    {
     "name": "stderr",
     "output_type": "stream",
     "text": [
      "100%|█████████████████████████████████████████████████████████████| 439/439 [01:36<00:00,  4.55it/s]\n"
     ]
    },
    {
     "name": "stdout",
     "output_type": "stream",
     "text": [
      "1.6 mins elapsed, 18.0 secs paused (18.7%)\n",
      "WARNING: 13 tickers failed to download\n",
      "... done\n",
      "426 assets from 2004-01-02 to 2024-10-23 downloaded.\n",
      "kospi200_prices_040102_241023.csv saved\n",
      "df_prices updated\n",
      "Execution time of download: 96.92 secs\n"
     ]
    }
   ],
   "source": [
    "kw = dict(\n",
    "    start_date=start_date, tickers=tickers_all,\n",
    "    close_today = WidgetUniverse.values(1),\n",
    "    interval=5, pause_duration=1, msg=False\n",
    ")\n",
    "k2hl.download(**kw) if WidgetUniverse.values(0) else None"
   ]
  },
  {
   "cell_type": "code",
   "execution_count": 37,
   "id": "6bba5297-342e-427f-8808-065aeae90099",
   "metadata": {},
   "outputs": [
    {
     "name": "stdout",
     "output_type": "stream",
     "text": [
      "kospi200_prices_bt_040102_241024.csv saved\n"
     ]
    }
   ],
   "source": [
    "#k2hl.save()"
   ]
  },
  {
   "cell_type": "code",
   "execution_count": 12,
   "id": "3a5f7092-28ca-49ae-990b-a383f5302a26",
   "metadata": {},
   "outputs": [],
   "source": [
    "df_k2hl = k2hl.df_prices"
   ]
  },
  {
   "cell_type": "markdown",
   "id": "c3e6ecfa-54f3-496e-ab5c-214ecd92a5a7",
   "metadata": {},
   "source": [
    "## Listing by Year"
   ]
  },
  {
   "cell_type": "code",
   "execution_count": 13,
   "id": "0fd20b6b-b6ba-4dd4-8423-925febc8a663",
   "metadata": {},
   "outputs": [],
   "source": [
    "# drop tickers of no data\n",
    "df_comp2 = df_comp.loc[df_comp[col_ticker].isin(df_k2hl.columns)]"
   ]
  },
  {
   "cell_type": "code",
   "execution_count": 14,
   "id": "26b7e21a-c877-4c46-a638-125036a14564",
   "metadata": {},
   "outputs": [],
   "source": [
    "for year in df_comp2[col_date].dt.year.unique():\n",
    "    # get list of kospi200 in year\n",
    "    t_all = df_comp2.loc[df_comp2[col_date].dt.year == year, col_ticker]\n",
    "    # get tickers of non kospi200 in year and set their prices to None\n",
    "    t_exc = df_k2hl.columns.difference(t_all)\n",
    "    df_k2hl.loc[df_k2hl.index.year == year, t_exc] = None"
   ]
  },
  {
   "cell_type": "code",
   "execution_count": 52,
   "id": "2db33056-11cf-41ed-ba1f-7b9c6766aa36",
   "metadata": {},
   "outputs": [
    {
     "data": {
      "image/png": "[encoded data removed]",
      "text/plain": [
       "<Figure size 800x400 with 1 Axes>"
      ]
     },
     "metadata": {},
     "output_type": "display_data"
    }
   ],
   "source": [
    "start, end = df_comp2[col_date].min(), df_comp2[col_date].max()\n",
    "_ = df_k2hl.loc[start:end].notna().sum(axis=1).plot(figsize=(8,4))"
   ]
  },
  {
   "cell_type": "code",
   "execution_count": 17,
   "id": "e6727d76-5155-4569-ad22-a0d294d1a1d8",
   "metadata": {},
   "outputs": [
    {
     "data": {
      "text/plain": [
       "['krx', 'kospi200_bt_prices_040102_241023.csv']"
      ]
     },
     "execution_count": 17,
     "metadata": {},
     "output_type": "execute_result"
    }
   ],
   "source": [
    "uv_k2hl"
   ]
  },
  {
   "cell_type": "code",
   "execution_count": 21,
   "id": "15ba1c7d-a1e5-4286-9b8a-cc784f52c675",
   "metadata": {},
   "outputs": [],
   "source": [
    "file = 'kospi200_bt_prices_040102_241023.csv'\n",
    "#df_k2hl.to_csv(f'{path_data}/{file}')"
   ]
  },
  {
   "cell_type": "markdown",
   "id": "df51c405-be73-4f33-9014-487ce0075174",
   "metadata": {},
   "source": [
    "# Ratio"
   ]
  },
  {
   "cell_type": "markdown",
   "id": "1c0fea1b-9ed4-4718-81ef-898732f19774",
   "metadata": {},
   "source": [
    "## Download"
   ]
  },
  {
   "cell_type": "code",
   "execution_count": 54,
   "id": "242b5969-723b-4dac-af6c-f1429961e614",
   "metadata": {},
   "outputs": [
    {
     "data": {
      "text/plain": [
       "('2004-01-02', '2024-10-23')"
      ]
     },
     "execution_count": 54,
     "metadata": {},
     "output_type": "execute_result"
    }
   ],
   "source": [
    "from pf_utils import get_date_minmax\n",
    "start_date, end_date = get_date_minmax(df_k2hl, date_format='%Y-%m-%d')\n",
    "start_date, end_date"
   ]
  },
  {
   "cell_type": "code",
   "execution_count": 55,
   "id": "b3744e7b-b062-4c03-8fda-0c185c68f933",
   "metadata": {},
   "outputs": [
    {
     "data": {
      "application/vnd.jupyter.widget-view+json": {
       "model_id": "14888950580a4efb923b5065a9312ada",
       "version_major": 2,
       "version_minor": 0
      },
      "text/plain": [
       "VBox(children=(Checkbox(value=False, description='Download', indent=False), Checkbox(value=False, description=…"
      ]
     },
     "execution_count": 55,
     "metadata": {},
     "output_type": "execute_result"
    }
   ],
   "source": [
    "WidgetUniverse"
   ]
  },
  {
   "cell_type": "code",
   "execution_count": 56,
   "id": "389d74e9-35ae-413c-8d99-ade965206f7f",
   "metadata": {},
   "outputs": [
    {
     "name": "stdout",
     "output_type": "stream",
     "text": [
      "Financial ratios of 426 stocks from 2004-01-31 to 2024-09-30 loaded\n"
     ]
    }
   ],
   "source": [
    "file = 'kospi200_bt_ratios.csv'\n",
    "fr = FinancialRatios(file, path_data)"
   ]
  },
  {
   "cell_type": "code",
   "execution_count": 32,
   "id": "876dc274-9c1c-4d22-a4c2-2f0894b99b95",
   "metadata": {},
   "outputs": [
    {
     "name": "stderr",
     "output_type": "stream",
     "text": [
      "100%|███████████████████████████████████████████████████████████| 426/426 [3:51:37<00:00, 32.62s/it]\n"
     ]
    },
    {
     "name": "stdout",
     "output_type": "stream",
     "text": [
      "231.6 mins elapsed, 6.8 mins paused (2.9%)\n",
      "Financial ratios of 426 stocks from 2004-01-31 to 2024-09-30 downloaded\n",
      "kospi200_bt_ratios_240930.csv saved\n"
     ]
    }
   ],
   "source": [
    "tickers = df_k2hl.columns.to_list()\n",
    "\n",
    "kw = dict(\n",
    "    freq = 'm',\n",
    "    close_today = WidgetUniverse.values(1)\n",
    ")\n",
    "fr.download(tickers, start_date, end_date, **kw) if WidgetUniverse.values(0) else None"
   ]
  },
  {
   "cell_type": "code",
   "execution_count": 57,
   "id": "ee8ebbff-7161-4114-9832-859e0b176663",
   "metadata": {},
   "outputs": [
    {
     "name": "stdout",
     "output_type": "stream",
     "text": [
      "Ranking score of PER on 2024-09-30\n"
     ]
    },
    {
     "data": {
      "text/plain": [
       "ticker\n",
       "005440    0.000000\n",
       "085310    0.003436\n",
       "007860    0.006873\n",
       "001230    0.010309\n",
       "010060    0.013746\n",
       "            ...   \n",
       "003670    0.986254\n",
       "329180    0.989691\n",
       "450080    0.993127\n",
       "377300    0.996564\n",
       "004800    1.000000\n",
       "Name: PER, Length: 292, dtype: float64"
      ]
     },
     "execution_count": 57,
     "metadata": {},
     "output_type": "execute_result"
    }
   ],
   "source": [
    "fr.calc_rank(metrics='PER', topn=None)"
   ]
  },
  {
   "cell_type": "code",
   "execution_count": 58,
   "id": "bc5f2844-567d-4f51-8ad0-76b935a74e3d",
   "metadata": {},
   "outputs": [
    {
     "name": "stdout",
     "output_type": "stream",
     "text": [
      "Historical of PER+PBR ranking score created\n"
     ]
    },
    {
     "data": {
      "text/plain": [
       "ticker  date      \n",
       "005930  2004-01-31    1.669885\n",
       "        2004-02-29    1.763447\n",
       "        2004-03-31    1.759707\n",
       "        2004-04-30    1.782042\n",
       "        2004-05-31    1.773187\n",
       "                        ...   \n",
       "009970  2024-05-31    0.412358\n",
       "        2024-06-30    0.395185\n",
       "        2024-07-31    0.376691\n",
       "        2024-08-31    0.381042\n",
       "        2024-09-30    0.412514\n",
       "Name: PER, Length: 87257, dtype: float64"
      ]
     },
     "execution_count": 58,
     "metadata": {},
     "output_type": "execute_result"
    }
   ],
   "source": [
    "#fr.calc_historical()\n",
    "fr.calc_historical(['PER', 'PBR'])"
   ]
  },
  {
   "cell_type": "code",
   "execution_count": 59,
   "id": "1d485592-bbb2-4612-9859-dc25c1c0f38c",
   "metadata": {},
   "outputs": [
    {
     "name": "stdout",
     "output_type": "stream",
     "text": [
      "Returning stats of daily averages\n"
     ]
    },
    {
     "data": {
      "text/html": [
       "<div>\n",
       "<style scoped>\n",
       "    .dataframe tbody tr th:only-of-type {\n",
       "        vertical-align: middle;\n",
       "    }\n",
       "\n",
       "    .dataframe tbody tr th {\n",
       "        vertical-align: top;\n",
       "    }\n",
       "\n",
       "    .dataframe thead th {\n",
       "        text-align: right;\n",
       "    }\n",
       "</style>\n",
       "<table border=\"1\" class=\"dataframe\">\n",
       "  <thead>\n",
       "    <tr style=\"text-align: right;\">\n",
       "      <th></th>\n",
       "      <th>BPS</th>\n",
       "      <th>PER</th>\n",
       "      <th>PBR</th>\n",
       "      <th>EPS</th>\n",
       "      <th>DIV</th>\n",
       "      <th>DPS</th>\n",
       "    </tr>\n",
       "  </thead>\n",
       "  <tbody>\n",
       "    <tr>\n",
       "      <th>start</th>\n",
       "      <td>2004-01-31</td>\n",
       "      <td>2004-01-31</td>\n",
       "      <td>2004-01-31</td>\n",
       "      <td>2004-01-31</td>\n",
       "      <td>2004-01-31</td>\n",
       "      <td>2004-01-31</td>\n",
       "    </tr>\n",
       "    <tr>\n",
       "      <th>end</th>\n",
       "      <td>2024-09-30</td>\n",
       "      <td>2024-09-30</td>\n",
       "      <td>2024-09-30</td>\n",
       "      <td>2024-09-30</td>\n",
       "      <td>2024-09-30</td>\n",
       "      <td>2024-09-30</td>\n",
       "    </tr>\n",
       "    <tr>\n",
       "      <th>mean</th>\n",
       "      <td>64684.1</td>\n",
       "      <td>35.8</td>\n",
       "      <td>1.6</td>\n",
       "      <td>5342.9</td>\n",
       "      <td>1.7</td>\n",
       "      <td>849.3</td>\n",
       "    </tr>\n",
       "    <tr>\n",
       "      <th>std</th>\n",
       "      <td>17561.2</td>\n",
       "      <td>26.8</td>\n",
       "      <td>0.4</td>\n",
       "      <td>1537.8</td>\n",
       "      <td>0.6</td>\n",
       "      <td>251.7</td>\n",
       "    </tr>\n",
       "  </tbody>\n",
       "</table>\n",
       "</div>"
      ],
      "text/plain": [
       "              BPS         PER         PBR         EPS         DIV         DPS\n",
       "start  2004-01-31  2004-01-31  2004-01-31  2004-01-31  2004-01-31  2004-01-31\n",
       "end    2024-09-30  2024-09-30  2024-09-30  2024-09-30  2024-09-30  2024-09-30\n",
       "mean      64684.1        35.8         1.6      5342.9         1.7       849.3\n",
       "std       17561.2        26.8         0.4      1537.8         0.6       251.7"
      ]
     },
     "execution_count": 59,
     "metadata": {},
     "output_type": "execute_result"
    }
   ],
   "source": [
    "fr.get_stats()"
   ]
  },
  {
   "cell_type": "code",
   "execution_count": 60,
   "id": "fb1347f7-43e7-4093-9f19-40a13a60e427",
   "metadata": {},
   "outputs": [],
   "source": [
    "df_ratios = fr.df_ratios"
   ]
  },
  {
   "cell_type": "markdown",
   "id": "8509e43b-c868-421b-850b-cd65515368f1",
   "metadata": {},
   "source": [
    "# Usage"
   ]
  },
  {
   "cell_type": "markdown",
   "id": "0c7a45eb-39b3-486f-aa77-38facc38c64d",
   "metadata": {},
   "source": [
    "## Data"
   ]
  },
  {
   "cell_type": "markdown",
   "id": "bc9263d2-8558-41aa-89d6-6eee1ef22606",
   "metadata": {},
   "source": [
    "### Price"
   ]
  },
  {
   "cell_type": "code",
   "execution_count": 61,
   "id": "5661cf7e-f804-4b18-9bb3-74f96340ba86",
   "metadata": {},
   "outputs": [],
   "source": [
    "uv_k2hl = ['krx', 'kospi200_bt_prices_040102_241023.csv']"
   ]
  },
  {
   "cell_type": "code",
   "execution_count": 62,
   "id": "2a58627f-45c6-4809-851d-e97cf724a8d3",
   "metadata": {},
   "outputs": [
    {
     "name": "stdout",
     "output_type": "stream",
     "text": [
      "426 assets from 2004-01-02 to 2024-10-23 uploaded.\n",
      "df_prices updated\n"
     ]
    }
   ],
   "source": [
    "k2hl = DataManager(\n",
    "    path = path_data,\n",
    "    **dict(zip(['universe', 'file'], uv_k2hl))\n",
    ")\n",
    "k2hl.upload()"
   ]
  },
  {
   "cell_type": "code",
   "execution_count": 63,
   "id": "39e3b14b-e03c-4c48-9324-459df1beffd1",
   "metadata": {},
   "outputs": [
    {
     "name": "stdout",
     "output_type": "stream",
     "text": [
      "ERROR from get_names: '060000'\n"
     ]
    }
   ],
   "source": [
    "df_k2hl = k2hl.df_prices.ffill()\n",
    "assetnames_k2hl = k2hl.get_names()"
   ]
  },
  {
   "cell_type": "markdown",
   "id": "f4de6e0a-791d-4daa-b837-ebe881cc080d",
   "metadata": {},
   "source": [
    "### Ratio"
   ]
  },
  {
   "cell_type": "code",
   "execution_count": 64,
   "id": "8a24680a-116d-4309-9a11-1c6b5e4269bb",
   "metadata": {},
   "outputs": [],
   "source": [
    "file = 'kospi200_bt_ratios_040131_240930.csv'"
   ]
  },
  {
   "cell_type": "code",
   "execution_count": 65,
   "id": "fac0a460-d068-486b-bfec-9bbdca85d474",
   "metadata": {},
   "outputs": [
    {
     "name": "stdout",
     "output_type": "stream",
     "text": [
      "Financial ratios of 426 stocks from 2004-01-31 to 2024-09-30 loaded\n"
     ]
    }
   ],
   "source": [
    "fr = FinancialRatios(file, path_data)"
   ]
  },
  {
   "cell_type": "code",
   "execution_count": 66,
   "id": "ee669362-8f95-4d39-bd3d-4d22a6e7b384",
   "metadata": {},
   "outputs": [],
   "source": [
    "df_ratios = fr.df_ratios"
   ]
  },
  {
   "cell_type": "markdown",
   "id": "5d3cf6c5-c82c-45a4-8a3d-a7d68498b657",
   "metadata": {},
   "source": [
    "*Interpolate & Reshape*"
   ]
  },
  {
   "cell_type": "code",
   "execution_count": 67,
   "id": "a8ab925c-0005-4cee-95cf-46153788092d",
   "metadata": {},
   "outputs": [
    {
     "name": "stdout",
     "output_type": "stream",
     "text": [
      "PER interpolated from 2004-02-02 to 2024-10-23\n",
      "PBR interpolated from 2004-02-02 to 2024-10-23\n"
     ]
    }
   ],
   "source": [
    "df_p = fr.util_reshape(df_k2hl)\n",
    "\n",
    "fratios_dict = dict()\n",
    "for r in ['PER', 'PBR']:\n",
    "    df = fr.interpolate(df_p, r)\n",
    "    fratios_dict[r] = fr.util_reshape(df, stack=False)"
   ]
  },
  {
   "cell_type": "markdown",
   "id": "0e8f76fb-61ef-4240-b061-cc6756962cac",
   "metadata": {},
   "source": [
    "## Backtest"
   ]
  },
  {
   "cell_type": "code",
   "execution_count": 68,
   "id": "8bc1ef6e-2961-4248-87ab-588b69e50d10",
   "metadata": {},
   "outputs": [
    {
     "name": "stdout",
     "output_type": "stream",
     "text": [
      "426 assets from 2004-01-02 to 2024-10-23 uploaded.\n",
      "running self.util_check_days_in_year to check days in a year\n",
      "WARNING: the number of days in a year with 403 assets (95%) is 247 in avg.\n"
     ]
    }
   ],
   "source": [
    "kwargs_bm = dict(\n",
    "    initial_capital = 1e8,\n",
    "    commissions = 0,\n",
    "    align_axis = None, \n",
    "    days_in_year = 245,\n",
    "    asset_names = assetnames_k2hl\n",
    ")\n",
    "bm = BacktestManager(df_k2hl, **kwargs_bm)"
   ]
  },
  {
   "cell_type": "code",
   "execution_count": 69,
   "id": "7eaa890c-52c2-439a-bfde-7ad01925ec98",
   "metadata": {},
   "outputs": [
    {
     "name": "stdout",
     "output_type": "stream",
     "text": [
      "Benchmark is KODEX200\n"
     ]
    }
   ],
   "source": [
    "lags = dict(lookback='12M', lag='20D')\n",
    "bm.benchmark_ticker(**lags)"
   ]
  },
  {
   "cell_type": "code",
   "execution_count": 70,
   "id": "be4df672-b0f4-4d45-8a6d-bb91065751e8",
   "metadata": {},
   "outputs": [],
   "source": [
    "select = 'Momentum'\n",
    "kwargs_build = dict(\n",
    "    name=select, select=select, weigh='Equally', \n",
    "    n_assets=20, freq='M', **lags\n",
    ")\n",
    "bm.build(**kwargs_build)"
   ]
  },
  {
   "cell_type": "code",
   "execution_count": 71,
   "id": "e53ad42b-1738-46e8-af64-5b246403fdf2",
   "metadata": {},
   "outputs": [],
   "source": [
    "fratio = 'PER'\n",
    "kwargs_build = dict(\n",
    "    name=fratio, select='f-ratio', weigh='Equally', \n",
    "    n_assets=20, freq='Y', lookback=0,\n",
    "    df_ratio=fratios_dict[r], ratio_descending=False\n",
    ")\n",
    "bm.build(**kwargs_build)"
   ]
  },
  {
   "cell_type": "code",
   "execution_count": 72,
   "id": "6f319f5a-57ad-43b1-9427-646cfdce805e",
   "metadata": {},
   "outputs": [
    {
     "name": "stdout",
     "output_type": "stream",
     "text": [
      "Backtesting 3 strategies: KODEX200, Momentum, PER\n"
     ]
    },
    {
     "name": "stderr",
     "output_type": "stream",
     "text": [
      "100%|█████████████████████████████████████████████████████████████████| 3/3 [00:22<00:00,  7.35s/it]"
     ]
    },
    {
     "name": "stdout",
     "output_type": "stream",
     "text": [
      "Returning stats\n"
     ]
    },
    {
     "name": "stderr",
     "output_type": "stream",
     "text": [
      "\n"
     ]
    },
    {
     "data": {
      "text/html": [
       "<div>\n",
       "<style scoped>\n",
       "    .dataframe tbody tr th:only-of-type {\n",
       "        vertical-align: middle;\n",
       "    }\n",
       "\n",
       "    .dataframe tbody tr th {\n",
       "        vertical-align: top;\n",
       "    }\n",
       "\n",
       "    .dataframe thead th {\n",
       "        text-align: right;\n",
       "    }\n",
       "</style>\n",
       "<table border=\"1\" class=\"dataframe\">\n",
       "  <thead>\n",
       "    <tr style=\"text-align: right;\">\n",
       "      <th></th>\n",
       "      <th>Momentum</th>\n",
       "      <th>PER</th>\n",
       "      <th>KODEX200</th>\n",
       "    </tr>\n",
       "  </thead>\n",
       "  <tbody>\n",
       "    <tr>\n",
       "      <th>start</th>\n",
       "      <td>2004-01-01</td>\n",
       "      <td>2004-01-01</td>\n",
       "      <td>2004-01-01</td>\n",
       "    </tr>\n",
       "    <tr>\n",
       "      <th>end</th>\n",
       "      <td>2024-10-23</td>\n",
       "      <td>2024-10-23</td>\n",
       "      <td>2024-10-23</td>\n",
       "    </tr>\n",
       "    <tr>\n",
       "      <th>total_return</th>\n",
       "      <td>6.373214</td>\n",
       "      <td>3.149496</td>\n",
       "      <td>3.117451</td>\n",
       "    </tr>\n",
       "    <tr>\n",
       "      <th>cagr</th>\n",
       "      <td>0.100762</td>\n",
       "      <td>0.070771</td>\n",
       "      <td>0.070372</td>\n",
       "    </tr>\n",
       "    <tr>\n",
       "      <th>calmar</th>\n",
       "      <td>0.174172</td>\n",
       "      <td>0.173565</td>\n",
       "      <td>0.133579</td>\n",
       "    </tr>\n",
       "    <tr>\n",
       "      <th>max_drawdown</th>\n",
       "      <td>-0.578519</td>\n",
       "      <td>-0.407748</td>\n",
       "      <td>-0.52682</td>\n",
       "    </tr>\n",
       "    <tr>\n",
       "      <th>avg_drawdown</th>\n",
       "      <td>-0.058004</td>\n",
       "      <td>-0.034739</td>\n",
       "      <td>-0.033954</td>\n",
       "    </tr>\n",
       "    <tr>\n",
       "      <th>avg_drawdown_days</th>\n",
       "      <td>92.878378</td>\n",
       "      <td>101.486111</td>\n",
       "      <td>66.31068</td>\n",
       "    </tr>\n",
       "    <tr>\n",
       "      <th>daily_vol</th>\n",
       "      <td>0.234503</td>\n",
       "      <td>0.120011</td>\n",
       "      <td>0.196613</td>\n",
       "    </tr>\n",
       "    <tr>\n",
       "      <th>daily_sharpe</th>\n",
       "      <td>0.535155</td>\n",
       "      <td>0.641334</td>\n",
       "      <td>0.451214</td>\n",
       "    </tr>\n",
       "    <tr>\n",
       "      <th>daily_sortino</th>\n",
       "      <td>0.848062</td>\n",
       "      <td>1.001275</td>\n",
       "      <td>0.713055</td>\n",
       "    </tr>\n",
       "    <tr>\n",
       "      <th>monthly_vol</th>\n",
       "      <td>0.244925</td>\n",
       "      <td>0.154088</td>\n",
       "      <td>0.179484</td>\n",
       "    </tr>\n",
       "    <tr>\n",
       "      <th>monthly_sharpe</th>\n",
       "      <td>0.515222</td>\n",
       "      <td>0.51935</td>\n",
       "      <td>0.470832</td>\n",
       "    </tr>\n",
       "    <tr>\n",
       "      <th>monthly_sortino</th>\n",
       "      <td>0.969615</td>\n",
       "      <td>1.157904</td>\n",
       "      <td>0.823909</td>\n",
       "    </tr>\n",
       "  </tbody>\n",
       "</table>\n",
       "</div>"
      ],
      "text/plain": [
       "                     Momentum         PER    KODEX200\n",
       "start              2004-01-01  2004-01-01  2004-01-01\n",
       "end                2024-10-23  2024-10-23  2024-10-23\n",
       "total_return         6.373214    3.149496    3.117451\n",
       "cagr                 0.100762    0.070771    0.070372\n",
       "calmar               0.174172    0.173565    0.133579\n",
       "max_drawdown        -0.578519   -0.407748    -0.52682\n",
       "avg_drawdown        -0.058004   -0.034739   -0.033954\n",
       "avg_drawdown_days   92.878378  101.486111    66.31068\n",
       "daily_vol            0.234503    0.120011    0.196613\n",
       "daily_sharpe         0.535155    0.641334    0.451214\n",
       "daily_sortino        0.848062    1.001275    0.713055\n",
       "monthly_vol          0.244925    0.154088    0.179484\n",
       "monthly_sharpe       0.515222     0.51935    0.470832\n",
       "monthly_sortino      0.969615    1.157904    0.823909"
      ]
     },
     "execution_count": 72,
     "metadata": {},
     "output_type": "execute_result"
    },
    {
     "data": {
      "image/png": "[encoded data removed]",
      "text/plain": [
       "<Figure size 800x400 with 1 Axes>"
      ]
     },
     "metadata": {},
     "output_type": "display_data"
    }
   ],
   "source": [
    "bm.run(stats_sort_by='cagr', figsize=(8,4))"
   ]
  },
  {
   "cell_type": "code",
   "execution_count": 73,
   "id": "ed69bb66-8a51-4ba5-9fda-67b5de771434",
   "metadata": {},
   "outputs": [
    {
     "data": {
      "image/png": "[encoded data removed]",
      "text/plain": [
       "<Figure size 800x400 with 1 Axes>"
      ]
     },
     "metadata": {},
     "output_type": "display_data"
    }
   ],
   "source": [
    "bm.plot_security_weights(2, legend=False, figsize=(8,4))"
   ]
  },
  {
   "cell_type": "code",
   "execution_count": null,
   "id": "2cb1d989-a0ba-4fbc-8258-677763f4b442",
   "metadata": {},
   "outputs": [],
   "source": []
  }
 ],
 "metadata": {
  "kernelspec": {
   "display_name": "portfolio",
   "language": "python",
   "name": "portfolio"
  },
  "language_info": {
   "codemirror_mode": {
    "name": "ipython",
    "version": 3
   },
   "file_extension": ".py",
   "mimetype": "text/x-python",
   "name": "python",
   "nbconvert_exporter": "python",
   "pygments_lexer": "ipython3",
   "version": "3.12.1"
  }
 },
 "nbformat": 4,
 "nbformat_minor": 5
}
