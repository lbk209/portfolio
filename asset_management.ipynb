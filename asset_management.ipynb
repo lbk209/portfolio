{
 "cells": [
  {
   "cell_type": "markdown",
   "id": "1a0d2b60-5842-4969-8229-84f355dc46fc",
   "metadata": {},
   "source": [
    "# Setting"
   ]
  },
  {
   "cell_type": "code",
   "execution_count": 1,
   "id": "7009fd2f-8efd-4ed3-a187-01939304fa9e",
   "metadata": {},
   "outputs": [
    {
     "name": "stderr",
     "output_type": "stream",
     "text": [
      "WARNING (pytensor.tensor.blas): Using NumPy C-API based implementation for BLAS functions.\n"
     ]
    }
   ],
   "source": [
    "from pf_utils import BacktestManager, DataManager, MomentumPortfolio"
   ]
  },
  {
   "cell_type": "code",
   "execution_count": 2,
   "id": "b8cb208f-2208-4d5d-8c56-50cf08e59d2c",
   "metadata": {},
   "outputs": [],
   "source": [
    "#import FinanceDataReader as fdr\n",
    "import pandas as pd\n",
    "#import warnings\n",
    "\n",
    "#warnings.filterwarnings(action='ignore', category=FutureWarning)"
   ]
  },
  {
   "cell_type": "code",
   "execution_count": 3,
   "id": "50e290da-c5df-4467-b43f-21363229d5aa",
   "metadata": {},
   "outputs": [],
   "source": [
    "path_data = 'data'"
   ]
  },
  {
   "cell_type": "markdown",
   "id": "facdd186-038c-4f3c-88fe-d5aedd5aa8e5",
   "metadata": {},
   "source": [
    "## Implement"
   ]
  },
  {
   "cell_type": "markdown",
   "id": "5fdba668-b579-42b4-9990-3c81b535e27d",
   "metadata": {},
   "source": [
    "### class1"
   ]
  },
  {
   "cell_type": "markdown",
   "id": "f771bcf7-d0b9-47b1-b91b-8ce3949f0d75",
   "metadata": {},
   "source": [
    "### testing"
   ]
  },
  {
   "cell_type": "code",
   "execution_count": 34,
   "id": "8eb676b4-a326-4d2f-be34-6dd885c39d00",
   "metadata": {},
   "outputs": [
    {
     "ename": "AttributeError",
     "evalue": "'NoneType' object has no attribute 'columns'",
     "output_type": "error",
     "traceback": [
      "\u001b[0;31m---------------------------------------------------------------------------\u001b[0m",
      "\u001b[0;31mAttributeError\u001b[0m                            Traceback (most recent call last)",
      "Cell \u001b[0;32mIn[34], line 1\u001b[0m\n\u001b[0;32m----> 1\u001b[0m \u001b[43mdf_k200\u001b[49m\u001b[38;5;241;43m.\u001b[39;49m\u001b[43mcolumns\u001b[49m\u001b[38;5;241m.\u001b[39msize\n",
      "\u001b[0;31mAttributeError\u001b[0m: 'NoneType' object has no attribute 'columns'"
     ]
    }
   ],
   "source": [
    "df_k200.columns.size"
   ]
  },
  {
   "cell_type": "code",
   "execution_count": null,
   "id": "c40d68c0-796e-4933-926d-b5762a8b123d",
   "metadata": {},
   "outputs": [],
   "source": []
  },
  {
   "cell_type": "code",
   "execution_count": null,
   "id": "5e59f0bb-089e-4190-94fe-a719122e82a7",
   "metadata": {},
   "outputs": [],
   "source": []
  },
  {
   "cell_type": "code",
   "execution_count": null,
   "id": "70c0d5b7-bdbd-4e32-8ae7-e782547221ef",
   "metadata": {},
   "outputs": [],
   "source": []
  },
  {
   "cell_type": "code",
   "execution_count": null,
   "id": "3e9d31de-0cc7-44a3-b02e-81b6502e34d3",
   "metadata": {},
   "outputs": [],
   "source": []
  },
  {
   "cell_type": "code",
   "execution_count": null,
   "id": "75e93f0e-e6e2-4cf5-881a-d6a6227414d0",
   "metadata": {},
   "outputs": [],
   "source": []
  },
  {
   "cell_type": "code",
   "execution_count": null,
   "id": "1228abe1-e582-476b-9cad-d622dd8a3bf6",
   "metadata": {},
   "outputs": [],
   "source": []
  },
  {
   "cell_type": "markdown",
   "id": "0aaaa9db-40ad-414a-b709-de117191981b",
   "metadata": {},
   "source": [
    "# KOSPI 200"
   ]
  },
  {
   "cell_type": "code",
   "execution_count": 35,
   "id": "91fd81c5-0fa2-4cad-9190-61f8c5847fe7",
   "metadata": {},
   "outputs": [],
   "source": [
    "days_in_year = 246"
   ]
  },
  {
   "cell_type": "markdown",
   "id": "b226ec95-1432-4b5e-adda-73da5d6b4cc6",
   "metadata": {},
   "source": [
    "## Data"
   ]
  },
  {
   "cell_type": "code",
   "execution_count": 38,
   "id": "73067063-0a34-4f45-8e5d-643929db4ca2",
   "metadata": {},
   "outputs": [
    {
     "name": "stdout",
     "output_type": "stream",
     "text": [
      " 200 assets from 2010-01-04 to 2024-07-05 uploaded.\n"
     ]
    }
   ],
   "source": [
    "file = 'kospi200_prices_240707l.csv'\n",
    "k200 = DataManager(file, path_data)\n",
    "df_k200 = k200.upload()"
   ]
  },
  {
   "cell_type": "code",
   "execution_count": 23,
   "id": "56cfa843-ffc7-469f-a18d-aefecdac2e5d",
   "metadata": {},
   "outputs": [],
   "source": [
    "#df_k200 = k200.download(start_date='2000', tickers=df_k200.columns)"
   ]
  },
  {
   "cell_type": "code",
   "execution_count": 24,
   "id": "763b4f89-e88e-45f9-807f-6bf8a8608e20",
   "metadata": {},
   "outputs": [],
   "source": [
    "#file = 'test_240707l.csv'\n",
    "#k200.save(df_k200, file)"
   ]
  },
  {
   "cell_type": "markdown",
   "id": "00168468-3042-497d-bd8b-35ee21ca83c5",
   "metadata": {},
   "source": [
    "## Backtest"
   ]
  },
  {
   "cell_type": "code",
   "execution_count": 39,
   "id": "5cd3809d-522b-4cad-944e-de081a5b3657",
   "metadata": {},
   "outputs": [
    {
     "name": "stdout",
     "output_type": "stream",
     "text": [
      "60 assets removed for shorter periods (30.0%)\n",
      "WARNING: the number of days in a year with 140 assets is not 246 in setting:\n"
     ]
    }
   ],
   "source": [
    "kwargs_bm = dict(\n",
    "    initial_capital = 10000000,\n",
    "    commissions = 0,\n",
    "    align_axis = 1, \n",
    "    days_in_year = days_in_year\n",
    ")\n",
    "bm = BacktestManager(df_k200, **kwargs_bm)"
   ]
  },
  {
   "cell_type": "code",
   "execution_count": 40,
   "id": "63f41609-2c02-419d-b8dd-30993313c9e1",
   "metadata": {},
   "outputs": [],
   "source": [
    "name = 'KOSPI'\n",
    "ticker = '069500'\n",
    "df_kospi = bm.util_import_data(ticker, name=name)"
   ]
  },
  {
   "cell_type": "code",
   "execution_count": 41,
   "id": "16ed7eed-f9fb-4650-85ac-4babb4cef057",
   "metadata": {},
   "outputs": [
    {
     "name": "stdout",
     "output_type": "stream",
     "text": [
      "RunOnce selected\n"
     ]
    }
   ],
   "source": [
    "bm.benchmark(df_kospi)"
   ]
  },
  {
   "cell_type": "code",
   "execution_count": 42,
   "id": "b37e9472-eac5-4344-aa7f-a6975e7204b1",
   "metadata": {},
   "outputs": [],
   "source": [
    "kwargs_build = dict(\n",
    "    name = 'Momentum',\n",
    "    freq = 'M', select = 'Momentum', weigh = 'ERC',\n",
    "    n_assets=5, lookback=12, lag=12\n",
    ")\n",
    "bm.build(**kwargs_build)"
   ]
  },
  {
   "cell_type": "code",
   "execution_count": 43,
   "id": "ce2ebc9e-4f37-456c-8b80-6d08227047de",
   "metadata": {},
   "outputs": [],
   "source": [
    "kwargs_build = dict(\n",
    "    name = 'K-ratio',\n",
    "    freq = 'M', select = 'K-ratio', weigh = 'ERC',\n",
    "    n_assets=5, lookback=12, lag=12\n",
    ")\n",
    "bm.build(**kwargs_build)"
   ]
  },
  {
   "cell_type": "code",
   "execution_count": 44,
   "id": "f4636d65-e08d-4f8f-b957-ec2c728b4667",
   "metadata": {},
   "outputs": [
    {
     "name": "stdout",
     "output_type": "stream",
     "text": [
      "Backtesting 3 strategies: KOSPI, Momentum, K-ratio\n"
     ]
    },
    {
     "name": "stderr",
     "output_type": "stream",
     "text": [
      "100%|█████████████████████████████████████████████████████████████████| 3/3 [04:14<00:00, 84.70s/it]"
     ]
    },
    {
     "name": "stdout",
     "output_type": "stream",
     "text": [
      "Returning stats\n"
     ]
    },
    {
     "name": "stderr",
     "output_type": "stream",
     "text": [
      "\n"
     ]
    },
    {
     "data": {
      "text/html": [
       "<div>\n",
       "<style scoped>\n",
       "    .dataframe tbody tr th:only-of-type {\n",
       "        vertical-align: middle;\n",
       "    }\n",
       "\n",
       "    .dataframe tbody tr th {\n",
       "        vertical-align: top;\n",
       "    }\n",
       "\n",
       "    .dataframe thead th {\n",
       "        text-align: right;\n",
       "    }\n",
       "</style>\n",
       "<table border=\"1\" class=\"dataframe\">\n",
       "  <thead>\n",
       "    <tr style=\"text-align: right;\">\n",
       "      <th></th>\n",
       "      <th>KOSPI</th>\n",
       "      <th>Momentum</th>\n",
       "      <th>K-ratio</th>\n",
       "    </tr>\n",
       "  </thead>\n",
       "  <tbody>\n",
       "    <tr>\n",
       "      <th>start</th>\n",
       "      <td>2010-01-03 00:00:00</td>\n",
       "      <td>2010-01-03 00:00:00</td>\n",
       "      <td>2010-01-03 00:00:00</td>\n",
       "    </tr>\n",
       "    <tr>\n",
       "      <th>end</th>\n",
       "      <td>2024-07-05 00:00:00</td>\n",
       "      <td>2024-07-05 00:00:00</td>\n",
       "      <td>2024-07-05 00:00:00</td>\n",
       "    </tr>\n",
       "    <tr>\n",
       "      <th>total_return</th>\n",
       "      <td>1.253297</td>\n",
       "      <td>35.406621</td>\n",
       "      <td>3.005451</td>\n",
       "    </tr>\n",
       "    <tr>\n",
       "      <th>cagr</th>\n",
       "      <td>0.057617</td>\n",
       "      <td>0.281297</td>\n",
       "      <td>0.100412</td>\n",
       "    </tr>\n",
       "    <tr>\n",
       "      <th>calmar</th>\n",
       "      <td>0.151281</td>\n",
       "      <td>0.515125</td>\n",
       "      <td>0.144371</td>\n",
       "    </tr>\n",
       "    <tr>\n",
       "      <th>max_drawdown</th>\n",
       "      <td>-0.380858</td>\n",
       "      <td>-0.546075</td>\n",
       "      <td>-0.695514</td>\n",
       "    </tr>\n",
       "    <tr>\n",
       "      <th>avg_drawdown</th>\n",
       "      <td>-0.034019</td>\n",
       "      <td>-0.065681</td>\n",
       "      <td>-0.046761</td>\n",
       "    </tr>\n",
       "    <tr>\n",
       "      <th>avg_drawdown_days</th>\n",
       "      <td>79.328125</td>\n",
       "      <td>47.237113</td>\n",
       "      <td>91.230769</td>\n",
       "    </tr>\n",
       "    <tr>\n",
       "      <th>daily_vol</th>\n",
       "      <td>0.170957</td>\n",
       "      <td>0.339247</td>\n",
       "      <td>0.248019</td>\n",
       "    </tr>\n",
       "    <tr>\n",
       "      <th>daily_sharpe</th>\n",
       "      <td>0.420096</td>\n",
       "      <td>0.915385</td>\n",
       "      <td>0.517998</td>\n",
       "    </tr>\n",
       "    <tr>\n",
       "      <th>daily_sortino</th>\n",
       "      <td>0.684041</td>\n",
       "      <td>1.581477</td>\n",
       "      <td>0.862356</td>\n",
       "    </tr>\n",
       "    <tr>\n",
       "      <th>monthly_vol</th>\n",
       "      <td>0.16333</td>\n",
       "      <td>0.352294</td>\n",
       "      <td>0.253739</td>\n",
       "    </tr>\n",
       "    <tr>\n",
       "      <th>monthly_sharpe</th>\n",
       "      <td>0.450831</td>\n",
       "      <td>0.875438</td>\n",
       "      <td>0.505762</td>\n",
       "    </tr>\n",
       "    <tr>\n",
       "      <th>monthly_sortino</th>\n",
       "      <td>0.784894</td>\n",
       "      <td>1.972049</td>\n",
       "      <td>0.883013</td>\n",
       "    </tr>\n",
       "  </tbody>\n",
       "</table>\n",
       "</div>"
      ],
      "text/plain": [
       "                                 KOSPI             Momentum  \\\n",
       "start              2010-01-03 00:00:00  2010-01-03 00:00:00   \n",
       "end                2024-07-05 00:00:00  2024-07-05 00:00:00   \n",
       "total_return                  1.253297            35.406621   \n",
       "cagr                          0.057617             0.281297   \n",
       "calmar                        0.151281             0.515125   \n",
       "max_drawdown                 -0.380858            -0.546075   \n",
       "avg_drawdown                 -0.034019            -0.065681   \n",
       "avg_drawdown_days            79.328125            47.237113   \n",
       "daily_vol                     0.170957             0.339247   \n",
       "daily_sharpe                  0.420096             0.915385   \n",
       "daily_sortino                 0.684041             1.581477   \n",
       "monthly_vol                    0.16333             0.352294   \n",
       "monthly_sharpe                0.450831             0.875438   \n",
       "monthly_sortino               0.784894             1.972049   \n",
       "\n",
       "                               K-ratio  \n",
       "start              2010-01-03 00:00:00  \n",
       "end                2024-07-05 00:00:00  \n",
       "total_return                  3.005451  \n",
       "cagr                          0.100412  \n",
       "calmar                        0.144371  \n",
       "max_drawdown                 -0.695514  \n",
       "avg_drawdown                 -0.046761  \n",
       "avg_drawdown_days            91.230769  \n",
       "daily_vol                     0.248019  \n",
       "daily_sharpe                  0.517998  \n",
       "daily_sortino                 0.862356  \n",
       "monthly_vol                   0.253739  \n",
       "monthly_sharpe                0.505762  \n",
       "monthly_sortino               0.883013  "
      ]
     },
     "execution_count": 44,
     "metadata": {},
     "output_type": "execute_result"
    },
    {
     "data": {
      "image/png": "[encoded data removed]",
      "text/plain": [
       "<Figure size 1000x400 with 1 Axes>"
      ]
     },
     "metadata": {},
     "output_type": "display_data"
    }
   ],
   "source": [
    "bm.run(figsize=(10,4))"
   ]
  },
  {
   "cell_type": "markdown",
   "id": "2c9b3de9-e20a-4486-9fc7-7ba75bd5fdec",
   "metadata": {},
   "source": [
    "## Balance"
   ]
  },
  {
   "cell_type": "code",
   "execution_count": 7,
   "id": "8192eea6-6274-4e41-a1e5-5dd83bbd2a42",
   "metadata": {},
   "outputs": [
    {
     "name": "stdout",
     "output_type": "stream",
     "text": [
      "15 assets removed for shorter periods (7.5%)\n"
     ]
    }
   ],
   "source": [
    "k200 = MomentumPortfolio(df_k200, days_in_year)"
   ]
  },
  {
   "cell_type": "code",
   "execution_count": 10,
   "id": "f9e44228-f24b-4f4b-b5eb-5a5a58f26759",
   "metadata": {},
   "outputs": [],
   "source": [
    "k200.select('2024-06-01')\n",
    "k200.weigh()\n",
    "h = k200.balance()"
   ]
  },
  {
   "cell_type": "code",
   "execution_count": 13,
   "id": "7e00874e-09af-4d42-90b9-ebf7fe96ed83",
   "metadata": {},
   "outputs": [
    {
     "data": {
      "text/html": [
       "<div>\n",
       "<style scoped>\n",
       "    .dataframe tbody tr th:only-of-type {\n",
       "        vertical-align: middle;\n",
       "    }\n",
       "\n",
       "    .dataframe tbody tr th {\n",
       "        vertical-align: top;\n",
       "    }\n",
       "\n",
       "    .dataframe thead th {\n",
       "        text-align: right;\n",
       "    }\n",
       "</style>\n",
       "<table border=\"1\" class=\"dataframe\">\n",
       "  <thead>\n",
       "    <tr style=\"text-align: right;\">\n",
       "      <th></th>\n",
       "      <th>price</th>\n",
       "      <th>transaction</th>\n",
       "      <th>balance</th>\n",
       "    </tr>\n",
       "  </thead>\n",
       "  <tbody>\n",
       "    <tr>\n",
       "      <th>001570</th>\n",
       "      <td>82,800</td>\n",
       "      <td>0</td>\n",
       "      <td>17</td>\n",
       "    </tr>\n",
       "    <tr>\n",
       "      <th>002710</th>\n",
       "      <td>53,500</td>\n",
       "      <td>-3</td>\n",
       "      <td>30</td>\n",
       "    </tr>\n",
       "    <tr>\n",
       "      <th>042700</th>\n",
       "      <td>160,200</td>\n",
       "      <td>0</td>\n",
       "      <td>12</td>\n",
       "    </tr>\n",
       "    <tr>\n",
       "      <th>138040</th>\n",
       "      <td>83,400</td>\n",
       "      <td>-3</td>\n",
       "      <td>32</td>\n",
       "    </tr>\n",
       "    <tr>\n",
       "      <th>267260</th>\n",
       "      <td>311,000</td>\n",
       "      <td>-1</td>\n",
       "      <td>6</td>\n",
       "    </tr>\n",
       "  </tbody>\n",
       "</table>\n",
       "</div>"
      ],
      "text/plain": [
       "          price  transaction  balance\n",
       "001570   82,800            0       17\n",
       "002710   53,500           -3       30\n",
       "042700  160,200            0       12\n",
       "138040   83,400           -3       32\n",
       "267260  311,000           -1        6"
      ]
     },
     "execution_count": 13,
     "metadata": {},
     "output_type": "execute_result"
    }
   ],
   "source": [
    "k200.select()\n",
    "k200.weigh()\n",
    "k200.balance(h.balance)"
   ]
  },
  {
   "cell_type": "code",
   "execution_count": null,
   "id": "8367b3bb-95a5-41b7-8903-225d0ab613f7",
   "metadata": {},
   "outputs": [],
   "source": []
  }
 ],
 "metadata": {
  "kernelspec": {
   "display_name": "portfolio",
   "language": "python",
   "name": "portfolio"
  },
  "language_info": {
   "codemirror_mode": {
    "name": "ipython",
    "version": 3
   },
   "file_extension": ".py",
   "mimetype": "text/x-python",
   "name": "python",
   "nbconvert_exporter": "python",
   "pygments_lexer": "ipython3",
   "version": "3.12.1"
  }
 },
 "nbformat": 4,
 "nbformat_minor": 5
}
