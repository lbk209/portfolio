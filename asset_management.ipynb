{
 "cells": [
  {
   "cell_type": "markdown",
   "id": "1a0d2b60-5842-4969-8229-84f355dc46fc",
   "metadata": {},
   "source": [
    "# Setting"
   ]
  },
  {
   "cell_type": "code",
   "execution_count": 2,
   "id": "7009fd2f-8efd-4ed3-a187-01939304fa9e",
   "metadata": {},
   "outputs": [
    {
     "name": "stderr",
     "output_type": "stream",
     "text": [
      "WARNING (pytensor.tensor.blas): Using NumPy C-API based implementation for BLAS functions.\n"
     ]
    }
   ],
   "source": [
    "from pf_utils import BacktestManager"
   ]
  },
  {
   "cell_type": "code",
   "execution_count": 3,
   "id": "b8cb208f-2208-4d5d-8c56-50cf08e59d2c",
   "metadata": {},
   "outputs": [],
   "source": [
    "import FinanceDataReader as fdr\n",
    "import pandas as pd\n",
    "#import warnings\n",
    "\n",
    "#warnings.filterwarnings(action='ignore', category=FutureWarning)"
   ]
  },
  {
   "cell_type": "code",
   "execution_count": 4,
   "id": "50e290da-c5df-4467-b43f-21363229d5aa",
   "metadata": {},
   "outputs": [],
   "source": [
    "path_data = 'data'"
   ]
  },
  {
   "cell_type": "markdown",
   "id": "facdd186-038c-4f3c-88fe-d5aedd5aa8e5",
   "metadata": {},
   "source": [
    "## Implement"
   ]
  },
  {
   "cell_type": "code",
   "execution_count": 97,
   "id": "200631af-a681-48c3-a775-ccc3348ce7f7",
   "metadata": {},
   "outputs": [],
   "source": [
    "import os, time\n",
    "from datetime import datetime\n",
    "\n",
    "\n",
    "def print_runtime(func):\n",
    "    def wrapper(*args, **kwargs):\n",
    "        start_time = time.time()\n",
    "        result = func(*args, **kwargs)\n",
    "        end_time = time.time()\n",
    "        print(f\"Execution time of {func.__name__}: {end_time - start_time:.2f} secs\")\n",
    "        return result\n",
    "    return wrapper\n",
    "        \n",
    "\n",
    "class Kospi200():\n",
    "    def __init__(self, file=None, path='.'):\n",
    "        self.file_historicals = file\n",
    "        self.path = path\n",
    "        self.df_prices = None\n",
    "\n",
    "    def load(self):\n",
    "        file = self.file_historicals\n",
    "        if file is None:\n",
    "            return print('ERROR: no file to load.')\n",
    "        else:\n",
    "            path = self.path\n",
    "        self.df_prices = pd.read_csv(f'{path}/{file}', parse_dates=[0], index_col=[0])\n",
    "\n",
    "\n",
    "    def update(self, col_ticker='Code', symbol='KRX/INDEX/STOCK/1028'):\n",
    "        df_prices_old = self.df_prices\n",
    "        if df_prices_old is None:\n",
    "            return print('ERROR: load df_prices first')\n",
    "\n",
    "        # get lastest tickers\n",
    "        tickers = fdr.SnapDataReader(symbol) \n",
    "        #if tickers is None:\n",
    "        if len(tickers) == 0:\n",
    "            return print('ERROR: failed to get tickers')\n",
    "        else:\n",
    "            tickers = pd.Index(tickers[col_ticker])\n",
    "\n",
    "        return (tickers, df_prices_old) # testing\n",
    "        \n",
    "        df_prices = self._update_existing(tickers, df_prices_old)\n",
    "        df_prices = self._update_new(tickers, df_prices)\n",
    "        return df_prices\n",
    "\n",
    "    \n",
    "    @print_runtime\n",
    "    def _update_existing(self, tickers, df_prices_old):\n",
    "        \"\"\"\n",
    "        update existing tickers\n",
    "        symbol: 'KRX/INDEX/STOCK/1028' for 코스피 200\n",
    "        \"\"\"\n",
    "        tickers = tickers.intersection(df_prices_old.columns)\n",
    "        df_prices = df_prices_old[tickers]\n",
    "        \n",
    "        date_from = df_prices.index.max()\n",
    "        df_prices_new = fdr.DataReader(tickers, date_from)\n",
    "        \n",
    "        # check if adjusted\n",
    "        err = df_prices_new.iloc[0]/df_prices.iloc[-1] - 1\n",
    "        print(f'{err.mean()*100:.0f} ± {err.std()*100:.2f}')\n",
    "\n",
    "        return pd.concat([df_prices, df_prices_new.iloc[1:]])\n",
    "\n",
    "    \n",
    "    @print_runtime\n",
    "    def _update_new(self, tickers, df_prices):\n",
    "        tickers = tickers.difference(df_prices.columns)\n",
    "        if len(tickers) == 0:\n",
    "            return df_prices\n",
    "        else:\n",
    "            date_from = df_prices.index.min()\n",
    "            df_prices_new = fdr.DataReader(tickers, date_from)\n",
    "            return df_prices.join(df_prices_new)\n",
    "\n",
    "\n",
    "    def save(self, file=None, path=None):\n",
    "        file = self._check_var(file, self.file_historicals)\n",
    "        path = self._check_var(path, self.path)\n",
    "        df_prices = self.df_prices\n",
    "        if (file is None) or (df_prices is None):\n",
    "            return print('ERROR: check file or df_prices')\n",
    "\n",
    "        f = os.path.join(path, file)\n",
    "        while os.path.exists(f):\n",
    "            today = datetime.now().strftime('%y%m%d')\n",
    "            name, ext = os.path.splitext(f)\n",
    "            f = f'{name}_{today}{ext}'\n",
    "\n",
    "        df_prices.to_csv(f)    \n",
    "        print(f'{f} saved.')\n",
    "        \n",
    "    def _check_var(self, var_arg, var_self):\n",
    "        return var_self if var_arg is None else var_arg\n"
   ]
  },
  {
   "cell_type": "markdown",
   "id": "f771bcf7-d0b9-47b1-b91b-8ce3949f0d75",
   "metadata": {},
   "source": [
    "### testing"
   ]
  },
  {
   "cell_type": "code",
   "execution_count": 101,
   "id": "3f87a9ab-8c18-44d6-96b6-f235d781dec6",
   "metadata": {},
   "outputs": [],
   "source": [
    "k2h = Kospi200('df_200.csv', path_data)\n",
    "k2h.load()\n",
    "df_prices = k2h.df_prices"
   ]
  },
  {
   "cell_type": "code",
   "execution_count": 88,
   "id": "a661bcd3-d117-4040-a679-8df74e6c75b1",
   "metadata": {},
   "outputs": [
    {
     "name": "stdout",
     "output_type": "stream",
     "text": [
      "CPU times: user 234 μs, sys: 43 μs, total: 277 μs\n",
      "Wall time: 243 μs\n"
     ]
    },
    {
     "data": {
      "text/html": [
       "<div>\n",
       "<style scoped>\n",
       "    .dataframe tbody tr th:only-of-type {\n",
       "        vertical-align: middle;\n",
       "    }\n",
       "\n",
       "    .dataframe tbody tr th {\n",
       "        vertical-align: top;\n",
       "    }\n",
       "\n",
       "    .dataframe thead th {\n",
       "        text-align: right;\n",
       "    }\n",
       "</style>\n",
       "<table border=\"1\" class=\"dataframe\">\n",
       "  <thead>\n",
       "    <tr style=\"text-align: right;\">\n",
       "      <th></th>\n",
       "      <th>051600</th>\n",
       "      <th>001040</th>\n",
       "      <th>001440</th>\n",
       "      <th>316140</th>\n",
       "      <th>004800</th>\n",
       "      <th>028260</th>\n",
       "      <th>192080</th>\n",
       "      <th>383220</th>\n",
       "      <th>036460</th>\n",
       "      <th>185750</th>\n",
       "      <th>...</th>\n",
       "      <th>011170</th>\n",
       "      <th>004020</th>\n",
       "      <th>012750</th>\n",
       "      <th>032830</th>\n",
       "      <th>003620</th>\n",
       "      <th>039130</th>\n",
       "      <th>105560</th>\n",
       "      <th>021240</th>\n",
       "      <th>192820</th>\n",
       "      <th>009420</th>\n",
       "    </tr>\n",
       "    <tr>\n",
       "      <th>Date</th>\n",
       "      <th></th>\n",
       "      <th></th>\n",
       "      <th></th>\n",
       "      <th></th>\n",
       "      <th></th>\n",
       "      <th></th>\n",
       "      <th></th>\n",
       "      <th></th>\n",
       "      <th></th>\n",
       "      <th></th>\n",
       "      <th></th>\n",
       "      <th></th>\n",
       "      <th></th>\n",
       "      <th></th>\n",
       "      <th></th>\n",
       "      <th></th>\n",
       "      <th></th>\n",
       "      <th></th>\n",
       "      <th></th>\n",
       "      <th></th>\n",
       "      <th></th>\n",
       "    </tr>\n",
       "  </thead>\n",
       "  <tbody>\n",
       "    <tr>\n",
       "      <th>2024-06-19</th>\n",
       "      <td>37200</td>\n",
       "      <td>124800</td>\n",
       "      <td>15700</td>\n",
       "      <td>14140</td>\n",
       "      <td>57300</td>\n",
       "      <td>135400</td>\n",
       "      <td>44500</td>\n",
       "      <td>65100.0</td>\n",
       "      <td>55800</td>\n",
       "      <td>100400</td>\n",
       "      <td>...</td>\n",
       "      <td>112300</td>\n",
       "      <td>28950</td>\n",
       "      <td>58700</td>\n",
       "      <td>87400</td>\n",
       "      <td>5340</td>\n",
       "      <td>57000</td>\n",
       "      <td>78900</td>\n",
       "      <td>55200</td>\n",
       "      <td>187100</td>\n",
       "      <td>33000</td>\n",
       "    </tr>\n",
       "    <tr>\n",
       "      <th>2024-06-20</th>\n",
       "      <td>36900</td>\n",
       "      <td>122600</td>\n",
       "      <td>15610</td>\n",
       "      <td>14360</td>\n",
       "      <td>57200</td>\n",
       "      <td>135100</td>\n",
       "      <td>45700</td>\n",
       "      <td>64400.0</td>\n",
       "      <td>63500</td>\n",
       "      <td>101600</td>\n",
       "      <td>...</td>\n",
       "      <td>120500</td>\n",
       "      <td>29350</td>\n",
       "      <td>59500</td>\n",
       "      <td>87600</td>\n",
       "      <td>5310</td>\n",
       "      <td>57400</td>\n",
       "      <td>80800</td>\n",
       "      <td>55900</td>\n",
       "      <td>180000</td>\n",
       "      <td>33000</td>\n",
       "    </tr>\n",
       "    <tr>\n",
       "      <th>2024-06-21</th>\n",
       "      <td>37200</td>\n",
       "      <td>125500</td>\n",
       "      <td>16240</td>\n",
       "      <td>14240</td>\n",
       "      <td>57800</td>\n",
       "      <td>135300</td>\n",
       "      <td>45400</td>\n",
       "      <td>63000.0</td>\n",
       "      <td>61900</td>\n",
       "      <td>94600</td>\n",
       "      <td>...</td>\n",
       "      <td>115000</td>\n",
       "      <td>29600</td>\n",
       "      <td>57600</td>\n",
       "      <td>87000</td>\n",
       "      <td>5250</td>\n",
       "      <td>59600</td>\n",
       "      <td>78600</td>\n",
       "      <td>58200</td>\n",
       "      <td>187000</td>\n",
       "      <td>33350</td>\n",
       "    </tr>\n",
       "    <tr>\n",
       "      <th>2024-06-24</th>\n",
       "      <td>37300</td>\n",
       "      <td>117000</td>\n",
       "      <td>15680</td>\n",
       "      <td>14490</td>\n",
       "      <td>57200</td>\n",
       "      <td>135900</td>\n",
       "      <td>45750</td>\n",
       "      <td>62200.0</td>\n",
       "      <td>63500</td>\n",
       "      <td>95800</td>\n",
       "      <td>...</td>\n",
       "      <td>115000</td>\n",
       "      <td>28950</td>\n",
       "      <td>56800</td>\n",
       "      <td>87000</td>\n",
       "      <td>5170</td>\n",
       "      <td>58500</td>\n",
       "      <td>80000</td>\n",
       "      <td>58000</td>\n",
       "      <td>184100</td>\n",
       "      <td>32300</td>\n",
       "    </tr>\n",
       "    <tr>\n",
       "      <th>2024-06-25</th>\n",
       "      <td>37200</td>\n",
       "      <td>117500</td>\n",
       "      <td>15800</td>\n",
       "      <td>14580</td>\n",
       "      <td>57200</td>\n",
       "      <td>135400</td>\n",
       "      <td>47050</td>\n",
       "      <td>62800.0</td>\n",
       "      <td>62000</td>\n",
       "      <td>96600</td>\n",
       "      <td>...</td>\n",
       "      <td>117400</td>\n",
       "      <td>29200</td>\n",
       "      <td>57600</td>\n",
       "      <td>87800</td>\n",
       "      <td>5210</td>\n",
       "      <td>59000</td>\n",
       "      <td>79900</td>\n",
       "      <td>59700</td>\n",
       "      <td>186700</td>\n",
       "      <td>32600</td>\n",
       "    </tr>\n",
       "  </tbody>\n",
       "</table>\n",
       "<p>5 rows × 200 columns</p>\n",
       "</div>"
      ],
      "text/plain": [
       "            051600  001040  001440  316140  004800  028260  192080   383220  \\\n",
       "Date                                                                          \n",
       "2024-06-19   37200  124800   15700   14140   57300  135400   44500  65100.0   \n",
       "2024-06-20   36900  122600   15610   14360   57200  135100   45700  64400.0   \n",
       "2024-06-21   37200  125500   16240   14240   57800  135300   45400  63000.0   \n",
       "2024-06-24   37300  117000   15680   14490   57200  135900   45750  62200.0   \n",
       "2024-06-25   37200  117500   15800   14580   57200  135400   47050  62800.0   \n",
       "\n",
       "            036460  185750  ...  011170  004020  012750  032830  003620  \\\n",
       "Date                        ...                                           \n",
       "2024-06-19   55800  100400  ...  112300   28950   58700   87400    5340   \n",
       "2024-06-20   63500  101600  ...  120500   29350   59500   87600    5310   \n",
       "2024-06-21   61900   94600  ...  115000   29600   57600   87000    5250   \n",
       "2024-06-24   63500   95800  ...  115000   28950   56800   87000    5170   \n",
       "2024-06-25   62000   96600  ...  117400   29200   57600   87800    5210   \n",
       "\n",
       "            039130  105560  021240  192820  009420  \n",
       "Date                                                \n",
       "2024-06-19   57000   78900   55200  187100   33000  \n",
       "2024-06-20   57400   80800   55900  180000   33000  \n",
       "2024-06-21   59600   78600   58200  187000   33350  \n",
       "2024-06-24   58500   80000   58000  184100   32300  \n",
       "2024-06-25   59000   79900   59700  186700   32600  \n",
       "\n",
       "[5 rows x 200 columns]"
      ]
     },
     "execution_count": 88,
     "metadata": {},
     "output_type": "execute_result"
    }
   ],
   "source": [
    "%%time\n",
    "df_prices.tail()"
   ]
  },
  {
   "cell_type": "code",
   "execution_count": 102,
   "id": "0d629b45-0e81-425d-bc2a-6ce9cb48976e",
   "metadata": {},
   "outputs": [],
   "source": [
    "df_prices2 = k2h.update()"
   ]
  },
  {
   "cell_type": "code",
   "execution_count": 103,
   "id": "1fe47653-1181-4bdd-9f62-5aef17719615",
   "metadata": {},
   "outputs": [
    {
     "name": "stdout",
     "output_type": "stream",
     "text": [
      "-0 ± 1.67\n"
     ]
    }
   ],
   "source": [
    "(tickers, df_prices_old) = df_prices2\n",
    "\n",
    "#def _update_existing(self, tickers, df_prices_old):\n",
    "\n",
    "tickers = tickers.intersection(df_prices_old.columns)\n",
    "df_prices = df_prices_old[tickers]\n",
    "\n",
    "date_from = df_prices.index.max()\n",
    "df_prices_new = fdr.DataReader(tickers, date_from)\n",
    "\n",
    "# check if adjusted\n",
    "err = df_prices_new.iloc[0]/df_prices.iloc[-1] - 1\n",
    "print(f'{err.mean()*100:.0f} ± {err.std()*100:.2f}')\n",
    "\n",
    "#return pd.concat([df_prices, df_prices_new.iloc[1:]])"
   ]
  },
  {
   "cell_type": "code",
   "execution_count": 107,
   "id": "b5b083dc-9e40-405f-b633-96369c32e4ce",
   "metadata": {},
   "outputs": [
    {
     "data": {
      "text/plain": [
       "8"
      ]
     },
     "execution_count": 107,
     "metadata": {},
     "output_type": "execute_result"
    }
   ],
   "source": [
    "(df_prices_new.iloc[0] == df_prices.iloc[-1]).sum()"
   ]
  },
  {
   "cell_type": "code",
   "execution_count": 105,
   "id": "5612cf96-9b81-4fe3-a844-983024a3d8d0",
   "metadata": {},
   "outputs": [
    {
     "data": {
      "text/plain": [
       "005930     80700.0\n",
       "000660    218500.0\n",
       "373220    335000.0\n",
       "005380    288000.0\n",
       "207940    735000.0\n",
       "            ...   \n",
       "285130     49450.0\n",
       "009900     14180.0\n",
       "016380      6480.0\n",
       "005250     14390.0\n",
       "000670    343500.0\n",
       "Name: 2024-06-25 00:00:00, Length: 200, dtype: float64"
      ]
     },
     "execution_count": 105,
     "metadata": {},
     "output_type": "execute_result"
    }
   ],
   "source": []
  },
  {
   "cell_type": "code",
   "execution_count": null,
   "id": "ea59a33c-7575-4f08-88d8-7f52af82b53b",
   "metadata": {},
   "outputs": [],
   "source": []
  },
  {
   "cell_type": "code",
   "execution_count": 31,
   "id": "7b1e82bf-98ec-4264-9c31-6b7a0b40a7ad",
   "metadata": {},
   "outputs": [],
   "source": [
    "k2h.save()"
   ]
  },
  {
   "cell_type": "code",
   "execution_count": null,
   "id": "6ef2f625-9622-4ee0-baaf-7dd920c43739",
   "metadata": {},
   "outputs": [],
   "source": []
  },
  {
   "cell_type": "code",
   "execution_count": null,
   "id": "96d044e8-2f2e-4a96-9c54-28cb3157a333",
   "metadata": {},
   "outputs": [],
   "source": []
  },
  {
   "cell_type": "code",
   "execution_count": null,
   "id": "833c8b9a-134a-4d15-b4c8-85ef98cb50e6",
   "metadata": {},
   "outputs": [],
   "source": []
  },
  {
   "cell_type": "code",
   "execution_count": null,
   "id": "3a50219c-3616-4202-a7bf-cf4fa13e1d65",
   "metadata": {},
   "outputs": [],
   "source": []
  },
  {
   "cell_type": "code",
   "execution_count": null,
   "id": "0f308834-e529-4084-9a9d-52f4feadbb78",
   "metadata": {},
   "outputs": [],
   "source": []
  },
  {
   "cell_type": "code",
   "execution_count": null,
   "id": "0289df0c-f8f5-4c78-af32-343680366870",
   "metadata": {},
   "outputs": [],
   "source": []
  },
  {
   "cell_type": "code",
   "execution_count": null,
   "id": "a6724b2c-1352-440e-9d0d-3cd60cef7089",
   "metadata": {},
   "outputs": [],
   "source": []
  },
  {
   "cell_type": "code",
   "execution_count": 4,
   "id": "db8be1f3-7cb5-4a08-a2b2-8f55c117596e",
   "metadata": {},
   "outputs": [],
   "source": [
    "tickers_200 = fdr.SnapDataReader('KRX/INDEX/STOCK/1028') # 코스피 200"
   ]
  },
  {
   "cell_type": "code",
   "execution_count": 6,
   "id": "0074e5f6-808b-48e9-b681-435e962fcc43",
   "metadata": {},
   "outputs": [
    {
     "data": {
      "text/html": [
       "<div>\n",
       "<style scoped>\n",
       "    .dataframe tbody tr th:only-of-type {\n",
       "        vertical-align: middle;\n",
       "    }\n",
       "\n",
       "    .dataframe tbody tr th {\n",
       "        vertical-align: top;\n",
       "    }\n",
       "\n",
       "    .dataframe thead th {\n",
       "        text-align: right;\n",
       "    }\n",
       "</style>\n",
       "<table border=\"1\" class=\"dataframe\">\n",
       "  <thead>\n",
       "    <tr style=\"text-align: right;\">\n",
       "      <th></th>\n",
       "      <th>Code</th>\n",
       "      <th>Name</th>\n",
       "      <th>Close</th>\n",
       "      <th>RateCode</th>\n",
       "      <th>ComparedRate</th>\n",
       "      <th>Rate</th>\n",
       "      <th>Marcap</th>\n",
       "    </tr>\n",
       "  </thead>\n",
       "  <tbody>\n",
       "  </tbody>\n",
       "</table>\n",
       "</div>"
      ],
      "text/plain": [
       "Empty DataFrame\n",
       "Columns: [Code, Name, Close, RateCode, ComparedRate, Rate, Marcap]\n",
       "Index: []"
      ]
     },
     "execution_count": 6,
     "metadata": {},
     "output_type": "execute_result"
    }
   ],
   "source": [
    "file = 'tickers_kospi200_240704.csv'\n",
    "tickers_200.to_csv(f'{path_data}/{file}')"
   ]
  },
  {
   "cell_type": "code",
   "execution_count": null,
   "id": "a533b6c3-56aa-41fe-afb9-ef0660694dff",
   "metadata": {},
   "outputs": [],
   "source": [
    "file = 'tickers_kospi200_240704.csv'\n",
    "tickers_200 = pd.read_csv(f'{path_data}/{file}')"
   ]
  },
  {
   "cell_type": "code",
   "execution_count": 7,
   "id": "ece7f03c-5443-40dd-9062-3f3e6c5de581",
   "metadata": {},
   "outputs": [
    {
     "name": "stdout",
     "output_type": "stream",
     "text": [
      "No data found\n"
     ]
    }
   ],
   "source": [
    "def load_tickers(file, path='.', update=True, symbol='KRX/INDEX/STOCK/1028'):\n",
    "    \"\"\"\n",
    "    symbol: 'KRX/INDEX/STOCK/1028' for kospi200\n",
    "    \"\"\"\n",
    "    df_tickers = pd.read_csv(f'{path}/{file}',  parse_dates=[0], index_col=[0])\n",
    "\n",
    "\n",
    "    \n",
    "    if update:\n",
    "        df_tickers_new = fdr.SnapDataReader(symbol)\n",
    "        #tickers = tickers_200.Code\n",
    "        #df_200 = fdr.DataReader(tickers, '2021')\n",
    "        if len()\n",
    "    return df_tickers\n",
    "\n",
    "\n",
    "file = 'df_200.csv'\n",
    "df_200 = load_tickers(file, path_data)"
   ]
  },
  {
   "cell_type": "code",
   "execution_count": null,
   "id": "ca9482f9-b39c-487f-9f61-66760f5bc75c",
   "metadata": {},
   "outputs": [],
   "source": []
  },
  {
   "cell_type": "code",
   "execution_count": 62,
   "id": "993bc2d6-be40-404a-8d72-73777ba9ea99",
   "metadata": {},
   "outputs": [
    {
     "data": {
      "text/plain": [
       "191"
      ]
     },
     "execution_count": 62,
     "metadata": {},
     "output_type": "execute_result"
    }
   ],
   "source": [
    "(df_prices.iloc[-1] != df_prices.iloc[-2]).sum()"
   ]
  },
  {
   "cell_type": "code",
   "execution_count": 67,
   "id": "3fec85eb-cf48-4a20-87b3-acfd2a31c608",
   "metadata": {},
   "outputs": [
    {
     "data": {
      "text/plain": [
       "mean    0.007649\n",
       "std     0.013509\n",
       "dtype: float64"
      ]
     },
     "execution_count": 67,
     "metadata": {},
     "output_type": "execute_result"
    }
   ],
   "source": [
    "err = df_prices.iloc[-1] / df_prices.iloc[-2] - 1\n",
    "err.agg(['mean', 'std'])"
   ]
  },
  {
   "cell_type": "code",
   "execution_count": 68,
   "id": "457dfffe-55b3-4dc2-9fee-b4e38d886478",
   "metadata": {},
   "outputs": [
    {
     "name": "stdout",
     "output_type": "stream",
     "text": [
      "mean    0.007649\n",
      "std     0.013509\n",
      "dtype: float64\n"
     ]
    }
   ],
   "source": [
    "print(err.agg(['mean', 'std']))"
   ]
  },
  {
   "cell_type": "code",
   "execution_count": 69,
   "id": "ef5b72d4-59fe-4621-8469-8b92e9e63aa7",
   "metadata": {},
   "outputs": [
    {
     "data": {
      "text/plain": [
       "0.0076491836511528135"
      ]
     },
     "execution_count": 69,
     "metadata": {},
     "output_type": "execute_result"
    }
   ],
   "source": [
    "err.mean()"
   ]
  },
  {
   "cell_type": "code",
   "execution_count": null,
   "id": "20ef01e3-6e3a-4fe3-8194-c4d2d9b2720f",
   "metadata": {},
   "outputs": [],
   "source": []
  },
  {
   "cell_type": "code",
   "execution_count": 71,
   "id": "13b2408c-f9fb-4727-bb52-9c381e7df91f",
   "metadata": {},
   "outputs": [
    {
     "data": {
      "text/html": [
       "<div>\n",
       "<style scoped>\n",
       "    .dataframe tbody tr th:only-of-type {\n",
       "        vertical-align: middle;\n",
       "    }\n",
       "\n",
       "    .dataframe tbody tr th {\n",
       "        vertical-align: top;\n",
       "    }\n",
       "\n",
       "    .dataframe thead th {\n",
       "        text-align: right;\n",
       "    }\n",
       "</style>\n",
       "<table border=\"1\" class=\"dataframe\">\n",
       "  <thead>\n",
       "    <tr style=\"text-align: right;\">\n",
       "      <th></th>\n",
       "      <th>005930</th>\n",
       "      <th>000660</th>\n",
       "    </tr>\n",
       "    <tr>\n",
       "      <th>Date</th>\n",
       "      <th></th>\n",
       "      <th></th>\n",
       "    </tr>\n",
       "  </thead>\n",
       "  <tbody>\n",
       "    <tr>\n",
       "      <th>2024-07-01</th>\n",
       "      <td>81800</td>\n",
       "      <td>235500</td>\n",
       "    </tr>\n",
       "    <tr>\n",
       "      <th>2024-07-02</th>\n",
       "      <td>81800</td>\n",
       "      <td>232000</td>\n",
       "    </tr>\n",
       "    <tr>\n",
       "      <th>2024-07-03</th>\n",
       "      <td>81800</td>\n",
       "      <td>236000</td>\n",
       "    </tr>\n",
       "    <tr>\n",
       "      <th>2024-07-04</th>\n",
       "      <td>84400</td>\n",
       "      <td>229000</td>\n",
       "    </tr>\n",
       "  </tbody>\n",
       "</table>\n",
       "</div>"
      ],
      "text/plain": [
       "            005930  000660\n",
       "Date                      \n",
       "2024-07-01   81800  235500\n",
       "2024-07-02   81800  232000\n",
       "2024-07-03   81800  236000\n",
       "2024-07-04   84400  229000"
      ]
     },
     "execution_count": 71,
     "metadata": {},
     "output_type": "execute_result"
    }
   ],
   "source": [
    "tickers = ['005930', '000660']\n",
    "fdr.DataReader(tickers, '20240701')"
   ]
  },
  {
   "cell_type": "code",
   "execution_count": 72,
   "id": "dbe97376-e61d-464d-be85-d496fa812633",
   "metadata": {},
   "outputs": [
    {
     "data": {
      "text/html": [
       "<div>\n",
       "<style scoped>\n",
       "    .dataframe tbody tr th:only-of-type {\n",
       "        vertical-align: middle;\n",
       "    }\n",
       "\n",
       "    .dataframe tbody tr th {\n",
       "        vertical-align: top;\n",
       "    }\n",
       "\n",
       "    .dataframe thead th {\n",
       "        text-align: right;\n",
       "    }\n",
       "</style>\n",
       "<table border=\"1\" class=\"dataframe\">\n",
       "  <thead>\n",
       "    <tr style=\"text-align: right;\">\n",
       "      <th></th>\n",
       "      <th>005930</th>\n",
       "      <th>000660</th>\n",
       "    </tr>\n",
       "    <tr>\n",
       "      <th>Date</th>\n",
       "      <th></th>\n",
       "      <th></th>\n",
       "    </tr>\n",
       "  </thead>\n",
       "  <tbody>\n",
       "    <tr>\n",
       "      <th>2024-07-01</th>\n",
       "      <td>81800</td>\n",
       "      <td>235500</td>\n",
       "    </tr>\n",
       "    <tr>\n",
       "      <th>2024-07-02</th>\n",
       "      <td>81800</td>\n",
       "      <td>232000</td>\n",
       "    </tr>\n",
       "    <tr>\n",
       "      <th>2024-07-03</th>\n",
       "      <td>81800</td>\n",
       "      <td>236000</td>\n",
       "    </tr>\n",
       "    <tr>\n",
       "      <th>2024-07-04</th>\n",
       "      <td>84500</td>\n",
       "      <td>229000</td>\n",
       "    </tr>\n",
       "  </tbody>\n",
       "</table>\n",
       "</div>"
      ],
      "text/plain": [
       "            005930  000660\n",
       "Date                      \n",
       "2024-07-01   81800  235500\n",
       "2024-07-02   81800  232000\n",
       "2024-07-03   81800  236000\n",
       "2024-07-04   84500  229000"
      ]
     },
     "execution_count": 72,
     "metadata": {},
     "output_type": "execute_result"
    }
   ],
   "source": [
    "fdr.DataReader(tickers, '20240629')"
   ]
  },
  {
   "cell_type": "code",
   "execution_count": null,
   "id": "b2c88540-9973-45be-951f-403a1d1c7492",
   "metadata": {},
   "outputs": [],
   "source": []
  },
  {
   "cell_type": "code",
   "execution_count": null,
   "id": "fad1c9dd-a123-47d6-9222-83b80d31c5d2",
   "metadata": {},
   "outputs": [],
   "source": []
  },
  {
   "cell_type": "code",
   "execution_count": null,
   "id": "a6ac4153-f456-4e24-89f0-f2d3c0423bf5",
   "metadata": {},
   "outputs": [],
   "source": []
  },
  {
   "cell_type": "code",
   "execution_count": null,
   "id": "2ce9a617-9ef4-4bfb-be66-d1fe5a9691d2",
   "metadata": {},
   "outputs": [],
   "source": []
  },
  {
   "cell_type": "markdown",
   "id": "0aaaa9db-40ad-414a-b709-de117191981b",
   "metadata": {},
   "source": [
    "# KOSPI 200"
   ]
  },
  {
   "cell_type": "markdown",
   "id": "b226ec95-1432-4b5e-adda-73da5d6b4cc6",
   "metadata": {},
   "source": [
    "## Data"
   ]
  },
  {
   "cell_type": "code",
   "execution_count": 5,
   "id": "4eb28d60-4227-4506-934e-c3c967ffb406",
   "metadata": {},
   "outputs": [],
   "source": [
    "file = 'df_200.csv'\n",
    "df_200 = pd.read_csv(f'{path_data}/{file}', parse_dates=[0], index_col=[0])"
   ]
  },
  {
   "cell_type": "markdown",
   "id": "00168468-3042-497d-bd8b-35ee21ca83c5",
   "metadata": {},
   "source": [
    "## Backtest"
   ]
  },
  {
   "cell_type": "code",
   "execution_count": 5,
   "id": "5cd3809d-522b-4cad-944e-de081a5b3657",
   "metadata": {},
   "outputs": [
    {
     "name": "stdout",
     "output_type": "stream",
     "text": [
      "15 assets removed for shorter periods (7.5%)\n"
     ]
    }
   ],
   "source": [
    "kwargs_bm = dict(\n",
    "    initial_capital = 10000000,\n",
    "    commissions = 0,\n",
    "    align_axis = 1, \n",
    "    days_in_year = 246\n",
    ")\n",
    "bm = BacktestManager(df_200, **kwargs_bm)"
   ]
  },
  {
   "cell_type": "code",
   "execution_count": 6,
   "id": "63f41609-2c02-419d-b8dd-30993313c9e1",
   "metadata": {},
   "outputs": [],
   "source": [
    "name = 'KOSPI'\n",
    "ticker = '069500'\n",
    "df_kospi = bm.util_import_data(ticker, name=name)"
   ]
  },
  {
   "cell_type": "code",
   "execution_count": 7,
   "id": "16ed7eed-f9fb-4650-85ac-4babb4cef057",
   "metadata": {},
   "outputs": [
    {
     "name": "stdout",
     "output_type": "stream",
     "text": [
      "RunOnce selected\n"
     ]
    }
   ],
   "source": [
    "bm.benchmark(df_kospi)"
   ]
  },
  {
   "cell_type": "code",
   "execution_count": 8,
   "id": "b37e9472-eac5-4344-aa7f-a6975e7204b1",
   "metadata": {},
   "outputs": [],
   "source": [
    "kwargs_build = dict(\n",
    "    name = 'Momentum',\n",
    "    freq = 'M', select = 'Momentum', weigh = 'ERC',\n",
    "    n_assets=5, lookback=12, lag=12\n",
    ")\n",
    "bm.build(**kwargs_build)"
   ]
  },
  {
   "cell_type": "code",
   "execution_count": 9,
   "id": "f4636d65-e08d-4f8f-b957-ec2c728b4667",
   "metadata": {},
   "outputs": [
    {
     "name": "stdout",
     "output_type": "stream",
     "text": [
      "Backtesting 2 strategies: KOSPI, Momentum\n"
     ]
    },
    {
     "name": "stderr",
     "output_type": "stream",
     "text": [
      "100%|█████████████████████████████████████████████████████████████████| 2/2 [00:01<00:00,  1.55it/s]"
     ]
    },
    {
     "name": "stdout",
     "output_type": "stream",
     "text": [
      "Returning stats\n"
     ]
    },
    {
     "name": "stderr",
     "output_type": "stream",
     "text": [
      "\n"
     ]
    },
    {
     "data": {
      "text/html": [
       "<div>\n",
       "<style scoped>\n",
       "    .dataframe tbody tr th:only-of-type {\n",
       "        vertical-align: middle;\n",
       "    }\n",
       "\n",
       "    .dataframe tbody tr th {\n",
       "        vertical-align: top;\n",
       "    }\n",
       "\n",
       "    .dataframe thead th {\n",
       "        text-align: right;\n",
       "    }\n",
       "</style>\n",
       "<table border=\"1\" class=\"dataframe\">\n",
       "  <thead>\n",
       "    <tr style=\"text-align: right;\">\n",
       "      <th></th>\n",
       "      <th>KOSPI</th>\n",
       "      <th>Momentum</th>\n",
       "    </tr>\n",
       "  </thead>\n",
       "  <tbody>\n",
       "    <tr>\n",
       "      <th>start</th>\n",
       "      <td>2021-01-03 00:00:00</td>\n",
       "      <td>2021-01-03 00:00:00</td>\n",
       "    </tr>\n",
       "    <tr>\n",
       "      <th>end</th>\n",
       "      <td>2024-06-25 00:00:00</td>\n",
       "      <td>2024-06-25 00:00:00</td>\n",
       "    </tr>\n",
       "    <tr>\n",
       "      <th>total_return</th>\n",
       "      <td>0.014736</td>\n",
       "      <td>5.194817</td>\n",
       "    </tr>\n",
       "    <tr>\n",
       "      <th>cagr</th>\n",
       "      <td>0.004219</td>\n",
       "      <td>0.690307</td>\n",
       "    </tr>\n",
       "    <tr>\n",
       "      <th>calmar</th>\n",
       "      <td>0.012322</td>\n",
       "      <td>2.492977</td>\n",
       "    </tr>\n",
       "    <tr>\n",
       "      <th>max_drawdown</th>\n",
       "      <td>-0.342432</td>\n",
       "      <td>-0.276901</td>\n",
       "    </tr>\n",
       "    <tr>\n",
       "      <th>avg_drawdown</th>\n",
       "      <td>-0.08767</td>\n",
       "      <td>-0.05618</td>\n",
       "    </tr>\n",
       "    <tr>\n",
       "      <th>avg_drawdown_days</th>\n",
       "      <td>209.0</td>\n",
       "      <td>17.232558</td>\n",
       "    </tr>\n",
       "    <tr>\n",
       "      <th>daily_vol</th>\n",
       "      <td>0.17231</td>\n",
       "      <td>0.381714</td>\n",
       "    </tr>\n",
       "    <tr>\n",
       "      <th>daily_sharpe</th>\n",
       "      <td>0.110941</td>\n",
       "      <td>1.595068</td>\n",
       "    </tr>\n",
       "    <tr>\n",
       "      <th>daily_sortino</th>\n",
       "      <td>0.191243</td>\n",
       "      <td>2.852009</td>\n",
       "    </tr>\n",
       "    <tr>\n",
       "      <th>monthly_vol</th>\n",
       "      <td>0.186264</td>\n",
       "      <td>0.435776</td>\n",
       "    </tr>\n",
       "    <tr>\n",
       "      <th>monthly_sharpe</th>\n",
       "      <td>0.091144</td>\n",
       "      <td>1.439037</td>\n",
       "    </tr>\n",
       "    <tr>\n",
       "      <th>monthly_sortino</th>\n",
       "      <td>0.14652</td>\n",
       "      <td>4.918317</td>\n",
       "    </tr>\n",
       "  </tbody>\n",
       "</table>\n",
       "</div>"
      ],
      "text/plain": [
       "                                 KOSPI             Momentum\n",
       "start              2021-01-03 00:00:00  2021-01-03 00:00:00\n",
       "end                2024-06-25 00:00:00  2024-06-25 00:00:00\n",
       "total_return                  0.014736             5.194817\n",
       "cagr                          0.004219             0.690307\n",
       "calmar                        0.012322             2.492977\n",
       "max_drawdown                 -0.342432            -0.276901\n",
       "avg_drawdown                  -0.08767             -0.05618\n",
       "avg_drawdown_days                209.0            17.232558\n",
       "daily_vol                      0.17231             0.381714\n",
       "daily_sharpe                  0.110941             1.595068\n",
       "daily_sortino                 0.191243             2.852009\n",
       "monthly_vol                   0.186264             0.435776\n",
       "monthly_sharpe                0.091144             1.439037\n",
       "monthly_sortino                0.14652             4.918317"
      ]
     },
     "execution_count": 9,
     "metadata": {},
     "output_type": "execute_result"
    },
    {
     "data": {
      "image/png": "[encoded data removed]",
      "text/plain": [
       "<Figure size 1000x400 with 1 Axes>"
      ]
     },
     "metadata": {},
     "output_type": "display_data"
    }
   ],
   "source": [
    "bm.run(figsize=(10,4))"
   ]
  },
  {
   "cell_type": "code",
   "execution_count": 17,
   "id": "cb59d5ce-9110-45ec-8f7d-1a9a9772e2ad",
   "metadata": {},
   "outputs": [
    {
     "name": "stdout",
     "output_type": "stream",
     "text": [
      "Quantity of securities 2024-06-14\n"
     ]
    },
    {
     "data": {
      "text/plain": [
       "Security\n",
       "003230     22\n",
       "010120     60\n",
       "022100    253\n",
       "042700     65\n",
       "267260     45\n",
       "Name: Volume, dtype: int64"
      ]
     },
     "execution_count": 17,
     "metadata": {},
     "output_type": "execute_result"
    }
   ],
   "source": [
    "df1 = bm.get_balance(1)\n",
    "df1"
   ]
  },
  {
   "cell_type": "code",
   "execution_count": 26,
   "id": "f62ec7bc-c514-4cd3-9824-e36f2f7bf37b",
   "metadata": {},
   "outputs": [
    {
     "data": {
      "text/plain": [
       "Security\n",
       "003230    0.231379\n",
       "010120    0.194089\n",
       "022100    0.172318\n",
       "042700    0.190082\n",
       "267260    0.212132\n",
       "dtype: float64"
      ]
     },
     "execution_count": 26,
     "metadata": {},
     "output_type": "execute_result"
    }
   ],
   "source": [
    "df = bm.df_assets.loc['2024-06-14', df1.index].mul(df1)\n",
    "df.sort_index()/df.sum()"
   ]
  },
  {
   "cell_type": "code",
   "execution_count": 29,
   "id": "5d2d17db-d63b-4c05-abbe-a3d2d9655604",
   "metadata": {},
   "outputs": [
    {
     "name": "stdout",
     "output_type": "stream",
     "text": [
      "Momentum: weights at transactions returned\n"
     ]
    },
    {
     "data": {
      "text/plain": [
       "Date              \n",
       "2024-06-14  003230    0.229132\n",
       "            010120    0.192205\n",
       "            022100    0.170645\n",
       "            042700    0.188237\n",
       "            267260    0.210073\n",
       "dtype: float64"
      ]
     },
     "execution_count": 29,
     "metadata": {},
     "output_type": "execute_result"
    }
   ],
   "source": [
    "df = bm.get_security_weights(1, stack=True)\n",
    "df.iloc[-5:].sort_index()"
   ]
  },
  {
   "cell_type": "code",
   "execution_count": null,
   "id": "f2d4ac66-19b0-4369-b766-02cb890fc4bf",
   "metadata": {},
   "outputs": [],
   "source": []
  }
 ],
 "metadata": {
  "kernelspec": {
   "display_name": "portfolio",
   "language": "python",
   "name": "portfolio"
  },
  "language_info": {
   "codemirror_mode": {
    "name": "ipython",
    "version": 3
   },
   "file_extension": ".py",
   "mimetype": "text/x-python",
   "name": "python",
   "nbconvert_exporter": "python",
   "pygments_lexer": "ipython3",
   "version": "3.12.1"
  }
 },
 "nbformat": 4,
 "nbformat_minor": 5
}
