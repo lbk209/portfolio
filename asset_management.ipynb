{
 "cells": [
  {
   "cell_type": "markdown",
   "id": "1a0d2b60-5842-4969-8229-84f355dc46fc",
   "metadata": {},
   "source": [
    "# Setting"
   ]
  },
  {
   "cell_type": "code",
   "execution_count": 1,
   "id": "7009fd2f-8efd-4ed3-a187-01939304fa9e",
   "metadata": {},
   "outputs": [
    {
     "name": "stderr",
     "output_type": "stream",
     "text": [
      "WARNING (pytensor.tensor.blas): Using NumPy C-API based implementation for BLAS functions.\n"
     ]
    }
   ],
   "source": [
    "from pf_utils import BacktestManager, DataManager, MomentumPortfolio"
   ]
  },
  {
   "cell_type": "code",
   "execution_count": 2,
   "id": "b8cb208f-2208-4d5d-8c56-50cf08e59d2c",
   "metadata": {},
   "outputs": [],
   "source": [
    "#import FinanceDataReader as fdr\n",
    "import pandas as pd\n",
    "#import warnings\n",
    "\n",
    "#warnings.filterwarnings(action='ignore', category=FutureWarning)"
   ]
  },
  {
   "cell_type": "code",
   "execution_count": 3,
   "id": "50e290da-c5df-4467-b43f-21363229d5aa",
   "metadata": {},
   "outputs": [],
   "source": [
    "path_data = 'data'"
   ]
  },
  {
   "cell_type": "markdown",
   "id": "facdd186-038c-4f3c-88fe-d5aedd5aa8e5",
   "metadata": {},
   "source": [
    "## Implement"
   ]
  },
  {
   "cell_type": "markdown",
   "id": "5fdba668-b579-42b4-9990-3c81b535e27d",
   "metadata": {},
   "source": [
    "### class1"
   ]
  },
  {
   "cell_type": "code",
   "execution_count": 15,
   "id": "cfd74b16-f364-459b-92de-6b669f3965ec",
   "metadata": {},
   "outputs": [],
   "source": [
    "import numpy as np\n",
    "\n",
    "class MomentumPortfolio():\n",
    "    def __init__(self, df_assets, lookback=12, lag=0, days_in_year=246):\n",
    "        bm = BacktestManager(df_assets, days_in_year=days_in_year, align_axis=1)\n",
    "        self.df_assets = bm.df_assets\n",
    "        self.lookback = lookback \n",
    "        self.lag = lag \n",
    "        self.selected = None\n",
    "        \n",
    "    \n",
    "    def select(self, date=None, n_assets=5, method='simple'):\n",
    "        df_assets = self.df_assets\n",
    "        if date is not None:\n",
    "            df_assets = df_assets.loc[:date]\n",
    "        date = df_assets.index.max()\n",
    "        dt1 = date - pd.DateOffset(days=self.lag)\n",
    "        dt0 = dt1 - pd.DateOffset(months=self.lookback)\n",
    "        df_data = df_assets.loc[dt0:dt1]\n",
    "\n",
    "        if method.lower() == 'k-ratio':\n",
    "            rank = df_data.pct_change(1).apply(lambda x: calc_kratio(x.dropna())).sort_values(ascending=False)[:n_assets]\n",
    "        else: # default simple\n",
    "            rank = bt.ffn.calc_total_return(df_data).sort_values(ascending=False)[:n_assets]\n",
    "\n",
    "        assets = rank.index\n",
    "        self.selected = {'date': date.strftime('%Y-%m-%d'),\n",
    "                         'rank': rank, 'data': df_data[assets]}\n",
    "        return None\n",
    "\n",
    "    \n",
    "    def weigh(self, method='erc'):\n",
    "        selected = self.selected\n",
    "        if selected is None:\n",
    "            return print('ERROR')\n",
    "        else:\n",
    "            df_data = selected['data']\n",
    "            assets = df_data.columns\n",
    "            \n",
    "        if method.lower() == 'erc':\n",
    "            weights = bt.ffn.calc_erc_weights(df_data.pct_change(1).dropna())\n",
    "        elif method.lower() == 'invvol':\n",
    "            weights = bt.ffn.calc_inv_vol_weights(df_data.pct_change(1).dropna())\n",
    "        else: # default equal\n",
    "            weights = {x:1/len(assets) for x in assets}\n",
    "            weights = pd.Series(weights)\n",
    "        self.selected['weights'] = weights\n",
    "        return weights\n",
    "        \n",
    "\n",
    "    def balance(self, holding=None, capital=10000000, commissions=0):\n",
    "        \"\"\"\n",
    "        calc number of each asset with price and weights\n",
    "        holding: dict of asset-number of holdings\n",
    "        \"\"\"\n",
    "        selected = self.selected\n",
    "        if selected is None:\n",
    "            return print('ERROR')\n",
    "        \n",
    "        try:\n",
    "            date = selected['date']\n",
    "            weights = selected['weights']\n",
    "            assets = weights.index\n",
    "        except KeyError as e:\n",
    "            return print('ERROR')\n",
    "\n",
    "        df_prc = self.df_assets.loc[date]\n",
    "        a = capital / (1+commissions/100)\n",
    "        df_bal = a * pd.Series(weights).mul(1/df_prc.loc[assets]).rename('balance')\n",
    "\n",
    "        if holding is not None:\n",
    "            if isinstance(holding, dict):\n",
    "                holding = pd.Sereis(holding)\n",
    "            df_bal = (df_bal.sub(holding, fill_value=0).to_frame('transaction')\n",
    "                            .join(df_bal, how='outer').fillna(0))\n",
    "\n",
    "        df_bal = df_prc.apply(lambda x: f'{x:,}').to_frame('price').join(df_bal.apply(np.floor).astype(int), how='right')\n",
    "        return df_bal\n",
    "\n",
    "    \n",
    "    def _check_var(self, arg, arg_self):\n",
    "        return arg_self if arg is None else arg"
   ]
  },
  {
   "cell_type": "code",
   "execution_count": null,
   "id": "4e7e16e3-f527-4b20-8877-f9956ef5b2cd",
   "metadata": {},
   "outputs": [],
   "source": []
  },
  {
   "cell_type": "code",
   "execution_count": 305,
   "id": "e7a8e52f-d850-4246-9fa5-07c6c5339980",
   "metadata": {},
   "outputs": [
    {
     "name": "stdout",
     "output_type": "stream",
     "text": [
      "15 assets removed for shorter periods (7.5%)\n"
     ]
    }
   ],
   "source": [
    "k200 = MomentumPortfolio(df_k200, 246)"
   ]
  },
  {
   "cell_type": "code",
   "execution_count": 306,
   "id": "261199e9-091c-4d2a-85cf-f518180cde49",
   "metadata": {},
   "outputs": [],
   "source": [
    "k200.select('2024-05-01')"
   ]
  },
  {
   "cell_type": "code",
   "execution_count": 307,
   "id": "3ca56dfe-ba90-4e30-b5d0-1bb62545117a",
   "metadata": {},
   "outputs": [
    {
     "data": {
      "text/plain": [
       "042700    0.179430\n",
       "267260    0.209935\n",
       "022100    0.157920\n",
       "003230    0.256523\n",
       "010120    0.196192\n",
       "Name: erc, dtype: float64"
      ]
     },
     "execution_count": 307,
     "metadata": {},
     "output_type": "execute_result"
    }
   ],
   "source": [
    "k200.weigh()"
   ]
  },
  {
   "cell_type": "code",
   "execution_count": 308,
   "id": "7b5e0763-8873-4305-a816-76d20ea6414e",
   "metadata": {},
   "outputs": [
    {
     "data": {
      "text/html": [
       "<div>\n",
       "<style scoped>\n",
       "    .dataframe tbody tr th:only-of-type {\n",
       "        vertical-align: middle;\n",
       "    }\n",
       "\n",
       "    .dataframe tbody tr th {\n",
       "        vertical-align: top;\n",
       "    }\n",
       "\n",
       "    .dataframe thead th {\n",
       "        text-align: right;\n",
       "    }\n",
       "</style>\n",
       "<table border=\"1\" class=\"dataframe\">\n",
       "  <thead>\n",
       "    <tr style=\"text-align: right;\">\n",
       "      <th></th>\n",
       "      <th>price</th>\n",
       "      <th>balance</th>\n",
       "    </tr>\n",
       "  </thead>\n",
       "  <tbody>\n",
       "    <tr>\n",
       "      <th>042700</th>\n",
       "      <td>135,000</td>\n",
       "      <td>13</td>\n",
       "    </tr>\n",
       "    <tr>\n",
       "      <th>267260</th>\n",
       "      <td>247,000</td>\n",
       "      <td>8</td>\n",
       "    </tr>\n",
       "    <tr>\n",
       "      <th>022100</th>\n",
       "      <td>40,750</td>\n",
       "      <td>38</td>\n",
       "    </tr>\n",
       "    <tr>\n",
       "      <th>003230</th>\n",
       "      <td>295,500</td>\n",
       "      <td>8</td>\n",
       "    </tr>\n",
       "    <tr>\n",
       "      <th>010120</th>\n",
       "      <td>176,600</td>\n",
       "      <td>11</td>\n",
       "    </tr>\n",
       "  </tbody>\n",
       "</table>\n",
       "</div>"
      ],
      "text/plain": [
       "          price  balance\n",
       "042700  135,000       13\n",
       "267260  247,000        8\n",
       "022100   40,750       38\n",
       "003230  295,500        8\n",
       "010120  176,600       11"
      ]
     },
     "execution_count": 308,
     "metadata": {},
     "output_type": "execute_result"
    }
   ],
   "source": [
    "holding = k200.balance()\n",
    "holding"
   ]
  },
  {
   "cell_type": "code",
   "execution_count": 309,
   "id": "78f27980-6478-4938-95f8-79b1a202216b",
   "metadata": {},
   "outputs": [
    {
     "data": {
      "text/html": [
       "<div>\n",
       "<style scoped>\n",
       "    .dataframe tbody tr th:only-of-type {\n",
       "        vertical-align: middle;\n",
       "    }\n",
       "\n",
       "    .dataframe tbody tr th {\n",
       "        vertical-align: top;\n",
       "    }\n",
       "\n",
       "    .dataframe thead th {\n",
       "        text-align: right;\n",
       "    }\n",
       "</style>\n",
       "<table border=\"1\" class=\"dataframe\">\n",
       "  <thead>\n",
       "    <tr style=\"text-align: right;\">\n",
       "      <th></th>\n",
       "      <th>price</th>\n",
       "      <th>balance</th>\n",
       "    </tr>\n",
       "  </thead>\n",
       "  <tbody>\n",
       "    <tr>\n",
       "      <th>003230</th>\n",
       "      <td>588,000</td>\n",
       "      <td>3</td>\n",
       "    </tr>\n",
       "    <tr>\n",
       "      <th>042700</th>\n",
       "      <td>160,200</td>\n",
       "      <td>11</td>\n",
       "    </tr>\n",
       "    <tr>\n",
       "      <th>267260</th>\n",
       "      <td>311,000</td>\n",
       "      <td>6</td>\n",
       "    </tr>\n",
       "    <tr>\n",
       "      <th>010120</th>\n",
       "      <td>197,000</td>\n",
       "      <td>9</td>\n",
       "    </tr>\n",
       "    <tr>\n",
       "      <th>079550</th>\n",
       "      <td>198,100</td>\n",
       "      <td>11</td>\n",
       "    </tr>\n",
       "  </tbody>\n",
       "</table>\n",
       "</div>"
      ],
      "text/plain": [
       "          price  balance\n",
       "003230  588,000        3\n",
       "042700  160,200       11\n",
       "267260  311,000        6\n",
       "010120  197,000        9\n",
       "079550  198,100       11"
      ]
     },
     "execution_count": 309,
     "metadata": {},
     "output_type": "execute_result"
    }
   ],
   "source": [
    "k200.select()\n",
    "k200.weigh()\n",
    "k200.balance()"
   ]
  },
  {
   "cell_type": "code",
   "execution_count": 310,
   "id": "65ae2f4a-96a5-41af-b94d-39a1cf75e0a2",
   "metadata": {},
   "outputs": [
    {
     "data": {
      "text/html": [
       "<div>\n",
       "<style scoped>\n",
       "    .dataframe tbody tr th:only-of-type {\n",
       "        vertical-align: middle;\n",
       "    }\n",
       "\n",
       "    .dataframe tbody tr th {\n",
       "        vertical-align: top;\n",
       "    }\n",
       "\n",
       "    .dataframe thead th {\n",
       "        text-align: right;\n",
       "    }\n",
       "</style>\n",
       "<table border=\"1\" class=\"dataframe\">\n",
       "  <thead>\n",
       "    <tr style=\"text-align: right;\">\n",
       "      <th></th>\n",
       "      <th>price</th>\n",
       "      <th>transaction</th>\n",
       "      <th>balance</th>\n",
       "    </tr>\n",
       "  </thead>\n",
       "  <tbody>\n",
       "    <tr>\n",
       "      <th>003230</th>\n",
       "      <td>588,000</td>\n",
       "      <td>-5</td>\n",
       "      <td>3</td>\n",
       "    </tr>\n",
       "    <tr>\n",
       "      <th>010120</th>\n",
       "      <td>197,000</td>\n",
       "      <td>-2</td>\n",
       "      <td>9</td>\n",
       "    </tr>\n",
       "    <tr>\n",
       "      <th>022100</th>\n",
       "      <td>37,050</td>\n",
       "      <td>-38</td>\n",
       "      <td>0</td>\n",
       "    </tr>\n",
       "    <tr>\n",
       "      <th>042700</th>\n",
       "      <td>160,200</td>\n",
       "      <td>-2</td>\n",
       "      <td>11</td>\n",
       "    </tr>\n",
       "    <tr>\n",
       "      <th>079550</th>\n",
       "      <td>198,100</td>\n",
       "      <td>11</td>\n",
       "      <td>11</td>\n",
       "    </tr>\n",
       "    <tr>\n",
       "      <th>267260</th>\n",
       "      <td>311,000</td>\n",
       "      <td>-2</td>\n",
       "      <td>6</td>\n",
       "    </tr>\n",
       "  </tbody>\n",
       "</table>\n",
       "</div>"
      ],
      "text/plain": [
       "          price  transaction  balance\n",
       "003230  588,000           -5        3\n",
       "010120  197,000           -2        9\n",
       "022100   37,050          -38        0\n",
       "042700  160,200           -2       11\n",
       "079550  198,100           11       11\n",
       "267260  311,000           -2        6"
      ]
     },
     "execution_count": 310,
     "metadata": {},
     "output_type": "execute_result"
    }
   ],
   "source": [
    "k200.balance(holding.balance)"
   ]
  },
  {
   "cell_type": "code",
   "execution_count": 296,
   "id": "f3eea24f-4e39-48ae-b392-f7ba8d556616",
   "metadata": {},
   "outputs": [
    {
     "data": {
      "text/plain": [
       "042700    135000\n",
       "267260    247000\n",
       "022100     40750\n",
       "003230    295500\n",
       "010120    176600\n",
       "Name: price, dtype: object"
      ]
     },
     "execution_count": 296,
     "metadata": {},
     "output_type": "execute_result"
    }
   ],
   "source": [
    "holding.price.apply(lambda x: f'{x}')"
   ]
  },
  {
   "cell_type": "code",
   "execution_count": 301,
   "id": "e3a0000a-ee52-4c6e-938c-d473a887647d",
   "metadata": {},
   "outputs": [
    {
     "name": "stdout",
     "output_type": "stream",
     "text": [
      "The original number is : 1234567\n",
      "The number after inserting commas : 1,234,567\n"
     ]
    }
   ],
   "source": [
    "# Python3 code to demonstrate working of \n",
    "# Adding comma between numbers \n",
    "# Using str.format() \n",
    "\n",
    "# initializing number \n",
    "test_num = 1234567\n",
    "\n",
    "# printing original number \n",
    "print(\"The original number is : \" + str(test_num)) \n",
    "\n",
    "# Using str.format() \n",
    "# Adding comma between numbers \n",
    "#res = ('{:,}'.format(test_num)) \n",
    "res = '{:,}'.format(test_num) \n",
    "\n",
    "# printing result \n",
    "#print(\"The number after inserting commas : \" + str(res)) \n",
    "print(\"The number after inserting commas : \" + res) \n"
   ]
  },
  {
   "cell_type": "code",
   "execution_count": 300,
   "id": "f465303a-d182-4383-a940-180c63302f44",
   "metadata": {},
   "outputs": [
    {
     "data": {
      "text/plain": [
       "'1,234,567'"
      ]
     },
     "execution_count": 300,
     "metadata": {},
     "output_type": "execute_result"
    }
   ],
   "source": [
    "res"
   ]
  },
  {
   "cell_type": "code",
   "execution_count": 303,
   "id": "fbea42e5-78c2-497f-af2d-4b814d5dd024",
   "metadata": {},
   "outputs": [
    {
     "data": {
      "text/plain": [
       "'10,000'"
      ]
     },
     "execution_count": 303,
     "metadata": {},
     "output_type": "execute_result"
    }
   ],
   "source": [
    "a = 10000\n",
    "a = f'{a:,}'\n",
    "a"
   ]
  },
  {
   "cell_type": "markdown",
   "id": "f771bcf7-d0b9-47b1-b91b-8ce3949f0d75",
   "metadata": {},
   "source": [
    "### testing"
   ]
  },
  {
   "cell_type": "code",
   "execution_count": 75,
   "id": "ba75f49b-2728-496e-9ae2-e15804fa43fa",
   "metadata": {},
   "outputs": [
    {
     "data": {
      "text/plain": [
       "3"
      ]
     },
     "execution_count": 75,
     "metadata": {},
     "output_type": "execute_result"
    }
   ],
   "source": [
    "a = {1:10, 2:20, 3:30}\n",
    "max(a.keys())"
   ]
  },
  {
   "cell_type": "code",
   "execution_count": 12,
   "id": "f907482a-d514-481c-a59e-5d257f009812",
   "metadata": {},
   "outputs": [],
   "source": []
  },
  {
   "cell_type": "code",
   "execution_count": 30,
   "id": "52250c9f-b9c5-4c36-85e4-b04c81afe40a",
   "metadata": {},
   "outputs": [
    {
     "name": "stdout",
     "output_type": "stream",
     "text": [
      "Momentum: quantity of securities on 2024-06-14 returned\n"
     ]
    },
    {
     "data": {
      "text/plain": [
       "Index(['003230', '010120', '022100', '042700', '267260'], dtype='object', name='Security')"
      ]
     },
     "execution_count": 30,
     "metadata": {},
     "output_type": "execute_result"
    }
   ],
   "source": [
    "cols = bm.get_balance(1).index\n",
    "cols"
   ]
  },
  {
   "cell_type": "code",
   "execution_count": 31,
   "id": "bd53bc66-ad4f-4850-936e-25b9810f4422",
   "metadata": {},
   "outputs": [
    {
     "data": {
      "text/plain": [
       "Security\n",
       "003230    0.232657\n",
       "010120    0.188485\n",
       "022100    0.179729\n",
       "042700    0.191453\n",
       "267260    0.207677\n",
       "Name: erc, dtype: float64"
      ]
     },
     "execution_count": 31,
     "metadata": {},
     "output_type": "execute_result"
    }
   ],
   "source": [
    "lookback = 12\n",
    "lag = 5\n",
    "\n",
    "dt1 = df_k200.index.max() - pd.DateOffset(days=lag)\n",
    "dt0 = dt1 - pd.DateOffset(months=lookback)\n",
    "prc = df_k200.loc[dt0:dt1, cols]\n",
    "\n",
    "bt.ffn.calc_erc_weights(prc.pct_change(1).dropna())"
   ]
  },
  {
   "cell_type": "code",
   "execution_count": 10,
   "id": "96f765a5-05eb-4301-b8a1-14f48f188fed",
   "metadata": {},
   "outputs": [
    {
     "data": {
      "text/plain": [
       "003230    5.445087\n",
       "042700    4.705298\n",
       "267260    4.123967\n",
       "010120    1.905138\n",
       "079550    1.729529\n",
       "dtype: float64"
      ]
     },
     "execution_count": 10,
     "metadata": {},
     "output_type": "execute_result"
    }
   ],
   "source": [
    "import bt\n",
    "\n",
    "lookback = 12\n",
    "lag = 5\n",
    "n_assets = 5\n",
    "\n",
    "dt1 = df_k200.index.max() - pd.DateOffset(days=lag)\n",
    "dt0 = dt1 - pd.DateOffset(months=lookback)\n",
    "prc = df_k200.loc[dt0:dt1]\n",
    "\n",
    "selected = bt.ffn.calc_total_return(prc).sort_values(ascending=False)[:n_assets]\n",
    "\n",
    "#bt.ffn.calc_erc_weights(prc.pct_change(1).dropna())\n",
    "selected\n"
   ]
  },
  {
   "cell_type": "code",
   "execution_count": 11,
   "id": "5e3b305e-5e1f-4628-a06f-7edf184f8abd",
   "metadata": {},
   "outputs": [],
   "source": [
    "from pf_custom import calc_kratio"
   ]
  },
  {
   "cell_type": "code",
   "execution_count": 21,
   "id": "2ce9a617-9ef4-4bfb-be66-d1fe5a9691d2",
   "metadata": {},
   "outputs": [
    {
     "data": {
      "text/plain": [
       "175330    96.779872\n",
       "042700    80.194643\n",
       "138040    78.913026\n",
       "001040    72.995139\n",
       "024110    66.344389\n",
       "dtype: float64"
      ]
     },
     "execution_count": 21,
     "metadata": {},
     "output_type": "execute_result"
    }
   ],
   "source": [
    "lookback = 12\n",
    "lag = 5\n",
    "n_assets = 5\n",
    "\n",
    "df = bm.df_assets\n",
    "\n",
    "dt1 = df.index.max() - pd.DateOffset(days=lag)\n",
    "dt0 = dt1 - pd.DateOffset(months=lookback)\n",
    "#prc = df_k200.loc[dt0:dt1]\n",
    "prc = df.loc[dt0:dt1]\n",
    "#ret = bt.ffn.to_returns(prc).dropna()\n",
    "\n",
    "#selected = calc_kratio(ret).sort_values(ascending=False)[:n_assets]\n",
    "selected = prc.pct_change(1).apply(lambda x: calc_kratio(x.dropna())).sort_values(ascending=False)[:n_assets]\n",
    "\n",
    "#bt.ffn.calc_erc_weights(prc.pct_change(1).dropna())\n",
    "selected\n"
   ]
  },
  {
   "cell_type": "code",
   "execution_count": 18,
   "id": "c6195310-6532-47d4-afc1-4c75076373f1",
   "metadata": {},
   "outputs": [
    {
     "data": {
      "text/html": [
       "<div>\n",
       "<style scoped>\n",
       "    .dataframe tbody tr th:only-of-type {\n",
       "        vertical-align: middle;\n",
       "    }\n",
       "\n",
       "    .dataframe tbody tr th {\n",
       "        vertical-align: top;\n",
       "    }\n",
       "\n",
       "    .dataframe thead th {\n",
       "        text-align: right;\n",
       "    }\n",
       "</style>\n",
       "<table border=\"1\" class=\"dataframe\">\n",
       "  <thead>\n",
       "    <tr style=\"text-align: right;\">\n",
       "      <th></th>\n",
       "      <th>000080</th>\n",
       "      <th>000100</th>\n",
       "      <th>000120</th>\n",
       "      <th>000150</th>\n",
       "      <th>000210</th>\n",
       "      <th>000240</th>\n",
       "      <th>000270</th>\n",
       "      <th>000660</th>\n",
       "      <th>000670</th>\n",
       "      <th>000720</th>\n",
       "      <th>...</th>\n",
       "      <th>280360</th>\n",
       "      <th>282330</th>\n",
       "      <th>285130</th>\n",
       "      <th>298020</th>\n",
       "      <th>298050</th>\n",
       "      <th>300720</th>\n",
       "      <th>316140</th>\n",
       "      <th>326030</th>\n",
       "      <th>336260</th>\n",
       "      <th>352820</th>\n",
       "    </tr>\n",
       "    <tr>\n",
       "      <th>Date</th>\n",
       "      <th></th>\n",
       "      <th></th>\n",
       "      <th></th>\n",
       "      <th></th>\n",
       "      <th></th>\n",
       "      <th></th>\n",
       "      <th></th>\n",
       "      <th></th>\n",
       "      <th></th>\n",
       "      <th></th>\n",
       "      <th></th>\n",
       "      <th></th>\n",
       "      <th></th>\n",
       "      <th></th>\n",
       "      <th></th>\n",
       "      <th></th>\n",
       "      <th></th>\n",
       "      <th></th>\n",
       "      <th></th>\n",
       "      <th></th>\n",
       "      <th></th>\n",
       "    </tr>\n",
       "  </thead>\n",
       "  <tbody>\n",
       "    <tr>\n",
       "      <th>2021-01-04</th>\n",
       "      <td>32000</td>\n",
       "      <td>69394</td>\n",
       "      <td>168500</td>\n",
       "      <td>52000</td>\n",
       "      <td>75000</td>\n",
       "      <td>14400</td>\n",
       "      <td>64000</td>\n",
       "      <td>126000</td>\n",
       "      <td>540000</td>\n",
       "      <td>37216</td>\n",
       "      <td>...</td>\n",
       "      <td>105500</td>\n",
       "      <td>132000</td>\n",
       "      <td>264211</td>\n",
       "      <td>213000</td>\n",
       "      <td>151000</td>\n",
       "      <td>10600</td>\n",
       "      <td>9510</td>\n",
       "      <td>154500</td>\n",
       "      <td>56300</td>\n",
       "      <td>156420</td>\n",
       "    </tr>\n",
       "    <tr>\n",
       "      <th>2021-01-05</th>\n",
       "      <td>33200</td>\n",
       "      <td>69219</td>\n",
       "      <td>177000</td>\n",
       "      <td>52400</td>\n",
       "      <td>75000</td>\n",
       "      <td>14300</td>\n",
       "      <td>63700</td>\n",
       "      <td>130500</td>\n",
       "      <td>566000</td>\n",
       "      <td>39016</td>\n",
       "      <td>...</td>\n",
       "      <td>104500</td>\n",
       "      <td>134500</td>\n",
       "      <td>261209</td>\n",
       "      <td>211500</td>\n",
       "      <td>152500</td>\n",
       "      <td>10550</td>\n",
       "      <td>9610</td>\n",
       "      <td>160500</td>\n",
       "      <td>57000</td>\n",
       "      <td>156915</td>\n",
       "    </tr>\n",
       "    <tr>\n",
       "      <th>2021-01-06</th>\n",
       "      <td>34300</td>\n",
       "      <td>67116</td>\n",
       "      <td>172000</td>\n",
       "      <td>51700</td>\n",
       "      <td>75000</td>\n",
       "      <td>14350</td>\n",
       "      <td>62200</td>\n",
       "      <td>131000</td>\n",
       "      <td>565000</td>\n",
       "      <td>38773</td>\n",
       "      <td>...</td>\n",
       "      <td>105500</td>\n",
       "      <td>134000</td>\n",
       "      <td>256872</td>\n",
       "      <td>210000</td>\n",
       "      <td>153500</td>\n",
       "      <td>10450</td>\n",
       "      <td>9580</td>\n",
       "      <td>159500</td>\n",
       "      <td>54500</td>\n",
       "      <td>156915</td>\n",
       "    </tr>\n",
       "    <tr>\n",
       "      <th>2021-01-07</th>\n",
       "      <td>35400</td>\n",
       "      <td>65627</td>\n",
       "      <td>174500</td>\n",
       "      <td>53400</td>\n",
       "      <td>75000</td>\n",
       "      <td>14500</td>\n",
       "      <td>63000</td>\n",
       "      <td>134500</td>\n",
       "      <td>573000</td>\n",
       "      <td>39454</td>\n",
       "      <td>...</td>\n",
       "      <td>106500</td>\n",
       "      <td>136500</td>\n",
       "      <td>257206</td>\n",
       "      <td>224000</td>\n",
       "      <td>160000</td>\n",
       "      <td>10800</td>\n",
       "      <td>9840</td>\n",
       "      <td>158500</td>\n",
       "      <td>55700</td>\n",
       "      <td>155430</td>\n",
       "    </tr>\n",
       "    <tr>\n",
       "      <th>2021-01-08</th>\n",
       "      <td>34800</td>\n",
       "      <td>67203</td>\n",
       "      <td>173000</td>\n",
       "      <td>53800</td>\n",
       "      <td>75000</td>\n",
       "      <td>15000</td>\n",
       "      <td>68300</td>\n",
       "      <td>138000</td>\n",
       "      <td>573000</td>\n",
       "      <td>39892</td>\n",
       "      <td>...</td>\n",
       "      <td>108000</td>\n",
       "      <td>141000</td>\n",
       "      <td>254870</td>\n",
       "      <td>226500</td>\n",
       "      <td>162000</td>\n",
       "      <td>10750</td>\n",
       "      <td>9910</td>\n",
       "      <td>159500</td>\n",
       "      <td>57100</td>\n",
       "      <td>158895</td>\n",
       "    </tr>\n",
       "    <tr>\n",
       "      <th>...</th>\n",
       "      <td>...</td>\n",
       "      <td>...</td>\n",
       "      <td>...</td>\n",
       "      <td>...</td>\n",
       "      <td>...</td>\n",
       "      <td>...</td>\n",
       "      <td>...</td>\n",
       "      <td>...</td>\n",
       "      <td>...</td>\n",
       "      <td>...</td>\n",
       "      <td>...</td>\n",
       "      <td>...</td>\n",
       "      <td>...</td>\n",
       "      <td>...</td>\n",
       "      <td>...</td>\n",
       "      <td>...</td>\n",
       "      <td>...</td>\n",
       "      <td>...</td>\n",
       "      <td>...</td>\n",
       "      <td>...</td>\n",
       "      <td>...</td>\n",
       "    </tr>\n",
       "    <tr>\n",
       "      <th>2024-06-28</th>\n",
       "      <td>21250</td>\n",
       "      <td>80900</td>\n",
       "      <td>95100</td>\n",
       "      <td>217000</td>\n",
       "      <td>59100</td>\n",
       "      <td>15210</td>\n",
       "      <td>129300</td>\n",
       "      <td>236500</td>\n",
       "      <td>339000</td>\n",
       "      <td>32050</td>\n",
       "      <td>...</td>\n",
       "      <td>183400</td>\n",
       "      <td>103300</td>\n",
       "      <td>48800</td>\n",
       "      <td>345000</td>\n",
       "      <td>378000</td>\n",
       "      <td>13400</td>\n",
       "      <td>14690</td>\n",
       "      <td>77500</td>\n",
       "      <td>21150</td>\n",
       "      <td>202500</td>\n",
       "    </tr>\n",
       "    <tr>\n",
       "      <th>2024-07-01</th>\n",
       "      <td>20850</td>\n",
       "      <td>83800</td>\n",
       "      <td>95300</td>\n",
       "      <td>208000</td>\n",
       "      <td>58600</td>\n",
       "      <td>15370</td>\n",
       "      <td>128600</td>\n",
       "      <td>235500</td>\n",
       "      <td>338500</td>\n",
       "      <td>33200</td>\n",
       "      <td>...</td>\n",
       "      <td>170500</td>\n",
       "      <td>107200</td>\n",
       "      <td>49200</td>\n",
       "      <td>349500</td>\n",
       "      <td>368000</td>\n",
       "      <td>13420</td>\n",
       "      <td>14400</td>\n",
       "      <td>78900</td>\n",
       "      <td>20600</td>\n",
       "      <td>200500</td>\n",
       "    </tr>\n",
       "    <tr>\n",
       "      <th>2024-07-02</th>\n",
       "      <td>20550</td>\n",
       "      <td>77000</td>\n",
       "      <td>92700</td>\n",
       "      <td>204500</td>\n",
       "      <td>57400</td>\n",
       "      <td>15130</td>\n",
       "      <td>123600</td>\n",
       "      <td>232000</td>\n",
       "      <td>336000</td>\n",
       "      <td>32200</td>\n",
       "      <td>...</td>\n",
       "      <td>178500</td>\n",
       "      <td>106400</td>\n",
       "      <td>48200</td>\n",
       "      <td>344000</td>\n",
       "      <td>360000</td>\n",
       "      <td>13400</td>\n",
       "      <td>14480</td>\n",
       "      <td>78400</td>\n",
       "      <td>20000</td>\n",
       "      <td>197200</td>\n",
       "    </tr>\n",
       "    <tr>\n",
       "      <th>2024-07-03</th>\n",
       "      <td>20450</td>\n",
       "      <td>79000</td>\n",
       "      <td>94300</td>\n",
       "      <td>225000</td>\n",
       "      <td>56600</td>\n",
       "      <td>15120</td>\n",
       "      <td>123700</td>\n",
       "      <td>236000</td>\n",
       "      <td>332000</td>\n",
       "      <td>32200</td>\n",
       "      <td>...</td>\n",
       "      <td>176200</td>\n",
       "      <td>104000</td>\n",
       "      <td>47850</td>\n",
       "      <td>341000</td>\n",
       "      <td>350500</td>\n",
       "      <td>13530</td>\n",
       "      <td>14640</td>\n",
       "      <td>77500</td>\n",
       "      <td>19940</td>\n",
       "      <td>197000</td>\n",
       "    </tr>\n",
       "    <tr>\n",
       "      <th>2024-07-04</th>\n",
       "      <td>20450</td>\n",
       "      <td>79900</td>\n",
       "      <td>94700</td>\n",
       "      <td>230000</td>\n",
       "      <td>56300</td>\n",
       "      <td>15440</td>\n",
       "      <td>125600</td>\n",
       "      <td>230000</td>\n",
       "      <td>336500</td>\n",
       "      <td>31850</td>\n",
       "      <td>...</td>\n",
       "      <td>173100</td>\n",
       "      <td>101500</td>\n",
       "      <td>48250</td>\n",
       "      <td>340000</td>\n",
       "      <td>354500</td>\n",
       "      <td>13550</td>\n",
       "      <td>14850</td>\n",
       "      <td>77100</td>\n",
       "      <td>20150</td>\n",
       "      <td>201000</td>\n",
       "    </tr>\n",
       "  </tbody>\n",
       "</table>\n",
       "<p>864 rows × 185 columns</p>\n",
       "</div>"
      ],
      "text/plain": [
       "            000080  000100  000120  000150  000210  000240  000270  000660  \\\n",
       "Date                                                                         \n",
       "2021-01-04   32000   69394  168500   52000   75000   14400   64000  126000   \n",
       "2021-01-05   33200   69219  177000   52400   75000   14300   63700  130500   \n",
       "2021-01-06   34300   67116  172000   51700   75000   14350   62200  131000   \n",
       "2021-01-07   35400   65627  174500   53400   75000   14500   63000  134500   \n",
       "2021-01-08   34800   67203  173000   53800   75000   15000   68300  138000   \n",
       "...            ...     ...     ...     ...     ...     ...     ...     ...   \n",
       "2024-06-28   21250   80900   95100  217000   59100   15210  129300  236500   \n",
       "2024-07-01   20850   83800   95300  208000   58600   15370  128600  235500   \n",
       "2024-07-02   20550   77000   92700  204500   57400   15130  123600  232000   \n",
       "2024-07-03   20450   79000   94300  225000   56600   15120  123700  236000   \n",
       "2024-07-04   20450   79900   94700  230000   56300   15440  125600  230000   \n",
       "\n",
       "            000670  000720  ...  280360  282330  285130  298020  298050  \\\n",
       "Date                        ...                                           \n",
       "2021-01-04  540000   37216  ...  105500  132000  264211  213000  151000   \n",
       "2021-01-05  566000   39016  ...  104500  134500  261209  211500  152500   \n",
       "2021-01-06  565000   38773  ...  105500  134000  256872  210000  153500   \n",
       "2021-01-07  573000   39454  ...  106500  136500  257206  224000  160000   \n",
       "2021-01-08  573000   39892  ...  108000  141000  254870  226500  162000   \n",
       "...            ...     ...  ...     ...     ...     ...     ...     ...   \n",
       "2024-06-28  339000   32050  ...  183400  103300   48800  345000  378000   \n",
       "2024-07-01  338500   33200  ...  170500  107200   49200  349500  368000   \n",
       "2024-07-02  336000   32200  ...  178500  106400   48200  344000  360000   \n",
       "2024-07-03  332000   32200  ...  176200  104000   47850  341000  350500   \n",
       "2024-07-04  336500   31850  ...  173100  101500   48250  340000  354500   \n",
       "\n",
       "            300720  316140  326030  336260  352820  \n",
       "Date                                                \n",
       "2021-01-04   10600    9510  154500   56300  156420  \n",
       "2021-01-05   10550    9610  160500   57000  156915  \n",
       "2021-01-06   10450    9580  159500   54500  156915  \n",
       "2021-01-07   10800    9840  158500   55700  155430  \n",
       "2021-01-08   10750    9910  159500   57100  158895  \n",
       "...            ...     ...     ...     ...     ...  \n",
       "2024-06-28   13400   14690   77500   21150  202500  \n",
       "2024-07-01   13420   14400   78900   20600  200500  \n",
       "2024-07-02   13400   14480   78400   20000  197200  \n",
       "2024-07-03   13530   14640   77500   19940  197000  \n",
       "2024-07-04   13550   14850   77100   20150  201000  \n",
       "\n",
       "[864 rows x 185 columns]"
      ]
     },
     "execution_count": 18,
     "metadata": {},
     "output_type": "execute_result"
    }
   ],
   "source": [
    "import numpy as np\n",
    "\n",
    "#def calc_kratio(ret):\n",
    "ret_cs = np.log(1 + ret).cumsum() \n",
    "X = list(range(len(ret)))\n",
    "Y = ret_cs"
   ]
  },
  {
   "cell_type": "code",
   "execution_count": null,
   "id": "8eb676b4-a326-4d2f-be34-6dd885c39d00",
   "metadata": {},
   "outputs": [],
   "source": []
  },
  {
   "cell_type": "code",
   "execution_count": null,
   "id": "1228abe1-e582-476b-9cad-d622dd8a3bf6",
   "metadata": {},
   "outputs": [],
   "source": []
  },
  {
   "cell_type": "markdown",
   "id": "0aaaa9db-40ad-414a-b709-de117191981b",
   "metadata": {},
   "source": [
    "# KOSPI 200"
   ]
  },
  {
   "cell_type": "markdown",
   "id": "b226ec95-1432-4b5e-adda-73da5d6b4cc6",
   "metadata": {},
   "source": [
    "## Data"
   ]
  },
  {
   "cell_type": "code",
   "execution_count": 4,
   "id": "73067063-0a34-4f45-8e5d-643929db4ca2",
   "metadata": {},
   "outputs": [],
   "source": [
    "file = 'kospi200_prices_240704.csv'\n",
    "k200 = DataManager(file, path_data)\n",
    "df_k200 = k200.upload()"
   ]
  },
  {
   "cell_type": "code",
   "execution_count": 5,
   "id": "56cfa843-ffc7-469f-a18d-aefecdac2e5d",
   "metadata": {},
   "outputs": [],
   "source": [
    "#df_k200 = k200.download()"
   ]
  },
  {
   "cell_type": "code",
   "execution_count": 6,
   "id": "91fd81c5-0fa2-4cad-9190-61f8c5847fe7",
   "metadata": {},
   "outputs": [],
   "source": [
    "days_in_year = 246"
   ]
  },
  {
   "cell_type": "markdown",
   "id": "00168468-3042-497d-bd8b-35ee21ca83c5",
   "metadata": {},
   "source": [
    "## Backtest"
   ]
  },
  {
   "cell_type": "code",
   "execution_count": 6,
   "id": "5cd3809d-522b-4cad-944e-de081a5b3657",
   "metadata": {},
   "outputs": [
    {
     "name": "stdout",
     "output_type": "stream",
     "text": [
      "15 assets removed for shorter periods (7.5%)\n"
     ]
    }
   ],
   "source": [
    "kwargs_bm = dict(\n",
    "    initial_capital = 10000000,\n",
    "    commissions = 0,\n",
    "    align_axis = 1, \n",
    "    days_in_year = days_in_year\n",
    ")\n",
    "bm = BacktestManager(df_k200, **kwargs_bm)"
   ]
  },
  {
   "cell_type": "code",
   "execution_count": 7,
   "id": "63f41609-2c02-419d-b8dd-30993313c9e1",
   "metadata": {},
   "outputs": [],
   "source": [
    "name = 'KOSPI'\n",
    "ticker = '069500'\n",
    "df_kospi = bm.util_import_data(ticker, name=name)"
   ]
  },
  {
   "cell_type": "code",
   "execution_count": 8,
   "id": "16ed7eed-f9fb-4650-85ac-4babb4cef057",
   "metadata": {},
   "outputs": [
    {
     "name": "stdout",
     "output_type": "stream",
     "text": [
      "RunOnce selected\n"
     ]
    }
   ],
   "source": [
    "bm.benchmark(df_kospi)"
   ]
  },
  {
   "cell_type": "code",
   "execution_count": 9,
   "id": "b37e9472-eac5-4344-aa7f-a6975e7204b1",
   "metadata": {},
   "outputs": [],
   "source": [
    "kwargs_build = dict(\n",
    "    name = 'Momentum',\n",
    "    freq = 'M', select = 'Momentum', weigh = 'ERC',\n",
    "    n_assets=5, lookback=12, lag=12\n",
    ")\n",
    "bm.build(**kwargs_build)"
   ]
  },
  {
   "cell_type": "code",
   "execution_count": 10,
   "id": "f4636d65-e08d-4f8f-b957-ec2c728b4667",
   "metadata": {},
   "outputs": [
    {
     "name": "stdout",
     "output_type": "stream",
     "text": [
      "Backtesting 2 strategies: KOSPI, Momentum\n"
     ]
    },
    {
     "name": "stderr",
     "output_type": "stream",
     "text": [
      "100%|█████████████████████████████████████████████████████████████████| 2/2 [00:01<00:00,  1.57it/s]"
     ]
    },
    {
     "name": "stdout",
     "output_type": "stream",
     "text": [
      "Returning stats\n"
     ]
    },
    {
     "name": "stderr",
     "output_type": "stream",
     "text": [
      "\n"
     ]
    },
    {
     "data": {
      "text/html": [
       "<div>\n",
       "<style scoped>\n",
       "    .dataframe tbody tr th:only-of-type {\n",
       "        vertical-align: middle;\n",
       "    }\n",
       "\n",
       "    .dataframe tbody tr th {\n",
       "        vertical-align: top;\n",
       "    }\n",
       "\n",
       "    .dataframe thead th {\n",
       "        text-align: right;\n",
       "    }\n",
       "</style>\n",
       "<table border=\"1\" class=\"dataframe\">\n",
       "  <thead>\n",
       "    <tr style=\"text-align: right;\">\n",
       "      <th></th>\n",
       "      <th>KOSPI</th>\n",
       "      <th>Momentum</th>\n",
       "    </tr>\n",
       "  </thead>\n",
       "  <tbody>\n",
       "    <tr>\n",
       "      <th>start</th>\n",
       "      <td>2021-01-03 00:00:00</td>\n",
       "      <td>2021-01-03 00:00:00</td>\n",
       "    </tr>\n",
       "    <tr>\n",
       "      <th>end</th>\n",
       "      <td>2024-07-04 00:00:00</td>\n",
       "      <td>2024-07-04 00:00:00</td>\n",
       "    </tr>\n",
       "    <tr>\n",
       "      <th>total_return</th>\n",
       "      <td>0.040538</td>\n",
       "      <td>4.914072</td>\n",
       "    </tr>\n",
       "    <tr>\n",
       "      <th>cagr</th>\n",
       "      <td>0.011422</td>\n",
       "      <td>0.661896</td>\n",
       "    </tr>\n",
       "    <tr>\n",
       "      <th>calmar</th>\n",
       "      <td>0.033355</td>\n",
       "      <td>2.390372</td>\n",
       "    </tr>\n",
       "    <tr>\n",
       "      <th>max_drawdown</th>\n",
       "      <td>-0.342432</td>\n",
       "      <td>-0.276901</td>\n",
       "    </tr>\n",
       "    <tr>\n",
       "      <th>avg_drawdown</th>\n",
       "      <td>-0.08767</td>\n",
       "      <td>-0.05712</td>\n",
       "    </tr>\n",
       "    <tr>\n",
       "      <th>avg_drawdown_days</th>\n",
       "      <td>210.5</td>\n",
       "      <td>17.44186</td>\n",
       "    </tr>\n",
       "    <tr>\n",
       "      <th>daily_vol</th>\n",
       "      <td>0.171906</td>\n",
       "      <td>0.381679</td>\n",
       "    </tr>\n",
       "    <tr>\n",
       "      <th>daily_sharpe</th>\n",
       "      <td>0.153201</td>\n",
       "      <td>1.548286</td>\n",
       "    </tr>\n",
       "    <tr>\n",
       "      <th>daily_sortino</th>\n",
       "      <td>0.264139</td>\n",
       "      <td>2.762285</td>\n",
       "    </tr>\n",
       "    <tr>\n",
       "      <th>monthly_vol</th>\n",
       "      <td>0.185406</td>\n",
       "      <td>0.436063</td>\n",
       "    </tr>\n",
       "    <tr>\n",
       "      <th>monthly_sharpe</th>\n",
       "      <td>0.129453</td>\n",
       "      <td>1.376583</td>\n",
       "    </tr>\n",
       "    <tr>\n",
       "      <th>monthly_sortino</th>\n",
       "      <td>0.208787</td>\n",
       "      <td>4.656743</td>\n",
       "    </tr>\n",
       "  </tbody>\n",
       "</table>\n",
       "</div>"
      ],
      "text/plain": [
       "                                 KOSPI             Momentum\n",
       "start              2021-01-03 00:00:00  2021-01-03 00:00:00\n",
       "end                2024-07-04 00:00:00  2024-07-04 00:00:00\n",
       "total_return                  0.040538             4.914072\n",
       "cagr                          0.011422             0.661896\n",
       "calmar                        0.033355             2.390372\n",
       "max_drawdown                 -0.342432            -0.276901\n",
       "avg_drawdown                  -0.08767             -0.05712\n",
       "avg_drawdown_days                210.5             17.44186\n",
       "daily_vol                     0.171906             0.381679\n",
       "daily_sharpe                  0.153201             1.548286\n",
       "daily_sortino                 0.264139             2.762285\n",
       "monthly_vol                   0.185406             0.436063\n",
       "monthly_sharpe                0.129453             1.376583\n",
       "monthly_sortino               0.208787             4.656743"
      ]
     },
     "execution_count": 10,
     "metadata": {},
     "output_type": "execute_result"
    },
    {
     "data": {
      "image/png": "[encoded data removed]",
      "text/plain": [
       "<Figure size 1000x400 with 1 Axes>"
      ]
     },
     "metadata": {},
     "output_type": "display_data"
    }
   ],
   "source": [
    "bm.run(figsize=(10,4))"
   ]
  },
  {
   "cell_type": "markdown",
   "id": "2c9b3de9-e20a-4486-9fc7-7ba75bd5fdec",
   "metadata": {},
   "source": [
    "## Balance"
   ]
  },
  {
   "cell_type": "code",
   "execution_count": 7,
   "id": "8192eea6-6274-4e41-a1e5-5dd83bbd2a42",
   "metadata": {},
   "outputs": [
    {
     "name": "stdout",
     "output_type": "stream",
     "text": [
      "15 assets removed for shorter periods (7.5%)\n"
     ]
    }
   ],
   "source": [
    "k200 = MomentumPortfolio(df_k200, days_in_year)"
   ]
  },
  {
   "cell_type": "code",
   "execution_count": 10,
   "id": "f9e44228-f24b-4f4b-b5eb-5a5a58f26759",
   "metadata": {},
   "outputs": [],
   "source": [
    "k200.select('2024-06-01')\n",
    "k200.weigh()\n",
    "h = k200.balance()"
   ]
  },
  {
   "cell_type": "code",
   "execution_count": 13,
   "id": "7e00874e-09af-4d42-90b9-ebf7fe96ed83",
   "metadata": {},
   "outputs": [
    {
     "data": {
      "text/html": [
       "<div>\n",
       "<style scoped>\n",
       "    .dataframe tbody tr th:only-of-type {\n",
       "        vertical-align: middle;\n",
       "    }\n",
       "\n",
       "    .dataframe tbody tr th {\n",
       "        vertical-align: top;\n",
       "    }\n",
       "\n",
       "    .dataframe thead th {\n",
       "        text-align: right;\n",
       "    }\n",
       "</style>\n",
       "<table border=\"1\" class=\"dataframe\">\n",
       "  <thead>\n",
       "    <tr style=\"text-align: right;\">\n",
       "      <th></th>\n",
       "      <th>price</th>\n",
       "      <th>transaction</th>\n",
       "      <th>balance</th>\n",
       "    </tr>\n",
       "  </thead>\n",
       "  <tbody>\n",
       "    <tr>\n",
       "      <th>001570</th>\n",
       "      <td>82,800</td>\n",
       "      <td>0</td>\n",
       "      <td>17</td>\n",
       "    </tr>\n",
       "    <tr>\n",
       "      <th>002710</th>\n",
       "      <td>53,500</td>\n",
       "      <td>-3</td>\n",
       "      <td>30</td>\n",
       "    </tr>\n",
       "    <tr>\n",
       "      <th>042700</th>\n",
       "      <td>160,200</td>\n",
       "      <td>0</td>\n",
       "      <td>12</td>\n",
       "    </tr>\n",
       "    <tr>\n",
       "      <th>138040</th>\n",
       "      <td>83,400</td>\n",
       "      <td>-3</td>\n",
       "      <td>32</td>\n",
       "    </tr>\n",
       "    <tr>\n",
       "      <th>267260</th>\n",
       "      <td>311,000</td>\n",
       "      <td>-1</td>\n",
       "      <td>6</td>\n",
       "    </tr>\n",
       "  </tbody>\n",
       "</table>\n",
       "</div>"
      ],
      "text/plain": [
       "          price  transaction  balance\n",
       "001570   82,800            0       17\n",
       "002710   53,500           -3       30\n",
       "042700  160,200            0       12\n",
       "138040   83,400           -3       32\n",
       "267260  311,000           -1        6"
      ]
     },
     "execution_count": 13,
     "metadata": {},
     "output_type": "execute_result"
    }
   ],
   "source": [
    "k200.select()\n",
    "k200.weigh()\n",
    "k200.balance(h.balance)"
   ]
  },
  {
   "cell_type": "code",
   "execution_count": null,
   "id": "8367b3bb-95a5-41b7-8903-225d0ab613f7",
   "metadata": {},
   "outputs": [],
   "source": []
  }
 ],
 "metadata": {
  "kernelspec": {
   "display_name": "portfolio",
   "language": "python",
   "name": "portfolio"
  },
  "language_info": {
   "codemirror_mode": {
    "name": "ipython",
    "version": 3
   },
   "file_extension": ".py",
   "mimetype": "text/x-python",
   "name": "python",
   "nbconvert_exporter": "python",
   "pygments_lexer": "ipython3",
   "version": "3.12.1"
  }
 },
 "nbformat": 4,
 "nbformat_minor": 5
}
