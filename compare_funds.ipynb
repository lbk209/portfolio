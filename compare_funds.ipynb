{
 "cells": [
  {
   "cell_type": "markdown",
   "id": "f0782e03-27b3-4f4a-bfa8-79ea73c91cdd",
   "metadata": {},
   "source": [
    "# Setting"
   ]
  },
  {
   "cell_type": "code",
   "execution_count": 1,
   "id": "08e5b3f4-01dc-4a4e-8f1b-50db17fd72e6",
   "metadata": {},
   "outputs": [],
   "source": [
    "import bt\n",
    "import FinanceDataReader as fdr\n",
    "import pandas as pd\n",
    "from pf_utils import buy_and_hold, backtest, get_start_dates, metrics"
   ]
  },
  {
   "cell_type": "code",
   "execution_count": 2,
   "id": "3cfca3a2-13ed-46a2-abc6-10659e8932b4",
   "metadata": {},
   "outputs": [],
   "source": [
    "path_data = 'data'"
   ]
  },
  {
   "cell_type": "code",
   "execution_count": 3,
   "id": "c4ec858e-2b9f-4461-aed9-007a9de23d70",
   "metadata": {},
   "outputs": [],
   "source": [
    "import warnings\n",
    "warnings.filterwarnings(action='ignore', category=FutureWarning)"
   ]
  },
  {
   "cell_type": "markdown",
   "id": "1ff75e3f-8901-4f7c-bc31-1d5b98450ab8",
   "metadata": {},
   "source": [
    "# Data"
   ]
  },
  {
   "cell_type": "markdown",
   "id": "a530c105-2f90-417b-bbe6-f9d04c6ac17e",
   "metadata": {},
   "source": [
    "## TDF 1"
   ]
  },
  {
   "cell_type": "code",
   "execution_count": 76,
   "id": "80fec7fa-d931-4c0f-bc20-ccb972c4a91f",
   "metadata": {},
   "outputs": [
    {
     "data": {
      "text/html": [
       "<div>\n",
       "<style scoped>\n",
       "    .dataframe tbody tr th:only-of-type {\n",
       "        vertical-align: middle;\n",
       "    }\n",
       "\n",
       "    .dataframe tbody tr th {\n",
       "        vertical-align: top;\n",
       "    }\n",
       "\n",
       "    .dataframe thead th {\n",
       "        text-align: right;\n",
       "    }\n",
       "</style>\n",
       "<table border=\"1\" class=\"dataframe\">\n",
       "  <thead>\n",
       "    <tr style=\"text-align: right;\">\n",
       "      <th></th>\n",
       "      <th>날짜</th>\n",
       "      <th>펀드</th>\n",
       "      <th>비교지수</th>\n",
       "    </tr>\n",
       "  </thead>\n",
       "  <tbody>\n",
       "    <tr>\n",
       "      <th>1450</th>\n",
       "      <td>2024-06-07</td>\n",
       "      <td>34.09</td>\n",
       "      <td>0</td>\n",
       "    </tr>\n",
       "    <tr>\n",
       "      <th>1451</th>\n",
       "      <td>2024-06-10</td>\n",
       "      <td>34.81</td>\n",
       "      <td>0</td>\n",
       "    </tr>\n",
       "    <tr>\n",
       "      <th>1452</th>\n",
       "      <td>2024-06-11</td>\n",
       "      <td>34.68</td>\n",
       "      <td>0</td>\n",
       "    </tr>\n",
       "    <tr>\n",
       "      <th>1453</th>\n",
       "      <td>2024-06-12</td>\n",
       "      <td>34.94</td>\n",
       "      <td>0</td>\n",
       "    </tr>\n",
       "    <tr>\n",
       "      <th>1454</th>\n",
       "      <td>2024-06-13</td>\n",
       "      <td>34.95</td>\n",
       "      <td>0</td>\n",
       "    </tr>\n",
       "  </tbody>\n",
       "</table>\n",
       "</div>"
      ],
      "text/plain": [
       "             날짜     펀드  비교지수\n",
       "1450 2024-06-07  34.09     0\n",
       "1451 2024-06-10  34.81     0\n",
       "1452 2024-06-11  34.68     0\n",
       "1453 2024-06-12  34.94     0\n",
       "1454 2024-06-13  34.95     0"
      ]
     },
     "execution_count": 76,
     "metadata": {},
     "output_type": "execute_result"
    }
   ],
   "source": [
    "file = 'K55206C95800.csv'\n",
    "df_tdf = pd.read_csv(f'{path_data}/{file}', parse_dates=[0])\n",
    "df_tdf.tail()"
   ]
  },
  {
   "cell_type": "code",
   "execution_count": 77,
   "id": "9ba9cd5d-30bd-48b9-894f-9db8abce1eac",
   "metadata": {},
   "outputs": [
    {
     "data": {
      "text/html": [
       "<div>\n",
       "<style scoped>\n",
       "    .dataframe tbody tr th:only-of-type {\n",
       "        vertical-align: middle;\n",
       "    }\n",
       "\n",
       "    .dataframe tbody tr th {\n",
       "        vertical-align: top;\n",
       "    }\n",
       "\n",
       "    .dataframe thead th {\n",
       "        text-align: right;\n",
       "    }\n",
       "</style>\n",
       "<table border=\"1\" class=\"dataframe\">\n",
       "  <thead>\n",
       "    <tr style=\"text-align: right;\">\n",
       "      <th></th>\n",
       "      <th>K55206C95800</th>\n",
       "    </tr>\n",
       "    <tr>\n",
       "      <th>date</th>\n",
       "      <th></th>\n",
       "    </tr>\n",
       "  </thead>\n",
       "  <tbody>\n",
       "    <tr>\n",
       "      <th>2018-07-26</th>\n",
       "      <td>0.00</td>\n",
       "    </tr>\n",
       "    <tr>\n",
       "      <th>2018-07-27</th>\n",
       "      <td>0.10</td>\n",
       "    </tr>\n",
       "    <tr>\n",
       "      <th>2018-07-30</th>\n",
       "      <td>0.28</td>\n",
       "    </tr>\n",
       "    <tr>\n",
       "      <th>2018-07-31</th>\n",
       "      <td>0.17</td>\n",
       "    </tr>\n",
       "    <tr>\n",
       "      <th>2018-08-01</th>\n",
       "      <td>0.13</td>\n",
       "    </tr>\n",
       "  </tbody>\n",
       "</table>\n",
       "</div>"
      ],
      "text/plain": [
       "            K55206C95800\n",
       "date                    \n",
       "2018-07-26          0.00\n",
       "2018-07-27          0.10\n",
       "2018-07-30          0.28\n",
       "2018-07-31          0.17\n",
       "2018-08-01          0.13"
      ]
     },
     "execution_count": 77,
     "metadata": {},
     "output_type": "execute_result"
    }
   ],
   "source": [
    "df_tdf = df_tdf[['날짜','펀드']]\n",
    "df_tdf.columns = ['date', 'K55206C95800']\n",
    "df_tdf = df_tdf.set_index('date')\n",
    "df_tdf.head()"
   ]
  },
  {
   "cell_type": "code",
   "execution_count": 78,
   "id": "4fcd400b-147c-4d4b-a523-8927a33c3797",
   "metadata": {},
   "outputs": [
    {
     "data": {
      "text/html": [
       "<div>\n",
       "<style scoped>\n",
       "    .dataframe tbody tr th:only-of-type {\n",
       "        vertical-align: middle;\n",
       "    }\n",
       "\n",
       "    .dataframe tbody tr th {\n",
       "        vertical-align: top;\n",
       "    }\n",
       "\n",
       "    .dataframe thead th {\n",
       "        text-align: right;\n",
       "    }\n",
       "</style>\n",
       "<table border=\"1\" class=\"dataframe\">\n",
       "  <thead>\n",
       "    <tr style=\"text-align: right;\">\n",
       "      <th></th>\n",
       "      <th>K55206C95800</th>\n",
       "    </tr>\n",
       "    <tr>\n",
       "      <th>date</th>\n",
       "      <th></th>\n",
       "    </tr>\n",
       "  </thead>\n",
       "  <tbody>\n",
       "    <tr>\n",
       "      <th>2024-06-07</th>\n",
       "      <td>34.09</td>\n",
       "    </tr>\n",
       "    <tr>\n",
       "      <th>2024-06-10</th>\n",
       "      <td>34.81</td>\n",
       "    </tr>\n",
       "    <tr>\n",
       "      <th>2024-06-11</th>\n",
       "      <td>34.68</td>\n",
       "    </tr>\n",
       "    <tr>\n",
       "      <th>2024-06-12</th>\n",
       "      <td>34.94</td>\n",
       "    </tr>\n",
       "    <tr>\n",
       "      <th>2024-06-13</th>\n",
       "      <td>34.95</td>\n",
       "    </tr>\n",
       "  </tbody>\n",
       "</table>\n",
       "</div>"
      ],
      "text/plain": [
       "            K55206C95800\n",
       "date                    \n",
       "2024-06-07         34.09\n",
       "2024-06-10         34.81\n",
       "2024-06-11         34.68\n",
       "2024-06-12         34.94\n",
       "2024-06-13         34.95"
      ]
     },
     "execution_count": 78,
     "metadata": {},
     "output_type": "execute_result"
    }
   ],
   "source": [
    "df_tdf.tail()"
   ]
  },
  {
   "cell_type": "code",
   "execution_count": 79,
   "id": "0283eb7a-2d12-49d4-b699-03e8c57aa8fe",
   "metadata": {},
   "outputs": [
    {
     "data": {
      "text/plain": [
       "958.1410874564201"
      ]
     },
     "execution_count": 79,
     "metadata": {},
     "output_type": "execute_result"
    }
   ],
   "source": [
    "# 2024.06.13 기준가:\t1,293.01\n",
    "#a = 1293.01 / (34.95/100+1)\n",
    "# 2024.06.10 기준가:\t1,291.67\t\n",
    "a = 1291.67 / (34.81/100+1)\n",
    "a"
   ]
  },
  {
   "cell_type": "code",
   "execution_count": 80,
   "id": "055aa0c1-e17a-4052-8636-13e88b758c42",
   "metadata": {},
   "outputs": [
    {
     "data": {
      "text/html": [
       "<div>\n",
       "<style scoped>\n",
       "    .dataframe tbody tr th:only-of-type {\n",
       "        vertical-align: middle;\n",
       "    }\n",
       "\n",
       "    .dataframe tbody tr th {\n",
       "        vertical-align: top;\n",
       "    }\n",
       "\n",
       "    .dataframe thead th {\n",
       "        text-align: right;\n",
       "    }\n",
       "</style>\n",
       "<table border=\"1\" class=\"dataframe\">\n",
       "  <thead>\n",
       "    <tr style=\"text-align: right;\">\n",
       "      <th></th>\n",
       "      <th>K55206C95800</th>\n",
       "    </tr>\n",
       "    <tr>\n",
       "      <th>date</th>\n",
       "      <th></th>\n",
       "    </tr>\n",
       "  </thead>\n",
       "  <tbody>\n",
       "    <tr>\n",
       "      <th>2024-06-07</th>\n",
       "      <td>1284.771384</td>\n",
       "    </tr>\n",
       "    <tr>\n",
       "      <th>2024-06-10</th>\n",
       "      <td>1291.670000</td>\n",
       "    </tr>\n",
       "    <tr>\n",
       "      <th>2024-06-11</th>\n",
       "      <td>1290.424417</td>\n",
       "    </tr>\n",
       "    <tr>\n",
       "      <th>2024-06-12</th>\n",
       "      <td>1292.915583</td>\n",
       "    </tr>\n",
       "    <tr>\n",
       "      <th>2024-06-13</th>\n",
       "      <td>1293.011398</td>\n",
       "    </tr>\n",
       "  </tbody>\n",
       "</table>\n",
       "</div>"
      ],
      "text/plain": [
       "            K55206C95800\n",
       "date                    \n",
       "2024-06-07   1284.771384\n",
       "2024-06-10   1291.670000\n",
       "2024-06-11   1290.424417\n",
       "2024-06-12   1292.915583\n",
       "2024-06-13   1293.011398"
      ]
     },
     "execution_count": 80,
     "metadata": {},
     "output_type": "execute_result"
    }
   ],
   "source": [
    "df_tdf['K55206C95800'] = (df_tdf['K55206C95800']/100 + 1) * a \n",
    "df_tdf.tail()"
   ]
  },
  {
   "cell_type": "code",
   "execution_count": 81,
   "id": "9ce7f6f1-3780-4066-a661-82265056a72c",
   "metadata": {},
   "outputs": [
    {
     "data": {
      "text/html": [
       "<div>\n",
       "<style scoped>\n",
       "    .dataframe tbody tr th:only-of-type {\n",
       "        vertical-align: middle;\n",
       "    }\n",
       "\n",
       "    .dataframe tbody tr th {\n",
       "        vertical-align: top;\n",
       "    }\n",
       "\n",
       "    .dataframe thead th {\n",
       "        text-align: right;\n",
       "    }\n",
       "</style>\n",
       "<table border=\"1\" class=\"dataframe\">\n",
       "  <thead>\n",
       "    <tr style=\"text-align: right;\">\n",
       "      <th></th>\n",
       "      <th>K55206C95800</th>\n",
       "    </tr>\n",
       "    <tr>\n",
       "      <th>date</th>\n",
       "      <th></th>\n",
       "    </tr>\n",
       "  </thead>\n",
       "  <tbody>\n",
       "    <tr>\n",
       "      <th>2018-07-26</th>\n",
       "      <td>958.141087</td>\n",
       "    </tr>\n",
       "    <tr>\n",
       "      <th>2018-07-27</th>\n",
       "      <td>959.099229</td>\n",
       "    </tr>\n",
       "    <tr>\n",
       "      <th>2018-07-30</th>\n",
       "      <td>960.823883</td>\n",
       "    </tr>\n",
       "    <tr>\n",
       "      <th>2018-07-31</th>\n",
       "      <td>959.769927</td>\n",
       "    </tr>\n",
       "    <tr>\n",
       "      <th>2018-08-01</th>\n",
       "      <td>959.386671</td>\n",
       "    </tr>\n",
       "  </tbody>\n",
       "</table>\n",
       "</div>"
      ],
      "text/plain": [
       "            K55206C95800\n",
       "date                    \n",
       "2018-07-26    958.141087\n",
       "2018-07-27    959.099229\n",
       "2018-07-30    960.823883\n",
       "2018-07-31    959.769927\n",
       "2018-08-01    959.386671"
      ]
     },
     "execution_count": 81,
     "metadata": {},
     "output_type": "execute_result"
    }
   ],
   "source": [
    "df_tdf.head()"
   ]
  },
  {
   "cell_type": "code",
   "execution_count": 10,
   "id": "fb084ce3-0819-4019-a332-49f9bf36fd2a",
   "metadata": {},
   "outputs": [
    {
     "data": {
      "text/plain": [
       "K55206C95800    1154.847453\n",
       "Name: 2023-06-14 00:00:00, dtype: float64"
      ]
     },
     "execution_count": 10,
     "metadata": {},
     "output_type": "execute_result"
    }
   ],
   "source": [
    "# 2023.06.14 기준가:\t1,154.82\t\n",
    "df_tdf.loc['2023-6-14']"
   ]
  },
  {
   "cell_type": "code",
   "execution_count": null,
   "id": "afaed8f8-557f-4e18-9789-e2ae9d6edcfe",
   "metadata": {},
   "outputs": [],
   "source": []
  },
  {
   "cell_type": "code",
   "execution_count": 87,
   "id": "06b69ad9-9ea1-43e8-acc9-74e452971305",
   "metadata": {},
   "outputs": [
    {
     "name": "stdout",
     "output_type": "stream",
     "text": [
      "WARNING: taking the 1st two columns only ...\n",
      "error: 0.00 %\n"
     ]
    },
    {
     "data": {
      "text/plain": [
       "날짜\n",
       "2018-07-26     958.141087\n",
       "2018-07-27     959.099229\n",
       "2018-07-30     960.823883\n",
       "2018-07-31     959.769927\n",
       "2018-08-01     959.386671\n",
       "                 ...     \n",
       "2024-06-07    1284.771384\n",
       "2024-06-10    1291.670000\n",
       "2024-06-11    1290.424417\n",
       "2024-06-12    1292.915583\n",
       "2024-06-13    1293.011398\n",
       "Name: K55206C95800, Length: 1455, dtype: float64"
      ]
     },
     "execution_count": 87,
     "metadata": {},
     "output_type": "execute_result"
    }
   ],
   "source": [
    "file = 'K55206C95800.csv'\n",
    "\n",
    "def import_rate(file, path='.', cols=['date', None], data_check=None, rate_is_percent=True):\n",
    "    \"\"\"\n",
    "    data_check: [(기준일1, 기준가1), (기준일2, 기준가2)]\n",
    "    \"\"\"\n",
    "    df = pd.read_csv(f'{path}/{file}', parse_dates=[0], index_col=[0])\n",
    "    if df.columns.size > 1:\n",
    "        print('WARNING: taking the 1st two columns only ...')\n",
    "        df = df.iloc[:, 0]\n",
    "\n",
    "    df.rename_axis = cols[0]\n",
    "    \n",
    "    col_data = cols[1]\n",
    "    if col_data is None:\n",
    "        col_data = file.split('.')[0]\n",
    "    df.name = col_data\n",
    "\n",
    "    if data_check is not None:\n",
    "        # convert to price with data_check[0]\n",
    "        dt, price = data_check[0]\n",
    "        dt = pd.to_datetime(dt)\n",
    "        rate = df[dt]\n",
    "        if rate_is_percent:\n",
    "            rate = rate/100\n",
    "            df = df/100\n",
    "        price_base = price / (rate+1)\n",
    "        df = (df + 1) * price_base \n",
    "\n",
    "        # check price\n",
    "        dt, price = data_check[1]\n",
    "        e = df[dt]/price - 1\n",
    "        print(f'error: {e*100:.2f} %')\n",
    "\n",
    "    else:\n",
    "        print('WARNING: set data_check to get price')\n",
    "    \n",
    "    return df\n",
    "\n",
    "\n",
    "#df = import_rate(file, path_data)\n",
    "\n",
    "# 2024.06.10 기준가:\t1,291.67\n",
    "# 2023.06.14 기준가:\t1,154.82\t\n",
    "data_check = [\n",
    "    ('2024-6-10', 1291.67),\n",
    "    ('2023-6-14', 1154.82)\n",
    "]\n",
    "df = import_rate(file, path_data, data_check=data_check)\n",
    "df"
   ]
  },
  {
   "cell_type": "code",
   "execution_count": null,
   "id": "0fee7ab8-c8f6-4b06-ba10-75b4cc20e1b5",
   "metadata": {},
   "outputs": [],
   "source": []
  },
  {
   "cell_type": "code",
   "execution_count": null,
   "id": "c96779aa-1e6a-4280-be65-682e1513f3ca",
   "metadata": {},
   "outputs": [],
   "source": []
  },
  {
   "cell_type": "code",
   "execution_count": null,
   "id": "576b7063-f8fc-4940-bd08-b2aa882d7d36",
   "metadata": {},
   "outputs": [],
   "source": []
  },
  {
   "cell_type": "code",
   "execution_count": null,
   "id": "16d5ec9b-2760-43af-9935-0d66bdba52a8",
   "metadata": {},
   "outputs": [],
   "source": []
  },
  {
   "cell_type": "code",
   "execution_count": null,
   "id": "99f03a33-e8a6-4490-963c-1bfae00e160b",
   "metadata": {},
   "outputs": [],
   "source": []
  },
  {
   "cell_type": "code",
   "execution_count": null,
   "id": "6c77019b-1d66-4528-a05f-da4061255f9e",
   "metadata": {},
   "outputs": [],
   "source": []
  },
  {
   "cell_type": "code",
   "execution_count": null,
   "id": "ca02c919-c954-431d-8b41-9df884d37674",
   "metadata": {},
   "outputs": [],
   "source": []
  },
  {
   "cell_type": "markdown",
   "id": "6ccac42d-a9b9-429e-808d-4c88cabc56ec",
   "metadata": {},
   "source": [
    "## TDF2"
   ]
  },
  {
   "cell_type": "code",
   "execution_count": 11,
   "id": "0b4cb5de-8582-4327-b3d3-8faa90d2bcf3",
   "metadata": {},
   "outputs": [
    {
     "data": {
      "text/html": [
       "<div>\n",
       "<style scoped>\n",
       "    .dataframe tbody tr th:only-of-type {\n",
       "        vertical-align: middle;\n",
       "    }\n",
       "\n",
       "    .dataframe tbody tr th {\n",
       "        vertical-align: top;\n",
       "    }\n",
       "\n",
       "    .dataframe thead th {\n",
       "        text-align: right;\n",
       "    }\n",
       "</style>\n",
       "<table border=\"1\" class=\"dataframe\">\n",
       "  <thead>\n",
       "    <tr style=\"text-align: right;\">\n",
       "      <th></th>\n",
       "      <th>0</th>\n",
       "    </tr>\n",
       "  </thead>\n",
       "  <tbody>\n",
       "    <tr>\n",
       "      <th>Unnamed: 0</th>\n",
       "      <td>투자수익률</td>\n",
       "    </tr>\n",
       "    <tr>\n",
       "      <th>2021-06-12</th>\n",
       "      <td>0</td>\n",
       "    </tr>\n",
       "    <tr>\n",
       "      <th>2021-06-13</th>\n",
       "      <td>0</td>\n",
       "    </tr>\n",
       "    <tr>\n",
       "      <th>2021-06-14</th>\n",
       "      <td>0.21</td>\n",
       "    </tr>\n",
       "    <tr>\n",
       "      <th>2021-06-15</th>\n",
       "      <td>0.31</td>\n",
       "    </tr>\n",
       "    <tr>\n",
       "      <th>...</th>\n",
       "      <td>...</td>\n",
       "    </tr>\n",
       "    <tr>\n",
       "      <th>2024-06-08</th>\n",
       "      <td>10.51</td>\n",
       "    </tr>\n",
       "    <tr>\n",
       "      <th>2024-06-09</th>\n",
       "      <td>10.51</td>\n",
       "    </tr>\n",
       "    <tr>\n",
       "      <th>2024-06-10</th>\n",
       "      <td>10.47</td>\n",
       "    </tr>\n",
       "    <tr>\n",
       "      <th>2024-06-11</th>\n",
       "      <td>10.67</td>\n",
       "    </tr>\n",
       "    <tr>\n",
       "      <th>2024-06-12</th>\n",
       "      <td>10.52</td>\n",
       "    </tr>\n",
       "  </tbody>\n",
       "</table>\n",
       "<p>1098 rows × 1 columns</p>\n",
       "</div>"
      ],
      "text/plain": [
       "                0\n",
       "Unnamed: 0  투자수익률\n",
       "2021-06-12      0\n",
       "2021-06-13      0\n",
       "2021-06-14   0.21\n",
       "2021-06-15   0.31\n",
       "...           ...\n",
       "2024-06-08  10.51\n",
       "2024-06-09  10.51\n",
       "2024-06-10  10.47\n",
       "2024-06-11  10.67\n",
       "2024-06-12  10.52\n",
       "\n",
       "[1098 rows x 1 columns]"
      ]
     },
     "execution_count": 11,
     "metadata": {},
     "output_type": "execute_result"
    }
   ],
   "source": [
    "file = 'K55301BU6139.csv'\n",
    "df = pd.read_csv(f'{path_data}/{file}').T\n",
    "df"
   ]
  },
  {
   "cell_type": "code",
   "execution_count": 12,
   "id": "7365a829-b5ea-44ae-8ba2-071c529189c9",
   "metadata": {},
   "outputs": [
    {
     "data": {
      "text/plain": [
       "2021-06-12       0\n",
       "2021-06-13       0\n",
       "2021-06-14    0.21\n",
       "2021-06-15    0.31\n",
       "2021-06-16    0.12\n",
       "Name: 0, dtype: object"
      ]
     },
     "execution_count": 12,
     "metadata": {},
     "output_type": "execute_result"
    }
   ],
   "source": [
    "df = df.iloc[1:, 0]\n",
    "df.head()"
   ]
  },
  {
   "cell_type": "code",
   "execution_count": 13,
   "id": "27c787c8-8176-4048-ad60-40de9ca973a3",
   "metadata": {},
   "outputs": [
    {
     "data": {
      "text/plain": [
       "date\n",
       "2021-06-12        0\n",
       "2021-06-13        0\n",
       "2021-06-14     0.21\n",
       "2021-06-15     0.31\n",
       "2021-06-16     0.12\n",
       "              ...  \n",
       "2024-06-08    10.51\n",
       "2024-06-09    10.51\n",
       "2024-06-10    10.47\n",
       "2024-06-11    10.67\n",
       "2024-06-12    10.52\n",
       "Name: 0, Length: 1097, dtype: object"
      ]
     },
     "execution_count": 13,
     "metadata": {},
     "output_type": "execute_result"
    }
   ],
   "source": [
    "df.index = pd.to_datetime(df.index)\n",
    "df = df.rename_axis('date')\n",
    "df"
   ]
  },
  {
   "cell_type": "code",
   "execution_count": 14,
   "id": "2492ccd7-0c1d-4271-8f3d-b65157a5edd5",
   "metadata": {},
   "outputs": [
    {
     "data": {
      "text/plain": [
       "date\n",
       "2024-06-08    1463.937529\n",
       "2024-06-09    1463.937529\n",
       "2024-06-10    1463.407645\n",
       "2024-06-11    1466.057066\n",
       "2024-06-12        1464.07\n",
       "Name: 0, dtype: object"
      ]
     },
     "execution_count": 14,
     "metadata": {},
     "output_type": "execute_result"
    }
   ],
   "source": [
    "# 2024.06.12\t1,464.07\t\t\n",
    "a = 1464.07 / (10.52/100+1)\n",
    "df = (df/100 + 1) * a \n",
    "df.tail()"
   ]
  },
  {
   "cell_type": "code",
   "execution_count": 15,
   "id": "29157881-e612-4c9c-b513-fc417cd4ae73",
   "metadata": {},
   "outputs": [
    {
     "data": {
      "text/plain": [
       "1268.0128519724938"
      ]
     },
     "execution_count": 15,
     "metadata": {},
     "output_type": "execute_result"
    }
   ],
   "source": [
    "# 2023.06.14\t1,267.58\t\n",
    "df['2023-6-14']"
   ]
  },
  {
   "cell_type": "code",
   "execution_count": 16,
   "id": "9eca73d4-c08c-400a-a60b-5f3946f04f05",
   "metadata": {},
   "outputs": [
    {
     "data": {
      "text/html": [
       "<div>\n",
       "<style scoped>\n",
       "    .dataframe tbody tr th:only-of-type {\n",
       "        vertical-align: middle;\n",
       "    }\n",
       "\n",
       "    .dataframe tbody tr th {\n",
       "        vertical-align: top;\n",
       "    }\n",
       "\n",
       "    .dataframe thead th {\n",
       "        text-align: right;\n",
       "    }\n",
       "</style>\n",
       "<table border=\"1\" class=\"dataframe\">\n",
       "  <thead>\n",
       "    <tr style=\"text-align: right;\">\n",
       "      <th></th>\n",
       "      <th>K55206C95800</th>\n",
       "      <th>K55301BU6139</th>\n",
       "    </tr>\n",
       "    <tr>\n",
       "      <th>date</th>\n",
       "      <th></th>\n",
       "      <th></th>\n",
       "    </tr>\n",
       "  </thead>\n",
       "  <tbody>\n",
       "    <tr>\n",
       "      <th>2018-07-26</th>\n",
       "      <td>958.141087</td>\n",
       "      <td>NaN</td>\n",
       "    </tr>\n",
       "    <tr>\n",
       "      <th>2018-07-27</th>\n",
       "      <td>959.099229</td>\n",
       "      <td>NaN</td>\n",
       "    </tr>\n",
       "    <tr>\n",
       "      <th>2018-07-30</th>\n",
       "      <td>960.823883</td>\n",
       "      <td>NaN</td>\n",
       "    </tr>\n",
       "    <tr>\n",
       "      <th>2018-07-31</th>\n",
       "      <td>959.769927</td>\n",
       "      <td>NaN</td>\n",
       "    </tr>\n",
       "    <tr>\n",
       "      <th>2018-08-01</th>\n",
       "      <td>959.386671</td>\n",
       "      <td>NaN</td>\n",
       "    </tr>\n",
       "    <tr>\n",
       "      <th>...</th>\n",
       "      <td>...</td>\n",
       "      <td>...</td>\n",
       "    </tr>\n",
       "    <tr>\n",
       "      <th>2024-06-07</th>\n",
       "      <td>1284.771384</td>\n",
       "      <td>1463.937529</td>\n",
       "    </tr>\n",
       "    <tr>\n",
       "      <th>2024-06-10</th>\n",
       "      <td>1291.670000</td>\n",
       "      <td>1463.407645</td>\n",
       "    </tr>\n",
       "    <tr>\n",
       "      <th>2024-06-11</th>\n",
       "      <td>1290.424417</td>\n",
       "      <td>1466.057066</td>\n",
       "    </tr>\n",
       "    <tr>\n",
       "      <th>2024-06-12</th>\n",
       "      <td>1292.915583</td>\n",
       "      <td>1464.07</td>\n",
       "    </tr>\n",
       "    <tr>\n",
       "      <th>2024-06-13</th>\n",
       "      <td>1293.011398</td>\n",
       "      <td>NaN</td>\n",
       "    </tr>\n",
       "  </tbody>\n",
       "</table>\n",
       "<p>1455 rows × 2 columns</p>\n",
       "</div>"
      ],
      "text/plain": [
       "            K55206C95800 K55301BU6139\n",
       "date                                 \n",
       "2018-07-26    958.141087          NaN\n",
       "2018-07-27    959.099229          NaN\n",
       "2018-07-30    960.823883          NaN\n",
       "2018-07-31    959.769927          NaN\n",
       "2018-08-01    959.386671          NaN\n",
       "...                  ...          ...\n",
       "2024-06-07   1284.771384  1463.937529\n",
       "2024-06-10   1291.670000  1463.407645\n",
       "2024-06-11   1290.424417  1466.057066\n",
       "2024-06-12   1292.915583      1464.07\n",
       "2024-06-13   1293.011398          NaN\n",
       "\n",
       "[1455 rows x 2 columns]"
      ]
     },
     "execution_count": 16,
     "metadata": {},
     "output_type": "execute_result"
    }
   ],
   "source": [
    "df_tdf['K55301BU6139'] = df\n",
    "df_tdf"
   ]
  },
  {
   "cell_type": "code",
   "execution_count": 17,
   "id": "65ff59a3-c462-4edd-80bc-a0090c817975",
   "metadata": {},
   "outputs": [],
   "source": [
    "tdf_names ={\n",
    "    'K55206C95800': '키움키워드림TDF2030증권투자신탁 1[혼합-재간접형]C-P2e(퇴직연금)',\n",
    "    'K55301BU6139': '미래에셋전략배분TDF2035혼합자산자투자신탁종류C-P2e'\n",
    "}"
   ]
  },
  {
   "cell_type": "code",
   "execution_count": 18,
   "id": "5cc88ebd-bc49-455b-a0dd-da40ff324d36",
   "metadata": {},
   "outputs": [
    {
     "data": {
      "text/plain": [
       "{'키움키워드림TDF2030증권투자신탁 1[혼합-재간접형]C-P2e(퇴직연금)': 0.49,\n",
       " '미래에셋전략배분TDF2035혼합자산자투자신탁종류C-P2e': 0.6}"
      ]
     },
     "execution_count": 18,
     "metadata": {},
     "output_type": "execute_result"
    }
   ],
   "source": [
    "commissions = {\n",
    "    'K55206C95800': 0.49, \n",
    "    'K55301BU6139': 0.6, \n",
    "}\n",
    "{tdf_names[k]:v for k,v in commissions.items()}"
   ]
  },
  {
   "cell_type": "code",
   "execution_count": 19,
   "id": "97a82be1-8be9-4dd9-a402-c51782b958fa",
   "metadata": {},
   "outputs": [
    {
     "data": {
      "text/html": [
       "<div>\n",
       "<style scoped>\n",
       "    .dataframe tbody tr th:only-of-type {\n",
       "        vertical-align: middle;\n",
       "    }\n",
       "\n",
       "    .dataframe tbody tr th {\n",
       "        vertical-align: top;\n",
       "    }\n",
       "\n",
       "    .dataframe thead th {\n",
       "        text-align: right;\n",
       "    }\n",
       "</style>\n",
       "<table border=\"1\" class=\"dataframe\">\n",
       "  <thead>\n",
       "    <tr style=\"text-align: right;\">\n",
       "      <th></th>\n",
       "      <th>start date</th>\n",
       "    </tr>\n",
       "  </thead>\n",
       "  <tbody>\n",
       "    <tr>\n",
       "      <th>K55206C95800</th>\n",
       "      <td>2018-07-26</td>\n",
       "    </tr>\n",
       "    <tr>\n",
       "      <th>K55301BU6139</th>\n",
       "      <td>2021-06-14</td>\n",
       "    </tr>\n",
       "  </tbody>\n",
       "</table>\n",
       "</div>"
      ],
      "text/plain": [
       "             start date\n",
       "K55206C95800 2018-07-26\n",
       "K55301BU6139 2021-06-14"
      ]
     },
     "execution_count": 19,
     "metadata": {},
     "output_type": "execute_result"
    }
   ],
   "source": [
    "get_start_dates(df_tdf)"
   ]
  },
  {
   "cell_type": "code",
   "execution_count": 20,
   "id": "f3be0024-2cf1-4eea-a1c1-812ce017b98c",
   "metadata": {},
   "outputs": [],
   "source": [
    "start_date = '2021-06-14'"
   ]
  },
  {
   "cell_type": "code",
   "execution_count": 21,
   "id": "39113009-bf2b-45df-9801-b4909b453553",
   "metadata": {},
   "outputs": [],
   "source": [
    "df_tdf2 = df_tdf.loc[start_date:]"
   ]
  },
  {
   "cell_type": "code",
   "execution_count": 22,
   "id": "3b89b26f-b155-4cba-9ea7-af34c4de0a81",
   "metadata": {},
   "outputs": [
    {
     "data": {
      "text/plain": [
       "K55206C95800    0\n",
       "K55301BU6139    1\n",
       "dtype: int64"
      ]
     },
     "execution_count": 22,
     "metadata": {},
     "output_type": "execute_result"
    }
   ],
   "source": [
    "df_tdf2.isna().sum()"
   ]
  },
  {
   "cell_type": "code",
   "execution_count": 23,
   "id": "e76499e6-dcb3-42dc-a552-1e79a14177eb",
   "metadata": {},
   "outputs": [],
   "source": [
    "df_tdf2 = df_tdf2.ffill()"
   ]
  },
  {
   "cell_type": "code",
   "execution_count": 24,
   "id": "ddeddcce-89cc-483f-acf9-0bb2f4a1721d",
   "metadata": {},
   "outputs": [
    {
     "data": {
      "text/html": [
       "<div>\n",
       "<style scoped>\n",
       "    .dataframe tbody tr th:only-of-type {\n",
       "        vertical-align: middle;\n",
       "    }\n",
       "\n",
       "    .dataframe tbody tr th {\n",
       "        vertical-align: top;\n",
       "    }\n",
       "\n",
       "    .dataframe thead th {\n",
       "        text-align: right;\n",
       "    }\n",
       "</style>\n",
       "<table border=\"1\" class=\"dataframe\">\n",
       "  <thead>\n",
       "    <tr style=\"text-align: right;\">\n",
       "      <th></th>\n",
       "      <th>K55206C95800</th>\n",
       "      <th>K55301BU6139</th>\n",
       "    </tr>\n",
       "    <tr>\n",
       "      <th>date</th>\n",
       "      <th></th>\n",
       "      <th></th>\n",
       "    </tr>\n",
       "  </thead>\n",
       "  <tbody>\n",
       "    <tr>\n",
       "      <th>2021-06-14</th>\n",
       "      <td>1246.349927</td>\n",
       "      <td>1327.492352</td>\n",
       "    </tr>\n",
       "    <tr>\n",
       "      <th>2021-06-15</th>\n",
       "      <td>1249.415978</td>\n",
       "      <td>1328.817062</td>\n",
       "    </tr>\n",
       "    <tr>\n",
       "      <th>2021-06-16</th>\n",
       "      <td>1250.278305</td>\n",
       "      <td>1326.300112</td>\n",
       "    </tr>\n",
       "    <tr>\n",
       "      <th>2021-06-17</th>\n",
       "      <td>1249.128536</td>\n",
       "      <td>1324.975402</td>\n",
       "    </tr>\n",
       "    <tr>\n",
       "      <th>2021-06-18</th>\n",
       "      <td>1251.044818</td>\n",
       "      <td>1323.385749</td>\n",
       "    </tr>\n",
       "    <tr>\n",
       "      <th>...</th>\n",
       "      <td>...</td>\n",
       "      <td>...</td>\n",
       "    </tr>\n",
       "    <tr>\n",
       "      <th>2024-06-07</th>\n",
       "      <td>1284.771384</td>\n",
       "      <td>1463.937529</td>\n",
       "    </tr>\n",
       "    <tr>\n",
       "      <th>2024-06-10</th>\n",
       "      <td>1291.670000</td>\n",
       "      <td>1463.407645</td>\n",
       "    </tr>\n",
       "    <tr>\n",
       "      <th>2024-06-11</th>\n",
       "      <td>1290.424417</td>\n",
       "      <td>1466.057066</td>\n",
       "    </tr>\n",
       "    <tr>\n",
       "      <th>2024-06-12</th>\n",
       "      <td>1292.915583</td>\n",
       "      <td>1464.070000</td>\n",
       "    </tr>\n",
       "    <tr>\n",
       "      <th>2024-06-13</th>\n",
       "      <td>1293.011398</td>\n",
       "      <td>1464.070000</td>\n",
       "    </tr>\n",
       "  </tbody>\n",
       "</table>\n",
       "<p>743 rows × 2 columns</p>\n",
       "</div>"
      ],
      "text/plain": [
       "            K55206C95800  K55301BU6139\n",
       "date                                  \n",
       "2021-06-14   1246.349927   1327.492352\n",
       "2021-06-15   1249.415978   1328.817062\n",
       "2021-06-16   1250.278305   1326.300112\n",
       "2021-06-17   1249.128536   1324.975402\n",
       "2021-06-18   1251.044818   1323.385749\n",
       "...                  ...           ...\n",
       "2024-06-07   1284.771384   1463.937529\n",
       "2024-06-10   1291.670000   1463.407645\n",
       "2024-06-11   1290.424417   1466.057066\n",
       "2024-06-12   1292.915583   1464.070000\n",
       "2024-06-13   1293.011398   1464.070000\n",
       "\n",
       "[743 rows x 2 columns]"
      ]
     },
     "execution_count": 24,
     "metadata": {},
     "output_type": "execute_result"
    }
   ],
   "source": [
    "df_tdf2"
   ]
  },
  {
   "cell_type": "markdown",
   "id": "017c9252-f2c1-4e0a-8843-27737f25c11b",
   "metadata": {},
   "source": [
    "## ETFS"
   ]
  },
  {
   "cell_type": "code",
   "execution_count": 25,
   "id": "ad4672a0-aa63-4104-9216-6148bfb717e5",
   "metadata": {},
   "outputs": [
    {
     "data": {
      "text/html": [
       "<div>\n",
       "<style scoped>\n",
       "    .dataframe tbody tr th:only-of-type {\n",
       "        vertical-align: middle;\n",
       "    }\n",
       "\n",
       "    .dataframe tbody tr th {\n",
       "        vertical-align: top;\n",
       "    }\n",
       "\n",
       "    .dataframe thead th {\n",
       "        text-align: right;\n",
       "    }\n",
       "</style>\n",
       "<table border=\"1\" class=\"dataframe\">\n",
       "  <thead>\n",
       "    <tr style=\"text-align: right;\">\n",
       "      <th></th>\n",
       "      <th>273130</th>\n",
       "      <th>453850</th>\n",
       "      <th>284430</th>\n",
       "      <th>069500</th>\n",
       "      <th>379800</th>\n",
       "      <th>411060</th>\n",
       "      <th>305080</th>\n",
       "      <th>304660</th>\n",
       "      <th>148070</th>\n",
       "      <th>261220</th>\n",
       "    </tr>\n",
       "    <tr>\n",
       "      <th>Date</th>\n",
       "      <th></th>\n",
       "      <th></th>\n",
       "      <th></th>\n",
       "      <th></th>\n",
       "      <th></th>\n",
       "      <th></th>\n",
       "      <th></th>\n",
       "      <th></th>\n",
       "      <th></th>\n",
       "      <th></th>\n",
       "    </tr>\n",
       "  </thead>\n",
       "  <tbody>\n",
       "    <tr>\n",
       "      <th>2002-10-14</th>\n",
       "      <td>NaN</td>\n",
       "      <td>NaN</td>\n",
       "      <td>NaN</td>\n",
       "      <td>5184</td>\n",
       "      <td>NaN</td>\n",
       "      <td>NaN</td>\n",
       "      <td>NaN</td>\n",
       "      <td>NaN</td>\n",
       "      <td>NaN</td>\n",
       "      <td>NaN</td>\n",
       "    </tr>\n",
       "    <tr>\n",
       "      <th>2002-10-15</th>\n",
       "      <td>NaN</td>\n",
       "      <td>NaN</td>\n",
       "      <td>NaN</td>\n",
       "      <td>5312</td>\n",
       "      <td>NaN</td>\n",
       "      <td>NaN</td>\n",
       "      <td>NaN</td>\n",
       "      <td>NaN</td>\n",
       "      <td>NaN</td>\n",
       "      <td>NaN</td>\n",
       "    </tr>\n",
       "    <tr>\n",
       "      <th>2002-10-16</th>\n",
       "      <td>NaN</td>\n",
       "      <td>NaN</td>\n",
       "      <td>NaN</td>\n",
       "      <td>5335</td>\n",
       "      <td>NaN</td>\n",
       "      <td>NaN</td>\n",
       "      <td>NaN</td>\n",
       "      <td>NaN</td>\n",
       "      <td>NaN</td>\n",
       "      <td>NaN</td>\n",
       "    </tr>\n",
       "    <tr>\n",
       "      <th>2002-10-17</th>\n",
       "      <td>NaN</td>\n",
       "      <td>NaN</td>\n",
       "      <td>NaN</td>\n",
       "      <td>5410</td>\n",
       "      <td>NaN</td>\n",
       "      <td>NaN</td>\n",
       "      <td>NaN</td>\n",
       "      <td>NaN</td>\n",
       "      <td>NaN</td>\n",
       "      <td>NaN</td>\n",
       "    </tr>\n",
       "    <tr>\n",
       "      <th>2002-10-18</th>\n",
       "      <td>NaN</td>\n",
       "      <td>NaN</td>\n",
       "      <td>NaN</td>\n",
       "      <td>5642</td>\n",
       "      <td>NaN</td>\n",
       "      <td>NaN</td>\n",
       "      <td>NaN</td>\n",
       "      <td>NaN</td>\n",
       "      <td>NaN</td>\n",
       "      <td>NaN</td>\n",
       "    </tr>\n",
       "  </tbody>\n",
       "</table>\n",
       "</div>"
      ],
      "text/plain": [
       "            273130  453850  284430  069500  379800  411060  305080  304660  \\\n",
       "Date                                                                         \n",
       "2002-10-14     NaN     NaN     NaN    5184     NaN     NaN     NaN     NaN   \n",
       "2002-10-15     NaN     NaN     NaN    5312     NaN     NaN     NaN     NaN   \n",
       "2002-10-16     NaN     NaN     NaN    5335     NaN     NaN     NaN     NaN   \n",
       "2002-10-17     NaN     NaN     NaN    5410     NaN     NaN     NaN     NaN   \n",
       "2002-10-18     NaN     NaN     NaN    5642     NaN     NaN     NaN     NaN   \n",
       "\n",
       "            148070  261220  \n",
       "Date                        \n",
       "2002-10-14     NaN     NaN  \n",
       "2002-10-15     NaN     NaN  \n",
       "2002-10-16     NaN     NaN  \n",
       "2002-10-17     NaN     NaN  \n",
       "2002-10-18     NaN     NaN  "
      ]
     },
     "execution_count": 25,
     "metadata": {},
     "output_type": "execute_result"
    }
   ],
   "source": [
    "file = 'etfs_selected_240611.csv'\n",
    "df_etf = pd.read_csv(f'{path_data}/{file}', parse_dates=[0], index_col=0)\n",
    "df_etf.head()"
   ]
  },
  {
   "cell_type": "code",
   "execution_count": 26,
   "id": "2aa3232e-ceae-4aaf-87f7-3f55e4287148",
   "metadata": {},
   "outputs": [
    {
     "data": {
      "text/plain": [
       "{'069500': 'KODEX 200',\n",
       " '273130': 'KODEX 종합채권(AA-이상)액티브',\n",
       " '379800': 'KODEX 미국S&P500TR',\n",
       " '453850': 'ACE 미국30년국채액티브(H)',\n",
       " '148070': 'KOSEF 국고채10년',\n",
       " '304660': 'KODEX 미국30년국채울트라선물(H)',\n",
       " '411060': 'ACE KRX금현물',\n",
       " '305080': 'TIGER 미국채10년선물',\n",
       " '284430': 'KODEX 200미국채혼합',\n",
       " '261220': 'KODEX WTI원유선물(H)'}"
      ]
     },
     "execution_count": 26,
     "metadata": {},
     "output_type": "execute_result"
    }
   ],
   "source": [
    "df_sym = fdr.StockListing('ETF/KR') # 한국 ETF 전종목\n",
    "\n",
    "symbols = df_etf.columns\n",
    "etf_names = df_sym.loc[df_sym.Symbol.isin(symbols)].set_index('Symbol')['Name'].to_dict()\n",
    "etf_names"
   ]
  },
  {
   "cell_type": "code",
   "execution_count": 37,
   "id": "b862bf4f-41c9-4823-9d85-01016554620d",
   "metadata": {},
   "outputs": [
    {
     "data": {
      "text/plain": [
       "{'069500': 'KODEX 200',\n",
       " '273130': 'KODEX 종합채권(AA-이상)액티브',\n",
       " '148070': 'KOSEF 국고채10년',\n",
       " '379800': 'KODEX 미국S&P500TR'}"
      ]
     },
     "execution_count": 37,
     "metadata": {},
     "output_type": "execute_result"
    }
   ],
   "source": [
    "#etf = ['069500', '148070', '305080', '379800']\n",
    "etf = ['069500', '273130', '148070', '379800']\n",
    "{x: etf_names[x] for x in etf}"
   ]
  },
  {
   "cell_type": "code",
   "execution_count": 38,
   "id": "8296256e-e93a-40e1-a3c6-7ff3c2675e5e",
   "metadata": {},
   "outputs": [
    {
     "data": {
      "text/html": [
       "<div>\n",
       "<style scoped>\n",
       "    .dataframe tbody tr th:only-of-type {\n",
       "        vertical-align: middle;\n",
       "    }\n",
       "\n",
       "    .dataframe tbody tr th {\n",
       "        vertical-align: top;\n",
       "    }\n",
       "\n",
       "    .dataframe thead th {\n",
       "        text-align: right;\n",
       "    }\n",
       "</style>\n",
       "<table border=\"1\" class=\"dataframe\">\n",
       "  <thead>\n",
       "    <tr style=\"text-align: right;\">\n",
       "      <th></th>\n",
       "      <th>start date</th>\n",
       "    </tr>\n",
       "  </thead>\n",
       "  <tbody>\n",
       "    <tr>\n",
       "      <th>069500</th>\n",
       "      <td>2021-06-14</td>\n",
       "    </tr>\n",
       "    <tr>\n",
       "      <th>273130</th>\n",
       "      <td>2021-06-14</td>\n",
       "    </tr>\n",
       "    <tr>\n",
       "      <th>148070</th>\n",
       "      <td>2021-06-14</td>\n",
       "    </tr>\n",
       "    <tr>\n",
       "      <th>379800</th>\n",
       "      <td>2021-06-14</td>\n",
       "    </tr>\n",
       "  </tbody>\n",
       "</table>\n",
       "</div>"
      ],
      "text/plain": [
       "       start date\n",
       "069500 2021-06-14\n",
       "273130 2021-06-14\n",
       "148070 2021-06-14\n",
       "379800 2021-06-14"
      ]
     },
     "execution_count": 38,
     "metadata": {},
     "output_type": "execute_result"
    }
   ],
   "source": [
    "df_etf2 = df_etf.loc[start_date:, etf]\n",
    "get_start_dates(df_etf2)"
   ]
  },
  {
   "cell_type": "markdown",
   "id": "6302c1f6-223c-4919-857d-69059ae09e42",
   "metadata": {},
   "source": [
    "# Simulation"
   ]
  },
  {
   "cell_type": "code",
   "execution_count": 65,
   "id": "3c9a56ca-de7f-4859-915b-195000d0cd24",
   "metadata": {},
   "outputs": [],
   "source": [
    "stg_dict = dict()\n",
    "wts_dict = dict()"
   ]
  },
  {
   "cell_type": "code",
   "execution_count": 66,
   "id": "bbb6c7bd-334d-4581-8c69-c71b8e7e1456",
   "metadata": {},
   "outputs": [],
   "source": [
    "col = 'KOSPI'\n",
    "\n",
    "index = df_tdf2.index\n",
    "df = df_etf2.loc[index.min():index.max(), '069500']\n",
    "\n",
    "weights = {'069500':1}\n",
    "stg_dict[col] = buy_and_hold(df, col)\n",
    "wts_dict[col] = weights"
   ]
  },
  {
   "cell_type": "code",
   "execution_count": 67,
   "id": "cfe4420d-d70c-46ed-ba0c-73a846ee551e",
   "metadata": {},
   "outputs": [],
   "source": [
    "col = 'TDF COMB'\n",
    "weights = dict(zip(df_tdf2.columns, [0.5, 0.5]))\n",
    "stg_dict[col] = buy_and_hold(df_tdf2, name_stg=col)\n",
    "wts_dict[col] = weights"
   ]
  },
  {
   "cell_type": "code",
   "execution_count": 68,
   "id": "b614f697-4cc4-4229-936a-cbf67a20a016",
   "metadata": {},
   "outputs": [
    {
     "name": "stdout",
     "output_type": "stream",
     "text": [
      "{'KODEX 200': 0.2, 'KODEX 종합채권(AA-이상)액티브': 0.2, 'KOSEF 국고채10년': 0.3, 'KODEX 미국S&P500TR': 0.3}\n"
     ]
    }
   ],
   "source": [
    "col = 'ETF COMB1'\n",
    "\n",
    "weights = [0.2, 0.2, 0.3, 0.3]\n",
    "weights = dict(zip(etf, weights))\n",
    "print({etf_names[k]:v for k,v in weights.items()})\n",
    "\n",
    "stg_dict[col] = backtest(df_etf2, weights, col, period='Y')\n",
    "wts_dict[col] = weights"
   ]
  },
  {
   "cell_type": "code",
   "execution_count": 69,
   "id": "b228d596-d02e-46b1-9b02-9e5c7798a8c0",
   "metadata": {},
   "outputs": [
    {
     "name": "stdout",
     "output_type": "stream",
     "text": [
      "{'KODEX 200': 0.3, 'KODEX 종합채권(AA-이상)액티브': 0.2, 'KOSEF 국고채10년': 0.3, 'KODEX 미국S&P500TR': 0.2}\n"
     ]
    }
   ],
   "source": [
    "col = 'ETF COMB2'\n",
    "\n",
    "weights = [0.3, 0.2, 0.3, 0.2]\n",
    "weights = dict(zip(etf, weights))\n",
    "print({etf_names[k]:v for k,v in weights.items()})\n",
    "\n",
    "stg_dict[col] = backtest(df_etf2, weights, col, period='Y')\n",
    "wts_dict[col] = weights"
   ]
  },
  {
   "cell_type": "code",
   "execution_count": 70,
   "id": "6064dc39-2113-4baf-b937-352248ec6b49",
   "metadata": {},
   "outputs": [
    {
     "data": {
      "text/html": [
       "<div>\n",
       "<style scoped>\n",
       "    .dataframe tbody tr th:only-of-type {\n",
       "        vertical-align: middle;\n",
       "    }\n",
       "\n",
       "    .dataframe tbody tr th {\n",
       "        vertical-align: top;\n",
       "    }\n",
       "\n",
       "    .dataframe thead th {\n",
       "        text-align: right;\n",
       "    }\n",
       "</style>\n",
       "<table border=\"1\" class=\"dataframe\">\n",
       "  <thead>\n",
       "    <tr style=\"text-align: right;\">\n",
       "      <th></th>\n",
       "      <th>KOSPI</th>\n",
       "      <th>TDF COMB</th>\n",
       "      <th>ETF COMB1</th>\n",
       "      <th>ETF COMB2</th>\n",
       "    </tr>\n",
       "  </thead>\n",
       "  <tbody>\n",
       "    <tr>\n",
       "      <th>total_return</th>\n",
       "      <td>-0.088176</td>\n",
       "      <td>0.069774</td>\n",
       "      <td>0.149799</td>\n",
       "      <td>0.078963</td>\n",
       "    </tr>\n",
       "    <tr>\n",
       "      <th>cagr</th>\n",
       "      <td>-0.030349</td>\n",
       "      <td>0.022774</td>\n",
       "      <td>0.047706</td>\n",
       "      <td>0.025699</td>\n",
       "    </tr>\n",
       "    <tr>\n",
       "      <th>max_drawdown</th>\n",
       "      <td>-0.335043</td>\n",
       "      <td>-0.173944</td>\n",
       "      <td>-0.116169</td>\n",
       "      <td>-0.142331</td>\n",
       "    </tr>\n",
       "    <tr>\n",
       "      <th>avg_drawdown</th>\n",
       "      <td>-0.118466</td>\n",
       "      <td>-0.020241</td>\n",
       "      <td>-0.009928</td>\n",
       "      <td>-0.012947</td>\n",
       "    </tr>\n",
       "    <tr>\n",
       "      <th>avg_drawdown_days</th>\n",
       "      <td>361.666667</td>\n",
       "      <td>73.714286</td>\n",
       "      <td>33.0</td>\n",
       "      <td>48.904762</td>\n",
       "    </tr>\n",
       "    <tr>\n",
       "      <th>daily_vol</th>\n",
       "      <td>0.164684</td>\n",
       "      <td>0.065325</td>\n",
       "      <td>0.068173</td>\n",
       "      <td>0.072774</td>\n",
       "    </tr>\n",
       "    <tr>\n",
       "      <th>daily_sharpe</th>\n",
       "      <td>-0.109444</td>\n",
       "      <td>0.385695</td>\n",
       "      <td>0.734232</td>\n",
       "      <td>0.393455</td>\n",
       "    </tr>\n",
       "    <tr>\n",
       "      <th>daily_sortino</th>\n",
       "      <td>-0.18641</td>\n",
       "      <td>0.618714</td>\n",
       "      <td>1.215624</td>\n",
       "      <td>0.653413</td>\n",
       "    </tr>\n",
       "    <tr>\n",
       "      <th>monthly_vol</th>\n",
       "      <td>0.190318</td>\n",
       "      <td>0.090244</td>\n",
       "      <td>0.083084</td>\n",
       "      <td>0.091949</td>\n",
       "    </tr>\n",
       "    <tr>\n",
       "      <th>monthly_sharpe</th>\n",
       "      <td>-0.093778</td>\n",
       "      <td>0.27882</td>\n",
       "      <td>0.569678</td>\n",
       "      <td>0.291545</td>\n",
       "    </tr>\n",
       "    <tr>\n",
       "      <th>monthly_sortino</th>\n",
       "      <td>-0.152049</td>\n",
       "      <td>0.437709</td>\n",
       "      <td>1.010493</td>\n",
       "      <td>0.497592</td>\n",
       "    </tr>\n",
       "  </tbody>\n",
       "</table>\n",
       "</div>"
      ],
      "text/plain": [
       "                        KOSPI   TDF COMB ETF COMB1  ETF COMB2\n",
       "total_return        -0.088176   0.069774  0.149799   0.078963\n",
       "cagr                -0.030349   0.022774  0.047706   0.025699\n",
       "max_drawdown        -0.335043  -0.173944 -0.116169  -0.142331\n",
       "avg_drawdown        -0.118466  -0.020241 -0.009928  -0.012947\n",
       "avg_drawdown_days  361.666667  73.714286      33.0  48.904762\n",
       "daily_vol            0.164684   0.065325  0.068173   0.072774\n",
       "daily_sharpe        -0.109444   0.385695  0.734232   0.393455\n",
       "daily_sortino        -0.18641   0.618714  1.215624   0.653413\n",
       "monthly_vol          0.190318   0.090244  0.083084   0.091949\n",
       "monthly_sharpe      -0.093778    0.27882  0.569678   0.291545\n",
       "monthly_sortino     -0.152049   0.437709  1.010493   0.497592"
      ]
     },
     "execution_count": 70,
     "metadata": {},
     "output_type": "execute_result"
    },
    {
     "data": {
      "image/png": "[encoded data removed]",
      "text/plain": [
       "<Figure size 1500x500 with 1 Axes>"
      ]
     },
     "metadata": {},
     "output_type": "display_data"
    }
   ],
   "source": [
    "results = bt.run(*stg_dict.values())\n",
    "results.plot(freq='d');\n",
    "results.stats.loc[metrics]"
   ]
  },
  {
   "cell_type": "code",
   "execution_count": 71,
   "id": "140a2286-b781-4583-bd55-88fc7a6f2c03",
   "metadata": {},
   "outputs": [
    {
     "data": {
      "text/plain": [
       "{'KOSPI': {'069500': 1},\n",
       " 'TDF COMB': {'K55206C95800': 0.5, 'K55301BU6139': 0.5},\n",
       " 'ETF COMB1': {'069500': 0.2, '273130': 0.2, '148070': 0.3, '379800': 0.3},\n",
       " 'ETF COMB2': {'069500': 0.3, '273130': 0.2, '148070': 0.3, '379800': 0.2}}"
      ]
     },
     "execution_count": 71,
     "metadata": {},
     "output_type": "execute_result"
    }
   ],
   "source": [
    "wts_dict"
   ]
  },
  {
   "cell_type": "code",
   "execution_count": 74,
   "id": "14da198c-9292-428e-b844-a2064167389b",
   "metadata": {},
   "outputs": [
    {
     "data": {
      "text/plain": [
       "{'KODEX 200': 0.2,\n",
       " 'KODEX 종합채권(AA-이상)액티브': 0.2,\n",
       " 'KOSEF 국고채10년': 0.3,\n",
       " 'KODEX 미국S&P500TR': 0.3}"
      ]
     },
     "execution_count": 74,
     "metadata": {},
     "output_type": "execute_result"
    }
   ],
   "source": [
    "{etf_names[k]:v for k,v in wts_dict['ETF COMB1'].items()}"
   ]
  },
  {
   "cell_type": "code",
   "execution_count": null,
   "id": "d13d3e4b-aa88-424e-b5c7-63448514f556",
   "metadata": {},
   "outputs": [],
   "source": []
  }
 ],
 "metadata": {
  "kernelspec": {
   "display_name": "portfolio",
   "language": "python",
   "name": "portfolio"
  },
  "language_info": {
   "codemirror_mode": {
    "name": "ipython",
    "version": 3
   },
   "file_extension": ".py",
   "mimetype": "text/x-python",
   "name": "python",
   "nbconvert_exporter": "python",
   "pygments_lexer": "ipython3",
   "version": "3.12.1"
  }
 },
 "nbformat": 4,
 "nbformat_minor": 5
}
