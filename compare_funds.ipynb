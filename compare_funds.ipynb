{
 "cells": [
  {
   "cell_type": "markdown",
   "id": "f0782e03-27b3-4f4a-bfa8-79ea73c91cdd",
   "metadata": {},
   "source": [
    "# Setting"
   ]
  },
  {
   "cell_type": "code",
   "execution_count": 1,
   "id": "08e5b3f4-01dc-4a4e-8f1b-50db17fd72e6",
   "metadata": {},
   "outputs": [],
   "source": [
    "import bt\n",
    "import FinanceDataReader as fdr\n",
    "import pandas as pd\n",
    "\n",
    "from pf_utils import import_rate1, import_rate2, get_price\n",
    "from pf_utils import backtest, get_start_dates, metrics"
   ]
  },
  {
   "cell_type": "code",
   "execution_count": 2,
   "id": "3cfca3a2-13ed-46a2-abc6-10659e8932b4",
   "metadata": {},
   "outputs": [],
   "source": [
    "path_data = 'data'"
   ]
  },
  {
   "cell_type": "code",
   "execution_count": 3,
   "id": "c4ec858e-2b9f-4461-aed9-007a9de23d70",
   "metadata": {},
   "outputs": [],
   "source": [
    "import warnings\n",
    "warnings.filterwarnings(action='ignore', category=FutureWarning)"
   ]
  },
  {
   "cell_type": "markdown",
   "id": "1ff75e3f-8901-4f7c-bc31-1d5b98450ab8",
   "metadata": {},
   "source": [
    "# Data"
   ]
  },
  {
   "cell_type": "markdown",
   "id": "de77b70a-50f3-4a7f-9108-970a286dbf6b",
   "metadata": {},
   "source": [
    "## TDF"
   ]
  },
  {
   "cell_type": "code",
   "execution_count": 4,
   "id": "c96779aa-1e6a-4280-be65-682e1513f3ca",
   "metadata": {},
   "outputs": [
    {
     "name": "stdout",
     "output_type": "stream",
     "text": [
      "WARNING: taking the 1st two columns only ...\n",
      "error: 0.00 %\n"
     ]
    },
    {
     "data": {
      "text/plain": [
       "date\n",
       "2018-07-26     958.141087\n",
       "2018-07-27     959.099229\n",
       "2018-07-30     960.823883\n",
       "2018-07-31     959.769927\n",
       "2018-08-01     959.386671\n",
       "                 ...     \n",
       "2024-06-07    1284.771384\n",
       "2024-06-10    1291.670000\n",
       "2024-06-11    1290.424417\n",
       "2024-06-12    1292.915583\n",
       "2024-06-13    1293.011398\n",
       "Name: K55206C95800, Length: 1455, dtype: float64"
      ]
     },
     "execution_count": 4,
     "metadata": {},
     "output_type": "execute_result"
    }
   ],
   "source": [
    "file = 'K55206C95800.csv'\n",
    "\n",
    "# 2024.06.10 기준가:\t1,291.67\n",
    "# 2023.06.14 기준가:\t1,154.82\t\n",
    "data_check = [\n",
    "    ('2024-6-10', 1291.67),\n",
    "    ('2023-6-14', 1154.82)\n",
    "]\n",
    "\n",
    "df = import_rate1(file, path_data)\n",
    "df = get_price(df, data_check)\n",
    "df"
   ]
  },
  {
   "cell_type": "code",
   "execution_count": 5,
   "id": "576b7063-f8fc-4940-bd08-b2aa882d7d36",
   "metadata": {},
   "outputs": [
    {
     "data": {
      "text/html": [
       "<div>\n",
       "<style scoped>\n",
       "    .dataframe tbody tr th:only-of-type {\n",
       "        vertical-align: middle;\n",
       "    }\n",
       "\n",
       "    .dataframe tbody tr th {\n",
       "        vertical-align: top;\n",
       "    }\n",
       "\n",
       "    .dataframe thead th {\n",
       "        text-align: right;\n",
       "    }\n",
       "</style>\n",
       "<table border=\"1\" class=\"dataframe\">\n",
       "  <thead>\n",
       "    <tr style=\"text-align: right;\">\n",
       "      <th></th>\n",
       "      <th>K55206C95800</th>\n",
       "    </tr>\n",
       "    <tr>\n",
       "      <th>date</th>\n",
       "      <th></th>\n",
       "    </tr>\n",
       "  </thead>\n",
       "  <tbody>\n",
       "    <tr>\n",
       "      <th>2018-07-26</th>\n",
       "      <td>958.141087</td>\n",
       "    </tr>\n",
       "    <tr>\n",
       "      <th>2018-07-27</th>\n",
       "      <td>959.099229</td>\n",
       "    </tr>\n",
       "    <tr>\n",
       "      <th>2018-07-30</th>\n",
       "      <td>960.823883</td>\n",
       "    </tr>\n",
       "    <tr>\n",
       "      <th>2018-07-31</th>\n",
       "      <td>959.769927</td>\n",
       "    </tr>\n",
       "    <tr>\n",
       "      <th>2018-08-01</th>\n",
       "      <td>959.386671</td>\n",
       "    </tr>\n",
       "  </tbody>\n",
       "</table>\n",
       "</div>"
      ],
      "text/plain": [
       "            K55206C95800\n",
       "date                    \n",
       "2018-07-26    958.141087\n",
       "2018-07-27    959.099229\n",
       "2018-07-30    960.823883\n",
       "2018-07-31    959.769927\n",
       "2018-08-01    959.386671"
      ]
     },
     "execution_count": 5,
     "metadata": {},
     "output_type": "execute_result"
    }
   ],
   "source": [
    "df_tdf_all = df.to_frame()\n",
    "df_tdf_all.head()"
   ]
  },
  {
   "cell_type": "code",
   "execution_count": 6,
   "id": "16d5ec9b-2760-43af-9935-0d66bdba52a8",
   "metadata": {},
   "outputs": [
    {
     "name": "stdout",
     "output_type": "stream",
     "text": [
      "error: 0.03 %\n"
     ]
    },
    {
     "data": {
      "text/plain": [
       "date\n",
       "2021-06-12     1324.71046\n",
       "2021-06-13     1324.71046\n",
       "2021-06-14    1327.492352\n",
       "2021-06-15    1328.817062\n",
       "2021-06-16    1326.300112\n",
       "                 ...     \n",
       "2024-06-08    1463.937529\n",
       "2024-06-09    1463.937529\n",
       "2024-06-10    1463.407645\n",
       "2024-06-11    1466.057066\n",
       "2024-06-12        1464.07\n",
       "Name: K55301BU6139, Length: 1097, dtype: object"
      ]
     },
     "execution_count": 6,
     "metadata": {},
     "output_type": "execute_result"
    }
   ],
   "source": [
    "file = 'K55301BU6139.csv'\n",
    "\n",
    "# 2024.06.12\t1,464.07\t\n",
    "# 2023.06.14\t1,267.58\t\n",
    "data_check = [\n",
    "    ('2024-6-12', 1464.07),\n",
    "    ('2023-6-14', 1267.58)\n",
    "]\n",
    "\n",
    "df = import_rate2(file, path_data)\n",
    "df = get_price(df, data_check)\n",
    "df"
   ]
  },
  {
   "cell_type": "code",
   "execution_count": 7,
   "id": "99f03a33-e8a6-4490-963c-1bfae00e160b",
   "metadata": {},
   "outputs": [
    {
     "data": {
      "text/html": [
       "<div>\n",
       "<style scoped>\n",
       "    .dataframe tbody tr th:only-of-type {\n",
       "        vertical-align: middle;\n",
       "    }\n",
       "\n",
       "    .dataframe tbody tr th {\n",
       "        vertical-align: top;\n",
       "    }\n",
       "\n",
       "    .dataframe thead th {\n",
       "        text-align: right;\n",
       "    }\n",
       "</style>\n",
       "<table border=\"1\" class=\"dataframe\">\n",
       "  <thead>\n",
       "    <tr style=\"text-align: right;\">\n",
       "      <th></th>\n",
       "      <th>K55206C95800</th>\n",
       "      <th>K55301BU6139</th>\n",
       "    </tr>\n",
       "    <tr>\n",
       "      <th>date</th>\n",
       "      <th></th>\n",
       "      <th></th>\n",
       "    </tr>\n",
       "  </thead>\n",
       "  <tbody>\n",
       "    <tr>\n",
       "      <th>2024-06-07</th>\n",
       "      <td>1284.771384</td>\n",
       "      <td>1463.937529</td>\n",
       "    </tr>\n",
       "    <tr>\n",
       "      <th>2024-06-10</th>\n",
       "      <td>1291.670000</td>\n",
       "      <td>1463.407645</td>\n",
       "    </tr>\n",
       "    <tr>\n",
       "      <th>2024-06-11</th>\n",
       "      <td>1290.424417</td>\n",
       "      <td>1466.057066</td>\n",
       "    </tr>\n",
       "    <tr>\n",
       "      <th>2024-06-12</th>\n",
       "      <td>1292.915583</td>\n",
       "      <td>1464.07</td>\n",
       "    </tr>\n",
       "    <tr>\n",
       "      <th>2024-06-13</th>\n",
       "      <td>1293.011398</td>\n",
       "      <td>NaN</td>\n",
       "    </tr>\n",
       "  </tbody>\n",
       "</table>\n",
       "</div>"
      ],
      "text/plain": [
       "            K55206C95800 K55301BU6139\n",
       "date                                 \n",
       "2024-06-07   1284.771384  1463.937529\n",
       "2024-06-10   1291.670000  1463.407645\n",
       "2024-06-11   1290.424417  1466.057066\n",
       "2024-06-12   1292.915583      1464.07\n",
       "2024-06-13   1293.011398          NaN"
      ]
     },
     "execution_count": 7,
     "metadata": {},
     "output_type": "execute_result"
    }
   ],
   "source": [
    "df_tdf_all = df_tdf_all.join(df)\n",
    "df_tdf_all.tail()"
   ]
  },
  {
   "cell_type": "code",
   "execution_count": 8,
   "id": "65ff59a3-c462-4edd-80bc-a0090c817975",
   "metadata": {},
   "outputs": [],
   "source": [
    "tdf_names ={\n",
    "    'K55206C95800': '키움키워드림TDF2030증권투자신탁 1[혼합-재간접형]C-P2e(퇴직연금)',\n",
    "    'K55301BU6139': '미래에셋전략배분TDF2035혼합자산자투자신탁종류C-P2e'\n",
    "}"
   ]
  },
  {
   "cell_type": "code",
   "execution_count": 9,
   "id": "5cc88ebd-bc49-455b-a0dd-da40ff324d36",
   "metadata": {},
   "outputs": [
    {
     "data": {
      "text/plain": [
       "{'키움키워드림TDF2030증권투자신탁 1[혼합-재간접형]C-P2e(퇴직연금)': 0.49,\n",
       " '미래에셋전략배분TDF2035혼합자산자투자신탁종류C-P2e': 0.6}"
      ]
     },
     "execution_count": 9,
     "metadata": {},
     "output_type": "execute_result"
    }
   ],
   "source": [
    "commissions = {\n",
    "    'K55206C95800': 0.49, # yearly\n",
    "    'K55301BU6139': 0.6, # yearly\n",
    "}\n",
    "{tdf_names[k]:v for k,v in commissions.items()}"
   ]
  },
  {
   "cell_type": "code",
   "execution_count": 10,
   "id": "97a82be1-8be9-4dd9-a402-c51782b958fa",
   "metadata": {},
   "outputs": [
    {
     "data": {
      "text/html": [
       "<div>\n",
       "<style scoped>\n",
       "    .dataframe tbody tr th:only-of-type {\n",
       "        vertical-align: middle;\n",
       "    }\n",
       "\n",
       "    .dataframe tbody tr th {\n",
       "        vertical-align: top;\n",
       "    }\n",
       "\n",
       "    .dataframe thead th {\n",
       "        text-align: right;\n",
       "    }\n",
       "</style>\n",
       "<table border=\"1\" class=\"dataframe\">\n",
       "  <thead>\n",
       "    <tr style=\"text-align: right;\">\n",
       "      <th></th>\n",
       "      <th>start date</th>\n",
       "    </tr>\n",
       "  </thead>\n",
       "  <tbody>\n",
       "    <tr>\n",
       "      <th>K55206C95800</th>\n",
       "      <td>2018-07-26</td>\n",
       "    </tr>\n",
       "    <tr>\n",
       "      <th>K55301BU6139</th>\n",
       "      <td>2021-06-14</td>\n",
       "    </tr>\n",
       "  </tbody>\n",
       "</table>\n",
       "</div>"
      ],
      "text/plain": [
       "             start date\n",
       "K55206C95800 2018-07-26\n",
       "K55301BU6139 2021-06-14"
      ]
     },
     "execution_count": 10,
     "metadata": {},
     "output_type": "execute_result"
    }
   ],
   "source": [
    "get_start_dates(df_tdf_all)"
   ]
  },
  {
   "cell_type": "code",
   "execution_count": 11,
   "id": "f3be0024-2cf1-4eea-a1c1-812ce017b98c",
   "metadata": {},
   "outputs": [],
   "source": [
    "start_date = '2021-06-14'"
   ]
  },
  {
   "cell_type": "code",
   "execution_count": 12,
   "id": "39113009-bf2b-45df-9801-b4909b453553",
   "metadata": {},
   "outputs": [],
   "source": [
    "df_tdf = df_tdf_all.loc[start_date:]"
   ]
  },
  {
   "cell_type": "code",
   "execution_count": 13,
   "id": "3b89b26f-b155-4cba-9ea7-af34c4de0a81",
   "metadata": {},
   "outputs": [
    {
     "data": {
      "text/plain": [
       "K55206C95800    0\n",
       "K55301BU6139    1\n",
       "dtype: int64"
      ]
     },
     "execution_count": 13,
     "metadata": {},
     "output_type": "execute_result"
    }
   ],
   "source": [
    "df_tdf.isna().sum()"
   ]
  },
  {
   "cell_type": "code",
   "execution_count": 14,
   "id": "e76499e6-dcb3-42dc-a552-1e79a14177eb",
   "metadata": {},
   "outputs": [],
   "source": [
    "df_tdf = df_tdf.ffill()"
   ]
  },
  {
   "cell_type": "code",
   "execution_count": 15,
   "id": "ddeddcce-89cc-483f-acf9-0bb2f4a1721d",
   "metadata": {},
   "outputs": [
    {
     "data": {
      "text/html": [
       "<div>\n",
       "<style scoped>\n",
       "    .dataframe tbody tr th:only-of-type {\n",
       "        vertical-align: middle;\n",
       "    }\n",
       "\n",
       "    .dataframe tbody tr th {\n",
       "        vertical-align: top;\n",
       "    }\n",
       "\n",
       "    .dataframe thead th {\n",
       "        text-align: right;\n",
       "    }\n",
       "</style>\n",
       "<table border=\"1\" class=\"dataframe\">\n",
       "  <thead>\n",
       "    <tr style=\"text-align: right;\">\n",
       "      <th></th>\n",
       "      <th>K55206C95800</th>\n",
       "      <th>K55301BU6139</th>\n",
       "    </tr>\n",
       "    <tr>\n",
       "      <th>date</th>\n",
       "      <th></th>\n",
       "      <th></th>\n",
       "    </tr>\n",
       "  </thead>\n",
       "  <tbody>\n",
       "    <tr>\n",
       "      <th>2021-06-14</th>\n",
       "      <td>1246.349927</td>\n",
       "      <td>1327.492352</td>\n",
       "    </tr>\n",
       "    <tr>\n",
       "      <th>2021-06-15</th>\n",
       "      <td>1249.415978</td>\n",
       "      <td>1328.817062</td>\n",
       "    </tr>\n",
       "    <tr>\n",
       "      <th>2021-06-16</th>\n",
       "      <td>1250.278305</td>\n",
       "      <td>1326.300112</td>\n",
       "    </tr>\n",
       "    <tr>\n",
       "      <th>2021-06-17</th>\n",
       "      <td>1249.128536</td>\n",
       "      <td>1324.975402</td>\n",
       "    </tr>\n",
       "    <tr>\n",
       "      <th>2021-06-18</th>\n",
       "      <td>1251.044818</td>\n",
       "      <td>1323.385749</td>\n",
       "    </tr>\n",
       "    <tr>\n",
       "      <th>...</th>\n",
       "      <td>...</td>\n",
       "      <td>...</td>\n",
       "    </tr>\n",
       "    <tr>\n",
       "      <th>2024-06-07</th>\n",
       "      <td>1284.771384</td>\n",
       "      <td>1463.937529</td>\n",
       "    </tr>\n",
       "    <tr>\n",
       "      <th>2024-06-10</th>\n",
       "      <td>1291.670000</td>\n",
       "      <td>1463.407645</td>\n",
       "    </tr>\n",
       "    <tr>\n",
       "      <th>2024-06-11</th>\n",
       "      <td>1290.424417</td>\n",
       "      <td>1466.057066</td>\n",
       "    </tr>\n",
       "    <tr>\n",
       "      <th>2024-06-12</th>\n",
       "      <td>1292.915583</td>\n",
       "      <td>1464.070000</td>\n",
       "    </tr>\n",
       "    <tr>\n",
       "      <th>2024-06-13</th>\n",
       "      <td>1293.011398</td>\n",
       "      <td>1464.070000</td>\n",
       "    </tr>\n",
       "  </tbody>\n",
       "</table>\n",
       "<p>743 rows × 2 columns</p>\n",
       "</div>"
      ],
      "text/plain": [
       "            K55206C95800  K55301BU6139\n",
       "date                                  \n",
       "2021-06-14   1246.349927   1327.492352\n",
       "2021-06-15   1249.415978   1328.817062\n",
       "2021-06-16   1250.278305   1326.300112\n",
       "2021-06-17   1249.128536   1324.975402\n",
       "2021-06-18   1251.044818   1323.385749\n",
       "...                  ...           ...\n",
       "2024-06-07   1284.771384   1463.937529\n",
       "2024-06-10   1291.670000   1463.407645\n",
       "2024-06-11   1290.424417   1466.057066\n",
       "2024-06-12   1292.915583   1464.070000\n",
       "2024-06-13   1293.011398   1464.070000\n",
       "\n",
       "[743 rows x 2 columns]"
      ]
     },
     "execution_count": 15,
     "metadata": {},
     "output_type": "execute_result"
    }
   ],
   "source": [
    "df_tdf"
   ]
  },
  {
   "cell_type": "markdown",
   "id": "017c9252-f2c1-4e0a-8843-27737f25c11b",
   "metadata": {},
   "source": [
    "## ETF"
   ]
  },
  {
   "cell_type": "code",
   "execution_count": 16,
   "id": "ad4672a0-aa63-4104-9216-6148bfb717e5",
   "metadata": {},
   "outputs": [
    {
     "data": {
      "text/html": [
       "<div>\n",
       "<style scoped>\n",
       "    .dataframe tbody tr th:only-of-type {\n",
       "        vertical-align: middle;\n",
       "    }\n",
       "\n",
       "    .dataframe tbody tr th {\n",
       "        vertical-align: top;\n",
       "    }\n",
       "\n",
       "    .dataframe thead th {\n",
       "        text-align: right;\n",
       "    }\n",
       "</style>\n",
       "<table border=\"1\" class=\"dataframe\">\n",
       "  <thead>\n",
       "    <tr style=\"text-align: right;\">\n",
       "      <th></th>\n",
       "      <th>273130</th>\n",
       "      <th>453850</th>\n",
       "      <th>284430</th>\n",
       "      <th>069500</th>\n",
       "      <th>379800</th>\n",
       "      <th>411060</th>\n",
       "      <th>305080</th>\n",
       "      <th>304660</th>\n",
       "      <th>148070</th>\n",
       "      <th>261220</th>\n",
       "    </tr>\n",
       "    <tr>\n",
       "      <th>Date</th>\n",
       "      <th></th>\n",
       "      <th></th>\n",
       "      <th></th>\n",
       "      <th></th>\n",
       "      <th></th>\n",
       "      <th></th>\n",
       "      <th></th>\n",
       "      <th></th>\n",
       "      <th></th>\n",
       "      <th></th>\n",
       "    </tr>\n",
       "  </thead>\n",
       "  <tbody>\n",
       "    <tr>\n",
       "      <th>2002-10-14</th>\n",
       "      <td>NaN</td>\n",
       "      <td>NaN</td>\n",
       "      <td>NaN</td>\n",
       "      <td>5184</td>\n",
       "      <td>NaN</td>\n",
       "      <td>NaN</td>\n",
       "      <td>NaN</td>\n",
       "      <td>NaN</td>\n",
       "      <td>NaN</td>\n",
       "      <td>NaN</td>\n",
       "    </tr>\n",
       "    <tr>\n",
       "      <th>2002-10-15</th>\n",
       "      <td>NaN</td>\n",
       "      <td>NaN</td>\n",
       "      <td>NaN</td>\n",
       "      <td>5312</td>\n",
       "      <td>NaN</td>\n",
       "      <td>NaN</td>\n",
       "      <td>NaN</td>\n",
       "      <td>NaN</td>\n",
       "      <td>NaN</td>\n",
       "      <td>NaN</td>\n",
       "    </tr>\n",
       "    <tr>\n",
       "      <th>2002-10-16</th>\n",
       "      <td>NaN</td>\n",
       "      <td>NaN</td>\n",
       "      <td>NaN</td>\n",
       "      <td>5335</td>\n",
       "      <td>NaN</td>\n",
       "      <td>NaN</td>\n",
       "      <td>NaN</td>\n",
       "      <td>NaN</td>\n",
       "      <td>NaN</td>\n",
       "      <td>NaN</td>\n",
       "    </tr>\n",
       "    <tr>\n",
       "      <th>2002-10-17</th>\n",
       "      <td>NaN</td>\n",
       "      <td>NaN</td>\n",
       "      <td>NaN</td>\n",
       "      <td>5410</td>\n",
       "      <td>NaN</td>\n",
       "      <td>NaN</td>\n",
       "      <td>NaN</td>\n",
       "      <td>NaN</td>\n",
       "      <td>NaN</td>\n",
       "      <td>NaN</td>\n",
       "    </tr>\n",
       "    <tr>\n",
       "      <th>2002-10-18</th>\n",
       "      <td>NaN</td>\n",
       "      <td>NaN</td>\n",
       "      <td>NaN</td>\n",
       "      <td>5642</td>\n",
       "      <td>NaN</td>\n",
       "      <td>NaN</td>\n",
       "      <td>NaN</td>\n",
       "      <td>NaN</td>\n",
       "      <td>NaN</td>\n",
       "      <td>NaN</td>\n",
       "    </tr>\n",
       "  </tbody>\n",
       "</table>\n",
       "</div>"
      ],
      "text/plain": [
       "            273130  453850  284430  069500  379800  411060  305080  304660  \\\n",
       "Date                                                                         \n",
       "2002-10-14     NaN     NaN     NaN    5184     NaN     NaN     NaN     NaN   \n",
       "2002-10-15     NaN     NaN     NaN    5312     NaN     NaN     NaN     NaN   \n",
       "2002-10-16     NaN     NaN     NaN    5335     NaN     NaN     NaN     NaN   \n",
       "2002-10-17     NaN     NaN     NaN    5410     NaN     NaN     NaN     NaN   \n",
       "2002-10-18     NaN     NaN     NaN    5642     NaN     NaN     NaN     NaN   \n",
       "\n",
       "            148070  261220  \n",
       "Date                        \n",
       "2002-10-14     NaN     NaN  \n",
       "2002-10-15     NaN     NaN  \n",
       "2002-10-16     NaN     NaN  \n",
       "2002-10-17     NaN     NaN  \n",
       "2002-10-18     NaN     NaN  "
      ]
     },
     "execution_count": 16,
     "metadata": {},
     "output_type": "execute_result"
    }
   ],
   "source": [
    "file = 'etfs_selected_240611.csv'\n",
    "df_etf_all = pd.read_csv(f'{path_data}/{file}', parse_dates=[0], index_col=0)\n",
    "df_etf_all.head()"
   ]
  },
  {
   "cell_type": "code",
   "execution_count": 17,
   "id": "2aa3232e-ceae-4aaf-87f7-3f55e4287148",
   "metadata": {},
   "outputs": [
    {
     "data": {
      "text/plain": [
       "{'069500': 'KODEX 200',\n",
       " '273130': 'KODEX 종합채권(AA-이상)액티브',\n",
       " '379800': 'KODEX 미국S&P500TR',\n",
       " '453850': 'ACE 미국30년국채액티브(H)',\n",
       " '148070': 'KOSEF 국고채10년',\n",
       " '304660': 'KODEX 미국30년국채울트라선물(H)',\n",
       " '411060': 'ACE KRX금현물',\n",
       " '305080': 'TIGER 미국채10년선물',\n",
       " '284430': 'KODEX 200미국채혼합',\n",
       " '261220': 'KODEX WTI원유선물(H)'}"
      ]
     },
     "execution_count": 17,
     "metadata": {},
     "output_type": "execute_result"
    }
   ],
   "source": [
    "df_sym = fdr.StockListing('ETF/KR') # 한국 ETF 전종목\n",
    "\n",
    "symbols = df_etf_all.columns\n",
    "etf_names = df_sym.loc[df_sym.Symbol.isin(symbols)].set_index('Symbol')['Name'].to_dict()\n",
    "etf_names"
   ]
  },
  {
   "cell_type": "code",
   "execution_count": 18,
   "id": "b862bf4f-41c9-4823-9d85-01016554620d",
   "metadata": {},
   "outputs": [
    {
     "data": {
      "text/plain": [
       "{'069500': 'KODEX 200',\n",
       " '273130': 'KODEX 종합채권(AA-이상)액티브',\n",
       " '148070': 'KOSEF 국고채10년',\n",
       " '379800': 'KODEX 미국S&P500TR'}"
      ]
     },
     "execution_count": 18,
     "metadata": {},
     "output_type": "execute_result"
    }
   ],
   "source": [
    "#etf = ['069500', '148070', '305080', '379800']\n",
    "etf = ['069500', '273130', '148070', '379800']\n",
    "{x: etf_names[x] for x in etf}"
   ]
  },
  {
   "cell_type": "code",
   "execution_count": 19,
   "id": "8296256e-e93a-40e1-a3c6-7ff3c2675e5e",
   "metadata": {},
   "outputs": [
    {
     "data": {
      "text/html": [
       "<div>\n",
       "<style scoped>\n",
       "    .dataframe tbody tr th:only-of-type {\n",
       "        vertical-align: middle;\n",
       "    }\n",
       "\n",
       "    .dataframe tbody tr th {\n",
       "        vertical-align: top;\n",
       "    }\n",
       "\n",
       "    .dataframe thead th {\n",
       "        text-align: right;\n",
       "    }\n",
       "</style>\n",
       "<table border=\"1\" class=\"dataframe\">\n",
       "  <thead>\n",
       "    <tr style=\"text-align: right;\">\n",
       "      <th></th>\n",
       "      <th>start date</th>\n",
       "    </tr>\n",
       "  </thead>\n",
       "  <tbody>\n",
       "    <tr>\n",
       "      <th>069500</th>\n",
       "      <td>2021-06-14</td>\n",
       "    </tr>\n",
       "    <tr>\n",
       "      <th>273130</th>\n",
       "      <td>2021-06-14</td>\n",
       "    </tr>\n",
       "    <tr>\n",
       "      <th>148070</th>\n",
       "      <td>2021-06-14</td>\n",
       "    </tr>\n",
       "    <tr>\n",
       "      <th>379800</th>\n",
       "      <td>2021-06-14</td>\n",
       "    </tr>\n",
       "  </tbody>\n",
       "</table>\n",
       "</div>"
      ],
      "text/plain": [
       "       start date\n",
       "069500 2021-06-14\n",
       "273130 2021-06-14\n",
       "148070 2021-06-14\n",
       "379800 2021-06-14"
      ]
     },
     "execution_count": 19,
     "metadata": {},
     "output_type": "execute_result"
    }
   ],
   "source": [
    "df_etf = df_etf_all.loc[start_date:, etf]\n",
    "get_start_dates(df_etf)"
   ]
  },
  {
   "cell_type": "markdown",
   "id": "6302c1f6-223c-4919-857d-69059ae09e42",
   "metadata": {},
   "source": [
    "# Simulation"
   ]
  },
  {
   "cell_type": "code",
   "execution_count": null,
   "id": "794aaf1f-9928-4b17-903c-0b0d47825e8d",
   "metadata": {},
   "outputs": [],
   "source": [
    "class backtest():\n",
    "    def __init__():\n",
    "        self.stg_dict = dict()\n",
    "        self.wts_dict = dict()\n",
    "\n",
    "    def strategy(name, df, buy_n_hold=False):\n",
    "        if buy_n_hold:\n",
    "            weights = {name:1}\n",
    "            stg_dict[col] = buy_and_hold(df, col)\n",
    "            wts_dict[col] = weights"
   ]
  },
  {
   "cell_type": "code",
   "execution_count": 21,
   "id": "3c9a56ca-de7f-4859-915b-195000d0cd24",
   "metadata": {},
   "outputs": [],
   "source": [
    "stg_dict = dict()\n",
    "wts_dict = dict()"
   ]
  },
  {
   "cell_type": "code",
   "execution_count": 30,
   "id": "bbb6c7bd-334d-4581-8c69-c71b8e7e1456",
   "metadata": {},
   "outputs": [],
   "source": [
    "name = 'KOSPI'\n",
    "\n",
    "index = df_tdf.index\n",
    "df = df_etf.loc[index.min():index.max(), ['069500']]\n",
    "\n",
    "weights = {name:1}\n",
    "stg_dict[name] = backtest(df, weights, name, period=None)\n",
    "wts_dict[name] = weights"
   ]
  },
  {
   "cell_type": "code",
   "execution_count": 28,
   "id": "cfe4420d-d70c-46ed-ba0c-73a846ee551e",
   "metadata": {},
   "outputs": [],
   "source": [
    "name = 'TDF COMB'\n",
    "weights = dict(zip(df_tdf.columns, [0.5, 0.5]))\n",
    "stg_dict[name] = backtest(df_tdf, weights, name, period=None)\n",
    "wts_dict[name] = weights"
   ]
  },
  {
   "cell_type": "code",
   "execution_count": 68,
   "id": "b614f697-4cc4-4229-936a-cbf67a20a016",
   "metadata": {},
   "outputs": [
    {
     "name": "stdout",
     "output_type": "stream",
     "text": [
      "{'KODEX 200': 0.2, 'KODEX 종합채권(AA-이상)액티브': 0.2, 'KOSEF 국고채10년': 0.3, 'KODEX 미국S&P500TR': 0.3}\n"
     ]
    }
   ],
   "source": [
    "col = 'ETF COMB1'\n",
    "\n",
    "weights = [0.2, 0.2, 0.3, 0.3]\n",
    "weights = dict(zip(etf, weights))\n",
    "print({etf_names[k]:v for k,v in weights.items()})\n",
    "\n",
    "stg_dict[col] = backtest(df_etf2, weights, col, period='Y')\n",
    "wts_dict[col] = weights"
   ]
  },
  {
   "cell_type": "code",
   "execution_count": 69,
   "id": "b228d596-d02e-46b1-9b02-9e5c7798a8c0",
   "metadata": {},
   "outputs": [
    {
     "name": "stdout",
     "output_type": "stream",
     "text": [
      "{'KODEX 200': 0.3, 'KODEX 종합채권(AA-이상)액티브': 0.2, 'KOSEF 국고채10년': 0.3, 'KODEX 미국S&P500TR': 0.2}\n"
     ]
    }
   ],
   "source": [
    "col = 'ETF COMB2'\n",
    "\n",
    "weights = [0.3, 0.2, 0.3, 0.2]\n",
    "weights = dict(zip(etf, weights))\n",
    "print({etf_names[k]:v for k,v in weights.items()})\n",
    "\n",
    "stg_dict[col] = backtest(df_etf2, weights, col, period='Y')\n",
    "wts_dict[col] = weights"
   ]
  },
  {
   "cell_type": "code",
   "execution_count": 31,
   "id": "6064dc39-2113-4baf-b937-352248ec6b49",
   "metadata": {},
   "outputs": [
    {
     "ename": "Exception",
     "evalue": "Cannot allocate capital to KOSPI because price is 0 as of 2021-06-14 00:00:00",
     "output_type": "error",
     "traceback": [
      "\u001b[0;31m---------------------------------------------------------------------------\u001b[0m",
      "\u001b[0;31mException\u001b[0m                                 Traceback (most recent call last)",
      "Cell \u001b[0;32mIn[31], line 1\u001b[0m\n\u001b[0;32m----> 1\u001b[0m results \u001b[38;5;241m=\u001b[39m \u001b[43mbt\u001b[49m\u001b[38;5;241;43m.\u001b[39;49m\u001b[43mrun\u001b[49m\u001b[43m(\u001b[49m\u001b[38;5;241;43m*\u001b[39;49m\u001b[43mstg_dict\u001b[49m\u001b[38;5;241;43m.\u001b[39;49m\u001b[43mvalues\u001b[49m\u001b[43m(\u001b[49m\u001b[43m)\u001b[49m\u001b[43m)\u001b[49m\n\u001b[1;32m      2\u001b[0m results\u001b[38;5;241m.\u001b[39mplot(freq\u001b[38;5;241m=\u001b[39m\u001b[38;5;124m'\u001b[39m\u001b[38;5;124md\u001b[39m\u001b[38;5;124m'\u001b[39m);\n\u001b[1;32m      3\u001b[0m results\u001b[38;5;241m.\u001b[39mstats\u001b[38;5;241m.\u001b[39mloc[metrics]\n",
      "File \u001b[0;32m~/.cache/pypoetry/virtualenvs/pf-APoYtgC9-py3.12/lib/python3.12/site-packages/bt/backtest.py:28\u001b[0m, in \u001b[0;36mrun\u001b[0;34m(*backtests)\u001b[0m\n\u001b[1;32m     26\u001b[0m \u001b[38;5;66;03m# run each backtest\u001b[39;00m\n\u001b[1;32m     27\u001b[0m \u001b[38;5;28;01mfor\u001b[39;00m bkt \u001b[38;5;129;01min\u001b[39;00m backtests:\n\u001b[0;32m---> 28\u001b[0m     \u001b[43mbkt\u001b[49m\u001b[38;5;241;43m.\u001b[39;49m\u001b[43mrun\u001b[49m\u001b[43m(\u001b[49m\u001b[43m)\u001b[49m\n\u001b[1;32m     30\u001b[0m \u001b[38;5;28;01mreturn\u001b[39;00m Result(\u001b[38;5;241m*\u001b[39mbacktests)\n",
      "File \u001b[0;32m~/.cache/pypoetry/virtualenvs/pf-APoYtgC9-py3.12/lib/python3.12/site-packages/bt/backtest.py:251\u001b[0m, in \u001b[0;36mBacktest.run\u001b[0;34m(self)\u001b[0m\n\u001b[1;32m    248\u001b[0m \u001b[38;5;28mself\u001b[39m\u001b[38;5;241m.\u001b[39mstrategy\u001b[38;5;241m.\u001b[39mupdate(dt)\n\u001b[1;32m    250\u001b[0m \u001b[38;5;28;01mif\u001b[39;00m \u001b[38;5;129;01mnot\u001b[39;00m \u001b[38;5;28mself\u001b[39m\u001b[38;5;241m.\u001b[39mstrategy\u001b[38;5;241m.\u001b[39mbankrupt:\n\u001b[0;32m--> 251\u001b[0m     \u001b[38;5;28;43mself\u001b[39;49m\u001b[38;5;241;43m.\u001b[39;49m\u001b[43mstrategy\u001b[49m\u001b[38;5;241;43m.\u001b[39;49m\u001b[43mrun\u001b[49m\u001b[43m(\u001b[49m\u001b[43m)\u001b[49m\n\u001b[1;32m    252\u001b[0m     \u001b[38;5;66;03m# need update after to save weights, values and such\u001b[39;00m\n\u001b[1;32m    253\u001b[0m     \u001b[38;5;28mself\u001b[39m\u001b[38;5;241m.\u001b[39mstrategy\u001b[38;5;241m.\u001b[39mupdate(dt)\n",
      "File \u001b[0;32m~/.cache/pypoetry/virtualenvs/pf-APoYtgC9-py3.12/lib/python3.12/site-packages/bt/core.py:2067\u001b[0m, in \u001b[0;36mbt.core.Strategy.run\u001b[0;34m()\u001b[0m\n",
      "File \u001b[0;32m~/.cache/pypoetry/virtualenvs/pf-APoYtgC9-py3.12/lib/python3.12/site-packages/bt/core.py:2006\u001b[0m, in \u001b[0;36mbt.core.AlgoStack.__call__\u001b[0;34m()\u001b[0m\n",
      "File \u001b[0;32m~/.cache/pypoetry/virtualenvs/pf-APoYtgC9-py3.12/lib/python3.12/site-packages/bt/algos.py:1786\u001b[0m, in \u001b[0;36mRebalance.__call__\u001b[0;34m(self, target)\u001b[0m\n\u001b[1;32m   1784\u001b[0m \u001b[38;5;66;03m# Turn off updating while we rebalance each child\u001b[39;00m\n\u001b[1;32m   1785\u001b[0m \u001b[38;5;28;01mfor\u001b[39;00m item \u001b[38;5;129;01min\u001b[39;00m targets\u001b[38;5;241m.\u001b[39mitems():\n\u001b[0;32m-> 1786\u001b[0m     \u001b[43mtarget\u001b[49m\u001b[38;5;241;43m.\u001b[39;49m\u001b[43mrebalance\u001b[49m\u001b[43m(\u001b[49m\u001b[43mitem\u001b[49m\u001b[43m[\u001b[49m\u001b[38;5;241;43m1\u001b[39;49m\u001b[43m]\u001b[49m\u001b[43m,\u001b[49m\u001b[43m \u001b[49m\u001b[43mchild\u001b[49m\u001b[38;5;241;43m=\u001b[39;49m\u001b[43mitem\u001b[49m\u001b[43m[\u001b[49m\u001b[38;5;241;43m0\u001b[39;49m\u001b[43m]\u001b[49m\u001b[43m,\u001b[49m\u001b[43m \u001b[49m\u001b[43mbase\u001b[49m\u001b[38;5;241;43m=\u001b[39;49m\u001b[43mbase\u001b[49m\u001b[43m,\u001b[49m\u001b[43m \u001b[49m\u001b[43mupdate\u001b[49m\u001b[38;5;241;43m=\u001b[39;49m\u001b[38;5;28;43;01mFalse\u001b[39;49;00m\u001b[43m)\u001b[49m\n\u001b[1;32m   1788\u001b[0m \u001b[38;5;66;03m# Now update\u001b[39;00m\n\u001b[1;32m   1789\u001b[0m target\u001b[38;5;241m.\u001b[39mroot\u001b[38;5;241m.\u001b[39mupdate(target\u001b[38;5;241m.\u001b[39mnow)\n",
      "File \u001b[0;32m~/.cache/pypoetry/virtualenvs/pf-APoYtgC9-py3.12/lib/python3.12/site-packages/bt/core.py:1012\u001b[0m, in \u001b[0;36mbt.core.StrategyBase.rebalance\u001b[0;34m()\u001b[0m\n",
      "File \u001b[0;32m~/.cache/pypoetry/virtualenvs/pf-APoYtgC9-py3.12/lib/python3.12/site-packages/bt/core.py:1490\u001b[0m, in \u001b[0;36mbt.core.SecurityBase.allocate\u001b[0;34m()\u001b[0m\n",
      "\u001b[0;31mException\u001b[0m: Cannot allocate capital to KOSPI because price is 0 as of 2021-06-14 00:00:00"
     ]
    }
   ],
   "source": [
    "results = bt.run(*stg_dict.values())\n",
    "results.plot(freq='d');\n",
    "results.stats.loc[metrics]"
   ]
  },
  {
   "cell_type": "code",
   "execution_count": 71,
   "id": "140a2286-b781-4583-bd55-88fc7a6f2c03",
   "metadata": {},
   "outputs": [
    {
     "data": {
      "text/plain": [
       "{'KOSPI': {'069500': 1},\n",
       " 'TDF COMB': {'K55206C95800': 0.5, 'K55301BU6139': 0.5},\n",
       " 'ETF COMB1': {'069500': 0.2, '273130': 0.2, '148070': 0.3, '379800': 0.3},\n",
       " 'ETF COMB2': {'069500': 0.3, '273130': 0.2, '148070': 0.3, '379800': 0.2}}"
      ]
     },
     "execution_count": 71,
     "metadata": {},
     "output_type": "execute_result"
    }
   ],
   "source": [
    "wts_dict"
   ]
  },
  {
   "cell_type": "code",
   "execution_count": 74,
   "id": "14da198c-9292-428e-b844-a2064167389b",
   "metadata": {},
   "outputs": [
    {
     "data": {
      "text/plain": [
       "{'KODEX 200': 0.2,\n",
       " 'KODEX 종합채권(AA-이상)액티브': 0.2,\n",
       " 'KOSEF 국고채10년': 0.3,\n",
       " 'KODEX 미국S&P500TR': 0.3}"
      ]
     },
     "execution_count": 74,
     "metadata": {},
     "output_type": "execute_result"
    }
   ],
   "source": [
    "{etf_names[k]:v for k,v in wts_dict['ETF COMB1'].items()}"
   ]
  },
  {
   "cell_type": "code",
   "execution_count": null,
   "id": "d13d3e4b-aa88-424e-b5c7-63448514f556",
   "metadata": {},
   "outputs": [],
   "source": []
  }
 ],
 "metadata": {
  "kernelspec": {
   "display_name": "portfolio",
   "language": "python",
   "name": "portfolio"
  },
  "language_info": {
   "codemirror_mode": {
    "name": "ipython",
    "version": 3
   },
   "file_extension": ".py",
   "mimetype": "text/x-python",
   "name": "python",
   "nbconvert_exporter": "python",
   "pygments_lexer": "ipython3",
   "version": "3.12.1"
  }
 },
 "nbformat": 4,
 "nbformat_minor": 5
}
