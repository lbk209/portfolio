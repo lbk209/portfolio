{
 "cells": [
  {
   "cell_type": "markdown",
   "id": "1a0d2b60-5842-4969-8229-84f355dc46fc",
   "metadata": {},
   "source": [
    "# Testing"
   ]
  },
  {
   "cell_type": "code",
   "execution_count": 356,
   "id": "37973388-297f-42f1-b245-7b47f594cb42",
   "metadata": {},
   "outputs": [
    {
     "ename": "TypeError",
     "evalue": "DOMWidget.focus() takes 1 positional argument but 2 were given",
     "output_type": "error",
     "traceback": [
      "\u001b[0;31m---------------------------------------------------------------------------\u001b[0m",
      "\u001b[0;31mTypeError\u001b[0m                                 Traceback (most recent call last)",
      "Cell \u001b[0;32mIn[356], line 50\u001b[0m\n\u001b[1;32m     47\u001b[0m \u001b[38;5;28;01mdef\u001b[39;00m \u001b[38;5;21mchange_color\u001b[39m(b):\n\u001b[1;32m     48\u001b[0m     w_save\u001b[38;5;241m.\u001b[39mstyle \u001b[38;5;241m=\u001b[39m \u001b[38;5;28mdict\u001b[39m(text_color\u001b[38;5;241m=\u001b[39m\u001b[38;5;124m'\u001b[39m\u001b[38;5;124m#FFFFFF\u001b[39m\u001b[38;5;124m'\u001b[39m)\n\u001b[0;32m---> 50\u001b[0m \u001b[43mw_save\u001b[49m\u001b[38;5;241;43m.\u001b[39;49m\u001b[43mfocus\u001b[49m\u001b[43m(\u001b[49m\u001b[43mchange_color\u001b[49m\u001b[43m)\u001b[49m\n\u001b[1;32m     53\u001b[0m VBox([w_save])\n",
      "\u001b[0;31mTypeError\u001b[0m: DOMWidget.focus() takes 1 positional argument but 2 were given"
     ]
    }
   ],
   "source": [
    "import ipywidgets as widgets\n",
    "from datetime import datetime\n",
    "\n",
    "item_layout = Layout(width='200px')\n",
    "\n",
    "w_date = widgets.DatePicker(\n",
    "    #description='Date',\n",
    "    disabled=False,\n",
    "    value=None,\n",
    "    layout=item_layout\n",
    ")\n",
    "\n",
    "w_cap = widgets.IntSlider(\n",
    "    value=0,\n",
    "    min=0,\n",
    "    max=20000000,\n",
    "    step=1000000,\n",
    "    #description='Capital',\n",
    "    disabled=False,\n",
    "    continuous_update=False,\n",
    "    orientation='horizontal',\n",
    "    readout=True,\n",
    "    readout_format=',d',\n",
    "    layout=item_layout\n",
    ")\n",
    "\n",
    "\n",
    "w_save = widgets.Checkbox(\n",
    "    value=False,\n",
    "    #description='Save',\n",
    "    disabled=False,\n",
    "    #indent=True,\n",
    "    layout=item_layout\n",
    ")\n",
    "\n",
    "w_save = widgets.ToggleButton(\n",
    "    value=False,\n",
    "    description='Save',\n",
    "    disabled=False,\n",
    "    button_style='', # 'success', 'info', 'warning', 'danger' or ''\n",
    "    tooltip='Description',\n",
    "    icon='save', # (FontAwesome names without the `fa-` prefix)\n",
    "    layout=item_layout,\n",
    "    #style=dict(text_color='#FFFFFF')\n",
    ")\n",
    "\n",
    "def change_color(b):\n",
    "    w_save.style = dict(text_color='#FFFFFF')\n",
    "\n",
    "w_save.focus(change_color)\n",
    "\n",
    "\n",
    "VBox([w_save])"
   ]
  },
  {
   "cell_type": "code",
   "execution_count": 362,
   "id": "d39c77f3-61f0-481a-8a5d-6fc961992c4a",
   "metadata": {},
   "outputs": [
    {
     "data": {
      "application/vnd.jupyter.widget-view+json": {
       "model_id": "9c2089396dba44baa53949e5191d09b1",
       "version_major": 2,
       "version_minor": 0
      },
      "text/plain": [
       "ToggleButton(value=False, description='click me')"
      ]
     },
     "execution_count": 362,
     "metadata": {},
     "output_type": "execute_result"
    }
   ],
   "source": [
    "from ipywidgets import ToggleButton, interact\n",
    "\n",
    "toggle = ToggleButton(description='click me')\n",
    "\n",
    "def on_click(change):\n",
    "    print(change['new'])\n",
    "\n",
    "toggle.observe(on_click, 'value')\n",
    "toggle"
   ]
  },
  {
   "cell_type": "code",
   "execution_count": 386,
   "id": "89747ddf-3707-43cf-9cab-0ce436c3b217",
   "metadata": {},
   "outputs": [
    {
     "data": {
      "application/vnd.jupyter.widget-view+json": {
       "model_id": "b11ef19d940b4a66a5e56f5c44a2e293",
       "version_major": 2,
       "version_minor": 0
      },
      "text/plain": [
       "ToggleButton(value=False, description=\"Don't Save\")"
      ]
     },
     "execution_count": 386,
     "metadata": {},
     "output_type": "execute_result"
    }
   ],
   "source": [
    "from ipywidgets import ToggleButton\n",
    "\n",
    "toggle = ToggleButton(description='Don\\'t Save')\n",
    "\n",
    "def on_click(change):\n",
    "    if change.new:\n",
    "        toggle.description = 'Save'\n",
    "    else:\n",
    "        toggle.description = 'Don\\'t Save'\n",
    "    print(change.new)\n",
    "    print(change.old)\n",
    "\n",
    "\n",
    "toggle.observe(on_click, names='value')\n",
    "\n",
    "toggle"
   ]
  },
  {
   "cell_type": "code",
   "execution_count": 388,
   "id": "927f72f4-8180-43b8-8ec8-b8720d735bfd",
   "metadata": {},
   "outputs": [
    {
     "data": {
      "text/plain": [
       "True"
      ]
     },
     "execution_count": 388,
     "metadata": {},
     "output_type": "execute_result"
    }
   ],
   "source": [
    "toggle.value"
   ]
  },
  {
   "cell_type": "code",
   "execution_count": 382,
   "id": "97170c60-50a3-44f9-948a-7751528c722b",
   "metadata": {},
   "outputs": [
    {
     "data": {
      "application/vnd.jupyter.widget-view+json": {
       "model_id": "b4757cf2a2e54584b593ea25c60cb3ef",
       "version_major": 2,
       "version_minor": 0
      },
      "text/plain": [
       "interactive(children=(ToggleButton(value=False, description='a'), Output()), _dom_classes=('widget-interact',)…"
      ]
     },
     "metadata": {},
     "output_type": "display_data"
    }
   ],
   "source": [
    "@interact\n",
    "def clicked(a=ToggleButton()):\n",
    "    print(a)"
   ]
  },
  {
   "cell_type": "code",
   "execution_count": 363,
   "id": "9c49953b-97e6-41a7-b309-3a95f28e0544",
   "metadata": {},
   "outputs": [
    {
     "name": "stdout",
     "output_type": "stream",
     "text": [
      "Setup a handler to be called when a trait changes.\n",
      "\n",
      "        This is used to setup dynamic notifications of trait changes.\n",
      "\n",
      "        Parameters\n",
      "        ----------\n",
      "        handler : callable\n",
      "            A callable that is called when a trait changes. Its\n",
      "            signature should be ``handler(change)``, where ``change`` is a\n",
      "            dictionary. The change dictionary at least holds a 'type' key.\n",
      "            * ``type``: the type of notification.\n",
      "            Other keys may be passed depending on the value of 'type'. In the\n",
      "            case where type is 'change', we also have the following keys:\n",
      "            * ``owner`` : the HasTraits instance\n",
      "            * ``old`` : the old value of the modified trait attribute\n",
      "            * ``new`` : the new value of the modified trait attribute\n",
      "            * ``name`` : the name of the modified trait attribute.\n",
      "        names : list, str, All\n",
      "            If names is All, the handler will apply to all traits.  If a list\n",
      "            of str, handler will apply to all names in the list.  If a\n",
      "            str, the handler will apply just to that name.\n",
      "        type : str, All (default: 'change')\n",
      "            The type of notification to filter by. If equal to All, then all\n",
      "            notifications are passed to the observe handler.\n",
      "        \n"
     ]
    }
   ],
   "source": [
    "print(widgets.Widget.observe.__doc__)"
   ]
  },
  {
   "cell_type": "code",
   "execution_count": 364,
   "id": "9ac2ceb0-42df-4be3-afb5-e934f78d2886",
   "metadata": {},
   "outputs": [
    {
     "data": {
      "application/vnd.jupyter.widget-view+json": {
       "model_id": "2c06565137244efc85a51371192b7836",
       "version_major": 2,
       "version_minor": 0
      },
      "text/plain": [
       "Label(value='The slider value is in its initial position.')"
      ]
     },
     "metadata": {},
     "output_type": "display_data"
    },
    {
     "data": {
      "application/vnd.jupyter.widget-view+json": {
       "model_id": "a2553e8330bb44f0bf33cbb69eff255b",
       "version_major": 2,
       "version_minor": 0
      },
      "text/plain": [
       "IntSlider(value=1, description='Slider', max=5, min=-5)"
      ]
     },
     "metadata": {},
     "output_type": "display_data"
    }
   ],
   "source": [
    "caption = widgets.Label(value='The slider value is in its initial position.')\n",
    "slider = widgets.IntSlider(min=-5, max=5, value=1, description='Slider')\n",
    "\n",
    "def handle_slider_change(change):\n",
    "    caption.value = 'The slider value is ' + (\n",
    "        'negative' if change.new < 0 else 'nonnegative'\n",
    "    )\n",
    "\n",
    "slider.observe(handle_slider_change, names='value')\n",
    "\n",
    "display(caption, slider)"
   ]
  },
  {
   "cell_type": "code",
   "execution_count": null,
   "id": "2a204052-e769-43b3-86fc-3495f24e960e",
   "metadata": {},
   "outputs": [],
   "source": []
  },
  {
   "cell_type": "code",
   "execution_count": null,
   "id": "c24eaff1-c528-4a79-9b4f-13f25f3b6e3d",
   "metadata": {},
   "outputs": [],
   "source": []
  },
  {
   "cell_type": "code",
   "execution_count": 352,
   "id": "83401701-66aa-411b-bd3e-5a1f23107086",
   "metadata": {},
   "outputs": [
    {
     "data": {
      "application/vnd.jupyter.widget-view+json": {
       "model_id": "f3069aa976db4de68673e311ed4ecf1b",
       "version_major": 2,
       "version_minor": 0
      },
      "text/plain": [
       "DatePicker(value=None, layout=Layout(width='200px'), step=1)"
      ]
     },
     "metadata": {},
     "output_type": "display_data"
    },
    {
     "data": {
      "application/vnd.jupyter.widget-view+json": {
       "model_id": "d67e9122f6194f64a2c310e6bdc244ce",
       "version_major": 2,
       "version_minor": 0
      },
      "text/plain": [
       "IntSlider(value=0, continuous_update=False, layout=Layout(width='200px'), max=20000000, readout_format=',d', s…"
      ]
     },
     "metadata": {},
     "output_type": "display_data"
    },
    {
     "data": {
      "application/vnd.jupyter.widget-view+json": {
       "model_id": "6f0d9afee5234a7684dff47dee65cd29",
       "version_major": 2,
       "version_minor": 0
      },
      "text/plain": [
       "ToggleButton(value=False, description='Save', icon='save', layout=Layout(width='200px'), style=ToggleButtonSty…"
      ]
     },
     "metadata": {},
     "output_type": "display_data"
    }
   ],
   "source": [
    "display(w_date)\n",
    "display(w_cap)\n",
    "display(w_save)"
   ]
  },
  {
   "cell_type": "code",
   "execution_count": 322,
   "id": "fe3cc5a4-104d-403a-8a6d-12364164bb24",
   "metadata": {},
   "outputs": [
    {
     "data": {
      "application/vnd.jupyter.widget-view+json": {
       "model_id": "60b03d574d7642cebdad011938e150d1",
       "version_major": 2,
       "version_minor": 0
      },
      "text/plain": [
       "VBox(children=(DatePicker(value=None, layout=Layout(width='200px'), step=1), IntSlider(value=10000000, continu…"
      ]
     },
     "execution_count": 322,
     "metadata": {},
     "output_type": "execute_result"
    }
   ],
   "source": [
    "VBox([w_date, w_cap, w_save])"
   ]
  },
  {
   "cell_type": "code",
   "execution_count": 283,
   "id": "9b55e1a0-50ca-44dd-9fd8-81b457565feb",
   "metadata": {},
   "outputs": [
    {
     "data": {
      "application/vnd.jupyter.widget-view+json": {
       "model_id": "e8e10f83dae74d62b15ffdb7f36a6fe3",
       "version_major": 2,
       "version_minor": 0
      },
      "text/plain": [
       "VBox(children=(DatePicker(value=None, description='Date', step=1), IntSlider(value=0, continuous_update=False,…"
      ]
     },
     "execution_count": 283,
     "metadata": {},
     "output_type": "execute_result"
    }
   ],
   "source": [
    "from ipywidgets import VBox, HBox\n",
    "VBox([w_date, w_cap, \n",
    "      HBox([Label(value='Save',  layout=Layout(width='50px')),w_save])\n",
    "     ])"
   ]
  },
  {
   "cell_type": "code",
   "execution_count": 289,
   "id": "40eb12ee-1197-4719-93b5-4467b5257181",
   "metadata": {},
   "outputs": [
    {
     "data": {
      "application/vnd.jupyter.widget-view+json": {
       "model_id": "8b5d802ef4d543439da93457fd6f9feb",
       "version_major": 2,
       "version_minor": 0
      },
      "text/plain": [
       "Box(children=(Box(children=(Label(value='Date'), DatePicker(value=None, step=1)), layout=Layout(display='flex'…"
      ]
     },
     "execution_count": 289,
     "metadata": {},
     "output_type": "execute_result"
    }
   ],
   "source": [
    "from ipywidgets import Layout, Box, Label, IntSlider, DatePicker, Checkbox\n",
    "\n",
    "form_item_layout = Layout(\n",
    "    display='flex',\n",
    "    flex_flow='row',\n",
    "    #justify_content='space-between',\n",
    "    justify_content='space-around',\n",
    "    #justify_content='flex-start',\n",
    "    #style = {'description_width': 'initial'}\n",
    ")\n",
    "\n",
    "form_items = [\n",
    "    Box([Label(value='Date'), DatePicker()], layout=form_item_layout),\n",
    "    Box([Label(value='Capital'), \n",
    "         #IntSlider(min=0, max=20000000, readout=True,readout_format=',d')],\n",
    "         w_cap],\n",
    "        layout=form_item_layout),\n",
    "    Box([Label(value='Save'), \n",
    "         w_tb], layout=form_item_layout),\n",
    "]\n",
    "\n",
    "form = Box(form_items, layout=Layout(\n",
    "    display='flex',\n",
    "    flex_flow='column',\n",
    "    #border='solid 1px',\n",
    "    #align_items='stretch',\n",
    "    width='400px',\n",
    "    #style = {'description_width': 'initial'}\n",
    "))\n",
    "form"
   ]
  },
  {
   "cell_type": "code",
   "execution_count": 250,
   "id": "84b7f48d-6f3b-4e70-91c6-4c423298287f",
   "metadata": {},
   "outputs": [
    {
     "data": {
      "application/vnd.jupyter.widget-view+json": {
       "model_id": "1cf328d4949a4d5597fb2360ad1ca897",
       "version_major": 2,
       "version_minor": 0
      },
      "text/plain": [
       "Box(children=(Button(button_style='danger', description='correct', layout=Layout(width='auto'), style=ButtonSt…"
      ]
     },
     "execution_count": 250,
     "metadata": {},
     "output_type": "execute_result"
    }
   ],
   "source": [
    "from ipywidgets import Layout, Button, Box\n",
    "\n",
    "items_layout = Layout( width='auto')     # override the default width of the button to 'auto' to let the button grow\n",
    "\n",
    "box_layout = Layout(display='flex',\n",
    "                    flex_flow='column', \n",
    "                    align_items='stretch', \n",
    "                    border='solid',\n",
    "                    width='50%')\n",
    "\n",
    "words = ['correct', 'horse', 'battery', 'staple']\n",
    "items = [Button(description=word, layout=items_layout, button_style='danger') for word in words]\n",
    "box = Box(children=items, layout=box_layout)\n",
    "box"
   ]
  },
  {
   "cell_type": "code",
   "execution_count": 267,
   "id": "7e5a0f7f-3fca-4c91-9317-7f135ebe75fc",
   "metadata": {},
   "outputs": [
    {
     "data": {
      "application/vnd.jupyter.widget-view+json": {
       "model_id": "ca3026de0f094c7b90365242e023f054",
       "version_major": 2,
       "version_minor": 0
      },
      "text/plain": [
       "Box(children=(DatePicker(value=None, description='Date', step=1), IntSlider(value=0, continuous_update=False, …"
      ]
     },
     "execution_count": 267,
     "metadata": {},
     "output_type": "execute_result"
    }
   ],
   "source": [
    "from ipywidgets import Layout, Button, Box\n",
    "\n",
    "items_layout = Layout(width='auto')     # override the default width of the button to 'auto' to let the button grow\n",
    "\n",
    "box_layout = Layout(display='flex',\n",
    "                    flex_flow='column', \n",
    "                    align_items='initial', \n",
    "                    #justify_content='flex-start',\n",
    "                    border='solid',\n",
    "                    width='400px'\n",
    "                   )\n",
    "\n",
    "box = Box(children=[w_date, w_cap, w_save], layout=box_layout)\n",
    "box"
   ]
  },
  {
   "cell_type": "code",
   "execution_count": 344,
   "id": "ce639547-9677-47c1-bccf-033e0e140555",
   "metadata": {},
   "outputs": [
    {
     "data": {
      "application/vnd.jupyter.widget-view+json": {
       "model_id": "2e989900e53d44f0b0adb2a14e86c833",
       "version_major": 2,
       "version_minor": 0
      },
      "text/plain": [
       "GridBox(children=(DatePicker(value=None, layout=Layout(width='200px'), step=1), IntSlider(value=0, continuous_…"
      ]
     },
     "execution_count": 344,
     "metadata": {},
     "output_type": "execute_result"
    }
   ],
   "source": [
    "from ipywidgets import Layout, Button, Box, GridBox\n",
    "\n",
    "GridBox(children=[w_date, w_cap, w_save],\n",
    "        layout=Layout(\n",
    "            width='50%',\n",
    "            grid_template_rows='auto auto auto',\n",
    "            \n",
    "       ))"
   ]
  },
  {
   "cell_type": "code",
   "execution_count": null,
   "id": "fd499dd8-8573-4e62-8575-08881b5ff348",
   "metadata": {},
   "outputs": [],
   "source": []
  },
  {
   "cell_type": "code",
   "execution_count": 120,
   "id": "8d5f8929-44da-4edb-9a3d-dbe0b2655327",
   "metadata": {},
   "outputs": [
    {
     "data": {
      "text/plain": [
       "False"
      ]
     },
     "execution_count": 120,
     "metadata": {},
     "output_type": "execute_result"
    }
   ],
   "source": [
    "form.children[0].children[1].value"
   ]
  },
  {
   "cell_type": "code",
   "execution_count": 350,
   "id": "6335869c-9d36-44b4-825a-73dee3d747f2",
   "metadata": {},
   "outputs": [
    {
     "data": {
      "application/vnd.jupyter.widget-view+json": {
       "model_id": "03d921fe971e424383d3739bce77ce64",
       "version_major": 2,
       "version_minor": 0
      },
      "text/plain": [
       "ToggleButton(value=False, description='Save', icon='save', style=ToggleButtonStyle(text_color='#FFFFFF'), tool…"
      ]
     },
     "execution_count": 350,
     "metadata": {},
     "output_type": "execute_result"
    }
   ],
   "source": [
    "w_tb = widgets.ToggleButton(\n",
    "    value=False,\n",
    "    description='Save',\n",
    "    disabled=False,\n",
    "    button_style='', # 'success', 'info', 'warning', 'danger' or ''\n",
    "    tooltip='Description',\n",
    "    style=dict(text_color='#FFFFFF'),\n",
    "    icon='save' # (FontAwesome names without the `fa-` prefix)\n",
    ")\n",
    "#w_tb.add_class('myclass')\n",
    "w_tb"
   ]
  },
  {
   "cell_type": "code",
   "execution_count": 210,
   "id": "b2767d85-74b7-4f32-9ce6-f36d26294a80",
   "metadata": {},
   "outputs": [
    {
     "data": {
      "text/plain": [
       "True"
      ]
     },
     "execution_count": 210,
     "metadata": {},
     "output_type": "execute_result"
    }
   ],
   "source": [
    "w_tb.value"
   ]
  },
  {
   "cell_type": "code",
   "execution_count": 334,
   "id": "85ec0a41-923f-4227-b1c9-de2ef9609c4e",
   "metadata": {},
   "outputs": [
    {
     "data": {
      "application/vnd.jupyter.widget-view+json": {
       "model_id": "c9e5650750d8499fa5ede9a2f39e9f35",
       "version_major": 2,
       "version_minor": 0
      },
      "text/plain": [
       "Button(button_style='info', description='click_me', style=ButtonStyle())"
      ]
     },
     "execution_count": 334,
     "metadata": {},
     "output_type": "execute_result"
    }
   ],
   "source": [
    "import ipywidgets as widgets\n",
    "\n",
    "button = widgets.Button(\n",
    "    description='click_me',\n",
    "    button_style='info',\n",
    ")\n",
    "\n",
    "def change_color(b):\n",
    "    button.button_style = 'danger'\n",
    "\n",
    "button.on_click(change_color)\n",
    "\n",
    "button"
   ]
  },
  {
   "cell_type": "markdown",
   "id": "807a1dd4-f64a-46d6-b77b-31ca3035b852",
   "metadata": {},
   "source": [
    "# Testing 2"
   ]
  },
  {
   "cell_type": "code",
   "execution_count": 31,
   "id": "0713e71d-c637-49c1-9b6f-ba810394768e",
   "metadata": {},
   "outputs": [],
   "source": [
    "from ipywidgets import Checkbox, DatePicker, IntSlider, ToggleButton, Layout, VBox\n",
    "\n",
    "item_layout = Layout(width='200px')\n",
    "\n",
    "w_download = Checkbox(\n",
    "    value=False,\n",
    "    description='Download',\n",
    "    disabled=False,\n",
    "    indent=False\n",
    ")\n",
    "\n",
    "w_close = Checkbox(\n",
    "    value=False,\n",
    "    description='Closed',\n",
    "    disabled=False,\n",
    "    indent=False\n",
    ")\n",
    "\n",
    "w_date = DatePicker(\n",
    "    #description='Date',\n",
    "    value=None,\n",
    "    disabled=False,\n",
    "    layout=item_layout\n",
    ")\n",
    "\n",
    "w_cap = IntSlider(\n",
    "    #description='Capital',\n",
    "    value=0,\n",
    "    min=0,\n",
    "    max=20000000,\n",
    "    step=1000000,\n",
    "    disabled=False,\n",
    "    continuous_update=False,\n",
    "    orientation='horizontal',\n",
    "    readout=True,\n",
    "    readout_format=',d',\n",
    "    layout=item_layout\n",
    ")\n",
    "\n",
    "w_save = ToggleButton(\n",
    "    description='Don\\'t Save',\n",
    "    value=False,\n",
    "    disabled=False,\n",
    "    button_style='', # 'success', 'info', 'warning', 'danger' or ''\n",
    "    tooltip='Description',\n",
    "    icon='save', # (FontAwesome names without the `fa-` prefix)\n",
    "    layout=item_layout,\n",
    ")\n",
    "\n",
    "def on_toggle(change):\n",
    "    if change.new:\n",
    "        w_save.description = 'Save'\n",
    "    else:\n",
    "        w_save.description = 'Don\\'t Save'\n",
    "\n",
    "w_save.observe(on_toggle, names='value')\n",
    "\n",
    "\n",
    "w_universe = VBox([w_download, w_close])\n",
    "w_transaction = VBox([w_date, w_cap, w_save])\n",
    "\n",
    "\n",
    "#w_transaction.values = [w_transaction.children[i].value for i in range(len(w_transaction.children))]\n",
    "\n",
    "w_universe.values = lambda x: w_universe.children[x].value\n",
    "w_transaction.values = lambda x: w_transaction.children[x].value"
   ]
  },
  {
   "cell_type": "code",
   "execution_count": 21,
   "id": "9f80c114-23d3-4f91-bfde-a4e7c6c16d39",
   "metadata": {},
   "outputs": [],
   "source": [
    "def on_change(w):\n",
    "    w.values = [w.children[i].value for i in range(len(w.children))]\n",
    "    return w\n",
    "\n",
    "\n",
    "w_transaction.observe(on_change, )"
   ]
  },
  {
   "cell_type": "code",
   "execution_count": 32,
   "id": "8c01679c-e1d2-47d9-9e1f-fb0182343e45",
   "metadata": {},
   "outputs": [
    {
     "data": {
      "application/vnd.jupyter.widget-view+json": {
       "model_id": "cb0c4e08c3604ba1b30362ef002c18f9",
       "version_major": 2,
       "version_minor": 0
      },
      "text/plain": [
       "VBox(children=(Checkbox(value=False, description='Download', indent=False), Checkbox(value=False, description=…"
      ]
     },
     "execution_count": 32,
     "metadata": {},
     "output_type": "execute_result"
    }
   ],
   "source": [
    "w_universe"
   ]
  },
  {
   "cell_type": "code",
   "execution_count": 33,
   "id": "7c46d158-9a54-4ee1-adad-b6d4554a6f74",
   "metadata": {},
   "outputs": [
    {
     "data": {
      "application/vnd.jupyter.widget-view+json": {
       "model_id": "7d7236333cae425ea863d82a724ab784",
       "version_major": 2,
       "version_minor": 0
      },
      "text/plain": [
       "VBox(children=(DatePicker(value=None, layout=Layout(width='200px'), step=1), IntSlider(value=0, continuous_upd…"
      ]
     },
     "execution_count": 33,
     "metadata": {},
     "output_type": "execute_result"
    }
   ],
   "source": [
    "w_transaction"
   ]
  },
  {
   "cell_type": "code",
   "execution_count": 37,
   "id": "7e11e59e-c706-420a-9294-3a62f76c5149",
   "metadata": {},
   "outputs": [
    {
     "data": {
      "text/plain": [
       "True"
      ]
     },
     "execution_count": 37,
     "metadata": {},
     "output_type": "execute_result"
    }
   ],
   "source": [
    "w_transaction.values(2)"
   ]
  },
  {
   "cell_type": "code",
   "execution_count": null,
   "id": "8184858c-7ef3-4fb6-b050-b4cfad07954f",
   "metadata": {},
   "outputs": [],
   "source": []
  },
  {
   "cell_type": "code",
   "execution_count": null,
   "id": "13e95d31-0b70-43b9-a4ed-a4111ef3bf7d",
   "metadata": {},
   "outputs": [],
   "source": []
  },
  {
   "cell_type": "code",
   "execution_count": null,
   "id": "308a305a-e3ae-4188-bcc9-d73fa86deef8",
   "metadata": {},
   "outputs": [],
   "source": []
  },
  {
   "cell_type": "code",
   "execution_count": 14,
   "id": "81ad107e-8f6f-4b5e-9aaf-659b31c1d220",
   "metadata": {},
   "outputs": [
    {
     "data": {
      "text/plain": [
       "'c3e171be55e94519ab606e575ff8fee6'"
      ]
     },
     "execution_count": 14,
     "metadata": {},
     "output_type": "execute_result"
    }
   ],
   "source": [
    "#w_transaction.children[2].value\n",
    "w_transaction.children[2].model_id"
   ]
  },
  {
   "cell_type": "code",
   "execution_count": 24,
   "id": "31b22845-2c54-45e0-944c-4d3b326a3761",
   "metadata": {},
   "outputs": [],
   "source": [
    "#w_tr = w_transaction.children\n",
    "w_tr[2].value\n"
   ]
  },
  {
   "cell_type": "code",
   "execution_count": 25,
   "id": "23e46357-1d83-46c2-87a2-0d085a7a0cb8",
   "metadata": {},
   "outputs": [],
   "source": [
    "w_tr = lambda x: w_transaction.children[x].value"
   ]
  },
  {
   "cell_type": "code",
   "execution_count": 29,
   "id": "7e5e80aa-a12f-4534-af08-b55c8d5716d3",
   "metadata": {},
   "outputs": [
    {
     "data": {
      "text/plain": [
       "7000000"
      ]
     },
     "execution_count": 29,
     "metadata": {},
     "output_type": "execute_result"
    }
   ],
   "source": [
    "w_tr(1)"
   ]
  },
  {
   "cell_type": "code",
   "execution_count": 15,
   "id": "d681f419-a8a9-4a2b-bb03-85a703efa1da",
   "metadata": {},
   "outputs": [
    {
     "data": {
      "text/plain": [
       "{1: 0, 2: 2}"
      ]
     },
     "execution_count": 15,
     "metadata": {},
     "output_type": "execute_result"
    }
   ],
   "source": [
    "a = {1:1, 2:2}\n",
    "b = a\n",
    "a[1] = 0\n",
    "b"
   ]
  },
  {
   "cell_type": "code",
   "execution_count": 30,
   "id": "eff98bcf-eb6d-4915-938d-a1ecebab7e39",
   "metadata": {},
   "outputs": [
    {
     "ename": "AttributeError",
     "evalue": "'VBox' object has no attribute 'values'",
     "output_type": "error",
     "traceback": [
      "\u001b[0;31m---------------------------------------------------------------------------\u001b[0m",
      "\u001b[0;31mAttributeError\u001b[0m                            Traceback (most recent call last)",
      "Cell \u001b[0;32mIn[30], line 1\u001b[0m\n\u001b[0;32m----> 1\u001b[0m \u001b[43mw_universe\u001b[49m\u001b[38;5;241;43m.\u001b[39;49m\u001b[43mvalues\u001b[49m\n",
      "\u001b[0;31mAttributeError\u001b[0m: 'VBox' object has no attribute 'values'"
     ]
    }
   ],
   "source": [
    "w_universe.values"
   ]
  },
  {
   "cell_type": "code",
   "execution_count": null,
   "id": "a9b8c860-4abe-42ec-95b7-88ab9415b74d",
   "metadata": {},
   "outputs": [],
   "source": []
  },
  {
   "cell_type": "code",
   "execution_count": 6,
   "id": "75074fc7-19c7-41eb-ba1a-0556961ca6ea",
   "metadata": {},
   "outputs": [
    {
     "data": {
      "text/plain": [
       "['__annotations__',\n",
       " '__class__',\n",
       " '__copy__',\n",
       " '__deepcopy__',\n",
       " '__del__',\n",
       " '__delattr__',\n",
       " '__dict__',\n",
       " '__dir__',\n",
       " '__doc__',\n",
       " '__eq__',\n",
       " '__format__',\n",
       " '__ge__',\n",
       " '__getattribute__',\n",
       " '__getstate__',\n",
       " '__gt__',\n",
       " '__hash__',\n",
       " '__init__',\n",
       " '__init_subclass__',\n",
       " '__le__',\n",
       " '__lt__',\n",
       " '__module__',\n",
       " '__ne__',\n",
       " '__new__',\n",
       " '__reduce__',\n",
       " '__reduce_ex__',\n",
       " '__repr__',\n",
       " '__setattr__',\n",
       " '__setstate__',\n",
       " '__sizeof__',\n",
       " '__str__',\n",
       " '__subclasshook__',\n",
       " '__weakref__',\n",
       " '_active_widgets',\n",
       " '_add_notifiers',\n",
       " '_all_trait_default_generators',\n",
       " '_call_widget_constructed',\n",
       " '_comm_changed',\n",
       " '_compare',\n",
       " '_control_comm',\n",
       " '_cross_validation_lock',\n",
       " '_default_keys',\n",
       " '_descriptors',\n",
       " '_dom_classes',\n",
       " '_gen_repr_from_keys',\n",
       " '_get_embed_state',\n",
       " '_get_trait_default_generator',\n",
       " '_handle_control_comm_msg',\n",
       " '_handle_custom_msg',\n",
       " '_handle_msg',\n",
       " '_holding_sync',\n",
       " '_instance_inits',\n",
       " '_is_numpy',\n",
       " '_lock_property',\n",
       " '_log_default',\n",
       " '_model_id',\n",
       " '_model_module',\n",
       " '_model_module_version',\n",
       " '_model_name',\n",
       " '_msg_callbacks',\n",
       " '_notify_observers',\n",
       " '_notify_trait',\n",
       " '_property_lock',\n",
       " '_register_validator',\n",
       " '_remove_notifiers',\n",
       " '_repr_keys',\n",
       " '_repr_mimebundle_',\n",
       " '_send',\n",
       " '_should_send_property',\n",
       " '_states_to_send',\n",
       " '_static_immutable_initial_values',\n",
       " '_trait_default_generators',\n",
       " '_trait_from_json',\n",
       " '_trait_notifiers',\n",
       " '_trait_to_json',\n",
       " '_trait_validators',\n",
       " '_trait_values',\n",
       " '_traits',\n",
       " '_view_count',\n",
       " '_view_module',\n",
       " '_view_module_version',\n",
       " '_view_name',\n",
       " '_widget_construction_callback',\n",
       " '_widget_types',\n",
       " 'add_class',\n",
       " 'add_traits',\n",
       " 'blur',\n",
       " 'button_style',\n",
       " 'class_own_trait_events',\n",
       " 'class_own_traits',\n",
       " 'class_trait_names',\n",
       " 'class_traits',\n",
       " 'close',\n",
       " 'close_all',\n",
       " 'comm',\n",
       " 'cross_validation_lock',\n",
       " 'description',\n",
       " 'description_allow_html',\n",
       " 'description_tooltip',\n",
       " 'disabled',\n",
       " 'focus',\n",
       " 'get_interact_value',\n",
       " 'get_manager_state',\n",
       " 'get_state',\n",
       " 'get_view_spec',\n",
       " 'handle_comm_opened',\n",
       " 'handle_control_comm_opened',\n",
       " 'has_trait',\n",
       " 'hold_sync',\n",
       " 'hold_trait_notifications',\n",
       " 'icon',\n",
       " 'keys',\n",
       " 'layout',\n",
       " 'log',\n",
       " 'model_id',\n",
       " 'notify_change',\n",
       " 'observe',\n",
       " 'on_msg',\n",
       " 'on_trait_change',\n",
       " 'on_widget_constructed',\n",
       " 'open',\n",
       " 'remove_class',\n",
       " 'send',\n",
       " 'send_state',\n",
       " 'set_state',\n",
       " 'set_trait',\n",
       " 'setup_instance',\n",
       " 'style',\n",
       " 'tabbable',\n",
       " 'tooltip',\n",
       " 'trait_defaults',\n",
       " 'trait_events',\n",
       " 'trait_has_value',\n",
       " 'trait_metadata',\n",
       " 'trait_names',\n",
       " 'trait_values',\n",
       " 'traits',\n",
       " 'unobserve',\n",
       " 'unobserve_all',\n",
       " 'value',\n",
       " 'widget_types',\n",
       " 'widgets']"
      ]
     },
     "execution_count": 6,
     "metadata": {},
     "output_type": "execute_result"
    }
   ],
   "source": [
    "dir(w_transaction.children[2])"
   ]
  },
  {
   "cell_type": "code",
   "execution_count": null,
   "id": "2cbce759-0a49-4855-a256-51c116c142d4",
   "metadata": {},
   "outputs": [],
   "source": []
  },
  {
   "cell_type": "code",
   "execution_count": null,
   "id": "dd46df1d-14be-443d-b1de-6440fd46afb4",
   "metadata": {},
   "outputs": [],
   "source": []
  },
  {
   "cell_type": "code",
   "execution_count": null,
   "id": "ac33ade0-b688-41f5-8ecc-4d9718033acb",
   "metadata": {},
   "outputs": [],
   "source": []
  },
  {
   "cell_type": "code",
   "execution_count": 3,
   "id": "2f0fcafa-5766-432b-8189-1d3f1ad4e503",
   "metadata": {},
   "outputs": [],
   "source": [
    "from pf_widgets import w_universe, w_transaction"
   ]
  },
  {
   "cell_type": "code",
   "execution_count": 4,
   "id": "51b91d28-762c-463e-97ed-f171d4bf5593",
   "metadata": {},
   "outputs": [
    {
     "data": {
      "application/vnd.jupyter.widget-view+json": {
       "model_id": "b64eaef10167455599f3ae9192c214e1",
       "version_major": 2,
       "version_minor": 0
      },
      "text/plain": [
       "VBox(children=(Checkbox(value=False, description='Download', indent=False), Checkbox(value=False, description=…"
      ]
     },
     "execution_count": 4,
     "metadata": {},
     "output_type": "execute_result"
    }
   ],
   "source": [
    "w_universe"
   ]
  },
  {
   "cell_type": "code",
   "execution_count": 5,
   "id": "c4ac7d77-b155-4dbb-aa1e-b92b0097142b",
   "metadata": {},
   "outputs": [
    {
     "data": {
      "application/vnd.jupyter.widget-view+json": {
       "model_id": "f2f868c7a2ec4f5487ec19db150fbc6d",
       "version_major": 2,
       "version_minor": 0
      },
      "text/plain": [
       "VBox(children=(DatePicker(value=None, layout=Layout(width='200px'), step=1), IntSlider(value=0, continuous_upd…"
      ]
     },
     "execution_count": 5,
     "metadata": {},
     "output_type": "execute_result"
    }
   ],
   "source": [
    "w_transaction"
   ]
  },
  {
   "cell_type": "code",
   "execution_count": 6,
   "id": "571fb624-4d53-4c34-ae41-225ed8d1a676",
   "metadata": {},
   "outputs": [
    {
     "data": {
      "text/plain": [
       "True"
      ]
     },
     "execution_count": 6,
     "metadata": {},
     "output_type": "execute_result"
    }
   ],
   "source": [
    "w_transaction.children[2].value"
   ]
  },
  {
   "cell_type": "code",
   "execution_count": 19,
   "id": "d7fb71a2-7b81-4e95-9521-6cefdc5be07d",
   "metadata": {},
   "outputs": [],
   "source": [
    "w_transaction.values = [w_transaction.children[i].value for i in range(len(w_transaction.children))]"
   ]
  },
  {
   "cell_type": "code",
   "execution_count": 20,
   "id": "145f5670-6140-47a4-9808-b75da548bb4d",
   "metadata": {},
   "outputs": [
    {
     "data": {
      "text/plain": [
       "11000000"
      ]
     },
     "execution_count": 20,
     "metadata": {},
     "output_type": "execute_result"
    }
   ],
   "source": [
    "w_transaction.values[1]"
   ]
  },
  {
   "cell_type": "code",
   "execution_count": 13,
   "id": "65e5155c-94d8-4d29-b854-4f78d8919861",
   "metadata": {},
   "outputs": [
    {
     "data": {
      "text/plain": [
       "3"
      ]
     },
     "execution_count": 13,
     "metadata": {},
     "output_type": "execute_result"
    }
   ],
   "source": [
    "len(w_transaction.children)"
   ]
  },
  {
   "cell_type": "code",
   "execution_count": 22,
   "id": "d508c8c0-5d27-43d8-987f-d02df065240c",
   "metadata": {},
   "outputs": [],
   "source": [
    "w_transaction = w_values(w_transaction)"
   ]
  },
  {
   "cell_type": "code",
   "execution_count": 24,
   "id": "7f4cbb7f-eb72-4fbb-b84d-7cd5ab634353",
   "metadata": {},
   "outputs": [
    {
     "data": {
      "text/plain": [
       "11000000"
      ]
     },
     "execution_count": 24,
     "metadata": {},
     "output_type": "execute_result"
    }
   ],
   "source": [
    "w_transaction.values[1]"
   ]
  },
  {
   "cell_type": "code",
   "execution_count": 39,
   "id": "ad9d1ea9-4e81-4769-8b79-f3b218af666a",
   "metadata": {},
   "outputs": [],
   "source": [
    "import FinanceDataReader as fdr\n",
    "\n",
    "ticker='KRX/INDEX/STOCK/1028'\n",
    "df = fdr.SnapDataReader(ticker)"
   ]
  },
  {
   "cell_type": "code",
   "execution_count": 42,
   "id": "dca8eb6f-b156-4cee-9ae8-f13dd4e8e844",
   "metadata": {},
   "outputs": [
    {
     "data": {
      "text/html": [
       "<div>\n",
       "<style scoped>\n",
       "    .dataframe tbody tr th:only-of-type {\n",
       "        vertical-align: middle;\n",
       "    }\n",
       "\n",
       "    .dataframe tbody tr th {\n",
       "        vertical-align: top;\n",
       "    }\n",
       "\n",
       "    .dataframe thead th {\n",
       "        text-align: right;\n",
       "    }\n",
       "</style>\n",
       "<table border=\"1\" class=\"dataframe\">\n",
       "  <thead>\n",
       "    <tr style=\"text-align: right;\">\n",
       "      <th></th>\n",
       "      <th>Code</th>\n",
       "      <th>Name</th>\n",
       "      <th>Close</th>\n",
       "      <th>RateCode</th>\n",
       "      <th>STR_CMP_PRC</th>\n",
       "      <th>Rate</th>\n",
       "      <th>Marcap</th>\n",
       "      <th>IDX_ID</th>\n",
       "    </tr>\n",
       "  </thead>\n",
       "  <tbody>\n",
       "    <tr>\n",
       "      <th>27</th>\n",
       "      <td>012450</td>\n",
       "      <td>한화에어로스페이스</td>\n",
       "      <td>300500</td>\n",
       "      <td>1</td>\n",
       "      <td>500</td>\n",
       "      <td>0.17</td>\n",
       "      <td>13697138880500</td>\n",
       "      <td></td>\n",
       "    </tr>\n",
       "  </tbody>\n",
       "</table>\n",
       "</div>"
      ],
      "text/plain": [
       "      Code       Name   Close RateCode  STR_CMP_PRC  Rate          Marcap  \\\n",
       "27  012450  한화에어로스페이스  300500        1          500  0.17  13697138880500   \n",
       "\n",
       "   IDX_ID  \n",
       "27         "
      ]
     },
     "execution_count": 42,
     "metadata": {},
     "output_type": "execute_result"
    }
   ],
   "source": [
    "df.loc[df.Code == '012450']"
   ]
  },
  {
   "cell_type": "code",
   "execution_count": null,
   "id": "9b33d02c-633b-4f25-8835-385bae9f4765",
   "metadata": {},
   "outputs": [],
   "source": []
  }
 ],
 "metadata": {
  "kernelspec": {
   "display_name": "portfolio",
   "language": "python",
   "name": "portfolio"
  },
  "language_info": {
   "codemirror_mode": {
    "name": "ipython",
    "version": 3
   },
   "file_extension": ".py",
   "mimetype": "text/x-python",
   "name": "python",
   "nbconvert_exporter": "python",
   "pygments_lexer": "ipython3",
   "version": "3.12.1"
  }
 },
 "nbformat": 4,
 "nbformat_minor": 5
}
